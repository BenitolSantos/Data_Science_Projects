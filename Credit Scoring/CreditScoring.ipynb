{
 "cells": [
  {
   "cell_type": "markdown",
   "metadata": {},
   "source": [
    "# Analyzing borrowers’ risk of defaulting\n",
    "\n",
    "Your project is to prepare a report for a bank’s loan division. You’ll need to find out if a customer’s marital status and number of children has an impact on whether they will default on a loan. The bank already has some data on customers’ credit worthiness.\n",
    "\n",
    "Your report will be considered when building the **credit score** of a potential customer. The **credit score** is used to evaluate the ability of a potential borrower to repay their loan.\n",
    "\n",
    "[In this notebook you're provided with hints and brief instructions and thinking prompts. Don't ignore them as they are designed to equip you with the structure for the project and will help you analyze what you're doing on a deeper level. Before submitting your project, make sure you remove all hints and descriptions provided to you. Instead, make this report look as if you're sending it to your teammates to demonstrate your findings - they shouldn't know you had some external help from us! To help you out, we've placed the hints you should remove in square brackets.]\n",
    "\n",
    "[Before you dive into analyzing your data, explain the purposes of the project and hypotheses you're going to test.]"
   ]
  },
  {
   "cell_type": "markdown",
   "metadata": {},
   "source": [
    "## Open the data file and have a look at the general information. \n",
    "\n",
    "[Start with importing the libraries and loading the data. You may realise that you need additional libraries as you go, which is totally fine - just make sure to update this section when you do.]"
   ]
  },
  {
   "cell_type": "code",
   "execution_count": 1,
   "metadata": {},
   "outputs": [],
   "source": [
    "# Loading all the libraries\n",
    "import pandas as pd\n",
    "import statistics\n",
    "\n",
    "# Load the data\n",
    "try:\n",
    "    credit_scoring = pd.read_csv('credit_scoring_eng.csv')\n",
    "except:\n",
    "    credit_scoring = pd.read_csv('/datasets/credit_scoring_eng.csv') "
   ]
  },
  {
   "cell_type": "markdown",
   "metadata": {},
   "source": [
    "## Task 1. Data exploration\n",
    "\n",
    "**Description of the data**\n",
    "- `children` - the number of children in the family\n",
    "- `days_employed` - work experience in days\n",
    "- `dob_years` - client's age in years\n",
    "- `education` - client's education\n",
    "- `education_id` - education identifier\n",
    "- `family_status` - marital status\n",
    "- `family_status_id` - marital status identifier\n",
    "- `gender` - gender of the client\n",
    "- `income_type` - type of employment\n",
    "- `debt` - was there any debt on loan repayment\n",
    "- `total_income` - monthly income\n",
    "- `purpose` - the purpose of obtaining a loan\n",
    "\n",
    "[Now let's explore our data. You'll want to see how many columns and rows it has, look at a few rows to check for potential issues with the data.]"
   ]
  },
  {
   "cell_type": "code",
   "execution_count": 2,
   "metadata": {},
   "outputs": [
    {
     "data": {
      "text/plain": [
       "(21525, 12)"
      ]
     },
     "execution_count": 2,
     "metadata": {},
     "output_type": "execute_result"
    }
   ],
   "source": [
    "# Let's see how many rows and columns our dataset has\n",
    "credit_scoring.shape\n"
   ]
  },
  {
   "cell_type": "code",
   "execution_count": 3,
   "metadata": {
    "scrolled": true
   },
   "outputs": [
    {
     "data": {
      "text/html": [
       "<div>\n",
       "<style scoped>\n",
       "    .dataframe tbody tr th:only-of-type {\n",
       "        vertical-align: middle;\n",
       "    }\n",
       "\n",
       "    .dataframe tbody tr th {\n",
       "        vertical-align: top;\n",
       "    }\n",
       "\n",
       "    .dataframe thead th {\n",
       "        text-align: right;\n",
       "    }\n",
       "</style>\n",
       "<table border=\"1\" class=\"dataframe\">\n",
       "  <thead>\n",
       "    <tr style=\"text-align: right;\">\n",
       "      <th></th>\n",
       "      <th>children</th>\n",
       "      <th>days_employed</th>\n",
       "      <th>dob_years</th>\n",
       "      <th>education</th>\n",
       "      <th>education_id</th>\n",
       "      <th>family_status</th>\n",
       "      <th>family_status_id</th>\n",
       "      <th>gender</th>\n",
       "      <th>income_type</th>\n",
       "      <th>debt</th>\n",
       "      <th>total_income</th>\n",
       "      <th>purpose</th>\n",
       "    </tr>\n",
       "  </thead>\n",
       "  <tbody>\n",
       "    <tr>\n",
       "      <td>0</td>\n",
       "      <td>1</td>\n",
       "      <td>-8437.673028</td>\n",
       "      <td>42</td>\n",
       "      <td>bachelor's degree</td>\n",
       "      <td>0</td>\n",
       "      <td>married</td>\n",
       "      <td>0</td>\n",
       "      <td>F</td>\n",
       "      <td>employee</td>\n",
       "      <td>0</td>\n",
       "      <td>40620.102</td>\n",
       "      <td>purchase of the house</td>\n",
       "    </tr>\n",
       "    <tr>\n",
       "      <td>1</td>\n",
       "      <td>1</td>\n",
       "      <td>-4024.803754</td>\n",
       "      <td>36</td>\n",
       "      <td>secondary education</td>\n",
       "      <td>1</td>\n",
       "      <td>married</td>\n",
       "      <td>0</td>\n",
       "      <td>F</td>\n",
       "      <td>employee</td>\n",
       "      <td>0</td>\n",
       "      <td>17932.802</td>\n",
       "      <td>car purchase</td>\n",
       "    </tr>\n",
       "    <tr>\n",
       "      <td>2</td>\n",
       "      <td>0</td>\n",
       "      <td>-5623.422610</td>\n",
       "      <td>33</td>\n",
       "      <td>Secondary Education</td>\n",
       "      <td>1</td>\n",
       "      <td>married</td>\n",
       "      <td>0</td>\n",
       "      <td>M</td>\n",
       "      <td>employee</td>\n",
       "      <td>0</td>\n",
       "      <td>23341.752</td>\n",
       "      <td>purchase of the house</td>\n",
       "    </tr>\n",
       "    <tr>\n",
       "      <td>3</td>\n",
       "      <td>3</td>\n",
       "      <td>-4124.747207</td>\n",
       "      <td>32</td>\n",
       "      <td>secondary education</td>\n",
       "      <td>1</td>\n",
       "      <td>married</td>\n",
       "      <td>0</td>\n",
       "      <td>M</td>\n",
       "      <td>employee</td>\n",
       "      <td>0</td>\n",
       "      <td>42820.568</td>\n",
       "      <td>supplementary education</td>\n",
       "    </tr>\n",
       "    <tr>\n",
       "      <td>4</td>\n",
       "      <td>0</td>\n",
       "      <td>340266.072047</td>\n",
       "      <td>53</td>\n",
       "      <td>secondary education</td>\n",
       "      <td>1</td>\n",
       "      <td>civil partnership</td>\n",
       "      <td>1</td>\n",
       "      <td>F</td>\n",
       "      <td>retiree</td>\n",
       "      <td>0</td>\n",
       "      <td>25378.572</td>\n",
       "      <td>to have a wedding</td>\n",
       "    </tr>\n",
       "    <tr>\n",
       "      <td>5</td>\n",
       "      <td>0</td>\n",
       "      <td>-926.185831</td>\n",
       "      <td>27</td>\n",
       "      <td>bachelor's degree</td>\n",
       "      <td>0</td>\n",
       "      <td>civil partnership</td>\n",
       "      <td>1</td>\n",
       "      <td>M</td>\n",
       "      <td>business</td>\n",
       "      <td>0</td>\n",
       "      <td>40922.170</td>\n",
       "      <td>purchase of the house</td>\n",
       "    </tr>\n",
       "    <tr>\n",
       "      <td>6</td>\n",
       "      <td>0</td>\n",
       "      <td>-2879.202052</td>\n",
       "      <td>43</td>\n",
       "      <td>bachelor's degree</td>\n",
       "      <td>0</td>\n",
       "      <td>married</td>\n",
       "      <td>0</td>\n",
       "      <td>F</td>\n",
       "      <td>business</td>\n",
       "      <td>0</td>\n",
       "      <td>38484.156</td>\n",
       "      <td>housing transactions</td>\n",
       "    </tr>\n",
       "    <tr>\n",
       "      <td>7</td>\n",
       "      <td>0</td>\n",
       "      <td>-152.779569</td>\n",
       "      <td>50</td>\n",
       "      <td>SECONDARY EDUCATION</td>\n",
       "      <td>1</td>\n",
       "      <td>married</td>\n",
       "      <td>0</td>\n",
       "      <td>M</td>\n",
       "      <td>employee</td>\n",
       "      <td>0</td>\n",
       "      <td>21731.829</td>\n",
       "      <td>education</td>\n",
       "    </tr>\n",
       "    <tr>\n",
       "      <td>8</td>\n",
       "      <td>2</td>\n",
       "      <td>-6929.865299</td>\n",
       "      <td>35</td>\n",
       "      <td>BACHELOR'S DEGREE</td>\n",
       "      <td>0</td>\n",
       "      <td>civil partnership</td>\n",
       "      <td>1</td>\n",
       "      <td>F</td>\n",
       "      <td>employee</td>\n",
       "      <td>0</td>\n",
       "      <td>15337.093</td>\n",
       "      <td>having a wedding</td>\n",
       "    </tr>\n",
       "    <tr>\n",
       "      <td>9</td>\n",
       "      <td>0</td>\n",
       "      <td>-2188.756445</td>\n",
       "      <td>41</td>\n",
       "      <td>secondary education</td>\n",
       "      <td>1</td>\n",
       "      <td>married</td>\n",
       "      <td>0</td>\n",
       "      <td>M</td>\n",
       "      <td>employee</td>\n",
       "      <td>0</td>\n",
       "      <td>23108.150</td>\n",
       "      <td>purchase of the house for my family</td>\n",
       "    </tr>\n",
       "    <tr>\n",
       "      <td>10</td>\n",
       "      <td>2</td>\n",
       "      <td>-4171.483647</td>\n",
       "      <td>36</td>\n",
       "      <td>bachelor's degree</td>\n",
       "      <td>0</td>\n",
       "      <td>married</td>\n",
       "      <td>0</td>\n",
       "      <td>M</td>\n",
       "      <td>business</td>\n",
       "      <td>0</td>\n",
       "      <td>18230.959</td>\n",
       "      <td>buy real estate</td>\n",
       "    </tr>\n",
       "    <tr>\n",
       "      <td>11</td>\n",
       "      <td>0</td>\n",
       "      <td>-792.701887</td>\n",
       "      <td>40</td>\n",
       "      <td>secondary education</td>\n",
       "      <td>1</td>\n",
       "      <td>married</td>\n",
       "      <td>0</td>\n",
       "      <td>F</td>\n",
       "      <td>employee</td>\n",
       "      <td>0</td>\n",
       "      <td>12331.077</td>\n",
       "      <td>buy commercial real estate</td>\n",
       "    </tr>\n",
       "    <tr>\n",
       "      <td>12</td>\n",
       "      <td>0</td>\n",
       "      <td>NaN</td>\n",
       "      <td>65</td>\n",
       "      <td>secondary education</td>\n",
       "      <td>1</td>\n",
       "      <td>civil partnership</td>\n",
       "      <td>1</td>\n",
       "      <td>M</td>\n",
       "      <td>retiree</td>\n",
       "      <td>0</td>\n",
       "      <td>NaN</td>\n",
       "      <td>to have a wedding</td>\n",
       "    </tr>\n",
       "    <tr>\n",
       "      <td>13</td>\n",
       "      <td>0</td>\n",
       "      <td>-1846.641941</td>\n",
       "      <td>54</td>\n",
       "      <td>some college</td>\n",
       "      <td>2</td>\n",
       "      <td>married</td>\n",
       "      <td>0</td>\n",
       "      <td>F</td>\n",
       "      <td>employee</td>\n",
       "      <td>0</td>\n",
       "      <td>20873.317</td>\n",
       "      <td>car purchase</td>\n",
       "    </tr>\n",
       "    <tr>\n",
       "      <td>14</td>\n",
       "      <td>0</td>\n",
       "      <td>-1844.956182</td>\n",
       "      <td>56</td>\n",
       "      <td>bachelor's degree</td>\n",
       "      <td>0</td>\n",
       "      <td>civil partnership</td>\n",
       "      <td>1</td>\n",
       "      <td>F</td>\n",
       "      <td>business</td>\n",
       "      <td>1</td>\n",
       "      <td>26420.466</td>\n",
       "      <td>buy residential real estate</td>\n",
       "    </tr>\n",
       "    <tr>\n",
       "      <td>15</td>\n",
       "      <td>1</td>\n",
       "      <td>-972.364419</td>\n",
       "      <td>26</td>\n",
       "      <td>secondary education</td>\n",
       "      <td>1</td>\n",
       "      <td>married</td>\n",
       "      <td>0</td>\n",
       "      <td>F</td>\n",
       "      <td>employee</td>\n",
       "      <td>0</td>\n",
       "      <td>18691.345</td>\n",
       "      <td>construction of own property</td>\n",
       "    </tr>\n",
       "    <tr>\n",
       "      <td>16</td>\n",
       "      <td>0</td>\n",
       "      <td>-1719.934226</td>\n",
       "      <td>35</td>\n",
       "      <td>secondary education</td>\n",
       "      <td>1</td>\n",
       "      <td>married</td>\n",
       "      <td>0</td>\n",
       "      <td>F</td>\n",
       "      <td>employee</td>\n",
       "      <td>0</td>\n",
       "      <td>46272.433</td>\n",
       "      <td>property</td>\n",
       "    </tr>\n",
       "    <tr>\n",
       "      <td>17</td>\n",
       "      <td>0</td>\n",
       "      <td>-2369.999720</td>\n",
       "      <td>33</td>\n",
       "      <td>bachelor's degree</td>\n",
       "      <td>0</td>\n",
       "      <td>civil partnership</td>\n",
       "      <td>1</td>\n",
       "      <td>M</td>\n",
       "      <td>employee</td>\n",
       "      <td>0</td>\n",
       "      <td>14465.694</td>\n",
       "      <td>building a property</td>\n",
       "    </tr>\n",
       "    <tr>\n",
       "      <td>18</td>\n",
       "      <td>0</td>\n",
       "      <td>400281.136913</td>\n",
       "      <td>53</td>\n",
       "      <td>secondary education</td>\n",
       "      <td>1</td>\n",
       "      <td>widow / widower</td>\n",
       "      <td>2</td>\n",
       "      <td>F</td>\n",
       "      <td>retiree</td>\n",
       "      <td>0</td>\n",
       "      <td>9091.804</td>\n",
       "      <td>buying a second-hand car</td>\n",
       "    </tr>\n",
       "    <tr>\n",
       "      <td>19</td>\n",
       "      <td>0</td>\n",
       "      <td>-10038.818549</td>\n",
       "      <td>48</td>\n",
       "      <td>SECONDARY EDUCATION</td>\n",
       "      <td>1</td>\n",
       "      <td>divorced</td>\n",
       "      <td>3</td>\n",
       "      <td>F</td>\n",
       "      <td>employee</td>\n",
       "      <td>0</td>\n",
       "      <td>38852.977</td>\n",
       "      <td>buying my own car</td>\n",
       "    </tr>\n",
       "  </tbody>\n",
       "</table>\n",
       "</div>"
      ],
      "text/plain": [
       "    children  days_employed  dob_years            education  education_id  \\\n",
       "0          1   -8437.673028         42    bachelor's degree             0   \n",
       "1          1   -4024.803754         36  secondary education             1   \n",
       "2          0   -5623.422610         33  Secondary Education             1   \n",
       "3          3   -4124.747207         32  secondary education             1   \n",
       "4          0  340266.072047         53  secondary education             1   \n",
       "5          0    -926.185831         27    bachelor's degree             0   \n",
       "6          0   -2879.202052         43    bachelor's degree             0   \n",
       "7          0    -152.779569         50  SECONDARY EDUCATION             1   \n",
       "8          2   -6929.865299         35    BACHELOR'S DEGREE             0   \n",
       "9          0   -2188.756445         41  secondary education             1   \n",
       "10         2   -4171.483647         36    bachelor's degree             0   \n",
       "11         0    -792.701887         40  secondary education             1   \n",
       "12         0            NaN         65  secondary education             1   \n",
       "13         0   -1846.641941         54         some college             2   \n",
       "14         0   -1844.956182         56    bachelor's degree             0   \n",
       "15         1    -972.364419         26  secondary education             1   \n",
       "16         0   -1719.934226         35  secondary education             1   \n",
       "17         0   -2369.999720         33    bachelor's degree             0   \n",
       "18         0  400281.136913         53  secondary education             1   \n",
       "19         0  -10038.818549         48  SECONDARY EDUCATION             1   \n",
       "\n",
       "        family_status  family_status_id gender income_type  debt  \\\n",
       "0             married                 0      F    employee     0   \n",
       "1             married                 0      F    employee     0   \n",
       "2             married                 0      M    employee     0   \n",
       "3             married                 0      M    employee     0   \n",
       "4   civil partnership                 1      F     retiree     0   \n",
       "5   civil partnership                 1      M    business     0   \n",
       "6             married                 0      F    business     0   \n",
       "7             married                 0      M    employee     0   \n",
       "8   civil partnership                 1      F    employee     0   \n",
       "9             married                 0      M    employee     0   \n",
       "10            married                 0      M    business     0   \n",
       "11            married                 0      F    employee     0   \n",
       "12  civil partnership                 1      M     retiree     0   \n",
       "13            married                 0      F    employee     0   \n",
       "14  civil partnership                 1      F    business     1   \n",
       "15            married                 0      F    employee     0   \n",
       "16            married                 0      F    employee     0   \n",
       "17  civil partnership                 1      M    employee     0   \n",
       "18    widow / widower                 2      F     retiree     0   \n",
       "19           divorced                 3      F    employee     0   \n",
       "\n",
       "    total_income                              purpose  \n",
       "0      40620.102                purchase of the house  \n",
       "1      17932.802                         car purchase  \n",
       "2      23341.752                purchase of the house  \n",
       "3      42820.568              supplementary education  \n",
       "4      25378.572                    to have a wedding  \n",
       "5      40922.170                purchase of the house  \n",
       "6      38484.156                 housing transactions  \n",
       "7      21731.829                            education  \n",
       "8      15337.093                     having a wedding  \n",
       "9      23108.150  purchase of the house for my family  \n",
       "10     18230.959                      buy real estate  \n",
       "11     12331.077           buy commercial real estate  \n",
       "12           NaN                    to have a wedding  \n",
       "13     20873.317                         car purchase  \n",
       "14     26420.466          buy residential real estate  \n",
       "15     18691.345         construction of own property  \n",
       "16     46272.433                             property  \n",
       "17     14465.694                  building a property  \n",
       "18      9091.804             buying a second-hand car  \n",
       "19     38852.977                    buying my own car  "
      ]
     },
     "execution_count": 3,
     "metadata": {},
     "output_type": "execute_result"
    }
   ],
   "source": [
    "# let's print the first N rows\n",
    "credit_scoring.head(20)\n",
    "# negative days employed doesn't make sense."
   ]
  },
  {
   "cell_type": "markdown",
   "metadata": {},
   "source": [
    "[Describe what you see and notice in your printed data sample. Are there any issues that may need further investigation and changes?] \n",
    "\n",
    "Negative values in days employed and Capitalized Education"
   ]
  },
  {
   "cell_type": "code",
   "execution_count": 4,
   "metadata": {
    "scrolled": false
   },
   "outputs": [
    {
     "name": "stdout",
     "output_type": "stream",
     "text": [
      "<class 'pandas.core.frame.DataFrame'>\n",
      "RangeIndex: 21525 entries, 0 to 21524\n",
      "Data columns (total 12 columns):\n",
      "children            21525 non-null int64\n",
      "days_employed       19351 non-null float64\n",
      "dob_years           21525 non-null int64\n",
      "education           21525 non-null object\n",
      "education_id        21525 non-null int64\n",
      "family_status       21525 non-null object\n",
      "family_status_id    21525 non-null int64\n",
      "gender              21525 non-null object\n",
      "income_type         21525 non-null object\n",
      "debt                21525 non-null int64\n",
      "total_income        19351 non-null float64\n",
      "purpose             21525 non-null object\n",
      "dtypes: float64(2), int64(5), object(5)\n",
      "memory usage: 2.0+ MB\n"
     ]
    }
   ],
   "source": [
    "# Get info on data\n",
    "credit_scoring.info()"
   ]
  },
  {
   "cell_type": "markdown",
   "metadata": {},
   "source": [
    "[Are there missing values across all columns or just a few? Briefly describe what you see in 1-2 sentences.]\n",
    "\n",
    "Missing values are only in days_employed and total_income"
   ]
  },
  {
   "cell_type": "code",
   "execution_count": 5,
   "metadata": {
    "scrolled": true
   },
   "outputs": [
    {
     "data": {
      "text/html": [
       "<div>\n",
       "<style scoped>\n",
       "    .dataframe tbody tr th:only-of-type {\n",
       "        vertical-align: middle;\n",
       "    }\n",
       "\n",
       "    .dataframe tbody tr th {\n",
       "        vertical-align: top;\n",
       "    }\n",
       "\n",
       "    .dataframe thead th {\n",
       "        text-align: right;\n",
       "    }\n",
       "</style>\n",
       "<table border=\"1\" class=\"dataframe\">\n",
       "  <thead>\n",
       "    <tr style=\"text-align: right;\">\n",
       "      <th></th>\n",
       "      <th>children</th>\n",
       "      <th>days_employed</th>\n",
       "      <th>dob_years</th>\n",
       "      <th>education</th>\n",
       "      <th>education_id</th>\n",
       "      <th>family_status</th>\n",
       "      <th>family_status_id</th>\n",
       "      <th>gender</th>\n",
       "      <th>income_type</th>\n",
       "      <th>debt</th>\n",
       "      <th>total_income</th>\n",
       "      <th>purpose</th>\n",
       "    </tr>\n",
       "  </thead>\n",
       "  <tbody>\n",
       "    <tr>\n",
       "      <td>12</td>\n",
       "      <td>0</td>\n",
       "      <td>NaN</td>\n",
       "      <td>65</td>\n",
       "      <td>secondary education</td>\n",
       "      <td>1</td>\n",
       "      <td>civil partnership</td>\n",
       "      <td>1</td>\n",
       "      <td>M</td>\n",
       "      <td>retiree</td>\n",
       "      <td>0</td>\n",
       "      <td>NaN</td>\n",
       "      <td>to have a wedding</td>\n",
       "    </tr>\n",
       "    <tr>\n",
       "      <td>26</td>\n",
       "      <td>0</td>\n",
       "      <td>NaN</td>\n",
       "      <td>41</td>\n",
       "      <td>secondary education</td>\n",
       "      <td>1</td>\n",
       "      <td>married</td>\n",
       "      <td>0</td>\n",
       "      <td>M</td>\n",
       "      <td>civil servant</td>\n",
       "      <td>0</td>\n",
       "      <td>NaN</td>\n",
       "      <td>education</td>\n",
       "    </tr>\n",
       "    <tr>\n",
       "      <td>29</td>\n",
       "      <td>0</td>\n",
       "      <td>NaN</td>\n",
       "      <td>63</td>\n",
       "      <td>secondary education</td>\n",
       "      <td>1</td>\n",
       "      <td>unmarried</td>\n",
       "      <td>4</td>\n",
       "      <td>F</td>\n",
       "      <td>retiree</td>\n",
       "      <td>0</td>\n",
       "      <td>NaN</td>\n",
       "      <td>building a real estate</td>\n",
       "    </tr>\n",
       "    <tr>\n",
       "      <td>41</td>\n",
       "      <td>0</td>\n",
       "      <td>NaN</td>\n",
       "      <td>50</td>\n",
       "      <td>secondary education</td>\n",
       "      <td>1</td>\n",
       "      <td>married</td>\n",
       "      <td>0</td>\n",
       "      <td>F</td>\n",
       "      <td>civil servant</td>\n",
       "      <td>0</td>\n",
       "      <td>NaN</td>\n",
       "      <td>second-hand car purchase</td>\n",
       "    </tr>\n",
       "    <tr>\n",
       "      <td>55</td>\n",
       "      <td>0</td>\n",
       "      <td>NaN</td>\n",
       "      <td>54</td>\n",
       "      <td>secondary education</td>\n",
       "      <td>1</td>\n",
       "      <td>civil partnership</td>\n",
       "      <td>1</td>\n",
       "      <td>F</td>\n",
       "      <td>retiree</td>\n",
       "      <td>1</td>\n",
       "      <td>NaN</td>\n",
       "      <td>to have a wedding</td>\n",
       "    </tr>\n",
       "    <tr>\n",
       "      <td>...</td>\n",
       "      <td>...</td>\n",
       "      <td>...</td>\n",
       "      <td>...</td>\n",
       "      <td>...</td>\n",
       "      <td>...</td>\n",
       "      <td>...</td>\n",
       "      <td>...</td>\n",
       "      <td>...</td>\n",
       "      <td>...</td>\n",
       "      <td>...</td>\n",
       "      <td>...</td>\n",
       "      <td>...</td>\n",
       "    </tr>\n",
       "    <tr>\n",
       "      <td>21489</td>\n",
       "      <td>2</td>\n",
       "      <td>NaN</td>\n",
       "      <td>47</td>\n",
       "      <td>Secondary Education</td>\n",
       "      <td>1</td>\n",
       "      <td>married</td>\n",
       "      <td>0</td>\n",
       "      <td>M</td>\n",
       "      <td>business</td>\n",
       "      <td>0</td>\n",
       "      <td>NaN</td>\n",
       "      <td>purchase of a car</td>\n",
       "    </tr>\n",
       "    <tr>\n",
       "      <td>21495</td>\n",
       "      <td>1</td>\n",
       "      <td>NaN</td>\n",
       "      <td>50</td>\n",
       "      <td>secondary education</td>\n",
       "      <td>1</td>\n",
       "      <td>civil partnership</td>\n",
       "      <td>1</td>\n",
       "      <td>F</td>\n",
       "      <td>employee</td>\n",
       "      <td>0</td>\n",
       "      <td>NaN</td>\n",
       "      <td>wedding ceremony</td>\n",
       "    </tr>\n",
       "    <tr>\n",
       "      <td>21497</td>\n",
       "      <td>0</td>\n",
       "      <td>NaN</td>\n",
       "      <td>48</td>\n",
       "      <td>BACHELOR'S DEGREE</td>\n",
       "      <td>0</td>\n",
       "      <td>married</td>\n",
       "      <td>0</td>\n",
       "      <td>F</td>\n",
       "      <td>business</td>\n",
       "      <td>0</td>\n",
       "      <td>NaN</td>\n",
       "      <td>building a property</td>\n",
       "    </tr>\n",
       "    <tr>\n",
       "      <td>21502</td>\n",
       "      <td>1</td>\n",
       "      <td>NaN</td>\n",
       "      <td>42</td>\n",
       "      <td>secondary education</td>\n",
       "      <td>1</td>\n",
       "      <td>married</td>\n",
       "      <td>0</td>\n",
       "      <td>F</td>\n",
       "      <td>employee</td>\n",
       "      <td>0</td>\n",
       "      <td>NaN</td>\n",
       "      <td>building a real estate</td>\n",
       "    </tr>\n",
       "    <tr>\n",
       "      <td>21510</td>\n",
       "      <td>2</td>\n",
       "      <td>NaN</td>\n",
       "      <td>28</td>\n",
       "      <td>secondary education</td>\n",
       "      <td>1</td>\n",
       "      <td>married</td>\n",
       "      <td>0</td>\n",
       "      <td>F</td>\n",
       "      <td>employee</td>\n",
       "      <td>0</td>\n",
       "      <td>NaN</td>\n",
       "      <td>car purchase</td>\n",
       "    </tr>\n",
       "  </tbody>\n",
       "</table>\n",
       "<p>2174 rows × 12 columns</p>\n",
       "</div>"
      ],
      "text/plain": [
       "       children  days_employed  dob_years            education  education_id  \\\n",
       "12            0            NaN         65  secondary education             1   \n",
       "26            0            NaN         41  secondary education             1   \n",
       "29            0            NaN         63  secondary education             1   \n",
       "41            0            NaN         50  secondary education             1   \n",
       "55            0            NaN         54  secondary education             1   \n",
       "...         ...            ...        ...                  ...           ...   \n",
       "21489         2            NaN         47  Secondary Education             1   \n",
       "21495         1            NaN         50  secondary education             1   \n",
       "21497         0            NaN         48    BACHELOR'S DEGREE             0   \n",
       "21502         1            NaN         42  secondary education             1   \n",
       "21510         2            NaN         28  secondary education             1   \n",
       "\n",
       "           family_status  family_status_id gender    income_type  debt  \\\n",
       "12     civil partnership                 1      M        retiree     0   \n",
       "26               married                 0      M  civil servant     0   \n",
       "29             unmarried                 4      F        retiree     0   \n",
       "41               married                 0      F  civil servant     0   \n",
       "55     civil partnership                 1      F        retiree     1   \n",
       "...                  ...               ...    ...            ...   ...   \n",
       "21489            married                 0      M       business     0   \n",
       "21495  civil partnership                 1      F       employee     0   \n",
       "21497            married                 0      F       business     0   \n",
       "21502            married                 0      F       employee     0   \n",
       "21510            married                 0      F       employee     0   \n",
       "\n",
       "       total_income                   purpose  \n",
       "12              NaN         to have a wedding  \n",
       "26              NaN                 education  \n",
       "29              NaN    building a real estate  \n",
       "41              NaN  second-hand car purchase  \n",
       "55              NaN         to have a wedding  \n",
       "...             ...                       ...  \n",
       "21489           NaN         purchase of a car  \n",
       "21495           NaN          wedding ceremony  \n",
       "21497           NaN       building a property  \n",
       "21502           NaN    building a real estate  \n",
       "21510           NaN              car purchase  \n",
       "\n",
       "[2174 rows x 12 columns]"
      ]
     },
     "execution_count": 5,
     "metadata": {},
     "output_type": "execute_result"
    }
   ],
   "source": [
    "# Let's look at the filtered table with missing values in the the first column with missing data\n",
    "credit_scoring[credit_scoring['days_employed'].isna()]\n",
    "#missing values are only across days_employed and total_income"
   ]
  },
  {
   "cell_type": "markdown",
   "metadata": {},
   "source": [
    "[Do missing values seem symmetric? Can we be sure in this assumption? Explain your thoughts briefly in this section. You may probably want to conduct further investigations, and count the missing values in all the rows with missing values to confirm the the missing samples are of the same size.]\n"
   ]
  },
  {
   "cell_type": "code",
   "execution_count": 6,
   "metadata": {},
   "outputs": [
    {
     "data": {
      "text/plain": [
       "2174"
      ]
     },
     "execution_count": 6,
     "metadata": {},
     "output_type": "execute_result"
    }
   ],
   "source": [
    "# Let's apply multiple conditions for filtering data and look at the number of rows in the filtered table.\n",
    "credit_scoring_unemployed_NaN = credit_scoring[credit_scoring['days_employed'].isna()]\n",
    "credit_scoring_unemployed_NaN = credit_scoring_unemployed_NaN[credit_scoring_unemployed_NaN['total_income'].isna()]\n",
    "credit_scoring_unemployed_NaN.shape[0]\n",
    "#credit_scoring.isna().sum() #confirms same amount missing in both days_employed and total_income"
   ]
  },
  {
   "cell_type": "markdown",
   "metadata": {},
   "source": [
    "**Intermediate conclusion**\n",
    "\n",
    "[Does the number of rows in the filtered table match the number of missing values? What conclusion can we make from this?]\n",
    "\n",
    "Yes. We can conclude that the missing values are the only ones rows that are missing.\n",
    "\n",
    "[Calculate the percentage of the missing values compared to the whole dataset. Is it a considerably large piece of data? If so, you may want to fill the missing values. To do that, firstly we should consider whether the missing data could be due to the specific client characteristic, such as employment type or something else. You will need to decide which characteristic *you* think might be the reason. Secondly, we should check whether there's any dependence missing values have on the value of other indicators with the columns with identified specific client characteristic.]\n",
    "\n",
    "[Explain your next steps and how they correlate with the conclusions you made so far.]\n",
    "\n"
   ]
  },
  {
   "cell_type": "code",
   "execution_count": 7,
   "metadata": {},
   "outputs": [
    {
     "data": {
      "text/plain": [
       "12      NaN\n",
       "26      NaN\n",
       "29      NaN\n",
       "41      NaN\n",
       "55      NaN\n",
       "         ..\n",
       "21489   NaN\n",
       "21495   NaN\n",
       "21497   NaN\n",
       "21502   NaN\n",
       "21510   NaN\n",
       "Name: days_employed, Length: 2174, dtype: float64"
      ]
     },
     "execution_count": 7,
     "metadata": {},
     "output_type": "execute_result"
    }
   ],
   "source": [
    "# Let's investigate clients who do not have data on identified characteristic and the column with the missing values\n",
    "credit_scoring[credit_scoring['days_employed'].isna()]['days_employed']\n",
    "#singular column, due to asking of singular column"
   ]
  },
  {
   "cell_type": "code",
   "execution_count": 8,
   "metadata": {},
   "outputs": [
    {
     "data": {
      "text/plain": [
       "'Missing value distribution to the column is 10.099883855981417%'"
      ]
     },
     "execution_count": 8,
     "metadata": {},
     "output_type": "execute_result"
    }
   ],
   "source": [
    "# Checking distribution\n",
    "credit_scoring_unemployed_NaN_row_count = credit_scoring_unemployed_NaN.shape[0]\n",
    "credit_scoring_employment = credit_scoring['days_employed'].shape[0]\n",
    "credit_scoring_distribution = 'Missing value distribution to the column is ' + str(credit_scoring_unemployed_NaN_row_count/credit_scoring_employment * 100) + '%' \n",
    "credit_scoring_distribution"
   ]
  },
  {
   "cell_type": "markdown",
   "metadata": {},
   "source": [
    "[Describe your findings here.]\n",
    "\n",
    "Missing value distribution to the column is 10.099883855981417%\n",
    "\n",
    "[Propose your ideas on why you think the values might be missing. Do you think they are missing randomly or there are any patterns?]\n",
    "\n",
    "Human error. They probably put it in wrong.\n",
    "\n",
    "[Let's start checking whether the missing values are random.]"
   ]
  },
  {
   "cell_type": "code",
   "execution_count": 9,
   "metadata": {},
   "outputs": [
    {
     "data": {
      "text/plain": [
       "'Missing value distribution to the whole data set is 1.683313975996903%'"
      ]
     },
     "execution_count": 9,
     "metadata": {},
     "output_type": "execute_result"
    }
   ],
   "source": [
    "# Checking the distribution in the whole dataset\n",
    "#using all NaN elements divided by total size of table \n",
    "credit_scoring_NaN_total = credit_scoring_unemployed_NaN_row_count + credit_scoring[credit_scoring['total_income'].isna()].shape[0]\n",
    "credit_total_size = credit_scoring.size \n",
    "credit_distribution = 'Missing value distribution to the whole data set is ' + str(credit_scoring_NaN_total/credit_total_size * 100 ) + '%' \n",
    "credit_distribution\n",
    "\n",
    "# Has to be Human error. There's no way that non retirees other than interns cannot have an income, or attempt to borrow.\n",
    "#The overall percentage compared to the rest of the table is too insignifigant to make a difference.\n",
    "#(2174 + 2174)/credit_total_size * 100 "
   ]
  },
  {
   "cell_type": "markdown",
   "metadata": {},
   "source": [
    "**Intermediate conclusion**\n",
    "\n",
    "[Is the distribution in the original dataset similar to the distribution of the filtered table? What does that mean for us?]\n",
    "\n",
    "[If you think we can't make any conclusions yet, let's investigate our dataset further. Let's think about other reasons that could lead to data missing and check if we can find any patterns that may lead us to thinking that the missing values are not random. Because this is your work, this is section is optional.]"
   ]
  },
  {
   "cell_type": "code",
   "execution_count": 10,
   "metadata": {},
   "outputs": [],
   "source": [
    "# Check for other reasons and patterns that could lead to missing values\n",
    "#NaN values seemingly look mostly like mistakes in entering values "
   ]
  },
  {
   "cell_type": "markdown",
   "metadata": {},
   "source": [
    "**Intermediate conclusion**\n",
    "\n",
    "[Can we finally confirm that missing values are accidental? Check for anything else that you think might be important here.]"
   ]
  },
  {
   "cell_type": "code",
   "execution_count": 11,
   "metadata": {
    "scrolled": true
   },
   "outputs": [],
   "source": [
    "# Checking for other patterns - explain which\n"
   ]
  },
  {
   "cell_type": "markdown",
   "metadata": {},
   "source": [
    "**Conclusions**\n",
    "\n",
    "[Did you find any patterns? How did you come to this conclusion?]\n",
    "\n",
    "[Explain how you will address the missing values. Consider the categories in which values are missing.]\n",
    "\n",
    "[Briefly plan your next steps for transforming data. You will probably need to address different types of issues: duplicates, different registers, incorrect artifacts, and missing values.]"
   ]
  },
  {
   "cell_type": "markdown",
   "metadata": {},
   "source": [
    "## Data transformation\n",
    "\n",
    "[Let's go through each column to see what issues we may have in them.]\n",
    "\n",
    "[Begin with removing duplicates and fixing educational information if required.]"
   ]
  },
  {
   "cell_type": "code",
   "execution_count": 12,
   "metadata": {},
   "outputs": [
    {
     "data": {
      "text/plain": [
       "secondary education    13750\n",
       "bachelor's degree       4718\n",
       "SECONDARY EDUCATION      772\n",
       "Secondary Education      711\n",
       "some college             668\n",
       "BACHELOR'S DEGREE        274\n",
       "Bachelor's Degree        268\n",
       "primary education        250\n",
       "Some College              47\n",
       "SOME COLLEGE              29\n",
       "PRIMARY EDUCATION         17\n",
       "Primary Education         15\n",
       "graduate degree            4\n",
       "Graduate Degree            1\n",
       "GRADUATE DEGREE            1\n",
       "Name: education, dtype: int64"
      ]
     },
     "execution_count": 12,
     "metadata": {},
     "output_type": "execute_result"
    }
   ],
   "source": [
    "# Let's see all values in education column to check if and what spellings will need to be fixed\n",
    "credit_scoring['education'].value_counts()"
   ]
  },
  {
   "cell_type": "code",
   "execution_count": 13,
   "metadata": {
    "scrolled": true
   },
   "outputs": [],
   "source": [
    "# Fix the registers if required\n",
    "credit_scoring['education'] = credit_scoring['education'].str.lower()\n"
   ]
  },
  {
   "cell_type": "code",
   "execution_count": 14,
   "metadata": {},
   "outputs": [
    {
     "data": {
      "text/plain": [
       "secondary education    15233\n",
       "bachelor's degree       5260\n",
       "some college             744\n",
       "primary education        282\n",
       "graduate degree            6\n",
       "Name: education, dtype: int64"
      ]
     },
     "execution_count": 14,
     "metadata": {},
     "output_type": "execute_result"
    }
   ],
   "source": [
    "# Checking all the values in the column to make sure we fixed them\n",
    "credit_scoring['education'].value_counts()\n"
   ]
  },
  {
   "cell_type": "markdown",
   "metadata": {},
   "source": [
    "[Check the data the `children` column]"
   ]
  },
  {
   "cell_type": "code",
   "execution_count": 15,
   "metadata": {},
   "outputs": [
    {
     "data": {
      "text/plain": [
       " 0     14149\n",
       " 1      4818\n",
       " 2      2055\n",
       " 3       330\n",
       " 20       76\n",
       "-1        47\n",
       " 4        41\n",
       " 5         9\n",
       "Name: children, dtype: int64"
      ]
     },
     "execution_count": 15,
     "metadata": {},
     "output_type": "execute_result"
    }
   ],
   "source": [
    "# Let's see the distribution of values in the `children` column\n",
    "credit_scoring['children'].value_counts()"
   ]
  },
  {
   "cell_type": "markdown",
   "metadata": {},
   "source": [
    "[Are there any strange things in the column? If yes, how high is the percentage of problematic data? How could they have occurred? Make a decision on what you will do with this data and explain you reasoning.]"
   ]
  },
  {
   "cell_type": "code",
   "execution_count": 16,
   "metadata": {},
   "outputs": [
    {
     "name": "stdout",
     "output_type": "stream",
     "text": [
      "total percentage of problematic data is 0.5435540069686411%\n"
     ]
    }
   ],
   "source": [
    "# [fix the data based on your decision]\n",
    "#families with 20 children or -1 children seem like huge outliers -1 children seems impossible.\n",
    "#If your data has significant outliers, calculate the median using the median() method. https://practicum.yandex.com/trainer/data-scientist/lesson/a5a59234-272d-4bad-a9ca-8d87dba9a1f1/\n",
    "#I'll calculate the median without the outliers. Adding importing statistics\n",
    "children_total = credit_scoring['children'].shape[0] \n",
    "problematic_data = 76 + 41\n",
    "percentage = str(problematic_data/children_total * 100)\n",
    "print('total percentage of problematic data is ' + percentage + '%') #forgot to calculate the problematic data percentage last time\n",
    "\n",
    "from statistics import median\n",
    "children_median = int(median([0,1,2,3,4,5])) # = without outliers\n",
    "credit_scoring = credit_scoring.replace({'children':{-1:children_median,20:children_median}}) #hashes in hashes"
   ]
  },
  {
   "cell_type": "code",
   "execution_count": 17,
   "metadata": {},
   "outputs": [
    {
     "data": {
      "text/plain": [
       "0    14149\n",
       "1     4818\n",
       "2     2178\n",
       "3      330\n",
       "4       41\n",
       "5        9\n",
       "Name: children, dtype: int64"
      ]
     },
     "execution_count": 17,
     "metadata": {},
     "output_type": "execute_result"
    }
   ],
   "source": [
    "# Checking the `children` column again to make sure it's all fixed\n",
    "\n",
    "credit_scoring['children'].value_counts()"
   ]
  },
  {
   "cell_type": "markdown",
   "metadata": {},
   "source": [
    "[Check the data in the `days_employed` column. Firstly think about what kind of issues could there be and what you may want to check and how you will do it.]"
   ]
  },
  {
   "cell_type": "code",
   "execution_count": 18,
   "metadata": {},
   "outputs": [
    {
     "data": {
      "text/plain": [
       "'Total percentage is 73.89547038327527%'"
      ]
     },
     "execution_count": 18,
     "metadata": {},
     "output_type": "execute_result"
    }
   ],
   "source": [
    "# Find problematic data in `days_employed`, if they exist, and calculate the percentage\n",
    "\n",
    "#all_NaN = credit_scoring[credit_scoring['days_employed'].isna()]['days_employed'].shape[0] #2174 we don't need NaN right now\n",
    "all_neg = credit_scoring[credit_scoring['days_employed'] < 0]['days_employed'].shape[0] #15906\n",
    "total_days = credit_scoring['days_employed'].shape[0] #21525\n",
    "\n",
    "problematic_data_days = \"Total percentage is \" + str(all_neg/total_days * 100) +\"%\"\n",
    "problematic_data_days"
   ]
  },
  {
   "cell_type": "markdown",
   "metadata": {},
   "source": [
    "[If the amount of problematic data is high, it could've been due to some technical issues. We may probably want to propose the most obvious reason why it could've happened and what the correct data might've been, as we can't drop these problematic rows.]"
   ]
  },
  {
   "cell_type": "code",
   "execution_count": 19,
   "metadata": {},
   "outputs": [],
   "source": [
    "# Address the problematic values, if they exist\n",
    "#All negatives are probably one person changing the values negative by accident.\n",
    "#https://pastebin.com/P8N7k2gv\n",
    "\n",
    "#def to_positive(x):\n",
    " #   if x < 0:\n",
    "  #      return -x\n",
    "    \n",
    "#simpler than .replace() each data 73% since the data is so big and logical_indexing and .loc wont work \n",
    "    \n",
    "credit_scoring['days_employed'] = credit_scoring['days_employed'].abs()    #absolute value is distance from zero."
   ]
  },
  {
   "cell_type": "code",
   "execution_count": 20,
   "metadata": {},
   "outputs": [
    {
     "data": {
      "text/plain": [
       "0"
      ]
     },
     "execution_count": 20,
     "metadata": {},
     "output_type": "execute_result"
    }
   ],
   "source": [
    "# Check the result - make sure it's fixed\n",
    "credit_scoring[credit_scoring['days_employed'] < 0]['days_employed'].shape[0]"
   ]
  },
  {
   "cell_type": "markdown",
   "metadata": {},
   "source": [
    "[Let's now look at the client's age and whether there are any issues there. Again, think about what can data can be strange in this column, i.e. what cannot be someone's age.]"
   ]
  },
  {
   "cell_type": "code",
   "execution_count": 21,
   "metadata": {
    "scrolled": true
   },
   "outputs": [
    {
     "data": {
      "text/plain": [
       "35    617\n",
       "40    609\n",
       "41    607\n",
       "34    603\n",
       "38    598\n",
       "42    597\n",
       "33    581\n",
       "39    573\n",
       "31    560\n",
       "36    555\n",
       "44    547\n",
       "29    545\n",
       "30    540\n",
       "48    538\n",
       "37    537\n",
       "50    514\n",
       "43    513\n",
       "32    510\n",
       "49    508\n",
       "28    503\n",
       "45    497\n",
       "27    493\n",
       "56    487\n",
       "52    484\n",
       "47    480\n",
       "54    479\n",
       "46    475\n",
       "58    461\n",
       "57    460\n",
       "53    459\n",
       "51    448\n",
       "59    444\n",
       "55    443\n",
       "26    408\n",
       "60    377\n",
       "25    357\n",
       "61    355\n",
       "62    352\n",
       "63    269\n",
       "64    265\n",
       "24    264\n",
       "23    254\n",
       "65    194\n",
       "66    183\n",
       "22    183\n",
       "67    167\n",
       "21    111\n",
       "0     101\n",
       "68     99\n",
       "69     85\n",
       "70     65\n",
       "71     58\n",
       "20     51\n",
       "72     33\n",
       "19     14\n",
       "73      8\n",
       "74      6\n",
       "75      1\n",
       "Name: dob_years, dtype: int64"
      ]
     },
     "execution_count": 21,
     "metadata": {},
     "output_type": "execute_result"
    }
   ],
   "source": [
    "# Check the `dob_years` for suspicious values and count the percentage\n",
    "credit_scoring['dob_years'].value_counts()\n"
   ]
  },
  {
   "cell_type": "markdown",
   "metadata": {},
   "source": [
    "[Decide what you'll do with the problematic values and explain why.]"
   ]
  },
  {
   "cell_type": "code",
   "execution_count": 22,
   "metadata": {},
   "outputs": [],
   "source": [
    "# Address the issues in the `dob_years` column, if they exist\n",
    "#Nobody works at 0 years old. Nobody.\n",
    "credit_scoring['dob_years'].median() #median because outliers\n",
    "credit_scoring['dob_years'] = credit_scoring['dob_years'].replace(0,42)"
   ]
  },
  {
   "cell_type": "code",
   "execution_count": 23,
   "metadata": {},
   "outputs": [
    {
     "data": {
      "text/plain": [
       "0"
      ]
     },
     "execution_count": 23,
     "metadata": {},
     "output_type": "execute_result"
    }
   ],
   "source": [
    "# Check the result - make sure it's fixed\n",
    "credit_scoring[credit_scoring['dob_years'] == 0].shape[0]"
   ]
  },
  {
   "cell_type": "markdown",
   "metadata": {},
   "source": [
    "[Now let's check the `family_status` column. See what kind of values there are and what problems you may need to address.]"
   ]
  },
  {
   "cell_type": "code",
   "execution_count": 24,
   "metadata": {},
   "outputs": [
    {
     "data": {
      "text/plain": [
       "married              12380\n",
       "civil partnership     4177\n",
       "unmarried             2813\n",
       "divorced              1195\n",
       "widow / widower        960\n",
       "Name: family_status, dtype: int64"
      ]
     },
     "execution_count": 24,
     "metadata": {},
     "output_type": "execute_result"
    }
   ],
   "source": [
    "# Let's see the values for the column\n",
    "\n",
    "credit_scoring['family_status'].value_counts()"
   ]
  },
  {
   "cell_type": "code",
   "execution_count": 25,
   "metadata": {},
   "outputs": [],
   "source": [
    "# Address the problematic values in `family_status`, if they exist\n",
    "#none here"
   ]
  },
  {
   "cell_type": "code",
   "execution_count": 26,
   "metadata": {},
   "outputs": [
    {
     "data": {
      "text/plain": [
       "married              12380\n",
       "civil partnership     4177\n",
       "unmarried             2813\n",
       "divorced              1195\n",
       "widow / widower        960\n",
       "Name: family_status, dtype: int64"
      ]
     },
     "execution_count": 26,
     "metadata": {},
     "output_type": "execute_result"
    }
   ],
   "source": [
    "# Check the result - make sure it's fixed\n",
    "credit_scoring['family_status'].value_counts()"
   ]
  },
  {
   "cell_type": "markdown",
   "metadata": {},
   "source": [
    "[Now let's check the `gender` column. See what kind of values there are and what problems you may need to address]"
   ]
  },
  {
   "cell_type": "code",
   "execution_count": 27,
   "metadata": {},
   "outputs": [
    {
     "data": {
      "text/plain": [
       "F      14236\n",
       "M       7288\n",
       "XNA        1\n",
       "Name: gender, dtype: int64"
      ]
     },
     "execution_count": 27,
     "metadata": {},
     "output_type": "execute_result"
    }
   ],
   "source": [
    "# Let's see the values in the column\n",
    "credit_scoring['gender'].value_counts()"
   ]
  },
  {
   "cell_type": "code",
   "execution_count": 28,
   "metadata": {},
   "outputs": [
    {
     "name": "stdout",
     "output_type": "stream",
     "text": [
      "F\n"
     ]
    }
   ],
   "source": [
    "# Address the problematic values, if they exist\n",
    "#XNA could be due to third gender\n",
    "#https://bhadreshpsavani.medium.com/understanding-data-before-data-preprocessing-using-python-data-science-tutorial-series-5499961f3aaf \n",
    "def gender_number(value): #We need this because we can't get means from strings.\n",
    "    if value == 'F':\n",
    "        return 1\n",
    "    if value == 'M':\n",
    "        return 2\n",
    "    if value == 'XNA':\n",
    "        return 3\n",
    "\n",
    "credit_scoring['gender_number'] = credit_scoring['gender'].apply(gender_number) \n",
    "\n",
    "gender_median = int(credit_scoring['gender_number'].mean())\n",
    "if gender_median == 1:\n",
    "    gender_median = 'F'\n",
    "else:\n",
    "    gender_median = 'M'\n",
    "print(gender_median)\n",
    "credit_scoring = credit_scoring.replace({'gender':{'XNA':gender_median}}) #if it is less than 5%, get rid of it. Like you said.\n",
    "credit_scoring = credit_scoring.drop(columns=['gender_number'])"
   ]
  },
  {
   "cell_type": "code",
   "execution_count": 29,
   "metadata": {},
   "outputs": [
    {
     "data": {
      "text/plain": [
       "F    14237\n",
       "M     7288\n",
       "Name: gender, dtype: int64"
      ]
     },
     "execution_count": 29,
     "metadata": {},
     "output_type": "execute_result"
    }
   ],
   "source": [
    "# Check the result - make sure it's fixed\n",
    "\n",
    "credit_scoring['gender'].value_counts()"
   ]
  },
  {
   "cell_type": "markdown",
   "metadata": {},
   "source": [
    "[Now let's check the `income_type` column. See what kind of values there are and what problems you may need to address]"
   ]
  },
  {
   "cell_type": "code",
   "execution_count": 30,
   "metadata": {},
   "outputs": [
    {
     "data": {
      "text/plain": [
       "employee                       11119\n",
       "business                        5085\n",
       "retiree                         3856\n",
       "civil servant                   1459\n",
       "unemployed                         2\n",
       "entrepreneur                       2\n",
       "paternity / maternity leave        1\n",
       "student                            1\n",
       "Name: income_type, dtype: int64"
      ]
     },
     "execution_count": 30,
     "metadata": {},
     "output_type": "execute_result"
    }
   ],
   "source": [
    "# Let's see the values in the column\n",
    "credit_scoring['income_type'].value_counts()"
   ]
  },
  {
   "cell_type": "code",
   "execution_count": 31,
   "metadata": {},
   "outputs": [],
   "source": [
    "# Address the problematic values, if they exist"
   ]
  },
  {
   "cell_type": "code",
   "execution_count": 32,
   "metadata": {},
   "outputs": [
    {
     "data": {
      "text/plain": [
       "employee                       11119\n",
       "business                        5085\n",
       "retiree                         3856\n",
       "civil servant                   1459\n",
       "unemployed                         2\n",
       "entrepreneur                       2\n",
       "paternity / maternity leave        1\n",
       "student                            1\n",
       "Name: income_type, dtype: int64"
      ]
     },
     "execution_count": 32,
     "metadata": {},
     "output_type": "execute_result"
    }
   ],
   "source": [
    "# Check the result - make sure it's fixed\n",
    "\n",
    "credit_scoring['income_type'].value_counts()"
   ]
  },
  {
   "cell_type": "markdown",
   "metadata": {},
   "source": [
    "[Now let's see if we have any duplicates in our data. If we do, you'll need to decide what you will do with them and explain why.]"
   ]
  },
  {
   "cell_type": "code",
   "execution_count": 33,
   "metadata": {},
   "outputs": [
    {
     "data": {
      "text/plain": [
       "False    21453\n",
       "True        72\n",
       "dtype: int64"
      ]
     },
     "execution_count": 33,
     "metadata": {},
     "output_type": "execute_result"
    }
   ],
   "source": [
    "# Checking duplicates\n",
    "credit_scoring.duplicated().value_counts()\n"
   ]
  },
  {
   "cell_type": "code",
   "execution_count": 34,
   "metadata": {},
   "outputs": [
    {
     "data": {
      "text/html": [
       "<div>\n",
       "<style scoped>\n",
       "    .dataframe tbody tr th:only-of-type {\n",
       "        vertical-align: middle;\n",
       "    }\n",
       "\n",
       "    .dataframe tbody tr th {\n",
       "        vertical-align: top;\n",
       "    }\n",
       "\n",
       "    .dataframe thead th {\n",
       "        text-align: right;\n",
       "    }\n",
       "</style>\n",
       "<table border=\"1\" class=\"dataframe\">\n",
       "  <thead>\n",
       "    <tr style=\"text-align: right;\">\n",
       "      <th></th>\n",
       "      <th>children</th>\n",
       "      <th>days_employed</th>\n",
       "      <th>dob_years</th>\n",
       "      <th>education</th>\n",
       "      <th>education_id</th>\n",
       "      <th>family_status</th>\n",
       "      <th>family_status_id</th>\n",
       "      <th>gender</th>\n",
       "      <th>income_type</th>\n",
       "      <th>debt</th>\n",
       "      <th>total_income</th>\n",
       "      <th>purpose</th>\n",
       "    </tr>\n",
       "  </thead>\n",
       "  <tbody>\n",
       "    <tr>\n",
       "      <td>2849</td>\n",
       "      <td>0</td>\n",
       "      <td>NaN</td>\n",
       "      <td>41</td>\n",
       "      <td>secondary education</td>\n",
       "      <td>1</td>\n",
       "      <td>married</td>\n",
       "      <td>0</td>\n",
       "      <td>F</td>\n",
       "      <td>employee</td>\n",
       "      <td>0</td>\n",
       "      <td>NaN</td>\n",
       "      <td>purchase of the house for my family</td>\n",
       "    </tr>\n",
       "    <tr>\n",
       "      <td>3290</td>\n",
       "      <td>0</td>\n",
       "      <td>NaN</td>\n",
       "      <td>58</td>\n",
       "      <td>secondary education</td>\n",
       "      <td>1</td>\n",
       "      <td>civil partnership</td>\n",
       "      <td>1</td>\n",
       "      <td>F</td>\n",
       "      <td>retiree</td>\n",
       "      <td>0</td>\n",
       "      <td>NaN</td>\n",
       "      <td>to have a wedding</td>\n",
       "    </tr>\n",
       "    <tr>\n",
       "      <td>4182</td>\n",
       "      <td>1</td>\n",
       "      <td>NaN</td>\n",
       "      <td>34</td>\n",
       "      <td>bachelor's degree</td>\n",
       "      <td>0</td>\n",
       "      <td>civil partnership</td>\n",
       "      <td>1</td>\n",
       "      <td>F</td>\n",
       "      <td>employee</td>\n",
       "      <td>0</td>\n",
       "      <td>NaN</td>\n",
       "      <td>wedding ceremony</td>\n",
       "    </tr>\n",
       "    <tr>\n",
       "      <td>4851</td>\n",
       "      <td>0</td>\n",
       "      <td>NaN</td>\n",
       "      <td>60</td>\n",
       "      <td>secondary education</td>\n",
       "      <td>1</td>\n",
       "      <td>civil partnership</td>\n",
       "      <td>1</td>\n",
       "      <td>F</td>\n",
       "      <td>retiree</td>\n",
       "      <td>0</td>\n",
       "      <td>NaN</td>\n",
       "      <td>wedding ceremony</td>\n",
       "    </tr>\n",
       "    <tr>\n",
       "      <td>5557</td>\n",
       "      <td>0</td>\n",
       "      <td>NaN</td>\n",
       "      <td>58</td>\n",
       "      <td>secondary education</td>\n",
       "      <td>1</td>\n",
       "      <td>civil partnership</td>\n",
       "      <td>1</td>\n",
       "      <td>F</td>\n",
       "      <td>retiree</td>\n",
       "      <td>0</td>\n",
       "      <td>NaN</td>\n",
       "      <td>to have a wedding</td>\n",
       "    </tr>\n",
       "    <tr>\n",
       "      <td>...</td>\n",
       "      <td>...</td>\n",
       "      <td>...</td>\n",
       "      <td>...</td>\n",
       "      <td>...</td>\n",
       "      <td>...</td>\n",
       "      <td>...</td>\n",
       "      <td>...</td>\n",
       "      <td>...</td>\n",
       "      <td>...</td>\n",
       "      <td>...</td>\n",
       "      <td>...</td>\n",
       "      <td>...</td>\n",
       "    </tr>\n",
       "    <tr>\n",
       "      <td>20702</td>\n",
       "      <td>0</td>\n",
       "      <td>NaN</td>\n",
       "      <td>64</td>\n",
       "      <td>secondary education</td>\n",
       "      <td>1</td>\n",
       "      <td>married</td>\n",
       "      <td>0</td>\n",
       "      <td>F</td>\n",
       "      <td>retiree</td>\n",
       "      <td>0</td>\n",
       "      <td>NaN</td>\n",
       "      <td>supplementary education</td>\n",
       "    </tr>\n",
       "    <tr>\n",
       "      <td>21032</td>\n",
       "      <td>0</td>\n",
       "      <td>NaN</td>\n",
       "      <td>60</td>\n",
       "      <td>secondary education</td>\n",
       "      <td>1</td>\n",
       "      <td>married</td>\n",
       "      <td>0</td>\n",
       "      <td>F</td>\n",
       "      <td>retiree</td>\n",
       "      <td>0</td>\n",
       "      <td>NaN</td>\n",
       "      <td>to become educated</td>\n",
       "    </tr>\n",
       "    <tr>\n",
       "      <td>21132</td>\n",
       "      <td>0</td>\n",
       "      <td>NaN</td>\n",
       "      <td>47</td>\n",
       "      <td>secondary education</td>\n",
       "      <td>1</td>\n",
       "      <td>married</td>\n",
       "      <td>0</td>\n",
       "      <td>F</td>\n",
       "      <td>employee</td>\n",
       "      <td>0</td>\n",
       "      <td>NaN</td>\n",
       "      <td>housing renovation</td>\n",
       "    </tr>\n",
       "    <tr>\n",
       "      <td>21281</td>\n",
       "      <td>1</td>\n",
       "      <td>NaN</td>\n",
       "      <td>30</td>\n",
       "      <td>bachelor's degree</td>\n",
       "      <td>0</td>\n",
       "      <td>married</td>\n",
       "      <td>0</td>\n",
       "      <td>F</td>\n",
       "      <td>employee</td>\n",
       "      <td>0</td>\n",
       "      <td>NaN</td>\n",
       "      <td>buy commercial real estate</td>\n",
       "    </tr>\n",
       "    <tr>\n",
       "      <td>21415</td>\n",
       "      <td>0</td>\n",
       "      <td>NaN</td>\n",
       "      <td>54</td>\n",
       "      <td>secondary education</td>\n",
       "      <td>1</td>\n",
       "      <td>married</td>\n",
       "      <td>0</td>\n",
       "      <td>F</td>\n",
       "      <td>retiree</td>\n",
       "      <td>0</td>\n",
       "      <td>NaN</td>\n",
       "      <td>housing transactions</td>\n",
       "    </tr>\n",
       "  </tbody>\n",
       "</table>\n",
       "<p>72 rows × 12 columns</p>\n",
       "</div>"
      ],
      "text/plain": [
       "       children  days_employed  dob_years            education  education_id  \\\n",
       "2849          0            NaN         41  secondary education             1   \n",
       "3290          0            NaN         58  secondary education             1   \n",
       "4182          1            NaN         34    bachelor's degree             0   \n",
       "4851          0            NaN         60  secondary education             1   \n",
       "5557          0            NaN         58  secondary education             1   \n",
       "...         ...            ...        ...                  ...           ...   \n",
       "20702         0            NaN         64  secondary education             1   \n",
       "21032         0            NaN         60  secondary education             1   \n",
       "21132         0            NaN         47  secondary education             1   \n",
       "21281         1            NaN         30    bachelor's degree             0   \n",
       "21415         0            NaN         54  secondary education             1   \n",
       "\n",
       "           family_status  family_status_id gender income_type  debt  \\\n",
       "2849             married                 0      F    employee     0   \n",
       "3290   civil partnership                 1      F     retiree     0   \n",
       "4182   civil partnership                 1      F    employee     0   \n",
       "4851   civil partnership                 1      F     retiree     0   \n",
       "5557   civil partnership                 1      F     retiree     0   \n",
       "...                  ...               ...    ...         ...   ...   \n",
       "20702            married                 0      F     retiree     0   \n",
       "21032            married                 0      F     retiree     0   \n",
       "21132            married                 0      F    employee     0   \n",
       "21281            married                 0      F    employee     0   \n",
       "21415            married                 0      F     retiree     0   \n",
       "\n",
       "       total_income                              purpose  \n",
       "2849            NaN  purchase of the house for my family  \n",
       "3290            NaN                    to have a wedding  \n",
       "4182            NaN                     wedding ceremony  \n",
       "4851            NaN                     wedding ceremony  \n",
       "5557            NaN                    to have a wedding  \n",
       "...             ...                                  ...  \n",
       "20702           NaN              supplementary education  \n",
       "21032           NaN                   to become educated  \n",
       "21132           NaN                   housing renovation  \n",
       "21281           NaN           buy commercial real estate  \n",
       "21415           NaN                 housing transactions  \n",
       "\n",
       "[72 rows x 12 columns]"
      ]
     },
     "execution_count": 34,
     "metadata": {},
     "output_type": "execute_result"
    }
   ],
   "source": [
    "# Address the duplicates, if they exist\n",
    "credit_scoring[credit_scoring.duplicated()]"
   ]
  },
  {
   "cell_type": "code",
   "execution_count": 35,
   "metadata": {},
   "outputs": [],
   "source": [
    "# Last check whether we have any duplicates\n",
    "credit_scoring = credit_scoring.drop_duplicates()"
   ]
  },
  {
   "cell_type": "code",
   "execution_count": 36,
   "metadata": {},
   "outputs": [
    {
     "data": {
      "text/plain": [
       "257436"
      ]
     },
     "execution_count": 36,
     "metadata": {},
     "output_type": "execute_result"
    }
   ],
   "source": [
    "# Check the size of the dataset that you now have after your first manipulations with it\n",
    "credit_scoring.size\n"
   ]
  },
  {
   "cell_type": "markdown",
   "metadata": {},
   "source": [
    "[Describe your new dataset: briefly say what's changed and what's the percentage of the changes, if there were any.]\n",
    "\n",
    "All the duplicates were removed. No duplicates, Difference capitalizations Education, no Negative incomes\n"
   ]
  },
  {
   "cell_type": "markdown",
   "metadata": {},
   "source": [
    "# Working with missing values"
   ]
  },
  {
   "cell_type": "markdown",
   "metadata": {},
   "source": [
    "[To speed up working with some data, you may want to work with dictionaries for some values, where IDs are provided. Explain why and which dictionaries you will work with.]"
   ]
  },
  {
   "cell_type": "code",
   "execution_count": 37,
   "metadata": {},
   "outputs": [],
   "source": [
    "# Find the dictionaries\n",
    "import numpy as np"
   ]
  },
  {
   "cell_type": "markdown",
   "metadata": {},
   "source": [
    "### Restoring missing values in `total_income`"
   ]
  },
  {
   "cell_type": "markdown",
   "metadata": {},
   "source": [
    "[Briefly state which column(s) have values missing that you need to address. Explain how you will fix them.]\n",
    "\n",
    "\n",
    "[Start with addressing total income missing values. Create and age category for clients. Create a new column with the age category. This strategy can help with calculating values for the total income.]\n"
   ]
  },
  {
   "cell_type": "code",
   "execution_count": 38,
   "metadata": {},
   "outputs": [],
   "source": [
    "# Let's write a function that calculates the age category\n",
    "\n",
    "#dob_years - client's age in years\n",
    "#credit_scoring['dob_years']\n",
    "\n",
    "def age(dob_years):\n",
    "    return dob_years"
   ]
  },
  {
   "cell_type": "code",
   "execution_count": 39,
   "metadata": {},
   "outputs": [
    {
     "data": {
      "text/plain": [
       "0        42\n",
       "1        36\n",
       "2        33\n",
       "3        32\n",
       "4        53\n",
       "         ..\n",
       "21520    43\n",
       "21521    67\n",
       "21522    38\n",
       "21523    38\n",
       "21524    40\n",
       "Name: dob_years, Length: 21453, dtype: int64"
      ]
     },
     "execution_count": 39,
     "metadata": {},
     "output_type": "execute_result"
    }
   ],
   "source": [
    "# Test if the function works\n",
    "credit_scoring['dob_years'].apply(age)"
   ]
  },
  {
   "cell_type": "code",
   "execution_count": 40,
   "metadata": {},
   "outputs": [],
   "source": [
    "# Creating new column based on function\n",
    "\n",
    "credit_scoring['age'] = credit_scoring['dob_years'].apply(age)"
   ]
  },
  {
   "cell_type": "code",
   "execution_count": 41,
   "metadata": {},
   "outputs": [
    {
     "data": {
      "text/plain": [
       "42    696\n",
       "35    616\n",
       "40    607\n",
       "41    605\n",
       "34    601\n",
       "38    597\n",
       "33    581\n",
       "39    572\n",
       "31    559\n",
       "36    554\n",
       "44    545\n",
       "29    544\n",
       "30    537\n",
       "37    536\n",
       "48    536\n",
       "50    513\n",
       "43    512\n",
       "32    509\n",
       "49    508\n",
       "28    503\n",
       "45    496\n",
       "27    493\n",
       "52    484\n",
       "56    483\n",
       "47    477\n",
       "54    476\n",
       "46    472\n",
       "53    459\n",
       "57    456\n",
       "58    454\n",
       "51    446\n",
       "55    443\n",
       "59    443\n",
       "26    408\n",
       "60    374\n",
       "25    357\n",
       "61    354\n",
       "62    348\n",
       "63    269\n",
       "24    264\n",
       "64    260\n",
       "23    252\n",
       "65    193\n",
       "22    183\n",
       "66    182\n",
       "67    167\n",
       "21    111\n",
       "68     99\n",
       "69     85\n",
       "70     65\n",
       "71     56\n",
       "20     51\n",
       "72     33\n",
       "19     14\n",
       "73      8\n",
       "74      6\n",
       "75      1\n",
       "Name: age, dtype: int64"
      ]
     },
     "execution_count": 41,
     "metadata": {},
     "output_type": "execute_result"
    }
   ],
   "source": [
    "# Checking how values in the new column\n",
    "\n",
    "credit_scoring['age'].value_counts()"
   ]
  },
  {
   "cell_type": "markdown",
   "metadata": {},
   "source": [
    "[Think about the factors on which income usually depends. Eventually, you will want to find out whether you should use mean or median values for replacing missing values. To make this decision you will probably want to look at the distribution of the factors you identified as impacting one's income.]"
   ]
  },
  {
   "cell_type": "markdown",
   "metadata": {},
   "source": [
    "[Create a table that only has data without missing values. This data will be used to restore the missing values.]"
   ]
  },
  {
   "cell_type": "code",
   "execution_count": 42,
   "metadata": {},
   "outputs": [
    {
     "data": {
      "text/html": [
       "<div>\n",
       "<style scoped>\n",
       "    .dataframe tbody tr th:only-of-type {\n",
       "        vertical-align: middle;\n",
       "    }\n",
       "\n",
       "    .dataframe tbody tr th {\n",
       "        vertical-align: top;\n",
       "    }\n",
       "\n",
       "    .dataframe thead th {\n",
       "        text-align: right;\n",
       "    }\n",
       "</style>\n",
       "<table border=\"1\" class=\"dataframe\">\n",
       "  <thead>\n",
       "    <tr style=\"text-align: right;\">\n",
       "      <th></th>\n",
       "      <th>children</th>\n",
       "      <th>days_employed</th>\n",
       "      <th>dob_years</th>\n",
       "      <th>education</th>\n",
       "      <th>education_id</th>\n",
       "      <th>family_status</th>\n",
       "      <th>family_status_id</th>\n",
       "      <th>gender</th>\n",
       "      <th>income_type</th>\n",
       "      <th>debt</th>\n",
       "      <th>total_income</th>\n",
       "      <th>purpose</th>\n",
       "      <th>age</th>\n",
       "    </tr>\n",
       "  </thead>\n",
       "  <tbody>\n",
       "    <tr>\n",
       "      <td>0</td>\n",
       "      <td>1</td>\n",
       "      <td>8437.673028</td>\n",
       "      <td>42</td>\n",
       "      <td>bachelor's degree</td>\n",
       "      <td>0</td>\n",
       "      <td>married</td>\n",
       "      <td>0</td>\n",
       "      <td>F</td>\n",
       "      <td>employee</td>\n",
       "      <td>0</td>\n",
       "      <td>40620.102</td>\n",
       "      <td>purchase of the house</td>\n",
       "      <td>42</td>\n",
       "    </tr>\n",
       "    <tr>\n",
       "      <td>1</td>\n",
       "      <td>1</td>\n",
       "      <td>4024.803754</td>\n",
       "      <td>36</td>\n",
       "      <td>secondary education</td>\n",
       "      <td>1</td>\n",
       "      <td>married</td>\n",
       "      <td>0</td>\n",
       "      <td>F</td>\n",
       "      <td>employee</td>\n",
       "      <td>0</td>\n",
       "      <td>17932.802</td>\n",
       "      <td>car purchase</td>\n",
       "      <td>36</td>\n",
       "    </tr>\n",
       "    <tr>\n",
       "      <td>2</td>\n",
       "      <td>0</td>\n",
       "      <td>5623.422610</td>\n",
       "      <td>33</td>\n",
       "      <td>secondary education</td>\n",
       "      <td>1</td>\n",
       "      <td>married</td>\n",
       "      <td>0</td>\n",
       "      <td>M</td>\n",
       "      <td>employee</td>\n",
       "      <td>0</td>\n",
       "      <td>23341.752</td>\n",
       "      <td>purchase of the house</td>\n",
       "      <td>33</td>\n",
       "    </tr>\n",
       "    <tr>\n",
       "      <td>3</td>\n",
       "      <td>3</td>\n",
       "      <td>4124.747207</td>\n",
       "      <td>32</td>\n",
       "      <td>secondary education</td>\n",
       "      <td>1</td>\n",
       "      <td>married</td>\n",
       "      <td>0</td>\n",
       "      <td>M</td>\n",
       "      <td>employee</td>\n",
       "      <td>0</td>\n",
       "      <td>42820.568</td>\n",
       "      <td>supplementary education</td>\n",
       "      <td>32</td>\n",
       "    </tr>\n",
       "    <tr>\n",
       "      <td>4</td>\n",
       "      <td>0</td>\n",
       "      <td>340266.072047</td>\n",
       "      <td>53</td>\n",
       "      <td>secondary education</td>\n",
       "      <td>1</td>\n",
       "      <td>civil partnership</td>\n",
       "      <td>1</td>\n",
       "      <td>F</td>\n",
       "      <td>retiree</td>\n",
       "      <td>0</td>\n",
       "      <td>25378.572</td>\n",
       "      <td>to have a wedding</td>\n",
       "      <td>53</td>\n",
       "    </tr>\n",
       "    <tr>\n",
       "      <td>...</td>\n",
       "      <td>...</td>\n",
       "      <td>...</td>\n",
       "      <td>...</td>\n",
       "      <td>...</td>\n",
       "      <td>...</td>\n",
       "      <td>...</td>\n",
       "      <td>...</td>\n",
       "      <td>...</td>\n",
       "      <td>...</td>\n",
       "      <td>...</td>\n",
       "      <td>...</td>\n",
       "      <td>...</td>\n",
       "      <td>...</td>\n",
       "    </tr>\n",
       "    <tr>\n",
       "      <td>21520</td>\n",
       "      <td>1</td>\n",
       "      <td>4529.316663</td>\n",
       "      <td>43</td>\n",
       "      <td>secondary education</td>\n",
       "      <td>1</td>\n",
       "      <td>civil partnership</td>\n",
       "      <td>1</td>\n",
       "      <td>F</td>\n",
       "      <td>business</td>\n",
       "      <td>0</td>\n",
       "      <td>35966.698</td>\n",
       "      <td>housing transactions</td>\n",
       "      <td>43</td>\n",
       "    </tr>\n",
       "    <tr>\n",
       "      <td>21521</td>\n",
       "      <td>0</td>\n",
       "      <td>343937.404131</td>\n",
       "      <td>67</td>\n",
       "      <td>secondary education</td>\n",
       "      <td>1</td>\n",
       "      <td>married</td>\n",
       "      <td>0</td>\n",
       "      <td>F</td>\n",
       "      <td>retiree</td>\n",
       "      <td>0</td>\n",
       "      <td>24959.969</td>\n",
       "      <td>purchase of a car</td>\n",
       "      <td>67</td>\n",
       "    </tr>\n",
       "    <tr>\n",
       "      <td>21522</td>\n",
       "      <td>1</td>\n",
       "      <td>2113.346888</td>\n",
       "      <td>38</td>\n",
       "      <td>secondary education</td>\n",
       "      <td>1</td>\n",
       "      <td>civil partnership</td>\n",
       "      <td>1</td>\n",
       "      <td>M</td>\n",
       "      <td>employee</td>\n",
       "      <td>1</td>\n",
       "      <td>14347.610</td>\n",
       "      <td>property</td>\n",
       "      <td>38</td>\n",
       "    </tr>\n",
       "    <tr>\n",
       "      <td>21523</td>\n",
       "      <td>3</td>\n",
       "      <td>3112.481705</td>\n",
       "      <td>38</td>\n",
       "      <td>secondary education</td>\n",
       "      <td>1</td>\n",
       "      <td>married</td>\n",
       "      <td>0</td>\n",
       "      <td>M</td>\n",
       "      <td>employee</td>\n",
       "      <td>1</td>\n",
       "      <td>39054.888</td>\n",
       "      <td>buying my own car</td>\n",
       "      <td>38</td>\n",
       "    </tr>\n",
       "    <tr>\n",
       "      <td>21524</td>\n",
       "      <td>2</td>\n",
       "      <td>1984.507589</td>\n",
       "      <td>40</td>\n",
       "      <td>secondary education</td>\n",
       "      <td>1</td>\n",
       "      <td>married</td>\n",
       "      <td>0</td>\n",
       "      <td>F</td>\n",
       "      <td>employee</td>\n",
       "      <td>0</td>\n",
       "      <td>13127.587</td>\n",
       "      <td>to buy a car</td>\n",
       "      <td>40</td>\n",
       "    </tr>\n",
       "  </tbody>\n",
       "</table>\n",
       "<p>21453 rows × 13 columns</p>\n",
       "</div>"
      ],
      "text/plain": [
       "       children  days_employed  dob_years            education  education_id  \\\n",
       "0             1    8437.673028         42    bachelor's degree             0   \n",
       "1             1    4024.803754         36  secondary education             1   \n",
       "2             0    5623.422610         33  secondary education             1   \n",
       "3             3    4124.747207         32  secondary education             1   \n",
       "4             0  340266.072047         53  secondary education             1   \n",
       "...         ...            ...        ...                  ...           ...   \n",
       "21520         1    4529.316663         43  secondary education             1   \n",
       "21521         0  343937.404131         67  secondary education             1   \n",
       "21522         1    2113.346888         38  secondary education             1   \n",
       "21523         3    3112.481705         38  secondary education             1   \n",
       "21524         2    1984.507589         40  secondary education             1   \n",
       "\n",
       "           family_status  family_status_id gender income_type  debt  \\\n",
       "0                married                 0      F    employee     0   \n",
       "1                married                 0      F    employee     0   \n",
       "2                married                 0      M    employee     0   \n",
       "3                married                 0      M    employee     0   \n",
       "4      civil partnership                 1      F     retiree     0   \n",
       "...                  ...               ...    ...         ...   ...   \n",
       "21520  civil partnership                 1      F    business     0   \n",
       "21521            married                 0      F     retiree     0   \n",
       "21522  civil partnership                 1      M    employee     1   \n",
       "21523            married                 0      M    employee     1   \n",
       "21524            married                 0      F    employee     0   \n",
       "\n",
       "       total_income                  purpose  age  \n",
       "0         40620.102    purchase of the house   42  \n",
       "1         17932.802             car purchase   36  \n",
       "2         23341.752    purchase of the house   33  \n",
       "3         42820.568  supplementary education   32  \n",
       "4         25378.572        to have a wedding   53  \n",
       "...             ...                      ...  ...  \n",
       "21520     35966.698     housing transactions   43  \n",
       "21521     24959.969        purchase of a car   67  \n",
       "21522     14347.610                 property   38  \n",
       "21523     39054.888        buying my own car   38  \n",
       "21524     13127.587             to buy a car   40  \n",
       "\n",
       "[21453 rows x 13 columns]"
      ]
     },
     "execution_count": 42,
     "metadata": {},
     "output_type": "execute_result"
    }
   ],
   "source": [
    "# Create a table without missing values and print a few of its rows to make sure it looks fine\n",
    "credit_scoring #thanks for that. I didn't realize that was needed. "
   ]
  },
  {
   "cell_type": "code",
   "execution_count": 43,
   "metadata": {},
   "outputs": [],
   "source": [
    "# Look at the mean values for income based on your identified factors\n",
    "income_mean = credit_scoring['total_income'].mean()"
   ]
  },
  {
   "cell_type": "code",
   "execution_count": 44,
   "metadata": {
    "scrolled": true
   },
   "outputs": [],
   "source": [
    "# Look at the median values for income based on your identified factors\n",
    "income_median = credit_scoring['total_income'].median()"
   ]
  },
  {
   "cell_type": "markdown",
   "metadata": {},
   "source": [
    "[Repeat such comparisons for multiple factors. Make sure you consider different aspects and explain your thinking process.]\n",
    "\n"
   ]
  },
  {
   "cell_type": "markdown",
   "metadata": {},
   "source": [
    "[Make a decision on what characteristics define income most and whether you will use a median or a mean. Explain why you made this decision]\n",
    "\n",
    "No huge outliers and no discernable patern between this and other columns.\n"
   ]
  },
  {
   "cell_type": "code",
   "execution_count": 45,
   "metadata": {},
   "outputs": [],
   "source": [
    "#  Write a function that we will use for filling in missing values\n",
    "#no signifigant outliers so we can use mean.\n",
    "#https://towardsdatascience.com/5-methods-to-check-for-nan-values-in-in-python-3f21ddd17eed\n",
    "#originally was going to use .mean()\n",
    "\n",
    "def NaN_fill(value):\n",
    "    if value != value:\n",
    "        value = income_mean\n",
    "        return value\n",
    "    return value"
   ]
  },
  {
   "cell_type": "code",
   "execution_count": 46,
   "metadata": {},
   "outputs": [
    {
     "data": {
      "text/plain": [
       "0        40620.102\n",
       "1        17932.802\n",
       "2        23341.752\n",
       "3        42820.568\n",
       "4        25378.572\n",
       "           ...    \n",
       "21520    35966.698\n",
       "21521    24959.969\n",
       "21522    14347.610\n",
       "21523    39054.888\n",
       "21524    13127.587\n",
       "Name: total_income, Length: 21453, dtype: float64"
      ]
     },
     "execution_count": 46,
     "metadata": {},
     "output_type": "execute_result"
    }
   ],
   "source": [
    "# Check if it works\n",
    "credit_scoring['total_income'].apply(NaN_fill)"
   ]
  },
  {
   "cell_type": "code",
   "execution_count": 47,
   "metadata": {},
   "outputs": [],
   "source": [
    "# Apply it to every row\n",
    "credit_scoring['total_income'] = credit_scoring['total_income'].apply(NaN_fill)"
   ]
  },
  {
   "cell_type": "code",
   "execution_count": 48,
   "metadata": {},
   "outputs": [
    {
     "data": {
      "text/html": [
       "<div>\n",
       "<style scoped>\n",
       "    .dataframe tbody tr th:only-of-type {\n",
       "        vertical-align: middle;\n",
       "    }\n",
       "\n",
       "    .dataframe tbody tr th {\n",
       "        vertical-align: top;\n",
       "    }\n",
       "\n",
       "    .dataframe thead th {\n",
       "        text-align: right;\n",
       "    }\n",
       "</style>\n",
       "<table border=\"1\" class=\"dataframe\">\n",
       "  <thead>\n",
       "    <tr style=\"text-align: right;\">\n",
       "      <th></th>\n",
       "      <th>children</th>\n",
       "      <th>days_employed</th>\n",
       "      <th>dob_years</th>\n",
       "      <th>education</th>\n",
       "      <th>education_id</th>\n",
       "      <th>family_status</th>\n",
       "      <th>family_status_id</th>\n",
       "      <th>gender</th>\n",
       "      <th>income_type</th>\n",
       "      <th>debt</th>\n",
       "      <th>total_income</th>\n",
       "      <th>purpose</th>\n",
       "      <th>age</th>\n",
       "    </tr>\n",
       "  </thead>\n",
       "  <tbody>\n",
       "  </tbody>\n",
       "</table>\n",
       "</div>"
      ],
      "text/plain": [
       "Empty DataFrame\n",
       "Columns: [children, days_employed, dob_years, education, education_id, family_status, family_status_id, gender, income_type, debt, total_income, purpose, age]\n",
       "Index: []"
      ]
     },
     "execution_count": 48,
     "metadata": {},
     "output_type": "execute_result"
    }
   ],
   "source": [
    "# Check if we got any errors\n",
    "credit_scoring[credit_scoring['total_income'].isna()]"
   ]
  },
  {
   "cell_type": "markdown",
   "metadata": {},
   "source": [
    "[If you've came across errors in preparing the values for missing data, it probably means there's something special about the data for the category. Give it some thought - you may want to fix some things manually, if there's enough data to find medians/means.]\n"
   ]
  },
  {
   "cell_type": "code",
   "execution_count": 49,
   "metadata": {},
   "outputs": [],
   "source": [
    "# Replacing missing values if there are any errors\n",
    "#None so far"
   ]
  },
  {
   "cell_type": "markdown",
   "metadata": {},
   "source": [
    "[When you think you've finished with `total_income`, check that the total number of values in this column matches the number of values in other ones.]"
   ]
  },
  {
   "cell_type": "code",
   "execution_count": 50,
   "metadata": {},
   "outputs": [
    {
     "name": "stdout",
     "output_type": "stream",
     "text": [
      "<class 'pandas.core.frame.DataFrame'>\n",
      "Int64Index: 21453 entries, 0 to 21524\n",
      "Data columns (total 13 columns):\n",
      "children            21453 non-null int64\n",
      "days_employed       19351 non-null float64\n",
      "dob_years           21453 non-null int64\n",
      "education           21453 non-null object\n",
      "education_id        21453 non-null int64\n",
      "family_status       21453 non-null object\n",
      "family_status_id    21453 non-null int64\n",
      "gender              21453 non-null object\n",
      "income_type         21453 non-null object\n",
      "debt                21453 non-null int64\n",
      "total_income        21453 non-null float64\n",
      "purpose             21453 non-null object\n",
      "age                 21453 non-null int64\n",
      "dtypes: float64(2), int64(6), object(5)\n",
      "memory usage: 2.3+ MB\n"
     ]
    }
   ],
   "source": [
    "# Checking the number of entries in the columns\n",
    "credit_scoring.info()\n"
   ]
  },
  {
   "cell_type": "markdown",
   "metadata": {},
   "source": [
    "###  Restoring values in `days_employed`"
   ]
  },
  {
   "cell_type": "markdown",
   "metadata": {},
   "source": [
    "[Think about the parameters that may help you restore the missing values in this column. Eventually, you will want to find out whether you should use mean or median values for replacing missing values. You will probably conduct a research similar to the one you've done when restoring data in a previous column.]"
   ]
  },
  {
   "cell_type": "code",
   "execution_count": 51,
   "metadata": {
    "pycharm": {
     "name": "#%%\n"
    }
   },
   "outputs": [
    {
     "name": "stderr",
     "output_type": "stream",
     "text": [
      "/opt/conda/lib/python3.7/site-packages/ipykernel_launcher.py:3: UserWarning: Boolean Series key will be reindexed to match DataFrame index.\n",
      "  This is separate from the ipykernel package so we can avoid doing imports until\n"
     ]
    },
    {
     "data": {
      "text/plain": [
       "'0.004271962258683324%'"
      ]
     },
     "execution_count": 51,
     "metadata": {},
     "output_type": "execute_result"
    }
   ],
   "source": [
    "# Distribution of `days_employed` medians based on your identified parameters\n",
    "days_employed_median_group = credit_scoring[credit_scoring['income_type']!='retiree'] #retiree's aren't employed\n",
    "days_employed_median = days_employed_median_group[credit_scoring['days_employed'].notna()]['days_employed'].median()\n",
    "days_employed_total = days_employed_median_group[days_employed_median_group['days_employed'].notna()]['days_employed'].sum()\n",
    "str(days_employed_median/days_employed_total * 100) + '%'\n"
   ]
  },
  {
   "cell_type": "code",
   "execution_count": 52,
   "metadata": {},
   "outputs": [
    {
     "data": {
      "text/plain": [
       "'0.006286145335680161%'"
      ]
     },
     "execution_count": 52,
     "metadata": {},
     "output_type": "execute_result"
    }
   ],
   "source": [
    "# Distribution of `days_employed` means based on your identified parameters\n",
    "days_employed_mean = days_employed_median_group[days_employed_median_group['days_employed'].notna()]['days_employed'].mean()\n",
    "str(days_employed_mean/days_employed_total * 100) + '%'"
   ]
  },
  {
   "cell_type": "markdown",
   "metadata": {},
   "source": [
    "[Decide what you will use: means or medians. Explain why.]\n",
    "\n",
    "Mean, because there is no discernable distinguishable outliers."
   ]
  },
  {
   "cell_type": "code",
   "execution_count": 53,
   "metadata": {},
   "outputs": [],
   "source": [
    "# Let's write a function that calculates means or medians (depending on your decision) based on your identified parameter\n",
    "#https://pastebin.com/ZVXYcmyU mistakes and notes\n",
    "def mean_maker(value):\n",
    "    if value != value: \n",
    "        value = credit_scoring['days_employed'].shape[0]/credit_scoring['days_employed'].sum() #IT WORKS, didn't think it would work.\n",
    "    return value\n",
    "    "
   ]
  },
  {
   "cell_type": "code",
   "execution_count": 54,
   "metadata": {},
   "outputs": [
    {
     "name": "stderr",
     "output_type": "stream",
     "text": [
      "/opt/conda/lib/python3.7/site-packages/ipykernel_launcher.py:3: SettingWithCopyWarning: \n",
      "A value is trying to be set on a copy of a slice from a DataFrame.\n",
      "Try using .loc[row_indexer,col_indexer] = value instead\n",
      "\n",
      "See the caveats in the documentation: http://pandas.pydata.org/pandas-docs/stable/user_guide/indexing.html#returning-a-view-versus-a-copy\n",
      "  This is separate from the ipykernel package so we can avoid doing imports until\n"
     ]
    },
    {
     "data": {
      "text/plain": [
       "0"
      ]
     },
     "execution_count": 54,
     "metadata": {},
     "output_type": "execute_result"
    }
   ],
   "source": [
    "# Check that the function works\n",
    "\n",
    "days_employed_median_group['days_employed'] = days_employed_median_group['days_employed'].apply(mean_maker)\n",
    "days_employed_median_group[days_employed_median_group['days_employed'].isna()].shape[0]"
   ]
  },
  {
   "cell_type": "code",
   "execution_count": 55,
   "metadata": {},
   "outputs": [],
   "source": [
    "# Apply function to the income_type\n",
    "credit_scoring['income_type'] = credit_scoring['income_type'].apply(mean_maker)"
   ]
  },
  {
   "cell_type": "code",
   "execution_count": 56,
   "metadata": {},
   "outputs": [
    {
     "data": {
      "text/plain": [
       "0"
      ]
     },
     "execution_count": 56,
     "metadata": {},
     "output_type": "execute_result"
    }
   ],
   "source": [
    "# Check if function worked\n",
    "credit_scoring[credit_scoring['income_type'].isna()].shape[0] #strings don't have means!"
   ]
  },
  {
   "cell_type": "code",
   "execution_count": 57,
   "metadata": {},
   "outputs": [],
   "source": [
    "# Replacing missing values\n",
    "#https://pastebin.com/ERe3U8cR mistakes were made\n",
    "#https://stackoverflow.com/questions/45803676/python-pandas-loc-filter-for-list-of-values\n",
    "all_retirees = list(credit_scoring[credit_scoring['income_type']=='retiree']['days_employed'].index.values)\n",
    "credit_scoring['days_employed'] = credit_scoring['days_employed'].apply(mean_maker)\n",
    "credit_scoring.loc[all_retirees,'days_employed'] = 0"
   ]
  },
  {
   "cell_type": "markdown",
   "metadata": {},
   "source": [
    "[When you think you've finished with `total_income`, check that the total number of values in this column matches the number of values in other ones.]"
   ]
  },
  {
   "cell_type": "code",
   "execution_count": 58,
   "metadata": {},
   "outputs": [
    {
     "name": "stdout",
     "output_type": "stream",
     "text": [
      "<class 'pandas.core.frame.DataFrame'>\n",
      "Int64Index: 21453 entries, 0 to 21524\n",
      "Data columns (total 13 columns):\n",
      "children            21453 non-null int64\n",
      "days_employed       21453 non-null float64\n",
      "dob_years           21453 non-null int64\n",
      "education           21453 non-null object\n",
      "education_id        21453 non-null int64\n",
      "family_status       21453 non-null object\n",
      "family_status_id    21453 non-null int64\n",
      "gender              21453 non-null object\n",
      "income_type         21453 non-null object\n",
      "debt                21453 non-null int64\n",
      "total_income        21453 non-null float64\n",
      "purpose             21453 non-null object\n",
      "age                 21453 non-null int64\n",
      "dtypes: float64(2), int64(6), object(5)\n",
      "memory usage: 2.9+ MB\n"
     ]
    }
   ],
   "source": [
    "# Check the entries in all columns - make sure we fixed all missing values\n",
    "credit_scoring.info()"
   ]
  },
  {
   "cell_type": "markdown",
   "metadata": {},
   "source": [
    "## Categorization of data\n",
    "\n",
    "[To answer the questions and test the hypotheses, you will want to work with categorized data. Look at the questions that were posed to you and that you should answer. Think about which of the data will need to be categorized to answer these questions. Below you will find a template through which you can work your way when categorizing data. The first step-by-step processing covers the text data; the second one addresses the numerical data that needs to be categorized. You can use both or none of the suggested instructions - it's up to you.]\n",
    "\n",
    "[Despite of how you decide to address the categorization, make sure to provide clear explanation of why you made your decision. Remember: this is your work and you make all decisions in it.]\n"
   ]
  },
  {
   "cell_type": "code",
   "execution_count": 59,
   "metadata": {
    "scrolled": true
   },
   "outputs": [
    {
     "name": "stdout",
     "output_type": "stream",
     "text": [
      "0        1\n",
      "1        1\n",
      "2        0\n",
      "3        3\n",
      "4        0\n",
      "        ..\n",
      "21520    1\n",
      "21521    0\n",
      "21522    1\n",
      "21523    3\n",
      "21524    2\n",
      "Name: children, Length: 21453, dtype: int64\n",
      "0                  married\n",
      "1                  married\n",
      "2                  married\n",
      "3                  married\n",
      "4        civil partnership\n",
      "               ...        \n",
      "21520    civil partnership\n",
      "21521              married\n",
      "21522    civil partnership\n",
      "21523              married\n",
      "21524              married\n",
      "Name: family_status, Length: 21453, dtype: object\n",
      "0        40620.102\n",
      "1        17932.802\n",
      "2        23341.752\n",
      "3        42820.568\n",
      "4        25378.572\n",
      "           ...    \n",
      "21520    35966.698\n",
      "21521    24959.969\n",
      "21522    14347.610\n",
      "21523    39054.888\n",
      "21524    13127.587\n",
      "Name: total_income, Length: 21453, dtype: float64\n",
      "0          purchase of the house\n",
      "1                   car purchase\n",
      "2          purchase of the house\n",
      "3        supplementary education\n",
      "4              to have a wedding\n",
      "                  ...           \n",
      "21520       housing transactions\n",
      "21521          purchase of a car\n",
      "21522                   property\n",
      "21523          buying my own car\n",
      "21524               to buy a car\n",
      "Name: purpose, Length: 21453, dtype: object\n",
      "0        0\n",
      "1        0\n",
      "2        0\n",
      "3        0\n",
      "4        0\n",
      "        ..\n",
      "21520    0\n",
      "21521    0\n",
      "21522    1\n",
      "21523    1\n",
      "21524    0\n",
      "Name: debt, Length: 21453, dtype: int64\n"
     ]
    }
   ],
   "source": [
    "# Print the values for your selected data for categorization\n",
    "\n",
    "print(credit_scoring['children'])\n",
    "print(credit_scoring['family_status'])\n",
    "print(credit_scoring['total_income'])\n",
    "print(credit_scoring['purpose'])\n",
    "print(credit_scoring['debt']) "
   ]
  },
  {
   "cell_type": "markdown",
   "metadata": {},
   "source": [
    "[Let's check unique values]"
   ]
  },
  {
   "cell_type": "code",
   "execution_count": 60,
   "metadata": {},
   "outputs": [
    {
     "name": "stdout",
     "output_type": "stream",
     "text": [
      "0    14090\n",
      "1     4808\n",
      "2     2175\n",
      "3      330\n",
      "4       41\n",
      "5        9\n",
      "Name: children, dtype: int64\n",
      "married              12339\n",
      "civil partnership     4150\n",
      "unmarried             2810\n",
      "divorced              1195\n",
      "widow / widower        959\n",
      "Name: family_status, dtype: int64\n",
      "26787.568355    2102\n",
      "17312.717000       2\n",
      "31791.384000       2\n",
      "42413.096000       2\n",
      "20226.282000       1\n",
      "                ... \n",
      "48796.341000       1\n",
      "34774.610000       1\n",
      "15710.698000       1\n",
      "19232.334000       1\n",
      "9591.824000        1\n",
      "Name: total_income, Length: 19349, dtype: int64\n",
      "wedding ceremony                            791\n",
      "having a wedding                            767\n",
      "to have a wedding                           765\n",
      "real estate transactions                    675\n",
      "buy commercial real estate                  661\n",
      "housing transactions                        652\n",
      "buying property for renting out             651\n",
      "transactions with commercial real estate    650\n",
      "housing                                     646\n",
      "purchase of the house                       646\n",
      "purchase of the house for my family         638\n",
      "construction of own property                635\n",
      "property                                    633\n",
      "transactions with my real estate            627\n",
      "building a real estate                      624\n",
      "buy real estate                             621\n",
      "purchase of my own house                    620\n",
      "building a property                         619\n",
      "housing renovation                          607\n",
      "buy residential real estate                 606\n",
      "buying my own car                           505\n",
      "going to university                         496\n",
      "car                                         494\n",
      "second-hand car purchase                    486\n",
      "cars                                        478\n",
      "to own a car                                478\n",
      "buying a second-hand car                    478\n",
      "to buy a car                                471\n",
      "car purchase                                461\n",
      "supplementary education                     460\n",
      "purchase of a car                           455\n",
      "university education                        452\n",
      "education                                   447\n",
      "to get a supplementary education            446\n",
      "getting an education                        442\n",
      "profile education                           436\n",
      "getting higher education                    426\n",
      "to become educated                          408\n",
      "Name: purpose, dtype: int64\n",
      "0    19712\n",
      "1     1741\n",
      "Name: debt, dtype: int64\n"
     ]
    }
   ],
   "source": [
    "# Check the unique values\n",
    "print(credit_scoring['children'].value_counts())\n",
    "print(credit_scoring['family_status'].value_counts())\n",
    "print(credit_scoring['total_income'].value_counts())\n",
    "print(credit_scoring['purpose'].value_counts()) #realized purpose is the only one uncategorized/simplified\n",
    "print(credit_scoring['debt'].value_counts()) #assuming debt > 0 means they don't pay loans on time"
   ]
  },
  {
   "cell_type": "markdown",
   "metadata": {},
   "source": [
    "[What main groups can you identify based on the unique values?]\n",
    "\n",
    "Education/Real Estate/Car/wedding\n",
    "\n",
    "[Based on these themes, we will probably want to categorize our data.]\n",
    "\n"
   ]
  },
  {
   "cell_type": "code",
   "execution_count": 61,
   "metadata": {},
   "outputs": [],
   "source": [
    "# Let's write a function to categorize the data based on common topics\n",
    "\n",
    "def purpose_sort(purpose):\n",
    "    if 'educat' in purpose:\n",
    "        return 'education'\n",
    "    if 'property' in purpose or 'real estate' in purpose or 'hous' in purpose:\n",
    "        return 'real estate'\n",
    "    if 'wedding' in purpose:\n",
    "        return 'wedding'\n",
    "    if 'car' in purpose:\n",
    "        return 'car'\n",
    "    if purpose == 'civil partnership' or purpose == 'married':\n",
    "        return 'married'\n",
    "    if 'unmarried' == purpose or 'widow' in purpose or 'divorced' in purpose:\n",
    "        return 'single'"
   ]
  },
  {
   "cell_type": "code",
   "execution_count": 62,
   "metadata": {},
   "outputs": [
    {
     "name": "stdout",
     "output_type": "stream",
     "text": [
      "real estate    10811\n",
      "car             4306\n",
      "education       3517\n",
      "wedding         2323\n",
      "Name: general_purpose, dtype: int64\n",
      "married    16489\n",
      "single      4964\n",
      "Name: relationship_status, dtype: int64\n"
     ]
    }
   ],
   "source": [
    "# Create a column with the categories and count the values for them\n",
    "credit_scoring['general_purpose'] = credit_scoring['purpose'].apply(purpose_sort)\n",
    "print(credit_scoring['general_purpose'].value_counts())\n",
    "credit_scoring['relationship_status'] = credit_scoring['family_status'].apply(purpose_sort)\n",
    "print(credit_scoring['relationship_status'].value_counts())"
   ]
  },
  {
   "cell_type": "markdown",
   "metadata": {},
   "source": [
    "[If you decide to categorize the numerical data, you'll need to come up with the categories for it too.]"
   ]
  },
  {
   "cell_type": "code",
   "execution_count": 63,
   "metadata": {},
   "outputs": [
    {
     "name": "stdout",
     "output_type": "stream",
     "text": [
      "0        40620.102\n",
      "1        17932.802\n",
      "2        23341.752\n",
      "3        42820.568\n",
      "4        25378.572\n",
      "           ...    \n",
      "21520    35966.698\n",
      "21521    24959.969\n",
      "21522    14347.610\n",
      "21523    39054.888\n",
      "21524    13127.587\n",
      "Name: total_income, Length: 21453, dtype: float64\n"
     ]
    }
   ],
   "source": [
    "# Looking through all the numerical data in your selected column for categorization\n",
    "print(credit_scoring['total_income'])"
   ]
  },
  {
   "cell_type": "code",
   "execution_count": 64,
   "metadata": {},
   "outputs": [
    {
     "data": {
      "text/plain": [
       "count     21453.000000\n",
       "mean      26787.568355\n",
       "std       15647.461536\n",
       "min        3306.762000\n",
       "25%       17219.352000\n",
       "50%       24966.693000\n",
       "75%       31331.009000\n",
       "max      362496.645000\n",
       "Name: total_income, dtype: float64"
      ]
     },
     "execution_count": 64,
     "metadata": {},
     "output_type": "execute_result"
    }
   ],
   "source": [
    "# Getting summary statistics for the column\n",
    "credit_scoring['total_income'].describe()"
   ]
  },
  {
   "cell_type": "markdown",
   "metadata": {},
   "source": [
    "[Decide what ranges you will use for grouping and explain why.]\n",
    "\n",
    "https://money.usnews.com/money/personal-finance/family-finance/articles/where-do-i-fall-in-the-american-economic-class-system\n",
    "\n",
    "Poor or near-poor\t$32,048 or less\n",
    "\n",
    "Lower-middle class\t$32,048 - $53,413\n",
    "\n",
    "Middle class\t$53,413 - $106,827\n",
    "\n",
    "Upper-middle class\t$106,827 - $373,894\n",
    "\n",
    "Rich\t$373,894 and up\n",
    "\n",
    "An average estimate, based on a finance website. They know finance better than me. A wise man once said, we are closer to being homeless than being bezos or musk."
   ]
  },
  {
   "cell_type": "code",
   "execution_count": 65,
   "metadata": {},
   "outputs": [],
   "source": [
    "# Creating function for categorizing into different numerical groups based on ranges\n",
    "\n",
    "def income_class(value):\n",
    "    if value < 32048:\n",
    "        return 'Poor'\n",
    "    if 32048 <= value < 53413:\n",
    "        return 'Lower-Middle Class'\n",
    "    if 53413 <= value < 106827:\n",
    "        return 'Middle Class'\n",
    "    if 106827 <= value < 373894:\n",
    "        return 'Upper Middle Class'\n",
    "    if 373894 < value:\n",
    "        return 'Rich'\n"
   ]
  },
  {
   "cell_type": "code",
   "execution_count": 66,
   "metadata": {},
   "outputs": [],
   "source": [
    "# Creating column with categories\n",
    "credit_scoring['income_class'] = credit_scoring['total_income'].apply(income_class)"
   ]
  },
  {
   "cell_type": "code",
   "execution_count": 67,
   "metadata": {
    "scrolled": true
   },
   "outputs": [
    {
     "data": {
      "text/plain": [
       "Poor                  16408\n",
       "Lower-Middle Class     3999\n",
       "Middle Class            969\n",
       "Upper Middle Class       77\n",
       "Name: income_class, dtype: int64"
      ]
     },
     "execution_count": 67,
     "metadata": {},
     "output_type": "execute_result"
    }
   ],
   "source": [
    "# Count each categories values to see the distribution\n",
    "credit_scoring['income_class'].value_counts()"
   ]
  },
  {
   "cell_type": "markdown",
   "metadata": {},
   "source": [
    "## Checking the Hypotheses\n"
   ]
  },
  {
   "cell_type": "markdown",
   "metadata": {},
   "source": [
    "**Is there a correlation between having children and paying back on time?**"
   ]
  },
  {
   "cell_type": "code",
   "execution_count": 68,
   "metadata": {},
   "outputs": [
    {
     "name": "stdout",
     "output_type": "stream",
     "text": [
      "people with 0 children have a rate of 92.4556422995032% of paying back on time\n",
      "people with 1 child have a rate of 90.76539101497504% of paying back on time\n",
      "people with 1 children have a rate of 90.76539101497504% of paying back on time\n",
      "people with 2 children have a rate of 90.66666666666666% of paying back on time\n",
      "people with 3 children have a rate of 91.81818181818183% of paying back on time\n",
      "people with 4 children have a rate of 90.2439024390244% of paying back on time\n",
      "people with 5 children have a rate of 100.0% of paying back on time\n"
     ]
    }
   ],
   "source": [
    "# Check the children data and paying back on time\n",
    "#We are assuming people who pay back on time have no debt. \n",
    "#https://pastebin.com/N1cSXFEN mistakes were made, we only need people with no debt.\n",
    "#https://pastebin.com/0cSJ4QcT refined a second time.\n",
    "#https://pastebin.com/H2SyG56h KEYS ARE EASIER THAN RANGE\n",
    "\n",
    "no_debt = credit_scoring[credit_scoring['debt']==0]\n",
    "\n",
    "# Calculating default-rate based on the number of children\n",
    "no_debt_children_dictionary = no_debt['children'].value_counts().to_dict() #we need to access the value as key value pairs\n",
    "\n",
    "def children_rate_maker(dictionary, child_amount):\n",
    "        total = credit_scoring[credit_scoring['children'] == child_amount].shape[0] #all children of an amount\n",
    "        value = dictionary[child_amount] #key value pair accessed by amount\n",
    "        rate =  value/total * 100 #percentage\n",
    "        if child_amount == 1:\n",
    "            print('people with ' + str(child_amount) + ' child have a rate of ' + str(rate) + '% of paying back on time')\n",
    "        print('people with ' + str(child_amount) + ' children have a rate of ' + str(rate) + '% of paying back on time')\n",
    "        \n",
    "for i in no_debt_children_dictionary.keys(): #I'm not calling a function multiple times. So I'll loop it for me\n",
    "    children_rate_maker(no_debt_children_dictionary, i)"
   ]
  },
  {
   "cell_type": "markdown",
   "metadata": {},
   "source": [
    "**Conclusion**\n",
    "\n",
    "[Write your conclusions based on your manipulations and observations.]\n",
    "\n",
    "People with alot or no children tend to pay back on time more. My speculation is familys with 5 children can't afford debt (or can afford 5 children) so they pay off on time and 0 children spend less on children to pay it off."
   ]
  },
  {
   "cell_type": "markdown",
   "metadata": {},
   "source": [
    "**Is there a correlation between family status and paying back on time?**"
   ]
  },
  {
   "cell_type": "code",
   "execution_count": 69,
   "metadata": {},
   "outputs": [
    {
     "name": "stdout",
     "output_type": "stream",
     "text": [
      "married people have a rate of 92.0007277578992% of paying back on time\n",
      "single people have a rate of 91.49879129734086% of paying back on time\n"
     ]
    }
   ],
   "source": [
    "# Check the family status data and paying back on time\n",
    "#family status is now relationship_status, simplified.\n",
    "#https://pastebin.com/fpygZqDS\n",
    "\n",
    "no_debt_family_dictionary = no_debt['relationship_status'].value_counts().to_dict()\n",
    "\n",
    "\n",
    "# Calculating default-rate based on family status\n",
    "\n",
    "def status_rate_maker(dictionary,relationship_status):\n",
    "        total = credit_scoring[credit_scoring['relationship_status'] == relationship_status].shape[0]\n",
    "        value = dictionary[relationship_status]\n",
    "        rate =  value/total * 100\n",
    "        print(str(relationship_status) + ' people have a rate of ' + str(rate) + '% of paying back on time')\n",
    "\n",
    "for i in no_debt_family_dictionary.keys():\n",
    "    status_rate_maker(no_debt_family_dictionary,i)\n",
    "\n"
   ]
  },
  {
   "cell_type": "markdown",
   "metadata": {},
   "source": [
    "**Conclusion**\n",
    "\n",
    "[Write your conclusions based on your manipulations and observations.]"
   ]
  },
  {
   "cell_type": "markdown",
   "metadata": {},
   "source": [
    "**Is there a correlation between income level and paying back on time?**"
   ]
  },
  {
   "cell_type": "code",
   "execution_count": 70,
   "metadata": {},
   "outputs": [
    {
     "name": "stdout",
     "output_type": "stream",
     "text": [
      "Poor people have a rate of 91.55899561189663% of paying back on time\n",
      "Lower-Middle Class people have a rate of 92.92323080770193% of paying back on time\n",
      "Middle Class people have a rate of 92.98245614035088% of paying back on time\n",
      "Upper Middle Class people have a rate of 93.5064935064935% of paying back on time\n"
     ]
    }
   ],
   "source": [
    "# Check the income level data and paying back on time\n",
    "#income has been sorted into income_class\n",
    "\n",
    "income_class_dictionary = no_debt['income_class'].value_counts().to_dict()\n",
    "\n",
    "# Calculating default-rate based on income level\n",
    "\n",
    "def class_rate_maker(dictionary,income_class):\n",
    "        total = credit_scoring[credit_scoring['income_class'] == income_class].shape[0]\n",
    "        value = dictionary[income_class]\n",
    "        rate =  value/total * 100\n",
    "        print(str(income_class) + ' people have a rate of ' + str(rate) + '% of paying back on time')\n",
    "\n",
    "for i in income_class_dictionary.keys():\n",
    "    class_rate_maker(income_class_dictionary,i)\n",
    "\n",
    "\n"
   ]
  },
  {
   "cell_type": "markdown",
   "metadata": {},
   "source": [
    "**Conclusion**\n",
    "\n",
    "[Write your conclusions based on your manipulations and observations.]\n",
    "\n",
    "More income, higher chance of paying back on time."
   ]
  },
  {
   "cell_type": "markdown",
   "metadata": {},
   "source": [
    "**How does credit purpose affect the default rate?**"
   ]
  },
  {
   "cell_type": "code",
   "execution_count": 71,
   "metadata": {},
   "outputs": [
    {
     "name": "stdout",
     "output_type": "stream",
     "text": [
      "People who take out loans for real estate have a rate of 92.76662658403478% of paying back on time\n",
      "People who take out loans for car have a rate of 90.64096609382257% of paying back on time\n",
      "People who take out loans for education have a rate of 90.7023030992323% of paying back on time\n",
      "People who take out loans for wedding have a rate of 91.99311235471373% of paying back on time\n"
     ]
    }
   ],
   "source": [
    "# Check the percentages for default rate for each credit purpose and analyze them\n",
    "#using general purpose\n",
    "\n",
    "\n",
    "purpose_dictionary = no_debt['general_purpose'].value_counts().to_dict()\n",
    "\n",
    "\n",
    "def purpose_rate_maker(dictionary,general_purpose):\n",
    "        total = credit_scoring[credit_scoring['general_purpose'] == general_purpose].shape[0]\n",
    "        value = dictionary[general_purpose]\n",
    "        rate =  value/total * 100\n",
    "        print('People who take out loans for ' + str(general_purpose) + ' have a rate of ' + str(rate) + '% of paying back on time')\n",
    "\n",
    "for i in purpose_dictionary.keys():\n",
    "    purpose_rate_maker(purpose_dictionary,i)\n",
    "\n"
   ]
  },
  {
   "cell_type": "markdown",
   "metadata": {},
   "source": [
    "**Conclusion**\n",
    "\n",
    "[Write your conclusions based on your manipulations and observations.]\n",
    "\n",
    "Weddings and Houses have a higher rate of paying back on time than cars and education. My guess is due to the finality of a house (and the risk of getting evicted) and wedding (to have and to hold till death do us part) vs college debt and constant car payments and repairs and gas"
   ]
  },
  {
   "cell_type": "markdown",
   "metadata": {},
   "source": [
    "# General Conclusion \n",
    "\n",
    "[List your conclusions in this final section. Make sure you include all your important conclusions you made that led you to the way you processed and analyzed the data. Cover the missing values, duplicates, and possible reasons and solutions for problematic artifacts that you had to address.]\n",
    "\n",
    "All the duplicates were removed. No duplicates, Difference capitalizations in Education, no Negative incomes. Family Status and Income and Purpose were simplified.\n",
    "\n",
    "\n",
    "[List your conclusions regarding the posed questions here as well.]\n",
    "\n",
    "My conclusion, higher income, paying for things all at once like a wedding or morgage, and either having no extra expenses like children or having many expenses, like too much children show fiscal responsibility on what they can handle.Thus they can pay back on time.\n"
   ]
  }
 ],
 "metadata": {
  "ExecuteTimeLog": [
   {
    "duration": 2741,
    "start_time": "2021-10-21T01:08:49.480Z"
   },
   {
    "duration": 52,
    "start_time": "2021-10-21T01:08:53.315Z"
   },
   {
    "duration": 49,
    "start_time": "2021-10-21T01:08:57.432Z"
   },
   {
    "duration": 70,
    "start_time": "2021-10-21T01:09:07.706Z"
   },
   {
    "duration": 772,
    "start_time": "2022-02-17T20:00:35.907Z"
   },
   {
    "duration": 86,
    "start_time": "2022-02-17T20:00:42.370Z"
   },
   {
    "duration": 169,
    "start_time": "2022-02-17T20:17:16.985Z"
   },
   {
    "duration": 16,
    "start_time": "2022-02-17T20:17:23.076Z"
   },
   {
    "duration": 5,
    "start_time": "2022-02-17T20:17:38.619Z"
   },
   {
    "duration": 10,
    "start_time": "2022-02-17T20:17:57.346Z"
   },
   {
    "duration": 7,
    "start_time": "2022-02-17T20:18:14.565Z"
   },
   {
    "duration": 153,
    "start_time": "2022-02-17T20:19:25.668Z"
   },
   {
    "duration": 4,
    "start_time": "2022-02-17T20:19:28.212Z"
   },
   {
    "duration": 10,
    "start_time": "2022-02-17T20:19:30.185Z"
   },
   {
    "duration": 10,
    "start_time": "2022-02-17T20:19:39.469Z"
   },
   {
    "duration": 7,
    "start_time": "2022-02-17T20:19:58.388Z"
   },
   {
    "duration": 3,
    "start_time": "2022-02-17T20:20:13.650Z"
   },
   {
    "duration": 155,
    "start_time": "2022-02-17T20:20:35.203Z"
   },
   {
    "duration": 158,
    "start_time": "2022-02-17T20:22:11.524Z"
   },
   {
    "duration": 4,
    "start_time": "2022-02-17T20:22:14.224Z"
   },
   {
    "duration": 13,
    "start_time": "2022-02-17T20:22:16.193Z"
   },
   {
    "duration": 18,
    "start_time": "2022-02-17T20:22:24.539Z"
   },
   {
    "duration": 14,
    "start_time": "2022-02-17T20:27:17.313Z"
   },
   {
    "duration": 13,
    "start_time": "2022-02-17T20:27:27.918Z"
   },
   {
    "duration": 162,
    "start_time": "2022-02-17T20:31:19.539Z"
   },
   {
    "duration": 3,
    "start_time": "2022-02-17T20:31:27.660Z"
   },
   {
    "duration": 12,
    "start_time": "2022-02-17T20:31:34.301Z"
   },
   {
    "duration": 12,
    "start_time": "2022-02-17T20:35:50.220Z"
   },
   {
    "duration": 6,
    "start_time": "2022-02-17T20:36:25.724Z"
   },
   {
    "duration": 8,
    "start_time": "2022-02-17T20:39:04.330Z"
   },
   {
    "duration": 7,
    "start_time": "2022-02-17T20:39:13.545Z"
   },
   {
    "duration": 9,
    "start_time": "2022-02-17T20:39:18.800Z"
   },
   {
    "duration": 6,
    "start_time": "2022-02-17T20:39:52.874Z"
   },
   {
    "duration": 22,
    "start_time": "2022-02-17T20:40:26.027Z"
   },
   {
    "duration": 23,
    "start_time": "2022-02-17T20:41:43.263Z"
   },
   {
    "duration": 6,
    "start_time": "2022-02-17T20:44:32.073Z"
   },
   {
    "duration": 5,
    "start_time": "2022-02-17T20:44:35.191Z"
   },
   {
    "duration": 22,
    "start_time": "2022-02-17T20:44:39.400Z"
   },
   {
    "duration": 23,
    "start_time": "2022-02-17T20:44:55.639Z"
   },
   {
    "duration": 22,
    "start_time": "2022-02-17T20:45:50.854Z"
   },
   {
    "duration": 14,
    "start_time": "2022-02-17T20:46:25.926Z"
   },
   {
    "duration": 186,
    "start_time": "2022-02-17T20:46:35.207Z"
   },
   {
    "duration": 183,
    "start_time": "2022-02-17T20:46:39.670Z"
   },
   {
    "duration": 175,
    "start_time": "2022-02-17T20:46:48.017Z"
   },
   {
    "duration": 199,
    "start_time": "2022-02-17T20:46:51.653Z"
   },
   {
    "duration": 181,
    "start_time": "2022-02-17T20:47:05.847Z"
   },
   {
    "duration": 29,
    "start_time": "2022-02-17T20:47:12.021Z"
   },
   {
    "duration": 7,
    "start_time": "2022-02-17T20:47:30.124Z"
   },
   {
    "duration": 7,
    "start_time": "2022-02-17T20:47:38.389Z"
   },
   {
    "duration": 8,
    "start_time": "2022-02-17T20:47:45.100Z"
   },
   {
    "duration": 9,
    "start_time": "2022-02-17T20:47:49.798Z"
   },
   {
    "duration": 7,
    "start_time": "2022-02-17T20:48:02.893Z"
   },
   {
    "duration": 7,
    "start_time": "2022-02-17T20:48:06.485Z"
   },
   {
    "duration": 9,
    "start_time": "2022-02-17T20:48:10.984Z"
   },
   {
    "duration": 6,
    "start_time": "2022-02-17T20:48:13.909Z"
   },
   {
    "duration": 8,
    "start_time": "2022-02-17T20:48:32.324Z"
   },
   {
    "duration": 10,
    "start_time": "2022-02-17T20:54:10.867Z"
   },
   {
    "duration": 6,
    "start_time": "2022-02-17T20:54:33.040Z"
   },
   {
    "duration": 6,
    "start_time": "2022-02-17T20:54:37.954Z"
   },
   {
    "duration": 8,
    "start_time": "2022-02-17T21:05:58.813Z"
   },
   {
    "duration": 21,
    "start_time": "2022-02-17T21:06:03.566Z"
   },
   {
    "duration": 8,
    "start_time": "2022-02-17T21:06:19.424Z"
   },
   {
    "duration": 5,
    "start_time": "2022-02-17T21:06:41.585Z"
   },
   {
    "duration": 7,
    "start_time": "2022-02-17T21:07:26.242Z"
   },
   {
    "duration": 20,
    "start_time": "2022-02-17T21:09:07.647Z"
   },
   {
    "duration": 8,
    "start_time": "2022-02-17T21:11:27.180Z"
   },
   {
    "duration": 7,
    "start_time": "2022-02-17T21:11:44.559Z"
   },
   {
    "duration": 7,
    "start_time": "2022-02-17T21:12:33.088Z"
   },
   {
    "duration": 6,
    "start_time": "2022-02-17T21:13:27.842Z"
   },
   {
    "duration": 5,
    "start_time": "2022-02-17T21:13:33.577Z"
   },
   {
    "duration": 64,
    "start_time": "2022-02-17T21:40:07.760Z"
   },
   {
    "duration": 17,
    "start_time": "2022-02-17T21:40:13.678Z"
   },
   {
    "duration": 23,
    "start_time": "2022-02-17T21:40:30.255Z"
   },
   {
    "duration": 5,
    "start_time": "2022-02-17T21:40:44.498Z"
   },
   {
    "duration": 7,
    "start_time": "2022-02-17T21:40:48.751Z"
   },
   {
    "duration": 180,
    "start_time": "2022-02-17T21:41:28.463Z"
   },
   {
    "duration": 2245,
    "start_time": "2022-02-17T21:41:44.276Z"
   },
   {
    "duration": 5,
    "start_time": "2022-02-17T21:42:05.133Z"
   },
   {
    "duration": 5,
    "start_time": "2022-02-17T21:42:17.100Z"
   },
   {
    "duration": 4,
    "start_time": "2022-02-17T21:42:20.302Z"
   },
   {
    "duration": 61,
    "start_time": "2022-02-17T21:42:37.853Z"
   },
   {
    "duration": 4,
    "start_time": "2022-02-17T21:42:41.566Z"
   },
   {
    "duration": 4,
    "start_time": "2022-02-17T21:42:44.849Z"
   },
   {
    "duration": 176,
    "start_time": "2022-02-17T21:43:15.650Z"
   },
   {
    "duration": 2103,
    "start_time": "2022-02-17T21:43:34.382Z"
   },
   {
    "duration": 5,
    "start_time": "2022-02-17T21:43:54.963Z"
   },
   {
    "duration": 24,
    "start_time": "2022-02-17T21:44:33.533Z"
   },
   {
    "duration": 20,
    "start_time": "2022-02-17T21:45:16.241Z"
   },
   {
    "duration": 19,
    "start_time": "2022-02-17T21:45:27.101Z"
   },
   {
    "duration": 21,
    "start_time": "2022-02-17T21:46:48.991Z"
   },
   {
    "duration": 2,
    "start_time": "2022-02-17T21:48:13.199Z"
   },
   {
    "duration": 6,
    "start_time": "2022-02-17T21:56:33.287Z"
   },
   {
    "duration": 172,
    "start_time": "2022-02-17T21:56:57.464Z"
   },
   {
    "duration": 175,
    "start_time": "2022-02-17T21:57:02.039Z"
   },
   {
    "duration": 183,
    "start_time": "2022-02-17T21:57:25.499Z"
   },
   {
    "duration": 6,
    "start_time": "2022-02-17T21:57:49.643Z"
   },
   {
    "duration": 173,
    "start_time": "2022-02-17T21:59:10.838Z"
   },
   {
    "duration": 175,
    "start_time": "2022-02-17T21:59:14.422Z"
   },
   {
    "duration": 199,
    "start_time": "2022-02-17T21:59:17.957Z"
   },
   {
    "duration": 11,
    "start_time": "2022-02-17T21:59:41.238Z"
   },
   {
    "duration": 21,
    "start_time": "2022-02-17T21:59:56.646Z"
   },
   {
    "duration": 17,
    "start_time": "2022-02-17T22:00:19.012Z"
   },
   {
    "duration": 32,
    "start_time": "2022-02-17T22:01:19.274Z"
   },
   {
    "duration": 6,
    "start_time": "2022-02-17T22:02:34.022Z"
   },
   {
    "duration": 13,
    "start_time": "2022-02-17T22:11:14.180Z"
   },
   {
    "duration": 176,
    "start_time": "2022-02-17T22:11:22.498Z"
   },
   {
    "duration": 182,
    "start_time": "2022-02-17T22:11:41.576Z"
   },
   {
    "duration": 13,
    "start_time": "2022-02-17T22:11:44.528Z"
   },
   {
    "duration": 248,
    "start_time": "2022-02-17T22:11:54.337Z"
   },
   {
    "duration": 14,
    "start_time": "2022-02-17T22:11:56.820Z"
   },
   {
    "duration": 6,
    "start_time": "2022-02-17T22:12:16.180Z"
   },
   {
    "duration": 181,
    "start_time": "2022-02-18T00:03:27.519Z"
   },
   {
    "duration": 19,
    "start_time": "2022-02-18T00:03:42.830Z"
   },
   {
    "duration": 7,
    "start_time": "2022-02-18T00:03:59.327Z"
   },
   {
    "duration": 7,
    "start_time": "2022-02-18T00:04:04.128Z"
   },
   {
    "duration": 172,
    "start_time": "2022-02-18T00:04:12.831Z"
   },
   {
    "duration": 7,
    "start_time": "2022-02-18T00:04:17.473Z"
   },
   {
    "duration": 8,
    "start_time": "2022-02-18T00:04:32.586Z"
   },
   {
    "duration": 7,
    "start_time": "2022-02-18T00:04:38.302Z"
   },
   {
    "duration": 182,
    "start_time": "2022-02-18T00:04:45.503Z"
   },
   {
    "duration": 7,
    "start_time": "2022-02-18T00:04:47.982Z"
   },
   {
    "duration": 183,
    "start_time": "2022-02-18T00:04:59.276Z"
   },
   {
    "duration": 6,
    "start_time": "2022-02-18T00:05:05.034Z"
   },
   {
    "duration": 6,
    "start_time": "2022-02-18T00:05:13.614Z"
   },
   {
    "duration": 6,
    "start_time": "2022-02-18T00:05:16.974Z"
   },
   {
    "duration": 7,
    "start_time": "2022-02-18T00:05:24.992Z"
   },
   {
    "duration": 6,
    "start_time": "2022-02-18T00:05:28.701Z"
   },
   {
    "duration": 7,
    "start_time": "2022-02-18T00:05:35.726Z"
   },
   {
    "duration": 7,
    "start_time": "2022-02-18T00:06:02.758Z"
   },
   {
    "duration": 22,
    "start_time": "2022-02-18T00:08:05.350Z"
   },
   {
    "duration": 203,
    "start_time": "2022-02-18T00:08:28.893Z"
   },
   {
    "duration": 9,
    "start_time": "2022-02-18T00:08:40.860Z"
   },
   {
    "duration": 184,
    "start_time": "2022-02-18T00:10:57.227Z"
   },
   {
    "duration": 8,
    "start_time": "2022-02-18T00:11:11.518Z"
   },
   {
    "duration": 4466,
    "start_time": "2022-02-18T00:11:58.300Z"
   },
   {
    "duration": 10,
    "start_time": "2022-02-18T00:12:08.876Z"
   },
   {
    "duration": 177,
    "start_time": "2022-02-18T00:25:40.182Z"
   },
   {
    "duration": 10,
    "start_time": "2022-02-18T00:25:47.892Z"
   },
   {
    "duration": 10,
    "start_time": "2022-02-18T00:30:13.674Z"
   },
   {
    "duration": 9,
    "start_time": "2022-02-18T00:30:39.891Z"
   },
   {
    "duration": 57,
    "start_time": "2022-02-18T00:30:52.917Z"
   },
   {
    "duration": 8,
    "start_time": "2022-02-18T00:30:58.660Z"
   },
   {
    "duration": 7,
    "start_time": "2022-02-18T00:31:04.242Z"
   },
   {
    "duration": 12,
    "start_time": "2022-02-18T00:33:06.323Z"
   },
   {
    "duration": 7,
    "start_time": "2022-02-18T00:33:12.050Z"
   },
   {
    "duration": 11,
    "start_time": "2022-02-18T00:33:14.691Z"
   },
   {
    "duration": 9,
    "start_time": "2022-02-18T00:33:30.389Z"
   },
   {
    "duration": 11,
    "start_time": "2022-02-18T00:33:37.169Z"
   },
   {
    "duration": 32,
    "start_time": "2022-02-18T00:35:58.896Z"
   },
   {
    "duration": 9,
    "start_time": "2022-02-18T00:36:16.387Z"
   },
   {
    "duration": 7,
    "start_time": "2022-02-18T00:37:48.979Z"
   },
   {
    "duration": 9,
    "start_time": "2022-02-18T00:37:58.403Z"
   },
   {
    "duration": 9,
    "start_time": "2022-02-18T00:38:04.575Z"
   },
   {
    "duration": 23,
    "start_time": "2022-02-18T00:40:09.044Z"
   },
   {
    "duration": 4,
    "start_time": "2022-02-18T00:40:51.891Z"
   },
   {
    "duration": 5,
    "start_time": "2022-02-18T00:41:30.576Z"
   },
   {
    "duration": 22,
    "start_time": "2022-02-18T00:41:39.652Z"
   },
   {
    "duration": 4,
    "start_time": "2022-02-18T00:42:29.949Z"
   },
   {
    "duration": 22,
    "start_time": "2022-02-18T00:42:40.127Z"
   },
   {
    "duration": 4,
    "start_time": "2022-02-18T00:43:00.016Z"
   },
   {
    "duration": 2,
    "start_time": "2022-02-18T00:43:13.279Z"
   },
   {
    "duration": 2,
    "start_time": "2022-02-18T00:43:22.639Z"
   },
   {
    "duration": 3,
    "start_time": "2022-02-18T00:44:40.062Z"
   },
   {
    "duration": 3,
    "start_time": "2022-02-18T00:45:30.733Z"
   },
   {
    "duration": 13,
    "start_time": "2022-02-18T00:47:24.879Z"
   },
   {
    "duration": 22,
    "start_time": "2022-02-18T00:47:49.085Z"
   },
   {
    "duration": 12,
    "start_time": "2022-02-18T00:48:08.667Z"
   },
   {
    "duration": 22,
    "start_time": "2022-02-18T00:48:15.387Z"
   },
   {
    "duration": 22,
    "start_time": "2022-02-18T00:48:47.407Z"
   },
   {
    "duration": 31,
    "start_time": "2022-02-18T00:50:28.442Z"
   },
   {
    "duration": 2,
    "start_time": "2022-02-18T00:50:54.196Z"
   },
   {
    "duration": 4,
    "start_time": "2022-02-18T00:51:44.044Z"
   },
   {
    "duration": 4,
    "start_time": "2022-02-18T00:52:20.991Z"
   },
   {
    "duration": 55,
    "start_time": "2022-02-18T00:53:17.814Z"
   },
   {
    "duration": 4,
    "start_time": "2022-02-18T00:53:26.536Z"
   },
   {
    "duration": 64,
    "start_time": "2022-02-18T00:53:35.657Z"
   },
   {
    "duration": 4,
    "start_time": "2022-02-18T00:53:44.471Z"
   },
   {
    "duration": 4,
    "start_time": "2022-02-18T00:54:26.459Z"
   },
   {
    "duration": 7,
    "start_time": "2022-02-18T05:16:22.318Z"
   },
   {
    "duration": 6,
    "start_time": "2022-02-18T05:19:13.324Z"
   },
   {
    "duration": 7,
    "start_time": "2022-02-18T05:19:28.327Z"
   },
   {
    "duration": 7,
    "start_time": "2022-02-18T05:20:14.232Z"
   },
   {
    "duration": 6,
    "start_time": "2022-02-18T05:21:19.706Z"
   },
   {
    "duration": 6,
    "start_time": "2022-02-18T05:21:23.590Z"
   },
   {
    "duration": 6,
    "start_time": "2022-02-18T05:24:42.500Z"
   },
   {
    "duration": 5,
    "start_time": "2022-02-18T05:25:47.557Z"
   },
   {
    "duration": 32,
    "start_time": "2022-02-18T05:27:03.689Z"
   },
   {
    "duration": 10,
    "start_time": "2022-02-18T05:28:30.708Z"
   },
   {
    "duration": 24,
    "start_time": "2022-02-18T05:29:00.163Z"
   },
   {
    "duration": 4,
    "start_time": "2022-02-18T05:30:52.180Z"
   },
   {
    "duration": 22,
    "start_time": "2022-02-18T05:31:56.850Z"
   },
   {
    "duration": 6,
    "start_time": "2022-02-18T05:32:07.746Z"
   },
   {
    "duration": 4,
    "start_time": "2022-02-18T05:32:21.364Z"
   },
   {
    "duration": 5,
    "start_time": "2022-02-18T05:32:39.812Z"
   },
   {
    "duration": 5,
    "start_time": "2022-02-18T05:33:34.883Z"
   },
   {
    "duration": 185,
    "start_time": "2022-02-18T05:34:33.794Z"
   },
   {
    "duration": 182,
    "start_time": "2022-02-18T05:34:36.645Z"
   },
   {
    "duration": 5,
    "start_time": "2022-02-18T05:34:47.121Z"
   },
   {
    "duration": 7,
    "start_time": "2022-02-18T05:34:59.683Z"
   },
   {
    "duration": 6,
    "start_time": "2022-02-18T05:35:13.171Z"
   },
   {
    "duration": 191,
    "start_time": "2022-02-18T05:36:14.147Z"
   },
   {
    "duration": 5,
    "start_time": "2022-02-18T05:36:34.385Z"
   },
   {
    "duration": 7,
    "start_time": "2022-02-18T05:36:41.664Z"
   },
   {
    "duration": 7,
    "start_time": "2022-02-18T05:36:53.329Z"
   },
   {
    "duration": 6,
    "start_time": "2022-02-18T05:37:05.969Z"
   },
   {
    "duration": 6,
    "start_time": "2022-02-18T05:37:48.001Z"
   },
   {
    "duration": 7,
    "start_time": "2022-02-18T05:42:05.072Z"
   },
   {
    "duration": 7,
    "start_time": "2022-02-18T05:43:02.173Z"
   },
   {
    "duration": 7,
    "start_time": "2022-02-18T05:44:07.693Z"
   },
   {
    "duration": 6,
    "start_time": "2022-02-18T05:44:59.564Z"
   },
   {
    "duration": 3,
    "start_time": "2022-02-18T05:45:05.006Z"
   },
   {
    "duration": 349,
    "start_time": "2022-02-19T01:10:47.396Z"
   },
   {
    "duration": 1033,
    "start_time": "2022-02-19T01:10:53.525Z"
   },
   {
    "duration": 13,
    "start_time": "2022-02-19T01:10:54.562Z"
   },
   {
    "duration": 27,
    "start_time": "2022-02-19T01:10:54.578Z"
   },
   {
    "duration": 17,
    "start_time": "2022-02-19T01:10:55.484Z"
   },
   {
    "duration": 34,
    "start_time": "2022-02-19T01:10:56.586Z"
   },
   {
    "duration": 330,
    "start_time": "2022-02-19T01:10:58.235Z"
   },
   {
    "duration": 311,
    "start_time": "2022-02-19T01:11:05.261Z"
   },
   {
    "duration": 37,
    "start_time": "2022-02-19T01:11:08.858Z"
   },
   {
    "duration": 318,
    "start_time": "2022-02-19T01:11:13.053Z"
   },
   {
    "duration": 228,
    "start_time": "2022-02-19T01:11:21.388Z"
   },
   {
    "duration": 5,
    "start_time": "2022-02-19T01:11:22.095Z"
   },
   {
    "duration": 17,
    "start_time": "2022-02-19T01:11:22.441Z"
   },
   {
    "duration": 14,
    "start_time": "2022-02-19T01:11:24.106Z"
   },
   {
    "duration": 32,
    "start_time": "2022-02-19T01:11:27.611Z"
   },
   {
    "duration": 9,
    "start_time": "2022-02-19T01:11:46.284Z"
   },
   {
    "duration": 10,
    "start_time": "2022-02-19T01:11:49.899Z"
   },
   {
    "duration": 6,
    "start_time": "2022-02-19T01:11:57.035Z"
   },
   {
    "duration": 12,
    "start_time": "2022-02-19T01:34:18.675Z"
   },
   {
    "duration": 11,
    "start_time": "2022-02-19T01:35:37.168Z"
   },
   {
    "duration": 31,
    "start_time": "2022-02-19T01:36:04.640Z"
   },
   {
    "duration": 56,
    "start_time": "2022-02-19T01:36:15.697Z"
   },
   {
    "duration": 35,
    "start_time": "2022-02-19T01:36:50.833Z"
   },
   {
    "duration": 405,
    "start_time": "2022-02-19T01:36:57.776Z"
   },
   {
    "duration": 293,
    "start_time": "2022-02-19T01:37:04.176Z"
   },
   {
    "duration": 50,
    "start_time": "2022-02-19T01:37:19.168Z"
   },
   {
    "duration": 27,
    "start_time": "2022-02-19T01:37:41.840Z"
   },
   {
    "duration": 20,
    "start_time": "2022-02-19T01:37:48.144Z"
   },
   {
    "duration": 14,
    "start_time": "2022-02-19T01:37:51.992Z"
   },
   {
    "duration": 35,
    "start_time": "2022-02-19T01:38:28.737Z"
   },
   {
    "duration": 33,
    "start_time": "2022-02-19T01:38:41.601Z"
   },
   {
    "duration": 18,
    "start_time": "2022-02-19T01:40:01.616Z"
   },
   {
    "duration": 3,
    "start_time": "2022-02-19T01:41:26.546Z"
   },
   {
    "duration": 21,
    "start_time": "2022-02-19T01:41:52.270Z"
   },
   {
    "duration": 21,
    "start_time": "2022-02-19T01:41:58.046Z"
   },
   {
    "duration": 24,
    "start_time": "2022-02-19T01:42:08.669Z"
   },
   {
    "duration": 8,
    "start_time": "2022-02-19T01:43:43.645Z"
   },
   {
    "duration": 7,
    "start_time": "2022-02-19T01:43:54.488Z"
   },
   {
    "duration": 10,
    "start_time": "2022-02-19T01:44:08.414Z"
   },
   {
    "duration": 9,
    "start_time": "2022-02-19T16:16:41.877Z"
   },
   {
    "duration": 11,
    "start_time": "2022-02-19T16:16:46.481Z"
   },
   {
    "duration": 7,
    "start_time": "2022-02-19T16:17:32.105Z"
   },
   {
    "duration": 7,
    "start_time": "2022-02-19T16:17:35.480Z"
   },
   {
    "duration": 11,
    "start_time": "2022-02-19T16:17:38.296Z"
   },
   {
    "duration": -352,
    "start_time": "2022-02-19T16:24:02.348Z"
   },
   {
    "duration": 236,
    "start_time": "2022-02-19T16:24:05.735Z"
   },
   {
    "duration": 26,
    "start_time": "2022-02-19T16:24:08.906Z"
   },
   {
    "duration": 16,
    "start_time": "2022-02-19T16:24:10.949Z"
   },
   {
    "duration": 35,
    "start_time": "2022-02-19T16:24:12.583Z"
   },
   {
    "duration": 13,
    "start_time": "2022-02-19T16:24:14.553Z"
   },
   {
    "duration": 11,
    "start_time": "2022-02-19T16:24:15.942Z"
   },
   {
    "duration": 6,
    "start_time": "2022-02-19T16:24:17.685Z"
   },
   {
    "duration": 9,
    "start_time": "2022-02-19T16:24:19.015Z"
   },
   {
    "duration": 11,
    "start_time": "2022-02-19T16:24:22.549Z"
   },
   {
    "duration": -350,
    "start_time": "2022-02-19T16:24:34.516Z"
   },
   {
    "duration": 11,
    "start_time": "2022-02-19T16:24:37.270Z"
   },
   {
    "duration": 7674,
    "start_time": "2022-02-19T16:24:39.076Z"
   },
   {
    "duration": 7464,
    "start_time": "2022-02-19T16:24:54.632Z"
   },
   {
    "duration": 49,
    "start_time": "2022-02-19T16:25:44.214Z"
   },
   {
    "duration": 21,
    "start_time": "2022-02-19T16:26:01.717Z"
   },
   {
    "duration": 22,
    "start_time": "2022-02-19T16:26:09.749Z"
   },
   {
    "duration": 55,
    "start_time": "2022-02-19T16:30:29.490Z"
   },
   {
    "duration": 276,
    "start_time": "2022-02-19T16:31:46.595Z"
   },
   {
    "duration": 5,
    "start_time": "2022-02-19T16:31:49.698Z"
   },
   {
    "duration": 25,
    "start_time": "2022-02-19T16:31:50.642Z"
   },
   {
    "duration": 17,
    "start_time": "2022-02-19T16:31:52.338Z"
   },
   {
    "duration": 33,
    "start_time": "2022-02-19T16:31:55.187Z"
   },
   {
    "duration": 11,
    "start_time": "2022-02-19T16:31:55.589Z"
   },
   {
    "duration": 10,
    "start_time": "2022-02-19T16:31:57.794Z"
   },
   {
    "duration": 8,
    "start_time": "2022-02-19T16:31:59.073Z"
   },
   {
    "duration": 4,
    "start_time": "2022-02-19T16:32:00.517Z"
   },
   {
    "duration": 4,
    "start_time": "2022-02-19T16:32:01.906Z"
   },
   {
    "duration": 10,
    "start_time": "2022-02-19T16:32:04.616Z"
   },
   {
    "duration": 13,
    "start_time": "2022-02-19T16:32:06.017Z"
   },
   {
    "duration": 318,
    "start_time": "2022-02-19T16:32:17.362Z"
   },
   {
    "duration": 23,
    "start_time": "2022-02-19T16:32:25.078Z"
   },
   {
    "duration": 10,
    "start_time": "2022-02-19T16:32:44.473Z"
   },
   {
    "duration": 9,
    "start_time": "2022-02-19T16:38:08.210Z"
   },
   {
    "duration": 36,
    "start_time": "2022-02-19T16:39:16.864Z"
   },
   {
    "duration": 55,
    "start_time": "2022-02-19T16:39:27.040Z"
   },
   {
    "duration": 4,
    "start_time": "2022-02-19T16:40:10.800Z"
   },
   {
    "duration": 36,
    "start_time": "2022-02-19T16:46:17.272Z"
   },
   {
    "duration": 346,
    "start_time": "2022-02-19T16:54:09.555Z"
   },
   {
    "duration": 394,
    "start_time": "2022-02-19T16:54:15.047Z"
   },
   {
    "duration": 338,
    "start_time": "2022-02-19T16:54:27.363Z"
   },
   {
    "duration": 246,
    "start_time": "2022-02-19T16:54:55.477Z"
   },
   {
    "duration": 626,
    "start_time": "2022-02-19T16:55:16.295Z"
   },
   {
    "duration": 303,
    "start_time": "2022-02-19T16:55:41.225Z"
   },
   {
    "duration": 349,
    "start_time": "2022-02-19T16:55:53.589Z"
   },
   {
    "duration": 6,
    "start_time": "2022-02-19T16:55:58.587Z"
   },
   {
    "duration": 24,
    "start_time": "2022-02-19T16:55:59.542Z"
   },
   {
    "duration": 14,
    "start_time": "2022-02-19T16:56:01.856Z"
   },
   {
    "duration": 34,
    "start_time": "2022-02-19T16:56:03.126Z"
   },
   {
    "duration": 12,
    "start_time": "2022-02-19T16:56:03.492Z"
   },
   {
    "duration": 12,
    "start_time": "2022-02-19T16:56:03.877Z"
   },
   {
    "duration": 7,
    "start_time": "2022-02-19T16:56:04.084Z"
   },
   {
    "duration": 12,
    "start_time": "2022-02-19T16:56:04.966Z"
   },
   {
    "duration": 3,
    "start_time": "2022-02-19T16:56:05.284Z"
   },
   {
    "duration": 4,
    "start_time": "2022-02-19T16:56:06.036Z"
   },
   {
    "duration": 11,
    "start_time": "2022-02-19T16:56:06.836Z"
   },
   {
    "duration": 15,
    "start_time": "2022-02-19T16:56:07.044Z"
   },
   {
    "duration": 12,
    "start_time": "2022-02-19T16:56:08.149Z"
   },
   {
    "duration": 10,
    "start_time": "2022-02-19T16:56:10.292Z"
   },
   {
    "duration": 323,
    "start_time": "2022-02-19T16:56:12.405Z"
   },
   {
    "duration": 326,
    "start_time": "2022-02-19T16:56:30.085Z"
   },
   {
    "duration": 299,
    "start_time": "2022-02-19T16:57:18.356Z"
   },
   {
    "duration": 7,
    "start_time": "2022-02-19T16:57:29.796Z"
   },
   {
    "duration": 8,
    "start_time": "2022-02-19T16:57:39.686Z"
   },
   {
    "duration": 7,
    "start_time": "2022-02-19T16:57:43.284Z"
   },
   {
    "duration": 6,
    "start_time": "2022-02-19T16:57:47.763Z"
   },
   {
    "duration": 7,
    "start_time": "2022-02-19T16:57:54.950Z"
   },
   {
    "duration": 319,
    "start_time": "2022-02-19T17:00:52.626Z"
   },
   {
    "duration": 4,
    "start_time": "2022-02-19T17:01:36.882Z"
   },
   {
    "duration": 7,
    "start_time": "2022-02-19T17:01:49.524Z"
   },
   {
    "duration": 6,
    "start_time": "2022-02-19T17:01:58.627Z"
   },
   {
    "duration": 246,
    "start_time": "2022-02-19T17:02:03.186Z"
   },
   {
    "duration": 6,
    "start_time": "2022-02-19T17:02:08.530Z"
   },
   {
    "duration": 11,
    "start_time": "2022-02-19T17:02:54.885Z"
   },
   {
    "duration": 7,
    "start_time": "2022-02-19T17:02:58.611Z"
   },
   {
    "duration": 9,
    "start_time": "2022-02-19T17:03:00.833Z"
   },
   {
    "duration": 9,
    "start_time": "2022-02-19T17:03:09.170Z"
   },
   {
    "duration": 9,
    "start_time": "2022-02-19T17:03:13.362Z"
   },
   {
    "duration": 11,
    "start_time": "2022-02-19T17:03:16.050Z"
   },
   {
    "duration": 12,
    "start_time": "2022-02-19T17:03:19.617Z"
   },
   {
    "duration": 5,
    "start_time": "2022-02-19T17:03:36.530Z"
   },
   {
    "duration": 291,
    "start_time": "2022-02-19T17:03:43.442Z"
   },
   {
    "duration": 298,
    "start_time": "2022-02-19T17:03:46.771Z"
   },
   {
    "duration": 6,
    "start_time": "2022-02-19T17:03:54.705Z"
   },
   {
    "duration": 10,
    "start_time": "2022-02-19T17:04:08.610Z"
   },
   {
    "duration": 408,
    "start_time": "2022-02-19T17:06:50.562Z"
   },
   {
    "duration": 288,
    "start_time": "2022-02-19T17:06:55.265Z"
   },
   {
    "duration": 291,
    "start_time": "2022-02-19T17:06:57.953Z"
   },
   {
    "duration": 296,
    "start_time": "2022-02-19T17:07:07.681Z"
   },
   {
    "duration": 422,
    "start_time": "2022-02-19T17:07:19.443Z"
   },
   {
    "duration": 243,
    "start_time": "2022-02-19T17:07:27.680Z"
   },
   {
    "duration": 391,
    "start_time": "2022-02-19T17:07:34.736Z"
   },
   {
    "duration": 6,
    "start_time": "2022-02-19T17:07:39.888Z"
   },
   {
    "duration": 6,
    "start_time": "2022-02-19T17:07:54.016Z"
   },
   {
    "duration": 5,
    "start_time": "2022-02-19T17:09:46.454Z"
   },
   {
    "duration": 336,
    "start_time": "2022-02-19T17:12:24.048Z"
   },
   {
    "duration": 7,
    "start_time": "2022-02-19T17:12:36.095Z"
   },
   {
    "duration": 279,
    "start_time": "2022-02-19T17:12:42.398Z"
   },
   {
    "duration": 8,
    "start_time": "2022-02-19T17:12:46.878Z"
   },
   {
    "duration": 312,
    "start_time": "2022-02-19T17:16:06.877Z"
   },
   {
    "duration": 310,
    "start_time": "2022-02-19T17:16:53.860Z"
   },
   {
    "duration": 328,
    "start_time": "2022-02-19T17:16:59.500Z"
   },
   {
    "duration": 35,
    "start_time": "2022-02-19T17:19:04.588Z"
   },
   {
    "duration": 10,
    "start_time": "2022-02-19T17:19:09.883Z"
   },
   {
    "duration": 8,
    "start_time": "2022-02-19T17:19:37.027Z"
   },
   {
    "duration": 10,
    "start_time": "2022-02-19T17:19:39.731Z"
   },
   {
    "duration": 10,
    "start_time": "2022-02-19T17:20:19.579Z"
   },
   {
    "duration": 7,
    "start_time": "2022-02-19T17:21:27.883Z"
   },
   {
    "duration": 7,
    "start_time": "2022-02-19T17:22:06.764Z"
   },
   {
    "duration": 7,
    "start_time": "2022-02-19T17:22:17.227Z"
   },
   {
    "duration": 9,
    "start_time": "2022-02-19T21:20:03.631Z"
   },
   {
    "duration": 36,
    "start_time": "2022-02-19T21:20:23.487Z"
   },
   {
    "duration": 121,
    "start_time": "2022-02-19T21:20:35.414Z"
   },
   {
    "duration": 310,
    "start_time": "2022-02-19T21:20:39.118Z"
   },
   {
    "duration": 24,
    "start_time": "2022-02-19T21:20:44.301Z"
   },
   {
    "duration": 306,
    "start_time": "2022-02-19T21:21:13.567Z"
   },
   {
    "duration": 7,
    "start_time": "2022-02-19T21:21:16.109Z"
   },
   {
    "duration": 7,
    "start_time": "2022-02-19T21:21:26.861Z"
   },
   {
    "duration": 7,
    "start_time": "2022-02-19T21:21:30.732Z"
   },
   {
    "duration": 7,
    "start_time": "2022-02-19T21:21:38.013Z"
   },
   {
    "duration": 7,
    "start_time": "2022-02-19T21:21:47.230Z"
   },
   {
    "duration": 35,
    "start_time": "2022-02-19T21:22:17.534Z"
   },
   {
    "duration": 12,
    "start_time": "2022-02-19T21:22:29.407Z"
   },
   {
    "duration": 11,
    "start_time": "2022-02-19T21:23:14.462Z"
   },
   {
    "duration": 9,
    "start_time": "2022-02-19T21:23:17.678Z"
   },
   {
    "duration": 40,
    "start_time": "2022-02-19T21:23:38.702Z"
   },
   {
    "duration": 16,
    "start_time": "2022-02-19T21:23:46.653Z"
   },
   {
    "duration": 15,
    "start_time": "2022-02-19T21:24:03.758Z"
   },
   {
    "duration": 14,
    "start_time": "2022-02-19T21:24:27.516Z"
   },
   {
    "duration": 12,
    "start_time": "2022-02-19T21:24:31.867Z"
   },
   {
    "duration": 14,
    "start_time": "2022-02-19T21:24:35.666Z"
   },
   {
    "duration": 31,
    "start_time": "2022-02-19T21:25:13.076Z"
   },
   {
    "duration": 13,
    "start_time": "2022-02-19T21:25:23.164Z"
   },
   {
    "duration": 13,
    "start_time": "2022-02-19T21:25:38.322Z"
   },
   {
    "duration": 9,
    "start_time": "2022-02-19T21:26:19.374Z"
   },
   {
    "duration": 12,
    "start_time": "2022-02-19T21:26:55.386Z"
   },
   {
    "duration": 12,
    "start_time": "2022-02-19T21:29:02.347Z"
   },
   {
    "duration": 14,
    "start_time": "2022-02-19T21:29:10.524Z"
   },
   {
    "duration": 11,
    "start_time": "2022-02-19T21:32:22.664Z"
   },
   {
    "duration": 11,
    "start_time": "2022-02-19T21:32:49.673Z"
   },
   {
    "duration": 11,
    "start_time": "2022-02-19T21:32:56.120Z"
   },
   {
    "duration": 11,
    "start_time": "2022-02-19T21:33:26.792Z"
   },
   {
    "duration": 9,
    "start_time": "2022-02-19T21:36:00.424Z"
   },
   {
    "duration": 10,
    "start_time": "2022-02-19T21:36:20.055Z"
   },
   {
    "duration": 11,
    "start_time": "2022-02-19T21:36:23.958Z"
   },
   {
    "duration": 13,
    "start_time": "2022-02-19T21:36:54.172Z"
   },
   {
    "duration": 13,
    "start_time": "2022-02-19T21:37:56.693Z"
   },
   {
    "duration": 19,
    "start_time": "2022-02-19T21:40:59.669Z"
   },
   {
    "duration": 15,
    "start_time": "2022-02-19T21:41:11.556Z"
   },
   {
    "duration": 14,
    "start_time": "2022-02-19T21:44:58.723Z"
   },
   {
    "duration": 9,
    "start_time": "2022-02-19T21:45:11.939Z"
   },
   {
    "duration": 9,
    "start_time": "2022-02-19T21:45:28.195Z"
   },
   {
    "duration": 12,
    "start_time": "2022-02-19T21:47:33.240Z"
   },
   {
    "duration": 1900,
    "start_time": "2022-02-19T21:47:35.808Z"
   },
   {
    "duration": 12,
    "start_time": "2022-02-19T21:47:38.033Z"
   },
   {
    "duration": 1499,
    "start_time": "2022-02-19T21:47:45.506Z"
   },
   {
    "duration": 254,
    "start_time": "2022-02-19T21:48:03.586Z"
   },
   {
    "duration": 5,
    "start_time": "2022-02-19T21:48:05.665Z"
   },
   {
    "duration": 26,
    "start_time": "2022-02-19T21:48:06.631Z"
   },
   {
    "duration": 15,
    "start_time": "2022-02-19T21:48:08.401Z"
   },
   {
    "duration": 33,
    "start_time": "2022-02-19T21:48:10.067Z"
   },
   {
    "duration": 11,
    "start_time": "2022-02-19T21:48:10.482Z"
   },
   {
    "duration": 10,
    "start_time": "2022-02-19T21:48:10.866Z"
   },
   {
    "duration": 6,
    "start_time": "2022-02-19T21:48:11.121Z"
   },
   {
    "duration": 9,
    "start_time": "2022-02-19T21:48:11.601Z"
   },
   {
    "duration": 4,
    "start_time": "2022-02-19T21:48:12.208Z"
   },
   {
    "duration": 3,
    "start_time": "2022-02-19T21:48:12.677Z"
   },
   {
    "duration": 10,
    "start_time": "2022-02-19T21:48:13.329Z"
   },
   {
    "duration": 15,
    "start_time": "2022-02-19T21:48:13.574Z"
   },
   {
    "duration": 12,
    "start_time": "2022-02-19T21:48:13.792Z"
   },
   {
    "duration": 10,
    "start_time": "2022-02-19T21:48:15.904Z"
   },
   {
    "duration": 8,
    "start_time": "2022-02-19T21:48:16.754Z"
   },
   {
    "duration": 9,
    "start_time": "2022-02-19T21:48:17.377Z"
   },
   {
    "duration": 12,
    "start_time": "2022-02-19T21:48:19.377Z"
   },
   {
    "duration": 14,
    "start_time": "2022-02-19T21:48:21.586Z"
   },
   {
    "duration": 8,
    "start_time": "2022-02-19T21:48:23.280Z"
   },
   {
    "duration": 7,
    "start_time": "2022-02-19T21:52:19.092Z"
   },
   {
    "duration": 317,
    "start_time": "2022-02-19T21:52:24.479Z"
   },
   {
    "duration": 8,
    "start_time": "2022-02-19T21:52:28.178Z"
   },
   {
    "duration": 7,
    "start_time": "2022-02-19T22:04:49.550Z"
   },
   {
    "duration": 7,
    "start_time": "2022-02-19T22:06:25.002Z"
   },
   {
    "duration": 7,
    "start_time": "2022-02-19T22:07:31.274Z"
   },
   {
    "duration": 11,
    "start_time": "2022-02-19T22:07:52.959Z"
   },
   {
    "duration": 12,
    "start_time": "2022-02-19T22:08:29.019Z"
   },
   {
    "duration": 11,
    "start_time": "2022-02-19T22:08:33.367Z"
   },
   {
    "duration": 7,
    "start_time": "2022-02-19T22:08:39.330Z"
   },
   {
    "duration": 8,
    "start_time": "2022-02-19T23:38:20.591Z"
   },
   {
    "duration": 399,
    "start_time": "2022-02-19T23:38:30.002Z"
   },
   {
    "duration": 11,
    "start_time": "2022-02-19T23:38:38.386Z"
   },
   {
    "duration": 7,
    "start_time": "2022-02-19T23:39:00.435Z"
   },
   {
    "duration": 7,
    "start_time": "2022-02-19T23:39:04.929Z"
   },
   {
    "duration": 7,
    "start_time": "2022-02-19T23:39:08.424Z"
   },
   {
    "duration": 8,
    "start_time": "2022-02-19T23:39:14.897Z"
   },
   {
    "duration": 9,
    "start_time": "2022-02-19T23:39:22.726Z"
   },
   {
    "duration": 14,
    "start_time": "2022-02-19T23:39:35.183Z"
   },
   {
    "duration": 310,
    "start_time": "2022-02-19T23:39:46.896Z"
   },
   {
    "duration": 303,
    "start_time": "2022-02-19T23:39:49.312Z"
   },
   {
    "duration": 13,
    "start_time": "2022-02-19T23:40:07.104Z"
   },
   {
    "duration": 11,
    "start_time": "2022-02-19T23:41:25.968Z"
   },
   {
    "duration": 13,
    "start_time": "2022-02-19T23:41:32.784Z"
   },
   {
    "duration": 8,
    "start_time": "2022-02-19T23:41:54.463Z"
   },
   {
    "duration": 11,
    "start_time": "2022-02-19T23:45:48.574Z"
   },
   {
    "duration": 10,
    "start_time": "2022-02-19T23:47:11.549Z"
   },
   {
    "duration": 22,
    "start_time": "2022-02-19T23:48:54.862Z"
   },
   {
    "duration": 22,
    "start_time": "2022-02-19T23:49:01.038Z"
   },
   {
    "duration": 21,
    "start_time": "2022-02-19T23:49:08.683Z"
   },
   {
    "duration": 74,
    "start_time": "2022-02-19T23:49:29.229Z"
   },
   {
    "duration": 24,
    "start_time": "2022-02-19T23:49:50.667Z"
   },
   {
    "duration": 311,
    "start_time": "2022-02-19T23:50:38.214Z"
   },
   {
    "duration": 298,
    "start_time": "2022-02-19T23:51:45.500Z"
   },
   {
    "duration": 3,
    "start_time": "2022-02-19T23:52:01.388Z"
   },
   {
    "duration": 46,
    "start_time": "2022-02-19T23:52:11.732Z"
   },
   {
    "duration": 22,
    "start_time": "2022-02-19T23:53:18.027Z"
   },
   {
    "duration": 5,
    "start_time": "2022-02-19T23:53:25.945Z"
   },
   {
    "duration": 10,
    "start_time": "2022-02-19T23:55:55.831Z"
   },
   {
    "duration": 12,
    "start_time": "2022-02-19T23:56:04.295Z"
   },
   {
    "duration": 3,
    "start_time": "2022-02-19T23:56:33.634Z"
   },
   {
    "duration": 10,
    "start_time": "2022-02-19T23:56:38.985Z"
   },
   {
    "duration": 389,
    "start_time": "2022-02-20T16:05:57.821Z"
   },
   {
    "duration": 1120,
    "start_time": "2022-02-20T16:06:06.753Z"
   },
   {
    "duration": 13,
    "start_time": "2022-02-20T16:06:07.875Z"
   },
   {
    "duration": 26,
    "start_time": "2022-02-20T16:06:08.035Z"
   },
   {
    "duration": 18,
    "start_time": "2022-02-20T16:06:08.528Z"
   },
   {
    "duration": 35,
    "start_time": "2022-02-20T16:06:08.840Z"
   },
   {
    "duration": 10,
    "start_time": "2022-02-20T16:06:09.207Z"
   },
   {
    "duration": 10,
    "start_time": "2022-02-20T16:06:09.540Z"
   },
   {
    "duration": 7,
    "start_time": "2022-02-20T16:06:09.704Z"
   },
   {
    "duration": 12,
    "start_time": "2022-02-20T16:06:10.089Z"
   },
   {
    "duration": 3,
    "start_time": "2022-02-20T16:06:10.465Z"
   },
   {
    "duration": 4,
    "start_time": "2022-02-20T16:06:11.042Z"
   },
   {
    "duration": 12,
    "start_time": "2022-02-20T16:06:13.427Z"
   },
   {
    "duration": 18,
    "start_time": "2022-02-20T16:06:14.001Z"
   },
   {
    "duration": 12,
    "start_time": "2022-02-20T16:06:14.385Z"
   },
   {
    "duration": 8,
    "start_time": "2022-02-20T16:06:16.842Z"
   },
   {
    "duration": 322,
    "start_time": "2022-02-20T16:06:17.251Z"
   },
   {
    "duration": -850,
    "start_time": "2022-02-20T16:06:18.425Z"
   },
   {
    "duration": 11,
    "start_time": "2022-02-20T16:06:18.211Z"
   },
   {
    "duration": 13,
    "start_time": "2022-02-20T16:06:18.724Z"
   },
   {
    "duration": 7,
    "start_time": "2022-02-20T16:06:20.755Z"
   },
   {
    "duration": 9,
    "start_time": "2022-02-20T16:06:22.614Z"
   },
   {
    "duration": 6,
    "start_time": "2022-02-20T16:06:23.857Z"
   },
   {
    "duration": 8,
    "start_time": "2022-02-20T16:06:24.064Z"
   },
   {
    "duration": 11,
    "start_time": "2022-02-20T16:06:24.835Z"
   },
   {
    "duration": 9,
    "start_time": "2022-02-20T16:06:25.297Z"
   },
   {
    "duration": 15,
    "start_time": "2022-02-20T16:06:25.521Z"
   },
   {
    "duration": 14,
    "start_time": "2022-02-20T16:06:25.857Z"
   },
   {
    "duration": 4,
    "start_time": "2022-02-20T16:06:26.417Z"
   },
   {
    "duration": 14,
    "start_time": "2022-02-20T16:06:26.913Z"
   },
   {
    "duration": 13,
    "start_time": "2022-02-20T16:06:27.426Z"
   },
   {
    "duration": 3,
    "start_time": "2022-02-20T16:06:27.618Z"
   },
   {
    "duration": 12,
    "start_time": "2022-02-20T16:06:27.813Z"
   },
   {
    "duration": 26,
    "start_time": "2022-02-20T16:06:28.721Z"
   },
   {
    "duration": 54,
    "start_time": "2022-02-20T16:06:30.305Z"
   },
   {
    "duration": 27,
    "start_time": "2022-02-20T16:06:31.072Z"
   },
   {
    "duration": 6,
    "start_time": "2022-02-20T16:06:31.525Z"
   },
   {
    "duration": 4,
    "start_time": "2022-02-20T16:06:33.008Z"
   },
   {
    "duration": 9,
    "start_time": "2022-02-20T16:06:34.886Z"
   },
   {
    "duration": 3,
    "start_time": "2022-02-20T16:07:59.633Z"
   },
   {
    "duration": 6,
    "start_time": "2022-02-20T16:08:57.833Z"
   },
   {
    "duration": -974,
    "start_time": "2022-02-20T16:11:49.314Z"
   },
   {
    "duration": -975,
    "start_time": "2022-02-20T16:11:49.316Z"
   },
   {
    "duration": 16,
    "start_time": "2022-02-20T16:11:52.927Z"
   },
   {
    "duration": 8,
    "start_time": "2022-02-20T16:11:53.551Z"
   },
   {
    "duration": 269,
    "start_time": "2022-02-20T16:35:53.101Z"
   },
   {
    "duration": 302,
    "start_time": "2022-02-20T16:36:16.562Z"
   },
   {
    "duration": 266,
    "start_time": "2022-02-20T16:36:37.449Z"
   },
   {
    "duration": 12,
    "start_time": "2022-02-20T16:37:16.355Z"
   },
   {
    "duration": 246,
    "start_time": "2022-02-20T16:38:12.126Z"
   },
   {
    "duration": 319,
    "start_time": "2022-02-20T16:38:47.683Z"
   },
   {
    "duration": 12,
    "start_time": "2022-02-20T16:39:19.351Z"
   },
   {
    "duration": 275,
    "start_time": "2022-02-20T16:39:31.599Z"
   },
   {
    "duration": 12,
    "start_time": "2022-02-20T16:39:41.043Z"
   },
   {
    "duration": 255,
    "start_time": "2022-02-20T16:39:47.666Z"
   },
   {
    "duration": 13,
    "start_time": "2022-02-20T16:39:57.815Z"
   },
   {
    "duration": -972,
    "start_time": "2022-02-20T16:43:29.134Z"
   },
   {
    "duration": 6,
    "start_time": "2022-02-20T16:43:38.146Z"
   },
   {
    "duration": 9,
    "start_time": "2022-02-20T16:43:46.105Z"
   },
   {
    "duration": 8,
    "start_time": "2022-02-20T16:57:46.890Z"
   },
   {
    "duration": 39,
    "start_time": "2022-02-20T16:57:50.410Z"
   },
   {
    "duration": 10,
    "start_time": "2022-02-20T16:58:01.006Z"
   },
   {
    "duration": 259,
    "start_time": "2022-02-20T17:03:22.092Z"
   },
   {
    "duration": 4,
    "start_time": "2022-02-20T17:03:27.753Z"
   },
   {
    "duration": 1330,
    "start_time": "2022-02-20T17:03:29.656Z"
   },
   {
    "duration": 4,
    "start_time": "2022-02-20T17:03:40.649Z"
   },
   {
    "duration": 18,
    "start_time": "2022-02-20T17:03:42.983Z"
   },
   {
    "duration": 4,
    "start_time": "2022-02-20T17:03:54.040Z"
   },
   {
    "duration": 1144,
    "start_time": "2022-02-20T17:03:54.679Z"
   },
   {
    "duration": 78,
    "start_time": "2022-02-20T17:04:05.448Z"
   },
   {
    "duration": 5,
    "start_time": "2022-02-20T17:04:09.337Z"
   },
   {
    "duration": 6,
    "start_time": "2022-02-20T17:05:21.652Z"
   },
   {
    "duration": 1208,
    "start_time": "2022-02-20T17:05:24.487Z"
   },
   {
    "duration": 80,
    "start_time": "2022-02-20T17:07:08.424Z"
   },
   {
    "duration": 4,
    "start_time": "2022-02-20T17:07:13.766Z"
   },
   {
    "duration": 19,
    "start_time": "2022-02-20T17:07:15.830Z"
   },
   {
    "duration": 21,
    "start_time": "2022-02-20T17:07:36.909Z"
   },
   {
    "duration": 21,
    "start_time": "2022-02-20T17:07:46.183Z"
   },
   {
    "duration": 306,
    "start_time": "2022-02-20T17:08:04.438Z"
   },
   {
    "duration": 51,
    "start_time": "2022-02-20T17:08:12.309Z"
   },
   {
    "duration": 19,
    "start_time": "2022-02-20T17:08:53.433Z"
   },
   {
    "duration": 14,
    "start_time": "2022-02-20T17:09:05.765Z"
   },
   {
    "duration": 9,
    "start_time": "2022-02-20T17:09:11.093Z"
   },
   {
    "duration": 40,
    "start_time": "2022-02-20T17:09:14.374Z"
   },
   {
    "duration": 207,
    "start_time": "2022-02-20T17:09:49.783Z"
   },
   {
    "duration": 5,
    "start_time": "2022-02-20T17:09:50.213Z"
   },
   {
    "duration": 24,
    "start_time": "2022-02-20T17:09:50.422Z"
   },
   {
    "duration": 15,
    "start_time": "2022-02-20T17:09:50.807Z"
   },
   {
    "duration": 35,
    "start_time": "2022-02-20T17:09:51.254Z"
   },
   {
    "duration": 11,
    "start_time": "2022-02-20T17:09:51.702Z"
   },
   {
    "duration": 10,
    "start_time": "2022-02-20T17:09:52.148Z"
   },
   {
    "duration": 7,
    "start_time": "2022-02-20T17:09:52.388Z"
   },
   {
    "duration": 9,
    "start_time": "2022-02-20T17:09:52.853Z"
   },
   {
    "duration": 3,
    "start_time": "2022-02-20T17:09:53.305Z"
   },
   {
    "duration": 4,
    "start_time": "2022-02-20T17:09:53.845Z"
   },
   {
    "duration": 10,
    "start_time": "2022-02-20T17:09:55.156Z"
   },
   {
    "duration": 13,
    "start_time": "2022-02-20T17:09:55.654Z"
   },
   {
    "duration": 12,
    "start_time": "2022-02-20T17:09:56.084Z"
   },
   {
    "duration": 8,
    "start_time": "2022-02-20T17:09:59.812Z"
   },
   {
    "duration": 317,
    "start_time": "2022-02-20T17:10:00.470Z"
   },
   {
    "duration": 269,
    "start_time": "2022-02-20T17:10:04.229Z"
   },
   {
    "duration": 221,
    "start_time": "2022-02-20T17:10:09.413Z"
   },
   {
    "duration": 10,
    "start_time": "2022-02-20T17:10:14.149Z"
   },
   {
    "duration": 4,
    "start_time": "2022-02-20T17:10:15.227Z"
   },
   {
    "duration": 4,
    "start_time": "2022-02-20T17:10:16.253Z"
   },
   {
    "duration": 10,
    "start_time": "2022-02-20T17:10:17.462Z"
   },
   {
    "duration": 18,
    "start_time": "2022-02-20T17:10:17.893Z"
   },
   {
    "duration": 12,
    "start_time": "2022-02-20T17:10:18.484Z"
   },
   {
    "duration": 8,
    "start_time": "2022-02-20T17:10:19.478Z"
   },
   {
    "duration": 253,
    "start_time": "2022-02-20T17:10:20.852Z"
   },
   {
    "duration": 10,
    "start_time": "2022-02-20T17:10:22.227Z"
   },
   {
    "duration": 9,
    "start_time": "2022-02-20T17:10:31.284Z"
   },
   {
    "duration": 275,
    "start_time": "2022-02-20T17:10:46.948Z"
   },
   {
    "duration": 409,
    "start_time": "2022-02-20T17:10:53.636Z"
   },
   {
    "duration": 8,
    "start_time": "2022-02-20T17:10:56.164Z"
   },
   {
    "duration": 273,
    "start_time": "2022-02-20T17:11:01.706Z"
   },
   {
    "duration": 6,
    "start_time": "2022-02-20T17:11:10.852Z"
   },
   {
    "duration": 25,
    "start_time": "2022-02-20T17:11:11.083Z"
   },
   {
    "duration": 15,
    "start_time": "2022-02-20T17:11:11.574Z"
   },
   {
    "duration": 33,
    "start_time": "2022-02-20T17:11:12.011Z"
   },
   {
    "duration": 10,
    "start_time": "2022-02-20T17:11:12.484Z"
   },
   {
    "duration": 12,
    "start_time": "2022-02-20T17:11:12.948Z"
   },
   {
    "duration": 6,
    "start_time": "2022-02-20T17:11:13.957Z"
   },
   {
    "duration": 11,
    "start_time": "2022-02-20T17:11:14.250Z"
   },
   {
    "duration": 4,
    "start_time": "2022-02-20T17:11:14.548Z"
   },
   {
    "duration": 4,
    "start_time": "2022-02-20T17:11:14.867Z"
   },
   {
    "duration": 12,
    "start_time": "2022-02-20T17:11:15.686Z"
   },
   {
    "duration": 16,
    "start_time": "2022-02-20T17:11:15.860Z"
   },
   {
    "duration": 13,
    "start_time": "2022-02-20T17:11:16.037Z"
   },
   {
    "duration": 10,
    "start_time": "2022-02-20T17:11:16.388Z"
   },
   {
    "duration": 395,
    "start_time": "2022-02-20T17:11:16.741Z"
   },
   {
    "duration": -864,
    "start_time": "2022-02-20T17:11:18.002Z"
   },
   {
    "duration": 13,
    "start_time": "2022-02-20T17:11:17.303Z"
   },
   {
    "duration": 17,
    "start_time": "2022-02-20T17:11:17.701Z"
   },
   {
    "duration": 10,
    "start_time": "2022-02-20T17:11:18.068Z"
   },
   {
    "duration": 10,
    "start_time": "2022-02-20T17:11:18.628Z"
   },
   {
    "duration": 7,
    "start_time": "2022-02-20T17:11:19.188Z"
   },
   {
    "duration": 8,
    "start_time": "2022-02-20T17:11:19.428Z"
   },
   {
    "duration": 10,
    "start_time": "2022-02-20T17:11:19.780Z"
   },
   {
    "duration": 3,
    "start_time": "2022-02-20T17:11:19.972Z"
   },
   {
    "duration": 9,
    "start_time": "2022-02-20T17:11:20.135Z"
   },
   {
    "duration": 12,
    "start_time": "2022-02-20T17:11:20.484Z"
   },
   {
    "duration": 3,
    "start_time": "2022-02-20T17:11:20.676Z"
   },
   {
    "duration": 10,
    "start_time": "2022-02-20T17:11:20.852Z"
   },
   {
    "duration": 11,
    "start_time": "2022-02-20T17:11:21.219Z"
   },
   {
    "duration": 3,
    "start_time": "2022-02-20T17:11:21.728Z"
   },
   {
    "duration": 10,
    "start_time": "2022-02-20T17:11:21.757Z"
   },
   {
    "duration": 31,
    "start_time": "2022-02-20T17:11:21.820Z"
   },
   {
    "duration": 55,
    "start_time": "2022-02-20T17:11:21.868Z"
   },
   {
    "duration": 23,
    "start_time": "2022-02-20T17:11:21.926Z"
   },
   {
    "duration": 6,
    "start_time": "2022-02-20T17:11:21.951Z"
   },
   {
    "duration": 4,
    "start_time": "2022-02-20T17:11:22.072Z"
   },
   {
    "duration": 4,
    "start_time": "2022-02-20T17:11:23.141Z"
   },
   {
    "duration": 7,
    "start_time": "2022-02-20T17:11:23.399Z"
   },
   {
    "duration": 15,
    "start_time": "2022-02-20T17:11:23.608Z"
   },
   {
    "duration": 9,
    "start_time": "2022-02-20T17:11:23.845Z"
   },
   {
    "duration": 13,
    "start_time": "2022-02-20T17:11:24.979Z"
   },
   {
    "duration": 7,
    "start_time": "2022-02-20T17:11:25.860Z"
   },
   {
    "duration": 8,
    "start_time": "2022-02-20T17:11:26.469Z"
   },
   {
    "duration": 4,
    "start_time": "2022-02-20T17:13:16.435Z"
   },
   {
    "duration": 19,
    "start_time": "2022-02-20T17:13:17.667Z"
   },
   {
    "duration": 14,
    "start_time": "2022-02-20T17:13:21.831Z"
   },
   {
    "duration": 234,
    "start_time": "2022-02-20T17:13:31.668Z"
   },
   {
    "duration": 5,
    "start_time": "2022-02-20T17:13:32.531Z"
   },
   {
    "duration": 31,
    "start_time": "2022-02-20T17:13:33.076Z"
   },
   {
    "duration": 16,
    "start_time": "2022-02-20T17:13:33.619Z"
   },
   {
    "duration": 34,
    "start_time": "2022-02-20T17:13:34.146Z"
   },
   {
    "duration": 19,
    "start_time": "2022-02-20T17:13:34.596Z"
   },
   {
    "duration": 10,
    "start_time": "2022-02-20T17:13:34.978Z"
   },
   {
    "duration": 8,
    "start_time": "2022-02-20T17:13:35.484Z"
   },
   {
    "duration": 10,
    "start_time": "2022-02-20T17:13:35.547Z"
   },
   {
    "duration": 3,
    "start_time": "2022-02-20T17:13:35.631Z"
   },
   {
    "duration": 4,
    "start_time": "2022-02-20T17:13:35.701Z"
   },
   {
    "duration": 11,
    "start_time": "2022-02-20T17:13:35.784Z"
   },
   {
    "duration": 15,
    "start_time": "2022-02-20T17:13:35.815Z"
   },
   {
    "duration": 11,
    "start_time": "2022-02-20T17:13:35.848Z"
   },
   {
    "duration": 8,
    "start_time": "2022-02-20T17:13:35.911Z"
   },
   {
    "duration": 249,
    "start_time": "2022-02-20T17:13:36.308Z"
   },
   {
    "duration": 9,
    "start_time": "2022-02-20T17:13:36.812Z"
   },
   {
    "duration": 16,
    "start_time": "2022-02-20T17:13:36.876Z"
   },
   {
    "duration": 13,
    "start_time": "2022-02-20T17:13:36.940Z"
   },
   {
    "duration": 10,
    "start_time": "2022-02-20T17:13:36.986Z"
   },
   {
    "duration": 11,
    "start_time": "2022-02-20T17:13:37.048Z"
   },
   {
    "duration": 7,
    "start_time": "2022-02-20T17:13:37.115Z"
   },
   {
    "duration": 7,
    "start_time": "2022-02-20T17:13:37.143Z"
   },
   {
    "duration": 11,
    "start_time": "2022-02-20T17:13:37.939Z"
   },
   {
    "duration": 3,
    "start_time": "2022-02-20T17:13:37.969Z"
   },
   {
    "duration": 11,
    "start_time": "2022-02-20T17:13:38.006Z"
   },
   {
    "duration": 10,
    "start_time": "2022-02-20T17:13:38.676Z"
   },
   {
    "duration": 3,
    "start_time": "2022-02-20T17:13:38.973Z"
   },
   {
    "duration": 10,
    "start_time": "2022-02-20T17:13:39.263Z"
   },
   {
    "duration": 11,
    "start_time": "2022-02-20T17:13:39.763Z"
   },
   {
    "duration": 3,
    "start_time": "2022-02-20T17:13:39.955Z"
   },
   {
    "duration": 13,
    "start_time": "2022-02-20T17:13:40.466Z"
   },
   {
    "duration": 27,
    "start_time": "2022-02-20T17:13:40.530Z"
   },
   {
    "duration": 55,
    "start_time": "2022-02-20T17:13:40.563Z"
   },
   {
    "duration": 25,
    "start_time": "2022-02-20T17:13:40.622Z"
   },
   {
    "duration": 7,
    "start_time": "2022-02-20T17:13:40.650Z"
   },
   {
    "duration": 3,
    "start_time": "2022-02-20T17:13:41.987Z"
   },
   {
    "duration": 4,
    "start_time": "2022-02-20T17:13:42.559Z"
   },
   {
    "duration": 5,
    "start_time": "2022-02-20T17:13:42.589Z"
   },
   {
    "duration": 14,
    "start_time": "2022-02-20T17:13:42.621Z"
   },
   {
    "duration": 8,
    "start_time": "2022-02-20T17:13:42.652Z"
   },
   {
    "duration": 11,
    "start_time": "2022-02-20T17:13:42.763Z"
   },
   {
    "duration": 7,
    "start_time": "2022-02-20T17:13:42.795Z"
   },
   {
    "duration": 8,
    "start_time": "2022-02-20T17:13:43.205Z"
   },
   {
    "duration": 5,
    "start_time": "2022-02-20T17:13:44.114Z"
   },
   {
    "duration": 20,
    "start_time": "2022-02-20T17:13:44.374Z"
   },
   {
    "duration": 20,
    "start_time": "2022-02-20T17:13:44.595Z"
   },
   {
    "duration": 36,
    "start_time": "2022-02-20T17:13:44.836Z"
   },
   {
    "duration": 3,
    "start_time": "2022-02-20T17:13:45.666Z"
   },
   {
    "duration": 3,
    "start_time": "2022-02-20T17:13:46.435Z"
   },
   {
    "duration": 3,
    "start_time": "2022-02-20T17:13:47.139Z"
   },
   {
    "duration": 3,
    "start_time": "2022-02-20T17:13:47.172Z"
   },
   {
    "duration": 217,
    "start_time": "2022-02-20T17:13:54.163Z"
   },
   {
    "duration": 5,
    "start_time": "2022-02-20T17:13:54.535Z"
   },
   {
    "duration": 25,
    "start_time": "2022-02-20T17:13:54.755Z"
   },
   {
    "duration": 21,
    "start_time": "2022-02-20T17:13:55.086Z"
   },
   {
    "duration": 36,
    "start_time": "2022-02-20T17:13:55.615Z"
   },
   {
    "duration": 9,
    "start_time": "2022-02-20T17:13:55.677Z"
   },
   {
    "duration": 11,
    "start_time": "2022-02-20T17:13:55.742Z"
   },
   {
    "duration": 6,
    "start_time": "2022-02-20T17:13:55.773Z"
   },
   {
    "duration": 9,
    "start_time": "2022-02-20T17:13:55.858Z"
   },
   {
    "duration": 3,
    "start_time": "2022-02-20T17:13:55.921Z"
   },
   {
    "duration": 4,
    "start_time": "2022-02-20T17:13:55.981Z"
   },
   {
    "duration": 11,
    "start_time": "2022-02-20T17:13:56.078Z"
   },
   {
    "duration": 16,
    "start_time": "2022-02-20T17:13:56.106Z"
   },
   {
    "duration": 11,
    "start_time": "2022-02-20T17:13:56.363Z"
   },
   {
    "duration": 10,
    "start_time": "2022-02-20T17:13:56.882Z"
   },
   {
    "duration": 278,
    "start_time": "2022-02-20T17:13:57.251Z"
   },
   {
    "duration": -864,
    "start_time": "2022-02-20T17:13:58.397Z"
   },
   {
    "duration": 11,
    "start_time": "2022-02-20T17:13:57.972Z"
   },
   {
    "duration": 15,
    "start_time": "2022-02-20T17:13:58.040Z"
   },
   {
    "duration": 8,
    "start_time": "2022-02-20T17:13:58.064Z"
   },
   {
    "duration": 9,
    "start_time": "2022-02-20T17:13:58.128Z"
   },
   {
    "duration": 7,
    "start_time": "2022-02-20T17:13:59.171Z"
   },
   {
    "duration": 8,
    "start_time": "2022-02-20T17:13:59.443Z"
   },
   {
    "duration": 263,
    "start_time": "2022-02-20T17:14:05.038Z"
   },
   {
    "duration": 252,
    "start_time": "2022-02-20T17:14:06.964Z"
   },
   {
    "duration": 264,
    "start_time": "2022-02-20T17:14:27.669Z"
   },
   {
    "duration": 246,
    "start_time": "2022-02-20T17:15:03.540Z"
   },
   {
    "duration": 239,
    "start_time": "2022-02-20T17:15:22.726Z"
   },
   {
    "duration": 255,
    "start_time": "2022-02-20T17:15:26.275Z"
   },
   {
    "duration": 8,
    "start_time": "2022-02-20T17:16:28.458Z"
   },
   {
    "duration": 8,
    "start_time": "2022-02-20T17:16:32.108Z"
   },
   {
    "duration": 7,
    "start_time": "2022-02-20T17:16:37.923Z"
   },
   {
    "duration": 8,
    "start_time": "2022-02-20T17:16:44.207Z"
   },
   {
    "duration": 7,
    "start_time": "2022-02-20T17:16:47.283Z"
   },
   {
    "duration": 8,
    "start_time": "2022-02-20T17:17:03.237Z"
   },
   {
    "duration": 7,
    "start_time": "2022-02-20T17:17:06.066Z"
   },
   {
    "duration": 7,
    "start_time": "2022-02-20T17:20:23.082Z"
   },
   {
    "duration": 7,
    "start_time": "2022-02-20T17:20:35.169Z"
   },
   {
    "duration": 6,
    "start_time": "2022-02-20T17:20:46.258Z"
   },
   {
    "duration": 8,
    "start_time": "2022-02-20T17:20:47.888Z"
   },
   {
    "duration": 9,
    "start_time": "2022-02-20T17:20:48.832Z"
   },
   {
    "duration": 13,
    "start_time": "2022-02-20T17:20:49.360Z"
   },
   {
    "duration": 12,
    "start_time": "2022-02-20T17:20:49.552Z"
   },
   {
    "duration": 9,
    "start_time": "2022-02-20T17:20:50.000Z"
   },
   {
    "duration": 7,
    "start_time": "2022-02-20T17:20:51.346Z"
   },
   {
    "duration": 7,
    "start_time": "2022-02-20T17:20:52.153Z"
   },
   {
    "duration": 10,
    "start_time": "2022-02-20T17:20:53.523Z"
   },
   {
    "duration": 3,
    "start_time": "2022-02-20T17:20:54.304Z"
   },
   {
    "duration": 10,
    "start_time": "2022-02-20T17:20:54.899Z"
   },
   {
    "duration": 10,
    "start_time": "2022-02-20T17:20:56.304Z"
   },
   {
    "duration": 3,
    "start_time": "2022-02-20T17:20:57.760Z"
   },
   {
    "duration": 13,
    "start_time": "2022-02-20T17:20:57.766Z"
   },
   {
    "duration": 12,
    "start_time": "2022-02-20T17:20:57.783Z"
   },
   {
    "duration": 3,
    "start_time": "2022-02-20T17:20:57.808Z"
   },
   {
    "duration": 10,
    "start_time": "2022-02-20T17:20:57.952Z"
   },
   {
    "duration": 25,
    "start_time": "2022-02-20T17:20:58.688Z"
   },
   {
    "duration": 47,
    "start_time": "2022-02-20T17:20:58.970Z"
   },
   {
    "duration": 23,
    "start_time": "2022-02-20T17:20:59.185Z"
   },
   {
    "duration": 6,
    "start_time": "2022-02-20T17:20:59.585Z"
   },
   {
    "duration": 4,
    "start_time": "2022-02-20T17:21:00.481Z"
   },
   {
    "duration": 3,
    "start_time": "2022-02-20T17:21:01.264Z"
   },
   {
    "duration": 6,
    "start_time": "2022-02-20T17:21:01.568Z"
   },
   {
    "duration": 14,
    "start_time": "2022-02-20T17:21:01.920Z"
   },
   {
    "duration": 9,
    "start_time": "2022-02-20T17:21:02.545Z"
   },
   {
    "duration": 12,
    "start_time": "2022-02-20T17:21:04.743Z"
   },
   {
    "duration": 7,
    "start_time": "2022-02-20T17:21:05.457Z"
   },
   {
    "duration": 7,
    "start_time": "2022-02-20T17:21:06.592Z"
   },
   {
    "duration": 4,
    "start_time": "2022-02-20T17:21:10.304Z"
   },
   {
    "duration": 20,
    "start_time": "2022-02-20T17:21:35.746Z"
   },
   {
    "duration": 8,
    "start_time": "2022-02-20T17:21:42.817Z"
   },
   {
    "duration": 5,
    "start_time": "2022-02-20T17:26:50.481Z"
   },
   {
    "duration": 22,
    "start_time": "2022-02-20T17:26:53.077Z"
   },
   {
    "duration": 11,
    "start_time": "2022-02-20T17:27:01.422Z"
   },
   {
    "duration": 13,
    "start_time": "2022-02-20T17:27:23.812Z"
   },
   {
    "duration": 249,
    "start_time": "2022-02-20T17:27:30.494Z"
   },
   {
    "duration": 7,
    "start_time": "2022-02-20T17:27:45.853Z"
   },
   {
    "duration": 6,
    "start_time": "2022-02-20T17:27:48.413Z"
   },
   {
    "duration": 7,
    "start_time": "2022-02-20T17:27:55.904Z"
   },
   {
    "duration": 6,
    "start_time": "2022-02-20T17:27:59.053Z"
   },
   {
    "duration": 3,
    "start_time": "2022-02-20T17:28:50.174Z"
   },
   {
    "duration": 8,
    "start_time": "2022-02-20T18:35:18.939Z"
   },
   {
    "duration": 4,
    "start_time": "2022-02-20T18:35:41.521Z"
   },
   {
    "duration": 4,
    "start_time": "2022-02-20T18:36:20.786Z"
   },
   {
    "duration": 7,
    "start_time": "2022-02-21T02:08:13.674Z"
   },
   {
    "duration": 267,
    "start_time": "2022-02-21T02:08:23.098Z"
   },
   {
    "duration": 48,
    "start_time": "2022-02-21T02:08:48.780Z"
   },
   {
    "duration": 268,
    "start_time": "2022-02-21T02:08:54.557Z"
   },
   {
    "duration": 15,
    "start_time": "2022-02-21T02:08:59.264Z"
   },
   {
    "duration": 15,
    "start_time": "2022-02-21T02:09:33.079Z"
   },
   {
    "duration": 3,
    "start_time": "2022-02-21T02:09:38.504Z"
   },
   {
    "duration": 341,
    "start_time": "2022-02-21T06:28:18.984Z"
   },
   {
    "duration": 331,
    "start_time": "2022-02-21T06:28:28.439Z"
   },
   {
    "duration": 8,
    "start_time": "2022-02-21T06:28:36.453Z"
   },
   {
    "duration": 1156,
    "start_time": "2022-02-21T06:28:47.189Z"
   },
   {
    "duration": 7,
    "start_time": "2022-02-21T06:28:53.477Z"
   },
   {
    "duration": 15,
    "start_time": "2022-02-21T06:29:03.919Z"
   },
   {
    "duration": 14,
    "start_time": "2022-02-21T06:29:07.212Z"
   },
   {
    "duration": 311,
    "start_time": "2022-02-21T06:29:24.726Z"
   },
   {
    "duration": 5,
    "start_time": "2022-02-21T06:29:26.134Z"
   },
   {
    "duration": 24,
    "start_time": "2022-02-21T06:29:26.701Z"
   },
   {
    "duration": 15,
    "start_time": "2022-02-21T06:29:27.540Z"
   },
   {
    "duration": 34,
    "start_time": "2022-02-21T06:29:28.630Z"
   },
   {
    "duration": 11,
    "start_time": "2022-02-21T06:29:30.133Z"
   },
   {
    "duration": 9,
    "start_time": "2022-02-21T06:29:31.077Z"
   },
   {
    "duration": 7,
    "start_time": "2022-02-21T06:29:32.053Z"
   },
   {
    "duration": 10,
    "start_time": "2022-02-21T06:29:33.285Z"
   },
   {
    "duration": 3,
    "start_time": "2022-02-21T06:29:36.806Z"
   },
   {
    "duration": 4,
    "start_time": "2022-02-21T06:29:38.291Z"
   },
   {
    "duration": 10,
    "start_time": "2022-02-21T06:29:39.703Z"
   },
   {
    "duration": 15,
    "start_time": "2022-02-21T06:29:40.373Z"
   },
   {
    "duration": 12,
    "start_time": "2022-02-21T06:29:40.820Z"
   },
   {
    "duration": 8,
    "start_time": "2022-02-21T06:29:42.276Z"
   },
   {
    "duration": 7,
    "start_time": "2022-02-21T06:29:47.125Z"
   },
   {
    "duration": 8,
    "start_time": "2022-02-21T06:30:05.220Z"
   },
   {
    "duration": 6,
    "start_time": "2022-02-21T06:30:17.205Z"
   },
   {
    "duration": 7,
    "start_time": "2022-02-21T06:30:21.573Z"
   },
   {
    "duration": 8,
    "start_time": "2022-02-21T06:30:22.340Z"
   },
   {
    "duration": 11,
    "start_time": "2022-02-21T06:30:26.308Z"
   },
   {
    "duration": 13,
    "start_time": "2022-02-21T06:30:27.494Z"
   },
   {
    "duration": 8,
    "start_time": "2022-02-21T06:30:27.732Z"
   },
   {
    "duration": 10,
    "start_time": "2022-02-21T06:30:28.133Z"
   },
   {
    "duration": 7,
    "start_time": "2022-02-21T06:30:28.822Z"
   },
   {
    "duration": 8,
    "start_time": "2022-02-21T06:30:29.079Z"
   },
   {
    "duration": 10,
    "start_time": "2022-02-21T06:30:29.480Z"
   },
   {
    "duration": 3,
    "start_time": "2022-02-21T06:30:29.685Z"
   },
   {
    "duration": 10,
    "start_time": "2022-02-21T06:30:29.892Z"
   },
   {
    "duration": 12,
    "start_time": "2022-02-21T06:30:30.419Z"
   },
   {
    "duration": 3,
    "start_time": "2022-02-21T06:30:30.629Z"
   },
   {
    "duration": 11,
    "start_time": "2022-02-21T06:30:30.857Z"
   },
   {
    "duration": 10,
    "start_time": "2022-02-21T06:30:31.557Z"
   },
   {
    "duration": 3,
    "start_time": "2022-02-21T06:30:31.749Z"
   },
   {
    "duration": 9,
    "start_time": "2022-02-21T06:30:31.988Z"
   },
   {
    "duration": 26,
    "start_time": "2022-02-21T06:30:32.531Z"
   },
   {
    "duration": 47,
    "start_time": "2022-02-21T06:30:33.861Z"
   },
   {
    "duration": 22,
    "start_time": "2022-02-21T06:30:34.644Z"
   },
   {
    "duration": 6,
    "start_time": "2022-02-21T06:30:35.716Z"
   },
   {
    "duration": 4,
    "start_time": "2022-02-21T06:30:37.363Z"
   },
   {
    "duration": 4,
    "start_time": "2022-02-21T06:30:38.234Z"
   },
   {
    "duration": 5,
    "start_time": "2022-02-21T06:30:38.486Z"
   },
   {
    "duration": 15,
    "start_time": "2022-02-21T06:30:38.854Z"
   },
   {
    "duration": 10,
    "start_time": "2022-02-21T06:30:39.549Z"
   },
   {
    "duration": 11,
    "start_time": "2022-02-21T06:30:41.949Z"
   },
   {
    "duration": 6,
    "start_time": "2022-02-21T06:30:42.603Z"
   },
   {
    "duration": 7,
    "start_time": "2022-02-21T06:30:50.437Z"
   },
   {
    "duration": 4,
    "start_time": "2022-02-21T06:31:04.788Z"
   },
   {
    "duration": 15,
    "start_time": "2022-02-21T06:31:06.694Z"
   },
   {
    "duration": 12,
    "start_time": "2022-02-21T06:31:07.140Z"
   },
   {
    "duration": 9,
    "start_time": "2022-02-21T06:31:07.606Z"
   },
   {
    "duration": 3,
    "start_time": "2022-02-21T06:31:08.316Z"
   },
   {
    "duration": 16,
    "start_time": "2022-02-21T06:31:09.093Z"
   },
   {
    "duration": 379,
    "start_time": "2022-02-21T16:08:27.585Z"
   },
   {
    "duration": 288,
    "start_time": "2022-02-21T16:08:35.816Z"
   },
   {
    "duration": 1220,
    "start_time": "2022-02-21T16:08:41.494Z"
   },
   {
    "duration": 13,
    "start_time": "2022-02-21T16:08:42.717Z"
   },
   {
    "duration": 243,
    "start_time": "2022-02-21T16:08:42.732Z"
   },
   {
    "duration": 205,
    "start_time": "2022-02-21T16:08:42.977Z"
   },
   {
    "duration": 320,
    "start_time": "2022-02-21T16:08:43.185Z"
   },
   {
    "duration": 342,
    "start_time": "2022-02-21T16:08:43.507Z"
   },
   {
    "duration": 344,
    "start_time": "2022-02-21T16:08:43.852Z"
   },
   {
    "duration": 379,
    "start_time": "2022-02-21T16:08:44.198Z"
   },
   {
    "duration": 267,
    "start_time": "2022-02-21T16:08:44.580Z"
   },
   {
    "duration": 349,
    "start_time": "2022-02-21T16:08:44.851Z"
   },
   {
    "duration": 269,
    "start_time": "2022-02-21T16:08:45.203Z"
   },
   {
    "duration": 314,
    "start_time": "2022-02-21T16:08:45.475Z"
   },
   {
    "duration": 299,
    "start_time": "2022-02-21T16:08:45.792Z"
   },
   {
    "duration": 327,
    "start_time": "2022-02-21T16:08:46.093Z"
   },
   {
    "duration": 245,
    "start_time": "2022-02-21T16:08:46.424Z"
   },
   {
    "duration": 277,
    "start_time": "2022-02-21T16:08:46.672Z"
   },
   {
    "duration": 213,
    "start_time": "2022-02-21T16:08:46.952Z"
   },
   {
    "duration": 388,
    "start_time": "2022-02-21T16:08:47.167Z"
   },
   {
    "duration": 244,
    "start_time": "2022-02-21T16:08:47.558Z"
   },
   {
    "duration": 208,
    "start_time": "2022-02-21T16:08:47.805Z"
   },
   {
    "duration": 315,
    "start_time": "2022-02-21T16:08:48.016Z"
   },
   {
    "duration": 297,
    "start_time": "2022-02-21T16:08:48.334Z"
   },
   {
    "duration": 294,
    "start_time": "2022-02-21T16:08:48.633Z"
   },
   {
    "duration": 285,
    "start_time": "2022-02-21T16:08:48.929Z"
   },
   {
    "duration": 239,
    "start_time": "2022-02-21T16:08:49.217Z"
   },
   {
    "duration": 257,
    "start_time": "2022-02-21T16:08:49.458Z"
   },
   {
    "duration": 247,
    "start_time": "2022-02-21T16:08:49.717Z"
   },
   {
    "duration": 297,
    "start_time": "2022-02-21T16:08:49.966Z"
   },
   {
    "duration": 276,
    "start_time": "2022-02-21T16:08:50.265Z"
   },
   {
    "duration": 362,
    "start_time": "2022-02-21T16:08:50.545Z"
   },
   {
    "duration": 286,
    "start_time": "2022-02-21T16:08:50.911Z"
   },
   {
    "duration": 231,
    "start_time": "2022-02-21T16:08:51.200Z"
   },
   {
    "duration": 258,
    "start_time": "2022-02-21T16:08:51.433Z"
   },
   {
    "duration": 274,
    "start_time": "2022-02-21T16:08:51.693Z"
   },
   {
    "duration": 248,
    "start_time": "2022-02-21T16:08:51.970Z"
   },
   {
    "duration": 235,
    "start_time": "2022-02-21T16:08:52.221Z"
   },
   {
    "duration": 242,
    "start_time": "2022-02-21T16:08:52.458Z"
   },
   {
    "duration": 255,
    "start_time": "2022-02-21T16:08:52.703Z"
   },
   {
    "duration": 224,
    "start_time": "2022-02-21T16:08:52.960Z"
   },
   {
    "duration": 220,
    "start_time": "2022-02-21T16:08:53.187Z"
   },
   {
    "duration": 274,
    "start_time": "2022-02-21T16:08:53.413Z"
   },
   {
    "duration": 288,
    "start_time": "2022-02-21T16:08:53.691Z"
   },
   {
    "duration": 273,
    "start_time": "2022-02-21T16:08:53.982Z"
   },
   {
    "duration": 373,
    "start_time": "2022-02-21T16:08:54.258Z"
   },
   {
    "duration": 200,
    "start_time": "2022-02-21T16:08:54.633Z"
   },
   {
    "duration": 388,
    "start_time": "2022-02-21T16:08:54.835Z"
   },
   {
    "duration": 321,
    "start_time": "2022-02-21T16:08:55.226Z"
   },
   {
    "duration": 316,
    "start_time": "2022-02-21T16:08:55.550Z"
   },
   {
    "duration": 316,
    "start_time": "2022-02-21T16:08:55.868Z"
   },
   {
    "duration": 287,
    "start_time": "2022-02-21T16:08:56.187Z"
   },
   {
    "duration": 316,
    "start_time": "2022-02-21T16:08:56.477Z"
   },
   {
    "duration": 312,
    "start_time": "2022-02-21T16:08:56.795Z"
   },
   {
    "duration": 357,
    "start_time": "2022-02-21T16:09:07.703Z"
   },
   {
    "duration": 7,
    "start_time": "2022-02-21T16:09:11.367Z"
   },
   {
    "duration": 306,
    "start_time": "2022-02-21T16:09:20.583Z"
   },
   {
    "duration": 39,
    "start_time": "2022-02-21T16:09:34.174Z"
   },
   {
    "duration": 12,
    "start_time": "2022-02-21T16:09:43.290Z"
   },
   {
    "duration": 10,
    "start_time": "2022-02-21T16:09:55.478Z"
   },
   {
    "duration": 9,
    "start_time": "2022-02-21T16:10:06.873Z"
   },
   {
    "duration": 40,
    "start_time": "2022-02-21T21:03:05.308Z"
   },
   {
    "duration": 10,
    "start_time": "2022-02-21T21:03:09.748Z"
   },
   {
    "duration": 13,
    "start_time": "2022-02-21T21:03:14.633Z"
   },
   {
    "duration": 38,
    "start_time": "2022-02-21T21:03:16.727Z"
   },
   {
    "duration": 9,
    "start_time": "2022-02-21T21:03:19.412Z"
   },
   {
    "duration": 260,
    "start_time": "2022-02-21T21:03:22.981Z"
   },
   {
    "duration": 5,
    "start_time": "2022-02-21T21:03:23.893Z"
   },
   {
    "duration": 24,
    "start_time": "2022-02-21T21:03:24.377Z"
   },
   {
    "duration": 16,
    "start_time": "2022-02-21T21:03:27.764Z"
   },
   {
    "duration": 34,
    "start_time": "2022-02-21T21:03:49.238Z"
   },
   {
    "duration": 10,
    "start_time": "2022-02-21T21:03:52.821Z"
   },
   {
    "duration": 13,
    "start_time": "2022-02-21T21:03:54.388Z"
   },
   {
    "duration": 6,
    "start_time": "2022-02-21T21:03:58.932Z"
   },
   {
    "duration": 10,
    "start_time": "2022-02-21T21:06:12.501Z"
   },
   {
    "duration": 6,
    "start_time": "2022-02-21T21:06:12.803Z"
   },
   {
    "duration": 8,
    "start_time": "2022-02-21T21:06:13.268Z"
   },
   {
    "duration": 3,
    "start_time": "2022-02-21T21:06:15.362Z"
   },
   {
    "duration": 3,
    "start_time": "2022-02-21T21:06:15.842Z"
   },
   {
    "duration": 10,
    "start_time": "2022-02-21T21:06:16.659Z"
   },
   {
    "duration": 13,
    "start_time": "2022-02-21T21:06:16.866Z"
   },
   {
    "duration": 12,
    "start_time": "2022-02-21T21:06:17.053Z"
   },
   {
    "duration": 8,
    "start_time": "2022-02-21T21:06:17.444Z"
   },
   {
    "duration": 7,
    "start_time": "2022-02-21T21:06:18.030Z"
   },
   {
    "duration": 8,
    "start_time": "2022-02-21T21:06:18.212Z"
   },
   {
    "duration": 12,
    "start_time": "2022-02-21T21:06:19.187Z"
   },
   {
    "duration": 14,
    "start_time": "2022-02-21T21:06:20.051Z"
   },
   {
    "duration": 8,
    "start_time": "2022-02-21T21:06:20.899Z"
   },
   {
    "duration": 9,
    "start_time": "2022-02-21T21:06:21.924Z"
   },
   {
    "duration": 7,
    "start_time": "2022-02-21T21:06:22.680Z"
   },
   {
    "duration": 8,
    "start_time": "2022-02-21T21:06:23.012Z"
   },
   {
    "duration": 10,
    "start_time": "2022-02-21T21:06:24.083Z"
   },
   {
    "duration": 3,
    "start_time": "2022-02-21T21:06:24.246Z"
   },
   {
    "duration": 10,
    "start_time": "2022-02-21T21:06:24.484Z"
   },
   {
    "duration": 11,
    "start_time": "2022-02-21T21:06:25.221Z"
   },
   {
    "duration": 3,
    "start_time": "2022-02-21T21:06:25.491Z"
   },
   {
    "duration": 10,
    "start_time": "2022-02-21T21:06:25.891Z"
   },
   {
    "duration": 10,
    "start_time": "2022-02-21T21:06:26.832Z"
   },
   {
    "duration": 265,
    "start_time": "2022-02-21T21:07:33.411Z"
   },
   {
    "duration": 230,
    "start_time": "2022-02-21T21:07:41.667Z"
   },
   {
    "duration": 6,
    "start_time": "2022-02-21T21:07:42.370Z"
   },
   {
    "duration": 27,
    "start_time": "2022-02-21T21:07:42.818Z"
   },
   {
    "duration": 17,
    "start_time": "2022-02-21T21:07:43.538Z"
   },
   {
    "duration": 34,
    "start_time": "2022-02-21T21:07:44.246Z"
   },
   {
    "duration": 10,
    "start_time": "2022-02-21T21:07:44.954Z"
   },
   {
    "duration": 9,
    "start_time": "2022-02-21T21:07:45.645Z"
   },
   {
    "duration": 7,
    "start_time": "2022-02-21T21:07:45.939Z"
   },
   {
    "duration": 10,
    "start_time": "2022-02-21T21:07:46.652Z"
   },
   {
    "duration": 3,
    "start_time": "2022-02-21T21:07:47.490Z"
   },
   {
    "duration": 4,
    "start_time": "2022-02-21T21:07:47.953Z"
   },
   {
    "duration": 11,
    "start_time": "2022-02-21T21:07:48.834Z"
   },
   {
    "duration": 13,
    "start_time": "2022-02-21T21:07:49.250Z"
   },
   {
    "duration": 11,
    "start_time": "2022-02-21T21:07:50.210Z"
   },
   {
    "duration": 8,
    "start_time": "2022-02-21T21:07:51.602Z"
   },
   {
    "duration": 294,
    "start_time": "2022-02-21T21:07:52.899Z"
   },
   {
    "duration": 8,
    "start_time": "2022-02-21T21:08:04.324Z"
   },
   {
    "duration": 9,
    "start_time": "2022-02-21T21:08:08.674Z"
   },
   {
    "duration": 8,
    "start_time": "2022-02-21T21:08:15.606Z"
   },
   {
    "duration": 8,
    "start_time": "2022-02-21T21:08:15.893Z"
   },
   {
    "duration": 11,
    "start_time": "2022-02-21T21:08:16.498Z"
   },
   {
    "duration": 15,
    "start_time": "2022-02-21T21:08:17.319Z"
   },
   {
    "duration": 7,
    "start_time": "2022-02-21T21:08:17.570Z"
   },
   {
    "duration": 9,
    "start_time": "2022-02-21T21:08:18.210Z"
   },
   {
    "duration": 7,
    "start_time": "2022-02-21T21:08:18.867Z"
   },
   {
    "duration": 8,
    "start_time": "2022-02-21T21:08:19.090Z"
   },
   {
    "duration": 9,
    "start_time": "2022-02-21T21:08:19.401Z"
   },
   {
    "duration": 3,
    "start_time": "2022-02-21T21:08:19.507Z"
   },
   {
    "duration": 10,
    "start_time": "2022-02-21T21:08:19.669Z"
   },
   {
    "duration": 10,
    "start_time": "2022-02-21T21:08:20.187Z"
   },
   {
    "duration": 3,
    "start_time": "2022-02-21T21:08:20.435Z"
   },
   {
    "duration": 9,
    "start_time": "2022-02-21T21:08:20.664Z"
   },
   {
    "duration": 10,
    "start_time": "2022-02-21T21:08:21.058Z"
   },
   {
    "duration": 4,
    "start_time": "2022-02-21T21:08:21.252Z"
   },
   {
    "duration": 10,
    "start_time": "2022-02-21T21:08:21.427Z"
   },
   {
    "duration": 26,
    "start_time": "2022-02-21T21:08:21.923Z"
   },
   {
    "duration": 47,
    "start_time": "2022-02-21T21:08:22.158Z"
   },
   {
    "duration": 22,
    "start_time": "2022-02-21T21:08:22.434Z"
   },
   {
    "duration": 5,
    "start_time": "2022-02-21T21:08:22.865Z"
   },
   {
    "duration": 3,
    "start_time": "2022-02-21T21:08:24.403Z"
   },
   {
    "duration": 3,
    "start_time": "2022-02-21T21:08:25.618Z"
   },
   {
    "duration": 5,
    "start_time": "2022-02-21T21:08:25.842Z"
   },
   {
    "duration": 14,
    "start_time": "2022-02-21T21:08:26.050Z"
   },
   {
    "duration": 9,
    "start_time": "2022-02-21T21:08:26.291Z"
   },
   {
    "duration": 10,
    "start_time": "2022-02-21T21:08:27.395Z"
   },
   {
    "duration": 7,
    "start_time": "2022-02-21T21:08:27.652Z"
   },
   {
    "duration": 8,
    "start_time": "2022-02-21T21:08:27.922Z"
   },
   {
    "duration": 4,
    "start_time": "2022-02-21T21:08:28.978Z"
   },
   {
    "duration": 16,
    "start_time": "2022-02-21T21:08:29.442Z"
   },
   {
    "duration": 12,
    "start_time": "2022-02-21T21:08:29.778Z"
   },
   {
    "duration": 7,
    "start_time": "2022-02-21T21:08:30.131Z"
   },
   {
    "duration": 3,
    "start_time": "2022-02-21T21:08:30.787Z"
   },
   {
    "duration": 16,
    "start_time": "2022-02-21T21:08:31.603Z"
   },
   {
    "duration": 11,
    "start_time": "2022-02-21T21:08:33.621Z"
   },
   {
    "duration": 10,
    "start_time": "2022-02-21T21:08:37.395Z"
   },
   {
    "duration": 10,
    "start_time": "2022-02-21T21:10:11.636Z"
   },
   {
    "duration": 13,
    "start_time": "2022-02-21T21:10:12.513Z"
   },
   {
    "duration": 10,
    "start_time": "2022-02-21T21:10:39.124Z"
   },
   {
    "duration": 13,
    "start_time": "2022-02-21T21:11:46.899Z"
   },
   {
    "duration": 12,
    "start_time": "2022-02-21T21:12:07.104Z"
   },
   {
    "duration": 14,
    "start_time": "2022-02-21T21:14:06.513Z"
   },
   {
    "duration": 293,
    "start_time": "2022-02-21T21:14:26.050Z"
   },
   {
    "duration": 275,
    "start_time": "2022-02-21T21:14:31.650Z"
   },
   {
    "duration": 15,
    "start_time": "2022-02-21T21:14:38.145Z"
   },
   {
    "duration": 14,
    "start_time": "2022-02-21T21:14:59.282Z"
   },
   {
    "duration": 13,
    "start_time": "2022-02-21T21:15:06.128Z"
   },
   {
    "duration": 11,
    "start_time": "2022-02-21T21:15:19.891Z"
   },
   {
    "duration": 1297,
    "start_time": "2022-02-21T21:22:42.112Z"
   },
   {
    "duration": 10,
    "start_time": "2022-02-21T21:22:56.445Z"
   },
   {
    "duration": 8,
    "start_time": "2022-02-21T21:26:53.120Z"
   },
   {
    "duration": 7,
    "start_time": "2022-02-21T21:27:02.588Z"
   },
   {
    "duration": 9,
    "start_time": "2022-02-21T21:27:07.184Z"
   },
   {
    "duration": 12,
    "start_time": "2022-02-21T21:27:38.077Z"
   },
   {
    "duration": 14,
    "start_time": "2022-02-21T21:27:47.759Z"
   },
   {
    "duration": 12,
    "start_time": "2022-02-21T21:27:54.811Z"
   },
   {
    "duration": 16,
    "start_time": "2022-02-21T21:28:23.279Z"
   },
   {
    "duration": 15,
    "start_time": "2022-02-21T21:28:31.883Z"
   },
   {
    "duration": 16,
    "start_time": "2022-02-21T21:29:49.132Z"
   },
   {
    "duration": 10,
    "start_time": "2022-02-21T21:30:19.364Z"
   },
   {
    "duration": 5,
    "start_time": "2022-02-21T21:38:52.888Z"
   },
   {
    "duration": 5,
    "start_time": "2022-02-21T21:39:05.990Z"
   },
   {
    "duration": 1695,
    "start_time": "2022-02-21T21:39:48.231Z"
   },
   {
    "duration": 5,
    "start_time": "2022-02-21T21:40:41.591Z"
   },
   {
    "duration": 1539,
    "start_time": "2022-02-21T21:40:43.318Z"
   },
   {
    "duration": 7,
    "start_time": "2022-02-21T21:41:14.924Z"
   },
   {
    "duration": 1340,
    "start_time": "2022-02-21T21:41:16.249Z"
   },
   {
    "duration": 4,
    "start_time": "2022-02-21T21:41:22.649Z"
   },
   {
    "duration": 1383,
    "start_time": "2022-02-21T21:41:25.478Z"
   },
   {
    "duration": 1389,
    "start_time": "2022-02-21T21:42:33.333Z"
   },
   {
    "duration": 1612,
    "start_time": "2022-02-21T21:55:31.910Z"
   },
   {
    "duration": 4,
    "start_time": "2022-02-21T22:02:46.846Z"
   },
   {
    "duration": 4,
    "start_time": "2022-02-21T22:06:20.444Z"
   },
   {
    "duration": 15,
    "start_time": "2022-02-21T22:06:23.019Z"
   },
   {
    "duration": 4,
    "start_time": "2022-02-21T22:06:49.915Z"
   },
   {
    "duration": 90,
    "start_time": "2022-02-21T22:13:38.104Z"
   },
   {
    "duration": 320,
    "start_time": "2022-02-21T22:14:05.146Z"
   },
   {
    "duration": 5,
    "start_time": "2022-02-21T22:14:05.526Z"
   },
   {
    "duration": 23,
    "start_time": "2022-02-21T22:14:06.028Z"
   },
   {
    "duration": 15,
    "start_time": "2022-02-21T22:14:06.104Z"
   },
   {
    "duration": 35,
    "start_time": "2022-02-21T22:14:06.172Z"
   },
   {
    "duration": 9,
    "start_time": "2022-02-21T22:14:06.234Z"
   },
   {
    "duration": 10,
    "start_time": "2022-02-21T22:14:06.294Z"
   },
   {
    "duration": 6,
    "start_time": "2022-02-21T22:14:06.326Z"
   },
   {
    "duration": 9,
    "start_time": "2022-02-21T22:14:06.391Z"
   },
   {
    "duration": 3,
    "start_time": "2022-02-21T22:14:06.470Z"
   },
   {
    "duration": 3,
    "start_time": "2022-02-21T22:14:06.531Z"
   },
   {
    "duration": 10,
    "start_time": "2022-02-21T22:14:06.627Z"
   },
   {
    "duration": 14,
    "start_time": "2022-02-21T22:14:06.660Z"
   },
   {
    "duration": 11,
    "start_time": "2022-02-21T22:14:06.695Z"
   },
   {
    "duration": 8,
    "start_time": "2022-02-21T22:14:06.756Z"
   },
   {
    "duration": 8,
    "start_time": "2022-02-21T22:14:06.837Z"
   },
   {
    "duration": 8,
    "start_time": "2022-02-21T22:14:06.863Z"
   },
   {
    "duration": 12,
    "start_time": "2022-02-21T22:14:06.923Z"
   },
   {
    "duration": 14,
    "start_time": "2022-02-21T22:14:06.988Z"
   },
   {
    "duration": 8,
    "start_time": "2022-02-21T22:14:07.020Z"
   },
   {
    "duration": 8,
    "start_time": "2022-02-21T22:14:07.082Z"
   },
   {
    "duration": 6,
    "start_time": "2022-02-21T22:14:07.161Z"
   },
   {
    "duration": 8,
    "start_time": "2022-02-21T22:14:07.191Z"
   },
   {
    "duration": 10,
    "start_time": "2022-02-21T22:14:07.258Z"
   },
   {
    "duration": 3,
    "start_time": "2022-02-21T22:14:07.280Z"
   },
   {
    "duration": 9,
    "start_time": "2022-02-21T22:14:07.317Z"
   },
   {
    "duration": 9,
    "start_time": "2022-02-21T22:14:07.393Z"
   },
   {
    "duration": 3,
    "start_time": "2022-02-21T22:14:07.423Z"
   },
   {
    "duration": 9,
    "start_time": "2022-02-21T22:14:07.458Z"
   },
   {
    "duration": 10,
    "start_time": "2022-02-21T22:14:07.520Z"
   },
   {
    "duration": 3,
    "start_time": "2022-02-21T22:14:07.553Z"
   },
   {
    "duration": 10,
    "start_time": "2022-02-21T22:14:07.581Z"
   },
   {
    "duration": 46,
    "start_time": "2022-02-21T22:14:07.665Z"
   },
   {
    "duration": 132,
    "start_time": "2022-02-21T22:14:07.715Z"
   },
   {
    "duration": 109,
    "start_time": "2022-02-21T22:14:07.851Z"
   },
   {
    "duration": 6,
    "start_time": "2022-02-21T22:14:07.963Z"
   },
   {
    "duration": 4,
    "start_time": "2022-02-21T22:14:07.972Z"
   },
   {
    "duration": 3,
    "start_time": "2022-02-21T22:14:07.982Z"
   },
   {
    "duration": 6,
    "start_time": "2022-02-21T22:14:08.005Z"
   },
   {
    "duration": 15,
    "start_time": "2022-02-21T22:14:08.037Z"
   },
   {
    "duration": 9,
    "start_time": "2022-02-21T22:14:08.085Z"
   },
   {
    "duration": 11,
    "start_time": "2022-02-21T22:14:08.183Z"
   },
   {
    "duration": 7,
    "start_time": "2022-02-21T22:14:08.206Z"
   },
   {
    "duration": 7,
    "start_time": "2022-02-21T22:14:08.237Z"
   },
   {
    "duration": 4,
    "start_time": "2022-02-21T22:14:09.269Z"
   },
   {
    "duration": 15,
    "start_time": "2022-02-21T22:14:09.779Z"
   },
   {
    "duration": 10,
    "start_time": "2022-02-21T22:14:09.809Z"
   },
   {
    "duration": 8,
    "start_time": "2022-02-21T22:14:09.841Z"
   },
   {
    "duration": 3,
    "start_time": "2022-02-21T22:14:09.906Z"
   },
   {
    "duration": 17,
    "start_time": "2022-02-21T22:14:09.971Z"
   },
   {
    "duration": 15,
    "start_time": "2022-02-21T22:14:10.078Z"
   },
   {
    "duration": 10,
    "start_time": "2022-02-21T22:14:10.109Z"
   },
   {
    "duration": 87,
    "start_time": "2022-02-21T22:14:10.709Z"
   },
   {
    "duration": 14,
    "start_time": "2022-02-21T22:14:10.997Z"
   },
   {
    "duration": 3,
    "start_time": "2022-02-21T22:14:11.300Z"
   },
   {
    "duration": 4,
    "start_time": "2022-02-21T22:24:47.064Z"
   },
   {
    "duration": 4,
    "start_time": "2022-02-21T22:25:04.512Z"
   },
   {
    "duration": 1160,
    "start_time": "2022-02-21T22:25:07.153Z"
   },
   {
    "duration": 4,
    "start_time": "2022-02-21T22:25:12.481Z"
   },
   {
    "duration": 1178,
    "start_time": "2022-02-21T22:25:15.602Z"
   },
   {
    "duration": 1263,
    "start_time": "2022-02-21T22:25:22.770Z"
   },
   {
    "duration": 16,
    "start_time": "2022-02-21T22:25:29.064Z"
   },
   {
    "duration": 4,
    "start_time": "2022-02-21T22:26:16.984Z"
   },
   {
    "duration": 22,
    "start_time": "2022-02-21T22:26:20.527Z"
   },
   {
    "duration": 5,
    "start_time": "2022-02-21T22:26:27.840Z"
   },
   {
    "duration": 17,
    "start_time": "2022-02-21T22:26:31.088Z"
   },
   {
    "duration": 9,
    "start_time": "2022-02-21T22:26:46.066Z"
   },
   {
    "duration": 99,
    "start_time": "2022-02-21T22:26:56.466Z"
   },
   {
    "duration": 5,
    "start_time": "2022-02-21T22:27:00.848Z"
   },
   {
    "duration": 5,
    "start_time": "2022-02-21T22:27:02.672Z"
   },
   {
    "duration": 18,
    "start_time": "2022-02-21T22:27:03.728Z"
   },
   {
    "duration": 6,
    "start_time": "2022-02-21T22:27:19.603Z"
   },
   {
    "duration": 6,
    "start_time": "2022-02-21T22:46:59.755Z"
   },
   {
    "duration": 316,
    "start_time": "2022-02-21T22:47:00.599Z"
   },
   {
    "duration": 218,
    "start_time": "2022-02-21T23:30:33.414Z"
   },
   {
    "duration": 4,
    "start_time": "2022-02-21T23:30:33.972Z"
   },
   {
    "duration": 25,
    "start_time": "2022-02-21T23:30:34.203Z"
   },
   {
    "duration": 15,
    "start_time": "2022-02-21T23:30:34.563Z"
   },
   {
    "duration": 35,
    "start_time": "2022-02-21T23:30:34.932Z"
   },
   {
    "duration": 10,
    "start_time": "2022-02-21T23:30:35.301Z"
   },
   {
    "duration": 11,
    "start_time": "2022-02-21T23:30:35.683Z"
   },
   {
    "duration": 6,
    "start_time": "2022-02-21T23:30:35.875Z"
   },
   {
    "duration": 11,
    "start_time": "2022-02-21T23:30:36.580Z"
   },
   {
    "duration": 3,
    "start_time": "2022-02-21T23:30:36.635Z"
   },
   {
    "duration": 4,
    "start_time": "2022-02-21T23:30:36.700Z"
   },
   {
    "duration": 10,
    "start_time": "2022-02-21T23:30:36.811Z"
   },
   {
    "duration": 13,
    "start_time": "2022-02-21T23:30:36.840Z"
   },
   {
    "duration": 11,
    "start_time": "2022-02-21T23:30:36.887Z"
   },
   {
    "duration": 8,
    "start_time": "2022-02-21T23:30:36.938Z"
   },
   {
    "duration": 9,
    "start_time": "2022-02-21T23:30:37.004Z"
   },
   {
    "duration": 8,
    "start_time": "2022-02-21T23:30:37.035Z"
   },
   {
    "duration": 13,
    "start_time": "2022-02-21T23:30:37.101Z"
   },
   {
    "duration": 13,
    "start_time": "2022-02-21T23:30:37.179Z"
   },
   {
    "duration": 7,
    "start_time": "2022-02-21T23:30:37.208Z"
   },
   {
    "duration": 8,
    "start_time": "2022-02-21T23:30:37.948Z"
   },
   {
    "duration": 6,
    "start_time": "2022-02-21T23:30:38.451Z"
   },
   {
    "duration": 7,
    "start_time": "2022-02-21T23:30:38.716Z"
   },
   {
    "duration": 10,
    "start_time": "2022-02-21T23:30:39.109Z"
   },
   {
    "duration": 3,
    "start_time": "2022-02-21T23:30:39.348Z"
   },
   {
    "duration": 10,
    "start_time": "2022-02-21T23:30:39.556Z"
   },
   {
    "duration": 10,
    "start_time": "2022-02-21T23:30:39.972Z"
   },
   {
    "duration": 3,
    "start_time": "2022-02-21T23:30:40.147Z"
   },
   {
    "duration": 10,
    "start_time": "2022-02-21T23:30:40.323Z"
   },
   {
    "duration": 9,
    "start_time": "2022-02-21T23:30:40.675Z"
   },
   {
    "duration": 3,
    "start_time": "2022-02-21T23:30:40.890Z"
   },
   {
    "duration": 10,
    "start_time": "2022-02-21T23:30:41.075Z"
   },
   {
    "duration": 26,
    "start_time": "2022-02-21T23:30:41.492Z"
   },
   {
    "duration": 48,
    "start_time": "2022-02-21T23:30:41.954Z"
   },
   {
    "duration": 23,
    "start_time": "2022-02-21T23:30:43.157Z"
   },
   {
    "duration": 6,
    "start_time": "2022-02-21T23:30:43.891Z"
   },
   {
    "duration": 4,
    "start_time": "2022-02-21T23:30:44.994Z"
   },
   {
    "duration": 3,
    "start_time": "2022-02-21T23:30:45.781Z"
   },
   {
    "duration": 5,
    "start_time": "2022-02-21T23:30:46.020Z"
   },
   {
    "duration": 15,
    "start_time": "2022-02-21T23:30:46.244Z"
   },
   {
    "duration": 9,
    "start_time": "2022-02-21T23:30:46.500Z"
   },
   {
    "duration": 10,
    "start_time": "2022-02-21T23:30:47.958Z"
   },
   {
    "duration": 6,
    "start_time": "2022-02-21T23:30:48.515Z"
   },
   {
    "duration": 7,
    "start_time": "2022-02-21T23:30:49.027Z"
   },
   {
    "duration": 3,
    "start_time": "2022-02-21T23:30:53.845Z"
   },
   {
    "duration": 239,
    "start_time": "2022-02-21T23:31:56.307Z"
   },
   {
    "duration": 6,
    "start_time": "2022-02-21T23:31:56.850Z"
   },
   {
    "duration": 23,
    "start_time": "2022-02-21T23:31:56.881Z"
   },
   {
    "duration": 17,
    "start_time": "2022-02-21T23:31:56.943Z"
   },
   {
    "duration": 34,
    "start_time": "2022-02-21T23:31:57.008Z"
   },
   {
    "duration": 12,
    "start_time": "2022-02-21T23:31:57.074Z"
   },
   {
    "duration": 11,
    "start_time": "2022-02-21T23:31:57.150Z"
   },
   {
    "duration": 5,
    "start_time": "2022-02-21T23:31:57.189Z"
   },
   {
    "duration": 9,
    "start_time": "2022-02-21T23:31:57.243Z"
   },
   {
    "duration": 3,
    "start_time": "2022-02-21T23:31:57.304Z"
   },
   {
    "duration": 3,
    "start_time": "2022-02-21T23:31:57.393Z"
   },
   {
    "duration": 10,
    "start_time": "2022-02-21T23:31:57.476Z"
   },
   {
    "duration": 16,
    "start_time": "2022-02-21T23:31:57.514Z"
   },
   {
    "duration": 10,
    "start_time": "2022-02-21T23:31:57.543Z"
   },
   {
    "duration": 9,
    "start_time": "2022-02-21T23:31:57.607Z"
   },
   {
    "duration": 7,
    "start_time": "2022-02-21T23:31:57.675Z"
   },
   {
    "duration": 9,
    "start_time": "2022-02-21T23:31:57.698Z"
   },
   {
    "duration": 9,
    "start_time": "2022-02-21T23:31:57.770Z"
   },
   {
    "duration": 13,
    "start_time": "2022-02-21T23:31:58.146Z"
   },
   {
    "duration": 7,
    "start_time": "2022-02-21T23:31:58.338Z"
   },
   {
    "duration": 9,
    "start_time": "2022-02-21T23:31:59.029Z"
   },
   {
    "duration": 6,
    "start_time": "2022-02-21T23:31:59.092Z"
   },
   {
    "duration": 7,
    "start_time": "2022-02-21T23:31:59.124Z"
   },
   {
    "duration": 10,
    "start_time": "2022-02-21T23:31:59.191Z"
   },
   {
    "duration": 2,
    "start_time": "2022-02-21T23:31:59.221Z"
   },
   {
    "duration": 9,
    "start_time": "2022-02-21T23:31:59.259Z"
   },
   {
    "duration": 10,
    "start_time": "2022-02-21T23:31:59.318Z"
   },
   {
    "duration": 2,
    "start_time": "2022-02-21T23:31:59.347Z"
   },
   {
    "duration": 9,
    "start_time": "2022-02-21T23:31:59.381Z"
   },
   {
    "duration": 9,
    "start_time": "2022-02-21T23:31:59.458Z"
   },
   {
    "duration": 2,
    "start_time": "2022-02-21T23:31:59.490Z"
   },
   {
    "duration": 9,
    "start_time": "2022-02-21T23:31:59.527Z"
   },
   {
    "duration": 22,
    "start_time": "2022-02-21T23:31:59.588Z"
   },
   {
    "duration": 51,
    "start_time": "2022-02-21T23:31:59.621Z"
   },
   {
    "duration": 31,
    "start_time": "2022-02-21T23:31:59.675Z"
   },
   {
    "duration": 6,
    "start_time": "2022-02-21T23:31:59.710Z"
   },
   {
    "duration": 3,
    "start_time": "2022-02-21T23:31:59.827Z"
   },
   {
    "duration": 3,
    "start_time": "2022-02-21T23:32:01.187Z"
   },
   {
    "duration": 5,
    "start_time": "2022-02-21T23:32:01.507Z"
   },
   {
    "duration": 13,
    "start_time": "2022-02-21T23:32:01.683Z"
   },
   {
    "duration": 9,
    "start_time": "2022-02-21T23:32:02.227Z"
   },
   {
    "duration": 12,
    "start_time": "2022-02-21T23:32:04.371Z"
   },
   {
    "duration": 6,
    "start_time": "2022-02-21T23:32:04.578Z"
   },
   {
    "duration": 6,
    "start_time": "2022-02-21T23:32:04.818Z"
   },
   {
    "duration": 3,
    "start_time": "2022-02-21T23:32:07.510Z"
   },
   {
    "duration": 4,
    "start_time": "2022-02-21T23:32:31.844Z"
   },
   {
    "duration": 6,
    "start_time": "2022-02-21T23:32:43.539Z"
   },
   {
    "duration": 3,
    "start_time": "2022-02-21T23:33:14.294Z"
   },
   {
    "duration": 269,
    "start_time": "2022-02-21T23:33:16.355Z"
   },
   {
    "duration": 10,
    "start_time": "2022-02-21T23:33:23.831Z"
   },
   {
    "duration": 6,
    "start_time": "2022-02-21T23:33:36.930Z"
   },
   {
    "duration": 8,
    "start_time": "2022-02-21T23:33:38.338Z"
   },
   {
    "duration": 3,
    "start_time": "2022-02-21T23:33:41.345Z"
   },
   {
    "duration": 17,
    "start_time": "2022-02-21T23:33:41.986Z"
   },
   {
    "duration": 15,
    "start_time": "2022-02-21T23:33:46.759Z"
   },
   {
    "duration": 11,
    "start_time": "2022-02-21T23:33:47.654Z"
   },
   {
    "duration": 3,
    "start_time": "2022-02-21T23:34:38.788Z"
   },
   {
    "duration": 6,
    "start_time": "2022-02-21T23:35:02.709Z"
   },
   {
    "duration": 2398,
    "start_time": "2022-02-21T23:35:20.035Z"
   },
   {
    "duration": 10,
    "start_time": "2022-02-21T23:35:52.292Z"
   },
   {
    "duration": 9,
    "start_time": "2022-02-21T23:36:00.627Z"
   },
   {
    "duration": 13,
    "start_time": "2022-02-21T23:46:59.839Z"
   },
   {
    "duration": 3,
    "start_time": "2022-02-21T23:47:29.022Z"
   },
   {
    "duration": 17,
    "start_time": "2022-02-21T23:48:16.350Z"
   },
   {
    "duration": 3,
    "start_time": "2022-02-21T23:48:20.061Z"
   },
   {
    "duration": 221,
    "start_time": "2022-02-21T23:48:24.813Z"
   },
   {
    "duration": 5,
    "start_time": "2022-02-21T23:48:25.217Z"
   },
   {
    "duration": 24,
    "start_time": "2022-02-21T23:48:25.381Z"
   },
   {
    "duration": 16,
    "start_time": "2022-02-21T23:48:25.805Z"
   },
   {
    "duration": 35,
    "start_time": "2022-02-21T23:48:26.345Z"
   },
   {
    "duration": 11,
    "start_time": "2022-02-21T23:48:26.407Z"
   },
   {
    "duration": 12,
    "start_time": "2022-02-21T23:48:26.471Z"
   },
   {
    "duration": 7,
    "start_time": "2022-02-21T23:48:26.504Z"
   },
   {
    "duration": 9,
    "start_time": "2022-02-21T23:48:26.588Z"
   },
   {
    "duration": 3,
    "start_time": "2022-02-21T23:48:26.650Z"
   },
   {
    "duration": 4,
    "start_time": "2022-02-21T23:48:26.711Z"
   },
   {
    "duration": 10,
    "start_time": "2022-02-21T23:48:26.803Z"
   },
   {
    "duration": 15,
    "start_time": "2022-02-21T23:48:26.833Z"
   },
   {
    "duration": 12,
    "start_time": "2022-02-21T23:48:26.871Z"
   },
   {
    "duration": 9,
    "start_time": "2022-02-21T23:48:26.951Z"
   },
   {
    "duration": 7,
    "start_time": "2022-02-21T23:48:27.012Z"
   },
   {
    "duration": 8,
    "start_time": "2022-02-21T23:48:27.045Z"
   },
   {
    "duration": 12,
    "start_time": "2022-02-21T23:48:27.107Z"
   },
   {
    "duration": 14,
    "start_time": "2022-02-21T23:48:27.172Z"
   },
   {
    "duration": 8,
    "start_time": "2022-02-21T23:48:27.197Z"
   },
   {
    "duration": 8,
    "start_time": "2022-02-21T23:48:27.268Z"
   },
   {
    "duration": 6,
    "start_time": "2022-02-21T23:48:27.330Z"
   },
   {
    "duration": 8,
    "start_time": "2022-02-21T23:48:27.376Z"
   },
   {
    "duration": 11,
    "start_time": "2022-02-21T23:48:27.443Z"
   },
   {
    "duration": 3,
    "start_time": "2022-02-21T23:48:27.470Z"
   },
   {
    "duration": 10,
    "start_time": "2022-02-21T23:48:27.503Z"
   },
   {
    "duration": 10,
    "start_time": "2022-02-21T23:48:27.563Z"
   },
   {
    "duration": 3,
    "start_time": "2022-02-21T23:48:27.595Z"
   },
   {
    "duration": 13,
    "start_time": "2022-02-21T23:48:27.633Z"
   },
   {
    "duration": 11,
    "start_time": "2022-02-21T23:48:27.696Z"
   },
   {
    "duration": 3,
    "start_time": "2022-02-21T23:48:27.726Z"
   },
   {
    "duration": 14,
    "start_time": "2022-02-21T23:48:27.781Z"
   },
   {
    "duration": 34,
    "start_time": "2022-02-21T23:48:27.837Z"
   },
   {
    "duration": 51,
    "start_time": "2022-02-21T23:48:27.874Z"
   },
   {
    "duration": 48,
    "start_time": "2022-02-21T23:48:27.928Z"
   },
   {
    "duration": 6,
    "start_time": "2022-02-21T23:48:27.978Z"
   },
   {
    "duration": 4,
    "start_time": "2022-02-21T23:48:29.707Z"
   },
   {
    "duration": 4,
    "start_time": "2022-02-21T23:48:30.860Z"
   },
   {
    "duration": 29,
    "start_time": "2022-02-21T23:48:31.420Z"
   },
   {
    "duration": 15,
    "start_time": "2022-02-21T23:48:32.122Z"
   },
   {
    "duration": 8,
    "start_time": "2022-02-21T23:48:33.371Z"
   },
   {
    "duration": 12,
    "start_time": "2022-02-21T23:48:36.730Z"
   },
   {
    "duration": 5,
    "start_time": "2022-02-21T23:48:37.323Z"
   },
   {
    "duration": 5,
    "start_time": "2022-02-21T23:48:37.627Z"
   },
   {
    "duration": 3,
    "start_time": "2022-02-21T23:48:38.829Z"
   },
   {
    "duration": 8,
    "start_time": "2022-02-21T23:48:39.581Z"
   },
   {
    "duration": 5,
    "start_time": "2022-02-21T23:48:42.475Z"
   },
   {
    "duration": 9,
    "start_time": "2022-02-21T23:48:42.876Z"
   },
   {
    "duration": 3,
    "start_time": "2022-02-21T23:48:43.978Z"
   },
   {
    "duration": 18,
    "start_time": "2022-02-21T23:48:45.182Z"
   },
   {
    "duration": 14,
    "start_time": "2022-02-21T23:48:47.995Z"
   },
   {
    "duration": 11,
    "start_time": "2022-02-21T23:48:53.243Z"
   },
   {
    "duration": 3,
    "start_time": "2022-02-21T23:48:57.379Z"
   },
   {
    "duration": 4,
    "start_time": "2022-02-21T23:49:42.143Z"
   },
   {
    "duration": 4,
    "start_time": "2022-02-21T23:49:51.531Z"
   },
   {
    "duration": 12,
    "start_time": "2022-02-21T23:49:53.530Z"
   },
   {
    "duration": 16,
    "start_time": "2022-02-21T23:51:07.947Z"
   },
   {
    "duration": 12,
    "start_time": "2022-02-21T23:51:27.226Z"
   },
   {
    "duration": 237,
    "start_time": "2022-02-21T23:52:10.953Z"
   },
   {
    "duration": 5,
    "start_time": "2022-02-21T23:52:11.463Z"
   },
   {
    "duration": 24,
    "start_time": "2022-02-21T23:52:11.515Z"
   },
   {
    "duration": 22,
    "start_time": "2022-02-21T23:52:11.575Z"
   },
   {
    "duration": 35,
    "start_time": "2022-02-21T23:52:11.637Z"
   },
   {
    "duration": 11,
    "start_time": "2022-02-21T23:52:11.704Z"
   },
   {
    "duration": 10,
    "start_time": "2022-02-21T23:52:11.766Z"
   },
   {
    "duration": 6,
    "start_time": "2022-02-21T23:52:11.798Z"
   },
   {
    "duration": 9,
    "start_time": "2022-02-21T23:52:11.872Z"
   },
   {
    "duration": 3,
    "start_time": "2022-02-21T23:52:11.938Z"
   },
   {
    "duration": 4,
    "start_time": "2022-02-21T23:52:11.999Z"
   },
   {
    "duration": 10,
    "start_time": "2022-02-21T23:52:12.098Z"
   },
   {
    "duration": 16,
    "start_time": "2022-02-21T23:52:12.122Z"
   },
   {
    "duration": 11,
    "start_time": "2022-02-21T23:52:12.171Z"
   },
   {
    "duration": 8,
    "start_time": "2022-02-21T23:52:12.234Z"
   },
   {
    "duration": 7,
    "start_time": "2022-02-21T23:52:12.301Z"
   },
   {
    "duration": 8,
    "start_time": "2022-02-21T23:52:12.333Z"
   },
   {
    "duration": 12,
    "start_time": "2022-02-21T23:52:12.395Z"
   },
   {
    "duration": 13,
    "start_time": "2022-02-21T23:52:12.461Z"
   },
   {
    "duration": 7,
    "start_time": "2022-02-21T23:52:12.489Z"
   },
   {
    "duration": 9,
    "start_time": "2022-02-21T23:52:13.254Z"
   },
   {
    "duration": 6,
    "start_time": "2022-02-21T23:52:13.318Z"
   },
   {
    "duration": 8,
    "start_time": "2022-02-21T23:52:13.350Z"
   },
   {
    "duration": 12,
    "start_time": "2022-02-21T23:52:13.418Z"
   },
   {
    "duration": 9,
    "start_time": "2022-02-21T23:52:13.448Z"
   },
   {
    "duration": 11,
    "start_time": "2022-02-21T23:52:13.492Z"
   },
   {
    "duration": 11,
    "start_time": "2022-02-21T23:52:13.801Z"
   },
   {
    "duration": 3,
    "start_time": "2022-02-21T23:52:14.043Z"
   },
   {
    "duration": 13,
    "start_time": "2022-02-21T23:52:14.219Z"
   },
   {
    "duration": 10,
    "start_time": "2022-02-21T23:52:14.571Z"
   },
   {
    "duration": 3,
    "start_time": "2022-02-21T23:52:15.066Z"
   },
   {
    "duration": 11,
    "start_time": "2022-02-21T23:52:15.131Z"
   },
   {
    "duration": 34,
    "start_time": "2022-02-21T23:52:15.174Z"
   },
   {
    "duration": 51,
    "start_time": "2022-02-21T23:52:15.211Z"
   },
   {
    "duration": 31,
    "start_time": "2022-02-21T23:52:15.266Z"
   },
   {
    "duration": 6,
    "start_time": "2022-02-21T23:52:15.301Z"
   },
   {
    "duration": 4,
    "start_time": "2022-02-21T23:52:15.393Z"
   },
   {
    "duration": 4,
    "start_time": "2022-02-21T23:52:16.521Z"
   },
   {
    "duration": 19,
    "start_time": "2022-02-21T23:52:16.714Z"
   },
   {
    "duration": 14,
    "start_time": "2022-02-21T23:52:16.874Z"
   },
   {
    "duration": 9,
    "start_time": "2022-02-21T23:52:17.354Z"
   },
   {
    "duration": 11,
    "start_time": "2022-02-21T23:52:18.363Z"
   },
   {
    "duration": 5,
    "start_time": "2022-02-21T23:52:18.554Z"
   },
   {
    "duration": 5,
    "start_time": "2022-02-21T23:52:18.714Z"
   },
   {
    "duration": 3,
    "start_time": "2022-02-21T23:52:19.389Z"
   },
   {
    "duration": 9,
    "start_time": "2022-02-21T23:52:19.659Z"
   },
   {
    "duration": 5,
    "start_time": "2022-02-21T23:52:19.883Z"
   },
   {
    "duration": 9,
    "start_time": "2022-02-21T23:52:20.138Z"
   },
   {
    "duration": 3,
    "start_time": "2022-02-21T23:52:20.650Z"
   },
   {
    "duration": 16,
    "start_time": "2022-02-21T23:52:21.611Z"
   },
   {
    "duration": 19,
    "start_time": "2022-02-21T23:52:23.082Z"
   },
   {
    "duration": 14,
    "start_time": "2022-02-21T23:52:23.683Z"
   },
   {
    "duration": 3,
    "start_time": "2022-02-21T23:52:24.743Z"
   },
   {
    "duration": 12,
    "start_time": "2022-02-21T23:52:25.090Z"
   },
   {
    "duration": 10,
    "start_time": "2022-02-21T23:52:26.622Z"
   },
   {
    "duration": 5,
    "start_time": "2022-02-21T23:52:44.530Z"
   },
   {
    "duration": 8,
    "start_time": "2022-02-21T23:53:34.427Z"
   },
   {
    "duration": 254,
    "start_time": "2022-02-21T23:53:58.075Z"
   },
   {
    "duration": 16,
    "start_time": "2022-02-21T23:54:02.778Z"
   },
   {
    "duration": 11,
    "start_time": "2022-02-21T23:54:33.193Z"
   },
   {
    "duration": 233,
    "start_time": "2022-02-21T23:54:36.523Z"
   },
   {
    "duration": 5,
    "start_time": "2022-02-21T23:54:37.145Z"
   },
   {
    "duration": 24,
    "start_time": "2022-02-21T23:54:37.340Z"
   },
   {
    "duration": 15,
    "start_time": "2022-02-21T23:54:37.697Z"
   },
   {
    "duration": 36,
    "start_time": "2022-02-21T23:54:38.410Z"
   },
   {
    "duration": 12,
    "start_time": "2022-02-21T23:54:38.468Z"
   },
   {
    "duration": 12,
    "start_time": "2022-02-21T23:54:38.531Z"
   },
   {
    "duration": 8,
    "start_time": "2022-02-21T23:54:38.576Z"
   },
   {
    "duration": 9,
    "start_time": "2022-02-21T23:54:39.337Z"
   },
   {
    "duration": 3,
    "start_time": "2022-02-21T23:54:40.122Z"
   },
   {
    "duration": 3,
    "start_time": "2022-02-21T23:54:40.825Z"
   },
   {
    "duration": 11,
    "start_time": "2022-02-21T23:54:41.626Z"
   },
   {
    "duration": 14,
    "start_time": "2022-02-21T23:54:42.248Z"
   },
   {
    "duration": 12,
    "start_time": "2022-02-21T23:54:42.713Z"
   },
   {
    "duration": 11,
    "start_time": "2022-02-21T23:54:43.575Z"
   },
   {
    "duration": 7,
    "start_time": "2022-02-21T23:54:44.490Z"
   },
   {
    "duration": 9,
    "start_time": "2022-02-21T23:54:45.016Z"
   },
   {
    "duration": 11,
    "start_time": "2022-02-21T23:54:47.096Z"
   },
   {
    "duration": 13,
    "start_time": "2022-02-21T23:54:50.088Z"
   },
   {
    "duration": 9,
    "start_time": "2022-02-21T23:54:52.472Z"
   },
   {
    "duration": 12,
    "start_time": "2022-02-21T23:56:11.931Z"
   },
   {
    "duration": 10,
    "start_time": "2022-02-21T23:56:13.482Z"
   },
   {
    "duration": 241,
    "start_time": "2022-02-21T23:57:54.697Z"
   },
   {
    "duration": 5,
    "start_time": "2022-02-21T23:57:56.251Z"
   },
   {
    "duration": 31,
    "start_time": "2022-02-21T23:57:56.259Z"
   },
   {
    "duration": 20,
    "start_time": "2022-02-21T23:57:56.294Z"
   },
   {
    "duration": 60,
    "start_time": "2022-02-21T23:57:56.317Z"
   },
   {
    "duration": 12,
    "start_time": "2022-02-21T23:57:56.380Z"
   },
   {
    "duration": 10,
    "start_time": "2022-02-21T23:57:56.394Z"
   },
   {
    "duration": 6,
    "start_time": "2022-02-21T23:57:56.407Z"
   },
   {
    "duration": 49,
    "start_time": "2022-02-21T23:57:56.417Z"
   },
   {
    "duration": 5,
    "start_time": "2022-02-21T23:57:56.469Z"
   },
   {
    "duration": 3,
    "start_time": "2022-02-21T23:57:56.743Z"
   },
   {
    "duration": 12,
    "start_time": "2022-02-21T23:57:57.494Z"
   },
   {
    "duration": 16,
    "start_time": "2022-02-21T23:57:57.704Z"
   },
   {
    "duration": 11,
    "start_time": "2022-02-21T23:57:58.041Z"
   },
   {
    "duration": 8,
    "start_time": "2022-02-21T23:57:58.497Z"
   },
   {
    "duration": 8,
    "start_time": "2022-02-21T23:57:59.206Z"
   },
   {
    "duration": 8,
    "start_time": "2022-02-21T23:57:59.233Z"
   },
   {
    "duration": 10,
    "start_time": "2022-02-21T23:57:59.303Z"
   },
   {
    "duration": 6,
    "start_time": "2022-02-21T23:57:59.362Z"
   },
   {
    "duration": 8,
    "start_time": "2022-02-21T23:57:59.591Z"
   },
   {
    "duration": 6,
    "start_time": "2022-02-21T23:58:21.322Z"
   },
   {
    "duration": 9,
    "start_time": "2022-02-21T23:58:23.608Z"
   },
   {
    "duration": 11,
    "start_time": "2022-02-21T23:58:26.998Z"
   },
   {
    "duration": 7,
    "start_time": "2022-02-21T23:58:29.383Z"
   },
   {
    "duration": 9,
    "start_time": "2022-02-21T23:58:30.119Z"
   },
   {
    "duration": 10,
    "start_time": "2022-02-21T23:58:31.080Z"
   },
   {
    "duration": 3,
    "start_time": "2022-02-21T23:58:31.927Z"
   },
   {
    "duration": 9,
    "start_time": "2022-02-21T23:58:32.429Z"
   },
   {
    "duration": 13,
    "start_time": "2022-02-21T23:58:32.493Z"
   },
   {
    "duration": 3,
    "start_time": "2022-02-21T23:58:32.524Z"
   },
   {
    "duration": 11,
    "start_time": "2022-02-21T23:58:32.558Z"
   },
   {
    "duration": 9,
    "start_time": "2022-02-21T23:58:32.643Z"
   },
   {
    "duration": 3,
    "start_time": "2022-02-21T23:58:32.669Z"
   },
   {
    "duration": 11,
    "start_time": "2022-02-21T23:58:32.699Z"
   },
   {
    "duration": 26,
    "start_time": "2022-02-21T23:58:32.766Z"
   },
   {
    "duration": 46,
    "start_time": "2022-02-21T23:58:32.795Z"
   },
   {
    "duration": 23,
    "start_time": "2022-02-21T23:58:32.860Z"
   },
   {
    "duration": 5,
    "start_time": "2022-02-21T23:58:32.885Z"
   },
   {
    "duration": 3,
    "start_time": "2022-02-21T23:58:33.007Z"
   },
   {
    "duration": 4,
    "start_time": "2022-02-21T23:58:33.091Z"
   },
   {
    "duration": 16,
    "start_time": "2022-02-21T23:58:33.119Z"
   },
   {
    "duration": 12,
    "start_time": "2022-02-21T23:58:33.155Z"
   },
   {
    "duration": 8,
    "start_time": "2022-02-21T23:58:33.198Z"
   },
   {
    "duration": 10,
    "start_time": "2022-02-21T23:58:33.295Z"
   },
   {
    "duration": 5,
    "start_time": "2022-02-21T23:58:33.323Z"
   },
   {
    "duration": 5,
    "start_time": "2022-02-21T23:58:33.354Z"
   },
   {
    "duration": 3,
    "start_time": "2022-02-21T23:58:34.183Z"
   },
   {
    "duration": 10,
    "start_time": "2022-02-21T23:58:34.696Z"
   },
   {
    "duration": 6,
    "start_time": "2022-02-21T23:58:34.727Z"
   },
   {
    "duration": 11,
    "start_time": "2022-02-21T23:58:34.759Z"
   },
   {
    "duration": 4,
    "start_time": "2022-02-21T23:58:34.823Z"
   },
   {
    "duration": 16,
    "start_time": "2022-02-21T23:58:34.888Z"
   },
   {
    "duration": 14,
    "start_time": "2022-02-21T23:58:34.980Z"
   },
   {
    "duration": 9,
    "start_time": "2022-02-21T23:58:35.011Z"
   },
   {
    "duration": 4,
    "start_time": "2022-02-21T23:58:35.942Z"
   },
   {
    "duration": 11,
    "start_time": "2022-02-21T23:58:36.168Z"
   },
   {
    "duration": 9,
    "start_time": "2022-02-21T23:58:36.669Z"
   },
   {
    "duration": 5,
    "start_time": "2022-02-21T23:58:36.713Z"
   },
   {
    "duration": 6,
    "start_time": "2022-02-21T23:58:36.742Z"
   },
   {
    "duration": 16,
    "start_time": "2022-02-21T23:58:36.806Z"
   },
   {
    "duration": 4,
    "start_time": "2022-02-21T23:58:36.874Z"
   },
   {
    "duration": 3,
    "start_time": "2022-02-21T23:58:36.930Z"
   },
   {
    "duration": 218,
    "start_time": "2022-02-22T00:00:44.681Z"
   },
   {
    "duration": 6,
    "start_time": "2022-02-22T00:00:45.224Z"
   },
   {
    "duration": 23,
    "start_time": "2022-02-22T00:00:45.258Z"
   },
   {
    "duration": 18,
    "start_time": "2022-02-22T00:00:45.319Z"
   },
   {
    "duration": 34,
    "start_time": "2022-02-22T00:00:45.386Z"
   },
   {
    "duration": 10,
    "start_time": "2022-02-22T00:00:45.449Z"
   },
   {
    "duration": 9,
    "start_time": "2022-02-22T00:00:45.511Z"
   },
   {
    "duration": 6,
    "start_time": "2022-02-22T00:00:45.552Z"
   },
   {
    "duration": 10,
    "start_time": "2022-02-22T00:00:45.626Z"
   },
   {
    "duration": 3,
    "start_time": "2022-02-22T00:00:45.688Z"
   },
   {
    "duration": 3,
    "start_time": "2022-02-22T00:00:45.744Z"
   },
   {
    "duration": 11,
    "start_time": "2022-02-22T00:00:45.840Z"
   },
   {
    "duration": 15,
    "start_time": "2022-02-22T00:00:45.885Z"
   },
   {
    "duration": 11,
    "start_time": "2022-02-22T00:00:45.918Z"
   },
   {
    "duration": 8,
    "start_time": "2022-02-22T00:00:46.486Z"
   },
   {
    "duration": 7,
    "start_time": "2022-02-22T00:00:47.028Z"
   },
   {
    "duration": 8,
    "start_time": "2022-02-22T00:00:47.058Z"
   },
   {
    "duration": 12,
    "start_time": "2022-02-22T00:00:47.350Z"
   },
   {
    "duration": 5,
    "start_time": "2022-02-22T00:00:48.214Z"
   },
   {
    "duration": 7,
    "start_time": "2022-02-22T00:00:48.455Z"
   },
   {
    "duration": 9,
    "start_time": "2022-02-22T00:00:49.172Z"
   },
   {
    "duration": 7,
    "start_time": "2022-02-22T00:00:49.893Z"
   },
   {
    "duration": 9,
    "start_time": "2022-02-22T00:00:53.094Z"
   },
   {
    "duration": 12,
    "start_time": "2022-02-22T00:00:55.781Z"
   },
   {
    "duration": 3,
    "start_time": "2022-02-22T00:00:56.870Z"
   },
   {
    "duration": 11,
    "start_time": "2022-02-22T00:00:57.239Z"
   },
   {
    "duration": 11,
    "start_time": "2022-02-22T00:00:58.245Z"
   },
   {
    "duration": 4,
    "start_time": "2022-02-22T00:00:58.517Z"
   },
   {
    "duration": 10,
    "start_time": "2022-02-22T00:00:58.757Z"
   },
   {
    "duration": 11,
    "start_time": "2022-02-22T00:00:59.446Z"
   },
   {
    "duration": 4,
    "start_time": "2022-02-22T00:00:59.798Z"
   },
   {
    "duration": 11,
    "start_time": "2022-02-22T00:01:00.086Z"
   },
   {
    "duration": 26,
    "start_time": "2022-02-22T00:01:00.678Z"
   },
   {
    "duration": 45,
    "start_time": "2022-02-22T00:01:01.718Z"
   },
   {
    "duration": 23,
    "start_time": "2022-02-22T00:01:02.037Z"
   },
   {
    "duration": 6,
    "start_time": "2022-02-22T00:01:03.383Z"
   },
   {
    "duration": 3,
    "start_time": "2022-02-22T00:01:04.759Z"
   },
   {
    "duration": 4,
    "start_time": "2022-02-22T00:01:06.279Z"
   },
   {
    "duration": 16,
    "start_time": "2022-02-22T00:01:06.614Z"
   },
   {
    "duration": 15,
    "start_time": "2022-02-22T00:01:07.173Z"
   },
   {
    "duration": 9,
    "start_time": "2022-02-22T00:01:07.991Z"
   },
   {
    "duration": 11,
    "start_time": "2022-02-22T00:01:09.430Z"
   },
   {
    "duration": 5,
    "start_time": "2022-02-22T00:01:10.310Z"
   },
   {
    "duration": 5,
    "start_time": "2022-02-22T00:01:10.758Z"
   },
   {
    "duration": 3,
    "start_time": "2022-02-22T00:01:12.278Z"
   },
   {
    "duration": 8,
    "start_time": "2022-02-22T00:01:13.174Z"
   },
   {
    "duration": 5,
    "start_time": "2022-02-22T00:01:13.830Z"
   },
   {
    "duration": 11,
    "start_time": "2022-02-22T00:01:14.485Z"
   },
   {
    "duration": 4,
    "start_time": "2022-02-22T00:01:16.106Z"
   },
   {
    "duration": 17,
    "start_time": "2022-02-22T00:01:19.766Z"
   },
   {
    "duration": 15,
    "start_time": "2022-02-22T00:02:00.934Z"
   },
   {
    "duration": 11,
    "start_time": "2022-02-22T00:02:01.638Z"
   },
   {
    "duration": 3,
    "start_time": "2022-02-22T00:02:02.566Z"
   },
   {
    "duration": 615,
    "start_time": "2022-02-22T00:02:02.869Z"
   },
   {
    "duration": 548,
    "start_time": "2022-02-22T00:02:07.510Z"
   },
   {
    "duration": 564,
    "start_time": "2022-02-22T00:02:08.489Z"
   },
   {
    "duration": 12,
    "start_time": "2022-02-22T00:02:33.575Z"
   },
   {
    "duration": 17,
    "start_time": "2022-02-22T00:02:44.117Z"
   },
   {
    "duration": 11,
    "start_time": "2022-02-22T00:02:44.665Z"
   },
   {
    "duration": 4,
    "start_time": "2022-02-22T00:02:45.990Z"
   },
   {
    "duration": 11,
    "start_time": "2022-02-22T00:02:46.613Z"
   },
   {
    "duration": 8,
    "start_time": "2022-02-22T00:03:00.070Z"
   },
   {
    "duration": 11,
    "start_time": "2022-02-22T00:04:30.678Z"
   },
   {
    "duration": 601,
    "start_time": "2022-02-22T00:04:32.966Z"
   },
   {
    "duration": 5,
    "start_time": "2022-02-22T00:04:53.612Z"
   },
   {
    "duration": 597,
    "start_time": "2022-02-22T00:04:56.916Z"
   },
   {
    "duration": 12,
    "start_time": "2022-02-22T00:05:10.742Z"
   },
   {
    "duration": 583,
    "start_time": "2022-02-22T00:05:24.566Z"
   },
   {
    "duration": 9,
    "start_time": "2022-02-22T00:06:14.437Z"
   },
   {
    "duration": 16,
    "start_time": "2022-02-22T00:06:16.857Z"
   },
   {
    "duration": 4,
    "start_time": "2022-02-22T00:06:25.795Z"
   },
   {
    "duration": 11,
    "start_time": "2022-02-22T00:06:26.340Z"
   },
   {
    "duration": 16,
    "start_time": "2022-02-22T00:06:28.675Z"
   },
   {
    "duration": 3,
    "start_time": "2022-02-22T00:07:17.145Z"
   },
   {
    "duration": 947,
    "start_time": "2022-02-22T18:19:37.181Z"
   },
   {
    "duration": 8,
    "start_time": "2022-02-22T18:19:38.129Z"
   },
   {
    "duration": 16,
    "start_time": "2022-02-22T18:19:38.139Z"
   },
   {
    "duration": 8,
    "start_time": "2022-02-22T18:19:38.157Z"
   },
   {
    "duration": 18,
    "start_time": "2022-02-22T18:19:38.166Z"
   },
   {
    "duration": 6,
    "start_time": "2022-02-22T18:19:38.186Z"
   },
   {
    "duration": 6,
    "start_time": "2022-02-22T18:19:38.193Z"
   },
   {
    "duration": 4,
    "start_time": "2022-02-22T18:19:38.201Z"
   },
   {
    "duration": 6,
    "start_time": "2022-02-22T18:19:38.207Z"
   },
   {
    "duration": 2,
    "start_time": "2022-02-22T18:19:38.246Z"
   },
   {
    "duration": 4,
    "start_time": "2022-02-22T18:19:38.250Z"
   },
   {
    "duration": 6,
    "start_time": "2022-02-22T18:19:38.326Z"
   },
   {
    "duration": 9,
    "start_time": "2022-02-22T18:19:38.367Z"
   },
   {
    "duration": 7,
    "start_time": "2022-02-22T18:19:38.394Z"
   },
   {
    "duration": 7,
    "start_time": "2022-02-22T18:19:38.458Z"
   },
   {
    "duration": 7,
    "start_time": "2022-02-22T18:19:38.515Z"
   },
   {
    "duration": 6,
    "start_time": "2022-02-22T18:19:38.568Z"
   },
   {
    "duration": 8,
    "start_time": "2022-02-22T18:19:38.627Z"
   },
   {
    "duration": 4,
    "start_time": "2022-02-22T18:19:38.701Z"
   },
   {
    "duration": 5,
    "start_time": "2022-02-22T18:19:38.725Z"
   },
   {
    "duration": 7,
    "start_time": "2022-02-22T18:19:38.790Z"
   },
   {
    "duration": 5,
    "start_time": "2022-02-22T18:19:38.858Z"
   },
   {
    "duration": 11,
    "start_time": "2022-02-22T18:19:38.890Z"
   },
   {
    "duration": 6,
    "start_time": "2022-02-22T18:19:38.957Z"
   },
   {
    "duration": 2,
    "start_time": "2022-02-22T18:19:38.996Z"
   },
   {
    "duration": 6,
    "start_time": "2022-02-22T18:19:39.022Z"
   },
   {
    "duration": 6,
    "start_time": "2022-02-22T18:19:39.085Z"
   },
   {
    "duration": 2,
    "start_time": "2022-02-22T18:19:39.111Z"
   },
   {
    "duration": 6,
    "start_time": "2022-02-22T18:19:39.155Z"
   },
   {
    "duration": 6,
    "start_time": "2022-02-22T18:19:39.222Z"
   },
   {
    "duration": 2,
    "start_time": "2022-02-22T18:19:39.254Z"
   },
   {
    "duration": 6,
    "start_time": "2022-02-22T18:19:39.292Z"
   },
   {
    "duration": 16,
    "start_time": "2022-02-22T18:19:39.364Z"
   },
   {
    "duration": 26,
    "start_time": "2022-02-22T18:19:39.388Z"
   },
   {
    "duration": 14,
    "start_time": "2022-02-22T18:19:39.416Z"
   },
   {
    "duration": 4,
    "start_time": "2022-02-22T18:19:39.445Z"
   },
   {
    "duration": 3,
    "start_time": "2022-02-22T18:19:39.571Z"
   },
   {
    "duration": 3,
    "start_time": "2022-02-22T18:19:39.691Z"
   },
   {
    "duration": 9,
    "start_time": "2022-02-22T18:19:39.727Z"
   },
   {
    "duration": 9,
    "start_time": "2022-02-22T18:19:39.744Z"
   },
   {
    "duration": 5,
    "start_time": "2022-02-22T18:19:39.777Z"
   },
   {
    "duration": 7,
    "start_time": "2022-02-22T18:19:39.873Z"
   },
   {
    "duration": 2,
    "start_time": "2022-02-22T18:19:39.905Z"
   },
   {
    "duration": 3,
    "start_time": "2022-02-22T18:19:39.940Z"
   },
   {
    "duration": 2,
    "start_time": "2022-02-22T18:19:40.044Z"
   },
   {
    "duration": 5,
    "start_time": "2022-02-22T18:19:40.076Z"
   },
   {
    "duration": 3,
    "start_time": "2022-02-22T18:19:40.116Z"
   },
   {
    "duration": 5,
    "start_time": "2022-02-22T18:19:40.141Z"
   },
   {
    "duration": 2,
    "start_time": "2022-02-22T18:19:40.218Z"
   },
   {
    "duration": 10,
    "start_time": "2022-02-22T18:19:40.270Z"
   },
   {
    "duration": 10,
    "start_time": "2022-02-22T18:19:40.368Z"
   },
   {
    "duration": 6,
    "start_time": "2022-02-22T18:19:40.412Z"
   },
   {
    "duration": 3,
    "start_time": "2022-02-22T18:19:40.479Z"
   },
   {
    "duration": 6,
    "start_time": "2022-02-22T18:19:40.509Z"
   },
   {
    "duration": 510,
    "start_time": "2022-02-22T18:19:40.543Z"
   },
   {
    "duration": -4960,
    "start_time": "2022-02-22T18:19:46.020Z"
   },
   {
    "duration": -4972,
    "start_time": "2022-02-22T18:19:46.033Z"
   },
   {
    "duration": -4973,
    "start_time": "2022-02-22T18:19:46.035Z"
   },
   {
    "duration": -4974,
    "start_time": "2022-02-22T18:19:46.037Z"
   },
   {
    "duration": -4975,
    "start_time": "2022-02-22T18:19:46.039Z"
   },
   {
    "duration": -4992,
    "start_time": "2022-02-22T18:19:46.057Z"
   },
   {
    "duration": -4994,
    "start_time": "2022-02-22T18:19:46.059Z"
   },
   {
    "duration": -4995,
    "start_time": "2022-02-22T18:19:46.061Z"
   },
   {
    "duration": -4996,
    "start_time": "2022-02-22T18:19:46.063Z"
   },
   {
    "duration": 2,
    "start_time": "2022-02-22T18:19:41.076Z"
   },
   {
    "duration": 2,
    "start_time": "2022-02-22T18:19:41.094Z"
   },
   {
    "duration": 2,
    "start_time": "2022-02-22T18:19:41.122Z"
   },
   {
    "duration": 2,
    "start_time": "2022-02-22T18:19:41.234Z"
   },
   {
    "duration": 8,
    "start_time": "2022-02-22T18:20:07.013Z"
   },
   {
    "duration": 14,
    "start_time": "2022-02-22T18:20:08.512Z"
   },
   {
    "duration": 19,
    "start_time": "2022-02-22T18:27:10.875Z"
   },
   {
    "duration": 10,
    "start_time": "2022-02-22T18:27:42.865Z"
   },
   {
    "duration": 386,
    "start_time": "2022-02-22T18:27:53.281Z"
   },
   {
    "duration": 333,
    "start_time": "2022-02-22T18:45:07.395Z"
   },
   {
    "duration": 5,
    "start_time": "2022-02-22T18:45:27.664Z"
   },
   {
    "duration": 7,
    "start_time": "2022-02-22T18:46:16.797Z"
   },
   {
    "duration": 312,
    "start_time": "2022-02-22T18:47:58.677Z"
   },
   {
    "duration": 7,
    "start_time": "2022-02-22T18:48:02.901Z"
   },
   {
    "duration": 7,
    "start_time": "2022-02-22T18:48:33.349Z"
   },
   {
    "duration": 7,
    "start_time": "2022-02-22T18:48:57.941Z"
   },
   {
    "duration": 5,
    "start_time": "2022-02-22T18:50:20.678Z"
   },
   {
    "duration": 5,
    "start_time": "2022-02-22T19:04:49.317Z"
   },
   {
    "duration": 20,
    "start_time": "2022-02-22T19:05:12.205Z"
   },
   {
    "duration": 21,
    "start_time": "2022-02-22T19:05:44.380Z"
   },
   {
    "duration": 21,
    "start_time": "2022-02-22T19:06:40.237Z"
   },
   {
    "duration": 5,
    "start_time": "2022-02-22T19:07:52.588Z"
   },
   {
    "duration": 107,
    "start_time": "2022-02-22T19:08:00.346Z"
   },
   {
    "duration": 20,
    "start_time": "2022-02-22T19:08:04.158Z"
   },
   {
    "duration": 5,
    "start_time": "2022-02-22T19:08:21.579Z"
   },
   {
    "duration": 20,
    "start_time": "2022-02-22T19:08:30.602Z"
   },
   {
    "duration": 5,
    "start_time": "2022-02-22T19:08:36.986Z"
   },
   {
    "duration": 296,
    "start_time": "2022-02-22T19:08:57.480Z"
   },
   {
    "duration": 5,
    "start_time": "2022-02-22T19:09:02.793Z"
   },
   {
    "duration": 6,
    "start_time": "2022-02-22T19:09:37.896Z"
   },
   {
    "duration": 6,
    "start_time": "2022-02-22T19:10:35.288Z"
   },
   {
    "duration": 2,
    "start_time": "2022-02-22T19:10:43.129Z"
   },
   {
    "duration": 2,
    "start_time": "2022-02-22T19:11:15.491Z"
   },
   {
    "duration": 7,
    "start_time": "2022-02-22T19:11:19.574Z"
   },
   {
    "duration": 2,
    "start_time": "2022-02-22T19:11:31.527Z"
   },
   {
    "duration": -264,
    "start_time": "2022-02-22T19:12:13.725Z"
   },
   {
    "duration": 7632,
    "start_time": "2022-02-22T19:12:18.427Z"
   },
   {
    "duration": 6,
    "start_time": "2022-02-22T19:12:44.472Z"
   },
   {
    "duration": 5,
    "start_time": "2022-02-22T19:13:37.992Z"
   },
   {
    "duration": 5,
    "start_time": "2022-02-22T19:15:12.200Z"
   },
   {
    "duration": 21,
    "start_time": "2022-02-22T19:15:26.736Z"
   },
   {
    "duration": 3,
    "start_time": "2022-02-22T19:16:01.720Z"
   },
   {
    "duration": 20,
    "start_time": "2022-02-22T19:16:28.695Z"
   },
   {
    "duration": 9,
    "start_time": "2022-02-22T19:16:54.617Z"
   },
   {
    "duration": 11,
    "start_time": "2022-02-22T19:17:35.431Z"
   },
   {
    "duration": 296,
    "start_time": "2022-02-22T19:18:24.920Z"
   },
   {
    "duration": 4,
    "start_time": "2022-02-22T19:18:25.895Z"
   },
   {
    "duration": 14,
    "start_time": "2022-02-22T19:18:26.538Z"
   },
   {
    "duration": 10,
    "start_time": "2022-02-22T19:18:28.196Z"
   },
   {
    "duration": 19,
    "start_time": "2022-02-22T19:18:28.207Z"
   },
   {
    "duration": 6,
    "start_time": "2022-02-22T19:18:29.367Z"
   },
   {
    "duration": 7,
    "start_time": "2022-02-22T19:18:30.681Z"
   },
   {
    "duration": 4,
    "start_time": "2022-02-22T19:18:33.399Z"
   },
   {
    "duration": 6,
    "start_time": "2022-02-22T19:18:36.295Z"
   },
   {
    "duration": 2,
    "start_time": "2022-02-22T19:18:37.558Z"
   },
   {
    "duration": 3,
    "start_time": "2022-02-22T19:18:38.230Z"
   },
   {
    "duration": 6,
    "start_time": "2022-02-22T19:18:40.663Z"
   },
   {
    "duration": 9,
    "start_time": "2022-02-22T19:18:41.145Z"
   },
   {
    "duration": 7,
    "start_time": "2022-02-22T19:18:41.543Z"
   },
   {
    "duration": 5,
    "start_time": "2022-02-22T19:18:44.822Z"
   },
   {
    "duration": 6,
    "start_time": "2022-02-22T19:19:09.592Z"
   },
   {
    "duration": 5,
    "start_time": "2022-02-22T19:19:10.089Z"
   },
   {
    "duration": 7,
    "start_time": "2022-02-22T19:19:10.149Z"
   },
   {
    "duration": 3,
    "start_time": "2022-02-22T19:19:10.216Z"
   },
   {
    "duration": 4,
    "start_time": "2022-02-22T19:19:10.246Z"
   },
   {
    "duration": 6,
    "start_time": "2022-02-22T19:19:10.313Z"
   },
   {
    "duration": 4,
    "start_time": "2022-02-22T19:19:10.393Z"
   },
   {
    "duration": 5,
    "start_time": "2022-02-22T19:19:10.419Z"
   },
   {
    "duration": 7,
    "start_time": "2022-02-22T19:19:10.488Z"
   },
   {
    "duration": 2,
    "start_time": "2022-02-22T19:19:10.524Z"
   },
   {
    "duration": 6,
    "start_time": "2022-02-22T19:19:10.557Z"
   },
   {
    "duration": 6,
    "start_time": "2022-02-22T19:19:10.613Z"
   },
   {
    "duration": 2,
    "start_time": "2022-02-22T19:19:10.638Z"
   },
   {
    "duration": 7,
    "start_time": "2022-02-22T19:19:10.674Z"
   },
   {
    "duration": 7,
    "start_time": "2022-02-22T19:19:10.761Z"
   },
   {
    "duration": 2,
    "start_time": "2022-02-22T19:19:10.785Z"
   },
   {
    "duration": 6,
    "start_time": "2022-02-22T19:19:10.824Z"
   },
   {
    "duration": 15,
    "start_time": "2022-02-22T19:19:10.872Z"
   },
   {
    "duration": 26,
    "start_time": "2022-02-22T19:19:10.904Z"
   },
   {
    "duration": 13,
    "start_time": "2022-02-22T19:19:10.948Z"
   },
   {
    "duration": 4,
    "start_time": "2022-02-22T19:19:11.255Z"
   },
   {
    "duration": 3,
    "start_time": "2022-02-22T19:19:12.615Z"
   },
   {
    "duration": 2,
    "start_time": "2022-02-22T19:19:12.714Z"
   },
   {
    "duration": 10,
    "start_time": "2022-02-22T19:19:12.742Z"
   },
   {
    "duration": 8,
    "start_time": "2022-02-22T19:19:12.788Z"
   },
   {
    "duration": 6,
    "start_time": "2022-02-22T19:19:12.818Z"
   },
   {
    "duration": 6,
    "start_time": "2022-02-22T19:19:12.918Z"
   },
   {
    "duration": 2,
    "start_time": "2022-02-22T19:19:12.944Z"
   },
   {
    "duration": 3,
    "start_time": "2022-02-22T19:19:12.981Z"
   },
   {
    "duration": 2,
    "start_time": "2022-02-22T19:19:13.527Z"
   },
   {
    "duration": 5,
    "start_time": "2022-02-22T19:19:14.230Z"
   },
   {
    "duration": 3,
    "start_time": "2022-02-22T19:19:14.535Z"
   },
   {
    "duration": 6,
    "start_time": "2022-02-22T19:19:15.037Z"
   },
   {
    "duration": 2,
    "start_time": "2022-02-22T19:19:15.102Z"
   },
   {
    "duration": 10,
    "start_time": "2022-02-22T19:19:15.174Z"
   },
   {
    "duration": 10,
    "start_time": "2022-02-22T19:19:15.280Z"
   },
   {
    "duration": 6,
    "start_time": "2022-02-22T19:19:15.316Z"
   },
   {
    "duration": 2,
    "start_time": "2022-02-22T19:19:15.381Z"
   },
   {
    "duration": 7,
    "start_time": "2022-02-22T19:19:15.411Z"
   },
   {
    "duration": 442,
    "start_time": "2022-02-22T19:19:15.447Z"
   },
   {
    "duration": -7014,
    "start_time": "2022-02-22T19:19:22.911Z"
   },
   {
    "duration": -7015,
    "start_time": "2022-02-22T19:19:22.913Z"
   },
   {
    "duration": 9,
    "start_time": "2022-02-22T19:19:15.913Z"
   },
   {
    "duration": 28,
    "start_time": "2022-02-22T19:19:16.445Z"
   },
   {
    "duration": 11,
    "start_time": "2022-02-22T19:19:16.524Z"
   },
   {
    "duration": 8,
    "start_time": "2022-02-22T19:19:16.592Z"
   },
   {
    "duration": 2,
    "start_time": "2022-02-22T19:19:16.625Z"
   },
   {
    "duration": 15,
    "start_time": "2022-02-22T19:20:01.463Z"
   },
   {
    "duration": 9,
    "start_time": "2022-02-22T19:20:34.695Z"
   },
   {
    "duration": 10,
    "start_time": "2022-02-22T19:20:53.096Z"
   },
   {
    "duration": 12,
    "start_time": "2022-02-22T19:21:03.254Z"
   },
   {
    "duration": 5,
    "start_time": "2022-02-22T19:21:11.429Z"
   },
   {
    "duration": 9,
    "start_time": "2022-02-22T19:21:18.406Z"
   },
   {
    "duration": 10,
    "start_time": "2022-02-22T19:21:22.853Z"
   },
   {
    "duration": 11,
    "start_time": "2022-02-22T19:21:26.374Z"
   },
   {
    "duration": 2,
    "start_time": "2022-02-22T19:21:46.776Z"
   },
   {
    "duration": 7907,
    "start_time": "2022-02-22T19:23:12.775Z"
   },
   {
    "duration": 8246,
    "start_time": "2022-02-22T19:23:21.638Z"
   },
   {
    "duration": 10,
    "start_time": "2022-02-22T19:23:41.527Z"
   },
   {
    "duration": 5,
    "start_time": "2022-02-22T19:29:33.592Z"
   },
   {
    "duration": 95,
    "start_time": "2022-02-22T19:33:37.410Z"
   },
   {
    "duration": 3,
    "start_time": "2022-02-22T19:34:29.043Z"
   },
   {
    "duration": 6,
    "start_time": "2022-02-22T19:36:37.728Z"
   },
   {
    "duration": 8,
    "start_time": "2022-02-22T19:37:30.224Z"
   },
   {
    "duration": 12,
    "start_time": "2022-02-22T19:37:49.453Z"
   },
   {
    "duration": 3,
    "start_time": "2022-02-22T19:38:17.841Z"
   },
   {
    "duration": 12,
    "start_time": "2022-02-22T19:38:19.874Z"
   },
   {
    "duration": 239,
    "start_time": "2022-02-22T19:38:30.720Z"
   },
   {
    "duration": 3,
    "start_time": "2022-02-22T19:38:31.266Z"
   },
   {
    "duration": 14,
    "start_time": "2022-02-22T19:38:31.306Z"
   },
   {
    "duration": 10,
    "start_time": "2022-02-22T19:38:31.361Z"
   },
   {
    "duration": 22,
    "start_time": "2022-02-22T19:38:31.424Z"
   },
   {
    "duration": 7,
    "start_time": "2022-02-22T19:38:31.489Z"
   },
   {
    "duration": 6,
    "start_time": "2022-02-22T19:38:31.554Z"
   },
   {
    "duration": 4,
    "start_time": "2022-02-22T19:38:31.583Z"
   },
   {
    "duration": 6,
    "start_time": "2022-02-22T19:38:31.652Z"
   },
   {
    "duration": 2,
    "start_time": "2022-02-22T19:38:31.729Z"
   },
   {
    "duration": 2,
    "start_time": "2022-02-22T19:38:31.795Z"
   },
   {
    "duration": 6,
    "start_time": "2022-02-22T19:38:31.887Z"
   },
   {
    "duration": 8,
    "start_time": "2022-02-22T19:38:31.920Z"
   },
   {
    "duration": 7,
    "start_time": "2022-02-22T19:38:31.949Z"
   },
   {
    "duration": 6,
    "start_time": "2022-02-22T19:38:32.018Z"
   },
   {
    "duration": 5,
    "start_time": "2022-02-22T19:38:32.077Z"
   },
   {
    "duration": 6,
    "start_time": "2022-02-22T19:38:32.138Z"
   },
   {
    "duration": 7,
    "start_time": "2022-02-22T19:38:32.189Z"
   },
   {
    "duration": 3,
    "start_time": "2022-02-22T19:38:32.251Z"
   },
   {
    "duration": 5,
    "start_time": "2022-02-22T19:38:32.286Z"
   },
   {
    "duration": 6,
    "start_time": "2022-02-22T19:38:32.357Z"
   },
   {
    "duration": 5,
    "start_time": "2022-02-22T19:38:33.142Z"
   },
   {
    "duration": 22,
    "start_time": "2022-02-22T19:38:33.174Z"
   },
   {
    "duration": 6,
    "start_time": "2022-02-22T19:38:33.240Z"
   },
   {
    "duration": 2,
    "start_time": "2022-02-22T19:38:33.274Z"
   },
   {
    "duration": 9,
    "start_time": "2022-02-22T19:38:33.309Z"
   },
   {
    "duration": 8,
    "start_time": "2022-02-22T19:38:33.370Z"
   },
   {
    "duration": 2,
    "start_time": "2022-02-22T19:38:33.418Z"
   },
   {
    "duration": 10,
    "start_time": "2022-02-22T19:38:33.453Z"
   },
   {
    "duration": 6,
    "start_time": "2022-02-22T19:38:33.512Z"
   },
   {
    "duration": 6,
    "start_time": "2022-02-22T19:38:33.542Z"
   },
   {
    "duration": 12,
    "start_time": "2022-02-22T19:38:33.570Z"
   },
   {
    "duration": 15,
    "start_time": "2022-02-22T19:38:33.649Z"
   },
   {
    "duration": 27,
    "start_time": "2022-02-22T19:38:33.672Z"
   },
   {
    "duration": 12,
    "start_time": "2022-02-22T19:38:33.706Z"
   },
   {
    "duration": 6,
    "start_time": "2022-02-22T19:38:33.745Z"
   },
   {
    "duration": 2,
    "start_time": "2022-02-22T19:38:33.878Z"
   },
   {
    "duration": 3,
    "start_time": "2022-02-22T19:38:33.973Z"
   },
   {
    "duration": 10,
    "start_time": "2022-02-22T19:38:34.003Z"
   },
   {
    "duration": 14,
    "start_time": "2022-02-22T19:38:34.040Z"
   },
   {
    "duration": 36,
    "start_time": "2022-02-22T19:38:34.064Z"
   },
   {
    "duration": 7,
    "start_time": "2022-02-22T19:38:34.164Z"
   },
   {
    "duration": 2,
    "start_time": "2022-02-22T19:38:34.199Z"
   },
   {
    "duration": 11,
    "start_time": "2022-02-22T19:38:34.222Z"
   },
   {
    "duration": 3,
    "start_time": "2022-02-22T19:38:34.975Z"
   },
   {
    "duration": 6,
    "start_time": "2022-02-22T19:38:35.470Z"
   },
   {
    "duration": 2,
    "start_time": "2022-02-22T19:38:35.503Z"
   },
   {
    "duration": 19,
    "start_time": "2022-02-22T19:38:35.533Z"
   },
   {
    "duration": 2,
    "start_time": "2022-02-22T19:38:35.598Z"
   },
   {
    "duration": 9,
    "start_time": "2022-02-22T19:38:35.905Z"
   },
   {
    "duration": 9,
    "start_time": "2022-02-22T19:38:36.734Z"
   },
   {
    "duration": 5,
    "start_time": "2022-02-22T19:38:36.766Z"
   },
   {
    "duration": 2,
    "start_time": "2022-02-22T19:38:36.826Z"
   },
   {
    "duration": 6,
    "start_time": "2022-02-22T19:38:36.861Z"
   },
   {
    "duration": 434,
    "start_time": "2022-02-22T19:38:36.893Z"
   },
   {
    "duration": -1945,
    "start_time": "2022-02-22T19:38:39.280Z"
   },
   {
    "duration": -1947,
    "start_time": "2022-02-22T19:38:39.282Z"
   },
   {
    "duration": 10,
    "start_time": "2022-02-22T19:38:37.518Z"
   },
   {
    "duration": 21,
    "start_time": "2022-02-22T19:38:38.820Z"
   },
   {
    "duration": 6,
    "start_time": "2022-02-22T19:38:40.404Z"
   },
   {
    "duration": 3,
    "start_time": "2022-02-22T19:38:42.559Z"
   },
   {
    "duration": 12,
    "start_time": "2022-02-22T19:38:45.503Z"
   },
   {
    "duration": 755,
    "start_time": "2022-02-23T01:33:28.308Z"
   },
   {
    "duration": 10,
    "start_time": "2022-02-23T01:33:29.065Z"
   },
   {
    "duration": 18,
    "start_time": "2022-02-23T01:33:29.077Z"
   },
   {
    "duration": 12,
    "start_time": "2022-02-23T01:33:29.097Z"
   },
   {
    "duration": 29,
    "start_time": "2022-02-23T01:33:29.110Z"
   },
   {
    "duration": 6,
    "start_time": "2022-02-23T01:33:29.141Z"
   },
   {
    "duration": 6,
    "start_time": "2022-02-23T01:33:29.149Z"
   },
   {
    "duration": 4,
    "start_time": "2022-02-23T01:33:29.171Z"
   },
   {
    "duration": 7,
    "start_time": "2022-02-23T01:33:29.231Z"
   },
   {
    "duration": 2,
    "start_time": "2022-02-23T01:33:29.315Z"
   },
   {
    "duration": 3,
    "start_time": "2022-02-23T01:33:29.368Z"
   },
   {
    "duration": 9,
    "start_time": "2022-02-23T01:33:29.471Z"
   },
   {
    "duration": 11,
    "start_time": "2022-02-23T01:33:29.495Z"
   },
   {
    "duration": 8,
    "start_time": "2022-02-23T01:33:29.527Z"
   },
   {
    "duration": 7,
    "start_time": "2022-02-23T01:33:29.618Z"
   },
   {
    "duration": 7,
    "start_time": "2022-02-23T01:33:29.673Z"
   },
   {
    "duration": 6,
    "start_time": "2022-02-23T01:33:29.698Z"
   },
   {
    "duration": 9,
    "start_time": "2022-02-23T01:33:29.790Z"
   },
   {
    "duration": 4,
    "start_time": "2022-02-23T01:33:29.854Z"
   },
   {
    "duration": 6,
    "start_time": "2022-02-23T01:33:29.877Z"
   },
   {
    "duration": 6,
    "start_time": "2022-02-23T01:33:29.934Z"
   },
   {
    "duration": 4,
    "start_time": "2022-02-23T01:33:29.997Z"
   },
   {
    "duration": 6,
    "start_time": "2022-02-23T01:33:30.037Z"
   },
   {
    "duration": 7,
    "start_time": "2022-02-23T01:33:30.095Z"
   },
   {
    "duration": 3,
    "start_time": "2022-02-23T01:33:30.120Z"
   },
   {
    "duration": 7,
    "start_time": "2022-02-23T01:33:30.157Z"
   },
   {
    "duration": 7,
    "start_time": "2022-02-23T01:33:30.245Z"
   },
   {
    "duration": 9,
    "start_time": "2022-02-23T01:33:30.265Z"
   },
   {
    "duration": 37,
    "start_time": "2022-02-23T01:33:30.289Z"
   },
   {
    "duration": 8,
    "start_time": "2022-02-23T01:33:30.363Z"
   },
   {
    "duration": 2,
    "start_time": "2022-02-23T01:33:30.384Z"
   },
   {
    "duration": 9,
    "start_time": "2022-02-23T01:33:30.432Z"
   },
   {
    "duration": 19,
    "start_time": "2022-02-23T01:33:30.493Z"
   },
   {
    "duration": 33,
    "start_time": "2022-02-23T01:33:30.534Z"
   },
   {
    "duration": 19,
    "start_time": "2022-02-23T01:33:30.571Z"
   },
   {
    "duration": 5,
    "start_time": "2022-02-23T01:33:30.592Z"
   },
   {
    "duration": 3,
    "start_time": "2022-02-23T01:33:30.742Z"
   },
   {
    "duration": 3,
    "start_time": "2022-02-23T01:33:31.083Z"
   },
   {
    "duration": 12,
    "start_time": "2022-02-23T01:33:31.582Z"
   },
   {
    "duration": 10,
    "start_time": "2022-02-23T01:33:31.618Z"
   },
   {
    "duration": 7,
    "start_time": "2022-02-23T01:33:31.648Z"
   },
   {
    "duration": 8,
    "start_time": "2022-02-23T01:33:31.748Z"
   },
   {
    "duration": 3,
    "start_time": "2022-02-23T01:33:31.781Z"
   },
   {
    "duration": 4,
    "start_time": "2022-02-23T01:33:31.822Z"
   },
   {
    "duration": 3,
    "start_time": "2022-02-23T01:33:31.924Z"
   },
   {
    "duration": 7,
    "start_time": "2022-02-23T01:33:31.951Z"
   },
   {
    "duration": 3,
    "start_time": "2022-02-23T01:33:31.982Z"
   },
   {
    "duration": 7,
    "start_time": "2022-02-23T01:33:32.014Z"
   },
   {
    "duration": 3,
    "start_time": "2022-02-23T01:33:32.079Z"
   },
   {
    "duration": 11,
    "start_time": "2022-02-23T01:33:32.139Z"
   },
   {
    "duration": 11,
    "start_time": "2022-02-23T01:33:32.241Z"
   },
   {
    "duration": 7,
    "start_time": "2022-02-23T01:33:32.284Z"
   },
   {
    "duration": 2,
    "start_time": "2022-02-23T01:33:32.353Z"
   },
   {
    "duration": 7,
    "start_time": "2022-02-23T01:33:32.652Z"
   },
   {
    "duration": 404,
    "start_time": "2022-02-23T01:33:33.372Z"
   },
   {
    "duration": -6066,
    "start_time": "2022-02-23T01:33:39.851Z"
   },
   {
    "duration": 8,
    "start_time": "2022-02-23T01:33:34.124Z"
   },
   {
    "duration": 12,
    "start_time": "2022-02-23T01:33:34.940Z"
   },
   {
    "duration": 25,
    "start_time": "2022-02-23T01:33:35.006Z"
   },
   {
    "duration": 6,
    "start_time": "2022-02-23T01:33:35.077Z"
   },
   {
    "duration": 4,
    "start_time": "2022-02-23T01:33:35.139Z"
   },
   {
    "duration": 13,
    "start_time": "2022-02-23T01:33:35.179Z"
   },
   {
    "duration": 3,
    "start_time": "2022-02-23T01:33:35.994Z"
   },
   {
    "duration": 3,
    "start_time": "2022-02-23T01:33:36.491Z"
   },
   {
    "duration": 3,
    "start_time": "2022-02-23T01:33:36.556Z"
   },
   {
    "duration": 2,
    "start_time": "2022-02-23T01:33:36.604Z"
   },
   {
    "duration": 2,
    "start_time": "2022-02-23T01:33:36.630Z"
   },
   {
    "duration": 2,
    "start_time": "2022-02-23T01:33:37.098Z"
   },
   {
    "duration": 2,
    "start_time": "2022-02-23T01:33:38.315Z"
   },
   {
    "duration": 5,
    "start_time": "2022-02-23T01:34:07.634Z"
   },
   {
    "duration": 3,
    "start_time": "2022-02-23T01:34:13.740Z"
   },
   {
    "duration": 6,
    "start_time": "2022-02-23T01:35:17.884Z"
   },
   {
    "duration": 2,
    "start_time": "2022-02-23T01:35:33.757Z"
   },
   {
    "duration": 12,
    "start_time": "2022-02-23T01:36:13.099Z"
   },
   {
    "duration": 2,
    "start_time": "2022-02-23T02:37:02.495Z"
   },
   {
    "duration": 5,
    "start_time": "2022-02-23T02:37:11.759Z"
   },
   {
    "duration": 4,
    "start_time": "2022-02-23T02:40:07.167Z"
   },
   {
    "duration": 177,
    "start_time": "2022-02-23T02:40:16.078Z"
   },
   {
    "duration": 3,
    "start_time": "2022-02-23T02:40:16.623Z"
   },
   {
    "duration": 15,
    "start_time": "2022-02-23T02:40:16.662Z"
   },
   {
    "duration": 11,
    "start_time": "2022-02-23T02:40:16.717Z"
   },
   {
    "duration": 21,
    "start_time": "2022-02-23T02:40:16.774Z"
   },
   {
    "duration": 7,
    "start_time": "2022-02-23T02:40:16.853Z"
   },
   {
    "duration": 7,
    "start_time": "2022-02-23T02:40:16.921Z"
   },
   {
    "duration": 4,
    "start_time": "2022-02-23T02:40:16.953Z"
   },
   {
    "duration": 8,
    "start_time": "2022-02-23T02:40:17.014Z"
   },
   {
    "duration": 2,
    "start_time": "2022-02-23T02:40:17.074Z"
   },
   {
    "duration": 2,
    "start_time": "2022-02-23T02:40:17.153Z"
   },
   {
    "duration": 7,
    "start_time": "2022-02-23T02:40:17.247Z"
   },
   {
    "duration": 10,
    "start_time": "2022-02-23T02:40:17.277Z"
   },
   {
    "duration": 9,
    "start_time": "2022-02-23T02:40:17.320Z"
   },
   {
    "duration": 6,
    "start_time": "2022-02-23T02:40:17.381Z"
   },
   {
    "duration": 6,
    "start_time": "2022-02-23T02:40:17.442Z"
   },
   {
    "duration": 5,
    "start_time": "2022-02-23T02:40:17.466Z"
   },
   {
    "duration": 8,
    "start_time": "2022-02-23T02:40:17.545Z"
   },
   {
    "duration": 4,
    "start_time": "2022-02-23T02:40:17.616Z"
   },
   {
    "duration": 5,
    "start_time": "2022-02-23T02:40:17.646Z"
   },
   {
    "duration": 6,
    "start_time": "2022-02-23T02:40:17.885Z"
   },
   {
    "duration": 5,
    "start_time": "2022-02-23T02:40:18.319Z"
   },
   {
    "duration": 6,
    "start_time": "2022-02-23T02:40:18.636Z"
   },
   {
    "duration": 8,
    "start_time": "2022-02-23T02:40:19.197Z"
   },
   {
    "duration": 2,
    "start_time": "2022-02-23T02:40:19.518Z"
   },
   {
    "duration": 8,
    "start_time": "2022-02-23T02:40:19.791Z"
   },
   {
    "duration": 7,
    "start_time": "2022-02-23T02:40:20.311Z"
   },
   {
    "duration": 2,
    "start_time": "2022-02-23T02:40:20.360Z"
   },
   {
    "duration": 7,
    "start_time": "2022-02-23T02:40:20.386Z"
   },
   {
    "duration": 8,
    "start_time": "2022-02-23T02:40:20.450Z"
   },
   {
    "duration": 3,
    "start_time": "2022-02-23T02:40:20.482Z"
   },
   {
    "duration": 8,
    "start_time": "2022-02-23T02:40:20.844Z"
   },
   {
    "duration": 18,
    "start_time": "2022-02-23T02:40:21.356Z"
   },
   {
    "duration": 31,
    "start_time": "2022-02-23T02:40:21.862Z"
   },
   {
    "duration": 15,
    "start_time": "2022-02-23T02:40:21.897Z"
   },
   {
    "duration": 4,
    "start_time": "2022-02-23T02:40:21.943Z"
   },
   {
    "duration": 2,
    "start_time": "2022-02-23T02:40:22.056Z"
   },
   {
    "duration": 3,
    "start_time": "2022-02-23T02:40:23.180Z"
   },
   {
    "duration": 11,
    "start_time": "2022-02-23T02:40:23.468Z"
   },
   {
    "duration": 11,
    "start_time": "2022-02-23T02:40:23.820Z"
   },
   {
    "duration": 7,
    "start_time": "2022-02-23T02:40:24.383Z"
   },
   {
    "duration": 7,
    "start_time": "2022-02-23T02:40:25.548Z"
   },
   {
    "duration": 3,
    "start_time": "2022-02-23T02:40:25.955Z"
   },
   {
    "duration": 4,
    "start_time": "2022-02-23T02:40:26.541Z"
   },
   {
    "duration": 2,
    "start_time": "2022-02-23T02:40:27.613Z"
   },
   {
    "duration": 7,
    "start_time": "2022-02-23T02:40:28.078Z"
   },
   {
    "duration": 4,
    "start_time": "2022-02-23T02:40:28.604Z"
   },
   {
    "duration": 7,
    "start_time": "2022-02-23T02:40:28.972Z"
   },
   {
    "duration": 2,
    "start_time": "2022-02-23T02:40:29.836Z"
   },
   {
    "duration": 12,
    "start_time": "2022-02-23T02:40:31.101Z"
   },
   {
    "duration": 11,
    "start_time": "2022-02-23T02:40:32.486Z"
   },
   {
    "duration": 7,
    "start_time": "2022-02-23T02:40:32.499Z"
   },
   {
    "duration": 3,
    "start_time": "2022-02-23T02:40:32.508Z"
   },
   {
    "duration": 6,
    "start_time": "2022-02-23T02:40:32.606Z"
   },
   {
    "duration": 346,
    "start_time": "2022-02-23T02:40:33.052Z"
   },
   {
    "duration": 2,
    "start_time": "2022-02-23T02:40:33.550Z"
   },
   {
    "duration": 8,
    "start_time": "2022-02-23T02:40:34.351Z"
   },
   {
    "duration": 11,
    "start_time": "2022-02-23T02:40:38.637Z"
   },
   {
    "duration": 24,
    "start_time": "2022-02-23T02:40:39.517Z"
   },
   {
    "duration": 5,
    "start_time": "2022-02-23T02:40:43.294Z"
   },
   {
    "duration": 3,
    "start_time": "2022-02-23T02:40:48.318Z"
   },
   {
    "duration": 41,
    "start_time": "2022-02-23T02:41:49.038Z"
   },
   {
    "duration": 4,
    "start_time": "2022-02-23T02:43:42.699Z"
   },
   {
    "duration": 158,
    "start_time": "2022-02-23T02:43:47.087Z"
   },
   {
    "duration": 3,
    "start_time": "2022-02-23T02:43:47.633Z"
   },
   {
    "duration": 15,
    "start_time": "2022-02-23T02:43:47.664Z"
   },
   {
    "duration": 12,
    "start_time": "2022-02-23T02:43:47.719Z"
   },
   {
    "duration": 22,
    "start_time": "2022-02-23T02:43:47.781Z"
   },
   {
    "duration": 7,
    "start_time": "2022-02-23T02:43:47.855Z"
   },
   {
    "duration": 7,
    "start_time": "2022-02-23T02:43:47.918Z"
   },
   {
    "duration": 4,
    "start_time": "2022-02-23T02:43:47.959Z"
   },
   {
    "duration": 7,
    "start_time": "2022-02-23T02:43:48.032Z"
   },
   {
    "duration": 3,
    "start_time": "2022-02-23T02:43:48.079Z"
   },
   {
    "duration": 2,
    "start_time": "2022-02-23T02:43:48.145Z"
   },
   {
    "duration": 9,
    "start_time": "2022-02-23T02:43:48.247Z"
   },
   {
    "duration": 10,
    "start_time": "2022-02-23T02:43:48.278Z"
   },
   {
    "duration": 8,
    "start_time": "2022-02-23T02:43:48.326Z"
   },
   {
    "duration": 6,
    "start_time": "2022-02-23T02:43:48.374Z"
   },
   {
    "duration": 5,
    "start_time": "2022-02-23T02:43:48.438Z"
   },
   {
    "duration": 6,
    "start_time": "2022-02-23T02:43:48.479Z"
   },
   {
    "duration": 8,
    "start_time": "2022-02-23T02:43:48.541Z"
   },
   {
    "duration": 4,
    "start_time": "2022-02-23T02:43:48.611Z"
   },
   {
    "duration": 6,
    "start_time": "2022-02-23T02:43:48.643Z"
   },
   {
    "duration": 6,
    "start_time": "2022-02-23T02:43:48.709Z"
   },
   {
    "duration": 4,
    "start_time": "2022-02-23T02:43:48.770Z"
   },
   {
    "duration": 5,
    "start_time": "2022-02-23T02:43:48.807Z"
   },
   {
    "duration": 8,
    "start_time": "2022-02-23T02:43:48.872Z"
   },
   {
    "duration": 3,
    "start_time": "2022-02-23T02:43:48.894Z"
   },
   {
    "duration": 8,
    "start_time": "2022-02-23T02:43:48.953Z"
   },
   {
    "duration": 8,
    "start_time": "2022-02-23T02:43:49.003Z"
   },
   {
    "duration": 2,
    "start_time": "2022-02-23T02:43:49.040Z"
   },
   {
    "duration": 7,
    "start_time": "2022-02-23T02:43:49.067Z"
   },
   {
    "duration": 8,
    "start_time": "2022-02-23T02:43:49.128Z"
   },
   {
    "duration": 2,
    "start_time": "2022-02-23T02:43:49.169Z"
   },
   {
    "duration": 8,
    "start_time": "2022-02-23T02:43:49.196Z"
   },
   {
    "duration": 18,
    "start_time": "2022-02-23T02:43:49.256Z"
   },
   {
    "duration": 32,
    "start_time": "2022-02-23T02:43:49.304Z"
   },
   {
    "duration": 16,
    "start_time": "2022-02-23T02:43:49.344Z"
   },
   {
    "duration": 4,
    "start_time": "2022-02-23T02:43:49.366Z"
   },
   {
    "duration": 2,
    "start_time": "2022-02-23T02:43:49.496Z"
   },
   {
    "duration": 2,
    "start_time": "2022-02-23T02:43:49.597Z"
   },
   {
    "duration": 11,
    "start_time": "2022-02-23T02:43:49.630Z"
   },
   {
    "duration": 10,
    "start_time": "2022-02-23T02:43:49.667Z"
   },
   {
    "duration": 7,
    "start_time": "2022-02-23T02:43:49.708Z"
   },
   {
    "duration": 7,
    "start_time": "2022-02-23T02:43:49.797Z"
   },
   {
    "duration": 4,
    "start_time": "2022-02-23T02:43:49.832Z"
   },
   {
    "duration": 4,
    "start_time": "2022-02-23T02:43:49.873Z"
   },
   {
    "duration": 2,
    "start_time": "2022-02-23T02:43:49.953Z"
   },
   {
    "duration": 7,
    "start_time": "2022-02-23T02:43:49.994Z"
   },
   {
    "duration": 4,
    "start_time": "2022-02-23T02:43:50.018Z"
   },
   {
    "duration": 6,
    "start_time": "2022-02-23T02:43:50.051Z"
   },
   {
    "duration": 2,
    "start_time": "2022-02-23T02:43:50.114Z"
   },
   {
    "duration": 11,
    "start_time": "2022-02-23T02:43:50.197Z"
   },
   {
    "duration": 13,
    "start_time": "2022-02-23T02:43:50.510Z"
   },
   {
    "duration": 8,
    "start_time": "2022-02-23T02:43:50.711Z"
   },
   {
    "duration": 3,
    "start_time": "2022-02-23T02:43:51.243Z"
   },
   {
    "duration": 7,
    "start_time": "2022-02-23T02:43:51.272Z"
   },
   {
    "duration": 343,
    "start_time": "2022-02-23T02:43:51.308Z"
   },
   {
    "duration": -1607,
    "start_time": "2022-02-23T02:43:53.267Z"
   },
   {
    "duration": -1608,
    "start_time": "2022-02-23T02:43:53.269Z"
   },
   {
    "duration": -1609,
    "start_time": "2022-02-23T02:43:53.271Z"
   },
   {
    "duration": -1610,
    "start_time": "2022-02-23T02:43:53.273Z"
   },
   {
    "duration": -1611,
    "start_time": "2022-02-23T02:43:53.275Z"
   },
   {
    "duration": 4,
    "start_time": "2022-02-23T02:43:52.784Z"
   },
   {
    "duration": 883,
    "start_time": "2022-02-23T02:43:54.878Z"
   },
   {
    "duration": 4,
    "start_time": "2022-02-23T02:44:07.684Z"
   },
   {
    "duration": 37,
    "start_time": "2022-02-23T02:44:08.412Z"
   },
   {
    "duration": 3,
    "start_time": "2022-02-23T02:45:03.611Z"
   },
   {
    "duration": 160,
    "start_time": "2022-02-23T02:45:10.267Z"
   },
   {
    "duration": 3,
    "start_time": "2022-02-23T02:45:10.429Z"
   },
   {
    "duration": 17,
    "start_time": "2022-02-23T02:45:10.434Z"
   },
   {
    "duration": 11,
    "start_time": "2022-02-23T02:45:10.453Z"
   },
   {
    "duration": 22,
    "start_time": "2022-02-23T02:45:10.496Z"
   },
   {
    "duration": 7,
    "start_time": "2022-02-23T02:45:10.565Z"
   },
   {
    "duration": 8,
    "start_time": "2022-02-23T02:45:10.631Z"
   },
   {
    "duration": 4,
    "start_time": "2022-02-23T02:45:10.658Z"
   },
   {
    "duration": 6,
    "start_time": "2022-02-23T02:45:10.726Z"
   },
   {
    "duration": 2,
    "start_time": "2022-02-23T02:45:10.784Z"
   },
   {
    "duration": 3,
    "start_time": "2022-02-23T02:45:10.861Z"
   },
   {
    "duration": 8,
    "start_time": "2022-02-23T02:45:10.957Z"
   },
   {
    "duration": 10,
    "start_time": "2022-02-23T02:45:10.998Z"
   },
   {
    "duration": 9,
    "start_time": "2022-02-23T02:45:11.023Z"
   },
   {
    "duration": 6,
    "start_time": "2022-02-23T02:45:11.083Z"
   },
   {
    "duration": 6,
    "start_time": "2022-02-23T02:45:11.174Z"
   },
   {
    "duration": 6,
    "start_time": "2022-02-23T02:45:11.195Z"
   },
   {
    "duration": 8,
    "start_time": "2022-02-23T02:45:11.255Z"
   },
   {
    "duration": 3,
    "start_time": "2022-02-23T02:45:11.324Z"
   },
   {
    "duration": 5,
    "start_time": "2022-02-23T02:45:11.350Z"
   },
   {
    "duration": 6,
    "start_time": "2022-02-23T02:45:11.419Z"
   },
   {
    "duration": 4,
    "start_time": "2022-02-23T02:45:11.483Z"
   },
   {
    "duration": 5,
    "start_time": "2022-02-23T02:45:11.528Z"
   },
   {
    "duration": 7,
    "start_time": "2022-02-23T02:45:11.600Z"
   },
   {
    "duration": 2,
    "start_time": "2022-02-23T02:45:11.619Z"
   },
   {
    "duration": 6,
    "start_time": "2022-02-23T02:45:11.658Z"
   },
   {
    "duration": 8,
    "start_time": "2022-02-23T02:45:11.713Z"
   },
   {
    "duration": 2,
    "start_time": "2022-02-23T02:45:11.759Z"
   },
   {
    "duration": 7,
    "start_time": "2022-02-23T02:45:11.783Z"
   },
   {
    "duration": 8,
    "start_time": "2022-02-23T02:45:11.839Z"
   },
   {
    "duration": 2,
    "start_time": "2022-02-23T02:45:11.890Z"
   },
   {
    "duration": 8,
    "start_time": "2022-02-23T02:45:11.927Z"
   },
   {
    "duration": 17,
    "start_time": "2022-02-23T02:45:11.987Z"
   },
   {
    "duration": 29,
    "start_time": "2022-02-23T02:45:12.016Z"
   },
   {
    "duration": 15,
    "start_time": "2022-02-23T02:45:12.047Z"
   },
   {
    "duration": 4,
    "start_time": "2022-02-23T02:45:12.074Z"
   },
   {
    "duration": 2,
    "start_time": "2022-02-23T02:45:12.218Z"
   },
   {
    "duration": 3,
    "start_time": "2022-02-23T02:45:12.312Z"
   },
   {
    "duration": 12,
    "start_time": "2022-02-23T02:45:12.342Z"
   },
   {
    "duration": 9,
    "start_time": "2022-02-23T02:45:12.376Z"
   },
   {
    "duration": 6,
    "start_time": "2022-02-23T02:45:12.409Z"
   },
   {
    "duration": 7,
    "start_time": "2022-02-23T02:45:12.503Z"
   },
   {
    "duration": 3,
    "start_time": "2022-02-23T02:45:12.556Z"
   },
   {
    "duration": 3,
    "start_time": "2022-02-23T02:45:12.581Z"
   },
   {
    "duration": 2,
    "start_time": "2022-02-23T02:45:12.677Z"
   },
   {
    "duration": 6,
    "start_time": "2022-02-23T02:45:12.710Z"
   },
   {
    "duration": 3,
    "start_time": "2022-02-23T02:45:12.744Z"
   },
   {
    "duration": 7,
    "start_time": "2022-02-23T02:45:12.768Z"
   },
   {
    "duration": 2,
    "start_time": "2022-02-23T02:45:12.833Z"
   },
   {
    "duration": 11,
    "start_time": "2022-02-23T02:45:12.915Z"
   },
   {
    "duration": 11,
    "start_time": "2022-02-23T02:45:13.012Z"
   },
   {
    "duration": 7,
    "start_time": "2022-02-23T02:45:13.037Z"
   },
   {
    "duration": 2,
    "start_time": "2022-02-23T02:45:13.100Z"
   },
   {
    "duration": 8,
    "start_time": "2022-02-23T02:45:13.134Z"
   },
   {
    "duration": 345,
    "start_time": "2022-02-23T02:45:13.171Z"
   },
   {
    "duration": -1435,
    "start_time": "2022-02-23T02:45:14.961Z"
   },
   {
    "duration": -1437,
    "start_time": "2022-02-23T02:45:14.964Z"
   },
   {
    "duration": -1439,
    "start_time": "2022-02-23T02:45:14.967Z"
   },
   {
    "duration": -1440,
    "start_time": "2022-02-23T02:45:14.969Z"
   },
   {
    "duration": -1442,
    "start_time": "2022-02-23T02:45:14.972Z"
   },
   {
    "duration": -1443,
    "start_time": "2022-02-23T02:45:14.974Z"
   },
   {
    "duration": 78,
    "start_time": "2022-02-23T02:45:13.542Z"
   },
   {
    "duration": 2,
    "start_time": "2022-02-23T02:45:13.622Z"
   },
   {
    "duration": 2,
    "start_time": "2022-02-23T02:45:13.635Z"
   },
   {
    "duration": 3,
    "start_time": "2022-02-23T02:45:13.702Z"
   },
   {
    "duration": 2,
    "start_time": "2022-02-23T02:45:13.731Z"
   },
   {
    "duration": 2,
    "start_time": "2022-02-23T02:45:13.763Z"
   },
   {
    "duration": 3,
    "start_time": "2022-02-23T02:45:13.860Z"
   },
   {
    "duration": 2,
    "start_time": "2022-02-23T02:45:13.959Z"
   },
   {
    "duration": 152,
    "start_time": "2022-02-23T02:53:44.650Z"
   },
   {
    "duration": 4,
    "start_time": "2022-02-23T02:53:45.173Z"
   },
   {
    "duration": 14,
    "start_time": "2022-02-23T02:53:45.233Z"
   },
   {
    "duration": 11,
    "start_time": "2022-02-23T02:53:45.282Z"
   },
   {
    "duration": 22,
    "start_time": "2022-02-23T02:53:45.348Z"
   },
   {
    "duration": 7,
    "start_time": "2022-02-23T02:53:45.412Z"
   },
   {
    "duration": 8,
    "start_time": "2022-02-23T02:53:45.472Z"
   },
   {
    "duration": 4,
    "start_time": "2022-02-23T02:53:45.512Z"
   },
   {
    "duration": 7,
    "start_time": "2022-02-23T02:53:45.572Z"
   },
   {
    "duration": 3,
    "start_time": "2022-02-23T02:53:45.647Z"
   },
   {
    "duration": 2,
    "start_time": "2022-02-23T02:53:45.715Z"
   },
   {
    "duration": 8,
    "start_time": "2022-02-23T02:53:45.803Z"
   },
   {
    "duration": 11,
    "start_time": "2022-02-23T02:53:45.841Z"
   },
   {
    "duration": 8,
    "start_time": "2022-02-23T02:53:45.872Z"
   },
   {
    "duration": 6,
    "start_time": "2022-02-23T02:53:45.946Z"
   },
   {
    "duration": 7,
    "start_time": "2022-02-23T02:53:46.010Z"
   },
   {
    "duration": 6,
    "start_time": "2022-02-23T02:53:46.040Z"
   },
   {
    "duration": 8,
    "start_time": "2022-02-23T02:53:46.106Z"
   },
   {
    "duration": 4,
    "start_time": "2022-02-23T02:53:46.174Z"
   },
   {
    "duration": 5,
    "start_time": "2022-02-23T02:53:46.196Z"
   },
   {
    "duration": 7,
    "start_time": "2022-02-23T02:53:46.259Z"
   },
   {
    "duration": 5,
    "start_time": "2022-02-23T02:53:46.352Z"
   },
   {
    "duration": 4,
    "start_time": "2022-02-23T02:53:46.369Z"
   },
   {
    "duration": 7,
    "start_time": "2022-02-23T02:53:46.435Z"
   },
   {
    "duration": 2,
    "start_time": "2022-02-23T02:53:46.466Z"
   },
   {
    "duration": 6,
    "start_time": "2022-02-23T02:53:46.499Z"
   },
   {
    "duration": 6,
    "start_time": "2022-02-23T02:53:46.560Z"
   },
   {
    "duration": 2,
    "start_time": "2022-02-23T02:53:46.591Z"
   },
   {
    "duration": 7,
    "start_time": "2022-02-23T02:53:46.628Z"
   },
   {
    "duration": 7,
    "start_time": "2022-02-23T02:53:46.692Z"
   },
   {
    "duration": 3,
    "start_time": "2022-02-23T02:53:46.732Z"
   },
   {
    "duration": 6,
    "start_time": "2022-02-23T02:53:46.773Z"
   },
   {
    "duration": 17,
    "start_time": "2022-02-23T02:53:46.827Z"
   },
   {
    "duration": 30,
    "start_time": "2022-02-23T02:53:46.872Z"
   },
   {
    "duration": 15,
    "start_time": "2022-02-23T02:53:47.222Z"
   },
   {
    "duration": 3,
    "start_time": "2022-02-23T02:53:48.343Z"
   },
   {
    "duration": 2,
    "start_time": "2022-02-23T02:53:49.116Z"
   },
   {
    "duration": 2,
    "start_time": "2022-02-23T02:53:49.205Z"
   },
   {
    "duration": 10,
    "start_time": "2022-02-23T02:53:49.248Z"
   },
   {
    "duration": 10,
    "start_time": "2022-02-23T02:53:49.281Z"
   },
   {
    "duration": 6,
    "start_time": "2022-02-23T02:53:49.319Z"
   },
   {
    "duration": 8,
    "start_time": "2022-02-23T02:53:49.414Z"
   },
   {
    "duration": 3,
    "start_time": "2022-02-23T02:53:49.446Z"
   },
   {
    "duration": 4,
    "start_time": "2022-02-23T02:53:49.474Z"
   },
   {
    "duration": 2,
    "start_time": "2022-02-23T02:53:49.579Z"
   },
   {
    "duration": 6,
    "start_time": "2022-02-23T02:53:49.602Z"
   },
   {
    "duration": 4,
    "start_time": "2022-02-23T02:53:49.642Z"
   },
   {
    "duration": 7,
    "start_time": "2022-02-23T02:53:49.677Z"
   },
   {
    "duration": 3,
    "start_time": "2022-02-23T02:53:49.742Z"
   },
   {
    "duration": 11,
    "start_time": "2022-02-23T02:53:49.801Z"
   },
   {
    "duration": 11,
    "start_time": "2022-02-23T02:53:49.908Z"
   },
   {
    "duration": 7,
    "start_time": "2022-02-23T02:53:49.927Z"
   },
   {
    "duration": 2,
    "start_time": "2022-02-23T02:53:50.006Z"
   },
   {
    "duration": 8,
    "start_time": "2022-02-23T02:53:50.040Z"
   },
   {
    "duration": 335,
    "start_time": "2022-02-23T02:53:50.080Z"
   },
   {
    "duration": -1531,
    "start_time": "2022-02-23T02:53:51.955Z"
   },
   {
    "duration": -1533,
    "start_time": "2022-02-23T02:53:51.958Z"
   },
   {
    "duration": -1533,
    "start_time": "2022-02-23T02:53:51.959Z"
   },
   {
    "duration": -1534,
    "start_time": "2022-02-23T02:53:51.961Z"
   },
   {
    "duration": -1536,
    "start_time": "2022-02-23T02:53:51.963Z"
   },
   {
    "duration": -1537,
    "start_time": "2022-02-23T02:53:51.965Z"
   },
   {
    "duration": 24,
    "start_time": "2022-02-23T02:53:50.442Z"
   },
   {
    "duration": 2,
    "start_time": "2022-02-23T02:53:50.502Z"
   },
   {
    "duration": 2,
    "start_time": "2022-02-23T02:53:50.533Z"
   },
   {
    "duration": 2,
    "start_time": "2022-02-23T02:53:50.599Z"
   },
   {
    "duration": 2,
    "start_time": "2022-02-23T02:53:50.624Z"
   },
   {
    "duration": 3,
    "start_time": "2022-02-23T02:53:50.656Z"
   },
   {
    "duration": 3,
    "start_time": "2022-02-23T02:53:50.759Z"
   },
   {
    "duration": 2,
    "start_time": "2022-02-23T02:53:50.868Z"
   },
   {
    "duration": 153,
    "start_time": "2022-02-23T02:55:13.143Z"
   },
   {
    "duration": 4,
    "start_time": "2022-02-23T02:55:13.677Z"
   },
   {
    "duration": 16,
    "start_time": "2022-02-23T02:55:13.710Z"
   },
   {
    "duration": 12,
    "start_time": "2022-02-23T02:55:13.772Z"
   },
   {
    "duration": 23,
    "start_time": "2022-02-23T02:55:13.858Z"
   },
   {
    "duration": 8,
    "start_time": "2022-02-23T02:55:13.914Z"
   },
   {
    "duration": 7,
    "start_time": "2022-02-23T02:55:13.980Z"
   },
   {
    "duration": 5,
    "start_time": "2022-02-23T02:55:14.012Z"
   },
   {
    "duration": 6,
    "start_time": "2022-02-23T02:55:14.080Z"
   },
   {
    "duration": 3,
    "start_time": "2022-02-23T02:55:14.136Z"
   },
   {
    "duration": 2,
    "start_time": "2022-02-23T02:55:14.212Z"
   },
   {
    "duration": 7,
    "start_time": "2022-02-23T02:55:14.308Z"
   },
   {
    "duration": 10,
    "start_time": "2022-02-23T02:55:14.333Z"
   },
   {
    "duration": 8,
    "start_time": "2022-02-23T02:55:14.366Z"
   },
   {
    "duration": 6,
    "start_time": "2022-02-23T02:55:14.444Z"
   },
   {
    "duration": 5,
    "start_time": "2022-02-23T02:55:14.517Z"
   },
   {
    "duration": 6,
    "start_time": "2022-02-23T02:55:14.539Z"
   },
   {
    "duration": 8,
    "start_time": "2022-02-23T02:55:14.603Z"
   },
   {
    "duration": 4,
    "start_time": "2022-02-23T02:55:14.668Z"
   },
   {
    "duration": 5,
    "start_time": "2022-02-23T02:55:14.702Z"
   },
   {
    "duration": 6,
    "start_time": "2022-02-23T02:55:14.782Z"
   },
   {
    "duration": 5,
    "start_time": "2022-02-23T02:55:14.836Z"
   },
   {
    "duration": 7,
    "start_time": "2022-02-23T02:55:14.868Z"
   },
   {
    "duration": 9,
    "start_time": "2022-02-23T02:55:14.929Z"
   },
   {
    "duration": 2,
    "start_time": "2022-02-23T02:55:14.963Z"
   },
   {
    "duration": 9,
    "start_time": "2022-02-23T02:55:15.016Z"
   },
   {
    "duration": 8,
    "start_time": "2022-02-23T02:55:15.078Z"
   },
   {
    "duration": 2,
    "start_time": "2022-02-23T02:55:15.104Z"
   },
   {
    "duration": 7,
    "start_time": "2022-02-23T02:55:15.136Z"
   },
   {
    "duration": 8,
    "start_time": "2022-02-23T02:55:15.194Z"
   },
   {
    "duration": 2,
    "start_time": "2022-02-23T02:55:15.241Z"
   },
   {
    "duration": 8,
    "start_time": "2022-02-23T02:55:15.260Z"
   },
   {
    "duration": 18,
    "start_time": "2022-02-23T02:55:15.319Z"
   },
   {
    "duration": 31,
    "start_time": "2022-02-23T02:55:15.368Z"
   },
   {
    "duration": 16,
    "start_time": "2022-02-23T02:55:15.400Z"
   },
   {
    "duration": 4,
    "start_time": "2022-02-23T02:55:15.430Z"
   },
   {
    "duration": 3,
    "start_time": "2022-02-23T02:55:15.557Z"
   },
   {
    "duration": 4,
    "start_time": "2022-02-23T02:55:15.662Z"
   },
   {
    "duration": 12,
    "start_time": "2022-02-23T02:55:15.698Z"
   },
   {
    "duration": 9,
    "start_time": "2022-02-23T02:55:15.736Z"
   },
   {
    "duration": 6,
    "start_time": "2022-02-23T02:55:15.761Z"
   },
   {
    "duration": 9,
    "start_time": "2022-02-23T02:55:16.478Z"
   },
   {
    "duration": 3,
    "start_time": "2022-02-23T02:55:16.515Z"
   },
   {
    "duration": 3,
    "start_time": "2022-02-23T02:55:16.544Z"
   },
   {
    "duration": 3,
    "start_time": "2022-02-23T02:55:16.655Z"
   },
   {
    "duration": 6,
    "start_time": "2022-02-23T02:55:16.692Z"
   },
   {
    "duration": 4,
    "start_time": "2022-02-23T02:55:16.722Z"
   },
   {
    "duration": 6,
    "start_time": "2022-02-23T02:55:16.757Z"
   },
   {
    "duration": 3,
    "start_time": "2022-02-23T02:55:16.817Z"
   },
   {
    "duration": 10,
    "start_time": "2022-02-23T02:55:17.685Z"
   },
   {
    "duration": 10,
    "start_time": "2022-02-23T02:55:18.257Z"
   },
   {
    "duration": 7,
    "start_time": "2022-02-23T02:55:18.290Z"
   },
   {
    "duration": 2,
    "start_time": "2022-02-23T02:55:18.348Z"
   },
   {
    "duration": 8,
    "start_time": "2022-02-23T02:55:18.379Z"
   },
   {
    "duration": 358,
    "start_time": "2022-02-23T02:55:18.414Z"
   },
   {
    "duration": -1682,
    "start_time": "2022-02-23T02:55:20.463Z"
   },
   {
    "duration": -1682,
    "start_time": "2022-02-23T02:55:20.465Z"
   },
   {
    "duration": -1684,
    "start_time": "2022-02-23T02:55:20.468Z"
   },
   {
    "duration": -1685,
    "start_time": "2022-02-23T02:55:20.470Z"
   },
   {
    "duration": -1686,
    "start_time": "2022-02-23T02:55:20.472Z"
   },
   {
    "duration": -1688,
    "start_time": "2022-02-23T02:55:20.475Z"
   },
   {
    "duration": 34,
    "start_time": "2022-02-23T02:55:18.798Z"
   },
   {
    "duration": 2,
    "start_time": "2022-02-23T02:55:18.841Z"
   },
   {
    "duration": 2,
    "start_time": "2022-02-23T02:55:18.872Z"
   },
   {
    "duration": 4,
    "start_time": "2022-02-23T02:55:19.166Z"
   },
   {
    "duration": 161,
    "start_time": "2022-02-23T02:55:53.783Z"
   },
   {
    "duration": 5,
    "start_time": "2022-02-23T02:55:54.319Z"
   },
   {
    "duration": 14,
    "start_time": "2022-02-23T02:55:54.358Z"
   },
   {
    "duration": 11,
    "start_time": "2022-02-23T02:55:54.411Z"
   },
   {
    "duration": 21,
    "start_time": "2022-02-23T02:55:54.475Z"
   },
   {
    "duration": 7,
    "start_time": "2022-02-23T02:55:54.540Z"
   },
   {
    "duration": 7,
    "start_time": "2022-02-23T02:55:54.604Z"
   },
   {
    "duration": 5,
    "start_time": "2022-02-23T02:55:54.639Z"
   },
   {
    "duration": 6,
    "start_time": "2022-02-23T02:55:54.714Z"
   },
   {
    "duration": 2,
    "start_time": "2022-02-23T02:55:54.775Z"
   },
   {
    "duration": 2,
    "start_time": "2022-02-23T02:55:54.838Z"
   },
   {
    "duration": 7,
    "start_time": "2022-02-23T02:55:54.936Z"
   },
   {
    "duration": 12,
    "start_time": "2022-02-23T02:55:54.975Z"
   },
   {
    "duration": 8,
    "start_time": "2022-02-23T02:55:55.211Z"
   },
   {
    "duration": 6,
    "start_time": "2022-02-23T02:55:55.221Z"
   },
   {
    "duration": 4,
    "start_time": "2022-02-23T02:55:55.229Z"
   },
   {
    "duration": 14,
    "start_time": "2022-02-23T02:55:55.235Z"
   },
   {
    "duration": 9,
    "start_time": "2022-02-23T02:55:55.250Z"
   },
   {
    "duration": 3,
    "start_time": "2022-02-23T02:55:55.303Z"
   },
   {
    "duration": 5,
    "start_time": "2022-02-23T02:55:55.338Z"
   },
   {
    "duration": 7,
    "start_time": "2022-02-23T02:55:55.411Z"
   },
   {
    "duration": 4,
    "start_time": "2022-02-23T02:55:55.480Z"
   },
   {
    "duration": 5,
    "start_time": "2022-02-23T02:55:55.503Z"
   },
   {
    "duration": 7,
    "start_time": "2022-02-23T02:55:55.567Z"
   },
   {
    "duration": 3,
    "start_time": "2022-02-23T02:55:55.603Z"
   },
   {
    "duration": 6,
    "start_time": "2022-02-23T02:55:55.630Z"
   },
   {
    "duration": 7,
    "start_time": "2022-02-23T02:55:55.693Z"
   },
   {
    "duration": 2,
    "start_time": "2022-02-23T02:55:55.744Z"
   },
   {
    "duration": 6,
    "start_time": "2022-02-23T02:55:55.774Z"
   },
   {
    "duration": 7,
    "start_time": "2022-02-23T02:55:55.834Z"
   },
   {
    "duration": 2,
    "start_time": "2022-02-23T02:55:55.871Z"
   },
   {
    "duration": 7,
    "start_time": "2022-02-23T02:55:55.905Z"
   },
   {
    "duration": 17,
    "start_time": "2022-02-23T02:55:55.960Z"
   },
   {
    "duration": 29,
    "start_time": "2022-02-23T02:55:55.990Z"
   },
   {
    "duration": 17,
    "start_time": "2022-02-23T02:55:56.025Z"
   },
   {
    "duration": 4,
    "start_time": "2022-02-23T02:55:56.054Z"
   },
   {
    "duration": 3,
    "start_time": "2022-02-23T02:55:56.202Z"
   },
   {
    "duration": 3,
    "start_time": "2022-02-23T02:55:56.294Z"
   },
   {
    "duration": 12,
    "start_time": "2022-02-23T02:55:56.330Z"
   },
   {
    "duration": 9,
    "start_time": "2022-02-23T02:55:56.363Z"
   },
   {
    "duration": 5,
    "start_time": "2022-02-23T02:55:56.386Z"
   },
   {
    "duration": 7,
    "start_time": "2022-02-23T02:55:56.487Z"
   },
   {
    "duration": 3,
    "start_time": "2022-02-23T02:55:56.519Z"
   },
   {
    "duration": 4,
    "start_time": "2022-02-23T02:55:56.558Z"
   },
   {
    "duration": 2,
    "start_time": "2022-02-23T02:55:56.660Z"
   },
   {
    "duration": 6,
    "start_time": "2022-02-23T02:55:56.691Z"
   },
   {
    "duration": 3,
    "start_time": "2022-02-23T02:55:56.719Z"
   },
   {
    "duration": 7,
    "start_time": "2022-02-23T02:55:56.757Z"
   },
   {
    "duration": 2,
    "start_time": "2022-02-23T02:55:56.819Z"
   },
   {
    "duration": 12,
    "start_time": "2022-02-23T02:55:56.877Z"
   },
   {
    "duration": 12,
    "start_time": "2022-02-23T02:55:56.996Z"
   },
   {
    "duration": 7,
    "start_time": "2022-02-23T02:55:57.027Z"
   },
   {
    "duration": 2,
    "start_time": "2022-02-23T02:55:57.087Z"
   },
   {
    "duration": 7,
    "start_time": "2022-02-23T02:55:57.121Z"
   },
   {
    "duration": 352,
    "start_time": "2022-02-23T02:55:57.151Z"
   },
   {
    "duration": 3,
    "start_time": "2022-02-23T02:55:57.720Z"
   },
   {
    "duration": 7,
    "start_time": "2022-02-23T02:55:58.242Z"
   },
   {
    "duration": 11,
    "start_time": "2022-02-23T02:55:58.316Z"
   },
   {
    "duration": 23,
    "start_time": "2022-02-23T02:55:58.390Z"
   },
   {
    "duration": 5,
    "start_time": "2022-02-23T02:55:58.606Z"
   },
   {
    "duration": 4,
    "start_time": "2022-02-23T02:55:58.648Z"
   },
   {
    "duration": 25,
    "start_time": "2022-02-23T02:55:58.674Z"
   },
   {
    "duration": 176,
    "start_time": "2022-02-23T06:28:20.460Z"
   },
   {
    "duration": 4,
    "start_time": "2022-02-23T06:28:20.993Z"
   },
   {
    "duration": 16,
    "start_time": "2022-02-23T06:28:21.033Z"
   },
   {
    "duration": 11,
    "start_time": "2022-02-23T06:28:21.094Z"
   },
   {
    "duration": 21,
    "start_time": "2022-02-23T06:28:21.163Z"
   },
   {
    "duration": 8,
    "start_time": "2022-02-23T06:28:21.227Z"
   },
   {
    "duration": 8,
    "start_time": "2022-02-23T06:28:21.295Z"
   },
   {
    "duration": 4,
    "start_time": "2022-02-23T06:28:21.334Z"
   },
   {
    "duration": 6,
    "start_time": "2022-02-23T06:28:21.402Z"
   },
   {
    "duration": 3,
    "start_time": "2022-02-23T06:28:21.467Z"
   },
   {
    "duration": 3,
    "start_time": "2022-02-23T06:28:21.530Z"
   },
   {
    "duration": 7,
    "start_time": "2022-02-23T06:28:21.622Z"
   },
   {
    "duration": 11,
    "start_time": "2022-02-23T06:28:21.646Z"
   },
   {
    "duration": 9,
    "start_time": "2022-02-23T06:28:21.690Z"
   },
   {
    "duration": 6,
    "start_time": "2022-02-23T06:28:21.764Z"
   },
   {
    "duration": 6,
    "start_time": "2022-02-23T06:28:21.818Z"
   },
   {
    "duration": 7,
    "start_time": "2022-02-23T06:28:21.856Z"
   },
   {
    "duration": 9,
    "start_time": "2022-02-23T06:28:21.914Z"
   },
   {
    "duration": 4,
    "start_time": "2022-02-23T06:28:21.992Z"
   },
   {
    "duration": 6,
    "start_time": "2022-02-23T06:28:22.030Z"
   },
   {
    "duration": 6,
    "start_time": "2022-02-23T06:28:22.093Z"
   },
   {
    "duration": 5,
    "start_time": "2022-02-23T06:28:22.157Z"
   },
   {
    "duration": 5,
    "start_time": "2022-02-23T06:28:22.188Z"
   },
   {
    "duration": 8,
    "start_time": "2022-02-23T06:28:22.264Z"
   },
   {
    "duration": 2,
    "start_time": "2022-02-23T06:28:22.288Z"
   },
   {
    "duration": 7,
    "start_time": "2022-02-23T06:28:22.318Z"
   },
   {
    "duration": 7,
    "start_time": "2022-02-23T06:28:23.156Z"
   },
   {
    "duration": 2,
    "start_time": "2022-02-23T06:28:23.195Z"
   },
   {
    "duration": 8,
    "start_time": "2022-02-23T06:28:23.225Z"
   },
   {
    "duration": 8,
    "start_time": "2022-02-23T06:28:23.288Z"
   },
   {
    "duration": 2,
    "start_time": "2022-02-23T06:28:23.338Z"
   },
   {
    "duration": 7,
    "start_time": "2022-02-23T06:28:23.359Z"
   },
   {
    "duration": 18,
    "start_time": "2022-02-23T06:28:23.430Z"
   },
   {
    "duration": 30,
    "start_time": "2022-02-23T06:28:23.455Z"
   },
   {
    "duration": 16,
    "start_time": "2022-02-23T06:28:23.817Z"
   },
   {
    "duration": 5,
    "start_time": "2022-02-23T06:28:24.312Z"
   },
   {
    "duration": 2,
    "start_time": "2022-02-23T06:28:24.922Z"
   },
   {
    "duration": 3,
    "start_time": "2022-02-23T06:28:25.018Z"
   },
   {
    "duration": 11,
    "start_time": "2022-02-23T06:28:25.046Z"
   },
   {
    "duration": 9,
    "start_time": "2022-02-23T06:28:25.082Z"
   },
   {
    "duration": 6,
    "start_time": "2022-02-23T06:28:25.108Z"
   },
   {
    "duration": 7,
    "start_time": "2022-02-23T06:28:25.210Z"
   },
   {
    "duration": 3,
    "start_time": "2022-02-23T06:28:25.881Z"
   },
   {
    "duration": 4,
    "start_time": "2022-02-23T06:28:26.313Z"
   },
   {
    "duration": 3,
    "start_time": "2022-02-23T06:28:26.882Z"
   },
   {
    "duration": 6,
    "start_time": "2022-02-23T06:28:26.914Z"
   },
   {
    "duration": 4,
    "start_time": "2022-02-23T06:28:26.950Z"
   },
   {
    "duration": 7,
    "start_time": "2022-02-23T06:28:26.978Z"
   },
   {
    "duration": 3,
    "start_time": "2022-02-23T06:28:27.060Z"
   },
   {
    "duration": 12,
    "start_time": "2022-02-23T06:28:28.010Z"
   },
   {
    "duration": 13,
    "start_time": "2022-02-23T06:28:29.339Z"
   },
   {
    "duration": 9,
    "start_time": "2022-02-23T06:28:29.705Z"
   },
   {
    "duration": 2,
    "start_time": "2022-02-23T06:28:30.472Z"
   },
   {
    "duration": 7,
    "start_time": "2022-02-23T06:28:32.863Z"
   },
   {
    "duration": 1022,
    "start_time": "2022-02-23T06:28:32.872Z"
   },
   {
    "duration": -5123,
    "start_time": "2022-02-23T06:28:39.027Z"
   },
   {
    "duration": -5124,
    "start_time": "2022-02-23T06:28:39.029Z"
   },
   {
    "duration": -5125,
    "start_time": "2022-02-23T06:28:39.031Z"
   },
   {
    "duration": -5126,
    "start_time": "2022-02-23T06:28:39.033Z"
   },
   {
    "duration": -5127,
    "start_time": "2022-02-23T06:28:39.035Z"
   },
   {
    "duration": -5128,
    "start_time": "2022-02-23T06:28:39.037Z"
   },
   {
    "duration": 22,
    "start_time": "2022-02-23T06:29:23.276Z"
   },
   {
    "duration": 144,
    "start_time": "2022-02-23T06:30:52.170Z"
   },
   {
    "duration": 4,
    "start_time": "2022-02-23T06:30:52.707Z"
   },
   {
    "duration": 15,
    "start_time": "2022-02-23T06:30:52.746Z"
   },
   {
    "duration": 12,
    "start_time": "2022-02-23T06:30:52.815Z"
   },
   {
    "duration": 20,
    "start_time": "2022-02-23T06:30:52.877Z"
   },
   {
    "duration": 7,
    "start_time": "2022-02-23T06:30:52.946Z"
   },
   {
    "duration": 7,
    "start_time": "2022-02-23T06:30:53.006Z"
   },
   {
    "duration": 4,
    "start_time": "2022-02-23T06:30:53.049Z"
   },
   {
    "duration": 7,
    "start_time": "2022-02-23T06:30:53.104Z"
   },
   {
    "duration": 2,
    "start_time": "2022-02-23T06:30:53.193Z"
   },
   {
    "duration": 3,
    "start_time": "2022-02-23T06:30:53.248Z"
   },
   {
    "duration": 8,
    "start_time": "2022-02-23T06:30:53.348Z"
   },
   {
    "duration": 11,
    "start_time": "2022-02-23T06:30:53.370Z"
   },
   {
    "duration": 8,
    "start_time": "2022-02-23T06:30:53.415Z"
   },
   {
    "duration": 6,
    "start_time": "2022-02-23T06:30:53.474Z"
   },
   {
    "duration": 7,
    "start_time": "2022-02-23T06:30:53.540Z"
   },
   {
    "duration": 6,
    "start_time": "2022-02-23T06:30:53.576Z"
   },
   {
    "duration": 8,
    "start_time": "2022-02-23T06:30:53.633Z"
   },
   {
    "duration": 4,
    "start_time": "2022-02-23T06:30:53.704Z"
   },
   {
    "duration": 5,
    "start_time": "2022-02-23T06:30:53.735Z"
   },
   {
    "duration": 7,
    "start_time": "2022-02-23T06:30:53.811Z"
   },
   {
    "duration": 5,
    "start_time": "2022-02-23T06:30:53.869Z"
   },
   {
    "duration": 5,
    "start_time": "2022-02-23T06:30:53.909Z"
   },
   {
    "duration": 7,
    "start_time": "2022-02-23T06:30:53.971Z"
   },
   {
    "duration": 27,
    "start_time": "2022-02-23T06:30:54.004Z"
   },
   {
    "duration": 19,
    "start_time": "2022-02-23T06:30:54.033Z"
   },
   {
    "duration": 9,
    "start_time": "2022-02-23T06:30:54.087Z"
   },
   {
    "duration": 2,
    "start_time": "2022-02-23T06:30:54.138Z"
   },
   {
    "duration": 7,
    "start_time": "2022-02-23T06:30:54.179Z"
   },
   {
    "duration": 7,
    "start_time": "2022-02-23T06:30:54.238Z"
   },
   {
    "duration": 24,
    "start_time": "2022-02-23T06:30:54.262Z"
   },
   {
    "duration": 11,
    "start_time": "2022-02-23T06:30:54.298Z"
   },
   {
    "duration": 17,
    "start_time": "2022-02-23T06:30:54.356Z"
   },
   {
    "duration": 31,
    "start_time": "2022-02-23T06:30:54.558Z"
   },
   {
    "duration": 32,
    "start_time": "2022-02-23T06:30:54.591Z"
   },
   {
    "duration": 20,
    "start_time": "2022-02-23T06:30:54.625Z"
   },
   {
    "duration": 24,
    "start_time": "2022-02-23T06:30:54.647Z"
   },
   {
    "duration": 3,
    "start_time": "2022-02-23T06:30:54.703Z"
   },
   {
    "duration": 37,
    "start_time": "2022-02-23T06:30:54.720Z"
   },
   {
    "duration": 20,
    "start_time": "2022-02-23T06:30:54.761Z"
   },
   {
    "duration": 24,
    "start_time": "2022-02-23T06:30:54.788Z"
   },
   {
    "duration": 8,
    "start_time": "2022-02-23T06:30:54.896Z"
   },
   {
    "duration": 19,
    "start_time": "2022-02-23T06:30:54.922Z"
   },
   {
    "duration": 3,
    "start_time": "2022-02-23T06:30:54.972Z"
   },
   {
    "duration": 2,
    "start_time": "2022-02-23T06:30:55.048Z"
   },
   {
    "duration": 6,
    "start_time": "2022-02-23T06:30:55.079Z"
   },
   {
    "duration": 3,
    "start_time": "2022-02-23T06:30:55.124Z"
   },
   {
    "duration": 6,
    "start_time": "2022-02-23T06:30:55.169Z"
   },
   {
    "duration": 3,
    "start_time": "2022-02-23T06:30:56.076Z"
   },
   {
    "duration": 10,
    "start_time": "2022-02-23T06:30:56.145Z"
   },
   {
    "duration": 12,
    "start_time": "2022-02-23T06:30:56.233Z"
   },
   {
    "duration": 18,
    "start_time": "2022-02-23T06:30:56.265Z"
   },
   {
    "duration": 3,
    "start_time": "2022-02-23T06:30:56.342Z"
   },
   {
    "duration": 8,
    "start_time": "2022-02-23T06:30:56.713Z"
   },
   {
    "duration": 455,
    "start_time": "2022-02-23T06:30:57.273Z"
   },
   {
    "duration": 3,
    "start_time": "2022-02-23T06:31:06.009Z"
   },
   {
    "duration": 8,
    "start_time": "2022-02-23T06:31:06.727Z"
   },
   {
    "duration": 11,
    "start_time": "2022-02-23T06:31:07.640Z"
   },
   {
    "duration": 146,
    "start_time": "2022-02-23T06:39:26.440Z"
   },
   {
    "duration": 4,
    "start_time": "2022-02-23T06:39:26.984Z"
   },
   {
    "duration": 16,
    "start_time": "2022-02-23T06:39:27.022Z"
   },
   {
    "duration": 11,
    "start_time": "2022-02-23T06:39:27.074Z"
   },
   {
    "duration": 23,
    "start_time": "2022-02-23T06:39:27.143Z"
   },
   {
    "duration": 7,
    "start_time": "2022-02-23T06:39:27.215Z"
   },
   {
    "duration": 7,
    "start_time": "2022-02-23T06:39:27.282Z"
   },
   {
    "duration": 5,
    "start_time": "2022-02-23T06:39:27.684Z"
   },
   {
    "duration": 7,
    "start_time": "2022-02-23T06:39:28.224Z"
   },
   {
    "duration": 3,
    "start_time": "2022-02-23T06:39:28.282Z"
   },
   {
    "duration": 3,
    "start_time": "2022-02-23T06:39:28.347Z"
   },
   {
    "duration": 8,
    "start_time": "2022-02-23T06:39:28.450Z"
   },
   {
    "duration": 10,
    "start_time": "2022-02-23T06:39:28.475Z"
   },
   {
    "duration": 9,
    "start_time": "2022-02-23T06:39:28.999Z"
   },
   {
    "duration": 7,
    "start_time": "2022-02-23T06:39:29.636Z"
   },
   {
    "duration": 6,
    "start_time": "2022-02-23T06:39:30.164Z"
   },
   {
    "duration": 6,
    "start_time": "2022-02-23T06:39:30.805Z"
   },
   {
    "duration": 8,
    "start_time": "2022-02-23T06:39:33.941Z"
   },
   {
    "duration": 4,
    "start_time": "2022-02-23T06:39:34.435Z"
   },
   {
    "duration": 6,
    "start_time": "2022-02-23T06:39:34.884Z"
   },
   {
    "duration": 6,
    "start_time": "2022-02-23T06:39:37.556Z"
   },
   {
    "duration": 5,
    "start_time": "2022-02-23T06:39:41.717Z"
   },
   {
    "duration": 6,
    "start_time": "2022-02-23T06:39:42.033Z"
   },
   {
    "duration": 8,
    "start_time": "2022-02-23T06:39:42.731Z"
   },
   {
    "duration": 3,
    "start_time": "2022-02-23T06:39:43.083Z"
   },
   {
    "duration": 8,
    "start_time": "2022-02-23T06:39:43.493Z"
   },
   {
    "duration": 8,
    "start_time": "2022-02-23T06:39:45.127Z"
   },
   {
    "duration": 2,
    "start_time": "2022-02-23T06:39:47.332Z"
   },
   {
    "duration": 8,
    "start_time": "2022-02-23T06:39:47.741Z"
   },
   {
    "duration": 8,
    "start_time": "2022-02-23T06:39:49.123Z"
   },
   {
    "duration": 2,
    "start_time": "2022-02-23T06:39:52.676Z"
   },
   {
    "duration": 7,
    "start_time": "2022-02-23T06:39:53.108Z"
   },
   {
    "duration": 19,
    "start_time": "2022-02-23T06:39:53.972Z"
   },
   {
    "duration": 31,
    "start_time": "2022-02-23T06:39:54.436Z"
   },
   {
    "duration": 15,
    "start_time": "2022-02-23T06:39:56.805Z"
   },
   {
    "duration": 4,
    "start_time": "2022-02-23T06:39:57.172Z"
   },
   {
    "duration": 2,
    "start_time": "2022-02-23T06:39:58.932Z"
   },
   {
    "duration": 2,
    "start_time": "2022-02-23T06:40:01.723Z"
   },
   {
    "duration": 12,
    "start_time": "2022-02-23T06:40:02.133Z"
   },
   {
    "duration": 10,
    "start_time": "2022-02-23T06:40:02.516Z"
   },
   {
    "duration": 6,
    "start_time": "2022-02-23T06:40:02.996Z"
   },
   {
    "duration": 8,
    "start_time": "2022-02-23T06:40:04.871Z"
   },
   {
    "duration": 3,
    "start_time": "2022-02-23T06:40:05.141Z"
   },
   {
    "duration": 4,
    "start_time": "2022-02-23T06:40:05.492Z"
   },
   {
    "duration": 176,
    "start_time": "2022-02-23T06:40:29.875Z"
   },
   {
    "duration": 3,
    "start_time": "2022-02-23T06:40:38.453Z"
   },
   {
    "duration": 10,
    "start_time": "2022-02-23T06:40:41.317Z"
   },
   {
    "duration": 8,
    "start_time": "2022-02-23T06:40:54.736Z"
   },
   {
    "duration": 7,
    "start_time": "2022-02-23T06:40:57.077Z"
   },
   {
    "duration": 3,
    "start_time": "2022-02-23T06:41:04.165Z"
   },
   {
    "duration": 12,
    "start_time": "2022-02-23T06:41:05.924Z"
   },
   {
    "duration": 11,
    "start_time": "2022-02-23T06:41:13.331Z"
   },
   {
    "duration": 9,
    "start_time": "2022-02-23T06:41:14.244Z"
   },
   {
    "duration": 2,
    "start_time": "2022-02-23T06:41:16.180Z"
   },
   {
    "duration": 149,
    "start_time": "2022-02-23T07:03:26.493Z"
   },
   {
    "duration": 4,
    "start_time": "2022-02-23T07:03:27.031Z"
   },
   {
    "duration": 15,
    "start_time": "2022-02-23T07:03:27.070Z"
   },
   {
    "duration": 11,
    "start_time": "2022-02-23T07:03:27.125Z"
   },
   {
    "duration": 22,
    "start_time": "2022-02-23T07:03:27.188Z"
   },
   {
    "duration": 7,
    "start_time": "2022-02-23T07:03:27.257Z"
   },
   {
    "duration": 7,
    "start_time": "2022-02-23T07:03:27.319Z"
   },
   {
    "duration": 4,
    "start_time": "2022-02-23T07:03:27.361Z"
   },
   {
    "duration": 6,
    "start_time": "2022-02-23T07:03:27.425Z"
   },
   {
    "duration": 2,
    "start_time": "2022-02-23T07:03:27.489Z"
   },
   {
    "duration": 3,
    "start_time": "2022-02-23T07:03:27.549Z"
   },
   {
    "duration": 7,
    "start_time": "2022-02-23T07:03:27.658Z"
   },
   {
    "duration": 11,
    "start_time": "2022-02-23T07:03:27.696Z"
   },
   {
    "duration": 9,
    "start_time": "2022-02-23T07:03:27.723Z"
   },
   {
    "duration": 6,
    "start_time": "2022-02-23T07:03:27.799Z"
   },
   {
    "duration": 5,
    "start_time": "2022-02-23T07:03:27.847Z"
   },
   {
    "duration": 6,
    "start_time": "2022-02-23T07:03:27.884Z"
   },
   {
    "duration": 8,
    "start_time": "2022-02-23T07:03:27.954Z"
   },
   {
    "duration": 4,
    "start_time": "2022-02-23T07:03:28.015Z"
   },
   {
    "duration": 5,
    "start_time": "2022-02-23T07:03:28.250Z"
   },
   {
    "duration": 7,
    "start_time": "2022-02-23T07:03:28.795Z"
   },
   {
    "duration": 5,
    "start_time": "2022-02-23T07:03:28.858Z"
   },
   {
    "duration": 6,
    "start_time": "2022-02-23T07:03:28.892Z"
   },
   {
    "duration": 8,
    "start_time": "2022-02-23T07:03:28.958Z"
   },
   {
    "duration": 2,
    "start_time": "2022-02-23T07:03:28.994Z"
   },
   {
    "duration": 6,
    "start_time": "2022-02-23T07:03:29.019Z"
   },
   {
    "duration": 8,
    "start_time": "2022-02-23T07:03:29.084Z"
   },
   {
    "duration": 2,
    "start_time": "2022-02-23T07:03:29.122Z"
   },
   {
    "duration": 7,
    "start_time": "2022-02-23T07:03:29.149Z"
   },
   {
    "duration": 7,
    "start_time": "2022-02-23T07:03:29.237Z"
   },
   {
    "duration": 2,
    "start_time": "2022-02-23T07:03:29.261Z"
   },
   {
    "duration": 8,
    "start_time": "2022-02-23T07:03:29.292Z"
   },
   {
    "duration": 16,
    "start_time": "2022-02-23T07:03:29.352Z"
   },
   {
    "duration": 29,
    "start_time": "2022-02-23T07:03:29.386Z"
   },
   {
    "duration": 16,
    "start_time": "2022-02-23T07:03:29.421Z"
   },
   {
    "duration": 3,
    "start_time": "2022-02-23T07:03:29.446Z"
   },
   {
    "duration": 3,
    "start_time": "2022-02-23T07:03:29.591Z"
   },
   {
    "duration": 3,
    "start_time": "2022-02-23T07:03:29.684Z"
   },
   {
    "duration": 11,
    "start_time": "2022-02-23T07:03:29.725Z"
   },
   {
    "duration": 10,
    "start_time": "2022-02-23T07:03:29.750Z"
   },
   {
    "duration": 7,
    "start_time": "2022-02-23T07:03:29.780Z"
   },
   {
    "duration": 8,
    "start_time": "2022-02-23T07:03:31.804Z"
   },
   {
    "duration": 4,
    "start_time": "2022-02-23T07:03:32.043Z"
   },
   {
    "duration": 4,
    "start_time": "2022-02-23T07:03:32.345Z"
   },
   {
    "duration": 3,
    "start_time": "2022-02-23T07:03:33.067Z"
   },
   {
    "duration": 10,
    "start_time": "2022-02-23T07:03:33.322Z"
   },
   {
    "duration": 9,
    "start_time": "2022-02-23T07:03:33.674Z"
   },
   {
    "duration": 6,
    "start_time": "2022-02-23T07:03:33.977Z"
   },
   {
    "duration": 2,
    "start_time": "2022-02-23T07:03:34.714Z"
   },
   {
    "duration": 11,
    "start_time": "2022-02-23T07:03:38.106Z"
   },
   {
    "duration": 24,
    "start_time": "2022-02-23T07:04:24.526Z"
   },
   {
    "duration": 15,
    "start_time": "2022-02-23T07:04:48.908Z"
   },
   {
    "duration": 27,
    "start_time": "2022-02-23T07:05:06.832Z"
   },
   {
    "duration": 13,
    "start_time": "2022-02-23T07:05:21.228Z"
   },
   {
    "duration": 14,
    "start_time": "2022-02-23T07:05:24.313Z"
   },
   {
    "duration": 16,
    "start_time": "2022-02-23T07:05:27.775Z"
   },
   {
    "duration": 8,
    "start_time": "2022-02-23T07:06:15.131Z"
   },
   {
    "duration": 61,
    "start_time": "2022-02-23T07:06:23.370Z"
   },
   {
    "duration": 285,
    "start_time": "2022-02-23T07:10:18.442Z"
   },
   {
    "duration": 3,
    "start_time": "2022-02-23T07:10:33.784Z"
   },
   {
    "duration": 883,
    "start_time": "2022-02-23T07:10:57.097Z"
   },
   {
    "duration": 4,
    "start_time": "2022-02-23T07:13:04.551Z"
   },
   {
    "duration": 3584,
    "start_time": "2022-02-23T07:13:07.255Z"
   },
   {
    "duration": 3625,
    "start_time": "2022-02-23T07:13:11.063Z"
   },
   {
    "duration": 383,
    "start_time": "2022-02-23T07:13:14.690Z"
   },
   {
    "duration": 63,
    "start_time": "2022-02-23T07:15:47.945Z"
   },
   {
    "duration": 3,
    "start_time": "2022-02-23T07:16:01.816Z"
   },
   {
    "duration": 154,
    "start_time": "2022-02-23T07:16:07.813Z"
   },
   {
    "duration": 4,
    "start_time": "2022-02-23T07:16:08.355Z"
   },
   {
    "duration": 16,
    "start_time": "2022-02-23T07:16:08.395Z"
   },
   {
    "duration": 11,
    "start_time": "2022-02-23T07:16:08.446Z"
   },
   {
    "duration": 24,
    "start_time": "2022-02-23T07:16:08.527Z"
   },
   {
    "duration": 7,
    "start_time": "2022-02-23T07:16:08.590Z"
   },
   {
    "duration": 8,
    "start_time": "2022-02-23T07:16:08.664Z"
   },
   {
    "duration": 5,
    "start_time": "2022-02-23T07:16:08.688Z"
   },
   {
    "duration": 7,
    "start_time": "2022-02-23T07:16:08.756Z"
   },
   {
    "duration": 2,
    "start_time": "2022-02-23T07:16:08.815Z"
   },
   {
    "duration": 2,
    "start_time": "2022-02-23T07:16:08.882Z"
   },
   {
    "duration": 7,
    "start_time": "2022-02-23T07:16:08.999Z"
   },
   {
    "duration": 9,
    "start_time": "2022-02-23T07:16:09.023Z"
   },
   {
    "duration": 9,
    "start_time": "2022-02-23T07:16:09.051Z"
   },
   {
    "duration": 7,
    "start_time": "2022-02-23T07:16:09.118Z"
   },
   {
    "duration": 6,
    "start_time": "2022-02-23T07:16:09.191Z"
   },
   {
    "duration": 5,
    "start_time": "2022-02-23T07:16:09.216Z"
   },
   {
    "duration": 7,
    "start_time": "2022-02-23T07:16:09.283Z"
   },
   {
    "duration": 4,
    "start_time": "2022-02-23T07:16:09.347Z"
   },
   {
    "duration": 5,
    "start_time": "2022-02-23T07:16:09.375Z"
   },
   {
    "duration": 6,
    "start_time": "2022-02-23T07:16:09.450Z"
   },
   {
    "duration": 4,
    "start_time": "2022-02-23T07:16:09.516Z"
   },
   {
    "duration": 5,
    "start_time": "2022-02-23T07:16:09.544Z"
   },
   {
    "duration": 8,
    "start_time": "2022-02-23T07:16:10.479Z"
   },
   {
    "duration": 2,
    "start_time": "2022-02-23T07:16:10.515Z"
   },
   {
    "duration": 8,
    "start_time": "2022-02-23T07:16:10.542Z"
   },
   {
    "duration": 8,
    "start_time": "2022-02-23T07:16:10.606Z"
   },
   {
    "duration": 2,
    "start_time": "2022-02-23T07:16:10.655Z"
   },
   {
    "duration": 8,
    "start_time": "2022-02-23T07:16:10.692Z"
   },
   {
    "duration": 8,
    "start_time": "2022-02-23T07:16:10.753Z"
   },
   {
    "duration": 2,
    "start_time": "2022-02-23T07:16:10.783Z"
   },
   {
    "duration": 7,
    "start_time": "2022-02-23T07:16:10.814Z"
   },
   {
    "duration": 19,
    "start_time": "2022-02-23T07:16:10.875Z"
   },
   {
    "duration": 32,
    "start_time": "2022-02-23T07:16:10.920Z"
   },
   {
    "duration": 16,
    "start_time": "2022-02-23T07:16:10.955Z"
   },
   {
    "duration": 4,
    "start_time": "2022-02-23T07:16:10.988Z"
   },
   {
    "duration": 2,
    "start_time": "2022-02-23T07:16:11.121Z"
   },
   {
    "duration": 3,
    "start_time": "2022-02-23T07:16:11.207Z"
   },
   {
    "duration": 12,
    "start_time": "2022-02-23T07:16:11.989Z"
   },
   {
    "duration": 11,
    "start_time": "2022-02-23T07:16:12.630Z"
   },
   {
    "duration": 7,
    "start_time": "2022-02-23T07:16:12.965Z"
   },
   {
    "duration": 8,
    "start_time": "2022-02-23T07:16:14.708Z"
   },
   {
    "duration": 4,
    "start_time": "2022-02-23T07:16:14.997Z"
   },
   {
    "duration": 4,
    "start_time": "2022-02-23T07:16:15.477Z"
   },
   {
    "duration": 2,
    "start_time": "2022-02-23T07:16:16.406Z"
   },
   {
    "duration": 10,
    "start_time": "2022-02-23T07:16:16.709Z"
   },
   {
    "duration": 8,
    "start_time": "2022-02-23T07:16:17.318Z"
   },
   {
    "duration": 5,
    "start_time": "2022-02-23T07:16:17.829Z"
   },
   {
    "duration": 2,
    "start_time": "2022-02-23T07:16:18.566Z"
   },
   {
    "duration": 13,
    "start_time": "2022-02-23T07:16:19.269Z"
   },
   {
    "duration": 16,
    "start_time": "2022-02-23T07:16:21.164Z"
   },
   {
    "duration": 7,
    "start_time": "2022-02-23T07:16:22.571Z"
   },
   {
    "duration": 3,
    "start_time": "2022-02-23T07:16:26.845Z"
   },
   {
    "duration": 372,
    "start_time": "2022-02-23T07:17:01.000Z"
   },
   {
    "duration": 183,
    "start_time": "2022-02-23T07:17:09.445Z"
   },
   {
    "duration": 3,
    "start_time": "2022-02-23T07:17:09.983Z"
   },
   {
    "duration": 16,
    "start_time": "2022-02-23T07:17:10.056Z"
   },
   {
    "duration": 20,
    "start_time": "2022-02-23T07:17:10.092Z"
   },
   {
    "duration": 22,
    "start_time": "2022-02-23T07:17:10.151Z"
   },
   {
    "duration": 8,
    "start_time": "2022-02-23T07:17:10.217Z"
   },
   {
    "duration": 7,
    "start_time": "2022-02-23T07:17:10.285Z"
   },
   {
    "duration": 4,
    "start_time": "2022-02-23T07:17:10.325Z"
   },
   {
    "duration": 7,
    "start_time": "2022-02-23T07:17:10.385Z"
   },
   {
    "duration": 2,
    "start_time": "2022-02-23T07:17:10.456Z"
   },
   {
    "duration": 2,
    "start_time": "2022-02-23T07:17:10.528Z"
   },
   {
    "duration": 7,
    "start_time": "2022-02-23T07:17:10.621Z"
   },
   {
    "duration": 10,
    "start_time": "2022-02-23T07:17:10.657Z"
   },
   {
    "duration": 8,
    "start_time": "2022-02-23T07:17:10.677Z"
   },
   {
    "duration": 7,
    "start_time": "2022-02-23T07:17:10.744Z"
   },
   {
    "duration": 5,
    "start_time": "2022-02-23T07:17:10.807Z"
   },
   {
    "duration": 5,
    "start_time": "2022-02-23T07:17:10.843Z"
   },
   {
    "duration": 8,
    "start_time": "2022-02-23T07:17:10.916Z"
   },
   {
    "duration": 4,
    "start_time": "2022-02-23T07:17:10.988Z"
   },
   {
    "duration": 6,
    "start_time": "2022-02-23T07:17:11.016Z"
   },
   {
    "duration": 6,
    "start_time": "2022-02-23T07:17:11.083Z"
   },
   {
    "duration": 5,
    "start_time": "2022-02-23T07:17:11.144Z"
   },
   {
    "duration": 5,
    "start_time": "2022-02-23T07:17:11.172Z"
   },
   {
    "duration": 7,
    "start_time": "2022-02-23T07:17:11.234Z"
   },
   {
    "duration": 2,
    "start_time": "2022-02-23T07:17:11.265Z"
   },
   {
    "duration": 9,
    "start_time": "2022-02-23T07:17:11.312Z"
   },
   {
    "duration": 7,
    "start_time": "2022-02-23T07:17:11.378Z"
   },
   {
    "duration": 3,
    "start_time": "2022-02-23T07:17:11.436Z"
   },
   {
    "duration": 8,
    "start_time": "2022-02-23T07:17:11.444Z"
   },
   {
    "duration": 8,
    "start_time": "2022-02-23T07:17:11.507Z"
   },
   {
    "duration": 2,
    "start_time": "2022-02-23T07:17:11.532Z"
   },
   {
    "duration": 7,
    "start_time": "2022-02-23T07:17:11.563Z"
   },
   {
    "duration": 17,
    "start_time": "2022-02-23T07:17:11.647Z"
   },
   {
    "duration": 32,
    "start_time": "2022-02-23T07:17:11.676Z"
   },
   {
    "duration": 16,
    "start_time": "2022-02-23T07:17:11.720Z"
   },
   {
    "duration": 4,
    "start_time": "2022-02-23T07:17:11.744Z"
   },
   {
    "duration": 3,
    "start_time": "2022-02-23T07:17:11.867Z"
   },
   {
    "duration": 3,
    "start_time": "2022-02-23T07:17:11.967Z"
   },
   {
    "duration": 12,
    "start_time": "2022-02-23T07:17:12.471Z"
   },
   {
    "duration": 10,
    "start_time": "2022-02-23T07:17:12.970Z"
   },
   {
    "duration": 6,
    "start_time": "2022-02-23T07:17:13.017Z"
   },
   {
    "duration": 8,
    "start_time": "2022-02-23T07:17:13.117Z"
   },
   {
    "duration": 3,
    "start_time": "2022-02-23T07:17:13.155Z"
   },
   {
    "duration": 6,
    "start_time": "2022-02-23T07:17:13.178Z"
   },
   {
    "duration": 3,
    "start_time": "2022-02-23T07:17:13.277Z"
   },
   {
    "duration": 26,
    "start_time": "2022-02-23T07:17:13.301Z"
   },
   {
    "duration": 8,
    "start_time": "2022-02-23T07:17:13.345Z"
   },
   {
    "duration": 7,
    "start_time": "2022-02-23T07:17:13.703Z"
   },
   {
    "duration": 2,
    "start_time": "2022-02-23T07:17:14.468Z"
   },
   {
    "duration": 12,
    "start_time": "2022-02-23T07:17:15.334Z"
   },
   {
    "duration": 17,
    "start_time": "2022-02-23T07:17:15.431Z"
   },
   {
    "duration": 7,
    "start_time": "2022-02-23T07:17:15.467Z"
   },
   {
    "duration": 3,
    "start_time": "2022-02-23T07:17:15.539Z"
   },
   {
    "duration": 432,
    "start_time": "2022-02-23T07:17:15.570Z"
   },
   {
    "duration": -741,
    "start_time": "2022-02-23T07:17:16.746Z"
   },
   {
    "duration": -742,
    "start_time": "2022-02-23T07:17:16.748Z"
   },
   {
    "duration": -743,
    "start_time": "2022-02-23T07:17:16.750Z"
   },
   {
    "duration": -745,
    "start_time": "2022-02-23T07:17:16.753Z"
   },
   {
    "duration": -747,
    "start_time": "2022-02-23T07:17:16.755Z"
   },
   {
    "duration": -748,
    "start_time": "2022-02-23T07:17:16.757Z"
   },
   {
    "duration": 4,
    "start_time": "2022-02-23T07:17:16.662Z"
   },
   {
    "duration": 4267,
    "start_time": "2022-02-23T07:17:17.181Z"
   },
   {
    "duration": -735,
    "start_time": "2022-02-23T07:17:22.185Z"
   },
   {
    "duration": -738,
    "start_time": "2022-02-23T07:17:22.189Z"
   },
   {
    "duration": 15,
    "start_time": "2022-02-23T07:17:41.163Z"
   },
   {
    "duration": 8,
    "start_time": "2022-02-23T07:17:43.084Z"
   },
   {
    "duration": 3,
    "start_time": "2022-02-23T07:17:46.138Z"
   },
   {
    "duration": 393,
    "start_time": "2022-02-23T07:17:53.110Z"
   },
   {
    "duration": 281,
    "start_time": "2022-02-23T07:18:16.824Z"
   },
   {
    "duration": 16,
    "start_time": "2022-02-23T07:18:38.491Z"
   },
   {
    "duration": 11,
    "start_time": "2022-02-23T07:18:39.023Z"
   },
   {
    "duration": 25,
    "start_time": "2022-02-23T07:18:39.085Z"
   },
   {
    "duration": 8,
    "start_time": "2022-02-23T07:18:39.164Z"
   },
   {
    "duration": 7,
    "start_time": "2022-02-23T07:18:39.225Z"
   },
   {
    "duration": 5,
    "start_time": "2022-02-23T07:18:39.263Z"
   },
   {
    "duration": 7,
    "start_time": "2022-02-23T07:18:39.325Z"
   },
   {
    "duration": 3,
    "start_time": "2022-02-23T07:18:39.392Z"
   },
   {
    "duration": 3,
    "start_time": "2022-02-23T07:18:39.453Z"
   },
   {
    "duration": 8,
    "start_time": "2022-02-23T07:18:39.555Z"
   },
   {
    "duration": 11,
    "start_time": "2022-02-23T07:18:39.600Z"
   },
   {
    "duration": 9,
    "start_time": "2022-02-23T07:18:39.621Z"
   },
   {
    "duration": 6,
    "start_time": "2022-02-23T07:18:39.683Z"
   },
   {
    "duration": 5,
    "start_time": "2022-02-23T07:18:39.750Z"
   },
   {
    "duration": 6,
    "start_time": "2022-02-23T07:18:39.784Z"
   },
   {
    "duration": 7,
    "start_time": "2022-02-23T07:18:40.048Z"
   },
   {
    "duration": 16,
    "start_time": "2022-02-23T07:18:40.057Z"
   },
   {
    "duration": 10,
    "start_time": "2022-02-23T07:18:40.075Z"
   },
   {
    "duration": 6,
    "start_time": "2022-02-23T07:18:40.372Z"
   },
   {
    "duration": 5,
    "start_time": "2022-02-23T07:18:40.925Z"
   },
   {
    "duration": 5,
    "start_time": "2022-02-23T07:18:40.947Z"
   },
   {
    "duration": 7,
    "start_time": "2022-02-23T07:18:41.012Z"
   },
   {
    "duration": 2,
    "start_time": "2022-02-23T07:18:41.052Z"
   },
   {
    "duration": 8,
    "start_time": "2022-02-23T07:18:41.088Z"
   },
   {
    "duration": 7,
    "start_time": "2022-02-23T07:18:41.147Z"
   },
   {
    "duration": 2,
    "start_time": "2022-02-23T07:18:41.186Z"
   },
   {
    "duration": 8,
    "start_time": "2022-02-23T07:18:41.211Z"
   },
   {
    "duration": 7,
    "start_time": "2022-02-23T07:18:41.278Z"
   },
   {
    "duration": 2,
    "start_time": "2022-02-23T07:18:41.310Z"
   },
   {
    "duration": 7,
    "start_time": "2022-02-23T07:18:41.337Z"
   },
   {
    "duration": 19,
    "start_time": "2022-02-23T07:18:42.291Z"
   },
   {
    "duration": 19,
    "start_time": "2022-02-23T07:18:45.700Z"
   },
   {
    "duration": 17,
    "start_time": "2022-02-23T07:18:46.437Z"
   },
   {
    "duration": 4,
    "start_time": "2022-02-23T07:18:46.915Z"
   },
   {
    "duration": 3,
    "start_time": "2022-02-23T07:18:48.101Z"
   },
   {
    "duration": 3,
    "start_time": "2022-02-23T07:18:49.153Z"
   },
   {
    "duration": 12,
    "start_time": "2022-02-23T07:18:49.573Z"
   },
   {
    "duration": 10,
    "start_time": "2022-02-23T07:18:49.859Z"
   },
   {
    "duration": 7,
    "start_time": "2022-02-23T07:18:50.099Z"
   },
   {
    "duration": 7,
    "start_time": "2022-02-23T07:18:51.429Z"
   },
   {
    "duration": 4,
    "start_time": "2022-02-23T07:18:51.929Z"
   },
   {
    "duration": 4,
    "start_time": "2022-02-23T07:18:51.961Z"
   },
   {
    "duration": 3,
    "start_time": "2022-02-23T07:18:52.078Z"
   },
   {
    "duration": 11,
    "start_time": "2022-02-23T07:18:52.106Z"
   },
   {
    "duration": 9,
    "start_time": "2022-02-23T07:18:52.148Z"
   },
   {
    "duration": 6,
    "start_time": "2022-02-23T07:18:52.185Z"
   },
   {
    "duration": 3,
    "start_time": "2022-02-23T07:18:52.246Z"
   },
   {
    "duration": 12,
    "start_time": "2022-02-23T07:18:52.876Z"
   },
   {
    "duration": 17,
    "start_time": "2022-02-23T07:18:55.876Z"
   },
   {
    "duration": 9,
    "start_time": "2022-02-23T07:18:56.276Z"
   },
   {
    "duration": 3,
    "start_time": "2022-02-23T07:18:57.286Z"
   },
   {
    "duration": 311,
    "start_time": "2022-02-23T07:18:59.012Z"
   },
   {
    "duration": 8,
    "start_time": "2022-02-23T07:21:34.500Z"
   },
   {
    "duration": 7,
    "start_time": "2022-02-23T07:21:45.718Z"
   },
   {
    "duration": 6,
    "start_time": "2022-02-23T07:22:07.299Z"
   },
   {
    "duration": 277,
    "start_time": "2022-02-23T07:22:18.788Z"
   },
   {
    "duration": 28,
    "start_time": "2022-02-23T07:23:44.309Z"
   },
   {
    "duration": 10,
    "start_time": "2022-02-23T07:24:05.236Z"
   },
   {
    "duration": 15,
    "start_time": "2022-02-23T07:25:17.059Z"
   },
   {
    "duration": 174,
    "start_time": "2022-02-23T07:25:25.027Z"
   },
   {
    "duration": 5,
    "start_time": "2022-02-23T07:25:25.564Z"
   },
   {
    "duration": 17,
    "start_time": "2022-02-23T07:25:25.602Z"
   },
   {
    "duration": 20,
    "start_time": "2022-02-23T07:25:25.654Z"
   },
   {
    "duration": 26,
    "start_time": "2022-02-23T07:25:25.722Z"
   },
   {
    "duration": 8,
    "start_time": "2022-02-23T07:25:25.781Z"
   },
   {
    "duration": 8,
    "start_time": "2022-02-23T07:25:25.857Z"
   },
   {
    "duration": 7,
    "start_time": "2022-02-23T07:25:25.893Z"
   },
   {
    "duration": 9,
    "start_time": "2022-02-23T07:25:25.963Z"
   },
   {
    "duration": 3,
    "start_time": "2022-02-23T07:25:26.020Z"
   },
   {
    "duration": 3,
    "start_time": "2022-02-23T07:25:26.082Z"
   },
   {
    "duration": 8,
    "start_time": "2022-02-23T07:25:26.175Z"
   },
   {
    "duration": 13,
    "start_time": "2022-02-23T07:25:26.218Z"
   },
   {
    "duration": 23,
    "start_time": "2022-02-23T07:25:26.256Z"
   },
   {
    "duration": 17,
    "start_time": "2022-02-23T07:25:26.313Z"
   },
   {
    "duration": 6,
    "start_time": "2022-02-23T07:25:26.376Z"
   },
   {
    "duration": 7,
    "start_time": "2022-02-23T07:25:26.418Z"
   },
   {
    "duration": 9,
    "start_time": "2022-02-23T07:25:26.482Z"
   },
   {
    "duration": 4,
    "start_time": "2022-02-23T07:25:26.546Z"
   },
   {
    "duration": 8,
    "start_time": "2022-02-23T07:25:26.584Z"
   },
   {
    "duration": 10,
    "start_time": "2022-02-23T07:25:26.643Z"
   },
   {
    "duration": 6,
    "start_time": "2022-02-23T07:25:26.703Z"
   },
   {
    "duration": 15,
    "start_time": "2022-02-23T07:25:26.739Z"
   },
   {
    "duration": 13,
    "start_time": "2022-02-23T07:25:26.817Z"
   },
   {
    "duration": 3,
    "start_time": "2022-02-23T07:25:26.848Z"
   },
   {
    "duration": 8,
    "start_time": "2022-02-23T07:25:26.874Z"
   },
   {
    "duration": 8,
    "start_time": "2022-02-23T07:25:26.937Z"
   },
   {
    "duration": 2,
    "start_time": "2022-02-23T07:25:26.971Z"
   },
   {
    "duration": 8,
    "start_time": "2022-02-23T07:25:27.003Z"
   },
   {
    "duration": 8,
    "start_time": "2022-02-23T07:25:27.076Z"
   },
   {
    "duration": 2,
    "start_time": "2022-02-23T07:25:27.112Z"
   },
   {
    "duration": 7,
    "start_time": "2022-02-23T07:25:27.144Z"
   },
   {
    "duration": 18,
    "start_time": "2022-02-23T07:25:27.203Z"
   },
   {
    "duration": 32,
    "start_time": "2022-02-23T07:25:27.236Z"
   },
   {
    "duration": 15,
    "start_time": "2022-02-23T07:25:27.275Z"
   },
   {
    "duration": 19,
    "start_time": "2022-02-23T07:25:27.301Z"
   },
   {
    "duration": 3,
    "start_time": "2022-02-23T07:25:27.444Z"
   },
   {
    "duration": 4,
    "start_time": "2022-02-23T07:25:27.985Z"
   },
   {
    "duration": 16,
    "start_time": "2022-02-23T07:25:28.341Z"
   },
   {
    "duration": 11,
    "start_time": "2022-02-23T07:25:28.625Z"
   },
   {
    "duration": 8,
    "start_time": "2022-02-23T07:25:28.880Z"
   },
   {
    "duration": 8,
    "start_time": "2022-02-23T07:25:30.048Z"
   },
   {
    "duration": 4,
    "start_time": "2022-02-23T07:25:30.242Z"
   },
   {
    "duration": 3,
    "start_time": "2022-02-23T07:25:30.482Z"
   },
   {
    "duration": 3,
    "start_time": "2022-02-23T07:25:31.265Z"
   },
   {
    "duration": 12,
    "start_time": "2022-02-23T07:25:31.541Z"
   },
   {
    "duration": 9,
    "start_time": "2022-02-23T07:25:31.874Z"
   },
   {
    "duration": 8,
    "start_time": "2022-02-23T07:25:32.241Z"
   },
   {
    "duration": 3,
    "start_time": "2022-02-23T07:25:32.787Z"
   },
   {
    "duration": 14,
    "start_time": "2022-02-23T07:25:32.849Z"
   },
   {
    "duration": 18,
    "start_time": "2022-02-23T07:25:32.955Z"
   },
   {
    "duration": 8,
    "start_time": "2022-02-23T07:25:32.980Z"
   },
   {
    "duration": 5,
    "start_time": "2022-02-23T07:25:33.040Z"
   },
   {
    "duration": 325,
    "start_time": "2022-02-23T07:25:33.082Z"
   },
   {
    "duration": 10,
    "start_time": "2022-02-23T07:25:33.409Z"
   },
   {
    "duration": 17,
    "start_time": "2022-02-23T07:25:33.421Z"
   },
   {
    "duration": 16,
    "start_time": "2022-02-23T07:25:33.440Z"
   },
   {
    "duration": 11,
    "start_time": "2022-02-23T07:25:33.459Z"
   },
   {
    "duration": 23,
    "start_time": "2022-02-23T07:25:33.472Z"
   },
   {
    "duration": 22,
    "start_time": "2022-02-23T07:25:33.497Z"
   },
   {
    "duration": 5,
    "start_time": "2022-02-23T07:25:33.521Z"
   },
   {
    "duration": 4383,
    "start_time": "2022-02-23T07:25:33.528Z"
   },
   {
    "duration": 9,
    "start_time": "2022-02-23T07:27:33.296Z"
   },
   {
    "duration": 10,
    "start_time": "2022-02-23T07:30:24.000Z"
   },
   {
    "duration": 191,
    "start_time": "2022-02-23T07:30:47.890Z"
   },
   {
    "duration": 15,
    "start_time": "2022-02-23T07:31:25.089Z"
   },
   {
    "duration": 178,
    "start_time": "2022-02-23T07:31:38.159Z"
   },
   {
    "duration": 20,
    "start_time": "2022-02-23T07:31:42.961Z"
   },
   {
    "duration": 12,
    "start_time": "2022-02-23T07:43:30.668Z"
   },
   {
    "duration": 34,
    "start_time": "2022-02-23T07:46:07.420Z"
   },
   {
    "duration": 17,
    "start_time": "2022-02-23T07:51:44.551Z"
   },
   {
    "duration": 12,
    "start_time": "2022-02-23T07:51:50.165Z"
   },
   {
    "duration": 154,
    "start_time": "2022-02-23T07:52:20.401Z"
   },
   {
    "duration": 4,
    "start_time": "2022-02-23T07:52:20.557Z"
   },
   {
    "duration": 22,
    "start_time": "2022-02-23T07:52:20.564Z"
   },
   {
    "duration": 35,
    "start_time": "2022-02-23T07:52:20.588Z"
   },
   {
    "duration": 23,
    "start_time": "2022-02-23T07:52:20.625Z"
   },
   {
    "duration": 8,
    "start_time": "2022-02-23T07:52:20.700Z"
   },
   {
    "duration": 8,
    "start_time": "2022-02-23T07:52:20.762Z"
   },
   {
    "duration": 5,
    "start_time": "2022-02-23T07:52:20.795Z"
   },
   {
    "duration": 7,
    "start_time": "2022-02-23T07:52:20.862Z"
   },
   {
    "duration": 2,
    "start_time": "2022-02-23T07:52:20.930Z"
   },
   {
    "duration": 2,
    "start_time": "2022-02-23T07:52:20.999Z"
   },
   {
    "duration": 9,
    "start_time": "2022-02-23T07:52:21.087Z"
   },
   {
    "duration": 11,
    "start_time": "2022-02-23T07:52:21.118Z"
   },
   {
    "duration": 9,
    "start_time": "2022-02-23T07:52:21.149Z"
   },
   {
    "duration": 8,
    "start_time": "2022-02-23T07:52:21.226Z"
   },
   {
    "duration": 8,
    "start_time": "2022-02-23T07:52:21.296Z"
   },
   {
    "duration": 7,
    "start_time": "2022-02-23T07:52:21.322Z"
   },
   {
    "duration": 10,
    "start_time": "2022-02-23T07:52:21.387Z"
   },
   {
    "duration": 4,
    "start_time": "2022-02-23T07:52:21.458Z"
   },
   {
    "duration": 6,
    "start_time": "2022-02-23T07:52:21.487Z"
   },
   {
    "duration": 7,
    "start_time": "2022-02-23T07:52:21.546Z"
   },
   {
    "duration": 6,
    "start_time": "2022-02-23T07:52:21.614Z"
   },
   {
    "duration": 6,
    "start_time": "2022-02-23T07:52:21.659Z"
   },
   {
    "duration": 8,
    "start_time": "2022-02-23T07:52:21.732Z"
   },
   {
    "duration": 2,
    "start_time": "2022-02-23T07:52:21.756Z"
   },
   {
    "duration": 8,
    "start_time": "2022-02-23T07:52:21.791Z"
   },
   {
    "duration": 8,
    "start_time": "2022-02-23T07:52:21.846Z"
   },
   {
    "duration": 2,
    "start_time": "2022-02-23T07:52:21.874Z"
   },
   {
    "duration": 8,
    "start_time": "2022-02-23T07:52:21.921Z"
   },
   {
    "duration": 7,
    "start_time": "2022-02-23T07:52:21.984Z"
   },
   {
    "duration": 2,
    "start_time": "2022-02-23T07:52:22.009Z"
   },
   {
    "duration": 8,
    "start_time": "2022-02-23T07:52:22.053Z"
   },
   {
    "duration": 18,
    "start_time": "2022-02-23T07:52:22.120Z"
   },
   {
    "duration": 30,
    "start_time": "2022-02-23T07:52:22.143Z"
   },
   {
    "duration": 16,
    "start_time": "2022-02-23T07:52:22.179Z"
   },
   {
    "duration": 4,
    "start_time": "2022-02-23T07:52:22.225Z"
   },
   {
    "duration": 3,
    "start_time": "2022-02-23T07:52:22.344Z"
   },
   {
    "duration": 2,
    "start_time": "2022-02-23T07:52:22.448Z"
   },
   {
    "duration": 12,
    "start_time": "2022-02-23T07:52:22.479Z"
   },
   {
    "duration": 10,
    "start_time": "2022-02-23T07:52:22.515Z"
   },
   {
    "duration": 7,
    "start_time": "2022-02-23T07:52:22.537Z"
   },
   {
    "duration": 7,
    "start_time": "2022-02-23T07:52:22.639Z"
   },
   {
    "duration": 3,
    "start_time": "2022-02-23T07:52:22.674Z"
   },
   {
    "duration": 4,
    "start_time": "2022-02-23T07:52:22.711Z"
   },
   {
    "duration": 3,
    "start_time": "2022-02-23T07:52:27.383Z"
   },
   {
    "duration": 10,
    "start_time": "2022-02-23T07:52:27.427Z"
   },
   {
    "duration": 8,
    "start_time": "2022-02-23T07:52:27.463Z"
   },
   {
    "duration": 7,
    "start_time": "2022-02-23T07:52:27.492Z"
   },
   {
    "duration": 3,
    "start_time": "2022-02-23T07:52:27.558Z"
   },
   {
    "duration": 12,
    "start_time": "2022-02-23T07:52:27.619Z"
   },
   {
    "duration": 16,
    "start_time": "2022-02-23T07:52:27.713Z"
   },
   {
    "duration": 7,
    "start_time": "2022-02-23T07:52:27.743Z"
   },
   {
    "duration": 63,
    "start_time": "2022-02-23T07:52:28.497Z"
   },
   {
    "duration": 304,
    "start_time": "2022-02-23T07:52:29.168Z"
   },
   {
    "duration": 7,
    "start_time": "2022-02-23T07:52:29.697Z"
   },
   {
    "duration": 6,
    "start_time": "2022-02-23T07:52:30.048Z"
   },
   {
    "duration": 17,
    "start_time": "2022-02-23T07:52:30.785Z"
   },
   {
    "duration": 11,
    "start_time": "2022-02-23T07:52:31.735Z"
   },
   {
    "duration": 16,
    "start_time": "2022-02-23T07:53:12.577Z"
   },
   {
    "duration": 22,
    "start_time": "2022-02-23T07:53:35.235Z"
   },
   {
    "duration": 8,
    "start_time": "2022-02-23T07:53:35.741Z"
   },
   {
    "duration": 55,
    "start_time": "2022-02-23T07:53:35.993Z"
   },
   {
    "duration": -638,
    "start_time": "2022-02-23T07:53:36.688Z"
   },
   {
    "duration": -638,
    "start_time": "2022-02-23T07:53:36.690Z"
   },
   {
    "duration": -639,
    "start_time": "2022-02-23T07:53:36.692Z"
   },
   {
    "duration": -640,
    "start_time": "2022-02-23T07:53:36.694Z"
   },
   {
    "duration": -706,
    "start_time": "2022-02-23T07:53:36.760Z"
   },
   {
    "duration": 23,
    "start_time": "2022-02-23T07:53:36.068Z"
   },
   {
    "duration": 5,
    "start_time": "2022-02-23T07:53:36.124Z"
   },
   {
    "duration": 3,
    "start_time": "2022-02-23T07:53:58.643Z"
   },
   {
    "duration": 301,
    "start_time": "2022-02-23T07:53:59.536Z"
   },
   {
    "duration": 7,
    "start_time": "2022-02-23T07:53:59.983Z"
   },
   {
    "duration": 5,
    "start_time": "2022-02-23T07:54:00.705Z"
   },
   {
    "duration": 15,
    "start_time": "2022-02-23T07:54:02.899Z"
   },
   {
    "duration": 12,
    "start_time": "2022-02-23T07:54:03.889Z"
   },
   {
    "duration": 13,
    "start_time": "2022-02-23T07:54:36.385Z"
   },
   {
    "duration": 15,
    "start_time": "2022-02-23T07:54:42.864Z"
   },
   {
    "duration": 12,
    "start_time": "2022-02-23T07:54:58.006Z"
   },
   {
    "duration": 3,
    "start_time": "2022-02-23T07:55:11.826Z"
   },
   {
    "duration": 279,
    "start_time": "2022-02-23T07:55:12.447Z"
   },
   {
    "duration": 6,
    "start_time": "2022-02-23T07:55:15.760Z"
   },
   {
    "duration": 6,
    "start_time": "2022-02-23T07:55:16.752Z"
   },
   {
    "duration": 17,
    "start_time": "2022-02-23T07:55:17.696Z"
   },
   {
    "duration": 11,
    "start_time": "2022-02-23T07:55:28.608Z"
   },
   {
    "duration": 20,
    "start_time": "2022-02-23T07:56:49.727Z"
   },
   {
    "duration": 144,
    "start_time": "2022-02-23T07:57:27.215Z"
   },
   {
    "duration": 4,
    "start_time": "2022-02-23T07:57:27.739Z"
   },
   {
    "duration": 17,
    "start_time": "2022-02-23T07:57:27.777Z"
   },
   {
    "duration": 11,
    "start_time": "2022-02-23T07:57:27.838Z"
   },
   {
    "duration": 26,
    "start_time": "2022-02-23T07:57:27.906Z"
   },
   {
    "duration": 7,
    "start_time": "2022-02-23T07:57:27.983Z"
   },
   {
    "duration": 7,
    "start_time": "2022-02-23T07:57:28.049Z"
   },
   {
    "duration": 5,
    "start_time": "2022-02-23T07:57:28.081Z"
   },
   {
    "duration": 7,
    "start_time": "2022-02-23T07:57:28.144Z"
   },
   {
    "duration": 3,
    "start_time": "2022-02-23T07:57:28.204Z"
   },
   {
    "duration": 2,
    "start_time": "2022-02-23T07:57:28.280Z"
   },
   {
    "duration": 7,
    "start_time": "2022-02-23T07:57:28.363Z"
   },
   {
    "duration": 10,
    "start_time": "2022-02-23T07:57:28.404Z"
   },
   {
    "duration": 8,
    "start_time": "2022-02-23T07:57:28.441Z"
   },
   {
    "duration": 6,
    "start_time": "2022-02-23T07:57:28.506Z"
   },
   {
    "duration": 6,
    "start_time": "2022-02-23T07:57:28.573Z"
   },
   {
    "duration": 6,
    "start_time": "2022-02-23T07:57:28.613Z"
   },
   {
    "duration": 9,
    "start_time": "2022-02-23T07:57:28.676Z"
   },
   {
    "duration": 4,
    "start_time": "2022-02-23T07:57:28.735Z"
   },
   {
    "duration": 6,
    "start_time": "2022-02-23T07:57:28.762Z"
   },
   {
    "duration": 7,
    "start_time": "2022-02-23T07:57:28.839Z"
   },
   {
    "duration": 6,
    "start_time": "2022-02-23T07:57:28.908Z"
   },
   {
    "duration": 6,
    "start_time": "2022-02-23T07:57:28.932Z"
   },
   {
    "duration": 8,
    "start_time": "2022-02-23T07:57:28.994Z"
   },
   {
    "duration": 3,
    "start_time": "2022-02-23T07:57:29.028Z"
   },
   {
    "duration": 8,
    "start_time": "2022-02-23T07:57:29.058Z"
   },
   {
    "duration": 8,
    "start_time": "2022-02-23T07:57:29.122Z"
   },
   {
    "duration": 3,
    "start_time": "2022-02-23T07:57:29.163Z"
   },
   {
    "duration": 7,
    "start_time": "2022-02-23T07:57:29.188Z"
   },
   {
    "duration": 7,
    "start_time": "2022-02-23T07:57:30.096Z"
   },
   {
    "duration": 4,
    "start_time": "2022-02-23T07:57:30.129Z"
   },
   {
    "duration": 7,
    "start_time": "2022-02-23T07:57:30.159Z"
   },
   {
    "duration": 19,
    "start_time": "2022-02-23T07:57:30.229Z"
   },
   {
    "duration": 29,
    "start_time": "2022-02-23T07:57:30.267Z"
   },
   {
    "duration": 16,
    "start_time": "2022-02-23T07:57:30.298Z"
   },
   {
    "duration": 9,
    "start_time": "2022-02-23T07:57:30.318Z"
   },
   {
    "duration": 2,
    "start_time": "2022-02-23T07:57:30.459Z"
   },
   {
    "duration": 3,
    "start_time": "2022-02-23T07:57:30.552Z"
   },
   {
    "duration": 12,
    "start_time": "2022-02-23T07:57:30.587Z"
   },
   {
    "duration": 10,
    "start_time": "2022-02-23T07:57:30.617Z"
   },
   {
    "duration": 7,
    "start_time": "2022-02-23T07:57:30.656Z"
   },
   {
    "duration": 7,
    "start_time": "2022-02-23T07:57:31.871Z"
   },
   {
    "duration": 4,
    "start_time": "2022-02-23T07:57:32.143Z"
   },
   {
    "duration": 4,
    "start_time": "2022-02-23T07:57:32.644Z"
   },
   {
    "duration": 3,
    "start_time": "2022-02-23T07:57:32.753Z"
   },
   {
    "duration": 10,
    "start_time": "2022-02-23T07:57:32.787Z"
   },
   {
    "duration": 7,
    "start_time": "2022-02-23T07:57:32.818Z"
   },
   {
    "duration": 11,
    "start_time": "2022-02-23T07:57:32.849Z"
   },
   {
    "duration": 3,
    "start_time": "2022-02-23T07:57:32.918Z"
   },
   {
    "duration": 12,
    "start_time": "2022-02-23T07:57:32.981Z"
   },
   {
    "duration": 15,
    "start_time": "2022-02-23T07:57:33.078Z"
   },
   {
    "duration": 19,
    "start_time": "2022-02-23T07:57:33.101Z"
   },
   {
    "duration": 5,
    "start_time": "2022-02-23T07:57:33.185Z"
   },
   {
    "duration": 311,
    "start_time": "2022-02-23T07:57:33.216Z"
   },
   {
    "duration": 6,
    "start_time": "2022-02-23T07:57:33.529Z"
   },
   {
    "duration": 22,
    "start_time": "2022-02-23T07:57:33.538Z"
   },
   {
    "duration": 207,
    "start_time": "2022-02-23T07:57:33.562Z"
   },
   {
    "duration": -647,
    "start_time": "2022-02-23T07:57:34.418Z"
   },
   {
    "duration": -648,
    "start_time": "2022-02-23T07:57:34.420Z"
   },
   {
    "duration": -648,
    "start_time": "2022-02-23T07:57:34.421Z"
   },
   {
    "duration": -650,
    "start_time": "2022-02-23T07:57:34.424Z"
   },
   {
    "duration": -761,
    "start_time": "2022-02-23T07:57:34.536Z"
   },
   {
    "duration": 18,
    "start_time": "2022-02-23T07:57:46.942Z"
   },
   {
    "duration": 12,
    "start_time": "2022-02-23T07:57:51.215Z"
   },
   {
    "duration": 148,
    "start_time": "2022-02-23T08:01:47.487Z"
   },
   {
    "duration": 4,
    "start_time": "2022-02-23T08:01:48.020Z"
   },
   {
    "duration": 15,
    "start_time": "2022-02-23T08:01:48.103Z"
   },
   {
    "duration": 12,
    "start_time": "2022-02-23T08:01:48.120Z"
   },
   {
    "duration": 20,
    "start_time": "2022-02-23T08:01:48.178Z"
   },
   {
    "duration": 7,
    "start_time": "2022-02-23T08:01:48.241Z"
   },
   {
    "duration": 7,
    "start_time": "2022-02-23T08:01:48.309Z"
   },
   {
    "duration": 5,
    "start_time": "2022-02-23T08:01:48.352Z"
   },
   {
    "duration": 7,
    "start_time": "2022-02-23T08:01:48.426Z"
   },
   {
    "duration": 2,
    "start_time": "2022-02-23T08:01:48.479Z"
   },
   {
    "duration": 2,
    "start_time": "2022-02-23T08:01:48.563Z"
   },
   {
    "duration": 7,
    "start_time": "2022-02-23T08:01:48.649Z"
   },
   {
    "duration": 10,
    "start_time": "2022-02-23T08:01:48.673Z"
   },
   {
    "duration": 8,
    "start_time": "2022-02-23T08:01:48.701Z"
   },
   {
    "duration": 6,
    "start_time": "2022-02-23T08:01:48.779Z"
   },
   {
    "duration": 8,
    "start_time": "2022-02-23T08:01:48.844Z"
   },
   {
    "duration": 7,
    "start_time": "2022-02-23T08:01:48.874Z"
   },
   {
    "duration": 9,
    "start_time": "2022-02-23T08:01:48.945Z"
   },
   {
    "duration": 4,
    "start_time": "2022-02-23T08:01:49.008Z"
   },
   {
    "duration": 6,
    "start_time": "2022-02-23T08:01:49.030Z"
   },
   {
    "duration": 6,
    "start_time": "2022-02-23T08:01:49.176Z"
   },
   {
    "duration": 4,
    "start_time": "2022-02-23T08:01:49.184Z"
   },
   {
    "duration": 5,
    "start_time": "2022-02-23T08:01:49.208Z"
   },
   {
    "duration": 7,
    "start_time": "2022-02-23T08:01:49.277Z"
   },
   {
    "duration": 6,
    "start_time": "2022-02-23T08:01:49.308Z"
   },
   {
    "duration": 7,
    "start_time": "2022-02-23T08:01:49.395Z"
   },
   {
    "duration": 17,
    "start_time": "2022-02-23T08:01:49.404Z"
   },
   {
    "duration": 2,
    "start_time": "2022-02-23T08:01:49.439Z"
   },
   {
    "duration": 8,
    "start_time": "2022-02-23T08:01:49.473Z"
   },
   {
    "duration": 7,
    "start_time": "2022-02-23T08:01:49.546Z"
   },
   {
    "duration": 2,
    "start_time": "2022-02-23T08:01:49.581Z"
   },
   {
    "duration": 8,
    "start_time": "2022-02-23T08:01:49.646Z"
   },
   {
    "duration": 17,
    "start_time": "2022-02-23T08:01:49.661Z"
   },
   {
    "duration": 31,
    "start_time": "2022-02-23T08:01:49.704Z"
   },
   {
    "duration": 14,
    "start_time": "2022-02-23T08:01:49.737Z"
   },
   {
    "duration": 3,
    "start_time": "2022-02-23T08:01:49.758Z"
   },
   {
    "duration": 3,
    "start_time": "2022-02-23T08:01:49.900Z"
   },
   {
    "duration": 3,
    "start_time": "2022-02-23T08:01:50.988Z"
   },
   {
    "duration": 12,
    "start_time": "2022-02-23T08:01:51.628Z"
   },
   {
    "duration": 9,
    "start_time": "2022-02-23T08:01:52.127Z"
   },
   {
    "duration": 6,
    "start_time": "2022-02-23T08:01:52.156Z"
   },
   {
    "duration": 8,
    "start_time": "2022-02-23T08:01:52.257Z"
   },
   {
    "duration": 4,
    "start_time": "2022-02-23T08:01:52.290Z"
   },
   {
    "duration": 4,
    "start_time": "2022-02-23T08:01:52.373Z"
   },
   {
    "duration": 3,
    "start_time": "2022-02-23T08:01:52.426Z"
   },
   {
    "duration": 10,
    "start_time": "2022-02-23T08:01:52.456Z"
   },
   {
    "duration": 7,
    "start_time": "2022-02-23T08:01:52.493Z"
   },
   {
    "duration": 6,
    "start_time": "2022-02-23T08:01:52.522Z"
   },
   {
    "duration": 2,
    "start_time": "2022-02-23T08:01:52.607Z"
   },
   {
    "duration": 11,
    "start_time": "2022-02-23T08:01:52.647Z"
   },
   {
    "duration": 15,
    "start_time": "2022-02-23T08:01:52.756Z"
   },
   {
    "duration": 8,
    "start_time": "2022-02-23T08:01:52.791Z"
   },
   {
    "duration": 3,
    "start_time": "2022-02-23T08:01:52.854Z"
   },
   {
    "duration": 291,
    "start_time": "2022-02-23T08:01:52.888Z"
   },
   {
    "duration": 7,
    "start_time": "2022-02-23T08:01:53.181Z"
   },
   {
    "duration": 8,
    "start_time": "2022-02-23T08:01:53.190Z"
   },
   {
    "duration": 25,
    "start_time": "2022-02-23T08:01:53.200Z"
   },
   {
    "duration": 12,
    "start_time": "2022-02-23T08:01:53.895Z"
   },
   {
    "duration": 55,
    "start_time": "2022-02-23T08:02:04.069Z"
   },
   {
    "duration": 17,
    "start_time": "2022-02-23T08:02:08.012Z"
   },
   {
    "duration": 12,
    "start_time": "2022-02-23T08:02:11.164Z"
   },
   {
    "duration": 201,
    "start_time": "2022-02-23T08:03:34.910Z"
   },
   {
    "duration": 3,
    "start_time": "2022-02-23T08:03:35.453Z"
   },
   {
    "duration": 16,
    "start_time": "2022-02-23T08:03:35.489Z"
   },
   {
    "duration": 15,
    "start_time": "2022-02-23T08:03:35.551Z"
   },
   {
    "duration": 22,
    "start_time": "2022-02-23T08:03:35.621Z"
   },
   {
    "duration": 8,
    "start_time": "2022-02-23T08:03:35.674Z"
   },
   {
    "duration": 8,
    "start_time": "2022-02-23T08:03:35.740Z"
   },
   {
    "duration": 5,
    "start_time": "2022-02-23T08:03:35.782Z"
   },
   {
    "duration": 13,
    "start_time": "2022-02-23T08:03:35.847Z"
   },
   {
    "duration": 2,
    "start_time": "2022-02-23T08:03:35.914Z"
   },
   {
    "duration": 2,
    "start_time": "2022-02-23T08:03:35.976Z"
   },
   {
    "duration": 8,
    "start_time": "2022-02-23T08:03:36.067Z"
   },
   {
    "duration": 11,
    "start_time": "2022-02-23T08:03:36.102Z"
   },
   {
    "duration": 9,
    "start_time": "2022-02-23T08:03:36.150Z"
   },
   {
    "duration": 6,
    "start_time": "2022-02-23T08:03:36.207Z"
   },
   {
    "duration": 6,
    "start_time": "2022-02-23T08:03:36.283Z"
   },
   {
    "duration": 7,
    "start_time": "2022-02-23T08:03:36.315Z"
   },
   {
    "duration": 9,
    "start_time": "2022-02-23T08:03:36.377Z"
   },
   {
    "duration": 4,
    "start_time": "2022-02-23T08:03:36.449Z"
   },
   {
    "duration": 6,
    "start_time": "2022-02-23T08:03:36.474Z"
   },
   {
    "duration": 7,
    "start_time": "2022-02-23T08:03:36.546Z"
   },
   {
    "duration": 6,
    "start_time": "2022-02-23T08:03:36.601Z"
   },
   {
    "duration": 6,
    "start_time": "2022-02-23T08:03:36.638Z"
   },
   {
    "duration": 7,
    "start_time": "2022-02-23T08:03:36.739Z"
   },
   {
    "duration": 5,
    "start_time": "2022-02-23T08:03:36.748Z"
   },
   {
    "duration": 14,
    "start_time": "2022-02-23T08:03:36.771Z"
   },
   {
    "duration": 7,
    "start_time": "2022-02-23T08:03:36.836Z"
   },
   {
    "duration": 2,
    "start_time": "2022-02-23T08:03:36.867Z"
   },
   {
    "duration": 7,
    "start_time": "2022-02-23T08:03:36.905Z"
   },
   {
    "duration": 8,
    "start_time": "2022-02-23T08:03:36.961Z"
   },
   {
    "duration": 3,
    "start_time": "2022-02-23T08:03:36.997Z"
   },
   {
    "duration": 7,
    "start_time": "2022-02-23T08:03:37.031Z"
   },
   {
    "duration": 17,
    "start_time": "2022-02-23T08:03:37.130Z"
   },
   {
    "duration": 35,
    "start_time": "2022-02-23T08:03:37.149Z"
   },
   {
    "duration": 15,
    "start_time": "2022-02-23T08:03:37.186Z"
   },
   {
    "duration": 4,
    "start_time": "2022-02-23T08:03:37.203Z"
   },
   {
    "duration": 2,
    "start_time": "2022-02-23T08:03:37.343Z"
   },
   {
    "duration": 3,
    "start_time": "2022-02-23T08:03:37.421Z"
   },
   {
    "duration": 11,
    "start_time": "2022-02-23T08:03:37.462Z"
   },
   {
    "duration": 24,
    "start_time": "2022-02-23T08:03:37.483Z"
   },
   {
    "duration": 7,
    "start_time": "2022-02-23T08:03:37.533Z"
   },
   {
    "duration": 7,
    "start_time": "2022-02-23T08:03:37.632Z"
   },
   {
    "duration": 3,
    "start_time": "2022-02-23T08:03:37.663Z"
   },
   {
    "duration": 3,
    "start_time": "2022-02-23T08:03:37.688Z"
   },
   {
    "duration": 3,
    "start_time": "2022-02-23T08:03:37.782Z"
   },
   {
    "duration": 10,
    "start_time": "2022-02-23T08:03:37.826Z"
   },
   {
    "duration": 9,
    "start_time": "2022-02-23T08:03:38.173Z"
   },
   {
    "duration": 7,
    "start_time": "2022-02-23T08:03:38.677Z"
   },
   {
    "duration": 2,
    "start_time": "2022-02-23T08:03:38.742Z"
   },
   {
    "duration": 12,
    "start_time": "2022-02-23T08:03:38.814Z"
   },
   {
    "duration": 16,
    "start_time": "2022-02-23T08:03:38.930Z"
   },
   {
    "duration": 6,
    "start_time": "2022-02-23T08:03:38.951Z"
   },
   {
    "duration": 3,
    "start_time": "2022-02-23T08:03:39.010Z"
   },
   {
    "duration": 300,
    "start_time": "2022-02-23T08:03:39.039Z"
   },
   {
    "duration": 8,
    "start_time": "2022-02-23T08:03:39.341Z"
   },
   {
    "duration": 11,
    "start_time": "2022-02-23T08:03:39.351Z"
   },
   {
    "duration": 19,
    "start_time": "2022-02-23T08:03:39.364Z"
   },
   {
    "duration": 11,
    "start_time": "2022-02-23T08:03:39.891Z"
   },
   {
    "duration": 24,
    "start_time": "2022-02-23T08:03:39.960Z"
   },
   {
    "duration": 6,
    "start_time": "2022-02-23T08:03:40.020Z"
   },
   {
    "duration": 3,
    "start_time": "2022-02-23T08:03:40.083Z"
   },
   {
    "duration": 6334,
    "start_time": "2022-02-23T08:03:40.131Z"
   },
   {
    "duration": -780,
    "start_time": "2022-02-23T08:03:47.248Z"
   },
   {
    "duration": 62,
    "start_time": "2022-02-23T08:07:05.836Z"
   },
   {
    "duration": 16,
    "start_time": "2022-02-23T08:10:16.380Z"
   },
   {
    "duration": 11,
    "start_time": "2022-02-23T08:10:21.141Z"
   },
   {
    "duration": 160,
    "start_time": "2022-02-23T08:10:28.344Z"
   },
   {
    "duration": 4,
    "start_time": "2022-02-23T08:10:28.884Z"
   },
   {
    "duration": 16,
    "start_time": "2022-02-23T08:10:28.926Z"
   },
   {
    "duration": 12,
    "start_time": "2022-02-23T08:10:28.979Z"
   },
   {
    "duration": 22,
    "start_time": "2022-02-23T08:10:29.043Z"
   },
   {
    "duration": 8,
    "start_time": "2022-02-23T08:10:29.104Z"
   },
   {
    "duration": 8,
    "start_time": "2022-02-23T08:10:29.174Z"
   },
   {
    "duration": 5,
    "start_time": "2022-02-23T08:10:29.199Z"
   },
   {
    "duration": 7,
    "start_time": "2022-02-23T08:10:29.280Z"
   },
   {
    "duration": 2,
    "start_time": "2022-02-23T08:10:29.349Z"
   },
   {
    "duration": 2,
    "start_time": "2022-02-23T08:10:29.433Z"
   },
   {
    "duration": 7,
    "start_time": "2022-02-23T08:10:29.510Z"
   },
   {
    "duration": 10,
    "start_time": "2022-02-23T08:10:29.546Z"
   },
   {
    "duration": 9,
    "start_time": "2022-02-23T08:10:29.571Z"
   },
   {
    "duration": 7,
    "start_time": "2022-02-23T08:10:29.630Z"
   },
   {
    "duration": 7,
    "start_time": "2022-02-23T08:10:29.694Z"
   },
   {
    "duration": 7,
    "start_time": "2022-02-23T08:10:29.746Z"
   },
   {
    "duration": 9,
    "start_time": "2022-02-23T08:10:29.814Z"
   },
   {
    "duration": 3,
    "start_time": "2022-02-23T08:10:29.877Z"
   },
   {
    "duration": 6,
    "start_time": "2022-02-23T08:10:29.900Z"
   },
   {
    "duration": 6,
    "start_time": "2022-02-23T08:10:29.966Z"
   },
   {
    "duration": 5,
    "start_time": "2022-02-23T08:10:30.041Z"
   },
   {
    "duration": 7,
    "start_time": "2022-02-23T08:10:30.073Z"
   },
   {
    "duration": 7,
    "start_time": "2022-02-23T08:10:30.133Z"
   },
   {
    "duration": 2,
    "start_time": "2022-02-23T08:10:30.168Z"
   },
   {
    "duration": 7,
    "start_time": "2022-02-23T08:10:30.201Z"
   },
   {
    "duration": 8,
    "start_time": "2022-02-23T08:10:30.260Z"
   },
   {
    "duration": 2,
    "start_time": "2022-02-23T08:10:30.292Z"
   },
   {
    "duration": 7,
    "start_time": "2022-02-23T08:10:30.633Z"
   },
   {
    "duration": 8,
    "start_time": "2022-02-23T08:10:31.176Z"
   },
   {
    "duration": 2,
    "start_time": "2022-02-23T08:10:31.212Z"
   },
   {
    "duration": 7,
    "start_time": "2022-02-23T08:10:31.240Z"
   },
   {
    "duration": 17,
    "start_time": "2022-02-23T08:10:31.304Z"
   },
   {
    "duration": 30,
    "start_time": "2022-02-23T08:10:31.341Z"
   },
   {
    "duration": 15,
    "start_time": "2022-02-23T08:10:31.374Z"
   },
   {
    "duration": 4,
    "start_time": "2022-02-23T08:10:31.404Z"
   },
   {
    "duration": 3,
    "start_time": "2022-02-23T08:10:33.580Z"
   },
   {
    "duration": 2,
    "start_time": "2022-02-23T08:10:33.679Z"
   },
   {
    "duration": 12,
    "start_time": "2022-02-23T08:10:33.707Z"
   },
   {
    "duration": 11,
    "start_time": "2022-02-23T08:10:33.742Z"
   },
   {
    "duration": 7,
    "start_time": "2022-02-23T08:10:33.770Z"
   },
   {
    "duration": 8,
    "start_time": "2022-02-23T08:10:37.449Z"
   },
   {
    "duration": 3,
    "start_time": "2022-02-23T08:10:37.945Z"
   },
   {
    "duration": 3,
    "start_time": "2022-02-23T08:10:37.976Z"
   },
   {
    "duration": 3,
    "start_time": "2022-02-23T08:10:38.092Z"
   },
   {
    "duration": 11,
    "start_time": "2022-02-23T08:10:38.118Z"
   },
   {
    "duration": 8,
    "start_time": "2022-02-23T08:10:38.154Z"
   },
   {
    "duration": 6,
    "start_time": "2022-02-23T08:10:38.183Z"
   },
   {
    "duration": 2,
    "start_time": "2022-02-23T08:10:38.248Z"
   },
   {
    "duration": 12,
    "start_time": "2022-02-23T08:10:39.047Z"
   },
   {
    "duration": 18,
    "start_time": "2022-02-23T08:10:40.697Z"
   },
   {
    "duration": 7,
    "start_time": "2022-02-23T08:10:41.290Z"
   },
   {
    "duration": 3,
    "start_time": "2022-02-23T08:10:42.121Z"
   },
   {
    "duration": 289,
    "start_time": "2022-02-23T08:10:42.360Z"
   },
   {
    "duration": 7,
    "start_time": "2022-02-23T08:10:42.651Z"
   },
   {
    "duration": 7,
    "start_time": "2022-02-23T08:10:44.216Z"
   },
   {
    "duration": 14,
    "start_time": "2022-02-23T08:10:44.825Z"
   },
   {
    "duration": 14,
    "start_time": "2022-02-23T08:10:49.945Z"
   },
   {
    "duration": 11,
    "start_time": "2022-02-23T08:10:52.099Z"
   },
   {
    "duration": 3,
    "start_time": "2022-02-23T08:11:21.753Z"
   },
   {
    "duration": 287,
    "start_time": "2022-02-23T08:11:22.152Z"
   },
   {
    "duration": 8,
    "start_time": "2022-02-23T08:11:22.665Z"
   },
   {
    "duration": 6,
    "start_time": "2022-02-23T08:11:23.113Z"
   },
   {
    "duration": 17,
    "start_time": "2022-02-23T08:11:23.480Z"
   },
   {
    "duration": 11,
    "start_time": "2022-02-23T08:11:24.600Z"
   },
   {
    "duration": 24,
    "start_time": "2022-02-23T08:11:25.736Z"
   },
   {
    "duration": 5,
    "start_time": "2022-02-23T08:11:27.850Z"
   },
   {
    "duration": 13,
    "start_time": "2022-02-23T08:11:33.416Z"
   },
   {
    "duration": 3,
    "start_time": "2022-02-23T08:11:54.363Z"
   },
   {
    "duration": 292,
    "start_time": "2022-02-23T08:11:55.017Z"
   },
   {
    "duration": 333,
    "start_time": "2022-02-23T08:12:40.074Z"
   },
   {
    "duration": 292,
    "start_time": "2022-02-23T08:12:57.961Z"
   },
   {
    "duration": 3,
    "start_time": "2022-02-23T08:13:26.569Z"
   },
   {
    "duration": 295,
    "start_time": "2022-02-23T08:13:30.280Z"
   },
   {
    "duration": 3,
    "start_time": "2022-02-23T08:13:56.168Z"
   },
   {
    "duration": 279,
    "start_time": "2022-02-23T08:13:59.048Z"
   },
   {
    "duration": 3,
    "start_time": "2022-02-23T08:14:06.296Z"
   },
   {
    "duration": 306,
    "start_time": "2022-02-23T08:14:10.840Z"
   },
   {
    "duration": 9,
    "start_time": "2022-02-23T08:14:26.119Z"
   },
   {
    "duration": 9,
    "start_time": "2022-02-23T08:14:30.555Z"
   },
   {
    "duration": 15,
    "start_time": "2022-02-23T08:15:10.428Z"
   },
   {
    "duration": 7,
    "start_time": "2022-02-23T08:15:10.712Z"
   },
   {
    "duration": 3,
    "start_time": "2022-02-23T08:15:13.800Z"
   },
   {
    "duration": 306,
    "start_time": "2022-02-23T08:15:25.047Z"
   },
   {
    "duration": 3,
    "start_time": "2022-02-23T08:16:25.735Z"
   },
   {
    "duration": 13,
    "start_time": "2022-02-23T08:16:27.062Z"
   },
   {
    "duration": 3,
    "start_time": "2022-02-23T08:16:34.535Z"
   },
   {
    "duration": 9,
    "start_time": "2022-02-23T08:16:35.239Z"
   },
   {
    "duration": 8,
    "start_time": "2022-02-23T08:16:36.276Z"
   },
   {
    "duration": 9,
    "start_time": "2022-02-23T08:16:36.855Z"
   },
   {
    "duration": 3,
    "start_time": "2022-02-23T08:16:38.598Z"
   },
   {
    "duration": 11,
    "start_time": "2022-02-23T08:16:39.543Z"
   },
   {
    "duration": 16,
    "start_time": "2022-02-23T08:16:41.190Z"
   },
   {
    "duration": 7,
    "start_time": "2022-02-23T08:16:42.096Z"
   },
   {
    "duration": 3,
    "start_time": "2022-02-23T08:16:43.750Z"
   },
   {
    "duration": 11,
    "start_time": "2022-02-23T08:16:44.566Z"
   },
   {
    "duration": 8,
    "start_time": "2022-02-23T08:18:43.408Z"
   },
   {
    "duration": 4,
    "start_time": "2022-02-23T08:18:44.741Z"
   },
   {
    "duration": 3,
    "start_time": "2022-02-23T08:18:51.398Z"
   },
   {
    "duration": 13,
    "start_time": "2022-02-23T08:18:51.814Z"
   },
   {
    "duration": 3,
    "start_time": "2022-02-23T08:19:04.358Z"
   },
   {
    "duration": 12,
    "start_time": "2022-02-23T08:19:05.045Z"
   },
   {
    "duration": 4,
    "start_time": "2022-02-23T08:19:31.491Z"
   },
   {
    "duration": 277,
    "start_time": "2022-02-23T08:19:32.197Z"
   },
   {
    "duration": 3,
    "start_time": "2022-02-23T08:22:09.358Z"
   },
   {
    "duration": 306,
    "start_time": "2022-02-23T08:22:36.870Z"
   },
   {
    "duration": 6,
    "start_time": "2022-02-23T08:22:45.508Z"
   },
   {
    "duration": 5,
    "start_time": "2022-02-23T08:22:47.365Z"
   },
   {
    "duration": 6,
    "start_time": "2022-02-23T08:23:50.131Z"
   },
   {
    "duration": 6,
    "start_time": "2022-02-23T08:24:05.878Z"
   },
   {
    "duration": 17,
    "start_time": "2022-02-23T08:24:20.519Z"
   },
   {
    "duration": 12,
    "start_time": "2022-02-23T08:24:22.387Z"
   },
   {
    "duration": 6,
    "start_time": "2022-02-23T08:24:58.532Z"
   },
   {
    "duration": 10,
    "start_time": "2022-02-23T08:25:00.420Z"
   },
   {
    "duration": 297,
    "start_time": "2022-02-23T08:25:34.788Z"
   },
   {
    "duration": 11,
    "start_time": "2022-02-23T08:25:37.427Z"
   },
   {
    "duration": 12,
    "start_time": "2022-02-23T08:25:44.835Z"
   },
   {
    "duration": 14,
    "start_time": "2022-02-23T08:25:52.771Z"
   },
   {
    "duration": 11,
    "start_time": "2022-02-23T08:25:53.492Z"
   },
   {
    "duration": 12,
    "start_time": "2022-02-23T08:26:05.395Z"
   },
   {
    "duration": 17,
    "start_time": "2022-02-23T08:26:09.989Z"
   },
   {
    "duration": 190,
    "start_time": "2022-02-23T08:26:15.747Z"
   },
   {
    "duration": 4,
    "start_time": "2022-02-23T08:26:16.290Z"
   },
   {
    "duration": 17,
    "start_time": "2022-02-23T08:26:16.328Z"
   },
   {
    "duration": 12,
    "start_time": "2022-02-23T08:26:16.379Z"
   },
   {
    "duration": 22,
    "start_time": "2022-02-23T08:26:16.454Z"
   },
   {
    "duration": 8,
    "start_time": "2022-02-23T08:26:16.504Z"
   },
   {
    "duration": 7,
    "start_time": "2022-02-23T08:26:16.579Z"
   },
   {
    "duration": 5,
    "start_time": "2022-02-23T08:26:16.613Z"
   },
   {
    "duration": 7,
    "start_time": "2022-02-23T08:26:16.680Z"
   },
   {
    "duration": 3,
    "start_time": "2022-02-23T08:26:16.750Z"
   },
   {
    "duration": 3,
    "start_time": "2022-02-23T08:26:16.802Z"
   },
   {
    "duration": 8,
    "start_time": "2022-02-23T08:26:16.896Z"
   },
   {
    "duration": 11,
    "start_time": "2022-02-23T08:26:16.947Z"
   },
   {
    "duration": 9,
    "start_time": "2022-02-23T08:26:16.978Z"
   },
   {
    "duration": 7,
    "start_time": "2022-02-23T08:26:17.038Z"
   },
   {
    "duration": 6,
    "start_time": "2022-02-23T08:26:17.100Z"
   },
   {
    "duration": 6,
    "start_time": "2022-02-23T08:26:17.134Z"
   },
   {
    "duration": 8,
    "start_time": "2022-02-23T08:26:17.196Z"
   },
   {
    "duration": 4,
    "start_time": "2022-02-23T08:26:17.275Z"
   },
   {
    "duration": 6,
    "start_time": "2022-02-23T08:26:17.318Z"
   },
   {
    "duration": 6,
    "start_time": "2022-02-23T08:26:17.380Z"
   },
   {
    "duration": 5,
    "start_time": "2022-02-23T08:26:17.436Z"
   },
   {
    "duration": 5,
    "start_time": "2022-02-23T08:26:17.467Z"
   },
   {
    "duration": 8,
    "start_time": "2022-02-23T08:26:17.533Z"
   },
   {
    "duration": 2,
    "start_time": "2022-02-23T08:26:17.566Z"
   },
   {
    "duration": 7,
    "start_time": "2022-02-23T08:26:17.634Z"
   },
   {
    "duration": 7,
    "start_time": "2022-02-23T08:26:17.668Z"
   },
   {
    "duration": 2,
    "start_time": "2022-02-23T08:26:18.798Z"
   },
   {
    "duration": 9,
    "start_time": "2022-02-23T08:26:18.802Z"
   },
   {
    "duration": 7,
    "start_time": "2022-02-23T08:26:18.813Z"
   },
   {
    "duration": 6,
    "start_time": "2022-02-23T08:26:18.822Z"
   },
   {
    "duration": 13,
    "start_time": "2022-02-23T08:26:18.830Z"
   },
   {
    "duration": 17,
    "start_time": "2022-02-23T08:26:18.844Z"
   },
   {
    "duration": 29,
    "start_time": "2022-02-23T08:26:18.863Z"
   },
   {
    "duration": 34,
    "start_time": "2022-02-23T08:26:18.893Z"
   },
   {
    "duration": 4,
    "start_time": "2022-02-23T08:26:18.929Z"
   },
   {
    "duration": 4,
    "start_time": "2022-02-23T08:26:18.935Z"
   },
   {
    "duration": 3,
    "start_time": "2022-02-23T08:26:18.977Z"
   },
   {
    "duration": 12,
    "start_time": "2022-02-23T08:26:19.233Z"
   },
   {
    "duration": 9,
    "start_time": "2022-02-23T08:26:19.724Z"
   },
   {
    "duration": 6,
    "start_time": "2022-02-23T08:26:19.754Z"
   },
   {
    "duration": 9,
    "start_time": "2022-02-23T08:26:19.855Z"
   },
   {
    "duration": 3,
    "start_time": "2022-02-23T08:26:19.893Z"
   },
   {
    "duration": 4,
    "start_time": "2022-02-23T08:26:19.937Z"
   },
   {
    "duration": 4,
    "start_time": "2022-02-23T08:26:20.032Z"
   },
   {
    "duration": 11,
    "start_time": "2022-02-23T08:26:20.063Z"
   },
   {
    "duration": 8,
    "start_time": "2022-02-23T08:26:20.092Z"
   },
   {
    "duration": 11,
    "start_time": "2022-02-23T08:26:20.451Z"
   },
   {
    "duration": 2,
    "start_time": "2022-02-23T08:26:20.998Z"
   },
   {
    "duration": 13,
    "start_time": "2022-02-23T08:26:21.052Z"
   },
   {
    "duration": 16,
    "start_time": "2022-02-23T08:26:21.171Z"
   },
   {
    "duration": 8,
    "start_time": "2022-02-23T08:26:21.202Z"
   },
   {
    "duration": 4,
    "start_time": "2022-02-23T08:26:21.746Z"
   },
   {
    "duration": 288,
    "start_time": "2022-02-23T08:26:22.243Z"
   },
   {
    "duration": 7,
    "start_time": "2022-02-23T08:26:22.836Z"
   },
   {
    "duration": 7,
    "start_time": "2022-02-23T08:26:23.546Z"
   },
   {
    "duration": 390,
    "start_time": "2022-02-23T08:26:23.911Z"
   },
   {
    "duration": 12,
    "start_time": "2022-02-23T08:26:24.644Z"
   },
   {
    "duration": 24,
    "start_time": "2022-02-23T08:26:25.491Z"
   },
   {
    "duration": 7,
    "start_time": "2022-02-23T08:26:26.690Z"
   },
   {
    "duration": 5,
    "start_time": "2022-02-23T08:26:27.507Z"
   },
   {
    "duration": 4816,
    "start_time": "2022-02-23T08:26:28.500Z"
   },
   {
    "duration": -772,
    "start_time": "2022-02-23T08:26:34.090Z"
   },
   {
    "duration": 5510,
    "start_time": "2022-02-23T08:26:35.634Z"
   },
   {
    "duration": 5,
    "start_time": "2022-02-23T08:27:21.682Z"
   },
   {
    "duration": 3,
    "start_time": "2022-02-23T08:27:22.674Z"
   },
   {
    "duration": 4672,
    "start_time": "2022-02-23T08:27:31.491Z"
   },
   {
    "duration": 24,
    "start_time": "2022-02-23T08:27:45.538Z"
   },
   {
    "duration": 23,
    "start_time": "2022-02-23T08:28:39.207Z"
   },
   {
    "duration": 6,
    "start_time": "2022-02-23T08:28:42.481Z"
   },
   {
    "duration": 19,
    "start_time": "2022-02-23T08:28:49.585Z"
   },
   {
    "duration": 4,
    "start_time": "2022-02-23T08:29:04.116Z"
   },
   {
    "duration": 25,
    "start_time": "2022-02-23T08:29:27.123Z"
   },
   {
    "duration": 5,
    "start_time": "2022-02-23T08:31:25.729Z"
   },
   {
    "duration": 10,
    "start_time": "2022-02-23T08:31:53.233Z"
   },
   {
    "duration": 154,
    "start_time": "2022-02-23T09:15:05.553Z"
   },
   {
    "duration": 4,
    "start_time": "2022-02-23T09:15:18.654Z"
   },
   {
    "duration": 1586,
    "start_time": "2022-02-23T09:16:11.599Z"
   },
   {
    "duration": 4957,
    "start_time": "2022-02-23T09:16:13.643Z"
   },
   {
    "duration": 848,
    "start_time": "2022-02-23T09:17:05.819Z"
   },
   {
    "duration": 10,
    "start_time": "2022-02-23T09:17:13.558Z"
   },
   {
    "duration": 5,
    "start_time": "2022-02-23T09:17:16.331Z"
   },
   {
    "duration": 1086,
    "start_time": "2022-02-23T09:17:20.588Z"
   },
   {
    "duration": 3,
    "start_time": "2022-02-23T09:20:33.675Z"
   },
   {
    "duration": 9,
    "start_time": "2022-02-23T09:20:39.228Z"
   },
   {
    "duration": 8,
    "start_time": "2022-02-23T09:20:41.338Z"
   },
   {
    "duration": 4,
    "start_time": "2022-02-23T19:31:21.132Z"
   },
   {
    "duration": 3,
    "start_time": "2022-02-23T19:31:43.736Z"
   },
   {
    "duration": 222,
    "start_time": "2022-02-23T19:32:59.360Z"
   },
   {
    "duration": 690,
    "start_time": "2022-02-23T19:33:04.152Z"
   },
   {
    "duration": 9,
    "start_time": "2022-02-23T19:33:04.844Z"
   },
   {
    "duration": 17,
    "start_time": "2022-02-23T19:33:04.856Z"
   },
   {
    "duration": 13,
    "start_time": "2022-02-23T19:33:04.875Z"
   },
   {
    "duration": 46,
    "start_time": "2022-02-23T19:33:04.889Z"
   },
   {
    "duration": 6,
    "start_time": "2022-02-23T19:33:04.937Z"
   },
   {
    "duration": 8,
    "start_time": "2022-02-23T19:33:05.010Z"
   },
   {
    "duration": 7,
    "start_time": "2022-02-23T19:33:05.020Z"
   },
   {
    "duration": 6,
    "start_time": "2022-02-23T19:33:05.095Z"
   },
   {
    "duration": 2,
    "start_time": "2022-02-23T19:33:05.149Z"
   },
   {
    "duration": 2,
    "start_time": "2022-02-23T19:33:05.208Z"
   },
   {
    "duration": 7,
    "start_time": "2022-02-23T19:33:05.309Z"
   },
   {
    "duration": 10,
    "start_time": "2022-02-23T19:33:05.342Z"
   },
   {
    "duration": 8,
    "start_time": "2022-02-23T19:33:05.372Z"
   },
   {
    "duration": 6,
    "start_time": "2022-02-23T19:33:05.439Z"
   },
   {
    "duration": 7,
    "start_time": "2022-02-23T19:33:05.498Z"
   },
   {
    "duration": 5,
    "start_time": "2022-02-23T19:33:05.550Z"
   },
   {
    "duration": 8,
    "start_time": "2022-02-23T19:33:05.606Z"
   },
   {
    "duration": 4,
    "start_time": "2022-02-23T19:33:05.690Z"
   },
   {
    "duration": 4,
    "start_time": "2022-02-23T19:33:05.706Z"
   },
   {
    "duration": 6,
    "start_time": "2022-02-23T19:33:05.770Z"
   },
   {
    "duration": 4,
    "start_time": "2022-02-23T19:33:05.839Z"
   },
   {
    "duration": 5,
    "start_time": "2022-02-23T19:33:05.874Z"
   },
   {
    "duration": 8,
    "start_time": "2022-02-23T19:33:05.929Z"
   },
   {
    "duration": 2,
    "start_time": "2022-02-23T19:33:05.976Z"
   },
   {
    "duration": 7,
    "start_time": "2022-02-23T19:33:06.001Z"
   },
   {
    "duration": 7,
    "start_time": "2022-02-23T19:33:06.072Z"
   },
   {
    "duration": 3,
    "start_time": "2022-02-23T19:33:06.109Z"
   },
   {
    "duration": 7,
    "start_time": "2022-02-23T19:33:06.135Z"
   },
   {
    "duration": 7,
    "start_time": "2022-02-23T19:33:06.209Z"
   },
   {
    "duration": 3,
    "start_time": "2022-02-23T19:33:06.232Z"
   },
   {
    "duration": 7,
    "start_time": "2022-02-23T19:33:06.265Z"
   },
   {
    "duration": 16,
    "start_time": "2022-02-23T19:33:06.333Z"
   },
   {
    "duration": 29,
    "start_time": "2022-02-23T19:33:06.367Z"
   },
   {
    "duration": 16,
    "start_time": "2022-02-23T19:33:06.398Z"
   },
   {
    "duration": 3,
    "start_time": "2022-02-23T19:33:06.428Z"
   },
   {
    "duration": 2,
    "start_time": "2022-02-23T19:33:06.564Z"
   },
   {
    "duration": 2,
    "start_time": "2022-02-23T19:33:06.662Z"
   },
   {
    "duration": 11,
    "start_time": "2022-02-23T19:33:06.699Z"
   },
   {
    "duration": 9,
    "start_time": "2022-02-23T19:33:06.723Z"
   },
   {
    "duration": 6,
    "start_time": "2022-02-23T19:33:06.754Z"
   },
   {
    "duration": 15,
    "start_time": "2022-02-23T19:33:06.851Z"
   },
   {
    "duration": 3,
    "start_time": "2022-02-23T19:33:06.893Z"
   },
   {
    "duration": 4,
    "start_time": "2022-02-23T19:33:06.930Z"
   },
   {
    "duration": 3,
    "start_time": "2022-02-23T19:33:07.025Z"
   },
   {
    "duration": 12,
    "start_time": "2022-02-23T19:33:07.056Z"
   },
   {
    "duration": 9,
    "start_time": "2022-02-23T19:33:07.089Z"
   },
   {
    "duration": 11,
    "start_time": "2022-02-23T19:33:07.121Z"
   },
   {
    "duration": 2,
    "start_time": "2022-02-23T19:33:07.191Z"
   },
   {
    "duration": 11,
    "start_time": "2022-02-23T19:33:07.263Z"
   },
   {
    "duration": 16,
    "start_time": "2022-02-23T19:33:07.357Z"
   },
   {
    "duration": 8,
    "start_time": "2022-02-23T19:33:07.393Z"
   },
   {
    "duration": 2,
    "start_time": "2022-02-23T19:33:07.449Z"
   },
   {
    "duration": 273,
    "start_time": "2022-02-23T19:33:07.480Z"
   },
   {
    "duration": 6,
    "start_time": "2022-02-23T19:33:07.755Z"
   },
   {
    "duration": 10,
    "start_time": "2022-02-23T19:33:07.763Z"
   },
   {
    "duration": 340,
    "start_time": "2022-02-23T19:33:07.775Z"
   },
   {
    "duration": 15,
    "start_time": "2022-02-23T19:33:08.116Z"
   },
   {
    "duration": 22,
    "start_time": "2022-02-23T19:33:08.133Z"
   },
   {
    "duration": 17,
    "start_time": "2022-02-23T19:33:08.158Z"
   },
   {
    "duration": 4,
    "start_time": "2022-02-23T19:33:08.177Z"
   },
   {
    "duration": 59,
    "start_time": "2022-02-23T19:33:08.183Z"
   },
   {
    "duration": 4,
    "start_time": "2022-02-23T19:33:08.244Z"
   },
   {
    "duration": 10,
    "start_time": "2022-02-23T19:33:08.250Z"
   },
   {
    "duration": 3,
    "start_time": "2022-02-23T19:33:08.261Z"
   },
   {
    "duration": 10,
    "start_time": "2022-02-23T19:33:08.265Z"
   },
   {
    "duration": 7,
    "start_time": "2022-02-23T19:33:08.277Z"
   },
   {
    "duration": 12,
    "start_time": "2022-02-23T19:33:09.606Z"
   },
   {
    "duration": 15,
    "start_time": "2022-02-23T19:33:39.335Z"
   },
   {
    "duration": 9,
    "start_time": "2022-02-23T19:33:46.152Z"
   },
   {
    "duration": 8,
    "start_time": "2022-02-23T19:34:01.273Z"
   },
   {
    "duration": 224,
    "start_time": "2022-02-23T19:34:20.602Z"
   },
   {
    "duration": 27,
    "start_time": "2022-02-23T19:34:52.139Z"
   },
   {
    "duration": 10,
    "start_time": "2022-02-23T19:35:10.712Z"
   },
   {
    "duration": 9,
    "start_time": "2022-02-23T19:35:25.063Z"
   },
   {
    "duration": 8,
    "start_time": "2022-02-23T19:35:31.432Z"
   },
   {
    "duration": 10,
    "start_time": "2022-02-23T19:35:42.775Z"
   },
   {
    "duration": 9,
    "start_time": "2022-02-23T19:36:00.655Z"
   },
   {
    "duration": 57,
    "start_time": "2022-02-23T19:36:52.823Z"
   },
   {
    "duration": 175,
    "start_time": "2022-02-23T19:37:05.286Z"
   },
   {
    "duration": 186,
    "start_time": "2022-02-23T19:39:17.186Z"
   },
   {
    "duration": 173,
    "start_time": "2022-02-23T19:40:09.125Z"
   },
   {
    "duration": 176,
    "start_time": "2022-02-23T19:40:12.229Z"
   },
   {
    "duration": 207,
    "start_time": "2022-02-23T19:41:31.073Z"
   },
   {
    "duration": 3,
    "start_time": "2022-02-23T19:41:31.595Z"
   },
   {
    "duration": 15,
    "start_time": "2022-02-23T19:41:31.616Z"
   },
   {
    "duration": 12,
    "start_time": "2022-02-23T19:41:31.698Z"
   },
   {
    "duration": 21,
    "start_time": "2022-02-23T19:41:31.763Z"
   },
   {
    "duration": 7,
    "start_time": "2022-02-23T19:41:31.822Z"
   },
   {
    "duration": 7,
    "start_time": "2022-02-23T19:41:31.888Z"
   },
   {
    "duration": 4,
    "start_time": "2022-02-23T19:41:31.924Z"
   },
   {
    "duration": 6,
    "start_time": "2022-02-23T19:41:31.984Z"
   },
   {
    "duration": 2,
    "start_time": "2022-02-23T19:41:32.061Z"
   },
   {
    "duration": 2,
    "start_time": "2022-02-23T19:41:32.118Z"
   },
   {
    "duration": 7,
    "start_time": "2022-02-23T19:41:32.220Z"
   },
   {
    "duration": 10,
    "start_time": "2022-02-23T19:41:32.252Z"
   },
   {
    "duration": 8,
    "start_time": "2022-02-23T19:41:32.275Z"
   },
   {
    "duration": 7,
    "start_time": "2022-02-23T19:41:32.341Z"
   },
   {
    "duration": 6,
    "start_time": "2022-02-23T19:41:32.426Z"
   },
   {
    "duration": 5,
    "start_time": "2022-02-23T19:41:32.448Z"
   },
   {
    "duration": 9,
    "start_time": "2022-02-23T19:41:32.513Z"
   },
   {
    "duration": 4,
    "start_time": "2022-02-23T19:41:32.573Z"
   },
   {
    "duration": 5,
    "start_time": "2022-02-23T19:41:32.612Z"
   },
   {
    "duration": 6,
    "start_time": "2022-02-23T19:41:32.687Z"
   },
   {
    "duration": 5,
    "start_time": "2022-02-23T19:41:32.763Z"
   },
   {
    "duration": 4,
    "start_time": "2022-02-23T19:41:32.777Z"
   },
   {
    "duration": 7,
    "start_time": "2022-02-23T19:41:32.843Z"
   },
   {
    "duration": 2,
    "start_time": "2022-02-23T19:41:32.876Z"
   },
   {
    "duration": 7,
    "start_time": "2022-02-23T19:41:32.924Z"
   },
   {
    "duration": 8,
    "start_time": "2022-02-23T19:41:32.978Z"
   },
   {
    "duration": 2,
    "start_time": "2022-02-23T19:41:33.003Z"
   },
   {
    "duration": 9,
    "start_time": "2022-02-23T19:41:33.039Z"
   },
   {
    "duration": 8,
    "start_time": "2022-02-23T19:41:33.116Z"
   },
   {
    "duration": 3,
    "start_time": "2022-02-23T19:41:33.141Z"
   },
   {
    "duration": 11,
    "start_time": "2022-02-23T19:41:33.213Z"
   },
   {
    "duration": 24,
    "start_time": "2022-02-23T19:41:33.236Z"
   },
   {
    "duration": 32,
    "start_time": "2022-02-23T19:41:33.290Z"
   },
   {
    "duration": 17,
    "start_time": "2022-02-23T19:41:33.324Z"
   },
   {
    "duration": 4,
    "start_time": "2022-02-23T19:41:33.345Z"
   },
   {
    "duration": 2,
    "start_time": "2022-02-23T19:41:34.475Z"
   },
   {
    "duration": 2,
    "start_time": "2022-02-23T19:41:34.575Z"
   },
   {
    "duration": 11,
    "start_time": "2022-02-23T19:41:34.601Z"
   },
   {
    "duration": 10,
    "start_time": "2022-02-23T19:41:34.635Z"
   },
   {
    "duration": 7,
    "start_time": "2022-02-23T19:41:34.669Z"
   },
   {
    "duration": 8,
    "start_time": "2022-02-23T19:41:34.781Z"
   },
   {
    "duration": 3,
    "start_time": "2022-02-23T19:41:34.809Z"
   },
   {
    "duration": 4,
    "start_time": "2022-02-23T19:41:34.845Z"
   },
   {
    "duration": 2,
    "start_time": "2022-02-23T19:41:34.947Z"
   },
   {
    "duration": 10,
    "start_time": "2022-02-23T19:41:34.964Z"
   },
   {
    "duration": 9,
    "start_time": "2022-02-23T19:41:35.000Z"
   },
   {
    "duration": 10,
    "start_time": "2022-02-23T19:41:35.032Z"
   },
   {
    "duration": 2,
    "start_time": "2022-02-23T19:41:35.096Z"
   },
   {
    "duration": 11,
    "start_time": "2022-02-23T19:41:35.189Z"
   },
   {
    "duration": 15,
    "start_time": "2022-02-23T19:41:35.698Z"
   },
   {
    "duration": 7,
    "start_time": "2022-02-23T19:41:36.245Z"
   },
   {
    "duration": 3,
    "start_time": "2022-02-23T19:41:36.270Z"
   },
   {
    "duration": 275,
    "start_time": "2022-02-23T19:41:36.297Z"
   },
   {
    "duration": 7,
    "start_time": "2022-02-23T19:41:36.574Z"
   },
   {
    "duration": 8,
    "start_time": "2022-02-23T19:41:36.582Z"
   },
   {
    "duration": 342,
    "start_time": "2022-02-23T19:41:36.592Z"
   },
   {
    "duration": 10,
    "start_time": "2022-02-23T19:41:36.936Z"
   },
   {
    "duration": 19,
    "start_time": "2022-02-23T19:41:36.948Z"
   },
   {
    "duration": 16,
    "start_time": "2022-02-23T19:41:36.969Z"
   },
   {
    "duration": 4,
    "start_time": "2022-02-23T19:41:36.986Z"
   },
   {
    "duration": 58,
    "start_time": "2022-02-23T19:41:36.991Z"
   },
   {
    "duration": 4,
    "start_time": "2022-02-23T19:41:37.050Z"
   },
   {
    "duration": 10,
    "start_time": "2022-02-23T19:41:37.056Z"
   },
   {
    "duration": 3,
    "start_time": "2022-02-23T19:41:37.067Z"
   },
   {
    "duration": 11,
    "start_time": "2022-02-23T19:41:37.072Z"
   },
   {
    "duration": 8,
    "start_time": "2022-02-23T19:41:37.085Z"
   },
   {
    "duration": 58,
    "start_time": "2022-02-23T19:41:37.095Z"
   },
   {
    "duration": -972,
    "start_time": "2022-02-23T19:41:38.127Z"
   },
   {
    "duration": 2,
    "start_time": "2022-02-23T19:41:37.227Z"
   },
   {
    "duration": 174,
    "start_time": "2022-02-23T19:42:12.183Z"
   },
   {
    "duration": 13,
    "start_time": "2022-02-23T19:42:23.858Z"
   },
   {
    "duration": 7,
    "start_time": "2022-02-23T19:42:34.673Z"
   },
   {
    "duration": 8,
    "start_time": "2022-02-23T19:42:55.139Z"
   },
   {
    "duration": 43,
    "start_time": "2022-02-23T19:43:01.480Z"
   },
   {
    "duration": 37,
    "start_time": "2022-02-23T19:43:24.809Z"
   },
   {
    "duration": 164,
    "start_time": "2022-02-23T19:44:15.456Z"
   },
   {
    "duration": 5,
    "start_time": "2022-02-23T19:44:16.002Z"
   },
   {
    "duration": 21,
    "start_time": "2022-02-23T19:44:16.029Z"
   },
   {
    "duration": 11,
    "start_time": "2022-02-23T19:44:16.111Z"
   },
   {
    "duration": 22,
    "start_time": "2022-02-23T19:44:16.170Z"
   },
   {
    "duration": 7,
    "start_time": "2022-02-23T19:44:16.238Z"
   },
   {
    "duration": 8,
    "start_time": "2022-02-23T19:44:16.296Z"
   },
   {
    "duration": 4,
    "start_time": "2022-02-23T19:44:16.326Z"
   },
   {
    "duration": 7,
    "start_time": "2022-02-23T19:44:16.384Z"
   },
   {
    "duration": 3,
    "start_time": "2022-02-23T19:44:16.464Z"
   },
   {
    "duration": 3,
    "start_time": "2022-02-23T19:44:16.532Z"
   },
   {
    "duration": 7,
    "start_time": "2022-02-23T19:44:16.957Z"
   },
   {
    "duration": 10,
    "start_time": "2022-02-23T19:44:17.465Z"
   },
   {
    "duration": 8,
    "start_time": "2022-02-23T19:44:17.511Z"
   },
   {
    "duration": 6,
    "start_time": "2022-02-23T19:44:17.563Z"
   },
   {
    "duration": 6,
    "start_time": "2022-02-23T19:44:17.628Z"
   },
   {
    "duration": 5,
    "start_time": "2022-02-23T19:44:17.659Z"
   },
   {
    "duration": 8,
    "start_time": "2022-02-23T19:44:17.717Z"
   },
   {
    "duration": 4,
    "start_time": "2022-02-23T19:44:17.803Z"
   },
   {
    "duration": 5,
    "start_time": "2022-02-23T19:44:17.832Z"
   },
   {
    "duration": 6,
    "start_time": "2022-02-23T19:44:17.899Z"
   },
   {
    "duration": 4,
    "start_time": "2022-02-23T19:44:18.563Z"
   },
   {
    "duration": 5,
    "start_time": "2022-02-23T19:44:19.068Z"
   },
   {
    "duration": 7,
    "start_time": "2022-02-23T19:44:19.135Z"
   },
   {
    "duration": 3,
    "start_time": "2022-02-23T19:44:19.169Z"
   },
   {
    "duration": 8,
    "start_time": "2022-02-23T19:44:19.192Z"
   },
   {
    "duration": 7,
    "start_time": "2022-02-23T19:44:19.806Z"
   },
   {
    "duration": 3,
    "start_time": "2022-02-23T19:44:20.701Z"
   },
   {
    "duration": 8,
    "start_time": "2022-02-23T19:44:21.051Z"
   },
   {
    "duration": 7,
    "start_time": "2022-02-23T19:44:21.596Z"
   },
   {
    "duration": 2,
    "start_time": "2022-02-23T19:44:21.616Z"
   },
   {
    "duration": 6,
    "start_time": "2022-02-23T19:44:21.643Z"
   },
   {
    "duration": 17,
    "start_time": "2022-02-23T19:44:21.722Z"
   },
   {
    "duration": 28,
    "start_time": "2022-02-23T19:44:21.764Z"
   },
   {
    "duration": 14,
    "start_time": "2022-02-23T19:44:21.793Z"
   },
   {
    "duration": 4,
    "start_time": "2022-02-23T19:44:21.813Z"
   },
   {
    "duration": 2,
    "start_time": "2022-02-23T19:44:25.184Z"
   },
   {
    "duration": 2,
    "start_time": "2022-02-23T19:44:25.754Z"
   },
   {
    "duration": 11,
    "start_time": "2022-02-23T19:44:25.777Z"
   },
   {
    "duration": 11,
    "start_time": "2022-02-23T19:44:25.810Z"
   },
   {
    "duration": 7,
    "start_time": "2022-02-23T19:44:25.839Z"
   },
   {
    "duration": 8,
    "start_time": "2022-02-23T19:44:26.971Z"
   },
   {
    "duration": 3,
    "start_time": "2022-02-23T19:44:27.309Z"
   },
   {
    "duration": 4,
    "start_time": "2022-02-23T19:44:27.628Z"
   },
   {
    "duration": 3,
    "start_time": "2022-02-23T19:44:28.667Z"
   },
   {
    "duration": 11,
    "start_time": "2022-02-23T19:44:29.125Z"
   },
   {
    "duration": 8,
    "start_time": "2022-02-23T19:44:29.420Z"
   },
   {
    "duration": 11,
    "start_time": "2022-02-23T19:44:29.753Z"
   },
   {
    "duration": 3,
    "start_time": "2022-02-23T19:44:30.974Z"
   },
   {
    "duration": 12,
    "start_time": "2022-02-23T19:44:31.525Z"
   },
   {
    "duration": 16,
    "start_time": "2022-02-23T19:44:31.612Z"
   },
   {
    "duration": 7,
    "start_time": "2022-02-23T19:44:31.652Z"
   },
   {
    "duration": 3,
    "start_time": "2022-02-23T19:44:31.706Z"
   },
   {
    "duration": 293,
    "start_time": "2022-02-23T19:44:31.737Z"
   },
   {
    "duration": 6,
    "start_time": "2022-02-23T19:44:32.032Z"
   },
   {
    "duration": 7,
    "start_time": "2022-02-23T19:44:32.040Z"
   },
   {
    "duration": 374,
    "start_time": "2022-02-23T19:44:32.049Z"
   },
   {
    "duration": 15,
    "start_time": "2022-02-23T19:44:32.424Z"
   },
   {
    "duration": 24,
    "start_time": "2022-02-23T19:44:32.440Z"
   },
   {
    "duration": 16,
    "start_time": "2022-02-23T19:44:32.466Z"
   },
   {
    "duration": 3,
    "start_time": "2022-02-23T19:44:32.485Z"
   },
   {
    "duration": 57,
    "start_time": "2022-02-23T19:44:32.490Z"
   },
   {
    "duration": 5,
    "start_time": "2022-02-23T19:44:33.179Z"
   },
   {
    "duration": 10,
    "start_time": "2022-02-23T19:44:33.222Z"
   },
   {
    "duration": 5,
    "start_time": "2022-02-23T19:44:33.266Z"
   },
   {
    "duration": 12,
    "start_time": "2022-02-23T19:44:33.290Z"
   },
   {
    "duration": 10,
    "start_time": "2022-02-23T19:44:33.677Z"
   },
   {
    "duration": 32,
    "start_time": "2022-02-23T19:44:35.853Z"
   },
   {
    "duration": 7,
    "start_time": "2022-02-23T19:45:35.410Z"
   },
   {
    "duration": 7,
    "start_time": "2022-02-23T19:45:42.157Z"
   },
   {
    "duration": 24,
    "start_time": "2022-02-23T19:45:48.332Z"
   },
   {
    "duration": 12,
    "start_time": "2022-02-23T19:46:27.246Z"
   },
   {
    "duration": 12,
    "start_time": "2022-02-23T19:47:48.877Z"
   },
   {
    "duration": 12,
    "start_time": "2022-02-23T19:49:14.035Z"
   },
   {
    "duration": 15,
    "start_time": "2022-02-23T19:49:38.533Z"
   },
   {
    "duration": 14,
    "start_time": "2022-02-23T19:49:51.354Z"
   },
   {
    "duration": 13,
    "start_time": "2022-02-23T19:51:00.219Z"
   },
   {
    "duration": 15,
    "start_time": "2022-02-23T19:51:03.100Z"
   },
   {
    "duration": 15,
    "start_time": "2022-02-23T19:51:36.569Z"
   },
   {
    "duration": 17,
    "start_time": "2022-02-23T19:52:33.418Z"
   },
   {
    "duration": 16,
    "start_time": "2022-02-23T19:52:41.673Z"
   },
   {
    "duration": 16,
    "start_time": "2022-02-23T19:52:54.678Z"
   },
   {
    "duration": 199,
    "start_time": "2022-02-23T19:53:01.248Z"
   },
   {
    "duration": 16,
    "start_time": "2022-02-23T19:53:06.635Z"
   },
   {
    "duration": 17,
    "start_time": "2022-02-23T19:55:37.803Z"
   },
   {
    "duration": 17,
    "start_time": "2022-02-23T19:56:21.199Z"
   },
   {
    "duration": 183,
    "start_time": "2022-02-23T19:58:06.806Z"
   },
   {
    "duration": 23,
    "start_time": "2022-02-23T19:59:48.103Z"
   },
   {
    "duration": 264,
    "start_time": "2022-02-23T20:00:01.948Z"
   },
   {
    "duration": 192,
    "start_time": "2022-02-23T20:00:17.190Z"
   },
   {
    "duration": 189,
    "start_time": "2022-02-23T20:00:24.693Z"
   },
   {
    "duration": 19,
    "start_time": "2022-02-23T20:00:34.744Z"
   },
   {
    "duration": 186,
    "start_time": "2022-02-23T20:00:58.776Z"
   },
   {
    "duration": 208,
    "start_time": "2022-02-23T20:01:21.209Z"
   },
   {
    "duration": 20,
    "start_time": "2022-02-23T20:01:27.493Z"
   },
   {
    "duration": 21,
    "start_time": "2022-02-23T20:01:34.253Z"
   },
   {
    "duration": 20,
    "start_time": "2022-02-23T20:04:12.181Z"
   },
   {
    "duration": 17,
    "start_time": "2022-02-23T20:04:37.364Z"
   },
   {
    "duration": 18,
    "start_time": "2022-02-23T20:05:42.133Z"
   },
   {
    "duration": 20,
    "start_time": "2022-02-23T20:06:41.541Z"
   },
   {
    "duration": 19,
    "start_time": "2022-02-23T20:07:49.941Z"
   },
   {
    "duration": 20,
    "start_time": "2022-02-23T20:08:02.387Z"
   },
   {
    "duration": 18,
    "start_time": "2022-02-23T20:09:08.706Z"
   },
   {
    "duration": 20,
    "start_time": "2022-02-23T20:09:20.625Z"
   },
   {
    "duration": 19,
    "start_time": "2022-02-23T20:09:59.362Z"
   },
   {
    "duration": 20,
    "start_time": "2022-02-23T20:10:35.810Z"
   },
   {
    "duration": 17,
    "start_time": "2022-02-23T20:10:43.171Z"
   },
   {
    "duration": 191,
    "start_time": "2022-02-23T20:11:00.467Z"
   },
   {
    "duration": 192,
    "start_time": "2022-02-23T20:11:50.530Z"
   },
   {
    "duration": 18,
    "start_time": "2022-02-23T20:11:56.436Z"
   },
   {
    "duration": 9,
    "start_time": "2022-02-23T20:13:44.070Z"
   },
   {
    "duration": 61,
    "start_time": "2022-02-23T20:15:06.032Z"
   },
   {
    "duration": 62,
    "start_time": "2022-02-23T20:15:31.505Z"
   },
   {
    "duration": 9,
    "start_time": "2022-02-23T20:24:26.559Z"
   },
   {
    "duration": 10,
    "start_time": "2022-02-23T20:24:37.917Z"
   },
   {
    "duration": 10,
    "start_time": "2022-02-23T20:25:34.317Z"
   },
   {
    "duration": 60,
    "start_time": "2022-02-23T20:25:49.466Z"
   },
   {
    "duration": 74,
    "start_time": "2022-02-23T20:25:53.515Z"
   },
   {
    "duration": 10,
    "start_time": "2022-02-23T20:25:55.900Z"
   },
   {
    "duration": 295,
    "start_time": "2022-02-23T20:26:43.144Z"
   },
   {
    "duration": 13,
    "start_time": "2022-02-23T20:27:09.923Z"
   },
   {
    "duration": 12,
    "start_time": "2022-02-23T20:27:49.211Z"
   },
   {
    "duration": 11,
    "start_time": "2022-02-23T20:30:04.381Z"
   },
   {
    "duration": 11,
    "start_time": "2022-02-23T20:33:18.616Z"
   },
   {
    "duration": 12,
    "start_time": "2022-02-23T20:34:06.107Z"
   },
   {
    "duration": 11,
    "start_time": "2022-02-23T20:34:21.441Z"
   },
   {
    "duration": 11,
    "start_time": "2022-02-23T20:35:44.233Z"
   },
   {
    "duration": 3,
    "start_time": "2022-02-23T20:39:56.010Z"
   },
   {
    "duration": 12,
    "start_time": "2022-02-23T20:40:35.015Z"
   },
   {
    "duration": 168,
    "start_time": "2022-02-23T20:42:50.629Z"
   },
   {
    "duration": 867,
    "start_time": "2022-02-23T20:43:00.277Z"
   },
   {
    "duration": 8,
    "start_time": "2022-02-23T20:43:06.805Z"
   },
   {
    "duration": 10,
    "start_time": "2022-02-23T20:45:07.928Z"
   },
   {
    "duration": 7,
    "start_time": "2022-02-23T20:45:11.719Z"
   },
   {
    "duration": 7,
    "start_time": "2022-02-23T20:45:20.820Z"
   },
   {
    "duration": 23,
    "start_time": "2022-02-23T20:55:59.160Z"
   },
   {
    "duration": 408,
    "start_time": "2022-02-23T20:57:36.533Z"
   },
   {
    "duration": 18,
    "start_time": "2022-02-23T20:57:52.595Z"
   },
   {
    "duration": 183,
    "start_time": "2022-02-23T20:58:31.215Z"
   },
   {
    "duration": 25,
    "start_time": "2022-02-23T20:58:40.179Z"
   },
   {
    "duration": 21,
    "start_time": "2022-02-23T21:02:48.125Z"
   },
   {
    "duration": 28,
    "start_time": "2022-02-23T21:03:23.042Z"
   },
   {
    "duration": 17,
    "start_time": "2022-02-23T21:03:31.407Z"
   },
   {
    "duration": 263,
    "start_time": "2022-02-23T21:07:22.990Z"
   },
   {
    "duration": 708,
    "start_time": "2022-02-23T21:07:46.876Z"
   },
   {
    "duration": 9,
    "start_time": "2022-02-23T21:07:47.586Z"
   },
   {
    "duration": 27,
    "start_time": "2022-02-23T21:07:47.597Z"
   },
   {
    "duration": 10,
    "start_time": "2022-02-23T21:07:47.625Z"
   },
   {
    "duration": 20,
    "start_time": "2022-02-23T21:07:47.637Z"
   },
   {
    "duration": 7,
    "start_time": "2022-02-23T21:07:47.659Z"
   },
   {
    "duration": 7,
    "start_time": "2022-02-23T21:07:47.716Z"
   },
   {
    "duration": 4,
    "start_time": "2022-02-23T21:07:47.747Z"
   },
   {
    "duration": 6,
    "start_time": "2022-02-23T21:07:47.808Z"
   },
   {
    "duration": 2,
    "start_time": "2022-02-23T21:07:47.874Z"
   },
   {
    "duration": 3,
    "start_time": "2022-02-23T21:07:47.949Z"
   },
   {
    "duration": 7,
    "start_time": "2022-02-23T21:07:48.056Z"
   },
   {
    "duration": 11,
    "start_time": "2022-02-23T21:07:48.076Z"
   },
   {
    "duration": 8,
    "start_time": "2022-02-23T21:07:48.116Z"
   },
   {
    "duration": 5,
    "start_time": "2022-02-23T21:07:48.170Z"
   },
   {
    "duration": 6,
    "start_time": "2022-02-23T21:07:48.242Z"
   },
   {
    "duration": 6,
    "start_time": "2022-02-23T21:07:48.266Z"
   },
   {
    "duration": 9,
    "start_time": "2022-02-23T21:07:48.353Z"
   },
   {
    "duration": 4,
    "start_time": "2022-02-23T21:07:48.407Z"
   },
   {
    "duration": 5,
    "start_time": "2022-02-23T21:07:48.444Z"
   },
   {
    "duration": 8,
    "start_time": "2022-02-23T21:07:48.514Z"
   },
   {
    "duration": 5,
    "start_time": "2022-02-23T21:07:48.565Z"
   },
   {
    "duration": 5,
    "start_time": "2022-02-23T21:07:48.604Z"
   },
   {
    "duration": 7,
    "start_time": "2022-02-23T21:07:48.663Z"
   },
   {
    "duration": 3,
    "start_time": "2022-02-23T21:07:48.716Z"
   },
   {
    "duration": 8,
    "start_time": "2022-02-23T21:07:48.755Z"
   },
   {
    "duration": 7,
    "start_time": "2022-02-23T21:07:48.823Z"
   },
   {
    "duration": 2,
    "start_time": "2022-02-23T21:07:48.844Z"
   },
   {
    "duration": 7,
    "start_time": "2022-02-23T21:07:48.874Z"
   },
   {
    "duration": 7,
    "start_time": "2022-02-23T21:07:48.928Z"
   },
   {
    "duration": 2,
    "start_time": "2022-02-23T21:07:48.969Z"
   },
   {
    "duration": 7,
    "start_time": "2022-02-23T21:07:48.996Z"
   },
   {
    "duration": 19,
    "start_time": "2022-02-23T21:07:49.073Z"
   },
   {
    "duration": 31,
    "start_time": "2022-02-23T21:07:49.123Z"
   },
   {
    "duration": 16,
    "start_time": "2022-02-23T21:07:49.156Z"
   },
   {
    "duration": 4,
    "start_time": "2022-02-23T21:07:49.174Z"
   },
   {
    "duration": 2,
    "start_time": "2022-02-23T21:07:49.300Z"
   },
   {
    "duration": 2,
    "start_time": "2022-02-23T21:07:49.402Z"
   },
   {
    "duration": 10,
    "start_time": "2022-02-23T21:07:49.427Z"
   },
   {
    "duration": 9,
    "start_time": "2022-02-23T21:07:49.461Z"
   },
   {
    "duration": 6,
    "start_time": "2022-02-23T21:07:49.503Z"
   },
   {
    "duration": 8,
    "start_time": "2022-02-23T21:07:49.610Z"
   },
   {
    "duration": 3,
    "start_time": "2022-02-23T21:07:49.633Z"
   },
   {
    "duration": 4,
    "start_time": "2022-02-23T21:07:49.668Z"
   },
   {
    "duration": 3,
    "start_time": "2022-02-23T21:07:49.759Z"
   },
   {
    "duration": 11,
    "start_time": "2022-02-23T21:07:49.794Z"
   },
   {
    "duration": 9,
    "start_time": "2022-02-23T21:07:49.818Z"
   },
   {
    "duration": 9,
    "start_time": "2022-02-23T21:07:49.852Z"
   },
   {
    "duration": 2,
    "start_time": "2022-02-23T21:07:49.951Z"
   },
   {
    "duration": 12,
    "start_time": "2022-02-23T21:07:49.999Z"
   },
   {
    "duration": 17,
    "start_time": "2022-02-23T21:07:50.090Z"
   },
   {
    "duration": 7,
    "start_time": "2022-02-23T21:07:50.121Z"
   },
   {
    "duration": 3,
    "start_time": "2022-02-23T21:07:50.181Z"
   },
   {
    "duration": 274,
    "start_time": "2022-02-23T21:07:50.229Z"
   },
   {
    "duration": 7,
    "start_time": "2022-02-23T21:07:50.504Z"
   },
   {
    "duration": 18,
    "start_time": "2022-02-23T21:07:50.512Z"
   },
   {
    "duration": 332,
    "start_time": "2022-02-23T21:07:50.532Z"
   },
   {
    "duration": 9,
    "start_time": "2022-02-23T21:07:50.866Z"
   },
   {
    "duration": 22,
    "start_time": "2022-02-23T21:07:51.210Z"
   },
   {
    "duration": 16,
    "start_time": "2022-02-23T21:07:51.935Z"
   },
   {
    "duration": 4,
    "start_time": "2022-02-23T21:07:52.015Z"
   },
   {
    "duration": 26,
    "start_time": "2022-02-23T21:07:52.048Z"
   },
   {
    "duration": 4,
    "start_time": "2022-02-23T21:07:52.111Z"
   },
   {
    "duration": 9,
    "start_time": "2022-02-23T21:07:52.149Z"
   },
   {
    "duration": 3,
    "start_time": "2022-02-23T21:07:52.214Z"
   },
   {
    "duration": 8,
    "start_time": "2022-02-23T21:07:52.238Z"
   },
   {
    "duration": 7,
    "start_time": "2022-02-23T21:07:52.268Z"
   },
   {
    "duration": 24,
    "start_time": "2022-02-23T21:07:52.384Z"
   },
   {
    "duration": 12,
    "start_time": "2022-02-23T21:07:52.483Z"
   },
   {
    "duration": 2,
    "start_time": "2022-02-23T21:07:52.568Z"
   },
   {
    "duration": 2,
    "start_time": "2022-02-23T21:07:52.668Z"
   },
   {
    "duration": 306,
    "start_time": "2022-02-23T21:08:05.002Z"
   },
   {
    "duration": 291,
    "start_time": "2022-02-23T21:08:22.221Z"
   },
   {
    "duration": 9,
    "start_time": "2022-02-23T21:08:32.203Z"
   },
   {
    "duration": 19,
    "start_time": "2022-02-23T21:11:20.859Z"
   },
   {
    "duration": 13,
    "start_time": "2022-02-23T21:12:11.596Z"
   },
   {
    "duration": 19,
    "start_time": "2022-02-23T21:14:03.882Z"
   },
   {
    "duration": 13,
    "start_time": "2022-02-23T21:14:06.665Z"
   },
   {
    "duration": 18,
    "start_time": "2022-02-23T21:22:45.911Z"
   },
   {
    "duration": 355,
    "start_time": "2022-02-23T21:28:38.125Z"
   },
   {
    "duration": 356,
    "start_time": "2022-02-23T21:29:15.269Z"
   },
   {
    "duration": 352,
    "start_time": "2022-02-23T21:29:32.946Z"
   },
   {
    "duration": 6,
    "start_time": "2022-02-23T21:30:02.219Z"
   },
   {
    "duration": 7,
    "start_time": "2022-02-23T21:30:34.177Z"
   },
   {
    "duration": 362,
    "start_time": "2022-02-23T21:31:00.097Z"
   },
   {
    "duration": 346,
    "start_time": "2022-02-23T21:31:39.698Z"
   },
   {
    "duration": 20,
    "start_time": "2022-02-23T21:32:18.160Z"
   },
   {
    "duration": 18,
    "start_time": "2022-02-23T21:32:30.737Z"
   },
   {
    "duration": 19,
    "start_time": "2022-02-23T21:33:14.003Z"
   },
   {
    "duration": 9,
    "start_time": "2022-02-23T21:54:58.110Z"
   },
   {
    "duration": 22,
    "start_time": "2022-02-23T21:56:50.468Z"
   },
   {
    "duration": 4,
    "start_time": "2022-02-23T21:56:51.230Z"
   },
   {
    "duration": 19,
    "start_time": "2022-02-23T22:03:50.244Z"
   },
   {
    "duration": 415,
    "start_time": "2022-02-25T00:07:49.665Z"
   },
   {
    "duration": 1344,
    "start_time": "2022-02-25T00:07:59.808Z"
   },
   {
    "duration": 13,
    "start_time": "2022-02-25T00:08:01.155Z"
   },
   {
    "duration": 30,
    "start_time": "2022-02-25T00:08:01.171Z"
   },
   {
    "duration": 14,
    "start_time": "2022-02-25T00:08:01.204Z"
   },
   {
    "duration": 59,
    "start_time": "2022-02-25T00:08:01.220Z"
   },
   {
    "duration": 9,
    "start_time": "2022-02-25T00:08:01.282Z"
   },
   {
    "duration": 10,
    "start_time": "2022-02-25T00:08:01.696Z"
   },
   {
    "duration": 6,
    "start_time": "2022-02-25T00:08:01.920Z"
   },
   {
    "duration": 9,
    "start_time": "2022-02-25T00:08:03.551Z"
   },
   {
    "duration": 3,
    "start_time": "2022-02-25T00:08:04.110Z"
   },
   {
    "duration": 4,
    "start_time": "2022-02-25T00:08:05.443Z"
   },
   {
    "duration": 10,
    "start_time": "2022-02-25T00:08:09.936Z"
   },
   {
    "duration": 16,
    "start_time": "2022-02-25T00:08:10.974Z"
   },
   {
    "duration": 11,
    "start_time": "2022-02-25T00:08:12.319Z"
   },
   {
    "duration": 10,
    "start_time": "2022-02-25T00:08:13.502Z"
   },
   {
    "duration": 10,
    "start_time": "2022-02-25T00:11:22.374Z"
   },
   {
    "duration": 11,
    "start_time": "2022-02-25T00:11:50.958Z"
   },
   {
    "duration": 8,
    "start_time": "2022-02-25T00:11:57.641Z"
   },
   {
    "duration": 19,
    "start_time": "2022-02-25T00:15:26.806Z"
   },
   {
    "duration": 36,
    "start_time": "2022-02-25T00:15:32.161Z"
   },
   {
    "duration": 36,
    "start_time": "2022-02-25T00:15:48.874Z"
   },
   {
    "duration": 10,
    "start_time": "2022-02-25T00:19:57.198Z"
   },
   {
    "duration": 8,
    "start_time": "2022-02-25T00:20:12.106Z"
   },
   {
    "duration": 97,
    "start_time": "2022-02-25T00:29:25.794Z"
   },
   {
    "duration": 20,
    "start_time": "2022-02-25T00:29:44.698Z"
   },
   {
    "duration": 390,
    "start_time": "2022-02-25T00:31:53.628Z"
   },
   {
    "duration": 278,
    "start_time": "2022-02-25T00:32:04.455Z"
   },
   {
    "duration": 285,
    "start_time": "2022-02-25T00:32:11.255Z"
   },
   {
    "duration": 408,
    "start_time": "2022-02-25T00:32:20.622Z"
   },
   {
    "duration": 276,
    "start_time": "2022-02-25T00:32:26.229Z"
   },
   {
    "duration": 314,
    "start_time": "2022-02-25T00:32:46.728Z"
   },
   {
    "duration": 19,
    "start_time": "2022-02-25T00:32:58.233Z"
   },
   {
    "duration": 26,
    "start_time": "2022-02-25T00:33:10.805Z"
   },
   {
    "duration": 9,
    "start_time": "2022-02-25T00:33:13.894Z"
   },
   {
    "duration": 24,
    "start_time": "2022-02-25T00:35:43.814Z"
   },
   {
    "duration": 22,
    "start_time": "2022-02-25T00:35:44.481Z"
   },
   {
    "duration": 24,
    "start_time": "2022-02-25T00:36:03.320Z"
   },
   {
    "duration": 9,
    "start_time": "2022-02-25T00:36:03.653Z"
   },
   {
    "duration": 25,
    "start_time": "2022-02-25T00:36:11.572Z"
   },
   {
    "duration": 24,
    "start_time": "2022-02-25T00:36:14.148Z"
   },
   {
    "duration": 24,
    "start_time": "2022-02-25T00:36:19.988Z"
   },
   {
    "duration": 311,
    "start_time": "2022-02-25T00:36:40.355Z"
   },
   {
    "duration": 6,
    "start_time": "2022-02-25T00:36:40.930Z"
   },
   {
    "duration": 31,
    "start_time": "2022-02-25T00:36:40.972Z"
   },
   {
    "duration": 18,
    "start_time": "2022-02-25T00:36:41.034Z"
   },
   {
    "duration": 48,
    "start_time": "2022-02-25T00:36:41.089Z"
   },
   {
    "duration": 12,
    "start_time": "2022-02-25T00:36:41.151Z"
   },
   {
    "duration": 10,
    "start_time": "2022-02-25T00:36:41.219Z"
   },
   {
    "duration": 6,
    "start_time": "2022-02-25T00:36:41.267Z"
   },
   {
    "duration": 9,
    "start_time": "2022-02-25T00:36:41.366Z"
   },
   {
    "duration": 3,
    "start_time": "2022-02-25T00:36:41.427Z"
   },
   {
    "duration": 3,
    "start_time": "2022-02-25T00:36:41.500Z"
   },
   {
    "duration": 9,
    "start_time": "2022-02-25T00:36:41.625Z"
   },
   {
    "duration": 14,
    "start_time": "2022-02-25T00:36:41.653Z"
   },
   {
    "duration": 12,
    "start_time": "2022-02-25T00:36:41.718Z"
   },
   {
    "duration": 9,
    "start_time": "2022-02-25T00:36:41.783Z"
   },
   {
    "duration": 11,
    "start_time": "2022-02-25T00:36:41.848Z"
   },
   {
    "duration": 7,
    "start_time": "2022-02-25T00:36:41.875Z"
   },
   {
    "duration": 11,
    "start_time": "2022-02-25T00:36:43.074Z"
   },
   {
    "duration": 5,
    "start_time": "2022-02-25T00:36:43.725Z"
   },
   {
    "duration": 8,
    "start_time": "2022-02-25T00:36:44.002Z"
   },
   {
    "duration": 10,
    "start_time": "2022-02-25T00:36:44.436Z"
   },
   {
    "duration": 7,
    "start_time": "2022-02-25T00:36:45.058Z"
   },
   {
    "duration": 8,
    "start_time": "2022-02-25T00:36:45.410Z"
   },
   {
    "duration": 10,
    "start_time": "2022-02-25T00:36:46.100Z"
   },
   {
    "duration": 3,
    "start_time": "2022-02-25T00:36:46.132Z"
   },
   {
    "duration": 10,
    "start_time": "2022-02-25T00:36:46.161Z"
   },
   {
    "duration": 10,
    "start_time": "2022-02-25T00:36:46.499Z"
   },
   {
    "duration": 28,
    "start_time": "2022-02-25T00:36:46.756Z"
   },
   {
    "duration": 10,
    "start_time": "2022-02-25T00:36:46.995Z"
   },
   {
    "duration": 37,
    "start_time": "2022-02-25T00:38:10.163Z"
   },
   {
    "duration": 1067,
    "start_time": "2022-02-25T00:54:41.941Z"
   },
   {
    "duration": 12,
    "start_time": "2022-02-25T00:54:43.010Z"
   },
   {
    "duration": 41,
    "start_time": "2022-02-25T00:54:43.026Z"
   },
   {
    "duration": 21,
    "start_time": "2022-02-25T00:54:43.070Z"
   },
   {
    "duration": 39,
    "start_time": "2022-02-25T00:54:43.093Z"
   },
   {
    "duration": 23,
    "start_time": "2022-02-25T00:54:43.134Z"
   },
   {
    "duration": 14,
    "start_time": "2022-02-25T00:54:43.159Z"
   },
   {
    "duration": 12,
    "start_time": "2022-02-25T00:54:43.177Z"
   },
   {
    "duration": 35,
    "start_time": "2022-02-25T00:54:43.192Z"
   },
   {
    "duration": 9,
    "start_time": "2022-02-25T00:54:43.230Z"
   },
   {
    "duration": 30,
    "start_time": "2022-02-25T00:54:43.242Z"
   },
   {
    "duration": 17,
    "start_time": "2022-02-25T00:54:43.274Z"
   },
   {
    "duration": 36,
    "start_time": "2022-02-25T00:54:43.293Z"
   },
   {
    "duration": 16,
    "start_time": "2022-02-25T00:54:43.331Z"
   },
   {
    "duration": 18,
    "start_time": "2022-02-25T00:54:43.349Z"
   },
   {
    "duration": 16,
    "start_time": "2022-02-25T00:54:43.370Z"
   },
   {
    "duration": 29,
    "start_time": "2022-02-25T00:54:43.388Z"
   },
   {
    "duration": 15,
    "start_time": "2022-02-25T00:54:43.419Z"
   },
   {
    "duration": 12,
    "start_time": "2022-02-25T00:54:43.436Z"
   },
   {
    "duration": 13,
    "start_time": "2022-02-25T00:54:43.450Z"
   },
   {
    "duration": 23,
    "start_time": "2022-02-25T00:54:43.468Z"
   },
   {
    "duration": 20,
    "start_time": "2022-02-25T00:54:43.494Z"
   },
   {
    "duration": 24,
    "start_time": "2022-02-25T00:54:43.517Z"
   },
   {
    "duration": 20,
    "start_time": "2022-02-25T00:54:43.544Z"
   },
   {
    "duration": 6,
    "start_time": "2022-02-25T00:54:43.567Z"
   },
   {
    "duration": 37,
    "start_time": "2022-02-25T00:54:43.575Z"
   },
   {
    "duration": 22,
    "start_time": "2022-02-25T00:54:43.614Z"
   },
   {
    "duration": 29,
    "start_time": "2022-02-25T00:54:43.681Z"
   },
   {
    "duration": 20,
    "start_time": "2022-02-25T00:54:43.713Z"
   },
   {
    "duration": 31,
    "start_time": "2022-02-25T00:54:43.736Z"
   },
   {
    "duration": 16,
    "start_time": "2022-02-25T00:54:43.770Z"
   },
   {
    "duration": 37,
    "start_time": "2022-02-25T00:54:43.788Z"
   },
   {
    "duration": 42,
    "start_time": "2022-02-25T00:54:43.828Z"
   },
   {
    "duration": 47,
    "start_time": "2022-02-25T00:54:43.873Z"
   },
   {
    "duration": 38,
    "start_time": "2022-02-25T00:54:43.922Z"
   },
   {
    "duration": 5,
    "start_time": "2022-02-25T00:54:44.011Z"
   },
   {
    "duration": 12,
    "start_time": "2022-02-25T00:54:44.023Z"
   },
   {
    "duration": 4,
    "start_time": "2022-02-25T00:54:44.117Z"
   },
   {
    "duration": 18,
    "start_time": "2022-02-25T00:54:44.152Z"
   },
   {
    "duration": 18,
    "start_time": "2022-02-25T00:54:44.183Z"
   },
   {
    "duration": 8,
    "start_time": "2022-02-25T00:54:44.356Z"
   },
   {
    "duration": 61,
    "start_time": "2022-02-25T00:54:44.367Z"
   },
   {
    "duration": 5,
    "start_time": "2022-02-25T00:54:44.431Z"
   },
   {
    "duration": 26,
    "start_time": "2022-02-25T00:54:44.439Z"
   },
   {
    "duration": 4,
    "start_time": "2022-02-25T00:54:44.513Z"
   },
   {
    "duration": 14,
    "start_time": "2022-02-25T00:54:44.558Z"
   },
   {
    "duration": 12,
    "start_time": "2022-02-25T00:54:44.730Z"
   },
   {
    "duration": 24,
    "start_time": "2022-02-25T00:54:44.745Z"
   },
   {
    "duration": 8,
    "start_time": "2022-02-25T00:54:44.772Z"
   },
   {
    "duration": 30,
    "start_time": "2022-02-25T00:54:44.783Z"
   },
   {
    "duration": 21,
    "start_time": "2022-02-25T00:54:44.844Z"
   },
   {
    "duration": 10,
    "start_time": "2022-02-25T00:54:44.880Z"
   },
   {
    "duration": 4,
    "start_time": "2022-02-25T00:54:45.106Z"
   },
   {
    "duration": 508,
    "start_time": "2022-02-25T00:54:45.113Z"
   },
   {
    "duration": 25,
    "start_time": "2022-02-25T00:54:45.624Z"
   },
   {
    "duration": 12,
    "start_time": "2022-02-25T00:54:45.652Z"
   },
   {
    "duration": 598,
    "start_time": "2022-02-25T00:54:45.666Z"
   },
   {
    "duration": 14,
    "start_time": "2022-02-25T00:54:46.267Z"
   },
   {
    "duration": 14,
    "start_time": "2022-02-25T00:54:46.283Z"
   },
   {
    "duration": 56,
    "start_time": "2022-02-25T00:54:46.300Z"
   },
   {
    "duration": 6,
    "start_time": "2022-02-25T00:54:46.362Z"
   },
   {
    "duration": 35,
    "start_time": "2022-02-25T00:54:46.371Z"
   },
   {
    "duration": 6,
    "start_time": "2022-02-25T00:54:46.408Z"
   },
   {
    "duration": 12,
    "start_time": "2022-02-25T00:54:46.448Z"
   },
   {
    "duration": 5,
    "start_time": "2022-02-25T00:54:46.462Z"
   },
   {
    "duration": 14,
    "start_time": "2022-02-25T00:54:46.469Z"
   },
   {
    "duration": 18,
    "start_time": "2022-02-25T00:54:46.486Z"
   },
   {
    "duration": 67,
    "start_time": "2022-02-25T00:54:46.507Z"
   },
   {
    "duration": 19,
    "start_time": "2022-02-25T00:54:46.576Z"
   },
   {
    "duration": 50,
    "start_time": "2022-02-25T00:54:46.598Z"
   },
   {
    "duration": 25,
    "start_time": "2022-02-25T00:54:46.651Z"
   }
  ],
  "kernelspec": {
   "display_name": "Python 3",
   "language": "python",
   "name": "python3"
  },
  "language_info": {
   "codemirror_mode": {
    "name": "ipython",
    "version": 3
   },
   "file_extension": ".py",
   "mimetype": "text/x-python",
   "name": "python",
   "nbconvert_exporter": "python",
   "pygments_lexer": "ipython3",
   "version": "3.7.8"
  },
  "toc": {
   "base_numbering": 1,
   "nav_menu": {},
   "number_sections": true,
   "sideBar": true,
   "skip_h1_title": true,
   "title_cell": "Table of Contents",
   "title_sidebar": "Contents",
   "toc_cell": false,
   "toc_position": {},
   "toc_section_display": true,
   "toc_window_display": false
  }
 },
 "nbformat": 4,
 "nbformat_minor": 2
}
