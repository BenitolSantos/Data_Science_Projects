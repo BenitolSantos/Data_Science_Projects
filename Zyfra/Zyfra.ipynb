{
 "cells": [
  {
   "cell_type": "markdown",
   "metadata": {},
   "source": [
    "# Zyfra Gold Mining\n",
    "\n",
    "It's time to deal with a real data science problem from the gold mining sector. This project is provided by Zyfra.\n",
    "When you finish, send your work to the project reviewer. You will receive feedback within 24 hours. After that, you will make any necessary changes to your work and send it for a second review.\n",
    "Usually, this process has to be repeated several times until you get the green light from the reviewer and all the corrections are approved. That’s all part of the job.\n",
    "Your project will be considered complete once the project reviewer approves it.\n"
   ]
  },
  {
   "cell_type": "markdown",
   "metadata": {},
   "source": [
    "Task statement\n",
    "Prepare a prototype of a machine learning model for Zyfra. The company develops efficiency solutions for heavy industry.\n",
    "The model should predict the amount of gold recovered from gold ore. You have the data on extraction and purification.\n",
    "The model will help to optimize the production and eliminate unprofitable parameters.\n",
    "You need to:\n",
    "Prepare the data;\n",
    "Perform data analysis;\n",
    "Develop and train a model.\n",
    "To complete the project, you may want to use documentation from pandas, matplotlib, and sklearn.\n",
    "The next lesson is about the ore purification process. You will pick the information that is important for the model development."
   ]
  },
  {
   "cell_type": "markdown",
   "metadata": {},
   "source": [
    "# Project description\n",
    "The data is stored in three files:\n",
    "gold_recovery_train.csv — training dataset download\n",
    "gold_recovery_test.csv — test dataset download\n",
    "gold_recovery_full.csv — source dataset download\n",
    "Data is indexed with the date and time of acquisition (date feature). Parameters that are next to each other in terms of time are often similar.\n",
    "Some parameters are not available because they were measured and/or calculated much later. That's why, some of the features that are present in the training set may be absent from the test set. The test set also doesn't contain targets.\n",
    "The source dataset contains the training and test sets with all the features.\n",
    "You have the raw data that was only downloaded from the warehouse. Before building the model, check the correctness of the data. For that, use our instructions."
   ]
  },
  {
   "cell_type": "markdown",
   "metadata": {},
   "source": [
    "Download and prepare the data. Explain the procedure."
   ]
  },
  {
   "cell_type": "code",
   "execution_count": 161,
   "metadata": {},
   "outputs": [],
   "source": [
    "# Loading all the libraries\n",
    "import pandas as pd\n",
    "from sklearn.linear_model import LinearRegression #We're testing regression\n",
    "from sklearn.dummy import DummyRegressor #Constant model for baseline\n",
    "from sklearn.tree import DecisionTreeRegressor\n",
    "from sklearn.ensemble import RandomForestRegressor\n",
    "from scipy.special import logsumexp # Fixes RuntimeWarning: invalid value encountered in double_scalars\n",
    "import matplotlib.pyplot as plt\n",
    "from sklearn.metrics import accuracy_score\n",
    "import numpy as np\n",
    "from scipy import stats as st\n",
    "from sklearn.model_selection import KFold\n",
    "\n",
    "from sklearn.model_selection import train_test_split #split into training,validation, and testing\n",
    "\n",
    "from sklearn.model_selection import cross_val_score\n",
    "from statistics import mean\n",
    "from sklearn.metrics import mean_absolute_error"
   ]
  },
  {
   "cell_type": "code",
   "execution_count": 162,
   "metadata": {},
   "outputs": [],
   "source": [
    "try:\n",
    "    train = pd.read_csv(\"C:/Users/Lorenzo Santos/OneDrive/Documents/gold_recovery_train.csv\")\n",
    "    test = pd.read_csv(\"C:/Users/Lorenzo Santos/OneDrive/Documents/gold_recovery_test.csv\")\n",
    "    full = pd.read_csv(\"C:/Users/Lorenzo Santos/OneDrive/Documents/gold_recovery_full.csv\")\n",
    "except:\n",
    "    train = pd.read_csv(\"/datasets/gold_recovery_train.csv\")\n",
    "    test = pd.read_csv(\"/datasets/gold_recovery_test.csv\")\n",
    "    full = pd.read_csv(\"/datasets/gold_recovery_full.csv\")"
   ]
  },
  {
   "cell_type": "markdown",
   "metadata": {},
   "source": [
    "## Prepare the data\n",
    "### Open the files and look into the data."
   ]
  },
  {
   "cell_type": "code",
   "execution_count": 163,
   "metadata": {},
   "outputs": [
    {
     "name": "stdout",
     "output_type": "stream",
     "text": [
      "<class 'pandas.core.frame.DataFrame'>\n",
      "RangeIndex: 16860 entries, 0 to 16859\n",
      "Data columns (total 87 columns):\n",
      " #   Column                                              Non-Null Count  Dtype  \n",
      "---  ------                                              --------------  -----  \n",
      " 0   date                                                16860 non-null  object \n",
      " 1   final.output.concentrate_ag                         16788 non-null  float64\n",
      " 2   final.output.concentrate_pb                         16788 non-null  float64\n",
      " 3   final.output.concentrate_sol                        16490 non-null  float64\n",
      " 4   final.output.concentrate_au                         16789 non-null  float64\n",
      " 5   final.output.recovery                               15339 non-null  float64\n",
      " 6   final.output.tail_ag                                16794 non-null  float64\n",
      " 7   final.output.tail_pb                                16677 non-null  float64\n",
      " 8   final.output.tail_sol                               16715 non-null  float64\n",
      " 9   final.output.tail_au                                16794 non-null  float64\n",
      " 10  primary_cleaner.input.sulfate                       15553 non-null  float64\n",
      " 11  primary_cleaner.input.depressant                    15598 non-null  float64\n",
      " 12  primary_cleaner.input.feed_size                     16860 non-null  float64\n",
      " 13  primary_cleaner.input.xanthate                      15875 non-null  float64\n",
      " 14  primary_cleaner.output.concentrate_ag               16778 non-null  float64\n",
      " 15  primary_cleaner.output.concentrate_pb               16502 non-null  float64\n",
      " 16  primary_cleaner.output.concentrate_sol              16224 non-null  float64\n",
      " 17  primary_cleaner.output.concentrate_au               16778 non-null  float64\n",
      " 18  primary_cleaner.output.tail_ag                      16777 non-null  float64\n",
      " 19  primary_cleaner.output.tail_pb                      16761 non-null  float64\n",
      " 20  primary_cleaner.output.tail_sol                     16579 non-null  float64\n",
      " 21  primary_cleaner.output.tail_au                      16777 non-null  float64\n",
      " 22  primary_cleaner.state.floatbank8_a_air              16820 non-null  float64\n",
      " 23  primary_cleaner.state.floatbank8_a_level            16827 non-null  float64\n",
      " 24  primary_cleaner.state.floatbank8_b_air              16820 non-null  float64\n",
      " 25  primary_cleaner.state.floatbank8_b_level            16833 non-null  float64\n",
      " 26  primary_cleaner.state.floatbank8_c_air              16822 non-null  float64\n",
      " 27  primary_cleaner.state.floatbank8_c_level            16833 non-null  float64\n",
      " 28  primary_cleaner.state.floatbank8_d_air              16821 non-null  float64\n",
      " 29  primary_cleaner.state.floatbank8_d_level            16833 non-null  float64\n",
      " 30  rougher.calculation.sulfate_to_au_concentrate       16833 non-null  float64\n",
      " 31  rougher.calculation.floatbank10_sulfate_to_au_feed  16833 non-null  float64\n",
      " 32  rougher.calculation.floatbank11_sulfate_to_au_feed  16833 non-null  float64\n",
      " 33  rougher.calculation.au_pb_ratio                     15618 non-null  float64\n",
      " 34  rougher.input.feed_ag                               16778 non-null  float64\n",
      " 35  rougher.input.feed_pb                               16632 non-null  float64\n",
      " 36  rougher.input.feed_rate                             16347 non-null  float64\n",
      " 37  rougher.input.feed_size                             16443 non-null  float64\n",
      " 38  rougher.input.feed_sol                              16568 non-null  float64\n",
      " 39  rougher.input.feed_au                               16777 non-null  float64\n",
      " 40  rougher.input.floatbank10_sulfate                   15816 non-null  float64\n",
      " 41  rougher.input.floatbank10_xanthate                  16514 non-null  float64\n",
      " 42  rougher.input.floatbank11_sulfate                   16237 non-null  float64\n",
      " 43  rougher.input.floatbank11_xanthate                  14956 non-null  float64\n",
      " 44  rougher.output.concentrate_ag                       16778 non-null  float64\n",
      " 45  rougher.output.concentrate_pb                       16778 non-null  float64\n",
      " 46  rougher.output.concentrate_sol                      16698 non-null  float64\n",
      " 47  rougher.output.concentrate_au                       16778 non-null  float64\n",
      " 48  rougher.output.recovery                             14287 non-null  float64\n",
      " 49  rougher.output.tail_ag                              14610 non-null  float64\n",
      " 50  rougher.output.tail_pb                              16778 non-null  float64\n",
      " 51  rougher.output.tail_sol                             14611 non-null  float64\n",
      " 52  rougher.output.tail_au                              14611 non-null  float64\n",
      " 53  rougher.state.floatbank10_a_air                     16807 non-null  float64\n",
      " 54  rougher.state.floatbank10_a_level                   16807 non-null  float64\n",
      " 55  rougher.state.floatbank10_b_air                     16807 non-null  float64\n",
      " 56  rougher.state.floatbank10_b_level                   16807 non-null  float64\n",
      " 57  rougher.state.floatbank10_c_air                     16807 non-null  float64\n",
      " 58  rougher.state.floatbank10_c_level                   16814 non-null  float64\n",
      " 59  rougher.state.floatbank10_d_air                     16802 non-null  float64\n",
      " 60  rougher.state.floatbank10_d_level                   16809 non-null  float64\n",
      " 61  rougher.state.floatbank10_e_air                     16257 non-null  float64\n",
      " 62  rougher.state.floatbank10_e_level                   16809 non-null  float64\n",
      " 63  rougher.state.floatbank10_f_air                     16802 non-null  float64\n",
      " 64  rougher.state.floatbank10_f_level                   16802 non-null  float64\n",
      " 65  secondary_cleaner.output.tail_ag                    16776 non-null  float64\n",
      " 66  secondary_cleaner.output.tail_pb                    16764 non-null  float64\n",
      " 67  secondary_cleaner.output.tail_sol                   14874 non-null  float64\n",
      " 68  secondary_cleaner.output.tail_au                    16778 non-null  float64\n",
      " 69  secondary_cleaner.state.floatbank2_a_air            16497 non-null  float64\n",
      " 70  secondary_cleaner.state.floatbank2_a_level          16751 non-null  float64\n",
      " 71  secondary_cleaner.state.floatbank2_b_air            16705 non-null  float64\n",
      " 72  secondary_cleaner.state.floatbank2_b_level          16748 non-null  float64\n",
      " 73  secondary_cleaner.state.floatbank3_a_air            16763 non-null  float64\n",
      " 74  secondary_cleaner.state.floatbank3_a_level          16747 non-null  float64\n",
      " 75  secondary_cleaner.state.floatbank3_b_air            16752 non-null  float64\n",
      " 76  secondary_cleaner.state.floatbank3_b_level          16750 non-null  float64\n",
      " 77  secondary_cleaner.state.floatbank4_a_air            16731 non-null  float64\n",
      " 78  secondary_cleaner.state.floatbank4_a_level          16747 non-null  float64\n",
      " 79  secondary_cleaner.state.floatbank4_b_air            16768 non-null  float64\n",
      " 80  secondary_cleaner.state.floatbank4_b_level          16767 non-null  float64\n",
      " 81  secondary_cleaner.state.floatbank5_a_air            16775 non-null  float64\n",
      " 82  secondary_cleaner.state.floatbank5_a_level          16775 non-null  float64\n",
      " 83  secondary_cleaner.state.floatbank5_b_air            16775 non-null  float64\n",
      " 84  secondary_cleaner.state.floatbank5_b_level          16776 non-null  float64\n",
      " 85  secondary_cleaner.state.floatbank6_a_air            16757 non-null  float64\n",
      " 86  secondary_cleaner.state.floatbank6_a_level          16775 non-null  float64\n",
      "dtypes: float64(86), object(1)\n",
      "memory usage: 11.2+ MB\n"
     ]
    }
   ],
   "source": [
    "train.info()"
   ]
  },
  {
   "cell_type": "code",
   "execution_count": 164,
   "metadata": {},
   "outputs": [
    {
     "name": "stdout",
     "output_type": "stream",
     "text": [
      "<class 'pandas.core.frame.DataFrame'>\n",
      "RangeIndex: 5856 entries, 0 to 5855\n",
      "Data columns (total 53 columns):\n",
      " #   Column                                      Non-Null Count  Dtype  \n",
      "---  ------                                      --------------  -----  \n",
      " 0   date                                        5856 non-null   object \n",
      " 1   primary_cleaner.input.sulfate               5554 non-null   float64\n",
      " 2   primary_cleaner.input.depressant            5572 non-null   float64\n",
      " 3   primary_cleaner.input.feed_size             5856 non-null   float64\n",
      " 4   primary_cleaner.input.xanthate              5690 non-null   float64\n",
      " 5   primary_cleaner.state.floatbank8_a_air      5840 non-null   float64\n",
      " 6   primary_cleaner.state.floatbank8_a_level    5840 non-null   float64\n",
      " 7   primary_cleaner.state.floatbank8_b_air      5840 non-null   float64\n",
      " 8   primary_cleaner.state.floatbank8_b_level    5840 non-null   float64\n",
      " 9   primary_cleaner.state.floatbank8_c_air      5840 non-null   float64\n",
      " 10  primary_cleaner.state.floatbank8_c_level    5840 non-null   float64\n",
      " 11  primary_cleaner.state.floatbank8_d_air      5840 non-null   float64\n",
      " 12  primary_cleaner.state.floatbank8_d_level    5840 non-null   float64\n",
      " 13  rougher.input.feed_ag                       5840 non-null   float64\n",
      " 14  rougher.input.feed_pb                       5840 non-null   float64\n",
      " 15  rougher.input.feed_rate                     5816 non-null   float64\n",
      " 16  rougher.input.feed_size                     5834 non-null   float64\n",
      " 17  rougher.input.feed_sol                      5789 non-null   float64\n",
      " 18  rougher.input.feed_au                       5840 non-null   float64\n",
      " 19  rougher.input.floatbank10_sulfate           5599 non-null   float64\n",
      " 20  rougher.input.floatbank10_xanthate          5733 non-null   float64\n",
      " 21  rougher.input.floatbank11_sulfate           5801 non-null   float64\n",
      " 22  rougher.input.floatbank11_xanthate          5503 non-null   float64\n",
      " 23  rougher.state.floatbank10_a_air             5839 non-null   float64\n",
      " 24  rougher.state.floatbank10_a_level           5840 non-null   float64\n",
      " 25  rougher.state.floatbank10_b_air             5839 non-null   float64\n",
      " 26  rougher.state.floatbank10_b_level           5840 non-null   float64\n",
      " 27  rougher.state.floatbank10_c_air             5839 non-null   float64\n",
      " 28  rougher.state.floatbank10_c_level           5840 non-null   float64\n",
      " 29  rougher.state.floatbank10_d_air             5839 non-null   float64\n",
      " 30  rougher.state.floatbank10_d_level           5840 non-null   float64\n",
      " 31  rougher.state.floatbank10_e_air             5839 non-null   float64\n",
      " 32  rougher.state.floatbank10_e_level           5840 non-null   float64\n",
      " 33  rougher.state.floatbank10_f_air             5839 non-null   float64\n",
      " 34  rougher.state.floatbank10_f_level           5840 non-null   float64\n",
      " 35  secondary_cleaner.state.floatbank2_a_air    5836 non-null   float64\n",
      " 36  secondary_cleaner.state.floatbank2_a_level  5840 non-null   float64\n",
      " 37  secondary_cleaner.state.floatbank2_b_air    5833 non-null   float64\n",
      " 38  secondary_cleaner.state.floatbank2_b_level  5840 non-null   float64\n",
      " 39  secondary_cleaner.state.floatbank3_a_air    5822 non-null   float64\n",
      " 40  secondary_cleaner.state.floatbank3_a_level  5840 non-null   float64\n",
      " 41  secondary_cleaner.state.floatbank3_b_air    5840 non-null   float64\n",
      " 42  secondary_cleaner.state.floatbank3_b_level  5840 non-null   float64\n",
      " 43  secondary_cleaner.state.floatbank4_a_air    5840 non-null   float64\n",
      " 44  secondary_cleaner.state.floatbank4_a_level  5840 non-null   float64\n",
      " 45  secondary_cleaner.state.floatbank4_b_air    5840 non-null   float64\n",
      " 46  secondary_cleaner.state.floatbank4_b_level  5840 non-null   float64\n",
      " 47  secondary_cleaner.state.floatbank5_a_air    5840 non-null   float64\n",
      " 48  secondary_cleaner.state.floatbank5_a_level  5840 non-null   float64\n",
      " 49  secondary_cleaner.state.floatbank5_b_air    5840 non-null   float64\n",
      " 50  secondary_cleaner.state.floatbank5_b_level  5840 non-null   float64\n",
      " 51  secondary_cleaner.state.floatbank6_a_air    5840 non-null   float64\n",
      " 52  secondary_cleaner.state.floatbank6_a_level  5840 non-null   float64\n",
      "dtypes: float64(52), object(1)\n",
      "memory usage: 2.4+ MB\n"
     ]
    }
   ],
   "source": [
    "test.info()"
   ]
  },
  {
   "cell_type": "code",
   "execution_count": 165,
   "metadata": {},
   "outputs": [
    {
     "name": "stdout",
     "output_type": "stream",
     "text": [
      "<class 'pandas.core.frame.DataFrame'>\n",
      "RangeIndex: 22716 entries, 0 to 22715\n",
      "Data columns (total 87 columns):\n",
      " #   Column                                              Non-Null Count  Dtype  \n",
      "---  ------                                              --------------  -----  \n",
      " 0   date                                                22716 non-null  object \n",
      " 1   final.output.concentrate_ag                         22627 non-null  float64\n",
      " 2   final.output.concentrate_pb                         22629 non-null  float64\n",
      " 3   final.output.concentrate_sol                        22331 non-null  float64\n",
      " 4   final.output.concentrate_au                         22630 non-null  float64\n",
      " 5   final.output.recovery                               20753 non-null  float64\n",
      " 6   final.output.tail_ag                                22633 non-null  float64\n",
      " 7   final.output.tail_pb                                22516 non-null  float64\n",
      " 8   final.output.tail_sol                               22445 non-null  float64\n",
      " 9   final.output.tail_au                                22635 non-null  float64\n",
      " 10  primary_cleaner.input.sulfate                       21107 non-null  float64\n",
      " 11  primary_cleaner.input.depressant                    21170 non-null  float64\n",
      " 12  primary_cleaner.input.feed_size                     22716 non-null  float64\n",
      " 13  primary_cleaner.input.xanthate                      21565 non-null  float64\n",
      " 14  primary_cleaner.output.concentrate_ag               22618 non-null  float64\n",
      " 15  primary_cleaner.output.concentrate_pb               22268 non-null  float64\n",
      " 16  primary_cleaner.output.concentrate_sol              21918 non-null  float64\n",
      " 17  primary_cleaner.output.concentrate_au               22618 non-null  float64\n",
      " 18  primary_cleaner.output.tail_ag                      22614 non-null  float64\n",
      " 19  primary_cleaner.output.tail_pb                      22594 non-null  float64\n",
      " 20  primary_cleaner.output.tail_sol                     22365 non-null  float64\n",
      " 21  primary_cleaner.output.tail_au                      22617 non-null  float64\n",
      " 22  primary_cleaner.state.floatbank8_a_air              22660 non-null  float64\n",
      " 23  primary_cleaner.state.floatbank8_a_level            22667 non-null  float64\n",
      " 24  primary_cleaner.state.floatbank8_b_air              22660 non-null  float64\n",
      " 25  primary_cleaner.state.floatbank8_b_level            22673 non-null  float64\n",
      " 26  primary_cleaner.state.floatbank8_c_air              22662 non-null  float64\n",
      " 27  primary_cleaner.state.floatbank8_c_level            22673 non-null  float64\n",
      " 28  primary_cleaner.state.floatbank8_d_air              22661 non-null  float64\n",
      " 29  primary_cleaner.state.floatbank8_d_level            22673 non-null  float64\n",
      " 30  rougher.calculation.sulfate_to_au_concentrate       22672 non-null  float64\n",
      " 31  rougher.calculation.floatbank10_sulfate_to_au_feed  22672 non-null  float64\n",
      " 32  rougher.calculation.floatbank11_sulfate_to_au_feed  22672 non-null  float64\n",
      " 33  rougher.calculation.au_pb_ratio                     21089 non-null  float64\n",
      " 34  rougher.input.feed_ag                               22618 non-null  float64\n",
      " 35  rougher.input.feed_pb                               22472 non-null  float64\n",
      " 36  rougher.input.feed_rate                             22163 non-null  float64\n",
      " 37  rougher.input.feed_size                             22277 non-null  float64\n",
      " 38  rougher.input.feed_sol                              22357 non-null  float64\n",
      " 39  rougher.input.feed_au                               22617 non-null  float64\n",
      " 40  rougher.input.floatbank10_sulfate                   21415 non-null  float64\n",
      " 41  rougher.input.floatbank10_xanthate                  22247 non-null  float64\n",
      " 42  rougher.input.floatbank11_sulfate                   22038 non-null  float64\n",
      " 43  rougher.input.floatbank11_xanthate                  20459 non-null  float64\n",
      " 44  rougher.output.concentrate_ag                       22618 non-null  float64\n",
      " 45  rougher.output.concentrate_pb                       22618 non-null  float64\n",
      " 46  rougher.output.concentrate_sol                      22526 non-null  float64\n",
      " 47  rougher.output.concentrate_au                       22618 non-null  float64\n",
      " 48  rougher.output.recovery                             19597 non-null  float64\n",
      " 49  rougher.output.tail_ag                              19979 non-null  float64\n",
      " 50  rougher.output.tail_pb                              22618 non-null  float64\n",
      " 51  rougher.output.tail_sol                             19980 non-null  float64\n",
      " 52  rougher.output.tail_au                              19980 non-null  float64\n",
      " 53  rougher.state.floatbank10_a_air                     22646 non-null  float64\n",
      " 54  rougher.state.floatbank10_a_level                   22647 non-null  float64\n",
      " 55  rougher.state.floatbank10_b_air                     22646 non-null  float64\n",
      " 56  rougher.state.floatbank10_b_level                   22647 non-null  float64\n",
      " 57  rougher.state.floatbank10_c_air                     22646 non-null  float64\n",
      " 58  rougher.state.floatbank10_c_level                   22654 non-null  float64\n",
      " 59  rougher.state.floatbank10_d_air                     22641 non-null  float64\n",
      " 60  rougher.state.floatbank10_d_level                   22649 non-null  float64\n",
      " 61  rougher.state.floatbank10_e_air                     22096 non-null  float64\n",
      " 62  rougher.state.floatbank10_e_level                   22649 non-null  float64\n",
      " 63  rougher.state.floatbank10_f_air                     22641 non-null  float64\n",
      " 64  rougher.state.floatbank10_f_level                   22642 non-null  float64\n",
      " 65  secondary_cleaner.output.tail_ag                    22616 non-null  float64\n",
      " 66  secondary_cleaner.output.tail_pb                    22600 non-null  float64\n",
      " 67  secondary_cleaner.output.tail_sol                   20501 non-null  float64\n",
      " 68  secondary_cleaner.output.tail_au                    22618 non-null  float64\n",
      " 69  secondary_cleaner.state.floatbank2_a_air            22333 non-null  float64\n",
      " 70  secondary_cleaner.state.floatbank2_a_level          22591 non-null  float64\n",
      " 71  secondary_cleaner.state.floatbank2_b_air            22538 non-null  float64\n",
      " 72  secondary_cleaner.state.floatbank2_b_level          22588 non-null  float64\n",
      " 73  secondary_cleaner.state.floatbank3_a_air            22585 non-null  float64\n",
      " 74  secondary_cleaner.state.floatbank3_a_level          22587 non-null  float64\n",
      " 75  secondary_cleaner.state.floatbank3_b_air            22592 non-null  float64\n",
      " 76  secondary_cleaner.state.floatbank3_b_level          22590 non-null  float64\n",
      " 77  secondary_cleaner.state.floatbank4_a_air            22571 non-null  float64\n",
      " 78  secondary_cleaner.state.floatbank4_a_level          22587 non-null  float64\n",
      " 79  secondary_cleaner.state.floatbank4_b_air            22608 non-null  float64\n",
      " 80  secondary_cleaner.state.floatbank4_b_level          22607 non-null  float64\n",
      " 81  secondary_cleaner.state.floatbank5_a_air            22615 non-null  float64\n",
      " 82  secondary_cleaner.state.floatbank5_a_level          22615 non-null  float64\n",
      " 83  secondary_cleaner.state.floatbank5_b_air            22615 non-null  float64\n",
      " 84  secondary_cleaner.state.floatbank5_b_level          22616 non-null  float64\n",
      " 85  secondary_cleaner.state.floatbank6_a_air            22597 non-null  float64\n",
      " 86  secondary_cleaner.state.floatbank6_a_level          22615 non-null  float64\n",
      "dtypes: float64(86), object(1)\n",
      "memory usage: 15.1+ MB\n"
     ]
    }
   ],
   "source": [
    "full.info()"
   ]
  },
  {
   "cell_type": "markdown",
   "metadata": {},
   "source": [
    "### Check that recovery is calculated correctly. Using the training set, calculate recovery for the rougher.output.recovery feature. Find the MAE between your calculations and the feature values. Provide findings."
   ]
  },
  {
   "cell_type": "code",
   "execution_count": 166,
   "metadata": {},
   "outputs": [],
   "source": [
    "#https://pastebin.com/1grVa2Ep For Notes\n",
    "#https://pastebin.com/KnTWswzZ\n",
    "\n",
    "#C — share of gold in the concentrate right after flotation (for finding the rougher concentrate recovery)/after purification (for finding the final concentrate recovery)\n",
    "C = train['rougher.output.concentrate_au']\n",
    "\n",
    "#F — share of gold in the feed before flotation (for finding the rougher concentrate recovery)/in the concentrate right after flotation (for finding the final concentrate recovery)\n",
    "F = train['rougher.input.feed_au'] \n",
    "\n",
    "#T — share of gold in the rougher tails right after flotation (for finding the rougher concentrate recovery)/after purification (for finding the final concentrate recovery)\n",
    "T = train['rougher.output.tail_au']\n",
    "\n",
    "recovery = (C * (F - T)) / (F * (C - T)) * 100"
   ]
  },
  {
   "cell_type": "code",
   "execution_count": 167,
   "metadata": {},
   "outputs": [
    {
     "name": "stdout",
     "output_type": "stream",
     "text": [
      "MAE: 9.303415616264301e-15\n"
     ]
    }
   ],
   "source": [
    "#print(train[train['rougher.output.recovery'].isna() == True]['rougher.output.recovery'].shape[0])\n",
    "\n",
    "rougher_output_recovery = train['rougher.output.recovery'].dropna()\n",
    "\n",
    "recovery = recovery.iloc[rougher_output_recovery.index]\n",
    "\n",
    "#We use to the rougher_output_recovery.index to mitigate the error: Found input variables with inconsistent numbers of samples: [14287, 13595]\n",
    "\n",
    "\n",
    "print('MAE:', mean_absolute_error(rougher_output_recovery, recovery))"
   ]
  },
  {
   "cell_type": "markdown",
   "metadata": {},
   "source": [
    "Small MAE!"
   ]
  },
  {
   "cell_type": "markdown",
   "metadata": {},
   "source": [
    "### Analyze the features not available in the test set. What are these parameters? What is their type?"
   ]
  },
  {
   "cell_type": "code",
   "execution_count": 168,
   "metadata": {
    "scrolled": true
   },
   "outputs": [
    {
     "name": "stdout",
     "output_type": "stream",
     "text": [
      "['final.output.concentrate_ag', 'final.output.concentrate_au', 'final.output.concentrate_pb', 'final.output.concentrate_sol', 'final.output.recovery', 'final.output.tail_ag', 'final.output.tail_au', 'final.output.tail_pb', 'final.output.tail_sol', 'primary_cleaner.output.concentrate_ag', 'primary_cleaner.output.concentrate_au', 'primary_cleaner.output.concentrate_pb', 'primary_cleaner.output.concentrate_sol', 'primary_cleaner.output.tail_ag', 'primary_cleaner.output.tail_au', 'primary_cleaner.output.tail_pb', 'primary_cleaner.output.tail_sol', 'rougher.calculation.au_pb_ratio', 'rougher.calculation.floatbank10_sulfate_to_au_feed', 'rougher.calculation.floatbank11_sulfate_to_au_feed', 'rougher.calculation.sulfate_to_au_concentrate', 'rougher.output.concentrate_ag', 'rougher.output.concentrate_au', 'rougher.output.concentrate_pb', 'rougher.output.concentrate_sol', 'rougher.output.recovery', 'rougher.output.tail_ag', 'rougher.output.tail_au', 'rougher.output.tail_pb', 'rougher.output.tail_sol', 'secondary_cleaner.output.tail_ag', 'secondary_cleaner.output.tail_au', 'secondary_cleaner.output.tail_pb', 'secondary_cleaner.output.tail_sol']\n"
     ]
    }
   ],
   "source": [
    "#test.info()\n",
    "#Tried .info and counting each, this is way better\n",
    "\n",
    "test_columns = list(test.columns)\n",
    "train_columns = list(train.columns)\n",
    "\n",
    "#reminders\n",
    "#https://www.geeksforgeeks.org/check-if-element-exists-in-list-in-python/ \n",
    "#https://www.tutorialspoint.com/What-is-not-in-operator-in-Python\n",
    "#https://stackoverflow.com/questions/19125091/pandas-merge-how-to-avoid-duplicating-columns no need to reinvent the wheel\n",
    "\n",
    "def columns_there(column_list_1,column_list_2):\n",
    "    columns_there = []\n",
    "    num_of_columns_diff = len(column_list_1) - len(column_list_2)\n",
    "    \n",
    "    for column in column_list_1: \n",
    "        if column in column_list_2:\n",
    "            columns_there.append(column)\n",
    "    return num_of_columns_diff,columns_there\n",
    "\n",
    "cols_we_have = list(columns_there(train_columns,test_columns))[1] #use for predictions later\n",
    "#print(cols_we_have)\n",
    "\n",
    "cols_to_use = list(train.columns.difference(test.columns))\n",
    "print(cols_to_use)"
   ]
  },
  {
   "cell_type": "markdown",
   "metadata": {},
   "source": [
    "All float64, all outputs and tails."
   ]
  },
  {
   "cell_type": "markdown",
   "metadata": {},
   "source": [
    "### Perform data preprocessing."
   ]
  },
  {
   "cell_type": "markdown",
   "metadata": {},
   "source": [
    "We need the dates, at least until the model."
   ]
  },
  {
   "cell_type": "code",
   "execution_count": 169,
   "metadata": {},
   "outputs": [
    {
     "name": "stdout",
     "output_type": "stream",
     "text": [
      "5856\n",
      "16860\n",
      "22716\n",
      "5856\n",
      "16860\n",
      "22716\n",
      "0\n",
      "0\n",
      "0\n"
     ]
    }
   ],
   "source": [
    "print(test[test.isna() == True].shape[0])\n",
    "print(train[train.isna() == True].shape[0])\n",
    "print(full[full.isna() == True].shape[0])\n",
    "print(test[test.notna() == True].shape[0])\n",
    "print(train[train.notna() == True].shape[0])\n",
    "print(full[full.notna() == True].shape[0])\n",
    "print(test[test.duplicated() == True].shape[0])\n",
    "print(train[train.duplicated() == True].shape[0])\n",
    "print(full[full.duplicated() == True].shape[0])"
   ]
  },
  {
   "cell_type": "markdown",
   "metadata": {},
   "source": [
    "Weird, it has all nans and all not nans simultaneously."
   ]
  },
  {
   "cell_type": "code",
   "execution_count": 170,
   "metadata": {},
   "outputs": [],
   "source": [
    "#data.merge(data2, on='merge_column', how='left')\n",
    "#https://stackoverflow.com/questions/19125091/pandas-merge-how-to-avoid-duplicating-columns #reminder \n"
   ]
  },
  {
   "cell_type": "code",
   "execution_count": 171,
   "metadata": {},
   "outputs": [],
   "source": [
    "#https://pastebin.com/V85MbAwZ\n",
    "#you need to save the list of columns from the original test set and use them as features (not the list of columns in the test set merged with the full dataset!), any of the output/calculation columns would cause data leakage, and right now your list of features even includes the targets themselves, which is obviously inappropriate.\n",
    "\n",
    "new_test = test.set_index('date')\n",
    "new_full = full.set_index('date')\n",
    "new_merged = pd.merge(new_test,new_full)\n",
    "test_without_date = test.drop('date',axis=1)\n",
    "old_test_columns = test_without_date.columns.values\n",
    "test = new_merged"
   ]
  },
  {
   "cell_type": "code",
   "execution_count": 172,
   "metadata": {},
   "outputs": [],
   "source": [
    "#This didn't work: https://pastebin.com/MmJgcUMJ\n",
    "train_columns = list(train.columns)\n",
    "test_columns = list(test.columns)\n",
    "full_columns = list(full.columns)\n",
    "\n",
    "#Instead of dropping all the rows with null values (.dropna(), .duplicate()), we could try using the fact that values close in time are pretty similar and apply forward fill (except for target values, which indeed need to be dropped)\n",
    "\n",
    "#If I apply forward fill I need to drop the null values in the targets (rougher.output.recovery and final.output.recovery first)\n",
    "train['rougher.output.recovery'] = train['rougher.output.recovery'].dropna().reset_index(drop=True)\n",
    "train['final.output.recovery'] = train['final.output.recovery'].dropna().reset_index(drop=True)\n",
    "full['rougher.output.recovery'] = full['rougher.output.recovery'].dropna().reset_index(drop=True)\n",
    "full['final.output.recovery'] = full['final.output.recovery'].dropna().reset_index(drop=True)\n",
    "\n",
    "\n",
    "\n",
    "rain = train.ffill()\n",
    "test = test.ffill()\n",
    "full = full.ffill()\n"
   ]
  },
  {
   "cell_type": "markdown",
   "metadata": {},
   "source": [
    "<div class=\"alert alert-warning\">\n",
    "<b>Reviewer's comment</b>\n",
    "\n",
    "Instead of dropping all the rows with null values, we could try using the fact that values close in time are pretty similar and apply forward fill (except for target values, which indeed need to be dropped)\n",
    "\n",
    "</div>"
   ]
  },
  {
   "cell_type": "markdown",
   "metadata": {},
   "source": [
    "Note that before dropping the dates, I need to recover the targets for the test set from the full dataset (for example merging them on date)"
   ]
  },
  {
   "cell_type": "markdown",
   "metadata": {},
   "source": [
    "## Analyze the data"
   ]
  },
  {
   "cell_type": "code",
   "execution_count": 173,
   "metadata": {},
   "outputs": [
    {
     "data": {
      "text/html": [
       "<div>\n",
       "<style scoped>\n",
       "    .dataframe tbody tr th:only-of-type {\n",
       "        vertical-align: middle;\n",
       "    }\n",
       "\n",
       "    .dataframe tbody tr th {\n",
       "        vertical-align: top;\n",
       "    }\n",
       "\n",
       "    .dataframe thead th {\n",
       "        text-align: right;\n",
       "    }\n",
       "</style>\n",
       "<table border=\"1\" class=\"dataframe\">\n",
       "  <thead>\n",
       "    <tr style=\"text-align: right;\">\n",
       "      <th></th>\n",
       "      <th>date</th>\n",
       "      <th>final.output.concentrate_ag</th>\n",
       "      <th>final.output.concentrate_pb</th>\n",
       "      <th>final.output.concentrate_sol</th>\n",
       "      <th>final.output.concentrate_au</th>\n",
       "      <th>final.output.recovery</th>\n",
       "      <th>final.output.tail_ag</th>\n",
       "      <th>final.output.tail_pb</th>\n",
       "      <th>final.output.tail_sol</th>\n",
       "      <th>final.output.tail_au</th>\n",
       "      <th>...</th>\n",
       "      <th>secondary_cleaner.state.floatbank4_a_air</th>\n",
       "      <th>secondary_cleaner.state.floatbank4_a_level</th>\n",
       "      <th>secondary_cleaner.state.floatbank4_b_air</th>\n",
       "      <th>secondary_cleaner.state.floatbank4_b_level</th>\n",
       "      <th>secondary_cleaner.state.floatbank5_a_air</th>\n",
       "      <th>secondary_cleaner.state.floatbank5_a_level</th>\n",
       "      <th>secondary_cleaner.state.floatbank5_b_air</th>\n",
       "      <th>secondary_cleaner.state.floatbank5_b_level</th>\n",
       "      <th>secondary_cleaner.state.floatbank6_a_air</th>\n",
       "      <th>secondary_cleaner.state.floatbank6_a_level</th>\n",
       "    </tr>\n",
       "  </thead>\n",
       "  <tbody>\n",
       "    <tr>\n",
       "      <th>0</th>\n",
       "      <td>2016-01-15 00:00:00</td>\n",
       "      <td>6.055403</td>\n",
       "      <td>9.889648</td>\n",
       "      <td>5.507324</td>\n",
       "      <td>42.192020</td>\n",
       "      <td>70.541216</td>\n",
       "      <td>10.411962</td>\n",
       "      <td>0.895447</td>\n",
       "      <td>16.904297</td>\n",
       "      <td>2.143149</td>\n",
       "      <td>...</td>\n",
       "      <td>14.016835</td>\n",
       "      <td>-502.488007</td>\n",
       "      <td>12.099931</td>\n",
       "      <td>-504.715942</td>\n",
       "      <td>9.925633</td>\n",
       "      <td>-498.310211</td>\n",
       "      <td>8.079666</td>\n",
       "      <td>-500.470978</td>\n",
       "      <td>14.151341</td>\n",
       "      <td>-605.841980</td>\n",
       "    </tr>\n",
       "    <tr>\n",
       "      <th>1</th>\n",
       "      <td>2016-01-15 01:00:00</td>\n",
       "      <td>6.029369</td>\n",
       "      <td>9.968944</td>\n",
       "      <td>5.257781</td>\n",
       "      <td>42.701629</td>\n",
       "      <td>69.266198</td>\n",
       "      <td>10.462676</td>\n",
       "      <td>0.927452</td>\n",
       "      <td>16.634514</td>\n",
       "      <td>2.224930</td>\n",
       "      <td>...</td>\n",
       "      <td>13.992281</td>\n",
       "      <td>-505.503262</td>\n",
       "      <td>11.950531</td>\n",
       "      <td>-501.331529</td>\n",
       "      <td>10.039245</td>\n",
       "      <td>-500.169983</td>\n",
       "      <td>7.984757</td>\n",
       "      <td>-500.582168</td>\n",
       "      <td>13.998353</td>\n",
       "      <td>-599.787184</td>\n",
       "    </tr>\n",
       "    <tr>\n",
       "      <th>2</th>\n",
       "      <td>2016-01-15 02:00:00</td>\n",
       "      <td>6.055926</td>\n",
       "      <td>10.213995</td>\n",
       "      <td>5.383759</td>\n",
       "      <td>42.657501</td>\n",
       "      <td>68.116445</td>\n",
       "      <td>10.507046</td>\n",
       "      <td>0.953716</td>\n",
       "      <td>16.208849</td>\n",
       "      <td>2.257889</td>\n",
       "      <td>...</td>\n",
       "      <td>14.015015</td>\n",
       "      <td>-502.520901</td>\n",
       "      <td>11.912783</td>\n",
       "      <td>-501.133383</td>\n",
       "      <td>10.070913</td>\n",
       "      <td>-500.129135</td>\n",
       "      <td>8.013877</td>\n",
       "      <td>-500.517572</td>\n",
       "      <td>14.028663</td>\n",
       "      <td>-601.427363</td>\n",
       "    </tr>\n",
       "    <tr>\n",
       "      <th>3</th>\n",
       "      <td>2016-01-15 03:00:00</td>\n",
       "      <td>6.047977</td>\n",
       "      <td>9.977019</td>\n",
       "      <td>4.858634</td>\n",
       "      <td>42.689819</td>\n",
       "      <td>68.347543</td>\n",
       "      <td>10.422762</td>\n",
       "      <td>0.883763</td>\n",
       "      <td>16.532835</td>\n",
       "      <td>2.146849</td>\n",
       "      <td>...</td>\n",
       "      <td>14.036510</td>\n",
       "      <td>-500.857308</td>\n",
       "      <td>11.999550</td>\n",
       "      <td>-501.193686</td>\n",
       "      <td>9.970366</td>\n",
       "      <td>-499.201640</td>\n",
       "      <td>7.977324</td>\n",
       "      <td>-500.255908</td>\n",
       "      <td>14.005551</td>\n",
       "      <td>-599.996129</td>\n",
       "    </tr>\n",
       "    <tr>\n",
       "      <th>4</th>\n",
       "      <td>2016-01-15 04:00:00</td>\n",
       "      <td>6.148599</td>\n",
       "      <td>10.142511</td>\n",
       "      <td>4.939416</td>\n",
       "      <td>42.774141</td>\n",
       "      <td>66.927016</td>\n",
       "      <td>10.360302</td>\n",
       "      <td>0.792826</td>\n",
       "      <td>16.525686</td>\n",
       "      <td>2.055292</td>\n",
       "      <td>...</td>\n",
       "      <td>14.027298</td>\n",
       "      <td>-499.838632</td>\n",
       "      <td>11.953070</td>\n",
       "      <td>-501.053894</td>\n",
       "      <td>9.925709</td>\n",
       "      <td>-501.686727</td>\n",
       "      <td>7.894242</td>\n",
       "      <td>-500.356035</td>\n",
       "      <td>13.996647</td>\n",
       "      <td>-601.496691</td>\n",
       "    </tr>\n",
       "    <tr>\n",
       "      <th>...</th>\n",
       "      <td>...</td>\n",
       "      <td>...</td>\n",
       "      <td>...</td>\n",
       "      <td>...</td>\n",
       "      <td>...</td>\n",
       "      <td>...</td>\n",
       "      <td>...</td>\n",
       "      <td>...</td>\n",
       "      <td>...</td>\n",
       "      <td>...</td>\n",
       "      <td>...</td>\n",
       "      <td>...</td>\n",
       "      <td>...</td>\n",
       "      <td>...</td>\n",
       "      <td>...</td>\n",
       "      <td>...</td>\n",
       "      <td>...</td>\n",
       "      <td>...</td>\n",
       "      <td>...</td>\n",
       "      <td>...</td>\n",
       "      <td>...</td>\n",
       "    </tr>\n",
       "    <tr>\n",
       "      <th>16855</th>\n",
       "      <td>2018-08-18 06:59:59</td>\n",
       "      <td>3.224920</td>\n",
       "      <td>11.356233</td>\n",
       "      <td>6.803482</td>\n",
       "      <td>46.713954</td>\n",
       "      <td>NaN</td>\n",
       "      <td>8.769645</td>\n",
       "      <td>3.141541</td>\n",
       "      <td>10.403181</td>\n",
       "      <td>1.529220</td>\n",
       "      <td>...</td>\n",
       "      <td>23.031497</td>\n",
       "      <td>-501.167942</td>\n",
       "      <td>20.007571</td>\n",
       "      <td>-499.740028</td>\n",
       "      <td>18.006038</td>\n",
       "      <td>-499.834374</td>\n",
       "      <td>13.001114</td>\n",
       "      <td>-500.155694</td>\n",
       "      <td>20.007840</td>\n",
       "      <td>-501.296428</td>\n",
       "    </tr>\n",
       "    <tr>\n",
       "      <th>16856</th>\n",
       "      <td>2018-08-18 07:59:59</td>\n",
       "      <td>3.195978</td>\n",
       "      <td>11.349355</td>\n",
       "      <td>6.862249</td>\n",
       "      <td>46.866780</td>\n",
       "      <td>NaN</td>\n",
       "      <td>8.897321</td>\n",
       "      <td>3.130493</td>\n",
       "      <td>10.549470</td>\n",
       "      <td>1.612542</td>\n",
       "      <td>...</td>\n",
       "      <td>22.960095</td>\n",
       "      <td>-501.612783</td>\n",
       "      <td>20.035660</td>\n",
       "      <td>-500.251357</td>\n",
       "      <td>17.998535</td>\n",
       "      <td>-500.395178</td>\n",
       "      <td>12.954048</td>\n",
       "      <td>-499.895163</td>\n",
       "      <td>19.968498</td>\n",
       "      <td>-501.041608</td>\n",
       "    </tr>\n",
       "    <tr>\n",
       "      <th>16857</th>\n",
       "      <td>2018-08-18 08:59:59</td>\n",
       "      <td>3.109998</td>\n",
       "      <td>11.434366</td>\n",
       "      <td>6.886013</td>\n",
       "      <td>46.795691</td>\n",
       "      <td>NaN</td>\n",
       "      <td>8.529606</td>\n",
       "      <td>2.911418</td>\n",
       "      <td>11.115147</td>\n",
       "      <td>1.596616</td>\n",
       "      <td>...</td>\n",
       "      <td>23.015718</td>\n",
       "      <td>-501.711599</td>\n",
       "      <td>19.951231</td>\n",
       "      <td>-499.857027</td>\n",
       "      <td>18.019543</td>\n",
       "      <td>-500.451156</td>\n",
       "      <td>13.023431</td>\n",
       "      <td>-499.914391</td>\n",
       "      <td>19.990885</td>\n",
       "      <td>-501.518452</td>\n",
       "    </tr>\n",
       "    <tr>\n",
       "      <th>16858</th>\n",
       "      <td>2018-08-18 09:59:59</td>\n",
       "      <td>3.367241</td>\n",
       "      <td>11.625587</td>\n",
       "      <td>6.799433</td>\n",
       "      <td>46.408188</td>\n",
       "      <td>NaN</td>\n",
       "      <td>8.777171</td>\n",
       "      <td>2.819214</td>\n",
       "      <td>10.463847</td>\n",
       "      <td>1.602879</td>\n",
       "      <td>...</td>\n",
       "      <td>23.024963</td>\n",
       "      <td>-501.153409</td>\n",
       "      <td>20.054122</td>\n",
       "      <td>-500.314711</td>\n",
       "      <td>17.979515</td>\n",
       "      <td>-499.272871</td>\n",
       "      <td>12.992404</td>\n",
       "      <td>-499.976268</td>\n",
       "      <td>20.013986</td>\n",
       "      <td>-500.625471</td>\n",
       "    </tr>\n",
       "    <tr>\n",
       "      <th>16859</th>\n",
       "      <td>2018-08-18 10:59:59</td>\n",
       "      <td>3.598375</td>\n",
       "      <td>11.737832</td>\n",
       "      <td>6.717509</td>\n",
       "      <td>46.299438</td>\n",
       "      <td>NaN</td>\n",
       "      <td>8.406690</td>\n",
       "      <td>2.517518</td>\n",
       "      <td>10.652193</td>\n",
       "      <td>1.389434</td>\n",
       "      <td>...</td>\n",
       "      <td>23.018622</td>\n",
       "      <td>-500.492702</td>\n",
       "      <td>20.020205</td>\n",
       "      <td>-500.220296</td>\n",
       "      <td>17.963512</td>\n",
       "      <td>-499.939490</td>\n",
       "      <td>12.990306</td>\n",
       "      <td>-500.080993</td>\n",
       "      <td>19.990336</td>\n",
       "      <td>-499.191575</td>\n",
       "    </tr>\n",
       "  </tbody>\n",
       "</table>\n",
       "<p>16860 rows × 87 columns</p>\n",
       "</div>"
      ],
      "text/plain": [
       "                      date  final.output.concentrate_ag  \\\n",
       "0      2016-01-15 00:00:00                     6.055403   \n",
       "1      2016-01-15 01:00:00                     6.029369   \n",
       "2      2016-01-15 02:00:00                     6.055926   \n",
       "3      2016-01-15 03:00:00                     6.047977   \n",
       "4      2016-01-15 04:00:00                     6.148599   \n",
       "...                    ...                          ...   \n",
       "16855  2018-08-18 06:59:59                     3.224920   \n",
       "16856  2018-08-18 07:59:59                     3.195978   \n",
       "16857  2018-08-18 08:59:59                     3.109998   \n",
       "16858  2018-08-18 09:59:59                     3.367241   \n",
       "16859  2018-08-18 10:59:59                     3.598375   \n",
       "\n",
       "       final.output.concentrate_pb  final.output.concentrate_sol  \\\n",
       "0                         9.889648                      5.507324   \n",
       "1                         9.968944                      5.257781   \n",
       "2                        10.213995                      5.383759   \n",
       "3                         9.977019                      4.858634   \n",
       "4                        10.142511                      4.939416   \n",
       "...                            ...                           ...   \n",
       "16855                    11.356233                      6.803482   \n",
       "16856                    11.349355                      6.862249   \n",
       "16857                    11.434366                      6.886013   \n",
       "16858                    11.625587                      6.799433   \n",
       "16859                    11.737832                      6.717509   \n",
       "\n",
       "       final.output.concentrate_au  final.output.recovery  \\\n",
       "0                        42.192020              70.541216   \n",
       "1                        42.701629              69.266198   \n",
       "2                        42.657501              68.116445   \n",
       "3                        42.689819              68.347543   \n",
       "4                        42.774141              66.927016   \n",
       "...                            ...                    ...   \n",
       "16855                    46.713954                    NaN   \n",
       "16856                    46.866780                    NaN   \n",
       "16857                    46.795691                    NaN   \n",
       "16858                    46.408188                    NaN   \n",
       "16859                    46.299438                    NaN   \n",
       "\n",
       "       final.output.tail_ag  final.output.tail_pb  final.output.tail_sol  \\\n",
       "0                 10.411962              0.895447              16.904297   \n",
       "1                 10.462676              0.927452              16.634514   \n",
       "2                 10.507046              0.953716              16.208849   \n",
       "3                 10.422762              0.883763              16.532835   \n",
       "4                 10.360302              0.792826              16.525686   \n",
       "...                     ...                   ...                    ...   \n",
       "16855              8.769645              3.141541              10.403181   \n",
       "16856              8.897321              3.130493              10.549470   \n",
       "16857              8.529606              2.911418              11.115147   \n",
       "16858              8.777171              2.819214              10.463847   \n",
       "16859              8.406690              2.517518              10.652193   \n",
       "\n",
       "       final.output.tail_au  ...  secondary_cleaner.state.floatbank4_a_air  \\\n",
       "0                  2.143149  ...                                 14.016835   \n",
       "1                  2.224930  ...                                 13.992281   \n",
       "2                  2.257889  ...                                 14.015015   \n",
       "3                  2.146849  ...                                 14.036510   \n",
       "4                  2.055292  ...                                 14.027298   \n",
       "...                     ...  ...                                       ...   \n",
       "16855              1.529220  ...                                 23.031497   \n",
       "16856              1.612542  ...                                 22.960095   \n",
       "16857              1.596616  ...                                 23.015718   \n",
       "16858              1.602879  ...                                 23.024963   \n",
       "16859              1.389434  ...                                 23.018622   \n",
       "\n",
       "       secondary_cleaner.state.floatbank4_a_level  \\\n",
       "0                                     -502.488007   \n",
       "1                                     -505.503262   \n",
       "2                                     -502.520901   \n",
       "3                                     -500.857308   \n",
       "4                                     -499.838632   \n",
       "...                                           ...   \n",
       "16855                                 -501.167942   \n",
       "16856                                 -501.612783   \n",
       "16857                                 -501.711599   \n",
       "16858                                 -501.153409   \n",
       "16859                                 -500.492702   \n",
       "\n",
       "       secondary_cleaner.state.floatbank4_b_air  \\\n",
       "0                                     12.099931   \n",
       "1                                     11.950531   \n",
       "2                                     11.912783   \n",
       "3                                     11.999550   \n",
       "4                                     11.953070   \n",
       "...                                         ...   \n",
       "16855                                 20.007571   \n",
       "16856                                 20.035660   \n",
       "16857                                 19.951231   \n",
       "16858                                 20.054122   \n",
       "16859                                 20.020205   \n",
       "\n",
       "       secondary_cleaner.state.floatbank4_b_level  \\\n",
       "0                                     -504.715942   \n",
       "1                                     -501.331529   \n",
       "2                                     -501.133383   \n",
       "3                                     -501.193686   \n",
       "4                                     -501.053894   \n",
       "...                                           ...   \n",
       "16855                                 -499.740028   \n",
       "16856                                 -500.251357   \n",
       "16857                                 -499.857027   \n",
       "16858                                 -500.314711   \n",
       "16859                                 -500.220296   \n",
       "\n",
       "       secondary_cleaner.state.floatbank5_a_air  \\\n",
       "0                                      9.925633   \n",
       "1                                     10.039245   \n",
       "2                                     10.070913   \n",
       "3                                      9.970366   \n",
       "4                                      9.925709   \n",
       "...                                         ...   \n",
       "16855                                 18.006038   \n",
       "16856                                 17.998535   \n",
       "16857                                 18.019543   \n",
       "16858                                 17.979515   \n",
       "16859                                 17.963512   \n",
       "\n",
       "       secondary_cleaner.state.floatbank5_a_level  \\\n",
       "0                                     -498.310211   \n",
       "1                                     -500.169983   \n",
       "2                                     -500.129135   \n",
       "3                                     -499.201640   \n",
       "4                                     -501.686727   \n",
       "...                                           ...   \n",
       "16855                                 -499.834374   \n",
       "16856                                 -500.395178   \n",
       "16857                                 -500.451156   \n",
       "16858                                 -499.272871   \n",
       "16859                                 -499.939490   \n",
       "\n",
       "       secondary_cleaner.state.floatbank5_b_air  \\\n",
       "0                                      8.079666   \n",
       "1                                      7.984757   \n",
       "2                                      8.013877   \n",
       "3                                      7.977324   \n",
       "4                                      7.894242   \n",
       "...                                         ...   \n",
       "16855                                 13.001114   \n",
       "16856                                 12.954048   \n",
       "16857                                 13.023431   \n",
       "16858                                 12.992404   \n",
       "16859                                 12.990306   \n",
       "\n",
       "       secondary_cleaner.state.floatbank5_b_level  \\\n",
       "0                                     -500.470978   \n",
       "1                                     -500.582168   \n",
       "2                                     -500.517572   \n",
       "3                                     -500.255908   \n",
       "4                                     -500.356035   \n",
       "...                                           ...   \n",
       "16855                                 -500.155694   \n",
       "16856                                 -499.895163   \n",
       "16857                                 -499.914391   \n",
       "16858                                 -499.976268   \n",
       "16859                                 -500.080993   \n",
       "\n",
       "       secondary_cleaner.state.floatbank6_a_air  \\\n",
       "0                                     14.151341   \n",
       "1                                     13.998353   \n",
       "2                                     14.028663   \n",
       "3                                     14.005551   \n",
       "4                                     13.996647   \n",
       "...                                         ...   \n",
       "16855                                 20.007840   \n",
       "16856                                 19.968498   \n",
       "16857                                 19.990885   \n",
       "16858                                 20.013986   \n",
       "16859                                 19.990336   \n",
       "\n",
       "       secondary_cleaner.state.floatbank6_a_level  \n",
       "0                                     -605.841980  \n",
       "1                                     -599.787184  \n",
       "2                                     -601.427363  \n",
       "3                                     -599.996129  \n",
       "4                                     -601.496691  \n",
       "...                                           ...  \n",
       "16855                                 -501.296428  \n",
       "16856                                 -501.041608  \n",
       "16857                                 -501.518452  \n",
       "16858                                 -500.625471  \n",
       "16859                                 -499.191575  \n",
       "\n",
       "[16860 rows x 87 columns]"
      ]
     },
     "execution_count": 173,
     "metadata": {},
     "output_type": "execute_result"
    }
   ],
   "source": [
    "train"
   ]
  },
  {
   "cell_type": "code",
   "execution_count": 174,
   "metadata": {},
   "outputs": [
    {
     "data": {
      "text/html": [
       "<div>\n",
       "<style scoped>\n",
       "    .dataframe tbody tr th:only-of-type {\n",
       "        vertical-align: middle;\n",
       "    }\n",
       "\n",
       "    .dataframe tbody tr th {\n",
       "        vertical-align: top;\n",
       "    }\n",
       "\n",
       "    .dataframe thead th {\n",
       "        text-align: right;\n",
       "    }\n",
       "</style>\n",
       "<table border=\"1\" class=\"dataframe\">\n",
       "  <thead>\n",
       "    <tr style=\"text-align: right;\">\n",
       "      <th></th>\n",
       "      <th>primary_cleaner.input.sulfate</th>\n",
       "      <th>primary_cleaner.input.depressant</th>\n",
       "      <th>primary_cleaner.input.feed_size</th>\n",
       "      <th>primary_cleaner.input.xanthate</th>\n",
       "      <th>primary_cleaner.state.floatbank8_a_air</th>\n",
       "      <th>primary_cleaner.state.floatbank8_a_level</th>\n",
       "      <th>primary_cleaner.state.floatbank8_b_air</th>\n",
       "      <th>primary_cleaner.state.floatbank8_b_level</th>\n",
       "      <th>primary_cleaner.state.floatbank8_c_air</th>\n",
       "      <th>primary_cleaner.state.floatbank8_c_level</th>\n",
       "      <th>...</th>\n",
       "      <th>rougher.output.concentrate_au</th>\n",
       "      <th>rougher.output.recovery</th>\n",
       "      <th>rougher.output.tail_ag</th>\n",
       "      <th>rougher.output.tail_pb</th>\n",
       "      <th>rougher.output.tail_sol</th>\n",
       "      <th>rougher.output.tail_au</th>\n",
       "      <th>secondary_cleaner.output.tail_ag</th>\n",
       "      <th>secondary_cleaner.output.tail_pb</th>\n",
       "      <th>secondary_cleaner.output.tail_sol</th>\n",
       "      <th>secondary_cleaner.output.tail_au</th>\n",
       "    </tr>\n",
       "  </thead>\n",
       "  <tbody>\n",
       "    <tr>\n",
       "      <th>0</th>\n",
       "      <td>210.800909</td>\n",
       "      <td>14.993118</td>\n",
       "      <td>8.080000</td>\n",
       "      <td>1.005021</td>\n",
       "      <td>1398.981301</td>\n",
       "      <td>-500.225577</td>\n",
       "      <td>1399.144926</td>\n",
       "      <td>-499.919735</td>\n",
       "      <td>1400.102998</td>\n",
       "      <td>-500.704369</td>\n",
       "      <td>...</td>\n",
       "      <td>22.186207</td>\n",
       "      <td>89.993421</td>\n",
       "      <td>5.936471</td>\n",
       "      <td>0.747425</td>\n",
       "      <td>14.787965</td>\n",
       "      <td>2.371757</td>\n",
       "      <td>16.484844</td>\n",
       "      <td>4.413600</td>\n",
       "      <td>12.034406</td>\n",
       "      <td>5.560988</td>\n",
       "    </tr>\n",
       "    <tr>\n",
       "      <th>1</th>\n",
       "      <td>215.392455</td>\n",
       "      <td>14.987471</td>\n",
       "      <td>8.080000</td>\n",
       "      <td>0.990469</td>\n",
       "      <td>1398.777912</td>\n",
       "      <td>-500.057435</td>\n",
       "      <td>1398.055362</td>\n",
       "      <td>-499.778182</td>\n",
       "      <td>1396.151033</td>\n",
       "      <td>-499.240168</td>\n",
       "      <td>...</td>\n",
       "      <td>22.638279</td>\n",
       "      <td>88.089657</td>\n",
       "      <td>6.166142</td>\n",
       "      <td>0.830029</td>\n",
       "      <td>13.658590</td>\n",
       "      <td>2.647449</td>\n",
       "      <td>16.751419</td>\n",
       "      <td>4.596745</td>\n",
       "      <td>12.248071</td>\n",
       "      <td>5.790078</td>\n",
       "    </tr>\n",
       "    <tr>\n",
       "      <th>2</th>\n",
       "      <td>116.615574</td>\n",
       "      <td>7.976104</td>\n",
       "      <td>7.962000</td>\n",
       "      <td>0.788860</td>\n",
       "      <td>1400.371468</td>\n",
       "      <td>-501.074463</td>\n",
       "      <td>1402.642429</td>\n",
       "      <td>-499.130424</td>\n",
       "      <td>1398.273436</td>\n",
       "      <td>-499.242839</td>\n",
       "      <td>...</td>\n",
       "      <td>23.385430</td>\n",
       "      <td>79.133894</td>\n",
       "      <td>6.165387</td>\n",
       "      <td>0.857855</td>\n",
       "      <td>16.316762</td>\n",
       "      <td>2.364785</td>\n",
       "      <td>12.397445</td>\n",
       "      <td>5.580721</td>\n",
       "      <td>8.002188</td>\n",
       "      <td>5.153972</td>\n",
       "    </tr>\n",
       "    <tr>\n",
       "      <th>3</th>\n",
       "      <td>126.329123</td>\n",
       "      <td>8.003034</td>\n",
       "      <td>7.160000</td>\n",
       "      <td>0.699695</td>\n",
       "      <td>1400.760536</td>\n",
       "      <td>-500.200817</td>\n",
       "      <td>1399.437375</td>\n",
       "      <td>-500.679938</td>\n",
       "      <td>1399.429209</td>\n",
       "      <td>-499.067140</td>\n",
       "      <td>...</td>\n",
       "      <td>24.636926</td>\n",
       "      <td>72.610558</td>\n",
       "      <td>6.606787</td>\n",
       "      <td>1.132533</td>\n",
       "      <td>14.405346</td>\n",
       "      <td>3.003635</td>\n",
       "      <td>12.332292</td>\n",
       "      <td>5.507666</td>\n",
       "      <td>6.333927</td>\n",
       "      <td>4.886884</td>\n",
       "    </tr>\n",
       "    <tr>\n",
       "      <th>4</th>\n",
       "      <td>64.558863</td>\n",
       "      <td>0.061864</td>\n",
       "      <td>7.109500</td>\n",
       "      <td>0.520084</td>\n",
       "      <td>1433.954958</td>\n",
       "      <td>-499.688476</td>\n",
       "      <td>1553.150053</td>\n",
       "      <td>-500.878552</td>\n",
       "      <td>1517.894908</td>\n",
       "      <td>-507.108257</td>\n",
       "      <td>...</td>\n",
       "      <td>25.501058</td>\n",
       "      <td>65.817436</td>\n",
       "      <td>6.915894</td>\n",
       "      <td>1.358638</td>\n",
       "      <td>14.343392</td>\n",
       "      <td>3.525138</td>\n",
       "      <td>12.157413</td>\n",
       "      <td>5.014711</td>\n",
       "      <td>2.104868</td>\n",
       "      <td>6.579663</td>\n",
       "    </tr>\n",
       "    <tr>\n",
       "      <th>...</th>\n",
       "      <td>...</td>\n",
       "      <td>...</td>\n",
       "      <td>...</td>\n",
       "      <td>...</td>\n",
       "      <td>...</td>\n",
       "      <td>...</td>\n",
       "      <td>...</td>\n",
       "      <td>...</td>\n",
       "      <td>...</td>\n",
       "      <td>...</td>\n",
       "      <td>...</td>\n",
       "      <td>...</td>\n",
       "      <td>...</td>\n",
       "      <td>...</td>\n",
       "      <td>...</td>\n",
       "      <td>...</td>\n",
       "      <td>...</td>\n",
       "      <td>...</td>\n",
       "      <td>...</td>\n",
       "      <td>...</td>\n",
       "      <td>...</td>\n",
       "    </tr>\n",
       "    <tr>\n",
       "      <th>658</th>\n",
       "      <td>169.883681</td>\n",
       "      <td>15.802720</td>\n",
       "      <td>8.190000</td>\n",
       "      <td>0.900883</td>\n",
       "      <td>1301.988064</td>\n",
       "      <td>-512.755607</td>\n",
       "      <td>1303.640986</td>\n",
       "      <td>-466.573014</td>\n",
       "      <td>1300.095301</td>\n",
       "      <td>-497.942935</td>\n",
       "      <td>...</td>\n",
       "      <td>18.364046</td>\n",
       "      <td>93.712194</td>\n",
       "      <td>5.526457</td>\n",
       "      <td>0.521986</td>\n",
       "      <td>21.560512</td>\n",
       "      <td>1.542791</td>\n",
       "      <td>18.007815</td>\n",
       "      <td>7.557020</td>\n",
       "      <td>5.034940</td>\n",
       "      <td>4.756377</td>\n",
       "    </tr>\n",
       "    <tr>\n",
       "      <th>659</th>\n",
       "      <td>181.690239</td>\n",
       "      <td>15.011311</td>\n",
       "      <td>7.966666</td>\n",
       "      <td>0.887910</td>\n",
       "      <td>1398.406901</td>\n",
       "      <td>-500.070183</td>\n",
       "      <td>1402.034006</td>\n",
       "      <td>-499.859373</td>\n",
       "      <td>1399.575528</td>\n",
       "      <td>-500.212554</td>\n",
       "      <td>...</td>\n",
       "      <td>18.212995</td>\n",
       "      <td>93.719369</td>\n",
       "      <td>5.552004</td>\n",
       "      <td>0.613123</td>\n",
       "      <td>22.214575</td>\n",
       "      <td>1.630683</td>\n",
       "      <td>18.570608</td>\n",
       "      <td>6.799916</td>\n",
       "      <td>6.845221</td>\n",
       "      <td>4.739389</td>\n",
       "    </tr>\n",
       "    <tr>\n",
       "      <th>660</th>\n",
       "      <td>178.225825</td>\n",
       "      <td>15.983132</td>\n",
       "      <td>8.070000</td>\n",
       "      <td>0.872683</td>\n",
       "      <td>1400.796488</td>\n",
       "      <td>-495.620245</td>\n",
       "      <td>1403.704300</td>\n",
       "      <td>-474.929431</td>\n",
       "      <td>1405.006957</td>\n",
       "      <td>-508.344669</td>\n",
       "      <td>...</td>\n",
       "      <td>18.392083</td>\n",
       "      <td>93.794237</td>\n",
       "      <td>5.321515</td>\n",
       "      <td>0.602381</td>\n",
       "      <td>22.094576</td>\n",
       "      <td>1.517564</td>\n",
       "      <td>17.669095</td>\n",
       "      <td>8.047298</td>\n",
       "      <td>7.230430</td>\n",
       "      <td>6.807100</td>\n",
       "    </tr>\n",
       "    <tr>\n",
       "      <th>661</th>\n",
       "      <td>173.957757</td>\n",
       "      <td>15.963399</td>\n",
       "      <td>8.070000</td>\n",
       "      <td>0.896701</td>\n",
       "      <td>1401.930554</td>\n",
       "      <td>-499.728848</td>\n",
       "      <td>1401.441445</td>\n",
       "      <td>-499.193423</td>\n",
       "      <td>1399.810313</td>\n",
       "      <td>-499.599127</td>\n",
       "      <td>...</td>\n",
       "      <td>17.341370</td>\n",
       "      <td>95.172585</td>\n",
       "      <td>4.860865</td>\n",
       "      <td>0.513262</td>\n",
       "      <td>22.620684</td>\n",
       "      <td>1.210968</td>\n",
       "      <td>18.494625</td>\n",
       "      <td>7.117385</td>\n",
       "      <td>7.459193</td>\n",
       "      <td>5.315728</td>\n",
       "    </tr>\n",
       "    <tr>\n",
       "      <th>662</th>\n",
       "      <td>179.697158</td>\n",
       "      <td>15.438979</td>\n",
       "      <td>8.070000</td>\n",
       "      <td>1.501068</td>\n",
       "      <td>1498.466243</td>\n",
       "      <td>-500.483984</td>\n",
       "      <td>1497.986986</td>\n",
       "      <td>-519.200340</td>\n",
       "      <td>1496.569047</td>\n",
       "      <td>-487.479567</td>\n",
       "      <td>...</td>\n",
       "      <td>19.591952</td>\n",
       "      <td>92.599042</td>\n",
       "      <td>5.150619</td>\n",
       "      <td>0.482317</td>\n",
       "      <td>20.086554</td>\n",
       "      <td>1.422450</td>\n",
       "      <td>17.548465</td>\n",
       "      <td>8.080207</td>\n",
       "      <td>4.839473</td>\n",
       "      <td>6.064193</td>\n",
       "    </tr>\n",
       "  </tbody>\n",
       "</table>\n",
       "<p>663 rows × 86 columns</p>\n",
       "</div>"
      ],
      "text/plain": [
       "     primary_cleaner.input.sulfate  primary_cleaner.input.depressant  \\\n",
       "0                       210.800909                         14.993118   \n",
       "1                       215.392455                         14.987471   \n",
       "2                       116.615574                          7.976104   \n",
       "3                       126.329123                          8.003034   \n",
       "4                        64.558863                          0.061864   \n",
       "..                             ...                               ...   \n",
       "658                     169.883681                         15.802720   \n",
       "659                     181.690239                         15.011311   \n",
       "660                     178.225825                         15.983132   \n",
       "661                     173.957757                         15.963399   \n",
       "662                     179.697158                         15.438979   \n",
       "\n",
       "     primary_cleaner.input.feed_size  primary_cleaner.input.xanthate  \\\n",
       "0                           8.080000                        1.005021   \n",
       "1                           8.080000                        0.990469   \n",
       "2                           7.962000                        0.788860   \n",
       "3                           7.160000                        0.699695   \n",
       "4                           7.109500                        0.520084   \n",
       "..                               ...                             ...   \n",
       "658                         8.190000                        0.900883   \n",
       "659                         7.966666                        0.887910   \n",
       "660                         8.070000                        0.872683   \n",
       "661                         8.070000                        0.896701   \n",
       "662                         8.070000                        1.501068   \n",
       "\n",
       "     primary_cleaner.state.floatbank8_a_air  \\\n",
       "0                               1398.981301   \n",
       "1                               1398.777912   \n",
       "2                               1400.371468   \n",
       "3                               1400.760536   \n",
       "4                               1433.954958   \n",
       "..                                      ...   \n",
       "658                             1301.988064   \n",
       "659                             1398.406901   \n",
       "660                             1400.796488   \n",
       "661                             1401.930554   \n",
       "662                             1498.466243   \n",
       "\n",
       "     primary_cleaner.state.floatbank8_a_level  \\\n",
       "0                                 -500.225577   \n",
       "1                                 -500.057435   \n",
       "2                                 -501.074463   \n",
       "3                                 -500.200817   \n",
       "4                                 -499.688476   \n",
       "..                                        ...   \n",
       "658                               -512.755607   \n",
       "659                               -500.070183   \n",
       "660                               -495.620245   \n",
       "661                               -499.728848   \n",
       "662                               -500.483984   \n",
       "\n",
       "     primary_cleaner.state.floatbank8_b_air  \\\n",
       "0                               1399.144926   \n",
       "1                               1398.055362   \n",
       "2                               1402.642429   \n",
       "3                               1399.437375   \n",
       "4                               1553.150053   \n",
       "..                                      ...   \n",
       "658                             1303.640986   \n",
       "659                             1402.034006   \n",
       "660                             1403.704300   \n",
       "661                             1401.441445   \n",
       "662                             1497.986986   \n",
       "\n",
       "     primary_cleaner.state.floatbank8_b_level  \\\n",
       "0                                 -499.919735   \n",
       "1                                 -499.778182   \n",
       "2                                 -499.130424   \n",
       "3                                 -500.679938   \n",
       "4                                 -500.878552   \n",
       "..                                        ...   \n",
       "658                               -466.573014   \n",
       "659                               -499.859373   \n",
       "660                               -474.929431   \n",
       "661                               -499.193423   \n",
       "662                               -519.200340   \n",
       "\n",
       "     primary_cleaner.state.floatbank8_c_air  \\\n",
       "0                               1400.102998   \n",
       "1                               1396.151033   \n",
       "2                               1398.273436   \n",
       "3                               1399.429209   \n",
       "4                               1517.894908   \n",
       "..                                      ...   \n",
       "658                             1300.095301   \n",
       "659                             1399.575528   \n",
       "660                             1405.006957   \n",
       "661                             1399.810313   \n",
       "662                             1496.569047   \n",
       "\n",
       "     primary_cleaner.state.floatbank8_c_level  ...  \\\n",
       "0                                 -500.704369  ...   \n",
       "1                                 -499.240168  ...   \n",
       "2                                 -499.242839  ...   \n",
       "3                                 -499.067140  ...   \n",
       "4                                 -507.108257  ...   \n",
       "..                                        ...  ...   \n",
       "658                               -497.942935  ...   \n",
       "659                               -500.212554  ...   \n",
       "660                               -508.344669  ...   \n",
       "661                               -499.599127  ...   \n",
       "662                               -487.479567  ...   \n",
       "\n",
       "     rougher.output.concentrate_au  rougher.output.recovery  \\\n",
       "0                        22.186207                89.993421   \n",
       "1                        22.638279                88.089657   \n",
       "2                        23.385430                79.133894   \n",
       "3                        24.636926                72.610558   \n",
       "4                        25.501058                65.817436   \n",
       "..                             ...                      ...   \n",
       "658                      18.364046                93.712194   \n",
       "659                      18.212995                93.719369   \n",
       "660                      18.392083                93.794237   \n",
       "661                      17.341370                95.172585   \n",
       "662                      19.591952                92.599042   \n",
       "\n",
       "     rougher.output.tail_ag  rougher.output.tail_pb  rougher.output.tail_sol  \\\n",
       "0                  5.936471                0.747425                14.787965   \n",
       "1                  6.166142                0.830029                13.658590   \n",
       "2                  6.165387                0.857855                16.316762   \n",
       "3                  6.606787                1.132533                14.405346   \n",
       "4                  6.915894                1.358638                14.343392   \n",
       "..                      ...                     ...                      ...   \n",
       "658                5.526457                0.521986                21.560512   \n",
       "659                5.552004                0.613123                22.214575   \n",
       "660                5.321515                0.602381                22.094576   \n",
       "661                4.860865                0.513262                22.620684   \n",
       "662                5.150619                0.482317                20.086554   \n",
       "\n",
       "     rougher.output.tail_au  secondary_cleaner.output.tail_ag  \\\n",
       "0                  2.371757                         16.484844   \n",
       "1                  2.647449                         16.751419   \n",
       "2                  2.364785                         12.397445   \n",
       "3                  3.003635                         12.332292   \n",
       "4                  3.525138                         12.157413   \n",
       "..                      ...                               ...   \n",
       "658                1.542791                         18.007815   \n",
       "659                1.630683                         18.570608   \n",
       "660                1.517564                         17.669095   \n",
       "661                1.210968                         18.494625   \n",
       "662                1.422450                         17.548465   \n",
       "\n",
       "     secondary_cleaner.output.tail_pb  secondary_cleaner.output.tail_sol  \\\n",
       "0                            4.413600                          12.034406   \n",
       "1                            4.596745                          12.248071   \n",
       "2                            5.580721                           8.002188   \n",
       "3                            5.507666                           6.333927   \n",
       "4                            5.014711                           2.104868   \n",
       "..                                ...                                ...   \n",
       "658                          7.557020                           5.034940   \n",
       "659                          6.799916                           6.845221   \n",
       "660                          8.047298                           7.230430   \n",
       "661                          7.117385                           7.459193   \n",
       "662                          8.080207                           4.839473   \n",
       "\n",
       "     secondary_cleaner.output.tail_au  \n",
       "0                            5.560988  \n",
       "1                            5.790078  \n",
       "2                            5.153972  \n",
       "3                            4.886884  \n",
       "4                            6.579663  \n",
       "..                                ...  \n",
       "658                          4.756377  \n",
       "659                          4.739389  \n",
       "660                          6.807100  \n",
       "661                          5.315728  \n",
       "662                          6.064193  \n",
       "\n",
       "[663 rows x 86 columns]"
      ]
     },
     "execution_count": 174,
     "metadata": {},
     "output_type": "execute_result"
    }
   ],
   "source": [
    "test"
   ]
  },
  {
   "cell_type": "code",
   "execution_count": 175,
   "metadata": {},
   "outputs": [
    {
     "data": {
      "text/html": [
       "<div>\n",
       "<style scoped>\n",
       "    .dataframe tbody tr th:only-of-type {\n",
       "        vertical-align: middle;\n",
       "    }\n",
       "\n",
       "    .dataframe tbody tr th {\n",
       "        vertical-align: top;\n",
       "    }\n",
       "\n",
       "    .dataframe thead th {\n",
       "        text-align: right;\n",
       "    }\n",
       "</style>\n",
       "<table border=\"1\" class=\"dataframe\">\n",
       "  <thead>\n",
       "    <tr style=\"text-align: right;\">\n",
       "      <th></th>\n",
       "      <th>date</th>\n",
       "      <th>final.output.concentrate_ag</th>\n",
       "      <th>final.output.concentrate_pb</th>\n",
       "      <th>final.output.concentrate_sol</th>\n",
       "      <th>final.output.concentrate_au</th>\n",
       "      <th>final.output.recovery</th>\n",
       "      <th>final.output.tail_ag</th>\n",
       "      <th>final.output.tail_pb</th>\n",
       "      <th>final.output.tail_sol</th>\n",
       "      <th>final.output.tail_au</th>\n",
       "      <th>...</th>\n",
       "      <th>secondary_cleaner.state.floatbank4_a_air</th>\n",
       "      <th>secondary_cleaner.state.floatbank4_a_level</th>\n",
       "      <th>secondary_cleaner.state.floatbank4_b_air</th>\n",
       "      <th>secondary_cleaner.state.floatbank4_b_level</th>\n",
       "      <th>secondary_cleaner.state.floatbank5_a_air</th>\n",
       "      <th>secondary_cleaner.state.floatbank5_a_level</th>\n",
       "      <th>secondary_cleaner.state.floatbank5_b_air</th>\n",
       "      <th>secondary_cleaner.state.floatbank5_b_level</th>\n",
       "      <th>secondary_cleaner.state.floatbank6_a_air</th>\n",
       "      <th>secondary_cleaner.state.floatbank6_a_level</th>\n",
       "    </tr>\n",
       "  </thead>\n",
       "  <tbody>\n",
       "    <tr>\n",
       "      <th>0</th>\n",
       "      <td>2016-01-15 00:00:00</td>\n",
       "      <td>6.055403</td>\n",
       "      <td>9.889648</td>\n",
       "      <td>5.507324</td>\n",
       "      <td>42.192020</td>\n",
       "      <td>70.541216</td>\n",
       "      <td>10.411962</td>\n",
       "      <td>0.895447</td>\n",
       "      <td>16.904297</td>\n",
       "      <td>2.143149</td>\n",
       "      <td>...</td>\n",
       "      <td>14.016835</td>\n",
       "      <td>-502.488007</td>\n",
       "      <td>12.099931</td>\n",
       "      <td>-504.715942</td>\n",
       "      <td>9.925633</td>\n",
       "      <td>-498.310211</td>\n",
       "      <td>8.079666</td>\n",
       "      <td>-500.470978</td>\n",
       "      <td>14.151341</td>\n",
       "      <td>-605.841980</td>\n",
       "    </tr>\n",
       "    <tr>\n",
       "      <th>1</th>\n",
       "      <td>2016-01-15 01:00:00</td>\n",
       "      <td>6.029369</td>\n",
       "      <td>9.968944</td>\n",
       "      <td>5.257781</td>\n",
       "      <td>42.701629</td>\n",
       "      <td>69.266198</td>\n",
       "      <td>10.462676</td>\n",
       "      <td>0.927452</td>\n",
       "      <td>16.634514</td>\n",
       "      <td>2.224930</td>\n",
       "      <td>...</td>\n",
       "      <td>13.992281</td>\n",
       "      <td>-505.503262</td>\n",
       "      <td>11.950531</td>\n",
       "      <td>-501.331529</td>\n",
       "      <td>10.039245</td>\n",
       "      <td>-500.169983</td>\n",
       "      <td>7.984757</td>\n",
       "      <td>-500.582168</td>\n",
       "      <td>13.998353</td>\n",
       "      <td>-599.787184</td>\n",
       "    </tr>\n",
       "    <tr>\n",
       "      <th>2</th>\n",
       "      <td>2016-01-15 02:00:00</td>\n",
       "      <td>6.055926</td>\n",
       "      <td>10.213995</td>\n",
       "      <td>5.383759</td>\n",
       "      <td>42.657501</td>\n",
       "      <td>68.116445</td>\n",
       "      <td>10.507046</td>\n",
       "      <td>0.953716</td>\n",
       "      <td>16.208849</td>\n",
       "      <td>2.257889</td>\n",
       "      <td>...</td>\n",
       "      <td>14.015015</td>\n",
       "      <td>-502.520901</td>\n",
       "      <td>11.912783</td>\n",
       "      <td>-501.133383</td>\n",
       "      <td>10.070913</td>\n",
       "      <td>-500.129135</td>\n",
       "      <td>8.013877</td>\n",
       "      <td>-500.517572</td>\n",
       "      <td>14.028663</td>\n",
       "      <td>-601.427363</td>\n",
       "    </tr>\n",
       "    <tr>\n",
       "      <th>3</th>\n",
       "      <td>2016-01-15 03:00:00</td>\n",
       "      <td>6.047977</td>\n",
       "      <td>9.977019</td>\n",
       "      <td>4.858634</td>\n",
       "      <td>42.689819</td>\n",
       "      <td>68.347543</td>\n",
       "      <td>10.422762</td>\n",
       "      <td>0.883763</td>\n",
       "      <td>16.532835</td>\n",
       "      <td>2.146849</td>\n",
       "      <td>...</td>\n",
       "      <td>14.036510</td>\n",
       "      <td>-500.857308</td>\n",
       "      <td>11.999550</td>\n",
       "      <td>-501.193686</td>\n",
       "      <td>9.970366</td>\n",
       "      <td>-499.201640</td>\n",
       "      <td>7.977324</td>\n",
       "      <td>-500.255908</td>\n",
       "      <td>14.005551</td>\n",
       "      <td>-599.996129</td>\n",
       "    </tr>\n",
       "    <tr>\n",
       "      <th>4</th>\n",
       "      <td>2016-01-15 04:00:00</td>\n",
       "      <td>6.148599</td>\n",
       "      <td>10.142511</td>\n",
       "      <td>4.939416</td>\n",
       "      <td>42.774141</td>\n",
       "      <td>66.927016</td>\n",
       "      <td>10.360302</td>\n",
       "      <td>0.792826</td>\n",
       "      <td>16.525686</td>\n",
       "      <td>2.055292</td>\n",
       "      <td>...</td>\n",
       "      <td>14.027298</td>\n",
       "      <td>-499.838632</td>\n",
       "      <td>11.953070</td>\n",
       "      <td>-501.053894</td>\n",
       "      <td>9.925709</td>\n",
       "      <td>-501.686727</td>\n",
       "      <td>7.894242</td>\n",
       "      <td>-500.356035</td>\n",
       "      <td>13.996647</td>\n",
       "      <td>-601.496691</td>\n",
       "    </tr>\n",
       "    <tr>\n",
       "      <th>...</th>\n",
       "      <td>...</td>\n",
       "      <td>...</td>\n",
       "      <td>...</td>\n",
       "      <td>...</td>\n",
       "      <td>...</td>\n",
       "      <td>...</td>\n",
       "      <td>...</td>\n",
       "      <td>...</td>\n",
       "      <td>...</td>\n",
       "      <td>...</td>\n",
       "      <td>...</td>\n",
       "      <td>...</td>\n",
       "      <td>...</td>\n",
       "      <td>...</td>\n",
       "      <td>...</td>\n",
       "      <td>...</td>\n",
       "      <td>...</td>\n",
       "      <td>...</td>\n",
       "      <td>...</td>\n",
       "      <td>...</td>\n",
       "      <td>...</td>\n",
       "    </tr>\n",
       "    <tr>\n",
       "      <th>22711</th>\n",
       "      <td>2018-08-18 06:59:59</td>\n",
       "      <td>3.224920</td>\n",
       "      <td>11.356233</td>\n",
       "      <td>6.803482</td>\n",
       "      <td>46.713954</td>\n",
       "      <td>70.281454</td>\n",
       "      <td>8.769645</td>\n",
       "      <td>3.141541</td>\n",
       "      <td>10.403181</td>\n",
       "      <td>1.529220</td>\n",
       "      <td>...</td>\n",
       "      <td>23.031497</td>\n",
       "      <td>-501.167942</td>\n",
       "      <td>20.007571</td>\n",
       "      <td>-499.740028</td>\n",
       "      <td>18.006038</td>\n",
       "      <td>-499.834374</td>\n",
       "      <td>13.001114</td>\n",
       "      <td>-500.155694</td>\n",
       "      <td>20.007840</td>\n",
       "      <td>-501.296428</td>\n",
       "    </tr>\n",
       "    <tr>\n",
       "      <th>22712</th>\n",
       "      <td>2018-08-18 07:59:59</td>\n",
       "      <td>3.195978</td>\n",
       "      <td>11.349355</td>\n",
       "      <td>6.862249</td>\n",
       "      <td>46.866780</td>\n",
       "      <td>70.281454</td>\n",
       "      <td>8.897321</td>\n",
       "      <td>3.130493</td>\n",
       "      <td>10.549470</td>\n",
       "      <td>1.612542</td>\n",
       "      <td>...</td>\n",
       "      <td>22.960095</td>\n",
       "      <td>-501.612783</td>\n",
       "      <td>20.035660</td>\n",
       "      <td>-500.251357</td>\n",
       "      <td>17.998535</td>\n",
       "      <td>-500.395178</td>\n",
       "      <td>12.954048</td>\n",
       "      <td>-499.895163</td>\n",
       "      <td>19.968498</td>\n",
       "      <td>-501.041608</td>\n",
       "    </tr>\n",
       "    <tr>\n",
       "      <th>22713</th>\n",
       "      <td>2018-08-18 08:59:59</td>\n",
       "      <td>3.109998</td>\n",
       "      <td>11.434366</td>\n",
       "      <td>6.886013</td>\n",
       "      <td>46.795691</td>\n",
       "      <td>70.281454</td>\n",
       "      <td>8.529606</td>\n",
       "      <td>2.911418</td>\n",
       "      <td>11.115147</td>\n",
       "      <td>1.596616</td>\n",
       "      <td>...</td>\n",
       "      <td>23.015718</td>\n",
       "      <td>-501.711599</td>\n",
       "      <td>19.951231</td>\n",
       "      <td>-499.857027</td>\n",
       "      <td>18.019543</td>\n",
       "      <td>-500.451156</td>\n",
       "      <td>13.023431</td>\n",
       "      <td>-499.914391</td>\n",
       "      <td>19.990885</td>\n",
       "      <td>-501.518452</td>\n",
       "    </tr>\n",
       "    <tr>\n",
       "      <th>22714</th>\n",
       "      <td>2018-08-18 09:59:59</td>\n",
       "      <td>3.367241</td>\n",
       "      <td>11.625587</td>\n",
       "      <td>6.799433</td>\n",
       "      <td>46.408188</td>\n",
       "      <td>70.281454</td>\n",
       "      <td>8.777171</td>\n",
       "      <td>2.819214</td>\n",
       "      <td>10.463847</td>\n",
       "      <td>1.602879</td>\n",
       "      <td>...</td>\n",
       "      <td>23.024963</td>\n",
       "      <td>-501.153409</td>\n",
       "      <td>20.054122</td>\n",
       "      <td>-500.314711</td>\n",
       "      <td>17.979515</td>\n",
       "      <td>-499.272871</td>\n",
       "      <td>12.992404</td>\n",
       "      <td>-499.976268</td>\n",
       "      <td>20.013986</td>\n",
       "      <td>-500.625471</td>\n",
       "    </tr>\n",
       "    <tr>\n",
       "      <th>22715</th>\n",
       "      <td>2018-08-18 10:59:59</td>\n",
       "      <td>3.598375</td>\n",
       "      <td>11.737832</td>\n",
       "      <td>6.717509</td>\n",
       "      <td>46.299438</td>\n",
       "      <td>70.281454</td>\n",
       "      <td>8.406690</td>\n",
       "      <td>2.517518</td>\n",
       "      <td>10.652193</td>\n",
       "      <td>1.389434</td>\n",
       "      <td>...</td>\n",
       "      <td>23.018622</td>\n",
       "      <td>-500.492702</td>\n",
       "      <td>20.020205</td>\n",
       "      <td>-500.220296</td>\n",
       "      <td>17.963512</td>\n",
       "      <td>-499.939490</td>\n",
       "      <td>12.990306</td>\n",
       "      <td>-500.080993</td>\n",
       "      <td>19.990336</td>\n",
       "      <td>-499.191575</td>\n",
       "    </tr>\n",
       "  </tbody>\n",
       "</table>\n",
       "<p>22716 rows × 87 columns</p>\n",
       "</div>"
      ],
      "text/plain": [
       "                      date  final.output.concentrate_ag  \\\n",
       "0      2016-01-15 00:00:00                     6.055403   \n",
       "1      2016-01-15 01:00:00                     6.029369   \n",
       "2      2016-01-15 02:00:00                     6.055926   \n",
       "3      2016-01-15 03:00:00                     6.047977   \n",
       "4      2016-01-15 04:00:00                     6.148599   \n",
       "...                    ...                          ...   \n",
       "22711  2018-08-18 06:59:59                     3.224920   \n",
       "22712  2018-08-18 07:59:59                     3.195978   \n",
       "22713  2018-08-18 08:59:59                     3.109998   \n",
       "22714  2018-08-18 09:59:59                     3.367241   \n",
       "22715  2018-08-18 10:59:59                     3.598375   \n",
       "\n",
       "       final.output.concentrate_pb  final.output.concentrate_sol  \\\n",
       "0                         9.889648                      5.507324   \n",
       "1                         9.968944                      5.257781   \n",
       "2                        10.213995                      5.383759   \n",
       "3                         9.977019                      4.858634   \n",
       "4                        10.142511                      4.939416   \n",
       "...                            ...                           ...   \n",
       "22711                    11.356233                      6.803482   \n",
       "22712                    11.349355                      6.862249   \n",
       "22713                    11.434366                      6.886013   \n",
       "22714                    11.625587                      6.799433   \n",
       "22715                    11.737832                      6.717509   \n",
       "\n",
       "       final.output.concentrate_au  final.output.recovery  \\\n",
       "0                        42.192020              70.541216   \n",
       "1                        42.701629              69.266198   \n",
       "2                        42.657501              68.116445   \n",
       "3                        42.689819              68.347543   \n",
       "4                        42.774141              66.927016   \n",
       "...                            ...                    ...   \n",
       "22711                    46.713954              70.281454   \n",
       "22712                    46.866780              70.281454   \n",
       "22713                    46.795691              70.281454   \n",
       "22714                    46.408188              70.281454   \n",
       "22715                    46.299438              70.281454   \n",
       "\n",
       "       final.output.tail_ag  final.output.tail_pb  final.output.tail_sol  \\\n",
       "0                 10.411962              0.895447              16.904297   \n",
       "1                 10.462676              0.927452              16.634514   \n",
       "2                 10.507046              0.953716              16.208849   \n",
       "3                 10.422762              0.883763              16.532835   \n",
       "4                 10.360302              0.792826              16.525686   \n",
       "...                     ...                   ...                    ...   \n",
       "22711              8.769645              3.141541              10.403181   \n",
       "22712              8.897321              3.130493              10.549470   \n",
       "22713              8.529606              2.911418              11.115147   \n",
       "22714              8.777171              2.819214              10.463847   \n",
       "22715              8.406690              2.517518              10.652193   \n",
       "\n",
       "       final.output.tail_au  ...  secondary_cleaner.state.floatbank4_a_air  \\\n",
       "0                  2.143149  ...                                 14.016835   \n",
       "1                  2.224930  ...                                 13.992281   \n",
       "2                  2.257889  ...                                 14.015015   \n",
       "3                  2.146849  ...                                 14.036510   \n",
       "4                  2.055292  ...                                 14.027298   \n",
       "...                     ...  ...                                       ...   \n",
       "22711              1.529220  ...                                 23.031497   \n",
       "22712              1.612542  ...                                 22.960095   \n",
       "22713              1.596616  ...                                 23.015718   \n",
       "22714              1.602879  ...                                 23.024963   \n",
       "22715              1.389434  ...                                 23.018622   \n",
       "\n",
       "       secondary_cleaner.state.floatbank4_a_level  \\\n",
       "0                                     -502.488007   \n",
       "1                                     -505.503262   \n",
       "2                                     -502.520901   \n",
       "3                                     -500.857308   \n",
       "4                                     -499.838632   \n",
       "...                                           ...   \n",
       "22711                                 -501.167942   \n",
       "22712                                 -501.612783   \n",
       "22713                                 -501.711599   \n",
       "22714                                 -501.153409   \n",
       "22715                                 -500.492702   \n",
       "\n",
       "       secondary_cleaner.state.floatbank4_b_air  \\\n",
       "0                                     12.099931   \n",
       "1                                     11.950531   \n",
       "2                                     11.912783   \n",
       "3                                     11.999550   \n",
       "4                                     11.953070   \n",
       "...                                         ...   \n",
       "22711                                 20.007571   \n",
       "22712                                 20.035660   \n",
       "22713                                 19.951231   \n",
       "22714                                 20.054122   \n",
       "22715                                 20.020205   \n",
       "\n",
       "       secondary_cleaner.state.floatbank4_b_level  \\\n",
       "0                                     -504.715942   \n",
       "1                                     -501.331529   \n",
       "2                                     -501.133383   \n",
       "3                                     -501.193686   \n",
       "4                                     -501.053894   \n",
       "...                                           ...   \n",
       "22711                                 -499.740028   \n",
       "22712                                 -500.251357   \n",
       "22713                                 -499.857027   \n",
       "22714                                 -500.314711   \n",
       "22715                                 -500.220296   \n",
       "\n",
       "       secondary_cleaner.state.floatbank5_a_air  \\\n",
       "0                                      9.925633   \n",
       "1                                     10.039245   \n",
       "2                                     10.070913   \n",
       "3                                      9.970366   \n",
       "4                                      9.925709   \n",
       "...                                         ...   \n",
       "22711                                 18.006038   \n",
       "22712                                 17.998535   \n",
       "22713                                 18.019543   \n",
       "22714                                 17.979515   \n",
       "22715                                 17.963512   \n",
       "\n",
       "       secondary_cleaner.state.floatbank5_a_level  \\\n",
       "0                                     -498.310211   \n",
       "1                                     -500.169983   \n",
       "2                                     -500.129135   \n",
       "3                                     -499.201640   \n",
       "4                                     -501.686727   \n",
       "...                                           ...   \n",
       "22711                                 -499.834374   \n",
       "22712                                 -500.395178   \n",
       "22713                                 -500.451156   \n",
       "22714                                 -499.272871   \n",
       "22715                                 -499.939490   \n",
       "\n",
       "       secondary_cleaner.state.floatbank5_b_air  \\\n",
       "0                                      8.079666   \n",
       "1                                      7.984757   \n",
       "2                                      8.013877   \n",
       "3                                      7.977324   \n",
       "4                                      7.894242   \n",
       "...                                         ...   \n",
       "22711                                 13.001114   \n",
       "22712                                 12.954048   \n",
       "22713                                 13.023431   \n",
       "22714                                 12.992404   \n",
       "22715                                 12.990306   \n",
       "\n",
       "       secondary_cleaner.state.floatbank5_b_level  \\\n",
       "0                                     -500.470978   \n",
       "1                                     -500.582168   \n",
       "2                                     -500.517572   \n",
       "3                                     -500.255908   \n",
       "4                                     -500.356035   \n",
       "...                                           ...   \n",
       "22711                                 -500.155694   \n",
       "22712                                 -499.895163   \n",
       "22713                                 -499.914391   \n",
       "22714                                 -499.976268   \n",
       "22715                                 -500.080993   \n",
       "\n",
       "       secondary_cleaner.state.floatbank6_a_air  \\\n",
       "0                                     14.151341   \n",
       "1                                     13.998353   \n",
       "2                                     14.028663   \n",
       "3                                     14.005551   \n",
       "4                                     13.996647   \n",
       "...                                         ...   \n",
       "22711                                 20.007840   \n",
       "22712                                 19.968498   \n",
       "22713                                 19.990885   \n",
       "22714                                 20.013986   \n",
       "22715                                 19.990336   \n",
       "\n",
       "       secondary_cleaner.state.floatbank6_a_level  \n",
       "0                                     -605.841980  \n",
       "1                                     -599.787184  \n",
       "2                                     -601.427363  \n",
       "3                                     -599.996129  \n",
       "4                                     -601.496691  \n",
       "...                                           ...  \n",
       "22711                                 -501.296428  \n",
       "22712                                 -501.041608  \n",
       "22713                                 -501.518452  \n",
       "22714                                 -500.625471  \n",
       "22715                                 -499.191575  \n",
       "\n",
       "[22716 rows x 87 columns]"
      ]
     },
     "execution_count": 175,
     "metadata": {},
     "output_type": "execute_result"
    }
   ],
   "source": [
    "full"
   ]
  },
  {
   "cell_type": "markdown",
   "metadata": {},
   "source": [
    "### Take note of how the concentrations of metals (Au, Ag, Pb) change depending on the purification stage."
   ]
  },
  {
   "cell_type": "code",
   "execution_count": 176,
   "metadata": {},
   "outputs": [
    {
     "data": {
      "text/plain": [
       "<AxesSubplot:title={'center':'full avg Pb by purification stage'}>"
      ]
     },
     "execution_count": 176,
     "metadata": {},
     "output_type": "execute_result"
    },
    {
     "data": {
      "image/png": "[encoded data removed]",
      "text/plain": [
       "<Figure size 432x288 with 1 Axes>"
      ]
     },
     "metadata": {
      "needs_background": "light"
     },
     "output_type": "display_data"
    },
    {
     "data": {
      "image/png": "[encoded data removed]",
      "text/plain": [
       "<Figure size 432x288 with 1 Axes>"
      ]
     },
     "metadata": {
      "needs_background": "light"
     },
     "output_type": "display_data"
    },
    {
     "data": {
      "image/png": "[encoded data removed]",
      "text/plain": [
       "<Figure size 432x288 with 1 Axes>"
      ]
     },
     "metadata": {
      "needs_background": "light"
     },
     "output_type": "display_data"
    },
    {
     "data": {
      "image/png": "[encoded data removed]",
      "text/plain": [
       "<Figure size 432x288 with 1 Axes>"
      ]
     },
     "metadata": {
      "needs_background": "light"
     },
     "output_type": "display_data"
    },
    {
     "data": {
      "image/png": "[encoded data removed]",
      "text/plain": [
       "<Figure size 432x288 with 1 Axes>"
      ]
     },
     "metadata": {
      "needs_background": "light"
     },
     "output_type": "display_data"
    },
    {
     "data": {
      "image/png": "[encoded data removed]",
      "text/plain": [
       "<Figure size 432x288 with 1 Axes>"
      ]
     },
     "metadata": {
      "needs_background": "light"
     },
     "output_type": "display_data"
    }
   ],
   "source": [
    "#Tried to plot, but 8 layers of histograms doesn't help.\n",
    "#Line graph by date makes an x axis to bunched up with dates\n",
    "#diagram given is wrong, final.tail_au should be final.output.tail_au\n",
    "#had to make new dataframes all together.\n",
    "#https://pastebin.com/0Br0AZ0d Removed the tails\n",
    "\n",
    "train_avg_ag = pd.DataFrame(index=['rougher.input.feed_ag','rougher.output.concentrate_ag','primary_cleaner.output.concentrate_ag','final.output.concentrate_ag'],\n",
    "                  columns=['means'],\n",
    "                  data=[train['rougher.input.feed_ag'].mean(),train['rougher.output.concentrate_ag'].mean(),train['primary_cleaner.output.concentrate_ag'].mean(),train['final.output.concentrate_ag'].mean()])\n",
    "\n",
    "train_avg_ag.plot(title='train avg Ag by purification stage', kind='bar')\n",
    "\n",
    "train_avg_au = pd.DataFrame(index=['rougher.input.feed_au','rougher.output.concentrate_au','primary_cleaner.output.concentrate_au','final.output.concentrate_au'],\n",
    "                  columns=['means'],\n",
    "                  data=[train['rougher.input.feed_au'].mean(),train['rougher.output.concentrate_au'].mean(),train['primary_cleaner.output.concentrate_au'].mean(),train['final.output.concentrate_au'].mean()])\n",
    "\n",
    "train_avg_au.plot(title='train avg Au by purification stage', kind='bar')\n",
    "\n",
    "train_avg_pb = pd.DataFrame(index=['rougher.input.feed_pb','rougher.output.concentrate_pb','primary_cleaner.output.concentrate_pb','final.output.concentrate_pb'],\n",
    "                  columns=['means'],\n",
    "                  data=[train['rougher.input.feed_pb'].mean(),train['rougher.output.concentrate_pb'].mean(),train['primary_cleaner.output.concentrate_pb'].mean(),train['final.output.concentrate_pb'].mean()])\n",
    "\n",
    "train_avg_pb.plot(title='train avg Pb by purification stage', kind='bar')\n",
    "\n",
    "\n",
    "full_avg_ag = pd.DataFrame(index=['rougher.input.feed_ag','rougher.output.concentrate_ag','primary_cleaner.output.concentrate_ag','final.output.concentrate_ag'],\n",
    "                  columns=['means'],\n",
    "                  data=[full['rougher.input.feed_ag'].mean(),full['rougher.output.concentrate_ag'].mean(),full['primary_cleaner.output.concentrate_ag'].mean(),full['final.output.concentrate_ag'].mean()])\n",
    "\n",
    "full_avg_ag.plot(title='full avg Ag by purification stage', kind='bar')\n",
    "\n",
    "full_avg_au = pd.DataFrame(index=['rougher.input.feed_au','rougher.output.concentrate_au','primary_cleaner.output.concentrate_au','final.output.concentrate_au'],\n",
    "                  columns=['means'],\n",
    "                  data=[full['rougher.input.feed_au'].mean(),full['rougher.output.concentrate_au'].mean(),full['primary_cleaner.output.concentrate_au'].mean(),full['final.output.concentrate_au'].mean()])\n",
    "\n",
    "full_avg_au.plot(title='full avg Au by purification stage', kind='bar')\n",
    "\n",
    "full_avg_pb = pd.DataFrame(index=['rougher.input.feed_pb','rougher.output.concentrate_pb','primary_cleaner.output.concentrate_pb','final.output.concentrate_pb'],\n",
    "                  columns=['means'],\n",
    "                  data=[full['rougher.input.feed_pb'].mean(),full['rougher.output.concentrate_pb'].mean(),full['primary_cleaner.output.concentrate_pb'].mean(),full['final.output.concentrate_pb'].mean()])\n",
    "\n",
    "full_avg_pb.plot(title='full avg Pb by purification stage', kind='bar')"
   ]
  },
  {
   "cell_type": "markdown",
   "metadata": {},
   "source": [
    "Silver concentration decreases overall while Gold and Lead concentration go up in both train and full set."
   ]
  },
  {
   "cell_type": "markdown",
   "metadata": {},
   "source": [
    "### Compare the feed particle size distributions in the training set and in the test set. If the distributions vary significantly, the model evaluation will be incorrect."
   ]
  },
  {
   "cell_type": "code",
   "execution_count": 177,
   "metadata": {},
   "outputs": [
    {
     "data": {
      "image/png": "[encoded data removed]",
      "text/plain": [
       "<Figure size 432x288 with 1 Axes>"
      ]
     },
     "metadata": {
      "needs_background": "light"
     },
     "output_type": "display_data"
    },
    {
     "data": {
      "image/png": "[encoded data removed]",
      "text/plain": [
       "<Figure size 432x288 with 1 Axes>"
      ]
     },
     "metadata": {
      "needs_background": "light"
     },
     "output_type": "display_data"
    }
   ],
   "source": [
    "train['rougher.input.feed_size'].plot(title='rougher.input.feed_size',kind='hist',bins=100,grid=False,density=True,label='train')\n",
    "test['rougher.input.feed_size'].plot(title='rougher.input.feed_size',kind='hist',bins=100,grid=False,density=True,label='test')\n",
    "plt.legend(loc=\"upper right\")\n",
    "plt.show()\n",
    "train['primary_cleaner.input.feed_size'].plot(title='primary_cleaner.input.feed_size',kind='hist',bins=100,grid=False,density=True,label='train')\n",
    "test['primary_cleaner.input.feed_size'].plot(title='primary_cleaner.input.feed_size',kind='hist',bins=100,grid=False,density=True,label='test')\n",
    "plt.legend(loc=\"upper right\")\n",
    "plt.show()"
   ]
  },
  {
   "cell_type": "markdown",
   "metadata": {},
   "source": [
    "Overall higher averages in training set."
   ]
  },
  {
   "cell_type": "markdown",
   "metadata": {},
   "source": [
    "### Consider the total concentrations of all substances at different stages: raw feed, rougher concentrate, and final concentrate. Do you notice any abnormal values in the total distribution? If you do, is it worth removing such values from both samples? Describe the findings and eliminate anomalies."
   ]
  },
  {
   "cell_type": "code",
   "execution_count": 178,
   "metadata": {},
   "outputs": [
    {
     "name": "stdout",
     "output_type": "stream",
     "text": [
      "mean: 50.91413738143498\n"
     ]
    },
    {
     "data": {
      "image/png": "[encoded data removed]",
      "text/plain": [
       "<Figure size 432x288 with 1 Axes>"
      ]
     },
     "metadata": {
      "needs_background": "light"
     },
     "output_type": "display_data"
    },
    {
     "name": "stdout",
     "output_type": "stream",
     "text": [
      "mean: 60.305417876590354\n"
     ]
    },
    {
     "data": {
      "image/png": "[encoded data removed]",
      "text/plain": [
       "<Figure size 432x288 with 1 Axes>"
      ]
     },
     "metadata": {
      "needs_background": "light"
     },
     "output_type": "display_data"
    },
    {
     "name": "stdout",
     "output_type": "stream",
     "text": [
      "mean: 61.524690143117276\n"
     ]
    },
    {
     "data": {
      "image/png": "[encoded data removed]",
      "text/plain": [
       "<Figure size 432x288 with 1 Axes>"
      ]
     },
     "metadata": {
      "needs_background": "light"
     },
     "output_type": "display_data"
    },
    {
     "name": "stdout",
     "output_type": "stream",
     "text": [
      "mean: 54.43715856768742\n"
     ]
    },
    {
     "data": {
      "image/png": "[encoded data removed]",
      "text/plain": [
       "<Figure size 432x288 with 1 Axes>"
      ]
     },
     "metadata": {
      "needs_background": "light"
     },
     "output_type": "display_data"
    },
    {
     "name": "stdout",
     "output_type": "stream",
     "text": [
      "mean: 51.856809906997555\n"
     ]
    },
    {
     "data": {
      "image/png": "[encoded data removed]",
      "text/plain": [
       "<Figure size 432x288 with 1 Axes>"
      ]
     },
     "metadata": {
      "needs_background": "light"
     },
     "output_type": "display_data"
    },
    {
     "name": "stdout",
     "output_type": "stream",
     "text": [
      "mean: 61.518427191380304\n"
     ]
    },
    {
     "data": {
      "image/png": "[encoded data removed]",
      "text/plain": [
       "<Figure size 432x288 with 1 Axes>"
      ]
     },
     "metadata": {
      "needs_background": "light"
     },
     "output_type": "display_data"
    },
    {
     "name": "stdout",
     "output_type": "stream",
     "text": [
      "mean: 62.26859873601331\n"
     ]
    },
    {
     "data": {
      "image/png": "[encoded data removed]",
      "text/plain": [
       "<Figure size 432x288 with 1 Axes>"
      ]
     },
     "metadata": {
      "needs_background": "light"
     },
     "output_type": "display_data"
    },
    {
     "name": "stdout",
     "output_type": "stream",
     "text": [
      "mean: 54.96803339069857\n"
     ]
    },
    {
     "data": {
      "image/png": "[encoded data removed]",
      "text/plain": [
       "<Figure size 432x288 with 1 Axes>"
      ]
     },
     "metadata": {
      "needs_background": "light"
     },
     "output_type": "display_data"
    },
    {
     "name": "stdout",
     "output_type": "stream",
     "text": [
      "16860\n",
      "22716\n"
     ]
    }
   ],
   "source": [
    "#https://pastebin.com/gWVyj6Fy #didn't need boxplots\n",
    "\n",
    "train_rougher_input = (train['rougher.input.feed_sol'] + train['rougher.input.feed_pb'] + train['rougher.input.feed_au'] + train['rougher.input.feed_ag'])\n",
    "train_rougher_output = (train['rougher.output.concentrate_ag'] + train['rougher.output.concentrate_pb'] + train['rougher.output.concentrate_au'] + train['rougher.output.concentrate_sol'])\n",
    "train_final_output = (train['final.output.concentrate_sol'] + train['final.output.concentrate_au'] + train['final.output.concentrate_pb'] + train['final.output.concentrate_ag'])\n",
    "train_primary_cleaner_output = (train['primary_cleaner.output.concentrate_ag'] + train['primary_cleaner.output.concentrate_pb'] + train['primary_cleaner.output.concentrate_sol'] + train['primary_cleaner.output.concentrate_au'])\n",
    "\n",
    "train_rougher_input.plot(title='train_rougher_input',kind='hist',bins=100,grid=False)\n",
    "print('mean:',train_rougher_input.mean())\n",
    "plt.show()\n",
    "train_rougher_output.plot(title='train_rougher_output',kind='hist',bins=100,grid=False)\n",
    "print('mean:',train_rougher_output.mean())\n",
    "plt.show()\n",
    "train_primary_cleaner_output.plot(title='train_primary_cleaner_output',kind='hist',bins=100,grid=False)\n",
    "print('mean:',train_final_output.mean())\n",
    "plt.show()\n",
    "train_final_output.plot(title='train_final_output',kind='hist',bins=100,grid=False)\n",
    "print('mean:',train_primary_cleaner_output.mean())\n",
    "plt.show()\n",
    "\n",
    "full_rougher_input = (full['rougher.input.feed_sol'] + full['rougher.input.feed_pb'] + full['rougher.input.feed_au'] + full['rougher.input.feed_ag'])\n",
    "full_rougher_output = (full['rougher.output.concentrate_ag'] + full['rougher.output.concentrate_pb'] + full['rougher.output.concentrate_au'] + full['rougher.output.concentrate_sol'])\n",
    "full_final_output = (full['final.output.concentrate_sol'] + full['final.output.concentrate_au'] + full['final.output.concentrate_pb'] + full['final.output.concentrate_ag'])\n",
    "full_primary_cleaner_output = (full['primary_cleaner.output.concentrate_ag'] + full['primary_cleaner.output.concentrate_pb'] + full['primary_cleaner.output.concentrate_sol'] + full['primary_cleaner.output.concentrate_au'])\n",
    "\n",
    "full_rougher_input.plot(title='full_rougher_input',kind='hist',bins=100,grid=False)\n",
    "print('mean:',full_rougher_input.mean())\n",
    "plt.show()\n",
    "full_rougher_output.plot(title='full_rougher_output',kind='hist',bins=100,grid=False)\n",
    "print('mean:',full_rougher_output.mean())\n",
    "plt.show()\n",
    "full_primary_cleaner_output.plot(title='full_primary_cleaner_output',kind='hist',bins=100,grid=False)\n",
    "print('mean:',full_final_output.mean())\n",
    "plt.show()\n",
    "full_final_output.plot(title='full_final_output',kind='hist',bins=100,grid=False)\n",
    "print('mean:',full_primary_cleaner_output.mean())\n",
    "plt.show()\n",
    "\n",
    "print(train.shape[0])\n",
    "print(full.shape[0])\n"
   ]
  },
  {
   "cell_type": "markdown",
   "metadata": {},
   "source": [
    "Suprising amount of zeroes and ones. They are the anomaly."
   ]
  },
  {
   "cell_type": "code",
   "execution_count": 179,
   "metadata": {},
   "outputs": [
    {
     "data": {
      "image/png": "[encoded data removed]",
      "text/plain": [
       "<Figure size 432x288 with 1 Axes>"
      ]
     },
     "metadata": {
      "needs_background": "light"
     },
     "output_type": "display_data"
    },
    {
     "data": {
      "image/png": "[encoded data removed]",
      "text/plain": [
       "<Figure size 432x288 with 1 Axes>"
      ]
     },
     "metadata": {
      "needs_background": "light"
     },
     "output_type": "display_data"
    },
    {
     "data": {
      "image/png": "[encoded data removed]",
      "text/plain": [
       "<Figure size 432x288 with 1 Axes>"
      ]
     },
     "metadata": {
      "needs_background": "light"
     },
     "output_type": "display_data"
    },
    {
     "data": {
      "image/png": "[encoded data removed]",
      "text/plain": [
       "<Figure size 432x288 with 1 Axes>"
      ]
     },
     "metadata": {
      "needs_background": "light"
     },
     "output_type": "display_data"
    },
    {
     "data": {
      "image/png": "[encoded data removed]",
      "text/plain": [
       "<Figure size 432x288 with 1 Axes>"
      ]
     },
     "metadata": {
      "needs_background": "light"
     },
     "output_type": "display_data"
    },
    {
     "data": {
      "image/png": "[encoded data removed]",
      "text/plain": [
       "<Figure size 432x288 with 1 Axes>"
      ]
     },
     "metadata": {
      "needs_background": "light"
     },
     "output_type": "display_data"
    },
    {
     "data": {
      "image/png": "[encoded data removed]",
      "text/plain": [
       "<Figure size 432x288 with 1 Axes>"
      ]
     },
     "metadata": {
      "needs_background": "light"
     },
     "output_type": "display_data"
    },
    {
     "data": {
      "image/png": "[encoded data removed]",
      "text/plain": [
       "<Figure size 432x288 with 1 Axes>"
      ]
     },
     "metadata": {
      "needs_background": "light"
     },
     "output_type": "display_data"
    }
   ],
   "source": [
    "train_rougher_input.plot(title='train_rougher_input',kind='hist',bins=100,grid=False,range=(10,100))\n",
    "plt.show()\n",
    "train_rougher_output.plot(title='train_rougher_output',kind='hist',bins=100,grid=False,range=(1,100))\n",
    "plt.show()\n",
    "train_primary_cleaner_output.plot(title='train_primary_cleaner_output',kind='hist',bins=100,grid=False,range=(1,100))\n",
    "plt.show()\n",
    "train_final_output.plot(title='train_final_output',kind='hist',bins=100,grid=False,range=(1,100))\n",
    "plt.show()\n",
    "full_rougher_input.plot(title='full_rougher_input',kind='hist',bins=100,grid=False,range=(1,100))\n",
    "plt.show()\n",
    "full_rougher_output.plot(title='full_rougher_output',kind='hist',bins=100,grid=False,range=(1,100))\n",
    "plt.show()\n",
    "full_primary_cleaner_output.plot(title='full_primary_cleaner_output',kind='hist',bins=100,grid=False,range=(1,100))\n",
    "plt.show()\n",
    "full_final_output.plot(title='full_final_output',kind='hist',bins=100,grid=False,range=(1,100))\n",
    "plt.show()"
   ]
  },
  {
   "cell_type": "markdown",
   "metadata": {},
   "source": [
    "Removal is needed, majority of zeros may be ending up in tails. It is good data for understanding how much ore is wasted."
   ]
  },
  {
   "cell_type": "markdown",
   "metadata": {},
   "source": [
    "<div class=\"alert alert-warning\">\n",
    "<b>Reviewer's comment</b>\n",
    "\n",
    "This comment seems to contradict that you're actually removing the zeros? :)\n",
    "\n",
    "Anyway, I agree with removing the rows where total concentration at any stage is zero: if there was some material at the start, it can't just all disappear\n",
    "\n",
    "</div>"
   ]
  },
  {
   "cell_type": "code",
   "execution_count": 180,
   "metadata": {},
   "outputs": [],
   "source": [
    "train = train[(train['rougher.input.feed_sol'] + train['rougher.input.feed_pb'] + train['rougher.input.feed_au'] + train['rougher.input.feed_ag']) > 1]\n",
    "train = train[(train['rougher.output.concentrate_ag'] + train['rougher.output.concentrate_pb'] + train['rougher.output.concentrate_au'] + train['rougher.output.concentrate_sol']) > 1]\n",
    "train = train[(train['final.output.concentrate_sol'] + train['final.output.concentrate_au'] + train['final.output.concentrate_pb'] + train['final.output.concentrate_ag']) > 1]\n",
    "train = train[(train['primary_cleaner.output.concentrate_ag'] + train['primary_cleaner.output.concentrate_pb'] + train['primary_cleaner.output.concentrate_sol'] + train['primary_cleaner.output.concentrate_au']) > 1]\n",
    "full = full[(full['rougher.input.feed_sol'] + full['rougher.input.feed_pb'] + full['rougher.input.feed_au'] + full['rougher.input.feed_ag']) > 1]\n",
    "full = full[(full['rougher.output.concentrate_ag'] + full['rougher.output.concentrate_pb'] + full['rougher.output.concentrate_au'] + full['rougher.output.concentrate_sol']) > 1]\n",
    "full = full[(full['final.output.concentrate_sol'] + full['final.output.concentrate_au'] + full['final.output.concentrate_pb'] + full['final.output.concentrate_ag']) > 1]\n",
    "full = full[(full['primary_cleaner.output.concentrate_ag'] + full['primary_cleaner.output.concentrate_pb'] + full['primary_cleaner.output.concentrate_sol'] + full['primary_cleaner.output.concentrate_au']) > 1]"
   ]
  },
  {
   "cell_type": "code",
   "execution_count": 181,
   "metadata": {},
   "outputs": [
    {
     "name": "stdout",
     "output_type": "stream",
     "text": [
      "mean: 56.64370015671654\n"
     ]
    },
    {
     "data": {
      "image/png": "[encoded data removed]",
      "text/plain": [
       "<Figure size 432x288 with 1 Axes>"
      ]
     },
     "metadata": {
      "needs_background": "light"
     },
     "output_type": "display_data"
    },
    {
     "name": "stdout",
     "output_type": "stream",
     "text": [
      "mean: 68.63551340859883\n"
     ]
    },
    {
     "data": {
      "image/png": "[encoded data removed]",
      "text/plain": [
       "<Figure size 432x288 with 1 Axes>"
      ]
     },
     "metadata": {
      "needs_background": "light"
     },
     "output_type": "display_data"
    },
    {
     "name": "stdout",
     "output_type": "stream",
     "text": [
      "mean: 68.8863506143268\n"
     ]
    },
    {
     "data": {
      "image/png": "[encoded data removed]",
      "text/plain": [
       "<Figure size 432x288 with 1 Axes>"
      ]
     },
     "metadata": {
      "needs_background": "light"
     },
     "output_type": "display_data"
    },
    {
     "name": "stdout",
     "output_type": "stream",
     "text": [
      "mean: 61.079092179331255\n"
     ]
    },
    {
     "data": {
      "image/png": "[encoded data removed]",
      "text/plain": [
       "<Figure size 432x288 with 1 Axes>"
      ]
     },
     "metadata": {
      "needs_background": "light"
     },
     "output_type": "display_data"
    },
    {
     "name": "stdout",
     "output_type": "stream",
     "text": [
      "mean: 57.13508504798306\n"
     ]
    },
    {
     "data": {
      "image/png": "[encoded data removed]",
      "text/plain": [
       "<Figure size 432x288 with 1 Axes>"
      ]
     },
     "metadata": {
      "needs_background": "light"
     },
     "output_type": "display_data"
    },
    {
     "name": "stdout",
     "output_type": "stream",
     "text": [
      "mean: 69.31563341142356\n"
     ]
    },
    {
     "data": {
      "image/png": "[encoded data removed]",
      "text/plain": [
       "<Figure size 432x288 with 1 Axes>"
      ]
     },
     "metadata": {
      "needs_background": "light"
     },
     "output_type": "display_data"
    },
    {
     "name": "stdout",
     "output_type": "stream",
     "text": [
      "mean: 68.79053950426855\n"
     ]
    },
    {
     "data": {
      "image/png": "[encoded data removed]",
      "text/plain": [
       "<Figure size 432x288 with 1 Axes>"
      ]
     },
     "metadata": {
      "needs_background": "light"
     },
     "output_type": "display_data"
    },
    {
     "name": "stdout",
     "output_type": "stream",
     "text": [
      "mean: 61.23909479112256\n"
     ]
    },
    {
     "data": {
      "image/png": "[encoded data removed]",
      "text/plain": [
       "<Figure size 432x288 with 1 Axes>"
      ]
     },
     "metadata": {
      "needs_background": "light"
     },
     "output_type": "display_data"
    },
    {
     "name": "stdout",
     "output_type": "stream",
     "text": [
      "13602\n",
      "19602\n"
     ]
    }
   ],
   "source": [
    "train_rougher_input = (train['rougher.input.feed_sol'] + train['rougher.input.feed_pb'] + train['rougher.input.feed_au'] + train['rougher.input.feed_ag'])\n",
    "train_rougher_output = (train['rougher.output.concentrate_ag'] + train['rougher.output.concentrate_pb'] + train['rougher.output.concentrate_au'] + train['rougher.output.concentrate_sol'])\n",
    "train_final_output = (train['final.output.concentrate_sol'] + train['final.output.concentrate_au'] + train['final.output.concentrate_pb'] + train['final.output.concentrate_ag'])\n",
    "train_primary_cleaner_output = (train['primary_cleaner.output.concentrate_ag'] + train['primary_cleaner.output.concentrate_pb'] + train['primary_cleaner.output.concentrate_sol'] + train['primary_cleaner.output.concentrate_au'])\n",
    "\n",
    "train_rougher_input.plot(title='train_rougher_input',kind='hist',bins=100,grid=False)\n",
    "print('mean:',train_rougher_input.mean())\n",
    "plt.show()\n",
    "train_rougher_output.plot(title='train_rougher_output',kind='hist',bins=100,grid=False)\n",
    "print('mean:',train_rougher_output.mean())\n",
    "plt.show()\n",
    "train_primary_cleaner_output.plot(title='train_primary_cleaner_output',kind='hist',bins=100,grid=False)\n",
    "print('mean:',train_final_output.mean())\n",
    "plt.show()\n",
    "train_final_output.plot(title='train_final_output',kind='hist',bins=100,grid=False)\n",
    "print('mean:',train_primary_cleaner_output.mean())\n",
    "plt.show()\n",
    "\n",
    "full_rougher_input = (full['rougher.input.feed_sol'] + full['rougher.input.feed_pb'] + full['rougher.input.feed_au'] + full['rougher.input.feed_ag'])\n",
    "full_rougher_output = (full['rougher.output.concentrate_ag'] + full['rougher.output.concentrate_pb'] + full['rougher.output.concentrate_au'] + full['rougher.output.concentrate_sol'])\n",
    "full_final_output = (full['final.output.concentrate_sol'] + full['final.output.concentrate_au'] + full['final.output.concentrate_pb'] + full['final.output.concentrate_ag'])\n",
    "full_primary_cleaner_output = (full['primary_cleaner.output.concentrate_ag'] + full['primary_cleaner.output.concentrate_pb'] + full['primary_cleaner.output.concentrate_sol'] + full['primary_cleaner.output.concentrate_au'])\n",
    "\n",
    "full_rougher_input.plot(title='full_rougher_input',kind='hist',bins=100,grid=False)\n",
    "print('mean:',full_rougher_input.mean())\n",
    "plt.show()\n",
    "full_rougher_output.plot(title='full_rougher_output',kind='hist',bins=100,grid=False)\n",
    "print('mean:',full_rougher_output.mean())\n",
    "plt.show()\n",
    "full_primary_cleaner_output.plot(title='full_primary_cleaner_output',kind='hist',bins=100,grid=False)\n",
    "print('mean:',full_final_output.mean())\n",
    "plt.show()\n",
    "full_final_output.plot(title='full_final_output',kind='hist',bins=100,grid=False)\n",
    "print('mean:',full_primary_cleaner_output.mean())\n",
    "plt.show()\n",
    "\n",
    "print(train.shape[0])\n",
    "print(full.shape[0])"
   ]
  },
  {
   "cell_type": "markdown",
   "metadata": {},
   "source": [
    "## Build the model"
   ]
  },
  {
   "cell_type": "markdown",
   "metadata": {},
   "source": [
    "### Write a function to calculate the final sMAPE value."
   ]
  },
  {
   "cell_type": "code",
   "execution_count": 182,
   "metadata": {},
   "outputs": [],
   "source": [
    "#smape = (1/n)*E(i->n)*(abs(target-prediction)/((abs(target)-abs(prediction))/2))*100\n",
    "#https://pastebin.com/RyZWK1Sg \n",
    "#https://pastebin.com/iPSAxjxb\n",
    "\n",
    "#based off MAE function\n",
    "\n",
    "#reminder *x100 isn't 100%, 100% is 1.00\n",
    "#you can pass in the whole list of y_trues and y_preds to the smape function and you can operate them as a whole (a list can be considered a vector just so you know) Then it can be written simpler like (y_true - y_pred).abs()\n",
    "\n",
    "def smape(target, predictions):\n",
    "    return ((target - predictions).abs()/((target.abs() + predictions.abs())/2)).mean()\n",
    "#.mean() works better than * 100 / N \n",
    "\n",
    "#final_smape = 0.25 * smape(rough) + 0.75 * smape(final)\n",
    "def final_smape(target, predictions):\n",
    "    rough_smape = smape(target[0], predictions[0])\n",
    "    final_smape = smape(target[1], predictions[1])\n",
    "    return (0.25 * rough_smape) + (0.75 * final_smape)"
   ]
  },
  {
   "cell_type": "markdown",
   "metadata": {},
   "source": [
    "### Train different models. Evaluate them using cross-validation. Pick the best model and test it using the test sample. Provide findings."
   ]
  },
  {
   "cell_type": "code",
   "execution_count": 183,
   "metadata": {},
   "outputs": [
    {
     "name": "stdout",
     "output_type": "stream",
     "text": [
      "[0.01047409040794013, 0.018926865123154685, 0.039338235294119686, 0.018933823529497757, 1.1616548179343173e-13]\n",
      "LinearRegression mean smape score 0.017534602870965685\n"
     ]
    }
   ],
   "source": [
    "#https://pastebin.com/VHf1xWAt for notes\n",
    "#https://pastebin.com/RsTgcJjk\n",
    "#https://pastebin.com/gd40rLER\n",
    "#we are only predicting 'rougher.output.recovery', 'final.output.recovery'\n",
    "\n",
    "\n",
    "features = test.columns.values\n",
    "target = ['rougher.output.recovery', 'final.output.recovery']\n",
    "\n",
    "features_train = train[features].ffill().reset_index(drop=True)\n",
    "target_train = train[target].ffill().reset_index(drop=True)\n",
    "target_train.columns = [0, 1]\n",
    "\n",
    "\n",
    "kf = KFold(n_splits=5)\n",
    "\n",
    "smape_scores = []\n",
    "\n",
    "for train_index, test_index in kf.split(features_train):\n",
    "    features_curr_train = features_train.loc[train_index].reset_index(drop=True)\n",
    "    target_curr_train = target_train.loc[train_index].reset_index(drop=True)\n",
    "    features_valid = features_train.loc[test_index].reset_index(drop=True)\n",
    "    target_valid = target_train.loc[test_index].reset_index(drop=True) \n",
    "    #.loc works better for selecting multiple indexes \n",
    "    #.drop() for the indexes to match up\n",
    "\n",
    "    model = LinearRegression()\n",
    "    model.fit(features_curr_train,target_curr_train)\n",
    "    predictions_valid = pd.DataFrame(model.predict(features_valid))\n",
    "    #reminder\n",
    "    smape_scores.append(final_smape(target_valid, predictions_valid))\n",
    "    \n",
    "print(smape_scores)\n",
    "print('LinearRegression mean smape score',mean(smape_scores))\n",
    "\n"
   ]
  },
  {
   "cell_type": "code",
   "execution_count": 184,
   "metadata": {},
   "outputs": [
    {
     "name": "stdout",
     "output_type": "stream",
     "text": [
      "[0.013787874069712679, 0.0161871509973247, 0.009511547158921793, 0.013715087679696465, 0.0036173271857734357]\n",
      "DecisionTreeRegressor mean smape score 0.011363797418285814\n"
     ]
    }
   ],
   "source": [
    "smape_scores = []\n",
    "\n",
    "for train_index, test_index in kf.split(features_train):\n",
    "    features_curr_train = features_train.loc[train_index].reset_index(drop=True)\n",
    "    target_curr_train = target_train.loc[train_index].reset_index(drop=True)\n",
    "    features_valid = features_train.loc[test_index].reset_index(drop=True)\n",
    "    target_valid = target_train.loc[test_index].reset_index(drop=True) \n",
    "    #.loc works better for selecting multiple indexes \n",
    "    #.drop() for the indexes to match up\n",
    "\n",
    "    model = DecisionTreeRegressor(random_state=54321)\n",
    "    model.fit(features_curr_train,target_curr_train)\n",
    "    predictions_valid = pd.DataFrame(model.predict(features_valid))\n",
    "    #reminder\n",
    "    smape_scores.append(final_smape(target_valid, predictions_valid))\n",
    "    \n",
    "print(smape_scores)\n",
    "print('DecisionTreeRegressor mean smape score',mean(smape_scores))"
   ]
  },
  {
   "cell_type": "markdown",
   "metadata": {},
   "source": [
    "Note: This will take multiple minutes since we are finding the max mean of multiple lists of scores"
   ]
  },
  {
   "cell_type": "code",
   "execution_count": 185,
   "metadata": {},
   "outputs": [
    {
     "name": "stdout",
     "output_type": "stream",
     "text": [
      "0.011641541265440725\n",
      "0.014589077244460494\n",
      "0.01736399026532077\n",
      "0.01788997803851419\n",
      "0.018520247211610264\n",
      "RandomForestRegressor mean smape score est: 41 max mean: 0.018520247211610264\n"
     ]
    }
   ],
   "source": [
    "#https://pastebin.com/cCY8dDGL\n",
    " \n",
    "mean_smape_scores_and_est = {}\n",
    "for est in range(1,50,10):\n",
    "    #Checking best estimators\n",
    "    smape_scores = []\n",
    "    \n",
    "    #cross-validation by looping through both indexs\n",
    "    for train_index, test_index in kf.split(features_train): #KFold instead of train_test_split\n",
    "        \n",
    "        features_curr_train = features_train.loc[train_index].reset_index(drop=True)\n",
    "        target_curr_train = target_train.loc[train_index].reset_index(drop=True)\n",
    "        \n",
    "        features_valid = features_train.loc[test_index].reset_index(drop=True)\n",
    "        target_valid = target_train.loc[test_index].reset_index(drop=True) \n",
    "\n",
    "        model = RandomForestRegressor(random_state=54321,n_estimators=est)\n",
    "\n",
    "        model.fit(features_curr_train,target_curr_train)\n",
    "        \n",
    "        \n",
    "        predictions_valid = pd.DataFrame(model.predict(features_valid))\n",
    "        #reminder\n",
    "        smape_scores.append(final_smape(target_valid, predictions_valid))\n",
    "    smape_scores_mean = mean(smape_scores)\n",
    "    #print(est)\n",
    "    print(smape_scores_mean)\n",
    "    mean_smape_scores_and_est[est] = smape_scores_mean\n",
    "    \n",
    "max_mean_est = max(mean_smape_scores_and_est, key=mean_smape_scores_and_est.get)\n",
    "        \n",
    "print('RandomForestRegressor mean smape score est:',max_mean_est,'max mean:',mean_smape_scores_and_est[max_mean_est])"
   ]
  },
  {
   "cell_type": "markdown",
   "metadata": {},
   "source": [
    "A comparison of the final model with a simple constant model as a baseline (e.g. using DummyRegressor)."
   ]
  },
  {
   "cell_type": "code",
   "execution_count": 186,
   "metadata": {},
   "outputs": [
    {
     "name": "stdout",
     "output_type": "stream",
     "text": [
      "[0.11675757974008232, 0.10006869891467005, 0.1432845493921956, 0.14063658722750721, 0.10532263749475929]\n",
      "DummyRegressor mean smape score 0.12121401055384289\n"
     ]
    }
   ],
   "source": [
    "smape_scores = []\n",
    "\n",
    "for train_index, test_index in kf.split(features_train):\n",
    "    features_curr_train = features_train.loc[train_index].reset_index(drop=True)\n",
    "    target_curr_train = target_train.loc[train_index].reset_index(drop=True)\n",
    "    features_valid = features_train.loc[test_index].reset_index(drop=True)\n",
    "    target_valid = target_train.loc[test_index].reset_index(drop=True) \n",
    "    #.loc works better for selecting multiple indexes \n",
    "    #.drop() for the indexes to match up\n",
    "\n",
    "    model = DummyRegressor(strategy=\"mean\")\n",
    "    model.fit(features_curr_train,target_curr_train)\n",
    "    predictions_valid = pd.DataFrame(model.predict(features_valid))\n",
    "    #reminder\n",
    "    smape_scores.append(final_smape(target_valid, predictions_valid))\n",
    "    \n",
    "print(smape_scores)\n",
    "print('DummyRegressor mean smape score',mean(smape_scores))"
   ]
  },
  {
   "cell_type": "markdown",
   "metadata": {},
   "source": [
    "Now we test, but we need the original columns."
   ]
  },
  {
   "cell_type": "code",
   "execution_count": 189,
   "metadata": {},
   "outputs": [
    {
     "name": "stdout",
     "output_type": "stream",
     "text": [
      "Test smape: 0.2292062582956781\n"
     ]
    }
   ],
   "source": [
    "#test variable needs to be reset.\n",
    "#you need to save the list of columns from the original test set and use them as features (not the list of columns in the test set merged with the full dataset!), any of the output/calculation columns would cause data leakage, and right now your list of features even includes the targets themselves, which is obviously inappropriate.\n",
    "features = old_test_columns #old_test_columns was saved earlier in 156 to differentiate them, still has 'date' in it so we need it gone.\n",
    "target = ['rougher.output.recovery', 'final.output.recovery']\n",
    "\n",
    "features_train = train[features].ffill().reset_index(drop=True)\n",
    "target_train = train[target].ffill().reset_index(drop=True)\n",
    "\n",
    "\n",
    "features_test = test[features].ffill().reset_index(drop=True)\n",
    "target_test = test[target].ffill().reset_index(drop=True)\n",
    "target_test.columns = [0, 1]\n",
    "\n",
    "#smape doen't work if you define features_test and target_test in the cell at the beginning of 3.2\n",
    "\n",
    "model = DecisionTreeRegressor(random_state=54321)\n",
    "model.fit(features_train,target_train)\n",
    "predictions_test = pd.DataFrame(model.predict(features_test))\n",
    "print('Test smape:',final_smape(target_test, predictions_test))"
   ]
  },
  {
   "cell_type": "markdown",
   "metadata": {},
   "source": [
    "## Conclusion"
   ]
  },
  {
   "cell_type": "markdown",
   "metadata": {},
   "source": [
    "Most definitely, DecisionTreeRegressor is the one with best score according to mean smape score 0.011363797418285814."
   ]
  }
 ],
 "metadata": {
  "ExecuteTimeLog": [
   {
    "duration": 60,
    "start_time": "2022-07-20T03:30:50.241Z"
   },
   {
    "duration": 4,
    "start_time": "2022-07-20T16:09:07.598Z"
   },
   {
    "duration": 2,
    "start_time": "2022-07-20T16:09:13.020Z"
   },
   {
    "duration": 1566,
    "start_time": "2022-07-20T16:09:20.863Z"
   },
   {
    "duration": 3,
    "start_time": "2022-07-20T16:09:22.853Z"
   },
   {
    "duration": 5,
    "start_time": "2022-07-20T16:34:45.605Z"
   },
   {
    "duration": 52,
    "start_time": "2022-07-20T20:43:54.506Z"
   },
   {
    "duration": 10,
    "start_time": "2022-07-20T20:43:57.202Z"
   },
   {
    "duration": 7,
    "start_time": "2022-07-20T20:43:57.432Z"
   },
   {
    "duration": 2,
    "start_time": "2022-07-20T20:44:05.990Z"
   },
   {
    "duration": 1721,
    "start_time": "2022-07-20T20:44:06.205Z"
   },
   {
    "duration": 5066,
    "start_time": "2022-07-20T20:44:07.928Z"
   },
   {
    "duration": 33,
    "start_time": "2022-07-20T20:44:12.995Z"
   },
   {
    "duration": 26,
    "start_time": "2022-07-20T20:45:41.024Z"
   },
   {
    "duration": 28,
    "start_time": "2022-07-20T20:45:49.587Z"
   },
   {
    "duration": 23,
    "start_time": "2022-07-20T20:46:10.290Z"
   },
   {
    "duration": 17,
    "start_time": "2022-07-20T20:46:27.078Z"
   },
   {
    "duration": 19,
    "start_time": "2022-07-20T20:46:32.274Z"
   },
   {
    "duration": 27,
    "start_time": "2022-07-20T20:56:57.933Z"
   },
   {
    "duration": 28,
    "start_time": "2022-07-20T20:57:02.777Z"
   },
   {
    "duration": 77,
    "start_time": "2022-07-20T20:57:13.997Z"
   },
   {
    "duration": 30,
    "start_time": "2022-07-20T20:57:21.581Z"
   },
   {
    "duration": 57,
    "start_time": "2022-07-21T16:10:00.947Z"
   },
   {
    "duration": 2,
    "start_time": "2022-07-21T16:10:06.766Z"
   },
   {
    "duration": 1569,
    "start_time": "2022-07-21T16:10:29.869Z"
   },
   {
    "duration": 55,
    "start_time": "2022-07-21T16:11:10.437Z"
   },
   {
    "duration": 4,
    "start_time": "2022-07-21T16:11:17.998Z"
   },
   {
    "duration": 972,
    "start_time": "2022-07-21T16:11:18.004Z"
   },
   {
    "duration": 18,
    "start_time": "2022-07-21T16:11:18.978Z"
   },
   {
    "duration": 28,
    "start_time": "2022-07-21T16:11:18.997Z"
   },
   {
    "duration": 29,
    "start_time": "2022-07-21T16:11:19.027Z"
   },
   {
    "duration": 30,
    "start_time": "2022-07-21T16:11:19.058Z"
   },
   {
    "duration": 48,
    "start_time": "2022-07-21T16:11:19.090Z"
   },
   {
    "duration": 27,
    "start_time": "2022-07-21T16:11:19.140Z"
   },
   {
    "duration": 6,
    "start_time": "2022-07-21T16:29:24.631Z"
   },
   {
    "duration": 70,
    "start_time": "2022-07-21T16:29:50.168Z"
   },
   {
    "duration": 6,
    "start_time": "2022-07-21T16:29:57.926Z"
   },
   {
    "duration": 34,
    "start_time": "2022-07-21T19:07:09.491Z"
   },
   {
    "duration": 6,
    "start_time": "2022-07-21T19:12:02.972Z"
   },
   {
    "duration": 5,
    "start_time": "2022-07-21T19:12:09.676Z"
   },
   {
    "duration": 6,
    "start_time": "2022-07-21T19:12:26.957Z"
   },
   {
    "duration": 5,
    "start_time": "2022-07-21T19:12:40.813Z"
   },
   {
    "duration": 5,
    "start_time": "2022-07-21T19:13:03.181Z"
   },
   {
    "duration": 6,
    "start_time": "2022-07-21T19:13:22.235Z"
   },
   {
    "duration": 6,
    "start_time": "2022-07-21T19:13:34.204Z"
   },
   {
    "duration": 6,
    "start_time": "2022-07-21T19:17:03.387Z"
   },
   {
    "duration": 911,
    "start_time": "2022-07-21T19:25:14.589Z"
   },
   {
    "duration": 48,
    "start_time": "2022-07-21T19:25:47.341Z"
   },
   {
    "duration": 98,
    "start_time": "2022-07-21T19:26:15.095Z"
   },
   {
    "duration": 47,
    "start_time": "2022-07-21T19:26:42.167Z"
   },
   {
    "duration": 901,
    "start_time": "2022-07-21T19:27:18.714Z"
   },
   {
    "duration": 722,
    "start_time": "2022-07-21T19:27:42.648Z"
   },
   {
    "duration": 962,
    "start_time": "2022-07-21T19:27:53.959Z"
   },
   {
    "duration": 791,
    "start_time": "2022-07-21T19:28:04.746Z"
   },
   {
    "duration": 748,
    "start_time": "2022-07-21T19:28:08.541Z"
   },
   {
    "duration": 5,
    "start_time": "2022-07-21T19:29:42.863Z"
   },
   {
    "duration": 60,
    "start_time": "2022-07-21T19:29:52.278Z"
   },
   {
    "duration": 8,
    "start_time": "2022-07-21T19:30:01.285Z"
   },
   {
    "duration": 51,
    "start_time": "2022-07-21T19:30:33.640Z"
   },
   {
    "duration": 10,
    "start_time": "2022-07-21T19:30:53.097Z"
   },
   {
    "duration": 5,
    "start_time": "2022-07-21T19:31:41.254Z"
   },
   {
    "duration": 6,
    "start_time": "2022-07-21T19:31:48.154Z"
   },
   {
    "duration": 49,
    "start_time": "2022-07-21T19:33:11.862Z"
   },
   {
    "duration": 8,
    "start_time": "2022-07-21T19:35:04.267Z"
   },
   {
    "duration": 49,
    "start_time": "2022-07-22T00:27:12.624Z"
   },
   {
    "duration": 68,
    "start_time": "2022-07-22T00:27:21.703Z"
   },
   {
    "duration": 51,
    "start_time": "2022-07-22T00:28:36.145Z"
   },
   {
    "duration": 15,
    "start_time": "2022-07-22T00:29:02.241Z"
   },
   {
    "duration": 12,
    "start_time": "2022-07-22T00:29:23.537Z"
   },
   {
    "duration": 14,
    "start_time": "2022-07-22T00:30:02.501Z"
   },
   {
    "duration": 17,
    "start_time": "2022-07-22T00:30:50.706Z"
   },
   {
    "duration": 18,
    "start_time": "2022-07-22T00:30:57.301Z"
   },
   {
    "duration": 40,
    "start_time": "2022-07-22T00:32:24.925Z"
   },
   {
    "duration": 6,
    "start_time": "2022-07-22T00:32:57.947Z"
   },
   {
    "duration": 6,
    "start_time": "2022-07-22T00:41:32.848Z"
   },
   {
    "duration": 16,
    "start_time": "2022-07-22T00:43:26.249Z"
   },
   {
    "duration": 8,
    "start_time": "2022-07-22T00:43:34.802Z"
   },
   {
    "duration": 1043,
    "start_time": "2022-07-22T00:43:35.307Z"
   },
   {
    "duration": 35,
    "start_time": "2022-07-22T00:43:36.353Z"
   },
   {
    "duration": 12,
    "start_time": "2022-07-22T00:43:36.390Z"
   },
   {
    "duration": 22,
    "start_time": "2022-07-22T00:43:36.404Z"
   },
   {
    "duration": 64,
    "start_time": "2022-07-22T00:43:36.428Z"
   },
   {
    "duration": 0,
    "start_time": "2022-07-22T00:43:36.494Z"
   },
   {
    "duration": 13,
    "start_time": "2022-07-22T00:43:44.293Z"
   },
   {
    "duration": 19,
    "start_time": "2022-07-22T00:43:44.639Z"
   },
   {
    "duration": 16,
    "start_time": "2022-07-22T00:44:08.235Z"
   },
   {
    "duration": 19,
    "start_time": "2022-07-22T00:44:45.738Z"
   },
   {
    "duration": 34,
    "start_time": "2022-07-22T00:44:58.494Z"
   },
   {
    "duration": 8,
    "start_time": "2022-07-22T00:45:20.846Z"
   },
   {
    "duration": 15,
    "start_time": "2022-07-22T00:45:39.807Z"
   },
   {
    "duration": 10,
    "start_time": "2022-07-22T00:45:59.759Z"
   },
   {
    "duration": 19,
    "start_time": "2022-07-22T00:46:13.886Z"
   },
   {
    "duration": 20,
    "start_time": "2022-07-22T00:46:23.943Z"
   },
   {
    "duration": 34,
    "start_time": "2022-07-22T00:46:34.721Z"
   },
   {
    "duration": 9,
    "start_time": "2022-07-22T00:46:48.244Z"
   },
   {
    "duration": 3,
    "start_time": "2022-07-22T00:47:19.070Z"
   },
   {
    "duration": 30,
    "start_time": "2022-07-22T00:47:33.791Z"
   },
   {
    "duration": 24,
    "start_time": "2022-07-22T00:49:02.397Z"
   },
   {
    "duration": 18,
    "start_time": "2022-07-22T00:49:18.861Z"
   },
   {
    "duration": 16,
    "start_time": "2022-07-22T00:49:49.844Z"
   },
   {
    "duration": 17,
    "start_time": "2022-07-22T00:51:36.439Z"
   },
   {
    "duration": 23,
    "start_time": "2022-07-22T00:51:42.605Z"
   },
   {
    "duration": 79,
    "start_time": "2022-07-22T00:51:44.094Z"
   },
   {
    "duration": 21,
    "start_time": "2022-07-22T00:51:44.441Z"
   },
   {
    "duration": 14,
    "start_time": "2022-07-22T00:51:54.343Z"
   },
   {
    "duration": 9,
    "start_time": "2022-07-22T00:52:06.605Z"
   },
   {
    "duration": 13,
    "start_time": "2022-07-22T00:52:17.749Z"
   },
   {
    "duration": 15,
    "start_time": "2022-07-22T00:52:25.244Z"
   },
   {
    "duration": 21,
    "start_time": "2022-07-22T00:52:35.198Z"
   },
   {
    "duration": 13,
    "start_time": "2022-07-22T00:52:54.989Z"
   },
   {
    "duration": 13,
    "start_time": "2022-07-22T00:53:10.763Z"
   },
   {
    "duration": 21,
    "start_time": "2022-07-22T00:53:11.578Z"
   },
   {
    "duration": 15,
    "start_time": "2022-07-22T00:53:40.442Z"
   },
   {
    "duration": 6,
    "start_time": "2022-07-22T00:53:46.845Z"
   },
   {
    "duration": 5,
    "start_time": "2022-07-22T00:54:32.742Z"
   },
   {
    "duration": 17,
    "start_time": "2022-07-22T00:54:36.989Z"
   },
   {
    "duration": 11,
    "start_time": "2022-07-22T00:55:25.236Z"
   },
   {
    "duration": 7,
    "start_time": "2022-07-22T00:55:38.395Z"
   },
   {
    "duration": 28,
    "start_time": "2022-07-22T02:00:23.570Z"
   },
   {
    "duration": 41,
    "start_time": "2022-07-22T02:00:28.912Z"
   },
   {
    "duration": 32,
    "start_time": "2022-07-22T02:00:33.484Z"
   },
   {
    "duration": 19,
    "start_time": "2022-07-22T02:00:40.626Z"
   },
   {
    "duration": 14,
    "start_time": "2022-07-22T02:02:59.147Z"
   },
   {
    "duration": 12,
    "start_time": "2022-07-22T02:03:07.139Z"
   },
   {
    "duration": 17,
    "start_time": "2022-07-22T02:03:18.093Z"
   },
   {
    "duration": 15,
    "start_time": "2022-07-22T02:03:42.433Z"
   },
   {
    "duration": 12,
    "start_time": "2022-07-22T02:27:52.439Z"
   },
   {
    "duration": 14,
    "start_time": "2022-07-22T02:28:05.079Z"
   },
   {
    "duration": 15,
    "start_time": "2022-07-22T02:28:15.271Z"
   },
   {
    "duration": 17,
    "start_time": "2022-07-22T02:33:19.389Z"
   },
   {
    "duration": 3,
    "start_time": "2022-07-22T02:33:25.664Z"
   },
   {
    "duration": 7,
    "start_time": "2022-07-22T02:33:28.525Z"
   },
   {
    "duration": 6,
    "start_time": "2022-07-22T02:33:34.441Z"
   },
   {
    "duration": 9,
    "start_time": "2022-07-22T02:33:40.060Z"
   },
   {
    "duration": 7,
    "start_time": "2022-07-22T02:33:55.933Z"
   },
   {
    "duration": 13,
    "start_time": "2022-07-22T02:36:49.307Z"
   },
   {
    "duration": 16,
    "start_time": "2022-07-22T02:43:07.750Z"
   },
   {
    "duration": 16,
    "start_time": "2022-07-22T02:43:18.831Z"
   },
   {
    "duration": 22,
    "start_time": "2022-07-22T02:44:10.710Z"
   },
   {
    "duration": 17,
    "start_time": "2022-07-22T02:44:16.239Z"
   },
   {
    "duration": 77,
    "start_time": "2022-07-22T02:44:32.996Z"
   },
   {
    "duration": 32,
    "start_time": "2022-07-22T02:44:37.604Z"
   },
   {
    "duration": 7,
    "start_time": "2022-07-22T02:45:04.101Z"
   },
   {
    "duration": 5,
    "start_time": "2022-07-22T02:45:10.944Z"
   },
   {
    "duration": 7,
    "start_time": "2022-07-22T02:45:19.892Z"
   },
   {
    "duration": 21,
    "start_time": "2022-07-22T02:45:30.308Z"
   },
   {
    "duration": 9,
    "start_time": "2022-07-22T02:45:38.004Z"
   },
   {
    "duration": 61,
    "start_time": "2022-07-22T02:46:16.900Z"
   },
   {
    "duration": 6,
    "start_time": "2022-07-22T02:46:48.429Z"
   },
   {
    "duration": 6,
    "start_time": "2022-07-22T02:47:52.372Z"
   },
   {
    "duration": 26,
    "start_time": "2022-07-22T02:48:06.993Z"
   },
   {
    "duration": 71,
    "start_time": "2022-07-22T02:48:53.035Z"
   },
   {
    "duration": 17,
    "start_time": "2022-07-22T02:49:07.931Z"
   },
   {
    "duration": 4,
    "start_time": "2022-07-22T18:46:24.347Z"
   },
   {
    "duration": 49,
    "start_time": "2022-07-22T22:46:54.037Z"
   },
   {
    "duration": 1620,
    "start_time": "2022-07-22T22:46:59.250Z"
   },
   {
    "duration": 1398,
    "start_time": "2022-07-22T22:47:00.872Z"
   },
   {
    "duration": 20,
    "start_time": "2022-07-22T22:47:02.272Z"
   },
   {
    "duration": 13,
    "start_time": "2022-07-22T22:47:02.294Z"
   },
   {
    "duration": 17,
    "start_time": "2022-07-22T22:47:02.308Z"
   },
   {
    "duration": 15,
    "start_time": "2022-07-22T22:47:08.235Z"
   },
   {
    "duration": 77,
    "start_time": "2022-07-22T22:47:08.435Z"
   },
   {
    "duration": 18,
    "start_time": "2022-07-22T22:47:08.768Z"
   },
   {
    "duration": 28,
    "start_time": "2022-07-22T22:47:09.320Z"
   },
   {
    "duration": 22,
    "start_time": "2022-07-22T22:47:25.695Z"
   },
   {
    "duration": 38,
    "start_time": "2022-07-22T23:09:43.985Z"
   },
   {
    "duration": 29,
    "start_time": "2022-07-22T23:09:49.308Z"
   },
   {
    "duration": 44,
    "start_time": "2022-07-22T23:16:19.737Z"
   },
   {
    "duration": 53,
    "start_time": "2022-07-22T23:16:29.913Z"
   },
   {
    "duration": 9,
    "start_time": "2022-07-22T23:16:45.724Z"
   },
   {
    "duration": 24,
    "start_time": "2022-07-22T23:16:50.360Z"
   },
   {
    "duration": 8,
    "start_time": "2022-07-22T23:16:53.160Z"
   },
   {
    "duration": 25,
    "start_time": "2022-07-22T23:16:56.888Z"
   },
   {
    "duration": 4,
    "start_time": "2022-07-22T23:17:05.480Z"
   },
   {
    "duration": 10,
    "start_time": "2022-07-22T23:17:15.324Z"
   },
   {
    "duration": 23,
    "start_time": "2022-07-22T23:17:21.109Z"
   },
   {
    "duration": 29,
    "start_time": "2022-07-22T23:17:31.864Z"
   },
   {
    "duration": 4,
    "start_time": "2022-07-22T23:17:39.783Z"
   },
   {
    "duration": 4,
    "start_time": "2022-07-22T23:17:53.509Z"
   },
   {
    "duration": 31,
    "start_time": "2022-07-22T23:21:14.742Z"
   },
   {
    "duration": 57,
    "start_time": "2022-07-22T23:21:21.990Z"
   },
   {
    "duration": 55,
    "start_time": "2022-07-22T23:21:26.438Z"
   },
   {
    "duration": 26,
    "start_time": "2022-07-22T23:21:50.326Z"
   },
   {
    "duration": 42,
    "start_time": "2022-07-22T23:21:51.046Z"
   },
   {
    "duration": 24,
    "start_time": "2022-07-22T23:21:54.664Z"
   },
   {
    "duration": 16,
    "start_time": "2022-07-22T23:22:06.902Z"
   },
   {
    "duration": 8,
    "start_time": "2022-07-22T23:22:46.806Z"
   },
   {
    "duration": 18,
    "start_time": "2022-07-22T23:22:51.269Z"
   },
   {
    "duration": 22,
    "start_time": "2022-07-22T23:23:05.078Z"
   },
   {
    "duration": 4,
    "start_time": "2022-07-22T23:23:11.732Z"
   },
   {
    "duration": 4,
    "start_time": "2022-07-22T23:23:15.108Z"
   },
   {
    "duration": 4,
    "start_time": "2022-07-22T23:23:27.592Z"
   },
   {
    "duration": 4,
    "start_time": "2022-07-22T23:23:42.452Z"
   },
   {
    "duration": 8,
    "start_time": "2022-07-22T23:24:01.480Z"
   },
   {
    "duration": 21,
    "start_time": "2022-07-22T23:24:12.085Z"
   },
   {
    "duration": 17,
    "start_time": "2022-07-22T23:37:59.278Z"
   },
   {
    "duration": 23,
    "start_time": "2022-07-22T23:38:26.526Z"
   },
   {
    "duration": 8,
    "start_time": "2022-07-22T23:38:31.934Z"
   },
   {
    "duration": 19,
    "start_time": "2022-07-22T23:38:32.622Z"
   },
   {
    "duration": 17,
    "start_time": "2022-07-22T23:38:32.830Z"
   },
   {
    "duration": 9,
    "start_time": "2022-07-22T23:38:33.134Z"
   },
   {
    "duration": 20,
    "start_time": "2022-07-22T23:38:33.710Z"
   },
   {
    "duration": 16,
    "start_time": "2022-07-22T23:38:37.870Z"
   },
   {
    "duration": 8,
    "start_time": "2022-07-22T23:38:38.100Z"
   },
   {
    "duration": 19,
    "start_time": "2022-07-22T23:38:38.276Z"
   },
   {
    "duration": 16,
    "start_time": "2022-07-22T23:38:38.511Z"
   },
   {
    "duration": 8,
    "start_time": "2022-07-22T23:38:38.798Z"
   },
   {
    "duration": 20,
    "start_time": "2022-07-22T23:38:39.088Z"
   },
   {
    "duration": 4,
    "start_time": "2022-07-22T23:38:39.326Z"
   },
   {
    "duration": 4,
    "start_time": "2022-07-22T23:38:39.774Z"
   },
   {
    "duration": 5,
    "start_time": "2022-07-22T23:38:40.142Z"
   },
   {
    "duration": 3,
    "start_time": "2022-07-22T23:38:47.214Z"
   },
   {
    "duration": 28,
    "start_time": "2022-07-22T23:38:52.590Z"
   },
   {
    "duration": 9,
    "start_time": "2022-07-22T23:38:56.832Z"
   },
   {
    "duration": 30,
    "start_time": "2022-07-22T23:39:01.054Z"
   },
   {
    "duration": 29,
    "start_time": "2022-07-22T23:39:13.646Z"
   },
   {
    "duration": 100,
    "start_time": "2022-07-22T23:39:39.022Z"
   },
   {
    "duration": 40,
    "start_time": "2022-07-22T23:40:05.805Z"
   },
   {
    "duration": 43,
    "start_time": "2022-07-22T23:40:18.382Z"
   },
   {
    "duration": 20,
    "start_time": "2022-07-22T23:40:27.934Z"
   },
   {
    "duration": 51,
    "start_time": "2022-07-22T23:40:34.748Z"
   },
   {
    "duration": 42,
    "start_time": "2022-07-22T23:41:05.470Z"
   },
   {
    "duration": 19,
    "start_time": "2022-07-22T23:41:17.212Z"
   },
   {
    "duration": 15,
    "start_time": "2022-07-22T23:41:23.484Z"
   },
   {
    "duration": 15,
    "start_time": "2022-07-22T23:41:32.524Z"
   },
   {
    "duration": 18,
    "start_time": "2022-07-22T23:41:46.908Z"
   },
   {
    "duration": 21,
    "start_time": "2022-07-22T23:42:02.332Z"
   },
   {
    "duration": 7,
    "start_time": "2022-07-22T23:42:12.243Z"
   },
   {
    "duration": 25,
    "start_time": "2022-07-22T23:42:18.956Z"
   },
   {
    "duration": 32,
    "start_time": "2022-07-22T23:42:24.896Z"
   },
   {
    "duration": 28,
    "start_time": "2022-07-22T23:42:35.180Z"
   },
   {
    "duration": 28,
    "start_time": "2022-07-22T23:42:41.084Z"
   },
   {
    "duration": 73,
    "start_time": "2022-07-22T23:43:20.380Z"
   },
   {
    "duration": 72,
    "start_time": "2022-07-22T23:43:25.804Z"
   },
   {
    "duration": 7,
    "start_time": "2022-07-22T23:43:38.811Z"
   },
   {
    "duration": 16,
    "start_time": "2022-07-22T23:43:40.252Z"
   },
   {
    "duration": 19,
    "start_time": "2022-07-22T23:43:41.245Z"
   },
   {
    "duration": 7,
    "start_time": "2022-07-22T23:43:41.804Z"
   },
   {
    "duration": 26,
    "start_time": "2022-07-22T23:43:42.955Z"
   },
   {
    "duration": 20,
    "start_time": "2022-07-22T23:45:30.396Z"
   },
   {
    "duration": 8,
    "start_time": "2022-07-22T23:45:36.396Z"
   },
   {
    "duration": 26,
    "start_time": "2022-07-22T23:45:41.469Z"
   },
   {
    "duration": 19,
    "start_time": "2022-07-22T23:46:23.852Z"
   },
   {
    "duration": 86,
    "start_time": "2022-07-22T23:46:40.410Z"
   },
   {
    "duration": 138,
    "start_time": "2022-07-22T23:47:02.604Z"
   },
   {
    "duration": 46,
    "start_time": "2022-07-23T17:11:25.144Z"
   },
   {
    "duration": 1801,
    "start_time": "2022-07-23T17:11:28.988Z"
   },
   {
    "duration": 4008,
    "start_time": "2022-07-23T17:11:30.791Z"
   },
   {
    "duration": 18,
    "start_time": "2022-07-23T17:11:34.800Z"
   },
   {
    "duration": 24,
    "start_time": "2022-07-23T17:11:34.820Z"
   },
   {
    "duration": 19,
    "start_time": "2022-07-23T17:11:34.845Z"
   },
   {
    "duration": 27,
    "start_time": "2022-07-23T17:11:34.865Z"
   },
   {
    "duration": 17,
    "start_time": "2022-07-23T17:11:34.894Z"
   },
   {
    "duration": 42,
    "start_time": "2022-07-23T17:11:34.913Z"
   },
   {
    "duration": 124,
    "start_time": "2022-07-23T17:11:34.957Z"
   },
   {
    "duration": 37,
    "start_time": "2022-07-23T17:11:35.083Z"
   },
   {
    "duration": 137,
    "start_time": "2022-07-23T17:11:35.121Z"
   },
   {
    "duration": 241,
    "start_time": "2022-07-23T17:11:35.260Z"
   },
   {
    "duration": 181,
    "start_time": "2022-07-23T17:13:54.107Z"
   },
   {
    "duration": 122,
    "start_time": "2022-07-23T17:14:08.073Z"
   },
   {
    "duration": 318,
    "start_time": "2022-07-23T17:14:40.793Z"
   },
   {
    "duration": 272,
    "start_time": "2022-07-23T17:15:13.050Z"
   },
   {
    "duration": 391,
    "start_time": "2022-07-23T17:16:06.351Z"
   },
   {
    "duration": 346,
    "start_time": "2022-07-23T17:16:24.541Z"
   },
   {
    "duration": 476,
    "start_time": "2022-07-23T17:16:45.607Z"
   },
   {
    "duration": 5,
    "start_time": "2022-07-23T17:18:11.097Z"
   },
   {
    "duration": 777,
    "start_time": "2022-07-23T17:18:11.599Z"
   },
   {
    "duration": 16,
    "start_time": "2022-07-23T17:18:12.378Z"
   },
   {
    "duration": 22,
    "start_time": "2022-07-23T17:18:12.396Z"
   },
   {
    "duration": 16,
    "start_time": "2022-07-23T17:18:12.420Z"
   },
   {
    "duration": 11,
    "start_time": "2022-07-23T17:18:12.438Z"
   },
   {
    "duration": 19,
    "start_time": "2022-07-23T17:18:12.450Z"
   },
   {
    "duration": 0,
    "start_time": "2022-07-23T17:18:12.470Z"
   },
   {
    "duration": 0,
    "start_time": "2022-07-23T17:18:12.471Z"
   },
   {
    "duration": 0,
    "start_time": "2022-07-23T17:18:12.472Z"
   },
   {
    "duration": 0,
    "start_time": "2022-07-23T17:18:12.473Z"
   },
   {
    "duration": 374,
    "start_time": "2022-07-23T17:18:13.375Z"
   },
   {
    "duration": 6,
    "start_time": "2022-07-23T17:18:30.773Z"
   },
   {
    "duration": 15,
    "start_time": "2022-07-23T17:18:33.309Z"
   },
   {
    "duration": 86,
    "start_time": "2022-07-23T17:18:34.517Z"
   },
   {
    "duration": 27,
    "start_time": "2022-07-23T17:18:34.757Z"
   },
   {
    "duration": 116,
    "start_time": "2022-07-23T17:18:35.090Z"
   },
   {
    "duration": 375,
    "start_time": "2022-07-23T17:18:36.873Z"
   },
   {
    "duration": 466,
    "start_time": "2022-07-23T17:23:26.186Z"
   },
   {
    "duration": 1582,
    "start_time": "2022-07-23T17:24:52.772Z"
   },
   {
    "duration": 1212,
    "start_time": "2022-07-23T17:25:29.243Z"
   },
   {
    "duration": 1604,
    "start_time": "2022-07-23T17:26:32.343Z"
   },
   {
    "duration": 1250,
    "start_time": "2022-07-23T17:27:34.419Z"
   },
   {
    "duration": 2265,
    "start_time": "2022-07-23T17:30:08.519Z"
   },
   {
    "duration": 2000,
    "start_time": "2022-07-23T17:30:57.171Z"
   },
   {
    "duration": 113,
    "start_time": "2022-07-23T17:32:45.073Z"
   },
   {
    "duration": 131,
    "start_time": "2022-07-23T17:33:11.825Z"
   },
   {
    "duration": 124,
    "start_time": "2022-07-23T17:34:54.583Z"
   },
   {
    "duration": 1606,
    "start_time": "2022-07-23T17:35:16.593Z"
   },
   {
    "duration": 1774,
    "start_time": "2022-07-23T17:37:17.969Z"
   },
   {
    "duration": 1727,
    "start_time": "2022-07-23T17:37:38.865Z"
   },
   {
    "duration": 1803,
    "start_time": "2022-07-23T17:37:55.487Z"
   },
   {
    "duration": 1684,
    "start_time": "2022-07-23T17:38:34.101Z"
   },
   {
    "duration": 31564,
    "start_time": "2022-07-23T17:41:09.619Z"
   },
   {
    "duration": 124,
    "start_time": "2022-07-23T17:41:42.797Z"
   },
   {
    "duration": 2070,
    "start_time": "2022-07-23T17:41:55.520Z"
   },
   {
    "duration": 1200,
    "start_time": "2022-07-23T17:42:06.559Z"
   },
   {
    "duration": 29,
    "start_time": "2022-07-23T17:45:50.244Z"
   },
   {
    "duration": 26,
    "start_time": "2022-07-23T17:45:54.046Z"
   },
   {
    "duration": 31,
    "start_time": "2022-07-23T17:46:18.669Z"
   },
   {
    "duration": 8,
    "start_time": "2022-07-23T17:48:30.801Z"
   },
   {
    "duration": 8,
    "start_time": "2022-07-23T17:49:28.159Z"
   },
   {
    "duration": 65,
    "start_time": "2022-07-23T17:57:34.055Z"
   },
   {
    "duration": 13,
    "start_time": "2022-07-23T17:58:51.783Z"
   },
   {
    "duration": 11,
    "start_time": "2022-07-23T17:59:05.112Z"
   },
   {
    "duration": 6,
    "start_time": "2022-07-23T17:59:13.933Z"
   },
   {
    "duration": 12,
    "start_time": "2022-07-23T17:59:16.680Z"
   },
   {
    "duration": 176,
    "start_time": "2022-07-23T17:59:33.944Z"
   },
   {
    "duration": 180,
    "start_time": "2022-07-23T18:00:09.192Z"
   },
   {
    "duration": 49,
    "start_time": "2022-07-23T18:00:35.512Z"
   },
   {
    "duration": 202,
    "start_time": "2022-07-23T18:00:38.860Z"
   },
   {
    "duration": 219,
    "start_time": "2022-07-23T18:01:46.590Z"
   },
   {
    "duration": 474,
    "start_time": "2022-07-23T18:01:59.510Z"
   },
   {
    "duration": 429,
    "start_time": "2022-07-23T18:02:09.111Z"
   },
   {
    "duration": 548,
    "start_time": "2022-07-23T18:04:20.740Z"
   },
   {
    "duration": 577,
    "start_time": "2022-07-23T18:05:06.709Z"
   },
   {
    "duration": 59,
    "start_time": "2022-07-23T18:59:51.822Z"
   },
   {
    "duration": 3,
    "start_time": "2022-07-23T21:30:15.689Z"
   },
   {
    "duration": 536,
    "start_time": "2022-07-23T21:32:37.613Z"
   },
   {
    "duration": 528,
    "start_time": "2022-07-23T21:32:40.008Z"
   },
   {
    "duration": 598,
    "start_time": "2022-07-23T21:37:31.437Z"
   },
   {
    "duration": 402,
    "start_time": "2022-07-23T21:38:17.558Z"
   },
   {
    "duration": 21,
    "start_time": "2022-07-23T21:40:53.572Z"
   },
   {
    "duration": 12,
    "start_time": "2022-07-23T21:41:17.348Z"
   },
   {
    "duration": 7,
    "start_time": "2022-07-23T21:41:52.339Z"
   },
   {
    "duration": 8,
    "start_time": "2022-07-23T21:42:48.196Z"
   },
   {
    "duration": 565,
    "start_time": "2022-07-23T21:43:12.937Z"
   },
   {
    "duration": 1042,
    "start_time": "2022-07-23T21:43:27.795Z"
   },
   {
    "duration": 987,
    "start_time": "2022-07-23T21:43:48.772Z"
   },
   {
    "duration": 861,
    "start_time": "2022-07-23T21:44:11.924Z"
   },
   {
    "duration": 1027,
    "start_time": "2022-07-23T21:44:35.490Z"
   },
   {
    "duration": 60,
    "start_time": "2022-07-23T21:45:41.090Z"
   },
   {
    "duration": 1108,
    "start_time": "2022-07-23T21:46:15.924Z"
   },
   {
    "duration": 1058,
    "start_time": "2022-07-23T21:47:44.402Z"
   },
   {
    "duration": 931,
    "start_time": "2022-07-23T21:50:14.258Z"
   },
   {
    "duration": 34,
    "start_time": "2022-07-24T03:05:05.494Z"
   },
   {
    "duration": 13,
    "start_time": "2022-07-24T04:03:33.928Z"
   },
   {
    "duration": 722,
    "start_time": "2022-07-24T04:04:21.999Z"
   },
   {
    "duration": 1086,
    "start_time": "2022-07-24T04:04:36.076Z"
   },
   {
    "duration": 928,
    "start_time": "2022-07-24T04:04:55.740Z"
   },
   {
    "duration": 1130,
    "start_time": "2022-07-24T04:05:40.028Z"
   },
   {
    "duration": 1279,
    "start_time": "2022-07-24T04:06:37.980Z"
   },
   {
    "duration": 275,
    "start_time": "2022-07-24T04:09:09.985Z"
   },
   {
    "duration": 335,
    "start_time": "2022-07-24T04:10:41.359Z"
   },
   {
    "duration": 286,
    "start_time": "2022-07-24T04:11:11.193Z"
   },
   {
    "duration": 1129,
    "start_time": "2022-07-24T04:11:28.808Z"
   },
   {
    "duration": 1684,
    "start_time": "2022-07-24T04:12:37.241Z"
   },
   {
    "duration": 874,
    "start_time": "2022-07-24T04:14:59.512Z"
   },
   {
    "duration": 838,
    "start_time": "2022-07-24T04:16:24.511Z"
   },
   {
    "duration": 1008,
    "start_time": "2022-07-24T04:17:17.049Z"
   },
   {
    "duration": 27,
    "start_time": "2022-07-24T04:25:31.075Z"
   },
   {
    "duration": 3532,
    "start_time": "2022-07-24T04:25:47.139Z"
   },
   {
    "duration": 555,
    "start_time": "2022-07-24T04:27:42.058Z"
   },
   {
    "duration": 2956,
    "start_time": "2022-07-24T04:29:54.803Z"
   },
   {
    "duration": 2320,
    "start_time": "2022-07-24T04:31:38.165Z"
   },
   {
    "duration": 2242,
    "start_time": "2022-07-24T04:32:48.212Z"
   },
   {
    "duration": 20,
    "start_time": "2022-07-24T13:43:54.295Z"
   },
   {
    "duration": 32,
    "start_time": "2022-07-24T13:44:02.439Z"
   },
   {
    "duration": 132,
    "start_time": "2022-07-24T13:44:53.216Z"
   },
   {
    "duration": 119,
    "start_time": "2022-07-24T13:44:59.041Z"
   },
   {
    "duration": 19,
    "start_time": "2022-07-24T13:46:04.179Z"
   },
   {
    "duration": 31,
    "start_time": "2022-07-24T14:06:49.082Z"
   },
   {
    "duration": 39,
    "start_time": "2022-07-24T14:07:18.804Z"
   },
   {
    "duration": 4,
    "start_time": "2022-07-24T14:08:55.959Z"
   },
   {
    "duration": 45,
    "start_time": "2022-07-24T14:09:12.845Z"
   },
   {
    "duration": 4,
    "start_time": "2022-07-24T14:09:13.369Z"
   },
   {
    "duration": 1989,
    "start_time": "2022-07-24T14:13:07.272Z"
   },
   {
    "duration": 2065,
    "start_time": "2022-07-24T14:13:38.885Z"
   },
   {
    "duration": 43,
    "start_time": "2022-07-24T14:13:55.186Z"
   },
   {
    "duration": 2185,
    "start_time": "2022-07-24T14:13:55.587Z"
   },
   {
    "duration": 39,
    "start_time": "2022-07-24T14:14:25.105Z"
   },
   {
    "duration": 40,
    "start_time": "2022-07-24T14:15:43.758Z"
   },
   {
    "duration": 1996,
    "start_time": "2022-07-24T14:15:44.642Z"
   },
   {
    "duration": 1991,
    "start_time": "2022-07-24T14:15:58.864Z"
   },
   {
    "duration": 2182,
    "start_time": "2022-07-24T14:18:13.058Z"
   },
   {
    "duration": 5,
    "start_time": "2022-07-24T14:18:58.015Z"
   },
   {
    "duration": 760,
    "start_time": "2022-07-24T14:18:58.544Z"
   },
   {
    "duration": 20,
    "start_time": "2022-07-24T14:18:59.306Z"
   },
   {
    "duration": 13,
    "start_time": "2022-07-24T14:18:59.327Z"
   },
   {
    "duration": 16,
    "start_time": "2022-07-24T14:18:59.342Z"
   },
   {
    "duration": 12,
    "start_time": "2022-07-24T14:18:59.360Z"
   },
   {
    "duration": 38,
    "start_time": "2022-07-24T14:18:59.373Z"
   },
   {
    "duration": 17,
    "start_time": "2022-07-24T14:18:59.413Z"
   },
   {
    "duration": 104,
    "start_time": "2022-07-24T14:18:59.431Z"
   },
   {
    "duration": 28,
    "start_time": "2022-07-24T14:18:59.536Z"
   },
   {
    "duration": 155,
    "start_time": "2022-07-24T14:18:59.567Z"
   },
   {
    "duration": 834,
    "start_time": "2022-07-24T14:18:59.724Z"
   },
   {
    "duration": 1131,
    "start_time": "2022-07-24T14:19:00.559Z"
   },
   {
    "duration": 2121,
    "start_time": "2022-07-24T14:19:01.692Z"
   },
   {
    "duration": 1974,
    "start_time": "2022-07-24T14:19:03.815Z"
   },
   {
    "duration": 43,
    "start_time": "2022-07-24T14:19:05.791Z"
   },
   {
    "duration": 2228,
    "start_time": "2022-07-24T14:19:05.836Z"
   },
   {
    "duration": 2312,
    "start_time": "2022-07-24T14:20:35.885Z"
   },
   {
    "duration": 5,
    "start_time": "2022-07-24T14:20:40.069Z"
   },
   {
    "duration": 744,
    "start_time": "2022-07-24T14:20:40.561Z"
   },
   {
    "duration": 18,
    "start_time": "2022-07-24T14:20:41.310Z"
   },
   {
    "duration": 12,
    "start_time": "2022-07-24T14:20:41.329Z"
   },
   {
    "duration": 17,
    "start_time": "2022-07-24T14:20:41.343Z"
   },
   {
    "duration": 11,
    "start_time": "2022-07-24T14:20:41.362Z"
   },
   {
    "duration": 36,
    "start_time": "2022-07-24T14:20:41.374Z"
   },
   {
    "duration": 20,
    "start_time": "2022-07-24T14:20:41.411Z"
   },
   {
    "duration": 131,
    "start_time": "2022-07-24T14:20:41.434Z"
   },
   {
    "duration": 51,
    "start_time": "2022-07-24T14:20:41.567Z"
   },
   {
    "duration": 149,
    "start_time": "2022-07-24T14:20:41.621Z"
   },
   {
    "duration": 843,
    "start_time": "2022-07-24T14:20:41.772Z"
   },
   {
    "duration": 1073,
    "start_time": "2022-07-24T14:20:42.617Z"
   },
   {
    "duration": 2126,
    "start_time": "2022-07-24T14:20:43.693Z"
   },
   {
    "duration": 2193,
    "start_time": "2022-07-24T14:20:45.820Z"
   },
   {
    "duration": 40,
    "start_time": "2022-07-24T14:20:48.016Z"
   },
   {
    "duration": 2215,
    "start_time": "2022-07-24T14:20:48.058Z"
   },
   {
    "duration": 3,
    "start_time": "2022-07-24T15:52:22.384Z"
   },
   {
    "duration": 4,
    "start_time": "2022-07-24T16:42:35.603Z"
   },
   {
    "duration": 4,
    "start_time": "2022-07-24T17:57:53.730Z"
   },
   {
    "duration": 29,
    "start_time": "2022-07-25T00:19:00.237Z"
   },
   {
    "duration": 17,
    "start_time": "2022-07-25T00:19:07.987Z"
   },
   {
    "duration": 49,
    "start_time": "2022-07-25T00:31:09.563Z"
   },
   {
    "duration": 16,
    "start_time": "2022-07-25T00:31:10.488Z"
   },
   {
    "duration": 4,
    "start_time": "2022-07-25T01:54:07.324Z"
   },
   {
    "duration": 19,
    "start_time": "2022-07-25T01:54:08.218Z"
   },
   {
    "duration": 23,
    "start_time": "2022-07-25T02:14:32.292Z"
   },
   {
    "duration": 91,
    "start_time": "2022-07-25T02:21:31.890Z"
   },
   {
    "duration": 13,
    "start_time": "2022-07-25T02:24:08.433Z"
   },
   {
    "duration": 25,
    "start_time": "2022-07-25T02:24:14.513Z"
   },
   {
    "duration": 786,
    "start_time": "2022-07-25T02:24:22.881Z"
   },
   {
    "duration": 1026,
    "start_time": "2022-07-25T02:24:23.669Z"
   },
   {
    "duration": 2025,
    "start_time": "2022-07-25T02:24:24.697Z"
   },
   {
    "duration": 1963,
    "start_time": "2022-07-25T02:24:26.724Z"
   },
   {
    "duration": 210,
    "start_time": "2022-07-25T02:24:28.688Z"
   },
   {
    "duration": 2085,
    "start_time": "2022-07-25T02:24:28.900Z"
   },
   {
    "duration": 4,
    "start_time": "2022-07-25T02:24:30.987Z"
   },
   {
    "duration": 0,
    "start_time": "2022-07-25T02:24:31.057Z"
   },
   {
    "duration": 29,
    "start_time": "2022-07-25T02:45:39.773Z"
   },
   {
    "duration": 833,
    "start_time": "2022-07-25T02:45:40.259Z"
   },
   {
    "duration": 19,
    "start_time": "2022-07-25T02:45:41.094Z"
   },
   {
    "duration": 13,
    "start_time": "2022-07-25T02:45:41.115Z"
   },
   {
    "duration": 20,
    "start_time": "2022-07-25T02:45:41.130Z"
   },
   {
    "duration": 12,
    "start_time": "2022-07-25T02:45:41.153Z"
   },
   {
    "duration": 6,
    "start_time": "2022-07-25T02:45:41.167Z"
   },
   {
    "duration": 49,
    "start_time": "2022-07-25T02:45:41.174Z"
   },
   {
    "duration": 108,
    "start_time": "2022-07-25T02:45:41.225Z"
   },
   {
    "duration": 27,
    "start_time": "2022-07-25T02:45:41.335Z"
   },
   {
    "duration": 182,
    "start_time": "2022-07-25T02:45:41.365Z"
   },
   {
    "duration": 15,
    "start_time": "2022-07-25T02:45:41.549Z"
   },
   {
    "duration": 839,
    "start_time": "2022-07-25T02:45:41.566Z"
   },
   {
    "duration": 1099,
    "start_time": "2022-07-25T02:45:42.410Z"
   },
   {
    "duration": 2179,
    "start_time": "2022-07-25T02:45:43.511Z"
   },
   {
    "duration": 2057,
    "start_time": "2022-07-25T02:45:45.692Z"
   },
   {
    "duration": 225,
    "start_time": "2022-07-25T02:45:47.751Z"
   },
   {
    "duration": 2133,
    "start_time": "2022-07-25T02:45:47.978Z"
   },
   {
    "duration": 5,
    "start_time": "2022-07-25T02:45:50.112Z"
   },
   {
    "duration": 44,
    "start_time": "2022-07-25T02:45:50.120Z"
   },
   {
    "duration": 81,
    "start_time": "2022-07-25T02:52:04.361Z"
   },
   {
    "duration": 69,
    "start_time": "2022-07-25T02:52:08.155Z"
   },
   {
    "duration": 5,
    "start_time": "2022-07-25T02:55:40.248Z"
   },
   {
    "duration": 106,
    "start_time": "2022-07-25T02:55:47.064Z"
   },
   {
    "duration": 103,
    "start_time": "2022-07-25T02:59:03.336Z"
   },
   {
    "duration": 87,
    "start_time": "2022-07-25T02:59:54.600Z"
   },
   {
    "duration": 5,
    "start_time": "2022-07-25T03:00:15.263Z"
   },
   {
    "duration": 77,
    "start_time": "2022-07-25T03:00:33.959Z"
   },
   {
    "duration": 79,
    "start_time": "2022-07-25T03:00:54.296Z"
   },
   {
    "duration": 84,
    "start_time": "2022-07-25T03:01:04.490Z"
   },
   {
    "duration": 73,
    "start_time": "2022-07-25T03:01:13.880Z"
   },
   {
    "duration": 85,
    "start_time": "2022-07-25T03:01:37.388Z"
   },
   {
    "duration": 83,
    "start_time": "2022-07-25T03:02:37.225Z"
   },
   {
    "duration": 66,
    "start_time": "2022-07-25T03:02:50.665Z"
   },
   {
    "duration": 67,
    "start_time": "2022-07-25T03:03:02.534Z"
   },
   {
    "duration": 3,
    "start_time": "2022-07-25T03:03:46.070Z"
   },
   {
    "duration": 808,
    "start_time": "2022-07-25T03:03:46.580Z"
   },
   {
    "duration": 23,
    "start_time": "2022-07-25T03:03:47.390Z"
   },
   {
    "duration": 13,
    "start_time": "2022-07-25T03:03:47.415Z"
   },
   {
    "duration": 17,
    "start_time": "2022-07-25T03:03:47.431Z"
   },
   {
    "duration": 11,
    "start_time": "2022-07-25T03:03:47.449Z"
   },
   {
    "duration": 6,
    "start_time": "2022-07-25T03:03:47.462Z"
   },
   {
    "duration": 43,
    "start_time": "2022-07-25T03:03:47.470Z"
   },
   {
    "duration": 96,
    "start_time": "2022-07-25T03:03:47.515Z"
   },
   {
    "duration": 4,
    "start_time": "2022-07-25T03:04:00.758Z"
   },
   {
    "duration": 774,
    "start_time": "2022-07-25T03:04:01.263Z"
   },
   {
    "duration": 18,
    "start_time": "2022-07-25T03:04:02.039Z"
   },
   {
    "duration": 12,
    "start_time": "2022-07-25T03:04:02.058Z"
   },
   {
    "duration": 37,
    "start_time": "2022-07-25T03:04:02.072Z"
   },
   {
    "duration": 13,
    "start_time": "2022-07-25T03:04:02.111Z"
   },
   {
    "duration": 44,
    "start_time": "2022-07-25T03:04:02.125Z"
   },
   {
    "duration": 37,
    "start_time": "2022-07-25T03:04:02.171Z"
   },
   {
    "duration": 104,
    "start_time": "2022-07-25T03:04:02.210Z"
   },
   {
    "duration": 27,
    "start_time": "2022-07-25T03:04:02.341Z"
   },
   {
    "duration": 125,
    "start_time": "2022-07-25T03:04:02.550Z"
   },
   {
    "duration": 50,
    "start_time": "2022-07-25T03:04:07.270Z"
   },
   {
    "duration": 128,
    "start_time": "2022-07-25T03:04:24.679Z"
   },
   {
    "duration": 127,
    "start_time": "2022-07-25T03:04:56.716Z"
   },
   {
    "duration": 128,
    "start_time": "2022-07-25T03:05:04.774Z"
   },
   {
    "duration": 128,
    "start_time": "2022-07-25T03:06:03.046Z"
   },
   {
    "duration": 125,
    "start_time": "2022-07-25T03:06:08.231Z"
   },
   {
    "duration": 120,
    "start_time": "2022-07-25T03:06:15.540Z"
   },
   {
    "duration": 88,
    "start_time": "2022-07-25T03:06:43.286Z"
   },
   {
    "duration": 84,
    "start_time": "2022-07-25T03:06:49.813Z"
   },
   {
    "duration": 96,
    "start_time": "2022-07-25T03:07:01.754Z"
   },
   {
    "duration": 88,
    "start_time": "2022-07-25T03:07:05.577Z"
   },
   {
    "duration": 85,
    "start_time": "2022-07-25T03:07:09.333Z"
   },
   {
    "duration": 82,
    "start_time": "2022-07-25T03:07:13.479Z"
   },
   {
    "duration": 122,
    "start_time": "2022-07-25T03:09:35.829Z"
   },
   {
    "duration": 100,
    "start_time": "2022-07-25T03:09:38.788Z"
   },
   {
    "duration": 37,
    "start_time": "2022-07-25T03:09:39.637Z"
   },
   {
    "duration": 129,
    "start_time": "2022-07-25T03:09:40.757Z"
   },
   {
    "duration": 34,
    "start_time": "2022-07-25T03:09:47.412Z"
   },
   {
    "duration": 284,
    "start_time": "2022-07-25T03:09:52.311Z"
   },
   {
    "duration": 138,
    "start_time": "2022-07-25T03:10:06.277Z"
   },
   {
    "duration": 104,
    "start_time": "2022-07-25T03:10:08.102Z"
   },
   {
    "duration": 33,
    "start_time": "2022-07-25T03:10:08.324Z"
   },
   {
    "duration": 140,
    "start_time": "2022-07-25T03:10:09.076Z"
   },
   {
    "duration": 26,
    "start_time": "2022-07-25T03:10:42.262Z"
   },
   {
    "duration": 26,
    "start_time": "2022-07-25T03:10:52.022Z"
   },
   {
    "duration": 871,
    "start_time": "2022-07-25T03:11:41.012Z"
   },
   {
    "duration": 1205,
    "start_time": "2022-07-25T03:11:48.020Z"
   },
   {
    "duration": 3,
    "start_time": "2022-07-25T03:11:56.602Z"
   },
   {
    "duration": 699,
    "start_time": "2022-07-25T03:11:57.103Z"
   },
   {
    "duration": 18,
    "start_time": "2022-07-25T03:11:57.804Z"
   },
   {
    "duration": 12,
    "start_time": "2022-07-25T03:11:57.824Z"
   },
   {
    "duration": 17,
    "start_time": "2022-07-25T03:11:57.837Z"
   },
   {
    "duration": 12,
    "start_time": "2022-07-25T03:12:02.504Z"
   },
   {
    "duration": 5,
    "start_time": "2022-07-25T03:12:02.535Z"
   },
   {
    "duration": 16,
    "start_time": "2022-07-25T03:12:02.598Z"
   },
   {
    "duration": 113,
    "start_time": "2022-07-25T03:12:04.278Z"
   },
   {
    "duration": 4,
    "start_time": "2022-07-25T03:14:42.452Z"
   },
   {
    "duration": 713,
    "start_time": "2022-07-25T03:14:42.953Z"
   },
   {
    "duration": 17,
    "start_time": "2022-07-25T03:14:43.668Z"
   },
   {
    "duration": 24,
    "start_time": "2022-07-25T03:14:43.686Z"
   },
   {
    "duration": 18,
    "start_time": "2022-07-25T03:14:43.712Z"
   },
   {
    "duration": 11,
    "start_time": "2022-07-25T03:14:43.732Z"
   },
   {
    "duration": 6,
    "start_time": "2022-07-25T03:14:43.745Z"
   },
   {
    "duration": 17,
    "start_time": "2022-07-25T03:14:43.753Z"
   },
   {
    "duration": 81,
    "start_time": "2022-07-25T03:14:44.703Z"
   },
   {
    "duration": 392,
    "start_time": "2022-07-25T03:16:46.258Z"
   },
   {
    "duration": 220,
    "start_time": "2022-07-25T03:17:35.108Z"
   },
   {
    "duration": 4,
    "start_time": "2022-07-25T03:21:34.001Z"
   },
   {
    "duration": 25,
    "start_time": "2022-07-25T03:22:18.274Z"
   },
   {
    "duration": 21,
    "start_time": "2022-07-25T03:22:22.033Z"
   },
   {
    "duration": 21,
    "start_time": "2022-07-25T03:22:57.954Z"
   },
   {
    "duration": 21,
    "start_time": "2022-07-25T03:23:53.138Z"
   },
   {
    "duration": 0,
    "start_time": "2022-07-25T03:26:00.555Z"
   },
   {
    "duration": 0,
    "start_time": "2022-07-25T03:26:00.556Z"
   },
   {
    "duration": 0,
    "start_time": "2022-07-25T03:26:00.557Z"
   },
   {
    "duration": 0,
    "start_time": "2022-07-25T03:26:00.558Z"
   },
   {
    "duration": 0,
    "start_time": "2022-07-25T03:26:00.560Z"
   },
   {
    "duration": 0,
    "start_time": "2022-07-25T03:26:00.561Z"
   },
   {
    "duration": 0,
    "start_time": "2022-07-25T03:26:00.562Z"
   },
   {
    "duration": 0,
    "start_time": "2022-07-25T03:26:00.563Z"
   },
   {
    "duration": 0,
    "start_time": "2022-07-25T03:26:00.565Z"
   },
   {
    "duration": 0,
    "start_time": "2022-07-25T03:26:00.566Z"
   },
   {
    "duration": 0,
    "start_time": "2022-07-25T03:26:00.567Z"
   },
   {
    "duration": 4,
    "start_time": "2022-07-25T03:26:03.456Z"
   },
   {
    "duration": 812,
    "start_time": "2022-07-25T03:26:03.712Z"
   },
   {
    "duration": 18,
    "start_time": "2022-07-25T03:26:04.609Z"
   },
   {
    "duration": 13,
    "start_time": "2022-07-25T03:26:04.930Z"
   },
   {
    "duration": 19,
    "start_time": "2022-07-25T03:26:05.168Z"
   },
   {
    "duration": 13,
    "start_time": "2022-07-25T03:26:06.064Z"
   },
   {
    "duration": 5,
    "start_time": "2022-07-25T03:26:06.801Z"
   },
   {
    "duration": 19,
    "start_time": "2022-07-25T03:26:08.111Z"
   },
   {
    "duration": 52236,
    "start_time": "2022-07-25T03:26:11.105Z"
   },
   {
    "duration": 132,
    "start_time": "2022-07-25T03:27:03.343Z"
   },
   {
    "duration": 850,
    "start_time": "2022-07-25T03:27:54.384Z"
   },
   {
    "duration": 13,
    "start_time": "2022-07-25T03:28:14.622Z"
   },
   {
    "duration": 28,
    "start_time": "2022-07-25T03:28:16.438Z"
   },
   {
    "duration": 4,
    "start_time": "2022-07-25T03:28:26.016Z"
   },
   {
    "duration": 741,
    "start_time": "2022-07-25T03:28:26.520Z"
   },
   {
    "duration": 16,
    "start_time": "2022-07-25T03:28:27.263Z"
   },
   {
    "duration": 15,
    "start_time": "2022-07-25T03:28:27.281Z"
   },
   {
    "duration": 27,
    "start_time": "2022-07-25T03:28:27.298Z"
   },
   {
    "duration": 14,
    "start_time": "2022-07-25T03:28:27.327Z"
   },
   {
    "duration": 32,
    "start_time": "2022-07-25T03:28:27.342Z"
   },
   {
    "duration": 30,
    "start_time": "2022-07-25T03:28:27.377Z"
   },
   {
    "duration": 251,
    "start_time": "2022-07-25T03:28:29.001Z"
   },
   {
    "duration": 16,
    "start_time": "2022-07-25T03:28:29.254Z"
   },
   {
    "duration": 27,
    "start_time": "2022-07-25T03:28:29.272Z"
   },
   {
    "duration": 20,
    "start_time": "2022-07-25T03:28:54.594Z"
   },
   {
    "duration": 437,
    "start_time": "2022-07-25T03:29:00.879Z"
   },
   {
    "duration": 3,
    "start_time": "2022-07-25T03:29:17.854Z"
   },
   {
    "duration": 766,
    "start_time": "2022-07-25T03:29:18.047Z"
   },
   {
    "duration": 18,
    "start_time": "2022-07-25T03:29:18.815Z"
   },
   {
    "duration": 27,
    "start_time": "2022-07-25T03:29:18.834Z"
   },
   {
    "duration": 27,
    "start_time": "2022-07-25T03:29:18.863Z"
   },
   {
    "duration": 11,
    "start_time": "2022-07-25T03:29:20.143Z"
   },
   {
    "duration": 6,
    "start_time": "2022-07-25T03:29:20.382Z"
   },
   {
    "duration": 14,
    "start_time": "2022-07-25T03:29:21.119Z"
   },
   {
    "duration": 432,
    "start_time": "2022-07-25T03:29:22.718Z"
   },
   {
    "duration": 189,
    "start_time": "2022-07-25T03:30:17.108Z"
   },
   {
    "duration": 412,
    "start_time": "2022-07-25T03:30:30.622Z"
   },
   {
    "duration": 408,
    "start_time": "2022-07-25T03:30:39.663Z"
   },
   {
    "duration": 416,
    "start_time": "2022-07-25T03:30:50.815Z"
   },
   {
    "duration": 263,
    "start_time": "2022-07-25T03:30:51.727Z"
   },
   {
    "duration": 16,
    "start_time": "2022-07-25T03:33:54.702Z"
   },
   {
    "duration": 17,
    "start_time": "2022-07-25T03:34:03.117Z"
   },
   {
    "duration": 247,
    "start_time": "2022-07-25T03:34:21.693Z"
   },
   {
    "duration": 3,
    "start_time": "2022-07-25T03:34:28.125Z"
   },
   {
    "duration": 734,
    "start_time": "2022-07-25T03:34:28.629Z"
   },
   {
    "duration": 17,
    "start_time": "2022-07-25T03:34:29.365Z"
   },
   {
    "duration": 26,
    "start_time": "2022-07-25T03:34:29.384Z"
   },
   {
    "duration": 20,
    "start_time": "2022-07-25T03:34:29.412Z"
   },
   {
    "duration": 14,
    "start_time": "2022-07-25T03:34:29.434Z"
   },
   {
    "duration": 9,
    "start_time": "2022-07-25T03:34:29.449Z"
   },
   {
    "duration": 20,
    "start_time": "2022-07-25T03:34:29.565Z"
   },
   {
    "duration": 2,
    "start_time": "2022-07-25T03:34:31.037Z"
   },
   {
    "duration": 3,
    "start_time": "2022-07-25T03:35:13.868Z"
   },
   {
    "duration": 261,
    "start_time": "2022-07-25T03:35:23.021Z"
   },
   {
    "duration": 25,
    "start_time": "2022-07-25T03:35:25.789Z"
   },
   {
    "duration": 25,
    "start_time": "2022-07-25T03:35:36.733Z"
   },
   {
    "duration": 23,
    "start_time": "2022-07-25T03:35:44.717Z"
   },
   {
    "duration": 24,
    "start_time": "2022-07-25T03:35:49.485Z"
   },
   {
    "duration": 25,
    "start_time": "2022-07-25T03:35:49.693Z"
   },
   {
    "duration": 25,
    "start_time": "2022-07-25T03:35:49.855Z"
   },
   {
    "duration": 892,
    "start_time": "2022-07-25T03:35:50.190Z"
   },
   {
    "duration": 1111,
    "start_time": "2022-07-25T03:35:51.083Z"
   },
   {
    "duration": 2096,
    "start_time": "2022-07-25T03:35:53.531Z"
   },
   {
    "duration": 2128,
    "start_time": "2022-07-25T03:35:55.629Z"
   },
   {
    "duration": 30,
    "start_time": "2022-07-25T03:36:02.684Z"
   },
   {
    "duration": 2270,
    "start_time": "2022-07-25T03:36:02.957Z"
   },
   {
    "duration": 4,
    "start_time": "2022-07-25T03:36:05.229Z"
   },
   {
    "duration": 7370,
    "start_time": "2022-07-25T03:36:05.235Z"
   },
   {
    "duration": 11145,
    "start_time": "2022-07-25T03:36:14.125Z"
   },
   {
    "duration": 10964,
    "start_time": "2022-07-25T03:36:41.997Z"
   },
   {
    "duration": 7111,
    "start_time": "2022-07-25T03:37:27.452Z"
   },
   {
    "duration": 7247,
    "start_time": "2022-07-25T03:37:38.731Z"
   },
   {
    "duration": 7214,
    "start_time": "2022-07-25T03:40:59.103Z"
   },
   {
    "duration": 7502,
    "start_time": "2022-07-25T03:41:13.756Z"
   },
   {
    "duration": 7178,
    "start_time": "2022-07-25T03:41:50.379Z"
   },
   {
    "duration": 17,
    "start_time": "2022-07-25T05:52:58.409Z"
   },
   {
    "duration": 7507,
    "start_time": "2022-07-25T05:53:01.545Z"
   },
   {
    "duration": 17,
    "start_time": "2022-07-25T05:53:09.053Z"
   },
   {
    "duration": 7474,
    "start_time": "2022-07-25T05:53:29.442Z"
   },
   {
    "duration": 8,
    "start_time": "2022-07-25T05:53:58.377Z"
   },
   {
    "duration": 4,
    "start_time": "2022-07-25T05:54:07.177Z"
   },
   {
    "duration": 18,
    "start_time": "2022-07-25T05:54:37.978Z"
   },
   {
    "duration": 2210,
    "start_time": "2022-07-25T05:54:47.386Z"
   },
   {
    "duration": 2203,
    "start_time": "2022-07-25T05:54:59.135Z"
   },
   {
    "duration": 2228,
    "start_time": "2022-07-25T05:55:04.056Z"
   },
   {
    "duration": 6,
    "start_time": "2022-07-25T06:05:02.519Z"
   },
   {
    "duration": 5,
    "start_time": "2022-07-25T06:05:13.943Z"
   },
   {
    "duration": 7,
    "start_time": "2022-07-25T06:05:21.495Z"
   },
   {
    "duration": 10096,
    "start_time": "2022-07-25T06:07:17.092Z"
   },
   {
    "duration": 2130,
    "start_time": "2022-07-25T06:07:32.087Z"
   },
   {
    "duration": 2117,
    "start_time": "2022-07-25T06:07:42.548Z"
   },
   {
    "duration": 2265,
    "start_time": "2022-07-25T06:10:37.476Z"
   },
   {
    "duration": 10423,
    "start_time": "2022-07-25T06:10:58.260Z"
   },
   {
    "duration": 2198,
    "start_time": "2022-07-25T06:11:08.685Z"
   },
   {
    "duration": 2146,
    "start_time": "2022-07-25T06:13:45.347Z"
   },
   {
    "duration": 2138,
    "start_time": "2022-07-25T06:13:51.795Z"
   },
   {
    "duration": 4,
    "start_time": "2022-07-25T06:14:02.611Z"
   },
   {
    "duration": 4,
    "start_time": "2022-07-25T06:14:09.905Z"
   },
   {
    "duration": 10178,
    "start_time": "2022-07-25T06:14:10.273Z"
   },
   {
    "duration": 3060,
    "start_time": "2022-07-25T06:14:20.453Z"
   },
   {
    "duration": 4,
    "start_time": "2022-07-25T06:15:14.369Z"
   },
   {
    "duration": 10534,
    "start_time": "2022-07-25T06:15:14.865Z"
   },
   {
    "duration": 3089,
    "start_time": "2022-07-25T06:15:25.401Z"
   },
   {
    "duration": 104,
    "start_time": "2022-07-25T06:15:34.001Z"
   },
   {
    "duration": 10435,
    "start_time": "2022-07-25T06:15:34.371Z"
   },
   {
    "duration": 3080,
    "start_time": "2022-07-25T06:15:44.810Z"
   },
   {
    "duration": 50,
    "start_time": "2022-07-25T06:16:00.609Z"
   },
   {
    "duration": 10660,
    "start_time": "2022-07-25T06:16:01.362Z"
   },
   {
    "duration": 3296,
    "start_time": "2022-07-25T06:16:12.024Z"
   },
   {
    "duration": 99,
    "start_time": "2022-07-25T06:17:36.833Z"
   },
   {
    "duration": 4,
    "start_time": "2022-07-25T06:17:44.753Z"
   },
   {
    "duration": 10225,
    "start_time": "2022-07-25T06:17:45.650Z"
   },
   {
    "duration": 2849,
    "start_time": "2022-07-25T06:17:55.877Z"
   },
   {
    "duration": 229,
    "start_time": "2022-07-25T06:20:55.023Z"
   },
   {
    "duration": 238,
    "start_time": "2022-07-25T06:21:03.522Z"
   },
   {
    "duration": 29,
    "start_time": "2022-07-25T06:21:04.084Z"
   },
   {
    "duration": 27,
    "start_time": "2022-07-25T06:21:04.671Z"
   },
   {
    "duration": 27,
    "start_time": "2022-07-25T06:21:04.911Z"
   },
   {
    "duration": 842,
    "start_time": "2022-07-25T06:21:05.445Z"
   },
   {
    "duration": 1096,
    "start_time": "2022-07-25T06:21:06.289Z"
   },
   {
    "duration": 2086,
    "start_time": "2022-07-25T06:21:07.387Z"
   },
   {
    "duration": 1989,
    "start_time": "2022-07-25T06:21:09.475Z"
   },
   {
    "duration": 43,
    "start_time": "2022-07-25T06:21:11.466Z"
   },
   {
    "duration": 2121,
    "start_time": "2022-07-25T06:21:11.512Z"
   },
   {
    "duration": 163,
    "start_time": "2022-07-25T06:21:13.635Z"
   },
   {
    "duration": 0,
    "start_time": "2022-07-25T06:21:13.799Z"
   },
   {
    "duration": 0,
    "start_time": "2022-07-25T06:21:13.800Z"
   },
   {
    "duration": 4,
    "start_time": "2022-07-25T06:21:29.807Z"
   },
   {
    "duration": 10453,
    "start_time": "2022-07-25T06:21:31.568Z"
   },
   {
    "duration": 4414,
    "start_time": "2022-07-25T06:21:42.024Z"
   },
   {
    "duration": 4,
    "start_time": "2022-07-25T06:22:33.058Z"
   },
   {
    "duration": 10326,
    "start_time": "2022-07-25T06:22:33.648Z"
   },
   {
    "duration": 4197,
    "start_time": "2022-07-25T06:22:43.976Z"
   },
   {
    "duration": 4,
    "start_time": "2022-07-25T06:22:55.439Z"
   },
   {
    "duration": 10229,
    "start_time": "2022-07-25T06:22:56.125Z"
   },
   {
    "duration": 2258,
    "start_time": "2022-07-25T06:23:06.357Z"
   },
   {
    "duration": 4,
    "start_time": "2022-07-25T06:23:11.072Z"
   },
   {
    "duration": 10522,
    "start_time": "2022-07-25T06:23:11.616Z"
   },
   {
    "duration": 2324,
    "start_time": "2022-07-25T06:23:22.140Z"
   },
   {
    "duration": 7378,
    "start_time": "2022-07-25T06:24:38.512Z"
   },
   {
    "duration": 2228,
    "start_time": "2022-07-25T06:24:45.892Z"
   },
   {
    "duration": 3,
    "start_time": "2022-07-25T06:30:03.883Z"
   },
   {
    "duration": 775,
    "start_time": "2022-07-25T06:30:04.491Z"
   },
   {
    "duration": 17,
    "start_time": "2022-07-25T06:30:05.439Z"
   },
   {
    "duration": 13,
    "start_time": "2022-07-25T06:30:05.939Z"
   },
   {
    "duration": 18,
    "start_time": "2022-07-25T06:30:05.970Z"
   },
   {
    "duration": 13,
    "start_time": "2022-07-25T06:30:06.035Z"
   },
   {
    "duration": 6,
    "start_time": "2022-07-25T06:30:06.066Z"
   },
   {
    "duration": 6,
    "start_time": "2022-07-25T06:30:06.147Z"
   },
   {
    "duration": 257,
    "start_time": "2022-07-25T06:30:06.275Z"
   },
   {
    "duration": 26,
    "start_time": "2022-07-25T06:30:06.554Z"
   },
   {
    "duration": 25,
    "start_time": "2022-07-25T06:30:07.051Z"
   },
   {
    "duration": 26,
    "start_time": "2022-07-25T06:30:07.083Z"
   },
   {
    "duration": 858,
    "start_time": "2022-07-25T06:30:07.148Z"
   },
   {
    "duration": 974,
    "start_time": "2022-07-25T06:30:08.010Z"
   },
   {
    "duration": 2332,
    "start_time": "2022-07-25T06:30:08.985Z"
   },
   {
    "duration": 2082,
    "start_time": "2022-07-25T06:30:11.319Z"
   },
   {
    "duration": 33,
    "start_time": "2022-07-25T06:30:13.403Z"
   },
   {
    "duration": 2099,
    "start_time": "2022-07-25T06:30:13.438Z"
   },
   {
    "duration": 4,
    "start_time": "2022-07-25T06:30:15.538Z"
   },
   {
    "duration": 7484,
    "start_time": "2022-07-25T06:30:15.544Z"
   },
   {
    "duration": 3393,
    "start_time": "2022-07-25T06:30:23.030Z"
   },
   {
    "duration": 4,
    "start_time": "2022-07-25T06:30:38.138Z"
   },
   {
    "duration": 7764,
    "start_time": "2022-07-25T06:30:38.812Z"
   },
   {
    "duration": 3172,
    "start_time": "2022-07-25T06:30:50.460Z"
   },
   {
    "duration": 3138,
    "start_time": "2022-07-25T06:33:58.058Z"
   },
   {
    "duration": 7436,
    "start_time": "2022-07-25T06:36:06.250Z"
   },
   {
    "duration": 15,
    "start_time": "2022-07-25T06:39:33.033Z"
   },
   {
    "duration": 3076,
    "start_time": "2022-07-25T06:39:35.415Z"
   },
   {
    "duration": 7491,
    "start_time": "2022-07-25T06:39:58.152Z"
   },
   {
    "duration": 2338,
    "start_time": "2022-07-25T06:40:05.645Z"
   },
   {
    "duration": 7062,
    "start_time": "2022-07-25T06:42:22.776Z"
   },
   {
    "duration": 2299,
    "start_time": "2022-07-25T06:42:29.840Z"
   },
   {
    "duration": 2181,
    "start_time": "2022-07-25T06:44:22.133Z"
   },
   {
    "duration": 7290,
    "start_time": "2022-07-25T06:44:34.519Z"
   },
   {
    "duration": 4,
    "start_time": "2022-07-25T06:51:36.292Z"
   },
   {
    "duration": 7134,
    "start_time": "2022-07-25T06:51:36.995Z"
   },
   {
    "duration": 2217,
    "start_time": "2022-07-25T06:57:08.544Z"
   },
   {
    "duration": 7143,
    "start_time": "2022-07-25T06:57:48.453Z"
   },
   {
    "duration": 2250,
    "start_time": "2022-07-25T06:57:55.598Z"
   },
   {
    "duration": 7101,
    "start_time": "2022-07-25T06:58:37.383Z"
   },
   {
    "duration": 2405,
    "start_time": "2022-07-25T06:59:00.783Z"
   },
   {
    "duration": 26,
    "start_time": "2022-07-25T07:00:49.422Z"
   },
   {
    "duration": 7349,
    "start_time": "2022-07-25T07:01:18.238Z"
   },
   {
    "duration": 2172,
    "start_time": "2022-07-25T07:01:25.589Z"
   },
   {
    "duration": 4,
    "start_time": "2022-07-25T07:04:04.754Z"
   },
   {
    "duration": 7,
    "start_time": "2022-07-25T07:04:10.670Z"
   },
   {
    "duration": 217,
    "start_time": "2022-07-25T07:04:13.484Z"
   },
   {
    "duration": 27,
    "start_time": "2022-07-25T07:04:14.144Z"
   },
   {
    "duration": 24,
    "start_time": "2022-07-25T07:04:14.412Z"
   },
   {
    "duration": 26,
    "start_time": "2022-07-25T07:04:14.701Z"
   },
   {
    "duration": 987,
    "start_time": "2022-07-25T07:04:15.132Z"
   },
   {
    "duration": 868,
    "start_time": "2022-07-25T07:04:16.121Z"
   },
   {
    "duration": 2093,
    "start_time": "2022-07-25T07:04:16.991Z"
   },
   {
    "duration": 2143,
    "start_time": "2022-07-25T07:04:19.086Z"
   },
   {
    "duration": 29,
    "start_time": "2022-07-25T07:04:21.231Z"
   },
   {
    "duration": 2069,
    "start_time": "2022-07-25T07:04:21.262Z"
   },
   {
    "duration": 4,
    "start_time": "2022-07-25T07:04:23.333Z"
   },
   {
    "duration": 18,
    "start_time": "2022-07-25T07:04:23.339Z"
   },
   {
    "duration": 0,
    "start_time": "2022-07-25T07:04:23.359Z"
   },
   {
    "duration": 16,
    "start_time": "2022-07-25T07:05:05.788Z"
   },
   {
    "duration": 2036,
    "start_time": "2022-07-25T07:05:08.155Z"
   },
   {
    "duration": 2040,
    "start_time": "2022-07-25T07:05:14.172Z"
   },
   {
    "duration": 2002,
    "start_time": "2022-07-25T07:05:17.851Z"
   },
   {
    "duration": 11542,
    "start_time": "2022-07-25T07:05:34.895Z"
   },
   {
    "duration": 11233,
    "start_time": "2022-07-25T07:05:58.906Z"
   },
   {
    "duration": 19,
    "start_time": "2022-07-25T07:07:05.179Z"
   },
   {
    "duration": 10535,
    "start_time": "2022-07-25T07:07:33.372Z"
   },
   {
    "duration": 17472,
    "start_time": "2022-07-25T07:09:19.305Z"
   },
   {
    "duration": 0,
    "start_time": "2022-07-25T07:09:40.143Z"
   },
   {
    "duration": 18020,
    "start_time": "2022-07-25T07:09:48.090Z"
   },
   {
    "duration": 2686,
    "start_time": "2022-07-25T07:10:14.733Z"
   },
   {
    "duration": 2710,
    "start_time": "2022-07-25T07:10:21.705Z"
   },
   {
    "duration": 294,
    "start_time": "2022-07-25T07:10:24.418Z"
   },
   {
    "duration": 2897,
    "start_time": "2022-07-25T07:12:13.514Z"
   },
   {
    "duration": 61,
    "start_time": "2022-07-25T07:12:26.855Z"
   },
   {
    "duration": 125,
    "start_time": "2022-07-25T07:13:16.024Z"
   },
   {
    "duration": 177,
    "start_time": "2022-07-25T07:14:32.935Z"
   },
   {
    "duration": 15426,
    "start_time": "2022-07-25T07:14:40.823Z"
   },
   {
    "duration": 1686,
    "start_time": "2022-07-25T07:16:00.631Z"
   },
   {
    "duration": 1629,
    "start_time": "2022-07-25T07:17:14.840Z"
   },
   {
    "duration": 1106,
    "start_time": "2022-07-25T07:18:47.302Z"
   },
   {
    "duration": 16,
    "start_time": "2022-07-25T07:19:02.692Z"
   },
   {
    "duration": 3,
    "start_time": "2022-07-25T07:19:06.391Z"
   },
   {
    "duration": 756,
    "start_time": "2022-07-25T07:19:06.888Z"
   },
   {
    "duration": 18,
    "start_time": "2022-07-25T07:19:07.646Z"
   },
   {
    "duration": 12,
    "start_time": "2022-07-25T07:19:07.666Z"
   },
   {
    "duration": 41,
    "start_time": "2022-07-25T07:19:07.680Z"
   },
   {
    "duration": 12,
    "start_time": "2022-07-25T07:19:07.722Z"
   },
   {
    "duration": 5,
    "start_time": "2022-07-25T07:19:07.736Z"
   },
   {
    "duration": 11,
    "start_time": "2022-07-25T07:19:07.742Z"
   },
   {
    "duration": 264,
    "start_time": "2022-07-25T07:19:07.754Z"
   },
   {
    "duration": 24,
    "start_time": "2022-07-25T07:19:08.020Z"
   },
   {
    "duration": 24,
    "start_time": "2022-07-25T07:19:08.046Z"
   },
   {
    "duration": 48,
    "start_time": "2022-07-25T07:19:08.071Z"
   },
   {
    "duration": 823,
    "start_time": "2022-07-25T07:19:08.121Z"
   },
   {
    "duration": 1079,
    "start_time": "2022-07-25T07:19:08.945Z"
   },
   {
    "duration": 2146,
    "start_time": "2022-07-25T07:19:10.027Z"
   },
   {
    "duration": 1999,
    "start_time": "2022-07-25T07:19:12.176Z"
   },
   {
    "duration": 40,
    "start_time": "2022-07-25T07:19:14.176Z"
   },
   {
    "duration": 2069,
    "start_time": "2022-07-25T07:19:14.217Z"
   },
   {
    "duration": 4,
    "start_time": "2022-07-25T07:19:16.287Z"
   },
   {
    "duration": 1554,
    "start_time": "2022-07-25T07:19:16.293Z"
   },
   {
    "duration": 1335,
    "start_time": "2022-07-25T07:21:35.156Z"
   },
   {
    "duration": 380,
    "start_time": "2022-07-25T07:23:59.106Z"
   },
   {
    "duration": 16,
    "start_time": "2022-07-25T07:24:41.473Z"
   },
   {
    "duration": 385,
    "start_time": "2022-07-25T07:24:41.922Z"
   },
   {
    "duration": 20,
    "start_time": "2022-07-25T07:24:53.922Z"
   },
   {
    "duration": 331,
    "start_time": "2022-07-25T07:25:31.282Z"
   },
   {
    "duration": 1289,
    "start_time": "2022-07-25T07:26:22.577Z"
   },
   {
    "duration": 1181,
    "start_time": "2022-07-25T11:52:34.873Z"
   },
   {
    "duration": 1636,
    "start_time": "2022-07-25T11:53:40.203Z"
   },
   {
    "duration": 8,
    "start_time": "2022-07-26T16:36:47.640Z"
   },
   {
    "duration": 40,
    "start_time": "2022-07-26T16:36:48.495Z"
   },
   {
    "duration": 1423,
    "start_time": "2022-07-26T16:36:57.586Z"
   },
   {
    "duration": 3777,
    "start_time": "2022-07-26T16:36:59.011Z"
   },
   {
    "duration": 18,
    "start_time": "2022-07-26T16:37:02.789Z"
   },
   {
    "duration": 16,
    "start_time": "2022-07-26T16:37:02.808Z"
   },
   {
    "duration": 22,
    "start_time": "2022-07-26T16:37:02.825Z"
   },
   {
    "duration": 13,
    "start_time": "2022-07-26T16:37:02.849Z"
   },
   {
    "duration": 80,
    "start_time": "2022-07-26T16:37:02.863Z"
   },
   {
    "duration": 0,
    "start_time": "2022-07-26T16:37:02.945Z"
   },
   {
    "duration": 0,
    "start_time": "2022-07-26T16:37:02.946Z"
   },
   {
    "duration": 0,
    "start_time": "2022-07-26T16:37:02.947Z"
   },
   {
    "duration": 0,
    "start_time": "2022-07-26T16:37:02.948Z"
   },
   {
    "duration": 0,
    "start_time": "2022-07-26T16:37:02.949Z"
   },
   {
    "duration": 0,
    "start_time": "2022-07-26T16:37:02.950Z"
   },
   {
    "duration": 0,
    "start_time": "2022-07-26T16:37:02.950Z"
   },
   {
    "duration": 0,
    "start_time": "2022-07-26T16:37:02.952Z"
   },
   {
    "duration": 0,
    "start_time": "2022-07-26T16:37:02.953Z"
   },
   {
    "duration": 0,
    "start_time": "2022-07-26T16:37:02.954Z"
   },
   {
    "duration": 0,
    "start_time": "2022-07-26T16:37:02.955Z"
   },
   {
    "duration": 0,
    "start_time": "2022-07-26T16:37:02.956Z"
   },
   {
    "duration": 0,
    "start_time": "2022-07-26T16:37:02.957Z"
   },
   {
    "duration": 158,
    "start_time": "2022-07-26T17:06:51.693Z"
   },
   {
    "duration": 4,
    "start_time": "2022-07-26T17:07:01.015Z"
   },
   {
    "duration": 142,
    "start_time": "2022-07-26T17:07:01.875Z"
   },
   {
    "duration": 133,
    "start_time": "2022-07-26T17:07:41.636Z"
   },
   {
    "duration": 17,
    "start_time": "2022-07-26T17:08:14.185Z"
   },
   {
    "duration": 3,
    "start_time": "2022-07-26T17:08:26.414Z"
   },
   {
    "duration": 3,
    "start_time": "2022-07-26T17:08:31.347Z"
   },
   {
    "duration": 819,
    "start_time": "2022-07-26T17:08:31.428Z"
   },
   {
    "duration": 17,
    "start_time": "2022-07-26T17:08:33.782Z"
   },
   {
    "duration": 12,
    "start_time": "2022-07-26T17:08:34.325Z"
   },
   {
    "duration": 17,
    "start_time": "2022-07-26T17:08:34.533Z"
   },
   {
    "duration": 13,
    "start_time": "2022-07-26T17:08:34.914Z"
   },
   {
    "duration": 12,
    "start_time": "2022-07-26T17:08:35.146Z"
   },
   {
    "duration": 10,
    "start_time": "2022-07-26T17:08:35.868Z"
   },
   {
    "duration": 252,
    "start_time": "2022-07-26T17:08:37.258Z"
   },
   {
    "duration": 24,
    "start_time": "2022-07-26T17:08:40.753Z"
   },
   {
    "duration": 22,
    "start_time": "2022-07-26T17:08:43.110Z"
   },
   {
    "duration": 24,
    "start_time": "2022-07-26T17:08:43.382Z"
   },
   {
    "duration": 816,
    "start_time": "2022-07-26T17:08:44.049Z"
   },
   {
    "duration": 799,
    "start_time": "2022-07-26T17:08:44.919Z"
   },
   {
    "duration": 1889,
    "start_time": "2022-07-26T17:08:45.818Z"
   },
   {
    "duration": 1721,
    "start_time": "2022-07-26T17:08:47.710Z"
   },
   {
    "duration": 40,
    "start_time": "2022-07-26T17:08:49.433Z"
   },
   {
    "duration": 2142,
    "start_time": "2022-07-26T17:08:49.475Z"
   },
   {
    "duration": 3,
    "start_time": "2022-07-26T17:08:51.619Z"
   },
   {
    "duration": 858,
    "start_time": "2022-07-26T17:08:51.623Z"
   },
   {
    "duration": 2147,
    "start_time": "2022-07-26T17:09:47.131Z"
   },
   {
    "duration": 2557,
    "start_time": "2022-07-29T14:19:24.989Z"
   },
   {
    "duration": 1519,
    "start_time": "2022-07-29T14:19:27.549Z"
   },
   {
    "duration": 21,
    "start_time": "2022-07-29T14:19:29.069Z"
   },
   {
    "duration": 13,
    "start_time": "2022-07-29T14:19:29.093Z"
   },
   {
    "duration": 23,
    "start_time": "2022-07-29T14:19:29.110Z"
   },
   {
    "duration": 14,
    "start_time": "2022-07-29T14:19:29.135Z"
   },
   {
    "duration": 144,
    "start_time": "2022-07-29T14:19:29.150Z"
   },
   {
    "duration": 0,
    "start_time": "2022-07-29T14:19:29.296Z"
   },
   {
    "duration": 0,
    "start_time": "2022-07-29T14:19:29.297Z"
   },
   {
    "duration": 0,
    "start_time": "2022-07-29T14:19:29.298Z"
   },
   {
    "duration": 0,
    "start_time": "2022-07-29T14:19:29.299Z"
   },
   {
    "duration": 0,
    "start_time": "2022-07-29T14:19:29.300Z"
   },
   {
    "duration": 0,
    "start_time": "2022-07-29T14:19:29.310Z"
   },
   {
    "duration": 0,
    "start_time": "2022-07-29T14:19:29.311Z"
   },
   {
    "duration": 0,
    "start_time": "2022-07-29T14:19:29.312Z"
   },
   {
    "duration": 0,
    "start_time": "2022-07-29T14:19:29.313Z"
   },
   {
    "duration": 0,
    "start_time": "2022-07-29T14:19:29.314Z"
   },
   {
    "duration": 0,
    "start_time": "2022-07-29T14:19:29.315Z"
   },
   {
    "duration": 0,
    "start_time": "2022-07-29T14:19:29.316Z"
   },
   {
    "duration": 0,
    "start_time": "2022-07-29T14:19:29.318Z"
   },
   {
    "duration": 5,
    "start_time": "2022-07-29T14:19:46.299Z"
   },
   {
    "duration": 945,
    "start_time": "2022-07-29T14:19:46.792Z"
   },
   {
    "duration": 21,
    "start_time": "2022-07-29T14:19:47.739Z"
   },
   {
    "duration": 14,
    "start_time": "2022-07-29T14:19:47.762Z"
   },
   {
    "duration": 52,
    "start_time": "2022-07-29T14:19:47.779Z"
   },
   {
    "duration": 15,
    "start_time": "2022-07-29T14:19:47.834Z"
   },
   {
    "duration": 29,
    "start_time": "2022-07-29T14:19:47.851Z"
   },
   {
    "duration": 0,
    "start_time": "2022-07-29T14:19:47.882Z"
   },
   {
    "duration": 304,
    "start_time": "2022-07-29T14:19:48.139Z"
   },
   {
    "duration": 31,
    "start_time": "2022-07-29T14:19:48.633Z"
   },
   {
    "duration": 29,
    "start_time": "2022-07-29T14:19:48.952Z"
   },
   {
    "duration": 27,
    "start_time": "2022-07-29T14:19:49.323Z"
   },
   {
    "duration": 983,
    "start_time": "2022-07-29T14:19:49.925Z"
   },
   {
    "duration": 1249,
    "start_time": "2022-07-29T14:19:50.913Z"
   },
   {
    "duration": 2407,
    "start_time": "2022-07-29T14:19:52.166Z"
   },
   {
    "duration": 2317,
    "start_time": "2022-07-29T14:19:54.575Z"
   },
   {
    "duration": 48,
    "start_time": "2022-07-29T14:19:56.894Z"
   },
   {
    "duration": 2482,
    "start_time": "2022-07-29T14:19:56.943Z"
   },
   {
    "duration": 3,
    "start_time": "2022-07-29T14:19:59.427Z"
   },
   {
    "duration": 4702,
    "start_time": "2022-07-29T14:19:59.432Z"
   },
   {
    "duration": 4,
    "start_time": "2022-07-29T15:05:12.478Z"
   },
   {
    "duration": 25,
    "start_time": "2022-07-29T15:14:17.400Z"
   },
   {
    "duration": 979,
    "start_time": "2022-07-29T15:14:17.724Z"
   },
   {
    "duration": 27,
    "start_time": "2022-07-29T15:14:18.705Z"
   },
   {
    "duration": 15,
    "start_time": "2022-07-29T15:14:18.734Z"
   },
   {
    "duration": 22,
    "start_time": "2022-07-29T15:14:18.752Z"
   },
   {
    "duration": 11,
    "start_time": "2022-07-29T15:14:55.922Z"
   },
   {
    "duration": 4,
    "start_time": "2022-07-29T15:16:54.538Z"
   },
   {
    "duration": 905,
    "start_time": "2022-07-29T15:16:55.527Z"
   },
   {
    "duration": 20,
    "start_time": "2022-07-29T15:16:56.435Z"
   },
   {
    "duration": 26,
    "start_time": "2022-07-29T15:16:56.496Z"
   },
   {
    "duration": 28,
    "start_time": "2022-07-29T15:16:56.734Z"
   },
   {
    "duration": 13,
    "start_time": "2022-07-29T15:16:57.226Z"
   },
   {
    "duration": 10,
    "start_time": "2022-07-29T15:16:57.534Z"
   },
   {
    "duration": 6,
    "start_time": "2022-07-29T15:16:57.969Z"
   },
   {
    "duration": 291,
    "start_time": "2022-07-29T15:16:58.798Z"
   },
   {
    "duration": 27,
    "start_time": "2022-07-29T15:16:59.141Z"
   },
   {
    "duration": 29,
    "start_time": "2022-07-29T15:16:59.369Z"
   },
   {
    "duration": 29,
    "start_time": "2022-07-29T15:16:59.857Z"
   },
   {
    "duration": 975,
    "start_time": "2022-07-29T15:17:00.031Z"
   },
   {
    "duration": 1243,
    "start_time": "2022-07-29T15:17:01.008Z"
   },
   {
    "duration": 2472,
    "start_time": "2022-07-29T15:17:02.254Z"
   },
   {
    "duration": 2347,
    "start_time": "2022-07-29T15:17:04.728Z"
   },
   {
    "duration": 60,
    "start_time": "2022-07-29T15:17:07.078Z"
   },
   {
    "duration": 2441,
    "start_time": "2022-07-29T15:17:07.139Z"
   },
   {
    "duration": 4,
    "start_time": "2022-07-29T15:17:09.582Z"
   },
   {
    "duration": 14,
    "start_time": "2022-07-29T15:42:35.751Z"
   },
   {
    "duration": 4,
    "start_time": "2022-07-29T15:46:43.418Z"
   },
   {
    "duration": 15,
    "start_time": "2022-07-29T15:47:04.583Z"
   },
   {
    "duration": 16,
    "start_time": "2022-07-29T15:48:26.926Z"
   },
   {
    "duration": 25,
    "start_time": "2022-07-29T15:49:55.511Z"
   },
   {
    "duration": 25,
    "start_time": "2022-07-29T15:51:12.612Z"
   },
   {
    "duration": 226,
    "start_time": "2022-07-29T15:51:58.326Z"
   },
   {
    "duration": 1065,
    "start_time": "2022-07-29T15:53:03.054Z"
   },
   {
    "duration": 997,
    "start_time": "2022-07-29T15:53:21.215Z"
   },
   {
    "duration": 987,
    "start_time": "2022-07-29T15:54:07.232Z"
   },
   {
    "duration": 14,
    "start_time": "2022-07-29T15:55:01.500Z"
   },
   {
    "duration": 919,
    "start_time": "2022-07-29T15:55:01.861Z"
   },
   {
    "duration": 29,
    "start_time": "2022-07-29T15:55:02.782Z"
   },
   {
    "duration": 14,
    "start_time": "2022-07-29T15:55:02.813Z"
   },
   {
    "duration": 20,
    "start_time": "2022-07-29T15:55:02.857Z"
   },
   {
    "duration": 13,
    "start_time": "2022-07-29T15:55:02.879Z"
   },
   {
    "duration": 12,
    "start_time": "2022-07-29T15:55:02.979Z"
   },
   {
    "duration": 6,
    "start_time": "2022-07-29T15:55:03.277Z"
   },
   {
    "duration": 276,
    "start_time": "2022-07-29T15:55:04.031Z"
   },
   {
    "duration": 26,
    "start_time": "2022-07-29T15:55:04.309Z"
   },
   {
    "duration": 28,
    "start_time": "2022-07-29T15:55:04.418Z"
   },
   {
    "duration": 25,
    "start_time": "2022-07-29T15:55:04.911Z"
   },
   {
    "duration": 923,
    "start_time": "2022-07-29T15:55:05.074Z"
   },
   {
    "duration": 1101,
    "start_time": "2022-07-29T15:55:06.000Z"
   },
   {
    "duration": 2373,
    "start_time": "2022-07-29T15:55:07.103Z"
   },
   {
    "duration": 2125,
    "start_time": "2022-07-29T15:55:09.478Z"
   },
   {
    "duration": 37,
    "start_time": "2022-07-29T15:55:11.604Z"
   },
   {
    "duration": 2387,
    "start_time": "2022-07-29T15:55:11.642Z"
   },
   {
    "duration": 6,
    "start_time": "2022-07-29T15:55:14.030Z"
   },
   {
    "duration": 974,
    "start_time": "2022-07-29T15:55:14.037Z"
   },
   {
    "duration": 109,
    "start_time": "2022-07-29T15:55:15.015Z"
   },
   {
    "duration": 6008,
    "start_time": "2022-07-29T15:56:25.276Z"
   },
   {
    "duration": 95,
    "start_time": "2022-07-29T15:58:11.628Z"
   },
   {
    "duration": 0,
    "start_time": "2022-07-29T16:00:48.942Z"
   },
   {
    "duration": 0,
    "start_time": "2022-07-29T16:20:00.957Z"
   },
   {
    "duration": 0,
    "start_time": "2022-07-29T16:20:00.958Z"
   },
   {
    "duration": 0,
    "start_time": "2022-07-29T16:20:00.959Z"
   },
   {
    "duration": 0,
    "start_time": "2022-07-29T16:20:00.960Z"
   },
   {
    "duration": 0,
    "start_time": "2022-07-29T16:20:00.961Z"
   },
   {
    "duration": 0,
    "start_time": "2022-07-29T16:20:00.962Z"
   },
   {
    "duration": 0,
    "start_time": "2022-07-29T16:20:00.963Z"
   },
   {
    "duration": 0,
    "start_time": "2022-07-29T16:20:00.964Z"
   },
   {
    "duration": 0,
    "start_time": "2022-07-29T16:20:00.965Z"
   },
   {
    "duration": 0,
    "start_time": "2022-07-29T16:20:00.966Z"
   },
   {
    "duration": 0,
    "start_time": "2022-07-29T16:20:00.967Z"
   },
   {
    "duration": 0,
    "start_time": "2022-07-29T16:20:00.968Z"
   },
   {
    "duration": 0,
    "start_time": "2022-07-29T16:20:01.010Z"
   },
   {
    "duration": 0,
    "start_time": "2022-07-29T16:20:01.011Z"
   },
   {
    "duration": 0,
    "start_time": "2022-07-29T16:20:01.013Z"
   },
   {
    "duration": 0,
    "start_time": "2022-07-29T16:20:01.014Z"
   },
   {
    "duration": 0,
    "start_time": "2022-07-29T16:20:01.015Z"
   },
   {
    "duration": 0,
    "start_time": "2022-07-29T16:20:01.016Z"
   },
   {
    "duration": 0,
    "start_time": "2022-07-29T16:20:01.017Z"
   },
   {
    "duration": 0,
    "start_time": "2022-07-29T16:20:01.018Z"
   },
   {
    "duration": 0,
    "start_time": "2022-07-29T16:20:01.019Z"
   },
   {
    "duration": 4,
    "start_time": "2022-07-29T16:20:04.136Z"
   },
   {
    "duration": 1139,
    "start_time": "2022-07-29T16:20:04.355Z"
   },
   {
    "duration": 28,
    "start_time": "2022-07-29T16:20:05.496Z"
   },
   {
    "duration": 14,
    "start_time": "2022-07-29T16:20:05.525Z"
   },
   {
    "duration": 33,
    "start_time": "2022-07-29T16:20:05.541Z"
   },
   {
    "duration": 13,
    "start_time": "2022-07-29T16:20:05.692Z"
   },
   {
    "duration": 12,
    "start_time": "2022-07-29T16:20:05.931Z"
   },
   {
    "duration": 6,
    "start_time": "2022-07-29T16:20:06.422Z"
   },
   {
    "duration": 282,
    "start_time": "2022-07-29T16:20:07.797Z"
   },
   {
    "duration": 29,
    "start_time": "2022-07-29T16:20:08.652Z"
   },
   {
    "duration": 29,
    "start_time": "2022-07-29T16:20:08.859Z"
   },
   {
    "duration": 29,
    "start_time": "2022-07-29T16:20:09.361Z"
   },
   {
    "duration": 922,
    "start_time": "2022-07-29T16:20:09.535Z"
   },
   {
    "duration": 1108,
    "start_time": "2022-07-29T16:20:10.459Z"
   },
   {
    "duration": 2270,
    "start_time": "2022-07-29T16:20:11.569Z"
   },
   {
    "duration": 2263,
    "start_time": "2022-07-29T16:20:13.842Z"
   },
   {
    "duration": 40,
    "start_time": "2022-07-29T16:20:16.107Z"
   },
   {
    "duration": 2416,
    "start_time": "2022-07-29T16:20:16.149Z"
   },
   {
    "duration": 4,
    "start_time": "2022-07-29T16:20:18.567Z"
   },
   {
    "duration": 1040,
    "start_time": "2022-07-29T16:20:18.573Z"
   },
   {
    "duration": 2138,
    "start_time": "2022-07-29T16:20:19.615Z"
   },
   {
    "duration": 0,
    "start_time": "2022-07-29T16:33:24.243Z"
   },
   {
    "duration": 0,
    "start_time": "2022-07-29T16:33:24.245Z"
   },
   {
    "duration": 5,
    "start_time": "2022-07-29T16:33:40.318Z"
   },
   {
    "duration": 891,
    "start_time": "2022-07-29T16:33:47.415Z"
   },
   {
    "duration": 19,
    "start_time": "2022-07-29T16:33:54.980Z"
   },
   {
    "duration": 14,
    "start_time": "2022-07-29T16:33:55.525Z"
   },
   {
    "duration": 19,
    "start_time": "2022-07-29T16:33:55.816Z"
   },
   {
    "duration": 12,
    "start_time": "2022-07-29T16:33:56.694Z"
   },
   {
    "duration": 19,
    "start_time": "2022-07-29T16:33:57.758Z"
   },
   {
    "duration": 4,
    "start_time": "2022-07-29T16:34:50.844Z"
   },
   {
    "duration": 870,
    "start_time": "2022-07-29T16:34:51.021Z"
   },
   {
    "duration": 35,
    "start_time": "2022-07-29T16:34:51.894Z"
   },
   {
    "duration": 16,
    "start_time": "2022-07-29T16:34:51.932Z"
   },
   {
    "duration": 26,
    "start_time": "2022-07-29T16:34:51.950Z"
   },
   {
    "duration": 14,
    "start_time": "2022-07-29T16:34:52.390Z"
   },
   {
    "duration": 6,
    "start_time": "2022-07-29T16:34:52.854Z"
   },
   {
    "duration": 6,
    "start_time": "2022-07-29T16:34:53.815Z"
   },
   {
    "duration": 278,
    "start_time": "2022-07-29T16:34:54.719Z"
   },
   {
    "duration": 28,
    "start_time": "2022-07-29T16:34:55.077Z"
   },
   {
    "duration": 30,
    "start_time": "2022-07-29T16:34:55.253Z"
   },
   {
    "duration": 26,
    "start_time": "2022-07-29T16:34:55.767Z"
   },
   {
    "duration": 1019,
    "start_time": "2022-07-29T16:34:55.828Z"
   },
   {
    "duration": 1022,
    "start_time": "2022-07-29T16:34:56.850Z"
   },
   {
    "duration": 2405,
    "start_time": "2022-07-29T16:34:57.874Z"
   },
   {
    "duration": 2256,
    "start_time": "2022-07-29T16:35:00.281Z"
   },
   {
    "duration": 33,
    "start_time": "2022-07-29T16:35:02.538Z"
   },
   {
    "duration": 2342,
    "start_time": "2022-07-29T16:35:02.573Z"
   },
   {
    "duration": 5,
    "start_time": "2022-07-29T16:35:04.917Z"
   },
   {
    "duration": 1089,
    "start_time": "2022-07-29T16:35:04.923Z"
   },
   {
    "duration": 893,
    "start_time": "2022-07-29T16:35:08.725Z"
   },
   {
    "duration": 28,
    "start_time": "2022-07-29T16:40:01.931Z"
   },
   {
    "duration": 0,
    "start_time": "2022-07-29T16:46:17.892Z"
   },
   {
    "duration": 5,
    "start_time": "2022-07-29T16:46:21.655Z"
   },
   {
    "duration": 898,
    "start_time": "2022-07-29T16:46:22.171Z"
   },
   {
    "duration": 19,
    "start_time": "2022-07-29T16:46:23.071Z"
   },
   {
    "duration": 22,
    "start_time": "2022-07-29T16:46:23.092Z"
   },
   {
    "duration": 20,
    "start_time": "2022-07-29T16:46:23.117Z"
   },
   {
    "duration": 13,
    "start_time": "2022-07-29T16:46:23.139Z"
   },
   {
    "duration": 8,
    "start_time": "2022-07-29T16:46:23.154Z"
   },
   {
    "duration": 12,
    "start_time": "2022-07-29T16:46:23.163Z"
   },
   {
    "duration": 307,
    "start_time": "2022-07-29T16:46:23.177Z"
   },
   {
    "duration": 41,
    "start_time": "2022-07-29T16:46:23.486Z"
   },
   {
    "duration": 26,
    "start_time": "2022-07-29T16:46:23.529Z"
   },
   {
    "duration": 26,
    "start_time": "2022-07-29T16:46:23.557Z"
   },
   {
    "duration": 922,
    "start_time": "2022-07-29T16:46:23.609Z"
   },
   {
    "duration": 1147,
    "start_time": "2022-07-29T16:46:24.533Z"
   },
   {
    "duration": 2284,
    "start_time": "2022-07-29T16:46:25.682Z"
   },
   {
    "duration": 2225,
    "start_time": "2022-07-29T16:46:27.968Z"
   },
   {
    "duration": 49,
    "start_time": "2022-07-29T16:46:30.194Z"
   },
   {
    "duration": 2439,
    "start_time": "2022-07-29T16:46:30.245Z"
   },
   {
    "duration": 6,
    "start_time": "2022-07-29T16:46:32.686Z"
   },
   {
    "duration": 924,
    "start_time": "2022-07-29T16:46:32.693Z"
   },
   {
    "duration": 5,
    "start_time": "2022-07-29T17:18:45.200Z"
   },
   {
    "duration": 1155,
    "start_time": "2022-07-29T17:18:45.211Z"
   },
   {
    "duration": 21,
    "start_time": "2022-07-29T17:18:46.368Z"
   },
   {
    "duration": 33,
    "start_time": "2022-07-29T17:18:46.391Z"
   },
   {
    "duration": 43,
    "start_time": "2022-07-29T17:18:46.427Z"
   },
   {
    "duration": 14,
    "start_time": "2022-07-29T17:18:46.474Z"
   },
   {
    "duration": 17,
    "start_time": "2022-07-29T17:18:46.490Z"
   },
   {
    "duration": 45,
    "start_time": "2022-07-29T17:18:46.510Z"
   },
   {
    "duration": 348,
    "start_time": "2022-07-29T17:18:46.556Z"
   },
   {
    "duration": 38,
    "start_time": "2022-07-29T17:18:46.905Z"
   },
   {
    "duration": 32,
    "start_time": "2022-07-29T17:18:46.945Z"
   },
   {
    "duration": 47,
    "start_time": "2022-07-29T17:18:46.979Z"
   },
   {
    "duration": 1293,
    "start_time": "2022-07-29T17:18:47.029Z"
   },
   {
    "duration": 1215,
    "start_time": "2022-07-29T17:18:48.324Z"
   },
   {
    "duration": 3009,
    "start_time": "2022-07-29T17:18:49.542Z"
   },
   {
    "duration": 2629,
    "start_time": "2022-07-29T17:18:52.553Z"
   },
   {
    "duration": 64,
    "start_time": "2022-07-29T17:18:55.184Z"
   },
   {
    "duration": 3048,
    "start_time": "2022-07-29T17:18:55.251Z"
   },
   {
    "duration": 4,
    "start_time": "2022-07-29T17:18:58.301Z"
   },
   {
    "duration": 1310,
    "start_time": "2022-07-29T17:18:58.310Z"
   },
   {
    "duration": 1060056,
    "start_time": "2022-07-29T17:18:59.623Z"
   },
   {
    "duration": 1026353,
    "start_time": "2022-07-29T21:33:39.642Z"
   },
   {
    "duration": 1119,
    "start_time": "2022-07-29T22:05:34.701Z"
   },
   {
    "duration": 25,
    "start_time": "2022-07-29T22:05:35.913Z"
   },
   {
    "duration": 4113,
    "start_time": "2022-07-29T22:06:11.269Z"
   },
   {
    "duration": 4230,
    "start_time": "2022-07-29T22:24:54.404Z"
   },
   {
    "duration": 1433,
    "start_time": "2022-07-31T00:08:13.840Z"
   },
   {
    "duration": 3812,
    "start_time": "2022-07-31T00:08:15.275Z"
   },
   {
    "duration": 19,
    "start_time": "2022-07-31T00:08:19.088Z"
   },
   {
    "duration": 11,
    "start_time": "2022-07-31T00:08:19.109Z"
   },
   {
    "duration": 16,
    "start_time": "2022-07-31T00:08:19.121Z"
   },
   {
    "duration": 11,
    "start_time": "2022-07-31T00:08:19.139Z"
   },
   {
    "duration": 23,
    "start_time": "2022-07-31T00:08:19.151Z"
   },
   {
    "duration": 5,
    "start_time": "2022-07-31T00:10:40.046Z"
   },
   {
    "duration": 97,
    "start_time": "2022-07-31T00:10:41.304Z"
   },
   {
    "duration": 11,
    "start_time": "2022-07-31T00:11:24.370Z"
   },
   {
    "duration": 13,
    "start_time": "2022-07-31T00:12:01.226Z"
   },
   {
    "duration": 12,
    "start_time": "2022-07-31T00:12:23.897Z"
   },
   {
    "duration": 12,
    "start_time": "2022-07-31T00:12:27.776Z"
   },
   {
    "duration": 14,
    "start_time": "2022-07-31T00:12:41.648Z"
   },
   {
    "duration": 13,
    "start_time": "2022-07-31T00:12:59.168Z"
   },
   {
    "duration": 14,
    "start_time": "2022-07-31T00:13:02.912Z"
   },
   {
    "duration": 12,
    "start_time": "2022-07-31T00:13:11.689Z"
   },
   {
    "duration": 12,
    "start_time": "2022-07-31T00:13:19.065Z"
   },
   {
    "duration": 15,
    "start_time": "2022-07-31T00:13:31.416Z"
   },
   {
    "duration": 12,
    "start_time": "2022-07-31T00:13:40.548Z"
   },
   {
    "duration": 14,
    "start_time": "2022-07-31T00:13:49.642Z"
   },
   {
    "duration": 15,
    "start_time": "2022-07-31T00:14:02.624Z"
   },
   {
    "duration": 18,
    "start_time": "2022-07-31T00:14:47.625Z"
   },
   {
    "duration": 13,
    "start_time": "2022-07-31T00:14:54.352Z"
   },
   {
    "duration": 4,
    "start_time": "2022-07-31T00:15:17.929Z"
   },
   {
    "duration": 16,
    "start_time": "2022-07-31T00:15:18.648Z"
   },
   {
    "duration": 4,
    "start_time": "2022-07-31T00:15:23.862Z"
   },
   {
    "duration": 720,
    "start_time": "2022-07-31T00:15:24.047Z"
   },
   {
    "duration": 16,
    "start_time": "2022-07-31T00:15:24.769Z"
   },
   {
    "duration": 13,
    "start_time": "2022-07-31T00:15:24.950Z"
   },
   {
    "duration": 18,
    "start_time": "2022-07-31T00:15:25.230Z"
   },
   {
    "duration": 5,
    "start_time": "2022-07-31T00:15:26.359Z"
   },
   {
    "duration": 14,
    "start_time": "2022-07-31T00:15:26.847Z"
   },
   {
    "duration": 16,
    "start_time": "2022-07-31T00:16:13.376Z"
   },
   {
    "duration": 4,
    "start_time": "2022-07-31T00:16:32.356Z"
   },
   {
    "duration": 707,
    "start_time": "2022-07-31T00:16:32.388Z"
   },
   {
    "duration": 16,
    "start_time": "2022-07-31T00:16:33.097Z"
   },
   {
    "duration": 12,
    "start_time": "2022-07-31T00:16:33.114Z"
   },
   {
    "duration": 15,
    "start_time": "2022-07-31T00:16:33.127Z"
   },
   {
    "duration": 4,
    "start_time": "2022-07-31T00:16:33.144Z"
   },
   {
    "duration": 16,
    "start_time": "2022-07-31T00:16:33.353Z"
   },
   {
    "duration": 15,
    "start_time": "2022-07-31T00:16:59.728Z"
   },
   {
    "duration": 13,
    "start_time": "2022-07-31T00:17:11.168Z"
   },
   {
    "duration": 14,
    "start_time": "2022-07-31T00:17:27.847Z"
   },
   {
    "duration": 17,
    "start_time": "2022-07-31T00:18:13.958Z"
   },
   {
    "duration": 28,
    "start_time": "2022-07-31T00:18:27.903Z"
   },
   {
    "duration": 19,
    "start_time": "2022-07-31T00:18:40.711Z"
   },
   {
    "duration": 14,
    "start_time": "2022-07-31T00:18:47.999Z"
   },
   {
    "duration": 18,
    "start_time": "2022-07-31T00:18:55.398Z"
   },
   {
    "duration": 6,
    "start_time": "2022-07-31T00:19:09.894Z"
   },
   {
    "duration": 7,
    "start_time": "2022-07-31T00:19:38.124Z"
   },
   {
    "duration": 7,
    "start_time": "2022-07-31T00:20:08.237Z"
   },
   {
    "duration": 9,
    "start_time": "2022-07-31T00:20:30.231Z"
   },
   {
    "duration": 8,
    "start_time": "2022-07-31T00:20:48.733Z"
   },
   {
    "duration": 6,
    "start_time": "2022-07-31T00:21:01.437Z"
   },
   {
    "duration": 11,
    "start_time": "2022-07-31T00:21:01.877Z"
   },
   {
    "duration": 16,
    "start_time": "2022-07-31T00:21:41.524Z"
   },
   {
    "duration": 9,
    "start_time": "2022-07-31T00:21:50.909Z"
   },
   {
    "duration": 8,
    "start_time": "2022-07-31T00:22:34.109Z"
   },
   {
    "duration": 9,
    "start_time": "2022-07-31T00:22:42.605Z"
   },
   {
    "duration": 8,
    "start_time": "2022-07-31T00:23:42.253Z"
   },
   {
    "duration": 20,
    "start_time": "2022-07-31T00:23:54.429Z"
   },
   {
    "duration": 5,
    "start_time": "2022-07-31T00:24:02.837Z"
   },
   {
    "duration": 8,
    "start_time": "2022-07-31T00:24:03.293Z"
   },
   {
    "duration": 15,
    "start_time": "2022-07-31T00:25:11.841Z"
   },
   {
    "duration": 7,
    "start_time": "2022-07-31T00:25:13.252Z"
   },
   {
    "duration": 15,
    "start_time": "2022-07-31T00:25:20.771Z"
   },
   {
    "duration": 4,
    "start_time": "2022-07-31T00:25:23.221Z"
   },
   {
    "duration": 5,
    "start_time": "2022-07-31T00:25:23.524Z"
   },
   {
    "duration": 49,
    "start_time": "2022-07-31T00:25:37.516Z"
   },
   {
    "duration": 47,
    "start_time": "2022-07-31T00:28:21.115Z"
   },
   {
    "duration": 34,
    "start_time": "2022-07-31T00:28:28.729Z"
   },
   {
    "duration": 25,
    "start_time": "2022-07-31T00:28:42.578Z"
   },
   {
    "duration": 37,
    "start_time": "2022-07-31T00:28:50.257Z"
   },
   {
    "duration": 43,
    "start_time": "2022-07-31T00:29:04.603Z"
   },
   {
    "duration": 65,
    "start_time": "2022-07-31T00:29:11.273Z"
   },
   {
    "duration": 69,
    "start_time": "2022-07-31T00:31:01.129Z"
   },
   {
    "duration": 67,
    "start_time": "2022-07-31T00:33:07.688Z"
   },
   {
    "duration": 246,
    "start_time": "2022-07-31T00:33:09.143Z"
   },
   {
    "duration": 5,
    "start_time": "2022-07-31T00:43:23.820Z"
   },
   {
    "duration": 5,
    "start_time": "2022-07-31T00:43:24.164Z"
   },
   {
    "duration": 5,
    "start_time": "2022-07-31T00:43:31.294Z"
   },
   {
    "duration": 4,
    "start_time": "2022-07-31T00:43:33.852Z"
   },
   {
    "duration": 5,
    "start_time": "2022-07-31T00:43:34.156Z"
   },
   {
    "duration": 4,
    "start_time": "2022-07-31T00:43:42.908Z"
   },
   {
    "duration": 732,
    "start_time": "2022-07-31T00:43:43.422Z"
   },
   {
    "duration": 23,
    "start_time": "2022-07-31T00:43:44.156Z"
   },
   {
    "duration": 11,
    "start_time": "2022-07-31T00:43:44.180Z"
   },
   {
    "duration": 18,
    "start_time": "2022-07-31T00:43:44.193Z"
   },
   {
    "duration": 4,
    "start_time": "2022-07-31T00:43:44.213Z"
   },
   {
    "duration": 14,
    "start_time": "2022-07-31T00:43:44.219Z"
   },
   {
    "duration": 0,
    "start_time": "2022-07-31T00:43:44.234Z"
   },
   {
    "duration": 72,
    "start_time": "2022-07-31T00:43:44.844Z"
   },
   {
    "duration": 23,
    "start_time": "2022-07-31T00:43:45.909Z"
   },
   {
    "duration": 26,
    "start_time": "2022-07-31T00:43:48.889Z"
   },
   {
    "duration": 63,
    "start_time": "2022-07-31T00:46:26.922Z"
   },
   {
    "duration": 4,
    "start_time": "2022-07-31T00:48:14.595Z"
   },
   {
    "duration": 779,
    "start_time": "2022-07-31T00:48:14.924Z"
   },
   {
    "duration": 18,
    "start_time": "2022-07-31T00:48:15.705Z"
   },
   {
    "duration": 13,
    "start_time": "2022-07-31T00:48:15.725Z"
   },
   {
    "duration": 20,
    "start_time": "2022-07-31T00:48:16.104Z"
   },
   {
    "duration": 5,
    "start_time": "2022-07-31T00:48:16.213Z"
   },
   {
    "duration": 15,
    "start_time": "2022-07-31T00:48:16.244Z"
   },
   {
    "duration": 6,
    "start_time": "2022-07-31T00:48:19.392Z"
   },
   {
    "duration": 14,
    "start_time": "2022-07-31T00:48:19.625Z"
   },
   {
    "duration": 4,
    "start_time": "2022-07-31T00:48:27.299Z"
   },
   {
    "duration": 687,
    "start_time": "2022-07-31T00:48:27.812Z"
   },
   {
    "duration": 16,
    "start_time": "2022-07-31T00:48:28.501Z"
   },
   {
    "duration": 28,
    "start_time": "2022-07-31T00:48:28.518Z"
   },
   {
    "duration": 34,
    "start_time": "2022-07-31T00:48:28.548Z"
   },
   {
    "duration": 6,
    "start_time": "2022-07-31T00:48:28.584Z"
   },
   {
    "duration": 34,
    "start_time": "2022-07-31T00:48:28.592Z"
   },
   {
    "duration": 0,
    "start_time": "2022-07-31T00:48:28.628Z"
   },
   {
    "duration": 5,
    "start_time": "2022-07-31T00:48:41.667Z"
   },
   {
    "duration": 20,
    "start_time": "2022-07-31T00:48:42.307Z"
   },
   {
    "duration": 15,
    "start_time": "2022-07-31T00:48:52.363Z"
   },
   {
    "duration": 6,
    "start_time": "2022-07-31T00:49:08.592Z"
   },
   {
    "duration": 6,
    "start_time": "2022-07-31T00:49:10.400Z"
   },
   {
    "duration": 67,
    "start_time": "2022-07-31T00:49:12.033Z"
   },
   {
    "duration": 23,
    "start_time": "2022-07-31T00:49:13.363Z"
   },
   {
    "duration": 34,
    "start_time": "2022-07-31T01:21:44.364Z"
   },
   {
    "duration": 17,
    "start_time": "2022-07-31T01:23:34.442Z"
   },
   {
    "duration": 22,
    "start_time": "2022-07-31T01:23:35.186Z"
   },
   {
    "duration": 22,
    "start_time": "2022-07-31T01:23:35.507Z"
   },
   {
    "duration": 23,
    "start_time": "2022-07-31T01:23:36.289Z"
   },
   {
    "duration": 850,
    "start_time": "2022-07-31T01:23:37.338Z"
   },
   {
    "duration": 806,
    "start_time": "2022-07-31T01:23:39.090Z"
   },
   {
    "duration": 4,
    "start_time": "2022-07-31T01:23:45.122Z"
   },
   {
    "duration": 701,
    "start_time": "2022-07-31T01:23:45.634Z"
   },
   {
    "duration": 16,
    "start_time": "2022-07-31T01:23:46.336Z"
   },
   {
    "duration": 20,
    "start_time": "2022-07-31T01:23:46.353Z"
   },
   {
    "duration": 23,
    "start_time": "2022-07-31T01:23:46.375Z"
   },
   {
    "duration": 4,
    "start_time": "2022-07-31T01:23:46.400Z"
   },
   {
    "duration": 37,
    "start_time": "2022-07-31T01:23:46.405Z"
   },
   {
    "duration": 19,
    "start_time": "2022-07-31T01:23:46.444Z"
   },
   {
    "duration": 96,
    "start_time": "2022-07-31T01:23:46.464Z"
   },
   {
    "duration": 27,
    "start_time": "2022-07-31T01:23:46.562Z"
   },
   {
    "duration": 26,
    "start_time": "2022-07-31T01:23:47.087Z"
   },
   {
    "duration": 23,
    "start_time": "2022-07-31T01:23:47.118Z"
   },
   {
    "duration": 27,
    "start_time": "2022-07-31T01:23:47.152Z"
   },
   {
    "duration": 830,
    "start_time": "2022-07-31T01:23:47.420Z"
   },
   {
    "duration": 778,
    "start_time": "2022-07-31T01:23:49.917Z"
   },
   {
    "duration": 1924,
    "start_time": "2022-07-31T01:23:51.361Z"
   },
   {
    "duration": 1709,
    "start_time": "2022-07-31T01:23:59.616Z"
   },
   {
    "duration": 61,
    "start_time": "2022-07-31T01:24:01.327Z"
   },
   {
    "duration": 1923,
    "start_time": "2022-07-31T01:24:01.390Z"
   },
   {
    "duration": 4,
    "start_time": "2022-07-31T01:24:03.314Z"
   },
   {
    "duration": 55,
    "start_time": "2022-07-31T01:24:03.417Z"
   },
   {
    "duration": 33,
    "start_time": "2022-07-31T01:35:39.140Z"
   },
   {
    "duration": 23,
    "start_time": "2022-07-31T01:35:39.646Z"
   },
   {
    "duration": 25,
    "start_time": "2022-07-31T01:35:39.684Z"
   },
   {
    "duration": 722,
    "start_time": "2022-07-31T01:35:39.742Z"
   },
   {
    "duration": 968,
    "start_time": "2022-07-31T01:35:40.478Z"
   },
   {
    "duration": 1900,
    "start_time": "2022-07-31T01:35:41.448Z"
   },
   {
    "duration": 1841,
    "start_time": "2022-07-31T01:35:43.350Z"
   },
   {
    "duration": 50,
    "start_time": "2022-07-31T01:35:45.192Z"
   },
   {
    "duration": 1856,
    "start_time": "2022-07-31T01:35:45.244Z"
   },
   {
    "duration": 3,
    "start_time": "2022-07-31T01:35:47.102Z"
   },
   {
    "duration": 69,
    "start_time": "2022-07-31T01:35:47.107Z"
   },
   {
    "duration": 0,
    "start_time": "2022-07-31T01:35:47.177Z"
   },
   {
    "duration": 0,
    "start_time": "2022-07-31T01:35:47.178Z"
   },
   {
    "duration": 1214,
    "start_time": "2022-07-31T01:40:43.060Z"
   },
   {
    "duration": 4227,
    "start_time": "2022-07-31T01:40:45.434Z"
   },
   {
    "duration": 0,
    "start_time": "2022-07-31T01:45:55.492Z"
   },
   {
    "duration": 1,
    "start_time": "2022-07-31T01:45:55.493Z"
   },
   {
    "duration": 0,
    "start_time": "2022-07-31T01:45:55.495Z"
   },
   {
    "duration": 0,
    "start_time": "2022-07-31T01:45:55.496Z"
   },
   {
    "duration": 0,
    "start_time": "2022-07-31T01:45:55.497Z"
   },
   {
    "duration": 0,
    "start_time": "2022-07-31T01:45:55.499Z"
   },
   {
    "duration": 0,
    "start_time": "2022-07-31T01:45:55.500Z"
   },
   {
    "duration": 0,
    "start_time": "2022-07-31T01:45:55.501Z"
   },
   {
    "duration": 0,
    "start_time": "2022-07-31T01:45:55.503Z"
   },
   {
    "duration": 0,
    "start_time": "2022-07-31T01:45:55.504Z"
   },
   {
    "duration": 0,
    "start_time": "2022-07-31T01:45:55.506Z"
   },
   {
    "duration": 0,
    "start_time": "2022-07-31T01:45:55.507Z"
   },
   {
    "duration": 0,
    "start_time": "2022-07-31T01:45:55.508Z"
   },
   {
    "duration": 0,
    "start_time": "2022-07-31T01:45:55.510Z"
   },
   {
    "duration": 0,
    "start_time": "2022-07-31T01:45:55.511Z"
   },
   {
    "duration": 0,
    "start_time": "2022-07-31T01:45:55.512Z"
   },
   {
    "duration": 0,
    "start_time": "2022-07-31T01:45:55.574Z"
   },
   {
    "duration": 0,
    "start_time": "2022-07-31T01:45:55.576Z"
   },
   {
    "duration": 0,
    "start_time": "2022-07-31T01:45:55.577Z"
   },
   {
    "duration": 0,
    "start_time": "2022-07-31T01:45:55.578Z"
   },
   {
    "duration": 0,
    "start_time": "2022-07-31T01:45:55.580Z"
   },
   {
    "duration": 0,
    "start_time": "2022-07-31T01:45:55.581Z"
   },
   {
    "duration": 0,
    "start_time": "2022-07-31T01:45:55.582Z"
   },
   {
    "duration": 0,
    "start_time": "2022-07-31T01:45:55.583Z"
   },
   {
    "duration": 4,
    "start_time": "2022-07-31T01:46:00.512Z"
   },
   {
    "duration": 781,
    "start_time": "2022-07-31T01:46:00.896Z"
   },
   {
    "duration": 16,
    "start_time": "2022-07-31T01:46:01.968Z"
   },
   {
    "duration": 12,
    "start_time": "2022-07-31T01:46:02.615Z"
   },
   {
    "duration": 18,
    "start_time": "2022-07-31T01:46:02.936Z"
   },
   {
    "duration": 5,
    "start_time": "2022-07-31T01:46:03.824Z"
   },
   {
    "duration": 5,
    "start_time": "2022-07-31T01:46:04.009Z"
   },
   {
    "duration": 6,
    "start_time": "2022-07-31T01:46:04.752Z"
   },
   {
    "duration": 93,
    "start_time": "2022-07-31T01:46:05.834Z"
   },
   {
    "duration": 26,
    "start_time": "2022-07-31T01:46:05.976Z"
   },
   {
    "duration": 26,
    "start_time": "2022-07-31T01:46:06.824Z"
   },
   {
    "duration": 24,
    "start_time": "2022-07-31T01:46:07.264Z"
   },
   {
    "duration": 29,
    "start_time": "2022-07-31T01:46:07.567Z"
   },
   {
    "duration": 946,
    "start_time": "2022-07-31T01:46:08.057Z"
   },
   {
    "duration": 803,
    "start_time": "2022-07-31T01:46:09.024Z"
   },
   {
    "duration": 2040,
    "start_time": "2022-07-31T01:46:10.025Z"
   },
   {
    "duration": 1758,
    "start_time": "2022-07-31T01:46:12.076Z"
   },
   {
    "duration": 64,
    "start_time": "2022-07-31T01:46:13.835Z"
   },
   {
    "duration": 2027,
    "start_time": "2022-07-31T01:46:13.902Z"
   },
   {
    "duration": 4,
    "start_time": "2022-07-31T01:46:15.931Z"
   },
   {
    "duration": 1437,
    "start_time": "2022-07-31T01:46:15.937Z"
   },
   {
    "duration": 4348,
    "start_time": "2022-07-31T01:46:17.377Z"
   },
   {
    "duration": 1174633,
    "start_time": "2022-07-31T01:46:21.728Z"
   },
   {
    "duration": 54,
    "start_time": "2022-07-31T02:05:56.363Z"
   },
   {
    "duration": 282,
    "start_time": "2022-07-31T02:11:21.561Z"
   },
   {
    "duration": 4,
    "start_time": "2022-07-31T02:11:28.113Z"
   },
   {
    "duration": 688,
    "start_time": "2022-07-31T02:11:28.145Z"
   },
   {
    "duration": 17,
    "start_time": "2022-07-31T02:11:28.835Z"
   },
   {
    "duration": 27,
    "start_time": "2022-07-31T02:11:28.853Z"
   },
   {
    "duration": 18,
    "start_time": "2022-07-31T02:11:28.882Z"
   },
   {
    "duration": 7,
    "start_time": "2022-07-31T02:11:28.901Z"
   },
   {
    "duration": 11,
    "start_time": "2022-07-31T02:11:28.910Z"
   },
   {
    "duration": 6,
    "start_time": "2022-07-31T02:11:28.923Z"
   },
   {
    "duration": 243,
    "start_time": "2022-07-31T02:11:30.166Z"
   },
   {
    "duration": 240,
    "start_time": "2022-07-31T02:11:58.733Z"
   },
   {
    "duration": 22,
    "start_time": "2022-07-31T02:12:00.101Z"
   },
   {
    "duration": 30,
    "start_time": "2022-07-31T02:12:00.703Z"
   },
   {
    "duration": 36,
    "start_time": "2022-07-31T02:12:00.735Z"
   },
   {
    "duration": 37,
    "start_time": "2022-07-31T02:12:00.781Z"
   },
   {
    "duration": 830,
    "start_time": "2022-07-31T02:12:00.850Z"
   },
   {
    "duration": 980,
    "start_time": "2022-07-31T02:12:01.682Z"
   },
   {
    "duration": 1882,
    "start_time": "2022-07-31T02:12:02.664Z"
   },
   {
    "duration": 1891,
    "start_time": "2022-07-31T02:12:04.548Z"
   },
   {
    "duration": 57,
    "start_time": "2022-07-31T02:12:06.440Z"
   },
   {
    "duration": 1982,
    "start_time": "2022-07-31T02:12:06.499Z"
   },
   {
    "duration": 5,
    "start_time": "2022-07-31T02:12:08.483Z"
   },
   {
    "duration": 1591,
    "start_time": "2022-07-31T02:12:08.489Z"
   },
   {
    "duration": 4397,
    "start_time": "2022-07-31T02:12:10.082Z"
   },
   {
    "duration": 0,
    "start_time": "2022-07-31T02:19:12.258Z"
   },
   {
    "duration": 0,
    "start_time": "2022-07-31T02:19:12.259Z"
   },
   {
    "duration": 0,
    "start_time": "2022-07-31T02:19:12.260Z"
   },
   {
    "duration": 0,
    "start_time": "2022-07-31T02:19:12.274Z"
   },
   {
    "duration": 0,
    "start_time": "2022-07-31T02:19:12.278Z"
   },
   {
    "duration": 0,
    "start_time": "2022-07-31T02:19:12.279Z"
   },
   {
    "duration": 0,
    "start_time": "2022-07-31T02:19:12.281Z"
   },
   {
    "duration": 0,
    "start_time": "2022-07-31T02:19:12.282Z"
   },
   {
    "duration": 0,
    "start_time": "2022-07-31T02:19:12.283Z"
   },
   {
    "duration": 0,
    "start_time": "2022-07-31T02:19:12.285Z"
   },
   {
    "duration": 0,
    "start_time": "2022-07-31T02:19:12.286Z"
   },
   {
    "duration": 0,
    "start_time": "2022-07-31T02:19:12.287Z"
   },
   {
    "duration": 0,
    "start_time": "2022-07-31T02:19:12.289Z"
   },
   {
    "duration": 0,
    "start_time": "2022-07-31T02:19:12.290Z"
   },
   {
    "duration": 0,
    "start_time": "2022-07-31T02:19:12.292Z"
   },
   {
    "duration": 0,
    "start_time": "2022-07-31T02:19:12.293Z"
   },
   {
    "duration": 0,
    "start_time": "2022-07-31T02:19:12.294Z"
   },
   {
    "duration": 0,
    "start_time": "2022-07-31T02:19:12.296Z"
   },
   {
    "duration": 0,
    "start_time": "2022-07-31T02:19:12.297Z"
   },
   {
    "duration": 3,
    "start_time": "2022-07-31T02:19:18.443Z"
   },
   {
    "duration": 702,
    "start_time": "2022-07-31T02:19:19.426Z"
   },
   {
    "duration": 16,
    "start_time": "2022-07-31T02:19:20.130Z"
   },
   {
    "duration": 12,
    "start_time": "2022-07-31T02:19:20.330Z"
   },
   {
    "duration": 19,
    "start_time": "2022-07-31T02:19:21.122Z"
   },
   {
    "duration": 6,
    "start_time": "2022-07-31T02:19:22.045Z"
   },
   {
    "duration": 6,
    "start_time": "2022-07-31T02:19:22.077Z"
   },
   {
    "duration": 6,
    "start_time": "2022-07-31T02:19:22.409Z"
   },
   {
    "duration": 256,
    "start_time": "2022-07-31T02:19:23.740Z"
   },
   {
    "duration": 24,
    "start_time": "2022-07-31T02:19:25.188Z"
   },
   {
    "duration": 26,
    "start_time": "2022-07-31T02:19:28.685Z"
   },
   {
    "duration": 24,
    "start_time": "2022-07-31T02:19:29.201Z"
   },
   {
    "duration": 27,
    "start_time": "2022-07-31T02:19:29.473Z"
   },
   {
    "duration": 875,
    "start_time": "2022-07-31T02:19:30.027Z"
   },
   {
    "duration": 673,
    "start_time": "2022-07-31T02:19:31.601Z"
   },
   {
    "duration": 816,
    "start_time": "2022-07-31T02:20:27.225Z"
   },
   {
    "duration": 690,
    "start_time": "2022-07-31T02:22:22.538Z"
   },
   {
    "duration": 1429,
    "start_time": "2022-07-31T10:48:26.597Z"
   },
   {
    "duration": 3903,
    "start_time": "2022-07-31T10:48:28.379Z"
   },
   {
    "duration": 24,
    "start_time": "2022-07-31T10:48:32.286Z"
   },
   {
    "duration": 12,
    "start_time": "2022-07-31T10:48:32.312Z"
   },
   {
    "duration": 18,
    "start_time": "2022-07-31T10:48:32.325Z"
   },
   {
    "duration": 5,
    "start_time": "2022-07-31T10:48:32.345Z"
   },
   {
    "duration": 6,
    "start_time": "2022-07-31T10:48:32.634Z"
   },
   {
    "duration": 7,
    "start_time": "2022-07-31T10:48:42.817Z"
   },
   {
    "duration": 5,
    "start_time": "2022-07-31T10:48:47.712Z"
   },
   {
    "duration": 5,
    "start_time": "2022-07-31T10:48:59.473Z"
   },
   {
    "duration": 6,
    "start_time": "2022-07-31T10:48:59.822Z"
   },
   {
    "duration": 7,
    "start_time": "2022-07-31T10:49:00.969Z"
   },
   {
    "duration": 5,
    "start_time": "2022-07-31T10:49:56.658Z"
   },
   {
    "duration": 5,
    "start_time": "2022-07-31T10:49:56.865Z"
   },
   {
    "duration": 6,
    "start_time": "2022-07-31T14:03:33.252Z"
   },
   {
    "duration": 19,
    "start_time": "2022-07-31T14:03:33.572Z"
   },
   {
    "duration": 4,
    "start_time": "2022-07-31T14:03:38.348Z"
   },
   {
    "duration": 987,
    "start_time": "2022-07-31T14:03:38.548Z"
   },
   {
    "duration": 18,
    "start_time": "2022-07-31T14:03:39.543Z"
   },
   {
    "duration": 30,
    "start_time": "2022-07-31T14:03:39.562Z"
   },
   {
    "duration": 20,
    "start_time": "2022-07-31T14:03:39.594Z"
   },
   {
    "duration": 5,
    "start_time": "2022-07-31T14:03:40.036Z"
   },
   {
    "duration": 8,
    "start_time": "2022-07-31T14:03:40.628Z"
   },
   {
    "duration": 5,
    "start_time": "2022-07-31T14:08:19.048Z"
   },
   {
    "duration": 7,
    "start_time": "2022-07-31T14:08:23.027Z"
   },
   {
    "duration": 6,
    "start_time": "2022-07-31T14:08:25.941Z"
   },
   {
    "duration": 63,
    "start_time": "2022-07-31T14:10:16.392Z"
   },
   {
    "duration": 9,
    "start_time": "2022-07-31T14:10:23.796Z"
   },
   {
    "duration": 1059,
    "start_time": "2022-07-31T14:10:23.816Z"
   },
   {
    "duration": 21,
    "start_time": "2022-07-31T14:10:24.877Z"
   },
   {
    "duration": 68,
    "start_time": "2022-07-31T14:10:24.899Z"
   },
   {
    "duration": 88,
    "start_time": "2022-07-31T14:10:24.969Z"
   },
   {
    "duration": 9,
    "start_time": "2022-07-31T14:10:25.059Z"
   },
   {
    "duration": 65,
    "start_time": "2022-07-31T14:10:25.069Z"
   },
   {
    "duration": 19,
    "start_time": "2022-07-31T14:10:25.136Z"
   },
   {
    "duration": 344,
    "start_time": "2022-07-31T14:10:26.695Z"
   },
   {
    "duration": 45,
    "start_time": "2022-07-31T14:10:28.343Z"
   },
   {
    "duration": 46,
    "start_time": "2022-07-31T14:10:35.049Z"
   },
   {
    "duration": 45,
    "start_time": "2022-07-31T14:10:36.395Z"
   },
   {
    "duration": 38,
    "start_time": "2022-07-31T14:10:36.706Z"
   },
   {
    "duration": 1201,
    "start_time": "2022-07-31T14:10:37.347Z"
   },
   {
    "duration": 1028,
    "start_time": "2022-07-31T14:10:39.096Z"
   },
   {
    "duration": 2624,
    "start_time": "2022-07-31T14:10:41.857Z"
   },
   {
    "duration": 2264,
    "start_time": "2022-07-31T14:10:44.486Z"
   },
   {
    "duration": 51,
    "start_time": "2022-07-31T14:10:49.703Z"
   },
   {
    "duration": 2931,
    "start_time": "2022-07-31T14:10:49.911Z"
   },
   {
    "duration": 6,
    "start_time": "2022-07-31T14:10:52.844Z"
   },
   {
    "duration": 206,
    "start_time": "2022-07-31T14:10:52.851Z"
   },
   {
    "duration": 0,
    "start_time": "2022-07-31T14:10:53.059Z"
   },
   {
    "duration": 119,
    "start_time": "2022-07-31T14:10:53.070Z"
   },
   {
    "duration": 49,
    "start_time": "2022-07-31T14:11:11.569Z"
   },
   {
    "duration": 33,
    "start_time": "2022-07-31T14:11:15.551Z"
   },
   {
    "duration": 28,
    "start_time": "2022-07-31T14:11:16.326Z"
   },
   {
    "duration": 54,
    "start_time": "2022-07-31T14:12:39.003Z"
   },
   {
    "duration": 51,
    "start_time": "2022-07-31T14:12:54.332Z"
   },
   {
    "duration": 32,
    "start_time": "2022-07-31T14:13:20.525Z"
   },
   {
    "duration": 35,
    "start_time": "2022-07-31T14:13:21.835Z"
   },
   {
    "duration": 85,
    "start_time": "2022-07-31T14:14:43.552Z"
   },
   {
    "duration": 54,
    "start_time": "2022-07-31T14:15:03.406Z"
   },
   {
    "duration": 54,
    "start_time": "2022-07-31T14:15:18.612Z"
   },
   {
    "duration": 64,
    "start_time": "2022-07-31T14:15:55.603Z"
   },
   {
    "duration": 63,
    "start_time": "2022-07-31T14:16:08.601Z"
   },
   {
    "duration": 3,
    "start_time": "2022-07-31T14:17:40.260Z"
   },
   {
    "duration": 975,
    "start_time": "2022-07-31T14:17:40.762Z"
   },
   {
    "duration": 21,
    "start_time": "2022-07-31T14:17:41.743Z"
   },
   {
    "duration": 31,
    "start_time": "2022-07-31T14:17:41.766Z"
   },
   {
    "duration": 78,
    "start_time": "2022-07-31T14:17:41.803Z"
   },
   {
    "duration": 35,
    "start_time": "2022-07-31T14:17:41.883Z"
   },
   {
    "duration": 39,
    "start_time": "2022-07-31T14:17:41.922Z"
   },
   {
    "duration": 12,
    "start_time": "2022-07-31T14:17:41.963Z"
   },
   {
    "duration": 341,
    "start_time": "2022-07-31T14:17:41.977Z"
   },
   {
    "duration": 33,
    "start_time": "2022-07-31T14:17:42.320Z"
   },
   {
    "duration": 28,
    "start_time": "2022-07-31T14:17:43.238Z"
   },
   {
    "duration": 39,
    "start_time": "2022-07-31T14:17:43.642Z"
   },
   {
    "duration": 39,
    "start_time": "2022-07-31T14:17:43.802Z"
   },
   {
    "duration": 910,
    "start_time": "2022-07-31T14:17:44.224Z"
   },
   {
    "duration": 803,
    "start_time": "2022-07-31T14:17:45.324Z"
   },
   {
    "duration": 2388,
    "start_time": "2022-07-31T14:17:46.548Z"
   },
   {
    "duration": 2108,
    "start_time": "2022-07-31T14:17:48.938Z"
   },
   {
    "duration": 60,
    "start_time": "2022-07-31T14:17:51.047Z"
   },
   {
    "duration": 2501,
    "start_time": "2022-07-31T14:17:51.112Z"
   },
   {
    "duration": 5,
    "start_time": "2022-07-31T14:17:53.614Z"
   },
   {
    "duration": 95,
    "start_time": "2022-07-31T14:17:53.620Z"
   },
   {
    "duration": 0,
    "start_time": "2022-07-31T14:17:53.720Z"
   },
   {
    "duration": 42,
    "start_time": "2022-07-31T14:17:54.301Z"
   },
   {
    "duration": 85,
    "start_time": "2022-07-31T14:20:04.069Z"
   },
   {
    "duration": 37,
    "start_time": "2022-07-31T14:20:10.138Z"
   },
   {
    "duration": 35,
    "start_time": "2022-07-31T14:20:46.516Z"
   },
   {
    "duration": 36,
    "start_time": "2022-07-31T14:21:03.209Z"
   },
   {
    "duration": 18,
    "start_time": "2022-07-31T14:21:19.728Z"
   },
   {
    "duration": 28,
    "start_time": "2022-07-31T14:21:26.897Z"
   },
   {
    "duration": 38,
    "start_time": "2022-07-31T14:21:41.219Z"
   },
   {
    "duration": 18,
    "start_time": "2022-07-31T14:22:00.922Z"
   },
   {
    "duration": 26,
    "start_time": "2022-07-31T14:22:25.495Z"
   },
   {
    "duration": 5,
    "start_time": "2022-07-31T14:22:31.724Z"
   },
   {
    "duration": 902,
    "start_time": "2022-07-31T14:22:31.745Z"
   },
   {
    "duration": 27,
    "start_time": "2022-07-31T14:22:32.649Z"
   },
   {
    "duration": 16,
    "start_time": "2022-07-31T14:22:32.678Z"
   },
   {
    "duration": 43,
    "start_time": "2022-07-31T14:22:32.695Z"
   },
   {
    "duration": 4,
    "start_time": "2022-07-31T14:22:32.740Z"
   },
   {
    "duration": 9,
    "start_time": "2022-07-31T14:22:32.745Z"
   },
   {
    "duration": 8,
    "start_time": "2022-07-31T14:22:32.755Z"
   },
   {
    "duration": 288,
    "start_time": "2022-07-31T14:22:32.764Z"
   },
   {
    "duration": 32,
    "start_time": "2022-07-31T14:22:33.315Z"
   },
   {
    "duration": 38,
    "start_time": "2022-07-31T14:22:33.998Z"
   },
   {
    "duration": 41,
    "start_time": "2022-07-31T14:22:34.271Z"
   },
   {
    "duration": 32,
    "start_time": "2022-07-31T14:22:34.551Z"
   },
   {
    "duration": 857,
    "start_time": "2022-07-31T14:22:35.016Z"
   },
   {
    "duration": 859,
    "start_time": "2022-07-31T14:22:36.197Z"
   },
   {
    "duration": 2306,
    "start_time": "2022-07-31T14:22:37.428Z"
   },
   {
    "duration": 2297,
    "start_time": "2022-07-31T14:22:39.736Z"
   },
   {
    "duration": 68,
    "start_time": "2022-07-31T14:22:42.035Z"
   },
   {
    "duration": 2121,
    "start_time": "2022-07-31T14:22:42.106Z"
   },
   {
    "duration": 4,
    "start_time": "2022-07-31T14:22:44.228Z"
   },
   {
    "duration": 20,
    "start_time": "2022-07-31T14:22:44.233Z"
   },
   {
    "duration": 0,
    "start_time": "2022-07-31T14:22:44.254Z"
   },
   {
    "duration": 0,
    "start_time": "2022-07-31T14:22:44.256Z"
   },
   {
    "duration": 0,
    "start_time": "2022-07-31T14:22:44.257Z"
   },
   {
    "duration": 35,
    "start_time": "2022-07-31T14:23:04.232Z"
   },
   {
    "duration": 78,
    "start_time": "2022-07-31T14:24:14.671Z"
   },
   {
    "duration": 0,
    "start_time": "2022-07-31T14:32:19.695Z"
   },
   {
    "duration": 0,
    "start_time": "2022-07-31T14:32:19.696Z"
   },
   {
    "duration": 0,
    "start_time": "2022-07-31T14:32:19.697Z"
   },
   {
    "duration": 0,
    "start_time": "2022-07-31T14:32:19.698Z"
   },
   {
    "duration": 0,
    "start_time": "2022-07-31T14:32:19.702Z"
   },
   {
    "duration": 0,
    "start_time": "2022-07-31T14:32:19.704Z"
   },
   {
    "duration": 0,
    "start_time": "2022-07-31T14:32:19.705Z"
   },
   {
    "duration": 0,
    "start_time": "2022-07-31T14:32:19.706Z"
   },
   {
    "duration": 0,
    "start_time": "2022-07-31T14:32:19.707Z"
   },
   {
    "duration": 0,
    "start_time": "2022-07-31T14:32:19.708Z"
   },
   {
    "duration": 0,
    "start_time": "2022-07-31T14:32:19.709Z"
   },
   {
    "duration": 0,
    "start_time": "2022-07-31T14:32:19.710Z"
   },
   {
    "duration": 0,
    "start_time": "2022-07-31T14:32:19.711Z"
   },
   {
    "duration": 0,
    "start_time": "2022-07-31T14:32:19.712Z"
   },
   {
    "duration": 0,
    "start_time": "2022-07-31T14:32:19.713Z"
   },
   {
    "duration": 0,
    "start_time": "2022-07-31T14:32:19.714Z"
   },
   {
    "duration": 0,
    "start_time": "2022-07-31T14:32:19.716Z"
   },
   {
    "duration": 0,
    "start_time": "2022-07-31T14:32:19.717Z"
   },
   {
    "duration": 0,
    "start_time": "2022-07-31T14:32:19.718Z"
   },
   {
    "duration": 0,
    "start_time": "2022-07-31T14:32:19.719Z"
   },
   {
    "duration": 0,
    "start_time": "2022-07-31T14:32:19.720Z"
   },
   {
    "duration": 0,
    "start_time": "2022-07-31T14:32:19.721Z"
   },
   {
    "duration": 0,
    "start_time": "2022-07-31T14:32:19.722Z"
   },
   {
    "duration": 0,
    "start_time": "2022-07-31T14:32:19.723Z"
   },
   {
    "duration": 5,
    "start_time": "2022-07-31T14:32:25.713Z"
   },
   {
    "duration": 820,
    "start_time": "2022-07-31T14:32:25.752Z"
   },
   {
    "duration": 33,
    "start_time": "2022-07-31T14:32:26.577Z"
   },
   {
    "duration": 46,
    "start_time": "2022-07-31T14:32:26.612Z"
   },
   {
    "duration": 58,
    "start_time": "2022-07-31T14:32:26.660Z"
   },
   {
    "duration": 5,
    "start_time": "2022-07-31T14:32:26.720Z"
   },
   {
    "duration": 36,
    "start_time": "2022-07-31T14:32:26.726Z"
   },
   {
    "duration": 63,
    "start_time": "2022-07-31T14:32:26.764Z"
   },
   {
    "duration": 335,
    "start_time": "2022-07-31T14:32:27.064Z"
   },
   {
    "duration": 39,
    "start_time": "2022-07-31T14:32:27.400Z"
   },
   {
    "duration": 37,
    "start_time": "2022-07-31T14:32:28.010Z"
   },
   {
    "duration": 43,
    "start_time": "2022-07-31T14:32:28.049Z"
   },
   {
    "duration": 60,
    "start_time": "2022-07-31T14:32:28.104Z"
   },
   {
    "duration": 846,
    "start_time": "2022-07-31T14:32:28.166Z"
   },
   {
    "duration": 877,
    "start_time": "2022-07-31T14:32:29.023Z"
   },
   {
    "duration": 2307,
    "start_time": "2022-07-31T14:32:29.902Z"
   },
   {
    "duration": 2289,
    "start_time": "2022-07-31T14:32:32.210Z"
   },
   {
    "duration": 51,
    "start_time": "2022-07-31T14:32:34.501Z"
   },
   {
    "duration": 2124,
    "start_time": "2022-07-31T14:32:34.553Z"
   },
   {
    "duration": 16,
    "start_time": "2022-07-31T14:32:36.679Z"
   },
   {
    "duration": 3509,
    "start_time": "2022-07-31T14:32:36.702Z"
   },
   {
    "duration": 5014,
    "start_time": "2022-07-31T14:32:40.218Z"
   },
   {
    "duration": 0,
    "start_time": "2022-07-31T14:39:52.688Z"
   },
   {
    "duration": 0,
    "start_time": "2022-07-31T14:39:52.689Z"
   },
   {
    "duration": 6,
    "start_time": "2022-07-31T14:39:53.010Z"
   },
   {
    "duration": 922,
    "start_time": "2022-07-31T14:39:53.039Z"
   },
   {
    "duration": 28,
    "start_time": "2022-07-31T14:39:53.963Z"
   },
   {
    "duration": 15,
    "start_time": "2022-07-31T14:39:53.994Z"
   },
   {
    "duration": 50,
    "start_time": "2022-07-31T14:39:54.011Z"
   },
   {
    "duration": 5,
    "start_time": "2022-07-31T14:39:54.063Z"
   },
   {
    "duration": 77,
    "start_time": "2022-07-31T14:39:54.069Z"
   },
   {
    "duration": 14,
    "start_time": "2022-07-31T14:39:54.148Z"
   },
   {
    "duration": 316,
    "start_time": "2022-07-31T14:39:54.164Z"
   },
   {
    "duration": 43,
    "start_time": "2022-07-31T14:39:54.701Z"
   },
   {
    "duration": 27,
    "start_time": "2022-07-31T14:39:56.431Z"
   },
   {
    "duration": 35,
    "start_time": "2022-07-31T14:39:56.459Z"
   },
   {
    "duration": 40,
    "start_time": "2022-07-31T14:39:56.502Z"
   },
   {
    "duration": 995,
    "start_time": "2022-07-31T14:39:56.546Z"
   },
   {
    "duration": 815,
    "start_time": "2022-07-31T14:39:57.543Z"
   },
   {
    "duration": 2431,
    "start_time": "2022-07-31T14:39:58.360Z"
   },
   {
    "duration": 2344,
    "start_time": "2022-07-31T14:40:00.802Z"
   },
   {
    "duration": 59,
    "start_time": "2022-07-31T14:40:03.148Z"
   },
   {
    "duration": 2314,
    "start_time": "2022-07-31T14:40:03.214Z"
   },
   {
    "duration": 7,
    "start_time": "2022-07-31T14:40:05.535Z"
   },
   {
    "duration": 4700,
    "start_time": "2022-07-31T14:40:05.543Z"
   },
   {
    "duration": 5268,
    "start_time": "2022-07-31T14:40:10.246Z"
   },
   {
    "duration": 20970,
    "start_time": "2022-07-31T14:40:15.524Z"
   },
   {
    "duration": 10,
    "start_time": "2022-07-31T14:40:46.206Z"
   },
   {
    "duration": 1105,
    "start_time": "2022-07-31T14:40:46.229Z"
   },
   {
    "duration": 21,
    "start_time": "2022-07-31T14:40:47.338Z"
   },
   {
    "duration": 21,
    "start_time": "2022-07-31T14:40:47.361Z"
   },
   {
    "duration": 28,
    "start_time": "2022-07-31T14:40:47.384Z"
   },
   {
    "duration": 37,
    "start_time": "2022-07-31T14:40:47.416Z"
   },
   {
    "duration": 12,
    "start_time": "2022-07-31T14:40:47.454Z"
   },
   {
    "duration": 27,
    "start_time": "2022-07-31T14:40:47.468Z"
   },
   {
    "duration": 353,
    "start_time": "2022-07-31T14:40:47.497Z"
   },
   {
    "duration": 41,
    "start_time": "2022-07-31T14:40:47.852Z"
   },
   {
    "duration": 59,
    "start_time": "2022-07-31T14:40:47.896Z"
   },
   {
    "duration": 39,
    "start_time": "2022-07-31T14:40:47.959Z"
   },
   {
    "duration": 47,
    "start_time": "2022-07-31T14:40:48.003Z"
   },
   {
    "duration": 986,
    "start_time": "2022-07-31T14:40:48.056Z"
   },
   {
    "duration": 876,
    "start_time": "2022-07-31T14:40:49.044Z"
   },
   {
    "duration": 3062,
    "start_time": "2022-07-31T14:40:49.921Z"
   },
   {
    "duration": 2926,
    "start_time": "2022-07-31T14:40:52.988Z"
   },
   {
    "duration": 71,
    "start_time": "2022-07-31T14:40:55.919Z"
   },
   {
    "duration": 3274,
    "start_time": "2022-07-31T14:40:55.992Z"
   },
   {
    "duration": 5,
    "start_time": "2022-07-31T14:40:59.269Z"
   },
   {
    "duration": 3282,
    "start_time": "2022-07-31T14:40:59.280Z"
   },
   {
    "duration": 5386,
    "start_time": "2022-07-31T14:41:02.572Z"
   },
   {
    "duration": 0,
    "start_time": "2022-07-31T14:56:29.576Z"
   },
   {
    "duration": 0,
    "start_time": "2022-07-31T14:56:29.577Z"
   },
   {
    "duration": 0,
    "start_time": "2022-07-31T14:56:29.578Z"
   },
   {
    "duration": 0,
    "start_time": "2022-07-31T14:56:29.579Z"
   },
   {
    "duration": 0,
    "start_time": "2022-07-31T14:56:29.580Z"
   },
   {
    "duration": 0,
    "start_time": "2022-07-31T14:56:29.580Z"
   },
   {
    "duration": 0,
    "start_time": "2022-07-31T14:56:29.581Z"
   },
   {
    "duration": 0,
    "start_time": "2022-07-31T14:56:29.584Z"
   },
   {
    "duration": 0,
    "start_time": "2022-07-31T14:56:29.585Z"
   },
   {
    "duration": 0,
    "start_time": "2022-07-31T14:56:29.586Z"
   },
   {
    "duration": 0,
    "start_time": "2022-07-31T14:56:29.587Z"
   },
   {
    "duration": 0,
    "start_time": "2022-07-31T14:56:29.588Z"
   },
   {
    "duration": 0,
    "start_time": "2022-07-31T14:56:29.589Z"
   },
   {
    "duration": 0,
    "start_time": "2022-07-31T14:56:29.590Z"
   },
   {
    "duration": 0,
    "start_time": "2022-07-31T14:56:29.591Z"
   },
   {
    "duration": 0,
    "start_time": "2022-07-31T14:56:29.592Z"
   },
   {
    "duration": 0,
    "start_time": "2022-07-31T14:56:29.593Z"
   },
   {
    "duration": 0,
    "start_time": "2022-07-31T14:56:29.594Z"
   },
   {
    "duration": 0,
    "start_time": "2022-07-31T14:56:29.596Z"
   },
   {
    "duration": 0,
    "start_time": "2022-07-31T14:56:29.597Z"
   },
   {
    "duration": 0,
    "start_time": "2022-07-31T14:56:29.598Z"
   },
   {
    "duration": 0,
    "start_time": "2022-07-31T14:56:29.599Z"
   },
   {
    "duration": 0,
    "start_time": "2022-07-31T14:56:29.600Z"
   },
   {
    "duration": 0,
    "start_time": "2022-07-31T14:56:29.601Z"
   },
   {
    "duration": 5,
    "start_time": "2022-07-31T14:56:33.850Z"
   },
   {
    "duration": 4,
    "start_time": "2022-07-31T14:56:41.854Z"
   },
   {
    "duration": 832,
    "start_time": "2022-07-31T14:56:41.895Z"
   },
   {
    "duration": 18,
    "start_time": "2022-07-31T14:56:42.729Z"
   },
   {
    "duration": 45,
    "start_time": "2022-07-31T14:56:42.749Z"
   },
   {
    "duration": 33,
    "start_time": "2022-07-31T14:56:42.805Z"
   },
   {
    "duration": 5,
    "start_time": "2022-07-31T14:56:42.840Z"
   },
   {
    "duration": 9,
    "start_time": "2022-07-31T14:56:42.847Z"
   },
   {
    "duration": 6,
    "start_time": "2022-07-31T14:56:45.242Z"
   },
   {
    "duration": 297,
    "start_time": "2022-07-31T14:56:47.458Z"
   },
   {
    "duration": 30,
    "start_time": "2022-07-31T14:56:48.326Z"
   },
   {
    "duration": 39,
    "start_time": "2022-07-31T14:56:49.674Z"
   },
   {
    "duration": 32,
    "start_time": "2022-07-31T14:56:50.057Z"
   },
   {
    "duration": 36,
    "start_time": "2022-07-31T14:56:50.361Z"
   },
   {
    "duration": 912,
    "start_time": "2022-07-31T14:56:50.933Z"
   },
   {
    "duration": 897,
    "start_time": "2022-07-31T14:56:52.554Z"
   },
   {
    "duration": 2168,
    "start_time": "2022-07-31T14:56:54.608Z"
   },
   {
    "duration": 2131,
    "start_time": "2022-07-31T14:56:56.778Z"
   },
   {
    "duration": 53,
    "start_time": "2022-07-31T14:56:58.911Z"
   },
   {
    "duration": 2118,
    "start_time": "2022-07-31T14:56:58.966Z"
   },
   {
    "duration": 12,
    "start_time": "2022-07-31T14:57:01.092Z"
   },
   {
    "duration": 2800,
    "start_time": "2022-07-31T14:57:01.110Z"
   },
   {
    "duration": 4918,
    "start_time": "2022-07-31T14:57:03.974Z"
   },
   {
    "duration": 35,
    "start_time": "2022-07-31T14:58:19.608Z"
   },
   {
    "duration": 296,
    "start_time": "2022-07-31T14:58:22.215Z"
   },
   {
    "duration": 30,
    "start_time": "2022-07-31T14:58:29.051Z"
   },
   {
    "duration": 17,
    "start_time": "2022-07-31T14:59:01.895Z"
   },
   {
    "duration": 901,
    "start_time": "2022-07-31T14:59:01.920Z"
   },
   {
    "duration": 16,
    "start_time": "2022-07-31T14:59:02.824Z"
   },
   {
    "duration": 32,
    "start_time": "2022-07-31T14:59:02.842Z"
   },
   {
    "duration": 46,
    "start_time": "2022-07-31T14:59:02.881Z"
   },
   {
    "duration": 13,
    "start_time": "2022-07-31T14:59:02.929Z"
   },
   {
    "duration": 34,
    "start_time": "2022-07-31T14:59:02.943Z"
   },
   {
    "duration": 64,
    "start_time": "2022-07-31T14:59:02.979Z"
   },
   {
    "duration": 317,
    "start_time": "2022-07-31T14:59:03.045Z"
   },
   {
    "duration": 56,
    "start_time": "2022-07-31T14:59:03.364Z"
   },
   {
    "duration": 47,
    "start_time": "2022-07-31T14:59:03.424Z"
   },
   {
    "duration": 59,
    "start_time": "2022-07-31T14:59:03.472Z"
   },
   {
    "duration": 26,
    "start_time": "2022-07-31T14:59:03.533Z"
   },
   {
    "duration": 839,
    "start_time": "2022-07-31T14:59:04.015Z"
   },
   {
    "duration": 903,
    "start_time": "2022-07-31T14:59:04.923Z"
   },
   {
    "duration": 2254,
    "start_time": "2022-07-31T14:59:05.829Z"
   },
   {
    "duration": 2285,
    "start_time": "2022-07-31T14:59:08.085Z"
   },
   {
    "duration": 49,
    "start_time": "2022-07-31T14:59:10.372Z"
   },
   {
    "duration": 2339,
    "start_time": "2022-07-31T14:59:10.423Z"
   },
   {
    "duration": 4,
    "start_time": "2022-07-31T14:59:12.766Z"
   },
   {
    "duration": 4340,
    "start_time": "2022-07-31T14:59:12.773Z"
   },
   {
    "duration": 5167,
    "start_time": "2022-07-31T14:59:17.115Z"
   },
   {
    "duration": 133479,
    "start_time": "2022-07-31T14:59:22.289Z"
   },
   {
    "duration": 63,
    "start_time": "2022-07-31T15:01:35.772Z"
   },
   {
    "duration": 8,
    "start_time": "2022-07-31T15:01:35.837Z"
   },
   {
    "duration": 44,
    "start_time": "2022-07-31T15:02:14.993Z"
   },
   {
    "duration": 27,
    "start_time": "2022-07-31T15:02:39.944Z"
   },
   {
    "duration": 7,
    "start_time": "2022-07-31T15:03:21.264Z"
   },
   {
    "duration": 64,
    "start_time": "2022-07-31T15:06:23.654Z"
   },
   {
    "duration": 41,
    "start_time": "2022-07-31T15:06:39.111Z"
   },
   {
    "duration": 40,
    "start_time": "2022-07-31T15:06:53.666Z"
   },
   {
    "duration": 43,
    "start_time": "2022-07-31T15:06:58.439Z"
   },
   {
    "duration": 50,
    "start_time": "2022-07-31T15:07:19.974Z"
   },
   {
    "duration": 60,
    "start_time": "2022-07-31T15:07:27.157Z"
   },
   {
    "duration": 5,
    "start_time": "2022-07-31T15:07:35.653Z"
   },
   {
    "duration": 856,
    "start_time": "2022-07-31T15:07:36.166Z"
   },
   {
    "duration": 17,
    "start_time": "2022-07-31T15:07:37.024Z"
   },
   {
    "duration": 13,
    "start_time": "2022-07-31T15:07:37.042Z"
   },
   {
    "duration": 26,
    "start_time": "2022-07-31T15:07:37.074Z"
   },
   {
    "duration": 19,
    "start_time": "2022-07-31T15:07:37.105Z"
   },
   {
    "duration": 8,
    "start_time": "2022-07-31T15:07:37.126Z"
   },
   {
    "duration": 7,
    "start_time": "2022-07-31T15:07:37.135Z"
   },
   {
    "duration": 453,
    "start_time": "2022-07-31T15:07:37.268Z"
   },
   {
    "duration": 70,
    "start_time": "2022-07-31T15:07:38.316Z"
   },
   {
    "duration": 40,
    "start_time": "2022-07-31T15:07:39.164Z"
   },
   {
    "duration": 48,
    "start_time": "2022-07-31T15:07:50.772Z"
   },
   {
    "duration": 34,
    "start_time": "2022-07-31T15:08:03.622Z"
   },
   {
    "duration": 33,
    "start_time": "2022-07-31T15:08:14.214Z"
   },
   {
    "duration": 4,
    "start_time": "2022-07-31T15:08:20.628Z"
   },
   {
    "duration": 798,
    "start_time": "2022-07-31T15:08:20.659Z"
   },
   {
    "duration": 39,
    "start_time": "2022-07-31T15:08:21.460Z"
   },
   {
    "duration": 19,
    "start_time": "2022-07-31T15:08:21.505Z"
   },
   {
    "duration": 41,
    "start_time": "2022-07-31T15:08:21.527Z"
   },
   {
    "duration": 8,
    "start_time": "2022-07-31T15:08:21.569Z"
   },
   {
    "duration": 55,
    "start_time": "2022-07-31T15:08:21.581Z"
   },
   {
    "duration": 6,
    "start_time": "2022-07-31T15:08:22.324Z"
   },
   {
    "duration": 267,
    "start_time": "2022-07-31T15:08:24.132Z"
   },
   {
    "duration": 41,
    "start_time": "2022-07-31T15:08:26.052Z"
   },
   {
    "duration": 58,
    "start_time": "2022-07-31T15:08:34.158Z"
   },
   {
    "duration": 45,
    "start_time": "2022-07-31T15:08:39.607Z"
   },
   {
    "duration": 119,
    "start_time": "2022-07-31T15:08:43.824Z"
   },
   {
    "duration": 144,
    "start_time": "2022-07-31T15:09:25.100Z"
   },
   {
    "duration": 292,
    "start_time": "2022-07-31T15:09:53.793Z"
   },
   {
    "duration": 62,
    "start_time": "2022-07-31T15:09:55.261Z"
   },
   {
    "duration": 15,
    "start_time": "2022-07-31T15:10:03.315Z"
   },
   {
    "duration": 29,
    "start_time": "2022-07-31T15:10:09.372Z"
   },
   {
    "duration": 4,
    "start_time": "2022-07-31T15:10:16.364Z"
   },
   {
    "duration": 4,
    "start_time": "2022-07-31T15:11:01.113Z"
   },
   {
    "duration": 972,
    "start_time": "2022-07-31T15:11:01.145Z"
   },
   {
    "duration": 18,
    "start_time": "2022-07-31T15:11:02.119Z"
   },
   {
    "duration": 23,
    "start_time": "2022-07-31T15:11:02.139Z"
   },
   {
    "duration": 65,
    "start_time": "2022-07-31T15:11:02.165Z"
   },
   {
    "duration": 7,
    "start_time": "2022-07-31T15:11:02.251Z"
   },
   {
    "duration": 5,
    "start_time": "2022-07-31T15:11:02.453Z"
   },
   {
    "duration": 6,
    "start_time": "2022-07-31T15:11:05.619Z"
   },
   {
    "duration": 279,
    "start_time": "2022-07-31T15:11:07.453Z"
   },
   {
    "duration": 35,
    "start_time": "2022-07-31T15:11:09.093Z"
   },
   {
    "duration": 4,
    "start_time": "2022-07-31T15:11:09.723Z"
   },
   {
    "duration": 8,
    "start_time": "2022-07-31T15:11:28.408Z"
   },
   {
    "duration": 105,
    "start_time": "2022-07-31T15:12:05.515Z"
   },
   {
    "duration": 5,
    "start_time": "2022-07-31T15:12:07.699Z"
   },
   {
    "duration": 5,
    "start_time": "2022-07-31T15:12:12.923Z"
   },
   {
    "duration": 810,
    "start_time": "2022-07-31T15:12:12.943Z"
   },
   {
    "duration": 34,
    "start_time": "2022-07-31T15:12:13.755Z"
   },
   {
    "duration": 19,
    "start_time": "2022-07-31T15:12:13.790Z"
   },
   {
    "duration": 41,
    "start_time": "2022-07-31T15:12:13.810Z"
   },
   {
    "duration": 6,
    "start_time": "2022-07-31T15:12:13.853Z"
   },
   {
    "duration": 20,
    "start_time": "2022-07-31T15:12:13.860Z"
   },
   {
    "duration": 61,
    "start_time": "2022-07-31T15:12:13.883Z"
   },
   {
    "duration": 315,
    "start_time": "2022-07-31T15:12:15.324Z"
   },
   {
    "duration": 70,
    "start_time": "2022-07-31T15:12:16.636Z"
   },
   {
    "duration": 4,
    "start_time": "2022-07-31T15:12:17.059Z"
   },
   {
    "duration": 18,
    "start_time": "2022-07-31T15:12:30.972Z"
   },
   {
    "duration": 10,
    "start_time": "2022-07-31T15:12:38.527Z"
   },
   {
    "duration": 16,
    "start_time": "2022-07-31T15:12:45.573Z"
   },
   {
    "duration": 5,
    "start_time": "2022-07-31T15:13:15.615Z"
   },
   {
    "duration": 4,
    "start_time": "2022-07-31T15:13:22.434Z"
   },
   {
    "duration": 798,
    "start_time": "2022-07-31T15:13:22.641Z"
   },
   {
    "duration": 16,
    "start_time": "2022-07-31T15:13:23.441Z"
   },
   {
    "duration": 48,
    "start_time": "2022-07-31T15:13:23.458Z"
   },
   {
    "duration": 34,
    "start_time": "2022-07-31T15:13:23.508Z"
   },
   {
    "duration": 8,
    "start_time": "2022-07-31T15:13:24.109Z"
   },
   {
    "duration": 5,
    "start_time": "2022-07-31T15:13:24.319Z"
   },
   {
    "duration": 7,
    "start_time": "2022-07-31T15:13:25.817Z"
   },
   {
    "duration": 277,
    "start_time": "2022-07-31T15:13:27.504Z"
   },
   {
    "duration": 61,
    "start_time": "2022-07-31T15:13:28.509Z"
   },
   {
    "duration": 4,
    "start_time": "2022-07-31T15:13:28.921Z"
   },
   {
    "duration": 44,
    "start_time": "2022-07-31T15:13:43.541Z"
   },
   {
    "duration": 3,
    "start_time": "2022-07-31T15:13:44.043Z"
   },
   {
    "duration": 5,
    "start_time": "2022-07-31T15:13:50.162Z"
   },
   {
    "duration": 848,
    "start_time": "2022-07-31T15:13:50.198Z"
   },
   {
    "duration": 18,
    "start_time": "2022-07-31T15:13:51.048Z"
   },
   {
    "duration": 22,
    "start_time": "2022-07-31T15:13:51.076Z"
   },
   {
    "duration": 46,
    "start_time": "2022-07-31T15:13:51.100Z"
   },
   {
    "duration": 5,
    "start_time": "2022-07-31T15:13:51.147Z"
   },
   {
    "duration": 9,
    "start_time": "2022-07-31T15:13:51.154Z"
   },
   {
    "duration": 10,
    "start_time": "2022-07-31T15:13:51.617Z"
   },
   {
    "duration": 287,
    "start_time": "2022-07-31T15:13:51.817Z"
   },
   {
    "duration": 34,
    "start_time": "2022-07-31T15:13:52.165Z"
   },
   {
    "duration": 4,
    "start_time": "2022-07-31T15:13:52.433Z"
   },
   {
    "duration": 31,
    "start_time": "2022-07-31T15:13:52.720Z"
   },
   {
    "duration": 37,
    "start_time": "2022-07-31T15:13:58.673Z"
   },
   {
    "duration": 12,
    "start_time": "2022-07-31T15:14:10.947Z"
   },
   {
    "duration": 3,
    "start_time": "2022-07-31T15:14:14.265Z"
   },
   {
    "duration": 3,
    "start_time": "2022-07-31T15:14:26.738Z"
   },
   {
    "duration": 7,
    "start_time": "2022-07-31T15:14:35.101Z"
   },
   {
    "duration": 25,
    "start_time": "2022-07-31T15:14:43.919Z"
   },
   {
    "duration": 24,
    "start_time": "2022-07-31T15:16:18.044Z"
   },
   {
    "duration": 34,
    "start_time": "2022-07-31T15:16:27.319Z"
   },
   {
    "duration": 48,
    "start_time": "2022-07-31T15:16:31.139Z"
   },
   {
    "duration": 5,
    "start_time": "2022-07-31T15:16:58.265Z"
   },
   {
    "duration": 900,
    "start_time": "2022-07-31T15:16:58.443Z"
   },
   {
    "duration": 17,
    "start_time": "2022-07-31T15:16:59.345Z"
   },
   {
    "duration": 21,
    "start_time": "2022-07-31T15:16:59.375Z"
   },
   {
    "duration": 55,
    "start_time": "2022-07-31T15:16:59.398Z"
   },
   {
    "duration": 5,
    "start_time": "2022-07-31T15:16:59.852Z"
   },
   {
    "duration": 11,
    "start_time": "2022-07-31T15:17:00.107Z"
   },
   {
    "duration": 8,
    "start_time": "2022-07-31T15:17:01.364Z"
   },
   {
    "duration": 284,
    "start_time": "2022-07-31T15:17:02.755Z"
   },
   {
    "duration": 194,
    "start_time": "2022-07-31T15:17:03.963Z"
   },
   {
    "duration": 17,
    "start_time": "2022-07-31T15:17:05.251Z"
   },
   {
    "duration": 42,
    "start_time": "2022-07-31T15:17:34.518Z"
   },
   {
    "duration": 12,
    "start_time": "2022-07-31T15:17:54.058Z"
   },
   {
    "duration": 5,
    "start_time": "2022-07-31T15:18:10.717Z"
   },
   {
    "duration": 8,
    "start_time": "2022-07-31T15:18:24.870Z"
   },
   {
    "duration": 4,
    "start_time": "2022-07-31T15:18:32.851Z"
   },
   {
    "duration": 10,
    "start_time": "2022-07-31T15:19:18.293Z"
   },
   {
    "duration": 5,
    "start_time": "2022-07-31T15:19:33.555Z"
   },
   {
    "duration": 6,
    "start_time": "2022-07-31T15:19:37.348Z"
   },
   {
    "duration": 5,
    "start_time": "2022-07-31T15:19:40.835Z"
   },
   {
    "duration": 194,
    "start_time": "2022-07-31T15:19:42.813Z"
   },
   {
    "duration": 6,
    "start_time": "2022-07-31T15:20:07.325Z"
   },
   {
    "duration": 26,
    "start_time": "2022-07-31T15:22:35.549Z"
   },
   {
    "duration": 31,
    "start_time": "2022-07-31T15:22:40.713Z"
   },
   {
    "duration": 4,
    "start_time": "2022-07-31T15:22:45.543Z"
   },
   {
    "duration": 897,
    "start_time": "2022-07-31T15:22:45.589Z"
   },
   {
    "duration": 31,
    "start_time": "2022-07-31T15:22:46.487Z"
   },
   {
    "duration": 21,
    "start_time": "2022-07-31T15:22:46.526Z"
   },
   {
    "duration": 17,
    "start_time": "2022-07-31T15:22:46.549Z"
   },
   {
    "duration": 6,
    "start_time": "2022-07-31T15:22:48.131Z"
   },
   {
    "duration": 22,
    "start_time": "2022-07-31T15:22:48.371Z"
   },
   {
    "duration": 7,
    "start_time": "2022-07-31T15:22:50.467Z"
   },
   {
    "duration": 293,
    "start_time": "2022-07-31T15:22:52.235Z"
   },
   {
    "duration": 36,
    "start_time": "2022-07-31T15:22:53.563Z"
   },
   {
    "duration": 30,
    "start_time": "2022-07-31T15:22:54.314Z"
   },
   {
    "duration": 11,
    "start_time": "2022-07-31T15:23:03.053Z"
   },
   {
    "duration": 203,
    "start_time": "2022-07-31T15:23:33.268Z"
   },
   {
    "duration": 11,
    "start_time": "2022-07-31T15:23:33.629Z"
   },
   {
    "duration": 15,
    "start_time": "2022-07-31T15:26:42.699Z"
   },
   {
    "duration": 9,
    "start_time": "2022-07-31T15:27:28.415Z"
   },
   {
    "duration": 6,
    "start_time": "2022-07-31T15:28:34.461Z"
   },
   {
    "duration": 4,
    "start_time": "2022-07-31T15:29:47.852Z"
   },
   {
    "duration": 279,
    "start_time": "2022-07-31T15:30:12.356Z"
   },
   {
    "duration": 27,
    "start_time": "2022-07-31T15:31:27.691Z"
   },
   {
    "duration": 19,
    "start_time": "2022-07-31T15:31:37.444Z"
   },
   {
    "duration": 29,
    "start_time": "2022-07-31T15:34:11.655Z"
   },
   {
    "duration": 6,
    "start_time": "2022-07-31T15:34:47.352Z"
   },
   {
    "duration": 8,
    "start_time": "2022-07-31T15:34:58.730Z"
   },
   {
    "duration": 12,
    "start_time": "2022-07-31T15:37:39.859Z"
   },
   {
    "duration": 584,
    "start_time": "2022-07-31T15:37:52.531Z"
   },
   {
    "duration": 13,
    "start_time": "2022-07-31T15:37:55.059Z"
   },
   {
    "duration": 23,
    "start_time": "2022-07-31T15:37:58.447Z"
   },
   {
    "duration": 9,
    "start_time": "2022-07-31T15:38:07.527Z"
   },
   {
    "duration": 5,
    "start_time": "2022-07-31T15:38:16.961Z"
   },
   {
    "duration": 4,
    "start_time": "2022-07-31T15:39:23.761Z"
   },
   {
    "duration": 21,
    "start_time": "2022-07-31T15:39:30.505Z"
   },
   {
    "duration": 50,
    "start_time": "2022-07-31T15:40:03.873Z"
   },
   {
    "duration": 36,
    "start_time": "2022-07-31T15:40:16.914Z"
   },
   {
    "duration": 47,
    "start_time": "2022-07-31T15:40:59.873Z"
   },
   {
    "duration": 433,
    "start_time": "2022-07-31T15:41:42.388Z"
   },
   {
    "duration": 492,
    "start_time": "2022-07-31T15:41:52.590Z"
   },
   {
    "duration": 479,
    "start_time": "2022-07-31T15:45:26.354Z"
   },
   {
    "duration": 382,
    "start_time": "2022-07-31T15:45:36.273Z"
   },
   {
    "duration": 414,
    "start_time": "2022-07-31T15:45:52.462Z"
   },
   {
    "duration": 356,
    "start_time": "2022-07-31T15:46:22.928Z"
   },
   {
    "duration": 10,
    "start_time": "2022-07-31T15:47:04.617Z"
   },
   {
    "duration": 12,
    "start_time": "2022-07-31T15:47:11.926Z"
   },
   {
    "duration": 4,
    "start_time": "2022-07-31T15:47:16.559Z"
   },
   {
    "duration": 789,
    "start_time": "2022-07-31T15:47:16.779Z"
   },
   {
    "duration": 26,
    "start_time": "2022-07-31T15:47:17.572Z"
   },
   {
    "duration": 31,
    "start_time": "2022-07-31T15:47:17.605Z"
   },
   {
    "duration": 18,
    "start_time": "2022-07-31T15:47:17.753Z"
   },
   {
    "duration": 6,
    "start_time": "2022-07-31T15:47:18.548Z"
   },
   {
    "duration": 7,
    "start_time": "2022-07-31T15:47:18.829Z"
   },
   {
    "duration": 9,
    "start_time": "2022-07-31T15:47:20.104Z"
   },
   {
    "duration": 310,
    "start_time": "2022-07-31T15:47:21.747Z"
   },
   {
    "duration": 5,
    "start_time": "2022-07-31T15:47:23.402Z"
   },
   {
    "duration": 372,
    "start_time": "2022-07-31T15:47:24.166Z"
   },
   {
    "duration": 39,
    "start_time": "2022-07-31T15:47:28.091Z"
   },
   {
    "duration": 73,
    "start_time": "2022-07-31T15:47:30.975Z"
   },
   {
    "duration": 44,
    "start_time": "2022-07-31T15:47:31.053Z"
   },
   {
    "duration": 35,
    "start_time": "2022-07-31T15:47:31.101Z"
   },
   {
    "duration": 944,
    "start_time": "2022-07-31T15:47:31.139Z"
   },
   {
    "duration": 923,
    "start_time": "2022-07-31T15:47:32.087Z"
   },
   {
    "duration": 2440,
    "start_time": "2022-07-31T15:47:33.018Z"
   },
   {
    "duration": 2423,
    "start_time": "2022-07-31T15:47:35.460Z"
   },
   {
    "duration": 71,
    "start_time": "2022-07-31T15:47:37.887Z"
   },
   {
    "duration": 2467,
    "start_time": "2022-07-31T15:47:37.960Z"
   },
   {
    "duration": 5,
    "start_time": "2022-07-31T15:47:40.429Z"
   },
   {
    "duration": 16,
    "start_time": "2022-07-31T15:47:40.436Z"
   },
   {
    "duration": 0,
    "start_time": "2022-07-31T15:47:40.454Z"
   },
   {
    "duration": 0,
    "start_time": "2022-07-31T15:47:40.455Z"
   },
   {
    "duration": 0,
    "start_time": "2022-07-31T15:47:40.478Z"
   },
   {
    "duration": 8828,
    "start_time": "2022-07-31T15:48:05.705Z"
   },
   {
    "duration": 6394,
    "start_time": "2022-07-31T15:48:14.535Z"
   },
   {
    "duration": 156895,
    "start_time": "2022-07-31T15:48:20.931Z"
   },
   {
    "duration": 61,
    "start_time": "2022-07-31T15:50:57.829Z"
   },
   {
    "duration": 0,
    "start_time": "2022-07-31T15:55:06.730Z"
   },
   {
    "duration": 5,
    "start_time": "2022-07-31T15:55:08.725Z"
   },
   {
    "duration": 968,
    "start_time": "2022-07-31T15:55:08.768Z"
   },
   {
    "duration": 17,
    "start_time": "2022-07-31T15:55:09.739Z"
   },
   {
    "duration": 94,
    "start_time": "2022-07-31T15:55:09.758Z"
   },
   {
    "duration": 47,
    "start_time": "2022-07-31T15:55:09.854Z"
   },
   {
    "duration": 39,
    "start_time": "2022-07-31T15:55:09.903Z"
   },
   {
    "duration": 34,
    "start_time": "2022-07-31T15:55:09.944Z"
   },
   {
    "duration": 52,
    "start_time": "2022-07-31T15:55:09.980Z"
   },
   {
    "duration": 308,
    "start_time": "2022-07-31T15:55:10.033Z"
   },
   {
    "duration": 3,
    "start_time": "2022-07-31T15:55:10.343Z"
   },
   {
    "duration": 485,
    "start_time": "2022-07-31T15:55:10.349Z"
   },
   {
    "duration": 44,
    "start_time": "2022-07-31T15:55:10.841Z"
   },
   {
    "duration": 43,
    "start_time": "2022-07-31T15:55:10.887Z"
   },
   {
    "duration": 55,
    "start_time": "2022-07-31T15:55:10.931Z"
   },
   {
    "duration": 74,
    "start_time": "2022-07-31T15:55:10.988Z"
   },
   {
    "duration": 1140,
    "start_time": "2022-07-31T15:55:11.064Z"
   },
   {
    "duration": 832,
    "start_time": "2022-07-31T15:55:12.209Z"
   },
   {
    "duration": 2528,
    "start_time": "2022-07-31T15:55:13.042Z"
   },
   {
    "duration": 2183,
    "start_time": "2022-07-31T15:55:15.577Z"
   },
   {
    "duration": 60,
    "start_time": "2022-07-31T15:55:17.762Z"
   },
   {
    "duration": 2376,
    "start_time": "2022-07-31T15:55:17.825Z"
   },
   {
    "duration": 9,
    "start_time": "2022-07-31T15:55:20.203Z"
   },
   {
    "duration": 10806,
    "start_time": "2022-07-31T15:55:20.213Z"
   },
   {
    "duration": 6306,
    "start_time": "2022-07-31T15:55:31.024Z"
   },
   {
    "duration": 364592,
    "start_time": "2022-07-31T15:55:37.332Z"
   },
   {
    "duration": 66,
    "start_time": "2022-07-31T16:01:41.930Z"
   },
   {
    "duration": 4,
    "start_time": "2022-07-31T16:01:42.002Z"
   },
   {
    "duration": 78,
    "start_time": "2022-07-31T16:01:42.008Z"
   },
   {
    "duration": 358327,
    "start_time": "2022-07-31T16:25:25.270Z"
   },
   {
    "duration": 9076,
    "start_time": "2022-07-31T16:32:33.627Z"
   },
   {
    "duration": 45,
    "start_time": "2022-07-31T16:35:28.725Z"
   },
   {
    "duration": 1697,
    "start_time": "2022-07-31T16:35:34.268Z"
   },
   {
    "duration": 4,
    "start_time": "2022-07-31T16:36:37.854Z"
   },
   {
    "duration": 29651,
    "start_time": "2022-07-31T16:38:19.705Z"
   },
   {
    "duration": 0,
    "start_time": "2022-07-31T16:40:31.358Z"
   },
   {
    "duration": 5,
    "start_time": "2022-07-31T16:43:42.059Z"
   },
   {
    "duration": 18,
    "start_time": "2022-07-31T16:44:01.702Z"
   },
   {
    "duration": 0,
    "start_time": "2022-07-31T16:46:42.468Z"
   },
   {
    "duration": 137852,
    "start_time": "2022-07-31T16:46:59.814Z"
   },
   {
    "duration": 0,
    "start_time": "2022-07-31T16:56:17.529Z"
   },
   {
    "duration": 7,
    "start_time": "2022-07-31T16:56:18.811Z"
   },
   {
    "duration": 933,
    "start_time": "2022-07-31T16:56:19.008Z"
   },
   {
    "duration": 17,
    "start_time": "2022-07-31T16:56:19.946Z"
   },
   {
    "duration": 13,
    "start_time": "2022-07-31T16:56:20.049Z"
   },
   {
    "duration": 29,
    "start_time": "2022-07-31T16:56:20.396Z"
   },
   {
    "duration": 13,
    "start_time": "2022-07-31T16:56:21.567Z"
   },
   {
    "duration": 12,
    "start_time": "2022-07-31T16:56:21.899Z"
   },
   {
    "duration": 6,
    "start_time": "2022-07-31T16:56:23.553Z"
   },
   {
    "duration": 290,
    "start_time": "2022-07-31T16:56:25.041Z"
   },
   {
    "duration": 2,
    "start_time": "2022-07-31T16:56:26.241Z"
   },
   {
    "duration": 407,
    "start_time": "2022-07-31T16:56:26.272Z"
   },
   {
    "duration": 35,
    "start_time": "2022-07-31T16:56:26.681Z"
   },
   {
    "duration": 70,
    "start_time": "2022-07-31T16:56:26.719Z"
   },
   {
    "duration": 30,
    "start_time": "2022-07-31T16:56:26.791Z"
   },
   {
    "duration": 38,
    "start_time": "2022-07-31T16:56:26.825Z"
   },
   {
    "duration": 895,
    "start_time": "2022-07-31T16:56:27.258Z"
   },
   {
    "duration": 1048,
    "start_time": "2022-07-31T16:56:28.155Z"
   },
   {
    "duration": 2352,
    "start_time": "2022-07-31T16:56:29.208Z"
   },
   {
    "duration": 2262,
    "start_time": "2022-07-31T16:56:31.562Z"
   },
   {
    "duration": 219,
    "start_time": "2022-07-31T16:56:33.827Z"
   },
   {
    "duration": 2398,
    "start_time": "2022-07-31T16:56:34.048Z"
   },
   {
    "duration": 3,
    "start_time": "2022-07-31T16:56:36.448Z"
   },
   {
    "duration": 10388,
    "start_time": "2022-07-31T16:56:36.453Z"
   },
   {
    "duration": 6888,
    "start_time": "2022-07-31T16:56:46.843Z"
   },
   {
    "duration": 369500,
    "start_time": "2022-07-31T16:56:53.736Z"
   },
   {
    "duration": 68,
    "start_time": "2022-07-31T17:03:03.238Z"
   },
   {
    "duration": 30321,
    "start_time": "2022-07-31T17:03:03.311Z"
   },
   {
    "duration": 30018,
    "start_time": "2022-07-31T17:05:41.218Z"
   },
   {
    "duration": 37165,
    "start_time": "2022-07-31T17:06:11.702Z"
   },
   {
    "duration": 11196,
    "start_time": "2022-07-31T17:06:54.416Z"
   },
   {
    "duration": 9569,
    "start_time": "2022-07-31T17:09:49.512Z"
   },
   {
    "duration": 36975,
    "start_time": "2022-07-31T17:10:12.395Z"
   },
   {
    "duration": 38247,
    "start_time": "2022-07-31T17:11:06.847Z"
   },
   {
    "duration": 37080,
    "start_time": "2022-07-31T17:12:45.065Z"
   },
   {
    "duration": 36481,
    "start_time": "2022-07-31T17:14:30.799Z"
   },
   {
    "duration": 1521,
    "start_time": "2022-08-01T15:46:33.313Z"
   },
   {
    "duration": 3601,
    "start_time": "2022-08-01T15:46:34.837Z"
   },
   {
    "duration": 20,
    "start_time": "2022-08-01T15:46:38.440Z"
   },
   {
    "duration": 14,
    "start_time": "2022-08-01T15:46:38.463Z"
   },
   {
    "duration": 17,
    "start_time": "2022-08-01T15:46:38.479Z"
   },
   {
    "duration": 7,
    "start_time": "2022-08-01T15:46:38.498Z"
   },
   {
    "duration": 31,
    "start_time": "2022-08-01T15:46:38.506Z"
   },
   {
    "duration": 7,
    "start_time": "2022-08-01T15:46:38.538Z"
   },
   {
    "duration": 341,
    "start_time": "2022-08-01T15:46:38.547Z"
   },
   {
    "duration": 2,
    "start_time": "2022-08-01T15:46:38.892Z"
   },
   {
    "duration": 378,
    "start_time": "2022-08-01T15:46:38.896Z"
   },
   {
    "duration": 29,
    "start_time": "2022-08-01T15:46:39.275Z"
   },
   {
    "duration": 44,
    "start_time": "2022-08-01T15:46:39.306Z"
   },
   {
    "duration": 24,
    "start_time": "2022-08-01T15:46:39.352Z"
   },
   {
    "duration": 27,
    "start_time": "2022-08-01T15:46:39.377Z"
   },
   {
    "duration": 839,
    "start_time": "2022-08-01T15:46:39.406Z"
   },
   {
    "duration": 790,
    "start_time": "2022-08-01T15:46:40.247Z"
   },
   {
    "duration": 1972,
    "start_time": "2022-08-01T15:46:41.039Z"
   },
   {
    "duration": 1968,
    "start_time": "2022-08-01T15:46:43.013Z"
   },
   {
    "duration": 60,
    "start_time": "2022-08-01T15:46:44.983Z"
   },
   {
    "duration": 2097,
    "start_time": "2022-08-01T15:46:45.045Z"
   },
   {
    "duration": 4,
    "start_time": "2022-08-01T15:46:47.144Z"
   },
   {
    "duration": 1997,
    "start_time": "2022-08-01T15:46:47.149Z"
   },
   {
    "duration": 6171,
    "start_time": "2022-08-01T15:46:49.148Z"
   },
   {
    "duration": 0,
    "start_time": "2022-08-01T15:52:45.119Z"
   },
   {
    "duration": 0,
    "start_time": "2022-08-01T15:52:45.120Z"
   },
   {
    "duration": 0,
    "start_time": "2022-08-01T15:52:45.120Z"
   },
   {
    "duration": 0,
    "start_time": "2022-08-01T15:52:45.137Z"
   },
   {
    "duration": 0,
    "start_time": "2022-08-01T15:52:45.139Z"
   },
   {
    "duration": 0,
    "start_time": "2022-08-01T15:52:45.140Z"
   },
   {
    "duration": 0,
    "start_time": "2022-08-01T15:52:45.145Z"
   },
   {
    "duration": 0,
    "start_time": "2022-08-01T15:52:45.146Z"
   },
   {
    "duration": 0,
    "start_time": "2022-08-01T15:52:45.147Z"
   },
   {
    "duration": 0,
    "start_time": "2022-08-01T15:52:45.149Z"
   },
   {
    "duration": 0,
    "start_time": "2022-08-01T15:52:45.150Z"
   },
   {
    "duration": 0,
    "start_time": "2022-08-01T15:52:45.155Z"
   },
   {
    "duration": 0,
    "start_time": "2022-08-01T15:52:45.156Z"
   },
   {
    "duration": 0,
    "start_time": "2022-08-01T15:52:45.157Z"
   },
   {
    "duration": 0,
    "start_time": "2022-08-01T15:52:45.159Z"
   },
   {
    "duration": 0,
    "start_time": "2022-08-01T15:52:45.160Z"
   },
   {
    "duration": 0,
    "start_time": "2022-08-01T15:52:45.161Z"
   },
   {
    "duration": 0,
    "start_time": "2022-08-01T15:52:45.163Z"
   },
   {
    "duration": 0,
    "start_time": "2022-08-01T15:52:45.165Z"
   },
   {
    "duration": 0,
    "start_time": "2022-08-01T15:52:45.167Z"
   },
   {
    "duration": 0,
    "start_time": "2022-08-01T15:52:45.168Z"
   },
   {
    "duration": 0,
    "start_time": "2022-08-01T15:52:45.169Z"
   },
   {
    "duration": 0,
    "start_time": "2022-08-01T15:52:45.170Z"
   },
   {
    "duration": 0,
    "start_time": "2022-08-01T15:52:45.171Z"
   },
   {
    "duration": 0,
    "start_time": "2022-08-01T15:52:45.172Z"
   },
   {
    "duration": 0,
    "start_time": "2022-08-01T15:52:45.173Z"
   },
   {
    "duration": 0,
    "start_time": "2022-08-01T15:52:45.175Z"
   },
   {
    "duration": 5,
    "start_time": "2022-08-01T15:52:46.571Z"
   },
   {
    "duration": 898,
    "start_time": "2022-08-01T15:52:46.853Z"
   },
   {
    "duration": 19,
    "start_time": "2022-08-01T15:52:47.755Z"
   },
   {
    "duration": 12,
    "start_time": "2022-08-01T15:52:47.775Z"
   },
   {
    "duration": 17,
    "start_time": "2022-08-01T15:52:47.913Z"
   },
   {
    "duration": 8,
    "start_time": "2022-08-01T15:52:48.958Z"
   },
   {
    "duration": 5,
    "start_time": "2022-08-01T15:52:49.125Z"
   },
   {
    "duration": 6,
    "start_time": "2022-08-01T15:52:50.210Z"
   },
   {
    "duration": 6,
    "start_time": "2022-08-01T15:53:01.617Z"
   },
   {
    "duration": 6,
    "start_time": "2022-08-01T15:53:10.157Z"
   },
   {
    "duration": 5,
    "start_time": "2022-08-01T15:53:23.828Z"
   },
   {
    "duration": 324,
    "start_time": "2022-08-01T15:53:25.100Z"
   },
   {
    "duration": 14,
    "start_time": "2022-08-01T15:53:25.426Z"
   },
   {
    "duration": 453,
    "start_time": "2022-08-01T15:53:25.442Z"
   },
   {
    "duration": 29,
    "start_time": "2022-08-01T15:53:25.897Z"
   },
   {
    "duration": 38,
    "start_time": "2022-08-01T15:53:25.938Z"
   },
   {
    "duration": 26,
    "start_time": "2022-08-01T15:53:25.978Z"
   },
   {
    "duration": 64,
    "start_time": "2022-08-01T15:53:26.005Z"
   },
   {
    "duration": 1117,
    "start_time": "2022-08-01T15:53:26.071Z"
   },
   {
    "duration": 873,
    "start_time": "2022-08-01T15:53:27.189Z"
   },
   {
    "duration": 2666,
    "start_time": "2022-08-01T15:53:28.064Z"
   },
   {
    "duration": 2172,
    "start_time": "2022-08-01T15:53:30.738Z"
   },
   {
    "duration": 69,
    "start_time": "2022-08-01T15:53:32.912Z"
   },
   {
    "duration": 2414,
    "start_time": "2022-08-01T15:53:32.984Z"
   },
   {
    "duration": 5,
    "start_time": "2022-08-01T15:53:35.400Z"
   },
   {
    "duration": 5552,
    "start_time": "2022-08-01T15:53:35.406Z"
   },
   {
    "duration": 6455,
    "start_time": "2022-08-01T15:53:40.963Z"
   },
   {
    "duration": 382444,
    "start_time": "2022-08-01T15:53:47.420Z"
   },
   {
    "duration": 0,
    "start_time": "2022-08-01T16:00:09.866Z"
   },
   {
    "duration": 0,
    "start_time": "2022-08-01T16:00:09.870Z"
   },
   {
    "duration": 380794,
    "start_time": "2022-08-01T16:05:58.818Z"
   },
   {
    "duration": 63,
    "start_time": "2022-08-01T16:12:19.614Z"
   },
   {
    "duration": 15,
    "start_time": "2022-08-01T16:12:19.679Z"
   },
   {
    "duration": 10,
    "start_time": "2022-08-01T16:21:16.080Z"
   },
   {
    "duration": 11,
    "start_time": "2022-08-01T16:21:32.539Z"
   },
   {
    "duration": 877,
    "start_time": "2022-08-01T16:21:45.757Z"
   },
   {
    "duration": 11,
    "start_time": "2022-08-01T16:22:05.334Z"
   },
   {
    "duration": 6,
    "start_time": "2022-08-01T16:22:13.275Z"
   },
   {
    "duration": 740,
    "start_time": "2022-08-01T16:22:13.309Z"
   },
   {
    "duration": 17,
    "start_time": "2022-08-01T16:22:14.051Z"
   },
   {
    "duration": 12,
    "start_time": "2022-08-01T16:22:14.070Z"
   },
   {
    "duration": 19,
    "start_time": "2022-08-01T16:22:14.084Z"
   },
   {
    "duration": 5,
    "start_time": "2022-08-01T16:22:14.105Z"
   },
   {
    "duration": 10,
    "start_time": "2022-08-01T16:22:14.137Z"
   },
   {
    "duration": 13,
    "start_time": "2022-08-01T16:22:14.148Z"
   },
   {
    "duration": 301,
    "start_time": "2022-08-01T16:22:14.163Z"
   },
   {
    "duration": 2,
    "start_time": "2022-08-01T16:22:14.466Z"
   },
   {
    "duration": 396,
    "start_time": "2022-08-01T16:22:14.470Z"
   },
   {
    "duration": 28,
    "start_time": "2022-08-01T16:22:14.867Z"
   },
   {
    "duration": 41,
    "start_time": "2022-08-01T16:22:14.897Z"
   },
   {
    "duration": 26,
    "start_time": "2022-08-01T16:22:14.940Z"
   },
   {
    "duration": 37,
    "start_time": "2022-08-01T16:22:14.968Z"
   },
   {
    "duration": 884,
    "start_time": "2022-08-01T16:22:15.008Z"
   },
   {
    "duration": 917,
    "start_time": "2022-08-01T16:22:15.894Z"
   },
   {
    "duration": 2244,
    "start_time": "2022-08-01T16:22:16.949Z"
   },
   {
    "duration": 2027,
    "start_time": "2022-08-01T16:22:19.196Z"
   },
   {
    "duration": 157,
    "start_time": "2022-08-01T16:22:21.225Z"
   },
   {
    "duration": 2104,
    "start_time": "2022-08-01T16:22:21.385Z"
   },
   {
    "duration": 4,
    "start_time": "2022-08-01T16:22:23.490Z"
   },
   {
    "duration": 2147,
    "start_time": "2022-08-01T16:22:23.496Z"
   },
   {
    "duration": 6170,
    "start_time": "2022-08-01T16:22:25.646Z"
   },
   {
    "duration": 372627,
    "start_time": "2022-08-01T16:22:31.818Z"
   },
   {
    "duration": 57,
    "start_time": "2022-08-01T16:28:44.447Z"
   },
   {
    "duration": 31,
    "start_time": "2022-08-01T16:28:44.507Z"
   },
   {
    "duration": 10,
    "start_time": "2022-08-01T16:35:51.542Z"
   },
   {
    "duration": 4,
    "start_time": "2022-08-01T16:36:12.711Z"
   },
   {
    "duration": 772,
    "start_time": "2022-08-01T16:36:12.739Z"
   },
   {
    "duration": 24,
    "start_time": "2022-08-01T16:36:13.513Z"
   },
   {
    "duration": 13,
    "start_time": "2022-08-01T16:36:13.538Z"
   },
   {
    "duration": 17,
    "start_time": "2022-08-01T16:36:13.553Z"
   },
   {
    "duration": 5,
    "start_time": "2022-08-01T16:36:13.571Z"
   },
   {
    "duration": 7,
    "start_time": "2022-08-01T16:36:13.578Z"
   },
   {
    "duration": 5,
    "start_time": "2022-08-01T16:36:13.587Z"
   },
   {
    "duration": 311,
    "start_time": "2022-08-01T16:36:13.594Z"
   },
   {
    "duration": 3,
    "start_time": "2022-08-01T16:36:14.173Z"
   },
   {
    "duration": 329,
    "start_time": "2022-08-01T16:36:14.416Z"
   },
   {
    "duration": 34,
    "start_time": "2022-08-01T16:36:14.920Z"
   },
   {
    "duration": 39,
    "start_time": "2022-08-01T16:36:15.629Z"
   },
   {
    "duration": 26,
    "start_time": "2022-08-01T16:36:15.844Z"
   },
   {
    "duration": 35,
    "start_time": "2022-08-01T16:36:16.054Z"
   },
   {
    "duration": 816,
    "start_time": "2022-08-01T16:36:16.597Z"
   },
   {
    "duration": 855,
    "start_time": "2022-08-01T16:36:17.415Z"
   },
   {
    "duration": 2223,
    "start_time": "2022-08-01T16:36:18.272Z"
   },
   {
    "duration": 2111,
    "start_time": "2022-08-01T16:36:20.497Z"
   },
   {
    "duration": 44,
    "start_time": "2022-08-01T16:36:22.610Z"
   },
   {
    "duration": 2114,
    "start_time": "2022-08-01T16:36:22.656Z"
   },
   {
    "duration": 4,
    "start_time": "2022-08-01T16:36:24.771Z"
   },
   {
    "duration": 1862,
    "start_time": "2022-08-01T16:36:24.776Z"
   },
   {
    "duration": 6179,
    "start_time": "2022-08-01T16:36:26.641Z"
   },
   {
    "duration": 371794,
    "start_time": "2022-08-01T16:36:32.822Z"
   },
   {
    "duration": 0,
    "start_time": "2022-08-01T16:42:44.737Z"
   },
   {
    "duration": 0,
    "start_time": "2022-08-01T16:42:44.739Z"
   },
   {
    "duration": 0,
    "start_time": "2022-08-01T16:42:44.740Z"
   },
   {
    "duration": 55,
    "start_time": "2022-08-01T16:42:58.611Z"
   },
   {
    "duration": 9,
    "start_time": "2022-08-01T16:43:01.279Z"
   },
   {
    "duration": 14,
    "start_time": "2022-08-01T16:43:02.714Z"
   },
   {
    "duration": 14,
    "start_time": "2022-08-01T16:43:17.133Z"
   },
   {
    "duration": 15,
    "start_time": "2022-08-01T16:43:31.244Z"
   },
   {
    "duration": 19,
    "start_time": "2022-08-01T16:44:22.354Z"
   },
   {
    "duration": 15,
    "start_time": "2022-08-01T16:44:33.666Z"
   },
   {
    "duration": 15,
    "start_time": "2022-08-01T16:44:36.650Z"
   },
   {
    "duration": 27,
    "start_time": "2022-08-01T16:44:45.924Z"
   },
   {
    "duration": 23,
    "start_time": "2022-08-01T16:44:49.274Z"
   },
   {
    "duration": 760,
    "start_time": "2022-08-01T16:44:52.768Z"
   },
   {
    "duration": 798,
    "start_time": "2022-08-01T16:44:57.690Z"
   },
   {
    "duration": 807,
    "start_time": "2022-08-01T16:45:13.379Z"
   },
   {
    "duration": 814,
    "start_time": "2022-08-01T16:45:27.164Z"
   },
   {
    "duration": 9,
    "start_time": "2022-08-01T16:45:32.536Z"
   },
   {
    "duration": 876,
    "start_time": "2022-08-01T16:45:36.936Z"
   },
   {
    "duration": 742,
    "start_time": "2022-08-01T16:46:08.300Z"
   },
   {
    "duration": 1103,
    "start_time": "2022-08-01T16:46:31.739Z"
   },
   {
    "duration": 1089,
    "start_time": "2022-08-01T16:46:40.824Z"
   },
   {
    "duration": 818,
    "start_time": "2022-08-01T16:46:52.546Z"
   },
   {
    "duration": 3,
    "start_time": "2022-08-01T16:47:03.027Z"
   },
   {
    "duration": 221,
    "start_time": "2022-08-01T16:47:06.513Z"
   },
   {
    "duration": 3,
    "start_time": "2022-08-01T16:48:06.833Z"
   },
   {
    "duration": 1572,
    "start_time": "2022-08-01T16:48:07.258Z"
   },
   {
    "duration": 1535,
    "start_time": "2022-08-01T16:48:50.106Z"
   },
   {
    "duration": 1525,
    "start_time": "2022-08-01T16:49:06.993Z"
   },
   {
    "duration": 1574,
    "start_time": "2022-08-01T17:07:51.958Z"
   },
   {
    "duration": 1580,
    "start_time": "2022-08-01T17:08:23.878Z"
   },
   {
    "duration": 1560,
    "start_time": "2022-08-01T17:08:34.756Z"
   },
   {
    "duration": 1542,
    "start_time": "2022-08-01T17:08:54.020Z"
   },
   {
    "duration": 1611,
    "start_time": "2022-08-01T17:10:38.372Z"
   },
   {
    "duration": 1521,
    "start_time": "2022-08-01T17:10:49.452Z"
   },
   {
    "duration": 1566,
    "start_time": "2022-08-01T17:11:59.211Z"
   },
   {
    "duration": 1537,
    "start_time": "2022-08-01T17:12:13.731Z"
   },
   {
    "duration": 1569,
    "start_time": "2022-08-01T17:12:58.939Z"
   },
   {
    "duration": 1537,
    "start_time": "2022-08-01T17:14:05.305Z"
   },
   {
    "duration": 1564,
    "start_time": "2022-08-02T16:14:17.034Z"
   },
   {
    "duration": 4184,
    "start_time": "2022-08-02T16:14:18.601Z"
   },
   {
    "duration": 21,
    "start_time": "2022-08-02T16:14:22.787Z"
   },
   {
    "duration": 13,
    "start_time": "2022-08-02T16:14:22.810Z"
   },
   {
    "duration": 19,
    "start_time": "2022-08-02T16:14:22.825Z"
   },
   {
    "duration": 6,
    "start_time": "2022-08-02T16:14:22.846Z"
   },
   {
    "duration": 12,
    "start_time": "2022-08-02T16:14:22.854Z"
   },
   {
    "duration": 38,
    "start_time": "2022-08-02T16:14:22.867Z"
   },
   {
    "duration": 339,
    "start_time": "2022-08-02T16:14:22.907Z"
   },
   {
    "duration": 2,
    "start_time": "2022-08-02T16:14:23.249Z"
   },
   {
    "duration": 359,
    "start_time": "2022-08-02T16:14:23.253Z"
   },
   {
    "duration": 32,
    "start_time": "2022-08-02T16:14:23.614Z"
   },
   {
    "duration": 57,
    "start_time": "2022-08-02T16:14:23.648Z"
   },
   {
    "duration": 29,
    "start_time": "2022-08-02T16:14:23.706Z"
   },
   {
    "duration": 40,
    "start_time": "2022-08-02T16:14:23.736Z"
   },
   {
    "duration": 973,
    "start_time": "2022-08-02T16:14:23.779Z"
   },
   {
    "duration": 946,
    "start_time": "2022-08-02T16:14:24.755Z"
   },
   {
    "duration": 2533,
    "start_time": "2022-08-02T16:14:25.703Z"
   },
   {
    "duration": 2545,
    "start_time": "2022-08-02T16:14:28.238Z"
   },
   {
    "duration": 82,
    "start_time": "2022-08-02T16:14:30.786Z"
   },
   {
    "duration": 2434,
    "start_time": "2022-08-02T16:14:30.870Z"
   },
   {
    "duration": 5,
    "start_time": "2022-08-02T16:14:33.306Z"
   },
   {
    "duration": 2194,
    "start_time": "2022-08-02T16:14:33.313Z"
   },
   {
    "duration": 6603,
    "start_time": "2022-08-02T16:14:35.602Z"
   },
   {
    "duration": 386761,
    "start_time": "2022-08-02T16:14:42.207Z"
   },
   {
    "duration": 91,
    "start_time": "2022-08-02T16:21:08.971Z"
   },
   {
    "duration": 293,
    "start_time": "2022-08-02T16:21:09.065Z"
   },
   {
    "duration": 5,
    "start_time": "2022-08-02T16:37:15.822Z"
   },
   {
    "duration": 830,
    "start_time": "2022-08-02T16:37:16.325Z"
   },
   {
    "duration": 22,
    "start_time": "2022-08-02T16:37:17.157Z"
   },
   {
    "duration": 33,
    "start_time": "2022-08-02T16:37:17.181Z"
   },
   {
    "duration": 39,
    "start_time": "2022-08-02T16:37:17.217Z"
   },
   {
    "duration": 13,
    "start_time": "2022-08-02T16:37:17.258Z"
   },
   {
    "duration": 40,
    "start_time": "2022-08-02T16:37:17.273Z"
   },
   {
    "duration": 21,
    "start_time": "2022-08-02T16:37:17.314Z"
   },
   {
    "duration": 333,
    "start_time": "2022-08-02T16:37:17.338Z"
   },
   {
    "duration": 2,
    "start_time": "2022-08-02T16:37:17.673Z"
   },
   {
    "duration": 379,
    "start_time": "2022-08-02T16:37:17.679Z"
   },
   {
    "duration": 30,
    "start_time": "2022-08-02T16:37:18.059Z"
   },
   {
    "duration": 40,
    "start_time": "2022-08-02T16:37:18.091Z"
   },
   {
    "duration": 30,
    "start_time": "2022-08-02T16:37:18.133Z"
   },
   {
    "duration": 51,
    "start_time": "2022-08-02T16:37:18.165Z"
   },
   {
    "duration": 1124,
    "start_time": "2022-08-02T16:37:18.218Z"
   },
   {
    "duration": 829,
    "start_time": "2022-08-02T16:37:19.343Z"
   },
   {
    "duration": 2462,
    "start_time": "2022-08-02T16:37:20.175Z"
   },
   {
    "duration": 2179,
    "start_time": "2022-08-02T16:37:22.640Z"
   },
   {
    "duration": 43,
    "start_time": "2022-08-02T16:37:24.821Z"
   },
   {
    "duration": 2404,
    "start_time": "2022-08-02T16:37:24.866Z"
   },
   {
    "duration": 4,
    "start_time": "2022-08-02T16:37:27.272Z"
   },
   {
    "duration": 81,
    "start_time": "2022-08-02T16:37:27.278Z"
   },
   {
    "duration": 0,
    "start_time": "2022-08-02T16:37:27.361Z"
   },
   {
    "duration": 0,
    "start_time": "2022-08-02T16:37:27.363Z"
   },
   {
    "duration": 0,
    "start_time": "2022-08-02T16:37:27.365Z"
   },
   {
    "duration": 0,
    "start_time": "2022-08-02T16:37:27.367Z"
   },
   {
    "duration": 5,
    "start_time": "2022-08-02T16:37:51.559Z"
   },
   {
    "duration": 791,
    "start_time": "2022-08-02T16:37:51.591Z"
   },
   {
    "duration": 27,
    "start_time": "2022-08-02T16:37:52.384Z"
   },
   {
    "duration": 19,
    "start_time": "2022-08-02T16:37:52.413Z"
   },
   {
    "duration": 25,
    "start_time": "2022-08-02T16:37:52.435Z"
   },
   {
    "duration": 5,
    "start_time": "2022-08-02T16:37:52.462Z"
   },
   {
    "duration": 37,
    "start_time": "2022-08-02T16:37:52.469Z"
   },
   {
    "duration": 7,
    "start_time": "2022-08-02T16:37:52.507Z"
   },
   {
    "duration": 309,
    "start_time": "2022-08-02T16:37:52.515Z"
   },
   {
    "duration": 3,
    "start_time": "2022-08-02T16:37:52.826Z"
   },
   {
    "duration": 370,
    "start_time": "2022-08-02T16:37:52.831Z"
   },
   {
    "duration": 29,
    "start_time": "2022-08-02T16:37:53.203Z"
   },
   {
    "duration": 31,
    "start_time": "2022-08-02T16:37:53.234Z"
   },
   {
    "duration": 52,
    "start_time": "2022-08-02T16:37:53.266Z"
   },
   {
    "duration": 31,
    "start_time": "2022-08-02T16:37:53.320Z"
   },
   {
    "duration": 944,
    "start_time": "2022-08-02T16:37:53.353Z"
   },
   {
    "duration": 960,
    "start_time": "2022-08-02T16:37:54.302Z"
   },
   {
    "duration": 2308,
    "start_time": "2022-08-02T16:37:55.264Z"
   },
   {
    "duration": 2276,
    "start_time": "2022-08-02T16:37:57.574Z"
   },
   {
    "duration": 171,
    "start_time": "2022-08-02T16:37:59.852Z"
   },
   {
    "duration": 2318,
    "start_time": "2022-08-02T16:38:00.025Z"
   },
   {
    "duration": 4,
    "start_time": "2022-08-02T16:38:02.345Z"
   },
   {
    "duration": 83,
    "start_time": "2022-08-02T16:38:02.351Z"
   },
   {
    "duration": 0,
    "start_time": "2022-08-02T16:38:02.437Z"
   },
   {
    "duration": 0,
    "start_time": "2022-08-02T16:38:02.438Z"
   },
   {
    "duration": 0,
    "start_time": "2022-08-02T16:38:02.440Z"
   },
   {
    "duration": 0,
    "start_time": "2022-08-02T16:38:02.442Z"
   },
   {
    "duration": 47,
    "start_time": "2022-08-02T16:38:51.436Z"
   },
   {
    "duration": 24,
    "start_time": "2022-08-02T16:40:48.928Z"
   },
   {
    "duration": 1749,
    "start_time": "2022-08-02T16:41:35.560Z"
   },
   {
    "duration": 5406,
    "start_time": "2022-08-02T16:41:37.312Z"
   },
   {
    "duration": 41,
    "start_time": "2022-08-02T16:47:12.967Z"
   },
   {
    "duration": 0,
    "start_time": "2022-08-02T16:47:13.012Z"
   },
   {
    "duration": 0,
    "start_time": "2022-08-02T16:47:13.014Z"
   },
   {
    "duration": 0,
    "start_time": "2022-08-02T16:47:13.015Z"
   },
   {
    "duration": 0,
    "start_time": "2022-08-02T16:47:13.017Z"
   },
   {
    "duration": 0,
    "start_time": "2022-08-02T16:47:13.018Z"
   },
   {
    "duration": 0,
    "start_time": "2022-08-02T16:47:13.020Z"
   },
   {
    "duration": 0,
    "start_time": "2022-08-02T16:47:13.022Z"
   },
   {
    "duration": 0,
    "start_time": "2022-08-02T16:47:13.024Z"
   },
   {
    "duration": 0,
    "start_time": "2022-08-02T16:47:13.025Z"
   },
   {
    "duration": 0,
    "start_time": "2022-08-02T16:47:13.026Z"
   },
   {
    "duration": 0,
    "start_time": "2022-08-02T16:47:13.027Z"
   },
   {
    "duration": 0,
    "start_time": "2022-08-02T16:47:13.028Z"
   },
   {
    "duration": 0,
    "start_time": "2022-08-02T16:47:13.030Z"
   },
   {
    "duration": 0,
    "start_time": "2022-08-02T16:47:13.032Z"
   },
   {
    "duration": 0,
    "start_time": "2022-08-02T16:47:13.033Z"
   },
   {
    "duration": 0,
    "start_time": "2022-08-02T16:47:13.034Z"
   },
   {
    "duration": 0,
    "start_time": "2022-08-02T16:47:13.035Z"
   },
   {
    "duration": 0,
    "start_time": "2022-08-02T16:47:13.037Z"
   },
   {
    "duration": 0,
    "start_time": "2022-08-02T16:47:13.040Z"
   },
   {
    "duration": 0,
    "start_time": "2022-08-02T16:47:13.041Z"
   },
   {
    "duration": 0,
    "start_time": "2022-08-02T16:47:13.043Z"
   },
   {
    "duration": 0,
    "start_time": "2022-08-02T16:47:13.044Z"
   },
   {
    "duration": 0,
    "start_time": "2022-08-02T16:47:13.046Z"
   },
   {
    "duration": 0,
    "start_time": "2022-08-02T16:47:13.048Z"
   },
   {
    "duration": 0,
    "start_time": "2022-08-02T16:47:13.104Z"
   },
   {
    "duration": 1,
    "start_time": "2022-08-02T16:47:13.105Z"
   },
   {
    "duration": 24,
    "start_time": "2022-08-02T20:59:54.857Z"
   },
   {
    "duration": 23,
    "start_time": "2022-08-02T21:00:00.041Z"
   },
   {
    "duration": 13,
    "start_time": "2022-08-02T21:01:07.652Z"
   },
   {
    "duration": 22,
    "start_time": "2022-08-02T21:01:39.459Z"
   },
   {
    "duration": 23,
    "start_time": "2022-08-02T21:01:53.732Z"
   },
   {
    "duration": 26,
    "start_time": "2022-08-02T21:02:49.875Z"
   },
   {
    "duration": 23,
    "start_time": "2022-08-02T21:03:07.843Z"
   },
   {
    "duration": 21,
    "start_time": "2022-08-02T21:03:36.901Z"
   },
   {
    "duration": 25,
    "start_time": "2022-08-02T21:03:46.629Z"
   },
   {
    "duration": 25,
    "start_time": "2022-08-02T21:03:58.138Z"
   },
   {
    "duration": 28,
    "start_time": "2022-08-02T21:04:58.882Z"
   },
   {
    "duration": 6,
    "start_time": "2022-08-02T21:05:22.146Z"
   },
   {
    "duration": 12,
    "start_time": "2022-08-02T21:06:11.449Z"
   },
   {
    "duration": 12,
    "start_time": "2022-08-02T21:06:18.642Z"
   },
   {
    "duration": 4,
    "start_time": "2022-08-02T21:06:25.562Z"
   },
   {
    "duration": 6,
    "start_time": "2022-08-02T21:06:55.273Z"
   },
   {
    "duration": 11,
    "start_time": "2022-08-02T21:07:02.525Z"
   },
   {
    "duration": 4,
    "start_time": "2022-08-02T21:07:29.996Z"
   },
   {
    "duration": 6,
    "start_time": "2022-08-02T21:08:03.655Z"
   },
   {
    "duration": 1281,
    "start_time": "2022-08-02T21:08:31.632Z"
   },
   {
    "duration": 5,
    "start_time": "2022-08-02T21:09:19.279Z"
   },
   {
    "duration": 766,
    "start_time": "2022-08-02T21:09:19.793Z"
   },
   {
    "duration": 18,
    "start_time": "2022-08-02T21:09:20.561Z"
   },
   {
    "duration": 24,
    "start_time": "2022-08-02T21:09:20.581Z"
   },
   {
    "duration": 22,
    "start_time": "2022-08-02T21:09:20.608Z"
   },
   {
    "duration": 5,
    "start_time": "2022-08-02T21:09:20.632Z"
   },
   {
    "duration": 6,
    "start_time": "2022-08-02T21:09:20.638Z"
   },
   {
    "duration": 6,
    "start_time": "2022-08-02T21:09:21.179Z"
   },
   {
    "duration": 263,
    "start_time": "2022-08-02T21:09:21.382Z"
   },
   {
    "duration": 2,
    "start_time": "2022-08-02T21:09:22.463Z"
   },
   {
    "duration": 336,
    "start_time": "2022-08-02T21:09:22.726Z"
   },
   {
    "duration": 27,
    "start_time": "2022-08-02T21:09:23.064Z"
   },
   {
    "duration": 29,
    "start_time": "2022-08-02T21:09:25.640Z"
   },
   {
    "duration": 26,
    "start_time": "2022-08-02T21:09:26.010Z"
   },
   {
    "duration": 33,
    "start_time": "2022-08-02T21:09:26.892Z"
   },
   {
    "duration": 983,
    "start_time": "2022-08-02T21:09:38.735Z"
   },
   {
    "duration": 916,
    "start_time": "2022-08-02T21:09:39.720Z"
   },
   {
    "duration": 2250,
    "start_time": "2022-08-02T21:09:41.033Z"
   },
   {
    "duration": 2281,
    "start_time": "2022-08-02T21:09:43.286Z"
   },
   {
    "duration": 51,
    "start_time": "2022-08-02T21:09:45.569Z"
   },
   {
    "duration": 2232,
    "start_time": "2022-08-02T21:09:45.622Z"
   },
   {
    "duration": 4,
    "start_time": "2022-08-02T21:09:47.856Z"
   },
   {
    "duration": 26,
    "start_time": "2022-08-02T21:09:47.861Z"
   },
   {
    "duration": 0,
    "start_time": "2022-08-02T21:09:47.888Z"
   },
   {
    "duration": 0,
    "start_time": "2022-08-02T21:09:47.902Z"
   },
   {
    "duration": 0,
    "start_time": "2022-08-02T21:09:47.903Z"
   },
   {
    "duration": 0,
    "start_time": "2022-08-02T21:09:47.904Z"
   },
   {
    "duration": 1677,
    "start_time": "2022-08-02T21:10:32.427Z"
   },
   {
    "duration": 2070,
    "start_time": "2022-08-02T21:10:57.934Z"
   },
   {
    "duration": 6190,
    "start_time": "2022-08-02T21:11:00.006Z"
   },
   {
    "duration": 377053,
    "start_time": "2022-08-02T21:11:06.197Z"
   },
   {
    "duration": 66,
    "start_time": "2022-08-02T21:17:23.253Z"
   },
   {
    "duration": 1558,
    "start_time": "2022-08-02T21:42:36.187Z"
   },
   {
    "duration": 116,
    "start_time": "2022-08-02T21:46:36.327Z"
   },
   {
    "duration": 25,
    "start_time": "2022-08-02T21:46:38.460Z"
   },
   {
    "duration": 6,
    "start_time": "2022-08-02T21:48:05.050Z"
   },
   {
    "duration": 5,
    "start_time": "2022-08-02T21:48:12.098Z"
   },
   {
    "duration": 815,
    "start_time": "2022-08-02T21:48:12.130Z"
   },
   {
    "duration": 19,
    "start_time": "2022-08-02T21:48:12.947Z"
   },
   {
    "duration": 15,
    "start_time": "2022-08-02T21:48:12.968Z"
   },
   {
    "duration": 23,
    "start_time": "2022-08-02T21:48:13.004Z"
   },
   {
    "duration": 6,
    "start_time": "2022-08-02T21:48:13.030Z"
   },
   {
    "duration": 8,
    "start_time": "2022-08-02T21:48:13.202Z"
   },
   {
    "duration": 7,
    "start_time": "2022-08-02T21:48:15.051Z"
   },
   {
    "duration": 297,
    "start_time": "2022-08-02T21:48:50.548Z"
   },
   {
    "duration": 4,
    "start_time": "2022-08-02T21:48:51.362Z"
   },
   {
    "duration": 358,
    "start_time": "2022-08-02T21:48:52.011Z"
   },
   {
    "duration": 37,
    "start_time": "2022-08-02T21:48:52.371Z"
   },
   {
    "duration": 13,
    "start_time": "2022-08-02T21:49:10.523Z"
   },
   {
    "duration": 5,
    "start_time": "2022-08-02T21:49:17.862Z"
   },
   {
    "duration": 910,
    "start_time": "2022-08-02T21:49:17.894Z"
   },
   {
    "duration": 19,
    "start_time": "2022-08-02T21:49:18.806Z"
   },
   {
    "duration": 29,
    "start_time": "2022-08-02T21:49:18.827Z"
   },
   {
    "duration": 43,
    "start_time": "2022-08-02T21:49:18.860Z"
   },
   {
    "duration": 29,
    "start_time": "2022-08-02T21:49:18.905Z"
   },
   {
    "duration": 23,
    "start_time": "2022-08-02T21:49:18.937Z"
   },
   {
    "duration": 6,
    "start_time": "2022-08-02T21:49:19.792Z"
   },
   {
    "duration": 376,
    "start_time": "2022-08-02T21:49:21.138Z"
   },
   {
    "duration": 3,
    "start_time": "2022-08-02T21:49:22.184Z"
   },
   {
    "duration": 433,
    "start_time": "2022-08-02T21:49:22.370Z"
   },
   {
    "duration": 29,
    "start_time": "2022-08-02T21:49:22.805Z"
   },
   {
    "duration": 34,
    "start_time": "2022-08-02T21:49:24.606Z"
   },
   {
    "duration": 29,
    "start_time": "2022-08-02T21:49:24.932Z"
   },
   {
    "duration": 40,
    "start_time": "2022-08-02T21:49:25.146Z"
   },
   {
    "duration": 6,
    "start_time": "2022-08-02T21:50:06.512Z"
   },
   {
    "duration": 848,
    "start_time": "2022-08-02T21:50:06.558Z"
   },
   {
    "duration": 22,
    "start_time": "2022-08-02T21:50:07.409Z"
   },
   {
    "duration": 18,
    "start_time": "2022-08-02T21:50:07.433Z"
   },
   {
    "duration": 48,
    "start_time": "2022-08-02T21:50:07.455Z"
   },
   {
    "duration": 12,
    "start_time": "2022-08-02T21:50:07.506Z"
   },
   {
    "duration": 15,
    "start_time": "2022-08-02T21:50:07.521Z"
   },
   {
    "duration": 26,
    "start_time": "2022-08-02T21:50:07.540Z"
   },
   {
    "duration": 314,
    "start_time": "2022-08-02T21:50:07.568Z"
   },
   {
    "duration": 3,
    "start_time": "2022-08-02T21:50:08.066Z"
   },
   {
    "duration": 432,
    "start_time": "2022-08-02T21:50:08.096Z"
   },
   {
    "duration": 34,
    "start_time": "2022-08-02T21:50:08.530Z"
   },
   {
    "duration": 47,
    "start_time": "2022-08-02T21:50:09.056Z"
   },
   {
    "duration": 44,
    "start_time": "2022-08-02T21:50:09.105Z"
   },
   {
    "duration": 57,
    "start_time": "2022-08-02T21:50:09.152Z"
   },
   {
    "duration": 1158,
    "start_time": "2022-08-02T21:50:09.212Z"
   },
   {
    "duration": 859,
    "start_time": "2022-08-02T21:50:10.373Z"
   },
   {
    "duration": 2672,
    "start_time": "2022-08-02T21:50:11.235Z"
   },
   {
    "duration": 2458,
    "start_time": "2022-08-02T21:50:13.911Z"
   },
   {
    "duration": 78,
    "start_time": "2022-08-02T21:50:16.372Z"
   },
   {
    "duration": 2712,
    "start_time": "2022-08-02T21:50:16.452Z"
   },
   {
    "duration": 7,
    "start_time": "2022-08-02T21:50:19.167Z"
   },
   {
    "duration": 2836,
    "start_time": "2022-08-02T21:50:19.177Z"
   },
   {
    "duration": 6714,
    "start_time": "2022-08-02T21:50:22.015Z"
   },
   {
    "duration": 396129,
    "start_time": "2022-08-02T21:50:28.732Z"
   },
   {
    "duration": 73,
    "start_time": "2022-08-02T21:57:04.863Z"
   },
   {
    "duration": 1467,
    "start_time": "2022-08-02T21:57:07.931Z"
   }
  ],
  "kernelspec": {
   "display_name": "Python 3",
   "language": "python",
   "name": "python3"
  },
  "language_info": {
   "codemirror_mode": {
    "name": "ipython",
    "version": 3
   },
   "file_extension": ".py",
   "mimetype": "text/x-python",
   "name": "python",
   "nbconvert_exporter": "python",
   "pygments_lexer": "ipython3",
   "version": "3.8.8"
  },
  "toc": {
   "base_numbering": 1,
   "nav_menu": {},
   "number_sections": true,
   "sideBar": true,
   "skip_h1_title": true,
   "title_cell": "Table of Contents",
   "title_sidebar": "Contents",
   "toc_cell": false,
   "toc_position": {},
   "toc_section_display": true,
   "toc_window_display": false
  }
 },
 "nbformat": 4,
 "nbformat_minor": 2
}
