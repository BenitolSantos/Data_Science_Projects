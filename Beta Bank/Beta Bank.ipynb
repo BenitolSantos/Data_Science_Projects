{
 "cells": [
  {
   "cell_type": "markdown",
   "metadata": {},
   "source": [
    "# Beta Bank "
   ]
  },
  {
   "cell_type": "markdown",
   "metadata": {},
   "source": [
    "Beta Bank customers are leaving: little by little, chipping away every month. The bankers figured out it’s cheaper to save the existing customers rather than to attract new ones.\n",
    "We need to predict whether a customer will leave the bank soon. You have the data on clients’ past behavior and termination of contracts with the bank.\n",
    "Build a model with the maximum possible F1 score. To pass the project, you need an F1 score of at least 0.59. Check the F1 for the test set.\n",
    "Additionally, measure the AUC-ROC metric and compare it with the F1."
   ]
  },
  {
   "cell_type": "markdown",
   "metadata": {},
   "source": [
    "Features\n",
    "RowNumber — data string index\n",
    "CustomerId — unique customer identifier\n",
    "Surname — surname\n",
    "CreditScore — credit score\n",
    "Geography — country of residence\n",
    "Gender — gender\n",
    "Age — age\n",
    "Tenure — period of maturation for a customer’s fixed deposit (years)\n",
    "Balance — account balance\n",
    "NumOfProducts — number of banking products used by the customer\n",
    "HasCrCard — customer has a credit card\n",
    "IsActiveMember — customer’s activeness\n",
    "EstimatedSalary — estimated salary"
   ]
  },
  {
   "cell_type": "markdown",
   "metadata": {},
   "source": [
    "[We've provided you with some commentary to guide your thinking as you complete this project. However, make sure to remove all the bracketed comments before submitting your project.]\n",
    "\n",
    "[Before you dive into analyzing your data, explain for yourself the purpose of the project and actions you plan to take.]\n",
    "\n",
    "[Please bear in mind that studying, amending, and analyzing data is an iterative process. It is normal to return to previous steps and correct/expand them to allow for further steps.]"
   ]
  },
  {
   "cell_type": "markdown",
   "metadata": {},
   "source": [
    "## Initialization"
   ]
  },
  {
   "cell_type": "code",
   "execution_count": 119,
   "metadata": {},
   "outputs": [],
   "source": [
    "# Loading all the libraries\n",
    "import pandas as pd\n",
    "from sklearn.linear_model import LogisticRegression #For comparison\n",
    "import matplotlib.pyplot as plt\n",
    "from sklearn.tree import DecisionTreeClassifier #Classification, we'll need this later because of the binary columns, signifying a decision tree.\n",
    "\n",
    "from sklearn.ensemble import RandomForestClassifier #Classification, but Hypthothesis: we won't need this because it's not random\n",
    "from sklearn.ensemble import RandomForestRegressor #Regression is numerical \n",
    "from sklearn.metrics import accuracy_score\n",
    "\n",
    "from sklearn.model_selection import train_test_split #split into training,validation, and testing\n",
    "\n",
    "from sklearn.dummy import DummyClassifier\n",
    "from sklearn.preprocessing import OrdinalEncoder\n",
    "\n",
    "from sklearn.metrics import mean_squared_error #Only needed for regression\n",
    "from sklearn.preprocessing import StandardScaler #For Scaling and Balancing\n",
    "from sklearn.metrics import confusion_matrix #For False/True Postive and Negative Testing\n",
    "\n",
    "from sklearn.metrics import precision_score #more metrics for balance\n",
    "from sklearn.metrics import recall_score\n",
    "from sklearn.metrics import f1_score\n",
    "\n",
    "from sklearn.utils import shuffle #shuffling for upsampling\n",
    "from sklearn.metrics import roc_auc_score #TPR (True Positve Rate) vs FPR (False Positive Rate)\n",
    "from sklearn.metrics import precision_recall_curve \n",
    "\n",
    "from sklearn.metrics import precision_recall_curve #to graph precision and recall and f1"
   ]
  },
  {
   "cell_type": "code",
   "execution_count": 120,
   "metadata": {},
   "outputs": [],
   "source": [
    "try:\n",
    "    bb = pd.read_csv(\"C:/Users/Lorenzo Santos/OneDrive/Documents/Churn.csv\")\n",
    "except:\n",
    "    bb = pd.read_csv(\"/datasets/Churn.csv\")\n"
   ]
  },
  {
   "cell_type": "code",
   "execution_count": 121,
   "metadata": {},
   "outputs": [
    {
     "data": {
      "text/html": [
       "<div>\n",
       "<style scoped>\n",
       "    .dataframe tbody tr th:only-of-type {\n",
       "        vertical-align: middle;\n",
       "    }\n",
       "\n",
       "    .dataframe tbody tr th {\n",
       "        vertical-align: top;\n",
       "    }\n",
       "\n",
       "    .dataframe thead th {\n",
       "        text-align: right;\n",
       "    }\n",
       "</style>\n",
       "<table border=\"1\" class=\"dataframe\">\n",
       "  <thead>\n",
       "    <tr style=\"text-align: right;\">\n",
       "      <th></th>\n",
       "      <th>RowNumber</th>\n",
       "      <th>CustomerId</th>\n",
       "      <th>Surname</th>\n",
       "      <th>CreditScore</th>\n",
       "      <th>Geography</th>\n",
       "      <th>Gender</th>\n",
       "      <th>Age</th>\n",
       "      <th>Tenure</th>\n",
       "      <th>Balance</th>\n",
       "      <th>NumOfProducts</th>\n",
       "      <th>HasCrCard</th>\n",
       "      <th>IsActiveMember</th>\n",
       "      <th>EstimatedSalary</th>\n",
       "      <th>Exited</th>\n",
       "    </tr>\n",
       "  </thead>\n",
       "  <tbody>\n",
       "    <tr>\n",
       "      <th>0</th>\n",
       "      <td>1</td>\n",
       "      <td>15634602</td>\n",
       "      <td>Hargrave</td>\n",
       "      <td>619</td>\n",
       "      <td>France</td>\n",
       "      <td>Female</td>\n",
       "      <td>42</td>\n",
       "      <td>2.0</td>\n",
       "      <td>0.00</td>\n",
       "      <td>1</td>\n",
       "      <td>1</td>\n",
       "      <td>1</td>\n",
       "      <td>101348.88</td>\n",
       "      <td>1</td>\n",
       "    </tr>\n",
       "    <tr>\n",
       "      <th>1</th>\n",
       "      <td>2</td>\n",
       "      <td>15647311</td>\n",
       "      <td>Hill</td>\n",
       "      <td>608</td>\n",
       "      <td>Spain</td>\n",
       "      <td>Female</td>\n",
       "      <td>41</td>\n",
       "      <td>1.0</td>\n",
       "      <td>83807.86</td>\n",
       "      <td>1</td>\n",
       "      <td>0</td>\n",
       "      <td>1</td>\n",
       "      <td>112542.58</td>\n",
       "      <td>0</td>\n",
       "    </tr>\n",
       "    <tr>\n",
       "      <th>2</th>\n",
       "      <td>3</td>\n",
       "      <td>15619304</td>\n",
       "      <td>Onio</td>\n",
       "      <td>502</td>\n",
       "      <td>France</td>\n",
       "      <td>Female</td>\n",
       "      <td>42</td>\n",
       "      <td>8.0</td>\n",
       "      <td>159660.80</td>\n",
       "      <td>3</td>\n",
       "      <td>1</td>\n",
       "      <td>0</td>\n",
       "      <td>113931.57</td>\n",
       "      <td>1</td>\n",
       "    </tr>\n",
       "    <tr>\n",
       "      <th>3</th>\n",
       "      <td>4</td>\n",
       "      <td>15701354</td>\n",
       "      <td>Boni</td>\n",
       "      <td>699</td>\n",
       "      <td>France</td>\n",
       "      <td>Female</td>\n",
       "      <td>39</td>\n",
       "      <td>1.0</td>\n",
       "      <td>0.00</td>\n",
       "      <td>2</td>\n",
       "      <td>0</td>\n",
       "      <td>0</td>\n",
       "      <td>93826.63</td>\n",
       "      <td>0</td>\n",
       "    </tr>\n",
       "    <tr>\n",
       "      <th>4</th>\n",
       "      <td>5</td>\n",
       "      <td>15737888</td>\n",
       "      <td>Mitchell</td>\n",
       "      <td>850</td>\n",
       "      <td>Spain</td>\n",
       "      <td>Female</td>\n",
       "      <td>43</td>\n",
       "      <td>2.0</td>\n",
       "      <td>125510.82</td>\n",
       "      <td>1</td>\n",
       "      <td>1</td>\n",
       "      <td>1</td>\n",
       "      <td>79084.10</td>\n",
       "      <td>0</td>\n",
       "    </tr>\n",
       "    <tr>\n",
       "      <th>...</th>\n",
       "      <td>...</td>\n",
       "      <td>...</td>\n",
       "      <td>...</td>\n",
       "      <td>...</td>\n",
       "      <td>...</td>\n",
       "      <td>...</td>\n",
       "      <td>...</td>\n",
       "      <td>...</td>\n",
       "      <td>...</td>\n",
       "      <td>...</td>\n",
       "      <td>...</td>\n",
       "      <td>...</td>\n",
       "      <td>...</td>\n",
       "      <td>...</td>\n",
       "    </tr>\n",
       "    <tr>\n",
       "      <th>9995</th>\n",
       "      <td>9996</td>\n",
       "      <td>15606229</td>\n",
       "      <td>Obijiaku</td>\n",
       "      <td>771</td>\n",
       "      <td>France</td>\n",
       "      <td>Male</td>\n",
       "      <td>39</td>\n",
       "      <td>5.0</td>\n",
       "      <td>0.00</td>\n",
       "      <td>2</td>\n",
       "      <td>1</td>\n",
       "      <td>0</td>\n",
       "      <td>96270.64</td>\n",
       "      <td>0</td>\n",
       "    </tr>\n",
       "    <tr>\n",
       "      <th>9996</th>\n",
       "      <td>9997</td>\n",
       "      <td>15569892</td>\n",
       "      <td>Johnstone</td>\n",
       "      <td>516</td>\n",
       "      <td>France</td>\n",
       "      <td>Male</td>\n",
       "      <td>35</td>\n",
       "      <td>10.0</td>\n",
       "      <td>57369.61</td>\n",
       "      <td>1</td>\n",
       "      <td>1</td>\n",
       "      <td>1</td>\n",
       "      <td>101699.77</td>\n",
       "      <td>0</td>\n",
       "    </tr>\n",
       "    <tr>\n",
       "      <th>9997</th>\n",
       "      <td>9998</td>\n",
       "      <td>15584532</td>\n",
       "      <td>Liu</td>\n",
       "      <td>709</td>\n",
       "      <td>France</td>\n",
       "      <td>Female</td>\n",
       "      <td>36</td>\n",
       "      <td>7.0</td>\n",
       "      <td>0.00</td>\n",
       "      <td>1</td>\n",
       "      <td>0</td>\n",
       "      <td>1</td>\n",
       "      <td>42085.58</td>\n",
       "      <td>1</td>\n",
       "    </tr>\n",
       "    <tr>\n",
       "      <th>9998</th>\n",
       "      <td>9999</td>\n",
       "      <td>15682355</td>\n",
       "      <td>Sabbatini</td>\n",
       "      <td>772</td>\n",
       "      <td>Germany</td>\n",
       "      <td>Male</td>\n",
       "      <td>42</td>\n",
       "      <td>3.0</td>\n",
       "      <td>75075.31</td>\n",
       "      <td>2</td>\n",
       "      <td>1</td>\n",
       "      <td>0</td>\n",
       "      <td>92888.52</td>\n",
       "      <td>1</td>\n",
       "    </tr>\n",
       "    <tr>\n",
       "      <th>9999</th>\n",
       "      <td>10000</td>\n",
       "      <td>15628319</td>\n",
       "      <td>Walker</td>\n",
       "      <td>792</td>\n",
       "      <td>France</td>\n",
       "      <td>Female</td>\n",
       "      <td>28</td>\n",
       "      <td>NaN</td>\n",
       "      <td>130142.79</td>\n",
       "      <td>1</td>\n",
       "      <td>1</td>\n",
       "      <td>0</td>\n",
       "      <td>38190.78</td>\n",
       "      <td>0</td>\n",
       "    </tr>\n",
       "  </tbody>\n",
       "</table>\n",
       "<p>10000 rows × 14 columns</p>\n",
       "</div>"
      ],
      "text/plain": [
       "      RowNumber  CustomerId    Surname  CreditScore Geography  Gender  Age  \\\n",
       "0             1    15634602   Hargrave          619    France  Female   42   \n",
       "1             2    15647311       Hill          608     Spain  Female   41   \n",
       "2             3    15619304       Onio          502    France  Female   42   \n",
       "3             4    15701354       Boni          699    France  Female   39   \n",
       "4             5    15737888   Mitchell          850     Spain  Female   43   \n",
       "...         ...         ...        ...          ...       ...     ...  ...   \n",
       "9995       9996    15606229   Obijiaku          771    France    Male   39   \n",
       "9996       9997    15569892  Johnstone          516    France    Male   35   \n",
       "9997       9998    15584532        Liu          709    France  Female   36   \n",
       "9998       9999    15682355  Sabbatini          772   Germany    Male   42   \n",
       "9999      10000    15628319     Walker          792    France  Female   28   \n",
       "\n",
       "      Tenure    Balance  NumOfProducts  HasCrCard  IsActiveMember  \\\n",
       "0        2.0       0.00              1          1               1   \n",
       "1        1.0   83807.86              1          0               1   \n",
       "2        8.0  159660.80              3          1               0   \n",
       "3        1.0       0.00              2          0               0   \n",
       "4        2.0  125510.82              1          1               1   \n",
       "...      ...        ...            ...        ...             ...   \n",
       "9995     5.0       0.00              2          1               0   \n",
       "9996    10.0   57369.61              1          1               1   \n",
       "9997     7.0       0.00              1          0               1   \n",
       "9998     3.0   75075.31              2          1               0   \n",
       "9999     NaN  130142.79              1          1               0   \n",
       "\n",
       "      EstimatedSalary  Exited  \n",
       "0           101348.88       1  \n",
       "1           112542.58       0  \n",
       "2           113931.57       1  \n",
       "3            93826.63       0  \n",
       "4            79084.10       0  \n",
       "...               ...     ...  \n",
       "9995         96270.64       0  \n",
       "9996        101699.77       0  \n",
       "9997         42085.58       1  \n",
       "9998         92888.52       1  \n",
       "9999         38190.78       0  \n",
       "\n",
       "[10000 rows x 14 columns]"
      ]
     },
     "execution_count": 121,
     "metadata": {},
     "output_type": "execute_result"
    }
   ],
   "source": [
    "bb"
   ]
  },
  {
   "cell_type": "markdown",
   "metadata": {},
   "source": [
    "## Prepare the data"
   ]
  },
  {
   "cell_type": "markdown",
   "metadata": {},
   "source": [
    "[Explore the table to get an initial understanding of the data. Do necessary corrections to the table if necessary.]"
   ]
  },
  {
   "cell_type": "code",
   "execution_count": 122,
   "metadata": {},
   "outputs": [
    {
     "name": "stdout",
     "output_type": "stream",
     "text": [
      "<class 'pandas.core.frame.DataFrame'>\n",
      "RangeIndex: 10000 entries, 0 to 9999\n",
      "Data columns (total 14 columns):\n",
      " #   Column           Non-Null Count  Dtype  \n",
      "---  ------           --------------  -----  \n",
      " 0   RowNumber        10000 non-null  int64  \n",
      " 1   CustomerId       10000 non-null  int64  \n",
      " 2   Surname          10000 non-null  object \n",
      " 3   CreditScore      10000 non-null  int64  \n",
      " 4   Geography        10000 non-null  object \n",
      " 5   Gender           10000 non-null  object \n",
      " 6   Age              10000 non-null  int64  \n",
      " 7   Tenure           9091 non-null   float64\n",
      " 8   Balance          10000 non-null  float64\n",
      " 9   NumOfProducts    10000 non-null  int64  \n",
      " 10  HasCrCard        10000 non-null  int64  \n",
      " 11  IsActiveMember   10000 non-null  int64  \n",
      " 12  EstimatedSalary  10000 non-null  float64\n",
      " 13  Exited           10000 non-null  int64  \n",
      "dtypes: float64(3), int64(8), object(3)\n",
      "memory usage: 1.1+ MB\n"
     ]
    }
   ],
   "source": [
    "bb.info()"
   ]
  },
  {
   "cell_type": "code",
   "execution_count": 123,
   "metadata": {},
   "outputs": [
    {
     "data": {
      "text/html": [
       "<div>\n",
       "<style scoped>\n",
       "    .dataframe tbody tr th:only-of-type {\n",
       "        vertical-align: middle;\n",
       "    }\n",
       "\n",
       "    .dataframe tbody tr th {\n",
       "        vertical-align: top;\n",
       "    }\n",
       "\n",
       "    .dataframe thead th {\n",
       "        text-align: right;\n",
       "    }\n",
       "</style>\n",
       "<table border=\"1\" class=\"dataframe\">\n",
       "  <thead>\n",
       "    <tr style=\"text-align: right;\">\n",
       "      <th></th>\n",
       "      <th>RowNumber</th>\n",
       "      <th>CustomerId</th>\n",
       "      <th>Surname</th>\n",
       "      <th>CreditScore</th>\n",
       "      <th>Geography</th>\n",
       "      <th>Gender</th>\n",
       "      <th>Age</th>\n",
       "      <th>Tenure</th>\n",
       "      <th>Balance</th>\n",
       "      <th>NumOfProducts</th>\n",
       "      <th>HasCrCard</th>\n",
       "      <th>IsActiveMember</th>\n",
       "      <th>EstimatedSalary</th>\n",
       "      <th>Exited</th>\n",
       "    </tr>\n",
       "  </thead>\n",
       "  <tbody>\n",
       "    <tr>\n",
       "      <th>0</th>\n",
       "      <td>1</td>\n",
       "      <td>15634602</td>\n",
       "      <td>Hargrave</td>\n",
       "      <td>619</td>\n",
       "      <td>France</td>\n",
       "      <td>Female</td>\n",
       "      <td>42</td>\n",
       "      <td>2.0</td>\n",
       "      <td>0.00</td>\n",
       "      <td>1</td>\n",
       "      <td>1</td>\n",
       "      <td>1</td>\n",
       "      <td>101348.88</td>\n",
       "      <td>1</td>\n",
       "    </tr>\n",
       "    <tr>\n",
       "      <th>1</th>\n",
       "      <td>2</td>\n",
       "      <td>15647311</td>\n",
       "      <td>Hill</td>\n",
       "      <td>608</td>\n",
       "      <td>Spain</td>\n",
       "      <td>Female</td>\n",
       "      <td>41</td>\n",
       "      <td>1.0</td>\n",
       "      <td>83807.86</td>\n",
       "      <td>1</td>\n",
       "      <td>0</td>\n",
       "      <td>1</td>\n",
       "      <td>112542.58</td>\n",
       "      <td>0</td>\n",
       "    </tr>\n",
       "    <tr>\n",
       "      <th>2</th>\n",
       "      <td>3</td>\n",
       "      <td>15619304</td>\n",
       "      <td>Onio</td>\n",
       "      <td>502</td>\n",
       "      <td>France</td>\n",
       "      <td>Female</td>\n",
       "      <td>42</td>\n",
       "      <td>8.0</td>\n",
       "      <td>159660.80</td>\n",
       "      <td>3</td>\n",
       "      <td>1</td>\n",
       "      <td>0</td>\n",
       "      <td>113931.57</td>\n",
       "      <td>1</td>\n",
       "    </tr>\n",
       "    <tr>\n",
       "      <th>3</th>\n",
       "      <td>4</td>\n",
       "      <td>15701354</td>\n",
       "      <td>Boni</td>\n",
       "      <td>699</td>\n",
       "      <td>France</td>\n",
       "      <td>Female</td>\n",
       "      <td>39</td>\n",
       "      <td>1.0</td>\n",
       "      <td>0.00</td>\n",
       "      <td>2</td>\n",
       "      <td>0</td>\n",
       "      <td>0</td>\n",
       "      <td>93826.63</td>\n",
       "      <td>0</td>\n",
       "    </tr>\n",
       "    <tr>\n",
       "      <th>4</th>\n",
       "      <td>5</td>\n",
       "      <td>15737888</td>\n",
       "      <td>Mitchell</td>\n",
       "      <td>850</td>\n",
       "      <td>Spain</td>\n",
       "      <td>Female</td>\n",
       "      <td>43</td>\n",
       "      <td>2.0</td>\n",
       "      <td>125510.82</td>\n",
       "      <td>1</td>\n",
       "      <td>1</td>\n",
       "      <td>1</td>\n",
       "      <td>79084.10</td>\n",
       "      <td>0</td>\n",
       "    </tr>\n",
       "  </tbody>\n",
       "</table>\n",
       "</div>"
      ],
      "text/plain": [
       "   RowNumber  CustomerId   Surname  CreditScore Geography  Gender  Age  \\\n",
       "0          1    15634602  Hargrave          619    France  Female   42   \n",
       "1          2    15647311      Hill          608     Spain  Female   41   \n",
       "2          3    15619304      Onio          502    France  Female   42   \n",
       "3          4    15701354      Boni          699    France  Female   39   \n",
       "4          5    15737888  Mitchell          850     Spain  Female   43   \n",
       "\n",
       "   Tenure    Balance  NumOfProducts  HasCrCard  IsActiveMember  \\\n",
       "0     2.0       0.00              1          1               1   \n",
       "1     1.0   83807.86              1          0               1   \n",
       "2     8.0  159660.80              3          1               0   \n",
       "3     1.0       0.00              2          0               0   \n",
       "4     2.0  125510.82              1          1               1   \n",
       "\n",
       "   EstimatedSalary  Exited  \n",
       "0        101348.88       1  \n",
       "1        112542.58       0  \n",
       "2        113931.57       1  \n",
       "3         93826.63       0  \n",
       "4         79084.10       0  "
      ]
     },
     "execution_count": 123,
     "metadata": {},
     "output_type": "execute_result"
    }
   ],
   "source": [
    "bb.head(5)"
   ]
  },
  {
   "cell_type": "markdown",
   "metadata": {},
   "source": [
    "### FIX DATA"
   ]
  },
  {
   "cell_type": "markdown",
   "metadata": {},
   "source": [
    "[Describe what you see and notice in the general information and the printed data sample for the above data. Are there any issues (inappropriate data types, missing data etc) that may need further investigation and changes? How that can be fixed?]\n",
    "\n",
    "Tenure is missing some data.  Columns could be lowercase"
   ]
  },
  {
   "cell_type": "code",
   "execution_count": 124,
   "metadata": {
    "scrolled": true
   },
   "outputs": [
    {
     "data": {
      "text/html": [
       "<div>\n",
       "<style scoped>\n",
       "    .dataframe tbody tr th:only-of-type {\n",
       "        vertical-align: middle;\n",
       "    }\n",
       "\n",
       "    .dataframe tbody tr th {\n",
       "        vertical-align: top;\n",
       "    }\n",
       "\n",
       "    .dataframe thead th {\n",
       "        text-align: right;\n",
       "    }\n",
       "</style>\n",
       "<table border=\"1\" class=\"dataframe\">\n",
       "  <thead>\n",
       "    <tr style=\"text-align: right;\">\n",
       "      <th></th>\n",
       "      <th>rownumber</th>\n",
       "      <th>customerid</th>\n",
       "      <th>surname</th>\n",
       "      <th>creditscore</th>\n",
       "      <th>geography</th>\n",
       "      <th>gender</th>\n",
       "      <th>age</th>\n",
       "      <th>tenure</th>\n",
       "      <th>balance</th>\n",
       "      <th>numofproducts</th>\n",
       "      <th>hascrcard</th>\n",
       "      <th>isactivemember</th>\n",
       "      <th>estimatedsalary</th>\n",
       "      <th>exited</th>\n",
       "    </tr>\n",
       "  </thead>\n",
       "  <tbody>\n",
       "    <tr>\n",
       "      <th>0</th>\n",
       "      <td>1</td>\n",
       "      <td>15634602</td>\n",
       "      <td>Hargrave</td>\n",
       "      <td>619</td>\n",
       "      <td>France</td>\n",
       "      <td>Female</td>\n",
       "      <td>42</td>\n",
       "      <td>2.0</td>\n",
       "      <td>0.00</td>\n",
       "      <td>1</td>\n",
       "      <td>1</td>\n",
       "      <td>1</td>\n",
       "      <td>101348.88</td>\n",
       "      <td>1</td>\n",
       "    </tr>\n",
       "    <tr>\n",
       "      <th>1</th>\n",
       "      <td>2</td>\n",
       "      <td>15647311</td>\n",
       "      <td>Hill</td>\n",
       "      <td>608</td>\n",
       "      <td>Spain</td>\n",
       "      <td>Female</td>\n",
       "      <td>41</td>\n",
       "      <td>1.0</td>\n",
       "      <td>83807.86</td>\n",
       "      <td>1</td>\n",
       "      <td>0</td>\n",
       "      <td>1</td>\n",
       "      <td>112542.58</td>\n",
       "      <td>0</td>\n",
       "    </tr>\n",
       "    <tr>\n",
       "      <th>2</th>\n",
       "      <td>3</td>\n",
       "      <td>15619304</td>\n",
       "      <td>Onio</td>\n",
       "      <td>502</td>\n",
       "      <td>France</td>\n",
       "      <td>Female</td>\n",
       "      <td>42</td>\n",
       "      <td>8.0</td>\n",
       "      <td>159660.80</td>\n",
       "      <td>3</td>\n",
       "      <td>1</td>\n",
       "      <td>0</td>\n",
       "      <td>113931.57</td>\n",
       "      <td>1</td>\n",
       "    </tr>\n",
       "    <tr>\n",
       "      <th>3</th>\n",
       "      <td>4</td>\n",
       "      <td>15701354</td>\n",
       "      <td>Boni</td>\n",
       "      <td>699</td>\n",
       "      <td>France</td>\n",
       "      <td>Female</td>\n",
       "      <td>39</td>\n",
       "      <td>1.0</td>\n",
       "      <td>0.00</td>\n",
       "      <td>2</td>\n",
       "      <td>0</td>\n",
       "      <td>0</td>\n",
       "      <td>93826.63</td>\n",
       "      <td>0</td>\n",
       "    </tr>\n",
       "    <tr>\n",
       "      <th>4</th>\n",
       "      <td>5</td>\n",
       "      <td>15737888</td>\n",
       "      <td>Mitchell</td>\n",
       "      <td>850</td>\n",
       "      <td>Spain</td>\n",
       "      <td>Female</td>\n",
       "      <td>43</td>\n",
       "      <td>2.0</td>\n",
       "      <td>125510.82</td>\n",
       "      <td>1</td>\n",
       "      <td>1</td>\n",
       "      <td>1</td>\n",
       "      <td>79084.10</td>\n",
       "      <td>0</td>\n",
       "    </tr>\n",
       "    <tr>\n",
       "      <th>...</th>\n",
       "      <td>...</td>\n",
       "      <td>...</td>\n",
       "      <td>...</td>\n",
       "      <td>...</td>\n",
       "      <td>...</td>\n",
       "      <td>...</td>\n",
       "      <td>...</td>\n",
       "      <td>...</td>\n",
       "      <td>...</td>\n",
       "      <td>...</td>\n",
       "      <td>...</td>\n",
       "      <td>...</td>\n",
       "      <td>...</td>\n",
       "      <td>...</td>\n",
       "    </tr>\n",
       "    <tr>\n",
       "      <th>9995</th>\n",
       "      <td>9996</td>\n",
       "      <td>15606229</td>\n",
       "      <td>Obijiaku</td>\n",
       "      <td>771</td>\n",
       "      <td>France</td>\n",
       "      <td>Male</td>\n",
       "      <td>39</td>\n",
       "      <td>5.0</td>\n",
       "      <td>0.00</td>\n",
       "      <td>2</td>\n",
       "      <td>1</td>\n",
       "      <td>0</td>\n",
       "      <td>96270.64</td>\n",
       "      <td>0</td>\n",
       "    </tr>\n",
       "    <tr>\n",
       "      <th>9996</th>\n",
       "      <td>9997</td>\n",
       "      <td>15569892</td>\n",
       "      <td>Johnstone</td>\n",
       "      <td>516</td>\n",
       "      <td>France</td>\n",
       "      <td>Male</td>\n",
       "      <td>35</td>\n",
       "      <td>10.0</td>\n",
       "      <td>57369.61</td>\n",
       "      <td>1</td>\n",
       "      <td>1</td>\n",
       "      <td>1</td>\n",
       "      <td>101699.77</td>\n",
       "      <td>0</td>\n",
       "    </tr>\n",
       "    <tr>\n",
       "      <th>9997</th>\n",
       "      <td>9998</td>\n",
       "      <td>15584532</td>\n",
       "      <td>Liu</td>\n",
       "      <td>709</td>\n",
       "      <td>France</td>\n",
       "      <td>Female</td>\n",
       "      <td>36</td>\n",
       "      <td>7.0</td>\n",
       "      <td>0.00</td>\n",
       "      <td>1</td>\n",
       "      <td>0</td>\n",
       "      <td>1</td>\n",
       "      <td>42085.58</td>\n",
       "      <td>1</td>\n",
       "    </tr>\n",
       "    <tr>\n",
       "      <th>9998</th>\n",
       "      <td>9999</td>\n",
       "      <td>15682355</td>\n",
       "      <td>Sabbatini</td>\n",
       "      <td>772</td>\n",
       "      <td>Germany</td>\n",
       "      <td>Male</td>\n",
       "      <td>42</td>\n",
       "      <td>3.0</td>\n",
       "      <td>75075.31</td>\n",
       "      <td>2</td>\n",
       "      <td>1</td>\n",
       "      <td>0</td>\n",
       "      <td>92888.52</td>\n",
       "      <td>1</td>\n",
       "    </tr>\n",
       "    <tr>\n",
       "      <th>9999</th>\n",
       "      <td>10000</td>\n",
       "      <td>15628319</td>\n",
       "      <td>Walker</td>\n",
       "      <td>792</td>\n",
       "      <td>France</td>\n",
       "      <td>Female</td>\n",
       "      <td>28</td>\n",
       "      <td>NaN</td>\n",
       "      <td>130142.79</td>\n",
       "      <td>1</td>\n",
       "      <td>1</td>\n",
       "      <td>0</td>\n",
       "      <td>38190.78</td>\n",
       "      <td>0</td>\n",
       "    </tr>\n",
       "  </tbody>\n",
       "</table>\n",
       "<p>10000 rows × 14 columns</p>\n",
       "</div>"
      ],
      "text/plain": [
       "      rownumber  customerid    surname  creditscore geography  gender  age  \\\n",
       "0             1    15634602   Hargrave          619    France  Female   42   \n",
       "1             2    15647311       Hill          608     Spain  Female   41   \n",
       "2             3    15619304       Onio          502    France  Female   42   \n",
       "3             4    15701354       Boni          699    France  Female   39   \n",
       "4             5    15737888   Mitchell          850     Spain  Female   43   \n",
       "...         ...         ...        ...          ...       ...     ...  ...   \n",
       "9995       9996    15606229   Obijiaku          771    France    Male   39   \n",
       "9996       9997    15569892  Johnstone          516    France    Male   35   \n",
       "9997       9998    15584532        Liu          709    France  Female   36   \n",
       "9998       9999    15682355  Sabbatini          772   Germany    Male   42   \n",
       "9999      10000    15628319     Walker          792    France  Female   28   \n",
       "\n",
       "      tenure    balance  numofproducts  hascrcard  isactivemember  \\\n",
       "0        2.0       0.00              1          1               1   \n",
       "1        1.0   83807.86              1          0               1   \n",
       "2        8.0  159660.80              3          1               0   \n",
       "3        1.0       0.00              2          0               0   \n",
       "4        2.0  125510.82              1          1               1   \n",
       "...      ...        ...            ...        ...             ...   \n",
       "9995     5.0       0.00              2          1               0   \n",
       "9996    10.0   57369.61              1          1               1   \n",
       "9997     7.0       0.00              1          0               1   \n",
       "9998     3.0   75075.31              2          1               0   \n",
       "9999     NaN  130142.79              1          1               0   \n",
       "\n",
       "      estimatedsalary  exited  \n",
       "0           101348.88       1  \n",
       "1           112542.58       0  \n",
       "2           113931.57       1  \n",
       "3            93826.63       0  \n",
       "4            79084.10       0  \n",
       "...               ...     ...  \n",
       "9995         96270.64       0  \n",
       "9996        101699.77       0  \n",
       "9997         42085.58       1  \n",
       "9998         92888.52       1  \n",
       "9999         38190.78       0  \n",
       "\n",
       "[10000 rows x 14 columns]"
      ]
     },
     "execution_count": 124,
     "metadata": {},
     "output_type": "execute_result"
    }
   ],
   "source": [
    "bb.columns = bb.columns.str.lower()\n",
    "bb"
   ]
  },
  {
   "cell_type": "code",
   "execution_count": 125,
   "metadata": {},
   "outputs": [
    {
     "name": "stdout",
     "output_type": "stream",
     "text": [
      "                 rownumber  customerid  creditscore       age    tenure  \\\n",
      "rownumber         1.000000    0.004289     0.002330  0.000681 -0.007322   \n",
      "customerid        0.004289    1.000000    -0.001610  0.010379 -0.021418   \n",
      "creditscore       0.002330   -0.001610     1.000000 -0.004504 -0.000062   \n",
      "age               0.000681    0.010379    -0.004504  1.000000 -0.013134   \n",
      "tenure           -0.007322   -0.021418    -0.000062 -0.013134  1.000000   \n",
      "balance          -0.005921   -0.007445     0.002804  0.031481 -0.007911   \n",
      "numofproducts     0.009078    0.014604     0.011090 -0.031877  0.011979   \n",
      "hascrcard         0.001248   -0.019891    -0.003937 -0.014129  0.027232   \n",
      "isactivemember    0.009536    0.001499     0.030947  0.082269 -0.032178   \n",
      "estimatedsalary  -0.004854    0.010029     0.005182 -0.007037  0.010520   \n",
      "exited           -0.014562   -0.007040    -0.023950  0.283017 -0.016761   \n",
      "\n",
      "                  balance  numofproducts  hascrcard  isactivemember  \\\n",
      "rownumber       -0.005921       0.009078   0.001248        0.009536   \n",
      "customerid      -0.007445       0.014604  -0.019891        0.001499   \n",
      "creditscore      0.002804       0.011090  -0.003937        0.030947   \n",
      "age              0.031481      -0.031877  -0.014129        0.082269   \n",
      "tenure          -0.007911       0.011979   0.027232       -0.032178   \n",
      "balance          1.000000      -0.301858  -0.019055       -0.003285   \n",
      "numofproducts   -0.301858       1.000000   0.005805        0.009084   \n",
      "hascrcard       -0.019055       0.005805   1.000000       -0.008810   \n",
      "isactivemember  -0.003285       0.009084  -0.008810        1.000000   \n",
      "estimatedsalary  0.014351       0.013990  -0.006136       -0.020049   \n",
      "exited           0.117218      -0.050271  -0.005411       -0.155062   \n",
      "\n",
      "                 estimatedsalary    exited  \n",
      "rownumber              -0.004854 -0.014562  \n",
      "customerid              0.010029 -0.007040  \n",
      "creditscore             0.005182 -0.023950  \n",
      "age                    -0.007037  0.283017  \n",
      "tenure                  0.010520 -0.016761  \n",
      "balance                 0.014351  0.117218  \n",
      "numofproducts           0.013990 -0.050271  \n",
      "hascrcard              -0.006136 -0.005411  \n",
      "isactivemember         -0.020049 -0.155062  \n",
      "estimatedsalary         1.000000  0.016029  \n",
      "exited                  0.016029  1.000000  \n"
     ]
    }
   ],
   "source": [
    "#print(bb[bb['tenure'].isna() == True])\n",
    "#bb[bb['tenure'].notna() == True]\n",
    "\n",
    "#print(bb['tenure'].isna().value_counts())\n",
    "\n",
    "#Tenure is too important to fill with a median or any of the numbers so we'll remove it all together.\n",
    "#1000/10000 is only 1/10\n",
    "bb['tenure'].value_counts()\n",
    "bb = bb[bb['tenure'].isna() == False]\n",
    "bb['tenure'].value_counts()\n",
    "print(bb.corr())\n"
   ]
  },
  {
   "cell_type": "markdown",
   "metadata": {},
   "source": [
    "### ENRICH DATA"
   ]
  },
  {
   "cell_type": "markdown",
   "metadata": {},
   "source": [
    "[Add additional factors to the data if you believe they might be useful.]\n",
    "\n",
    "We need to scale and encode it or we'll get a value error. We're trying to get categorical features into numerical features."
   ]
  },
  {
   "cell_type": "code",
   "execution_count": 1,
   "metadata": {},
   "outputs": [
    {
     "ename": "NameError",
     "evalue": "name 'bb' is not defined",
     "output_type": "error",
     "traceback": [
      "\u001b[0;31m---------------------------------------------------------------------------\u001b[0m",
      "\u001b[0;31mNameError\u001b[0m                                 Traceback (most recent call last)",
      "\u001b[0;32m/tmp/ipykernel_48/946094597.py\u001b[0m in \u001b[0;36m<module>\u001b[0;34m\u001b[0m\n\u001b[1;32m      5\u001b[0m \u001b[0;31m#We won't need  for the rownumber and customerid columns.\u001b[0m\u001b[0;34m\u001b[0m\u001b[0;34m\u001b[0m\u001b[0;34m\u001b[0m\u001b[0m\n\u001b[1;32m      6\u001b[0m \u001b[0;34m\u001b[0m\u001b[0m\n\u001b[0;32m----> 7\u001b[0;31m \u001b[0mbb\u001b[0m \u001b[0;34m=\u001b[0m \u001b[0mbb\u001b[0m\u001b[0;34m.\u001b[0m\u001b[0mdrop\u001b[0m\u001b[0;34m(\u001b[0m\u001b[0;34m'rownumber'\u001b[0m\u001b[0;34m,\u001b[0m\u001b[0maxis\u001b[0m\u001b[0;34m=\u001b[0m\u001b[0;36m1\u001b[0m\u001b[0;34m)\u001b[0m\u001b[0;34m\u001b[0m\u001b[0;34m\u001b[0m\u001b[0m\n\u001b[0m\u001b[1;32m      8\u001b[0m \u001b[0mbb\u001b[0m \u001b[0;34m=\u001b[0m \u001b[0mbb\u001b[0m\u001b[0;34m.\u001b[0m\u001b[0mdrop\u001b[0m\u001b[0;34m(\u001b[0m\u001b[0;34m'customerid'\u001b[0m\u001b[0;34m,\u001b[0m\u001b[0maxis\u001b[0m\u001b[0;34m=\u001b[0m\u001b[0;36m1\u001b[0m\u001b[0;34m)\u001b[0m\u001b[0;34m\u001b[0m\u001b[0;34m\u001b[0m\u001b[0m\n\u001b[1;32m      9\u001b[0m \u001b[0mbb\u001b[0m \u001b[0;34m=\u001b[0m \u001b[0mbb\u001b[0m\u001b[0;34m.\u001b[0m\u001b[0mdrop\u001b[0m\u001b[0;34m(\u001b[0m\u001b[0;34m'surname'\u001b[0m\u001b[0;34m,\u001b[0m\u001b[0maxis\u001b[0m\u001b[0;34m=\u001b[0m\u001b[0;36m1\u001b[0m\u001b[0;34m)\u001b[0m \u001b[0;31m#we don't need surnames\u001b[0m\u001b[0;34m\u001b[0m\u001b[0;34m\u001b[0m\u001b[0m\n",
      "\u001b[0;31mNameError\u001b[0m: name 'bb' is not defined"
     ]
    }
   ],
   "source": [
    "#We'll get if ValueError: could not convert string to float: \"Ch'ien\" \n",
    "#We won't need ordinalencoder becauseOrdinalEncoder adds ordinal relationship which will be wrong in most cases.\n",
    "#https://pastebin.com/h40tV5EX\n",
    "\n",
    "#We won't need  for the rownumber and customerid columns.\n",
    "\n",
    "bb = bb.drop('rownumber',axis=1)\n",
    "bb = bb.drop('customerid',axis=1)\n",
    "bb = bb.drop('surname',axis=1) #we don't need surnames\n",
    "\n",
    "#print(pd.get_dummies(bb['surname'])) #used this to test\n",
    "\n",
    "#OHE won't work because we're not justing LogisticRegression\n",
    "bb_OHE = pd.get_dummies(bb,drop_first=True)\n",
    "\n",
    "#If you pass drop_first=True then the first column is dropped. Otherwise it's drop_first=False by default, and no columns are dropped.\n",
    "features = bb_OHE.drop('exited',axis=1)\n",
    "target = bb_OHE['exited']"
   ]
  },
  {
   "cell_type": "markdown",
   "metadata": {},
   "source": [
    "## Model Testing"
   ]
  },
  {
   "cell_type": "markdown",
   "metadata": {},
   "source": [
    "[Examine the balance of classes. Train the model without taking into account the imbalance. Briefly describe your findings.]"
   ]
  },
  {
   "cell_type": "markdown",
   "metadata": {},
   "source": [
    "### Imbalanced Model Testing"
   ]
  },
  {
   "cell_type": "code",
   "execution_count": 127,
   "metadata": {
    "scrolled": true
   },
   "outputs": [],
   "source": [
    "#https://pastebin.com/exeweQhB\n",
    "\n",
    "features_train, features_remainder, target_train, target_remainder = train_test_split(features,target,test_size=0.25,random_state=12345)\n",
    "features_valid, features_test, target_valid, target_test = train_test_split(features_remainder,target_remainder,test_size=0.5,random_state=12345)"
   ]
  },
  {
   "cell_type": "markdown",
   "metadata": {},
   "source": [
    "#### Scaling"
   ]
  },
  {
   "cell_type": "markdown",
   "metadata": {},
   "source": [
    "[We need to scale the data in order to prep the model]"
   ]
  },
  {
   "cell_type": "code",
   "execution_count": 128,
   "metadata": {},
   "outputs": [
    {
     "data": {
      "text/html": [
       "<div>\n",
       "<style scoped>\n",
       "    .dataframe tbody tr th:only-of-type {\n",
       "        vertical-align: middle;\n",
       "    }\n",
       "\n",
       "    .dataframe tbody tr th {\n",
       "        vertical-align: top;\n",
       "    }\n",
       "\n",
       "    .dataframe thead th {\n",
       "        text-align: right;\n",
       "    }\n",
       "</style>\n",
       "<table border=\"1\" class=\"dataframe\">\n",
       "  <thead>\n",
       "    <tr style=\"text-align: right;\">\n",
       "      <th></th>\n",
       "      <th>creditscore</th>\n",
       "      <th>geography</th>\n",
       "      <th>gender</th>\n",
       "      <th>age</th>\n",
       "      <th>tenure</th>\n",
       "      <th>balance</th>\n",
       "      <th>numofproducts</th>\n",
       "      <th>hascrcard</th>\n",
       "      <th>isactivemember</th>\n",
       "      <th>estimatedsalary</th>\n",
       "      <th>exited</th>\n",
       "    </tr>\n",
       "  </thead>\n",
       "  <tbody>\n",
       "    <tr>\n",
       "      <th>0</th>\n",
       "      <td>619</td>\n",
       "      <td>France</td>\n",
       "      <td>Female</td>\n",
       "      <td>42</td>\n",
       "      <td>2.0</td>\n",
       "      <td>0.00</td>\n",
       "      <td>1</td>\n",
       "      <td>1</td>\n",
       "      <td>1</td>\n",
       "      <td>101348.88</td>\n",
       "      <td>1</td>\n",
       "    </tr>\n",
       "    <tr>\n",
       "      <th>1</th>\n",
       "      <td>608</td>\n",
       "      <td>Spain</td>\n",
       "      <td>Female</td>\n",
       "      <td>41</td>\n",
       "      <td>1.0</td>\n",
       "      <td>83807.86</td>\n",
       "      <td>1</td>\n",
       "      <td>0</td>\n",
       "      <td>1</td>\n",
       "      <td>112542.58</td>\n",
       "      <td>0</td>\n",
       "    </tr>\n",
       "    <tr>\n",
       "      <th>2</th>\n",
       "      <td>502</td>\n",
       "      <td>France</td>\n",
       "      <td>Female</td>\n",
       "      <td>42</td>\n",
       "      <td>8.0</td>\n",
       "      <td>159660.80</td>\n",
       "      <td>3</td>\n",
       "      <td>1</td>\n",
       "      <td>0</td>\n",
       "      <td>113931.57</td>\n",
       "      <td>1</td>\n",
       "    </tr>\n",
       "    <tr>\n",
       "      <th>3</th>\n",
       "      <td>699</td>\n",
       "      <td>France</td>\n",
       "      <td>Female</td>\n",
       "      <td>39</td>\n",
       "      <td>1.0</td>\n",
       "      <td>0.00</td>\n",
       "      <td>2</td>\n",
       "      <td>0</td>\n",
       "      <td>0</td>\n",
       "      <td>93826.63</td>\n",
       "      <td>0</td>\n",
       "    </tr>\n",
       "    <tr>\n",
       "      <th>4</th>\n",
       "      <td>850</td>\n",
       "      <td>Spain</td>\n",
       "      <td>Female</td>\n",
       "      <td>43</td>\n",
       "      <td>2.0</td>\n",
       "      <td>125510.82</td>\n",
       "      <td>1</td>\n",
       "      <td>1</td>\n",
       "      <td>1</td>\n",
       "      <td>79084.10</td>\n",
       "      <td>0</td>\n",
       "    </tr>\n",
       "    <tr>\n",
       "      <th>...</th>\n",
       "      <td>...</td>\n",
       "      <td>...</td>\n",
       "      <td>...</td>\n",
       "      <td>...</td>\n",
       "      <td>...</td>\n",
       "      <td>...</td>\n",
       "      <td>...</td>\n",
       "      <td>...</td>\n",
       "      <td>...</td>\n",
       "      <td>...</td>\n",
       "      <td>...</td>\n",
       "    </tr>\n",
       "    <tr>\n",
       "      <th>9994</th>\n",
       "      <td>800</td>\n",
       "      <td>France</td>\n",
       "      <td>Female</td>\n",
       "      <td>29</td>\n",
       "      <td>2.0</td>\n",
       "      <td>0.00</td>\n",
       "      <td>2</td>\n",
       "      <td>0</td>\n",
       "      <td>0</td>\n",
       "      <td>167773.55</td>\n",
       "      <td>0</td>\n",
       "    </tr>\n",
       "    <tr>\n",
       "      <th>9995</th>\n",
       "      <td>771</td>\n",
       "      <td>France</td>\n",
       "      <td>Male</td>\n",
       "      <td>39</td>\n",
       "      <td>5.0</td>\n",
       "      <td>0.00</td>\n",
       "      <td>2</td>\n",
       "      <td>1</td>\n",
       "      <td>0</td>\n",
       "      <td>96270.64</td>\n",
       "      <td>0</td>\n",
       "    </tr>\n",
       "    <tr>\n",
       "      <th>9996</th>\n",
       "      <td>516</td>\n",
       "      <td>France</td>\n",
       "      <td>Male</td>\n",
       "      <td>35</td>\n",
       "      <td>10.0</td>\n",
       "      <td>57369.61</td>\n",
       "      <td>1</td>\n",
       "      <td>1</td>\n",
       "      <td>1</td>\n",
       "      <td>101699.77</td>\n",
       "      <td>0</td>\n",
       "    </tr>\n",
       "    <tr>\n",
       "      <th>9997</th>\n",
       "      <td>709</td>\n",
       "      <td>France</td>\n",
       "      <td>Female</td>\n",
       "      <td>36</td>\n",
       "      <td>7.0</td>\n",
       "      <td>0.00</td>\n",
       "      <td>1</td>\n",
       "      <td>0</td>\n",
       "      <td>1</td>\n",
       "      <td>42085.58</td>\n",
       "      <td>1</td>\n",
       "    </tr>\n",
       "    <tr>\n",
       "      <th>9998</th>\n",
       "      <td>772</td>\n",
       "      <td>Germany</td>\n",
       "      <td>Male</td>\n",
       "      <td>42</td>\n",
       "      <td>3.0</td>\n",
       "      <td>75075.31</td>\n",
       "      <td>2</td>\n",
       "      <td>1</td>\n",
       "      <td>0</td>\n",
       "      <td>92888.52</td>\n",
       "      <td>1</td>\n",
       "    </tr>\n",
       "  </tbody>\n",
       "</table>\n",
       "<p>9091 rows × 11 columns</p>\n",
       "</div>"
      ],
      "text/plain": [
       "      creditscore geography  gender  age  tenure    balance  numofproducts  \\\n",
       "0             619    France  Female   42     2.0       0.00              1   \n",
       "1             608     Spain  Female   41     1.0   83807.86              1   \n",
       "2             502    France  Female   42     8.0  159660.80              3   \n",
       "3             699    France  Female   39     1.0       0.00              2   \n",
       "4             850     Spain  Female   43     2.0  125510.82              1   \n",
       "...           ...       ...     ...  ...     ...        ...            ...   \n",
       "9994          800    France  Female   29     2.0       0.00              2   \n",
       "9995          771    France    Male   39     5.0       0.00              2   \n",
       "9996          516    France    Male   35    10.0   57369.61              1   \n",
       "9997          709    France  Female   36     7.0       0.00              1   \n",
       "9998          772   Germany    Male   42     3.0   75075.31              2   \n",
       "\n",
       "      hascrcard  isactivemember  estimatedsalary  exited  \n",
       "0             1               1        101348.88       1  \n",
       "1             0               1        112542.58       0  \n",
       "2             1               0        113931.57       1  \n",
       "3             0               0         93826.63       0  \n",
       "4             1               1         79084.10       0  \n",
       "...         ...             ...              ...     ...  \n",
       "9994          0               0        167773.55       0  \n",
       "9995          1               0         96270.64       0  \n",
       "9996          1               1        101699.77       0  \n",
       "9997          0               1         42085.58       1  \n",
       "9998          1               0         92888.52       1  \n",
       "\n",
       "[9091 rows x 11 columns]"
      ]
     },
     "execution_count": 128,
     "metadata": {},
     "output_type": "execute_result"
    }
   ],
   "source": [
    "#bb_ordinal\n",
    "numeric = ['creditscore','age','tenure','balance','numofproducts','estimatedsalary']\n",
    "bb\n",
    "#non binary to scale for later."
   ]
  },
  {
   "cell_type": "code",
   "execution_count": 129,
   "metadata": {},
   "outputs": [],
   "source": [
    "#Create an instance of the class and tune it using the training data. The tuning process implies calculating the mean and variance:\n",
    "scaler = StandardScaler()\n",
    "scaler.fit(features_train[numeric])\n",
    "\n",
    "#Transform the training set and the validation set using transform(). Store the modified sets to variables as follows: features_train_scaled and features_valid_scaled:\n",
    "features_train[numeric] = scaler.transform(features_train[numeric])\n",
    "features_valid[numeric] = scaler.transform(features_valid[numeric]) \n",
    "features_test[numeric] = scaler.transform(features_test[numeric])\n",
    "\n",
    "#Red text removal\n",
    "pd.options.mode.chained_assignment = None"
   ]
  },
  {
   "cell_type": "code",
   "execution_count": 130,
   "metadata": {},
   "outputs": [
    {
     "name": "stdout",
     "output_type": "stream",
     "text": [
      "Trained!\n"
     ]
    }
   ],
   "source": [
    "model = DecisionTreeClassifier(random_state=12345)\n",
    "\n",
    "model.fit(features_train,target_train)\n",
    "print('Trained!')"
   ]
  },
  {
   "cell_type": "markdown",
   "metadata": {},
   "source": [
    "### Sanity Check"
   ]
  },
  {
   "cell_type": "markdown",
   "metadata": {},
   "source": [
    "#### Accuracy Score"
   ]
  },
  {
   "cell_type": "code",
   "execution_count": 131,
   "metadata": {},
   "outputs": [
    {
     "name": "stdout",
     "output_type": "stream",
     "text": [
      "0.7623239436619719\n"
     ]
    }
   ],
   "source": [
    "predictions_valid = model.predict(features_valid)\n",
    "accuracy_score_imbalanced = accuracy_score(target_valid,predictions_valid)\n",
    "print(accuracy_score_imbalanced)"
   ]
  },
  {
   "cell_type": "markdown",
   "metadata": {},
   "source": [
    "#### Class Frequency"
   ]
  },
  {
   "cell_type": "code",
   "execution_count": 132,
   "metadata": {
    "scrolled": true
   },
   "outputs": [
    {
     "name": "stdout",
     "output_type": "stream",
     "text": [
      "0    0.765845\n",
      "1    0.234155\n",
      "dtype: float64\n"
     ]
    },
    {
     "data": {
      "text/plain": [
       "<AxesSubplot:>"
      ]
     },
     "execution_count": 132,
     "metadata": {},
     "output_type": "execute_result"
    },
    {
     "data": {
      "image/png": "[encoded data removed]",
      "text/plain": [
       "<Figure size 432x288 with 1 Axes>"
      ]
     },
     "metadata": {
      "needs_background": "light"
     },
     "output_type": "display_data"
    }
   ],
   "source": [
    "#To assess the sanity of the model, let's check how often the target feature contains the class \"1\" or \"0\". The number of unique values is calculated using the value_counts() method, which groups together the exact same values.\n",
    "predicted_valid = pd.Series(model.predict(features_valid))\n",
    "class_frequency = predicted_valid.value_counts(normalize=True) ##With normalize set to True, returns the relative frequency by dividing all values by the sum of values. Bins can be useful for going from a continuous variable to a categorical variable; instead of counting unique apparitions of values, divide the index in the specified number of half-open bins.\n",
    "print(class_frequency)\n",
    "class_frequency.plot(kind='bar')"
   ]
  },
  {
   "cell_type": "markdown",
   "metadata": {},
   "source": [
    "79% exited the bank according to this."
   ]
  },
  {
   "cell_type": "markdown",
   "metadata": {},
   "source": [
    "#### Target prediction constant"
   ]
  },
  {
   "cell_type": "code",
   "execution_count": 133,
   "metadata": {
    "scrolled": false
   },
   "outputs": [
    {
     "name": "stdout",
     "output_type": "stream",
     "text": [
      "0.7960620393796062\n"
     ]
    }
   ],
   "source": [
    "# so this is essentially asking you to make a series of 0s. This will perform really well only because most of the values in our data were 0, so its not a real model and doesnt pass the sanity check.\n",
    "#from slack\n",
    "\n",
    "target_pred_constant = pd.Series(0, index=target.index)\n",
    "accuracy_score_constant = accuracy_score(target,target_pred_constant)\n",
    "print(accuracy_score_constant)"
   ]
  },
  {
   "cell_type": "markdown",
   "metadata": {},
   "source": [
    "It's a score of 76, almost 80! So it's a good score, only 2 less than the constant, but still doesn't account for the false positive and false negative answers. \"Classes are unbalanced when their ratio is far from 1:1. Class balance is observed if their number is approximately equal.Accuracy doesn't get rid of class imbalance."
   ]
  },
  {
   "cell_type": "markdown",
   "metadata": {},
   "source": [
    "#### Recall, Precision and F1"
   ]
  },
  {
   "cell_type": "code",
   "execution_count": 134,
   "metadata": {},
   "outputs": [
    {
     "name": "stdout",
     "output_type": "stream",
     "text": [
      "[[753 153]\n",
      " [117 113]]\n",
      "0.49130434782608695\n",
      "0.424812030075188\n",
      "0.4556451612903226\n"
     ]
    }
   ],
   "source": [
    "print(confusion_matrix(target_valid,predicted_valid))\n",
    "#reminder:\n",
    "#The correct predictions are on the main diagonal (from the upper-left corner):\n",
    "#TN in the upper-left corner\n",
    "#TP in the lower right corner\n",
    "#Incorrect predictions are outside of the main diagonal:\n",
    "#FP in the upper right corner\n",
    "#FN in the lower left corner\n",
    "\n",
    "\n",
    "#Recall reveals the portion of positive answers identified by the model or the proportion of positive answers marked positive by the model (TP) to the positive answers marked positive by the model (TP) plus the answers marked negative by the model that are actually positive (FN)\n",
    "print(recall_score(target_valid,predicted_valid))\n",
    "# TP/ (TP + FN)\n",
    "\n",
    "#Precision measures how many negative answers the model found while searching for positive ones. The more negative answers are found, the lower the precision.\n",
    "print(precision_score(target_valid,predicted_valid))\n",
    "#TP/(TP + FP)\n",
    "\n",
    "##This is the harmonic mean of recall and precision.\n",
    "f1_imbalanced = f1_score(target_valid,predicted_valid)\n",
    "print(f1_imbalanced)\n",
    "#(2xPrxRe)/(Pr+Re)"
   ]
  },
  {
   "cell_type": "markdown",
   "metadata": {},
   "source": [
    " Pretty bad. Low recall, Low precision. Low F1."
   ]
  },
  {
   "cell_type": "markdown",
   "metadata": {},
   "source": [
    "##### AUC ROC"
   ]
  },
  {
   "cell_type": "code",
   "execution_count": 135,
   "metadata": {},
   "outputs": [
    {
     "name": "stdout",
     "output_type": "stream",
     "text": [
      "0.6612150878203282\n"
     ]
    }
   ],
   "source": [
    "#We put the false positive rate values (FPR) along the horizontal axis, and true positive rate values (TPR) along the vertical axis. Then we iterate over the logistic regression threshold values and plot a curve. It is called the ROC curve (Receiver Operating Characteristic — a term from signal processing theory).\n",
    "#To find how much our model differs from the random model, let's calculate the AUC-ROC value (Area Under Curve ROC) This is a new evaluation metric with values in the range from 0 to 1. The AUC-ROC value for a random model is 0.5.\n",
    "probabilities_valid = model.predict_proba(features_valid)\n",
    "probabilities_one_valid = probabilities_valid[:, 1]\n",
    "\n",
    "auc_roc_imbalanced = roc_auc_score(target_valid,probabilities_one_valid)\n",
    "print(auc_roc_imbalanced)"
   ]
  },
  {
   "cell_type": "markdown",
   "metadata": {},
   "source": [
    "It's an almost good auc_roc score, but we can do better."
   ]
  },
  {
   "cell_type": "code",
   "execution_count": 136,
   "metadata": {},
   "outputs": [
    {
     "name": "stdout",
     "output_type": "stream",
     "text": [
      "constant accuracy: 0.7960620393796062\n",
      "model imbalanced accuracy: 0.7623239436619719\n",
      "model imbalanced f1 0.4556451612903226\n",
      "model imbalanced auc_roc: 0.6612150878203282\n"
     ]
    }
   ],
   "source": [
    "print('constant accuracy:',accuracy_score_constant)\n",
    "print('model imbalanced accuracy:',accuracy_score_imbalanced)\n",
    "print('model imbalanced f1',f1_imbalanced)\n",
    "print('model imbalanced auc_roc:',auc_roc_imbalanced)"
   ]
  },
  {
   "cell_type": "markdown",
   "metadata": {},
   "source": [
    "## Balanced Model Testing"
   ]
  },
  {
   "cell_type": "markdown",
   "metadata": {},
   "source": [
    "[Improve the quality of the model. Make sure you use at least two approaches to fixing class imbalance. Use the training set to pick the best parameters. Train different models on training and validation sets. Find the best one. Briefly describe your findings.]"
   ]
  },
  {
   "cell_type": "markdown",
   "metadata": {},
   "source": [
    "### Balanced Weight"
   ]
  },
  {
   "cell_type": "code",
   "execution_count": 137,
   "metadata": {
    "scrolled": true
   },
   "outputs": [
    {
     "name": "stdout",
     "output_type": "stream",
     "text": [
      "trained\n"
     ]
    }
   ],
   "source": [
    "#Lets make a new model\n",
    "model = DecisionTreeClassifier(random_state=12345, class_weight='balanced')\n",
    "model.fit(features_train,target_train)\n",
    "print('trained')"
   ]
  },
  {
   "cell_type": "markdown",
   "metadata": {},
   "source": [
    "### Sanity Check"
   ]
  },
  {
   "cell_type": "markdown",
   "metadata": {},
   "source": [
    "##### Accuracy Score"
   ]
  },
  {
   "cell_type": "code",
   "execution_count": 138,
   "metadata": {
    "scrolled": true
   },
   "outputs": [
    {
     "name": "stdout",
     "output_type": "stream",
     "text": [
      "0.7825704225352113\n"
     ]
    }
   ],
   "source": [
    "predictions_valid = model.predict(features_valid)\n",
    "accuracy_score_balanced = accuracy_score(target_valid,predictions_valid)\n",
    "print(accuracy_score_balanced)"
   ]
  },
  {
   "cell_type": "markdown",
   "metadata": {},
   "source": [
    "2 higher already."
   ]
  },
  {
   "cell_type": "markdown",
   "metadata": {},
   "source": [
    "##### Class Frequency"
   ]
  },
  {
   "cell_type": "code",
   "execution_count": 139,
   "metadata": {
    "scrolled": false
   },
   "outputs": [
    {
     "name": "stdout",
     "output_type": "stream",
     "text": [
      "0    0.789613\n",
      "1    0.210387\n",
      "dtype: float64\n"
     ]
    },
    {
     "data": {
      "text/plain": [
       "<AxesSubplot:>"
      ]
     },
     "execution_count": 139,
     "metadata": {},
     "output_type": "execute_result"
    },
    {
     "data": {
      "image/png": "[encoded data removed]",
      "text/plain": [
       "<Figure size 432x288 with 1 Axes>"
      ]
     },
     "metadata": {
      "needs_background": "light"
     },
     "output_type": "display_data"
    }
   ],
   "source": [
    "#To assess the sanity of the model, let's check how often the target feature contains the class \"1\" or \"0\". The number of unique values is calculated using the value_counts() method, which groups together the exact same values.\n",
    "predicted_valid = pd.Series(model.predict(features_valid))\n",
    "class_frequency = predicted_valid.value_counts(normalize=True) ##With normalize set to True, returns the relative frequency by dividing all values by the sum of values. Bins can be useful for going from a continuous variable to a categorical variable; instead of counting unique apparitions of values, divide the index in the specified number of half-open bins.\n",
    "print(class_frequency)\n",
    "class_frequency.plot(kind='bar')"
   ]
  },
  {
   "cell_type": "markdown",
   "metadata": {},
   "source": [
    "#### Target prediction constant"
   ]
  },
  {
   "cell_type": "code",
   "execution_count": 140,
   "metadata": {
    "scrolled": false
   },
   "outputs": [
    {
     "name": "stdout",
     "output_type": "stream",
     "text": [
      "0.7960620393796062\n"
     ]
    }
   ],
   "source": [
    "# so this is essentially asking you to make a series of 0s. This will perform really well only because most of the values in our data were 0, so its not a real model and doesnt pass the sanity check.\n",
    "#from slack\n",
    "\n",
    "target_pred_constant = pd.Series(0, index=target.index)\n",
    "accuracy_score_constant = accuracy_score(target,target_pred_constant)\n",
    "print(accuracy_score_constant)"
   ]
  },
  {
   "cell_type": "markdown",
   "metadata": {},
   "source": [
    "78, better! Closer to the constant!"
   ]
  },
  {
   "cell_type": "markdown",
   "metadata": {},
   "source": [
    "#### Recall, Precision and F1"
   ]
  },
  {
   "cell_type": "code",
   "execution_count": 141,
   "metadata": {},
   "outputs": [
    {
     "name": "stdout",
     "output_type": "stream",
     "text": [
      "[[778 128]\n",
      " [119 111]]\n",
      "0.4826086956521739\n",
      "0.46443514644351463\n",
      "0.4733475479744136\n"
     ]
    }
   ],
   "source": [
    "print(confusion_matrix(target_valid,predicted_valid))\n",
    "#reminder:\n",
    "#The correct predictions are on the main diagonal (from the upper-left corner):\n",
    "#TN in the upper-left corner\n",
    "#TP in the lower right corner\n",
    "#Incorrect predictions are outside of the main diagonal:\n",
    "#FP in the upper right corner\n",
    "#FN in the lower left corner\n",
    "\n",
    "\n",
    "#Recall reveals the portion of positive answers identified by the model or the proportion of positive answers marked positive by the model (TP) to the positive answers marked positive by the model (TP) plus the answers marked negative by the model that are actually positive (FN)\n",
    "print(recall_score(target_valid,predicted_valid))\n",
    "# TP/ (TP + FN)\n",
    "\n",
    "#Precision measures how many negative answers the model found while searching for positive ones. The more negative answers are found, the lower the precision.\n",
    "print(precision_score(target_valid,predicted_valid))\n",
    "#TP/(TP + FP)\n",
    "\n",
    "##This is the harmonic mean of recall and precision.\n",
    "f1_balanced = f1_score(target_valid,predicted_valid)\n",
    "print(f1_score(target_valid,predicted_valid))\n",
    "#(2xPrxRe)/(Pr+Re)"
   ]
  },
  {
   "cell_type": "markdown",
   "metadata": {},
   "source": [
    "Higher in everything by a point."
   ]
  },
  {
   "cell_type": "markdown",
   "metadata": {},
   "source": [
    "##### AUC ROC"
   ]
  },
  {
   "cell_type": "code",
   "execution_count": 142,
   "metadata": {
    "scrolled": true
   },
   "outputs": [
    {
     "name": "stdout",
     "output_type": "stream",
     "text": [
      "0.6706641712256455\n"
     ]
    }
   ],
   "source": [
    "#We put the false positive rate values (FPR) along the horizontal axis, and true positive rate values (TPR) along the vertical axis. Then we iterate over the logistic regression threshold values and plot a curve. It is called the ROC curve (Receiver Operating Characteristic — a term from signal processing theory).\n",
    "probabilities_valid = model.predict_proba(features_valid)\n",
    "probabilities_one_valid = probabilities_valid[:, 1]\n",
    "\n",
    "auc_roc_balanced = roc_auc_score(target_valid,probabilities_one_valid)\n",
    "print(auc_roc_balanced)"
   ]
  },
  {
   "cell_type": "markdown",
   "metadata": {},
   "source": [
    "2 points above imbalanced!"
   ]
  },
  {
   "cell_type": "markdown",
   "metadata": {},
   "source": [
    "####  Comparison"
   ]
  },
  {
   "cell_type": "code",
   "execution_count": 143,
   "metadata": {},
   "outputs": [
    {
     "name": "stdout",
     "output_type": "stream",
     "text": [
      "constant accuracy: 0.7960620393796062\n",
      "model balanced accuracy: 0.7825704225352113\n",
      "model balanced f1 0.4733475479744136\n",
      "model balanced auc_roc: 0.6706641712256455\n"
     ]
    }
   ],
   "source": [
    "print('constant accuracy:',accuracy_score_constant)\n",
    "print('model balanced accuracy:',accuracy_score_balanced)\n",
    "print('model balanced f1',f1_balanced)\n",
    "print('model balanced auc_roc:',auc_roc_balanced)"
   ]
  },
  {
   "cell_type": "markdown",
   "metadata": {},
   "source": [
    "As we can see, better accuracy and scores."
   ]
  },
  {
   "cell_type": "markdown",
   "metadata": {},
   "source": [
    "### Upsampling"
   ]
  },
  {
   "cell_type": "code",
   "execution_count": 144,
   "metadata": {},
   "outputs": [],
   "source": [
    "#Split the training sample by class.\n",
    "#Determine the class with fewer observations. Call it the rare class.\n",
    "#Duplicate the rarer class observations several times.\n",
    "#Create a new training sample based on the data obtained.\n",
    "#Shuffle the data.\n",
    "\n",
    "def upsample(features,target,repeat):\n",
    "    features_zeros = features[target == 0]\n",
    "    features_ones = features[target == 1]\n",
    "    target_zeros = target[target == 0]\n",
    "    target_ones = target[target == 1]\n",
    "    \n",
    "    #Use the pd.concat() function to concatenate the tables.\n",
    "    \n",
    "    features_upsampled = pd.concat([features_zeros] + [features_ones] * repeat)\n",
    "    target_upsampled = pd.concat([target_zeros] + [target_ones] * repeat)\n",
    "    \n",
    "    features_upsampled,target_upsampled = shuffle(features_upsampled,target_upsampled,random_state=12345)\n",
    "    \n",
    "    return features_upsampled,target_upsampled\n",
    "    \n",
    "features_upsampled, target_upsampled = upsample(features_train,target_train,10)"
   ]
  },
  {
   "cell_type": "code",
   "execution_count": 145,
   "metadata": {
    "scrolled": true
   },
   "outputs": [
    {
     "name": "stdout",
     "output_type": "stream",
     "text": [
      "trained\n"
     ]
    }
   ],
   "source": [
    "model = DecisionTreeClassifier(random_state=12345)\n",
    "model.fit(features_upsampled,target_upsampled)\n",
    "print('trained')"
   ]
  },
  {
   "cell_type": "markdown",
   "metadata": {},
   "source": [
    "### Sanity Check"
   ]
  },
  {
   "cell_type": "markdown",
   "metadata": {},
   "source": [
    "#### Accuracy Score"
   ]
  },
  {
   "cell_type": "code",
   "execution_count": 146,
   "metadata": {
    "scrolled": false
   },
   "outputs": [
    {
     "name": "stdout",
     "output_type": "stream",
     "text": [
      "0.8019366197183099\n"
     ]
    }
   ],
   "source": [
    "predictions_valid = model.predict(features_valid)\n",
    "#print(accuracy_score(target_upsampled,predictions_upsampled))\n",
    "#I should check on validation dataset, not train\n",
    "accuracy_score_upsampled = accuracy_score(target_valid,predictions_valid)\n",
    "print(accuracy_score_upsampled)"
   ]
  },
  {
   "cell_type": "markdown",
   "metadata": {},
   "source": [
    "#### Class Frequency"
   ]
  },
  {
   "cell_type": "code",
   "execution_count": 147,
   "metadata": {
    "scrolled": false
   },
   "outputs": [
    {
     "name": "stdout",
     "output_type": "stream",
     "text": [
      "0    0.793134\n",
      "1    0.206866\n",
      "dtype: float64\n"
     ]
    },
    {
     "data": {
      "text/plain": [
       "<AxesSubplot:>"
      ]
     },
     "execution_count": 147,
     "metadata": {},
     "output_type": "execute_result"
    },
    {
     "data": {
      "image/png": "[encoded data removed]",
      "text/plain": [
       "<Figure size 432x288 with 1 Axes>"
      ]
     },
     "metadata": {
      "needs_background": "light"
     },
     "output_type": "display_data"
    }
   ],
   "source": [
    "#To assess the sanity of the model, let's check how often the target feature contains the class \"1\" or \"0\". The number of unique values is calculated using the value_counts() method, which groups together the exact same values.\n",
    "predicted_valid = pd.Series(model.predict(features_valid))\n",
    "class_frequency = predicted_valid.value_counts(normalize=True) ##With normalize set to True, returns the relative frequency by dividing all values by the sum of values. Bins can be useful for going from a continuous variable to a categorical variable; instead of counting unique apparitions of values, divide the index in the specified number of half-open bins.\n",
    "print(class_frequency)\n",
    "class_frequency.plot(kind='bar')"
   ]
  },
  {
   "cell_type": "markdown",
   "metadata": {},
   "source": [
    "#### Target prediction constant"
   ]
  },
  {
   "cell_type": "code",
   "execution_count": 148,
   "metadata": {
    "scrolled": false
   },
   "outputs": [
    {
     "name": "stdout",
     "output_type": "stream",
     "text": [
      "0.7960620393796062\n"
     ]
    }
   ],
   "source": [
    "# so this is essentially asking you to make a series of 0s. This will perform really well only because most of the values in our data were 0, so its not a real model and doesnt pass the sanity check.\n",
    "#from slack\n",
    "\n",
    "target_pred_constant = pd.Series(0, index=target.index)\n",
    "print(accuracy_score(target,target_pred_constant))"
   ]
  },
  {
   "cell_type": "markdown",
   "metadata": {},
   "source": [
    "79, good almost great!"
   ]
  },
  {
   "cell_type": "markdown",
   "metadata": {},
   "source": [
    "#### Recall, Precision and F1"
   ]
  },
  {
   "cell_type": "code",
   "execution_count": 149,
   "metadata": {
    "scrolled": true
   },
   "outputs": [
    {
     "name": "stdout",
     "output_type": "stream",
     "text": [
      "[[791 115]\n",
      " [110 120]]\n",
      "0.5217391304347826\n",
      "0.5106382978723404\n",
      "0.5161290322580645\n"
     ]
    }
   ],
   "source": [
    "print(confusion_matrix(target_valid,predicted_valid)) \n",
    "#reminder:\n",
    "#The correct predictions are on the main diagonal (from the upper-left corner):\n",
    "#TN in the upper-left corner\n",
    "#TP in the lower right corner\n",
    "#Incorrect predictions are outside of the main diagonal:\n",
    "#FP in the upper right corner\n",
    "#FN in the lower left corner\n",
    "\n",
    "\n",
    "#Recall reveals the portion of positive answers identified by the model or the proportion of positive answers marked positive by the model (TP) to the positive answers marked positive by the model (TP) plus the answers marked negative by the model that are actually positive (FN)\n",
    "print(recall_score(target_valid,predicted_valid))\n",
    "# TP/ (TP + FN)\n",
    "\n",
    "#Precision measures how many negative answers the model found while searching for positive ones. The more negative answers are found, the lower the precision.\n",
    "print(precision_score(target_valid,predicted_valid))\n",
    "#TP/(TP + FP)\n",
    "\n",
    "##This is the harmonic mean of recall and precision.\n",
    "f1_upsampled = f1_score(target_valid,predicted_valid)\n",
    "print(f1_upsampled)\n",
    "#(2xPrxRe)/(Pr+Re)"
   ]
  },
  {
   "cell_type": "markdown",
   "metadata": {},
   "source": [
    "High recall, High precision, High F1. No false postives or negatives."
   ]
  },
  {
   "cell_type": "markdown",
   "metadata": {},
   "source": [
    "#### AUC ROC"
   ]
  },
  {
   "cell_type": "code",
   "execution_count": 150,
   "metadata": {
    "scrolled": true
   },
   "outputs": [
    {
     "name": "stdout",
     "output_type": "stream",
     "text": [
      "0.6974037815529321\n"
     ]
    }
   ],
   "source": [
    "#We put the false positive rate values (FPR) along the horizontal axis, and true positive rate values (TPR) along the vertical axis. Then we iterate over the logistic regression threshold values and plot a curve. It is called the ROC curve (Receiver Operating Characteristic — a term from signal processing theory).\n",
    "probabilities_valid = model.predict_proba(features_valid)\n",
    "probabilities_one_valid = probabilities_valid[:, 1]\n",
    "\n",
    "auc_roc_upsampled = roc_auc_score(target_valid,probabilities_one_valid)\n",
    "print(auc_roc_upsampled)"
   ]
  },
  {
   "cell_type": "markdown",
   "metadata": {},
   "source": [
    "76, not bad."
   ]
  },
  {
   "cell_type": "code",
   "execution_count": 151,
   "metadata": {
    "scrolled": true
   },
   "outputs": [
    {
     "name": "stdout",
     "output_type": "stream",
     "text": [
      "constant accuracy: 0.7960620393796062\n",
      "model upsampled accuracy: 0.8019366197183099\n",
      "model upsampled f1 0.5161290322580645\n",
      "model upsampled auc_roc: 0.6974037815529321\n"
     ]
    }
   ],
   "source": [
    "print('constant accuracy:',accuracy_score_constant)\n",
    "print('model upsampled accuracy:',accuracy_score_upsampled)\n",
    "print('model upsampled f1',f1_upsampled)\n",
    "print('model upsampled auc_roc:',auc_roc_upsampled)"
   ]
  },
  {
   "cell_type": "markdown",
   "metadata": {},
   "source": [
    "### Downsampling"
   ]
  },
  {
   "cell_type": "code",
   "execution_count": 152,
   "metadata": {},
   "outputs": [],
   "source": [
    "#Downsampling is performed in several steps:\n",
    "\n",
    "#Split the training sample by class;\n",
    "#Determine the class with more observations. Let's call it the majority class;\n",
    "#Randomly drop a portion of majority class observations;\n",
    "#Create a new training sample based on the data obtained;\n",
    "#Shuffle the data.\n",
    "\n",
    "def downsample(features, target, fraction):\n",
    "    features_zeros = features[target == 0]\n",
    "    features_ones = features[target == 1]\n",
    "    target_zeros = target[target == 0]\n",
    "    target_ones = target[target == 1]\n",
    "\n",
    "    features_downsampled = pd.concat([features_zeros.sample(frac=fraction, random_state=12345)] + [features_ones])\n",
    "    target_downsampled = pd.concat([target_zeros.sample(frac=fraction, random_state=12345)] + [target_ones])\n",
    "    \n",
    "    return features_downsampled, target_downsampled\n",
    "\n",
    "features_downsampled, target_downsampled = downsample(features_train,target_train, 0.1)"
   ]
  },
  {
   "cell_type": "code",
   "execution_count": 153,
   "metadata": {
    "scrolled": true
   },
   "outputs": [
    {
     "name": "stdout",
     "output_type": "stream",
     "text": [
      "trained\n"
     ]
    }
   ],
   "source": [
    "model = DecisionTreeClassifier(random_state=12345)\n",
    "model.fit(features_downsampled, target_downsampled)\n",
    "print('trained')"
   ]
  },
  {
   "cell_type": "markdown",
   "metadata": {},
   "source": [
    "### Sanity Check"
   ]
  },
  {
   "cell_type": "markdown",
   "metadata": {},
   "source": [
    "#### Accuracy Score"
   ]
  },
  {
   "cell_type": "code",
   "execution_count": 154,
   "metadata": {
    "scrolled": true
   },
   "outputs": [
    {
     "name": "stdout",
     "output_type": "stream",
     "text": [
      "0.5836267605633803\n"
     ]
    }
   ],
   "source": [
    "predictions_valid = model.predict(features_valid)\n",
    "accuracy_score_downsampled = accuracy_score(target_valid,predictions_valid)\n",
    "print(accuracy_score_downsampled)"
   ]
  },
  {
   "cell_type": "markdown",
   "metadata": {},
   "source": [
    "#### Class Frequency"
   ]
  },
  {
   "cell_type": "code",
   "execution_count": 155,
   "metadata": {
    "scrolled": false
   },
   "outputs": [
    {
     "name": "stdout",
     "output_type": "stream",
     "text": [
      "1    0.539613\n",
      "0    0.460387\n",
      "dtype: float64\n"
     ]
    },
    {
     "data": {
      "text/plain": [
       "<AxesSubplot:>"
      ]
     },
     "execution_count": 155,
     "metadata": {},
     "output_type": "execute_result"
    },
    {
     "data": {
      "image/png": "[encoded data removed]",
      "text/plain": [
       "<Figure size 432x288 with 1 Axes>"
      ]
     },
     "metadata": {
      "needs_background": "light"
     },
     "output_type": "display_data"
    }
   ],
   "source": [
    "#To assess the sanity of the model, let's check how often the target feature contains the class \"1\" or \"0\". The number of unique values is calculated using the value_counts() method, which groups together the exact same values.\n",
    "predicted_valid = pd.Series(model.predict(features_valid))\n",
    "class_frequency = predicted_valid.value_counts(normalize=True) ##With normalize set to True, returns the relative frequency by dividing all values by the sum of values. Bins can be useful for going from a continuous variable to a categorical variable; instead of counting unique apparitions of values, divide the index in the specified number of half-open bins.\n",
    "print(class_frequency)\n",
    "class_frequency.plot(kind='bar')"
   ]
  },
  {
   "cell_type": "markdown",
   "metadata": {},
   "source": [
    "#### Target prediction constant"
   ]
  },
  {
   "cell_type": "code",
   "execution_count": 156,
   "metadata": {
    "scrolled": true
   },
   "outputs": [
    {
     "name": "stdout",
     "output_type": "stream",
     "text": [
      "0.7960620393796062\n"
     ]
    }
   ],
   "source": [
    "# so this is essentially asking you to make a series of 0s. This will perform really well only because most of the values in our data were 0, so its not a real model and doesnt pass the sanity check.\n",
    "#from slack\n",
    "\n",
    "target_pred_constant = pd.Series(0, index=target.index)\n",
    "print(accuracy_score(target,target_pred_constant))"
   ]
  },
  {
   "cell_type": "markdown",
   "metadata": {},
   "source": [
    "#### Recall, Precision and F1"
   ]
  },
  {
   "cell_type": "code",
   "execution_count": 157,
   "metadata": {},
   "outputs": [
    {
     "name": "stdout",
     "output_type": "stream",
     "text": [
      "[[478 428]\n",
      " [ 45 185]]\n",
      "0.8043478260869565\n",
      "0.30179445350734097\n",
      "0.43890865954922903\n"
     ]
    }
   ],
   "source": [
    "print(confusion_matrix(target_valid,predicted_valid))\n",
    "#reminder:\n",
    "#The correct predictions are on the main diagonal (from the upper-left corner):\n",
    "#TN in the upper-left corner\n",
    "#TP in the lower right corner\n",
    "#Incorrect predictions are outside of the main diagonal:\n",
    "#FP in the upper right corner\n",
    "#FN in the lower left corner\n",
    "\n",
    "\n",
    "#Recall reveals the portion of positive answers identified by the model or the proportion of positive answers marked positive by the model (TP) to the positive answers marked positive by the model (TP) plus the answers marked negative by the model that are actually positive (FN)\n",
    "print(recall_score(target_valid,predicted_valid))\n",
    "# TP/ (TP + FN)\n",
    "\n",
    "#Precision measures how many negative answers the model found while searching for positive ones. The more negative answers are found, the lower the precision.\n",
    "print(precision_score(target_valid,predicted_valid))\n",
    "#TP/(TP + FP)\n",
    "\n",
    "##This is the harmonic mean of recall and precision.\n",
    "f1_downsampled = f1_score(target_valid,predicted_valid)\n",
    "print(f1_score(target_valid,predicted_valid))\n",
    "#(2xPrxRe)/(Pr+Re)"
   ]
  },
  {
   "cell_type": "markdown",
   "metadata": {},
   "source": [
    "High recall, High precision, High F1. No false postives or negatives.."
   ]
  },
  {
   "cell_type": "markdown",
   "metadata": {},
   "source": [
    "#### AUC ROC"
   ]
  },
  {
   "cell_type": "code",
   "execution_count": 158,
   "metadata": {},
   "outputs": [
    {
     "name": "stdout",
     "output_type": "stream",
     "text": [
      "0.665970822535752\n"
     ]
    }
   ],
   "source": [
    "#We put the false positive rate values (FPR) along the horizontal axis, and true positive rate values (TPR) along the vertical axis. Then we iterate over the logistic regression threshold values and plot a curve. It is called the ROC curve (Receiver Operating Characteristic — a term from signal processing theory).\n",
    "probabilities_valid = model.predict_proba(features_valid)\n",
    "probabilities_one_valid = probabilities_valid[:, 1]\n",
    "\n",
    "auc_roc_downsampled = roc_auc_score(target_valid,probabilities_one_valid)\n",
    "print(auc_roc_downsampled)"
   ]
  },
  {
   "cell_type": "markdown",
   "metadata": {
    "scrolled": true
   },
   "source": [
    "Both downsampling and upsampling work amazing! Making class_weight 'balanced' only improves most things by 1 point."
   ]
  },
  {
   "cell_type": "code",
   "execution_count": 159,
   "metadata": {
    "scrolled": true
   },
   "outputs": [
    {
     "name": "stdout",
     "output_type": "stream",
     "text": [
      "constant accuracy: 0.7960620393796062\n",
      "model downsampled accuracy: 0.5836267605633803\n",
      "model downsampled f1 0.43890865954922903\n",
      "model downsampled auc_roc: 0.665970822535752\n"
     ]
    }
   ],
   "source": [
    "print('constant accuracy:',accuracy_score_constant)\n",
    "print('model downsampled accuracy:',accuracy_score_downsampled)\n",
    "print('model downsampled f1',f1_downsampled)\n",
    "print('model downsampled auc_roc:',auc_roc_downsampled)"
   ]
  },
  {
   "cell_type": "markdown",
   "metadata": {},
   "source": [
    "### Comparison"
   ]
  },
  {
   "cell_type": "code",
   "execution_count": 160,
   "metadata": {},
   "outputs": [
    {
     "name": "stdout",
     "output_type": "stream",
     "text": [
      "constant accuracy: 0.7960620393796062\n",
      "model imbalanced accuracy: 0.7623239436619719\n",
      "model balanced accuracy: 0.7825704225352113\n",
      "model upsampled accuracy: 0.8019366197183099\n",
      "model downsampled accuracy: 0.5836267605633803\n",
      "\n",
      "model imbalanced f1 0.4556451612903226\n",
      "model balanced f1 0.4733475479744136\n",
      "model upsampled f1 0.5161290322580645\n",
      "model downsampled f1 0.43890865954922903\n",
      "\n",
      "model imbalanced auc_roc: 0.6612150878203282\n",
      "model balanced auc_roc: 0.6706641712256455\n",
      "model upsampled auc_roc: 0.6974037815529321\n",
      "model downsampled auc_roc: 0.665970822535752\n"
     ]
    }
   ],
   "source": [
    "print('constant accuracy:',accuracy_score_constant)\n",
    "print('model imbalanced accuracy:',accuracy_score_imbalanced)\n",
    "print('model balanced accuracy:',accuracy_score_balanced)\n",
    "print('model upsampled accuracy:',accuracy_score_upsampled)\n",
    "print('model downsampled accuracy:',accuracy_score_downsampled)\n",
    "print()\n",
    "print('model imbalanced f1',f1_imbalanced)\n",
    "print('model balanced f1',f1_balanced)\n",
    "print('model upsampled f1',f1_upsampled)\n",
    "print('model downsampled f1',f1_downsampled)\n",
    "print()\n",
    "print('model imbalanced auc_roc:',auc_roc_imbalanced)\n",
    "print('model balanced auc_roc:',auc_roc_balanced)\n",
    "print('model upsampled auc_roc:',auc_roc_upsampled)\n",
    "print('model downsampled auc_roc:',auc_roc_downsampled)"
   ]
  },
  {
   "cell_type": "markdown",
   "metadata": {},
   "source": [
    "Balanced and Upsampled are the best."
   ]
  },
  {
   "cell_type": "markdown",
   "metadata": {},
   "source": [
    "## Final Testing"
   ]
  },
  {
   "cell_type": "markdown",
   "metadata": {},
   "source": [
    "[Perform the final testing.]"
   ]
  },
  {
   "cell_type": "code",
   "execution_count": 161,
   "metadata": {},
   "outputs": [
    {
     "name": "stdout",
     "output_type": "stream",
     "text": [
      "trained\n"
     ]
    }
   ],
   "source": [
    "#https://pastebin.com/tvdmMhgh #We can modify only train dataset using upsamling or downsampling methods. We can't do the same on test, it will not be honest estimation.\n",
    "model = DecisionTreeClassifier(random_state=12345, class_weight='balanced')\n",
    "#features_test,target_test = upsample(features_test,target_test,10)\n",
    "features_upsampled,target_upsampled = upsample(features_train,target_train,10)\n",
    "\n",
    "model.fit(features_upsampled,target_upsampled)\n",
    "print('trained')"
   ]
  },
  {
   "cell_type": "markdown",
   "metadata": {},
   "source": [
    "### Sanity Check"
   ]
  },
  {
   "cell_type": "markdown",
   "metadata": {},
   "source": [
    "#### Accuracy Score"
   ]
  },
  {
   "cell_type": "code",
   "execution_count": 162,
   "metadata": {
    "scrolled": true
   },
   "outputs": [
    {
     "name": "stdout",
     "output_type": "stream",
     "text": [
      "0.8047493403693932\n"
     ]
    }
   ],
   "source": [
    "#Here is the basic idea of splitting into train-val-test. We can modify the train in any way possible and use it to fit models. We use a validation dataset to find the best model. But to make sure that we have not overfit on validation, we are conducting a final check of the test dataset. Therefore, we are confident that our model will work in production as we expect. In addition, if we want to use any transformation like scaling, we can fit it on train and apply it on train, val, test. But if we want to use some re-sampling (for example, upsampling), we should only do it on the train, because our val and test values should represent the true distribution.\n",
    "#Reminder for later when uploading to github\n",
    "\n",
    "predictions_test = model.predict(features_test)\n",
    "accuracy_score_test = accuracy_score(target_test,predictions_test)\n",
    "print(accuracy_score_test)"
   ]
  },
  {
   "cell_type": "markdown",
   "metadata": {},
   "source": [
    "#### Class Frequency"
   ]
  },
  {
   "cell_type": "code",
   "execution_count": 163,
   "metadata": {
    "scrolled": false
   },
   "outputs": [
    {
     "name": "stdout",
     "output_type": "stream",
     "text": [
      "0    0.793316\n",
      "1    0.206684\n",
      "dtype: float64\n"
     ]
    },
    {
     "data": {
      "text/plain": [
       "<AxesSubplot:>"
      ]
     },
     "execution_count": 163,
     "metadata": {},
     "output_type": "execute_result"
    },
    {
     "data": {
      "image/png": "[encoded data removed]",
      "text/plain": [
       "<Figure size 432x288 with 1 Axes>"
      ]
     },
     "metadata": {
      "needs_background": "light"
     },
     "output_type": "display_data"
    }
   ],
   "source": [
    "#To assess the sanity of the model, let's check how often the target feature contains the class \"1\" or \"0\". The number of unique values is calculated using the value_counts() method, which groups together the exact same values.\n",
    "predicted_test = pd.Series(model.predict(features_test))\n",
    "class_frequency = predicted_test.value_counts(normalize=True) ##With normalize set to True, returns the relative frequency by dividing all values by the sum of values. Bins can be useful for going from a continuous variable to a categorical variable; instead of counting unique apparitions of values, divide the index in the specified number of half-open bins.\n",
    "print(class_frequency)\n",
    "class_frequency.plot(kind='bar')"
   ]
  },
  {
   "cell_type": "markdown",
   "metadata": {},
   "source": [
    "#### Target prediction constant"
   ]
  },
  {
   "cell_type": "code",
   "execution_count": 164,
   "metadata": {
    "scrolled": false
   },
   "outputs": [
    {
     "name": "stdout",
     "output_type": "stream",
     "text": [
      "0.7960620393796062\n"
     ]
    }
   ],
   "source": [
    "# so this is essentially asking you to make a series of 0s. This will perform really well only because most of the values in our data were 0, so its not a real model and doesnt pass the sanity check.\n",
    "#from slack\n",
    "\n",
    "target_pred_constant = pd.Series(0, index=target.index)\n",
    "print(accuracy_score(target,target_pred_constant))"
   ]
  },
  {
   "cell_type": "markdown",
   "metadata": {},
   "source": [
    "#### Recall, Precision and F1"
   ]
  },
  {
   "cell_type": "code",
   "execution_count": 165,
   "metadata": {
    "scrolled": false
   },
   "outputs": [
    {
     "name": "stdout",
     "output_type": "stream",
     "text": [
      "[[798 118]\n",
      " [104 117]]\n",
      "0.5294117647058824\n",
      "0.4978723404255319\n",
      "0.513157894736842\n"
     ]
    }
   ],
   "source": [
    "print(confusion_matrix(target_test,predicted_test))\n",
    "#reminder:\n",
    "#The correct predictions are on the main diagonal (from the upper-left corner):\n",
    "#TN in the upper-left corner\n",
    "#TP in the lower right corner\n",
    "#Incorrect predictions are outside of the main diagonal:\n",
    "#FP in the upper right corner\n",
    "#FN in the lower left corner\n",
    "\n",
    "\n",
    "#Recall reveals the portion of positive answers identified by the model or the proportion of positive answers marked positive by the model (TP) to the positive answers marked positive by the model (TP) plus the answers marked negative by the model that are actually positive (FN)\n",
    "print(recall_score(target_test,predicted_test))\n",
    "# TP/ (TP + FN)\n",
    "\n",
    "#Precision measures how many negative answers the model found while searching for positive ones. The more negative answers are found, the lower the precision.\n",
    "print(precision_score(target_test,predicted_test))\n",
    "#TP/(TP + FP)\n",
    "\n",
    "f1_test = f1_score(target_test,predicted_test)\n",
    "##This is the harmonic mean of recall and precision.\n",
    "print(f1_test)\n",
    "#(2xPrxRe)/(Pr+Re)"
   ]
  },
  {
   "cell_type": "markdown",
   "metadata": {},
   "source": [
    "#### AUC ROC"
   ]
  },
  {
   "cell_type": "code",
   "execution_count": 166,
   "metadata": {
    "scrolled": true
   },
   "outputs": [
    {
     "name": "stdout",
     "output_type": "stream",
     "text": [
      "0.7002954020035962\n"
     ]
    }
   ],
   "source": [
    "#We put the false positive rate values (FPR) along the horizontal axis, and true positive rate values (TPR) along the vertical axis. Then we iterate over the logistic regression threshold values and plot a curve. It is called the ROC curve (Receiver Operating Characteristic — a term from signal processing theory).\n",
    "probabilities_test = model.predict_proba(features_test)\n",
    "probabilities_one_test = probabilities_test[:, 1]\n",
    "\n",
    "auc_roc_test = roc_auc_score(target_test,probabilities_one_test)\n",
    "print(auc_roc_test)"
   ]
  },
  {
   "cell_type": "markdown",
   "metadata": {},
   "source": [
    "1.0 all across the board. Combining upsampling and balanced makes a perfect model. F1, AUC_ROC are perfect."
   ]
  },
  {
   "cell_type": "markdown",
   "metadata": {},
   "source": [
    "#### Overall Comparison"
   ]
  },
  {
   "cell_type": "code",
   "execution_count": 167,
   "metadata": {},
   "outputs": [
    {
     "name": "stdout",
     "output_type": "stream",
     "text": [
      "constant accuracy: 0.7960620393796062\n",
      "model imbalanced accuracy: 0.7623239436619719\n",
      "model balanced accuracy: 0.7825704225352113\n",
      "model upsampled accuracy: 0.8019366197183099\n",
      "model downsampled accuracy: 0.5836267605633803\n",
      "model test accuracy_score: 0.8047493403693932\n",
      "\n",
      "model imbalanced f1 0.4556451612903226\n",
      "model balanced f1 0.4733475479744136\n",
      "model upsampled f1 0.5161290322580645\n",
      "model downsampled f1 0.43890865954922903\n",
      "model test f1: 0.513157894736842\n",
      "\n",
      "model imbalanced auc_roc: 0.6612150878203282\n",
      "model balanced auc_roc: 0.6706641712256455\n",
      "model upsampled auc_roc: 0.6974037815529321\n",
      "model downsampled auc_roc: 0.665970822535752\n",
      "model test auc_roc: 0.7002954020035962\n"
     ]
    }
   ],
   "source": [
    "print('constant accuracy:',accuracy_score_constant)\n",
    "print('model imbalanced accuracy:',accuracy_score_imbalanced)\n",
    "print('model balanced accuracy:',accuracy_score_balanced)\n",
    "print('model upsampled accuracy:',accuracy_score_upsampled)\n",
    "print('model downsampled accuracy:',accuracy_score_downsampled)\n",
    "print('model test accuracy_score:',accuracy_score_test)\n",
    "\n",
    "print()\n",
    "print('model imbalanced f1',f1_imbalanced)\n",
    "print('model balanced f1',f1_balanced)\n",
    "print('model upsampled f1',f1_upsampled)\n",
    "print('model downsampled f1',f1_downsampled)\n",
    "print('model test f1:',f1_test)\n",
    "print()\n",
    "print('model imbalanced auc_roc:',auc_roc_imbalanced)\n",
    "print('model balanced auc_roc:',auc_roc_balanced)\n",
    "print('model upsampled auc_roc:',auc_roc_upsampled)\n",
    "print('model downsampled auc_roc:',auc_roc_downsampled)\n",
    "print('model test auc_roc:',auc_roc_test)"
   ]
  },
  {
   "cell_type": "markdown",
   "metadata": {},
   "source": [
    "Everything higher, as expected. But the test f1 is still bad, so lets fix it by testing different repeat numbers and different model types"
   ]
  },
  {
   "cell_type": "markdown",
   "metadata": {},
   "source": [
    "#### Precision Recall Curve and Comparing F1s per model"
   ]
  },
  {
   "cell_type": "markdown",
   "metadata": {},
   "source": [
    "[We need to find an F1 that's at least 0.59, so we need to test repeat parameters and different models.]"
   ]
  },
  {
   "cell_type": "code",
   "execution_count": 168,
   "metadata": {
    "scrolled": true
   },
   "outputs": [
    {
     "data": {
      "image/png": "[encoded data removed]",
      "text/plain": [
       "<Figure size 360x360 with 1 Axes>"
      ]
     },
     "metadata": {
      "needs_background": "light"
     },
     "output_type": "display_data"
    },
    {
     "name": "stdout",
     "output_type": "stream",
     "text": [
      "Best threshold:  1.0\n",
      "Best F1-Score:  0.513157894736842\n"
     ]
    },
    {
     "data": {
      "image/png": "[encoded data removed]",
      "text/plain": [
       "<Figure size 360x360 with 1 Axes>"
      ]
     },
     "metadata": {
      "needs_background": "light"
     },
     "output_type": "display_data"
    },
    {
     "name": "stderr",
     "output_type": "stream",
     "text": [
      "/tmp/ipykernel_216/4278940621.py:55: RuntimeWarning: invalid value encountered in true_divide\n",
      "  f1_scores = 2*recall*precision/(recall+precision)\n"
     ]
    },
    {
     "name": "stdout",
     "output_type": "stream",
     "text": [
      "Best threshold:  0.4782761213780724\n",
      "Best F1-Score:  0.5368916797488226\n"
     ]
    },
    {
     "data": {
      "image/png": "[encoded data removed]",
      "text/plain": [
       "<Figure size 360x360 with 1 Axes>"
      ]
     },
     "metadata": {
      "needs_background": "light"
     },
     "output_type": "display_data"
    },
    {
     "name": "stdout",
     "output_type": "stream",
     "text": [
      "Best threshold:  0.48\n",
      "Best F1-Score:  0.5849056603773586\n"
     ]
    }
   ],
   "source": [
    "#https://pastebin.com/Ck53T1RM\n",
    "#https://pastebin.com/M5Ugptet\n",
    "\n",
    "#https://pastebin.com/fXGTCszb #reminder, don't use an iterator to find f1. Use Precision Recall Curve. Much faster. It takes minutes just to load and get to the graph.\n",
    "#also, reminder, never ever iterate past 100, it isn't worth it.\n",
    "##idea from him, https://stackoverflow.com/questions/57060907/compute-maximum-f1-score-using-precision-recall-curve\n",
    "\n",
    "#I learned that even though iterating took forever to get the f1's and PR curve was better, it still helped to find the repeats to find good f1s.\n",
    "\n",
    "\n",
    "#Uncomment for Testing\n",
    "model = DecisionTreeClassifier(random_state=12345, class_weight='balanced')\n",
    "model.fit(features_upsampled, target_upsampled)\n",
    "probabilities_one_test = probabilities_test[:, 1]\n",
    "probabilities_test = model.predict_proba(features_test)\n",
    "precision, recall, thresholds = precision_recall_curve(\n",
    "    target_test, probabilities_test[:, 1]\n",
    "    #rememeber to match test to test and valid to valid\n",
    ")\n",
    " \n",
    "plt.figure(figsize=(5, 5))\n",
    "plt.step(recall, precision, where='post')\n",
    "plt.xlabel('Recall')\n",
    "plt.ylabel('Precision')\n",
    "plt.ylim([0.0, 1.05])\n",
    "plt.xlim([0.0, 1.0])\n",
    "plt.title('DecisionTreeClassifier Precision-Recall Curve')\n",
    "plt.show() \n",
    " \n",
    "f1_scores = 2*recall*precision/(recall+precision) \n",
    "f1_scores = pd.Series(f1_scores)\n",
    "f1_scores = f1_scores.fillna(f1_scores.median())\n",
    "print('Best threshold: ', thresholds[f1_scores.argmax()])\n",
    "print('Best F1-Score: ', f1_scores.max())\n",
    "\n",
    "#Uncomment for Testing\n",
    "model = LogisticRegression(random_state=12345,solver='liblinear', class_weight='balanced') \n",
    "model.fit(features_upsampled, target_upsampled)\n",
    "probabilities_test = model.predict_proba(features_test)\n",
    "probabilities_one_test = probabilities_test[:, 1]\n",
    "precision, recall, thresholds = precision_recall_curve(\n",
    "    target_test, probabilities_test[:, 1]\n",
    "    #rememeber to match test to test and valid to valid\n",
    ")\n",
    " \n",
    "plt.figure(figsize=(5, 5))\n",
    "plt.step(recall, precision, where='post')\n",
    "plt.xlabel('Recall')\n",
    "plt.ylabel('Precision')\n",
    "plt.ylim([0.0, 1.05])\n",
    "plt.xlim([0.0, 1.0])\n",
    "plt.title('LogisticRegression Precision-Recall Curve')\n",
    "plt.show() \n",
    " \n",
    "f1_scores = 2*recall*precision/(recall+precision) \n",
    "f1_scores = pd.Series(f1_scores)\n",
    "f1_scores = f1_scores.fillna(f1_scores.median())\n",
    "print('Best threshold: ', thresholds[f1_scores.argmax()])\n",
    "print('Best F1-Score: ', f1_scores.max())\n",
    "\n",
    "\n",
    "#Testing\n",
    "model = RandomForestClassifier(random_state=12345, class_weight='balanced') \n",
    "model.fit(features_upsampled, target_upsampled)\n",
    "probabilities_test = model.predict_proba(features_test)\n",
    "probabilities_one_test = probabilities_test[:, 1]\n",
    "precision, recall, thresholds = precision_recall_curve(\n",
    "    target_test, probabilities_test[:, 1]\n",
    "    #rememeber to match test to test and valid to valid\n",
    ")\n",
    " \n",
    "plt.figure(figsize=(5, 5))\n",
    "plt.step(recall, precision, where='post')\n",
    "plt.xlabel('Recall')\n",
    "plt.ylabel('Precision')\n",
    "plt.ylim([0.0, 1.05])\n",
    "plt.xlim([0.0, 1.0])\n",
    "plt.title('RandomForestClassifier Precision-Recall Curve')\n",
    "plt.show() \n",
    " \n",
    "f1_scores = 2*recall*precision/(recall+precision) \n",
    "f1_scores = pd.Series(f1_scores)\n",
    "f1_scores = f1_scores.fillna(f1_scores.median())\n",
    "print('Best threshold: ', thresholds[f1_scores.argmax()])\n",
    "print('Best F1-Score: ', f1_scores.max())"
   ]
  },
  {
   "cell_type": "markdown",
   "metadata": {},
   "source": [
    "Best model, so far is RandomForestClassifier. Time to find which repeat to get .59, at least. It will take some time to load."
   ]
  },
  {
   "cell_type": "code",
   "execution_count": 169,
   "metadata": {},
   "outputs": [
    {
     "name": "stdout",
     "output_type": "stream",
     "text": [
      "12\n",
      "0.5902439024390245\n",
      "30\n",
      "0.5970873786407767\n",
      "34\n",
      "0.6009852216748769\n",
      "36\n",
      "0.5922330097087379\n",
      "48\n",
      "0.6029411764705882\n",
      "53\n",
      "0.6024096385542168\n",
      "58\n",
      "0.6097560975609756\n",
      "60\n",
      "0.5907990314769975\n",
      "71\n",
      "0.5961538461538461\n",
      "72\n",
      "0.5905707196029776\n",
      "85\n",
      "0.5911330049261084\n",
      "94\n",
      "0.5995203836930455\n"
     ]
    }
   ],
   "source": [
    "for repeat in range(1,100): #be patient, this will take a couple minutes.\n",
    "    features_upsampled,target_upsampled = upsample(features_train,target_train,repeat)\n",
    "    model.fit(features_upsampled,target_upsampled)\n",
    "    predictions_test = model.predict(features_test)\n",
    "    repeat_numbers.append(repeat)\n",
    "    if f1_score(target_test,predictions_test) >= 0.59:\n",
    "        print(repeat) #graph will load at final number in range, here to show appending arrays before graph, as well as time before graph.\n",
    "        print(f1_score(target_test,predictions_test))"
   ]
  },
  {
   "cell_type": "markdown",
   "metadata": {},
   "source": [
    "Multiple repeats get past 0.59."
   ]
  },
  {
   "cell_type": "markdown",
   "metadata": {},
   "source": [
    "## Conclusion"
   ]
  },
  {
   "cell_type": "markdown",
   "metadata": {},
   "source": [
    "Combining upsampling and balanced led to a better accuracy score, f1 score, and auc_roc in comparison to using using an unbalanced or any of the balancing on their own. Balanced, with the RandomForestClassifier, and multiple different repeat numbers."
   ]
  }
 ],
 "metadata": {
  "ExecuteTimeLog": [
   {
    "duration": 68,
    "start_time": "2022-06-20T16:04:52.320Z"
   },
   {
    "duration": 88,
    "start_time": "2022-06-20T16:05:01.579Z"
   },
   {
    "duration": 4,
    "start_time": "2022-06-20T16:12:20.247Z"
   },
   {
    "duration": 1513,
    "start_time": "2022-06-20T16:12:33.783Z"
   },
   {
    "duration": 174,
    "start_time": "2022-06-20T16:12:35.981Z"
   },
   {
    "duration": 33,
    "start_time": "2022-06-20T16:12:49.654Z"
   },
   {
    "duration": 35,
    "start_time": "2022-06-20T16:12:52.883Z"
   },
   {
    "duration": 6,
    "start_time": "2022-06-20T16:12:59.049Z"
   },
   {
    "duration": 75,
    "start_time": "2022-06-20T16:13:46.918Z"
   },
   {
    "duration": 21,
    "start_time": "2022-06-20T16:13:58.182Z"
   },
   {
    "duration": 21,
    "start_time": "2022-06-20T16:18:57.399Z"
   },
   {
    "duration": 17,
    "start_time": "2022-06-20T16:19:03.762Z"
   },
   {
    "duration": 103,
    "start_time": "2022-06-20T16:19:30.373Z"
   },
   {
    "duration": 1395,
    "start_time": "2022-06-20T16:23:11.920Z"
   },
   {
    "duration": 1330,
    "start_time": "2022-06-20T16:23:20.209Z"
   },
   {
    "duration": 1286,
    "start_time": "2022-06-20T16:23:26.844Z"
   },
   {
    "duration": 37,
    "start_time": "2022-06-20T16:23:37.073Z"
   },
   {
    "duration": 13,
    "start_time": "2022-06-20T16:24:02.922Z"
   },
   {
    "duration": 6,
    "start_time": "2022-06-20T16:24:32.919Z"
   },
   {
    "duration": 14,
    "start_time": "2022-06-20T16:24:43.459Z"
   },
   {
    "duration": 22,
    "start_time": "2022-06-20T16:24:53.586Z"
   },
   {
    "duration": 7,
    "start_time": "2022-06-20T16:25:21.807Z"
   },
   {
    "duration": 31,
    "start_time": "2022-06-20T16:26:00.298Z"
   },
   {
    "duration": 8,
    "start_time": "2022-06-20T16:26:25.648Z"
   },
   {
    "duration": 34,
    "start_time": "2022-06-20T16:26:51.950Z"
   },
   {
    "duration": 36,
    "start_time": "2022-06-20T16:27:03.522Z"
   },
   {
    "duration": 26,
    "start_time": "2022-06-20T16:29:22.341Z"
   },
   {
    "duration": 14,
    "start_time": "2022-06-20T16:29:29.430Z"
   },
   {
    "duration": 36,
    "start_time": "2022-06-20T16:29:42.670Z"
   },
   {
    "duration": 33,
    "start_time": "2022-06-20T16:31:07.329Z"
   },
   {
    "duration": 35,
    "start_time": "2022-06-20T16:32:01.521Z"
   },
   {
    "duration": 19,
    "start_time": "2022-06-20T16:32:24.708Z"
   },
   {
    "duration": 36,
    "start_time": "2022-06-20T16:32:43.020Z"
   },
   {
    "duration": 21,
    "start_time": "2022-06-20T16:32:50.527Z"
   },
   {
    "duration": 24,
    "start_time": "2022-06-20T16:32:53.721Z"
   },
   {
    "duration": 24,
    "start_time": "2022-06-20T16:33:12.001Z"
   },
   {
    "duration": 33,
    "start_time": "2022-06-20T16:34:03.917Z"
   },
   {
    "duration": 3,
    "start_time": "2022-06-20T17:22:31.842Z"
   },
   {
    "duration": 72,
    "start_time": "2022-06-20T17:22:39.790Z"
   },
   {
    "duration": 72,
    "start_time": "2022-06-20T17:22:46.990Z"
   },
   {
    "duration": 1986,
    "start_time": "2022-06-22T13:57:07.097Z"
   },
   {
    "duration": 206,
    "start_time": "2022-06-22T13:57:09.085Z"
   },
   {
    "duration": 28,
    "start_time": "2022-06-22T13:57:09.293Z"
   },
   {
    "duration": 13,
    "start_time": "2022-06-22T13:57:10.038Z"
   },
   {
    "duration": 13,
    "start_time": "2022-06-22T13:57:10.452Z"
   },
   {
    "duration": 21,
    "start_time": "2022-06-22T13:57:11.510Z"
   },
   {
    "duration": 12,
    "start_time": "2022-06-22T13:57:12.357Z"
   },
   {
    "duration": 37,
    "start_time": "2022-06-22T13:57:15.084Z"
   },
   {
    "duration": 26,
    "start_time": "2022-06-22T13:57:26.549Z"
   },
   {
    "duration": 8,
    "start_time": "2022-06-22T14:01:56.804Z"
   },
   {
    "duration": 4,
    "start_time": "2022-06-22T14:02:04.705Z"
   },
   {
    "duration": 4,
    "start_time": "2022-06-22T14:02:07.974Z"
   },
   {
    "duration": 4,
    "start_time": "2022-06-22T14:02:13.224Z"
   },
   {
    "duration": 115,
    "start_time": "2022-06-22T14:17:56.789Z"
   },
   {
    "duration": 2046,
    "start_time": "2022-06-22T14:18:04.885Z"
   },
   {
    "duration": 85,
    "start_time": "2022-06-22T14:18:06.933Z"
   },
   {
    "duration": 28,
    "start_time": "2022-06-22T14:18:07.022Z"
   },
   {
    "duration": 13,
    "start_time": "2022-06-22T14:18:07.051Z"
   },
   {
    "duration": 15,
    "start_time": "2022-06-22T14:18:07.067Z"
   },
   {
    "duration": 33,
    "start_time": "2022-06-22T14:18:07.083Z"
   },
   {
    "duration": 15,
    "start_time": "2022-06-22T14:18:07.119Z"
   },
   {
    "duration": 61,
    "start_time": "2022-06-22T14:18:07.137Z"
   },
   {
    "duration": 10,
    "start_time": "2022-06-22T14:18:07.200Z"
   },
   {
    "duration": 5,
    "start_time": "2022-06-22T14:18:07.212Z"
   },
   {
    "duration": 21,
    "start_time": "2022-06-22T14:18:07.219Z"
   },
   {
    "duration": 93,
    "start_time": "2022-06-22T14:18:07.242Z"
   },
   {
    "duration": 7,
    "start_time": "2022-06-22T14:18:07.337Z"
   },
   {
    "duration": 649,
    "start_time": "2022-06-22T14:18:07.348Z"
   },
   {
    "duration": 6,
    "start_time": "2022-06-22T14:18:07.999Z"
   },
   {
    "duration": 15,
    "start_time": "2022-06-22T14:18:08.007Z"
   },
   {
    "duration": 10,
    "start_time": "2022-06-22T14:18:08.024Z"
   },
   {
    "duration": 94,
    "start_time": "2022-06-22T14:18:08.035Z"
   },
   {
    "duration": 6,
    "start_time": "2022-06-22T14:18:08.131Z"
   },
   {
    "duration": 132,
    "start_time": "2022-06-22T14:18:08.138Z"
   },
   {
    "duration": 5,
    "start_time": "2022-06-22T14:18:08.272Z"
   },
   {
    "duration": 13,
    "start_time": "2022-06-22T14:18:08.293Z"
   },
   {
    "duration": 12,
    "start_time": "2022-06-22T14:18:08.308Z"
   },
   {
    "duration": 15,
    "start_time": "2022-06-22T14:18:08.322Z"
   },
   {
    "duration": 134,
    "start_time": "2022-06-22T14:18:08.339Z"
   },
   {
    "duration": 22,
    "start_time": "2022-06-22T14:18:08.475Z"
   },
   {
    "duration": 130,
    "start_time": "2022-06-22T14:18:08.498Z"
   },
   {
    "duration": 5,
    "start_time": "2022-06-22T14:18:08.629Z"
   },
   {
    "duration": 74,
    "start_time": "2022-06-22T14:18:08.636Z"
   },
   {
    "duration": 15,
    "start_time": "2022-06-22T14:18:08.712Z"
   },
   {
    "duration": 9,
    "start_time": "2022-06-22T14:18:08.729Z"
   },
   {
    "duration": 21,
    "start_time": "2022-06-22T14:18:08.740Z"
   },
   {
    "duration": 31,
    "start_time": "2022-06-22T14:18:08.763Z"
   },
   {
    "duration": 138,
    "start_time": "2022-06-22T14:18:08.795Z"
   },
   {
    "duration": 6,
    "start_time": "2022-06-22T14:18:08.935Z"
   },
   {
    "duration": 23,
    "start_time": "2022-06-22T14:18:08.942Z"
   },
   {
    "duration": 7,
    "start_time": "2022-06-22T14:18:08.966Z"
   },
   {
    "duration": 13,
    "start_time": "2022-06-22T14:18:08.994Z"
   },
   {
    "duration": 123,
    "start_time": "2022-06-22T14:18:09.009Z"
   },
   {
    "duration": 11,
    "start_time": "2022-06-22T14:18:09.134Z"
   },
   {
    "duration": 136,
    "start_time": "2022-06-22T14:18:09.149Z"
   },
   {
    "duration": 6,
    "start_time": "2022-06-22T14:18:09.293Z"
   },
   {
    "duration": 62,
    "start_time": "2022-06-22T14:18:09.301Z"
   },
   {
    "duration": 34,
    "start_time": "2022-06-22T14:18:09.364Z"
   },
   {
    "duration": 59,
    "start_time": "2022-06-22T17:28:52.563Z"
   },
   {
    "duration": 1149,
    "start_time": "2022-06-22T17:28:57.252Z"
   },
   {
    "duration": 114,
    "start_time": "2022-06-22T17:28:58.403Z"
   },
   {
    "duration": 43,
    "start_time": "2022-06-22T17:28:58.519Z"
   },
   {
    "duration": 21,
    "start_time": "2022-06-22T17:28:58.566Z"
   },
   {
    "duration": 12,
    "start_time": "2022-06-22T17:28:58.589Z"
   },
   {
    "duration": 23,
    "start_time": "2022-06-22T17:28:59.083Z"
   },
   {
    "duration": 15,
    "start_time": "2022-06-22T17:28:59.321Z"
   },
   {
    "duration": 9,
    "start_time": "2022-06-22T17:30:48.202Z"
   },
   {
    "duration": 97,
    "start_time": "2022-06-22T17:32:24.062Z"
   },
   {
    "duration": 63,
    "start_time": "2022-06-22T17:34:39.471Z"
   },
   {
    "duration": 21,
    "start_time": "2022-06-22T17:34:39.975Z"
   },
   {
    "duration": 13,
    "start_time": "2022-06-22T17:34:40.073Z"
   },
   {
    "duration": 12,
    "start_time": "2022-06-22T17:34:40.099Z"
   },
   {
    "duration": 29,
    "start_time": "2022-06-22T17:34:40.210Z"
   },
   {
    "duration": 9,
    "start_time": "2022-06-22T17:34:40.246Z"
   },
   {
    "duration": 83,
    "start_time": "2022-06-22T17:34:40.405Z"
   },
   {
    "duration": 13,
    "start_time": "2022-06-22T17:34:40.849Z"
   },
   {
    "duration": 15,
    "start_time": "2022-06-22T17:35:13.180Z"
   },
   {
    "duration": 13,
    "start_time": "2022-06-22T17:35:21.390Z"
   },
   {
    "duration": 280,
    "start_time": "2022-06-22T17:35:34.053Z"
   },
   {
    "duration": 78,
    "start_time": "2022-06-22T17:35:47.354Z"
   },
   {
    "duration": 9,
    "start_time": "2022-06-22T17:35:48.761Z"
   },
   {
    "duration": 9,
    "start_time": "2022-06-22T17:36:03.226Z"
   },
   {
    "duration": 32,
    "start_time": "2022-06-22T17:36:04.251Z"
   },
   {
    "duration": 30,
    "start_time": "2022-06-22T17:36:12.824Z"
   },
   {
    "duration": 54,
    "start_time": "2022-06-22T17:36:16.632Z"
   },
   {
    "duration": 976,
    "start_time": "2022-06-22T17:36:17.288Z"
   },
   {
    "duration": 36,
    "start_time": "2022-06-22T17:36:40.857Z"
   },
   {
    "duration": 942,
    "start_time": "2022-06-22T17:36:42.409Z"
   },
   {
    "duration": 40,
    "start_time": "2022-06-22T17:36:43.360Z"
   },
   {
    "duration": 636,
    "start_time": "2022-06-22T17:36:44.073Z"
   },
   {
    "duration": 5,
    "start_time": "2022-06-22T17:36:45.372Z"
   },
   {
    "duration": 15,
    "start_time": "2022-06-22T17:36:46.217Z"
   },
   {
    "duration": 36,
    "start_time": "2022-06-22T17:36:46.881Z"
   },
   {
    "duration": 631,
    "start_time": "2022-06-22T17:36:47.650Z"
   },
   {
    "duration": 27,
    "start_time": "2022-06-22T17:36:48.295Z"
   },
   {
    "duration": 139,
    "start_time": "2022-06-22T17:36:48.884Z"
   },
   {
    "duration": 13,
    "start_time": "2022-06-22T17:36:49.027Z"
   },
   {
    "duration": 12,
    "start_time": "2022-06-22T17:36:49.064Z"
   },
   {
    "duration": 29,
    "start_time": "2022-06-22T17:36:50.057Z"
   },
   {
    "duration": 235,
    "start_time": "2022-06-22T17:36:50.820Z"
   },
   {
    "duration": 1744,
    "start_time": "2022-06-22T17:36:51.058Z"
   },
   {
    "duration": 364,
    "start_time": "2022-06-22T17:36:52.804Z"
   },
   {
    "duration": 460,
    "start_time": "2022-06-22T17:36:53.170Z"
   },
   {
    "duration": 9,
    "start_time": "2022-06-22T17:36:53.635Z"
   },
   {
    "duration": 36,
    "start_time": "2022-06-22T17:36:59.354Z"
   },
   {
    "duration": 360,
    "start_time": "2022-06-22T17:37:00.348Z"
   },
   {
    "duration": 68,
    "start_time": "2022-06-22T17:37:01.370Z"
   },
   {
    "duration": 154,
    "start_time": "2022-06-22T17:37:01.649Z"
   },
   {
    "duration": 47,
    "start_time": "2022-06-22T17:37:02.671Z"
   },
   {
    "duration": 162,
    "start_time": "2022-06-22T17:37:03.245Z"
   },
   {
    "duration": 5,
    "start_time": "2022-06-22T17:37:03.705Z"
   },
   {
    "duration": 11,
    "start_time": "2022-06-22T17:37:04.105Z"
   },
   {
    "duration": 45,
    "start_time": "2022-06-22T17:37:05.065Z"
   },
   {
    "duration": 185,
    "start_time": "2022-06-22T17:37:06.423Z"
   },
   {
    "duration": 652,
    "start_time": "2022-06-22T17:38:08.425Z"
   },
   {
    "duration": 43,
    "start_time": "2022-06-22T17:38:09.400Z"
   },
   {
    "duration": 133,
    "start_time": "2022-06-22T17:38:10.356Z"
   },
   {
    "duration": 5,
    "start_time": "2022-06-22T17:38:12.310Z"
   },
   {
    "duration": 10,
    "start_time": "2022-06-22T17:38:14.471Z"
   },
   {
    "duration": 33,
    "start_time": "2022-06-22T17:38:15.548Z"
   },
   {
    "duration": 295,
    "start_time": "2022-06-22T17:38:31.961Z"
   },
   {
    "duration": 1627,
    "start_time": "2022-06-22T17:38:32.280Z"
   },
   {
    "duration": 352,
    "start_time": "2022-06-22T17:38:33.909Z"
   },
   {
    "duration": 351,
    "start_time": "2022-06-22T17:39:32.556Z"
   },
   {
    "duration": 165,
    "start_time": "2022-06-22T17:39:43.910Z"
   },
   {
    "duration": 6,
    "start_time": "2022-06-22T17:39:48.245Z"
   },
   {
    "duration": 23,
    "start_time": "2022-06-22T17:39:57.489Z"
   },
   {
    "duration": 16,
    "start_time": "2022-06-22T17:40:01.962Z"
   },
   {
    "duration": 14,
    "start_time": "2022-06-22T17:41:29.090Z"
   },
   {
    "duration": 45,
    "start_time": "2022-06-22T17:42:07.740Z"
   },
   {
    "duration": 58,
    "start_time": "2022-06-22T17:42:32.103Z"
   },
   {
    "duration": 83,
    "start_time": "2022-06-22T17:42:32.330Z"
   },
   {
    "duration": 35,
    "start_time": "2022-06-22T17:42:48.503Z"
   },
   {
    "duration": 6,
    "start_time": "2022-06-22T17:43:36.378Z"
   },
   {
    "duration": 85,
    "start_time": "2022-06-22T17:43:36.411Z"
   },
   {
    "duration": 19,
    "start_time": "2022-06-22T17:43:36.498Z"
   },
   {
    "duration": 38,
    "start_time": "2022-06-22T17:43:36.533Z"
   },
   {
    "duration": 19,
    "start_time": "2022-06-22T17:43:36.573Z"
   },
   {
    "duration": 22,
    "start_time": "2022-06-22T17:43:36.673Z"
   },
   {
    "duration": 8,
    "start_time": "2022-06-22T17:43:36.710Z"
   },
   {
    "duration": 176,
    "start_time": "2022-06-22T17:47:15.511Z"
   },
   {
    "duration": 60,
    "start_time": "2022-06-22T17:47:19.815Z"
   },
   {
    "duration": 73,
    "start_time": "2022-06-22T17:47:20.055Z"
   },
   {
    "duration": 120,
    "start_time": "2022-06-22T17:47:33.767Z"
   },
   {
    "duration": 28,
    "start_time": "2022-06-22T17:47:34.998Z"
   },
   {
    "duration": 150,
    "start_time": "2022-06-22T17:47:44.597Z"
   },
   {
    "duration": 9,
    "start_time": "2022-06-22T17:47:45.048Z"
   },
   {
    "duration": 11,
    "start_time": "2022-06-22T17:47:45.492Z"
   },
   {
    "duration": 32,
    "start_time": "2022-06-22T17:48:15.953Z"
   },
   {
    "duration": 266,
    "start_time": "2022-06-22T17:50:10.369Z"
   },
   {
    "duration": 38,
    "start_time": "2022-06-22T17:51:27.221Z"
   },
   {
    "duration": 25,
    "start_time": "2022-06-22T17:51:27.782Z"
   },
   {
    "duration": 13,
    "start_time": "2022-06-22T17:52:09.431Z"
   },
   {
    "duration": 56,
    "start_time": "2022-06-22T17:52:09.956Z"
   },
   {
    "duration": 27,
    "start_time": "2022-06-22T17:52:10.013Z"
   },
   {
    "duration": 13,
    "start_time": "2022-06-22T17:52:10.071Z"
   },
   {
    "duration": 13,
    "start_time": "2022-06-22T17:52:10.093Z"
   },
   {
    "duration": 30,
    "start_time": "2022-06-22T17:52:10.201Z"
   },
   {
    "duration": 12,
    "start_time": "2022-06-22T17:52:10.256Z"
   },
   {
    "duration": 14,
    "start_time": "2022-06-22T17:53:02.901Z"
   },
   {
    "duration": 16,
    "start_time": "2022-06-22T17:53:10.181Z"
   },
   {
    "duration": 20,
    "start_time": "2022-06-22T17:53:17.427Z"
   },
   {
    "duration": 4,
    "start_time": "2022-06-22T17:53:25.812Z"
   },
   {
    "duration": 64,
    "start_time": "2022-06-22T17:53:28.379Z"
   },
   {
    "duration": 23,
    "start_time": "2022-06-22T17:53:28.847Z"
   },
   {
    "duration": 16,
    "start_time": "2022-06-22T17:53:29.654Z"
   },
   {
    "duration": 18,
    "start_time": "2022-06-22T17:53:29.856Z"
   },
   {
    "duration": 25,
    "start_time": "2022-06-22T17:53:31.091Z"
   },
   {
    "duration": 12,
    "start_time": "2022-06-22T17:53:31.875Z"
   },
   {
    "duration": 19,
    "start_time": "2022-06-22T17:54:32.106Z"
   },
   {
    "duration": 31,
    "start_time": "2022-06-22T17:54:50.980Z"
   },
   {
    "duration": 35,
    "start_time": "2022-06-22T17:54:55.284Z"
   },
   {
    "duration": 33,
    "start_time": "2022-06-22T17:54:58.371Z"
   },
   {
    "duration": 8,
    "start_time": "2022-06-22T17:55:01.753Z"
   },
   {
    "duration": 104,
    "start_time": "2022-06-22T17:55:02.262Z"
   },
   {
    "duration": 20,
    "start_time": "2022-06-22T17:55:02.368Z"
   },
   {
    "duration": 23,
    "start_time": "2022-06-22T17:55:02.390Z"
   },
   {
    "duration": 21,
    "start_time": "2022-06-22T17:55:02.417Z"
   },
   {
    "duration": 25,
    "start_time": "2022-06-22T17:55:02.513Z"
   },
   {
    "duration": 30,
    "start_time": "2022-06-22T17:55:03.464Z"
   },
   {
    "duration": 44,
    "start_time": "2022-06-22T17:55:15.220Z"
   },
   {
    "duration": 42,
    "start_time": "2022-06-22T17:55:36.627Z"
   },
   {
    "duration": 5,
    "start_time": "2022-06-22T17:55:41.008Z"
   },
   {
    "duration": 80,
    "start_time": "2022-06-22T17:55:41.470Z"
   },
   {
    "duration": 23,
    "start_time": "2022-06-22T17:55:41.553Z"
   },
   {
    "duration": 16,
    "start_time": "2022-06-22T17:55:41.610Z"
   },
   {
    "duration": 21,
    "start_time": "2022-06-22T17:55:41.642Z"
   },
   {
    "duration": 27,
    "start_time": "2022-06-22T17:55:41.751Z"
   },
   {
    "duration": 21,
    "start_time": "2022-06-22T17:55:41.780Z"
   },
   {
    "duration": 24,
    "start_time": "2022-06-22T17:55:41.942Z"
   },
   {
    "duration": 8,
    "start_time": "2022-06-22T17:55:42.482Z"
   },
   {
    "duration": 21,
    "start_time": "2022-06-22T17:55:43.378Z"
   },
   {
    "duration": 26,
    "start_time": "2022-06-22T17:55:43.618Z"
   },
   {
    "duration": 23,
    "start_time": "2022-06-22T17:55:44.551Z"
   },
   {
    "duration": 22,
    "start_time": "2022-06-22T17:55:45.330Z"
   },
   {
    "duration": 12,
    "start_time": "2022-06-22T17:55:46.258Z"
   },
   {
    "duration": 13,
    "start_time": "2022-06-22T17:56:14.254Z"
   },
   {
    "duration": 10,
    "start_time": "2022-06-22T17:56:15.397Z"
   },
   {
    "duration": 21,
    "start_time": "2022-06-22T17:56:15.991Z"
   },
   {
    "duration": 22,
    "start_time": "2022-06-22T17:56:16.184Z"
   },
   {
    "duration": 20,
    "start_time": "2022-06-22T17:56:16.802Z"
   },
   {
    "duration": 9,
    "start_time": "2022-06-22T17:56:25.457Z"
   },
   {
    "duration": 21,
    "start_time": "2022-06-22T17:56:26.180Z"
   },
   {
    "duration": 22,
    "start_time": "2022-06-22T17:56:26.562Z"
   },
   {
    "duration": 25,
    "start_time": "2022-06-22T17:56:27.854Z"
   },
   {
    "duration": 4,
    "start_time": "2022-06-22T17:56:38.680Z"
   },
   {
    "duration": 89,
    "start_time": "2022-06-22T17:56:38.923Z"
   },
   {
    "duration": 20,
    "start_time": "2022-06-22T17:56:39.154Z"
   },
   {
    "duration": 13,
    "start_time": "2022-06-22T17:56:39.699Z"
   },
   {
    "duration": 13,
    "start_time": "2022-06-22T17:56:39.876Z"
   },
   {
    "duration": 21,
    "start_time": "2022-06-22T17:56:40.552Z"
   },
   {
    "duration": 22,
    "start_time": "2022-06-22T17:56:40.758Z"
   },
   {
    "duration": 15,
    "start_time": "2022-06-22T17:56:43.795Z"
   },
   {
    "duration": 9,
    "start_time": "2022-06-22T17:56:45.474Z"
   },
   {
    "duration": 24,
    "start_time": "2022-06-22T17:56:46.266Z"
   },
   {
    "duration": 33,
    "start_time": "2022-06-22T17:56:46.519Z"
   },
   {
    "duration": 19,
    "start_time": "2022-06-22T17:56:47.666Z"
   },
   {
    "duration": 4,
    "start_time": "2022-06-22T17:57:15.567Z"
   },
   {
    "duration": 141,
    "start_time": "2022-06-22T17:57:16.058Z"
   },
   {
    "duration": 22,
    "start_time": "2022-06-22T17:57:16.201Z"
   },
   {
    "duration": 20,
    "start_time": "2022-06-22T17:57:16.224Z"
   },
   {
    "duration": 20,
    "start_time": "2022-06-22T17:57:16.251Z"
   },
   {
    "duration": 36,
    "start_time": "2022-06-22T17:57:16.324Z"
   },
   {
    "duration": 22,
    "start_time": "2022-06-22T17:57:16.362Z"
   },
   {
    "duration": 177,
    "start_time": "2022-06-22T17:57:16.498Z"
   },
   {
    "duration": 72,
    "start_time": "2022-06-22T17:57:16.689Z"
   },
   {
    "duration": 19,
    "start_time": "2022-06-22T17:57:16.782Z"
   },
   {
    "duration": 48,
    "start_time": "2022-06-22T17:57:16.814Z"
   },
   {
    "duration": 945,
    "start_time": "2022-06-22T17:57:16.904Z"
   },
   {
    "duration": 29,
    "start_time": "2022-06-22T17:57:17.857Z"
   },
   {
    "duration": 198,
    "start_time": "2022-06-22T17:57:17.889Z"
   },
   {
    "duration": 5,
    "start_time": "2022-06-22T17:57:18.090Z"
   },
   {
    "duration": 12,
    "start_time": "2022-06-22T17:57:18.097Z"
   },
   {
    "duration": 51,
    "start_time": "2022-06-22T17:57:18.110Z"
   },
   {
    "duration": 673,
    "start_time": "2022-06-22T17:57:18.498Z"
   },
   {
    "duration": 26,
    "start_time": "2022-06-22T17:57:19.299Z"
   },
   {
    "duration": 153,
    "start_time": "2022-06-22T17:57:19.394Z"
   },
   {
    "duration": 13,
    "start_time": "2022-06-22T17:57:19.553Z"
   },
   {
    "duration": 11,
    "start_time": "2022-06-22T17:57:19.599Z"
   },
   {
    "duration": 27,
    "start_time": "2022-06-22T17:57:19.692Z"
   },
   {
    "duration": 183,
    "start_time": "2022-06-22T17:57:19.790Z"
   },
   {
    "duration": 1816,
    "start_time": "2022-06-22T17:57:19.975Z"
   },
   {
    "duration": 325,
    "start_time": "2022-06-22T17:57:21.793Z"
   },
   {
    "duration": 157,
    "start_time": "2022-06-22T17:57:22.120Z"
   },
   {
    "duration": 6,
    "start_time": "2022-06-22T17:57:22.279Z"
   },
   {
    "duration": 50,
    "start_time": "2022-06-22T17:57:22.286Z"
   },
   {
    "duration": 63,
    "start_time": "2022-06-22T17:57:22.338Z"
   },
   {
    "duration": 52,
    "start_time": "2022-06-22T17:57:22.403Z"
   },
   {
    "duration": 116,
    "start_time": "2022-06-22T17:57:22.459Z"
   },
   {
    "duration": 29,
    "start_time": "2022-06-22T17:57:22.576Z"
   },
   {
    "duration": 159,
    "start_time": "2022-06-22T17:57:22.607Z"
   },
   {
    "duration": 5,
    "start_time": "2022-06-22T17:57:22.768Z"
   },
   {
    "duration": 38,
    "start_time": "2022-06-22T17:57:22.775Z"
   },
   {
    "duration": 27,
    "start_time": "2022-06-22T17:57:23.255Z"
   },
   {
    "duration": 24,
    "start_time": "2022-06-22T17:58:05.508Z"
   },
   {
    "duration": 13,
    "start_time": "2022-06-22T17:58:06.584Z"
   },
   {
    "duration": 5,
    "start_time": "2022-06-22T17:58:17.188Z"
   },
   {
    "duration": 80,
    "start_time": "2022-06-22T17:58:17.426Z"
   },
   {
    "duration": 19,
    "start_time": "2022-06-22T17:58:17.655Z"
   },
   {
    "duration": 19,
    "start_time": "2022-06-22T17:58:19.818Z"
   },
   {
    "duration": 17,
    "start_time": "2022-06-22T17:58:20.358Z"
   },
   {
    "duration": 30,
    "start_time": "2022-06-22T17:58:22.563Z"
   },
   {
    "duration": 22,
    "start_time": "2022-06-22T17:58:23.764Z"
   },
   {
    "duration": 220,
    "start_time": "2022-06-22T17:58:24.996Z"
   },
   {
    "duration": 74,
    "start_time": "2022-06-22T17:58:26.985Z"
   },
   {
    "duration": 29,
    "start_time": "2022-06-22T17:58:28.643Z"
   },
   {
    "duration": 39,
    "start_time": "2022-06-22T17:58:29.547Z"
   },
   {
    "duration": 970,
    "start_time": "2022-06-22T17:58:30.465Z"
   },
   {
    "duration": 39,
    "start_time": "2022-06-22T17:58:31.439Z"
   },
   {
    "duration": 158,
    "start_time": "2022-06-22T17:58:31.935Z"
   },
   {
    "duration": 11,
    "start_time": "2022-06-22T17:58:33.027Z"
   },
   {
    "duration": 11,
    "start_time": "2022-06-22T17:58:33.810Z"
   },
   {
    "duration": 35,
    "start_time": "2022-06-22T17:58:34.652Z"
   },
   {
    "duration": 677,
    "start_time": "2022-06-22T17:58:36.209Z"
   },
   {
    "duration": 38,
    "start_time": "2022-06-22T17:58:36.934Z"
   },
   {
    "duration": 153,
    "start_time": "2022-06-22T17:58:37.612Z"
   },
   {
    "duration": 5,
    "start_time": "2022-06-22T17:58:38.209Z"
   },
   {
    "duration": 11,
    "start_time": "2022-06-22T17:58:39.156Z"
   },
   {
    "duration": 40,
    "start_time": "2022-06-22T17:58:39.922Z"
   },
   {
    "duration": 186,
    "start_time": "2022-06-22T17:58:40.578Z"
   },
   {
    "duration": 1846,
    "start_time": "2022-06-22T17:58:40.844Z"
   },
   {
    "duration": 315,
    "start_time": "2022-06-22T17:58:42.692Z"
   },
   {
    "duration": 143,
    "start_time": "2022-06-22T17:58:43.009Z"
   },
   {
    "duration": 9,
    "start_time": "2022-06-22T17:58:43.155Z"
   },
   {
    "duration": 11,
    "start_time": "2022-06-22T17:58:43.410Z"
   },
   {
    "duration": 32,
    "start_time": "2022-06-22T17:58:45.145Z"
   },
   {
    "duration": 54,
    "start_time": "2022-06-22T17:58:46.210Z"
   },
   {
    "duration": 97,
    "start_time": "2022-06-22T17:58:46.713Z"
   },
   {
    "duration": 44,
    "start_time": "2022-06-22T17:58:46.813Z"
   },
   {
    "duration": 144,
    "start_time": "2022-06-22T17:58:46.918Z"
   },
   {
    "duration": 5,
    "start_time": "2022-06-22T17:58:47.064Z"
   },
   {
    "duration": 25,
    "start_time": "2022-06-22T17:58:47.071Z"
   },
   {
    "duration": 39,
    "start_time": "2022-06-22T17:58:47.188Z"
   },
   {
    "duration": 131,
    "start_time": "2022-06-22T17:58:47.355Z"
   },
   {
    "duration": 1635,
    "start_time": "2022-06-22T17:58:47.489Z"
   },
   {
    "duration": 331,
    "start_time": "2022-06-22T17:58:49.126Z"
   },
   {
    "duration": 458,
    "start_time": "2022-06-22T17:58:49.459Z"
   },
   {
    "duration": 44,
    "start_time": "2022-06-22T17:59:53.187Z"
   },
   {
    "duration": 6,
    "start_time": "2022-06-22T17:59:57.171Z"
   },
   {
    "duration": 92,
    "start_time": "2022-06-22T17:59:57.697Z"
   },
   {
    "duration": 21,
    "start_time": "2022-06-22T17:59:57.791Z"
   },
   {
    "duration": 11,
    "start_time": "2022-06-22T17:59:57.814Z"
   },
   {
    "duration": 19,
    "start_time": "2022-06-22T17:59:57.839Z"
   },
   {
    "duration": 29,
    "start_time": "2022-06-22T17:59:57.956Z"
   },
   {
    "duration": 26,
    "start_time": "2022-06-22T17:59:57.988Z"
   },
   {
    "duration": 183,
    "start_time": "2022-06-22T17:59:58.105Z"
   },
   {
    "duration": 71,
    "start_time": "2022-06-22T17:59:58.311Z"
   },
   {
    "duration": 20,
    "start_time": "2022-06-22T17:59:58.404Z"
   },
   {
    "duration": 30,
    "start_time": "2022-06-22T17:59:58.664Z"
   },
   {
    "duration": 942,
    "start_time": "2022-06-22T17:59:59.217Z"
   },
   {
    "duration": 27,
    "start_time": "2022-06-22T18:00:00.162Z"
   },
   {
    "duration": 167,
    "start_time": "2022-06-22T18:00:00.191Z"
   },
   {
    "duration": 6,
    "start_time": "2022-06-22T18:00:00.360Z"
   },
   {
    "duration": 12,
    "start_time": "2022-06-22T18:00:00.808Z"
   },
   {
    "duration": 50,
    "start_time": "2022-06-22T18:00:00.926Z"
   },
   {
    "duration": 789,
    "start_time": "2022-06-22T18:00:01.074Z"
   },
   {
    "duration": 42,
    "start_time": "2022-06-22T18:00:02.003Z"
   },
   {
    "duration": 248,
    "start_time": "2022-06-22T18:00:02.653Z"
   },
   {
    "duration": 5,
    "start_time": "2022-06-22T18:00:03.394Z"
   },
   {
    "duration": 17,
    "start_time": "2022-06-22T18:00:04.421Z"
   },
   {
    "duration": 33,
    "start_time": "2022-06-22T18:00:05.664Z"
   },
   {
    "duration": 208,
    "start_time": "2022-06-22T18:00:06.626Z"
   },
   {
    "duration": 1805,
    "start_time": "2022-06-22T18:00:06.882Z"
   },
   {
    "duration": 320,
    "start_time": "2022-06-22T18:00:08.695Z"
   },
   {
    "duration": 133,
    "start_time": "2022-06-22T18:00:10.164Z"
   },
   {
    "duration": 8,
    "start_time": "2022-06-22T18:00:11.356Z"
   },
   {
    "duration": 13,
    "start_time": "2022-06-22T18:00:13.282Z"
   },
   {
    "duration": 28,
    "start_time": "2022-06-22T18:00:28.994Z"
   },
   {
    "duration": 45,
    "start_time": "2022-06-22T18:00:34.354Z"
   },
   {
    "duration": 117,
    "start_time": "2022-06-22T18:00:34.732Z"
   },
   {
    "duration": 26,
    "start_time": "2022-06-22T18:00:35.858Z"
   },
   {
    "duration": 128,
    "start_time": "2022-06-22T18:00:37.755Z"
   },
   {
    "duration": 5,
    "start_time": "2022-06-22T18:00:38.768Z"
   },
   {
    "duration": 20,
    "start_time": "2022-06-22T18:00:39.717Z"
   },
   {
    "duration": 26,
    "start_time": "2022-06-22T18:00:40.986Z"
   },
   {
    "duration": 149,
    "start_time": "2022-06-22T18:00:42.769Z"
   },
   {
    "duration": 1711,
    "start_time": "2022-06-22T18:00:43.346Z"
   },
   {
    "duration": 316,
    "start_time": "2022-06-22T18:00:45.061Z"
   },
   {
    "duration": 454,
    "start_time": "2022-06-22T18:00:45.379Z"
   },
   {
    "duration": 41,
    "start_time": "2022-06-22T18:02:32.850Z"
   },
   {
    "duration": 923,
    "start_time": "2022-06-22T18:02:36.056Z"
   },
   {
    "duration": 27,
    "start_time": "2022-06-22T18:02:37.714Z"
   },
   {
    "duration": 25,
    "start_time": "2022-06-22T18:02:40.377Z"
   },
   {
    "duration": 975,
    "start_time": "2022-06-22T18:02:40.960Z"
   },
   {
    "duration": 41,
    "start_time": "2022-06-22T18:02:42.145Z"
   },
   {
    "duration": 152,
    "start_time": "2022-06-22T18:02:47.696Z"
   },
   {
    "duration": 17,
    "start_time": "2022-06-22T18:02:51.024Z"
   },
   {
    "duration": 15,
    "start_time": "2022-06-22T18:02:53.734Z"
   },
   {
    "duration": 27,
    "start_time": "2022-06-22T18:02:55.377Z"
   },
   {
    "duration": 29,
    "start_time": "2022-06-22T18:03:16.562Z"
   },
   {
    "duration": 11,
    "start_time": "2022-06-22T18:03:58.055Z"
   },
   {
    "duration": 9,
    "start_time": "2022-06-22T18:04:50.994Z"
   },
   {
    "duration": 25,
    "start_time": "2022-06-22T18:05:32.772Z"
   },
   {
    "duration": 177,
    "start_time": "2022-06-22T18:05:40.015Z"
   },
   {
    "duration": 5,
    "start_time": "2022-06-22T18:05:40.595Z"
   },
   {
    "duration": 11,
    "start_time": "2022-06-22T18:05:40.687Z"
   },
   {
    "duration": 35,
    "start_time": "2022-06-22T18:05:41.151Z"
   },
   {
    "duration": 4,
    "start_time": "2022-06-22T18:05:41.620Z"
   },
   {
    "duration": 10,
    "start_time": "2022-06-22T18:06:14.079Z"
   },
   {
    "duration": 5,
    "start_time": "2022-06-22T18:06:25.599Z"
   },
   {
    "duration": 10,
    "start_time": "2022-06-22T18:06:26.815Z"
   },
   {
    "duration": 9,
    "start_time": "2022-06-22T18:06:43.391Z"
   },
   {
    "duration": 5,
    "start_time": "2022-06-22T18:06:52.205Z"
   },
   {
    "duration": 12,
    "start_time": "2022-06-22T18:06:52.777Z"
   },
   {
    "duration": 40,
    "start_time": "2022-06-22T18:06:52.885Z"
   },
   {
    "duration": 22,
    "start_time": "2022-06-22T18:06:52.956Z"
   },
   {
    "duration": 735,
    "start_time": "2022-06-22T18:06:53.599Z"
   },
   {
    "duration": 4,
    "start_time": "2022-06-22T18:08:39.407Z"
   },
   {
    "duration": 4,
    "start_time": "2022-06-22T18:08:52.476Z"
   },
   {
    "duration": 41,
    "start_time": "2022-06-22T18:09:25.249Z"
   },
   {
    "duration": 709,
    "start_time": "2022-06-22T18:09:26.912Z"
   },
   {
    "duration": 34,
    "start_time": "2022-06-22T18:09:30.655Z"
   },
   {
    "duration": 28,
    "start_time": "2022-06-22T18:09:47.055Z"
   },
   {
    "duration": 136,
    "start_time": "2022-06-22T18:09:48.764Z"
   },
   {
    "duration": 6,
    "start_time": "2022-06-22T18:09:49.707Z"
   },
   {
    "duration": 6,
    "start_time": "2022-06-22T18:10:36.393Z"
   },
   {
    "duration": 982,
    "start_time": "2022-06-22T18:11:29.929Z"
   },
   {
    "duration": 34,
    "start_time": "2022-06-22T18:11:30.913Z"
   },
   {
    "duration": 134,
    "start_time": "2022-06-22T18:11:31.178Z"
   },
   {
    "duration": 26,
    "start_time": "2022-06-22T18:12:45.658Z"
   },
   {
    "duration": 137,
    "start_time": "2022-06-22T18:12:46.954Z"
   },
   {
    "duration": 5,
    "start_time": "2022-06-22T18:12:47.355Z"
   },
   {
    "duration": 21,
    "start_time": "2022-06-22T18:12:48.015Z"
   },
   {
    "duration": 26,
    "start_time": "2022-06-22T18:12:49.961Z"
   },
   {
    "duration": 183,
    "start_time": "2022-06-22T18:12:51.174Z"
   },
   {
    "duration": 1757,
    "start_time": "2022-06-22T18:12:52.282Z"
   },
   {
    "duration": 317,
    "start_time": "2022-06-22T18:12:55.496Z"
   },
   {
    "duration": 134,
    "start_time": "2022-06-22T18:12:56.059Z"
   },
   {
    "duration": 6,
    "start_time": "2022-06-22T18:12:57.023Z"
   },
   {
    "duration": 6,
    "start_time": "2022-06-22T18:13:05.896Z"
   },
   {
    "duration": 11,
    "start_time": "2022-06-22T18:13:06.779Z"
   },
   {
    "duration": 19,
    "start_time": "2022-06-22T18:13:25.224Z"
   },
   {
    "duration": 10,
    "start_time": "2022-06-22T18:14:43.496Z"
   },
   {
    "duration": 26,
    "start_time": "2022-06-22T18:14:52.989Z"
   },
   {
    "duration": 5,
    "start_time": "2022-06-22T18:14:53.758Z"
   },
   {
    "duration": 29,
    "start_time": "2022-06-22T18:15:53.775Z"
   },
   {
    "duration": 143,
    "start_time": "2022-06-22T18:15:55.052Z"
   },
   {
    "duration": 6,
    "start_time": "2022-06-22T18:15:55.692Z"
   },
   {
    "duration": 20,
    "start_time": "2022-06-22T18:15:56.715Z"
   },
   {
    "duration": 35,
    "start_time": "2022-06-22T18:15:58.680Z"
   },
   {
    "duration": 4,
    "start_time": "2022-06-22T18:15:59.872Z"
   },
   {
    "duration": 182,
    "start_time": "2022-06-22T18:16:08.757Z"
   },
   {
    "duration": 1806,
    "start_time": "2022-06-22T18:16:08.941Z"
   },
   {
    "duration": 1977,
    "start_time": "2022-06-22T18:16:43.093Z"
   },
   {
    "duration": 28,
    "start_time": "2022-06-22T18:16:45.072Z"
   },
   {
    "duration": 213,
    "start_time": "2022-06-22T18:16:47.162Z"
   },
   {
    "duration": 1768,
    "start_time": "2022-06-22T18:16:47.377Z"
   },
   {
    "duration": 32,
    "start_time": "2022-06-22T18:16:49.147Z"
   },
   {
    "duration": 41,
    "start_time": "2022-06-22T18:16:57.910Z"
   },
   {
    "duration": 137,
    "start_time": "2022-06-22T18:17:03.338Z"
   },
   {
    "duration": 5,
    "start_time": "2022-06-22T18:17:04.102Z"
   },
   {
    "duration": 11,
    "start_time": "2022-06-22T18:17:26.172Z"
   },
   {
    "duration": 26,
    "start_time": "2022-06-22T18:17:29.798Z"
   },
   {
    "duration": 50,
    "start_time": "2022-06-22T18:17:35.910Z"
   },
   {
    "duration": 101,
    "start_time": "2022-06-22T18:17:36.758Z"
   },
   {
    "duration": 26,
    "start_time": "2022-06-22T18:18:15.878Z"
   },
   {
    "duration": 6,
    "start_time": "2022-06-22T18:18:52.069Z"
   },
   {
    "duration": 27,
    "start_time": "2022-06-22T18:19:42.970Z"
   },
   {
    "duration": 5,
    "start_time": "2022-06-22T18:19:56.516Z"
   },
   {
    "duration": 13,
    "start_time": "2022-06-22T18:20:58.912Z"
   },
   {
    "duration": 27,
    "start_time": "2022-06-22T18:21:53.060Z"
   },
   {
    "duration": 12,
    "start_time": "2022-06-22T18:21:55.146Z"
   },
   {
    "duration": 1657,
    "start_time": "2022-06-22T18:23:43.923Z"
   },
   {
    "duration": 318,
    "start_time": "2022-06-22T18:23:48.250Z"
   },
   {
    "duration": 37,
    "start_time": "2022-06-22T18:24:38.306Z"
   },
   {
    "duration": 141,
    "start_time": "2022-06-22T18:24:56.148Z"
   },
   {
    "duration": 5,
    "start_time": "2022-06-22T18:25:00.073Z"
   },
   {
    "duration": 15,
    "start_time": "2022-06-22T18:25:31.672Z"
   },
   {
    "duration": 75,
    "start_time": "2022-06-22T18:25:44.419Z"
   },
   {
    "duration": 37,
    "start_time": "2022-06-22T18:25:49.457Z"
   },
   {
    "duration": 4,
    "start_time": "2022-06-22T18:26:37.674Z"
   },
   {
    "duration": 5,
    "start_time": "2022-06-22T18:26:51.676Z"
   },
   {
    "duration": 5,
    "start_time": "2022-06-22T18:26:56.252Z"
   },
   {
    "duration": 11,
    "start_time": "2022-06-22T18:28:50.652Z"
   },
   {
    "duration": 6,
    "start_time": "2022-06-22T18:29:27.946Z"
   },
   {
    "duration": 6,
    "start_time": "2022-06-22T18:29:34.225Z"
   },
   {
    "duration": 6,
    "start_time": "2022-06-22T18:29:44.592Z"
   },
   {
    "duration": 6,
    "start_time": "2022-06-22T18:29:50.976Z"
   },
   {
    "duration": 53,
    "start_time": "2022-06-22T18:30:13.521Z"
   },
   {
    "duration": 105,
    "start_time": "2022-06-22T18:30:13.767Z"
   },
   {
    "duration": 43,
    "start_time": "2022-06-22T18:30:18.112Z"
   },
   {
    "duration": 122,
    "start_time": "2022-06-22T18:30:24.843Z"
   },
   {
    "duration": 6,
    "start_time": "2022-06-22T18:30:29.475Z"
   },
   {
    "duration": 17,
    "start_time": "2022-06-22T18:30:31.574Z"
   },
   {
    "duration": 45,
    "start_time": "2022-06-22T18:30:37.353Z"
   },
   {
    "duration": 4,
    "start_time": "2022-06-22T18:30:44.191Z"
   },
   {
    "duration": 8,
    "start_time": "2022-06-22T18:30:45.406Z"
   },
   {
    "duration": 177,
    "start_time": "2022-06-22T18:31:24.494Z"
   },
   {
    "duration": 66,
    "start_time": "2022-06-22T18:31:46.982Z"
   },
   {
    "duration": 63,
    "start_time": "2022-06-22T18:32:06.055Z"
   },
   {
    "duration": 64,
    "start_time": "2022-06-22T18:32:12.038Z"
   },
   {
    "duration": 940,
    "start_time": "2022-06-22T18:32:14.952Z"
   },
   {
    "duration": 1399,
    "start_time": "2022-06-22T18:32:49.386Z"
   },
   {
    "duration": 138,
    "start_time": "2022-06-22T18:32:50.787Z"
   },
   {
    "duration": 41,
    "start_time": "2022-06-22T18:32:50.930Z"
   },
   {
    "duration": 13,
    "start_time": "2022-06-22T18:32:50.974Z"
   },
   {
    "duration": 14,
    "start_time": "2022-06-22T18:32:50.988Z"
   },
   {
    "duration": 46,
    "start_time": "2022-06-22T18:32:51.004Z"
   },
   {
    "duration": 40,
    "start_time": "2022-06-22T18:32:51.052Z"
   },
   {
    "duration": 228,
    "start_time": "2022-06-22T18:32:51.094Z"
   },
   {
    "duration": 74,
    "start_time": "2022-06-22T18:32:51.324Z"
   },
   {
    "duration": 60,
    "start_time": "2022-06-22T18:32:51.400Z"
   },
   {
    "duration": 75,
    "start_time": "2022-06-22T18:32:51.463Z"
   },
   {
    "duration": 979,
    "start_time": "2022-06-22T18:32:51.540Z"
   },
   {
    "duration": 5,
    "start_time": "2022-06-22T18:32:57.889Z"
   },
   {
    "duration": 154,
    "start_time": "2022-06-22T18:32:58.111Z"
   },
   {
    "duration": 44,
    "start_time": "2022-06-22T18:32:58.398Z"
   },
   {
    "duration": 14,
    "start_time": "2022-06-22T18:32:59.189Z"
   },
   {
    "duration": 20,
    "start_time": "2022-06-22T18:32:59.219Z"
   },
   {
    "duration": 29,
    "start_time": "2022-06-22T18:32:59.352Z"
   },
   {
    "duration": 36,
    "start_time": "2022-06-22T18:32:59.383Z"
   },
   {
    "duration": 217,
    "start_time": "2022-06-22T18:32:59.500Z"
   },
   {
    "duration": 77,
    "start_time": "2022-06-22T18:32:59.719Z"
   },
   {
    "duration": 35,
    "start_time": "2022-06-22T18:32:59.798Z"
   },
   {
    "duration": 85,
    "start_time": "2022-06-22T18:32:59.835Z"
   },
   {
    "duration": 1222,
    "start_time": "2022-06-22T18:32:59.922Z"
   },
   {
    "duration": 31,
    "start_time": "2022-06-22T18:33:01.146Z"
   },
   {
    "duration": 537,
    "start_time": "2022-06-22T18:33:01.179Z"
   },
   {
    "duration": 21,
    "start_time": "2022-06-22T18:33:01.719Z"
   },
   {
    "duration": 7,
    "start_time": "2022-06-22T18:33:21.274Z"
   },
   {
    "duration": 61,
    "start_time": "2022-06-22T18:33:21.306Z"
   },
   {
    "duration": 22,
    "start_time": "2022-06-22T18:33:21.369Z"
   },
   {
    "duration": 22,
    "start_time": "2022-06-22T18:33:21.453Z"
   },
   {
    "duration": 39,
    "start_time": "2022-06-22T18:33:21.478Z"
   },
   {
    "duration": 21,
    "start_time": "2022-06-22T18:33:22.449Z"
   },
   {
    "duration": 38,
    "start_time": "2022-06-22T18:33:22.478Z"
   },
   {
    "duration": 201,
    "start_time": "2022-06-22T18:33:22.611Z"
   },
   {
    "duration": 88,
    "start_time": "2022-06-22T18:33:22.814Z"
   },
   {
    "duration": 46,
    "start_time": "2022-06-22T18:33:22.905Z"
   },
   {
    "duration": 29,
    "start_time": "2022-06-22T18:33:22.953Z"
   },
   {
    "duration": 870,
    "start_time": "2022-06-22T18:33:23.042Z"
   },
   {
    "duration": 34,
    "start_time": "2022-06-22T18:33:23.914Z"
   },
   {
    "duration": 160,
    "start_time": "2022-06-22T18:33:23.950Z"
   },
   {
    "duration": 18,
    "start_time": "2022-06-22T18:33:24.113Z"
   },
   {
    "duration": 32,
    "start_time": "2022-06-22T18:33:24.140Z"
   },
   {
    "duration": 95,
    "start_time": "2022-06-22T18:33:24.174Z"
   },
   {
    "duration": 28,
    "start_time": "2022-06-22T18:33:24.271Z"
   },
   {
    "duration": 725,
    "start_time": "2022-06-22T18:33:24.301Z"
   },
   {
    "duration": 29,
    "start_time": "2022-06-22T18:33:25.028Z"
   },
   {
    "duration": 158,
    "start_time": "2022-06-22T18:33:25.060Z"
   },
   {
    "duration": 19,
    "start_time": "2022-06-22T18:33:25.220Z"
   },
   {
    "duration": 32,
    "start_time": "2022-06-22T18:33:25.241Z"
   },
   {
    "duration": 76,
    "start_time": "2022-06-22T18:33:25.275Z"
   },
   {
    "duration": 18,
    "start_time": "2022-06-22T18:33:25.353Z"
   },
   {
    "duration": 232,
    "start_time": "2022-06-22T18:33:25.373Z"
   },
   {
    "duration": 1758,
    "start_time": "2022-06-22T18:33:25.607Z"
   },
   {
    "duration": 25,
    "start_time": "2022-06-22T18:33:27.367Z"
   },
   {
    "duration": 162,
    "start_time": "2022-06-22T18:33:27.393Z"
   },
   {
    "duration": 5,
    "start_time": "2022-06-22T18:33:27.557Z"
   },
   {
    "duration": 37,
    "start_time": "2022-06-22T18:33:27.564Z"
   },
   {
    "duration": 47,
    "start_time": "2022-06-22T18:33:27.604Z"
   },
   {
    "duration": 5,
    "start_time": "2022-06-22T18:33:51.401Z"
   },
   {
    "duration": 210,
    "start_time": "2022-06-22T18:33:51.885Z"
   },
   {
    "duration": 1686,
    "start_time": "2022-06-22T18:33:52.387Z"
   },
   {
    "duration": 25,
    "start_time": "2022-06-22T18:33:54.075Z"
   },
   {
    "duration": 153,
    "start_time": "2022-06-22T18:33:54.102Z"
   },
   {
    "duration": 5,
    "start_time": "2022-06-22T18:33:54.257Z"
   },
   {
    "duration": 12,
    "start_time": "2022-06-22T18:33:54.264Z"
   },
   {
    "duration": 26,
    "start_time": "2022-06-22T18:33:54.278Z"
   },
   {
    "duration": 5,
    "start_time": "2022-06-22T18:33:54.332Z"
   },
   {
    "duration": 50,
    "start_time": "2022-06-22T18:33:54.897Z"
   },
   {
    "duration": 112,
    "start_time": "2022-06-22T18:33:55.398Z"
   },
   {
    "duration": 28,
    "start_time": "2022-06-22T18:33:55.876Z"
   },
   {
    "duration": 25,
    "start_time": "2022-06-22T18:34:03.698Z"
   },
   {
    "duration": 207,
    "start_time": "2022-06-22T18:34:04.947Z"
   },
   {
    "duration": 6,
    "start_time": "2022-06-22T18:34:05.660Z"
   },
   {
    "duration": 12,
    "start_time": "2022-06-22T18:34:06.305Z"
   },
   {
    "duration": 177,
    "start_time": "2022-06-22T18:34:07.600Z"
   },
   {
    "duration": 6,
    "start_time": "2022-06-22T18:34:08.275Z"
   },
   {
    "duration": 7,
    "start_time": "2022-06-22T18:34:09.986Z"
   },
   {
    "duration": 159,
    "start_time": "2022-06-22T18:34:16.850Z"
   },
   {
    "duration": 9,
    "start_time": "2022-06-22T18:34:55.458Z"
   },
   {
    "duration": 204,
    "start_time": "2022-06-22T18:35:02.851Z"
   },
   {
    "duration": 5,
    "start_time": "2022-06-22T18:35:03.201Z"
   },
   {
    "duration": 16,
    "start_time": "2022-06-22T18:35:03.753Z"
   },
   {
    "duration": 79,
    "start_time": "2022-06-22T18:35:34.320Z"
   },
   {
    "duration": 71,
    "start_time": "2022-06-22T18:35:40.975Z"
   },
   {
    "duration": 40,
    "start_time": "2022-06-22T18:37:05.216Z"
   },
   {
    "duration": 40,
    "start_time": "2022-06-22T18:37:15.017Z"
   },
   {
    "duration": 4,
    "start_time": "2022-06-22T18:37:17.756Z"
   },
   {
    "duration": 6,
    "start_time": "2022-06-22T18:37:18.320Z"
   },
   {
    "duration": 1236,
    "start_time": "2022-06-23T06:32:02.608Z"
   },
   {
    "duration": 222,
    "start_time": "2022-06-23T06:32:03.846Z"
   },
   {
    "duration": 30,
    "start_time": "2022-06-23T06:32:04.070Z"
   },
   {
    "duration": 13,
    "start_time": "2022-06-23T06:32:04.102Z"
   },
   {
    "duration": 13,
    "start_time": "2022-06-23T06:32:04.118Z"
   },
   {
    "duration": 21,
    "start_time": "2022-06-23T06:32:04.133Z"
   },
   {
    "duration": 31,
    "start_time": "2022-06-23T06:32:04.155Z"
   },
   {
    "duration": 242,
    "start_time": "2022-06-23T06:32:04.187Z"
   },
   {
    "duration": 23,
    "start_time": "2022-06-23T06:32:10.332Z"
   },
   {
    "duration": 17,
    "start_time": "2022-06-23T06:32:22.239Z"
   },
   {
    "duration": 1066,
    "start_time": "2022-06-23T06:46:52.430Z"
   },
   {
    "duration": 90,
    "start_time": "2022-06-23T06:46:53.509Z"
   },
   {
    "duration": 26,
    "start_time": "2022-06-23T06:46:53.601Z"
   },
   {
    "duration": 22,
    "start_time": "2022-06-23T06:46:53.628Z"
   },
   {
    "duration": 32,
    "start_time": "2022-06-23T06:46:53.653Z"
   },
   {
    "duration": 24,
    "start_time": "2022-06-23T06:46:53.687Z"
   },
   {
    "duration": 56,
    "start_time": "2022-06-23T06:46:53.713Z"
   },
   {
    "duration": 238,
    "start_time": "2022-06-23T06:46:53.770Z"
   },
   {
    "duration": 68,
    "start_time": "2022-06-23T06:46:54.009Z"
   },
   {
    "duration": 18,
    "start_time": "2022-06-23T06:46:54.078Z"
   },
   {
    "duration": 60,
    "start_time": "2022-06-23T06:46:54.098Z"
   },
   {
    "duration": 765,
    "start_time": "2022-06-23T06:46:54.160Z"
   },
   {
    "duration": 31,
    "start_time": "2022-06-23T06:46:54.927Z"
   },
   {
    "duration": 543,
    "start_time": "2022-06-23T06:46:54.961Z"
   },
   {
    "duration": 5,
    "start_time": "2022-06-23T06:46:55.506Z"
   },
   {
    "duration": 33,
    "start_time": "2022-06-23T06:46:55.512Z"
   },
   {
    "duration": 60,
    "start_time": "2022-06-23T06:46:55.547Z"
   },
   {
    "duration": 31,
    "start_time": "2022-06-23T06:46:55.608Z"
   },
   {
    "duration": 604,
    "start_time": "2022-06-23T06:46:55.641Z"
   },
   {
    "duration": 23,
    "start_time": "2022-06-23T06:46:56.247Z"
   },
   {
    "duration": 125,
    "start_time": "2022-06-23T06:46:56.271Z"
   },
   {
    "duration": 4,
    "start_time": "2022-06-23T06:46:56.398Z"
   },
   {
    "duration": 23,
    "start_time": "2022-06-23T06:46:56.403Z"
   },
   {
    "duration": 26,
    "start_time": "2022-06-23T06:46:56.427Z"
   },
   {
    "duration": 9,
    "start_time": "2022-06-23T06:46:56.454Z"
   },
   {
    "duration": 206,
    "start_time": "2022-06-23T06:46:56.465Z"
   },
   {
    "duration": 1471,
    "start_time": "2022-06-23T06:46:56.673Z"
   },
   {
    "duration": 25,
    "start_time": "2022-06-23T06:46:58.146Z"
   },
   {
    "duration": 123,
    "start_time": "2022-06-23T06:46:58.172Z"
   },
   {
    "duration": 5,
    "start_time": "2022-06-23T06:46:58.296Z"
   },
   {
    "duration": 23,
    "start_time": "2022-06-23T06:46:58.302Z"
   },
   {
    "duration": 25,
    "start_time": "2022-06-23T06:46:58.327Z"
   },
   {
    "duration": 5,
    "start_time": "2022-06-23T06:46:58.354Z"
   },
   {
    "duration": 43,
    "start_time": "2022-06-23T06:46:58.360Z"
   },
   {
    "duration": 108,
    "start_time": "2022-06-23T06:46:58.405Z"
   },
   {
    "duration": 26,
    "start_time": "2022-06-23T06:46:58.525Z"
   },
   {
    "duration": 117,
    "start_time": "2022-06-23T06:46:58.553Z"
   },
   {
    "duration": 4,
    "start_time": "2022-06-23T06:46:58.672Z"
   },
   {
    "duration": 11,
    "start_time": "2022-06-23T06:46:58.678Z"
   },
   {
    "duration": 47,
    "start_time": "2022-06-23T06:46:58.691Z"
   },
   {
    "duration": 5,
    "start_time": "2022-06-23T06:46:58.742Z"
   },
   {
    "duration": 14,
    "start_time": "2022-06-23T06:46:58.749Z"
   },
   {
    "duration": 161,
    "start_time": "2022-06-23T06:46:58.764Z"
   },
   {
    "duration": 60,
    "start_time": "2022-06-23T06:46:58.927Z"
   },
   {
    "duration": 160,
    "start_time": "2022-06-23T06:46:58.988Z"
   },
   {
    "duration": 4,
    "start_time": "2022-06-23T06:46:59.150Z"
   },
   {
    "duration": 16,
    "start_time": "2022-06-23T06:46:59.155Z"
   },
   {
    "duration": 77,
    "start_time": "2022-06-23T06:46:59.172Z"
   },
   {
    "duration": 45,
    "start_time": "2022-06-23T07:09:40.519Z"
   },
   {
    "duration": 975,
    "start_time": "2022-06-23T07:09:44.904Z"
   },
   {
    "duration": 126,
    "start_time": "2022-06-23T07:09:45.881Z"
   },
   {
    "duration": 28,
    "start_time": "2022-06-23T07:09:46.009Z"
   },
   {
    "duration": 16,
    "start_time": "2022-06-23T07:09:46.039Z"
   },
   {
    "duration": 11,
    "start_time": "2022-06-23T07:09:46.057Z"
   },
   {
    "duration": 25,
    "start_time": "2022-06-23T07:09:46.674Z"
   },
   {
    "duration": 23,
    "start_time": "2022-06-23T07:09:47.333Z"
   },
   {
    "duration": 21,
    "start_time": "2022-06-23T07:09:56.597Z"
   },
   {
    "duration": 22,
    "start_time": "2022-06-23T07:10:25.702Z"
   },
   {
    "duration": 223,
    "start_time": "2022-06-23T07:12:32.036Z"
   },
   {
    "duration": 67,
    "start_time": "2022-06-23T07:13:14.980Z"
   },
   {
    "duration": 4,
    "start_time": "2022-06-23T07:13:24.789Z"
   },
   {
    "duration": 58,
    "start_time": "2022-06-23T07:13:24.966Z"
   },
   {
    "duration": 19,
    "start_time": "2022-06-23T07:13:25.142Z"
   },
   {
    "duration": 12,
    "start_time": "2022-06-23T07:13:25.861Z"
   },
   {
    "duration": 12,
    "start_time": "2022-06-23T07:13:25.893Z"
   },
   {
    "duration": 21,
    "start_time": "2022-06-23T07:13:25.983Z"
   },
   {
    "duration": 24,
    "start_time": "2022-06-23T07:13:26.015Z"
   },
   {
    "duration": 14,
    "start_time": "2022-06-23T07:13:27.892Z"
   },
   {
    "duration": 13,
    "start_time": "2022-06-23T07:13:37.811Z"
   },
   {
    "duration": 13,
    "start_time": "2022-06-23T07:13:49.156Z"
   },
   {
    "duration": 4,
    "start_time": "2022-06-23T07:13:58.291Z"
   },
   {
    "duration": 57,
    "start_time": "2022-06-23T07:13:58.790Z"
   },
   {
    "duration": 20,
    "start_time": "2022-06-23T07:13:58.849Z"
   },
   {
    "duration": 11,
    "start_time": "2022-06-23T07:13:58.929Z"
   },
   {
    "duration": 11,
    "start_time": "2022-06-23T07:13:58.963Z"
   },
   {
    "duration": 19,
    "start_time": "2022-06-23T07:13:59.057Z"
   },
   {
    "duration": 13,
    "start_time": "2022-06-23T07:13:59.089Z"
   },
   {
    "duration": 14,
    "start_time": "2022-06-23T07:13:59.269Z"
   },
   {
    "duration": 6,
    "start_time": "2022-06-23T07:14:00.548Z"
   },
   {
    "duration": 17,
    "start_time": "2022-06-23T07:14:01.203Z"
   },
   {
    "duration": 8,
    "start_time": "2022-06-23T07:16:34.034Z"
   },
   {
    "duration": 4,
    "start_time": "2022-06-23T07:16:38.083Z"
   },
   {
    "duration": 60,
    "start_time": "2022-06-23T07:16:38.581Z"
   },
   {
    "duration": 19,
    "start_time": "2022-06-23T07:16:38.642Z"
   },
   {
    "duration": 11,
    "start_time": "2022-06-23T07:16:38.721Z"
   },
   {
    "duration": 13,
    "start_time": "2022-06-23T07:16:38.756Z"
   },
   {
    "duration": 20,
    "start_time": "2022-06-23T07:16:38.860Z"
   },
   {
    "duration": 29,
    "start_time": "2022-06-23T07:16:38.882Z"
   },
   {
    "duration": 15,
    "start_time": "2022-06-23T07:16:39.054Z"
   },
   {
    "duration": 7,
    "start_time": "2022-06-23T07:16:39.286Z"
   },
   {
    "duration": 18,
    "start_time": "2022-06-23T07:16:39.382Z"
   },
   {
    "duration": 37,
    "start_time": "2022-06-23T07:16:39.415Z"
   },
   {
    "duration": 36,
    "start_time": "2022-06-23T07:16:39.508Z"
   },
   {
    "duration": 6,
    "start_time": "2022-06-23T07:16:39.605Z"
   },
   {
    "duration": 511,
    "start_time": "2022-06-23T07:16:39.679Z"
   },
   {
    "duration": 5,
    "start_time": "2022-06-23T07:16:40.192Z"
   },
   {
    "duration": 39,
    "start_time": "2022-06-23T07:16:40.198Z"
   },
   {
    "duration": 24,
    "start_time": "2022-06-23T07:16:40.239Z"
   },
   {
    "duration": 24,
    "start_time": "2022-06-23T07:16:40.265Z"
   },
   {
    "duration": 61,
    "start_time": "2022-06-23T07:16:40.291Z"
   },
   {
    "duration": 13,
    "start_time": "2022-06-23T07:16:40.354Z"
   },
   {
    "duration": 129,
    "start_time": "2022-06-23T07:16:40.375Z"
   },
   {
    "duration": 4,
    "start_time": "2022-06-23T07:16:40.506Z"
   },
   {
    "duration": 11,
    "start_time": "2022-06-23T07:16:40.563Z"
   },
   {
    "duration": 7,
    "start_time": "2022-06-23T07:16:40.669Z"
   },
   {
    "duration": 4,
    "start_time": "2022-06-23T07:16:40.733Z"
   },
   {
    "duration": 13,
    "start_time": "2022-06-23T07:16:40.797Z"
   },
   {
    "duration": 57,
    "start_time": "2022-06-23T07:16:40.827Z"
   },
   {
    "duration": 6,
    "start_time": "2022-06-23T07:16:40.923Z"
   },
   {
    "duration": 106,
    "start_time": "2022-06-23T07:16:41.066Z"
   },
   {
    "duration": 5,
    "start_time": "2022-06-23T07:16:41.175Z"
   },
   {
    "duration": 10,
    "start_time": "2022-06-23T07:16:41.300Z"
   },
   {
    "duration": 7,
    "start_time": "2022-06-23T07:16:41.426Z"
   },
   {
    "duration": 4,
    "start_time": "2022-06-23T07:16:41.522Z"
   },
   {
    "duration": 10,
    "start_time": "2022-06-23T07:16:41.586Z"
   },
   {
    "duration": 19,
    "start_time": "2022-06-23T07:16:41.617Z"
   },
   {
    "duration": 6,
    "start_time": "2022-06-23T07:16:41.725Z"
   },
   {
    "duration": 90,
    "start_time": "2022-06-23T07:16:41.822Z"
   },
   {
    "duration": 4,
    "start_time": "2022-06-23T07:16:42.775Z"
   },
   {
    "duration": 11,
    "start_time": "2022-06-23T07:16:42.836Z"
   },
   {
    "duration": 7,
    "start_time": "2022-06-23T07:16:42.967Z"
   },
   {
    "duration": 3,
    "start_time": "2022-06-23T07:16:43.062Z"
   },
   {
    "duration": 7,
    "start_time": "2022-06-23T07:16:43.125Z"
   },
   {
    "duration": 37,
    "start_time": "2022-06-23T07:16:43.334Z"
   },
   {
    "duration": 19,
    "start_time": "2022-06-23T07:16:45.089Z"
   },
   {
    "duration": 4,
    "start_time": "2022-06-23T07:16:54.920Z"
   },
   {
    "duration": 65,
    "start_time": "2022-06-23T07:16:55.416Z"
   },
   {
    "duration": 20,
    "start_time": "2022-06-23T07:16:55.483Z"
   },
   {
    "duration": 17,
    "start_time": "2022-06-23T07:16:55.555Z"
   },
   {
    "duration": 12,
    "start_time": "2022-06-23T07:16:55.587Z"
   },
   {
    "duration": 21,
    "start_time": "2022-06-23T07:16:55.682Z"
   },
   {
    "duration": 16,
    "start_time": "2022-06-23T07:16:55.706Z"
   },
   {
    "duration": 15,
    "start_time": "2022-06-23T07:16:55.886Z"
   },
   {
    "duration": 7,
    "start_time": "2022-06-23T07:16:56.113Z"
   },
   {
    "duration": 22,
    "start_time": "2022-06-23T07:16:56.206Z"
   },
   {
    "duration": 24,
    "start_time": "2022-06-23T07:16:56.236Z"
   },
   {
    "duration": 33,
    "start_time": "2022-06-23T07:16:56.334Z"
   },
   {
    "duration": 6,
    "start_time": "2022-06-23T07:16:56.445Z"
   },
   {
    "duration": 103,
    "start_time": "2022-06-23T07:16:56.508Z"
   },
   {
    "duration": 4,
    "start_time": "2022-06-23T07:16:56.613Z"
   },
   {
    "duration": 10,
    "start_time": "2022-06-23T07:16:56.696Z"
   },
   {
    "duration": 8,
    "start_time": "2022-06-23T07:16:56.810Z"
   },
   {
    "duration": 4,
    "start_time": "2022-06-23T07:16:56.872Z"
   },
   {
    "duration": 34,
    "start_time": "2022-06-23T07:16:57.538Z"
   },
   {
    "duration": 6,
    "start_time": "2022-06-23T07:16:58.589Z"
   },
   {
    "duration": 183,
    "start_time": "2022-06-23T07:16:58.697Z"
   },
   {
    "duration": 5,
    "start_time": "2022-06-23T07:16:58.882Z"
   },
   {
    "duration": 11,
    "start_time": "2022-06-23T07:16:59.938Z"
   },
   {
    "duration": 7,
    "start_time": "2022-06-23T07:17:01.108Z"
   },
   {
    "duration": 5,
    "start_time": "2022-06-23T07:17:01.169Z"
   },
   {
    "duration": 11,
    "start_time": "2022-06-23T07:17:01.683Z"
   },
   {
    "duration": 56,
    "start_time": "2022-06-23T07:17:02.018Z"
   },
   {
    "duration": 6,
    "start_time": "2022-06-23T07:17:03.180Z"
   },
   {
    "duration": 99,
    "start_time": "2022-06-23T07:17:03.317Z"
   },
   {
    "duration": 5,
    "start_time": "2022-06-23T07:17:03.418Z"
   },
   {
    "duration": 9,
    "start_time": "2022-06-23T07:17:04.610Z"
   },
   {
    "duration": 7,
    "start_time": "2022-06-23T07:17:05.848Z"
   },
   {
    "duration": 3,
    "start_time": "2022-06-23T07:17:05.956Z"
   },
   {
    "duration": 10,
    "start_time": "2022-06-23T07:17:06.018Z"
   },
   {
    "duration": 13,
    "start_time": "2022-06-23T07:17:06.054Z"
   },
   {
    "duration": 6,
    "start_time": "2022-06-23T07:17:06.148Z"
   },
   {
    "duration": 86,
    "start_time": "2022-06-23T07:17:06.610Z"
   },
   {
    "duration": 4,
    "start_time": "2022-06-23T07:17:07.130Z"
   },
   {
    "duration": 13,
    "start_time": "2022-06-23T07:17:07.195Z"
   },
   {
    "duration": 10,
    "start_time": "2022-06-23T07:17:07.352Z"
   },
   {
    "duration": 3,
    "start_time": "2022-06-23T07:17:09.362Z"
   },
   {
    "duration": 6,
    "start_time": "2022-06-23T07:17:09.892Z"
   },
   {
    "duration": 17,
    "start_time": "2022-06-23T07:17:10.982Z"
   },
   {
    "duration": 24,
    "start_time": "2022-06-23T07:18:38.321Z"
   },
   {
    "duration": 41,
    "start_time": "2022-06-23T07:18:52.706Z"
   },
   {
    "duration": 13695,
    "start_time": "2022-06-23T07:20:02.068Z"
   },
   {
    "duration": 18751,
    "start_time": "2022-06-23T07:20:44.340Z"
   },
   {
    "duration": 70,
    "start_time": "2022-06-23T07:21:44.883Z"
   },
   {
    "duration": 1113,
    "start_time": "2022-06-23T07:21:51.652Z"
   },
   {
    "duration": 109,
    "start_time": "2022-06-23T07:21:52.767Z"
   },
   {
    "duration": 27,
    "start_time": "2022-06-23T07:21:52.878Z"
   },
   {
    "duration": 12,
    "start_time": "2022-06-23T07:21:52.906Z"
   },
   {
    "duration": 14,
    "start_time": "2022-06-23T07:21:52.919Z"
   },
   {
    "duration": 31,
    "start_time": "2022-06-23T07:21:52.935Z"
   },
   {
    "duration": 18,
    "start_time": "2022-06-23T07:21:52.968Z"
   },
   {
    "duration": 17,
    "start_time": "2022-06-23T07:21:52.988Z"
   },
   {
    "duration": 11,
    "start_time": "2022-06-23T07:21:53.007Z"
   },
   {
    "duration": 44,
    "start_time": "2022-06-23T07:21:53.021Z"
   },
   {
    "duration": 30,
    "start_time": "2022-06-23T07:21:53.067Z"
   },
   {
    "duration": 35,
    "start_time": "2022-06-23T07:21:53.099Z"
   },
   {
    "duration": 26,
    "start_time": "2022-06-23T07:21:53.135Z"
   },
   {
    "duration": 345,
    "start_time": "2022-06-23T07:21:53.163Z"
   },
   {
    "duration": 6,
    "start_time": "2022-06-23T07:21:53.510Z"
   },
   {
    "duration": 21,
    "start_time": "2022-06-23T07:21:53.518Z"
   },
   {
    "duration": 23,
    "start_time": "2022-06-23T07:21:53.541Z"
   },
   {
    "duration": 6,
    "start_time": "2022-06-23T07:21:53.566Z"
   },
   {
    "duration": 37,
    "start_time": "2022-06-23T07:21:53.574Z"
   },
   {
    "duration": 7,
    "start_time": "2022-06-23T07:21:53.612Z"
   },
   {
    "duration": 156,
    "start_time": "2022-06-23T07:21:53.621Z"
   },
   {
    "duration": 5,
    "start_time": "2022-06-23T07:21:53.778Z"
   },
   {
    "duration": 13,
    "start_time": "2022-06-23T07:21:53.785Z"
   },
   {
    "duration": 6,
    "start_time": "2022-06-23T07:21:53.800Z"
   },
   {
    "duration": 4,
    "start_time": "2022-06-23T07:21:53.831Z"
   },
   {
    "duration": 14,
    "start_time": "2022-06-23T07:21:53.890Z"
   },
   {
    "duration": 56,
    "start_time": "2022-06-23T07:21:53.921Z"
   },
   {
    "duration": 5,
    "start_time": "2022-06-23T07:21:54.036Z"
   },
   {
    "duration": 113,
    "start_time": "2022-06-23T07:21:54.156Z"
   },
   {
    "duration": 5,
    "start_time": "2022-06-23T07:21:54.271Z"
   },
   {
    "duration": 11,
    "start_time": "2022-06-23T07:21:54.912Z"
   },
   {
    "duration": 8,
    "start_time": "2022-06-23T07:21:55.504Z"
   },
   {
    "duration": 4,
    "start_time": "2022-06-23T07:21:55.599Z"
   },
   {
    "duration": 9,
    "start_time": "2022-06-23T07:21:55.680Z"
   },
   {
    "duration": 13,
    "start_time": "2022-06-23T07:21:55.711Z"
   },
   {
    "duration": 6,
    "start_time": "2022-06-23T07:21:55.805Z"
   },
   {
    "duration": 99,
    "start_time": "2022-06-23T07:21:55.901Z"
   },
   {
    "duration": 5,
    "start_time": "2022-06-23T07:21:56.002Z"
   },
   {
    "duration": 11,
    "start_time": "2022-06-23T07:21:56.045Z"
   },
   {
    "duration": 7,
    "start_time": "2022-06-23T07:21:56.166Z"
   },
   {
    "duration": 4,
    "start_time": "2022-06-23T07:21:56.262Z"
   },
   {
    "duration": 7,
    "start_time": "2022-06-23T07:21:56.325Z"
   },
   {
    "duration": 52,
    "start_time": "2022-06-23T07:21:57.265Z"
   },
   {
    "duration": 6,
    "start_time": "2022-06-23T07:21:59.078Z"
   },
   {
    "duration": 108,
    "start_time": "2022-06-23T07:22:31.359Z"
   },
   {
    "duration": 4,
    "start_time": "2022-06-23T07:22:31.983Z"
   },
   {
    "duration": 10,
    "start_time": "2022-06-23T07:22:32.367Z"
   },
   {
    "duration": 7,
    "start_time": "2022-06-23T07:22:33.152Z"
   },
   {
    "duration": 42,
    "start_time": "2022-06-23T07:22:57.871Z"
   },
   {
    "duration": 66,
    "start_time": "2022-06-23T07:23:07.583Z"
   },
   {
    "duration": 6,
    "start_time": "2022-06-23T07:23:09.086Z"
   },
   {
    "duration": 70,
    "start_time": "2022-06-23T07:23:12.943Z"
   },
   {
    "duration": 6,
    "start_time": "2022-06-23T07:23:13.566Z"
   },
   {
    "duration": 161,
    "start_time": "2022-06-23T07:23:13.886Z"
   },
   {
    "duration": 5,
    "start_time": "2022-06-23T07:23:14.654Z"
   },
   {
    "duration": 10,
    "start_time": "2022-06-23T07:23:15.775Z"
   },
   {
    "duration": 8,
    "start_time": "2022-06-23T07:23:16.639Z"
   },
   {
    "duration": 4,
    "start_time": "2022-06-23T07:23:55.759Z"
   },
   {
    "duration": 68,
    "start_time": "2022-06-23T07:23:56.249Z"
   },
   {
    "duration": 20,
    "start_time": "2022-06-23T07:23:56.319Z"
   },
   {
    "duration": 12,
    "start_time": "2022-06-23T07:23:56.384Z"
   },
   {
    "duration": 12,
    "start_time": "2022-06-23T07:23:56.412Z"
   },
   {
    "duration": 20,
    "start_time": "2022-06-23T07:23:56.525Z"
   },
   {
    "duration": 14,
    "start_time": "2022-06-23T07:23:56.556Z"
   },
   {
    "duration": 14,
    "start_time": "2022-06-23T07:23:56.713Z"
   },
   {
    "duration": 7,
    "start_time": "2022-06-23T07:23:56.945Z"
   },
   {
    "duration": 16,
    "start_time": "2022-06-23T07:23:57.039Z"
   },
   {
    "duration": 25,
    "start_time": "2022-06-23T07:23:57.070Z"
   },
   {
    "duration": 40,
    "start_time": "2022-06-23T07:23:57.180Z"
   },
   {
    "duration": 9,
    "start_time": "2022-06-23T07:23:57.283Z"
   },
   {
    "duration": 121,
    "start_time": "2022-06-23T07:23:57.339Z"
   },
   {
    "duration": 5,
    "start_time": "2022-06-23T07:23:57.462Z"
   },
   {
    "duration": 10,
    "start_time": "2022-06-23T07:23:57.554Z"
   },
   {
    "duration": 7,
    "start_time": "2022-06-23T07:23:57.643Z"
   },
   {
    "duration": 4,
    "start_time": "2022-06-23T07:23:57.705Z"
   },
   {
    "duration": 34,
    "start_time": "2022-06-23T07:23:57.836Z"
   },
   {
    "duration": 5,
    "start_time": "2022-06-23T07:23:57.927Z"
   },
   {
    "duration": 105,
    "start_time": "2022-06-23T07:23:58.043Z"
   },
   {
    "duration": 4,
    "start_time": "2022-06-23T07:23:58.159Z"
   },
   {
    "duration": 11,
    "start_time": "2022-06-23T07:23:58.231Z"
   },
   {
    "duration": 8,
    "start_time": "2022-06-23T07:23:58.329Z"
   },
   {
    "duration": 5,
    "start_time": "2022-06-23T07:23:58.402Z"
   },
   {
    "duration": 14,
    "start_time": "2022-06-23T07:23:58.467Z"
   },
   {
    "duration": 57,
    "start_time": "2022-06-23T07:23:58.508Z"
   },
   {
    "duration": 6,
    "start_time": "2022-06-23T07:23:58.592Z"
   },
   {
    "duration": 102,
    "start_time": "2022-06-23T07:23:58.736Z"
   },
   {
    "duration": 4,
    "start_time": "2022-06-23T07:23:58.839Z"
   },
   {
    "duration": 10,
    "start_time": "2022-06-23T07:23:58.956Z"
   },
   {
    "duration": 7,
    "start_time": "2022-06-23T07:23:59.083Z"
   },
   {
    "duration": 5,
    "start_time": "2022-06-23T07:23:59.192Z"
   },
   {
    "duration": 10,
    "start_time": "2022-06-23T07:23:59.259Z"
   },
   {
    "duration": 13,
    "start_time": "2022-06-23T07:23:59.288Z"
   },
   {
    "duration": 6,
    "start_time": "2022-06-23T07:23:59.382Z"
   },
   {
    "duration": 93,
    "start_time": "2022-06-23T07:23:59.478Z"
   },
   {
    "duration": 5,
    "start_time": "2022-06-23T07:23:59.573Z"
   },
   {
    "duration": 12,
    "start_time": "2022-06-23T07:23:59.620Z"
   },
   {
    "duration": 7,
    "start_time": "2022-06-23T07:24:01.229Z"
   },
   {
    "duration": 4,
    "start_time": "2022-06-23T07:24:01.797Z"
   },
   {
    "duration": 6,
    "start_time": "2022-06-23T07:24:01.861Z"
   },
   {
    "duration": 67,
    "start_time": "2022-06-23T07:24:14.095Z"
   },
   {
    "duration": 7,
    "start_time": "2022-06-23T07:24:16.236Z"
   },
   {
    "duration": 100,
    "start_time": "2022-06-23T07:24:17.165Z"
   },
   {
    "duration": 6,
    "start_time": "2022-06-23T07:24:17.566Z"
   },
   {
    "duration": 11,
    "start_time": "2022-06-23T07:24:18.028Z"
   },
   {
    "duration": 6,
    "start_time": "2022-06-23T07:24:19.677Z"
   },
   {
    "duration": 4,
    "start_time": "2022-06-23T07:25:58.541Z"
   },
   {
    "duration": 7,
    "start_time": "2022-06-23T07:26:23.644Z"
   },
   {
    "duration": 5,
    "start_time": "2022-06-23T07:26:30.139Z"
   },
   {
    "duration": 68,
    "start_time": "2022-06-23T07:26:56.107Z"
   },
   {
    "duration": 4,
    "start_time": "2022-06-23T07:27:12.561Z"
   },
   {
    "duration": 67,
    "start_time": "2022-06-23T07:27:12.593Z"
   },
   {
    "duration": 20,
    "start_time": "2022-06-23T07:27:12.662Z"
   },
   {
    "duration": 16,
    "start_time": "2022-06-23T07:27:12.725Z"
   },
   {
    "duration": 17,
    "start_time": "2022-06-23T07:27:12.757Z"
   },
   {
    "duration": 21,
    "start_time": "2022-06-23T07:27:12.862Z"
   },
   {
    "duration": 17,
    "start_time": "2022-06-23T07:27:12.893Z"
   },
   {
    "duration": 15,
    "start_time": "2022-06-23T07:27:13.061Z"
   },
   {
    "duration": 8,
    "start_time": "2022-06-23T07:27:13.290Z"
   },
   {
    "duration": 18,
    "start_time": "2022-06-23T07:27:13.389Z"
   },
   {
    "duration": 25,
    "start_time": "2022-06-23T07:27:13.418Z"
   },
   {
    "duration": 34,
    "start_time": "2022-06-23T07:27:13.514Z"
   },
   {
    "duration": 6,
    "start_time": "2022-06-23T07:27:13.622Z"
   },
   {
    "duration": 104,
    "start_time": "2022-06-23T07:27:13.684Z"
   },
   {
    "duration": 5,
    "start_time": "2022-06-23T07:27:13.791Z"
   },
   {
    "duration": 11,
    "start_time": "2022-06-23T07:27:13.877Z"
   },
   {
    "duration": 8,
    "start_time": "2022-06-23T07:27:13.987Z"
   },
   {
    "duration": 4,
    "start_time": "2022-06-23T07:27:14.053Z"
   },
   {
    "duration": 37,
    "start_time": "2022-06-23T07:27:14.174Z"
   },
   {
    "duration": 6,
    "start_time": "2022-06-23T07:27:14.284Z"
   },
   {
    "duration": 107,
    "start_time": "2022-06-23T07:27:14.378Z"
   },
   {
    "duration": 4,
    "start_time": "2022-06-23T07:27:14.487Z"
   },
   {
    "duration": 11,
    "start_time": "2022-06-23T07:27:14.567Z"
   },
   {
    "duration": 8,
    "start_time": "2022-06-23T07:27:14.678Z"
   },
   {
    "duration": 4,
    "start_time": "2022-06-23T07:27:14.742Z"
   },
   {
    "duration": 15,
    "start_time": "2022-06-23T07:27:14.804Z"
   },
   {
    "duration": 60,
    "start_time": "2022-06-23T07:27:14.834Z"
   },
   {
    "duration": 6,
    "start_time": "2022-06-23T07:27:14.944Z"
   },
   {
    "duration": 106,
    "start_time": "2022-06-23T07:27:15.075Z"
   },
   {
    "duration": 5,
    "start_time": "2022-06-23T07:27:15.183Z"
   },
   {
    "duration": 11,
    "start_time": "2022-06-23T07:27:15.299Z"
   },
   {
    "duration": 8,
    "start_time": "2022-06-23T07:27:15.431Z"
   },
   {
    "duration": 4,
    "start_time": "2022-06-23T07:27:15.536Z"
   },
   {
    "duration": 11,
    "start_time": "2022-06-23T07:27:15.600Z"
   },
   {
    "duration": 20,
    "start_time": "2022-06-23T07:27:15.632Z"
   },
   {
    "duration": 7,
    "start_time": "2022-06-23T07:27:15.728Z"
   },
   {
    "duration": 92,
    "start_time": "2022-06-23T07:27:15.837Z"
   },
   {
    "duration": 4,
    "start_time": "2022-06-23T07:27:15.931Z"
   },
   {
    "duration": 13,
    "start_time": "2022-06-23T07:27:15.962Z"
   },
   {
    "duration": 8,
    "start_time": "2022-06-23T07:27:16.092Z"
   },
   {
    "duration": 5,
    "start_time": "2022-06-23T07:27:16.924Z"
   },
   {
    "duration": 6,
    "start_time": "2022-06-23T07:27:16.981Z"
   },
   {
    "duration": 67,
    "start_time": "2022-06-23T07:27:17.579Z"
   },
   {
    "duration": 6,
    "start_time": "2022-06-23T07:27:18.827Z"
   },
   {
    "duration": 103,
    "start_time": "2022-06-23T07:27:19.387Z"
   },
   {
    "duration": 4,
    "start_time": "2022-06-23T07:27:20.108Z"
   },
   {
    "duration": 10,
    "start_time": "2022-06-23T07:27:20.715Z"
   },
   {
    "duration": 7,
    "start_time": "2022-06-23T07:27:21.355Z"
   },
   {
    "duration": 11,
    "start_time": "2022-06-23T07:27:21.364Z"
   },
   {
    "duration": 5,
    "start_time": "2022-06-23T07:29:04.010Z"
   },
   {
    "duration": 6,
    "start_time": "2022-06-23T07:29:12.759Z"
   },
   {
    "duration": 5,
    "start_time": "2022-06-23T07:29:31.386Z"
   },
   {
    "duration": 6,
    "start_time": "2022-06-23T07:29:39.324Z"
   },
   {
    "duration": 50,
    "start_time": "2022-06-23T07:30:29.527Z"
   },
   {
    "duration": 9,
    "start_time": "2022-06-23T07:32:02.007Z"
   },
   {
    "duration": 8,
    "start_time": "2022-06-23T07:32:39.479Z"
   },
   {
    "duration": 67,
    "start_time": "2022-06-23T07:33:22.695Z"
   },
   {
    "duration": 6,
    "start_time": "2022-06-23T07:33:23.973Z"
   },
   {
    "duration": 133,
    "start_time": "2022-06-23T07:33:27.206Z"
   },
   {
    "duration": 4,
    "start_time": "2022-06-23T07:33:28.229Z"
   },
   {
    "duration": 12,
    "start_time": "2022-06-23T07:33:28.779Z"
   },
   {
    "duration": 7,
    "start_time": "2022-06-23T07:33:29.413Z"
   },
   {
    "duration": 5,
    "start_time": "2022-06-23T07:33:30.374Z"
   },
   {
    "duration": 8,
    "start_time": "2022-06-23T07:34:10.390Z"
   },
   {
    "duration": 7,
    "start_time": "2022-06-23T07:34:56.967Z"
   },
   {
    "duration": 7,
    "start_time": "2022-06-23T07:35:38.581Z"
   },
   {
    "duration": 7,
    "start_time": "2022-06-23T07:40:41.601Z"
   },
   {
    "duration": 105,
    "start_time": "2022-06-23T07:40:44.466Z"
   },
   {
    "duration": 6,
    "start_time": "2022-06-23T07:40:44.961Z"
   },
   {
    "duration": 11,
    "start_time": "2022-06-23T07:40:45.778Z"
   },
   {
    "duration": 8,
    "start_time": "2022-06-23T07:40:46.338Z"
   },
   {
    "duration": 7,
    "start_time": "2022-06-23T07:40:49.410Z"
   },
   {
    "duration": 27,
    "start_time": "2022-06-23T08:02:43.984Z"
   },
   {
    "duration": 1200,
    "start_time": "2022-06-23T08:02:55.447Z"
   },
   {
    "duration": 95,
    "start_time": "2022-06-23T08:02:56.649Z"
   },
   {
    "duration": 34,
    "start_time": "2022-06-23T08:02:56.746Z"
   },
   {
    "duration": 14,
    "start_time": "2022-06-23T08:02:56.782Z"
   },
   {
    "duration": 13,
    "start_time": "2022-06-23T08:02:56.797Z"
   },
   {
    "duration": 29,
    "start_time": "2022-06-23T08:02:56.812Z"
   },
   {
    "duration": 15,
    "start_time": "2022-06-23T08:02:56.842Z"
   },
   {
    "duration": 14,
    "start_time": "2022-06-23T08:02:56.859Z"
   },
   {
    "duration": 15,
    "start_time": "2022-06-23T08:02:56.874Z"
   },
   {
    "duration": 1117,
    "start_time": "2022-06-23T08:03:51.986Z"
   },
   {
    "duration": 89,
    "start_time": "2022-06-23T08:03:53.104Z"
   },
   {
    "duration": 26,
    "start_time": "2022-06-23T08:03:53.195Z"
   },
   {
    "duration": 11,
    "start_time": "2022-06-23T08:03:53.222Z"
   },
   {
    "duration": 11,
    "start_time": "2022-06-23T08:03:53.235Z"
   },
   {
    "duration": 19,
    "start_time": "2022-06-23T08:03:53.247Z"
   },
   {
    "duration": 16,
    "start_time": "2022-06-23T08:03:53.268Z"
   },
   {
    "duration": 14,
    "start_time": "2022-06-23T08:03:53.286Z"
   },
   {
    "duration": 26,
    "start_time": "2022-06-23T08:03:53.302Z"
   },
   {
    "duration": 16,
    "start_time": "2022-06-23T08:03:53.330Z"
   },
   {
    "duration": 24,
    "start_time": "2022-06-23T08:03:53.348Z"
   },
   {
    "duration": 52,
    "start_time": "2022-06-23T08:03:53.373Z"
   },
   {
    "duration": 5,
    "start_time": "2022-06-23T08:03:53.427Z"
   },
   {
    "duration": 362,
    "start_time": "2022-06-23T08:03:53.435Z"
   },
   {
    "duration": 5,
    "start_time": "2022-06-23T08:03:53.799Z"
   },
   {
    "duration": 23,
    "start_time": "2022-06-23T08:03:53.805Z"
   },
   {
    "duration": 6,
    "start_time": "2022-06-23T08:03:53.830Z"
   },
   {
    "duration": 4,
    "start_time": "2022-06-23T08:03:53.838Z"
   },
   {
    "duration": 41,
    "start_time": "2022-06-23T08:03:53.843Z"
   },
   {
    "duration": 6,
    "start_time": "2022-06-23T08:03:53.886Z"
   },
   {
    "duration": 142,
    "start_time": "2022-06-23T08:03:53.893Z"
   },
   {
    "duration": 5,
    "start_time": "2022-06-23T08:03:54.037Z"
   },
   {
    "duration": 11,
    "start_time": "2022-06-23T08:03:54.044Z"
   },
   {
    "duration": 6,
    "start_time": "2022-06-23T08:03:54.057Z"
   },
   {
    "duration": 7,
    "start_time": "2022-06-23T08:03:54.065Z"
   },
   {
    "duration": 14,
    "start_time": "2022-06-23T08:03:54.073Z"
   },
   {
    "duration": 80,
    "start_time": "2022-06-23T08:03:54.088Z"
   },
   {
    "duration": 5,
    "start_time": "2022-06-23T08:03:54.170Z"
   },
   {
    "duration": 118,
    "start_time": "2022-06-23T08:03:54.177Z"
   },
   {
    "duration": 4,
    "start_time": "2022-06-23T08:03:54.296Z"
   },
   {
    "duration": 40,
    "start_time": "2022-06-23T08:03:54.302Z"
   },
   {
    "duration": 20,
    "start_time": "2022-06-23T08:03:54.343Z"
   },
   {
    "duration": 33,
    "start_time": "2022-06-23T08:03:54.365Z"
   },
   {
    "duration": 43,
    "start_time": "2022-06-23T08:03:54.399Z"
   },
   {
    "duration": 27,
    "start_time": "2022-06-23T08:03:54.443Z"
   },
   {
    "duration": 26,
    "start_time": "2022-06-23T08:03:54.471Z"
   },
   {
    "duration": 126,
    "start_time": "2022-06-23T08:03:54.499Z"
   },
   {
    "duration": 5,
    "start_time": "2022-06-23T08:03:54.626Z"
   },
   {
    "duration": 13,
    "start_time": "2022-06-23T08:03:54.632Z"
   },
   {
    "duration": 6,
    "start_time": "2022-06-23T08:03:54.646Z"
   },
   {
    "duration": 4,
    "start_time": "2022-06-23T08:03:54.656Z"
   },
   {
    "duration": 7,
    "start_time": "2022-06-23T08:03:54.661Z"
   },
   {
    "duration": 94,
    "start_time": "2022-06-23T08:03:54.669Z"
   },
   {
    "duration": 7,
    "start_time": "2022-06-23T08:03:54.765Z"
   },
   {
    "duration": 122,
    "start_time": "2022-06-23T08:03:54.774Z"
   },
   {
    "duration": 5,
    "start_time": "2022-06-23T08:03:54.897Z"
   },
   {
    "duration": 25,
    "start_time": "2022-06-23T08:03:54.903Z"
   },
   {
    "duration": 6,
    "start_time": "2022-06-23T08:03:54.930Z"
   },
   {
    "duration": 7,
    "start_time": "2022-06-23T08:03:54.938Z"
   },
   {
    "duration": 3,
    "start_time": "2022-06-23T08:05:39.177Z"
   },
   {
    "duration": 6208,
    "start_time": "2022-06-23T08:06:14.100Z"
   },
   {
    "duration": 5,
    "start_time": "2022-06-23T08:06:45.336Z"
   },
   {
    "duration": 5,
    "start_time": "2022-06-23T08:07:13.103Z"
   },
   {
    "duration": 8,
    "start_time": "2022-06-23T08:07:55.053Z"
   },
   {
    "duration": 6481,
    "start_time": "2022-06-23T08:08:44.628Z"
   },
   {
    "duration": 7,
    "start_time": "2022-06-23T08:08:55.274Z"
   },
   {
    "duration": 4,
    "start_time": "2022-06-23T08:08:56.195Z"
   },
   {
    "duration": 7,
    "start_time": "2022-06-23T08:08:56.480Z"
   },
   {
    "duration": 17,
    "start_time": "2022-06-23T08:09:37.239Z"
   },
   {
    "duration": 6535,
    "start_time": "2022-06-23T08:10:13.095Z"
   },
   {
    "duration": 7,
    "start_time": "2022-06-23T08:10:19.632Z"
   },
   {
    "duration": 15,
    "start_time": "2022-06-23T08:10:19.641Z"
   },
   {
    "duration": 31,
    "start_time": "2022-06-23T08:10:19.658Z"
   },
   {
    "duration": 12024,
    "start_time": "2022-06-23T08:10:41.362Z"
   },
   {
    "duration": 9,
    "start_time": "2022-06-23T08:10:53.387Z"
   },
   {
    "duration": 7,
    "start_time": "2022-06-23T08:10:53.397Z"
   },
   {
    "duration": 8,
    "start_time": "2022-06-23T08:10:53.405Z"
   },
   {
    "duration": 12238,
    "start_time": "2022-06-23T08:11:10.869Z"
   },
   {
    "duration": 8,
    "start_time": "2022-06-23T08:11:24.616Z"
   },
   {
    "duration": 7,
    "start_time": "2022-06-23T08:11:24.781Z"
   },
   {
    "duration": 7,
    "start_time": "2022-06-23T08:11:24.982Z"
   },
   {
    "duration": 132,
    "start_time": "2022-06-23T08:12:03.143Z"
   },
   {
    "duration": 3,
    "start_time": "2022-06-23T08:12:05.646Z"
   },
   {
    "duration": 1271,
    "start_time": "2022-06-23T08:12:16.707Z"
   },
   {
    "duration": 40,
    "start_time": "2022-06-23T08:12:21.906Z"
   },
   {
    "duration": 37,
    "start_time": "2022-06-23T08:12:23.621Z"
   },
   {
    "duration": 5,
    "start_time": "2022-06-23T08:12:24.166Z"
   },
   {
    "duration": 3,
    "start_time": "2022-06-23T08:12:31.569Z"
   },
   {
    "duration": 1279,
    "start_time": "2022-06-23T08:12:31.949Z"
   },
   {
    "duration": 40,
    "start_time": "2022-06-23T08:12:33.230Z"
   },
   {
    "duration": 38,
    "start_time": "2022-06-23T08:12:33.271Z"
   },
   {
    "duration": 6,
    "start_time": "2022-06-23T08:12:33.506Z"
   },
   {
    "duration": 2,
    "start_time": "2022-06-23T08:12:35.946Z"
   },
   {
    "duration": 1326,
    "start_time": "2022-06-23T08:12:36.037Z"
   },
   {
    "duration": 45,
    "start_time": "2022-06-23T08:12:37.364Z"
   },
   {
    "duration": 55,
    "start_time": "2022-06-23T08:12:37.410Z"
   },
   {
    "duration": 7,
    "start_time": "2022-06-23T08:12:37.467Z"
   },
   {
    "duration": 42,
    "start_time": "2022-06-23T08:12:55.948Z"
   },
   {
    "duration": 41,
    "start_time": "2022-06-23T08:12:57.744Z"
   },
   {
    "duration": 41,
    "start_time": "2022-06-23T08:12:58.555Z"
   },
   {
    "duration": 43,
    "start_time": "2022-06-23T08:12:58.930Z"
   },
   {
    "duration": 40,
    "start_time": "2022-06-23T08:12:59.152Z"
   },
   {
    "duration": 41,
    "start_time": "2022-06-23T08:12:59.322Z"
   },
   {
    "duration": 38,
    "start_time": "2022-06-23T08:12:59.490Z"
   },
   {
    "duration": 13125,
    "start_time": "2022-06-23T08:13:12.411Z"
   },
   {
    "duration": 332,
    "start_time": "2022-06-23T08:13:25.538Z"
   },
   {
    "duration": 326,
    "start_time": "2022-06-23T08:13:25.872Z"
   },
   {
    "duration": 10,
    "start_time": "2022-06-23T08:15:03.756Z"
   },
   {
    "duration": 3,
    "start_time": "2022-06-23T08:15:04.898Z"
   },
   {
    "duration": 8789,
    "start_time": "2022-06-23T08:15:05.289Z"
   },
   {
    "duration": 334,
    "start_time": "2022-06-23T08:15:14.081Z"
   },
   {
    "duration": 320,
    "start_time": "2022-06-23T08:15:14.417Z"
   },
   {
    "duration": 2,
    "start_time": "2022-06-23T08:15:48.018Z"
   },
   {
    "duration": 51,
    "start_time": "2022-06-23T08:16:04.992Z"
   },
   {
    "duration": 46,
    "start_time": "2022-06-23T08:16:16.786Z"
   },
   {
    "duration": 7101,
    "start_time": "2022-06-23T08:16:21.868Z"
   },
   {
    "duration": 12,
    "start_time": "2022-06-23T08:16:34.756Z"
   },
   {
    "duration": 4022,
    "start_time": "2022-06-23T08:16:47.268Z"
   },
   {
    "duration": 8,
    "start_time": "2022-06-23T08:16:51.292Z"
   },
   {
    "duration": 45,
    "start_time": "2022-06-25T12:06:46.538Z"
   },
   {
    "duration": 1011,
    "start_time": "2022-06-25T12:06:53.258Z"
   },
   {
    "duration": 102,
    "start_time": "2022-06-25T12:06:54.271Z"
   },
   {
    "duration": 28,
    "start_time": "2022-06-25T12:06:54.375Z"
   },
   {
    "duration": 11,
    "start_time": "2022-06-25T12:06:54.405Z"
   },
   {
    "duration": 12,
    "start_time": "2022-06-25T12:06:54.417Z"
   },
   {
    "duration": 37,
    "start_time": "2022-06-25T12:06:54.430Z"
   },
   {
    "duration": 16,
    "start_time": "2022-06-25T12:06:54.469Z"
   },
   {
    "duration": 15,
    "start_time": "2022-06-25T12:06:54.487Z"
   },
   {
    "duration": 7,
    "start_time": "2022-06-25T12:06:54.503Z"
   },
   {
    "duration": 18,
    "start_time": "2022-06-25T12:06:54.589Z"
   },
   {
    "duration": 30,
    "start_time": "2022-06-25T12:06:54.628Z"
   },
   {
    "duration": 32,
    "start_time": "2022-06-25T12:06:54.721Z"
   },
   {
    "duration": 6,
    "start_time": "2022-06-25T12:06:54.817Z"
   },
   {
    "duration": 494,
    "start_time": "2022-06-25T12:06:54.894Z"
   },
   {
    "duration": 5,
    "start_time": "2022-06-25T12:06:55.390Z"
   },
   {
    "duration": 10,
    "start_time": "2022-06-25T12:06:55.397Z"
   },
   {
    "duration": 8,
    "start_time": "2022-06-25T12:06:55.409Z"
   },
   {
    "duration": 4,
    "start_time": "2022-06-25T12:06:55.419Z"
   },
   {
    "duration": 58,
    "start_time": "2022-06-25T12:06:55.424Z"
   },
   {
    "duration": 6,
    "start_time": "2022-06-25T12:06:55.485Z"
   },
   {
    "duration": 106,
    "start_time": "2022-06-25T12:06:55.575Z"
   },
   {
    "duration": 5,
    "start_time": "2022-06-25T12:06:55.683Z"
   },
   {
    "duration": 11,
    "start_time": "2022-06-25T12:06:55.771Z"
   },
   {
    "duration": 7,
    "start_time": "2022-06-25T12:06:55.882Z"
   },
   {
    "duration": 5,
    "start_time": "2022-06-25T12:06:56.706Z"
   },
   {
    "duration": 15,
    "start_time": "2022-06-25T12:06:56.801Z"
   },
   {
    "duration": 53,
    "start_time": "2022-06-25T12:06:56.830Z"
   },
   {
    "duration": 6,
    "start_time": "2022-06-25T12:06:56.940Z"
   },
   {
    "duration": 117,
    "start_time": "2022-06-25T12:06:57.068Z"
   },
   {
    "duration": 5,
    "start_time": "2022-06-25T12:06:57.187Z"
   },
   {
    "duration": 11,
    "start_time": "2022-06-25T12:06:58.199Z"
   },
   {
    "duration": 7,
    "start_time": "2022-06-25T12:06:58.796Z"
   },
   {
    "duration": 4,
    "start_time": "2022-06-25T12:07:01.222Z"
   },
   {
    "duration": 10,
    "start_time": "2022-06-25T12:07:01.287Z"
   },
   {
    "duration": 30,
    "start_time": "2022-06-25T12:07:01.316Z"
   },
   {
    "duration": 6,
    "start_time": "2022-06-25T12:07:01.686Z"
   },
   {
    "duration": 115,
    "start_time": "2022-06-25T12:07:02.262Z"
   },
   {
    "duration": 4,
    "start_time": "2022-06-25T12:07:03.798Z"
   },
   {
    "duration": 11,
    "start_time": "2022-06-25T12:07:04.537Z"
   },
   {
    "duration": 7,
    "start_time": "2022-06-25T12:07:05.140Z"
   },
   {
    "duration": 4,
    "start_time": "2022-06-25T12:07:05.237Z"
   },
   {
    "duration": 7,
    "start_time": "2022-06-25T12:07:06.167Z"
   },
   {
    "duration": 69,
    "start_time": "2022-06-25T12:07:21.562Z"
   },
   {
    "duration": 6,
    "start_time": "2022-06-25T12:07:21.721Z"
   },
   {
    "duration": 117,
    "start_time": "2022-06-25T12:07:22.664Z"
   },
   {
    "duration": 5,
    "start_time": "2022-06-25T12:07:23.198Z"
   },
   {
    "duration": 10,
    "start_time": "2022-06-25T12:07:23.262Z"
   },
   {
    "duration": 7,
    "start_time": "2022-06-25T12:07:23.343Z"
   },
   {
    "duration": 6,
    "start_time": "2022-06-25T12:07:23.436Z"
   },
   {
    "duration": 13,
    "start_time": "2022-06-25T12:12:19.675Z"
   },
   {
    "duration": 17,
    "start_time": "2022-06-25T12:12:38.501Z"
   },
   {
    "duration": 14,
    "start_time": "2022-06-25T12:12:50.100Z"
   },
   {
    "duration": 86,
    "start_time": "2022-06-25T12:14:48.660Z"
   },
   {
    "duration": 61,
    "start_time": "2022-06-25T12:14:56.264Z"
   },
   {
    "duration": 19791,
    "start_time": "2022-06-25T12:15:05.236Z"
   },
   {
    "duration": 4,
    "start_time": "2022-06-25T12:15:34.754Z"
   },
   {
    "duration": 60,
    "start_time": "2022-06-25T12:15:35.263Z"
   },
   {
    "duration": 21,
    "start_time": "2022-06-25T12:15:35.325Z"
   },
   {
    "duration": 12,
    "start_time": "2022-06-25T12:15:35.413Z"
   },
   {
    "duration": 13,
    "start_time": "2022-06-25T12:15:35.430Z"
   },
   {
    "duration": 23,
    "start_time": "2022-06-25T12:15:35.526Z"
   },
   {
    "duration": 17,
    "start_time": "2022-06-25T12:15:35.561Z"
   },
   {
    "duration": 16,
    "start_time": "2022-06-25T12:15:35.731Z"
   },
   {
    "duration": 8,
    "start_time": "2022-06-25T12:15:35.982Z"
   },
   {
    "duration": 21,
    "start_time": "2022-06-25T12:15:36.090Z"
   },
   {
    "duration": 32,
    "start_time": "2022-06-25T12:15:36.122Z"
   },
   {
    "duration": 36,
    "start_time": "2022-06-25T12:15:36.217Z"
   },
   {
    "duration": 8,
    "start_time": "2022-06-25T12:15:36.314Z"
   },
   {
    "duration": 123,
    "start_time": "2022-06-25T12:15:36.378Z"
   },
   {
    "duration": 6,
    "start_time": "2022-06-25T12:15:36.503Z"
   },
   {
    "duration": 11,
    "start_time": "2022-06-25T12:15:36.586Z"
   },
   {
    "duration": 7,
    "start_time": "2022-06-25T12:15:36.683Z"
   },
   {
    "duration": 5,
    "start_time": "2022-06-25T12:15:36.745Z"
   },
   {
    "duration": 39,
    "start_time": "2022-06-25T12:15:36.883Z"
   },
   {
    "duration": 7,
    "start_time": "2022-06-25T12:15:36.978Z"
   },
   {
    "duration": 129,
    "start_time": "2022-06-25T12:15:37.072Z"
   },
   {
    "duration": 4,
    "start_time": "2022-06-25T12:15:37.203Z"
   },
   {
    "duration": 13,
    "start_time": "2022-06-25T12:15:37.280Z"
   },
   {
    "duration": 10,
    "start_time": "2022-06-25T12:15:38.164Z"
   },
   {
    "duration": 4,
    "start_time": "2022-06-25T12:15:38.258Z"
   },
   {
    "duration": 14,
    "start_time": "2022-06-25T12:15:38.354Z"
   },
   {
    "duration": 59,
    "start_time": "2022-06-25T12:15:38.384Z"
   },
   {
    "duration": 8,
    "start_time": "2022-06-25T12:15:38.480Z"
   },
   {
    "duration": 117,
    "start_time": "2022-06-25T12:15:38.624Z"
   },
   {
    "duration": 5,
    "start_time": "2022-06-25T12:15:38.743Z"
   },
   {
    "duration": 13,
    "start_time": "2022-06-25T12:15:38.848Z"
   },
   {
    "duration": 8,
    "start_time": "2022-06-25T12:15:39.808Z"
   },
   {
    "duration": 5,
    "start_time": "2022-06-25T12:15:39.898Z"
   },
   {
    "duration": 11,
    "start_time": "2022-06-25T12:15:39.976Z"
   },
   {
    "duration": 14,
    "start_time": "2022-06-25T12:15:40.010Z"
   },
   {
    "duration": 7,
    "start_time": "2022-06-25T12:15:40.108Z"
   },
   {
    "duration": 100,
    "start_time": "2022-06-25T12:15:41.138Z"
   },
   {
    "duration": 5,
    "start_time": "2022-06-25T12:15:41.241Z"
   },
   {
    "duration": 13,
    "start_time": "2022-06-25T12:15:41.266Z"
   },
   {
    "duration": 8,
    "start_time": "2022-06-25T12:15:41.778Z"
   },
   {
    "duration": 5,
    "start_time": "2022-06-25T12:15:42.346Z"
   },
   {
    "duration": 8,
    "start_time": "2022-06-25T12:15:42.410Z"
   },
   {
    "duration": 69,
    "start_time": "2022-06-25T12:15:42.616Z"
   },
   {
    "duration": 6,
    "start_time": "2022-06-25T12:15:42.774Z"
   },
   {
    "duration": 113,
    "start_time": "2022-06-25T12:15:43.878Z"
   },
   {
    "duration": 5,
    "start_time": "2022-06-25T12:15:43.993Z"
   },
   {
    "duration": 11,
    "start_time": "2022-06-25T12:15:44.020Z"
   },
   {
    "duration": 8,
    "start_time": "2022-06-25T12:15:44.770Z"
   },
   {
    "duration": 8,
    "start_time": "2022-06-25T12:15:46.001Z"
   },
   {
    "duration": 20153,
    "start_time": "2022-06-25T12:15:47.538Z"
   },
   {
    "duration": 19621,
    "start_time": "2022-06-25T12:16:18.184Z"
   },
   {
    "duration": 389,
    "start_time": "2022-06-25T12:16:48.689Z"
   },
   {
    "duration": 77,
    "start_time": "2022-06-25T12:16:55.986Z"
   },
   {
    "duration": 404,
    "start_time": "2022-06-25T12:16:58.710Z"
   },
   {
    "duration": 74,
    "start_time": "2022-06-25T12:17:05.378Z"
   },
   {
    "duration": 76,
    "start_time": "2022-06-25T12:17:08.657Z"
   },
   {
    "duration": 80,
    "start_time": "2022-06-25T12:17:11.249Z"
   },
   {
    "duration": 80,
    "start_time": "2022-06-25T12:17:13.773Z"
   },
   {
    "duration": 83,
    "start_time": "2022-06-25T12:17:15.889Z"
   },
   {
    "duration": 91,
    "start_time": "2022-06-25T12:17:19.108Z"
   },
   {
    "duration": 4,
    "start_time": "2022-06-25T12:18:17.602Z"
   },
   {
    "duration": 58,
    "start_time": "2022-06-25T12:18:18.117Z"
   },
   {
    "duration": 24,
    "start_time": "2022-06-25T12:18:18.177Z"
   },
   {
    "duration": 13,
    "start_time": "2022-06-25T12:18:18.239Z"
   },
   {
    "duration": 23,
    "start_time": "2022-06-25T12:18:18.269Z"
   },
   {
    "duration": 30,
    "start_time": "2022-06-25T12:18:18.379Z"
   },
   {
    "duration": 28,
    "start_time": "2022-06-25T12:18:18.415Z"
   },
   {
    "duration": 15,
    "start_time": "2022-06-25T12:18:22.822Z"
   },
   {
    "duration": 7,
    "start_time": "2022-06-25T12:18:23.074Z"
   },
   {
    "duration": 18,
    "start_time": "2022-06-25T12:18:23.194Z"
   },
   {
    "duration": 36,
    "start_time": "2022-06-25T12:18:23.216Z"
   },
   {
    "duration": 34,
    "start_time": "2022-06-25T12:18:23.308Z"
   },
   {
    "duration": 8,
    "start_time": "2022-06-25T12:18:23.407Z"
   },
   {
    "duration": 112,
    "start_time": "2022-06-25T12:18:23.481Z"
   },
   {
    "duration": 5,
    "start_time": "2022-06-25T12:18:23.595Z"
   },
   {
    "duration": 11,
    "start_time": "2022-06-25T12:18:23.671Z"
   },
   {
    "duration": 7,
    "start_time": "2022-06-25T12:18:23.770Z"
   },
   {
    "duration": 5,
    "start_time": "2022-06-25T12:18:23.833Z"
   },
   {
    "duration": 35,
    "start_time": "2022-06-25T12:18:23.971Z"
   },
   {
    "duration": 6,
    "start_time": "2022-06-25T12:18:24.069Z"
   },
   {
    "duration": 123,
    "start_time": "2022-06-25T12:18:24.164Z"
   },
   {
    "duration": 5,
    "start_time": "2022-06-25T12:18:24.288Z"
   },
   {
    "duration": 12,
    "start_time": "2022-06-25T12:18:24.369Z"
   },
   {
    "duration": 7,
    "start_time": "2022-06-25T12:18:24.462Z"
   },
   {
    "duration": 4,
    "start_time": "2022-06-25T12:18:24.570Z"
   },
   {
    "duration": 16,
    "start_time": "2022-06-25T12:18:25.152Z"
   },
   {
    "duration": 59,
    "start_time": "2022-06-25T12:18:25.377Z"
   },
   {
    "duration": 6,
    "start_time": "2022-06-25T12:18:25.919Z"
   },
   {
    "duration": 113,
    "start_time": "2022-06-25T12:18:26.521Z"
   },
   {
    "duration": 4,
    "start_time": "2022-06-25T12:18:26.636Z"
   },
   {
    "duration": 11,
    "start_time": "2022-06-25T12:18:26.762Z"
   },
   {
    "duration": 10,
    "start_time": "2022-06-25T12:18:27.775Z"
   },
   {
    "duration": 3,
    "start_time": "2022-06-25T12:18:28.348Z"
   },
   {
    "duration": 12,
    "start_time": "2022-06-25T12:18:28.423Z"
   },
   {
    "duration": 15,
    "start_time": "2022-06-25T12:18:28.458Z"
   },
   {
    "duration": 6,
    "start_time": "2022-06-25T12:18:29.056Z"
   },
   {
    "duration": 98,
    "start_time": "2022-06-25T12:18:29.641Z"
   },
   {
    "duration": 5,
    "start_time": "2022-06-25T12:18:29.740Z"
   },
   {
    "duration": 20,
    "start_time": "2022-06-25T12:18:29.767Z"
   },
   {
    "duration": 8,
    "start_time": "2022-06-25T12:18:30.729Z"
   },
   {
    "duration": 4,
    "start_time": "2022-06-25T12:18:30.839Z"
   },
   {
    "duration": 8,
    "start_time": "2022-06-25T12:18:31.168Z"
   },
   {
    "duration": 68,
    "start_time": "2022-06-25T12:18:31.837Z"
   },
   {
    "duration": 7,
    "start_time": "2022-06-25T12:18:33.713Z"
   },
   {
    "duration": 111,
    "start_time": "2022-06-25T12:18:34.643Z"
   },
   {
    "duration": 5,
    "start_time": "2022-06-25T12:18:35.167Z"
   },
   {
    "duration": 10,
    "start_time": "2022-06-25T12:18:35.858Z"
   },
   {
    "duration": 7,
    "start_time": "2022-06-25T12:18:36.560Z"
   },
   {
    "duration": 9,
    "start_time": "2022-06-25T12:18:37.649Z"
   },
   {
    "duration": 68,
    "start_time": "2022-06-25T12:19:54.192Z"
   },
   {
    "duration": 295,
    "start_time": "2022-06-25T12:20:05.472Z"
   },
   {
    "duration": 29,
    "start_time": "2022-06-25T12:23:42.271Z"
   },
   {
    "duration": 33,
    "start_time": "2022-06-25T12:23:42.301Z"
   },
   {
    "duration": 38,
    "start_time": "2022-06-25T12:23:42.335Z"
   },
   {
    "duration": 34,
    "start_time": "2022-06-25T12:23:42.375Z"
   },
   {
    "duration": 32,
    "start_time": "2022-06-25T12:23:42.410Z"
   },
   {
    "duration": 23,
    "start_time": "2022-06-25T12:23:42.444Z"
   },
   {
    "duration": 27,
    "start_time": "2022-06-25T12:23:42.469Z"
   },
   {
    "duration": 44,
    "start_time": "2022-06-25T12:23:42.498Z"
   },
   {
    "duration": 50,
    "start_time": "2022-06-25T12:23:42.544Z"
   },
   {
    "duration": 7,
    "start_time": "2022-06-25T12:23:42.596Z"
   },
   {
    "duration": 137,
    "start_time": "2022-06-25T12:23:42.607Z"
   },
   {
    "duration": 5,
    "start_time": "2022-06-25T12:23:42.746Z"
   },
   {
    "duration": 30,
    "start_time": "2022-06-25T12:23:42.753Z"
   },
   {
    "duration": 28,
    "start_time": "2022-06-25T12:23:42.785Z"
   },
   {
    "duration": 14,
    "start_time": "2022-06-25T12:23:42.815Z"
   },
   {
    "duration": 50,
    "start_time": "2022-06-25T12:23:42.830Z"
   },
   {
    "duration": 6,
    "start_time": "2022-06-25T12:23:42.882Z"
   },
   {
    "duration": 156,
    "start_time": "2022-06-25T12:23:42.889Z"
   },
   {
    "duration": 5,
    "start_time": "2022-06-25T12:23:43.046Z"
   },
   {
    "duration": 27,
    "start_time": "2022-06-25T12:23:43.052Z"
   },
   {
    "duration": 29,
    "start_time": "2022-06-25T12:23:43.081Z"
   },
   {
    "duration": 21,
    "start_time": "2022-06-25T12:23:43.111Z"
   },
   {
    "duration": 22,
    "start_time": "2022-06-25T12:23:43.133Z"
   },
   {
    "duration": 71,
    "start_time": "2022-06-25T12:23:43.157Z"
   },
   {
    "duration": 6,
    "start_time": "2022-06-25T12:23:43.230Z"
   },
   {
    "duration": 161,
    "start_time": "2022-06-25T12:23:43.237Z"
   },
   {
    "duration": 5,
    "start_time": "2022-06-25T12:23:43.399Z"
   },
   {
    "duration": 30,
    "start_time": "2022-06-25T12:23:43.405Z"
   },
   {
    "duration": 7,
    "start_time": "2022-06-25T12:23:43.437Z"
   },
   {
    "duration": 5,
    "start_time": "2022-06-25T12:23:43.446Z"
   },
   {
    "duration": 13,
    "start_time": "2022-06-25T12:23:43.452Z"
   },
   {
    "duration": 13,
    "start_time": "2022-06-25T12:23:43.467Z"
   },
   {
    "duration": 6,
    "start_time": "2022-06-25T12:23:43.482Z"
   },
   {
    "duration": 141,
    "start_time": "2022-06-25T12:23:43.489Z"
   },
   {
    "duration": 4,
    "start_time": "2022-06-25T12:23:43.632Z"
   },
   {
    "duration": 14,
    "start_time": "2022-06-25T12:23:43.638Z"
   },
   {
    "duration": 7,
    "start_time": "2022-06-25T12:23:43.653Z"
   },
   {
    "duration": 3,
    "start_time": "2022-06-25T12:23:43.667Z"
   },
   {
    "duration": 8,
    "start_time": "2022-06-25T12:23:43.672Z"
   },
   {
    "duration": 92,
    "start_time": "2022-06-25T12:23:43.682Z"
   },
   {
    "duration": 7,
    "start_time": "2022-06-25T12:23:43.775Z"
   },
   {
    "duration": 184,
    "start_time": "2022-06-25T12:23:43.784Z"
   },
   {
    "duration": 5,
    "start_time": "2022-06-25T12:23:43.970Z"
   },
   {
    "duration": 12,
    "start_time": "2022-06-25T12:23:43.976Z"
   },
   {
    "duration": 11,
    "start_time": "2022-06-25T12:23:43.989Z"
   },
   {
    "duration": 11,
    "start_time": "2022-06-25T12:23:44.002Z"
   },
   {
    "duration": 262,
    "start_time": "2022-06-25T12:23:44.014Z"
   },
   {
    "duration": 92,
    "start_time": "2022-06-25T12:23:44.278Z"
   },
   {
    "duration": 160,
    "start_time": "2022-06-25T12:23:44.372Z"
   },
   {
    "duration": 20,
    "start_time": "2022-06-25T12:23:44.533Z"
   },
   {
    "duration": 1044,
    "start_time": "2022-06-25T12:23:49.900Z"
   },
   {
    "duration": 64,
    "start_time": "2022-06-25T12:23:50.948Z"
   },
   {
    "duration": 28,
    "start_time": "2022-06-25T12:23:51.013Z"
   },
   {
    "duration": 12,
    "start_time": "2022-06-25T12:23:52.241Z"
   },
   {
    "duration": 12,
    "start_time": "2022-06-25T12:23:52.274Z"
   },
   {
    "duration": 20,
    "start_time": "2022-06-25T12:23:52.383Z"
   },
   {
    "duration": 16,
    "start_time": "2022-06-25T12:23:52.417Z"
   },
   {
    "duration": 16,
    "start_time": "2022-06-25T12:23:52.571Z"
   },
   {
    "duration": 8,
    "start_time": "2022-06-25T12:23:52.840Z"
   },
   {
    "duration": 18,
    "start_time": "2022-06-25T12:23:52.935Z"
   },
   {
    "duration": 30,
    "start_time": "2022-06-25T12:23:52.982Z"
   },
   {
    "duration": 35,
    "start_time": "2022-06-25T12:23:53.077Z"
   },
   {
    "duration": 7,
    "start_time": "2022-06-25T12:23:53.173Z"
   },
   {
    "duration": 351,
    "start_time": "2022-06-25T12:23:53.242Z"
   },
   {
    "duration": 6,
    "start_time": "2022-06-25T12:23:53.595Z"
   },
   {
    "duration": 14,
    "start_time": "2022-06-25T12:23:53.602Z"
   },
   {
    "duration": 11,
    "start_time": "2022-06-25T12:23:53.618Z"
   },
   {
    "duration": 7,
    "start_time": "2022-06-25T12:23:53.630Z"
   },
   {
    "duration": 33,
    "start_time": "2022-06-25T12:23:53.733Z"
   },
   {
    "duration": 5,
    "start_time": "2022-06-25T12:23:53.835Z"
   },
   {
    "duration": 110,
    "start_time": "2022-06-25T12:23:53.927Z"
   },
   {
    "duration": 5,
    "start_time": "2022-06-25T12:23:54.039Z"
   },
   {
    "duration": 12,
    "start_time": "2022-06-25T12:23:54.133Z"
   },
   {
    "duration": 7,
    "start_time": "2022-06-25T12:23:54.231Z"
   },
   {
    "duration": 4,
    "start_time": "2022-06-25T12:23:54.319Z"
   },
   {
    "duration": 14,
    "start_time": "2022-06-25T12:23:54.430Z"
   },
   {
    "duration": 55,
    "start_time": "2022-06-25T12:23:54.461Z"
   },
   {
    "duration": 7,
    "start_time": "2022-06-25T12:23:54.558Z"
   },
   {
    "duration": 113,
    "start_time": "2022-06-25T12:23:54.688Z"
   },
   {
    "duration": 4,
    "start_time": "2022-06-25T12:23:54.803Z"
   },
   {
    "duration": 9,
    "start_time": "2022-06-25T12:23:54.927Z"
   },
   {
    "duration": 7,
    "start_time": "2022-06-25T12:23:55.057Z"
   },
   {
    "duration": 4,
    "start_time": "2022-06-25T12:23:55.149Z"
   },
   {
    "duration": 10,
    "start_time": "2022-06-25T12:23:55.213Z"
   },
   {
    "duration": 13,
    "start_time": "2022-06-25T12:23:55.242Z"
   },
   {
    "duration": 6,
    "start_time": "2022-06-25T12:23:55.353Z"
   },
   {
    "duration": 105,
    "start_time": "2022-06-25T12:23:55.449Z"
   },
   {
    "duration": 5,
    "start_time": "2022-06-25T12:23:56.225Z"
   },
   {
    "duration": 12,
    "start_time": "2022-06-25T12:23:56.306Z"
   },
   {
    "duration": 7,
    "start_time": "2022-06-25T12:23:56.431Z"
   },
   {
    "duration": 4,
    "start_time": "2022-06-25T12:23:56.525Z"
   },
   {
    "duration": 8,
    "start_time": "2022-06-25T12:23:56.589Z"
   },
   {
    "duration": 70,
    "start_time": "2022-06-25T12:23:56.799Z"
   },
   {
    "duration": 7,
    "start_time": "2022-06-25T12:23:56.951Z"
   },
   {
    "duration": 107,
    "start_time": "2022-06-25T12:23:58.021Z"
   },
   {
    "duration": 4,
    "start_time": "2022-06-25T12:23:58.130Z"
   },
   {
    "duration": 12,
    "start_time": "2022-06-25T12:23:58.161Z"
   },
   {
    "duration": 7,
    "start_time": "2022-06-25T12:23:58.227Z"
   },
   {
    "duration": 8,
    "start_time": "2022-06-25T12:23:58.322Z"
   },
   {
    "duration": 467,
    "start_time": "2022-06-25T12:23:58.413Z"
   },
   {
    "duration": 660,
    "start_time": "2022-06-25T12:24:56.910Z"
   },
   {
    "duration": 138,
    "start_time": "2022-06-25T12:25:09.837Z"
   },
   {
    "duration": 151,
    "start_time": "2022-06-25T12:25:12.525Z"
   },
   {
    "duration": 235,
    "start_time": "2022-06-25T12:25:14.541Z"
   },
   {
    "duration": 343,
    "start_time": "2022-06-25T12:25:16.525Z"
   },
   {
    "duration": 1578,
    "start_time": "2022-06-25T12:25:42.492Z"
   },
   {
    "duration": 6290,
    "start_time": "2022-06-25T12:25:50.381Z"
   },
   {
    "duration": 1141,
    "start_time": "2022-06-25T12:26:46.145Z"
   },
   {
    "duration": 107,
    "start_time": "2022-06-25T12:26:47.288Z"
   },
   {
    "duration": 28,
    "start_time": "2022-06-25T12:26:47.397Z"
   },
   {
    "duration": 12,
    "start_time": "2022-06-25T12:26:47.427Z"
   },
   {
    "duration": 15,
    "start_time": "2022-06-25T12:26:47.440Z"
   },
   {
    "duration": 24,
    "start_time": "2022-06-25T12:26:47.457Z"
   },
   {
    "duration": 22,
    "start_time": "2022-06-25T12:26:47.483Z"
   },
   {
    "duration": 19,
    "start_time": "2022-06-25T12:26:47.507Z"
   },
   {
    "duration": 7,
    "start_time": "2022-06-25T12:26:47.527Z"
   },
   {
    "duration": 40,
    "start_time": "2022-06-25T12:26:47.535Z"
   },
   {
    "duration": 29,
    "start_time": "2022-06-25T12:26:47.576Z"
   },
   {
    "duration": 33,
    "start_time": "2022-06-25T12:26:47.610Z"
   },
   {
    "duration": 7,
    "start_time": "2022-06-25T12:26:47.705Z"
   },
   {
    "duration": 363,
    "start_time": "2022-06-25T12:26:47.774Z"
   },
   {
    "duration": 5,
    "start_time": "2022-06-25T12:26:48.139Z"
   },
   {
    "duration": 28,
    "start_time": "2022-06-25T12:26:48.146Z"
   },
   {
    "duration": 9,
    "start_time": "2022-06-25T12:26:48.176Z"
   },
   {
    "duration": 5,
    "start_time": "2022-06-25T12:26:48.186Z"
   },
   {
    "duration": 36,
    "start_time": "2022-06-25T12:26:48.269Z"
   },
   {
    "duration": 6,
    "start_time": "2022-06-25T12:26:48.363Z"
   },
   {
    "duration": 118,
    "start_time": "2022-06-25T12:26:48.459Z"
   },
   {
    "duration": 6,
    "start_time": "2022-06-25T12:26:48.579Z"
   },
   {
    "duration": 12,
    "start_time": "2022-06-25T12:26:49.628Z"
   },
   {
    "duration": 9,
    "start_time": "2022-06-25T12:26:50.199Z"
   },
   {
    "duration": 5,
    "start_time": "2022-06-25T12:26:50.293Z"
   },
   {
    "duration": 20,
    "start_time": "2022-06-25T12:26:50.405Z"
   },
   {
    "duration": 60,
    "start_time": "2022-06-25T12:26:50.431Z"
   },
   {
    "duration": 6,
    "start_time": "2022-06-25T12:26:50.843Z"
   },
   {
    "duration": 118,
    "start_time": "2022-06-25T12:26:51.849Z"
   },
   {
    "duration": 5,
    "start_time": "2022-06-25T12:26:51.969Z"
   },
   {
    "duration": 11,
    "start_time": "2022-06-25T12:26:52.652Z"
   },
   {
    "duration": 8,
    "start_time": "2022-06-25T12:26:54.059Z"
   },
   {
    "duration": 5,
    "start_time": "2022-06-25T12:26:54.807Z"
   },
   {
    "duration": 11,
    "start_time": "2022-06-25T12:26:54.887Z"
   },
   {
    "duration": 12,
    "start_time": "2022-06-25T12:26:54.901Z"
   },
   {
    "duration": 6,
    "start_time": "2022-06-25T12:26:55.835Z"
   },
   {
    "duration": 93,
    "start_time": "2022-06-25T12:26:55.927Z"
   },
   {
    "duration": 5,
    "start_time": "2022-06-25T12:26:56.023Z"
   },
   {
    "duration": 12,
    "start_time": "2022-06-25T12:26:56.396Z"
   },
   {
    "duration": 7,
    "start_time": "2022-06-25T12:26:57.006Z"
   },
   {
    "duration": 4,
    "start_time": "2022-06-25T12:26:57.102Z"
   },
   {
    "duration": 7,
    "start_time": "2022-06-25T12:26:57.170Z"
   },
   {
    "duration": 80,
    "start_time": "2022-06-25T12:26:58.231Z"
   },
   {
    "duration": 6,
    "start_time": "2022-06-25T12:26:59.906Z"
   },
   {
    "duration": 108,
    "start_time": "2022-06-25T12:26:59.983Z"
   },
   {
    "duration": 5,
    "start_time": "2022-06-25T12:27:00.092Z"
   },
   {
    "duration": 12,
    "start_time": "2022-06-25T12:27:00.779Z"
   },
   {
    "duration": 9,
    "start_time": "2022-06-25T12:27:02.171Z"
   },
   {
    "duration": 11,
    "start_time": "2022-06-25T12:27:04.668Z"
   },
   {
    "duration": 78,
    "start_time": "2022-06-25T12:28:04.736Z"
   },
   {
    "duration": 5,
    "start_time": "2022-06-25T12:28:10.534Z"
   },
   {
    "duration": 61,
    "start_time": "2022-06-25T12:28:11.037Z"
   },
   {
    "duration": 21,
    "start_time": "2022-06-25T12:28:11.100Z"
   },
   {
    "duration": 12,
    "start_time": "2022-06-25T12:28:11.159Z"
   },
   {
    "duration": 12,
    "start_time": "2022-06-25T12:28:11.197Z"
   },
   {
    "duration": 20,
    "start_time": "2022-06-25T12:28:11.287Z"
   },
   {
    "duration": 15,
    "start_time": "2022-06-25T12:28:11.338Z"
   },
   {
    "duration": 15,
    "start_time": "2022-06-25T12:28:11.496Z"
   },
   {
    "duration": 7,
    "start_time": "2022-06-25T12:28:13.838Z"
   },
   {
    "duration": 17,
    "start_time": "2022-06-25T12:28:16.267Z"
   },
   {
    "duration": 26,
    "start_time": "2022-06-25T12:28:16.537Z"
   },
   {
    "duration": 35,
    "start_time": "2022-06-25T12:28:17.947Z"
   },
   {
    "duration": 7,
    "start_time": "2022-06-25T12:28:19.407Z"
   },
   {
    "duration": 123,
    "start_time": "2022-06-25T12:28:19.487Z"
   },
   {
    "duration": 6,
    "start_time": "2022-06-25T12:28:19.612Z"
   },
   {
    "duration": 10,
    "start_time": "2022-06-25T12:28:19.677Z"
   },
   {
    "duration": 10,
    "start_time": "2022-06-25T12:28:19.785Z"
   },
   {
    "duration": 4,
    "start_time": "2022-06-25T12:28:19.847Z"
   },
   {
    "duration": 36,
    "start_time": "2022-06-25T12:28:19.971Z"
   },
   {
    "duration": 6,
    "start_time": "2022-06-25T12:28:20.079Z"
   },
   {
    "duration": 178,
    "start_time": "2022-06-25T12:28:20.175Z"
   },
   {
    "duration": 15,
    "start_time": "2022-06-25T12:28:20.355Z"
   },
   {
    "duration": 13,
    "start_time": "2022-06-25T12:28:20.380Z"
   },
   {
    "duration": 9,
    "start_time": "2022-06-25T12:28:20.473Z"
   },
   {
    "duration": 4,
    "start_time": "2022-06-25T12:28:20.565Z"
   },
   {
    "duration": 17,
    "start_time": "2022-06-25T12:28:20.677Z"
   },
   {
    "duration": 64,
    "start_time": "2022-06-25T12:28:20.706Z"
   },
   {
    "duration": 6,
    "start_time": "2022-06-25T12:28:20.803Z"
   },
   {
    "duration": 114,
    "start_time": "2022-06-25T12:28:20.936Z"
   },
   {
    "duration": 14,
    "start_time": "2022-06-25T12:28:21.053Z"
   },
   {
    "duration": 11,
    "start_time": "2022-06-25T12:28:21.169Z"
   },
   {
    "duration": 8,
    "start_time": "2022-06-25T12:28:21.295Z"
   },
   {
    "duration": 4,
    "start_time": "2022-06-25T12:28:21.391Z"
   },
   {
    "duration": 11,
    "start_time": "2022-06-25T12:28:21.455Z"
   },
   {
    "duration": 13,
    "start_time": "2022-06-25T12:28:21.501Z"
   },
   {
    "duration": 6,
    "start_time": "2022-06-25T12:28:21.595Z"
   },
   {
    "duration": 103,
    "start_time": "2022-06-25T12:28:21.689Z"
   },
   {
    "duration": 5,
    "start_time": "2022-06-25T12:28:21.794Z"
   },
   {
    "duration": 12,
    "start_time": "2022-06-25T12:28:21.837Z"
   },
   {
    "duration": 7,
    "start_time": "2022-06-25T12:28:21.957Z"
   },
   {
    "duration": 3,
    "start_time": "2022-06-25T12:28:22.051Z"
   },
   {
    "duration": 8,
    "start_time": "2022-06-25T12:28:22.119Z"
   },
   {
    "duration": 70,
    "start_time": "2022-06-25T12:28:24.123Z"
   },
   {
    "duration": 68,
    "start_time": "2022-06-25T12:28:29.837Z"
   },
   {
    "duration": 7,
    "start_time": "2022-06-25T12:28:30.473Z"
   },
   {
    "duration": 105,
    "start_time": "2022-06-25T12:28:30.541Z"
   },
   {
    "duration": 19,
    "start_time": "2022-06-25T12:28:30.648Z"
   },
   {
    "duration": 12,
    "start_time": "2022-06-25T12:28:30.679Z"
   },
   {
    "duration": 8,
    "start_time": "2022-06-25T12:28:30.745Z"
   },
   {
    "duration": 8,
    "start_time": "2022-06-25T12:28:30.839Z"
   },
   {
    "duration": 74,
    "start_time": "2022-06-25T12:28:30.951Z"
   },
   {
    "duration": 44,
    "start_time": "2022-06-25T12:28:41.019Z"
   },
   {
    "duration": 45,
    "start_time": "2022-06-25T12:28:44.171Z"
   },
   {
    "duration": 49,
    "start_time": "2022-06-25T12:28:47.915Z"
   },
   {
    "duration": 51,
    "start_time": "2022-06-25T12:28:51.087Z"
   },
   {
    "duration": 466,
    "start_time": "2022-06-25T12:29:56.139Z"
   },
   {
    "duration": 19995,
    "start_time": "2022-06-25T12:30:13.660Z"
   },
   {
    "duration": 81873,
    "start_time": "2022-06-25T12:30:57.996Z"
   },
   {
    "duration": 0,
    "start_time": "2022-06-25T12:36:53.391Z"
   },
   {
    "duration": 20,
    "start_time": "2022-06-25T12:37:42.794Z"
   },
   {
    "duration": 12,
    "start_time": "2022-06-25T12:37:54.393Z"
   },
   {
    "duration": 19,
    "start_time": "2022-06-25T12:38:03.743Z"
   },
   {
    "duration": 24,
    "start_time": "2022-06-25T12:38:29.642Z"
   },
   {
    "duration": 20,
    "start_time": "2022-06-25T12:38:41.463Z"
   },
   {
    "duration": 0,
    "start_time": "2022-06-25T12:40:18.128Z"
   },
   {
    "duration": 0,
    "start_time": "2022-06-25T12:40:18.129Z"
   },
   {
    "duration": 0,
    "start_time": "2022-06-25T12:40:18.130Z"
   },
   {
    "duration": 0,
    "start_time": "2022-06-25T12:40:18.131Z"
   },
   {
    "duration": 0,
    "start_time": "2022-06-25T12:40:18.132Z"
   },
   {
    "duration": 0,
    "start_time": "2022-06-25T12:40:18.133Z"
   },
   {
    "duration": 0,
    "start_time": "2022-06-25T12:40:18.134Z"
   },
   {
    "duration": 0,
    "start_time": "2022-06-25T12:40:18.135Z"
   },
   {
    "duration": 0,
    "start_time": "2022-06-25T12:40:18.136Z"
   },
   {
    "duration": 0,
    "start_time": "2022-06-25T12:40:18.137Z"
   },
   {
    "duration": 0,
    "start_time": "2022-06-25T12:40:18.138Z"
   },
   {
    "duration": 0,
    "start_time": "2022-06-25T12:40:18.139Z"
   },
   {
    "duration": 6,
    "start_time": "2022-06-25T12:40:22.297Z"
   },
   {
    "duration": 58,
    "start_time": "2022-06-25T12:40:22.810Z"
   },
   {
    "duration": 27,
    "start_time": "2022-06-25T12:40:22.870Z"
   },
   {
    "duration": 12,
    "start_time": "2022-06-25T12:40:22.937Z"
   },
   {
    "duration": 14,
    "start_time": "2022-06-25T12:40:22.957Z"
   },
   {
    "duration": 26,
    "start_time": "2022-06-25T12:40:23.052Z"
   },
   {
    "duration": 20,
    "start_time": "2022-06-25T12:40:23.085Z"
   },
   {
    "duration": 15,
    "start_time": "2022-06-25T12:40:23.257Z"
   },
   {
    "duration": 8,
    "start_time": "2022-06-25T12:40:23.506Z"
   },
   {
    "duration": 20,
    "start_time": "2022-06-25T12:40:23.616Z"
   },
   {
    "duration": 26,
    "start_time": "2022-06-25T12:40:23.648Z"
   },
   {
    "duration": 33,
    "start_time": "2022-06-25T12:40:23.742Z"
   },
   {
    "duration": 7,
    "start_time": "2022-06-25T12:40:23.840Z"
   },
   {
    "duration": 135,
    "start_time": "2022-06-25T12:40:23.899Z"
   },
   {
    "duration": 6,
    "start_time": "2022-06-25T12:40:24.036Z"
   },
   {
    "duration": 13,
    "start_time": "2022-06-25T12:40:24.108Z"
   },
   {
    "duration": 7,
    "start_time": "2022-06-25T12:40:24.202Z"
   },
   {
    "duration": 5,
    "start_time": "2022-06-25T12:40:24.266Z"
   },
   {
    "duration": 38,
    "start_time": "2022-06-25T12:40:25.351Z"
   },
   {
    "duration": 7,
    "start_time": "2022-06-25T12:40:25.918Z"
   },
   {
    "duration": 106,
    "start_time": "2022-06-25T12:40:26.036Z"
   },
   {
    "duration": 5,
    "start_time": "2022-06-25T12:40:26.143Z"
   },
   {
    "duration": 13,
    "start_time": "2022-06-25T12:40:26.240Z"
   },
   {
    "duration": 8,
    "start_time": "2022-06-25T12:40:26.313Z"
   },
   {
    "duration": 4,
    "start_time": "2022-06-25T12:40:26.421Z"
   },
   {
    "duration": 12,
    "start_time": "2022-06-25T12:40:26.519Z"
   },
   {
    "duration": 53,
    "start_time": "2022-06-25T12:40:26.551Z"
   },
   {
    "duration": 8,
    "start_time": "2022-06-25T12:40:26.643Z"
   },
   {
    "duration": 126,
    "start_time": "2022-06-25T12:40:26.789Z"
   },
   {
    "duration": 5,
    "start_time": "2022-06-25T12:40:26.917Z"
   },
   {
    "duration": 10,
    "start_time": "2022-06-25T12:40:27.813Z"
   },
   {
    "duration": 8,
    "start_time": "2022-06-25T12:40:28.821Z"
   },
   {
    "duration": 5,
    "start_time": "2022-06-25T12:40:28.916Z"
   },
   {
    "duration": 13,
    "start_time": "2022-06-25T12:40:28.979Z"
   },
   {
    "duration": 14,
    "start_time": "2022-06-25T12:40:29.011Z"
   },
   {
    "duration": 6,
    "start_time": "2022-06-25T12:40:29.119Z"
   },
   {
    "duration": 102,
    "start_time": "2022-06-25T12:40:29.213Z"
   },
   {
    "duration": 6,
    "start_time": "2022-06-25T12:40:29.573Z"
   },
   {
    "duration": 16,
    "start_time": "2022-06-25T12:40:30.675Z"
   },
   {
    "duration": 9,
    "start_time": "2022-06-25T12:40:30.803Z"
   },
   {
    "duration": 4,
    "start_time": "2022-06-25T12:40:30.895Z"
   },
   {
    "duration": 7,
    "start_time": "2022-06-25T12:40:30.975Z"
   },
   {
    "duration": 67,
    "start_time": "2022-06-25T12:40:44.481Z"
   },
   {
    "duration": 7,
    "start_time": "2022-06-25T12:40:44.652Z"
   },
   {
    "duration": 108,
    "start_time": "2022-06-25T12:40:45.317Z"
   },
   {
    "duration": 4,
    "start_time": "2022-06-25T12:40:46.022Z"
   },
   {
    "duration": 10,
    "start_time": "2022-06-25T12:40:46.917Z"
   },
   {
    "duration": 8,
    "start_time": "2022-06-25T12:40:47.879Z"
   },
   {
    "duration": 10,
    "start_time": "2022-06-25T12:40:49.205Z"
   },
   {
    "duration": 19,
    "start_time": "2022-06-25T12:45:31.635Z"
   },
   {
    "duration": 18,
    "start_time": "2022-06-25T12:45:44.645Z"
   },
   {
    "duration": 82,
    "start_time": "2022-06-25T12:45:58.980Z"
   },
   {
    "duration": 8,
    "start_time": "2022-06-25T12:46:00.395Z"
   },
   {
    "duration": 120,
    "start_time": "2022-06-25T12:46:00.451Z"
   },
   {
    "duration": 6,
    "start_time": "2022-06-25T12:46:00.573Z"
   },
   {
    "duration": 41,
    "start_time": "2022-06-25T12:46:00.580Z"
   },
   {
    "duration": 9,
    "start_time": "2022-06-25T12:46:00.643Z"
   },
   {
    "duration": 10,
    "start_time": "2022-06-25T12:46:00.805Z"
   },
   {
    "duration": 19,
    "start_time": "2022-06-25T12:46:01.375Z"
   },
   {
    "duration": 20,
    "start_time": "2022-06-25T12:46:08.136Z"
   },
   {
    "duration": 84316,
    "start_time": "2022-06-25T12:46:35.138Z"
   },
   {
    "duration": 0,
    "start_time": "2022-06-25T12:48:47.968Z"
   },
   {
    "duration": 5,
    "start_time": "2022-06-25T12:48:54.979Z"
   },
   {
    "duration": 66,
    "start_time": "2022-06-25T12:48:55.492Z"
   },
   {
    "duration": 26,
    "start_time": "2022-06-25T12:48:55.560Z"
   },
   {
    "duration": 13,
    "start_time": "2022-06-25T12:48:55.624Z"
   },
   {
    "duration": 13,
    "start_time": "2022-06-25T12:48:55.651Z"
   },
   {
    "duration": 22,
    "start_time": "2022-06-25T12:48:55.742Z"
   },
   {
    "duration": 18,
    "start_time": "2022-06-25T12:48:55.790Z"
   },
   {
    "duration": 15,
    "start_time": "2022-06-25T12:48:55.950Z"
   },
   {
    "duration": 8,
    "start_time": "2022-06-25T12:48:56.212Z"
   },
   {
    "duration": 18,
    "start_time": "2022-06-25T12:48:56.306Z"
   },
   {
    "duration": 26,
    "start_time": "2022-06-25T12:48:56.339Z"
   },
   {
    "duration": 35,
    "start_time": "2022-06-25T12:48:56.448Z"
   },
   {
    "duration": 7,
    "start_time": "2022-06-25T12:48:56.556Z"
   },
   {
    "duration": 112,
    "start_time": "2022-06-25T12:48:56.605Z"
   },
   {
    "duration": 5,
    "start_time": "2022-06-25T12:48:56.719Z"
   },
   {
    "duration": 11,
    "start_time": "2022-06-25T12:48:56.808Z"
   },
   {
    "duration": 8,
    "start_time": "2022-06-25T12:48:56.899Z"
   },
   {
    "duration": 5,
    "start_time": "2022-06-25T12:48:56.976Z"
   },
   {
    "duration": 37,
    "start_time": "2022-06-25T12:48:57.102Z"
   },
   {
    "duration": 7,
    "start_time": "2022-06-25T12:48:57.196Z"
   },
   {
    "duration": 110,
    "start_time": "2022-06-25T12:48:57.306Z"
   },
   {
    "duration": 5,
    "start_time": "2022-06-25T12:48:57.419Z"
   },
   {
    "duration": 12,
    "start_time": "2022-06-25T12:48:57.498Z"
   },
   {
    "duration": 8,
    "start_time": "2022-06-25T12:48:57.606Z"
   },
   {
    "duration": 4,
    "start_time": "2022-06-25T12:48:57.700Z"
   },
   {
    "duration": 14,
    "start_time": "2022-06-25T12:48:57.796Z"
   },
   {
    "duration": 60,
    "start_time": "2022-06-25T12:48:57.848Z"
   },
   {
    "duration": 7,
    "start_time": "2022-06-25T12:48:57.943Z"
   },
   {
    "duration": 120,
    "start_time": "2022-06-25T12:48:58.058Z"
   },
   {
    "duration": 5,
    "start_time": "2022-06-25T12:48:58.180Z"
   },
   {
    "duration": 12,
    "start_time": "2022-06-25T12:48:58.297Z"
   },
   {
    "duration": 8,
    "start_time": "2022-06-25T12:48:58.440Z"
   },
   {
    "duration": 5,
    "start_time": "2022-06-25T12:48:58.514Z"
   },
   {
    "duration": 11,
    "start_time": "2022-06-25T12:48:58.594Z"
   },
   {
    "duration": 14,
    "start_time": "2022-06-25T12:48:58.626Z"
   },
   {
    "duration": 7,
    "start_time": "2022-06-25T12:48:58.752Z"
   },
   {
    "duration": 154,
    "start_time": "2022-06-25T12:48:58.814Z"
   },
   {
    "duration": 5,
    "start_time": "2022-06-25T12:48:59.186Z"
   },
   {
    "duration": 13,
    "start_time": "2022-06-25T12:48:59.746Z"
   },
   {
    "duration": 8,
    "start_time": "2022-06-25T12:48:59.860Z"
   },
   {
    "duration": 4,
    "start_time": "2022-06-25T12:48:59.952Z"
   },
   {
    "duration": 8,
    "start_time": "2022-06-25T12:49:00.016Z"
   },
   {
    "duration": 78,
    "start_time": "2022-06-25T12:49:01.544Z"
   },
   {
    "duration": 7,
    "start_time": "2022-06-25T12:49:03.386Z"
   },
   {
    "duration": 121,
    "start_time": "2022-06-25T12:49:04.246Z"
   },
   {
    "duration": 4,
    "start_time": "2022-06-25T12:49:04.786Z"
   },
   {
    "duration": 12,
    "start_time": "2022-06-25T12:49:05.462Z"
   },
   {
    "duration": 8,
    "start_time": "2022-06-25T12:49:06.438Z"
   },
   {
    "duration": 9,
    "start_time": "2022-06-25T12:49:07.244Z"
   },
   {
    "duration": 0,
    "start_time": "2022-06-25T12:49:46.615Z"
   },
   {
    "duration": 0,
    "start_time": "2022-06-25T12:49:46.616Z"
   },
   {
    "duration": 0,
    "start_time": "2022-06-25T12:49:46.617Z"
   },
   {
    "duration": 0,
    "start_time": "2022-06-25T12:49:46.619Z"
   },
   {
    "duration": 0,
    "start_time": "2022-06-25T12:49:46.620Z"
   },
   {
    "duration": 0,
    "start_time": "2022-06-25T12:49:46.622Z"
   },
   {
    "duration": 0,
    "start_time": "2022-06-25T12:49:46.623Z"
   },
   {
    "duration": 0,
    "start_time": "2022-06-25T12:49:46.625Z"
   },
   {
    "duration": 0,
    "start_time": "2022-06-25T12:49:46.626Z"
   },
   {
    "duration": 0,
    "start_time": "2022-06-25T12:49:46.627Z"
   },
   {
    "duration": 0,
    "start_time": "2022-06-25T12:49:46.629Z"
   },
   {
    "duration": 0,
    "start_time": "2022-06-25T12:49:46.630Z"
   },
   {
    "duration": 0,
    "start_time": "2022-06-25T12:49:46.631Z"
   },
   {
    "duration": 0,
    "start_time": "2022-06-25T12:49:46.632Z"
   },
   {
    "duration": 0,
    "start_time": "2022-06-25T12:49:46.667Z"
   },
   {
    "duration": 0,
    "start_time": "2022-06-25T12:49:46.669Z"
   },
   {
    "duration": 0,
    "start_time": "2022-06-25T12:49:46.670Z"
   },
   {
    "duration": 0,
    "start_time": "2022-06-25T12:49:46.671Z"
   },
   {
    "duration": 0,
    "start_time": "2022-06-25T12:49:46.673Z"
   },
   {
    "duration": 0,
    "start_time": "2022-06-25T12:49:46.674Z"
   },
   {
    "duration": 0,
    "start_time": "2022-06-25T12:49:46.675Z"
   },
   {
    "duration": 0,
    "start_time": "2022-06-25T12:49:46.676Z"
   },
   {
    "duration": 0,
    "start_time": "2022-06-25T12:49:46.677Z"
   },
   {
    "duration": 0,
    "start_time": "2022-06-25T12:49:46.678Z"
   },
   {
    "duration": 0,
    "start_time": "2022-06-25T12:49:46.679Z"
   },
   {
    "duration": 0,
    "start_time": "2022-06-25T12:49:46.680Z"
   },
   {
    "duration": 0,
    "start_time": "2022-06-25T12:49:46.682Z"
   },
   {
    "duration": 0,
    "start_time": "2022-06-25T12:49:46.683Z"
   },
   {
    "duration": 0,
    "start_time": "2022-06-25T12:49:46.684Z"
   },
   {
    "duration": 0,
    "start_time": "2022-06-25T12:49:46.685Z"
   },
   {
    "duration": 0,
    "start_time": "2022-06-25T12:49:46.686Z"
   },
   {
    "duration": 0,
    "start_time": "2022-06-25T12:49:46.688Z"
   },
   {
    "duration": 0,
    "start_time": "2022-06-25T12:49:46.689Z"
   },
   {
    "duration": 0,
    "start_time": "2022-06-25T12:49:46.690Z"
   },
   {
    "duration": 0,
    "start_time": "2022-06-25T12:49:46.691Z"
   },
   {
    "duration": 0,
    "start_time": "2022-06-25T12:49:46.692Z"
   },
   {
    "duration": 0,
    "start_time": "2022-06-25T12:49:46.693Z"
   },
   {
    "duration": 0,
    "start_time": "2022-06-25T12:49:46.694Z"
   },
   {
    "duration": 0,
    "start_time": "2022-06-25T12:49:46.695Z"
   },
   {
    "duration": 0,
    "start_time": "2022-06-25T12:49:46.697Z"
   },
   {
    "duration": 0,
    "start_time": "2022-06-25T12:49:46.698Z"
   },
   {
    "duration": 0,
    "start_time": "2022-06-25T12:49:46.699Z"
   },
   {
    "duration": 0,
    "start_time": "2022-06-25T12:49:46.700Z"
   },
   {
    "duration": 0,
    "start_time": "2022-06-25T12:49:46.701Z"
   },
   {
    "duration": 0,
    "start_time": "2022-06-25T12:49:46.702Z"
   },
   {
    "duration": 0,
    "start_time": "2022-06-25T12:49:46.703Z"
   },
   {
    "duration": 0,
    "start_time": "2022-06-25T12:49:46.767Z"
   },
   {
    "duration": 0,
    "start_time": "2022-06-25T12:49:46.769Z"
   },
   {
    "duration": 0,
    "start_time": "2022-06-25T12:49:46.770Z"
   },
   {
    "duration": 0,
    "start_time": "2022-06-25T12:49:46.771Z"
   },
   {
    "duration": 5,
    "start_time": "2022-06-25T12:49:50.550Z"
   },
   {
    "duration": 59,
    "start_time": "2022-06-25T12:49:51.051Z"
   },
   {
    "duration": 22,
    "start_time": "2022-06-25T12:49:51.111Z"
   },
   {
    "duration": 13,
    "start_time": "2022-06-25T12:49:51.191Z"
   },
   {
    "duration": 13,
    "start_time": "2022-06-25T12:49:51.222Z"
   },
   {
    "duration": 26,
    "start_time": "2022-06-25T12:49:51.335Z"
   },
   {
    "duration": 21,
    "start_time": "2022-06-25T12:49:51.363Z"
   },
   {
    "duration": 15,
    "start_time": "2022-06-25T12:49:51.532Z"
   },
   {
    "duration": 8,
    "start_time": "2022-06-25T12:49:51.773Z"
   },
   {
    "duration": 21,
    "start_time": "2022-06-25T12:49:51.879Z"
   },
   {
    "duration": 30,
    "start_time": "2022-06-25T12:49:51.911Z"
   },
   {
    "duration": 39,
    "start_time": "2022-06-25T12:49:52.008Z"
   },
   {
    "duration": 8,
    "start_time": "2022-06-25T12:49:52.103Z"
   },
   {
    "duration": 115,
    "start_time": "2022-06-25T12:49:52.183Z"
   },
   {
    "duration": 5,
    "start_time": "2022-06-25T12:49:52.300Z"
   },
   {
    "duration": 11,
    "start_time": "2022-06-25T12:49:52.369Z"
   },
   {
    "duration": 7,
    "start_time": "2022-06-25T12:49:52.469Z"
   },
   {
    "duration": 4,
    "start_time": "2022-06-25T12:49:52.549Z"
   },
   {
    "duration": 35,
    "start_time": "2022-06-25T12:49:52.669Z"
   },
   {
    "duration": 6,
    "start_time": "2022-06-25T12:49:52.763Z"
   },
   {
    "duration": 125,
    "start_time": "2022-06-25T12:49:52.877Z"
   },
   {
    "duration": 6,
    "start_time": "2022-06-25T12:49:53.005Z"
   },
   {
    "duration": 14,
    "start_time": "2022-06-25T12:49:53.061Z"
   },
   {
    "duration": 9,
    "start_time": "2022-06-25T12:49:53.159Z"
   },
   {
    "duration": 4,
    "start_time": "2022-06-25T12:49:53.269Z"
   },
   {
    "duration": 14,
    "start_time": "2022-06-25T12:49:53.365Z"
   },
   {
    "duration": 57,
    "start_time": "2022-06-25T12:49:53.396Z"
   },
   {
    "duration": 7,
    "start_time": "2022-06-25T12:49:53.489Z"
   },
   {
    "duration": 110,
    "start_time": "2022-06-25T12:49:53.647Z"
   },
   {
    "duration": 12,
    "start_time": "2022-06-25T12:49:53.759Z"
   },
   {
    "duration": 12,
    "start_time": "2022-06-25T12:49:53.855Z"
   },
   {
    "duration": 8,
    "start_time": "2022-06-25T12:49:53.993Z"
   },
   {
    "duration": 4,
    "start_time": "2022-06-25T12:49:54.092Z"
   },
   {
    "duration": 10,
    "start_time": "2022-06-25T12:49:54.151Z"
   },
   {
    "duration": 13,
    "start_time": "2022-06-25T12:49:54.185Z"
   },
   {
    "duration": 7,
    "start_time": "2022-06-25T12:49:55.087Z"
   },
   {
    "duration": 97,
    "start_time": "2022-06-25T12:49:55.181Z"
   },
   {
    "duration": 5,
    "start_time": "2022-06-25T12:49:55.280Z"
   },
   {
    "duration": 11,
    "start_time": "2022-06-25T12:49:55.312Z"
   },
   {
    "duration": 7,
    "start_time": "2022-06-25T12:49:55.453Z"
   },
   {
    "duration": 4,
    "start_time": "2022-06-25T12:49:55.550Z"
   },
   {
    "duration": 7,
    "start_time": "2022-06-25T12:49:55.612Z"
   },
   {
    "duration": 68,
    "start_time": "2022-06-25T12:49:55.815Z"
   },
   {
    "duration": 7,
    "start_time": "2022-06-25T12:49:55.975Z"
   },
   {
    "duration": 108,
    "start_time": "2022-06-25T12:49:56.048Z"
   },
   {
    "duration": 11,
    "start_time": "2022-06-25T12:49:56.158Z"
   },
   {
    "duration": 11,
    "start_time": "2022-06-25T12:49:56.171Z"
   },
   {
    "duration": 8,
    "start_time": "2022-06-25T12:49:56.250Z"
   },
   {
    "duration": 8,
    "start_time": "2022-06-25T12:49:56.344Z"
   },
   {
    "duration": 21439,
    "start_time": "2022-06-25T12:49:56.444Z"
   },
   {
    "duration": 22499,
    "start_time": "2022-06-25T12:51:02.257Z"
   },
   {
    "duration": 4,
    "start_time": "2022-06-25T12:53:18.751Z"
   },
   {
    "duration": 57,
    "start_time": "2022-06-25T12:53:19.243Z"
   },
   {
    "duration": 22,
    "start_time": "2022-06-25T12:53:19.302Z"
   },
   {
    "duration": 13,
    "start_time": "2022-06-25T12:53:19.385Z"
   },
   {
    "duration": 13,
    "start_time": "2022-06-25T12:53:19.426Z"
   },
   {
    "duration": 21,
    "start_time": "2022-06-25T12:53:19.513Z"
   },
   {
    "duration": 17,
    "start_time": "2022-06-25T12:53:19.542Z"
   },
   {
    "duration": 16,
    "start_time": "2022-06-25T12:53:19.723Z"
   },
   {
    "duration": 8,
    "start_time": "2022-06-25T12:53:20.305Z"
   },
   {
    "duration": 19,
    "start_time": "2022-06-25T12:53:20.873Z"
   },
   {
    "duration": 26,
    "start_time": "2022-06-25T12:53:20.904Z"
   },
   {
    "duration": 33,
    "start_time": "2022-06-25T12:53:21.001Z"
   },
   {
    "duration": 7,
    "start_time": "2022-06-25T12:53:21.112Z"
   },
   {
    "duration": 107,
    "start_time": "2022-06-25T12:53:21.178Z"
   },
   {
    "duration": 5,
    "start_time": "2022-06-25T12:53:21.286Z"
   },
   {
    "duration": 10,
    "start_time": "2022-06-25T12:53:21.365Z"
   },
   {
    "duration": 8,
    "start_time": "2022-06-25T12:53:21.481Z"
   },
   {
    "duration": 3,
    "start_time": "2022-06-25T12:53:21.539Z"
   },
   {
    "duration": 33,
    "start_time": "2022-06-25T12:53:21.667Z"
   },
   {
    "duration": 6,
    "start_time": "2022-06-25T12:53:21.762Z"
   },
   {
    "duration": 114,
    "start_time": "2022-06-25T12:53:21.875Z"
   },
   {
    "duration": 5,
    "start_time": "2022-06-25T12:53:21.990Z"
   },
   {
    "duration": 11,
    "start_time": "2022-06-25T12:53:22.061Z"
   },
   {
    "duration": 9,
    "start_time": "2022-06-25T12:53:22.172Z"
   },
   {
    "duration": 7,
    "start_time": "2022-06-25T12:53:22.265Z"
   },
   {
    "duration": 12,
    "start_time": "2022-06-25T12:53:22.357Z"
   },
   {
    "duration": 56,
    "start_time": "2022-06-25T12:53:22.391Z"
   },
   {
    "duration": 8,
    "start_time": "2022-06-25T12:53:22.496Z"
   },
   {
    "duration": 110,
    "start_time": "2022-06-25T12:53:22.635Z"
   },
   {
    "duration": 5,
    "start_time": "2022-06-25T12:53:22.748Z"
   },
   {
    "duration": 10,
    "start_time": "2022-06-25T12:53:22.859Z"
   },
   {
    "duration": 8,
    "start_time": "2022-06-25T12:53:22.985Z"
   },
   {
    "duration": 5,
    "start_time": "2022-06-25T12:53:23.081Z"
   },
   {
    "duration": 10,
    "start_time": "2022-06-25T12:53:23.149Z"
   },
   {
    "duration": 14,
    "start_time": "2022-06-25T12:53:23.192Z"
   },
   {
    "duration": 6,
    "start_time": "2022-06-25T12:53:23.288Z"
   },
   {
    "duration": 93,
    "start_time": "2022-06-25T12:53:23.387Z"
   },
   {
    "duration": 5,
    "start_time": "2022-06-25T12:53:23.482Z"
   },
   {
    "duration": 11,
    "start_time": "2022-06-25T12:53:23.521Z"
   },
   {
    "duration": 7,
    "start_time": "2022-06-25T12:53:23.653Z"
   },
   {
    "duration": 5,
    "start_time": "2022-06-25T12:53:23.749Z"
   },
   {
    "duration": 7,
    "start_time": "2022-06-25T12:53:23.814Z"
   },
   {
    "duration": 65,
    "start_time": "2022-06-25T12:53:24.013Z"
   },
   {
    "duration": 7,
    "start_time": "2022-06-25T12:53:24.171Z"
   },
   {
    "duration": 117,
    "start_time": "2022-06-25T12:53:24.251Z"
   },
   {
    "duration": 5,
    "start_time": "2022-06-25T12:53:24.370Z"
   },
   {
    "duration": 11,
    "start_time": "2022-06-25T12:53:24.377Z"
   },
   {
    "duration": 9,
    "start_time": "2022-06-25T12:53:24.437Z"
   },
   {
    "duration": 6,
    "start_time": "2022-06-25T12:53:24.895Z"
   },
   {
    "duration": 0,
    "start_time": "2022-06-25T18:12:34.579Z"
   },
   {
    "duration": 0,
    "start_time": "2022-06-25T18:12:34.580Z"
   },
   {
    "duration": 0,
    "start_time": "2022-06-25T18:12:34.581Z"
   },
   {
    "duration": 0,
    "start_time": "2022-06-25T18:12:34.582Z"
   },
   {
    "duration": 0,
    "start_time": "2022-06-25T18:12:34.585Z"
   },
   {
    "duration": 0,
    "start_time": "2022-06-25T18:12:34.585Z"
   },
   {
    "duration": 0,
    "start_time": "2022-06-25T18:12:34.586Z"
   },
   {
    "duration": 0,
    "start_time": "2022-06-25T18:12:34.587Z"
   },
   {
    "duration": 0,
    "start_time": "2022-06-25T18:12:34.588Z"
   },
   {
    "duration": 0,
    "start_time": "2022-06-25T18:12:34.589Z"
   },
   {
    "duration": 0,
    "start_time": "2022-06-25T18:12:34.590Z"
   },
   {
    "duration": 0,
    "start_time": "2022-06-25T18:12:34.590Z"
   },
   {
    "duration": 0,
    "start_time": "2022-06-25T18:12:34.591Z"
   },
   {
    "duration": 0,
    "start_time": "2022-06-25T18:12:34.592Z"
   },
   {
    "duration": 0,
    "start_time": "2022-06-25T18:12:34.592Z"
   },
   {
    "duration": 0,
    "start_time": "2022-06-25T18:12:34.594Z"
   },
   {
    "duration": 0,
    "start_time": "2022-06-25T18:12:34.596Z"
   },
   {
    "duration": 0,
    "start_time": "2022-06-25T18:12:34.599Z"
   },
   {
    "duration": 0,
    "start_time": "2022-06-25T18:12:34.604Z"
   },
   {
    "duration": 0,
    "start_time": "2022-06-25T18:12:34.607Z"
   },
   {
    "duration": 0,
    "start_time": "2022-06-25T18:12:34.608Z"
   },
   {
    "duration": 0,
    "start_time": "2022-06-25T18:12:34.610Z"
   },
   {
    "duration": 0,
    "start_time": "2022-06-25T18:12:34.611Z"
   },
   {
    "duration": 0,
    "start_time": "2022-06-25T18:12:34.613Z"
   },
   {
    "duration": 0,
    "start_time": "2022-06-25T18:12:34.614Z"
   },
   {
    "duration": 0,
    "start_time": "2022-06-25T18:12:34.616Z"
   },
   {
    "duration": 0,
    "start_time": "2022-06-25T18:12:34.618Z"
   },
   {
    "duration": 0,
    "start_time": "2022-06-25T18:12:34.619Z"
   },
   {
    "duration": 0,
    "start_time": "2022-06-25T18:12:34.620Z"
   },
   {
    "duration": 0,
    "start_time": "2022-06-25T18:12:34.672Z"
   },
   {
    "duration": 0,
    "start_time": "2022-06-25T18:12:34.673Z"
   },
   {
    "duration": 0,
    "start_time": "2022-06-25T18:12:34.674Z"
   },
   {
    "duration": 0,
    "start_time": "2022-06-25T18:12:34.683Z"
   },
   {
    "duration": 0,
    "start_time": "2022-06-25T18:12:34.692Z"
   },
   {
    "duration": 0,
    "start_time": "2022-06-25T18:12:34.693Z"
   },
   {
    "duration": 0,
    "start_time": "2022-06-25T18:12:34.694Z"
   },
   {
    "duration": 0,
    "start_time": "2022-06-25T18:12:34.694Z"
   },
   {
    "duration": 0,
    "start_time": "2022-06-25T18:12:34.703Z"
   },
   {
    "duration": 0,
    "start_time": "2022-06-25T18:12:34.707Z"
   },
   {
    "duration": 0,
    "start_time": "2022-06-25T18:12:34.708Z"
   },
   {
    "duration": 0,
    "start_time": "2022-06-25T18:12:34.709Z"
   },
   {
    "duration": 0,
    "start_time": "2022-06-25T18:12:34.710Z"
   },
   {
    "duration": 0,
    "start_time": "2022-06-25T18:12:34.712Z"
   },
   {
    "duration": 0,
    "start_time": "2022-06-25T18:12:34.713Z"
   },
   {
    "duration": 0,
    "start_time": "2022-06-25T18:12:34.714Z"
   },
   {
    "duration": 0,
    "start_time": "2022-06-25T18:12:34.716Z"
   },
   {
    "duration": 0,
    "start_time": "2022-06-25T18:12:34.717Z"
   },
   {
    "duration": 0,
    "start_time": "2022-06-25T18:12:34.718Z"
   },
   {
    "duration": 0,
    "start_time": "2022-06-25T18:12:34.720Z"
   },
   {
    "duration": 0,
    "start_time": "2022-06-25T18:12:34.722Z"
   },
   {
    "duration": 4,
    "start_time": "2022-06-25T18:12:37.694Z"
   },
   {
    "duration": 57,
    "start_time": "2022-06-25T18:12:37.703Z"
   },
   {
    "duration": 33,
    "start_time": "2022-06-25T18:12:37.762Z"
   },
   {
    "duration": 12,
    "start_time": "2022-06-25T18:12:37.842Z"
   },
   {
    "duration": 14,
    "start_time": "2022-06-25T18:12:37.902Z"
   },
   {
    "duration": 24,
    "start_time": "2022-06-25T18:12:37.997Z"
   },
   {
    "duration": 17,
    "start_time": "2022-06-25T18:12:38.023Z"
   },
   {
    "duration": 16,
    "start_time": "2022-06-25T18:12:38.202Z"
   },
   {
    "duration": 9,
    "start_time": "2022-06-25T18:12:38.424Z"
   },
   {
    "duration": 27,
    "start_time": "2022-06-25T18:12:39.345Z"
   },
   {
    "duration": 45,
    "start_time": "2022-06-25T18:12:39.400Z"
   },
   {
    "duration": 38,
    "start_time": "2022-06-25T18:12:39.510Z"
   },
   {
    "duration": 9,
    "start_time": "2022-06-25T18:12:39.609Z"
   },
   {
    "duration": 127,
    "start_time": "2022-06-25T18:12:39.632Z"
   },
   {
    "duration": 8,
    "start_time": "2022-06-25T18:12:39.761Z"
   },
   {
    "duration": 12,
    "start_time": "2022-06-25T18:12:39.839Z"
   },
   {
    "duration": 9,
    "start_time": "2022-06-25T18:12:39.935Z"
   },
   {
    "duration": 4,
    "start_time": "2022-06-25T18:12:40.014Z"
   },
   {
    "duration": 46,
    "start_time": "2022-06-25T18:12:40.128Z"
   },
   {
    "duration": 7,
    "start_time": "2022-06-25T18:12:40.234Z"
   },
   {
    "duration": 130,
    "start_time": "2022-06-25T18:12:40.611Z"
   },
   {
    "duration": 5,
    "start_time": "2022-06-25T18:12:41.149Z"
   },
   {
    "duration": 12,
    "start_time": "2022-06-25T18:12:41.307Z"
   },
   {
    "duration": 9,
    "start_time": "2022-06-25T18:12:41.405Z"
   },
   {
    "duration": 5,
    "start_time": "2022-06-25T18:12:41.732Z"
   },
   {
    "duration": 13,
    "start_time": "2022-06-25T18:12:42.304Z"
   },
   {
    "duration": 69,
    "start_time": "2022-06-25T18:12:42.336Z"
   },
   {
    "duration": 6,
    "start_time": "2022-06-25T18:12:42.433Z"
   },
   {
    "duration": 150,
    "start_time": "2022-06-25T18:12:42.561Z"
   },
   {
    "duration": 5,
    "start_time": "2022-06-25T18:12:42.712Z"
   },
   {
    "duration": 11,
    "start_time": "2022-06-25T18:12:43.505Z"
   },
   {
    "duration": 10,
    "start_time": "2022-06-25T18:12:43.627Z"
   },
   {
    "duration": 4,
    "start_time": "2022-06-25T18:12:43.732Z"
   },
   {
    "duration": 12,
    "start_time": "2022-06-25T18:12:43.804Z"
   },
   {
    "duration": 13,
    "start_time": "2022-06-25T18:12:43.819Z"
   },
   {
    "duration": 7,
    "start_time": "2022-06-25T18:12:44.205Z"
   },
   {
    "duration": 157,
    "start_time": "2022-06-25T18:12:44.759Z"
   },
   {
    "duration": 6,
    "start_time": "2022-06-25T18:12:44.919Z"
   },
   {
    "duration": 14,
    "start_time": "2022-06-25T18:12:44.926Z"
   },
   {
    "duration": 9,
    "start_time": "2022-06-25T18:12:45.799Z"
   },
   {
    "duration": 4,
    "start_time": "2022-06-25T18:12:45.905Z"
   },
   {
    "duration": 13,
    "start_time": "2022-06-25T18:12:45.960Z"
   },
   {
    "duration": 86,
    "start_time": "2022-06-25T18:12:48.131Z"
   },
   {
    "duration": 7,
    "start_time": "2022-06-25T18:12:52.706Z"
   },
   {
    "duration": 126,
    "start_time": "2022-06-25T18:12:52.736Z"
   },
   {
    "duration": 9,
    "start_time": "2022-06-25T18:12:52.876Z"
   },
   {
    "duration": 20,
    "start_time": "2022-06-25T18:12:52.900Z"
   },
   {
    "duration": 8,
    "start_time": "2022-06-25T18:12:53.443Z"
   },
   {
    "duration": 9,
    "start_time": "2022-06-25T18:12:54.805Z"
   },
   {
    "duration": 20,
    "start_time": "2022-06-25T18:12:56.115Z"
   },
   {
    "duration": 0,
    "start_time": "2022-06-25T18:22:21.358Z"
   },
   {
    "duration": 0,
    "start_time": "2022-06-25T18:22:21.360Z"
   },
   {
    "duration": 5,
    "start_time": "2022-06-25T18:22:28.944Z"
   },
   {
    "duration": 77,
    "start_time": "2022-06-25T18:22:29.447Z"
   },
   {
    "duration": 20,
    "start_time": "2022-06-25T18:22:29.526Z"
   },
   {
    "duration": 12,
    "start_time": "2022-06-25T18:22:29.601Z"
   },
   {
    "duration": 13,
    "start_time": "2022-06-25T18:22:29.621Z"
   },
   {
    "duration": 20,
    "start_time": "2022-06-25T18:22:29.717Z"
   },
   {
    "duration": 15,
    "start_time": "2022-06-25T18:22:29.747Z"
   },
   {
    "duration": 16,
    "start_time": "2022-06-25T18:22:29.915Z"
   },
   {
    "duration": 8,
    "start_time": "2022-06-25T18:22:30.201Z"
   },
   {
    "duration": 19,
    "start_time": "2022-06-25T18:22:30.298Z"
   },
   {
    "duration": 32,
    "start_time": "2022-06-25T18:22:30.319Z"
   },
   {
    "duration": 33,
    "start_time": "2022-06-25T18:22:30.407Z"
   },
   {
    "duration": 6,
    "start_time": "2022-06-25T18:22:30.508Z"
   },
   {
    "duration": 117,
    "start_time": "2022-06-25T18:22:30.602Z"
   },
   {
    "duration": 4,
    "start_time": "2022-06-25T18:22:30.721Z"
   },
   {
    "duration": 10,
    "start_time": "2022-06-25T18:22:30.802Z"
   },
   {
    "duration": 7,
    "start_time": "2022-06-25T18:22:30.897Z"
   },
   {
    "duration": 4,
    "start_time": "2022-06-25T18:22:30.933Z"
   },
   {
    "duration": 38,
    "start_time": "2022-06-25T18:22:31.081Z"
   },
   {
    "duration": 15,
    "start_time": "2022-06-25T18:22:31.199Z"
   },
   {
    "duration": 121,
    "start_time": "2022-06-25T18:22:31.301Z"
   },
   {
    "duration": 5,
    "start_time": "2022-06-25T18:22:31.424Z"
   },
   {
    "duration": 12,
    "start_time": "2022-06-25T18:22:32.398Z"
   },
   {
    "duration": 7,
    "start_time": "2022-06-25T18:22:32.497Z"
   },
   {
    "duration": 5,
    "start_time": "2022-06-25T18:22:33.405Z"
   },
   {
    "duration": 13,
    "start_time": "2022-06-25T18:22:33.502Z"
   },
   {
    "duration": 115,
    "start_time": "2022-06-25T18:22:33.517Z"
   },
   {
    "duration": 14,
    "start_time": "2022-06-25T18:22:33.967Z"
   },
   {
    "duration": 149,
    "start_time": "2022-06-25T18:22:34.603Z"
   },
   {
    "duration": 5,
    "start_time": "2022-06-25T18:22:34.754Z"
   },
   {
    "duration": 10,
    "start_time": "2022-06-25T18:22:35.545Z"
   },
   {
    "duration": 10,
    "start_time": "2022-06-25T18:22:35.694Z"
   },
   {
    "duration": 5,
    "start_time": "2022-06-25T18:22:36.769Z"
   },
   {
    "duration": 11,
    "start_time": "2022-06-25T18:22:37.515Z"
   },
   {
    "duration": 20,
    "start_time": "2022-06-25T18:22:38.160Z"
   },
   {
    "duration": 9,
    "start_time": "2022-06-25T18:22:39.140Z"
   },
   {
    "duration": 105,
    "start_time": "2022-06-25T18:22:40.708Z"
   },
   {
    "duration": 5,
    "start_time": "2022-06-25T18:22:41.211Z"
   },
   {
    "duration": 13,
    "start_time": "2022-06-25T18:22:41.309Z"
   },
   {
    "duration": 8,
    "start_time": "2022-06-25T18:22:41.416Z"
   },
   {
    "duration": 5,
    "start_time": "2022-06-25T18:22:41.514Z"
   },
   {
    "duration": 8,
    "start_time": "2022-06-25T18:22:42.319Z"
   },
   {
    "duration": 84,
    "start_time": "2022-06-25T18:22:44.608Z"
   },
   {
    "duration": 8,
    "start_time": "2022-06-25T18:22:46.112Z"
   },
   {
    "duration": 131,
    "start_time": "2022-06-25T18:22:47.013Z"
   },
   {
    "duration": 6,
    "start_time": "2022-06-25T18:22:47.706Z"
   },
   {
    "duration": 19,
    "start_time": "2022-06-25T18:22:48.464Z"
   },
   {
    "duration": 10,
    "start_time": "2022-06-25T18:22:49.121Z"
   },
   {
    "duration": 8,
    "start_time": "2022-06-25T18:22:50.310Z"
   },
   {
    "duration": 48,
    "start_time": "2022-06-25T18:22:51.919Z"
   },
   {
    "duration": 0,
    "start_time": "2022-06-25T18:50:43.463Z"
   },
   {
    "duration": 0,
    "start_time": "2022-06-25T18:50:43.470Z"
   },
   {
    "duration": 0,
    "start_time": "2022-06-25T18:50:43.470Z"
   },
   {
    "duration": 0,
    "start_time": "2022-06-25T18:50:43.471Z"
   },
   {
    "duration": 0,
    "start_time": "2022-06-25T18:50:43.473Z"
   },
   {
    "duration": 0,
    "start_time": "2022-06-25T18:50:43.473Z"
   },
   {
    "duration": 0,
    "start_time": "2022-06-25T18:50:43.474Z"
   },
   {
    "duration": 0,
    "start_time": "2022-06-25T18:50:43.475Z"
   },
   {
    "duration": 0,
    "start_time": "2022-06-25T18:50:43.475Z"
   },
   {
    "duration": 0,
    "start_time": "2022-06-25T18:50:43.476Z"
   },
   {
    "duration": 0,
    "start_time": "2022-06-25T18:50:43.476Z"
   },
   {
    "duration": 0,
    "start_time": "2022-06-25T18:50:43.479Z"
   },
   {
    "duration": 0,
    "start_time": "2022-06-25T18:50:43.484Z"
   },
   {
    "duration": 0,
    "start_time": "2022-06-25T18:50:43.485Z"
   },
   {
    "duration": 0,
    "start_time": "2022-06-25T18:50:43.486Z"
   },
   {
    "duration": 0,
    "start_time": "2022-06-25T18:50:43.488Z"
   },
   {
    "duration": 0,
    "start_time": "2022-06-25T18:50:43.489Z"
   },
   {
    "duration": 0,
    "start_time": "2022-06-25T18:50:43.491Z"
   },
   {
    "duration": 0,
    "start_time": "2022-06-25T18:50:43.492Z"
   },
   {
    "duration": 0,
    "start_time": "2022-06-25T18:50:43.494Z"
   },
   {
    "duration": 1,
    "start_time": "2022-06-25T18:50:43.495Z"
   },
   {
    "duration": 0,
    "start_time": "2022-06-25T18:50:43.497Z"
   },
   {
    "duration": 0,
    "start_time": "2022-06-25T18:50:43.498Z"
   },
   {
    "duration": 0,
    "start_time": "2022-06-25T18:50:43.500Z"
   },
   {
    "duration": 0,
    "start_time": "2022-06-25T18:50:43.502Z"
   },
   {
    "duration": 0,
    "start_time": "2022-06-25T18:50:43.503Z"
   },
   {
    "duration": 0,
    "start_time": "2022-06-25T18:50:43.506Z"
   },
   {
    "duration": 0,
    "start_time": "2022-06-25T18:50:43.507Z"
   },
   {
    "duration": 1,
    "start_time": "2022-06-25T18:50:43.508Z"
   },
   {
    "duration": 0,
    "start_time": "2022-06-25T18:50:43.510Z"
   },
   {
    "duration": 1,
    "start_time": "2022-06-25T18:50:43.511Z"
   },
   {
    "duration": 0,
    "start_time": "2022-06-25T18:50:43.513Z"
   },
   {
    "duration": 0,
    "start_time": "2022-06-25T18:50:43.514Z"
   },
   {
    "duration": 0,
    "start_time": "2022-06-25T18:50:43.516Z"
   },
   {
    "duration": 0,
    "start_time": "2022-06-25T18:50:43.567Z"
   },
   {
    "duration": 0,
    "start_time": "2022-06-25T18:50:43.568Z"
   },
   {
    "duration": 0,
    "start_time": "2022-06-25T18:50:43.570Z"
   },
   {
    "duration": 0,
    "start_time": "2022-06-25T18:50:43.571Z"
   },
   {
    "duration": 0,
    "start_time": "2022-06-25T18:50:43.572Z"
   },
   {
    "duration": 0,
    "start_time": "2022-06-25T18:50:43.573Z"
   },
   {
    "duration": 0,
    "start_time": "2022-06-25T18:50:43.576Z"
   },
   {
    "duration": 0,
    "start_time": "2022-06-25T18:50:43.577Z"
   },
   {
    "duration": 0,
    "start_time": "2022-06-25T18:50:43.578Z"
   },
   {
    "duration": 0,
    "start_time": "2022-06-25T18:50:43.579Z"
   },
   {
    "duration": 0,
    "start_time": "2022-06-25T18:50:43.579Z"
   },
   {
    "duration": 4,
    "start_time": "2022-06-25T18:50:49.389Z"
   },
   {
    "duration": 57,
    "start_time": "2022-06-25T18:50:49.883Z"
   },
   {
    "duration": 21,
    "start_time": "2022-06-25T18:50:49.942Z"
   },
   {
    "duration": 12,
    "start_time": "2022-06-25T18:50:50.019Z"
   },
   {
    "duration": 12,
    "start_time": "2022-06-25T18:50:50.053Z"
   },
   {
    "duration": 22,
    "start_time": "2022-06-25T18:50:50.142Z"
   },
   {
    "duration": 18,
    "start_time": "2022-06-25T18:50:50.181Z"
   },
   {
    "duration": 27,
    "start_time": "2022-06-25T18:50:50.365Z"
   },
   {
    "duration": 7,
    "start_time": "2022-06-25T18:50:50.610Z"
   },
   {
    "duration": 19,
    "start_time": "2022-06-25T18:50:50.713Z"
   },
   {
    "duration": 34,
    "start_time": "2022-06-25T18:50:50.744Z"
   },
   {
    "duration": 43,
    "start_time": "2022-06-25T18:50:50.841Z"
   },
   {
    "duration": 7,
    "start_time": "2022-06-25T18:50:50.938Z"
   },
   {
    "duration": 115,
    "start_time": "2022-06-25T18:50:51.003Z"
   },
   {
    "duration": 6,
    "start_time": "2022-06-25T18:50:51.628Z"
   },
   {
    "duration": 11,
    "start_time": "2022-06-25T18:50:52.205Z"
   },
   {
    "duration": 7,
    "start_time": "2022-06-25T18:50:52.301Z"
   },
   {
    "duration": 9,
    "start_time": "2022-06-25T18:50:52.363Z"
   },
   {
    "duration": 36,
    "start_time": "2022-06-25T18:50:53.370Z"
   },
   {
    "duration": 6,
    "start_time": "2022-06-25T18:50:53.460Z"
   },
   {
    "duration": 113,
    "start_time": "2022-06-25T18:50:53.595Z"
   },
   {
    "duration": 5,
    "start_time": "2022-06-25T18:50:54.012Z"
   },
   {
    "duration": 14,
    "start_time": "2022-06-25T18:50:54.609Z"
   },
   {
    "duration": 7,
    "start_time": "2022-06-25T18:50:54.717Z"
   },
   {
    "duration": 7,
    "start_time": "2022-06-25T18:50:55.679Z"
   },
   {
    "duration": 23,
    "start_time": "2022-06-25T18:50:55.763Z"
   },
   {
    "duration": 61,
    "start_time": "2022-06-25T18:50:55.811Z"
   },
   {
    "duration": 7,
    "start_time": "2022-06-25T18:50:56.660Z"
   },
   {
    "duration": 106,
    "start_time": "2022-06-25T18:50:57.839Z"
   },
   {
    "duration": 6,
    "start_time": "2022-06-25T18:50:58.484Z"
   },
   {
    "duration": 12,
    "start_time": "2022-06-25T18:50:59.965Z"
   },
   {
    "duration": 7,
    "start_time": "2022-06-25T18:51:01.718Z"
   },
   {
    "duration": 6,
    "start_time": "2022-06-25T18:51:02.780Z"
   },
   {
    "duration": 10,
    "start_time": "2022-06-25T18:51:03.479Z"
   },
   {
    "duration": 20,
    "start_time": "2022-06-25T18:51:04.157Z"
   },
   {
    "duration": 6,
    "start_time": "2022-06-25T18:51:04.919Z"
   },
   {
    "duration": 108,
    "start_time": "2022-06-25T18:51:06.031Z"
   },
   {
    "duration": 7,
    "start_time": "2022-06-25T18:51:06.530Z"
   },
   {
    "duration": 12,
    "start_time": "2022-06-25T18:51:06.615Z"
   },
   {
    "duration": 11,
    "start_time": "2022-06-25T18:51:07.500Z"
   },
   {
    "duration": 5,
    "start_time": "2022-06-25T18:51:08.524Z"
   },
   {
    "duration": 11,
    "start_time": "2022-06-25T18:51:09.180Z"
   },
   {
    "duration": 72,
    "start_time": "2022-06-25T18:51:12.342Z"
   },
   {
    "duration": 7,
    "start_time": "2022-06-25T18:51:17.280Z"
   },
   {
    "duration": 123,
    "start_time": "2022-06-25T18:51:18.303Z"
   },
   {
    "duration": 5,
    "start_time": "2022-06-25T18:51:19.211Z"
   },
   {
    "duration": 16,
    "start_time": "2022-06-25T18:51:19.279Z"
   },
   {
    "duration": 10,
    "start_time": "2022-06-25T18:51:19.339Z"
   },
   {
    "duration": 11,
    "start_time": "2022-06-25T18:51:19.449Z"
   },
   {
    "duration": 21727,
    "start_time": "2022-06-25T18:51:20.501Z"
   },
   {
    "duration": 0,
    "start_time": "2022-06-25T18:52:17.598Z"
   },
   {
    "duration": 0,
    "start_time": "2022-06-25T18:52:17.599Z"
   },
   {
    "duration": 0,
    "start_time": "2022-06-25T18:52:17.601Z"
   },
   {
    "duration": 0,
    "start_time": "2022-06-25T18:52:17.603Z"
   },
   {
    "duration": 0,
    "start_time": "2022-06-25T18:52:17.604Z"
   },
   {
    "duration": 0,
    "start_time": "2022-06-25T18:52:17.605Z"
   },
   {
    "duration": 0,
    "start_time": "2022-06-25T18:52:17.606Z"
   },
   {
    "duration": 0,
    "start_time": "2022-06-25T18:52:17.607Z"
   },
   {
    "duration": 0,
    "start_time": "2022-06-25T18:52:17.608Z"
   },
   {
    "duration": 0,
    "start_time": "2022-06-25T18:52:17.611Z"
   },
   {
    "duration": 0,
    "start_time": "2022-06-25T18:52:17.612Z"
   },
   {
    "duration": 0,
    "start_time": "2022-06-25T18:52:17.614Z"
   },
   {
    "duration": 0,
    "start_time": "2022-06-25T18:52:17.615Z"
   },
   {
    "duration": 0,
    "start_time": "2022-06-25T18:52:17.616Z"
   },
   {
    "duration": 0,
    "start_time": "2022-06-25T18:52:17.617Z"
   },
   {
    "duration": 0,
    "start_time": "2022-06-25T18:52:17.618Z"
   },
   {
    "duration": 0,
    "start_time": "2022-06-25T18:52:17.619Z"
   },
   {
    "duration": 0,
    "start_time": "2022-06-25T18:52:17.621Z"
   },
   {
    "duration": 6,
    "start_time": "2022-06-25T18:52:21.380Z"
   },
   {
    "duration": 64,
    "start_time": "2022-06-25T18:52:21.867Z"
   },
   {
    "duration": 21,
    "start_time": "2022-06-25T18:52:21.933Z"
   },
   {
    "duration": 13,
    "start_time": "2022-06-25T18:52:22.005Z"
   },
   {
    "duration": 12,
    "start_time": "2022-06-25T18:52:22.031Z"
   },
   {
    "duration": 21,
    "start_time": "2022-06-25T18:52:22.137Z"
   },
   {
    "duration": 25,
    "start_time": "2022-06-25T18:52:22.166Z"
   },
   {
    "duration": 15,
    "start_time": "2022-06-25T18:52:22.337Z"
   },
   {
    "duration": 8,
    "start_time": "2022-06-25T18:52:22.599Z"
   },
   {
    "duration": 20,
    "start_time": "2022-06-25T18:52:22.693Z"
   },
   {
    "duration": 37,
    "start_time": "2022-06-25T18:52:22.726Z"
   },
   {
    "duration": 47,
    "start_time": "2022-06-25T18:52:22.834Z"
   },
   {
    "duration": 6,
    "start_time": "2022-06-25T18:52:22.929Z"
   },
   {
    "duration": 131,
    "start_time": "2022-06-25T18:52:22.991Z"
   },
   {
    "duration": 5,
    "start_time": "2022-06-25T18:52:23.124Z"
   },
   {
    "duration": 12,
    "start_time": "2022-06-25T18:52:23.197Z"
   },
   {
    "duration": 8,
    "start_time": "2022-06-25T18:52:23.295Z"
   },
   {
    "duration": 4,
    "start_time": "2022-06-25T18:52:23.357Z"
   },
   {
    "duration": 39,
    "start_time": "2022-06-25T18:52:23.483Z"
   },
   {
    "duration": 8,
    "start_time": "2022-06-25T18:52:23.591Z"
   },
   {
    "duration": 127,
    "start_time": "2022-06-25T18:52:23.686Z"
   },
   {
    "duration": 6,
    "start_time": "2022-06-25T18:52:23.815Z"
   },
   {
    "duration": 23,
    "start_time": "2022-06-25T18:52:24.125Z"
   },
   {
    "duration": 10,
    "start_time": "2022-06-25T18:52:24.684Z"
   },
   {
    "duration": 4,
    "start_time": "2022-06-25T18:52:24.795Z"
   },
   {
    "duration": 13,
    "start_time": "2022-06-25T18:52:25.101Z"
   },
   {
    "duration": 69,
    "start_time": "2022-06-25T18:52:25.607Z"
   },
   {
    "duration": 6,
    "start_time": "2022-06-25T18:52:25.713Z"
   },
   {
    "duration": 114,
    "start_time": "2022-06-25T18:52:25.843Z"
   },
   {
    "duration": 14,
    "start_time": "2022-06-25T18:52:25.967Z"
   },
   {
    "duration": 12,
    "start_time": "2022-06-25T18:52:26.087Z"
   },
   {
    "duration": 10,
    "start_time": "2022-06-25T18:52:26.203Z"
   },
   {
    "duration": 6,
    "start_time": "2022-06-25T18:52:26.297Z"
   },
   {
    "duration": 13,
    "start_time": "2022-06-25T18:52:26.365Z"
   },
   {
    "duration": 13,
    "start_time": "2022-06-25T18:52:26.410Z"
   },
   {
    "duration": 7,
    "start_time": "2022-06-25T18:52:27.284Z"
   },
   {
    "duration": 102,
    "start_time": "2022-06-25T18:52:27.384Z"
   },
   {
    "duration": 6,
    "start_time": "2022-06-25T18:52:27.488Z"
   },
   {
    "duration": 11,
    "start_time": "2022-06-25T18:52:27.498Z"
   },
   {
    "duration": 7,
    "start_time": "2022-06-25T18:52:27.643Z"
   },
   {
    "duration": 4,
    "start_time": "2022-06-25T18:52:27.735Z"
   },
   {
    "duration": 8,
    "start_time": "2022-06-25T18:52:27.797Z"
   },
   {
    "duration": 70,
    "start_time": "2022-06-25T18:52:28.004Z"
   },
   {
    "duration": 7,
    "start_time": "2022-06-25T18:52:29.459Z"
   },
   {
    "duration": 124,
    "start_time": "2022-06-25T18:52:29.523Z"
   },
   {
    "duration": 6,
    "start_time": "2022-06-25T18:52:29.649Z"
   },
   {
    "duration": 28,
    "start_time": "2022-06-25T18:52:29.656Z"
   },
   {
    "duration": 8,
    "start_time": "2022-06-25T18:52:29.713Z"
   },
   {
    "duration": 7,
    "start_time": "2022-06-25T18:52:29.825Z"
   },
   {
    "duration": 428186,
    "start_time": "2022-06-25T18:52:30.647Z"
   },
   {
    "duration": 101,
    "start_time": "2022-06-25T18:59:38.837Z"
   },
   {
    "duration": 0,
    "start_time": "2022-06-25T19:01:08.099Z"
   },
   {
    "duration": 1,
    "start_time": "2022-06-25T19:01:08.100Z"
   },
   {
    "duration": 0,
    "start_time": "2022-06-25T19:01:08.102Z"
   },
   {
    "duration": 0,
    "start_time": "2022-06-25T19:01:08.103Z"
   },
   {
    "duration": 0,
    "start_time": "2022-06-25T19:01:08.104Z"
   },
   {
    "duration": 0,
    "start_time": "2022-06-25T19:01:08.107Z"
   },
   {
    "duration": 0,
    "start_time": "2022-06-25T19:01:08.108Z"
   },
   {
    "duration": 0,
    "start_time": "2022-06-25T19:01:08.109Z"
   },
   {
    "duration": 0,
    "start_time": "2022-06-25T19:01:08.110Z"
   },
   {
    "duration": 0,
    "start_time": "2022-06-25T19:01:08.112Z"
   },
   {
    "duration": 0,
    "start_time": "2022-06-25T19:01:08.113Z"
   },
   {
    "duration": 0,
    "start_time": "2022-06-25T19:01:08.115Z"
   },
   {
    "duration": 0,
    "start_time": "2022-06-25T19:01:08.117Z"
   },
   {
    "duration": 0,
    "start_time": "2022-06-25T19:01:08.118Z"
   },
   {
    "duration": 0,
    "start_time": "2022-06-25T19:01:08.119Z"
   },
   {
    "duration": 0,
    "start_time": "2022-06-25T19:01:08.120Z"
   },
   {
    "duration": 0,
    "start_time": "2022-06-25T19:01:08.121Z"
   },
   {
    "duration": 0,
    "start_time": "2022-06-25T19:01:08.122Z"
   },
   {
    "duration": 0,
    "start_time": "2022-06-25T19:01:08.123Z"
   },
   {
    "duration": 1,
    "start_time": "2022-06-25T19:01:08.124Z"
   },
   {
    "duration": 0,
    "start_time": "2022-06-25T19:01:08.167Z"
   },
   {
    "duration": 0,
    "start_time": "2022-06-25T19:01:08.169Z"
   },
   {
    "duration": 0,
    "start_time": "2022-06-25T19:01:08.171Z"
   },
   {
    "duration": 0,
    "start_time": "2022-06-25T19:01:08.172Z"
   },
   {
    "duration": 0,
    "start_time": "2022-06-25T19:01:08.173Z"
   },
   {
    "duration": 0,
    "start_time": "2022-06-25T19:01:08.174Z"
   },
   {
    "duration": 0,
    "start_time": "2022-06-25T19:01:08.175Z"
   },
   {
    "duration": 1,
    "start_time": "2022-06-25T19:01:08.176Z"
   },
   {
    "duration": 0,
    "start_time": "2022-06-25T19:01:08.178Z"
   },
   {
    "duration": 0,
    "start_time": "2022-06-25T19:01:08.179Z"
   },
   {
    "duration": 0,
    "start_time": "2022-06-25T19:01:08.180Z"
   },
   {
    "duration": 0,
    "start_time": "2022-06-25T19:01:08.181Z"
   },
   {
    "duration": 0,
    "start_time": "2022-06-25T19:01:08.182Z"
   },
   {
    "duration": 0,
    "start_time": "2022-06-25T19:01:08.184Z"
   },
   {
    "duration": 0,
    "start_time": "2022-06-25T19:01:08.185Z"
   },
   {
    "duration": 0,
    "start_time": "2022-06-25T19:01:08.186Z"
   },
   {
    "duration": 1,
    "start_time": "2022-06-25T19:01:08.187Z"
   },
   {
    "duration": 0,
    "start_time": "2022-06-25T19:01:08.189Z"
   },
   {
    "duration": 0,
    "start_time": "2022-06-25T19:01:08.190Z"
   },
   {
    "duration": 0,
    "start_time": "2022-06-25T19:01:08.192Z"
   },
   {
    "duration": 0,
    "start_time": "2022-06-25T19:01:08.194Z"
   },
   {
    "duration": 0,
    "start_time": "2022-06-25T19:01:08.195Z"
   },
   {
    "duration": 0,
    "start_time": "2022-06-25T19:01:08.196Z"
   },
   {
    "duration": 0,
    "start_time": "2022-06-25T19:01:08.197Z"
   },
   {
    "duration": 0,
    "start_time": "2022-06-25T19:01:08.198Z"
   },
   {
    "duration": 0,
    "start_time": "2022-06-25T19:01:08.199Z"
   },
   {
    "duration": 0,
    "start_time": "2022-06-25T19:01:08.200Z"
   },
   {
    "duration": 0,
    "start_time": "2022-06-25T19:01:08.201Z"
   },
   {
    "duration": 0,
    "start_time": "2022-06-25T19:01:08.202Z"
   },
   {
    "duration": 0,
    "start_time": "2022-06-25T19:01:08.203Z"
   },
   {
    "duration": 6,
    "start_time": "2022-06-25T19:01:24.704Z"
   },
   {
    "duration": 64,
    "start_time": "2022-06-25T19:01:25.188Z"
   },
   {
    "duration": 32,
    "start_time": "2022-06-25T19:01:25.254Z"
   },
   {
    "duration": 18,
    "start_time": "2022-06-25T19:01:25.328Z"
   },
   {
    "duration": 19,
    "start_time": "2022-06-25T19:01:25.362Z"
   },
   {
    "duration": 31,
    "start_time": "2022-06-25T19:01:25.454Z"
   },
   {
    "duration": 23,
    "start_time": "2022-06-25T19:01:25.489Z"
   },
   {
    "duration": 21,
    "start_time": "2022-06-25T19:01:25.661Z"
   },
   {
    "duration": 11,
    "start_time": "2022-06-25T19:01:25.926Z"
   },
   {
    "duration": 28,
    "start_time": "2022-06-25T19:01:26.020Z"
   },
   {
    "duration": 46,
    "start_time": "2022-06-25T19:01:26.052Z"
   },
   {
    "duration": 36,
    "start_time": "2022-06-25T19:01:26.146Z"
   },
   {
    "duration": 7,
    "start_time": "2022-06-25T19:01:26.244Z"
   },
   {
    "duration": 156,
    "start_time": "2022-06-25T19:01:26.320Z"
   },
   {
    "duration": 7,
    "start_time": "2022-06-25T19:01:26.479Z"
   },
   {
    "duration": 14,
    "start_time": "2022-06-25T19:01:26.512Z"
   },
   {
    "duration": 11,
    "start_time": "2022-06-25T19:01:26.610Z"
   },
   {
    "duration": 5,
    "start_time": "2022-06-25T19:01:26.673Z"
   },
   {
    "duration": 51,
    "start_time": "2022-06-25T19:01:26.811Z"
   },
   {
    "duration": 8,
    "start_time": "2022-06-25T19:01:26.904Z"
   },
   {
    "duration": 111,
    "start_time": "2022-06-25T19:01:26.998Z"
   },
   {
    "duration": 6,
    "start_time": "2022-06-25T19:01:27.110Z"
   },
   {
    "duration": 16,
    "start_time": "2022-06-25T19:01:27.202Z"
   },
   {
    "duration": 10,
    "start_time": "2022-06-25T19:01:27.298Z"
   },
   {
    "duration": 5,
    "start_time": "2022-06-25T19:01:27.408Z"
   },
   {
    "duration": 17,
    "start_time": "2022-06-25T19:01:27.506Z"
   },
   {
    "duration": 78,
    "start_time": "2022-06-25T19:01:27.535Z"
   },
   {
    "duration": 9,
    "start_time": "2022-06-25T19:01:27.630Z"
   },
   {
    "duration": 148,
    "start_time": "2022-06-25T19:01:27.772Z"
   },
   {
    "duration": 7,
    "start_time": "2022-06-25T19:01:27.922Z"
   },
   {
    "duration": 11,
    "start_time": "2022-06-25T19:01:28.001Z"
   },
   {
    "duration": 10,
    "start_time": "2022-06-25T19:01:28.124Z"
   },
   {
    "duration": 5,
    "start_time": "2022-06-25T19:01:28.232Z"
   },
   {
    "duration": 14,
    "start_time": "2022-06-25T19:01:28.298Z"
   },
   {
    "duration": 14,
    "start_time": "2022-06-25T19:01:28.326Z"
   },
   {
    "duration": 8,
    "start_time": "2022-06-25T19:01:28.422Z"
   },
   {
    "duration": 137,
    "start_time": "2022-06-25T19:01:28.537Z"
   },
   {
    "duration": 6,
    "start_time": "2022-06-25T19:01:28.677Z"
   },
   {
    "duration": 26,
    "start_time": "2022-06-25T19:01:28.685Z"
   },
   {
    "duration": 10,
    "start_time": "2022-06-25T19:01:28.785Z"
   },
   {
    "duration": 5,
    "start_time": "2022-06-25T19:01:28.923Z"
   },
   {
    "duration": 9,
    "start_time": "2022-06-25T19:01:28.959Z"
   },
   {
    "duration": 103,
    "start_time": "2022-06-25T19:01:29.156Z"
   },
   {
    "duration": 9,
    "start_time": "2022-06-25T19:01:29.321Z"
   },
   {
    "duration": 121,
    "start_time": "2022-06-25T19:01:29.382Z"
   },
   {
    "duration": 7,
    "start_time": "2022-06-25T19:01:30.552Z"
   },
   {
    "duration": 14,
    "start_time": "2022-06-25T19:01:31.337Z"
   },
   {
    "duration": 10,
    "start_time": "2022-06-25T19:01:38.440Z"
   },
   {
    "duration": 9,
    "start_time": "2022-06-25T19:01:39.176Z"
   },
   {
    "duration": 13,
    "start_time": "2022-06-25T19:01:40.745Z"
   },
   {
    "duration": 23,
    "start_time": "2022-06-25T19:01:49.756Z"
   },
   {
    "duration": 19792,
    "start_time": "2022-06-25T19:02:09.497Z"
   },
   {
    "duration": 752794,
    "start_time": "2022-06-25T19:02:40.328Z"
   },
   {
    "duration": 27,
    "start_time": "2022-06-25T19:38:19.858Z"
   },
   {
    "duration": 0,
    "start_time": "2022-06-25T19:41:06.877Z"
   },
   {
    "duration": 4,
    "start_time": "2022-06-25T19:41:11.710Z"
   },
   {
    "duration": 58,
    "start_time": "2022-06-25T19:41:12.209Z"
   },
   {
    "duration": 21,
    "start_time": "2022-06-25T19:41:12.269Z"
   },
   {
    "duration": 12,
    "start_time": "2022-06-25T19:41:12.351Z"
   },
   {
    "duration": 13,
    "start_time": "2022-06-25T19:41:12.383Z"
   },
   {
    "duration": 23,
    "start_time": "2022-06-25T19:41:12.479Z"
   },
   {
    "duration": 18,
    "start_time": "2022-06-25T19:41:12.511Z"
   },
   {
    "duration": 17,
    "start_time": "2022-06-25T19:41:12.686Z"
   },
   {
    "duration": 10,
    "start_time": "2022-06-25T19:41:12.939Z"
   },
   {
    "duration": 22,
    "start_time": "2022-06-25T19:41:13.052Z"
   },
   {
    "duration": 34,
    "start_time": "2022-06-25T19:41:13.079Z"
   },
   {
    "duration": 36,
    "start_time": "2022-06-25T19:41:13.173Z"
   },
   {
    "duration": 8,
    "start_time": "2022-06-25T19:41:13.271Z"
   },
   {
    "duration": 269,
    "start_time": "2022-06-25T19:41:13.333Z"
   },
   {
    "duration": 6,
    "start_time": "2022-06-25T19:41:13.605Z"
   },
   {
    "duration": 19,
    "start_time": "2022-06-25T19:41:13.613Z"
   },
   {
    "duration": 33,
    "start_time": "2022-06-25T19:41:13.635Z"
   },
   {
    "duration": 5,
    "start_time": "2022-06-25T19:41:13.697Z"
   },
   {
    "duration": 37,
    "start_time": "2022-06-25T19:41:13.842Z"
   },
   {
    "duration": 7,
    "start_time": "2022-06-25T19:41:13.933Z"
   },
   {
    "duration": 117,
    "start_time": "2022-06-25T19:41:14.025Z"
   },
   {
    "duration": 5,
    "start_time": "2022-06-25T19:41:14.144Z"
   },
   {
    "duration": 12,
    "start_time": "2022-06-25T19:41:14.232Z"
   },
   {
    "duration": 8,
    "start_time": "2022-06-25T19:41:14.325Z"
   },
   {
    "duration": 4,
    "start_time": "2022-06-25T19:41:14.438Z"
   },
   {
    "duration": 14,
    "start_time": "2022-06-25T19:41:14.531Z"
   },
   {
    "duration": 60,
    "start_time": "2022-06-25T19:41:14.561Z"
   },
   {
    "duration": 7,
    "start_time": "2022-06-25T19:41:14.657Z"
   },
   {
    "duration": 109,
    "start_time": "2022-06-25T19:41:15.644Z"
   },
   {
    "duration": 5,
    "start_time": "2022-06-25T19:41:16.221Z"
   },
   {
    "duration": 12,
    "start_time": "2022-06-25T19:41:17.065Z"
   },
   {
    "duration": 8,
    "start_time": "2022-06-25T19:41:17.192Z"
   },
   {
    "duration": 5,
    "start_time": "2022-06-25T19:41:17.302Z"
   },
   {
    "duration": 11,
    "start_time": "2022-06-25T19:41:17.370Z"
   },
   {
    "duration": 14,
    "start_time": "2022-06-25T19:41:17.399Z"
   },
   {
    "duration": 7,
    "start_time": "2022-06-25T19:41:17.491Z"
   },
   {
    "duration": 116,
    "start_time": "2022-06-25T19:41:17.965Z"
   },
   {
    "duration": 5,
    "start_time": "2022-06-25T19:41:18.504Z"
   },
   {
    "duration": 13,
    "start_time": "2022-06-25T19:41:18.570Z"
   },
   {
    "duration": 9,
    "start_time": "2022-06-25T19:41:18.709Z"
   },
   {
    "duration": 5,
    "start_time": "2022-06-25T19:41:18.801Z"
   },
   {
    "duration": 9,
    "start_time": "2022-06-25T19:41:18.866Z"
   },
   {
    "duration": 90,
    "start_time": "2022-06-25T19:41:19.077Z"
   },
   {
    "duration": 7,
    "start_time": "2022-06-25T19:41:20.044Z"
   },
   {
    "duration": 122,
    "start_time": "2022-06-25T19:41:20.588Z"
   },
   {
    "duration": 6,
    "start_time": "2022-06-25T19:41:20.987Z"
   },
   {
    "duration": 12,
    "start_time": "2022-06-25T19:41:21.373Z"
   },
   {
    "duration": 9,
    "start_time": "2022-06-25T19:41:22.073Z"
   },
   {
    "duration": 8,
    "start_time": "2022-06-25T19:41:22.168Z"
   },
   {
    "duration": 18544,
    "start_time": "2022-06-25T19:41:23.180Z"
   },
   {
    "duration": 19644,
    "start_time": "2022-06-25T19:45:00.125Z"
   },
   {
    "duration": 199510,
    "start_time": "2022-06-25T20:06:09.320Z"
   },
   {
    "duration": 5,
    "start_time": "2022-06-25T20:09:31.448Z"
   },
   {
    "duration": 63,
    "start_time": "2022-06-25T20:09:31.479Z"
   },
   {
    "duration": 21,
    "start_time": "2022-06-25T20:09:31.544Z"
   },
   {
    "duration": 13,
    "start_time": "2022-06-25T20:09:31.606Z"
   },
   {
    "duration": 12,
    "start_time": "2022-06-25T20:09:31.638Z"
   },
   {
    "duration": 20,
    "start_time": "2022-06-25T20:09:31.748Z"
   },
   {
    "duration": 24,
    "start_time": "2022-06-25T20:09:31.775Z"
   },
   {
    "duration": 15,
    "start_time": "2022-06-25T20:09:34.437Z"
   },
   {
    "duration": 7,
    "start_time": "2022-06-25T20:09:34.706Z"
   },
   {
    "duration": 18,
    "start_time": "2022-06-25T20:09:34.794Z"
   },
   {
    "duration": 25,
    "start_time": "2022-06-25T20:09:34.825Z"
   },
   {
    "duration": 36,
    "start_time": "2022-06-25T20:09:34.920Z"
   },
   {
    "duration": 7,
    "start_time": "2022-06-25T20:09:35.028Z"
   },
   {
    "duration": 108,
    "start_time": "2022-06-25T20:09:35.096Z"
   },
   {
    "duration": 5,
    "start_time": "2022-06-25T20:09:35.206Z"
   },
   {
    "duration": 13,
    "start_time": "2022-06-25T20:09:35.292Z"
   },
   {
    "duration": 9,
    "start_time": "2022-06-25T20:09:35.388Z"
   },
   {
    "duration": 4,
    "start_time": "2022-06-25T20:09:35.452Z"
   },
   {
    "duration": 39,
    "start_time": "2022-06-25T20:09:35.594Z"
   },
   {
    "duration": 6,
    "start_time": "2022-06-25T20:09:35.686Z"
   },
   {
    "duration": 108,
    "start_time": "2022-06-25T20:09:35.780Z"
   },
   {
    "duration": 7,
    "start_time": "2022-06-25T20:09:35.890Z"
   },
   {
    "duration": 12,
    "start_time": "2022-06-25T20:09:36.744Z"
   },
   {
    "duration": 9,
    "start_time": "2022-06-25T20:09:36.838Z"
   },
   {
    "duration": 4,
    "start_time": "2022-06-25T20:09:36.934Z"
   },
   {
    "duration": 13,
    "start_time": "2022-06-25T20:09:37.030Z"
   },
   {
    "duration": 53,
    "start_time": "2022-06-25T20:09:37.064Z"
   },
   {
    "duration": 6,
    "start_time": "2022-06-25T20:09:37.170Z"
   },
   {
    "duration": 114,
    "start_time": "2022-06-25T20:09:37.298Z"
   },
   {
    "duration": 5,
    "start_time": "2022-06-25T20:09:37.415Z"
   },
   {
    "duration": 13,
    "start_time": "2022-06-25T20:09:38.995Z"
   },
   {
    "duration": 7,
    "start_time": "2022-06-25T20:09:39.120Z"
   },
   {
    "duration": 4,
    "start_time": "2022-06-25T20:09:40.076Z"
   },
   {
    "duration": 10,
    "start_time": "2022-06-25T20:09:40.140Z"
   },
   {
    "duration": 13,
    "start_time": "2022-06-25T20:09:40.171Z"
   },
   {
    "duration": 7,
    "start_time": "2022-06-25T20:09:40.548Z"
   },
   {
    "duration": 91,
    "start_time": "2022-06-25T20:09:41.126Z"
   },
   {
    "duration": 5,
    "start_time": "2022-06-25T20:09:41.219Z"
   },
   {
    "duration": 12,
    "start_time": "2022-06-25T20:09:41.250Z"
   },
   {
    "duration": 7,
    "start_time": "2022-06-25T20:09:42.564Z"
   },
   {
    "duration": 5,
    "start_time": "2022-06-25T20:09:43.373Z"
   },
   {
    "duration": 8,
    "start_time": "2022-06-25T20:09:43.924Z"
   },
   {
    "duration": 67,
    "start_time": "2022-06-25T20:09:45.992Z"
   },
   {
    "duration": 8,
    "start_time": "2022-06-25T20:09:49.474Z"
   },
   {
    "duration": 118,
    "start_time": "2022-06-25T20:09:49.538Z"
   },
   {
    "duration": 11,
    "start_time": "2022-06-25T20:09:49.658Z"
   },
   {
    "duration": 10,
    "start_time": "2022-06-25T20:09:49.675Z"
   },
   {
    "duration": 8,
    "start_time": "2022-06-25T20:09:49.740Z"
   },
   {
    "duration": 7,
    "start_time": "2022-06-25T20:09:50.802Z"
   },
   {
    "duration": 0,
    "start_time": "2022-06-25T20:16:59.844Z"
   },
   {
    "duration": 5,
    "start_time": "2022-06-25T20:17:06.470Z"
   },
   {
    "duration": 57,
    "start_time": "2022-06-25T20:17:06.498Z"
   },
   {
    "duration": 22,
    "start_time": "2022-06-25T20:17:06.557Z"
   },
   {
    "duration": 13,
    "start_time": "2022-06-25T20:17:06.625Z"
   },
   {
    "duration": 14,
    "start_time": "2022-06-25T20:17:06.666Z"
   },
   {
    "duration": 24,
    "start_time": "2022-06-25T20:17:06.754Z"
   },
   {
    "duration": 17,
    "start_time": "2022-06-25T20:17:06.785Z"
   },
   {
    "duration": 17,
    "start_time": "2022-06-25T20:17:06.959Z"
   },
   {
    "duration": 8,
    "start_time": "2022-06-25T20:17:07.222Z"
   },
   {
    "duration": 22,
    "start_time": "2022-06-25T20:17:07.318Z"
   },
   {
    "duration": 31,
    "start_time": "2022-06-25T20:17:07.349Z"
   },
   {
    "duration": 40,
    "start_time": "2022-06-25T20:17:07.444Z"
   },
   {
    "duration": 8,
    "start_time": "2022-06-25T20:17:07.554Z"
   },
   {
    "duration": 124,
    "start_time": "2022-06-25T20:17:07.618Z"
   },
   {
    "duration": 6,
    "start_time": "2022-06-25T20:17:07.744Z"
   },
   {
    "duration": 12,
    "start_time": "2022-06-25T20:17:07.812Z"
   },
   {
    "duration": 8,
    "start_time": "2022-06-25T20:17:07.918Z"
   },
   {
    "duration": 5,
    "start_time": "2022-06-25T20:17:07.990Z"
   },
   {
    "duration": 39,
    "start_time": "2022-06-25T20:17:08.106Z"
   },
   {
    "duration": 6,
    "start_time": "2022-06-25T20:17:08.216Z"
   },
   {
    "duration": 126,
    "start_time": "2022-06-25T20:17:08.310Z"
   },
   {
    "duration": 6,
    "start_time": "2022-06-25T20:17:08.438Z"
   },
   {
    "duration": 12,
    "start_time": "2022-06-25T20:17:08.503Z"
   },
   {
    "duration": 11,
    "start_time": "2022-06-25T20:17:08.613Z"
   },
   {
    "duration": 5,
    "start_time": "2022-06-25T20:17:08.704Z"
   },
   {
    "duration": 17,
    "start_time": "2022-06-25T20:17:08.801Z"
   },
   {
    "duration": 81,
    "start_time": "2022-06-25T20:17:08.836Z"
   },
   {
    "duration": 8,
    "start_time": "2022-06-25T20:17:08.942Z"
   },
   {
    "duration": 121,
    "start_time": "2022-06-25T20:17:09.070Z"
   },
   {
    "duration": 5,
    "start_time": "2022-06-25T20:17:09.193Z"
   },
   {
    "duration": 11,
    "start_time": "2022-06-25T20:17:09.304Z"
   },
   {
    "duration": 8,
    "start_time": "2022-06-25T20:17:09.428Z"
   },
   {
    "duration": 4,
    "start_time": "2022-06-25T20:17:09.524Z"
   },
   {
    "duration": 11,
    "start_time": "2022-06-25T20:17:09.588Z"
   },
   {
    "duration": 14,
    "start_time": "2022-06-25T20:17:09.638Z"
   },
   {
    "duration": 6,
    "start_time": "2022-06-25T20:17:09.730Z"
   },
   {
    "duration": 114,
    "start_time": "2022-06-25T20:17:09.824Z"
   },
   {
    "duration": 6,
    "start_time": "2022-06-25T20:17:09.940Z"
   },
   {
    "duration": 18,
    "start_time": "2022-06-25T20:17:09.967Z"
   },
   {
    "duration": 10,
    "start_time": "2022-06-25T20:17:10.092Z"
   },
   {
    "duration": 5,
    "start_time": "2022-06-25T20:17:10.184Z"
   },
   {
    "duration": 10,
    "start_time": "2022-06-25T20:17:10.266Z"
   },
   {
    "duration": 71,
    "start_time": "2022-06-25T20:17:10.450Z"
   },
   {
    "duration": 7,
    "start_time": "2022-06-25T20:17:10.910Z"
   },
   {
    "duration": 112,
    "start_time": "2022-06-25T20:17:11.446Z"
   },
   {
    "duration": 11,
    "start_time": "2022-06-25T20:17:11.560Z"
   },
   {
    "duration": 16,
    "start_time": "2022-06-25T20:17:11.590Z"
   },
   {
    "duration": 8,
    "start_time": "2022-06-25T20:17:11.658Z"
   },
   {
    "duration": 8,
    "start_time": "2022-06-25T20:17:12.430Z"
   },
   {
    "duration": 707896,
    "start_time": "2022-06-25T20:17:12.974Z"
   },
   {
    "duration": 23,
    "start_time": "2022-06-25T20:46:54.672Z"
   },
   {
    "duration": 370534,
    "start_time": "2022-06-25T20:50:01.619Z"
   },
   {
    "duration": 0,
    "start_time": "2022-06-25T20:56:12.155Z"
   },
   {
    "duration": 0,
    "start_time": "2022-06-25T20:56:12.156Z"
   },
   {
    "duration": 0,
    "start_time": "2022-06-25T20:56:12.158Z"
   },
   {
    "duration": 0,
    "start_time": "2022-06-25T20:56:12.159Z"
   },
   {
    "duration": 0,
    "start_time": "2022-06-25T20:56:12.160Z"
   },
   {
    "duration": 0,
    "start_time": "2022-06-25T20:56:12.167Z"
   },
   {
    "duration": 0,
    "start_time": "2022-06-25T20:56:12.168Z"
   },
   {
    "duration": 0,
    "start_time": "2022-06-25T20:56:12.169Z"
   },
   {
    "duration": 0,
    "start_time": "2022-06-25T20:56:12.170Z"
   },
   {
    "duration": 0,
    "start_time": "2022-06-25T20:56:12.171Z"
   },
   {
    "duration": 0,
    "start_time": "2022-06-25T20:56:12.172Z"
   },
   {
    "duration": 0,
    "start_time": "2022-06-25T20:56:12.173Z"
   },
   {
    "duration": 0,
    "start_time": "2022-06-25T20:56:12.174Z"
   },
   {
    "duration": 0,
    "start_time": "2022-06-25T20:56:12.175Z"
   },
   {
    "duration": 0,
    "start_time": "2022-06-25T20:56:12.176Z"
   },
   {
    "duration": 0,
    "start_time": "2022-06-25T20:56:12.177Z"
   },
   {
    "duration": 0,
    "start_time": "2022-06-25T20:56:12.178Z"
   },
   {
    "duration": 0,
    "start_time": "2022-06-25T20:56:12.179Z"
   },
   {
    "duration": 0,
    "start_time": "2022-06-25T20:56:12.180Z"
   },
   {
    "duration": 0,
    "start_time": "2022-06-25T20:56:12.182Z"
   },
   {
    "duration": 0,
    "start_time": "2022-06-25T20:56:12.183Z"
   },
   {
    "duration": 0,
    "start_time": "2022-06-25T20:56:12.184Z"
   },
   {
    "duration": 0,
    "start_time": "2022-06-25T20:56:12.185Z"
   },
   {
    "duration": 0,
    "start_time": "2022-06-25T20:56:12.186Z"
   },
   {
    "duration": 0,
    "start_time": "2022-06-25T20:56:12.188Z"
   },
   {
    "duration": 0,
    "start_time": "2022-06-25T20:56:12.189Z"
   },
   {
    "duration": 0,
    "start_time": "2022-06-25T20:56:12.190Z"
   },
   {
    "duration": 0,
    "start_time": "2022-06-25T20:56:12.191Z"
   },
   {
    "duration": 0,
    "start_time": "2022-06-25T20:56:12.193Z"
   },
   {
    "duration": 0,
    "start_time": "2022-06-25T20:56:12.194Z"
   },
   {
    "duration": 0,
    "start_time": "2022-06-25T20:56:12.196Z"
   },
   {
    "duration": 0,
    "start_time": "2022-06-25T20:56:12.197Z"
   },
   {
    "duration": 0,
    "start_time": "2022-06-25T20:56:12.198Z"
   },
   {
    "duration": 0,
    "start_time": "2022-06-25T20:56:12.199Z"
   },
   {
    "duration": 0,
    "start_time": "2022-06-25T20:56:12.201Z"
   },
   {
    "duration": 0,
    "start_time": "2022-06-25T20:56:12.202Z"
   },
   {
    "duration": 0,
    "start_time": "2022-06-25T20:56:12.203Z"
   },
   {
    "duration": 0,
    "start_time": "2022-06-25T20:56:12.204Z"
   },
   {
    "duration": 0,
    "start_time": "2022-06-25T20:56:12.267Z"
   },
   {
    "duration": 0,
    "start_time": "2022-06-25T20:56:12.268Z"
   },
   {
    "duration": 0,
    "start_time": "2022-06-25T20:56:12.270Z"
   },
   {
    "duration": 0,
    "start_time": "2022-06-25T20:56:12.271Z"
   },
   {
    "duration": 0,
    "start_time": "2022-06-25T20:56:12.272Z"
   },
   {
    "duration": 0,
    "start_time": "2022-06-25T20:56:12.274Z"
   },
   {
    "duration": 0,
    "start_time": "2022-06-25T20:56:12.275Z"
   },
   {
    "duration": 6,
    "start_time": "2022-06-25T20:56:15.312Z"
   },
   {
    "duration": 57,
    "start_time": "2022-06-25T20:56:15.812Z"
   },
   {
    "duration": 26,
    "start_time": "2022-06-25T20:56:15.871Z"
   },
   {
    "duration": 17,
    "start_time": "2022-06-25T20:56:15.952Z"
   },
   {
    "duration": 14,
    "start_time": "2022-06-25T20:56:15.983Z"
   },
   {
    "duration": 20,
    "start_time": "2022-06-25T20:56:16.080Z"
   },
   {
    "duration": 16,
    "start_time": "2022-06-25T20:56:16.109Z"
   },
   {
    "duration": 21,
    "start_time": "2022-06-25T20:56:16.528Z"
   },
   {
    "duration": 10,
    "start_time": "2022-06-25T20:56:18.832Z"
   },
   {
    "duration": 23,
    "start_time": "2022-06-25T20:56:20.377Z"
   },
   {
    "duration": 39,
    "start_time": "2022-06-25T20:56:21.056Z"
   },
   {
    "duration": 35,
    "start_time": "2022-06-25T20:56:21.627Z"
   },
   {
    "duration": 7,
    "start_time": "2022-06-25T20:56:21.722Z"
   },
   {
    "duration": 263,
    "start_time": "2022-06-25T20:56:21.786Z"
   },
   {
    "duration": 18,
    "start_time": "2022-06-25T20:56:22.051Z"
   },
   {
    "duration": 14,
    "start_time": "2022-06-25T20:56:22.071Z"
   },
   {
    "duration": 8,
    "start_time": "2022-06-25T20:56:22.087Z"
   },
   {
    "duration": 5,
    "start_time": "2022-06-25T20:56:22.171Z"
   },
   {
    "duration": 34,
    "start_time": "2022-06-25T20:56:22.287Z"
   },
   {
    "duration": 7,
    "start_time": "2022-06-25T20:56:22.383Z"
   },
   {
    "duration": 104,
    "start_time": "2022-06-25T20:56:22.479Z"
   },
   {
    "duration": 5,
    "start_time": "2022-06-25T20:56:22.585Z"
   },
   {
    "duration": 12,
    "start_time": "2022-06-25T20:56:22.690Z"
   },
   {
    "duration": 7,
    "start_time": "2022-06-25T20:56:22.787Z"
   },
   {
    "duration": 4,
    "start_time": "2022-06-25T20:56:22.879Z"
   },
   {
    "duration": 12,
    "start_time": "2022-06-25T20:56:22.988Z"
   },
   {
    "duration": 56,
    "start_time": "2022-06-25T20:56:23.019Z"
   },
   {
    "duration": 7,
    "start_time": "2022-06-25T20:56:23.111Z"
   },
   {
    "duration": 129,
    "start_time": "2022-06-25T20:56:23.240Z"
   },
   {
    "duration": 4,
    "start_time": "2022-06-25T20:56:23.371Z"
   },
   {
    "duration": 10,
    "start_time": "2022-06-25T20:56:23.480Z"
   },
   {
    "duration": 8,
    "start_time": "2022-06-25T20:56:24.334Z"
   },
   {
    "duration": 4,
    "start_time": "2022-06-25T20:56:25.181Z"
   },
   {
    "duration": 10,
    "start_time": "2022-06-25T20:56:25.246Z"
   },
   {
    "duration": 14,
    "start_time": "2022-06-25T20:56:25.282Z"
   },
   {
    "duration": 7,
    "start_time": "2022-06-25T20:56:25.376Z"
   },
   {
    "duration": 95,
    "start_time": "2022-06-25T20:56:25.482Z"
   },
   {
    "duration": 6,
    "start_time": "2022-06-25T20:56:25.580Z"
   },
   {
    "duration": 11,
    "start_time": "2022-06-25T20:56:26.398Z"
   },
   {
    "duration": 8,
    "start_time": "2022-06-25T20:56:26.526Z"
   },
   {
    "duration": 4,
    "start_time": "2022-06-25T20:56:26.620Z"
   },
   {
    "duration": 7,
    "start_time": "2022-06-25T20:56:26.698Z"
   },
   {
    "duration": 66,
    "start_time": "2022-06-25T20:56:28.622Z"
   },
   {
    "duration": 8,
    "start_time": "2022-06-25T20:56:30.496Z"
   },
   {
    "duration": 116,
    "start_time": "2022-06-25T20:56:30.560Z"
   },
   {
    "duration": 5,
    "start_time": "2022-06-25T20:56:31.418Z"
   },
   {
    "duration": 12,
    "start_time": "2022-06-25T20:56:31.480Z"
   },
   {
    "duration": 9,
    "start_time": "2022-06-25T20:56:31.546Z"
   },
   {
    "duration": 9,
    "start_time": "2022-06-25T20:56:31.656Z"
   },
   {
    "duration": 923338,
    "start_time": "2022-06-25T20:56:32.677Z"
   },
   {
    "duration": 10,
    "start_time": "2022-06-25T21:11:58.908Z"
   },
   {
    "duration": 103,
    "start_time": "2022-06-25T21:11:58.943Z"
   },
   {
    "duration": 32,
    "start_time": "2022-06-25T21:11:59.049Z"
   },
   {
    "duration": 36,
    "start_time": "2022-06-25T21:11:59.093Z"
   },
   {
    "duration": 28,
    "start_time": "2022-06-25T21:11:59.131Z"
   },
   {
    "duration": 31,
    "start_time": "2022-06-25T21:11:59.205Z"
   },
   {
    "duration": 28,
    "start_time": "2022-06-25T21:11:59.238Z"
   },
   {
    "duration": 17,
    "start_time": "2022-06-25T21:11:59.429Z"
   },
   {
    "duration": 10,
    "start_time": "2022-06-25T21:11:59.675Z"
   },
   {
    "duration": 29,
    "start_time": "2022-06-25T21:11:59.784Z"
   },
   {
    "duration": 41,
    "start_time": "2022-06-25T21:11:59.816Z"
   },
   {
    "duration": 48,
    "start_time": "2022-06-25T21:11:59.898Z"
   },
   {
    "duration": 11,
    "start_time": "2022-06-25T21:11:59.995Z"
   },
   {
    "duration": 141,
    "start_time": "2022-06-25T21:12:00.074Z"
   },
   {
    "duration": 7,
    "start_time": "2022-06-25T21:12:00.217Z"
   },
   {
    "duration": 16,
    "start_time": "2022-06-25T21:12:00.271Z"
   },
   {
    "duration": 12,
    "start_time": "2022-06-25T21:12:00.362Z"
   },
   {
    "duration": 6,
    "start_time": "2022-06-25T21:12:00.443Z"
   },
   {
    "duration": 45,
    "start_time": "2022-06-25T21:12:00.555Z"
   },
   {
    "duration": 9,
    "start_time": "2022-06-25T21:12:00.666Z"
   },
   {
    "duration": 154,
    "start_time": "2022-06-25T21:12:00.752Z"
   },
   {
    "duration": 8,
    "start_time": "2022-06-25T21:12:00.909Z"
   },
   {
    "duration": 59,
    "start_time": "2022-06-25T21:12:00.951Z"
   },
   {
    "duration": 12,
    "start_time": "2022-06-25T21:12:01.814Z"
   },
   {
    "duration": 5,
    "start_time": "2022-06-25T21:12:01.916Z"
   },
   {
    "duration": 22,
    "start_time": "2022-06-25T21:12:02.011Z"
   },
   {
    "duration": 93,
    "start_time": "2022-06-25T21:12:02.040Z"
   },
   {
    "duration": 10,
    "start_time": "2022-06-25T21:12:02.943Z"
   },
   {
    "duration": 329,
    "start_time": "2022-06-25T21:12:03.082Z"
   },
   {
    "duration": 7,
    "start_time": "2022-06-25T21:12:03.498Z"
   },
   {
    "duration": 14,
    "start_time": "2022-06-25T21:12:04.520Z"
   },
   {
    "duration": 11,
    "start_time": "2022-06-25T21:12:04.665Z"
   },
   {
    "duration": 5,
    "start_time": "2022-06-25T21:12:04.750Z"
   },
   {
    "duration": 14,
    "start_time": "2022-06-25T21:12:04.827Z"
   },
   {
    "duration": 20,
    "start_time": "2022-06-25T21:12:04.856Z"
   },
   {
    "duration": 9,
    "start_time": "2022-06-25T21:12:04.964Z"
   },
   {
    "duration": 110,
    "start_time": "2022-06-25T21:12:05.057Z"
   },
   {
    "duration": 5,
    "start_time": "2022-06-25T21:12:05.169Z"
   },
   {
    "duration": 13,
    "start_time": "2022-06-25T21:12:05.183Z"
   },
   {
    "duration": 14,
    "start_time": "2022-06-25T21:12:05.318Z"
   },
   {
    "duration": 5,
    "start_time": "2022-06-25T21:12:05.413Z"
   },
   {
    "duration": 10,
    "start_time": "2022-06-25T21:12:06.260Z"
   },
   {
    "duration": 116,
    "start_time": "2022-06-25T21:12:06.464Z"
   },
   {
    "duration": 12,
    "start_time": "2022-06-25T21:12:09.397Z"
   },
   {
    "duration": 193,
    "start_time": "2022-06-25T21:12:09.452Z"
   },
   {
    "duration": 7,
    "start_time": "2022-06-25T21:12:09.647Z"
   },
   {
    "duration": 24,
    "start_time": "2022-06-25T21:12:09.657Z"
   },
   {
    "duration": 9,
    "start_time": "2022-06-25T21:12:09.684Z"
   },
   {
    "duration": 10,
    "start_time": "2022-06-25T21:12:09.752Z"
   },
   {
    "duration": 0,
    "start_time": "2022-06-25T21:13:08.566Z"
   },
   {
    "duration": 5,
    "start_time": "2022-06-25T21:13:25.916Z"
   },
   {
    "duration": 63,
    "start_time": "2022-06-25T21:13:26.422Z"
   },
   {
    "duration": 31,
    "start_time": "2022-06-25T21:13:26.487Z"
   },
   {
    "duration": 19,
    "start_time": "2022-06-25T21:13:26.555Z"
   },
   {
    "duration": 20,
    "start_time": "2022-06-25T21:13:26.587Z"
   },
   {
    "duration": 33,
    "start_time": "2022-06-25T21:13:26.697Z"
   },
   {
    "duration": 23,
    "start_time": "2022-06-25T21:13:26.733Z"
   },
   {
    "duration": 23,
    "start_time": "2022-06-25T21:13:28.334Z"
   },
   {
    "duration": 11,
    "start_time": "2022-06-25T21:13:32.041Z"
   },
   {
    "duration": 1599,
    "start_time": "2022-06-25T21:13:38.061Z"
   },
   {
    "duration": 70,
    "start_time": "2022-06-25T21:13:39.663Z"
   },
   {
    "duration": 42,
    "start_time": "2022-06-25T21:13:39.735Z"
   },
   {
    "duration": 18,
    "start_time": "2022-06-25T21:13:41.997Z"
   },
   {
    "duration": 19,
    "start_time": "2022-06-25T21:13:42.039Z"
   },
   {
    "duration": 35,
    "start_time": "2022-06-25T21:13:42.130Z"
   },
   {
    "duration": 27,
    "start_time": "2022-06-25T21:13:42.168Z"
   },
   {
    "duration": 24,
    "start_time": "2022-06-25T21:13:42.332Z"
   },
   {
    "duration": 11,
    "start_time": "2022-06-25T21:13:42.589Z"
   },
   {
    "duration": 26,
    "start_time": "2022-06-25T21:13:42.687Z"
   },
   {
    "duration": 36,
    "start_time": "2022-06-25T21:13:42.718Z"
   },
   {
    "duration": 46,
    "start_time": "2022-06-25T21:13:42.823Z"
   },
   {
    "duration": 9,
    "start_time": "2022-06-25T21:13:42.925Z"
   },
   {
    "duration": 133,
    "start_time": "2022-06-25T21:13:42.985Z"
   },
   {
    "duration": 6,
    "start_time": "2022-06-25T21:13:43.121Z"
   },
   {
    "duration": 15,
    "start_time": "2022-06-25T21:13:43.187Z"
   },
   {
    "duration": 10,
    "start_time": "2022-06-25T21:13:43.278Z"
   },
   {
    "duration": 5,
    "start_time": "2022-06-25T21:13:43.342Z"
   },
   {
    "duration": 46,
    "start_time": "2022-06-25T21:13:43.487Z"
   },
   {
    "duration": 9,
    "start_time": "2022-06-25T21:13:43.580Z"
   },
   {
    "duration": 134,
    "start_time": "2022-06-25T21:13:43.674Z"
   },
   {
    "duration": 7,
    "start_time": "2022-06-25T21:13:43.810Z"
   },
   {
    "duration": 14,
    "start_time": "2022-06-25T21:13:43.882Z"
   },
   {
    "duration": 8,
    "start_time": "2022-06-25T21:13:43.981Z"
   },
   {
    "duration": 5,
    "start_time": "2022-06-25T21:13:44.073Z"
   },
   {
    "duration": 21,
    "start_time": "2022-06-25T21:13:44.191Z"
   },
   {
    "duration": 82,
    "start_time": "2022-06-25T21:13:44.247Z"
   },
   {
    "duration": 7,
    "start_time": "2022-06-25T21:13:44.332Z"
   },
   {
    "duration": 133,
    "start_time": "2022-06-25T21:13:44.436Z"
   },
   {
    "duration": 6,
    "start_time": "2022-06-25T21:13:44.571Z"
   },
   {
    "duration": 17,
    "start_time": "2022-06-25T21:13:44.691Z"
   },
   {
    "duration": 9,
    "start_time": "2022-06-25T21:13:44.795Z"
   },
   {
    "duration": 5,
    "start_time": "2022-06-25T21:13:44.903Z"
   },
   {
    "duration": 12,
    "start_time": "2022-06-25T21:13:44.973Z"
   },
   {
    "duration": 14,
    "start_time": "2022-06-25T21:13:45.009Z"
   },
   {
    "duration": 7,
    "start_time": "2022-06-25T21:13:45.103Z"
   },
   {
    "duration": 127,
    "start_time": "2022-06-25T21:13:45.198Z"
   },
   {
    "duration": 6,
    "start_time": "2022-06-25T21:13:45.327Z"
   },
   {
    "duration": 39,
    "start_time": "2022-06-25T21:13:45.336Z"
   },
   {
    "duration": 11,
    "start_time": "2022-06-25T21:13:45.755Z"
   },
   {
    "duration": 5,
    "start_time": "2022-06-25T21:13:46.323Z"
   },
   {
    "duration": 9,
    "start_time": "2022-06-25T21:13:46.389Z"
   },
   {
    "duration": 85,
    "start_time": "2022-06-25T21:13:46.595Z"
   },
   {
    "duration": 10,
    "start_time": "2022-06-25T21:13:46.767Z"
   },
   {
    "duration": 121,
    "start_time": "2022-06-25T21:13:46.827Z"
   },
   {
    "duration": 6,
    "start_time": "2022-06-25T21:13:47.227Z"
   },
   {
    "duration": 14,
    "start_time": "2022-06-25T21:13:47.774Z"
   },
   {
    "duration": 10,
    "start_time": "2022-06-25T21:13:47.840Z"
   },
   {
    "duration": 9,
    "start_time": "2022-06-25T21:13:47.942Z"
   },
   {
    "duration": 0,
    "start_time": "2022-06-25T21:23:16.674Z"
   },
   {
    "duration": 0,
    "start_time": "2022-06-25T21:23:16.677Z"
   },
   {
    "duration": 0,
    "start_time": "2022-06-25T21:23:16.679Z"
   },
   {
    "duration": 0,
    "start_time": "2022-06-25T21:23:16.680Z"
   },
   {
    "duration": 0,
    "start_time": "2022-06-25T21:23:16.681Z"
   },
   {
    "duration": 0,
    "start_time": "2022-06-25T21:23:16.682Z"
   },
   {
    "duration": 0,
    "start_time": "2022-06-25T21:23:16.683Z"
   },
   {
    "duration": 0,
    "start_time": "2022-06-25T21:23:16.684Z"
   },
   {
    "duration": 0,
    "start_time": "2022-06-25T21:23:16.685Z"
   },
   {
    "duration": 0,
    "start_time": "2022-06-25T21:23:16.687Z"
   },
   {
    "duration": 0,
    "start_time": "2022-06-25T21:23:16.688Z"
   },
   {
    "duration": 0,
    "start_time": "2022-06-25T21:23:16.690Z"
   },
   {
    "duration": 0,
    "start_time": "2022-06-25T21:23:16.693Z"
   },
   {
    "duration": 0,
    "start_time": "2022-06-25T21:23:16.696Z"
   },
   {
    "duration": 56,
    "start_time": "2022-06-25T21:23:17.082Z"
   },
   {
    "duration": 31,
    "start_time": "2022-06-25T21:23:17.415Z"
   },
   {
    "duration": 18,
    "start_time": "2022-06-25T21:23:18.671Z"
   },
   {
    "duration": 22,
    "start_time": "2022-06-25T21:23:18.700Z"
   },
   {
    "duration": 45,
    "start_time": "2022-06-25T21:23:18.810Z"
   },
   {
    "duration": 25,
    "start_time": "2022-06-25T21:23:18.857Z"
   },
   {
    "duration": 23,
    "start_time": "2022-06-25T21:23:19.005Z"
   },
   {
    "duration": 9,
    "start_time": "2022-06-25T21:23:19.265Z"
   },
   {
    "duration": 23,
    "start_time": "2022-06-25T21:23:19.362Z"
   },
   {
    "duration": 40,
    "start_time": "2022-06-25T21:23:19.406Z"
   },
   {
    "duration": 41,
    "start_time": "2022-06-25T21:23:19.500Z"
   },
   {
    "duration": 8,
    "start_time": "2022-06-25T21:23:19.601Z"
   },
   {
    "duration": 154,
    "start_time": "2022-06-25T21:23:19.660Z"
   },
   {
    "duration": 6,
    "start_time": "2022-06-25T21:23:19.816Z"
   },
   {
    "duration": 14,
    "start_time": "2022-06-25T21:23:19.869Z"
   },
   {
    "duration": 10,
    "start_time": "2022-06-25T21:23:19.960Z"
   },
   {
    "duration": 5,
    "start_time": "2022-06-25T21:23:20.026Z"
   },
   {
    "duration": 37,
    "start_time": "2022-06-25T21:23:20.154Z"
   },
   {
    "duration": 7,
    "start_time": "2022-06-25T21:23:20.262Z"
   },
   {
    "duration": 137,
    "start_time": "2022-06-25T21:23:20.361Z"
   },
   {
    "duration": 6,
    "start_time": "2022-06-25T21:23:20.500Z"
   },
   {
    "duration": 15,
    "start_time": "2022-06-25T21:23:20.553Z"
   },
   {
    "duration": 8,
    "start_time": "2022-06-25T21:23:20.666Z"
   },
   {
    "duration": 5,
    "start_time": "2022-06-25T21:23:20.754Z"
   },
   {
    "duration": 20,
    "start_time": "2022-06-25T21:23:20.862Z"
   },
   {
    "duration": 94,
    "start_time": "2022-06-25T21:23:20.885Z"
   },
   {
    "duration": 8,
    "start_time": "2022-06-25T21:23:20.986Z"
   },
   {
    "duration": 150,
    "start_time": "2022-06-25T21:23:21.120Z"
   },
   {
    "duration": 5,
    "start_time": "2022-06-25T21:23:21.275Z"
   },
   {
    "duration": 15,
    "start_time": "2022-06-25T21:23:21.343Z"
   },
   {
    "duration": 9,
    "start_time": "2022-06-25T21:23:21.485Z"
   },
   {
    "duration": 5,
    "start_time": "2022-06-25T21:23:21.574Z"
   },
   {
    "duration": 10,
    "start_time": "2022-06-25T21:23:21.641Z"
   },
   {
    "duration": 15,
    "start_time": "2022-06-25T21:23:21.679Z"
   },
   {
    "duration": 8,
    "start_time": "2022-06-25T21:23:21.780Z"
   },
   {
    "duration": 110,
    "start_time": "2022-06-25T21:23:21.877Z"
   },
   {
    "duration": 7,
    "start_time": "2022-06-25T21:23:21.989Z"
   },
   {
    "duration": 16,
    "start_time": "2022-06-25T21:23:22.018Z"
   },
   {
    "duration": 8,
    "start_time": "2022-06-25T21:23:22.139Z"
   },
   {
    "duration": 5,
    "start_time": "2022-06-25T21:23:22.237Z"
   },
   {
    "duration": 9,
    "start_time": "2022-06-25T21:23:22.312Z"
   },
   {
    "duration": 96,
    "start_time": "2022-06-25T21:23:22.504Z"
   },
   {
    "duration": 9,
    "start_time": "2022-06-25T21:23:22.662Z"
   },
   {
    "duration": 160,
    "start_time": "2022-06-25T21:23:22.740Z"
   },
   {
    "duration": 6,
    "start_time": "2022-06-25T21:23:22.902Z"
   },
   {
    "duration": 15,
    "start_time": "2022-06-25T21:23:22.910Z"
   },
   {
    "duration": 10,
    "start_time": "2022-06-25T21:23:23.754Z"
   },
   {
    "duration": 12,
    "start_time": "2022-06-25T21:23:23.857Z"
   },
   {
    "duration": 18939,
    "start_time": "2022-06-25T21:23:23.947Z"
   },
   {
    "duration": 18868,
    "start_time": "2022-06-25T21:28:33.950Z"
   },
   {
    "duration": 80505,
    "start_time": "2022-06-25T21:29:19.770Z"
   },
   {
    "duration": 0,
    "start_time": "2022-06-25T21:35:22.198Z"
   },
   {
    "duration": 5,
    "start_time": "2022-06-25T21:35:28.115Z"
   },
   {
    "duration": 62,
    "start_time": "2022-06-25T21:35:28.625Z"
   },
   {
    "duration": 20,
    "start_time": "2022-06-25T21:35:28.690Z"
   },
   {
    "duration": 15,
    "start_time": "2022-06-25T21:35:28.749Z"
   },
   {
    "duration": 15,
    "start_time": "2022-06-25T21:35:28.809Z"
   },
   {
    "duration": 31,
    "start_time": "2022-06-25T21:35:28.894Z"
   },
   {
    "duration": 21,
    "start_time": "2022-06-25T21:35:28.927Z"
   },
   {
    "duration": 21,
    "start_time": "2022-06-25T21:35:29.080Z"
   },
   {
    "duration": 8,
    "start_time": "2022-06-25T21:35:29.345Z"
   },
   {
    "duration": 19,
    "start_time": "2022-06-25T21:35:29.441Z"
   },
   {
    "duration": 30,
    "start_time": "2022-06-25T21:35:29.474Z"
   },
   {
    "duration": 39,
    "start_time": "2022-06-25T21:35:29.580Z"
   },
   {
    "duration": 8,
    "start_time": "2022-06-25T21:35:29.677Z"
   },
   {
    "duration": 129,
    "start_time": "2022-06-25T21:35:29.742Z"
   },
   {
    "duration": 8,
    "start_time": "2022-06-25T21:35:29.875Z"
   },
   {
    "duration": 11,
    "start_time": "2022-06-25T21:35:29.941Z"
   },
   {
    "duration": 8,
    "start_time": "2022-06-25T21:35:30.038Z"
   },
   {
    "duration": 7,
    "start_time": "2022-06-25T21:35:30.100Z"
   },
   {
    "duration": 43,
    "start_time": "2022-06-25T21:35:30.243Z"
   },
   {
    "duration": 6,
    "start_time": "2022-06-25T21:35:30.337Z"
   },
   {
    "duration": 133,
    "start_time": "2022-06-25T21:35:30.433Z"
   },
   {
    "duration": 7,
    "start_time": "2022-06-25T21:35:30.568Z"
   },
   {
    "duration": 14,
    "start_time": "2022-06-25T21:35:30.641Z"
   },
   {
    "duration": 9,
    "start_time": "2022-06-25T21:35:30.740Z"
   },
   {
    "duration": 5,
    "start_time": "2022-06-25T21:35:30.837Z"
   },
   {
    "duration": 13,
    "start_time": "2022-06-25T21:35:30.931Z"
   },
   {
    "duration": 70,
    "start_time": "2022-06-25T21:35:30.962Z"
   },
   {
    "duration": 6,
    "start_time": "2022-06-25T21:35:31.057Z"
   },
   {
    "duration": 208,
    "start_time": "2022-06-25T21:35:31.202Z"
   },
   {
    "duration": 4,
    "start_time": "2022-06-25T21:35:31.522Z"
   },
   {
    "duration": 17,
    "start_time": "2022-06-25T21:35:32.161Z"
   },
   {
    "duration": 12,
    "start_time": "2022-06-25T21:35:32.290Z"
   },
   {
    "duration": 6,
    "start_time": "2022-06-25T21:35:32.397Z"
   },
   {
    "duration": 22,
    "start_time": "2022-06-25T21:35:32.462Z"
   },
   {
    "duration": 15,
    "start_time": "2022-06-25T21:35:32.495Z"
   },
   {
    "duration": 8,
    "start_time": "2022-06-25T21:35:32.587Z"
   },
   {
    "duration": 154,
    "start_time": "2022-06-25T21:35:33.372Z"
   },
   {
    "duration": 6,
    "start_time": "2022-06-25T21:35:33.529Z"
   },
   {
    "duration": 16,
    "start_time": "2022-06-25T21:35:33.537Z"
   },
   {
    "duration": 8,
    "start_time": "2022-06-25T21:35:33.642Z"
   },
   {
    "duration": 4,
    "start_time": "2022-06-25T21:35:33.737Z"
   },
   {
    "duration": 8,
    "start_time": "2022-06-25T21:35:33.799Z"
   },
   {
    "duration": 74,
    "start_time": "2022-06-25T21:35:34.227Z"
   },
   {
    "duration": 7,
    "start_time": "2022-06-25T21:35:35.633Z"
   },
   {
    "duration": 127,
    "start_time": "2022-06-25T21:35:36.169Z"
   },
   {
    "duration": 6,
    "start_time": "2022-06-25T21:35:36.298Z"
   },
   {
    "duration": 13,
    "start_time": "2022-06-25T21:35:36.310Z"
   },
   {
    "duration": 10,
    "start_time": "2022-06-25T21:35:36.374Z"
   },
   {
    "duration": 7,
    "start_time": "2022-06-25T21:35:36.659Z"
   },
   {
    "duration": 83179,
    "start_time": "2022-06-25T21:35:37.227Z"
   },
   {
    "duration": 395492,
    "start_time": "2022-06-25T21:39:33.769Z"
   },
   {
    "duration": 134942,
    "start_time": "2022-06-25T23:30:20.589Z"
   },
   {
    "duration": 5,
    "start_time": "2022-06-25T23:32:41.371Z"
   },
   {
    "duration": 73,
    "start_time": "2022-06-25T23:32:41.878Z"
   },
   {
    "duration": 25,
    "start_time": "2022-06-25T23:32:41.954Z"
   },
   {
    "duration": 19,
    "start_time": "2022-06-25T23:32:42.006Z"
   },
   {
    "duration": 20,
    "start_time": "2022-06-25T23:32:42.036Z"
   },
   {
    "duration": 33,
    "start_time": "2022-06-25T23:32:42.151Z"
   },
   {
    "duration": 24,
    "start_time": "2022-06-25T23:32:42.187Z"
   },
   {
    "duration": 23,
    "start_time": "2022-06-25T23:32:42.344Z"
   },
   {
    "duration": 9,
    "start_time": "2022-06-25T23:32:42.605Z"
   },
   {
    "duration": 22,
    "start_time": "2022-06-25T23:32:42.698Z"
   },
   {
    "duration": 30,
    "start_time": "2022-06-25T23:32:42.728Z"
   },
   {
    "duration": 39,
    "start_time": "2022-06-25T23:32:42.838Z"
   },
   {
    "duration": 9,
    "start_time": "2022-06-25T23:32:42.935Z"
   },
   {
    "duration": 150,
    "start_time": "2022-06-25T23:32:43.000Z"
   },
   {
    "duration": 14,
    "start_time": "2022-06-25T23:32:43.153Z"
   },
   {
    "duration": 13,
    "start_time": "2022-06-25T23:32:43.199Z"
   },
   {
    "duration": 10,
    "start_time": "2022-06-25T23:32:43.303Z"
   },
   {
    "duration": 6,
    "start_time": "2022-06-25T23:32:43.370Z"
   },
   {
    "duration": 38,
    "start_time": "2022-06-25T23:32:43.495Z"
   },
   {
    "duration": 9,
    "start_time": "2022-06-25T23:32:43.591Z"
   },
   {
    "duration": 220,
    "start_time": "2022-06-25T23:32:43.704Z"
   },
   {
    "duration": 7,
    "start_time": "2022-06-25T23:32:43.926Z"
   },
   {
    "duration": 36,
    "start_time": "2022-06-25T23:32:43.935Z"
   },
   {
    "duration": 11,
    "start_time": "2022-06-25T23:32:43.982Z"
   },
   {
    "duration": 7,
    "start_time": "2022-06-25T23:32:44.094Z"
   },
   {
    "duration": 15,
    "start_time": "2022-06-25T23:32:44.188Z"
   },
   {
    "duration": 76,
    "start_time": "2022-06-25T23:32:44.224Z"
   },
   {
    "duration": 8,
    "start_time": "2022-06-25T23:32:44.313Z"
   },
   {
    "duration": 165,
    "start_time": "2022-06-25T23:32:44.454Z"
   },
   {
    "duration": 12,
    "start_time": "2022-06-25T23:32:44.621Z"
   },
   {
    "duration": 15,
    "start_time": "2022-06-25T23:32:44.679Z"
   },
   {
    "duration": 8,
    "start_time": "2022-06-25T23:32:44.823Z"
   },
   {
    "duration": 6,
    "start_time": "2022-06-25T23:32:44.918Z"
   },
   {
    "duration": 10,
    "start_time": "2022-06-25T23:32:44.983Z"
   },
   {
    "duration": 17,
    "start_time": "2022-06-25T23:32:45.012Z"
   },
   {
    "duration": 7,
    "start_time": "2022-06-25T23:32:45.118Z"
   },
   {
    "duration": 124,
    "start_time": "2022-06-25T23:32:45.214Z"
   },
   {
    "duration": 9,
    "start_time": "2022-06-25T23:32:45.341Z"
   },
   {
    "duration": 31,
    "start_time": "2022-06-25T23:32:45.352Z"
   },
   {
    "duration": 10,
    "start_time": "2022-06-25T23:32:46.237Z"
   },
   {
    "duration": 6,
    "start_time": "2022-06-25T23:32:46.335Z"
   },
   {
    "duration": 11,
    "start_time": "2022-06-25T23:32:46.395Z"
   },
   {
    "duration": 102,
    "start_time": "2022-06-25T23:32:46.601Z"
   },
   {
    "duration": 10,
    "start_time": "2022-06-25T23:32:46.757Z"
   },
   {
    "duration": 191,
    "start_time": "2022-06-25T23:32:46.821Z"
   },
   {
    "duration": 5,
    "start_time": "2022-06-25T23:32:47.322Z"
   },
   {
    "duration": 14,
    "start_time": "2022-06-25T23:32:48.235Z"
   },
   {
    "duration": 10,
    "start_time": "2022-06-25T23:32:49.114Z"
   },
   {
    "duration": 11,
    "start_time": "2022-06-25T23:32:49.211Z"
   },
   {
    "duration": 425612,
    "start_time": "2022-06-25T23:32:49.303Z"
   },
   {
    "duration": 72523,
    "start_time": "2022-06-25T23:53:49.475Z"
   },
   {
    "duration": 5,
    "start_time": "2022-06-25T23:55:11.843Z"
   },
   {
    "duration": 59,
    "start_time": "2022-06-25T23:55:11.872Z"
   },
   {
    "duration": 24,
    "start_time": "2022-06-25T23:55:11.933Z"
   },
   {
    "duration": 18,
    "start_time": "2022-06-25T23:55:12.003Z"
   },
   {
    "duration": 19,
    "start_time": "2022-06-25T23:55:12.035Z"
   },
   {
    "duration": 31,
    "start_time": "2022-06-25T23:55:12.140Z"
   },
   {
    "duration": 27,
    "start_time": "2022-06-25T23:55:12.177Z"
   },
   {
    "duration": 22,
    "start_time": "2022-06-25T23:55:12.328Z"
   },
   {
    "duration": 8,
    "start_time": "2022-06-25T23:55:12.594Z"
   },
   {
    "duration": 21,
    "start_time": "2022-06-25T23:55:12.691Z"
   },
   {
    "duration": 28,
    "start_time": "2022-06-25T23:55:12.722Z"
   },
   {
    "duration": 39,
    "start_time": "2022-06-25T23:55:12.840Z"
   },
   {
    "duration": 10,
    "start_time": "2022-06-25T23:55:12.934Z"
   },
   {
    "duration": 125,
    "start_time": "2022-06-25T23:55:12.996Z"
   },
   {
    "duration": 6,
    "start_time": "2022-06-25T23:55:13.124Z"
   },
   {
    "duration": 13,
    "start_time": "2022-06-25T23:55:13.196Z"
   },
   {
    "duration": 10,
    "start_time": "2022-06-25T23:55:13.295Z"
   },
   {
    "duration": 5,
    "start_time": "2022-06-25T23:55:13.354Z"
   },
   {
    "duration": 50,
    "start_time": "2022-06-25T23:55:13.493Z"
   },
   {
    "duration": 7,
    "start_time": "2022-06-25T23:55:13.593Z"
   },
   {
    "duration": 138,
    "start_time": "2022-06-25T23:55:13.680Z"
   },
   {
    "duration": 7,
    "start_time": "2022-06-25T23:55:13.820Z"
   },
   {
    "duration": 19,
    "start_time": "2022-06-25T23:55:13.882Z"
   },
   {
    "duration": 8,
    "start_time": "2022-06-25T23:55:13.974Z"
   },
   {
    "duration": 5,
    "start_time": "2022-06-25T23:55:14.084Z"
   },
   {
    "duration": 19,
    "start_time": "2022-06-25T23:55:14.180Z"
   },
   {
    "duration": 63,
    "start_time": "2022-06-25T23:55:14.212Z"
   },
   {
    "duration": 7,
    "start_time": "2022-06-25T23:55:14.302Z"
   },
   {
    "duration": 139,
    "start_time": "2022-06-25T23:55:14.446Z"
   },
   {
    "duration": 6,
    "start_time": "2022-06-25T23:55:14.588Z"
   },
   {
    "duration": 19,
    "start_time": "2022-06-25T23:55:14.682Z"
   },
   {
    "duration": 11,
    "start_time": "2022-06-25T23:55:14.813Z"
   },
   {
    "duration": 4,
    "start_time": "2022-06-25T23:55:14.899Z"
   },
   {
    "duration": 12,
    "start_time": "2022-06-25T23:55:14.980Z"
   },
   {
    "duration": 15,
    "start_time": "2022-06-25T23:55:15.018Z"
   },
   {
    "duration": 7,
    "start_time": "2022-06-25T23:55:15.103Z"
   },
   {
    "duration": 107,
    "start_time": "2022-06-25T23:55:15.201Z"
   },
   {
    "duration": 5,
    "start_time": "2022-06-25T23:55:15.310Z"
   },
   {
    "duration": 15,
    "start_time": "2022-06-25T23:55:15.338Z"
   },
   {
    "duration": 10,
    "start_time": "2022-06-25T23:55:15.466Z"
   },
   {
    "duration": 5,
    "start_time": "2022-06-25T23:55:15.572Z"
   },
   {
    "duration": 8,
    "start_time": "2022-06-25T23:55:15.638Z"
   },
   {
    "duration": 90,
    "start_time": "2022-06-25T23:55:16.734Z"
   },
   {
    "duration": 9,
    "start_time": "2022-06-25T23:55:16.899Z"
   },
   {
    "duration": 144,
    "start_time": "2022-06-25T23:55:16.962Z"
   },
   {
    "duration": 6,
    "start_time": "2022-06-25T23:55:17.108Z"
   },
   {
    "duration": 14,
    "start_time": "2022-06-25T23:55:17.440Z"
   },
   {
    "duration": 11,
    "start_time": "2022-06-25T23:55:17.978Z"
   },
   {
    "duration": 7,
    "start_time": "2022-06-25T23:55:18.074Z"
   },
   {
    "duration": 0,
    "start_time": "2022-06-26T00:01:15.953Z"
   },
   {
    "duration": 0,
    "start_time": "2022-06-26T00:01:15.955Z"
   },
   {
    "duration": 0,
    "start_time": "2022-06-26T00:01:15.956Z"
   },
   {
    "duration": 0,
    "start_time": "2022-06-26T00:01:15.967Z"
   },
   {
    "duration": 5,
    "start_time": "2022-06-26T00:01:20.854Z"
   },
   {
    "duration": 69,
    "start_time": "2022-06-26T00:01:20.879Z"
   },
   {
    "duration": 34,
    "start_time": "2022-06-26T00:01:20.950Z"
   },
   {
    "duration": 17,
    "start_time": "2022-06-26T00:01:21.613Z"
   },
   {
    "duration": 13,
    "start_time": "2022-06-26T00:01:21.949Z"
   },
   {
    "duration": 32,
    "start_time": "2022-06-26T00:01:22.515Z"
   },
   {
    "duration": 23,
    "start_time": "2022-06-26T00:01:22.549Z"
   },
   {
    "duration": 22,
    "start_time": "2022-06-26T00:01:22.722Z"
   },
   {
    "duration": 9,
    "start_time": "2022-06-26T00:01:23.734Z"
   },
   {
    "duration": 25,
    "start_time": "2022-06-26T00:01:24.469Z"
   },
   {
    "duration": 37,
    "start_time": "2022-06-26T00:01:24.501Z"
   },
   {
    "duration": 46,
    "start_time": "2022-06-26T00:01:24.598Z"
   },
   {
    "duration": 8,
    "start_time": "2022-06-26T00:01:25.638Z"
   },
   {
    "duration": 147,
    "start_time": "2022-06-26T00:01:25.701Z"
   },
   {
    "duration": 7,
    "start_time": "2022-06-26T00:01:25.850Z"
   },
   {
    "duration": 11,
    "start_time": "2022-06-26T00:01:25.905Z"
   },
   {
    "duration": 8,
    "start_time": "2022-06-26T00:01:25.999Z"
   },
   {
    "duration": 5,
    "start_time": "2022-06-26T00:01:26.076Z"
   },
   {
    "duration": 46,
    "start_time": "2022-06-26T00:01:26.201Z"
   },
   {
    "duration": 7,
    "start_time": "2022-06-26T00:01:26.299Z"
   },
   {
    "duration": 114,
    "start_time": "2022-06-26T00:01:26.403Z"
   },
   {
    "duration": 6,
    "start_time": "2022-06-26T00:01:26.519Z"
   },
   {
    "duration": 12,
    "start_time": "2022-06-26T00:01:26.595Z"
   },
   {
    "duration": 9,
    "start_time": "2022-06-26T00:01:27.587Z"
   },
   {
    "duration": 5,
    "start_time": "2022-06-26T00:01:27.699Z"
   },
   {
    "duration": 16,
    "start_time": "2022-06-26T00:01:27.793Z"
   },
   {
    "duration": 57,
    "start_time": "2022-06-26T00:01:27.833Z"
   },
   {
    "duration": 7,
    "start_time": "2022-06-26T00:01:28.334Z"
   },
   {
    "duration": 149,
    "start_time": "2022-06-26T00:01:28.944Z"
   },
   {
    "duration": 7,
    "start_time": "2022-06-26T00:01:29.096Z"
   },
   {
    "duration": 15,
    "start_time": "2022-06-26T00:01:29.168Z"
   },
   {
    "duration": 8,
    "start_time": "2022-06-26T00:01:30.134Z"
   },
   {
    "duration": 6,
    "start_time": "2022-06-26T00:01:30.241Z"
   },
   {
    "duration": 13,
    "start_time": "2022-06-26T00:01:30.304Z"
   },
   {
    "duration": 17,
    "start_time": "2022-06-26T00:01:30.342Z"
   },
   {
    "duration": 7,
    "start_time": "2022-06-26T00:01:30.437Z"
   },
   {
    "duration": 104,
    "start_time": "2022-06-26T00:01:31.116Z"
   },
   {
    "duration": 5,
    "start_time": "2022-06-26T00:01:31.662Z"
   },
   {
    "duration": 13,
    "start_time": "2022-06-26T00:01:31.733Z"
   },
   {
    "duration": 9,
    "start_time": "2022-06-26T00:01:31.851Z"
   },
   {
    "duration": 6,
    "start_time": "2022-06-26T00:01:31.947Z"
   },
   {
    "duration": 8,
    "start_time": "2022-06-26T00:01:32.033Z"
   },
   {
    "duration": 82,
    "start_time": "2022-06-26T00:01:32.214Z"
   },
   {
    "duration": 9,
    "start_time": "2022-06-26T00:01:32.392Z"
   },
   {
    "duration": 146,
    "start_time": "2022-06-26T00:01:32.451Z"
   },
   {
    "duration": 6,
    "start_time": "2022-06-26T00:01:33.357Z"
   },
   {
    "duration": 13,
    "start_time": "2022-06-26T00:01:33.423Z"
   },
   {
    "duration": 11,
    "start_time": "2022-06-26T00:01:33.484Z"
   },
   {
    "duration": 9,
    "start_time": "2022-06-26T00:01:33.583Z"
   },
   {
    "duration": 433910,
    "start_time": "2022-06-26T00:01:33.689Z"
   },
   {
    "duration": 146754,
    "start_time": "2022-06-26T00:09:51.501Z"
   },
   {
    "duration": 0,
    "start_time": "2022-06-26T00:12:18.258Z"
   },
   {
    "duration": 0,
    "start_time": "2022-06-26T00:12:18.259Z"
   },
   {
    "duration": 1,
    "start_time": "2022-06-26T00:12:18.267Z"
   },
   {
    "duration": 6,
    "start_time": "2022-06-26T00:12:19.949Z"
   },
   {
    "duration": 62,
    "start_time": "2022-06-26T00:12:20.300Z"
   },
   {
    "duration": 33,
    "start_time": "2022-06-26T00:12:20.909Z"
   },
   {
    "duration": 13,
    "start_time": "2022-06-26T00:12:23.825Z"
   },
   {
    "duration": 14,
    "start_time": "2022-06-26T00:12:23.859Z"
   },
   {
    "duration": 31,
    "start_time": "2022-06-26T00:12:23.968Z"
   },
   {
    "duration": 20,
    "start_time": "2022-06-26T00:12:24.002Z"
   },
   {
    "duration": 18,
    "start_time": "2022-06-26T00:12:24.161Z"
   },
   {
    "duration": 11,
    "start_time": "2022-06-26T00:12:24.426Z"
   },
   {
    "duration": 26,
    "start_time": "2022-06-26T00:12:24.522Z"
   },
   {
    "duration": 29,
    "start_time": "2022-06-26T00:12:24.565Z"
   },
   {
    "duration": 49,
    "start_time": "2022-06-26T00:12:24.658Z"
   },
   {
    "duration": 8,
    "start_time": "2022-06-26T00:12:24.754Z"
   },
   {
    "duration": 128,
    "start_time": "2022-06-26T00:12:24.817Z"
   },
   {
    "duration": 7,
    "start_time": "2022-06-26T00:12:24.947Z"
   },
   {
    "duration": 13,
    "start_time": "2022-06-26T00:12:25.024Z"
   },
   {
    "duration": 9,
    "start_time": "2022-06-26T00:12:25.120Z"
   },
   {
    "duration": 5,
    "start_time": "2022-06-26T00:12:25.181Z"
   },
   {
    "duration": 44,
    "start_time": "2022-06-26T00:12:25.322Z"
   },
   {
    "duration": 7,
    "start_time": "2022-06-26T00:12:25.419Z"
   },
   {
    "duration": 264,
    "start_time": "2022-06-26T00:12:25.510Z"
   },
   {
    "duration": 6,
    "start_time": "2022-06-26T00:12:25.777Z"
   },
   {
    "duration": 14,
    "start_time": "2022-06-26T00:12:25.785Z"
   },
   {
    "duration": 12,
    "start_time": "2022-06-26T00:12:25.807Z"
   },
   {
    "duration": 6,
    "start_time": "2022-06-26T00:12:25.916Z"
   },
   {
    "duration": 18,
    "start_time": "2022-06-26T00:12:26.011Z"
   },
   {
    "duration": 63,
    "start_time": "2022-06-26T00:12:26.046Z"
   },
   {
    "duration": 7,
    "start_time": "2022-06-26T00:12:26.140Z"
   },
   {
    "duration": 133,
    "start_time": "2022-06-26T00:12:26.992Z"
   },
   {
    "duration": 6,
    "start_time": "2022-06-26T00:12:27.127Z"
   },
   {
    "duration": 12,
    "start_time": "2022-06-26T00:12:27.216Z"
   },
   {
    "duration": 8,
    "start_time": "2022-06-26T00:12:27.365Z"
   },
   {
    "duration": 5,
    "start_time": "2022-06-26T00:12:27.464Z"
   },
   {
    "duration": 13,
    "start_time": "2022-06-26T00:12:27.513Z"
   },
   {
    "duration": 18,
    "start_time": "2022-06-26T00:12:27.542Z"
   },
   {
    "duration": 7,
    "start_time": "2022-06-26T00:12:27.650Z"
   },
   {
    "duration": 153,
    "start_time": "2022-06-26T00:12:27.745Z"
   },
   {
    "duration": 8,
    "start_time": "2022-06-26T00:12:28.109Z"
   },
   {
    "duration": 19,
    "start_time": "2022-06-26T00:12:28.649Z"
   },
   {
    "duration": 13,
    "start_time": "2022-06-26T00:12:28.783Z"
   },
   {
    "duration": 9,
    "start_time": "2022-06-26T00:12:28.892Z"
   },
   {
    "duration": 8,
    "start_time": "2022-06-26T00:12:28.954Z"
   },
   {
    "duration": 79,
    "start_time": "2022-06-26T00:12:29.150Z"
   },
   {
    "duration": 7,
    "start_time": "2022-06-26T00:12:30.255Z"
   },
   {
    "duration": 122,
    "start_time": "2022-06-26T00:12:30.701Z"
   },
   {
    "duration": 7,
    "start_time": "2022-06-26T00:12:31.247Z"
   },
   {
    "duration": 15,
    "start_time": "2022-06-26T00:12:31.312Z"
   },
   {
    "duration": 11,
    "start_time": "2022-06-26T00:12:32.172Z"
   },
   {
    "duration": 12,
    "start_time": "2022-06-26T00:12:32.740Z"
   },
   {
    "duration": 0,
    "start_time": "2022-06-26T00:13:35.813Z"
   },
   {
    "duration": 6,
    "start_time": "2022-06-26T00:13:37.858Z"
   },
   {
    "duration": 57,
    "start_time": "2022-06-26T00:13:37.884Z"
   },
   {
    "duration": 23,
    "start_time": "2022-06-26T00:13:37.943Z"
   },
   {
    "duration": 15,
    "start_time": "2022-06-26T00:13:38.011Z"
   },
   {
    "duration": 13,
    "start_time": "2022-06-26T00:13:38.050Z"
   },
   {
    "duration": 26,
    "start_time": "2022-06-26T00:13:38.152Z"
   },
   {
    "duration": 22,
    "start_time": "2022-06-26T00:13:38.181Z"
   },
   {
    "duration": 21,
    "start_time": "2022-06-26T00:13:38.351Z"
   },
   {
    "duration": 10,
    "start_time": "2022-06-26T00:13:38.604Z"
   },
   {
    "duration": 20,
    "start_time": "2022-06-26T00:13:38.715Z"
   },
   {
    "duration": 29,
    "start_time": "2022-06-26T00:13:38.746Z"
   },
   {
    "duration": 54,
    "start_time": "2022-06-26T00:13:38.843Z"
   },
   {
    "duration": 9,
    "start_time": "2022-06-26T00:13:38.943Z"
   },
   {
    "duration": 133,
    "start_time": "2022-06-26T00:13:39.013Z"
   },
   {
    "duration": 7,
    "start_time": "2022-06-26T00:13:39.339Z"
   },
   {
    "duration": 13,
    "start_time": "2022-06-26T00:13:39.923Z"
   },
   {
    "duration": 9,
    "start_time": "2022-06-26T00:13:40.013Z"
   },
   {
    "duration": 6,
    "start_time": "2022-06-26T00:13:40.076Z"
   },
   {
    "duration": 51,
    "start_time": "2022-06-26T00:13:40.205Z"
   },
   {
    "duration": 7,
    "start_time": "2022-06-26T00:13:40.311Z"
   },
   {
    "duration": 136,
    "start_time": "2022-06-26T00:13:40.407Z"
   },
   {
    "duration": 7,
    "start_time": "2022-06-26T00:13:40.811Z"
   },
   {
    "duration": 15,
    "start_time": "2022-06-26T00:13:41.420Z"
   },
   {
    "duration": 11,
    "start_time": "2022-06-26T00:13:41.513Z"
   },
   {
    "duration": 5,
    "start_time": "2022-06-26T00:13:41.610Z"
   },
   {
    "duration": 17,
    "start_time": "2022-06-26T00:13:42.588Z"
   },
   {
    "duration": 62,
    "start_time": "2022-06-26T00:13:42.620Z"
   },
   {
    "duration": 7,
    "start_time": "2022-06-26T00:13:42.717Z"
   },
   {
    "duration": 162,
    "start_time": "2022-06-26T00:13:42.845Z"
   },
   {
    "duration": 6,
    "start_time": "2022-06-26T00:13:43.010Z"
   },
   {
    "duration": 16,
    "start_time": "2022-06-26T00:13:43.883Z"
   },
   {
    "duration": 9,
    "start_time": "2022-06-26T00:13:44.009Z"
   },
   {
    "duration": 5,
    "start_time": "2022-06-26T00:13:44.104Z"
   },
   {
    "duration": 14,
    "start_time": "2022-06-26T00:13:44.185Z"
   },
   {
    "duration": 15,
    "start_time": "2022-06-26T00:13:44.215Z"
   },
   {
    "duration": 6,
    "start_time": "2022-06-26T00:13:44.309Z"
   },
   {
    "duration": 149,
    "start_time": "2022-06-26T00:13:44.764Z"
   },
   {
    "duration": 5,
    "start_time": "2022-06-26T00:13:45.305Z"
   },
   {
    "duration": 17,
    "start_time": "2022-06-26T00:13:45.369Z"
   },
   {
    "duration": 9,
    "start_time": "2022-06-26T00:13:45.509Z"
   },
   {
    "duration": 6,
    "start_time": "2022-06-26T00:13:45.605Z"
   },
   {
    "duration": 9,
    "start_time": "2022-06-26T00:13:45.665Z"
   },
   {
    "duration": 85,
    "start_time": "2022-06-26T00:13:47.203Z"
   },
   {
    "duration": 8,
    "start_time": "2022-06-26T00:13:49.149Z"
   },
   {
    "duration": 164,
    "start_time": "2022-06-26T00:13:49.956Z"
   },
   {
    "duration": 6,
    "start_time": "2022-06-26T00:13:50.123Z"
   },
   {
    "duration": 17,
    "start_time": "2022-06-26T00:13:51.083Z"
   },
   {
    "duration": 8,
    "start_time": "2022-06-26T00:13:51.939Z"
   },
   {
    "duration": 7,
    "start_time": "2022-06-26T00:13:52.038Z"
   },
   {
    "duration": 5,
    "start_time": "2022-06-26T00:21:21.224Z"
   },
   {
    "duration": 75,
    "start_time": "2022-06-26T00:21:21.231Z"
   },
   {
    "duration": 23,
    "start_time": "2022-06-26T00:21:21.309Z"
   },
   {
    "duration": 17,
    "start_time": "2022-06-26T00:21:21.334Z"
   },
   {
    "duration": 14,
    "start_time": "2022-06-26T00:21:21.353Z"
   },
   {
    "duration": 53,
    "start_time": "2022-06-26T00:21:21.369Z"
   },
   {
    "duration": 28,
    "start_time": "2022-06-26T00:21:21.424Z"
   },
   {
    "duration": 18,
    "start_time": "2022-06-26T00:21:21.454Z"
   },
   {
    "duration": 11,
    "start_time": "2022-06-26T00:21:21.476Z"
   },
   {
    "duration": 23,
    "start_time": "2022-06-26T00:21:21.489Z"
   },
   {
    "duration": 26,
    "start_time": "2022-06-26T00:21:21.514Z"
   },
   {
    "duration": 64,
    "start_time": "2022-06-26T00:21:21.542Z"
   },
   {
    "duration": 7,
    "start_time": "2022-06-26T00:21:21.608Z"
   },
   {
    "duration": 134,
    "start_time": "2022-06-26T00:21:21.616Z"
   },
   {
    "duration": 6,
    "start_time": "2022-06-26T00:21:21.767Z"
   },
   {
    "duration": 18,
    "start_time": "2022-06-26T00:21:21.775Z"
   },
   {
    "duration": 10,
    "start_time": "2022-06-26T00:21:21.795Z"
   },
   {
    "duration": 8,
    "start_time": "2022-06-26T00:21:21.807Z"
   },
   {
    "duration": 66,
    "start_time": "2022-06-26T00:21:21.818Z"
   },
   {
    "duration": 7,
    "start_time": "2022-06-26T00:21:21.886Z"
   },
   {
    "duration": 153,
    "start_time": "2022-06-26T00:21:21.895Z"
   },
   {
    "duration": 6,
    "start_time": "2022-06-26T00:21:22.050Z"
   },
   {
    "duration": 17,
    "start_time": "2022-06-26T00:21:22.068Z"
   },
   {
    "duration": 9,
    "start_time": "2022-06-26T00:21:22.087Z"
   },
   {
    "duration": 7,
    "start_time": "2022-06-26T00:21:22.098Z"
   },
   {
    "duration": 33,
    "start_time": "2022-06-26T00:21:22.107Z"
   },
   {
    "duration": 64,
    "start_time": "2022-06-26T00:21:22.171Z"
   },
   {
    "duration": 7,
    "start_time": "2022-06-26T00:21:22.237Z"
   },
   {
    "duration": 165,
    "start_time": "2022-06-26T00:21:22.246Z"
   },
   {
    "duration": 5,
    "start_time": "2022-06-26T00:21:22.413Z"
   },
   {
    "duration": 17,
    "start_time": "2022-06-26T00:21:22.419Z"
   },
   {
    "duration": 32,
    "start_time": "2022-06-26T00:21:22.438Z"
   },
   {
    "duration": 5,
    "start_time": "2022-06-26T00:21:22.473Z"
   },
   {
    "duration": 14,
    "start_time": "2022-06-26T00:21:22.480Z"
   },
   {
    "duration": 17,
    "start_time": "2022-06-26T00:21:22.497Z"
   },
   {
    "duration": 8,
    "start_time": "2022-06-26T00:21:22.517Z"
   },
   {
    "duration": 146,
    "start_time": "2022-06-26T00:21:22.527Z"
   },
   {
    "duration": 5,
    "start_time": "2022-06-26T00:21:22.675Z"
   },
   {
    "duration": 15,
    "start_time": "2022-06-26T00:21:22.682Z"
   },
   {
    "duration": 6,
    "start_time": "2022-06-26T00:21:22.699Z"
   },
   {
    "duration": 6,
    "start_time": "2022-06-26T00:21:22.707Z"
   },
   {
    "duration": 11,
    "start_time": "2022-06-26T00:21:22.714Z"
   },
   {
    "duration": 122,
    "start_time": "2022-06-26T00:21:22.726Z"
   },
   {
    "duration": 17,
    "start_time": "2022-06-26T00:21:22.849Z"
   },
   {
    "duration": 141,
    "start_time": "2022-06-26T00:21:22.869Z"
   },
   {
    "duration": 6,
    "start_time": "2022-06-26T00:21:23.011Z"
   },
   {
    "duration": 18,
    "start_time": "2022-06-26T00:21:23.019Z"
   },
   {
    "duration": 29,
    "start_time": "2022-06-26T00:21:23.039Z"
   },
   {
    "duration": 10,
    "start_time": "2022-06-26T00:21:23.070Z"
   },
   {
    "duration": 433528,
    "start_time": "2022-06-26T00:21:23.082Z"
   },
   {
    "duration": 5,
    "start_time": "2022-06-26T00:28:36.616Z"
   },
   {
    "duration": 72,
    "start_time": "2022-06-26T00:28:36.623Z"
   },
   {
    "duration": 22,
    "start_time": "2022-06-26T00:28:36.697Z"
   },
   {
    "duration": 16,
    "start_time": "2022-06-26T00:28:36.721Z"
   },
   {
    "duration": 29,
    "start_time": "2022-06-26T00:28:36.739Z"
   },
   {
    "duration": 32,
    "start_time": "2022-06-26T00:28:36.770Z"
   },
   {
    "duration": 19,
    "start_time": "2022-06-26T00:28:36.804Z"
   },
   {
    "duration": 54,
    "start_time": "2022-06-26T00:28:36.825Z"
   },
   {
    "duration": 8,
    "start_time": "2022-06-26T00:28:36.882Z"
   },
   {
    "duration": 19,
    "start_time": "2022-06-26T00:28:36.892Z"
   },
   {
    "duration": 28,
    "start_time": "2022-06-26T00:28:36.913Z"
   },
   {
    "duration": 57,
    "start_time": "2022-06-26T00:28:36.942Z"
   },
   {
    "duration": 8,
    "start_time": "2022-06-26T00:28:37.000Z"
   },
   {
    "duration": 143,
    "start_time": "2022-06-26T00:28:37.010Z"
   },
   {
    "duration": 15,
    "start_time": "2022-06-26T00:28:37.155Z"
   },
   {
    "duration": 18,
    "start_time": "2022-06-26T00:28:37.171Z"
   },
   {
    "duration": 10,
    "start_time": "2022-06-26T00:28:37.191Z"
   },
   {
    "duration": 9,
    "start_time": "2022-06-26T00:28:37.203Z"
   },
   {
    "duration": 67,
    "start_time": "2022-06-26T00:28:37.214Z"
   },
   {
    "duration": 7,
    "start_time": "2022-06-26T00:28:37.283Z"
   },
   {
    "duration": 156,
    "start_time": "2022-06-26T00:28:37.291Z"
   },
   {
    "duration": 18,
    "start_time": "2022-06-26T00:28:37.449Z"
   },
   {
    "duration": 18,
    "start_time": "2022-06-26T00:28:37.470Z"
   },
   {
    "duration": 10,
    "start_time": "2022-06-26T00:28:37.490Z"
   },
   {
    "duration": 7,
    "start_time": "2022-06-26T00:28:37.502Z"
   },
   {
    "duration": 22,
    "start_time": "2022-06-26T00:28:37.512Z"
   },
   {
    "duration": 95,
    "start_time": "2022-06-26T00:28:37.536Z"
   },
   {
    "duration": 8,
    "start_time": "2022-06-26T00:28:37.634Z"
   },
   {
    "duration": 146,
    "start_time": "2022-06-26T00:28:37.645Z"
   },
   {
    "duration": 6,
    "start_time": "2022-06-26T00:28:37.792Z"
   },
   {
    "duration": 15,
    "start_time": "2022-06-26T00:28:37.800Z"
   },
   {
    "duration": 8,
    "start_time": "2022-06-26T00:28:37.817Z"
   },
   {
    "duration": 7,
    "start_time": "2022-06-26T00:28:37.826Z"
   },
   {
    "duration": 39,
    "start_time": "2022-06-26T00:28:37.835Z"
   },
   {
    "duration": 17,
    "start_time": "2022-06-26T00:28:37.876Z"
   },
   {
    "duration": 8,
    "start_time": "2022-06-26T00:28:37.895Z"
   },
   {
    "duration": 130,
    "start_time": "2022-06-26T00:28:37.904Z"
   },
   {
    "duration": 7,
    "start_time": "2022-06-26T00:28:38.037Z"
   },
   {
    "duration": 33,
    "start_time": "2022-06-26T00:28:38.046Z"
   },
   {
    "duration": 11,
    "start_time": "2022-06-26T00:28:38.081Z"
   },
   {
    "duration": 4,
    "start_time": "2022-06-26T00:28:38.094Z"
   },
   {
    "duration": 10,
    "start_time": "2022-06-26T00:28:38.100Z"
   },
   {
    "duration": 136,
    "start_time": "2022-06-26T00:28:38.112Z"
   },
   {
    "duration": 18,
    "start_time": "2022-06-26T00:28:38.250Z"
   },
   {
    "duration": 325,
    "start_time": "2022-06-26T00:28:38.270Z"
   },
   {
    "duration": 6,
    "start_time": "2022-06-26T00:28:38.597Z"
   },
   {
    "duration": 15,
    "start_time": "2022-06-26T00:28:38.604Z"
   },
   {
    "duration": 11,
    "start_time": "2022-06-26T00:30:46.521Z"
   },
   {
    "duration": 12,
    "start_time": "2022-06-26T00:30:47.343Z"
   },
   {
    "duration": 329661,
    "start_time": "2022-06-26T00:30:47.445Z"
   },
   {
    "duration": 7,
    "start_time": "2022-06-26T00:36:18.244Z"
   },
   {
    "duration": 79,
    "start_time": "2022-06-26T00:36:18.289Z"
   },
   {
    "duration": 31,
    "start_time": "2022-06-26T00:36:18.370Z"
   },
   {
    "duration": 14,
    "start_time": "2022-06-26T00:36:18.423Z"
   },
   {
    "duration": 25,
    "start_time": "2022-06-26T00:36:18.444Z"
   },
   {
    "duration": 25,
    "start_time": "2022-06-26T00:36:18.542Z"
   },
   {
    "duration": 17,
    "start_time": "2022-06-26T00:36:18.576Z"
   },
   {
    "duration": 19,
    "start_time": "2022-06-26T00:36:18.748Z"
   },
   {
    "duration": 10,
    "start_time": "2022-06-26T00:36:19.015Z"
   },
   {
    "duration": 29,
    "start_time": "2022-06-26T00:36:19.107Z"
   },
   {
    "duration": 40,
    "start_time": "2022-06-26T00:36:19.145Z"
   },
   {
    "duration": 49,
    "start_time": "2022-06-26T00:36:19.242Z"
   },
   {
    "duration": 10,
    "start_time": "2022-06-26T00:36:19.348Z"
   },
   {
    "duration": 163,
    "start_time": "2022-06-26T00:36:19.408Z"
   },
   {
    "duration": 7,
    "start_time": "2022-06-26T00:36:19.573Z"
   },
   {
    "duration": 13,
    "start_time": "2022-06-26T00:36:19.609Z"
   },
   {
    "duration": 11,
    "start_time": "2022-06-26T00:36:19.706Z"
   },
   {
    "duration": 5,
    "start_time": "2022-06-26T00:36:19.770Z"
   },
   {
    "duration": 46,
    "start_time": "2022-06-26T00:36:19.895Z"
   },
   {
    "duration": 7,
    "start_time": "2022-06-26T00:36:19.990Z"
   },
   {
    "duration": 180,
    "start_time": "2022-06-26T00:36:20.103Z"
   },
   {
    "duration": 8,
    "start_time": "2022-06-26T00:36:20.286Z"
   },
   {
    "duration": 15,
    "start_time": "2022-06-26T00:36:20.485Z"
   },
   {
    "duration": 11,
    "start_time": "2022-06-26T00:36:21.059Z"
   },
   {
    "duration": 4,
    "start_time": "2022-06-26T00:36:21.155Z"
   },
   {
    "duration": 15,
    "start_time": "2022-06-26T00:36:21.251Z"
   },
   {
    "duration": 63,
    "start_time": "2022-06-26T00:36:21.292Z"
   },
   {
    "duration": 7,
    "start_time": "2022-06-26T00:36:21.390Z"
   },
   {
    "duration": 125,
    "start_time": "2022-06-26T00:36:21.516Z"
   },
   {
    "duration": 8,
    "start_time": "2022-06-26T00:36:21.643Z"
   },
   {
    "duration": 13,
    "start_time": "2022-06-26T00:36:22.589Z"
   },
   {
    "duration": 11,
    "start_time": "2022-06-26T00:36:23.142Z"
   },
   {
    "duration": 5,
    "start_time": "2022-06-26T00:36:23.697Z"
   },
   {
    "duration": 14,
    "start_time": "2022-06-26T00:36:24.262Z"
   },
   {
    "duration": 18,
    "start_time": "2022-06-26T00:36:24.587Z"
   },
   {
    "duration": 7,
    "start_time": "2022-06-26T00:36:25.441Z"
   },
   {
    "duration": 119,
    "start_time": "2022-06-26T00:36:25.542Z"
   },
   {
    "duration": 6,
    "start_time": "2022-06-26T00:36:25.666Z"
   },
   {
    "duration": 18,
    "start_time": "2022-06-26T00:36:26.597Z"
   },
   {
    "duration": 9,
    "start_time": "2022-06-26T00:36:28.021Z"
   },
   {
    "duration": 7,
    "start_time": "2022-06-26T00:36:29.543Z"
   },
   {
    "duration": 9,
    "start_time": "2022-06-26T00:36:29.607Z"
   },
   {
    "duration": 74,
    "start_time": "2022-06-26T00:36:29.795Z"
   },
   {
    "duration": 10,
    "start_time": "2022-06-26T00:36:29.971Z"
   },
   {
    "duration": 177,
    "start_time": "2022-06-26T00:36:30.042Z"
   },
   {
    "duration": 6,
    "start_time": "2022-06-26T00:36:30.757Z"
   },
   {
    "duration": 13,
    "start_time": "2022-06-26T00:36:31.291Z"
   },
   {
    "duration": 11,
    "start_time": "2022-06-26T00:36:31.367Z"
   },
   {
    "duration": 10,
    "start_time": "2022-06-26T00:36:32.565Z"
   },
   {
    "duration": 33111,
    "start_time": "2022-06-26T00:36:35.541Z"
   },
   {
    "duration": 0,
    "start_time": "2022-06-26T00:37:08.653Z"
   },
   {
    "duration": 5,
    "start_time": "2022-06-26T00:37:10.263Z"
   },
   {
    "duration": 74,
    "start_time": "2022-06-26T00:37:10.763Z"
   },
   {
    "duration": 30,
    "start_time": "2022-06-26T00:37:10.839Z"
   },
   {
    "duration": 14,
    "start_time": "2022-06-26T00:37:10.888Z"
   },
   {
    "duration": 18,
    "start_time": "2022-06-26T00:37:10.920Z"
   },
   {
    "duration": 28,
    "start_time": "2022-06-26T00:37:11.022Z"
   },
   {
    "duration": 20,
    "start_time": "2022-06-26T00:37:11.052Z"
   },
   {
    "duration": 22,
    "start_time": "2022-06-26T00:37:11.227Z"
   },
   {
    "duration": 9,
    "start_time": "2022-06-26T00:37:11.477Z"
   },
   {
    "duration": 29,
    "start_time": "2022-06-26T00:37:11.583Z"
   },
   {
    "duration": 40,
    "start_time": "2022-06-26T00:37:11.617Z"
   },
   {
    "duration": 50,
    "start_time": "2022-06-26T00:37:11.710Z"
   },
   {
    "duration": 9,
    "start_time": "2022-06-26T00:37:11.807Z"
   },
   {
    "duration": 135,
    "start_time": "2022-06-26T00:37:11.881Z"
   },
   {
    "duration": 6,
    "start_time": "2022-06-26T00:37:12.018Z"
   },
   {
    "duration": 15,
    "start_time": "2022-06-26T00:37:12.083Z"
   },
   {
    "duration": 10,
    "start_time": "2022-06-26T00:37:12.175Z"
   },
   {
    "duration": 5,
    "start_time": "2022-06-26T00:37:12.242Z"
   },
   {
    "duration": 45,
    "start_time": "2022-06-26T00:37:12.379Z"
   },
   {
    "duration": 7,
    "start_time": "2022-06-26T00:37:12.471Z"
   },
   {
    "duration": 129,
    "start_time": "2022-06-26T00:37:12.568Z"
   },
   {
    "duration": 6,
    "start_time": "2022-06-26T00:37:12.699Z"
   },
   {
    "duration": 14,
    "start_time": "2022-06-26T00:37:12.774Z"
   },
   {
    "duration": 8,
    "start_time": "2022-06-26T00:37:12.870Z"
   },
   {
    "duration": 6,
    "start_time": "2022-06-26T00:37:12.962Z"
   },
   {
    "duration": 14,
    "start_time": "2022-06-26T00:37:13.071Z"
   },
   {
    "duration": 90,
    "start_time": "2022-06-26T00:37:13.098Z"
   },
   {
    "duration": 7,
    "start_time": "2022-06-26T00:37:13.194Z"
   },
   {
    "duration": 147,
    "start_time": "2022-06-26T00:37:13.335Z"
   },
   {
    "duration": 7,
    "start_time": "2022-06-26T00:37:13.484Z"
   },
   {
    "duration": 17,
    "start_time": "2022-06-26T00:37:13.559Z"
   },
   {
    "duration": 9,
    "start_time": "2022-06-26T00:37:13.697Z"
   },
   {
    "duration": 5,
    "start_time": "2022-06-26T00:37:14.523Z"
   },
   {
    "duration": 13,
    "start_time": "2022-06-26T00:37:14.588Z"
   },
   {
    "duration": 17,
    "start_time": "2022-06-26T00:37:14.616Z"
   },
   {
    "duration": 7,
    "start_time": "2022-06-26T00:37:14.711Z"
   },
   {
    "duration": 145,
    "start_time": "2022-06-26T00:37:14.833Z"
   },
   {
    "duration": 7,
    "start_time": "2022-06-26T00:37:14.981Z"
   },
   {
    "duration": 15,
    "start_time": "2022-06-26T00:37:15.206Z"
   },
   {
    "duration": 11,
    "start_time": "2022-06-26T00:37:15.811Z"
   },
   {
    "duration": 5,
    "start_time": "2022-06-26T00:37:15.908Z"
   },
   {
    "duration": 7,
    "start_time": "2022-06-26T00:37:15.971Z"
   },
   {
    "duration": 75,
    "start_time": "2022-06-26T00:37:16.174Z"
   },
   {
    "duration": 9,
    "start_time": "2022-06-26T00:37:16.343Z"
   },
   {
    "duration": 126,
    "start_time": "2022-06-26T00:37:16.403Z"
   },
   {
    "duration": 7,
    "start_time": "2022-06-26T00:37:17.279Z"
   },
   {
    "duration": 14,
    "start_time": "2022-06-26T00:37:17.342Z"
   },
   {
    "duration": 8,
    "start_time": "2022-06-26T00:37:17.405Z"
   },
   {
    "duration": 11,
    "start_time": "2022-06-26T00:37:17.517Z"
   },
   {
    "duration": 1501,
    "start_time": "2022-06-26T00:38:14.652Z"
   },
   {
    "duration": 70,
    "start_time": "2022-06-26T00:38:16.155Z"
   },
   {
    "duration": 32,
    "start_time": "2022-06-26T00:38:16.227Z"
   },
   {
    "duration": 15,
    "start_time": "2022-06-26T00:38:16.261Z"
   },
   {
    "duration": 14,
    "start_time": "2022-06-26T00:38:16.278Z"
   },
   {
    "duration": 23,
    "start_time": "2022-06-26T00:38:16.294Z"
   },
   {
    "duration": 48,
    "start_time": "2022-06-26T00:38:16.319Z"
   },
   {
    "duration": 23,
    "start_time": "2022-06-26T00:38:16.369Z"
   },
   {
    "duration": 10,
    "start_time": "2022-06-26T00:38:16.395Z"
   },
   {
    "duration": 29,
    "start_time": "2022-06-26T00:38:16.409Z"
   },
   {
    "duration": 46,
    "start_time": "2022-06-26T00:38:16.469Z"
   },
   {
    "duration": 73,
    "start_time": "2022-06-26T00:38:16.517Z"
   },
   {
    "duration": 9,
    "start_time": "2022-06-26T00:38:16.592Z"
   },
   {
    "duration": 171,
    "start_time": "2022-06-26T00:38:16.603Z"
   },
   {
    "duration": 7,
    "start_time": "2022-06-26T00:38:16.776Z"
   },
   {
    "duration": 18,
    "start_time": "2022-06-26T00:38:16.785Z"
   },
   {
    "duration": 11,
    "start_time": "2022-06-26T00:38:16.805Z"
   },
   {
    "duration": 8,
    "start_time": "2022-06-26T00:38:16.818Z"
   },
   {
    "duration": 83,
    "start_time": "2022-06-26T00:38:16.828Z"
   },
   {
    "duration": 8,
    "start_time": "2022-06-26T00:38:16.914Z"
   },
   {
    "duration": 196,
    "start_time": "2022-06-26T00:38:16.925Z"
   },
   {
    "duration": 6,
    "start_time": "2022-06-26T00:38:17.123Z"
   },
   {
    "duration": 37,
    "start_time": "2022-06-26T00:38:17.131Z"
   },
   {
    "duration": 11,
    "start_time": "2022-06-26T00:38:17.170Z"
   },
   {
    "duration": 11,
    "start_time": "2022-06-26T00:38:17.184Z"
   },
   {
    "duration": 18,
    "start_time": "2022-06-26T00:38:17.682Z"
   },
   {
    "duration": 75,
    "start_time": "2022-06-26T00:38:18.182Z"
   },
   {
    "duration": 7,
    "start_time": "2022-06-26T00:38:18.288Z"
   },
   {
    "duration": 134,
    "start_time": "2022-06-26T00:38:18.416Z"
   },
   {
    "duration": 14,
    "start_time": "2022-06-26T00:38:18.553Z"
   },
   {
    "duration": 15,
    "start_time": "2022-06-26T00:38:18.642Z"
   },
   {
    "duration": 11,
    "start_time": "2022-06-26T00:38:18.780Z"
   },
   {
    "duration": 6,
    "start_time": "2022-06-26T00:38:18.880Z"
   },
   {
    "duration": 15,
    "start_time": "2022-06-26T00:38:18.942Z"
   },
   {
    "duration": 20,
    "start_time": "2022-06-26T00:38:18.990Z"
   },
   {
    "duration": 8,
    "start_time": "2022-06-26T00:38:19.394Z"
   },
   {
    "duration": 120,
    "start_time": "2022-06-26T00:38:19.960Z"
   },
   {
    "duration": 6,
    "start_time": "2022-06-26T00:38:20.083Z"
   },
   {
    "duration": 14,
    "start_time": "2022-06-26T00:38:20.102Z"
   },
   {
    "duration": 11,
    "start_time": "2022-06-26T00:38:20.222Z"
   },
   {
    "duration": 5,
    "start_time": "2022-06-26T00:38:20.330Z"
   },
   {
    "duration": 8,
    "start_time": "2022-06-26T00:38:20.394Z"
   },
   {
    "duration": 75,
    "start_time": "2022-06-26T00:38:20.582Z"
   },
   {
    "duration": 7,
    "start_time": "2022-06-26T00:38:21.715Z"
   },
   {
    "duration": 152,
    "start_time": "2022-06-26T00:38:22.249Z"
   },
   {
    "duration": 7,
    "start_time": "2022-06-26T00:38:22.403Z"
   },
   {
    "duration": 26,
    "start_time": "2022-06-26T00:38:22.412Z"
   },
   {
    "duration": 11,
    "start_time": "2022-06-26T00:38:22.759Z"
   },
   {
    "duration": 11,
    "start_time": "2022-06-26T00:38:23.321Z"
   },
   {
    "duration": 464061,
    "start_time": "2022-06-26T00:38:23.426Z"
   },
   {
    "duration": 473684,
    "start_time": "2022-06-26T00:48:18.676Z"
   },
   {
    "duration": 429733,
    "start_time": "2022-06-26T00:57:34.575Z"
   },
   {
    "duration": 124,
    "start_time": "2022-06-26T03:14:10.110Z"
   },
   {
    "duration": 46,
    "start_time": "2022-06-26T03:14:18.726Z"
   },
   {
    "duration": 5,
    "start_time": "2022-06-26T03:15:43.033Z"
   },
   {
    "duration": 73,
    "start_time": "2022-06-26T03:15:43.530Z"
   },
   {
    "duration": 22,
    "start_time": "2022-06-26T03:15:43.605Z"
   },
   {
    "duration": 13,
    "start_time": "2022-06-26T03:15:43.671Z"
   },
   {
    "duration": 12,
    "start_time": "2022-06-26T03:15:43.697Z"
   },
   {
    "duration": 21,
    "start_time": "2022-06-26T03:15:43.806Z"
   },
   {
    "duration": 15,
    "start_time": "2022-06-26T03:15:43.829Z"
   },
   {
    "duration": 15,
    "start_time": "2022-06-26T03:15:44.001Z"
   },
   {
    "duration": 8,
    "start_time": "2022-06-26T03:15:45.282Z"
   },
   {
    "duration": 18,
    "start_time": "2022-06-26T03:15:46.994Z"
   },
   {
    "duration": 27,
    "start_time": "2022-06-26T03:15:48.420Z"
   },
   {
    "duration": 5,
    "start_time": "2022-06-26T03:15:54.466Z"
   },
   {
    "duration": 61,
    "start_time": "2022-06-26T03:15:54.835Z"
   },
   {
    "duration": 22,
    "start_time": "2022-06-26T03:15:55.186Z"
   },
   {
    "duration": 11,
    "start_time": "2022-06-26T03:15:56.559Z"
   },
   {
    "duration": 11,
    "start_time": "2022-06-26T03:15:56.592Z"
   },
   {
    "duration": 21,
    "start_time": "2022-06-26T03:15:56.682Z"
   },
   {
    "duration": 14,
    "start_time": "2022-06-26T03:15:56.730Z"
   },
   {
    "duration": 15,
    "start_time": "2022-06-26T03:15:56.890Z"
   },
   {
    "duration": 7,
    "start_time": "2022-06-26T03:15:57.156Z"
   },
   {
    "duration": 17,
    "start_time": "2022-06-26T03:15:57.255Z"
   },
   {
    "duration": 24,
    "start_time": "2022-06-26T03:15:57.281Z"
   },
   {
    "duration": 34,
    "start_time": "2022-06-26T03:15:57.376Z"
   },
   {
    "duration": 6,
    "start_time": "2022-06-26T03:15:57.748Z"
   },
   {
    "duration": 114,
    "start_time": "2022-06-26T03:15:58.283Z"
   },
   {
    "duration": 5,
    "start_time": "2022-06-26T03:15:58.399Z"
   },
   {
    "duration": 11,
    "start_time": "2022-06-26T03:15:58.486Z"
   },
   {
    "duration": 7,
    "start_time": "2022-06-26T03:15:58.583Z"
   },
   {
    "duration": 4,
    "start_time": "2022-06-26T03:15:58.660Z"
   },
   {
    "duration": 34,
    "start_time": "2022-06-26T03:15:58.786Z"
   },
   {
    "duration": 7,
    "start_time": "2022-06-26T03:15:58.878Z"
   },
   {
    "duration": 109,
    "start_time": "2022-06-26T03:15:58.986Z"
   },
   {
    "duration": 5,
    "start_time": "2022-06-26T03:15:59.844Z"
   },
   {
    "duration": 12,
    "start_time": "2022-06-26T03:15:59.968Z"
   },
   {
    "duration": 8,
    "start_time": "2022-06-26T03:16:00.066Z"
   },
   {
    "duration": 4,
    "start_time": "2022-06-26T03:16:00.996Z"
   },
   {
    "duration": 17,
    "start_time": "2022-06-26T03:16:01.091Z"
   },
   {
    "duration": 58,
    "start_time": "2022-06-26T03:16:01.412Z"
   },
   {
    "duration": 7,
    "start_time": "2022-06-26T03:16:01.991Z"
   },
   {
    "duration": 119,
    "start_time": "2022-06-26T03:16:02.355Z"
   },
   {
    "duration": 5,
    "start_time": "2022-06-26T03:16:02.896Z"
   },
   {
    "duration": 11,
    "start_time": "2022-06-26T03:16:03.056Z"
   },
   {
    "duration": 8,
    "start_time": "2022-06-26T03:16:03.540Z"
   },
   {
    "duration": 4,
    "start_time": "2022-06-26T03:16:04.113Z"
   },
   {
    "duration": 10,
    "start_time": "2022-06-26T03:16:04.174Z"
   },
   {
    "duration": 13,
    "start_time": "2022-06-26T03:16:04.203Z"
   },
   {
    "duration": 6,
    "start_time": "2022-06-26T03:16:05.091Z"
   },
   {
    "duration": 203,
    "start_time": "2022-06-26T03:16:05.187Z"
   },
   {
    "duration": 5,
    "start_time": "2022-06-26T03:16:05.391Z"
   },
   {
    "duration": 12,
    "start_time": "2022-06-26T03:16:06.148Z"
   },
   {
    "duration": 7,
    "start_time": "2022-06-26T03:16:06.277Z"
   },
   {
    "duration": 4,
    "start_time": "2022-06-26T03:16:06.707Z"
   },
   {
    "duration": 6,
    "start_time": "2022-06-26T03:16:07.247Z"
   },
   {
    "duration": 65,
    "start_time": "2022-06-26T03:16:07.875Z"
   },
   {
    "duration": 7,
    "start_time": "2022-06-26T03:16:09.451Z"
   },
   {
    "duration": 104,
    "start_time": "2022-06-26T03:16:09.532Z"
   },
   {
    "duration": 5,
    "start_time": "2022-06-26T03:16:10.523Z"
   },
   {
    "duration": 10,
    "start_time": "2022-06-26T03:16:10.588Z"
   },
   {
    "duration": 7,
    "start_time": "2022-06-26T03:16:10.648Z"
   },
   {
    "duration": 8,
    "start_time": "2022-06-26T03:16:10.761Z"
   },
   {
    "duration": 138,
    "start_time": "2022-06-26T03:16:13.172Z"
   },
   {
    "duration": 57,
    "start_time": "2022-06-26T03:17:01.122Z"
   },
   {
    "duration": 11,
    "start_time": "2022-06-26T03:17:30.547Z"
   },
   {
    "duration": 163,
    "start_time": "2022-06-26T03:17:35.221Z"
   },
   {
    "duration": 69,
    "start_time": "2022-06-26T03:19:16.976Z"
   },
   {
    "duration": 66,
    "start_time": "2022-06-26T03:19:42.561Z"
   },
   {
    "duration": 6,
    "start_time": "2022-06-26T03:19:43.506Z"
   },
   {
    "duration": 102,
    "start_time": "2022-06-26T03:19:43.936Z"
   },
   {
    "duration": 5,
    "start_time": "2022-06-26T03:19:44.484Z"
   },
   {
    "duration": 10,
    "start_time": "2022-06-26T03:19:44.549Z"
   },
   {
    "duration": 8,
    "start_time": "2022-06-26T03:19:44.608Z"
   },
   {
    "duration": 9,
    "start_time": "2022-06-26T03:19:45.591Z"
   },
   {
    "duration": 67,
    "start_time": "2022-06-26T03:19:46.491Z"
   },
   {
    "duration": 68,
    "start_time": "2022-06-26T03:20:08.176Z"
   },
   {
    "duration": 67,
    "start_time": "2022-06-26T03:20:35.680Z"
   },
   {
    "duration": 67,
    "start_time": "2022-06-26T03:21:12.018Z"
   },
   {
    "duration": 69,
    "start_time": "2022-06-26T03:21:16.244Z"
   },
   {
    "duration": 67,
    "start_time": "2022-06-26T03:21:36.644Z"
   },
   {
    "duration": 159,
    "start_time": "2022-06-26T03:22:06.034Z"
   },
   {
    "duration": 69,
    "start_time": "2022-06-26T03:22:51.233Z"
   },
   {
    "duration": 171,
    "start_time": "2022-06-26T03:22:58.228Z"
   },
   {
    "duration": 164,
    "start_time": "2022-06-26T03:24:15.072Z"
   },
   {
    "duration": 176,
    "start_time": "2022-06-26T03:24:54.561Z"
   },
   {
    "duration": 160,
    "start_time": "2022-06-26T03:25:34.240Z"
   },
   {
    "duration": 162,
    "start_time": "2022-06-26T03:25:51.040Z"
   },
   {
    "duration": 159,
    "start_time": "2022-06-26T03:26:13.826Z"
   },
   {
    "duration": 475,
    "start_time": "2022-06-26T03:30:35.678Z"
   },
   {
    "duration": 439,
    "start_time": "2022-06-26T03:31:21.230Z"
   },
   {
    "duration": 466,
    "start_time": "2022-06-26T03:31:46.589Z"
   },
   {
    "duration": 261,
    "start_time": "2022-06-26T03:32:25.037Z"
   },
   {
    "duration": 161,
    "start_time": "2022-06-26T03:33:39.312Z"
   },
   {
    "duration": 156,
    "start_time": "2022-06-26T03:33:45.550Z"
   },
   {
    "duration": 441,
    "start_time": "2022-06-26T03:34:30.813Z"
   },
   {
    "duration": 1241,
    "start_time": "2022-06-26T03:40:46.201Z"
   },
   {
    "duration": 66,
    "start_time": "2022-06-26T03:40:47.444Z"
   },
   {
    "duration": 24,
    "start_time": "2022-06-26T03:40:47.511Z"
   },
   {
    "duration": 11,
    "start_time": "2022-06-26T03:40:47.539Z"
   },
   {
    "duration": 12,
    "start_time": "2022-06-26T03:40:47.571Z"
   },
   {
    "duration": 20,
    "start_time": "2022-06-26T03:40:47.668Z"
   },
   {
    "duration": 16,
    "start_time": "2022-06-26T03:40:47.697Z"
   },
   {
    "duration": 15,
    "start_time": "2022-06-26T03:40:48.573Z"
   },
   {
    "duration": 7,
    "start_time": "2022-06-26T03:40:49.727Z"
   },
   {
    "duration": 17,
    "start_time": "2022-06-26T03:40:50.135Z"
   },
   {
    "duration": 27,
    "start_time": "2022-06-26T03:40:50.647Z"
   },
   {
    "duration": 33,
    "start_time": "2022-06-26T03:40:50.741Z"
   },
   {
    "duration": 6,
    "start_time": "2022-06-26T03:40:50.837Z"
   },
   {
    "duration": 120,
    "start_time": "2022-06-26T03:40:50.905Z"
   },
   {
    "duration": 4,
    "start_time": "2022-06-26T03:40:51.027Z"
   },
   {
    "duration": 11,
    "start_time": "2022-06-26T03:40:51.108Z"
   },
   {
    "duration": 8,
    "start_time": "2022-06-26T03:40:51.205Z"
   },
   {
    "duration": 4,
    "start_time": "2022-06-26T03:40:51.267Z"
   },
   {
    "duration": 35,
    "start_time": "2022-06-26T03:40:51.407Z"
   },
   {
    "duration": 7,
    "start_time": "2022-06-26T03:40:51.508Z"
   },
   {
    "duration": 109,
    "start_time": "2022-06-26T03:40:51.596Z"
   },
   {
    "duration": 5,
    "start_time": "2022-06-26T03:40:51.707Z"
   },
   {
    "duration": 12,
    "start_time": "2022-06-26T03:40:51.799Z"
   },
   {
    "duration": 8,
    "start_time": "2022-06-26T03:40:51.893Z"
   },
   {
    "duration": 4,
    "start_time": "2022-06-26T03:40:51.989Z"
   },
   {
    "duration": 14,
    "start_time": "2022-06-26T03:40:52.104Z"
   },
   {
    "duration": 57,
    "start_time": "2022-06-26T03:40:52.141Z"
   },
   {
    "duration": 6,
    "start_time": "2022-06-26T03:40:52.223Z"
   },
   {
    "duration": 102,
    "start_time": "2022-06-26T03:40:52.353Z"
   },
   {
    "duration": 4,
    "start_time": "2022-06-26T03:40:52.467Z"
   },
   {
    "duration": 11,
    "start_time": "2022-06-26T03:40:52.590Z"
   },
   {
    "duration": 7,
    "start_time": "2022-06-26T03:40:52.713Z"
   },
   {
    "duration": 4,
    "start_time": "2022-06-26T03:40:52.824Z"
   },
   {
    "duration": 9,
    "start_time": "2022-06-26T03:40:52.892Z"
   },
   {
    "duration": 12,
    "start_time": "2022-06-26T03:40:52.918Z"
   },
   {
    "duration": 6,
    "start_time": "2022-06-26T03:40:53.011Z"
   },
   {
    "duration": 94,
    "start_time": "2022-06-26T03:40:53.121Z"
   },
   {
    "duration": 5,
    "start_time": "2022-06-26T03:40:53.992Z"
   },
   {
    "duration": 11,
    "start_time": "2022-06-26T03:40:54.058Z"
   },
   {
    "duration": 7,
    "start_time": "2022-06-26T03:40:54.182Z"
   },
   {
    "duration": 4,
    "start_time": "2022-06-26T03:40:54.275Z"
   },
   {
    "duration": 6,
    "start_time": "2022-06-26T03:40:54.357Z"
   },
   {
    "duration": 69,
    "start_time": "2022-06-26T03:40:55.473Z"
   },
   {
    "duration": 7,
    "start_time": "2022-06-26T03:40:56.678Z"
   },
   {
    "duration": 104,
    "start_time": "2022-06-26T03:40:57.302Z"
   },
   {
    "duration": 5,
    "start_time": "2022-06-26T03:40:58.102Z"
   },
   {
    "duration": 10,
    "start_time": "2022-06-26T03:40:58.642Z"
   },
   {
    "duration": 7,
    "start_time": "2022-06-26T03:40:58.702Z"
   },
   {
    "duration": 8,
    "start_time": "2022-06-26T03:40:59.269Z"
   },
   {
    "duration": 390,
    "start_time": "2022-06-26T03:41:01.351Z"
   },
   {
    "duration": 58,
    "start_time": "2022-06-26T03:41:48.839Z"
   },
   {
    "duration": 53,
    "start_time": "2022-06-26T03:41:53.478Z"
   },
   {
    "duration": 21,
    "start_time": "2022-06-26T03:42:49.125Z"
   },
   {
    "duration": 32459,
    "start_time": "2022-06-26T03:43:22.021Z"
   },
   {
    "duration": 1274,
    "start_time": "2022-06-26T03:47:21.597Z"
   },
   {
    "duration": 63,
    "start_time": "2022-06-26T03:47:22.873Z"
   },
   {
    "duration": 25,
    "start_time": "2022-06-26T03:47:22.938Z"
   },
   {
    "duration": 12,
    "start_time": "2022-06-26T03:47:22.965Z"
   },
   {
    "duration": 13,
    "start_time": "2022-06-26T03:47:22.978Z"
   },
   {
    "duration": 22,
    "start_time": "2022-06-26T03:47:22.992Z"
   },
   {
    "duration": 22,
    "start_time": "2022-06-26T03:47:23.016Z"
   },
   {
    "duration": 43,
    "start_time": "2022-06-26T03:47:23.039Z"
   },
   {
    "duration": 8,
    "start_time": "2022-06-26T03:47:23.084Z"
   },
   {
    "duration": 20,
    "start_time": "2022-06-26T03:47:23.094Z"
   },
   {
    "duration": 31,
    "start_time": "2022-06-26T03:47:23.115Z"
   },
   {
    "duration": 34,
    "start_time": "2022-06-26T03:47:23.168Z"
   },
   {
    "duration": 6,
    "start_time": "2022-06-26T03:47:23.204Z"
   },
   {
    "duration": 134,
    "start_time": "2022-06-26T03:47:23.221Z"
   },
   {
    "duration": 5,
    "start_time": "2022-06-26T03:47:23.367Z"
   },
   {
    "duration": 10,
    "start_time": "2022-06-26T03:47:23.426Z"
   },
   {
    "duration": 7,
    "start_time": "2022-06-26T03:47:23.521Z"
   },
   {
    "duration": 4,
    "start_time": "2022-06-26T03:47:23.587Z"
   },
   {
    "duration": 34,
    "start_time": "2022-06-26T03:47:23.727Z"
   },
   {
    "duration": 6,
    "start_time": "2022-06-26T03:47:23.820Z"
   },
   {
    "duration": 103,
    "start_time": "2022-06-26T03:47:23.917Z"
   },
   {
    "duration": 5,
    "start_time": "2022-06-26T03:47:24.022Z"
   },
   {
    "duration": 12,
    "start_time": "2022-06-26T03:47:24.121Z"
   },
   {
    "duration": 8,
    "start_time": "2022-06-26T03:47:24.217Z"
   },
   {
    "duration": 4,
    "start_time": "2022-06-26T03:47:24.309Z"
   },
   {
    "duration": 15,
    "start_time": "2022-06-26T03:47:24.412Z"
   },
   {
    "duration": 55,
    "start_time": "2022-06-26T03:47:24.454Z"
   },
   {
    "duration": 6,
    "start_time": "2022-06-26T03:47:24.548Z"
   },
   {
    "duration": 115,
    "start_time": "2022-06-26T03:47:24.674Z"
   },
   {
    "duration": 4,
    "start_time": "2022-06-26T03:47:24.791Z"
   },
   {
    "duration": 10,
    "start_time": "2022-06-26T03:47:24.915Z"
   },
   {
    "duration": 8,
    "start_time": "2022-06-26T03:47:25.038Z"
   },
   {
    "duration": 4,
    "start_time": "2022-06-26T03:47:25.134Z"
   },
   {
    "duration": 10,
    "start_time": "2022-06-26T03:47:25.211Z"
   },
   {
    "duration": 13,
    "start_time": "2022-06-26T03:47:25.246Z"
   },
   {
    "duration": 6,
    "start_time": "2022-06-26T03:47:25.339Z"
   },
   {
    "duration": 95,
    "start_time": "2022-06-26T03:47:25.434Z"
   },
   {
    "duration": 5,
    "start_time": "2022-06-26T03:47:25.531Z"
   },
   {
    "duration": 11,
    "start_time": "2022-06-26T03:47:25.574Z"
   },
   {
    "duration": 9,
    "start_time": "2022-06-26T03:47:25.702Z"
   },
   {
    "duration": 4,
    "start_time": "2022-06-26T03:47:25.790Z"
   },
   {
    "duration": 6,
    "start_time": "2022-06-26T03:47:25.869Z"
   },
   {
    "duration": 71,
    "start_time": "2022-06-26T03:47:26.065Z"
   },
   {
    "duration": 6,
    "start_time": "2022-06-26T03:47:26.218Z"
   },
   {
    "duration": 106,
    "start_time": "2022-06-26T03:47:26.305Z"
   },
   {
    "duration": 4,
    "start_time": "2022-06-26T03:47:26.413Z"
   },
   {
    "duration": 10,
    "start_time": "2022-06-26T03:47:26.430Z"
   },
   {
    "duration": 7,
    "start_time": "2022-06-26T03:47:26.494Z"
   },
   {
    "duration": 7,
    "start_time": "2022-06-26T03:47:26.587Z"
   },
   {
    "duration": 47,
    "start_time": "2022-06-26T03:47:26.759Z"
   },
   {
    "duration": 379958,
    "start_time": "2022-06-26T03:47:44.095Z"
   },
   {
    "duration": 0,
    "start_time": "2022-06-26T03:55:13.991Z"
   },
   {
    "duration": 5,
    "start_time": "2022-06-26T03:55:18.075Z"
   },
   {
    "duration": 63,
    "start_time": "2022-06-26T03:55:18.571Z"
   },
   {
    "duration": 21,
    "start_time": "2022-06-26T03:55:18.636Z"
   },
   {
    "duration": 12,
    "start_time": "2022-06-26T03:55:18.711Z"
   },
   {
    "duration": 12,
    "start_time": "2022-06-26T03:55:18.742Z"
   },
   {
    "duration": 27,
    "start_time": "2022-06-26T03:55:18.842Z"
   },
   {
    "duration": 25,
    "start_time": "2022-06-26T03:55:18.871Z"
   },
   {
    "duration": 14,
    "start_time": "2022-06-26T03:55:19.050Z"
   },
   {
    "duration": 7,
    "start_time": "2022-06-26T03:55:19.305Z"
   },
   {
    "duration": 17,
    "start_time": "2022-06-26T03:55:19.411Z"
   },
   {
    "duration": 24,
    "start_time": "2022-06-26T03:55:19.446Z"
   },
   {
    "duration": 34,
    "start_time": "2022-06-26T03:55:19.541Z"
   },
   {
    "duration": 6,
    "start_time": "2022-06-26T03:55:19.636Z"
   },
   {
    "duration": 100,
    "start_time": "2022-06-26T03:55:19.709Z"
   },
   {
    "duration": 4,
    "start_time": "2022-06-26T03:55:19.810Z"
   },
   {
    "duration": 9,
    "start_time": "2022-06-26T03:55:19.898Z"
   },
   {
    "duration": 7,
    "start_time": "2022-06-26T03:55:19.993Z"
   },
   {
    "duration": 5,
    "start_time": "2022-06-26T03:55:20.068Z"
   },
   {
    "duration": 33,
    "start_time": "2022-06-26T03:55:20.199Z"
   },
   {
    "duration": 6,
    "start_time": "2022-06-26T03:55:20.293Z"
   },
   {
    "duration": 101,
    "start_time": "2022-06-26T03:55:20.391Z"
   },
   {
    "duration": 4,
    "start_time": "2022-06-26T03:55:20.494Z"
   },
   {
    "duration": 11,
    "start_time": "2022-06-26T03:55:20.596Z"
   },
   {
    "duration": 7,
    "start_time": "2022-06-26T03:55:20.695Z"
   },
   {
    "duration": 4,
    "start_time": "2022-06-26T03:55:20.786Z"
   },
   {
    "duration": 12,
    "start_time": "2022-06-26T03:55:20.895Z"
   },
   {
    "duration": 55,
    "start_time": "2022-06-26T03:55:20.921Z"
   },
   {
    "duration": 6,
    "start_time": "2022-06-26T03:55:21.015Z"
   },
   {
    "duration": 109,
    "start_time": "2022-06-26T03:55:21.162Z"
   },
   {
    "duration": 5,
    "start_time": "2022-06-26T03:55:21.273Z"
   },
   {
    "duration": 10,
    "start_time": "2022-06-26T03:55:21.381Z"
   },
   {
    "duration": 8,
    "start_time": "2022-06-26T03:55:21.521Z"
   },
   {
    "duration": 4,
    "start_time": "2022-06-26T03:55:21.615Z"
   },
   {
    "duration": 10,
    "start_time": "2022-06-26T03:55:21.683Z"
   },
   {
    "duration": 12,
    "start_time": "2022-06-26T03:55:21.710Z"
   },
   {
    "duration": 5,
    "start_time": "2022-06-26T03:55:21.821Z"
   },
   {
    "duration": 93,
    "start_time": "2022-06-26T03:55:21.914Z"
   },
   {
    "duration": 5,
    "start_time": "2022-06-26T03:55:22.008Z"
   },
   {
    "duration": 10,
    "start_time": "2022-06-26T03:55:22.313Z"
   },
   {
    "duration": 6,
    "start_time": "2022-06-26T03:55:22.918Z"
   },
   {
    "duration": 6,
    "start_time": "2022-06-26T03:55:23.012Z"
   },
   {
    "duration": 5,
    "start_time": "2022-06-26T03:55:23.090Z"
   },
   {
    "duration": 65,
    "start_time": "2022-06-26T03:55:23.282Z"
   },
   {
    "duration": 7,
    "start_time": "2022-06-26T03:55:23.453Z"
   },
   {
    "duration": 107,
    "start_time": "2022-06-26T03:55:23.934Z"
   },
   {
    "duration": 5,
    "start_time": "2022-06-26T03:55:24.465Z"
   },
   {
    "duration": 10,
    "start_time": "2022-06-26T03:55:24.530Z"
   },
   {
    "duration": 7,
    "start_time": "2022-06-26T03:55:24.593Z"
   },
   {
    "duration": 8,
    "start_time": "2022-06-26T03:55:24.709Z"
   },
   {
    "duration": 380045,
    "start_time": "2022-06-26T03:55:26.395Z"
   },
   {
    "duration": 357905,
    "start_time": "2022-06-26T04:03:06.101Z"
   },
   {
    "duration": 362007,
    "start_time": "2022-06-26T04:09:58.948Z"
   },
   {
    "duration": 13,
    "start_time": "2022-06-26T04:19:03.264Z"
   },
   {
    "duration": 291416,
    "start_time": "2022-06-26T04:19:17.391Z"
   },
   {
    "duration": 22276,
    "start_time": "2022-06-26T04:24:48.350Z"
   },
   {
    "duration": 14,
    "start_time": "2022-06-26T04:26:27.181Z"
   },
   {
    "duration": 2309,
    "start_time": "2022-06-26T04:26:55.535Z"
   },
   {
    "duration": 2429,
    "start_time": "2022-06-26T04:31:03.646Z"
   },
   {
    "duration": 2353,
    "start_time": "2022-06-26T04:31:41.067Z"
   },
   {
    "duration": 2486,
    "start_time": "2022-06-26T04:36:02.410Z"
   },
   {
    "duration": 2448,
    "start_time": "2022-06-26T04:38:28.728Z"
   },
   {
    "duration": 50,
    "start_time": "2022-06-26T04:41:07.847Z"
   },
   {
    "duration": 165,
    "start_time": "2022-06-26T04:45:08.498Z"
   },
   {
    "duration": 8830,
    "start_time": "2022-06-26T04:51:48.770Z"
   },
   {
    "duration": 0,
    "start_time": "2022-06-26T04:57:46.237Z"
   },
   {
    "duration": 0,
    "start_time": "2022-06-26T04:57:46.238Z"
   },
   {
    "duration": 0,
    "start_time": "2022-06-26T04:57:46.239Z"
   },
   {
    "duration": 0,
    "start_time": "2022-06-26T04:57:46.240Z"
   },
   {
    "duration": 0,
    "start_time": "2022-06-26T04:57:46.242Z"
   },
   {
    "duration": 0,
    "start_time": "2022-06-26T04:57:46.243Z"
   },
   {
    "duration": 0,
    "start_time": "2022-06-26T04:57:46.244Z"
   },
   {
    "duration": 0,
    "start_time": "2022-06-26T04:57:46.245Z"
   },
   {
    "duration": 0,
    "start_time": "2022-06-26T04:57:46.246Z"
   },
   {
    "duration": 0,
    "start_time": "2022-06-26T04:57:46.267Z"
   },
   {
    "duration": 0,
    "start_time": "2022-06-26T04:57:46.268Z"
   },
   {
    "duration": 0,
    "start_time": "2022-06-26T04:57:46.270Z"
   },
   {
    "duration": 0,
    "start_time": "2022-06-26T04:57:46.271Z"
   },
   {
    "duration": 0,
    "start_time": "2022-06-26T04:57:46.272Z"
   },
   {
    "duration": 0,
    "start_time": "2022-06-26T04:57:46.273Z"
   },
   {
    "duration": 0,
    "start_time": "2022-06-26T04:57:46.274Z"
   },
   {
    "duration": 0,
    "start_time": "2022-06-26T04:57:46.276Z"
   },
   {
    "duration": 0,
    "start_time": "2022-06-26T04:57:46.277Z"
   },
   {
    "duration": 0,
    "start_time": "2022-06-26T04:57:46.278Z"
   },
   {
    "duration": 0,
    "start_time": "2022-06-26T04:57:46.279Z"
   },
   {
    "duration": 0,
    "start_time": "2022-06-26T04:57:46.280Z"
   },
   {
    "duration": 0,
    "start_time": "2022-06-26T04:57:46.281Z"
   },
   {
    "duration": 0,
    "start_time": "2022-06-26T04:57:46.282Z"
   },
   {
    "duration": 0,
    "start_time": "2022-06-26T04:57:46.283Z"
   },
   {
    "duration": 0,
    "start_time": "2022-06-26T04:57:46.284Z"
   },
   {
    "duration": 0,
    "start_time": "2022-06-26T04:57:46.285Z"
   },
   {
    "duration": 0,
    "start_time": "2022-06-26T04:57:46.286Z"
   },
   {
    "duration": 0,
    "start_time": "2022-06-26T04:57:46.287Z"
   },
   {
    "duration": 0,
    "start_time": "2022-06-26T04:57:46.288Z"
   },
   {
    "duration": 0,
    "start_time": "2022-06-26T04:57:46.289Z"
   },
   {
    "duration": 0,
    "start_time": "2022-06-26T04:57:46.290Z"
   },
   {
    "duration": 0,
    "start_time": "2022-06-26T04:57:46.291Z"
   },
   {
    "duration": 0,
    "start_time": "2022-06-26T04:57:46.292Z"
   },
   {
    "duration": 0,
    "start_time": "2022-06-26T04:57:46.294Z"
   },
   {
    "duration": 0,
    "start_time": "2022-06-26T04:57:46.295Z"
   },
   {
    "duration": 0,
    "start_time": "2022-06-26T04:57:46.296Z"
   },
   {
    "duration": 0,
    "start_time": "2022-06-26T04:57:46.297Z"
   },
   {
    "duration": 0,
    "start_time": "2022-06-26T04:57:46.297Z"
   },
   {
    "duration": 0,
    "start_time": "2022-06-26T04:57:46.298Z"
   },
   {
    "duration": 0,
    "start_time": "2022-06-26T04:57:46.299Z"
   },
   {
    "duration": 0,
    "start_time": "2022-06-26T04:57:46.300Z"
   },
   {
    "duration": 0,
    "start_time": "2022-06-26T04:57:46.301Z"
   },
   {
    "duration": 0,
    "start_time": "2022-06-26T04:57:46.302Z"
   },
   {
    "duration": 4,
    "start_time": "2022-06-26T04:57:55.838Z"
   },
   {
    "duration": 58,
    "start_time": "2022-06-26T04:57:55.868Z"
   },
   {
    "duration": 21,
    "start_time": "2022-06-26T04:57:55.928Z"
   },
   {
    "duration": 12,
    "start_time": "2022-06-26T04:57:56.007Z"
   },
   {
    "duration": 13,
    "start_time": "2022-06-26T04:57:56.037Z"
   },
   {
    "duration": 22,
    "start_time": "2022-06-26T04:57:56.130Z"
   },
   {
    "duration": 15,
    "start_time": "2022-06-26T04:57:56.162Z"
   },
   {
    "duration": 15,
    "start_time": "2022-06-26T04:57:56.340Z"
   },
   {
    "duration": 8,
    "start_time": "2022-06-26T04:57:56.601Z"
   },
   {
    "duration": 18,
    "start_time": "2022-06-26T04:57:56.696Z"
   },
   {
    "duration": 25,
    "start_time": "2022-06-26T04:57:56.725Z"
   },
   {
    "duration": 34,
    "start_time": "2022-06-26T04:57:56.820Z"
   },
   {
    "duration": 8,
    "start_time": "2022-06-26T04:57:56.930Z"
   },
   {
    "duration": 105,
    "start_time": "2022-06-26T04:57:56.993Z"
   },
   {
    "duration": 5,
    "start_time": "2022-06-26T04:57:57.099Z"
   },
   {
    "duration": 10,
    "start_time": "2022-06-26T04:57:57.182Z"
   },
   {
    "duration": 8,
    "start_time": "2022-06-26T04:57:57.294Z"
   },
   {
    "duration": 4,
    "start_time": "2022-06-26T04:57:57.354Z"
   },
   {
    "duration": 35,
    "start_time": "2022-06-26T04:57:57.478Z"
   },
   {
    "duration": 6,
    "start_time": "2022-06-26T04:57:57.586Z"
   },
   {
    "duration": 106,
    "start_time": "2022-06-26T04:57:57.683Z"
   },
   {
    "duration": 5,
    "start_time": "2022-06-26T04:57:57.791Z"
   },
   {
    "duration": 11,
    "start_time": "2022-06-26T04:57:57.875Z"
   },
   {
    "duration": 8,
    "start_time": "2022-06-26T04:57:57.983Z"
   },
   {
    "duration": 5,
    "start_time": "2022-06-26T04:57:58.076Z"
   },
   {
    "duration": 13,
    "start_time": "2022-06-26T04:57:58.186Z"
   },
   {
    "duration": 57,
    "start_time": "2022-06-26T04:57:58.214Z"
   },
   {
    "duration": 6,
    "start_time": "2022-06-26T04:57:58.310Z"
   },
   {
    "duration": 197,
    "start_time": "2022-06-26T04:57:58.440Z"
   },
   {
    "duration": 4,
    "start_time": "2022-06-26T04:57:58.639Z"
   },
   {
    "duration": 9,
    "start_time": "2022-06-26T04:57:58.674Z"
   },
   {
    "duration": 7,
    "start_time": "2022-06-26T04:57:58.808Z"
   },
   {
    "duration": 4,
    "start_time": "2022-06-26T04:57:58.908Z"
   },
   {
    "duration": 9,
    "start_time": "2022-06-26T04:57:58.977Z"
   },
   {
    "duration": 13,
    "start_time": "2022-06-26T04:57:59.006Z"
   },
   {
    "duration": 6,
    "start_time": "2022-06-26T04:57:59.104Z"
   },
   {
    "duration": 106,
    "start_time": "2022-06-26T04:57:59.200Z"
   },
   {
    "duration": 6,
    "start_time": "2022-06-26T04:57:59.308Z"
   },
   {
    "duration": 11,
    "start_time": "2022-06-26T04:57:59.341Z"
   },
   {
    "duration": 8,
    "start_time": "2022-06-26T04:57:59.472Z"
   },
   {
    "duration": 3,
    "start_time": "2022-06-26T04:57:59.570Z"
   },
   {
    "duration": 6,
    "start_time": "2022-06-26T04:57:59.638Z"
   },
   {
    "duration": 68,
    "start_time": "2022-06-26T04:57:59.827Z"
   },
   {
    "duration": 9,
    "start_time": "2022-06-26T04:57:59.996Z"
   },
   {
    "duration": 117,
    "start_time": "2022-06-26T04:58:00.058Z"
   },
   {
    "duration": 5,
    "start_time": "2022-06-26T04:58:00.177Z"
   },
   {
    "duration": 20,
    "start_time": "2022-06-26T04:58:00.186Z"
   },
   {
    "duration": 8,
    "start_time": "2022-06-26T04:58:00.968Z"
   },
   {
    "duration": 8,
    "start_time": "2022-06-26T04:58:01.072Z"
   },
   {
    "duration": 2109,
    "start_time": "2022-06-26T04:58:01.235Z"
   },
   {
    "duration": 388365,
    "start_time": "2022-06-26T04:58:03.346Z"
   },
   {
    "duration": 46,
    "start_time": "2022-07-06T02:37:12.819Z"
   }
  ],
  "kernelspec": {
   "display_name": "Python 3",
   "language": "python",
   "name": "python3"
  },
  "language_info": {
   "codemirror_mode": {
    "name": "ipython",
    "version": 3
   },
   "file_extension": ".py",
   "mimetype": "text/x-python",
   "name": "python",
   "nbconvert_exporter": "python",
   "pygments_lexer": "ipython3",
   "version": "3.8.8"
  },
  "toc": {
   "base_numbering": 1,
   "nav_menu": {},
   "number_sections": true,
   "sideBar": true,
   "skip_h1_title": true,
   "title_cell": "Table of Contents",
   "title_sidebar": "Contents",
   "toc_cell": false,
   "toc_position": {},
   "toc_section_display": true,
   "toc_window_display": false
  }
 },
 "nbformat": 4,
 "nbformat_minor": 2
}
