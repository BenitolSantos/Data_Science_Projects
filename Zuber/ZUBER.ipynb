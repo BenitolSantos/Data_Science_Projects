{
 "cells": [
  {
   "cell_type": "markdown",
   "metadata": {},
   "source": [
    "# ZUBER"
   ]
  },
  {
   "cell_type": "markdown",
   "metadata": {},
   "source": [
    "You're working as an analyst for Zuber, a new ride-sharing company that's launching in Chicago. Your task is to find patterns in the available information. You want to understand passenger preferences and the impact of external factors on rides.\n",
    "Working with a database, you'll analyze data from competitors and test a hypothesis about the impact of weather on ride frequency."
   ]
  },
  {
   "cell_type": "markdown",
   "metadata": {},
   "source": [
    "[We've provided you with some commentary to guide your thinking as you complete this project. However, make sure to remove all the bracketed comments before submitting your project.]\n",
    "\n",
    "[Before you dive into analyzing your data, explain for yourself the purpose of the project and actions you plan to take.]\n",
    "\n",
    "[Please bear in mind that studying, amending, and analyzing data is an iterative process. It is normal to return to previous steps and correct/expand them to allow for further steps.]"
   ]
  },
  {
   "cell_type": "markdown",
   "metadata": {},
   "source": [
    "## Initialization"
   ]
  },
  {
   "cell_type": "markdown",
   "metadata": {},
   "source": [
    "[Load libraries that you believe are required for the project. You may realise later that you need additional libraries as you go, which is totally fine - just make sure to update this section when you do.]"
   ]
  },
  {
   "cell_type": "code",
   "execution_count": 173,
   "metadata": {},
   "outputs": [],
   "source": [
    "\n",
    "\n",
    "\n",
    "import pandas as pd\n",
    "import statistics as stat\n",
    "import numpy as np\n",
    "import matplotlib.pyplot as plt\n",
    "import datetime as dt\n",
    "from scipy import stats as st\n",
    "from datetime import datetime, timezone, timedelta"
   ]
  },
  {
   "cell_type": "code",
   "execution_count": 174,
   "metadata": {},
   "outputs": [],
   "source": [
    "# Load the data file into a DataFrame\n",
    "try:\n",
    "    taxis = pd.read_csv('C:/Users/Lorenzo Santos/OneDrive/Documents/project_sql_result_01.csv')\n",
    "    trips = pd.read_csv('C:/Users/Lorenzo Santos/OneDrive/Documents/project_sql_result_04.csv')\n",
    "    rides = pd.read_csv('C:/Users/Lorenzo Santos/OneDrive/Documents/project_sql_result_07.csv')\n",
    "except:\n",
    "    taxis = pd.read_csv('/datasets/project_sql_result_01.csv')\n",
    "    trips = pd.read_csv('/datasets/project_sql_result_04.csv')\n",
    "    rides = pd.read_csv('/datasets/project_sql_result_07.csv')\n",
    "    "
   ]
  },
  {
   "cell_type": "markdown",
   "metadata": {},
   "source": [
    "## Prepare the data"
   ]
  },
  {
   "cell_type": "markdown",
   "metadata": {},
   "source": [
    "[The data for this project is split into several tables. Explore each one to get an initial understanding of the data. Do necessary corrections to each table if necessary.]"
   ]
  },
  {
   "cell_type": "markdown",
   "metadata": {},
   "source": [
    "## TAXIS"
   ]
  },
  {
   "cell_type": "code",
   "execution_count": 175,
   "metadata": {},
   "outputs": [
    {
     "name": "stdout",
     "output_type": "stream",
     "text": [
      "<class 'pandas.core.frame.DataFrame'>\n",
      "RangeIndex: 64 entries, 0 to 63\n",
      "Data columns (total 2 columns):\n",
      " #   Column        Non-Null Count  Dtype \n",
      "---  ------        --------------  ----- \n",
      " 0   company_name  64 non-null     object\n",
      " 1   trips_amount  64 non-null     int64 \n",
      "dtypes: int64(1), object(1)\n",
      "memory usage: 1.1+ KB\n"
     ]
    }
   ],
   "source": [
    "# print the general/summary information about the DataFrame\n",
    "\n",
    "taxis.info()"
   ]
  },
  {
   "cell_type": "code",
   "execution_count": 176,
   "metadata": {},
   "outputs": [
    {
     "data": {
      "text/html": [
       "<div>\n",
       "<style scoped>\n",
       "    .dataframe tbody tr th:only-of-type {\n",
       "        vertical-align: middle;\n",
       "    }\n",
       "\n",
       "    .dataframe tbody tr th {\n",
       "        vertical-align: top;\n",
       "    }\n",
       "\n",
       "    .dataframe thead th {\n",
       "        text-align: right;\n",
       "    }\n",
       "</style>\n",
       "<table border=\"1\" class=\"dataframe\">\n",
       "  <thead>\n",
       "    <tr style=\"text-align: right;\">\n",
       "      <th></th>\n",
       "      <th>company_name</th>\n",
       "      <th>trips_amount</th>\n",
       "    </tr>\n",
       "  </thead>\n",
       "  <tbody>\n",
       "    <tr>\n",
       "      <th>0</th>\n",
       "      <td>Flash Cab</td>\n",
       "      <td>19558</td>\n",
       "    </tr>\n",
       "    <tr>\n",
       "      <th>1</th>\n",
       "      <td>Taxi Affiliation Services</td>\n",
       "      <td>11422</td>\n",
       "    </tr>\n",
       "    <tr>\n",
       "      <th>2</th>\n",
       "      <td>Medallion Leasing</td>\n",
       "      <td>10367</td>\n",
       "    </tr>\n",
       "    <tr>\n",
       "      <th>3</th>\n",
       "      <td>Yellow Cab</td>\n",
       "      <td>9888</td>\n",
       "    </tr>\n",
       "    <tr>\n",
       "      <th>4</th>\n",
       "      <td>Taxi Affiliation Service Yellow</td>\n",
       "      <td>9299</td>\n",
       "    </tr>\n",
       "    <tr>\n",
       "      <th>5</th>\n",
       "      <td>Chicago Carriage Cab Corp</td>\n",
       "      <td>9181</td>\n",
       "    </tr>\n",
       "    <tr>\n",
       "      <th>6</th>\n",
       "      <td>City Service</td>\n",
       "      <td>8448</td>\n",
       "    </tr>\n",
       "    <tr>\n",
       "      <th>7</th>\n",
       "      <td>Sun Taxi</td>\n",
       "      <td>7701</td>\n",
       "    </tr>\n",
       "    <tr>\n",
       "      <th>8</th>\n",
       "      <td>Star North Management LLC</td>\n",
       "      <td>7455</td>\n",
       "    </tr>\n",
       "    <tr>\n",
       "      <th>9</th>\n",
       "      <td>Blue Ribbon Taxi Association Inc.</td>\n",
       "      <td>5953</td>\n",
       "    </tr>\n",
       "    <tr>\n",
       "      <th>10</th>\n",
       "      <td>Choice Taxi Association</td>\n",
       "      <td>5015</td>\n",
       "    </tr>\n",
       "    <tr>\n",
       "      <th>11</th>\n",
       "      <td>Globe Taxi</td>\n",
       "      <td>4383</td>\n",
       "    </tr>\n",
       "    <tr>\n",
       "      <th>12</th>\n",
       "      <td>Dispatch Taxi Affiliation</td>\n",
       "      <td>3355</td>\n",
       "    </tr>\n",
       "    <tr>\n",
       "      <th>13</th>\n",
       "      <td>Nova Taxi Affiliation Llc</td>\n",
       "      <td>3175</td>\n",
       "    </tr>\n",
       "    <tr>\n",
       "      <th>14</th>\n",
       "      <td>Patriot Taxi Dba Peace Taxi Association</td>\n",
       "      <td>2235</td>\n",
       "    </tr>\n",
       "    <tr>\n",
       "      <th>15</th>\n",
       "      <td>Checker Taxi Affiliation</td>\n",
       "      <td>2216</td>\n",
       "    </tr>\n",
       "    <tr>\n",
       "      <th>16</th>\n",
       "      <td>Blue Diamond</td>\n",
       "      <td>2070</td>\n",
       "    </tr>\n",
       "    <tr>\n",
       "      <th>17</th>\n",
       "      <td>Chicago Medallion Management</td>\n",
       "      <td>1955</td>\n",
       "    </tr>\n",
       "    <tr>\n",
       "      <th>18</th>\n",
       "      <td>24 Seven Taxi</td>\n",
       "      <td>1775</td>\n",
       "    </tr>\n",
       "    <tr>\n",
       "      <th>19</th>\n",
       "      <td>Chicago Medallion Leasing INC</td>\n",
       "      <td>1607</td>\n",
       "    </tr>\n",
       "  </tbody>\n",
       "</table>\n",
       "</div>"
      ],
      "text/plain": [
       "                               company_name  trips_amount\n",
       "0                                 Flash Cab         19558\n",
       "1                 Taxi Affiliation Services         11422\n",
       "2                         Medallion Leasing         10367\n",
       "3                                Yellow Cab          9888\n",
       "4           Taxi Affiliation Service Yellow          9299\n",
       "5                 Chicago Carriage Cab Corp          9181\n",
       "6                              City Service          8448\n",
       "7                                  Sun Taxi          7701\n",
       "8                 Star North Management LLC          7455\n",
       "9         Blue Ribbon Taxi Association Inc.          5953\n",
       "10                  Choice Taxi Association          5015\n",
       "11                               Globe Taxi          4383\n",
       "12                Dispatch Taxi Affiliation          3355\n",
       "13                Nova Taxi Affiliation Llc          3175\n",
       "14  Patriot Taxi Dba Peace Taxi Association          2235\n",
       "15                 Checker Taxi Affiliation          2216\n",
       "16                             Blue Diamond          2070\n",
       "17             Chicago Medallion Management          1955\n",
       "18                            24 Seven Taxi          1775\n",
       "19            Chicago Medallion Leasing INC          1607"
      ]
     },
     "execution_count": 176,
     "metadata": {},
     "output_type": "execute_result"
    }
   ],
   "source": [
    "# Print a sample of data for taxis\n",
    "taxis.head(20)"
   ]
  },
  {
   "cell_type": "markdown",
   "metadata": {},
   "source": [
    "### FIX DATA"
   ]
  },
  {
   "cell_type": "markdown",
   "metadata": {},
   "source": [
    "[Describe what you see and notice in the general information and the printed data sample for the above data. Are there any issues (inappropriate data types, missing data etc) that may need further investigation and changes? How that can be fixed?]\n",
    "\n",
    "We can snake_case the company names. "
   ]
  },
  {
   "cell_type": "code",
   "execution_count": 190,
   "metadata": {},
   "outputs": [
    {
     "name": "stdout",
     "output_type": "stream",
     "text": [
      "Empty DataFrame\n",
      "Columns: [company_name, trips_amount]\n",
      "Index: []\n",
      "['0118_-_42111_godfrey_s._awir' '1085_-_72312_n_and_w_cab_co'\n",
      " '1469_-_64126_omar_jada' '2092_-_61288_sbeih_company'\n",
      " '2192_-_73487_zeymane_corp' '2241_-_44667_-_felman_corp' '24_seven_taxi'\n",
      " '2733_-_74600_benny_jona' '2809_-_95474_c_&_d_cab_co_inc.'\n",
      " '2823_-_73307_lee_express_inc' '3011_-_66308_jbl_cab_inc.' '303_taxi'\n",
      " '3556_-_36214_rc_andrews_cab' '3591_-_63480_chuks_cab'\n",
      " '3620_-_52292_david_k._cab_corp.' '3623_-_72222_arrington_enterprises'\n",
      " '3721_-_santamaria_express' '4053_-_40193_adwar_h._nikola'\n",
      " '4615_-_83503_tyrone_henderson' '4623_-_27290_jay_kim'\n",
      " '5006_-_39261_salifu_bawa' '5062_-_34841_sam_mestas'\n",
      " '5074_-_54002_ahzmi_inc' '5874_-_73628_sergey_cab_corp.'\n",
      " '5997_-_65283_aw_services_inc.' '5_star_taxi' '6057_-_24657_richard_addo'\n",
      " '6574_-_babylon_express_inc.' '6742_-_83735_tasha_ride_inc'\n",
      " '6743_-_78771_luhak_corp' 'american_united'\n",
      " 'american_united_taxi_affiliation' 'blue_diamond'\n",
      " 'blue_ribbon_taxi_association_inc.' 'checker_taxi'\n",
      " 'checker_taxi_affiliation' 'chicago_carriage_cab_corp'\n",
      " 'chicago_independents' 'chicago_medallion_leasing_inc'\n",
      " 'chicago_medallion_management' 'chicago_star_taxicab' 'chicago_taxicab'\n",
      " 'choice_taxi_association' 'city_service' 'dispatch_taxi_affiliation'\n",
      " 'flash_cab' 'globe_taxi' 'gold_coast_taxi' 'koam_taxi_association'\n",
      " 'leonard_cab_co' 'medallion_leasing' 'metro_group' 'metro_jet_taxi_a'\n",
      " 'norshore_cab' 'nova_taxi_affiliation_llc'\n",
      " 'patriot_taxi_dba_peace_taxi_association' 'service_taxi_association'\n",
      " 'setare_inc' 'star_north_management_llc' 'sun_taxi'\n",
      " 'taxi_affiliation_service_yellow' 'taxi_affiliation_services'\n",
      " 'top_cab_affiliation' 'yellow_cab']\n"
     ]
    }
   ],
   "source": [
    "def underscore(name):\n",
    "    new_name = name.split(' ')\n",
    "    name = '_'.join(new_name)\n",
    "    return name;\n",
    "    \n",
    "taxis['company_name'] = taxis['company_name'].apply(underscore).str.lower()\n",
    "print(taxis[taxis.duplicated() == True])\n",
    "print(taxis['company_name'].sort_values().unique())"
   ]
  },
  {
   "cell_type": "markdown",
   "metadata": {},
   "source": [
    "No duplicates found"
   ]
  },
  {
   "cell_type": "code",
   "execution_count": 192,
   "metadata": {},
   "outputs": [
    {
     "data": {
      "text/html": [
       "<div>\n",
       "<style scoped>\n",
       "    .dataframe tbody tr th:only-of-type {\n",
       "        vertical-align: middle;\n",
       "    }\n",
       "\n",
       "    .dataframe tbody tr th {\n",
       "        vertical-align: top;\n",
       "    }\n",
       "\n",
       "    .dataframe thead th {\n",
       "        text-align: right;\n",
       "    }\n",
       "</style>\n",
       "<table border=\"1\" class=\"dataframe\">\n",
       "  <thead>\n",
       "    <tr style=\"text-align: right;\">\n",
       "      <th></th>\n",
       "      <th>company_name</th>\n",
       "      <th>trips_amount</th>\n",
       "    </tr>\n",
       "  </thead>\n",
       "  <tbody>\n",
       "    <tr>\n",
       "      <th>0</th>\n",
       "      <td>flash_cab</td>\n",
       "      <td>19558</td>\n",
       "    </tr>\n",
       "    <tr>\n",
       "      <th>1</th>\n",
       "      <td>taxi_affiliation_services</td>\n",
       "      <td>11422</td>\n",
       "    </tr>\n",
       "    <tr>\n",
       "      <th>2</th>\n",
       "      <td>medallion_leasing</td>\n",
       "      <td>10367</td>\n",
       "    </tr>\n",
       "    <tr>\n",
       "      <th>3</th>\n",
       "      <td>yellow_cab</td>\n",
       "      <td>9888</td>\n",
       "    </tr>\n",
       "    <tr>\n",
       "      <th>4</th>\n",
       "      <td>taxi_affiliation_service_yellow</td>\n",
       "      <td>9299</td>\n",
       "    </tr>\n",
       "    <tr>\n",
       "      <th>...</th>\n",
       "      <td>...</td>\n",
       "      <td>...</td>\n",
       "    </tr>\n",
       "    <tr>\n",
       "      <th>59</th>\n",
       "      <td>4053_-_40193_adwar_h._nikola</td>\n",
       "      <td>7</td>\n",
       "    </tr>\n",
       "    <tr>\n",
       "      <th>60</th>\n",
       "      <td>2733_-_74600_benny_jona</td>\n",
       "      <td>7</td>\n",
       "    </tr>\n",
       "    <tr>\n",
       "      <th>61</th>\n",
       "      <td>5874_-_73628_sergey_cab_corp.</td>\n",
       "      <td>5</td>\n",
       "    </tr>\n",
       "    <tr>\n",
       "      <th>62</th>\n",
       "      <td>2241_-_44667_-_felman_corp</td>\n",
       "      <td>3</td>\n",
       "    </tr>\n",
       "    <tr>\n",
       "      <th>63</th>\n",
       "      <td>3556_-_36214_rc_andrews_cab</td>\n",
       "      <td>2</td>\n",
       "    </tr>\n",
       "  </tbody>\n",
       "</table>\n",
       "<p>64 rows × 2 columns</p>\n",
       "</div>"
      ],
      "text/plain": [
       "                       company_name  trips_amount\n",
       "0                         flash_cab         19558\n",
       "1         taxi_affiliation_services         11422\n",
       "2                 medallion_leasing         10367\n",
       "3                        yellow_cab          9888\n",
       "4   taxi_affiliation_service_yellow          9299\n",
       "..                              ...           ...\n",
       "59     4053_-_40193_adwar_h._nikola             7\n",
       "60          2733_-_74600_benny_jona             7\n",
       "61    5874_-_73628_sergey_cab_corp.             5\n",
       "62       2241_-_44667_-_felman_corp             3\n",
       "63      3556_-_36214_rc_andrews_cab             2\n",
       "\n",
       "[64 rows x 2 columns]"
      ]
     },
     "execution_count": 192,
     "metadata": {},
     "output_type": "execute_result"
    }
   ],
   "source": [
    "taxis"
   ]
  },
  {
   "cell_type": "markdown",
   "metadata": {},
   "source": [
    "### ENRICH DATA"
   ]
  },
  {
   "cell_type": "markdown",
   "metadata": {},
   "source": [
    "[Add additional factors to the data if you believe they might be useful.]\n",
    "\n",
    "Nothing needed"
   ]
  },
  {
   "cell_type": "code",
   "execution_count": 193,
   "metadata": {},
   "outputs": [],
   "source": [
    "#Nothing needed\n"
   ]
  },
  {
   "cell_type": "markdown",
   "metadata": {},
   "source": [
    "## TRIPS"
   ]
  },
  {
   "cell_type": "code",
   "execution_count": 194,
   "metadata": {},
   "outputs": [
    {
     "name": "stdout",
     "output_type": "stream",
     "text": [
      "<class 'pandas.core.frame.DataFrame'>\n",
      "RangeIndex: 94 entries, 0 to 93\n",
      "Data columns (total 2 columns):\n",
      " #   Column                 Non-Null Count  Dtype \n",
      "---  ------                 --------------  ----- \n",
      " 0   dropoff_location_name  94 non-null     object\n",
      " 1   average_trips          94 non-null     int64 \n",
      "dtypes: int64(1), object(1)\n",
      "memory usage: 1.6+ KB\n"
     ]
    }
   ],
   "source": [
    "trips.info()"
   ]
  },
  {
   "cell_type": "code",
   "execution_count": 195,
   "metadata": {},
   "outputs": [
    {
     "data": {
      "text/html": [
       "<div>\n",
       "<style scoped>\n",
       "    .dataframe tbody tr th:only-of-type {\n",
       "        vertical-align: middle;\n",
       "    }\n",
       "\n",
       "    .dataframe tbody tr th {\n",
       "        vertical-align: top;\n",
       "    }\n",
       "\n",
       "    .dataframe thead th {\n",
       "        text-align: right;\n",
       "    }\n",
       "</style>\n",
       "<table border=\"1\" class=\"dataframe\">\n",
       "  <thead>\n",
       "    <tr style=\"text-align: right;\">\n",
       "      <th></th>\n",
       "      <th>dropoff_location_name</th>\n",
       "      <th>average_trips</th>\n",
       "    </tr>\n",
       "  </thead>\n",
       "  <tbody>\n",
       "    <tr>\n",
       "      <th>0</th>\n",
       "      <td>Loop</td>\n",
       "      <td>10727</td>\n",
       "    </tr>\n",
       "    <tr>\n",
       "      <th>1</th>\n",
       "      <td>River North</td>\n",
       "      <td>9523</td>\n",
       "    </tr>\n",
       "    <tr>\n",
       "      <th>2</th>\n",
       "      <td>Streeterville</td>\n",
       "      <td>6664</td>\n",
       "    </tr>\n",
       "    <tr>\n",
       "      <th>3</th>\n",
       "      <td>West Loop</td>\n",
       "      <td>5163</td>\n",
       "    </tr>\n",
       "    <tr>\n",
       "      <th>4</th>\n",
       "      <td>O'Hare</td>\n",
       "      <td>2546</td>\n",
       "    </tr>\n",
       "    <tr>\n",
       "      <th>...</th>\n",
       "      <td>...</td>\n",
       "      <td>...</td>\n",
       "    </tr>\n",
       "    <tr>\n",
       "      <th>89</th>\n",
       "      <td>Mount Greenwood</td>\n",
       "      <td>3</td>\n",
       "    </tr>\n",
       "    <tr>\n",
       "      <th>90</th>\n",
       "      <td>Hegewisch</td>\n",
       "      <td>3</td>\n",
       "    </tr>\n",
       "    <tr>\n",
       "      <th>91</th>\n",
       "      <td>Burnside</td>\n",
       "      <td>2</td>\n",
       "    </tr>\n",
       "    <tr>\n",
       "      <th>92</th>\n",
       "      <td>East Side</td>\n",
       "      <td>1</td>\n",
       "    </tr>\n",
       "    <tr>\n",
       "      <th>93</th>\n",
       "      <td>Riverdale</td>\n",
       "      <td>1</td>\n",
       "    </tr>\n",
       "  </tbody>\n",
       "</table>\n",
       "<p>94 rows × 2 columns</p>\n",
       "</div>"
      ],
      "text/plain": [
       "   dropoff_location_name  average_trips\n",
       "0                   Loop          10727\n",
       "1            River North           9523\n",
       "2          Streeterville           6664\n",
       "3              West Loop           5163\n",
       "4                 O'Hare           2546\n",
       "..                   ...            ...\n",
       "89       Mount Greenwood              3\n",
       "90             Hegewisch              3\n",
       "91              Burnside              2\n",
       "92             East Side              1\n",
       "93             Riverdale              1\n",
       "\n",
       "[94 rows x 2 columns]"
      ]
     },
     "execution_count": 195,
     "metadata": {},
     "output_type": "execute_result"
    }
   ],
   "source": [
    "# Print a sample of data for trips\n",
    "trips"
   ]
  },
  {
   "cell_type": "markdown",
   "metadata": {},
   "source": [
    "### FIX DATA "
   ]
  },
  {
   "cell_type": "markdown",
   "metadata": {},
   "source": [
    "[Describe what you see and notice in the general information and the printed data sample for the above data. Are there any issues (inappropriate data types, missing data etc) that may need further investigation and changes? How that can be fixed?]\n",
    "\n",
    "average_trips should be int. no duplicates"
   ]
  },
  {
   "cell_type": "code",
   "execution_count": 187,
   "metadata": {},
   "outputs": [
    {
     "name": "stdout",
     "output_type": "stream",
     "text": [
      "Empty DataFrame\n",
      "Columns: [dropoff_location_name, average_trips]\n",
      "Index: []\n",
      "['Albany Park' 'Andersonville' 'Archer Heights' 'Armour Square' 'Ashburn'\n",
      " 'Auburn Gresham' 'Austin' 'Avalon Park' 'Avondale' 'Belmont Cragin'\n",
      " 'Beverly' 'Boystown' 'Bridgeport' 'Brighton Park' 'Bucktown' 'Burnside'\n",
      " 'Calumet Heights' 'Chatham' 'Chicago Lawn' 'Chinatown' 'Clearing'\n",
      " 'Douglas' 'Dunning' 'East Side' 'East Village' 'Edgewater' 'Edison Park'\n",
      " 'Englewood' 'Fuller Park' 'Gage Park' 'Garfield Park' 'Garfield Ridge'\n",
      " 'Gold Coast' 'Grand Boulevard' 'Grand Crossing' 'Grant Park' 'Hegewisch'\n",
      " 'Hermosa' 'Humboldt Park' 'Hyde Park' 'Irving Park' 'Jackson Park'\n",
      " 'Jefferson Park' 'Kenwood' 'Lake View' 'Lincoln Park' 'Lincoln Square'\n",
      " 'Little Italy, UIC' 'Little Village' 'Logan Square' 'Loop'\n",
      " 'Lower West Side' 'Mckinley Park' 'Montclare' 'Morgan Park'\n",
      " 'Mount Greenwood' 'Museum Campus' 'Near South Side' 'New City'\n",
      " 'North Center' 'North Lawndale' 'North Park' 'Norwood Park' \"O'Hare\"\n",
      " 'Oakland' 'Old Town' 'Portage Park' 'Pullman' 'River North' 'Riverdale'\n",
      " 'Rogers Park' 'Roseland' 'Rush & Division' 'Sauganash,Forest Glen'\n",
      " 'Sheffield & DePaul' 'South Chicago' 'South Deering' 'South Shore'\n",
      " 'Streeterville' 'Ukrainian Village' 'Undef' 'United Center' 'Uptown'\n",
      " 'Washington Heights' 'Washington Park' 'West Elsdon' 'West Lawn'\n",
      " 'West Loop' 'West Pullman' 'West Ridge' 'West Town' 'Wicker Park'\n",
      " 'Woodlawn' 'Wrigleyville']\n"
     ]
    }
   ],
   "source": [
    "trips['average_trips'] = trips['average_trips'].astype('int')\n",
    "print(trips[trips.duplicated() == True])\n",
    "print(trips['dropoff_location_name'].sort_values().unique())"
   ]
  },
  {
   "cell_type": "markdown",
   "metadata": {},
   "source": [
    "No duplicates found"
   ]
  },
  {
   "cell_type": "code",
   "execution_count": 196,
   "metadata": {},
   "outputs": [
    {
     "data": {
      "text/html": [
       "<div>\n",
       "<style scoped>\n",
       "    .dataframe tbody tr th:only-of-type {\n",
       "        vertical-align: middle;\n",
       "    }\n",
       "\n",
       "    .dataframe tbody tr th {\n",
       "        vertical-align: top;\n",
       "    }\n",
       "\n",
       "    .dataframe thead th {\n",
       "        text-align: right;\n",
       "    }\n",
       "</style>\n",
       "<table border=\"1\" class=\"dataframe\">\n",
       "  <thead>\n",
       "    <tr style=\"text-align: right;\">\n",
       "      <th></th>\n",
       "      <th>dropoff_location_name</th>\n",
       "      <th>average_trips</th>\n",
       "    </tr>\n",
       "  </thead>\n",
       "  <tbody>\n",
       "    <tr>\n",
       "      <th>0</th>\n",
       "      <td>Loop</td>\n",
       "      <td>10727</td>\n",
       "    </tr>\n",
       "    <tr>\n",
       "      <th>1</th>\n",
       "      <td>River North</td>\n",
       "      <td>9523</td>\n",
       "    </tr>\n",
       "    <tr>\n",
       "      <th>2</th>\n",
       "      <td>Streeterville</td>\n",
       "      <td>6664</td>\n",
       "    </tr>\n",
       "    <tr>\n",
       "      <th>3</th>\n",
       "      <td>West Loop</td>\n",
       "      <td>5163</td>\n",
       "    </tr>\n",
       "    <tr>\n",
       "      <th>4</th>\n",
       "      <td>O'Hare</td>\n",
       "      <td>2546</td>\n",
       "    </tr>\n",
       "    <tr>\n",
       "      <th>...</th>\n",
       "      <td>...</td>\n",
       "      <td>...</td>\n",
       "    </tr>\n",
       "    <tr>\n",
       "      <th>89</th>\n",
       "      <td>Mount Greenwood</td>\n",
       "      <td>3</td>\n",
       "    </tr>\n",
       "    <tr>\n",
       "      <th>90</th>\n",
       "      <td>Hegewisch</td>\n",
       "      <td>3</td>\n",
       "    </tr>\n",
       "    <tr>\n",
       "      <th>91</th>\n",
       "      <td>Burnside</td>\n",
       "      <td>2</td>\n",
       "    </tr>\n",
       "    <tr>\n",
       "      <th>92</th>\n",
       "      <td>East Side</td>\n",
       "      <td>1</td>\n",
       "    </tr>\n",
       "    <tr>\n",
       "      <th>93</th>\n",
       "      <td>Riverdale</td>\n",
       "      <td>1</td>\n",
       "    </tr>\n",
       "  </tbody>\n",
       "</table>\n",
       "<p>94 rows × 2 columns</p>\n",
       "</div>"
      ],
      "text/plain": [
       "   dropoff_location_name  average_trips\n",
       "0                   Loop          10727\n",
       "1            River North           9523\n",
       "2          Streeterville           6664\n",
       "3              West Loop           5163\n",
       "4                 O'Hare           2546\n",
       "..                   ...            ...\n",
       "89       Mount Greenwood              3\n",
       "90             Hegewisch              3\n",
       "91              Burnside              2\n",
       "92             East Side              1\n",
       "93             Riverdale              1\n",
       "\n",
       "[94 rows x 2 columns]"
      ]
     },
     "execution_count": 196,
     "metadata": {},
     "output_type": "execute_result"
    }
   ],
   "source": [
    "trips"
   ]
  },
  {
   "cell_type": "markdown",
   "metadata": {},
   "source": [
    "### ENRICH DATA"
   ]
  },
  {
   "cell_type": "markdown",
   "metadata": {},
   "source": [
    "[Add additional factors to the data if you believe they might be useful.]\n",
    "\n",
    "Nothing needed"
   ]
  },
  {
   "cell_type": "code",
   "execution_count": 197,
   "metadata": {},
   "outputs": [],
   "source": [
    "#Nothing needed"
   ]
  },
  {
   "cell_type": "markdown",
   "metadata": {},
   "source": [
    "## ANALYZE DATA"
   ]
  },
  {
   "cell_type": "markdown",
   "metadata": {},
   "source": [
    "[make graphs: taxi companies and number of rides, top 10 neighborhoods by number of dropoffs]"
   ]
  },
  {
   "cell_type": "code",
   "execution_count": 198,
   "metadata": {},
   "outputs": [
    {
     "data": {
      "text/html": [
       "<div>\n",
       "<style scoped>\n",
       "    .dataframe tbody tr th:only-of-type {\n",
       "        vertical-align: middle;\n",
       "    }\n",
       "\n",
       "    .dataframe tbody tr th {\n",
       "        vertical-align: top;\n",
       "    }\n",
       "\n",
       "    .dataframe thead th {\n",
       "        text-align: right;\n",
       "    }\n",
       "</style>\n",
       "<table border=\"1\" class=\"dataframe\">\n",
       "  <thead>\n",
       "    <tr style=\"text-align: right;\">\n",
       "      <th></th>\n",
       "      <th>dropoff_location_name</th>\n",
       "      <th>average_trips</th>\n",
       "    </tr>\n",
       "  </thead>\n",
       "  <tbody>\n",
       "    <tr>\n",
       "      <th>0</th>\n",
       "      <td>Loop</td>\n",
       "      <td>10727</td>\n",
       "    </tr>\n",
       "    <tr>\n",
       "      <th>1</th>\n",
       "      <td>River North</td>\n",
       "      <td>9523</td>\n",
       "    </tr>\n",
       "    <tr>\n",
       "      <th>2</th>\n",
       "      <td>Streeterville</td>\n",
       "      <td>6664</td>\n",
       "    </tr>\n",
       "    <tr>\n",
       "      <th>3</th>\n",
       "      <td>West Loop</td>\n",
       "      <td>5163</td>\n",
       "    </tr>\n",
       "    <tr>\n",
       "      <th>4</th>\n",
       "      <td>O'Hare</td>\n",
       "      <td>2546</td>\n",
       "    </tr>\n",
       "    <tr>\n",
       "      <th>5</th>\n",
       "      <td>Lake View</td>\n",
       "      <td>2420</td>\n",
       "    </tr>\n",
       "    <tr>\n",
       "      <th>6</th>\n",
       "      <td>Grant Park</td>\n",
       "      <td>2068</td>\n",
       "    </tr>\n",
       "    <tr>\n",
       "      <th>7</th>\n",
       "      <td>Museum Campus</td>\n",
       "      <td>1510</td>\n",
       "    </tr>\n",
       "    <tr>\n",
       "      <th>8</th>\n",
       "      <td>Gold Coast</td>\n",
       "      <td>1364</td>\n",
       "    </tr>\n",
       "    <tr>\n",
       "      <th>9</th>\n",
       "      <td>Sheffield &amp; DePaul</td>\n",
       "      <td>1259</td>\n",
       "    </tr>\n",
       "  </tbody>\n",
       "</table>\n",
       "</div>"
      ],
      "text/plain": [
       "  dropoff_location_name  average_trips\n",
       "0                  Loop          10727\n",
       "1           River North           9523\n",
       "2         Streeterville           6664\n",
       "3             West Loop           5163\n",
       "4                O'Hare           2546\n",
       "5             Lake View           2420\n",
       "6            Grant Park           2068\n",
       "7         Museum Campus           1510\n",
       "8            Gold Coast           1364\n",
       "9    Sheffield & DePaul           1259"
      ]
     },
     "execution_count": 198,
     "metadata": {},
     "output_type": "execute_result"
    }
   ],
   "source": [
    "trips.sort_values(by='average_trips',ascending=False).head(10)"
   ]
  },
  {
   "cell_type": "code",
   "execution_count": 199,
   "metadata": {},
   "outputs": [
    {
     "data": {
      "text/plain": [
       "<AxesSubplot:title={'center':'the number of rides for each taxi company on November 15-16, 2017'}, xlabel='taxi company name'>"
      ]
     },
     "execution_count": 199,
     "metadata": {},
     "output_type": "execute_result"
    },
    {
     "data": {
      "image/png": "[encoded data removed]",
      "text/plain": [
       "<Figure size 1080x1080 with 1 Axes>"
      ]
     },
     "metadata": {
      "needs_background": "light"
     },
     "output_type": "display_data"
    }
   ],
   "source": [
    "taxis.plot(x='company_name',xlabel='taxi company name',y='trips_amount',kind='bar',figsize=(15,15),title='the number of rides for each taxi company on November 15-16, 2017')\n"
   ]
  },
  {
   "cell_type": "code",
   "execution_count": 200,
   "metadata": {},
   "outputs": [
    {
     "data": {
      "text/plain": [
       "<AxesSubplot:title={'center':'the average number of rides that ended in each neighborhood in November 2017'}, xlabel='Chicago neighborhoods where rides ended'>"
      ]
     },
     "execution_count": 200,
     "metadata": {},
     "output_type": "execute_result"
    },
    {
     "data": {
      "image/png": "[encoded data removed]",
      "text/plain": [
       "<Figure size 1080x1080 with 1 Axes>"
      ]
     },
     "metadata": {
      "needs_background": "light"
     },
     "output_type": "display_data"
    }
   ],
   "source": [
    "trips.sort_values(by='average_trips',ascending=False).head(10).plot(x='dropoff_location_name',xlabel='Chicago neighborhoods where rides ended',y='average_trips',kind='bar',figsize=(15,15),title='the average number of rides that ended in each neighborhood in November 2017')"
   ]
  },
  {
   "cell_type": "code",
   "execution_count": 201,
   "metadata": {},
   "outputs": [
    {
     "data": {
      "text/plain": [
       "<AxesSubplot:title={'center':'the number of rides for each taxi company on November 15-16, 2017'}, xlabel='taxi company name'>"
      ]
     },
     "execution_count": 201,
     "metadata": {},
     "output_type": "execute_result"
    },
    {
     "data": {
      "image/png": "[encoded data removed]",
      "text/plain": [
       "<Figure size 1080x1080 with 1 Axes>"
      ]
     },
     "metadata": {
      "needs_background": "light"
     },
     "output_type": "display_data"
    }
   ],
   "source": [
    "taxis.head(10).plot(x='company_name',xlabel='taxi company name',y='trips_amount',kind='bar',figsize=(15,15),title='the number of rides for each taxi company on November 15-16, 2017')"
   ]
  },
  {
   "cell_type": "code",
   "execution_count": 202,
   "metadata": {},
   "outputs": [
    {
     "data": {
      "text/plain": [
       "['Loop',\n",
       " 'River North',\n",
       " 'Streeterville',\n",
       " 'West Loop',\n",
       " \"O'Hare\",\n",
       " 'Lake View',\n",
       " 'Grant Park',\n",
       " 'Museum Campus',\n",
       " 'Gold Coast',\n",
       " 'Sheffield & DePaul']"
      ]
     },
     "execution_count": 202,
     "metadata": {},
     "output_type": "execute_result"
    }
   ],
   "source": [
    "list(trips['dropoff_location_name'].head(10))"
   ]
  },
  {
   "cell_type": "markdown",
   "metadata": {},
   "source": [
    "[draw conclusions based on each graph and explain the results]"
   ]
  },
  {
   "cell_type": "markdown",
   "metadata": {},
   "source": [
    "Every taxi company with zipcodes does extremely poorly compared to the ones without zipcodes. "
   ]
  },
  {
   "cell_type": "markdown",
   "metadata": {},
   "source": [
    "The taxi leading companies are 'flash_cab','taxi_affiliation_services','medallion_leasing','yellow_cab','taxi_affiliation_service_yellow','chicago_carriage_cab_corp','city_service','sun_taxi','star_north_management_llc' and 'blue_ribbon_taxi_association_inc.'"
   ]
  },
  {
   "cell_type": "markdown",
   "metadata": {},
   "source": [
    "The top dropoff locations in Chicago are 'Loop','River North','Streeterville','West Loop',\"O'Hare\",'Lake View','Grant Park','Museum Campus','Gold Coast' and 'Sheffield & DePaul'."
   ]
  },
  {
   "cell_type": "markdown",
   "metadata": {},
   "source": [
    "## Rides\n"
   ]
  },
  {
   "cell_type": "code",
   "execution_count": 203,
   "metadata": {},
   "outputs": [
    {
     "data": {
      "text/html": [
       "<div>\n",
       "<style scoped>\n",
       "    .dataframe tbody tr th:only-of-type {\n",
       "        vertical-align: middle;\n",
       "    }\n",
       "\n",
       "    .dataframe tbody tr th {\n",
       "        vertical-align: top;\n",
       "    }\n",
       "\n",
       "    .dataframe thead th {\n",
       "        text-align: right;\n",
       "    }\n",
       "</style>\n",
       "<table border=\"1\" class=\"dataframe\">\n",
       "  <thead>\n",
       "    <tr style=\"text-align: right;\">\n",
       "      <th></th>\n",
       "      <th>start_ts</th>\n",
       "      <th>weather_conditions</th>\n",
       "      <th>duration_seconds</th>\n",
       "    </tr>\n",
       "  </thead>\n",
       "  <tbody>\n",
       "    <tr>\n",
       "      <th>0</th>\n",
       "      <td>2017-11-25 16:00:00</td>\n",
       "      <td>Good</td>\n",
       "      <td>2410.0</td>\n",
       "    </tr>\n",
       "    <tr>\n",
       "      <th>1</th>\n",
       "      <td>2017-11-25 14:00:00</td>\n",
       "      <td>Good</td>\n",
       "      <td>1920.0</td>\n",
       "    </tr>\n",
       "    <tr>\n",
       "      <th>2</th>\n",
       "      <td>2017-11-25 12:00:00</td>\n",
       "      <td>Good</td>\n",
       "      <td>1543.0</td>\n",
       "    </tr>\n",
       "    <tr>\n",
       "      <th>3</th>\n",
       "      <td>2017-11-04 10:00:00</td>\n",
       "      <td>Good</td>\n",
       "      <td>2512.0</td>\n",
       "    </tr>\n",
       "    <tr>\n",
       "      <th>4</th>\n",
       "      <td>2017-11-11 07:00:00</td>\n",
       "      <td>Good</td>\n",
       "      <td>1440.0</td>\n",
       "    </tr>\n",
       "    <tr>\n",
       "      <th>...</th>\n",
       "      <td>...</td>\n",
       "      <td>...</td>\n",
       "      <td>...</td>\n",
       "    </tr>\n",
       "    <tr>\n",
       "      <th>1063</th>\n",
       "      <td>2017-11-25 11:00:00</td>\n",
       "      <td>Good</td>\n",
       "      <td>0.0</td>\n",
       "    </tr>\n",
       "    <tr>\n",
       "      <th>1064</th>\n",
       "      <td>2017-11-11 10:00:00</td>\n",
       "      <td>Good</td>\n",
       "      <td>1318.0</td>\n",
       "    </tr>\n",
       "    <tr>\n",
       "      <th>1065</th>\n",
       "      <td>2017-11-11 13:00:00</td>\n",
       "      <td>Good</td>\n",
       "      <td>2100.0</td>\n",
       "    </tr>\n",
       "    <tr>\n",
       "      <th>1066</th>\n",
       "      <td>2017-11-11 08:00:00</td>\n",
       "      <td>Good</td>\n",
       "      <td>1380.0</td>\n",
       "    </tr>\n",
       "    <tr>\n",
       "      <th>1067</th>\n",
       "      <td>2017-11-04 16:00:00</td>\n",
       "      <td>Bad</td>\n",
       "      <td>2834.0</td>\n",
       "    </tr>\n",
       "  </tbody>\n",
       "</table>\n",
       "<p>1068 rows × 3 columns</p>\n",
       "</div>"
      ],
      "text/plain": [
       "                 start_ts weather_conditions  duration_seconds\n",
       "0     2017-11-25 16:00:00               Good            2410.0\n",
       "1     2017-11-25 14:00:00               Good            1920.0\n",
       "2     2017-11-25 12:00:00               Good            1543.0\n",
       "3     2017-11-04 10:00:00               Good            2512.0\n",
       "4     2017-11-11 07:00:00               Good            1440.0\n",
       "...                   ...                ...               ...\n",
       "1063  2017-11-25 11:00:00               Good               0.0\n",
       "1064  2017-11-11 10:00:00               Good            1318.0\n",
       "1065  2017-11-11 13:00:00               Good            2100.0\n",
       "1066  2017-11-11 08:00:00               Good            1380.0\n",
       "1067  2017-11-04 16:00:00                Bad            2834.0\n",
       "\n",
       "[1068 rows x 3 columns]"
      ]
     },
     "execution_count": 203,
     "metadata": {},
     "output_type": "execute_result"
    }
   ],
   "source": [
    "rides"
   ]
  },
  {
   "cell_type": "markdown",
   "metadata": {},
   "source": [
    "### Fix Data"
   ]
  },
  {
   "cell_type": "markdown",
   "metadata": {},
   "source": [
    "[Describe what you see and notice in the general information and the printed data sample for the above data. Are there any issues (inappropriate data types, missing data etc) that may need further investigation and changes? How that can be fixed?]\n",
    "\n",
    "start_ts should be datetime."
   ]
  },
  {
   "cell_type": "code",
   "execution_count": 204,
   "metadata": {},
   "outputs": [],
   "source": [
    "rides['start_ts'] = pd.to_datetime(rides['start_ts'],format='%Y-%m-%d %H:%M:%S')\n",
    "#rides['duration_seconds'] = pd.to_timedelta(rides['duration_seconds'],unit='s')"
   ]
  },
  {
   "cell_type": "code",
   "execution_count": 205,
   "metadata": {},
   "outputs": [
    {
     "data": {
      "text/html": [
       "<div>\n",
       "<style scoped>\n",
       "    .dataframe tbody tr th:only-of-type {\n",
       "        vertical-align: middle;\n",
       "    }\n",
       "\n",
       "    .dataframe tbody tr th {\n",
       "        vertical-align: top;\n",
       "    }\n",
       "\n",
       "    .dataframe thead th {\n",
       "        text-align: right;\n",
       "    }\n",
       "</style>\n",
       "<table border=\"1\" class=\"dataframe\">\n",
       "  <thead>\n",
       "    <tr style=\"text-align: right;\">\n",
       "      <th></th>\n",
       "      <th>start_ts</th>\n",
       "      <th>weather_conditions</th>\n",
       "      <th>duration_seconds</th>\n",
       "    </tr>\n",
       "  </thead>\n",
       "  <tbody>\n",
       "    <tr>\n",
       "      <th>0</th>\n",
       "      <td>2017-11-25 16:00:00</td>\n",
       "      <td>Good</td>\n",
       "      <td>2410.0</td>\n",
       "    </tr>\n",
       "    <tr>\n",
       "      <th>1</th>\n",
       "      <td>2017-11-25 14:00:00</td>\n",
       "      <td>Good</td>\n",
       "      <td>1920.0</td>\n",
       "    </tr>\n",
       "    <tr>\n",
       "      <th>2</th>\n",
       "      <td>2017-11-25 12:00:00</td>\n",
       "      <td>Good</td>\n",
       "      <td>1543.0</td>\n",
       "    </tr>\n",
       "    <tr>\n",
       "      <th>3</th>\n",
       "      <td>2017-11-04 10:00:00</td>\n",
       "      <td>Good</td>\n",
       "      <td>2512.0</td>\n",
       "    </tr>\n",
       "    <tr>\n",
       "      <th>4</th>\n",
       "      <td>2017-11-11 07:00:00</td>\n",
       "      <td>Good</td>\n",
       "      <td>1440.0</td>\n",
       "    </tr>\n",
       "    <tr>\n",
       "      <th>...</th>\n",
       "      <td>...</td>\n",
       "      <td>...</td>\n",
       "      <td>...</td>\n",
       "    </tr>\n",
       "    <tr>\n",
       "      <th>1063</th>\n",
       "      <td>2017-11-25 11:00:00</td>\n",
       "      <td>Good</td>\n",
       "      <td>0.0</td>\n",
       "    </tr>\n",
       "    <tr>\n",
       "      <th>1064</th>\n",
       "      <td>2017-11-11 10:00:00</td>\n",
       "      <td>Good</td>\n",
       "      <td>1318.0</td>\n",
       "    </tr>\n",
       "    <tr>\n",
       "      <th>1065</th>\n",
       "      <td>2017-11-11 13:00:00</td>\n",
       "      <td>Good</td>\n",
       "      <td>2100.0</td>\n",
       "    </tr>\n",
       "    <tr>\n",
       "      <th>1066</th>\n",
       "      <td>2017-11-11 08:00:00</td>\n",
       "      <td>Good</td>\n",
       "      <td>1380.0</td>\n",
       "    </tr>\n",
       "    <tr>\n",
       "      <th>1067</th>\n",
       "      <td>2017-11-04 16:00:00</td>\n",
       "      <td>Bad</td>\n",
       "      <td>2834.0</td>\n",
       "    </tr>\n",
       "  </tbody>\n",
       "</table>\n",
       "<p>1068 rows × 3 columns</p>\n",
       "</div>"
      ],
      "text/plain": [
       "                start_ts weather_conditions  duration_seconds\n",
       "0    2017-11-25 16:00:00               Good            2410.0\n",
       "1    2017-11-25 14:00:00               Good            1920.0\n",
       "2    2017-11-25 12:00:00               Good            1543.0\n",
       "3    2017-11-04 10:00:00               Good            2512.0\n",
       "4    2017-11-11 07:00:00               Good            1440.0\n",
       "...                  ...                ...               ...\n",
       "1063 2017-11-25 11:00:00               Good               0.0\n",
       "1064 2017-11-11 10:00:00               Good            1318.0\n",
       "1065 2017-11-11 13:00:00               Good            2100.0\n",
       "1066 2017-11-11 08:00:00               Good            1380.0\n",
       "1067 2017-11-04 16:00:00                Bad            2834.0\n",
       "\n",
       "[1068 rows x 3 columns]"
      ]
     },
     "execution_count": 205,
     "metadata": {},
     "output_type": "execute_result"
    }
   ],
   "source": [
    "# Print a sample of data for rides\n",
    "rides"
   ]
  },
  {
   "cell_type": "markdown",
   "metadata": {},
   "source": [
    "### Enrich Data"
   ]
  },
  {
   "cell_type": "markdown",
   "metadata": {},
   "source": [
    "[Add additional factors to the data if you believe they might be useful.]\n",
    "\n",
    "The day shown will help alot. Lowercase the weather conditions and day"
   ]
  },
  {
   "cell_type": "code",
   "execution_count": 206,
   "metadata": {},
   "outputs": [],
   "source": [
    "def day_of_the_week(day):\n",
    "    if day.weekday() == 0:\n",
    "        return 'monday'\n",
    "    elif day.weekday() == 1:\n",
    "        return 'tuesday'\n",
    "    elif day.weekday() == 2:\n",
    "        return 'wednesday'\n",
    "    elif day.weekday() == 3:\n",
    "        return 'thursday'\n",
    "    elif day.weekday() == 4:\n",
    "        return 'friday'\n",
    "    elif day.weekday() == 5:\n",
    "        return 'saturday'\n",
    "    else:\n",
    "        return 'sunday'\n",
    "    \n",
    "\n",
    "rides['weekday'] = rides['start_ts'].apply(day_of_the_week)\n",
    "rides['weather_conditions'] = rides['weather_conditions'].str.lower()"
   ]
  },
  {
   "cell_type": "code",
   "execution_count": 207,
   "metadata": {},
   "outputs": [
    {
     "data": {
      "text/html": [
       "<div>\n",
       "<style scoped>\n",
       "    .dataframe tbody tr th:only-of-type {\n",
       "        vertical-align: middle;\n",
       "    }\n",
       "\n",
       "    .dataframe tbody tr th {\n",
       "        vertical-align: top;\n",
       "    }\n",
       "\n",
       "    .dataframe thead th {\n",
       "        text-align: right;\n",
       "    }\n",
       "</style>\n",
       "<table border=\"1\" class=\"dataframe\">\n",
       "  <thead>\n",
       "    <tr style=\"text-align: right;\">\n",
       "      <th></th>\n",
       "      <th>start_ts</th>\n",
       "      <th>weather_conditions</th>\n",
       "      <th>duration_seconds</th>\n",
       "      <th>weekday</th>\n",
       "    </tr>\n",
       "  </thead>\n",
       "  <tbody>\n",
       "    <tr>\n",
       "      <th>0</th>\n",
       "      <td>2017-11-25 16:00:00</td>\n",
       "      <td>good</td>\n",
       "      <td>2410.0</td>\n",
       "      <td>saturday</td>\n",
       "    </tr>\n",
       "    <tr>\n",
       "      <th>1</th>\n",
       "      <td>2017-11-25 14:00:00</td>\n",
       "      <td>good</td>\n",
       "      <td>1920.0</td>\n",
       "      <td>saturday</td>\n",
       "    </tr>\n",
       "    <tr>\n",
       "      <th>2</th>\n",
       "      <td>2017-11-25 12:00:00</td>\n",
       "      <td>good</td>\n",
       "      <td>1543.0</td>\n",
       "      <td>saturday</td>\n",
       "    </tr>\n",
       "    <tr>\n",
       "      <th>3</th>\n",
       "      <td>2017-11-04 10:00:00</td>\n",
       "      <td>good</td>\n",
       "      <td>2512.0</td>\n",
       "      <td>saturday</td>\n",
       "    </tr>\n",
       "    <tr>\n",
       "      <th>4</th>\n",
       "      <td>2017-11-11 07:00:00</td>\n",
       "      <td>good</td>\n",
       "      <td>1440.0</td>\n",
       "      <td>saturday</td>\n",
       "    </tr>\n",
       "    <tr>\n",
       "      <th>...</th>\n",
       "      <td>...</td>\n",
       "      <td>...</td>\n",
       "      <td>...</td>\n",
       "      <td>...</td>\n",
       "    </tr>\n",
       "    <tr>\n",
       "      <th>1063</th>\n",
       "      <td>2017-11-25 11:00:00</td>\n",
       "      <td>good</td>\n",
       "      <td>0.0</td>\n",
       "      <td>saturday</td>\n",
       "    </tr>\n",
       "    <tr>\n",
       "      <th>1064</th>\n",
       "      <td>2017-11-11 10:00:00</td>\n",
       "      <td>good</td>\n",
       "      <td>1318.0</td>\n",
       "      <td>saturday</td>\n",
       "    </tr>\n",
       "    <tr>\n",
       "      <th>1065</th>\n",
       "      <td>2017-11-11 13:00:00</td>\n",
       "      <td>good</td>\n",
       "      <td>2100.0</td>\n",
       "      <td>saturday</td>\n",
       "    </tr>\n",
       "    <tr>\n",
       "      <th>1066</th>\n",
       "      <td>2017-11-11 08:00:00</td>\n",
       "      <td>good</td>\n",
       "      <td>1380.0</td>\n",
       "      <td>saturday</td>\n",
       "    </tr>\n",
       "    <tr>\n",
       "      <th>1067</th>\n",
       "      <td>2017-11-04 16:00:00</td>\n",
       "      <td>bad</td>\n",
       "      <td>2834.0</td>\n",
       "      <td>saturday</td>\n",
       "    </tr>\n",
       "  </tbody>\n",
       "</table>\n",
       "<p>1068 rows × 4 columns</p>\n",
       "</div>"
      ],
      "text/plain": [
       "                start_ts weather_conditions  duration_seconds   weekday\n",
       "0    2017-11-25 16:00:00               good            2410.0  saturday\n",
       "1    2017-11-25 14:00:00               good            1920.0  saturday\n",
       "2    2017-11-25 12:00:00               good            1543.0  saturday\n",
       "3    2017-11-04 10:00:00               good            2512.0  saturday\n",
       "4    2017-11-11 07:00:00               good            1440.0  saturday\n",
       "...                  ...                ...               ...       ...\n",
       "1063 2017-11-25 11:00:00               good               0.0  saturday\n",
       "1064 2017-11-11 10:00:00               good            1318.0  saturday\n",
       "1065 2017-11-11 13:00:00               good            2100.0  saturday\n",
       "1066 2017-11-11 08:00:00               good            1380.0  saturday\n",
       "1067 2017-11-04 16:00:00                bad            2834.0  saturday\n",
       "\n",
       "[1068 rows x 4 columns]"
      ]
     },
     "execution_count": 207,
     "metadata": {},
     "output_type": "execute_result"
    }
   ],
   "source": [
    "rides"
   ]
  },
  {
   "cell_type": "markdown",
   "metadata": {},
   "source": [
    "We can assume safely its all saturdays."
   ]
  },
  {
   "cell_type": "code",
   "execution_count": 221,
   "metadata": {},
   "outputs": [
    {
     "data": {
      "text/html": [
       "<div>\n",
       "<style scoped>\n",
       "    .dataframe tbody tr th:only-of-type {\n",
       "        vertical-align: middle;\n",
       "    }\n",
       "\n",
       "    .dataframe tbody tr th {\n",
       "        vertical-align: top;\n",
       "    }\n",
       "\n",
       "    .dataframe thead th {\n",
       "        text-align: right;\n",
       "    }\n",
       "</style>\n",
       "<table border=\"1\" class=\"dataframe\">\n",
       "  <thead>\n",
       "    <tr style=\"text-align: right;\">\n",
       "      <th></th>\n",
       "      <th>start_ts</th>\n",
       "      <th>weather_conditions</th>\n",
       "      <th>duration_seconds</th>\n",
       "      <th>weekday</th>\n",
       "    </tr>\n",
       "  </thead>\n",
       "  <tbody>\n",
       "    <tr>\n",
       "      <th>0</th>\n",
       "      <td>2017-11-25 16:00:00</td>\n",
       "      <td>good</td>\n",
       "      <td>2410.0</td>\n",
       "      <td>saturday</td>\n",
       "    </tr>\n",
       "    <tr>\n",
       "      <th>1</th>\n",
       "      <td>2017-11-25 14:00:00</td>\n",
       "      <td>good</td>\n",
       "      <td>1920.0</td>\n",
       "      <td>saturday</td>\n",
       "    </tr>\n",
       "    <tr>\n",
       "      <th>2</th>\n",
       "      <td>2017-11-25 12:00:00</td>\n",
       "      <td>good</td>\n",
       "      <td>1543.0</td>\n",
       "      <td>saturday</td>\n",
       "    </tr>\n",
       "    <tr>\n",
       "      <th>3</th>\n",
       "      <td>2017-11-04 10:00:00</td>\n",
       "      <td>good</td>\n",
       "      <td>2512.0</td>\n",
       "      <td>saturday</td>\n",
       "    </tr>\n",
       "    <tr>\n",
       "      <th>4</th>\n",
       "      <td>2017-11-11 07:00:00</td>\n",
       "      <td>good</td>\n",
       "      <td>1440.0</td>\n",
       "      <td>saturday</td>\n",
       "    </tr>\n",
       "    <tr>\n",
       "      <th>...</th>\n",
       "      <td>...</td>\n",
       "      <td>...</td>\n",
       "      <td>...</td>\n",
       "      <td>...</td>\n",
       "    </tr>\n",
       "    <tr>\n",
       "      <th>1060</th>\n",
       "      <td>2017-11-04 14:00:00</td>\n",
       "      <td>good</td>\n",
       "      <td>2700.0</td>\n",
       "      <td>saturday</td>\n",
       "    </tr>\n",
       "    <tr>\n",
       "      <th>1061</th>\n",
       "      <td>2017-11-18 16:00:00</td>\n",
       "      <td>bad</td>\n",
       "      <td>2186.0</td>\n",
       "      <td>saturday</td>\n",
       "    </tr>\n",
       "    <tr>\n",
       "      <th>1063</th>\n",
       "      <td>2017-11-25 11:00:00</td>\n",
       "      <td>good</td>\n",
       "      <td>0.0</td>\n",
       "      <td>saturday</td>\n",
       "    </tr>\n",
       "    <tr>\n",
       "      <th>1064</th>\n",
       "      <td>2017-11-11 10:00:00</td>\n",
       "      <td>good</td>\n",
       "      <td>1318.0</td>\n",
       "      <td>saturday</td>\n",
       "    </tr>\n",
       "    <tr>\n",
       "      <th>1067</th>\n",
       "      <td>2017-11-04 16:00:00</td>\n",
       "      <td>bad</td>\n",
       "      <td>2834.0</td>\n",
       "      <td>saturday</td>\n",
       "    </tr>\n",
       "  </tbody>\n",
       "</table>\n",
       "<p>871 rows × 4 columns</p>\n",
       "</div>"
      ],
      "text/plain": [
       "                start_ts weather_conditions  duration_seconds   weekday\n",
       "0    2017-11-25 16:00:00               good            2410.0  saturday\n",
       "1    2017-11-25 14:00:00               good            1920.0  saturday\n",
       "2    2017-11-25 12:00:00               good            1543.0  saturday\n",
       "3    2017-11-04 10:00:00               good            2512.0  saturday\n",
       "4    2017-11-11 07:00:00               good            1440.0  saturday\n",
       "...                  ...                ...               ...       ...\n",
       "1060 2017-11-04 14:00:00               good            2700.0  saturday\n",
       "1061 2017-11-18 16:00:00                bad            2186.0  saturday\n",
       "1063 2017-11-25 11:00:00               good               0.0  saturday\n",
       "1064 2017-11-11 10:00:00               good            1318.0  saturday\n",
       "1067 2017-11-04 16:00:00                bad            2834.0  saturday\n",
       "\n",
       "[871 rows x 4 columns]"
      ]
     },
     "execution_count": 221,
     "metadata": {},
     "output_type": "execute_result"
    }
   ],
   "source": [
    "rides = rides[rides.duplicated() != True]\n",
    "rides[rides['duration_seconds'].isna() != True]"
   ]
  },
  {
   "cell_type": "markdown",
   "metadata": {},
   "source": [
    "### Check for outliers"
   ]
  },
  {
   "cell_type": "code",
   "execution_count": 217,
   "metadata": {},
   "outputs": [
    {
     "name": "stdout",
     "output_type": "stream",
     "text": [
      "count     148.000000\n",
      "mean     2409.229730\n",
      "std       751.544705\n",
      "min       480.000000\n",
      "25%      1746.000000\n",
      "50%      2463.500000\n",
      "75%      2940.000000\n",
      "max      4980.000000\n",
      "Name: duration_seconds, dtype: float64\n"
     ]
    },
    {
     "data": {
      "image/png": "[encoded data removed]",
      "text/plain": [
       "<Figure size 432x288 with 1 Axes>"
      ]
     },
     "metadata": {
      "needs_background": "light"
     },
     "output_type": "display_data"
    },
    {
     "data": {
      "image/png": "[encoded data removed]",
      "text/plain": [
       "<Figure size 432x288 with 1 Axes>"
      ]
     },
     "metadata": {
      "needs_background": "light"
     },
     "output_type": "display_data"
    },
    {
     "data": {
      "image/png": "[encoded data removed]",
      "text/plain": [
       "<Figure size 432x288 with 1 Axes>"
      ]
     },
     "metadata": {
      "needs_background": "light"
     },
     "output_type": "display_data"
    },
    {
     "name": "stdout",
     "output_type": "stream",
     "text": [
      "\n",
      "count     723.000000\n",
      "mean     2032.253112\n",
      "std       773.444860\n",
      "min         0.000000\n",
      "25%      1435.500000\n",
      "50%      1883.000000\n",
      "75%      2491.500000\n",
      "max      7440.000000\n",
      "Name: duration_seconds, dtype: float64\n"
     ]
    },
    {
     "data": {
      "image/png": "[encoded data removed]",
      "text/plain": [
       "<Figure size 432x288 with 1 Axes>"
      ]
     },
     "metadata": {
      "needs_background": "light"
     },
     "output_type": "display_data"
    },
    {
     "data": {
      "image/png": "[encoded data removed]",
      "text/plain": [
       "<Figure size 432x288 with 1 Axes>"
      ]
     },
     "metadata": {
      "needs_background": "light"
     },
     "output_type": "display_data"
    },
    {
     "data": {
      "image/png": "[encoded data removed]",
      "text/plain": [
       "<Figure size 432x288 with 1 Axes>"
      ]
     },
     "metadata": {
      "needs_background": "light"
     },
     "output_type": "display_data"
    }
   ],
   "source": [
    "print(rides[rides['weather_conditions'] == 'bad']['duration_seconds'].describe())\n",
    "rides[rides['weather_conditions'] == 'bad']['duration_seconds'].hist(bins=100,grid=False)\n",
    "plt.show()\n",
    "rides[rides['weather_conditions'] == 'bad']['duration_seconds'].plot(kind='box')\n",
    "plt.show()\n",
    "rides[(rides.weather_conditions == 'bad') & (rides.duration_seconds <= 4000)]['duration_seconds'].hist(bins=100,grid=False)\n",
    "plt.show()\n",
    "print()\n",
    "print(rides[rides['weather_conditions'] == 'good']['duration_seconds'].describe())\n",
    "rides[rides['weather_conditions'] == 'good']['duration_seconds'].hist(bins=100,grid=False)\n",
    "plt.show()\n",
    "rides[rides['weather_conditions'] == 'good']['duration_seconds'].plot(kind='box')\n",
    "plt.show()\n",
    "rides[(rides.weather_conditions == 'good') & (rides.duration_seconds <= 4000)]['duration_seconds'].hist(bins=100,grid=False)\n",
    "plt.show()\n"
   ]
  },
  {
   "cell_type": "markdown",
   "metadata": {},
   "source": [
    "There are outliers past 4000 for good and bad weather. "
   ]
  },
  {
   "cell_type": "markdown",
   "metadata": {},
   "source": [
    "### Test Hypothesis\n"
   ]
  },
  {
   "cell_type": "markdown",
   "metadata": {},
   "source": [
    "[Test the hypothesis:\n",
    "\"The average duration of rides from the Loop to O'Hare International Airport changes on rainy Saturdays.\"]"
   ]
  },
  {
   "cell_type": "code",
   "execution_count": 225,
   "metadata": {},
   "outputs": [
    {
     "name": "stdout",
     "output_type": "stream",
     "text": [
      "p-value:  6.6297390839448354e-09\n",
      "We cannot reject the alt hypothesis\n",
      "The means of both are the different.\n"
     ]
    }
   ],
   "source": [
    "# Test the hypotheses\n",
    "rides_without_outliers = rides[rides['duration_seconds'] <= 4000]\n",
    "#print(rides_without_outliers)\n",
    "\n",
    "sample1 = list(rides_without_outliers.query('weather_conditions == \"good\"')['duration_seconds'])\n",
    "sample2 = list(rides_without_outliers.query('weather_conditions == \"bad\"')['duration_seconds']) #We do not need to use .head() to make samples equal in sizes. ttest_ind can work with samples of different sizes.\n",
    "#print(sample1)\n",
    "#print(sample2)\n",
    "\n",
    "results = st.ttest_ind(sample1, sample2, equal_var = True)\n",
    "\n",
    "alpha = 0.05 \n",
    "\n",
    "print('p-value: ', results.pvalue)\n",
    "\n",
    "if results.pvalue < alpha: #H1, the alt hypothesis means that the means of both populations are different.\n",
    "    print('We cannot reject the alt hypothesis')\n",
    "    print(\"The means of both are the different.\")\n",
    "else:\n",
    "    print('We reject the alt hypothesis')\n",
    "    print(\"The means of both are the same.\")\n",
    "    "
   ]
  },
  {
   "cell_type": "markdown",
   "metadata": {},
   "source": [
    "[Explain:\n",
    "how you formed the null and alternative hypotheses\n",
    "what criterion you used to test the hypotheses and why]\n",
    "\n",
    "I formed the alt hypothesis (Alt = Not same, The proposal that the average duration is not the same on rainy days) by comparing days with good weather conditions to days with bad conditions. We reject the alt hypothesis\n",
    "The means of both are the same outside of outliers."
   ]
  },
  {
   "cell_type": "markdown",
   "metadata": {},
   "source": [
    "## General conclusion\n",
    "\n",
    "[List your important conclusions in this final section, make sure they cover all those important decisions (assumptions) that you've made and that led you to the way you processed and analyzed the data.]"
   ]
  },
  {
   "cell_type": "markdown",
   "metadata": {},
   "source": [
    "The top taxi companies are 'flash_cab','taxi_affiliation_services','medallion_leasing','yellow_cab','taxi_affiliation_service_yellow','chicago_carriage_cab_corp','city_service','sun_taxi','star_north_management_llc' and 'blue_ribbon_taxi_association_inc.'\n",
    "\n",
    "The top neighborhood dropoffs are 'Loop','River North','Streeterville','West Loop',\"O'Hare\",'Lake View','Grant Park','Museum Campus','Gold Coast' and 'Sheffield & DePaul'.\n",
    "\n",
    "The average duration of rides from the Loop to O'Hare International Airport doesn't change on rainy Saturdays."
   ]
  }
 ],
 "metadata": {
  "ExecuteTimeLog": [
   {
    "duration": 1735,
    "start_time": "2022-05-14T16:41:55.634Z"
   },
   {
    "duration": 141,
    "start_time": "2022-05-14T16:43:36.681Z"
   },
   {
    "duration": 18,
    "start_time": "2022-05-14T16:44:39.346Z"
   },
   {
    "duration": 16,
    "start_time": "2022-05-14T16:44:46.834Z"
   },
   {
    "duration": 6,
    "start_time": "2022-05-14T16:45:21.105Z"
   },
   {
    "duration": 13,
    "start_time": "2022-05-14T16:45:26.865Z"
   },
   {
    "duration": 4,
    "start_time": "2022-05-14T16:46:41.125Z"
   },
   {
    "duration": 16,
    "start_time": "2022-05-14T16:48:25.022Z"
   },
   {
    "duration": 20,
    "start_time": "2022-05-14T16:48:32.688Z"
   },
   {
    "duration": 100,
    "start_time": "2022-05-14T16:48:51.471Z"
   },
   {
    "duration": 5,
    "start_time": "2022-05-14T16:51:10.082Z"
   },
   {
    "duration": 14,
    "start_time": "2022-05-14T16:51:16.189Z"
   },
   {
    "duration": 5,
    "start_time": "2022-05-14T16:52:58.461Z"
   },
   {
    "duration": 117,
    "start_time": "2022-05-14T16:53:09.997Z"
   },
   {
    "duration": 3,
    "start_time": "2022-05-14T16:53:21.357Z"
   },
   {
    "duration": 17,
    "start_time": "2022-05-14T16:53:42.925Z"
   },
   {
    "duration": 109,
    "start_time": "2022-05-14T16:53:51.427Z"
   },
   {
    "duration": 9,
    "start_time": "2022-05-14T17:38:16.920Z"
   },
   {
    "duration": 139,
    "start_time": "2022-05-14T17:38:27.050Z"
   },
   {
    "duration": 12,
    "start_time": "2022-05-14T17:38:59.878Z"
   },
   {
    "duration": 13,
    "start_time": "2022-05-14T17:39:12.068Z"
   },
   {
    "duration": 246,
    "start_time": "2022-05-14T17:39:22.279Z"
   },
   {
    "duration": 244,
    "start_time": "2022-05-14T17:40:24.485Z"
   },
   {
    "duration": 1912,
    "start_time": "2022-05-14T17:40:41.108Z"
   },
   {
    "duration": 1963,
    "start_time": "2022-05-14T17:41:01.108Z"
   },
   {
    "duration": 2067,
    "start_time": "2022-05-14T17:41:53.329Z"
   },
   {
    "duration": 2231,
    "start_time": "2022-05-14T17:42:04.210Z"
   },
   {
    "duration": 2215,
    "start_time": "2022-05-14T17:42:13.282Z"
   },
   {
    "duration": 390,
    "start_time": "2022-05-14T17:43:01.802Z"
   },
   {
    "duration": 419,
    "start_time": "2022-05-14T17:43:44.784Z"
   },
   {
    "duration": 16,
    "start_time": "2022-05-14T17:44:18.422Z"
   },
   {
    "duration": 421,
    "start_time": "2022-05-14T17:44:23.648Z"
   },
   {
    "duration": 436,
    "start_time": "2022-05-14T17:44:36.318Z"
   },
   {
    "duration": 2115,
    "start_time": "2022-05-14T17:45:23.503Z"
   },
   {
    "duration": 102,
    "start_time": "2022-05-14T21:47:26.613Z"
   },
   {
    "duration": 96,
    "start_time": "2022-05-15T16:58:39.781Z"
   },
   {
    "duration": 2070,
    "start_time": "2022-05-15T16:58:44.644Z"
   },
   {
    "duration": 340,
    "start_time": "2022-05-15T16:58:46.717Z"
   },
   {
    "duration": 15,
    "start_time": "2022-05-15T16:58:47.060Z"
   },
   {
    "duration": 28,
    "start_time": "2022-05-15T16:58:47.078Z"
   },
   {
    "duration": 12,
    "start_time": "2022-05-15T16:58:47.110Z"
   },
   {
    "duration": 34,
    "start_time": "2022-05-15T16:58:47.127Z"
   },
   {
    "duration": 4,
    "start_time": "2022-05-15T16:58:47.330Z"
   },
   {
    "duration": 14,
    "start_time": "2022-05-15T16:58:47.857Z"
   },
   {
    "duration": 15,
    "start_time": "2022-05-15T16:58:48.049Z"
   },
   {
    "duration": 11,
    "start_time": "2022-05-15T16:58:48.634Z"
   },
   {
    "duration": 14,
    "start_time": "2022-05-15T16:58:48.737Z"
   },
   {
    "duration": 3,
    "start_time": "2022-05-15T16:58:49.433Z"
   },
   {
    "duration": 21,
    "start_time": "2022-05-15T16:58:49.841Z"
   },
   {
    "duration": 3009,
    "start_time": "2022-05-15T16:58:53.381Z"
   },
   {
    "duration": 532,
    "start_time": "2022-05-15T17:01:56.898Z"
   },
   {
    "duration": 567,
    "start_time": "2022-05-15T17:03:08.740Z"
   },
   {
    "duration": 2465,
    "start_time": "2022-05-15T17:05:21.391Z"
   },
   {
    "duration": 21,
    "start_time": "2022-05-15T18:39:58.918Z"
   },
   {
    "duration": 135,
    "start_time": "2022-05-15T18:40:39.943Z"
   },
   {
    "duration": 22,
    "start_time": "2022-05-15T18:40:43.218Z"
   },
   {
    "duration": 306,
    "start_time": "2022-05-15T18:44:18.100Z"
   },
   {
    "duration": 24,
    "start_time": "2022-05-15T18:45:58.830Z"
   },
   {
    "duration": 5,
    "start_time": "2022-05-15T18:47:38.122Z"
   },
   {
    "duration": 224,
    "start_time": "2022-05-15T18:47:39.553Z"
   },
   {
    "duration": 18,
    "start_time": "2022-05-15T18:47:40.161Z"
   },
   {
    "duration": 24,
    "start_time": "2022-05-15T18:47:40.191Z"
   },
   {
    "duration": 6,
    "start_time": "2022-05-15T18:47:40.284Z"
   },
   {
    "duration": 50,
    "start_time": "2022-05-15T18:47:40.326Z"
   },
   {
    "duration": 6,
    "start_time": "2022-05-15T18:47:40.426Z"
   },
   {
    "duration": 37,
    "start_time": "2022-05-15T18:47:40.488Z"
   },
   {
    "duration": 19,
    "start_time": "2022-05-15T18:47:40.850Z"
   },
   {
    "duration": 5,
    "start_time": "2022-05-15T18:47:41.630Z"
   },
   {
    "duration": 15,
    "start_time": "2022-05-15T18:47:41.855Z"
   },
   {
    "duration": 3,
    "start_time": "2022-05-15T18:47:42.560Z"
   },
   {
    "duration": 19,
    "start_time": "2022-05-15T18:47:42.942Z"
   },
   {
    "duration": 3115,
    "start_time": "2022-05-15T18:47:43.318Z"
   },
   {
    "duration": 556,
    "start_time": "2022-05-15T18:47:46.437Z"
   },
   {
    "duration": 29,
    "start_time": "2022-05-15T18:47:47.005Z"
   },
   {
    "duration": 10,
    "start_time": "2022-05-15T18:58:51.455Z"
   },
   {
    "duration": 18,
    "start_time": "2022-05-15T18:58:52.240Z"
   },
   {
    "duration": 21,
    "start_time": "2022-05-15T19:01:12.541Z"
   },
   {
    "duration": 36,
    "start_time": "2022-05-15T19:02:47.091Z"
   },
   {
    "duration": 23,
    "start_time": "2022-05-15T19:03:07.612Z"
   },
   {
    "duration": 26,
    "start_time": "2022-05-15T19:03:13.605Z"
   },
   {
    "duration": 24,
    "start_time": "2022-05-15T19:03:38.516Z"
   },
   {
    "duration": 113,
    "start_time": "2022-05-15T19:04:31.257Z"
   },
   {
    "duration": 32,
    "start_time": "2022-05-15T19:04:31.491Z"
   },
   {
    "duration": 3,
    "start_time": "2022-05-15T19:04:58.118Z"
   },
   {
    "duration": 19,
    "start_time": "2022-05-15T19:13:38.918Z"
   },
   {
    "duration": 26,
    "start_time": "2022-05-15T19:14:35.441Z"
   },
   {
    "duration": 25,
    "start_time": "2022-05-15T19:14:39.130Z"
   },
   {
    "duration": 22,
    "start_time": "2022-05-15T19:14:49.038Z"
   },
   {
    "duration": 15,
    "start_time": "2022-05-15T19:19:18.450Z"
   },
   {
    "duration": 17,
    "start_time": "2022-05-15T19:19:19.654Z"
   },
   {
    "duration": 268,
    "start_time": "2022-05-15T19:22:02.915Z"
   },
   {
    "duration": 19,
    "start_time": "2022-05-15T19:22:03.543Z"
   },
   {
    "duration": 13,
    "start_time": "2022-05-15T19:22:15.364Z"
   },
   {
    "duration": 25,
    "start_time": "2022-05-15T19:22:16.614Z"
   },
   {
    "duration": 8,
    "start_time": "2022-05-15T19:22:39.955Z"
   },
   {
    "duration": 20,
    "start_time": "2022-05-15T19:22:49.747Z"
   },
   {
    "duration": 8,
    "start_time": "2022-05-15T19:22:50.146Z"
   },
   {
    "duration": 21,
    "start_time": "2022-05-15T19:23:13.718Z"
   },
   {
    "duration": 9,
    "start_time": "2022-05-15T19:23:14.644Z"
   },
   {
    "duration": 20,
    "start_time": "2022-05-15T19:23:21.059Z"
   },
   {
    "duration": 36,
    "start_time": "2022-05-15T19:24:13.433Z"
   },
   {
    "duration": 19,
    "start_time": "2022-05-15T19:26:14.635Z"
   },
   {
    "duration": 24,
    "start_time": "2022-05-15T19:26:15.240Z"
   },
   {
    "duration": 10,
    "start_time": "2022-05-15T19:27:16.854Z"
   },
   {
    "duration": 8,
    "start_time": "2022-05-15T19:27:23.857Z"
   },
   {
    "duration": 109,
    "start_time": "2022-05-15T19:51:52.342Z"
   },
   {
    "duration": 382,
    "start_time": "2022-05-15T19:52:15.964Z"
   },
   {
    "duration": 5,
    "start_time": "2022-05-15T19:52:48.682Z"
   },
   {
    "duration": 282,
    "start_time": "2022-05-15T19:52:48.875Z"
   },
   {
    "duration": 14,
    "start_time": "2022-05-15T19:52:49.160Z"
   },
   {
    "duration": 14,
    "start_time": "2022-05-15T19:52:49.176Z"
   },
   {
    "duration": 48,
    "start_time": "2022-05-15T19:52:49.201Z"
   },
   {
    "duration": 15,
    "start_time": "2022-05-15T19:52:49.252Z"
   },
   {
    "duration": 4,
    "start_time": "2022-05-15T19:52:49.270Z"
   },
   {
    "duration": 14,
    "start_time": "2022-05-15T19:52:49.352Z"
   },
   {
    "duration": 12,
    "start_time": "2022-05-15T19:52:49.373Z"
   },
   {
    "duration": 5,
    "start_time": "2022-05-15T19:52:49.465Z"
   },
   {
    "duration": 19,
    "start_time": "2022-05-15T19:52:49.518Z"
   },
   {
    "duration": 4,
    "start_time": "2022-05-15T19:52:49.618Z"
   },
   {
    "duration": 11,
    "start_time": "2022-05-15T19:52:49.669Z"
   },
   {
    "duration": 2595,
    "start_time": "2022-05-15T19:52:49.730Z"
   },
   {
    "duration": 510,
    "start_time": "2022-05-15T19:52:52.328Z"
   },
   {
    "duration": 21,
    "start_time": "2022-05-15T19:52:52.841Z"
   },
   {
    "duration": 7,
    "start_time": "2022-05-15T19:52:52.865Z"
   },
   {
    "duration": 55,
    "start_time": "2022-05-15T19:52:52.874Z"
   },
   {
    "duration": 28,
    "start_time": "2022-05-15T19:52:52.932Z"
   },
   {
    "duration": 30,
    "start_time": "2022-05-15T19:52:52.963Z"
   },
   {
    "duration": 65,
    "start_time": "2022-05-15T19:52:52.996Z"
   },
   {
    "duration": 14,
    "start_time": "2022-05-15T19:52:53.064Z"
   },
   {
    "duration": 31,
    "start_time": "2022-05-15T19:59:56.736Z"
   },
   {
    "duration": 27,
    "start_time": "2022-05-15T20:00:39.336Z"
   },
   {
    "duration": 14,
    "start_time": "2022-05-15T20:04:51.351Z"
   },
   {
    "duration": 9,
    "start_time": "2022-05-16T00:21:15.515Z"
   },
   {
    "duration": 9,
    "start_time": "2022-05-16T00:21:24.683Z"
   },
   {
    "duration": 11,
    "start_time": "2022-05-16T00:21:32.299Z"
   },
   {
    "duration": 2065,
    "start_time": "2022-05-16T00:23:25.009Z"
   },
   {
    "duration": 471,
    "start_time": "2022-05-16T00:23:35.337Z"
   },
   {
    "duration": 6,
    "start_time": "2022-05-16T00:24:01.465Z"
   },
   {
    "duration": 6,
    "start_time": "2022-05-16T00:24:14.031Z"
   },
   {
    "duration": 458,
    "start_time": "2022-05-16T00:25:28.665Z"
   },
   {
    "duration": 3341,
    "start_time": "2022-05-16T00:25:41.506Z"
   },
   {
    "duration": 6,
    "start_time": "2022-05-16T00:25:55.785Z"
   },
   {
    "duration": 19,
    "start_time": "2022-05-16T02:35:02.442Z"
   },
   {
    "duration": 18,
    "start_time": "2022-05-16T02:35:10.377Z"
   },
   {
    "duration": 5,
    "start_time": "2022-05-16T02:35:30.764Z"
   },
   {
    "duration": 273,
    "start_time": "2022-05-16T02:35:31.258Z"
   },
   {
    "duration": 16,
    "start_time": "2022-05-16T02:35:31.533Z"
   },
   {
    "duration": 18,
    "start_time": "2022-05-16T02:35:31.551Z"
   },
   {
    "duration": 10,
    "start_time": "2022-05-16T02:35:31.573Z"
   },
   {
    "duration": 16,
    "start_time": "2022-05-16T02:35:31.585Z"
   },
   {
    "duration": 4,
    "start_time": "2022-05-16T02:35:32.021Z"
   },
   {
    "duration": 15,
    "start_time": "2022-05-16T02:35:32.562Z"
   },
   {
    "duration": 12,
    "start_time": "2022-05-16T02:35:32.594Z"
   },
   {
    "duration": 5,
    "start_time": "2022-05-16T02:35:32.690Z"
   },
   {
    "duration": 13,
    "start_time": "2022-05-16T02:35:32.720Z"
   },
   {
    "duration": 3,
    "start_time": "2022-05-16T02:35:33.078Z"
   },
   {
    "duration": 11,
    "start_time": "2022-05-16T02:35:33.881Z"
   },
   {
    "duration": 2199,
    "start_time": "2022-05-16T02:35:33.944Z"
   },
   {
    "duration": 521,
    "start_time": "2022-05-16T02:35:36.146Z"
   },
   {
    "duration": 487,
    "start_time": "2022-05-16T02:35:36.669Z"
   },
   {
    "duration": 6,
    "start_time": "2022-05-16T02:35:37.158Z"
   },
   {
    "duration": 34,
    "start_time": "2022-05-16T02:35:37.167Z"
   },
   {
    "duration": 7,
    "start_time": "2022-05-16T02:35:37.204Z"
   },
   {
    "duration": 19,
    "start_time": "2022-05-16T02:35:37.214Z"
   },
   {
    "duration": 5,
    "start_time": "2022-05-16T02:35:52.531Z"
   },
   {
    "duration": 175,
    "start_time": "2022-05-16T02:35:52.578Z"
   },
   {
    "duration": 15,
    "start_time": "2022-05-16T02:35:52.756Z"
   },
   {
    "duration": 22,
    "start_time": "2022-05-16T02:35:52.773Z"
   },
   {
    "duration": 6,
    "start_time": "2022-05-16T02:35:52.831Z"
   },
   {
    "duration": 12,
    "start_time": "2022-05-16T02:35:52.862Z"
   },
   {
    "duration": 4,
    "start_time": "2022-05-16T02:35:52.957Z"
   },
   {
    "duration": 15,
    "start_time": "2022-05-16T02:35:53.043Z"
   },
   {
    "duration": 12,
    "start_time": "2022-05-16T02:35:53.066Z"
   },
   {
    "duration": 5,
    "start_time": "2022-05-16T02:35:53.160Z"
   },
   {
    "duration": 12,
    "start_time": "2022-05-16T02:35:53.192Z"
   },
   {
    "duration": 4,
    "start_time": "2022-05-16T02:35:53.289Z"
   },
   {
    "duration": 11,
    "start_time": "2022-05-16T02:35:53.353Z"
   },
   {
    "duration": 1993,
    "start_time": "2022-05-16T02:35:53.431Z"
   },
   {
    "duration": 431,
    "start_time": "2022-05-16T02:35:55.427Z"
   },
   {
    "duration": 457,
    "start_time": "2022-05-16T02:35:55.860Z"
   },
   {
    "duration": 6,
    "start_time": "2022-05-16T02:35:56.320Z"
   },
   {
    "duration": 18,
    "start_time": "2022-05-16T02:35:56.327Z"
   },
   {
    "duration": 9,
    "start_time": "2022-05-16T02:35:56.347Z"
   },
   {
    "duration": 46,
    "start_time": "2022-05-16T02:35:56.358Z"
   },
   {
    "duration": 12,
    "start_time": "2022-05-16T02:35:56.406Z"
   },
   {
    "duration": 20,
    "start_time": "2022-05-16T02:35:56.420Z"
   },
   {
    "duration": 8,
    "start_time": "2022-05-16T02:35:56.443Z"
   },
   {
    "duration": 50,
    "start_time": "2022-05-16T02:35:56.453Z"
   },
   {
    "duration": 14,
    "start_time": "2022-05-16T02:35:56.505Z"
   },
   {
    "duration": 19,
    "start_time": "2022-05-16T02:36:15.284Z"
   },
   {
    "duration": 19,
    "start_time": "2022-05-16T02:36:34.003Z"
   },
   {
    "duration": 19,
    "start_time": "2022-05-16T02:36:54.546Z"
   },
   {
    "duration": 13,
    "start_time": "2022-05-16T02:38:31.011Z"
   },
   {
    "duration": 14,
    "start_time": "2022-05-16T02:39:44.017Z"
   },
   {
    "duration": 15,
    "start_time": "2022-05-16T02:40:17.569Z"
   },
   {
    "duration": 11,
    "start_time": "2022-05-16T02:42:39.110Z"
   },
   {
    "duration": 2021,
    "start_time": "2022-05-16T02:42:39.599Z"
   },
   {
    "duration": 201,
    "start_time": "2022-05-16T02:44:10.463Z"
   },
   {
    "duration": 322,
    "start_time": "2022-05-16T02:46:02.016Z"
   },
   {
    "duration": 4,
    "start_time": "2022-05-16T02:46:48.436Z"
   },
   {
    "duration": 149,
    "start_time": "2022-05-16T02:46:49.247Z"
   },
   {
    "duration": 14,
    "start_time": "2022-05-16T02:46:52.542Z"
   },
   {
    "duration": 10,
    "start_time": "2022-05-16T02:46:52.799Z"
   },
   {
    "duration": 5,
    "start_time": "2022-05-16T02:47:01.263Z"
   },
   {
    "duration": 14,
    "start_time": "2022-05-16T02:47:01.678Z"
   },
   {
    "duration": 4,
    "start_time": "2022-05-16T02:47:02.942Z"
   },
   {
    "duration": 16,
    "start_time": "2022-05-16T02:47:03.517Z"
   },
   {
    "duration": 13,
    "start_time": "2022-05-16T02:47:04.417Z"
   },
   {
    "duration": 14,
    "start_time": "2022-05-16T02:47:08.834Z"
   },
   {
    "duration": 14,
    "start_time": "2022-05-16T02:47:15.918Z"
   },
   {
    "duration": 10,
    "start_time": "2022-05-16T02:47:16.417Z"
   },
   {
    "duration": 6,
    "start_time": "2022-05-16T02:47:16.508Z"
   },
   {
    "duration": 14,
    "start_time": "2022-05-16T02:47:16.553Z"
   },
   {
    "duration": 4,
    "start_time": "2022-05-16T02:47:16.647Z"
   },
   {
    "duration": 15,
    "start_time": "2022-05-16T02:47:16.709Z"
   },
   {
    "duration": 13,
    "start_time": "2022-05-16T02:47:16.741Z"
   },
   {
    "duration": 5,
    "start_time": "2022-05-16T02:47:16.854Z"
   },
   {
    "duration": 13,
    "start_time": "2022-05-16T02:47:16.889Z"
   },
   {
    "duration": 4,
    "start_time": "2022-05-16T02:47:16.981Z"
   },
   {
    "duration": 11,
    "start_time": "2022-05-16T02:47:17.073Z"
   },
   {
    "duration": 2057,
    "start_time": "2022-05-16T02:47:17.100Z"
   },
   {
    "duration": 523,
    "start_time": "2022-05-16T02:47:19.159Z"
   },
   {
    "duration": 474,
    "start_time": "2022-05-16T02:47:19.684Z"
   },
   {
    "duration": 6,
    "start_time": "2022-05-16T02:47:20.161Z"
   },
   {
    "duration": 33,
    "start_time": "2022-05-16T02:47:20.169Z"
   },
   {
    "duration": 15,
    "start_time": "2022-05-16T02:47:36.613Z"
   },
   {
    "duration": 16,
    "start_time": "2022-05-16T02:47:40.053Z"
   },
   {
    "duration": 1266,
    "start_time": "2022-05-16T05:30:26.845Z"
   },
   {
    "duration": 156,
    "start_time": "2022-05-16T05:30:28.113Z"
   },
   {
    "duration": 12,
    "start_time": "2022-05-16T05:30:28.271Z"
   },
   {
    "duration": 12,
    "start_time": "2022-05-16T05:30:28.285Z"
   },
   {
    "duration": 5,
    "start_time": "2022-05-16T05:30:28.298Z"
   },
   {
    "duration": 10,
    "start_time": "2022-05-16T05:30:28.304Z"
   },
   {
    "duration": 3,
    "start_time": "2022-05-16T05:30:28.316Z"
   },
   {
    "duration": 10,
    "start_time": "2022-05-16T05:30:28.321Z"
   },
   {
    "duration": 43,
    "start_time": "2022-05-16T05:30:28.333Z"
   },
   {
    "duration": 3,
    "start_time": "2022-05-16T05:30:28.379Z"
   },
   {
    "duration": 16,
    "start_time": "2022-05-16T05:30:28.384Z"
   },
   {
    "duration": 4,
    "start_time": "2022-05-16T05:30:28.402Z"
   },
   {
    "duration": 8,
    "start_time": "2022-05-16T05:30:28.408Z"
   },
   {
    "duration": 1261,
    "start_time": "2022-05-16T05:30:28.418Z"
   },
   {
    "duration": 212,
    "start_time": "2022-05-16T05:30:29.681Z"
   },
   {
    "duration": 252,
    "start_time": "2022-05-16T05:30:29.894Z"
   },
   {
    "duration": 5,
    "start_time": "2022-05-16T05:30:30.148Z"
   },
   {
    "duration": 10,
    "start_time": "2022-05-16T05:30:30.170Z"
   },
   {
    "duration": 18,
    "start_time": "2022-05-16T05:30:30.182Z"
   },
   {
    "duration": 15,
    "start_time": "2022-05-16T05:30:30.202Z"
   },
   {
    "duration": 11,
    "start_time": "2022-05-16T05:30:30.219Z"
   },
   {
    "duration": 16,
    "start_time": "2022-05-16T05:30:30.232Z"
   },
   {
    "duration": 6,
    "start_time": "2022-05-16T05:30:30.249Z"
   },
   {
    "duration": 19,
    "start_time": "2022-05-16T05:30:30.257Z"
   },
   {
    "duration": 158,
    "start_time": "2022-05-16T05:35:34.581Z"
   },
   {
    "duration": 1319,
    "start_time": "2022-05-16T19:30:11.555Z"
   },
   {
    "duration": 149,
    "start_time": "2022-05-16T19:30:12.876Z"
   },
   {
    "duration": 12,
    "start_time": "2022-05-16T19:30:13.028Z"
   },
   {
    "duration": 11,
    "start_time": "2022-05-16T19:30:13.201Z"
   },
   {
    "duration": 4,
    "start_time": "2022-05-16T19:30:14.527Z"
   },
   {
    "duration": 10,
    "start_time": "2022-05-16T19:30:14.895Z"
   },
   {
    "duration": 11,
    "start_time": "2022-05-16T19:30:16.432Z"
   },
   {
    "duration": 6,
    "start_time": "2022-05-16T19:32:21.811Z"
   },
   {
    "duration": 9,
    "start_time": "2022-05-16T19:32:41.231Z"
   },
   {
    "duration": 8,
    "start_time": "2022-05-16T19:33:15.103Z"
   },
   {
    "duration": 104,
    "start_time": "2022-05-16T19:33:55.997Z"
   },
   {
    "duration": 7,
    "start_time": "2022-05-16T19:34:29.245Z"
   },
   {
    "duration": 7,
    "start_time": "2022-05-16T19:35:02.061Z"
   },
   {
    "duration": 5,
    "start_time": "2022-05-16T19:35:22.556Z"
   },
   {
    "duration": 8,
    "start_time": "2022-05-16T19:35:31.053Z"
   },
   {
    "duration": 17,
    "start_time": "2022-05-16T19:35:47.021Z"
   },
   {
    "duration": 5,
    "start_time": "2022-05-16T19:35:52.562Z"
   },
   {
    "duration": 14,
    "start_time": "2022-05-16T19:36:09.834Z"
   },
   {
    "duration": 8,
    "start_time": "2022-05-16T19:36:17.599Z"
   },
   {
    "duration": 9,
    "start_time": "2022-05-16T19:36:24.717Z"
   },
   {
    "duration": 6,
    "start_time": "2022-05-16T19:36:51.009Z"
   },
   {
    "duration": 10,
    "start_time": "2022-05-16T19:38:07.038Z"
   },
   {
    "duration": 10,
    "start_time": "2022-05-16T19:38:39.707Z"
   },
   {
    "duration": 8,
    "start_time": "2022-05-16T19:38:50.957Z"
   },
   {
    "duration": 10,
    "start_time": "2022-05-16T19:39:07.515Z"
   },
   {
    "duration": 16,
    "start_time": "2022-05-16T19:39:23.275Z"
   },
   {
    "duration": 16,
    "start_time": "2022-05-16T19:39:29.055Z"
   },
   {
    "duration": 10,
    "start_time": "2022-05-16T19:39:33.854Z"
   },
   {
    "duration": 10,
    "start_time": "2022-05-16T19:39:52.207Z"
   },
   {
    "duration": 10,
    "start_time": "2022-05-16T19:40:07.179Z"
   },
   {
    "duration": 16,
    "start_time": "2022-05-16T19:40:18.075Z"
   },
   {
    "duration": 25,
    "start_time": "2022-05-16T19:41:04.560Z"
   },
   {
    "duration": 9,
    "start_time": "2022-05-16T19:42:15.579Z"
   },
   {
    "duration": 255,
    "start_time": "2022-05-16T19:43:59.429Z"
   },
   {
    "duration": 245,
    "start_time": "2022-05-16T19:44:11.161Z"
   },
   {
    "duration": 292,
    "start_time": "2022-05-16T19:45:05.305Z"
   },
   {
    "duration": 403,
    "start_time": "2022-05-16T19:45:29.292Z"
   },
   {
    "duration": 308,
    "start_time": "2022-05-16T19:45:41.418Z"
   },
   {
    "duration": 4,
    "start_time": "2022-05-16T19:45:45.671Z"
   },
   {
    "duration": 90,
    "start_time": "2022-05-16T19:45:46.176Z"
   },
   {
    "duration": 11,
    "start_time": "2022-05-16T19:45:46.374Z"
   },
   {
    "duration": 7,
    "start_time": "2022-05-16T19:45:46.407Z"
   },
   {
    "duration": 5,
    "start_time": "2022-05-16T19:45:46.504Z"
   },
   {
    "duration": 9,
    "start_time": "2022-05-16T19:45:46.540Z"
   },
   {
    "duration": 6,
    "start_time": "2022-05-16T19:45:46.683Z"
   },
   {
    "duration": 10,
    "start_time": "2022-05-16T19:45:46.774Z"
   },
   {
    "duration": 9,
    "start_time": "2022-05-16T19:45:46.803Z"
   },
   {
    "duration": 4,
    "start_time": "2022-05-16T19:45:46.895Z"
   },
   {
    "duration": 9,
    "start_time": "2022-05-16T19:45:46.927Z"
   },
   {
    "duration": 6,
    "start_time": "2022-05-16T19:45:47.070Z"
   },
   {
    "duration": 8,
    "start_time": "2022-05-16T19:45:47.199Z"
   },
   {
    "duration": 1506,
    "start_time": "2022-05-16T19:45:47.226Z"
   },
   {
    "duration": 252,
    "start_time": "2022-05-16T19:45:48.733Z"
   },
   {
    "duration": 289,
    "start_time": "2022-05-16T19:45:48.986Z"
   },
   {
    "duration": 4,
    "start_time": "2022-05-16T19:45:49.277Z"
   },
   {
    "duration": 24,
    "start_time": "2022-05-16T19:45:49.283Z"
   },
   {
    "duration": 6,
    "start_time": "2022-05-16T19:45:49.309Z"
   },
   {
    "duration": 14,
    "start_time": "2022-05-16T19:45:49.317Z"
   },
   {
    "duration": 9,
    "start_time": "2022-05-16T19:45:49.385Z"
   },
   {
    "duration": 15,
    "start_time": "2022-05-16T19:45:51.033Z"
   },
   {
    "duration": 9,
    "start_time": "2022-05-16T19:46:06.344Z"
   },
   {
    "duration": 15,
    "start_time": "2022-05-16T19:46:08.496Z"
   },
   {
    "duration": 11,
    "start_time": "2022-05-16T19:46:14.632Z"
   },
   {
    "duration": 5,
    "start_time": "2022-05-16T19:46:49.867Z"
   },
   {
    "duration": 5,
    "start_time": "2022-05-16T19:47:04.527Z"
   },
   {
    "duration": 10,
    "start_time": "2022-05-16T19:47:07.383Z"
   },
   {
    "duration": 9,
    "start_time": "2022-05-16T19:48:47.454Z"
   },
   {
    "duration": 11,
    "start_time": "2022-05-16T19:49:02.679Z"
   },
   {
    "duration": 9,
    "start_time": "2022-05-16T19:49:10.008Z"
   },
   {
    "duration": 93,
    "start_time": "2022-05-16T19:49:23.082Z"
   },
   {
    "duration": 9,
    "start_time": "2022-05-16T19:49:26.488Z"
   },
   {
    "duration": 229,
    "start_time": "2022-05-16T19:49:33.336Z"
   },
   {
    "duration": 10,
    "start_time": "2022-05-16T19:49:41.080Z"
   },
   {
    "duration": 10,
    "start_time": "2022-05-16T19:49:45.543Z"
   },
   {
    "duration": 10,
    "start_time": "2022-05-16T19:49:50.168Z"
   },
   {
    "duration": 10,
    "start_time": "2022-05-16T19:49:52.774Z"
   },
   {
    "duration": 5,
    "start_time": "2022-05-16T19:50:06.950Z"
   },
   {
    "duration": 7,
    "start_time": "2022-05-16T19:50:52.637Z"
   },
   {
    "duration": 7,
    "start_time": "2022-05-16T19:51:11.980Z"
   },
   {
    "duration": 9,
    "start_time": "2022-05-16T19:53:02.117Z"
   },
   {
    "duration": 8,
    "start_time": "2022-05-16T19:53:28.951Z"
   },
   {
    "duration": 14,
    "start_time": "2022-05-16T19:54:10.247Z"
   },
   {
    "duration": 11,
    "start_time": "2022-05-16T19:54:25.830Z"
   },
   {
    "duration": 13,
    "start_time": "2022-05-16T19:54:30.252Z"
   },
   {
    "duration": 14,
    "start_time": "2022-05-16T19:55:28.827Z"
   },
   {
    "duration": 12,
    "start_time": "2022-05-16T19:55:36.420Z"
   },
   {
    "duration": 340,
    "start_time": "2022-05-16T19:57:19.156Z"
   },
   {
    "duration": 132,
    "start_time": "2022-05-16T19:57:40.069Z"
   },
   {
    "duration": 143,
    "start_time": "2022-05-16T19:57:50.532Z"
   },
   {
    "duration": 148,
    "start_time": "2022-05-16T19:57:59.332Z"
   },
   {
    "duration": 239,
    "start_time": "2022-05-16T19:58:12.468Z"
   },
   {
    "duration": 274,
    "start_time": "2022-05-16T19:58:16.840Z"
   },
   {
    "duration": 256,
    "start_time": "2022-05-16T19:58:28.179Z"
   },
   {
    "duration": 254,
    "start_time": "2022-05-16T19:58:51.125Z"
   },
   {
    "duration": 2827,
    "start_time": "2022-05-16T19:59:03.699Z"
   },
   {
    "duration": 625,
    "start_time": "2022-05-16T19:59:09.875Z"
   },
   {
    "duration": 458,
    "start_time": "2022-05-16T19:59:26.771Z"
   },
   {
    "duration": 236,
    "start_time": "2022-05-16T20:00:47.842Z"
   },
   {
    "duration": 245,
    "start_time": "2022-05-16T20:01:05.621Z"
   },
   {
    "duration": 329,
    "start_time": "2022-05-16T20:01:35.872Z"
   },
   {
    "duration": 236,
    "start_time": "2022-05-16T20:01:48.080Z"
   },
   {
    "duration": 3,
    "start_time": "2022-05-16T20:02:05.767Z"
   },
   {
    "duration": 77,
    "start_time": "2022-05-16T20:02:06.268Z"
   },
   {
    "duration": 12,
    "start_time": "2022-05-16T20:02:06.467Z"
   },
   {
    "duration": 7,
    "start_time": "2022-05-16T20:02:06.505Z"
   },
   {
    "duration": 4,
    "start_time": "2022-05-16T20:02:06.594Z"
   },
   {
    "duration": 10,
    "start_time": "2022-05-16T20:02:06.623Z"
   },
   {
    "duration": 7,
    "start_time": "2022-05-16T20:02:06.763Z"
   },
   {
    "duration": 10,
    "start_time": "2022-05-16T20:02:06.859Z"
   },
   {
    "duration": 10,
    "start_time": "2022-05-16T20:02:06.889Z"
   },
   {
    "duration": 5,
    "start_time": "2022-05-16T20:02:06.997Z"
   },
   {
    "duration": 9,
    "start_time": "2022-05-16T20:02:07.029Z"
   },
   {
    "duration": 7,
    "start_time": "2022-05-16T20:02:07.156Z"
   },
   {
    "duration": 10,
    "start_time": "2022-05-16T20:02:07.295Z"
   },
   {
    "duration": 1523,
    "start_time": "2022-05-16T20:02:07.327Z"
   },
   {
    "duration": 261,
    "start_time": "2022-05-16T20:02:08.852Z"
   },
   {
    "duration": 295,
    "start_time": "2022-05-16T20:02:09.115Z"
   },
   {
    "duration": 5,
    "start_time": "2022-05-16T20:02:09.412Z"
   },
   {
    "duration": 13,
    "start_time": "2022-05-16T20:02:09.418Z"
   },
   {
    "duration": 6,
    "start_time": "2022-05-16T20:02:09.432Z"
   },
   {
    "duration": 14,
    "start_time": "2022-05-16T20:02:09.440Z"
   },
   {
    "duration": 10,
    "start_time": "2022-05-16T20:02:09.456Z"
   },
   {
    "duration": 44,
    "start_time": "2022-05-16T20:02:09.468Z"
   },
   {
    "duration": 6,
    "start_time": "2022-05-16T20:02:09.515Z"
   },
   {
    "duration": 256,
    "start_time": "2022-05-16T20:02:09.522Z"
   },
   {
    "duration": 0,
    "start_time": "2022-05-16T20:02:09.780Z"
   },
   {
    "duration": 0,
    "start_time": "2022-05-16T20:02:09.782Z"
   },
   {
    "duration": 75,
    "start_time": "2022-05-16T20:02:54.671Z"
   },
   {
    "duration": 345,
    "start_time": "2022-05-16T20:03:15.951Z"
   },
   {
    "duration": 654,
    "start_time": "2022-05-16T20:03:41.807Z"
   },
   {
    "duration": 68,
    "start_time": "2022-05-16T20:04:06.718Z"
   },
   {
    "duration": 36,
    "start_time": "2022-05-16T20:04:43.823Z"
   },
   {
    "duration": 40,
    "start_time": "2022-05-16T20:04:46.976Z"
   },
   {
    "duration": 11,
    "start_time": "2022-05-16T20:04:52.671Z"
   },
   {
    "duration": 11,
    "start_time": "2022-05-16T20:05:02.767Z"
   },
   {
    "duration": 21,
    "start_time": "2022-05-16T20:05:54.863Z"
   },
   {
    "duration": 10,
    "start_time": "2022-05-16T20:05:59.229Z"
   },
   {
    "duration": 10,
    "start_time": "2022-05-16T20:06:13.361Z"
   },
   {
    "duration": 9,
    "start_time": "2022-05-16T20:06:29.196Z"
   },
   {
    "duration": 9,
    "start_time": "2022-05-16T20:06:33.180Z"
   },
   {
    "duration": 10,
    "start_time": "2022-05-16T20:06:43.964Z"
   },
   {
    "duration": 3,
    "start_time": "2022-05-16T20:06:49.772Z"
   },
   {
    "duration": 70,
    "start_time": "2022-05-16T20:06:50.278Z"
   },
   {
    "duration": 10,
    "start_time": "2022-05-16T20:06:50.480Z"
   },
   {
    "duration": 8,
    "start_time": "2022-05-16T20:06:50.514Z"
   },
   {
    "duration": 4,
    "start_time": "2022-05-16T20:06:50.602Z"
   },
   {
    "duration": 9,
    "start_time": "2022-05-16T20:06:50.650Z"
   },
   {
    "duration": 7,
    "start_time": "2022-05-16T20:06:50.774Z"
   },
   {
    "duration": 10,
    "start_time": "2022-05-16T20:06:50.870Z"
   },
   {
    "duration": 10,
    "start_time": "2022-05-16T20:06:50.900Z"
   },
   {
    "duration": 4,
    "start_time": "2022-05-16T20:06:51.010Z"
   },
   {
    "duration": 9,
    "start_time": "2022-05-16T20:06:51.042Z"
   },
   {
    "duration": 7,
    "start_time": "2022-05-16T20:06:51.164Z"
   },
   {
    "duration": 8,
    "start_time": "2022-05-16T20:06:51.306Z"
   },
   {
    "duration": 1469,
    "start_time": "2022-05-16T20:06:51.335Z"
   },
   {
    "duration": 248,
    "start_time": "2022-05-16T20:06:52.807Z"
   },
   {
    "duration": 383,
    "start_time": "2022-05-16T20:06:53.057Z"
   },
   {
    "duration": 5,
    "start_time": "2022-05-16T20:06:53.442Z"
   },
   {
    "duration": 12,
    "start_time": "2022-05-16T20:06:53.449Z"
   },
   {
    "duration": 7,
    "start_time": "2022-05-16T20:06:53.463Z"
   },
   {
    "duration": 38,
    "start_time": "2022-05-16T20:06:53.471Z"
   },
   {
    "duration": 12,
    "start_time": "2022-05-16T20:06:53.511Z"
   },
   {
    "duration": 16,
    "start_time": "2022-05-16T20:06:53.524Z"
   },
   {
    "duration": 6,
    "start_time": "2022-05-16T20:06:53.544Z"
   },
   {
    "duration": 710,
    "start_time": "2022-05-16T20:06:53.552Z"
   },
   {
    "duration": 11,
    "start_time": "2022-05-16T20:06:54.264Z"
   },
   {
    "duration": 10,
    "start_time": "2022-05-16T20:07:25.324Z"
   },
   {
    "duration": 4,
    "start_time": "2022-05-16T20:09:04.740Z"
   },
   {
    "duration": 4,
    "start_time": "2022-05-16T20:09:09.868Z"
   },
   {
    "duration": 65,
    "start_time": "2022-05-16T20:09:24.170Z"
   },
   {
    "duration": 68,
    "start_time": "2022-05-16T20:10:32.523Z"
   },
   {
    "duration": 9,
    "start_time": "2022-05-16T20:10:39.738Z"
   },
   {
    "duration": 10,
    "start_time": "2022-05-16T20:10:44.299Z"
   },
   {
    "duration": 10,
    "start_time": "2022-05-16T20:10:45.419Z"
   },
   {
    "duration": 3,
    "start_time": "2022-05-16T20:11:00.843Z"
   },
   {
    "duration": 69,
    "start_time": "2022-05-16T20:11:01.351Z"
   },
   {
    "duration": 10,
    "start_time": "2022-05-16T20:11:01.537Z"
   },
   {
    "duration": 7,
    "start_time": "2022-05-16T20:11:01.573Z"
   },
   {
    "duration": 4,
    "start_time": "2022-05-16T20:11:01.679Z"
   },
   {
    "duration": 9,
    "start_time": "2022-05-16T20:11:01.717Z"
   },
   {
    "duration": 6,
    "start_time": "2022-05-16T20:11:01.837Z"
   },
   {
    "duration": 10,
    "start_time": "2022-05-16T20:11:01.929Z"
   },
   {
    "duration": 10,
    "start_time": "2022-05-16T20:11:01.977Z"
   },
   {
    "duration": 4,
    "start_time": "2022-05-16T20:11:02.071Z"
   },
   {
    "duration": 9,
    "start_time": "2022-05-16T20:11:02.103Z"
   },
   {
    "duration": 7,
    "start_time": "2022-05-16T20:11:03.545Z"
   },
   {
    "duration": 2,
    "start_time": "2022-05-16T20:11:31.337Z"
   },
   {
    "duration": 7,
    "start_time": "2022-05-16T20:11:36.905Z"
   },
   {
    "duration": 7,
    "start_time": "2022-05-16T20:11:48.537Z"
   },
   {
    "duration": 9,
    "start_time": "2022-05-16T20:11:50.479Z"
   },
   {
    "duration": 2,
    "start_time": "2022-05-16T20:12:03.721Z"
   },
   {
    "duration": 9,
    "start_time": "2022-05-16T20:12:09.369Z"
   },
   {
    "duration": 68,
    "start_time": "2022-05-16T20:12:25.289Z"
   },
   {
    "duration": 9,
    "start_time": "2022-05-16T20:12:29.529Z"
   },
   {
    "duration": 3,
    "start_time": "2022-05-16T20:12:31.593Z"
   },
   {
    "duration": 10,
    "start_time": "2022-05-16T20:12:32.375Z"
   },
   {
    "duration": 10,
    "start_time": "2022-05-16T20:12:33.032Z"
   },
   {
    "duration": 10,
    "start_time": "2022-05-16T20:12:47.196Z"
   },
   {
    "duration": 2,
    "start_time": "2022-05-16T20:12:48.489Z"
   },
   {
    "duration": 7,
    "start_time": "2022-05-16T20:12:49.369Z"
   },
   {
    "duration": 1491,
    "start_time": "2022-05-16T20:12:49.609Z"
   },
   {
    "duration": 243,
    "start_time": "2022-05-16T20:12:51.107Z"
   },
   {
    "duration": 374,
    "start_time": "2022-05-16T20:12:51.449Z"
   },
   {
    "duration": 5,
    "start_time": "2022-05-16T20:12:51.863Z"
   },
   {
    "duration": 12,
    "start_time": "2022-05-16T20:13:08.312Z"
   },
   {
    "duration": 5,
    "start_time": "2022-05-16T20:13:09.240Z"
   },
   {
    "duration": 12,
    "start_time": "2022-05-16T20:13:09.769Z"
   },
   {
    "duration": 12,
    "start_time": "2022-05-16T20:13:11.577Z"
   },
   {
    "duration": 16,
    "start_time": "2022-05-16T20:13:16.744Z"
   },
   {
    "duration": 6,
    "start_time": "2022-05-16T20:13:17.955Z"
   },
   {
    "duration": 688,
    "start_time": "2022-05-16T20:13:18.956Z"
   },
   {
    "duration": 11,
    "start_time": "2022-05-16T20:14:12.169Z"
   },
   {
    "duration": 12,
    "start_time": "2022-05-16T20:14:51.196Z"
   },
   {
    "duration": 1231,
    "start_time": "2022-05-16T20:17:39.801Z"
   },
   {
    "duration": 10,
    "start_time": "2022-05-16T20:18:46.039Z"
   },
   {
    "duration": 12,
    "start_time": "2022-05-16T20:18:51.086Z"
   },
   {
    "duration": 10,
    "start_time": "2022-05-16T20:20:26.212Z"
   },
   {
    "duration": 10,
    "start_time": "2022-05-16T20:20:29.222Z"
   },
   {
    "duration": 1227,
    "start_time": "2022-05-16T20:22:32.660Z"
   },
   {
    "duration": 11,
    "start_time": "2022-05-16T20:22:38.660Z"
   },
   {
    "duration": 17,
    "start_time": "2022-05-16T23:58:35.049Z"
   },
   {
    "duration": 10,
    "start_time": "2022-05-16T23:58:41.177Z"
   },
   {
    "duration": 16,
    "start_time": "2022-05-16T23:58:43.729Z"
   },
   {
    "duration": 11,
    "start_time": "2022-05-16T23:59:30.641Z"
   },
   {
    "duration": 17,
    "start_time": "2022-05-16T23:59:51.361Z"
   },
   {
    "duration": 17,
    "start_time": "2022-05-17T00:00:03.361Z"
   },
   {
    "duration": 12,
    "start_time": "2022-05-17T00:00:20.194Z"
   }
  ],
  "kernelspec": {
   "display_name": "Python 3",
   "language": "python",
   "name": "python3"
  },
  "language_info": {
   "codemirror_mode": {
    "name": "ipython",
    "version": 3
   },
   "file_extension": ".py",
   "mimetype": "text/x-python",
   "name": "python",
   "nbconvert_exporter": "python",
   "pygments_lexer": "ipython3",
   "version": "3.8.8"
  },
  "toc": {
   "base_numbering": 1,
   "nav_menu": {},
   "number_sections": true,
   "sideBar": true,
   "skip_h1_title": true,
   "title_cell": "Table of Contents",
   "title_sidebar": "Contents",
   "toc_cell": false,
   "toc_position": {},
   "toc_section_display": true,
   "toc_window_display": false
  }
 },
 "nbformat": 4,
 "nbformat_minor": 2
}
