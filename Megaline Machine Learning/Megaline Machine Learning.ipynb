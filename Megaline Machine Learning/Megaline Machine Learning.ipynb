{
 "cells": [
  {
   "cell_type": "markdown",
   "metadata": {},
   "source": [
    "# Megaline 2"
   ]
  },
  {
   "cell_type": "markdown",
   "metadata": {},
   "source": [
    "Mobile carrier Megaline has found out that many of their subscribers use legacy plans. They want to develop a model that would analyze subscribers' behavior and recommend one of Megaline's newer plans: Smart or Ultra.\n",
    "You have access to behavior data about subscribers who have already switched to the new plans (from the project for the Statistical Data Analysis course). For this classification task, you need to develop a model that will pick the right plan. Since you’ve already performed the data preprocessing step, you can move straight to creating the model.\n",
    "Develop a model with the highest possible accuracy. In this project, the threshold for accuracy is 0.75. Check the accuracy using the test dataset."
   ]
  },
  {
   "cell_type": "markdown",
   "metadata": {},
   "source": [
    "[We've provided you with some commentary to guide your thinking as you complete this project. However, make sure to remove all the bracketed comments before submitting your project.]\n",
    "\n",
    "[Before you dive into analyzing your data, explain for yourself the purpose of the project and actions you plan to take.]\n",
    "\n",
    "[Please bear in mind that studying, amending, and analyzing data is an iterative process. It is normal to return to previous steps and correct/expand them to allow for further steps.]"
   ]
  },
  {
   "cell_type": "markdown",
   "metadata": {},
   "source": [
    "## Initialization"
   ]
  },
  {
   "cell_type": "code",
   "execution_count": 1,
   "metadata": {},
   "outputs": [],
   "source": [
    "# Loading all the libraries\n",
    "import pandas as pd\n",
    "from sklearn.linear_model import LogisticRegression #Classification\n",
    "from sklearn.tree import DecisionTreeClassifier #Classification\n",
    "from sklearn.ensemble import RandomForestClassifier #Classification is categorical, we're going to compare all 3\n",
    "#from sklearn.ensemble import RandomForestRegressor #Regression is numerical \n",
    "from sklearn.metrics import accuracy_score\n",
    "from sklearn.model_selection import train_test_split\n",
    "from sklearn.dummy import DummyClassifier\n",
    "\n",
    "from sklearn.metrics import mean_squared_error #Only needed for regression"
   ]
  },
  {
   "cell_type": "code",
   "execution_count": 2,
   "metadata": {},
   "outputs": [
    {
     "data": {
      "text/html": [
       "<div>\n",
       "<style scoped>\n",
       "    .dataframe tbody tr th:only-of-type {\n",
       "        vertical-align: middle;\n",
       "    }\n",
       "\n",
       "    .dataframe tbody tr th {\n",
       "        vertical-align: top;\n",
       "    }\n",
       "\n",
       "    .dataframe thead th {\n",
       "        text-align: right;\n",
       "    }\n",
       "</style>\n",
       "<table border=\"1\" class=\"dataframe\">\n",
       "  <thead>\n",
       "    <tr style=\"text-align: right;\">\n",
       "      <th></th>\n",
       "      <th>calls</th>\n",
       "      <th>minutes</th>\n",
       "      <th>messages</th>\n",
       "      <th>mb_used</th>\n",
       "      <th>is_ultra</th>\n",
       "    </tr>\n",
       "  </thead>\n",
       "  <tbody>\n",
       "    <tr>\n",
       "      <th>0</th>\n",
       "      <td>40.0</td>\n",
       "      <td>311.90</td>\n",
       "      <td>83.0</td>\n",
       "      <td>19915.42</td>\n",
       "      <td>0</td>\n",
       "    </tr>\n",
       "    <tr>\n",
       "      <th>1</th>\n",
       "      <td>85.0</td>\n",
       "      <td>516.75</td>\n",
       "      <td>56.0</td>\n",
       "      <td>22696.96</td>\n",
       "      <td>0</td>\n",
       "    </tr>\n",
       "    <tr>\n",
       "      <th>2</th>\n",
       "      <td>77.0</td>\n",
       "      <td>467.66</td>\n",
       "      <td>86.0</td>\n",
       "      <td>21060.45</td>\n",
       "      <td>0</td>\n",
       "    </tr>\n",
       "    <tr>\n",
       "      <th>3</th>\n",
       "      <td>106.0</td>\n",
       "      <td>745.53</td>\n",
       "      <td>81.0</td>\n",
       "      <td>8437.39</td>\n",
       "      <td>1</td>\n",
       "    </tr>\n",
       "    <tr>\n",
       "      <th>4</th>\n",
       "      <td>66.0</td>\n",
       "      <td>418.74</td>\n",
       "      <td>1.0</td>\n",
       "      <td>14502.75</td>\n",
       "      <td>0</td>\n",
       "    </tr>\n",
       "    <tr>\n",
       "      <th>...</th>\n",
       "      <td>...</td>\n",
       "      <td>...</td>\n",
       "      <td>...</td>\n",
       "      <td>...</td>\n",
       "      <td>...</td>\n",
       "    </tr>\n",
       "    <tr>\n",
       "      <th>3209</th>\n",
       "      <td>122.0</td>\n",
       "      <td>910.98</td>\n",
       "      <td>20.0</td>\n",
       "      <td>35124.90</td>\n",
       "      <td>1</td>\n",
       "    </tr>\n",
       "    <tr>\n",
       "      <th>3210</th>\n",
       "      <td>25.0</td>\n",
       "      <td>190.36</td>\n",
       "      <td>0.0</td>\n",
       "      <td>3275.61</td>\n",
       "      <td>0</td>\n",
       "    </tr>\n",
       "    <tr>\n",
       "      <th>3211</th>\n",
       "      <td>97.0</td>\n",
       "      <td>634.44</td>\n",
       "      <td>70.0</td>\n",
       "      <td>13974.06</td>\n",
       "      <td>0</td>\n",
       "    </tr>\n",
       "    <tr>\n",
       "      <th>3212</th>\n",
       "      <td>64.0</td>\n",
       "      <td>462.32</td>\n",
       "      <td>90.0</td>\n",
       "      <td>31239.78</td>\n",
       "      <td>0</td>\n",
       "    </tr>\n",
       "    <tr>\n",
       "      <th>3213</th>\n",
       "      <td>80.0</td>\n",
       "      <td>566.09</td>\n",
       "      <td>6.0</td>\n",
       "      <td>29480.52</td>\n",
       "      <td>1</td>\n",
       "    </tr>\n",
       "  </tbody>\n",
       "</table>\n",
       "<p>3214 rows × 5 columns</p>\n",
       "</div>"
      ],
      "text/plain": [
       "      calls  minutes  messages   mb_used  is_ultra\n",
       "0      40.0   311.90      83.0  19915.42         0\n",
       "1      85.0   516.75      56.0  22696.96         0\n",
       "2      77.0   467.66      86.0  21060.45         0\n",
       "3     106.0   745.53      81.0   8437.39         1\n",
       "4      66.0   418.74       1.0  14502.75         0\n",
       "...     ...      ...       ...       ...       ...\n",
       "3209  122.0   910.98      20.0  35124.90         1\n",
       "3210   25.0   190.36       0.0   3275.61         0\n",
       "3211   97.0   634.44      70.0  13974.06         0\n",
       "3212   64.0   462.32      90.0  31239.78         0\n",
       "3213   80.0   566.09       6.0  29480.52         1\n",
       "\n",
       "[3214 rows x 5 columns]"
      ]
     },
     "execution_count": 2,
     "metadata": {},
     "output_type": "execute_result"
    }
   ],
   "source": [
    "# Loading all the libraries\n",
    "megaline = pd.read_csv('/datasets/users_behavior.csv')\n",
    "megaline"
   ]
  },
  {
   "cell_type": "markdown",
   "metadata": {},
   "source": [
    "## Prepare the data"
   ]
  },
  {
   "cell_type": "markdown",
   "metadata": {},
   "source": [
    "[Explore the table to get an initial understanding of the data. Do necessary corrections to the table if necessary.]"
   ]
  },
  {
   "cell_type": "code",
   "execution_count": 3,
   "metadata": {},
   "outputs": [
    {
     "name": "stdout",
     "output_type": "stream",
     "text": [
      "<class 'pandas.core.frame.DataFrame'>\n",
      "RangeIndex: 3214 entries, 0 to 3213\n",
      "Data columns (total 5 columns):\n",
      " #   Column    Non-Null Count  Dtype  \n",
      "---  ------    --------------  -----  \n",
      " 0   calls     3214 non-null   float64\n",
      " 1   minutes   3214 non-null   float64\n",
      " 2   messages  3214 non-null   float64\n",
      " 3   mb_used   3214 non-null   float64\n",
      " 4   is_ultra  3214 non-null   int64  \n",
      "dtypes: float64(4), int64(1)\n",
      "memory usage: 125.7 KB\n"
     ]
    }
   ],
   "source": [
    "# print the general/summary information about the DataFrame\n",
    "megaline.info()"
   ]
  },
  {
   "cell_type": "code",
   "execution_count": 4,
   "metadata": {},
   "outputs": [
    {
     "data": {
      "text/html": [
       "<div>\n",
       "<style scoped>\n",
       "    .dataframe tbody tr th:only-of-type {\n",
       "        vertical-align: middle;\n",
       "    }\n",
       "\n",
       "    .dataframe tbody tr th {\n",
       "        vertical-align: top;\n",
       "    }\n",
       "\n",
       "    .dataframe thead th {\n",
       "        text-align: right;\n",
       "    }\n",
       "</style>\n",
       "<table border=\"1\" class=\"dataframe\">\n",
       "  <thead>\n",
       "    <tr style=\"text-align: right;\">\n",
       "      <th></th>\n",
       "      <th>calls</th>\n",
       "      <th>minutes</th>\n",
       "      <th>messages</th>\n",
       "      <th>mb_used</th>\n",
       "      <th>is_ultra</th>\n",
       "    </tr>\n",
       "  </thead>\n",
       "  <tbody>\n",
       "    <tr>\n",
       "      <th>0</th>\n",
       "      <td>40.0</td>\n",
       "      <td>311.90</td>\n",
       "      <td>83.0</td>\n",
       "      <td>19915.42</td>\n",
       "      <td>0</td>\n",
       "    </tr>\n",
       "    <tr>\n",
       "      <th>1</th>\n",
       "      <td>85.0</td>\n",
       "      <td>516.75</td>\n",
       "      <td>56.0</td>\n",
       "      <td>22696.96</td>\n",
       "      <td>0</td>\n",
       "    </tr>\n",
       "    <tr>\n",
       "      <th>2</th>\n",
       "      <td>77.0</td>\n",
       "      <td>467.66</td>\n",
       "      <td>86.0</td>\n",
       "      <td>21060.45</td>\n",
       "      <td>0</td>\n",
       "    </tr>\n",
       "    <tr>\n",
       "      <th>3</th>\n",
       "      <td>106.0</td>\n",
       "      <td>745.53</td>\n",
       "      <td>81.0</td>\n",
       "      <td>8437.39</td>\n",
       "      <td>1</td>\n",
       "    </tr>\n",
       "    <tr>\n",
       "      <th>4</th>\n",
       "      <td>66.0</td>\n",
       "      <td>418.74</td>\n",
       "      <td>1.0</td>\n",
       "      <td>14502.75</td>\n",
       "      <td>0</td>\n",
       "    </tr>\n",
       "    <tr>\n",
       "      <th>5</th>\n",
       "      <td>58.0</td>\n",
       "      <td>344.56</td>\n",
       "      <td>21.0</td>\n",
       "      <td>15823.37</td>\n",
       "      <td>0</td>\n",
       "    </tr>\n",
       "    <tr>\n",
       "      <th>6</th>\n",
       "      <td>57.0</td>\n",
       "      <td>431.64</td>\n",
       "      <td>20.0</td>\n",
       "      <td>3738.90</td>\n",
       "      <td>1</td>\n",
       "    </tr>\n",
       "    <tr>\n",
       "      <th>7</th>\n",
       "      <td>15.0</td>\n",
       "      <td>132.40</td>\n",
       "      <td>6.0</td>\n",
       "      <td>21911.60</td>\n",
       "      <td>0</td>\n",
       "    </tr>\n",
       "    <tr>\n",
       "      <th>8</th>\n",
       "      <td>7.0</td>\n",
       "      <td>43.39</td>\n",
       "      <td>3.0</td>\n",
       "      <td>2538.67</td>\n",
       "      <td>1</td>\n",
       "    </tr>\n",
       "    <tr>\n",
       "      <th>9</th>\n",
       "      <td>90.0</td>\n",
       "      <td>665.41</td>\n",
       "      <td>38.0</td>\n",
       "      <td>17358.61</td>\n",
       "      <td>0</td>\n",
       "    </tr>\n",
       "  </tbody>\n",
       "</table>\n",
       "</div>"
      ],
      "text/plain": [
       "   calls  minutes  messages   mb_used  is_ultra\n",
       "0   40.0   311.90      83.0  19915.42         0\n",
       "1   85.0   516.75      56.0  22696.96         0\n",
       "2   77.0   467.66      86.0  21060.45         0\n",
       "3  106.0   745.53      81.0   8437.39         1\n",
       "4   66.0   418.74       1.0  14502.75         0\n",
       "5   58.0   344.56      21.0  15823.37         0\n",
       "6   57.0   431.64      20.0   3738.90         1\n",
       "7   15.0   132.40       6.0  21911.60         0\n",
       "8    7.0    43.39       3.0   2538.67         1\n",
       "9   90.0   665.41      38.0  17358.61         0"
      ]
     },
     "execution_count": 4,
     "metadata": {},
     "output_type": "execute_result"
    }
   ],
   "source": [
    "# Print a sample of data\n",
    "megaline.head(10)"
   ]
  },
  {
   "cell_type": "markdown",
   "metadata": {},
   "source": [
    "### FIX DATA"
   ]
  },
  {
   "cell_type": "markdown",
   "metadata": {},
   "source": [
    "[Describe what you see and notice in the general information and the printed data sample for the above data. Are there any issues (inappropriate data types, missing data etc) that may need further investigation and changes? How that can be fixed?]"
   ]
  },
  {
   "cell_type": "code",
   "execution_count": 5,
   "metadata": {},
   "outputs": [
    {
     "name": "stdout",
     "output_type": "stream",
     "text": [
      "False    3214\n",
      "Name: calls, dtype: int64\n",
      "False    3214\n",
      "Name: minutes, dtype: int64\n",
      "False    3214\n",
      "Name: messages, dtype: int64\n",
      "False    3214\n",
      "Name: mb_used, dtype: int64\n",
      "False    3214\n",
      "Name: is_ultra, dtype: int64\n"
     ]
    }
   ],
   "source": [
    "print(megaline['calls'].isna().value_counts())\n",
    "print(megaline['minutes'].isna().value_counts())\n",
    "print(megaline['messages'].isna().value_counts())\n",
    "print(megaline['mb_used'].isna().value_counts())\n",
    "print(megaline['is_ultra'].isna().value_counts())"
   ]
  },
  {
   "cell_type": "markdown",
   "metadata": {},
   "source": [
    "Nothing needed"
   ]
  },
  {
   "cell_type": "markdown",
   "metadata": {},
   "source": [
    "### ENRICH DATA"
   ]
  },
  {
   "cell_type": "markdown",
   "metadata": {},
   "source": [
    "[Add additional factors to the data if you believe they might be useful.]\n",
    "\n",
    "Nothing needed"
   ]
  },
  {
   "cell_type": "code",
   "execution_count": 6,
   "metadata": {},
   "outputs": [
    {
     "name": "stdout",
     "output_type": "stream",
     "text": [
      "Empty DataFrame\n",
      "Columns: [calls, minutes, messages, mb_used, is_ultra]\n",
      "Index: []\n"
     ]
    }
   ],
   "source": [
    "print(megaline[megaline.duplicated() != False])"
   ]
  },
  {
   "cell_type": "markdown",
   "metadata": {},
   "source": [
    "## Model Testing"
   ]
  },
  {
   "cell_type": "markdown",
   "metadata": {},
   "source": [
    "[Split the source data into a training set, a validation set, and a test set.]\n",
    "\n",
    "Since, we're classifying into plans, it's categorigal and not numerical. Therefore it's classification, not regression."
   ]
  },
  {
   "cell_type": "code",
   "execution_count": 7,
   "metadata": {},
   "outputs": [],
   "source": [
    "features = megaline.drop(['mb_used','is_ultra'],axis=1)\n",
    "target = megaline['is_ultra'] \n",
    "\n",
    "#each is a version of above based on training, validation, and a test set\n",
    "\n",
    "#https://towardsdatascience.com/how-to-split-data-into-three-sets-train-validation-and-test-and-why-e50d22d3e54c\n",
    "#You need to create a remainder then split it because train test_split only works in twos\n",
    "\n",
    "megaline_train, megaline_remainder = train_test_split(megaline, test_size=0.25, random_state=12345) # split 25% of data to make validation set\n",
    "\n",
    "#features_train, target_train, features_valid, target_valid = train_test_split(features,target, test_size=0.25, random_state=12345)\n",
    "#only works for regression\n",
    "\n",
    "megaline_valid, megaline_test = train_test_split(megaline_remainder, test_size=0.25, random_state=12345)\n",
    "\n",
    "\n",
    "features_train = megaline_train.drop(['mb_used', 'is_ultra'], axis=1)\n",
    "target_train = megaline_train['is_ultra']\n",
    "\n",
    "features_valid = megaline_valid.drop(['mb_used', 'is_ultra'], axis=1)\n",
    "target_valid = megaline_valid['is_ultra']\n",
    "\n",
    "test_df = megaline_test\n",
    "features_test = test_df.drop(['mb_used', 'is_ultra'], axis=1)\n",
    "target_test = test_df['is_ultra']\n",
    "\n",
    "#print(features_train)\n",
    "#print(target_train)\n",
    "\n",
    "def error_count(answers, predictions):\n",
    "    errors = 0\n",
    "    for answer, prediction in zip(answers, predictions):\n",
    "    #use zip(array1, array2) to go through two arrays at once\n",
    "        if answer != prediction:\n",
    "            errors += 1\n",
    "    return errors\n",
    "\n",
    "#print('RandomForestClassifier Errors:', error_count(target_test, test_predictions))"
   ]
  },
  {
   "cell_type": "markdown",
   "metadata": {},
   "source": [
    "### LogisticRegression"
   ]
  },
  {
   "cell_type": "markdown",
   "metadata": {},
   "source": [
    "[Investigate the quality of different models by changing hyperparameters. Briefly describe the findings of the study.]\n",
    "\n",
    "Hypthosesis: RandomForestClassifier will have the best accuracy, even though it is the slowest."
   ]
  },
  {
   "cell_type": "markdown",
   "metadata": {},
   "source": [
    "[Test the quality of LogisticRegression(). Briefly describe the findings of the study.]"
   ]
  },
  {
   "cell_type": "code",
   "execution_count": 8,
   "metadata": {},
   "outputs": [
    {
     "name": "stdout",
     "output_type": "stream",
     "text": [
      "Accuracy of the Logistic Regression model on the validation set: 0.746268656716418\n",
      "LogisticRegression Errors: 53\n"
     ]
    }
   ],
   "source": [
    "#First we test the LogisticRegression()\n",
    "\n",
    "lr_model = LogisticRegression(random_state=12345, solver='lbfgs')\n",
    "lr_model.fit(features_train, target_train)\n",
    "lr_model_score = lr_model.score(features_valid, target_valid)\n",
    "lr_test_predictions = lr_model.predict(features_test) #defined back when splitting the data, comparing the test\n",
    "print(\"Accuracy of the Logistic Regression model on the validation set: {}\".format(lr_model_score))\n",
    "print('LogisticRegression Errors:', error_count(target_test, lr_test_predictions))"
   ]
  },
  {
   "cell_type": "markdown",
   "metadata": {},
   "source": [
    "### DecisionTreeClassifier"
   ]
  },
  {
   "cell_type": "markdown",
   "metadata": {},
   "source": [
    "[Test the quality of LogisticRegression(). Briefly describe the findings of the study.]"
   ]
  },
  {
   "cell_type": "code",
   "execution_count": 9,
   "metadata": {},
   "outputs": [
    {
     "name": "stdout",
     "output_type": "stream",
     "text": [
      "Accuracy of the best Decision Tree Classifier model on the validation set (max_depth = 4): 0.7711442786069652\n",
      "DecisionTreeClassifier Errors: 44\n"
     ]
    }
   ],
   "source": [
    "best_dtc_score = 0\n",
    "best_dtc_depth = 0\n",
    "\n",
    "#Then we test the DecisionTreeClassifier()\n",
    "\n",
    "\n",
    "for depth in range(1,6):\n",
    "    model = DecisionTreeClassifier(random_state=12345,max_depth=depth)\n",
    "    model.fit(features_train, target_train) # train model on training set\n",
    "    score = model.score(features_valid, target_valid)# calculate accuracy score on validation set\n",
    "    #print()\n",
    "    #print(\"Accuracy of the current model on the validation set (n_estimators = {}, max_depth = {}): {}\".format(est, depth ,score))\n",
    "    #print()\n",
    "    lr_test_predictions = model.predict(features_test) #prediction\n",
    "    if score > best_dtc_score: #reminder from Model Improvements - Tuning Hyperparameters\n",
    "            best_dtc_score = score # save best accuracy score on validation set\n",
    "            best_dtc_depth = depth # save number of estimators corresponding to best accuracy score\n",
    "\n",
    "print(\"Accuracy of the best Decision Tree Classifier model on the validation set (max_depth = {}): {}\".format(best_dtc_depth ,best_dtc_score))\n",
    "print('DecisionTreeClassifier Errors:', error_count(target_test, lr_test_predictions))"
   ]
  },
  {
   "cell_type": "markdown",
   "metadata": {},
   "source": [
    "### RandomForestClassifier"
   ]
  },
  {
   "cell_type": "markdown",
   "metadata": {},
   "source": [
    "[Test the quality of RandomForestClassifier(). Briefly describe the findings of the study.]"
   ]
  },
  {
   "cell_type": "code",
   "execution_count": 10,
   "metadata": {},
   "outputs": [
    {
     "name": "stdout",
     "output_type": "stream",
     "text": [
      "Accuracy of the best Random Forest Classifier model on the validation set (n_estimators = 9, max_depth = 3): 0.7810945273631841\n",
      "RandomForestClassifier Errors: 43\n"
     ]
    }
   ],
   "source": [
    "#Then we test the RandomForestClassifier()\n",
    "\n",
    "best_rfc_score = 0\n",
    "best_rfc_est = 0\n",
    "best_rfc_depth = 0\n",
    "\n",
    "for depth in range(1,6):\n",
    "    for est in range(1,10): # choose hyperparameter range #remember range is 1 above ending num\n",
    "        model = RandomForestClassifier(random_state=12345, n_estimators=est, max_depth=depth) # set number of trees\n",
    "        model.fit(features_train, target_train) # train model on training set\n",
    "        score = model.score(features_valid, target_valid)# calculate accuracy score on validation set\n",
    "        #print()\n",
    "        #print(\"Accuracy of the current model on the validation set (n_estimators = {}, max_depth = {}): {}\".format(est, depth ,score))\n",
    "        #print()\n",
    "        rfc_test_predictions = model.predict(features_test)\n",
    "    if score > best_rfc_score: #reminder from Model Improvements - Tuning Hyperparameters\n",
    "            best_rfc_score = score # save best accuracy score on validation set\n",
    "            best_rfc_est = est # save number of estimators corresponding to best accuracy score\n",
    "            best_rfc_depth = depth # save number of estimators corresponding to best accuracy score\n",
    "\n",
    "#print()\n",
    "print(\"Accuracy of the best Random Forest Classifier model on the validation set (n_estimators = {}, max_depth = {}): {}\".format(best_rfc_est, best_rfc_depth ,best_rfc_score))\n",
    "print('RandomForestClassifier Errors:', error_count(target_test, rfc_test_predictions))"
   ]
  },
  {
   "cell_type": "markdown",
   "metadata": {},
   "source": [
    "## Test the Best Model"
   ]
  },
  {
   "cell_type": "markdown",
   "metadata": {},
   "source": [
    "[Check the quality of the model using the test set.]"
   ]
  },
  {
   "cell_type": "code",
   "execution_count": 11,
   "metadata": {},
   "outputs": [
    {
     "name": "stdout",
     "output_type": "stream",
     "text": [
      "Best model is RandomForestClassifier with a score of 0.7810945273631841\n",
      "RandomForestClassifier Errors: 43\n"
     ]
    }
   ],
   "source": [
    "if best_rfc_score > best_dtc_score or best_rfc_score > lr_model_score:\n",
    "    best_score = best_rfc_score\n",
    "    best_model = RandomForestClassifier(random_state=12345, n_estimators=best_rfc_est, max_depth=best_rfc_depth)\n",
    "    print('Best model is RandomForestClassifier with a score of', best_score)\n",
    "    print('RandomForestClassifier Errors:', error_count(target_test, rfc_test_predictions))\n",
    "elif best_dtc_score > best_rfc_score or best_dtc_score > lr_model_score:\n",
    "    best_score = best_dtc_score\n",
    "    best_model = DecisionTreeClassifier(random_state=12345, max_depth=best_depth)\n",
    "    print('Best model is DecisionTreeClassifier with a score of', best_score)\n",
    "    print('DecisionTreeClassifier Errors:', error_count(target_test, lr_test_predictions))\n",
    "else:\n",
    "    best_score = lr_model_score\n",
    "    best_model = LogisticRegression(random_state=12345, solver='lbfgs')\n",
    "    print('Best model is LogisticRegression with a score of', best_score)\n",
    "    print('LogisticRegression Errors:', error_count(target_test, lr_test_predictions))"
   ]
  },
  {
   "cell_type": "code",
   "execution_count": 14,
   "metadata": {},
   "outputs": [
    {
     "name": "stdout",
     "output_type": "stream",
     "text": [
      "(3214, 3)\n",
      "(3214,)\n",
      "Training set: 0.7763485477178423\n",
      "Test set: 0.7860696517412935\n"
     ]
    }
   ],
   "source": [
    "print(features.shape)\n",
    "print(target.shape)\n",
    "\n",
    "best_model.fit(features,target)\n",
    "train_predictions = best_model.predict(features_train)\n",
    "test_predictions = best_model.predict(features_test)\n",
    "\n",
    "#print('Training set:', accuracy_score(target, train_predictions))# < finish up code here >\n",
    "#print('Test set:', accuracy_score(target, test_predictions)) \n",
    "#print('Test set:', accuracy_score(test_target, test_predictions)) #< finish up code here >\n",
    "\n",
    "print('Training set:', accuracy_score(target_train, train_predictions)) #remember to compare directly each prediction to each set.\n",
    "print('Test set:', accuracy_score(target_test, test_predictions)) "
   ]
  },
  {
   "cell_type": "markdown",
   "metadata": {},
   "source": [
    "The model is more accurate when working with the test set, but not bad, The test set is 0.01 percent more accurate."
   ]
  },
  {
   "cell_type": "markdown",
   "metadata": {},
   "source": [
    "## Sanity Check"
   ]
  },
  {
   "cell_type": "markdown",
   "metadata": {},
   "source": [
    "[Additional task: sanity check the model. This data is more complex than what you’re used to working with, so it's not an easy task. We'll take a closer look at it later.]"
   ]
  },
  {
   "cell_type": "code",
   "execution_count": 15,
   "metadata": {},
   "outputs": [
    {
     "name": "stdout",
     "output_type": "stream",
     "text": [
      "Sanity checking the best model DummyClassifier for comparison, score: 0.6998341625207297\n",
      "DummyClassifier Errors: 43\n"
     ]
    }
   ],
   "source": [
    "#sanity checking with a dummy classifier for comparison\n",
    "dummy_clf = DummyClassifier(strategy=\"most_frequent\")\n",
    "dummy_clf.fit(features_train, target_train)\n",
    "DummyClassifier(strategy='most_frequent')\n",
    "dummy_clf.predict(features_test)\n",
    "print('Sanity checking the best model DummyClassifier for comparison, score:', dummy_clf.score(features_valid, target_valid))\n",
    "print('DummyClassifier Errors:', error_count(target_test, test_predictions))"
   ]
  },
  {
   "cell_type": "markdown",
   "metadata": {},
   "source": [
    "Ooh, that's pretty awful. Even worse than LogisticRegression."
   ]
  },
  {
   "cell_type": "markdown",
   "metadata": {},
   "source": [
    "## Conclusion"
   ]
  },
  {
   "cell_type": "markdown",
   "metadata": {},
   "source": [
    "Compared to the other scores of DecisionTreeClassifier's 0.771 and LogisticRegression's 0.746 the best model is RandomForestClassifier with a score of 0.784, which is well above the accuracy of 0.75.The model is more accurate when working with the test set, but not bad, The test set is 0.01 percent more accurate then the training set."
   ]
  },
  {
   "cell_type": "code",
   "execution_count": null,
   "metadata": {},
   "outputs": [],
   "source": []
  }
 ],
 "metadata": {
  "ExecuteTimeLog": [
   {
    "duration": 11,
    "start_time": "2022-06-06T14:36:55.248Z"
   },
   {
    "duration": 6,
    "start_time": "2022-06-06T14:36:58.668Z"
   },
   {
    "duration": 34,
    "start_time": "2022-06-06T15:58:40.190Z"
   },
   {
    "duration": 1013,
    "start_time": "2022-06-06T16:05:38.416Z"
   },
   {
    "duration": 108,
    "start_time": "2022-06-06T16:32:08.790Z"
   },
   {
    "duration": 27,
    "start_time": "2022-06-06T16:32:22.780Z"
   },
   {
    "duration": 88,
    "start_time": "2022-06-06T16:32:45.144Z"
   },
   {
    "duration": 4,
    "start_time": "2022-06-06T16:33:07.427Z"
   },
   {
    "duration": 43,
    "start_time": "2022-06-06T16:33:10.894Z"
   },
   {
    "duration": 30,
    "start_time": "2022-06-06T17:35:53.898Z"
   },
   {
    "duration": 2,
    "start_time": "2022-06-06T17:36:40.265Z"
   },
   {
    "duration": 39,
    "start_time": "2022-06-06T17:36:40.697Z"
   },
   {
    "duration": 2,
    "start_time": "2022-06-06T17:37:20.309Z"
   },
   {
    "duration": 13,
    "start_time": "2022-06-06T17:37:34.656Z"
   },
   {
    "duration": 13,
    "start_time": "2022-06-06T17:37:52.450Z"
   },
   {
    "duration": 10,
    "start_time": "2022-06-06T17:38:23.503Z"
   },
   {
    "duration": 26,
    "start_time": "2022-06-06T17:41:27.079Z"
   },
   {
    "duration": 18,
    "start_time": "2022-06-06T17:56:40.658Z"
   },
   {
    "duration": 35,
    "start_time": "2022-06-06T17:56:54.298Z"
   },
   {
    "duration": 10,
    "start_time": "2022-06-06T17:57:12.406Z"
   },
   {
    "duration": 25,
    "start_time": "2022-06-06T17:57:26.158Z"
   },
   {
    "duration": 22,
    "start_time": "2022-06-06T17:57:47.977Z"
   },
   {
    "duration": 8,
    "start_time": "2022-06-06T17:58:01.417Z"
   },
   {
    "duration": 10,
    "start_time": "2022-06-06T17:58:16.659Z"
   },
   {
    "duration": 6,
    "start_time": "2022-06-06T17:58:27.379Z"
   },
   {
    "duration": 13,
    "start_time": "2022-06-06T17:58:48.552Z"
   },
   {
    "duration": 11,
    "start_time": "2022-06-06T17:59:08.214Z"
   },
   {
    "duration": 62,
    "start_time": "2022-06-06T22:37:14.080Z"
   },
   {
    "duration": 1020,
    "start_time": "2022-06-06T22:37:17.342Z"
   },
   {
    "duration": 84,
    "start_time": "2022-06-06T22:37:18.364Z"
   },
   {
    "duration": 12,
    "start_time": "2022-06-06T22:37:18.449Z"
   },
   {
    "duration": 18,
    "start_time": "2022-06-06T22:37:18.463Z"
   },
   {
    "duration": 15,
    "start_time": "2022-06-06T22:37:18.483Z"
   },
   {
    "duration": 5,
    "start_time": "2022-06-06T22:37:19.050Z"
   },
   {
    "duration": 7,
    "start_time": "2022-06-06T22:37:54.784Z"
   },
   {
    "duration": 13,
    "start_time": "2022-06-06T22:38:12.028Z"
   },
   {
    "duration": 8,
    "start_time": "2022-06-06T22:38:21.952Z"
   },
   {
    "duration": 39,
    "start_time": "2022-06-07T03:55:59.912Z"
   },
   {
    "duration": 3,
    "start_time": "2022-06-07T03:56:07.742Z"
   },
   {
    "duration": 40,
    "start_time": "2022-06-07T03:56:08.248Z"
   },
   {
    "duration": 11,
    "start_time": "2022-06-07T03:56:08.341Z"
   },
   {
    "duration": 11,
    "start_time": "2022-06-07T03:56:08.379Z"
   },
   {
    "duration": 11,
    "start_time": "2022-06-07T03:56:08.479Z"
   },
   {
    "duration": 7,
    "start_time": "2022-06-07T03:56:08.952Z"
   },
   {
    "duration": 51,
    "start_time": "2022-06-07T17:59:59.574Z"
   },
   {
    "duration": 896,
    "start_time": "2022-06-07T18:00:04.955Z"
   },
   {
    "duration": 82,
    "start_time": "2022-06-07T18:00:05.853Z"
   },
   {
    "duration": 12,
    "start_time": "2022-06-07T18:00:05.936Z"
   },
   {
    "duration": 13,
    "start_time": "2022-06-07T18:00:05.950Z"
   },
   {
    "duration": 13,
    "start_time": "2022-06-07T18:00:05.964Z"
   },
   {
    "duration": 8,
    "start_time": "2022-06-07T18:00:06.348Z"
   },
   {
    "duration": 3,
    "start_time": "2022-06-07T18:00:07.627Z"
   },
   {
    "duration": 5,
    "start_time": "2022-06-07T19:51:07.567Z"
   },
   {
    "duration": 3,
    "start_time": "2022-06-07T19:55:12.207Z"
   },
   {
    "duration": 67,
    "start_time": "2022-06-07T19:55:32.412Z"
   },
   {
    "duration": 5,
    "start_time": "2022-06-07T19:56:02.580Z"
   },
   {
    "duration": 3,
    "start_time": "2022-06-07T19:56:02.896Z"
   },
   {
    "duration": 21,
    "start_time": "2022-06-07T19:56:03.356Z"
   },
   {
    "duration": 7,
    "start_time": "2022-06-07T19:57:09.406Z"
   },
   {
    "duration": 3,
    "start_time": "2022-06-07T19:57:10.365Z"
   },
   {
    "duration": 16,
    "start_time": "2022-06-07T19:57:10.925Z"
   },
   {
    "duration": 20,
    "start_time": "2022-06-07T19:57:20.383Z"
   },
   {
    "duration": 6,
    "start_time": "2022-06-07T19:57:47.354Z"
   },
   {
    "duration": 3,
    "start_time": "2022-06-07T19:57:50.519Z"
   },
   {
    "duration": 42,
    "start_time": "2022-06-07T19:57:51.017Z"
   },
   {
    "duration": 13,
    "start_time": "2022-06-07T19:57:51.105Z"
   },
   {
    "duration": 11,
    "start_time": "2022-06-07T19:57:51.132Z"
   },
   {
    "duration": 11,
    "start_time": "2022-06-07T19:57:51.250Z"
   },
   {
    "duration": 7,
    "start_time": "2022-06-07T19:57:51.931Z"
   },
   {
    "duration": 4,
    "start_time": "2022-06-07T19:57:52.491Z"
   },
   {
    "duration": 5,
    "start_time": "2022-06-07T19:57:52.859Z"
   },
   {
    "duration": 2,
    "start_time": "2022-06-07T19:57:53.052Z"
   },
   {
    "duration": 15,
    "start_time": "2022-06-07T19:57:53.789Z"
   },
   {
    "duration": 8,
    "start_time": "2022-06-07T19:59:53.020Z"
   },
   {
    "duration": 21,
    "start_time": "2022-06-07T20:01:32.363Z"
   },
   {
    "duration": 25,
    "start_time": "2022-06-07T20:05:29.291Z"
   },
   {
    "duration": 2,
    "start_time": "2022-06-07T20:10:52.862Z"
   },
   {
    "duration": 4,
    "start_time": "2022-06-07T20:23:56.749Z"
   },
   {
    "duration": 43,
    "start_time": "2022-06-07T20:23:57.022Z"
   },
   {
    "duration": 10,
    "start_time": "2022-06-07T20:23:57.701Z"
   },
   {
    "duration": 10,
    "start_time": "2022-06-07T20:23:57.924Z"
   },
   {
    "duration": 11,
    "start_time": "2022-06-07T20:23:58.626Z"
   },
   {
    "duration": 8,
    "start_time": "2022-06-07T20:23:59.731Z"
   },
   {
    "duration": 4,
    "start_time": "2022-06-07T20:24:00.407Z"
   },
   {
    "duration": 17,
    "start_time": "2022-06-07T20:24:00.770Z"
   },
   {
    "duration": 4,
    "start_time": "2022-06-07T20:24:00.955Z"
   },
   {
    "duration": 38,
    "start_time": "2022-06-07T20:24:01.748Z"
   },
   {
    "duration": 4,
    "start_time": "2022-06-07T20:25:31.523Z"
   },
   {
    "duration": 38,
    "start_time": "2022-06-07T20:26:26.611Z"
   },
   {
    "duration": 10,
    "start_time": "2022-06-07T20:26:29.925Z"
   },
   {
    "duration": 7,
    "start_time": "2022-06-07T20:26:47.218Z"
   },
   {
    "duration": 5,
    "start_time": "2022-06-07T20:39:55.280Z"
   },
   {
    "duration": 5,
    "start_time": "2022-06-07T20:39:55.917Z"
   },
   {
    "duration": 8,
    "start_time": "2022-06-07T20:39:56.251Z"
   },
   {
    "duration": 9,
    "start_time": "2022-06-07T20:39:56.605Z"
   },
   {
    "duration": 3,
    "start_time": "2022-06-07T20:40:13.146Z"
   },
   {
    "duration": 43,
    "start_time": "2022-06-07T20:40:13.522Z"
   },
   {
    "duration": 14,
    "start_time": "2022-06-07T20:40:14.332Z"
   },
   {
    "duration": 15,
    "start_time": "2022-06-07T20:40:14.510Z"
   },
   {
    "duration": 12,
    "start_time": "2022-06-07T20:40:15.082Z"
   },
   {
    "duration": 7,
    "start_time": "2022-06-07T20:40:15.962Z"
   },
   {
    "duration": 6,
    "start_time": "2022-06-07T20:40:16.730Z"
   },
   {
    "duration": 4,
    "start_time": "2022-06-07T20:40:17.227Z"
   },
   {
    "duration": 8,
    "start_time": "2022-06-07T20:40:17.748Z"
   },
   {
    "duration": 3,
    "start_time": "2022-06-07T20:40:20.474Z"
   },
   {
    "duration": 194,
    "start_time": "2022-06-07T20:40:41.226Z"
   },
   {
    "duration": 213,
    "start_time": "2022-06-07T20:40:44.666Z"
   },
   {
    "duration": 5,
    "start_time": "2022-06-07T20:41:06.073Z"
   },
   {
    "duration": 10,
    "start_time": "2022-06-07T20:41:06.682Z"
   },
   {
    "duration": 265,
    "start_time": "2022-06-07T20:41:07.562Z"
   },
   {
    "duration": 25,
    "start_time": "2022-06-07T20:41:32.014Z"
   },
   {
    "duration": 25,
    "start_time": "2022-06-07T20:41:56.689Z"
   },
   {
    "duration": 299,
    "start_time": "2022-06-07T20:42:01.498Z"
   },
   {
    "duration": 273,
    "start_time": "2022-06-07T20:42:15.890Z"
   },
   {
    "duration": 327,
    "start_time": "2022-06-07T20:42:26.650Z"
   },
   {
    "duration": 4,
    "start_time": "2022-06-07T20:43:47.320Z"
   },
   {
    "duration": 4,
    "start_time": "2022-06-07T20:44:40.686Z"
   },
   {
    "duration": 4,
    "start_time": "2022-06-07T20:44:41.512Z"
   },
   {
    "duration": 47,
    "start_time": "2022-06-08T15:18:28.419Z"
   },
   {
    "duration": 1058,
    "start_time": "2022-06-08T15:18:32.530Z"
   },
   {
    "duration": 129,
    "start_time": "2022-06-08T15:18:33.590Z"
   },
   {
    "duration": 10,
    "start_time": "2022-06-08T15:18:33.721Z"
   },
   {
    "duration": 17,
    "start_time": "2022-06-08T15:18:33.733Z"
   },
   {
    "duration": 17,
    "start_time": "2022-06-08T15:18:33.752Z"
   },
   {
    "duration": 9,
    "start_time": "2022-06-08T15:18:33.873Z"
   },
   {
    "duration": 5,
    "start_time": "2022-06-08T15:18:34.417Z"
   },
   {
    "duration": 5,
    "start_time": "2022-06-08T15:18:34.753Z"
   },
   {
    "duration": 9,
    "start_time": "2022-06-08T15:18:34.945Z"
   },
   {
    "duration": 294,
    "start_time": "2022-06-08T15:18:35.650Z"
   },
   {
    "duration": 287,
    "start_time": "2022-06-08T17:27:12.889Z"
   },
   {
    "duration": 351,
    "start_time": "2022-06-08T17:28:09.288Z"
   },
   {
    "duration": 69,
    "start_time": "2022-06-09T01:21:00.217Z"
   },
   {
    "duration": 1005,
    "start_time": "2022-06-09T01:21:03.521Z"
   },
   {
    "duration": 189,
    "start_time": "2022-06-09T01:21:04.528Z"
   },
   {
    "duration": 15,
    "start_time": "2022-06-09T01:21:04.719Z"
   },
   {
    "duration": 26,
    "start_time": "2022-06-09T01:21:04.737Z"
   },
   {
    "duration": 51,
    "start_time": "2022-06-09T01:21:04.764Z"
   },
   {
    "duration": 10,
    "start_time": "2022-06-09T01:21:05.227Z"
   },
   {
    "duration": 5,
    "start_time": "2022-06-09T01:21:05.341Z"
   },
   {
    "duration": 8,
    "start_time": "2022-06-09T01:21:05.396Z"
   },
   {
    "duration": 10,
    "start_time": "2022-06-09T01:21:05.428Z"
   },
   {
    "duration": 346,
    "start_time": "2022-06-09T01:21:06.323Z"
   },
   {
    "duration": 894,
    "start_time": "2022-06-09T01:21:25.728Z"
   },
   {
    "duration": 851,
    "start_time": "2022-06-09T01:21:46.145Z"
   },
   {
    "duration": 863,
    "start_time": "2022-06-09T01:21:58.594Z"
   },
   {
    "duration": 820,
    "start_time": "2022-06-09T01:22:10.241Z"
   },
   {
    "duration": 803,
    "start_time": "2022-06-09T01:22:47.745Z"
   },
   {
    "duration": 919,
    "start_time": "2022-06-09T01:22:53.176Z"
   },
   {
    "duration": 4,
    "start_time": "2022-06-09T01:24:22.705Z"
   },
   {
    "duration": 43,
    "start_time": "2022-06-09T01:24:23.215Z"
   },
   {
    "duration": 9,
    "start_time": "2022-06-09T01:24:23.305Z"
   },
   {
    "duration": 9,
    "start_time": "2022-06-09T01:24:23.336Z"
   },
   {
    "duration": 19,
    "start_time": "2022-06-09T01:24:23.448Z"
   },
   {
    "duration": 7,
    "start_time": "2022-06-09T01:24:23.579Z"
   },
   {
    "duration": 11,
    "start_time": "2022-06-09T01:24:23.867Z"
   },
   {
    "duration": 5,
    "start_time": "2022-06-09T01:24:24.320Z"
   },
   {
    "duration": 9,
    "start_time": "2022-06-09T01:24:24.831Z"
   },
   {
    "duration": 842,
    "start_time": "2022-06-09T01:24:24.869Z"
   },
   {
    "duration": 705,
    "start_time": "2022-06-09T01:58:09.874Z"
   },
   {
    "duration": 3,
    "start_time": "2022-06-09T01:58:17.516Z"
   },
   {
    "duration": 20,
    "start_time": "2022-06-09T01:58:38.433Z"
   },
   {
    "duration": 742,
    "start_time": "2022-06-09T03:57:50.126Z"
   },
   {
    "duration": 739,
    "start_time": "2022-06-09T03:58:00.928Z"
   },
   {
    "duration": 770,
    "start_time": "2022-06-09T03:58:32.017Z"
   },
   {
    "duration": 22,
    "start_time": "2022-06-09T04:05:39.165Z"
   },
   {
    "duration": 39,
    "start_time": "2022-06-09T04:05:39.359Z"
   },
   {
    "duration": 20,
    "start_time": "2022-06-09T04:05:44.035Z"
   },
   {
    "duration": 3,
    "start_time": "2022-06-09T04:05:49.226Z"
   },
   {
    "duration": 40,
    "start_time": "2022-06-09T04:05:49.725Z"
   },
   {
    "duration": 10,
    "start_time": "2022-06-09T04:05:50.270Z"
   },
   {
    "duration": 11,
    "start_time": "2022-06-09T04:05:50.412Z"
   },
   {
    "duration": 10,
    "start_time": "2022-06-09T04:05:51.382Z"
   },
   {
    "duration": 6,
    "start_time": "2022-06-09T04:05:51.522Z"
   },
   {
    "duration": 5,
    "start_time": "2022-06-09T04:05:52.922Z"
   },
   {
    "duration": 62196,
    "start_time": "2022-06-09T04:07:39.212Z"
   },
   {
    "duration": 0,
    "start_time": "2022-06-09T04:08:41.410Z"
   },
   {
    "duration": 0,
    "start_time": "2022-06-09T04:08:41.411Z"
   },
   {
    "duration": 0,
    "start_time": "2022-06-09T04:08:41.411Z"
   },
   {
    "duration": 3,
    "start_time": "2022-06-09T04:08:43.962Z"
   },
   {
    "duration": 46,
    "start_time": "2022-06-09T04:08:45.513Z"
   },
   {
    "duration": 14,
    "start_time": "2022-06-09T04:08:46.555Z"
   },
   {
    "duration": 11,
    "start_time": "2022-06-09T04:08:46.841Z"
   },
   {
    "duration": 11,
    "start_time": "2022-06-09T04:08:48.138Z"
   },
   {
    "duration": 852,
    "start_time": "2022-06-09T04:14:04.206Z"
   },
   {
    "duration": 784,
    "start_time": "2022-06-09T04:14:29.259Z"
   },
   {
    "duration": 3,
    "start_time": "2022-06-09T04:16:08.046Z"
   },
   {
    "duration": 39,
    "start_time": "2022-06-09T04:16:08.283Z"
   },
   {
    "duration": 10,
    "start_time": "2022-06-09T04:16:09.287Z"
   },
   {
    "duration": 11,
    "start_time": "2022-06-09T04:16:09.318Z"
   },
   {
    "duration": 10,
    "start_time": "2022-06-09T04:16:09.416Z"
   },
   {
    "duration": 7,
    "start_time": "2022-06-09T04:16:09.541Z"
   },
   {
    "duration": 5,
    "start_time": "2022-06-09T04:16:10.037Z"
   },
   {
    "duration": 734,
    "start_time": "2022-06-09T04:16:10.583Z"
   },
   {
    "duration": 311,
    "start_time": "2022-06-09T04:26:08.248Z"
   },
   {
    "duration": 356,
    "start_time": "2022-06-09T04:26:16.499Z"
   },
   {
    "duration": 1386,
    "start_time": "2022-06-09T04:28:27.117Z"
   },
   {
    "duration": 942,
    "start_time": "2022-06-09T04:28:50.210Z"
   },
   {
    "duration": 1274,
    "start_time": "2022-06-09T04:29:18.898Z"
   },
   {
    "duration": 311,
    "start_time": "2022-06-09T04:30:55.951Z"
   },
   {
    "duration": 27,
    "start_time": "2022-06-09T04:30:57.649Z"
   },
   {
    "duration": 614,
    "start_time": "2022-06-09T04:31:14.591Z"
   },
   {
    "duration": 5,
    "start_time": "2022-06-09T04:31:27.870Z"
   },
   {
    "duration": 4,
    "start_time": "2022-06-09T04:31:31.535Z"
   },
   {
    "duration": 2,
    "start_time": "2022-06-09T04:32:02.928Z"
   },
   {
    "duration": 2,
    "start_time": "2022-06-09T04:32:25.487Z"
   },
   {
    "duration": 28,
    "start_time": "2022-06-09T04:33:02.367Z"
   },
   {
    "duration": 608,
    "start_time": "2022-06-09T04:33:03.632Z"
   },
   {
    "duration": 3,
    "start_time": "2022-06-09T04:33:04.385Z"
   },
   {
    "duration": 30,
    "start_time": "2022-06-09T04:34:00.335Z"
   },
   {
    "duration": 180,
    "start_time": "2022-06-09T04:34:05.280Z"
   },
   {
    "duration": 206,
    "start_time": "2022-06-09T04:34:10.654Z"
   },
   {
    "duration": 20,
    "start_time": "2022-06-09T04:34:14.639Z"
   },
   {
    "duration": 31,
    "start_time": "2022-06-09T04:34:15.122Z"
   },
   {
    "duration": 29,
    "start_time": "2022-06-09T04:34:27.073Z"
   },
   {
    "duration": 34,
    "start_time": "2022-06-09T04:34:41.294Z"
   },
   {
    "duration": 612,
    "start_time": "2022-06-09T04:34:46.335Z"
   },
   {
    "duration": 636,
    "start_time": "2022-06-09T04:40:09.920Z"
   },
   {
    "duration": 8,
    "start_time": "2022-06-09T04:40:11.387Z"
   },
   {
    "duration": 29,
    "start_time": "2022-06-09T04:40:31.243Z"
   },
   {
    "duration": 3,
    "start_time": "2022-06-09T04:41:38.993Z"
   },
   {
    "duration": 3,
    "start_time": "2022-06-09T04:44:00.763Z"
   },
   {
    "duration": 4,
    "start_time": "2022-06-09T04:45:48.146Z"
   },
   {
    "duration": 1056,
    "start_time": "2022-06-10T02:35:18.913Z"
   },
   {
    "duration": 4,
    "start_time": "2022-06-10T02:35:27.349Z"
   },
   {
    "duration": 137,
    "start_time": "2022-06-10T02:35:27.887Z"
   },
   {
    "duration": 13,
    "start_time": "2022-06-10T02:35:28.026Z"
   },
   {
    "duration": 11,
    "start_time": "2022-06-10T02:35:28.136Z"
   },
   {
    "duration": 17,
    "start_time": "2022-06-10T02:35:28.149Z"
   },
   {
    "duration": 9,
    "start_time": "2022-06-10T02:35:28.273Z"
   },
   {
    "duration": 5,
    "start_time": "2022-06-10T02:35:28.384Z"
   },
   {
    "duration": 5,
    "start_time": "2022-06-10T02:35:28.468Z"
   },
   {
    "duration": 433,
    "start_time": "2022-06-10T02:35:28.571Z"
   },
   {
    "duration": 118,
    "start_time": "2022-06-10T02:35:29.006Z"
   },
   {
    "duration": 673,
    "start_time": "2022-06-10T02:35:29.632Z"
   },
   {
    "duration": 7,
    "start_time": "2022-06-10T02:35:44.049Z"
   },
   {
    "duration": 5,
    "start_time": "2022-06-10T02:36:05.483Z"
   },
   {
    "duration": 794,
    "start_time": "2022-06-10T02:36:07.017Z"
   },
   {
    "duration": 31,
    "start_time": "2022-06-10T02:36:08.700Z"
   },
   {
    "duration": 611,
    "start_time": "2022-06-10T02:36:13.728Z"
   },
   {
    "duration": 8,
    "start_time": "2022-06-10T02:39:41.511Z"
   },
   {
    "duration": 104,
    "start_time": "2022-06-10T02:43:00.555Z"
   },
   {
    "duration": 9,
    "start_time": "2022-06-10T02:43:10.303Z"
   },
   {
    "duration": 7,
    "start_time": "2022-06-10T02:43:18.615Z"
   },
   {
    "duration": 24,
    "start_time": "2022-06-10T02:43:21.573Z"
   },
   {
    "duration": 30,
    "start_time": "2022-06-10T02:43:22.445Z"
   },
   {
    "duration": 559,
    "start_time": "2022-06-10T02:43:22.586Z"
   },
   {
    "duration": 10,
    "start_time": "2022-06-10T02:43:23.815Z"
   },
   {
    "duration": 10,
    "start_time": "2022-06-10T02:43:37.542Z"
   },
   {
    "duration": 567,
    "start_time": "2022-06-10T02:43:42.230Z"
   },
   {
    "duration": 13,
    "start_time": "2022-06-10T02:44:01.499Z"
   },
   {
    "duration": 5,
    "start_time": "2022-06-10T02:44:10.277Z"
   },
   {
    "duration": 20,
    "start_time": "2022-06-10T02:45:05.509Z"
   },
   {
    "duration": 4,
    "start_time": "2022-06-10T02:45:11.059Z"
   },
   {
    "duration": 5,
    "start_time": "2022-06-10T02:47:22.186Z"
   },
   {
    "duration": 8,
    "start_time": "2022-06-10T02:49:02.114Z"
   },
   {
    "duration": 8,
    "start_time": "2022-06-10T03:17:33.432Z"
   },
   {
    "duration": 23,
    "start_time": "2022-06-10T03:17:34.651Z"
   },
   {
    "duration": 27,
    "start_time": "2022-06-10T03:17:35.208Z"
   },
   {
    "duration": 543,
    "start_time": "2022-06-10T03:17:35.344Z"
   },
   {
    "duration": 4,
    "start_time": "2022-06-10T03:17:36.523Z"
   },
   {
    "duration": 89,
    "start_time": "2022-06-10T03:17:36.759Z"
   },
   {
    "duration": 12,
    "start_time": "2022-06-10T03:17:53.013Z"
   },
   {
    "duration": 12,
    "start_time": "2022-06-10T03:19:54.033Z"
   },
   {
    "duration": 18,
    "start_time": "2022-06-10T03:20:28.998Z"
   },
   {
    "duration": 42,
    "start_time": "2022-06-10T03:22:47.463Z"
   },
   {
    "duration": 3,
    "start_time": "2022-06-10T03:24:52.548Z"
   },
   {
    "duration": 43,
    "start_time": "2022-06-10T03:24:53.960Z"
   },
   {
    "duration": 10,
    "start_time": "2022-06-10T03:24:54.541Z"
   },
   {
    "duration": 10,
    "start_time": "2022-06-10T03:24:54.559Z"
   },
   {
    "duration": 11,
    "start_time": "2022-06-10T03:24:54.679Z"
   },
   {
    "duration": 9,
    "start_time": "2022-06-10T03:24:55.490Z"
   },
   {
    "duration": 10,
    "start_time": "2022-06-10T03:24:55.598Z"
   },
   {
    "duration": 25,
    "start_time": "2022-06-10T03:24:55.753Z"
   },
   {
    "duration": 28,
    "start_time": "2022-06-10T03:24:55.910Z"
   },
   {
    "duration": 650,
    "start_time": "2022-06-10T03:24:55.988Z"
   },
   {
    "duration": 4,
    "start_time": "2022-06-10T03:24:56.640Z"
   },
   {
    "duration": 35,
    "start_time": "2022-06-10T03:24:56.646Z"
   },
   {
    "duration": 35,
    "start_time": "2022-06-10T03:26:42.164Z"
   },
   {
    "duration": 40,
    "start_time": "2022-06-10T03:30:25.612Z"
   },
   {
    "duration": 37,
    "start_time": "2022-06-10T03:30:59.621Z"
   },
   {
    "duration": 43,
    "start_time": "2022-06-10T03:33:19.857Z"
   },
   {
    "duration": 40,
    "start_time": "2022-06-10T03:33:27.059Z"
   },
   {
    "duration": 33,
    "start_time": "2022-06-10T03:33:37.014Z"
   },
   {
    "duration": 41,
    "start_time": "2022-06-10T03:37:25.458Z"
   },
   {
    "duration": 34,
    "start_time": "2022-06-10T03:38:17.117Z"
   },
   {
    "duration": 34,
    "start_time": "2022-06-10T03:38:24.755Z"
   },
   {
    "duration": 36,
    "start_time": "2022-06-10T03:38:59.021Z"
   },
   {
    "duration": 38,
    "start_time": "2022-06-10T03:39:18.166Z"
   },
   {
    "duration": 33,
    "start_time": "2022-06-10T03:39:33.758Z"
   },
   {
    "duration": 10,
    "start_time": "2022-06-10T03:40:43.806Z"
   },
   {
    "duration": 9,
    "start_time": "2022-06-10T03:40:48.045Z"
   },
   {
    "duration": 34,
    "start_time": "2022-06-10T03:42:30.910Z"
   },
   {
    "duration": 37,
    "start_time": "2022-06-10T03:44:02.993Z"
   },
   {
    "duration": 38,
    "start_time": "2022-06-10T03:44:34.478Z"
   },
   {
    "duration": 35,
    "start_time": "2022-06-10T03:44:46.909Z"
   },
   {
    "duration": 558,
    "start_time": "2022-06-10T03:45:07.382Z"
   },
   {
    "duration": 684,
    "start_time": "2022-06-10T03:45:42.973Z"
   },
   {
    "duration": 680,
    "start_time": "2022-06-10T03:45:48.446Z"
   },
   {
    "duration": 29,
    "start_time": "2022-06-10T03:47:59.837Z"
   },
   {
    "duration": 32,
    "start_time": "2022-06-10T03:48:15.785Z"
   },
   {
    "duration": 31,
    "start_time": "2022-06-10T03:48:27.947Z"
   },
   {
    "duration": 32,
    "start_time": "2022-06-10T03:49:46.074Z"
   },
   {
    "duration": 32,
    "start_time": "2022-06-10T03:51:30.106Z"
   },
   {
    "duration": 8,
    "start_time": "2022-06-10T03:53:00.679Z"
   },
   {
    "duration": 7,
    "start_time": "2022-06-10T03:54:47.063Z"
   },
   {
    "duration": 716,
    "start_time": "2022-06-10T03:55:01.064Z"
   },
   {
    "duration": 14,
    "start_time": "2022-06-10T03:55:33.175Z"
   },
   {
    "duration": 11,
    "start_time": "2022-06-10T03:56:46.406Z"
   },
   {
    "duration": 43,
    "start_time": "2022-06-10T03:56:57.613Z"
   },
   {
    "duration": 42,
    "start_time": "2022-06-10T03:59:26.540Z"
   },
   {
    "duration": 45,
    "start_time": "2022-06-10T03:59:35.494Z"
   },
   {
    "duration": 15,
    "start_time": "2022-06-10T04:00:24.452Z"
   },
   {
    "duration": 43,
    "start_time": "2022-06-10T04:00:45.206Z"
   },
   {
    "duration": 44,
    "start_time": "2022-06-10T04:01:30.532Z"
   },
   {
    "duration": 11,
    "start_time": "2022-06-10T04:06:19.459Z"
   },
   {
    "duration": 9,
    "start_time": "2022-06-10T04:08:48.565Z"
   },
   {
    "duration": 9,
    "start_time": "2022-06-10T04:08:56.066Z"
   },
   {
    "duration": 4,
    "start_time": "2022-06-10T04:08:59.506Z"
   },
   {
    "duration": 45,
    "start_time": "2022-06-10T04:09:00.059Z"
   },
   {
    "duration": 12,
    "start_time": "2022-06-10T04:09:00.155Z"
   },
   {
    "duration": 11,
    "start_time": "2022-06-10T04:09:00.181Z"
   },
   {
    "duration": 10,
    "start_time": "2022-06-10T04:09:00.648Z"
   },
   {
    "duration": 7,
    "start_time": "2022-06-10T04:09:01.991Z"
   },
   {
    "duration": 12,
    "start_time": "2022-06-10T04:09:02.103Z"
   },
   {
    "duration": 26,
    "start_time": "2022-06-10T04:09:02.255Z"
   },
   {
    "duration": 40,
    "start_time": "2022-06-10T04:09:02.398Z"
   },
   {
    "duration": 699,
    "start_time": "2022-06-10T04:09:03.275Z"
   },
   {
    "duration": 6,
    "start_time": "2022-06-10T04:09:03.975Z"
   },
   {
    "duration": 25,
    "start_time": "2022-06-10T04:09:03.982Z"
   },
   {
    "duration": 0,
    "start_time": "2022-06-10T04:09:04.009Z"
   },
   {
    "duration": 26,
    "start_time": "2022-06-10T04:09:23.138Z"
   },
   {
    "duration": 10,
    "start_time": "2022-06-10T04:09:26.739Z"
   },
   {
    "duration": 9,
    "start_time": "2022-06-10T04:14:42.881Z"
   },
   {
    "duration": 41,
    "start_time": "2022-06-10T04:15:57.887Z"
   },
   {
    "duration": 40,
    "start_time": "2022-06-10T04:16:17.727Z"
   },
   {
    "duration": 53,
    "start_time": "2022-06-10T04:17:28.896Z"
   },
   {
    "duration": 46,
    "start_time": "2022-06-10T04:17:36.775Z"
   },
   {
    "duration": 33,
    "start_time": "2022-06-10T04:18:09.135Z"
   },
   {
    "duration": 42,
    "start_time": "2022-06-10T04:18:21.219Z"
   },
   {
    "duration": 38,
    "start_time": "2022-06-10T04:19:36.877Z"
   },
   {
    "duration": 40,
    "start_time": "2022-06-10T04:19:39.981Z"
   },
   {
    "duration": 42,
    "start_time": "2022-06-10T04:19:52.093Z"
   },
   {
    "duration": 21,
    "start_time": "2022-06-10T04:20:48.817Z"
   },
   {
    "duration": 6,
    "start_time": "2022-06-10T04:24:24.925Z"
   },
   {
    "duration": 20,
    "start_time": "2022-06-10T04:24:58.975Z"
   },
   {
    "duration": 6,
    "start_time": "2022-06-10T04:27:26.235Z"
   },
   {
    "duration": 1111,
    "start_time": "2022-06-11T01:27:05.308Z"
   },
   {
    "duration": 128,
    "start_time": "2022-06-11T01:27:06.421Z"
   },
   {
    "duration": 11,
    "start_time": "2022-06-11T01:27:06.551Z"
   },
   {
    "duration": 15,
    "start_time": "2022-06-11T01:27:06.564Z"
   },
   {
    "duration": 19,
    "start_time": "2022-06-11T01:27:06.581Z"
   },
   {
    "duration": 13,
    "start_time": "2022-06-11T01:27:06.601Z"
   },
   {
    "duration": 112,
    "start_time": "2022-06-11T01:27:06.615Z"
   },
   {
    "duration": 0,
    "start_time": "2022-06-11T01:27:06.729Z"
   },
   {
    "duration": 0,
    "start_time": "2022-06-11T01:27:06.729Z"
   },
   {
    "duration": 10,
    "start_time": "2022-06-11T01:27:06.769Z"
   },
   {
    "duration": 11,
    "start_time": "2022-06-11T01:27:06.934Z"
   },
   {
    "duration": 4,
    "start_time": "2022-06-11T01:27:06.957Z"
   },
   {
    "duration": 10,
    "start_time": "2022-06-11T01:27:07.136Z"
   },
   {
    "duration": 16,
    "start_time": "2022-06-11T01:39:40.449Z"
   },
   {
    "duration": 15,
    "start_time": "2022-06-11T01:39:48.809Z"
   },
   {
    "duration": 26,
    "start_time": "2022-06-11T01:39:51.366Z"
   },
   {
    "duration": 34,
    "start_time": "2022-06-11T01:39:51.454Z"
   },
   {
    "duration": 687,
    "start_time": "2022-06-11T01:39:51.593Z"
   },
   {
    "duration": 6,
    "start_time": "2022-06-11T01:39:52.281Z"
   },
   {
    "duration": 4,
    "start_time": "2022-06-11T01:39:52.332Z"
   },
   {
    "duration": 11,
    "start_time": "2022-06-11T01:40:34.138Z"
   },
   {
    "duration": 38,
    "start_time": "2022-06-11T01:40:35.694Z"
   },
   {
    "duration": 34,
    "start_time": "2022-06-11T01:40:36.747Z"
   },
   {
    "duration": 682,
    "start_time": "2022-06-11T01:40:37.963Z"
   },
   {
    "duration": 5,
    "start_time": "2022-06-11T01:40:39.509Z"
   },
   {
    "duration": 9,
    "start_time": "2022-06-11T01:40:42.090Z"
   },
   {
    "duration": 15,
    "start_time": "2022-06-11T01:40:45.482Z"
   },
   {
    "duration": 11,
    "start_time": "2022-06-11T01:40:50.169Z"
   },
   {
    "duration": 12,
    "start_time": "2022-06-11T01:41:16.414Z"
   },
   {
    "duration": 31,
    "start_time": "2022-06-11T01:42:20.316Z"
   },
   {
    "duration": 14,
    "start_time": "2022-06-11T01:42:34.253Z"
   },
   {
    "duration": 42,
    "start_time": "2022-06-11T01:42:39.481Z"
   },
   {
    "duration": 7,
    "start_time": "2022-06-11T01:42:41.819Z"
   },
   {
    "duration": 5,
    "start_time": "2022-06-11T01:42:56.987Z"
   },
   {
    "duration": 10,
    "start_time": "2022-06-11T01:46:10.528Z"
   },
   {
    "duration": 35,
    "start_time": "2022-06-11T01:46:11.190Z"
   },
   {
    "duration": 35,
    "start_time": "2022-06-11T01:46:11.310Z"
   },
   {
    "duration": 699,
    "start_time": "2022-06-11T01:46:11.423Z"
   },
   {
    "duration": 4,
    "start_time": "2022-06-11T01:46:12.125Z"
   },
   {
    "duration": 37,
    "start_time": "2022-06-11T01:46:12.131Z"
   },
   {
    "duration": 5,
    "start_time": "2022-06-11T01:46:12.170Z"
   },
   {
    "duration": 982,
    "start_time": "2022-06-12T00:53:11.261Z"
   },
   {
    "duration": 135,
    "start_time": "2022-06-12T00:53:12.244Z"
   },
   {
    "duration": 10,
    "start_time": "2022-06-12T00:53:12.380Z"
   },
   {
    "duration": 10,
    "start_time": "2022-06-12T00:53:12.392Z"
   },
   {
    "duration": 11,
    "start_time": "2022-06-12T00:53:12.403Z"
   },
   {
    "duration": 7,
    "start_time": "2022-06-12T00:53:12.416Z"
   },
   {
    "duration": 10,
    "start_time": "2022-06-12T00:53:12.425Z"
   },
   {
    "duration": 35,
    "start_time": "2022-06-12T00:53:12.487Z"
   },
   {
    "duration": 45,
    "start_time": "2022-06-12T00:53:13.383Z"
   },
   {
    "duration": 605,
    "start_time": "2022-06-12T00:53:13.520Z"
   },
   {
    "duration": 5,
    "start_time": "2022-06-12T00:53:14.447Z"
   },
   {
    "duration": 30,
    "start_time": "2022-06-12T00:53:14.777Z"
   },
   {
    "duration": 34,
    "start_time": "2022-06-12T00:53:20.139Z"
   },
   {
    "duration": 29,
    "start_time": "2022-06-12T00:53:26.779Z"
   },
   {
    "duration": 5,
    "start_time": "2022-06-12T00:53:32.380Z"
   },
   {
    "duration": 1580,
    "start_time": "2022-06-20T16:03:07.765Z"
   }
  ],
  "kernelspec": {
   "display_name": "Python 3",
   "language": "python",
   "name": "python3"
  },
  "language_info": {
   "codemirror_mode": {
    "name": "ipython",
    "version": 3
   },
   "file_extension": ".py",
   "mimetype": "text/x-python",
   "name": "python",
   "nbconvert_exporter": "python",
   "pygments_lexer": "ipython3",
   "version": "3.8.8"
  },
  "toc": {
   "base_numbering": 1,
   "nav_menu": {},
   "number_sections": true,
   "sideBar": true,
   "skip_h1_title": true,
   "title_cell": "Table of Contents",
   "title_sidebar": "Contents",
   "toc_cell": false,
   "toc_position": {},
   "toc_section_display": true,
   "toc_window_display": false
  }
 },
 "nbformat": 4,
 "nbformat_minor": 2
}
