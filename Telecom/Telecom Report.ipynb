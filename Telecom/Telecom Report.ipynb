{
 "cells": [
  {
   "cell_type": "markdown",
   "id": "7011c062",
   "metadata": {},
   "source": [
    "# Project Report\n",
    "\n",
    "## EDA\n",
    "    This is definitely a classification task. Meaning. 4 files opened with no problems, NaNs or duplicates with each file so far. CustomerID, BeginDate, MonthlyCharges and TotalCharges are not needed. No nans, definitely needs a merge though. NaNs only showed up post merge.'No's replaced post merge NaN's. Final merged graph needed to be encoded pre model training. Then a relabel and resize of column names. Statistical analysis didn't matter on Monthly and Total charges due to them being dropped.\n",
    "    \n",
    "    'senior_citizen', 'no_end_date', 'month_to_month', 'one_year', 'paperless_billing', 'credit_card', 'electronic_check', 'mailed_check', 'fiber_optic', 'no_internet_service', 'online_security', 'online_backup', 'device_protection', 'tech_support', 'streaming_tv', 'streaming_movies', 'multiple_lines', 'gender_male', 'partner' and 'dependents' have High correlation. \n",
    "    \n",
    "## Training\n",
    "### Unbalanced\n",
    "    Logistic Regression was the highest score of 0.8450305143853531 compared to the rest of the models, even unbalanced. The features and target were set up with a train split of 8/2.\n",
    "### Balanced\n",
    "    With the data being unbalanced, the best two balancing were upscaling and class_weight='balanced'.\n",
    "\n",
    "## Testing\n",
    "    Using Logistic Regression, upscaling, and class_weight='balanced', was proven the highest score compared to using downscaling and unbalanced.\n",
    "\n",
    "## Conclusion\n",
    "    Final AUC-ROC score was 0.8117814928756477, using Logistic Regression, upscaling, and class_weight='balanced'. "
   ]
  },
  {
   "cell_type": "markdown",
   "id": "493bb1de",
   "metadata": {},
   "source": [
    "# Checklist"
   ]
  },
  {
   "cell_type": "markdown",
   "id": "57d839f1",
   "metadata": {},
   "source": [
    "- [X]  Notebook was opened\n",
    "- [X]  The code is error free\n",
    "- [X]  The cells with code have been arranged by order of execution\n",
    "- [X]  The exploratory data analysis has been performed\n",
    "- [X]  The results of the exploratory data analysis are presented in the final notebook\n",
    "- [X]  The model's AUC-ROC score is higher than 0.75\n",
    "- [X]  The model training code has been copied to the final notebook\n",
    "- [X]  The model training output has been copied to the final notebook\n",
    "- [X]  The findings have been provided based on the results of the model training"
   ]
  },
  {
   "cell_type": "code",
   "execution_count": null,
   "id": "cb9999fc",
   "metadata": {},
   "outputs": [],
   "source": []
  }
 ],
 "metadata": {
  "kernelspec": {
   "display_name": "Python 3",
   "language": "python",
   "name": "python3"
  },
  "language_info": {
   "codemirror_mode": {
    "name": "ipython",
    "version": 3
   },
   "file_extension": ".py",
   "mimetype": "text/x-python",
   "name": "python",
   "nbconvert_exporter": "python",
   "pygments_lexer": "ipython3",
   "version": "3.8.8"
  }
 },
 "nbformat": 4,
 "nbformat_minor": 5
}
