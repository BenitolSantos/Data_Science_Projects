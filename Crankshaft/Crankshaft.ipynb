{
 "cells": [
  {
   "cell_type": "markdown",
   "metadata": {},
   "source": [
    "# What sells a car?\n",
    "\n",
    "You're an analyst at Crankshaft List. Hundreds of free advertisements for vehicles are published on your site every day. You need to study data collected over the last few years and determine which factors influence the price of a vehicle."
   ]
  },
  {
   "cell_type": "markdown",
   "metadata": {},
   "source": [
    "[We've provided you with some commentary to guide your thinking as you complete this project. However, make sure to remove all the bracketed comments before submitting your project.]\n",
    "\n",
    "[Before you dive into analyzing your data, explain yourself the purposes of the project and actions you plan to take.]\n",
    "\n",
    "It says \"You need to study data collected over the last few years and determine which factors influence the price of a vehicle.\" There for I need to see the prices of vehicles and reach a conclusion.\n",
    "\n",
    "[Please bear in mind that studying, amending and analyzing data is an iterative process. It is normal to return back to previous steps and correct/expand them to allow for further steps.]"
   ]
  },
  {
   "cell_type": "markdown",
   "metadata": {},
   "source": [
    "## Initialization"
   ]
  },
  {
   "cell_type": "markdown",
   "metadata": {},
   "source": [
    "[Load libraries that you believe are required for the project. You may realise later that you need additional libraries as you go, which is totally fine - just make sure to update this section when you do.]"
   ]
  },
  {
   "cell_type": "code",
   "execution_count": 1,
   "metadata": {},
   "outputs": [],
   "source": [
    "# Loading all the libraries\n",
    "import pandas as pd\n",
    "import statistics as stat\n",
    "import numpy as np\n",
    "import matplotlib.pyplot as plt\n",
    "import datetime as dt\n"
   ]
  },
  {
   "cell_type": "markdown",
   "metadata": {},
   "source": [
    "### Load data"
   ]
  },
  {
   "cell_type": "markdown",
   "metadata": {},
   "source": [
    "[Load the project data and have a look at the general information.]"
   ]
  },
  {
   "cell_type": "code",
   "execution_count": 2,
   "metadata": {},
   "outputs": [],
   "source": [
    "# Load the data file into a DataFrame\n",
    "try:\n",
    "    crankshaft = pd.read_csv('/datasets/vehicles_us.csv')\n",
    "except:\n",
    "    crankshaft = pd.read_csv('C:/Users/Lorenzo Santos/OneDrive/Documents/vehicles_us.csv')\n",
    "    #added because I worked locally, because I sent the wrong version earlier \n",
    "\n",
    "old_crankshaft = crankshaft #for comparison later"
   ]
  },
  {
   "cell_type": "markdown",
   "metadata": {},
   "source": [
    "### Explore initial data"
   ]
  },
  {
   "cell_type": "markdown",
   "metadata": {},
   "source": [
    "The dataset contains the following fields:\n",
    "- `price`\n",
    "- `model_year`\n",
    "- `model`\n",
    "- `condition`\n",
    "- `cylinders`\n",
    "- `fuel` — gas, diesel, etc.\n",
    "- `odometer` — the vehicle's mileage when the ad was published\n",
    "- `transmission`\n",
    "- `paint_color`\n",
    "- `is_4wd` — whether the vehicle has 4-wheel drive (Boolean type)\n",
    "- `date_posted` — the date the ad was published\n",
    "- `days_listed` — from publication to removal\n",
    "\n",
    "[Understanding the fields, explore them to make yourself familiar with the data.]"
   ]
  },
  {
   "cell_type": "code",
   "execution_count": 3,
   "metadata": {},
   "outputs": [
    {
     "name": "stdout",
     "output_type": "stream",
     "text": [
      "<class 'pandas.core.frame.DataFrame'>\n",
      "RangeIndex: 51525 entries, 0 to 51524\n",
      "Data columns (total 13 columns):\n",
      " #   Column        Non-Null Count  Dtype  \n",
      "---  ------        --------------  -----  \n",
      " 0   price         51525 non-null  int64  \n",
      " 1   model_year    47906 non-null  float64\n",
      " 2   model         51525 non-null  object \n",
      " 3   condition     51525 non-null  object \n",
      " 4   cylinders     46265 non-null  float64\n",
      " 5   fuel          51525 non-null  object \n",
      " 6   odometer      43633 non-null  float64\n",
      " 7   transmission  51525 non-null  object \n",
      " 8   type          51525 non-null  object \n",
      " 9   paint_color   42258 non-null  object \n",
      " 10  is_4wd        25572 non-null  float64\n",
      " 11  date_posted   51525 non-null  object \n",
      " 12  days_listed   51525 non-null  int64  \n",
      "dtypes: float64(4), int64(2), object(7)\n",
      "memory usage: 5.1+ MB\n"
     ]
    }
   ],
   "source": [
    "# print the general/summary information about the DataFrame\n",
    "\n",
    "crankshaft.info()"
   ]
  },
  {
   "cell_type": "code",
   "execution_count": 4,
   "metadata": {},
   "outputs": [
    {
     "data": {
      "text/html": [
       "<div>\n",
       "<style scoped>\n",
       "    .dataframe tbody tr th:only-of-type {\n",
       "        vertical-align: middle;\n",
       "    }\n",
       "\n",
       "    .dataframe tbody tr th {\n",
       "        vertical-align: top;\n",
       "    }\n",
       "\n",
       "    .dataframe thead th {\n",
       "        text-align: right;\n",
       "    }\n",
       "</style>\n",
       "<table border=\"1\" class=\"dataframe\">\n",
       "  <thead>\n",
       "    <tr style=\"text-align: right;\">\n",
       "      <th></th>\n",
       "      <th>price</th>\n",
       "      <th>model_year</th>\n",
       "      <th>model</th>\n",
       "      <th>condition</th>\n",
       "      <th>cylinders</th>\n",
       "      <th>fuel</th>\n",
       "      <th>odometer</th>\n",
       "      <th>transmission</th>\n",
       "      <th>type</th>\n",
       "      <th>paint_color</th>\n",
       "      <th>is_4wd</th>\n",
       "      <th>date_posted</th>\n",
       "      <th>days_listed</th>\n",
       "    </tr>\n",
       "  </thead>\n",
       "  <tbody>\n",
       "    <tr>\n",
       "      <th>0</th>\n",
       "      <td>9400</td>\n",
       "      <td>2011.0</td>\n",
       "      <td>bmw x5</td>\n",
       "      <td>good</td>\n",
       "      <td>6.0</td>\n",
       "      <td>gas</td>\n",
       "      <td>145000.0</td>\n",
       "      <td>automatic</td>\n",
       "      <td>SUV</td>\n",
       "      <td>NaN</td>\n",
       "      <td>1.0</td>\n",
       "      <td>2018-06-23</td>\n",
       "      <td>19</td>\n",
       "    </tr>\n",
       "    <tr>\n",
       "      <th>1</th>\n",
       "      <td>25500</td>\n",
       "      <td>NaN</td>\n",
       "      <td>ford f-150</td>\n",
       "      <td>good</td>\n",
       "      <td>6.0</td>\n",
       "      <td>gas</td>\n",
       "      <td>88705.0</td>\n",
       "      <td>automatic</td>\n",
       "      <td>pickup</td>\n",
       "      <td>white</td>\n",
       "      <td>1.0</td>\n",
       "      <td>2018-10-19</td>\n",
       "      <td>50</td>\n",
       "    </tr>\n",
       "    <tr>\n",
       "      <th>2</th>\n",
       "      <td>5500</td>\n",
       "      <td>2013.0</td>\n",
       "      <td>hyundai sonata</td>\n",
       "      <td>like new</td>\n",
       "      <td>4.0</td>\n",
       "      <td>gas</td>\n",
       "      <td>110000.0</td>\n",
       "      <td>automatic</td>\n",
       "      <td>sedan</td>\n",
       "      <td>red</td>\n",
       "      <td>NaN</td>\n",
       "      <td>2019-02-07</td>\n",
       "      <td>79</td>\n",
       "    </tr>\n",
       "    <tr>\n",
       "      <th>3</th>\n",
       "      <td>1500</td>\n",
       "      <td>2003.0</td>\n",
       "      <td>ford f-150</td>\n",
       "      <td>fair</td>\n",
       "      <td>8.0</td>\n",
       "      <td>gas</td>\n",
       "      <td>NaN</td>\n",
       "      <td>automatic</td>\n",
       "      <td>pickup</td>\n",
       "      <td>NaN</td>\n",
       "      <td>NaN</td>\n",
       "      <td>2019-03-22</td>\n",
       "      <td>9</td>\n",
       "    </tr>\n",
       "    <tr>\n",
       "      <th>4</th>\n",
       "      <td>14900</td>\n",
       "      <td>2017.0</td>\n",
       "      <td>chrysler 200</td>\n",
       "      <td>excellent</td>\n",
       "      <td>4.0</td>\n",
       "      <td>gas</td>\n",
       "      <td>80903.0</td>\n",
       "      <td>automatic</td>\n",
       "      <td>sedan</td>\n",
       "      <td>black</td>\n",
       "      <td>NaN</td>\n",
       "      <td>2019-04-02</td>\n",
       "      <td>28</td>\n",
       "    </tr>\n",
       "    <tr>\n",
       "      <th>5</th>\n",
       "      <td>14990</td>\n",
       "      <td>2014.0</td>\n",
       "      <td>chrysler 300</td>\n",
       "      <td>excellent</td>\n",
       "      <td>6.0</td>\n",
       "      <td>gas</td>\n",
       "      <td>57954.0</td>\n",
       "      <td>automatic</td>\n",
       "      <td>sedan</td>\n",
       "      <td>black</td>\n",
       "      <td>1.0</td>\n",
       "      <td>2018-06-20</td>\n",
       "      <td>15</td>\n",
       "    </tr>\n",
       "    <tr>\n",
       "      <th>6</th>\n",
       "      <td>12990</td>\n",
       "      <td>2015.0</td>\n",
       "      <td>toyota camry</td>\n",
       "      <td>excellent</td>\n",
       "      <td>4.0</td>\n",
       "      <td>gas</td>\n",
       "      <td>79212.0</td>\n",
       "      <td>automatic</td>\n",
       "      <td>sedan</td>\n",
       "      <td>white</td>\n",
       "      <td>NaN</td>\n",
       "      <td>2018-12-27</td>\n",
       "      <td>73</td>\n",
       "    </tr>\n",
       "    <tr>\n",
       "      <th>7</th>\n",
       "      <td>15990</td>\n",
       "      <td>2013.0</td>\n",
       "      <td>honda pilot</td>\n",
       "      <td>excellent</td>\n",
       "      <td>6.0</td>\n",
       "      <td>gas</td>\n",
       "      <td>109473.0</td>\n",
       "      <td>automatic</td>\n",
       "      <td>SUV</td>\n",
       "      <td>black</td>\n",
       "      <td>1.0</td>\n",
       "      <td>2019-01-07</td>\n",
       "      <td>68</td>\n",
       "    </tr>\n",
       "    <tr>\n",
       "      <th>8</th>\n",
       "      <td>11500</td>\n",
       "      <td>2012.0</td>\n",
       "      <td>kia sorento</td>\n",
       "      <td>excellent</td>\n",
       "      <td>4.0</td>\n",
       "      <td>gas</td>\n",
       "      <td>104174.0</td>\n",
       "      <td>automatic</td>\n",
       "      <td>SUV</td>\n",
       "      <td>NaN</td>\n",
       "      <td>1.0</td>\n",
       "      <td>2018-07-16</td>\n",
       "      <td>19</td>\n",
       "    </tr>\n",
       "    <tr>\n",
       "      <th>9</th>\n",
       "      <td>9200</td>\n",
       "      <td>2008.0</td>\n",
       "      <td>honda pilot</td>\n",
       "      <td>excellent</td>\n",
       "      <td>NaN</td>\n",
       "      <td>gas</td>\n",
       "      <td>147191.0</td>\n",
       "      <td>automatic</td>\n",
       "      <td>SUV</td>\n",
       "      <td>blue</td>\n",
       "      <td>1.0</td>\n",
       "      <td>2019-02-15</td>\n",
       "      <td>17</td>\n",
       "    </tr>\n",
       "  </tbody>\n",
       "</table>\n",
       "</div>"
      ],
      "text/plain": [
       "   price  model_year           model  condition  cylinders fuel  odometer  \\\n",
       "0   9400      2011.0          bmw x5       good        6.0  gas  145000.0   \n",
       "1  25500         NaN      ford f-150       good        6.0  gas   88705.0   \n",
       "2   5500      2013.0  hyundai sonata   like new        4.0  gas  110000.0   \n",
       "3   1500      2003.0      ford f-150       fair        8.0  gas       NaN   \n",
       "4  14900      2017.0    chrysler 200  excellent        4.0  gas   80903.0   \n",
       "5  14990      2014.0    chrysler 300  excellent        6.0  gas   57954.0   \n",
       "6  12990      2015.0    toyota camry  excellent        4.0  gas   79212.0   \n",
       "7  15990      2013.0     honda pilot  excellent        6.0  gas  109473.0   \n",
       "8  11500      2012.0     kia sorento  excellent        4.0  gas  104174.0   \n",
       "9   9200      2008.0     honda pilot  excellent        NaN  gas  147191.0   \n",
       "\n",
       "  transmission    type paint_color  is_4wd date_posted  days_listed  \n",
       "0    automatic     SUV         NaN     1.0  2018-06-23           19  \n",
       "1    automatic  pickup       white     1.0  2018-10-19           50  \n",
       "2    automatic   sedan         red     NaN  2019-02-07           79  \n",
       "3    automatic  pickup         NaN     NaN  2019-03-22            9  \n",
       "4    automatic   sedan       black     NaN  2019-04-02           28  \n",
       "5    automatic   sedan       black     1.0  2018-06-20           15  \n",
       "6    automatic   sedan       white     NaN  2018-12-27           73  \n",
       "7    automatic     SUV       black     1.0  2019-01-07           68  \n",
       "8    automatic     SUV         NaN     1.0  2018-07-16           19  \n",
       "9    automatic     SUV        blue     1.0  2019-02-15           17  "
      ]
     },
     "execution_count": 4,
     "metadata": {},
     "output_type": "execute_result"
    }
   ],
   "source": [
    "# print a sample of data\n",
    "crankshaft.head(10)"
   ]
  },
  {
   "cell_type": "markdown",
   "metadata": {},
   "source": [
    "[Describe what you notice in the general information and the printed data sample. Are there any issues that may need further investigation and changes?]\n",
    "\n",
    "Some NaNs."
   ]
  },
  {
   "cell_type": "code",
   "execution_count": 5,
   "metadata": {},
   "outputs": [
    {
     "name": "stdout",
     "output_type": "stream",
     "text": [
      "<class 'pandas.core.frame.DataFrame'>\n",
      "RangeIndex: 51525 entries, 0 to 51524\n",
      "Data columns (total 13 columns):\n",
      " #   Column        Non-Null Count  Dtype  \n",
      "---  ------        --------------  -----  \n",
      " 0   price         51525 non-null  int64  \n",
      " 1   model_year    47906 non-null  float64\n",
      " 2   model         51525 non-null  object \n",
      " 3   condition     51525 non-null  object \n",
      " 4   cylinders     46265 non-null  float64\n",
      " 5   fuel          51525 non-null  object \n",
      " 6   odometer      43633 non-null  float64\n",
      " 7   transmission  51525 non-null  object \n",
      " 8   type          51525 non-null  object \n",
      " 9   paint_color   42258 non-null  object \n",
      " 10  is_4wd        25572 non-null  float64\n",
      " 11  date_posted   51525 non-null  object \n",
      " 12  days_listed   51525 non-null  int64  \n",
      "dtypes: float64(4), int64(2), object(7)\n",
      "memory usage: 5.1+ MB\n"
     ]
    }
   ],
   "source": [
    "crankshaft.info()"
   ]
  },
  {
   "cell_type": "markdown",
   "metadata": {},
   "source": [
    "[Are there columns with inappropriate data types?]\n",
    "\n",
    "model_year and odometer and cylinders should be int. us_4wd should be yes or no. SUV in type should be lowercase."
   ]
  },
  {
   "cell_type": "code",
   "execution_count": 6,
   "metadata": {},
   "outputs": [
    {
     "name": "stdout",
     "output_type": "stream",
     "text": [
      "0    2011.0\n",
      "1       NaN\n",
      "2    2013.0\n",
      "3    2003.0\n",
      "4    2017.0\n",
      "5    2014.0\n",
      "6    2015.0\n",
      "7    2013.0\n",
      "8    2012.0\n",
      "9    2008.0\n",
      "Name: model_year, dtype: float64\n",
      "0    6.0\n",
      "1    6.0\n",
      "2    4.0\n",
      "3    8.0\n",
      "4    4.0\n",
      "5    6.0\n",
      "6    4.0\n",
      "7    6.0\n",
      "8    4.0\n",
      "9    NaN\n",
      "Name: cylinders, dtype: float64\n",
      "0    1.0\n",
      "1    1.0\n",
      "2    NaN\n",
      "3    NaN\n",
      "4    NaN\n",
      "5    1.0\n",
      "6    NaN\n",
      "7    1.0\n",
      "8    1.0\n",
      "9    1.0\n",
      "Name: is_4wd, dtype: float64\n",
      "0       SUV\n",
      "1    pickup\n",
      "2     sedan\n",
      "3    pickup\n",
      "4     sedan\n",
      "5     sedan\n",
      "6     sedan\n",
      "7       SUV\n",
      "8       SUV\n",
      "9       SUV\n",
      "Name: type, dtype: object\n"
     ]
    }
   ],
   "source": [
    "#\n",
    "#https://pastebin.com/j3YZjwZe\n",
    "print(crankshaft['model_year'].head(10))\n",
    "print(crankshaft['cylinders'].head(10))\n",
    "print(crankshaft['is_4wd'].head(10))\n",
    "print(crankshaft['type'].head(10))"
   ]
  },
  {
   "cell_type": "markdown",
   "metadata": {},
   "source": [
    "years as float makes no sense, could even be date time. cylinders as float makes no sense either. is_4wd should be yes or no. all type should be lowercase."
   ]
  },
  {
   "cell_type": "markdown",
   "metadata": {},
   "source": [
    "[Are there missing values across all columns or just a few? What columns contain the most missing values? Briefly describe what you see in 1-2 sentences.]\n",
    "\n",
    "Yes. model_year. paint_color. odometer. cylinders. is_4wd."
   ]
  },
  {
   "cell_type": "code",
   "execution_count": 7,
   "metadata": {},
   "outputs": [
    {
     "name": "stdout",
     "output_type": "stream",
     "text": [
      "47906\n",
      "42258\n",
      "43633\n",
      "25572\n",
      "51525\n"
     ]
    }
   ],
   "source": [
    "#\n",
    "#https://pastebin.com/shYaGMAD\n",
    "try: #wasn't working locally so I improvised.\n",
    "    print(crankshaft.query('model_year.notna() == True').shape[0])\n",
    "    print(crankshaft.query('paint_color.notna() == True').shape[0])\n",
    "    print(crankshaft.query('odometer.notna() == True').shape[0])\n",
    "    print(crankshaft.query('is_4wd.notna() == True').shape[0]) \n",
    "except:\n",
    "    print(crankshaft[crankshaft['model_year'].notna() == True].shape[0])\n",
    "    print(crankshaft[crankshaft['paint_color'].notna() == True].shape[0])\n",
    "    print(crankshaft[crankshaft['odometer'].notna() == True].shape[0])\n",
    "    print(crankshaft[crankshaft['is_4wd'].notna() == True].shape[0])\n",
    "print(crankshaft.shape[0])\n",
    "\n"
   ]
  },
  {
   "cell_type": "markdown",
   "metadata": {},
   "source": [
    "model_year is: 47906\n",
    "\n",
    "paint_color is: 42258\n",
    "\n",
    "odometer is: 43633\n",
    "\n",
    "cylinders is: 25572\n",
    "\n",
    "All should be the same amount as the total... which is: 51525, which means they're missing."
   ]
  },
  {
   "cell_type": "markdown",
   "metadata": {},
   "source": [
    "### Conclusions and further steps\n",
    "\n",
    "[Formulate your conclusions regarding the initial data. What do you think looks normal and what does not not?]\n",
    "\n",
    "All should be the same amount as the total... but they're not which means they're missing.\n",
    "\n",
    "[Explain your next steps and how they correlate with the conclusions you made so far. Specifically, it should be clear what part of data should be treated to make it more suitable for the required analysis.]\n",
    "\n",
    "We need to fill or cut out data and fix data types."
   ]
  },
  {
   "cell_type": "code",
   "execution_count": 8,
   "metadata": {},
   "outputs": [
    {
     "name": "stdout",
     "output_type": "stream",
     "text": [
      "<class 'pandas.core.frame.DataFrame'>\n",
      "RangeIndex: 51525 entries, 0 to 51524\n",
      "Data columns (total 13 columns):\n",
      " #   Column        Non-Null Count  Dtype  \n",
      "---  ------        --------------  -----  \n",
      " 0   price         51525 non-null  int64  \n",
      " 1   model_year    47906 non-null  float64\n",
      " 2   model         51525 non-null  object \n",
      " 3   condition     51525 non-null  object \n",
      " 4   cylinders     46265 non-null  float64\n",
      " 5   fuel          51525 non-null  object \n",
      " 6   odometer      43633 non-null  float64\n",
      " 7   transmission  51525 non-null  object \n",
      " 8   type          51525 non-null  object \n",
      " 9   paint_color   42258 non-null  object \n",
      " 10  is_4wd        25572 non-null  float64\n",
      " 11  date_posted   51525 non-null  object \n",
      " 12  days_listed   51525 non-null  int64  \n",
      "dtypes: float64(4), int64(2), object(7)\n",
      "memory usage: 5.1+ MB\n"
     ]
    }
   ],
   "source": [
    "crankshaft.info()"
   ]
  },
  {
   "cell_type": "markdown",
   "metadata": {},
   "source": [
    "## Treat missing values (if any)"
   ]
  },
  {
   "cell_type": "markdown",
   "metadata": {},
   "source": [
    "[Study missing values for each column in more details and decide what to do with them based on meaningful hypotheses.]"
   ]
  },
  {
   "cell_type": "code",
   "execution_count": 9,
   "metadata": {},
   "outputs": [
    {
     "name": "stdout",
     "output_type": "stream",
     "text": [
      "                price  model_year  cylinders  odometer  is_4wd  days_listed\n",
      "price        1.000000    0.428656   0.296627 -0.420299     NaN    -0.000682\n",
      "model_year   0.428656    1.000000  -0.148040 -0.473948     NaN    -0.005703\n",
      "cylinders    0.296627   -0.148040   1.000000  0.090160     NaN     0.005517\n",
      "odometer    -0.420299   -0.473948   0.090160  1.000000     NaN     0.003804\n",
      "is_4wd            NaN         NaN        NaN       NaN     NaN          NaN\n",
      "days_listed -0.000682   -0.005703   0.005517  0.003804     NaN     1.000000\n",
      "      price  model_year                     model  condition  cylinders fuel  \\\n",
      "0   25500.0      2011.0                ford f-150       good        6.0  gas   \n",
      "1    5500.0      2013.0            hyundai sonata   like new        4.0  gas   \n",
      "2   14900.0      2017.0              chrysler 200  excellent        4.0  gas   \n",
      "3   14990.0      2014.0              chrysler 300  excellent        6.0  gas   \n",
      "4   12990.0      2015.0              toyota camry  excellent        4.0  gas   \n",
      "5   15990.0      2013.0               honda pilot  excellent        6.0  gas   \n",
      "6    9200.0      2008.0               honda pilot  excellent        6.0  gas   \n",
      "7   19500.0      2011.0  chevrolet silverado 1500  excellent        8.0  gas   \n",
      "8    8990.0      2012.0              honda accord  excellent        4.0  gas   \n",
      "9   16500.0      2018.0            hyundai sonata  excellent        4.0  gas   \n",
      "10  12990.0      2009.0                 gmc yukon  excellent        8.0  gas   \n",
      "11  17990.0      2013.0                  ram 1500  excellent        8.0  gas   \n",
      "12  14990.0      2010.0                  ram 1500  excellent        8.0  gas   \n",
      "13  13990.0      2014.0             jeep cherokee  excellent        6.0  gas   \n",
      "14  12500.0      2013.0        chevrolet traverse  excellent        6.0  gas   \n",
      "15  13990.0      2018.0           hyundai elantra  excellent        4.0  gas   \n",
      "16   6990.0      2009.0           chevrolet tahoe  excellent        8.0  gas   \n",
      "17   7500.0      2004.0       chevrolet silverado   like new        8.0  gas   \n",
      "18   7500.0      2004.0             jeep wrangler       good        6.0  gas   \n",
      "19   3950.0      2009.0              chrysler 200  excellent        4.0  gas   \n",
      "\n",
      "    odometer transmission    type paint_color  is_4wd date_posted  days_listed  \n",
      "0    88705.0    automatic  pickup       white     1.0  2018-10-19           50  \n",
      "1   110000.0    automatic   sedan         red     0.0  2019-02-07           79  \n",
      "2    80903.0    automatic   sedan       black     0.0  2019-04-02           28  \n",
      "3    57954.0    automatic   sedan       black     1.0  2018-06-20           15  \n",
      "4    79212.0    automatic   sedan       white     0.0  2018-12-27           73  \n",
      "5   109473.0    automatic     SUV       black     1.0  2019-01-07           68  \n",
      "6   147191.0    automatic     SUV        blue     1.0  2019-02-15           17  \n",
      "7   128413.0    automatic  pickup       black     1.0  2018-09-17           38  \n",
      "8   111142.0    automatic   sedan        grey     0.0  2019-03-28           29  \n",
      "9    22104.0    automatic   sedan      silver     0.0  2019-01-14           29  \n",
      "10  132285.0    automatic     SUV       black     1.0  2019-01-31           24  \n",
      "11  104230.0    automatic  pickup         red     1.0  2018-05-15          111  \n",
      "12  130725.0    automatic  pickup         red     1.0  2018-12-30           13  \n",
      "13  100669.0    automatic     SUV         red     1.0  2018-08-16           25  \n",
      "14  128325.0    automatic     SUV       white     1.0  2019-04-09           13  \n",
      "15   31932.0    automatic   sedan         red     0.0  2018-08-25           27  \n",
      "16  147485.0    automatic     SUV      silver     1.0  2018-08-05           28  \n",
      "17  180000.0    automatic   truck         red     1.0  2019-01-05           64  \n",
      "18  129000.0    automatic     SUV         red     1.0  2018-05-17           39  \n",
      "19  104230.0    automatic   sedan         red     0.0  2018-06-11           40  \n"
     ]
    }
   ],
   "source": [
    "#https://pastebin.com/GsHtB5AD \n",
    "#https://pastebin.com/eybCUXVi\n",
    "#https://pastebin.com/Nda6z8Jn\n",
    "#https://pastebin.com/sgPGdnrN\n",
    "#https://pastebin.com/6eA9hJCY\n",
    "#previous versions.\n",
    "\n",
    "#We'll operate under the assumption that the majority of them have outliers.\n",
    "print(crankshaft.corr())\n",
    "#Price and mileage correlate with the condition of a model.\n",
    "#The number of cylinders and year with its model\n",
    "\n",
    " \n",
    "#print(df['condition'].value_counts())\n",
    "list_of_conditions = list(dict(crankshaft['condition'].value_counts()))\n",
    "list_of_models = list(dict(crankshaft['model'].value_counts()))\n",
    "#print(list_of_unique_models)\n",
    " \n",
    "for condition in list_of_conditions:\n",
    "    price_median = crankshaft[crankshaft['condition'] == condition]['price'].median()\n",
    "    crankshaft.loc[(crankshaft['condition'] == condition) & (crankshaft['price'].isna() == True),'price'] = price_median\n",
    "    mileage_median = crankshaft[crankshaft['condition'] == condition]['odometer'].median()\n",
    "    crankshaft.loc[(crankshaft['condition'] == condition) & (crankshaft['odometer'].isna() == True),'odometer'] = mileage_median\n",
    " \n",
    "for model in list_of_models:\n",
    "    cylinder_median = crankshaft[crankshaft['model'] == model]['cylinders'].median()\n",
    "    crankshaft.loc[(crankshaft['model'] == model) & (crankshaft['cylinders'].isna() == True),'cylinders'] = cylinder_median\n",
    "    year_median = crankshaft[crankshaft['model'] == model]['model_year'].median()\n",
    "    crankshaft.loc[(crankshaft['model'] == model) & (crankshaft['model_year'].isna() == True),'model_year'] = year_median\n",
    " \n",
    "crankshaft['is_4wd'] = crankshaft['is_4wd'].fillna(0.0) #boolean fill\n",
    "crankshaft = crankshaft.dropna(subset=['paint_color']).reset_index(drop=True) \n",
    " \n",
    "print(crankshaft.head(20))"
   ]
  },
  {
   "cell_type": "markdown",
   "metadata": {},
   "source": [
    "More often than not (except for is_4wd and paint color), according to the correlation matrix, we can just make a median and put it in.\n",
    "\n",
    "Instead of doing extensive research on each model's paint color which could be anything, we'll just cut them out. Like the Gordian Knot. It seems NaN meets no on is_4wd. So we'll make it 0.0 and change type later."
   ]
  },
  {
   "cell_type": "markdown",
   "metadata": {},
   "source": [
    "## Fix data types"
   ]
  },
  {
   "cell_type": "markdown",
   "metadata": {},
   "source": [
    "[As the data is more or less complete now, fix the data types if required.]"
   ]
  },
  {
   "cell_type": "code",
   "execution_count": 10,
   "metadata": {
    "scrolled": true
   },
   "outputs": [],
   "source": [
    "#https://pastebin.com/kwMdK9k7\n",
    "crankshaft['model_year'] = crankshaft['model_year'].astype('int')\n",
    "crankshaft['cylinders'] = crankshaft['cylinders'].astype('int')\n",
    "crankshaft['odometer'] = crankshaft['odometer'].astype('int')\n",
    "\n",
    "def yes_no(value):\n",
    "    if value > 0.0:\n",
    "        return 'yes'\n",
    "    else:\n",
    "        return 'no'\n",
    "    \n",
    "crankshaft['is_4wd'] = crankshaft['is_4wd'].apply(yes_no)\n",
    "    \n",
    "def downsize(value):\n",
    "    value = value.lower()\n",
    "    return value\n",
    "\n",
    "crankshaft['type'] = crankshaft['type'].apply(downsize)"
   ]
  },
  {
   "cell_type": "markdown",
   "metadata": {},
   "source": [
    "Changed some things to int, they look better that way and most odometers don't have decimals, so it's better to assume they don't. I also changed the the 1's and 0's to yes and no in is_4wd and downsized the type; snake_case style."
   ]
  },
  {
   "cell_type": "markdown",
   "metadata": {},
   "source": [
    "## Enrich data"
   ]
  },
  {
   "cell_type": "markdown",
   "metadata": {},
   "source": [
    "[Add additional factors to the data to make the analysis easier.]"
   ]
  },
  {
   "cell_type": "code",
   "execution_count": 11,
   "metadata": {},
   "outputs": [],
   "source": [
    "# Add datetime values for when the ad was placed\n",
    "crankshaft['date_posted'] = pd.to_datetime(crankshaft['date_posted'], format='%Y-%m-%d')\n",
    "#crankshaft.info()"
   ]
  },
  {
   "cell_type": "code",
   "execution_count": 12,
   "metadata": {
    "scrolled": true
   },
   "outputs": [],
   "source": [
    "# Add the vehicle's age when the ad was placed\n",
    "#https://pastebin.com/AdfJt23x #notes\n",
    "#https://pastebin.com/4YYHqADy\n",
    "#https://pastebin.com/hrDdF8Kq\n",
    "\n",
    "crankshaft['model_year'] = pd.to_datetime(crankshaft['model_year'], format='%Y')\n",
    "crankshaft['model_year'] = crankshaft['model_year'].dt.year.astype(int)\n",
    "crankshaft['days_listed'] = pd.to_timedelta(crankshaft['days_listed'], unit='D') #https://stackoverflow.com/questions/34519536/convert-integer-series-to-timedelta-in-pandas\n",
    "crankshaft['current_date'] = crankshaft['date_posted'] + crankshaft['days_listed']\n",
    "crankshaft['days_listed'] = crankshaft['days_listed'].dt.days.astype('int')\n",
    "crankshaft['year_posted'] = crankshaft['current_date'].dt.year.astype(int) \n",
    "crankshaft['model_age'] = crankshaft['year_posted'] - crankshaft['model_year']\n",
    "crankshaft = crankshaft.drop(columns=['year_posted'])"
   ]
  },
  {
   "cell_type": "markdown",
   "metadata": {},
   "source": [
    "I changed model year to int. \n",
    "Year posted needs to be made to calculate age but I needed to get the current year first.\n",
    "I changed days listed to timedelta, add to current date:\n",
    "Then I changed this back to ints and dropped year posted because I didn't need it anymore.\n"
   ]
  },
  {
   "cell_type": "code",
   "execution_count": 13,
   "metadata": {
    "scrolled": true
   },
   "outputs": [],
   "source": [
    "# Add the vehicle's average mileage per year\n",
    "#https://pastebin.com/sRZU6p9a\n",
    "#https://pastebin.com/0zzcJRpe\n",
    "\n",
    "crankshaft['mileage_per_year'] = crankshaft['odometer'] / crankshaft['model_age'] + 1 #Most cars aren't brand new, but actually 1 year from rollout\n",
    "crankshaft['mileage_per_year'] = crankshaft['mileage_per_year'].replace(np.inf, np.nan).fillna(0.0).astype('int')"
   ]
  },
  {
   "cell_type": "markdown",
   "metadata": {},
   "source": [
    "To get mileage per year I divided odometer by model_age. Then, dividing by zero creates inf (infinite) values, so I replaced the inf values with NaNs then filled it."
   ]
  },
  {
   "cell_type": "code",
   "execution_count": 14,
   "metadata": {},
   "outputs": [],
   "source": [
    "# It might help to replace the condition values with something that can be manipulated more easily\n",
    "#notes https://pastebin.com/WEx6VAKs\n",
    "\n",
    "def five_star_grading(car): \n",
    "    if 'new' == car:\n",
    "        car = 5\n",
    "        return int(car)\n",
    "    if 'like new' == car: \n",
    "        car = 4\n",
    "        return int(car)\n",
    "    if 'excellent' == car:\n",
    "        car = 3\n",
    "        return int(car)\n",
    "    if 'good' == car:\n",
    "        car = 2\n",
    "        return int(car)\n",
    "    if 'fair' == car:\n",
    "        car = 1\n",
    "        return int(car)\n",
    "    if 'salvage' == car:\n",
    "        car = 0\n",
    "        return int(car)\n",
    "\n",
    "crankshaft['condition'] = crankshaft['condition'].apply(five_star_grading)"
   ]
  },
  {
   "cell_type": "markdown",
   "metadata": {},
   "source": [
    "## Check clean data"
   ]
  },
  {
   "cell_type": "markdown",
   "metadata": {},
   "source": [
    "[Given the data is ready for the analysis, take just another quick look at it. It is helpful to see what exactly you are going to use for the analysis.]"
   ]
  },
  {
   "cell_type": "code",
   "execution_count": 15,
   "metadata": {},
   "outputs": [
    {
     "name": "stdout",
     "output_type": "stream",
     "text": [
      "<class 'pandas.core.frame.DataFrame'>\n",
      "RangeIndex: 42258 entries, 0 to 42257\n",
      "Data columns (total 16 columns):\n",
      " #   Column            Non-Null Count  Dtype         \n",
      "---  ------            --------------  -----         \n",
      " 0   price             42258 non-null  float64       \n",
      " 1   model_year        42258 non-null  int64         \n",
      " 2   model             42258 non-null  object        \n",
      " 3   condition         42258 non-null  int64         \n",
      " 4   cylinders         42258 non-null  int64         \n",
      " 5   fuel              42258 non-null  object        \n",
      " 6   odometer          42258 non-null  int64         \n",
      " 7   transmission      42258 non-null  object        \n",
      " 8   type              42258 non-null  object        \n",
      " 9   paint_color       42258 non-null  object        \n",
      " 10  is_4wd            42258 non-null  object        \n",
      " 11  date_posted       42258 non-null  datetime64[ns]\n",
      " 12  days_listed       42258 non-null  int64         \n",
      " 13  current_date      42258 non-null  datetime64[ns]\n",
      " 14  model_age         42258 non-null  int64         \n",
      " 15  mileage_per_year  42258 non-null  int64         \n",
      "dtypes: datetime64[ns](2), float64(1), int64(7), object(6)\n",
      "memory usage: 5.2+ MB\n",
      "None\n",
      "\n",
      "<class 'pandas.core.frame.DataFrame'>\n",
      "RangeIndex: 51525 entries, 0 to 51524\n",
      "Data columns (total 13 columns):\n",
      " #   Column        Non-Null Count  Dtype  \n",
      "---  ------        --------------  -----  \n",
      " 0   price         51525 non-null  float64\n",
      " 1   model_year    51525 non-null  float64\n",
      " 2   model         51525 non-null  object \n",
      " 3   condition     51525 non-null  object \n",
      " 4   cylinders     51525 non-null  float64\n",
      " 5   fuel          51525 non-null  object \n",
      " 6   odometer      51525 non-null  float64\n",
      " 7   transmission  51525 non-null  object \n",
      " 8   type          51525 non-null  object \n",
      " 9   paint_color   42258 non-null  object \n",
      " 10  is_4wd        51525 non-null  float64\n",
      " 11  date_posted   51525 non-null  object \n",
      " 12  days_listed   51525 non-null  int64  \n",
      "dtypes: float64(5), int64(1), object(7)\n",
      "memory usage: 5.1+ MB\n",
      "None\n"
     ]
    }
   ],
   "source": [
    "# print the general/summary information about the DataFrame\n",
    "#https://pastebin.com/aJQwA6rb\n",
    "print(crankshaft.info())\n",
    "print()\n",
    "print(old_crankshaft.info())"
   ]
  },
  {
   "cell_type": "markdown",
   "metadata": {},
   "source": [
    "I removed missing with missing values, and filled is_4wd"
   ]
  },
  {
   "cell_type": "code",
   "execution_count": 16,
   "metadata": {},
   "outputs": [
    {
     "name": "stdout",
     "output_type": "stream",
     "text": [
      "     price  model_year                     model  condition  cylinders fuel  \\\n",
      "0  25500.0        2011                ford f-150          2          6  gas   \n",
      "1   5500.0        2013            hyundai sonata          4          4  gas   \n",
      "2  14900.0        2017              chrysler 200          3          4  gas   \n",
      "3  14990.0        2014              chrysler 300          3          6  gas   \n",
      "4  12990.0        2015              toyota camry          3          4  gas   \n",
      "5  15990.0        2013               honda pilot          3          6  gas   \n",
      "6   9200.0        2008               honda pilot          3          6  gas   \n",
      "7  19500.0        2011  chevrolet silverado 1500          3          8  gas   \n",
      "8   8990.0        2012              honda accord          3          4  gas   \n",
      "9  16500.0        2018            hyundai sonata          3          4  gas   \n",
      "\n",
      "   odometer transmission    type paint_color is_4wd date_posted  days_listed  \\\n",
      "0     88705    automatic  pickup       white    yes  2018-10-19           50   \n",
      "1    110000    automatic   sedan         red     no  2019-02-07           79   \n",
      "2     80903    automatic   sedan       black     no  2019-04-02           28   \n",
      "3     57954    automatic   sedan       black    yes  2018-06-20           15   \n",
      "4     79212    automatic   sedan       white     no  2018-12-27           73   \n",
      "5    109473    automatic     suv       black    yes  2019-01-07           68   \n",
      "6    147191    automatic     suv        blue    yes  2019-02-15           17   \n",
      "7    128413    automatic  pickup       black    yes  2018-09-17           38   \n",
      "8    111142    automatic   sedan        grey     no  2019-03-28           29   \n",
      "9     22104    automatic   sedan      silver     no  2019-01-14           29   \n",
      "\n",
      "  current_date  model_age  mileage_per_year  \n",
      "0   2018-12-08          7             12673  \n",
      "1   2019-04-27          6             18334  \n",
      "2   2019-04-30          2             40452  \n",
      "3   2018-07-05          4             14489  \n",
      "4   2019-03-10          4             19804  \n",
      "5   2019-03-16          6             18246  \n",
      "6   2019-03-04         11             13382  \n",
      "7   2018-10-25          7             18345  \n",
      "8   2019-04-26          7             15878  \n",
      "9   2019-02-12          1             22105  \n",
      "\n",
      "     price  model_year           model  condition  cylinders fuel  odometer  \\\n",
      "0   9400.0      2011.0          bmw x5       good        6.0  gas  145000.0   \n",
      "1  25500.0      2011.0      ford f-150       good        6.0  gas   88705.0   \n",
      "2   5500.0      2013.0  hyundai sonata   like new        4.0  gas  110000.0   \n",
      "3   1500.0      2003.0      ford f-150       fair        8.0  gas  181613.0   \n",
      "4  14900.0      2017.0    chrysler 200  excellent        4.0  gas   80903.0   \n",
      "5  14990.0      2014.0    chrysler 300  excellent        6.0  gas   57954.0   \n",
      "6  12990.0      2015.0    toyota camry  excellent        4.0  gas   79212.0   \n",
      "7  15990.0      2013.0     honda pilot  excellent        6.0  gas  109473.0   \n",
      "8  11500.0      2012.0     kia sorento  excellent        4.0  gas  104174.0   \n",
      "9   9200.0      2008.0     honda pilot  excellent        6.0  gas  147191.0   \n",
      "\n",
      "  transmission    type paint_color  is_4wd date_posted  days_listed  \n",
      "0    automatic     SUV         NaN     1.0  2018-06-23           19  \n",
      "1    automatic  pickup       white     1.0  2018-10-19           50  \n",
      "2    automatic   sedan         red     0.0  2019-02-07           79  \n",
      "3    automatic  pickup         NaN     0.0  2019-03-22            9  \n",
      "4    automatic   sedan       black     0.0  2019-04-02           28  \n",
      "5    automatic   sedan       black     1.0  2018-06-20           15  \n",
      "6    automatic   sedan       white     0.0  2018-12-27           73  \n",
      "7    automatic     SUV       black     1.0  2019-01-07           68  \n",
      "8    automatic     SUV         NaN     1.0  2018-07-16           19  \n",
      "9    automatic     SUV        blue     1.0  2019-02-15           17  \n"
     ]
    }
   ],
   "source": [
    "# print a sample of data\n",
    "#https://pastebin.com/gnKN58cG\n",
    "print(crankshaft.head(10))\n",
    "print()\n",
    "print(old_crankshaft.head(10))"
   ]
  },
  {
   "cell_type": "markdown",
   "metadata": {},
   "source": [
    "In summary, I removed missing with missing values, and filled is_4wd, and added mileage_per_year and model_age"
   ]
  },
  {
   "cell_type": "markdown",
   "metadata": {},
   "source": [
    "\n",
    "\n",
    "## Study core parameters\n",
    "\n",
    "[Choose an appropriate approach to study the parameters listed below, pay special attention to how outliers affect the form and readability of the histograms.]\n",
    "\n",
    "The parameters are\n",
    "- Price\n",
    "- The vehicle's age when the ad was placed\n",
    "- Mileage\n",
    "- Number of cylinders\n",
    "- Condition"
   ]
  },
  {
   "cell_type": "markdown",
   "metadata": {},
   "source": [
    "[If you find that you need to repeat the same jobs multiple times, think about what coding instrument might be helpful for such a thing to avoid duplicating your code.]"
   ]
  },
  {
   "cell_type": "code",
   "execution_count": 17,
   "metadata": {},
   "outputs": [
    {
     "data": {
      "image/png": "[encoded data removed]",
      "text/plain": [
       "<Figure size 432x288 with 1 Axes>"
      ]
     },
     "metadata": {
      "needs_background": "light"
     },
     "output_type": "display_data"
    },
    {
     "data": {
      "image/png": "[encoded data removed]",
      "text/plain": [
       "<Figure size 432x288 with 1 Axes>"
      ]
     },
     "metadata": {
      "needs_background": "light"
     },
     "output_type": "display_data"
    },
    {
     "data": {
      "image/png": "[encoded data removed]",
      "text/plain": [
       "<Figure size 432x288 with 1 Axes>"
      ]
     },
     "metadata": {
      "needs_background": "light"
     },
     "output_type": "display_data"
    },
    {
     "data": {
      "image/png": "[encoded data removed]",
      "text/plain": [
       "<Figure size 432x288 with 1 Axes>"
      ]
     },
     "metadata": {
      "needs_background": "light"
     },
     "output_type": "display_data"
    },
    {
     "data": {
      "image/png": "[encoded data removed]",
      "text/plain": [
       "<Figure size 432x288 with 1 Axes>"
      ]
     },
     "metadata": {
      "needs_background": "light"
     },
     "output_type": "display_data"
    },
    {
     "data": {
      "image/png": "[encoded data removed]",
      "text/plain": [
       "<Figure size 432x288 with 1 Axes>"
      ]
     },
     "metadata": {
      "needs_background": "light"
     },
     "output_type": "display_data"
    },
    {
     "data": {
      "image/png": "[encoded data removed]",
      "text/plain": [
       "<Figure size 432x288 with 1 Axes>"
      ]
     },
     "metadata": {
      "needs_background": "light"
     },
     "output_type": "display_data"
    },
    {
     "data": {
      "image/png": "[encoded data removed]",
      "text/plain": [
       "<Figure size 432x288 with 1 Axes>"
      ]
     },
     "metadata": {
      "needs_background": "light"
     },
     "output_type": "display_data"
    },
    {
     "data": {
      "image/png": "[encoded data removed]",
      "text/plain": [
       "<Figure size 432x288 with 1 Axes>"
      ]
     },
     "metadata": {
      "needs_background": "light"
     },
     "output_type": "display_data"
    },
    {
     "data": {
      "image/png": "[encoded data removed]",
      "text/plain": [
       "<Figure size 432x288 with 1 Axes>"
      ]
     },
     "metadata": {
      "needs_background": "light"
     },
     "output_type": "display_data"
    },
    {
     "data": {
      "image/png": "[encoded data removed]",
      "text/plain": [
       "<Figure size 432x288 with 1 Axes>"
      ]
     },
     "metadata": {
      "needs_background": "light"
     },
     "output_type": "display_data"
    },
    {
     "data": {
      "image/png": "[encoded data removed]",
      "text/plain": [
       "<Figure size 432x288 with 1 Axes>"
      ]
     },
     "metadata": {
      "needs_background": "light"
     },
     "output_type": "display_data"
    }
   ],
   "source": [
    "#notes\n",
    "#https://pastebin.com/TmyyY7fn\n",
    "#https://pastebin.com/uEiTcav7\n",
    "#https://pastebin.com/BCgwsVkn\n",
    "\n",
    "columns_to_use = ['price','model_age','odometer','cylinders','condition','mileage_per_year']\n",
    "\n",
    "\n",
    "def histomaker(a_list,df):\n",
    "    for column in a_list:\n",
    "        value_count = df[f\"{column}\"].value_counts()\n",
    "        #print(df[f\"{column}\"].describe()) #according to this majority of outliers are past Q3. \n",
    "        Q1 = df[f\"{column}\"].quantile(0.25)\n",
    "        Q3 = df[f\"{column}\"].quantile(0.75)\n",
    "        IQR = Q3 - Q1\n",
    "        max_of_column = df[f\"{column}\"].max()\n",
    "        min_of_column = df[f\"{column}\"].min()\n",
    "        df[f'{column}'].plot(range=(min_of_column,max_of_column),bins=100,kind='hist',grid=True,legend=True,title=f'{column} Raw Data')\n",
    "        plt.show()\n",
    "        df[f'{column}'].plot(range=(min_of_column,Q3),bins=100,kind='hist',grid=True,legend=True,title=f'{column} <= Q3')\n",
    "        plt.show()\n",
    "\n",
    "        \n",
    "        \n",
    "histomaker(columns_to_use,crankshaft)"
   ]
  },
  {
   "cell_type": "markdown",
   "metadata": {},
   "source": [
    "The majority of outliers are past Q3, around the max, with the exception of model_age having a minimum of 1908. The outliers make it harder to see the preferences buying frequency do to the range being stretched. But overall, removing outliers makes it much easier to read.\n"
   ]
  },
  {
   "cell_type": "markdown",
   "metadata": {},
   "source": [
    "## Study and treat outliers\n",
    "\n",
    "[Given the results above, determine what columns may contain outliers, and create a DataFrame without those outliers. Hint: Outliers can be identified by defining the lower/upper limits for normal range of values.]"
   ]
  },
  {
   "cell_type": "code",
   "execution_count": 18,
   "metadata": {},
   "outputs": [
    {
     "name": "stdout",
     "output_type": "stream",
     "text": [
      "We'll use boxplots to find where they group the most for outliers\n",
      "\n"
     ]
    },
    {
     "data": {
      "image/png": "[encoded data removed]",
      "text/plain": [
       "<Figure size 432x288 with 1 Axes>"
      ]
     },
     "metadata": {
      "needs_background": "light"
     },
     "output_type": "display_data"
    },
    {
     "data": {
      "image/png": "[encoded data removed]",
      "text/plain": [
       "<Figure size 432x288 with 1 Axes>"
      ]
     },
     "metadata": {
      "needs_background": "light"
     },
     "output_type": "display_data"
    },
    {
     "data": {
      "image/png": "[encoded data removed]",
      "text/plain": [
       "<Figure size 432x288 with 1 Axes>"
      ]
     },
     "metadata": {
      "needs_background": "light"
     },
     "output_type": "display_data"
    },
    {
     "data": {
      "image/png": "[encoded data removed]",
      "text/plain": [
       "<Figure size 432x288 with 1 Axes>"
      ]
     },
     "metadata": {
      "needs_background": "light"
     },
     "output_type": "display_data"
    },
    {
     "data": {
      "image/png": "[encoded data removed]",
      "text/plain": [
       "<Figure size 432x288 with 1 Axes>"
      ]
     },
     "metadata": {
      "needs_background": "light"
     },
     "output_type": "display_data"
    },
    {
     "data": {
      "image/png": "[encoded data removed]",
      "text/plain": [
       "<Figure size 432x288 with 1 Axes>"
      ]
     },
     "metadata": {
      "needs_background": "light"
     },
     "output_type": "display_data"
    }
   ],
   "source": [
    "# Determine the lower limits for outliers\n",
    "#https://pastebin.com/jfbGrQpz\n",
    "\n",
    "print(\"We'll use boxplots to find where they group the most for outliers\")\n",
    "print()\n",
    "\n",
    "def boxplot_this(a_list,df):\n",
    "    for column in a_list:\n",
    "        Q1 = df[f\"{column}\"].quantile(0.25) \n",
    "        Q3 = df[f\"{column}\"].quantile(0.75)\n",
    "        IQR = Q3 - Q1\n",
    "        max_of_column = df[f\"{column}\"].max()\n",
    "        min_of_column = df[f\"{column}\"].min()\n",
    "        #print(df[f'{column}'].describe()) #Not needed, but can be used for later\n",
    "        df.boxplot(column=f'{column}')\n",
    "        plt.hlines(y=Q1 - 1.5*IQR, xmin=0.9, xmax=1.1, color='red')\n",
    "        plt.hlines(y=Q3 + 1.5*IQR, xmin=0.9, xmax=1.1, color='red')\n",
    "        plt.ylim(min_of_column, Q3)\n",
    "        plt.title(f'{column} <= Q3')\n",
    "        plt.show()\n",
    "        \n",
    "\n",
    "boxplot_this(columns_to_use,crankshaft)\n",
    "\n",
    "# Lower limit for condition = 1, lower limit for cylinders = 4, lower limit for age = 0, for price = 1000 otherwise we're losing money, mileage = 0  \n"
   ]
  },
  {
   "cell_type": "code",
   "execution_count": 19,
   "metadata": {},
   "outputs": [],
   "source": [
    "# Determine the upper limits for outliers\n",
    "#Upper limit for condition = 4, upper limit for cylinders = 8, upper limit for age = 20, for price = 32000, mileage = 240000\n"
   ]
  },
  {
   "cell_type": "code",
   "execution_count": 20,
   "metadata": {},
   "outputs": [],
   "source": [
    "# Store data without outliers in a separate DataFrame\n",
    "#https://pastebin.com/6Fnvi4pK\n",
    "crank = crankshaft.query('(0 <= odometer <= 24000) and (0 <= odometer <= 24000) and (1000 <= price <= 32000) and (1000 <= price <= 32000) and (4 <= cylinders <= 8) and (1 <= condition <= 4)').reset_index(drop=True)"
   ]
  },
  {
   "cell_type": "markdown",
   "metadata": {},
   "source": [
    "I've set the lower limits for condition to be 1 because most people don't want to buy scrap. I set price to 1000 because I assume most people want at least 1000 for a car. I set most upper limits around Q3 because the majority of people want low to medium everything else besides condition."
   ]
  },
  {
   "cell_type": "markdown",
   "metadata": {},
   "source": [
    "## Study core parameters without outliers"
   ]
  },
  {
   "cell_type": "markdown",
   "metadata": {},
   "source": [
    "[Use the filtered data to make new plots. Compare with the earlier ones (that included outliers). Draw conclusions for each.]"
   ]
  },
  {
   "cell_type": "code",
   "execution_count": 21,
   "metadata": {},
   "outputs": [
    {
     "data": {
      "image/png": "[encoded data removed]",
      "text/plain": [
       "<Figure size 432x288 with 1 Axes>"
      ]
     },
     "metadata": {
      "needs_background": "light"
     },
     "output_type": "display_data"
    },
    {
     "data": {
      "image/png": "[encoded data removed]",
      "text/plain": [
       "<Figure size 432x288 with 1 Axes>"
      ]
     },
     "metadata": {
      "needs_background": "light"
     },
     "output_type": "display_data"
    },
    {
     "data": {
      "image/png": "[encoded data removed]",
      "text/plain": [
       "<Figure size 432x288 with 1 Axes>"
      ]
     },
     "metadata": {
      "needs_background": "light"
     },
     "output_type": "display_data"
    },
    {
     "data": {
      "image/png": "[encoded data removed]",
      "text/plain": [
       "<Figure size 432x288 with 1 Axes>"
      ]
     },
     "metadata": {
      "needs_background": "light"
     },
     "output_type": "display_data"
    },
    {
     "data": {
      "image/png": "[encoded data removed]",
      "text/plain": [
       "<Figure size 432x288 with 1 Axes>"
      ]
     },
     "metadata": {
      "needs_background": "light"
     },
     "output_type": "display_data"
    },
    {
     "data": {
      "image/png": "[encoded data removed]",
      "text/plain": [
       "<Figure size 432x288 with 1 Axes>"
      ]
     },
     "metadata": {
      "needs_background": "light"
     },
     "output_type": "display_data"
    },
    {
     "name": "stdout",
     "output_type": "stream",
     "text": [
      "AxesSubplot(0.125,0.125;0.775x0.755)\n"
     ]
    },
    {
     "data": {
      "text/plain": [
       "Text(0.5, 1.0, 'odometer under 100')"
      ]
     },
     "execution_count": 21,
     "metadata": {},
     "output_type": "execute_result"
    },
    {
     "data": {
      "image/png": "[encoded data removed]",
      "text/plain": [
       "<Figure size 432x288 with 1 Axes>"
      ]
     },
     "metadata": {
      "needs_background": "light"
     },
     "output_type": "display_data"
    }
   ],
   "source": [
    "#we changed the histomaker this time to read without outliers\n",
    "#https://pastebin.com/rnKf3Rf2\n",
    "\n",
    "def histomaker(a_list,df):\n",
    "    for column in a_list:\n",
    "        value_count = df[f\"{column}\"].value_counts()\n",
    "        max_of_column = df[f\"{column}\"].max()\n",
    "        min_of_column = df[f\"{column}\"].min()\n",
    "        df[f'{column}'].plot(range=(min_of_column,max_of_column),bins=100,kind='hist',grid=True,legend=True,title=f'crank {column} <= Q3')\n",
    "        plt.show()\n",
    "\n",
    "        \n",
    "\n",
    "histomaker(columns_to_use,crank)\n",
    "print(crank[crank['odometer']<100]['odometer'].hist(bins=100))\n",
    "plt.title('odometer under 100')"
   ]
  },
  {
   "cell_type": "markdown",
   "metadata": {},
   "source": [
    "According to most of the graphs, so far people prefer, in laymans terms a cheap, newer, with low mileage car. most cars in sold are new to 2 years old\n",
    "\n",
    "Majority of people buy between the price of 0-10000 on vehicles and 20000-30000.\n",
    "Most people buy 6 cylinders or 4 cylinders, and rarely 5 cylinders.\n",
    "Most cars are good or excelent.\n",
    "Majority buy brand new cars at a model_age of 0. As the model_age increases, the frequency of the car be being bought decreases. Even zoomed in 0 is the popular choice.\n",
    "Beyond 0 mileage, there is a drastic drop in the frequency of cars"
   ]
  },
  {
   "cell_type": "markdown",
   "metadata": {},
   "source": [
    "## Ads lifetime\n",
    "\n",
    "[Study how many days advertisements were displayed (`days_listed`). Calculate the mean and median. Describe the typical lifetime of an ad. Determine when ads were removed quickly, and when they were listed for an abnormally long time.]"
   ]
  },
  {
   "cell_type": "code",
   "execution_count": 22,
   "metadata": {},
   "outputs": [
    {
     "name": "stdout",
     "output_type": "stream",
     "text": [
      "AxesSubplot(0.125,0.125;0.775x0.755)\n",
      "\n",
      "mean would be 39 days\n",
      "median would be 33 days\n",
      "every ad above 80 days would be considered abnormally long\n",
      "every ad before 25 days would be considered removed quick\n",
      "average lifetime of ads are around 20-50 days\n"
     ]
    },
    {
     "data": {
      "image/png": "[encoded data removed]",
      "text/plain": [
       "<Figure size 432x288 with 1 Axes>"
      ]
     },
     "metadata": {
      "needs_background": "light"
     },
     "output_type": "display_data"
    }
   ],
   "source": [
    "\n",
    "just_ads = ['days_listed']\n",
    "#histomaker(just_ads,crank)\n",
    "crank_ads = crank.pivot_table(index='price',values='days_listed')\n",
    "Q1 = crank_ads['days_listed'].quantile(0.25) \n",
    "Q3 = crank_ads['days_listed'].quantile(0.75)\n",
    "IQR = Q3 - Q1\n",
    "print(crank_ads['days_listed'].plot(range=(crank_ads['days_listed'].min(),crank_ads['days_listed'].max()),bins=100,kind='hist',grid=True,title='Typical lifetime of an ad.'))\n",
    "print()\n",
    "print('mean would be 39 days')\n",
    "print('median would be 33 days')\n",
    "print('every ad above 80 days would be considered abnormally long')\n",
    "print('every ad before 25 days would be considered removed quick')\n",
    "print('average lifetime of ads are around 20-50 days')\n",
    "   \n",
    "    \n",
    "    \n",
    "    "
   ]
  },
  {
   "cell_type": "markdown",
   "metadata": {},
   "source": [
    "average lifetime of ads are around 20-50 days"
   ]
  },
  {
   "cell_type": "markdown",
   "metadata": {},
   "source": [
    "\n",
    "## Average price per each type of vehicle"
   ]
  },
  {
   "cell_type": "markdown",
   "metadata": {},
   "source": [
    "[Analyze the number of ads and the average price for each type of vehicle. Plot a graph showing the dependence of the number of ads on the vehicle type. Select the two types with the greatest number of ads.]"
   ]
  },
  {
   "cell_type": "code",
   "execution_count": 23,
   "metadata": {},
   "outputs": [
    {
     "name": "stdout",
     "output_type": "stream",
     "text": [
      "                  avg\n",
      "type                 \n",
      "bus          28990.00\n",
      "convertible  21683.27\n",
      "coupe        22410.86\n",
      "hatchback    10830.77\n",
      "mini-van     13968.82\n",
      "offroad      21040.00\n",
      "other        11235.45\n",
      "pickup       21259.89\n",
      "sedan        11248.32\n",
      "suv          14256.41\n",
      "truck        18846.26\n",
      "van          22732.50\n",
      "wagon        10961.27\n"
     ]
    },
    {
     "data": {
      "image/png": "[encoded data removed]",
      "text/plain": [
       "<Figure size 432x288 with 1 Axes>"
      ]
     },
     "metadata": {
      "needs_background": "light"
     },
     "output_type": "display_data"
    }
   ],
   "source": [
    "#https://pastebin.com/m9PiBqff notes\n",
    "crank_correlate = crank.pivot_table(index = 'type', values='price', aggfunc=['mean'])\n",
    "crank_correlate.columns = ['avg price']\n",
    "crank_correlate_ads = crank.pivot_table(index = 'type', values='price', aggfunc=['count'])\n",
    "crank_correlate.columns = ['avg']\n",
    "crank_correlate_ads.columns = ['amount_of_ads']\n",
    "crank_correlate_ads = crank_correlate_ads.sort_values(by='amount_of_ads',ascending=False)\n",
    "crank_correlate['avg'] = crank_correlate['avg'].round(decimals=2)\n",
    "crank_correlate_ads.plot(title='ads per type',y='amount_of_ads', kind='bar',grid=True).set_ylabel(\"amount_of_ads\")\n",
    "print(crank_correlate)"
   ]
  },
  {
   "cell_type": "markdown",
   "metadata": {},
   "source": [
    "Trucks and sedans have the most ads"
   ]
  },
  {
   "cell_type": "markdown",
   "metadata": {},
   "source": [
    "## Price factors"
   ]
  },
  {
   "cell_type": "markdown",
   "metadata": {},
   "source": [
    "[What factors impact the price most? Take each of the popular types you detected at the previous stage and study whether the price depends on age, mileage, condition, transmission type, and color. For categorical variables (transmission type and color), plot box-and-whisker charts, and create scatterplots for the rest. When analyzing categorical variables, note that the categories must have at least 50 ads; otherwise, their parameters won't be valid for analysis.]"
   ]
  },
  {
   "cell_type": "markdown",
   "metadata": {},
   "source": [
    "[Make use of correlation matrix and correlation plots]"
   ]
  },
  {
   "cell_type": "code",
   "execution_count": 24,
   "metadata": {},
   "outputs": [
    {
     "name": "stdout",
     "output_type": "stream",
     "text": [
      "\n",
      "Sedans\n",
      "\n",
      "                     price  model_year  condition  cylinders  odometer  \\\n",
      "price             1.000000    0.716581   0.482081  -0.158107  0.598407   \n",
      "model_year        0.716581    1.000000   0.479869  -0.407104  0.537990   \n",
      "condition         0.482081    0.479869   1.000000  -0.226820  0.273373   \n",
      "cylinders        -0.158107   -0.407104  -0.226820   1.000000 -0.311226   \n",
      "odometer          0.598407    0.537990   0.273373  -0.311226  1.000000   \n",
      "days_listed      -0.069850   -0.062986   0.062279   0.012239 -0.085419   \n",
      "model_age        -0.712861   -0.997221  -0.483372   0.404630 -0.534864   \n",
      "mileage_per_year  0.423198    0.423327   0.191024  -0.150286  0.616125   \n",
      "\n",
      "                  days_listed  model_age  mileage_per_year  \n",
      "price               -0.069850  -0.712861          0.423198  \n",
      "model_year          -0.062986  -0.997221          0.423327  \n",
      "condition            0.062279  -0.483372          0.191024  \n",
      "cylinders            0.012239   0.404630         -0.150286  \n",
      "odometer            -0.085419  -0.534864          0.616125  \n",
      "days_listed          1.000000   0.079591         -0.005375  \n",
      "model_age            0.079591   1.000000         -0.416299  \n",
      "mileage_per_year    -0.005375  -0.416299          1.000000  \n",
      "\n"
     ]
    },
    {
     "data": {
      "image/png": "[encoded data removed]",
      "text/plain": [
       "<Figure size 720x720 with 1 Axes>"
      ]
     },
     "metadata": {
      "needs_background": "light"
     },
     "output_type": "display_data"
    },
    {
     "data": {
      "image/png": "[encoded data removed]",
      "text/plain": [
       "<Figure size 720x720 with 1 Axes>"
      ]
     },
     "metadata": {
      "needs_background": "light"
     },
     "output_type": "display_data"
    },
    {
     "data": {
      "image/png": "[encoded data removed]",
      "text/plain": [
       "<Figure size 720x720 with 1 Axes>"
      ]
     },
     "metadata": {
      "needs_background": "light"
     },
     "output_type": "display_data"
    },
    {
     "data": {
      "image/png": "[encoded data removed]",
      "text/plain": [
       "<Figure size 720x720 with 1 Axes>"
      ]
     },
     "metadata": {
      "needs_background": "light"
     },
     "output_type": "display_data"
    },
    {
     "data": {
      "image/png": "[encoded data removed]",
      "text/plain": [
       "<Figure size 720x720 with 1 Axes>"
      ]
     },
     "metadata": {
      "needs_background": "light"
     },
     "output_type": "display_data"
    },
    {
     "name": "stdout",
     "output_type": "stream",
     "text": [
      "\n",
      "Suvs\n",
      "\n",
      "                     price  model_year  condition  cylinders  odometer  \\\n",
      "price             1.000000    0.390066   0.331343   0.153326  0.398613   \n",
      "model_year        0.390066    1.000000   0.248288  -0.288689  0.333406   \n",
      "condition         0.331343    0.248288   1.000000   0.006750  0.148576   \n",
      "cylinders         0.153326   -0.288689   0.006750   1.000000 -0.084440   \n",
      "odometer          0.398613    0.333406   0.148576  -0.084440  1.000000   \n",
      "days_listed       0.087114   -0.000573   0.081568   0.043236  0.088604   \n",
      "model_age        -0.382212   -0.997162  -0.243095   0.289137 -0.330702   \n",
      "mileage_per_year  0.256450    0.303826   0.113791  -0.086653  0.641486   \n",
      "\n",
      "                  days_listed  model_age  mileage_per_year  \n",
      "price                0.087114  -0.382212          0.256450  \n",
      "model_year          -0.000573  -0.997162          0.303826  \n",
      "condition            0.081568  -0.243095          0.113791  \n",
      "cylinders            0.043236   0.289137         -0.086653  \n",
      "odometer             0.088604  -0.330702          0.641486  \n",
      "days_listed          1.000000   0.010190          0.006380  \n",
      "model_age            0.010190   1.000000         -0.294425  \n",
      "mileage_per_year     0.006380  -0.294425          1.000000  \n",
      "\n"
     ]
    },
    {
     "data": {
      "image/png": "[encoded data removed]",
      "text/plain": [
       "<Figure size 720x720 with 1 Axes>"
      ]
     },
     "metadata": {
      "needs_background": "light"
     },
     "output_type": "display_data"
    },
    {
     "data": {
      "image/png": "[encoded data removed]",
      "text/plain": [
       "<Figure size 720x720 with 1 Axes>"
      ]
     },
     "metadata": {
      "needs_background": "light"
     },
     "output_type": "display_data"
    },
    {
     "data": {
      "image/png": "[encoded data removed]",
      "text/plain": [
       "<Figure size 720x720 with 1 Axes>"
      ]
     },
     "metadata": {
      "needs_background": "light"
     },
     "output_type": "display_data"
    },
    {
     "data": {
      "image/png": "[encoded data removed]",
      "text/plain": [
       "<Figure size 720x720 with 1 Axes>"
      ]
     },
     "metadata": {
      "needs_background": "light"
     },
     "output_type": "display_data"
    },
    {
     "data": {
      "image/png": "[encoded data removed]",
      "text/plain": [
       "<Figure size 720x720 with 1 Axes>"
      ]
     },
     "metadata": {
      "needs_background": "light"
     },
     "output_type": "display_data"
    }
   ],
   "source": [
    "#https://pastebin.com/bWtCQHkQ notes\n",
    "#https://pastebin.com/sQNq3cuZ\n",
    "#https://pastebin.com/7VdKkL9Y\n",
    "\n",
    "#https://pastebin.com/bWtCQHkQ notes\n",
    "#https://pastebin.com/sQNq3cuZ\n",
    "#https://pastebin.com/7VdKkL9Y\n",
    "#https://pastebin.com/7bcHnBFD #50 TOTAL BY CATEGORY, NOT PER VALUE IN VALUE COUNT\n",
    " \n",
    "just_sedan = crank.query('type == \"suv\"').reset_index(drop=True) #this \n",
    "just_suv = crank.query('type == \"sedan\"').reset_index(drop=True)\n",
    "suv_transmissions = dict(just_suv['transmission'].value_counts())\n",
    "sedan_transmissions = dict(just_sedan['transmission'].value_counts())\n",
    "\n",
    "suv_paint_colors = dict(just_suv['paint_color'].value_counts())\n",
    "sedan_paint_colors = dict(just_sedan['paint_color'].value_counts())\n",
    " \n",
    "def box_pivoter(table,index_column,values_column='price'):\n",
    "    #print(table[index_column].value_counts())\n",
    "    table.boxplot(column=values_column, by=index_column, figsize=(10,10))\n",
    "    Q1 = table[values_column].quantile(0.25) #Quartiles\n",
    "    Q3 = table[values_column].quantile(0.75)\n",
    "    IQR = Q3 - Q1\n",
    "    plt.title(f'Correlation between {index_column} and {values_column}')\n",
    "    plt.hlines(y=Q3 + 1.5*IQR, xmin=0.9, xmax=1.1, color='red')\n",
    "    plt.hlines(y=Q1 - 1.5*IQR, xmin=0.9, xmax=1.1, color='red')  \n",
    "    plt.show()\n",
    " \n",
    " \n",
    "def scatter_pivot(table,index_column,values_column='price'):\n",
    "    table[values_column] = table[values_column].round(decimals=2)\n",
    "    table.plot(x=index_column, y=values_column, kind='scatter', alpha=0.3, grid=True, figsize=(10,10), title=f'{index_column} by {values_column}')\n",
    "    plt.show()\n",
    " \n",
    " \n",
    "def scatter_or_box(df):\n",
    "    df_column_list = ['price', 'model_age','condition','odometer','transmission','paint_color']\n",
    "    #print(df_column_list)\n",
    "    for column in df_column_list:\n",
    "        if column != 'price':\n",
    "            if column == 'paint_color' or column == 'transmission':\n",
    "                box_pivoter(df, column, df_column_list[0])\n",
    "            else:\n",
    "                scatter_pivot(df, column, df_column_list[0])\n",
    " \n",
    "print()                \n",
    "print('Sedans')\n",
    "print()         \n",
    "print(just_sedan.corr())\n",
    "print() \n",
    "scatter_or_box(just_sedan)\n",
    "print() \n",
    "print('Suvs')\n",
    "print()   \n",
    "print(just_suv.corr())\n",
    "print() \n",
    "scatter_or_box(just_suv)"
   ]
  },
  {
   "cell_type": "markdown",
   "metadata": {},
   "source": [
    "There is a clear correlation between price and model_age. There is a clear correlation between price and condition. There is a clear correlation between price and odometer. We need a new table for transmission and price. We need to change the columns and round price. The categories must have at least 50 ads, so only automatic transmissions are left after dropping them. Price drops off as models get older. Cars are less expensive with less mileage, likely due to needing extensive tuneups or trips to the mechanic. Only automatic transmission has ads above 50. Black and White cars cost the most.   "
   ]
  },
  {
   "cell_type": "markdown",
   "metadata": {},
   "source": [
    "## General conclusion\n",
    "\n",
    "[List your important conclusions in this final section, make sure they include those that led you to the way you processed and analyzed the data. Cover the missing values, duplicates, outliers and possible reasons and solutions for problematic artifacts that you had to address. Don't forget to remove all bracketed comments before submitting your project.]"
   ]
  },
  {
   "cell_type": "markdown",
   "metadata": {},
   "source": [
    "Price of cars tends to decrease over time. However, car prices tend to be higher, as long as the condition is good or higher, has zero mileage, automatic transmission over manual or other, and is black and white over color."
   ]
  },
  {
   "cell_type": "markdown",
   "metadata": {},
   "source": []
  }
 ],
 "metadata": {
  "ExecuteTimeLog": [
   {
    "duration": 828,
    "start_time": "2021-11-16T09:21:11.304Z"
   },
   {
    "duration": 893,
    "start_time": "2021-11-16T09:21:17.728Z"
   },
   {
    "duration": 1150,
    "start_time": "2021-11-16T09:21:29.568Z"
   },
   {
    "duration": 3,
    "start_time": "2021-11-16T09:24:14.495Z"
   },
   {
    "duration": 120,
    "start_time": "2021-11-16T09:24:46.630Z"
   },
   {
    "duration": 3,
    "start_time": "2021-11-16T09:28:27.882Z"
   },
   {
    "duration": 4,
    "start_time": "2021-11-16T09:29:54.281Z"
   },
   {
    "duration": 3,
    "start_time": "2021-11-16T09:30:45.936Z"
   },
   {
    "duration": 4,
    "start_time": "2021-11-16T09:31:06.300Z"
   },
   {
    "duration": 113,
    "start_time": "2021-11-16T09:31:37.208Z"
   },
   {
    "duration": 143,
    "start_time": "2021-11-16T09:31:48.656Z"
   },
   {
    "duration": 98,
    "start_time": "2021-11-16T09:31:55.678Z"
   },
   {
    "duration": 3,
    "start_time": "2021-11-16T09:32:08.535Z"
   },
   {
    "duration": 111,
    "start_time": "2021-11-16T09:32:10.120Z"
   },
   {
    "duration": 3,
    "start_time": "2021-11-16T09:32:15.732Z"
   },
   {
    "duration": 4,
    "start_time": "2021-11-16T09:32:29.423Z"
   },
   {
    "duration": 3,
    "start_time": "2021-11-16T10:03:03.074Z"
   },
   {
    "duration": 3,
    "start_time": "2021-11-16T10:10:01.288Z"
   },
   {
    "duration": 3,
    "start_time": "2021-11-16T10:10:46.923Z"
   },
   {
    "duration": 121,
    "start_time": "2021-11-16T10:37:46.494Z"
   },
   {
    "duration": 125,
    "start_time": "2021-11-16T10:38:20.632Z"
   },
   {
    "duration": 112,
    "start_time": "2021-11-16T10:46:53.001Z"
   },
   {
    "duration": 110,
    "start_time": "2021-11-16T10:48:25.775Z"
   },
   {
    "duration": 3,
    "start_time": "2021-11-16T10:50:18.720Z"
   },
   {
    "duration": 4,
    "start_time": "2021-11-16T10:50:37.649Z"
   },
   {
    "duration": 2,
    "start_time": "2021-11-16T10:50:51.884Z"
   },
   {
    "duration": 3,
    "start_time": "2021-11-16T10:51:56.237Z"
   },
   {
    "duration": 101,
    "start_time": "2021-11-16T10:53:13.791Z"
   },
   {
    "duration": 3,
    "start_time": "2021-11-16T10:55:59.186Z"
   },
   {
    "duration": 3,
    "start_time": "2021-11-16T10:56:10.751Z"
   },
   {
    "duration": 3,
    "start_time": "2021-11-16T10:56:49.038Z"
   },
   {
    "duration": 3,
    "start_time": "2021-11-16T10:56:49.174Z"
   },
   {
    "duration": 4,
    "start_time": "2021-11-16T10:56:49.414Z"
   },
   {
    "duration": 3,
    "start_time": "2021-11-16T10:56:49.680Z"
   },
   {
    "duration": 3,
    "start_time": "2021-11-16T10:56:50.370Z"
   },
   {
    "duration": 114,
    "start_time": "2021-11-16T10:59:34.518Z"
   },
   {
    "duration": 3,
    "start_time": "2021-11-16T11:01:41.201Z"
   },
   {
    "duration": 116,
    "start_time": "2021-11-16T11:01:48.754Z"
   },
   {
    "duration": 3,
    "start_time": "2021-11-16T11:02:16.685Z"
   },
   {
    "duration": 3,
    "start_time": "2021-11-16T11:02:19.479Z"
   },
   {
    "duration": 3,
    "start_time": "2021-11-16T11:02:47.067Z"
   },
   {
    "duration": 3,
    "start_time": "2021-11-16T11:02:49.353Z"
   },
   {
    "duration": 3,
    "start_time": "2021-11-16T11:03:07.835Z"
   },
   {
    "duration": 3,
    "start_time": "2021-11-16T11:03:07.953Z"
   },
   {
    "duration": 112,
    "start_time": "2021-11-16T11:07:52.072Z"
   },
   {
    "duration": 187,
    "start_time": "2021-11-16T11:09:23.468Z"
   },
   {
    "duration": 4,
    "start_time": "2021-11-16T11:10:01.455Z"
   },
   {
    "duration": 3,
    "start_time": "2021-11-16T11:10:05.069Z"
   },
   {
    "duration": 4,
    "start_time": "2021-11-16T11:10:13.376Z"
   },
   {
    "duration": 3,
    "start_time": "2021-11-16T11:10:14.434Z"
   },
   {
    "duration": 3,
    "start_time": "2021-11-16T11:10:22.853Z"
   },
   {
    "duration": 4,
    "start_time": "2021-11-16T11:27:29.279Z"
   },
   {
    "duration": 4,
    "start_time": "2021-11-16T11:29:08.919Z"
   },
   {
    "duration": 118,
    "start_time": "2021-11-16T11:29:46.703Z"
   },
   {
    "duration": 437,
    "start_time": "2021-11-16T11:36:02.181Z"
   },
   {
    "duration": 157,
    "start_time": "2021-11-16T11:36:14.388Z"
   },
   {
    "duration": 207,
    "start_time": "2021-11-16T11:47:15.898Z"
   },
   {
    "duration": 3,
    "start_time": "2021-11-16T11:53:52.092Z"
   },
   {
    "duration": 3,
    "start_time": "2021-11-16T11:53:52.236Z"
   },
   {
    "duration": 3,
    "start_time": "2021-11-16T11:59:12.005Z"
   },
   {
    "duration": 112,
    "start_time": "2021-11-16T12:00:33.446Z"
   },
   {
    "duration": 3,
    "start_time": "2021-11-16T12:02:14.453Z"
   },
   {
    "duration": 3,
    "start_time": "2021-11-16T12:02:39.512Z"
   },
   {
    "duration": 106,
    "start_time": "2021-11-16T12:03:03.460Z"
   },
   {
    "duration": 775,
    "start_time": "2022-03-08T03:17:44.526Z"
   },
   {
    "duration": 124,
    "start_time": "2022-03-08T03:17:46.525Z"
   },
   {
    "duration": 25,
    "start_time": "2022-03-08T03:18:20.373Z"
   },
   {
    "duration": 61,
    "start_time": "2022-03-08T03:20:19.834Z"
   },
   {
    "duration": 24,
    "start_time": "2022-03-08T03:20:24.933Z"
   },
   {
    "duration": 20,
    "start_time": "2022-03-08T03:20:38.594Z"
   },
   {
    "duration": 23,
    "start_time": "2022-03-08T03:20:43.027Z"
   },
   {
    "duration": 112,
    "start_time": "2022-03-08T03:23:29.454Z"
   },
   {
    "duration": 3,
    "start_time": "2022-03-08T03:23:56.019Z"
   },
   {
    "duration": 4,
    "start_time": "2022-03-08T03:26:20.884Z"
   },
   {
    "duration": 3,
    "start_time": "2022-03-08T03:26:31.891Z"
   },
   {
    "duration": 36,
    "start_time": "2022-03-08T03:27:25.393Z"
   },
   {
    "duration": 955,
    "start_time": "2022-03-08T03:28:04.650Z"
   },
   {
    "duration": 34,
    "start_time": "2022-03-08T03:28:06.881Z"
   },
   {
    "duration": 7,
    "start_time": "2022-03-08T03:28:15.824Z"
   },
   {
    "duration": 10,
    "start_time": "2022-03-08T03:28:21.519Z"
   },
   {
    "duration": 954,
    "start_time": "2022-03-08T03:29:18.893Z"
   },
   {
    "duration": 6251,
    "start_time": "2022-03-08T03:30:02.736Z"
   },
   {
    "duration": 808,
    "start_time": "2022-03-08T03:30:34.123Z"
   },
   {
    "duration": 9,
    "start_time": "2022-03-08T03:30:45.072Z"
   },
   {
    "duration": 8,
    "start_time": "2022-03-08T03:31:08.498Z"
   },
   {
    "duration": 8,
    "start_time": "2022-03-08T03:31:16.384Z"
   },
   {
    "duration": 24,
    "start_time": "2022-03-08T03:32:18.063Z"
   },
   {
    "duration": 39,
    "start_time": "2022-03-08T03:32:27.618Z"
   },
   {
    "duration": 341,
    "start_time": "2022-03-08T03:32:34.639Z"
   },
   {
    "duration": 24,
    "start_time": "2022-03-08T03:32:47.454Z"
   },
   {
    "duration": 346,
    "start_time": "2022-03-08T03:32:56.047Z"
   },
   {
    "duration": 42,
    "start_time": "2022-03-08T03:33:02.046Z"
   },
   {
    "duration": 334,
    "start_time": "2022-03-08T03:33:08.096Z"
   },
   {
    "duration": 12,
    "start_time": "2022-03-08T03:33:15.262Z"
   },
   {
    "duration": 9,
    "start_time": "2022-03-08T03:33:23.629Z"
   },
   {
    "duration": 14,
    "start_time": "2022-03-08T03:33:51.855Z"
   },
   {
    "duration": 19,
    "start_time": "2022-03-08T03:35:15.439Z"
   },
   {
    "duration": 190,
    "start_time": "2022-03-08T03:35:26.701Z"
   },
   {
    "duration": 20,
    "start_time": "2022-03-08T03:35:29.529Z"
   },
   {
    "duration": 19,
    "start_time": "2022-03-08T03:35:37.164Z"
   },
   {
    "duration": 19,
    "start_time": "2022-03-08T03:35:46.608Z"
   },
   {
    "duration": 23,
    "start_time": "2022-03-08T03:36:13.437Z"
   },
   {
    "duration": 19,
    "start_time": "2022-03-08T03:36:22.301Z"
   },
   {
    "duration": 20,
    "start_time": "2022-03-08T03:41:13.232Z"
   },
   {
    "duration": 1247,
    "start_time": "2022-03-08T03:41:43.195Z"
   },
   {
    "duration": 10737,
    "start_time": "2022-03-08T03:42:27.326Z"
   },
   {
    "duration": 21,
    "start_time": "2022-03-08T03:42:38.970Z"
   },
   {
    "duration": 22,
    "start_time": "2022-03-08T03:42:48.431Z"
   },
   {
    "duration": 84,
    "start_time": "2022-03-08T03:43:55.020Z"
   },
   {
    "duration": 157,
    "start_time": "2022-03-08T03:44:26.557Z"
   },
   {
    "duration": 152,
    "start_time": "2022-03-08T03:44:48.189Z"
   },
   {
    "duration": 148,
    "start_time": "2022-03-08T03:44:56.026Z"
   },
   {
    "duration": 149,
    "start_time": "2022-03-08T03:45:14.185Z"
   },
   {
    "duration": 121,
    "start_time": "2022-03-08T03:45:17.403Z"
   },
   {
    "duration": 23,
    "start_time": "2022-03-08T03:45:28.857Z"
   },
   {
    "duration": 22,
    "start_time": "2022-03-08T03:45:36.233Z"
   },
   {
    "duration": 347,
    "start_time": "2022-03-08T03:45:43.368Z"
   },
   {
    "duration": 22,
    "start_time": "2022-03-08T03:45:55.034Z"
   },
   {
    "duration": 10,
    "start_time": "2022-03-08T03:46:06.297Z"
   },
   {
    "duration": 9,
    "start_time": "2022-03-08T03:46:30.393Z"
   },
   {
    "duration": 367,
    "start_time": "2022-03-08T03:46:37.898Z"
   },
   {
    "duration": 17,
    "start_time": "2022-03-08T03:46:44.074Z"
   },
   {
    "duration": 16,
    "start_time": "2022-03-08T03:47:03.128Z"
   },
   {
    "duration": 24,
    "start_time": "2022-03-08T03:47:19.658Z"
   },
   {
    "duration": 21,
    "start_time": "2022-03-08T03:48:06.840Z"
   },
   {
    "duration": 47,
    "start_time": "2022-03-08T03:48:59.800Z"
   },
   {
    "duration": 64,
    "start_time": "2022-03-08T03:49:28.568Z"
   },
   {
    "duration": 60,
    "start_time": "2022-03-08T03:49:42.488Z"
   },
   {
    "duration": 52,
    "start_time": "2022-03-08T03:50:08.665Z"
   },
   {
    "duration": 366,
    "start_time": "2022-03-08T03:51:45.832Z"
   },
   {
    "duration": 48,
    "start_time": "2022-03-08T03:51:53.687Z"
   },
   {
    "duration": 47,
    "start_time": "2022-03-08T03:52:18.777Z"
   },
   {
    "duration": 47,
    "start_time": "2022-03-08T03:52:25.895Z"
   },
   {
    "duration": 47,
    "start_time": "2022-03-08T03:52:51.479Z"
   },
   {
    "duration": 20,
    "start_time": "2022-03-08T03:52:57.383Z"
   },
   {
    "duration": 55,
    "start_time": "2022-03-08T03:53:01.878Z"
   },
   {
    "duration": 46,
    "start_time": "2022-03-08T03:53:51.352Z"
   },
   {
    "duration": 46,
    "start_time": "2022-03-08T03:54:15.847Z"
   },
   {
    "duration": 19,
    "start_time": "2022-03-08T03:54:21.718Z"
   },
   {
    "duration": 23,
    "start_time": "2022-03-08T03:54:32.566Z"
   },
   {
    "duration": 23,
    "start_time": "2022-03-08T03:54:40.470Z"
   },
   {
    "duration": 23,
    "start_time": "2022-03-08T03:54:43.797Z"
   },
   {
    "duration": 24,
    "start_time": "2022-03-08T03:54:50.053Z"
   },
   {
    "duration": 26,
    "start_time": "2022-03-08T03:55:58.567Z"
   },
   {
    "duration": 26,
    "start_time": "2022-03-08T03:56:10.374Z"
   },
   {
    "duration": 11,
    "start_time": "2022-03-08T03:56:18.117Z"
   },
   {
    "duration": 19,
    "start_time": "2022-03-08T03:56:28.453Z"
   },
   {
    "duration": 19,
    "start_time": "2022-03-08T03:56:47.494Z"
   },
   {
    "duration": 11,
    "start_time": "2022-03-08T03:56:57.765Z"
   },
   {
    "duration": 10,
    "start_time": "2022-03-08T03:57:08.524Z"
   },
   {
    "duration": 10,
    "start_time": "2022-03-08T03:57:20.087Z"
   },
   {
    "duration": 10,
    "start_time": "2022-03-08T03:57:44.182Z"
   },
   {
    "duration": 12,
    "start_time": "2022-03-08T03:57:51.924Z"
   },
   {
    "duration": 347,
    "start_time": "2022-03-08T03:58:05.095Z"
   },
   {
    "duration": 12,
    "start_time": "2022-03-08T03:58:13.622Z"
   },
   {
    "duration": 15,
    "start_time": "2022-03-08T03:58:56.261Z"
   },
   {
    "duration": 17,
    "start_time": "2022-03-08T03:59:06.484Z"
   },
   {
    "duration": 21,
    "start_time": "2022-03-08T03:59:32.246Z"
   },
   {
    "duration": 28,
    "start_time": "2022-03-08T03:59:41.332Z"
   },
   {
    "duration": 20,
    "start_time": "2022-03-08T03:59:48.443Z"
   },
   {
    "duration": 19,
    "start_time": "2022-03-08T03:59:53.415Z"
   },
   {
    "duration": 19,
    "start_time": "2022-03-08T04:01:13.410Z"
   },
   {
    "duration": 19,
    "start_time": "2022-03-08T04:01:22.663Z"
   },
   {
    "duration": 24,
    "start_time": "2022-03-08T04:01:35.331Z"
   },
   {
    "duration": 23,
    "start_time": "2022-03-08T04:01:41.988Z"
   },
   {
    "duration": 23,
    "start_time": "2022-03-08T04:01:47.447Z"
   },
   {
    "duration": 27,
    "start_time": "2022-03-08T04:02:42.005Z"
   },
   {
    "duration": 20,
    "start_time": "2022-03-08T04:02:51.346Z"
   },
   {
    "duration": 22,
    "start_time": "2022-03-08T04:03:01.827Z"
   },
   {
    "duration": 37,
    "start_time": "2022-03-08T04:03:21.784Z"
   },
   {
    "duration": 37,
    "start_time": "2022-03-08T04:05:00.194Z"
   },
   {
    "duration": 48,
    "start_time": "2022-03-08T04:05:45.811Z"
   },
   {
    "duration": 48,
    "start_time": "2022-03-08T04:05:59.426Z"
   },
   {
    "duration": 46,
    "start_time": "2022-03-08T04:08:30.497Z"
   },
   {
    "duration": 48,
    "start_time": "2022-03-08T04:08:45.711Z"
   },
   {
    "duration": 48,
    "start_time": "2022-03-08T04:08:57.440Z"
   },
   {
    "duration": 50,
    "start_time": "2022-03-08T04:09:10.096Z"
   },
   {
    "duration": 47,
    "start_time": "2022-03-08T04:09:23.760Z"
   },
   {
    "duration": 58,
    "start_time": "2022-03-08T04:09:35.664Z"
   },
   {
    "duration": 59,
    "start_time": "2022-03-08T04:10:19.504Z"
   },
   {
    "duration": 42,
    "start_time": "2022-03-08T04:10:32.959Z"
   },
   {
    "duration": 43,
    "start_time": "2022-03-08T04:10:36.783Z"
   },
   {
    "duration": 44,
    "start_time": "2022-03-08T04:10:48.354Z"
   },
   {
    "duration": 28,
    "start_time": "2022-03-08T04:11:03.455Z"
   },
   {
    "duration": 30,
    "start_time": "2022-03-08T04:12:00.993Z"
   },
   {
    "duration": 39,
    "start_time": "2022-03-08T04:13:26.486Z"
   },
   {
    "duration": 48,
    "start_time": "2022-03-08T04:13:51.462Z"
   },
   {
    "duration": 50,
    "start_time": "2022-03-08T04:13:59.297Z"
   },
   {
    "duration": 53,
    "start_time": "2022-03-08T04:14:05.871Z"
   },
   {
    "duration": 382,
    "start_time": "2022-03-08T04:14:55.520Z"
   },
   {
    "duration": 379,
    "start_time": "2022-03-08T04:15:17.759Z"
   },
   {
    "duration": 47,
    "start_time": "2022-03-08T04:15:34.864Z"
   },
   {
    "duration": 26,
    "start_time": "2022-03-08T04:15:58.241Z"
   },
   {
    "duration": 28,
    "start_time": "2022-03-08T04:16:01.358Z"
   },
   {
    "duration": 433,
    "start_time": "2022-03-08T04:18:36.253Z"
   },
   {
    "duration": 28,
    "start_time": "2022-03-08T04:19:22.847Z"
   },
   {
    "duration": 28,
    "start_time": "2022-03-08T04:19:28.223Z"
   },
   {
    "duration": 109,
    "start_time": "2022-03-08T04:19:51.852Z"
   },
   {
    "duration": 30,
    "start_time": "2022-03-08T04:20:04.419Z"
   },
   {
    "duration": 28,
    "start_time": "2022-03-08T04:20:11.306Z"
   },
   {
    "duration": 138,
    "start_time": "2022-03-08T04:22:54.668Z"
   },
   {
    "duration": 54,
    "start_time": "2022-03-08T04:23:35.692Z"
   },
   {
    "duration": 49,
    "start_time": "2022-03-08T04:24:02.762Z"
   },
   {
    "duration": 50,
    "start_time": "2022-03-08T04:24:18.132Z"
   },
   {
    "duration": 59,
    "start_time": "2022-03-08T04:24:22.940Z"
   },
   {
    "duration": 53,
    "start_time": "2022-03-08T04:24:51.098Z"
   },
   {
    "duration": 54,
    "start_time": "2022-03-08T04:25:01.380Z"
   },
   {
    "duration": 50,
    "start_time": "2022-03-08T04:25:19.131Z"
   },
   {
    "duration": 50,
    "start_time": "2022-03-08T04:26:11.976Z"
   },
   {
    "duration": 51,
    "start_time": "2022-03-08T04:26:49.852Z"
   },
   {
    "duration": 49,
    "start_time": "2022-03-08T04:27:03.738Z"
   },
   {
    "duration": 51,
    "start_time": "2022-03-08T04:27:33.545Z"
   },
   {
    "duration": 50,
    "start_time": "2022-03-08T04:27:44.683Z"
   },
   {
    "duration": 58,
    "start_time": "2022-03-08T04:28:57.545Z"
   },
   {
    "duration": 49,
    "start_time": "2022-03-08T04:29:08.648Z"
   },
   {
    "duration": 55,
    "start_time": "2022-03-08T04:30:11.642Z"
   },
   {
    "duration": 52,
    "start_time": "2022-03-08T04:30:19.801Z"
   },
   {
    "duration": 52,
    "start_time": "2022-03-08T04:32:38.438Z"
   },
   {
    "duration": 83,
    "start_time": "2022-03-08T04:32:44.908Z"
   },
   {
    "duration": 84,
    "start_time": "2022-03-08T04:33:11.631Z"
   },
   {
    "duration": 51,
    "start_time": "2022-03-08T04:33:14.567Z"
   },
   {
    "duration": 56,
    "start_time": "2022-03-08T04:33:39.059Z"
   },
   {
    "duration": 62,
    "start_time": "2022-03-08T04:34:19.766Z"
   },
   {
    "duration": 783,
    "start_time": "2022-03-08T04:35:08.693Z"
   },
   {
    "duration": 68,
    "start_time": "2022-03-08T04:35:36.631Z"
   },
   {
    "duration": 72,
    "start_time": "2022-03-08T04:36:04.631Z"
   },
   {
    "duration": 72,
    "start_time": "2022-03-08T04:36:09.990Z"
   },
   {
    "duration": 70,
    "start_time": "2022-03-08T04:37:22.742Z"
   },
   {
    "duration": 412,
    "start_time": "2022-03-08T04:39:44.965Z"
   },
   {
    "duration": 70,
    "start_time": "2022-03-08T04:39:52.437Z"
   },
   {
    "duration": 2228,
    "start_time": "2022-03-08T04:40:07.460Z"
   },
   {
    "duration": 1768,
    "start_time": "2022-03-08T04:40:11.349Z"
   },
   {
    "duration": 147,
    "start_time": "2022-03-08T04:40:39.880Z"
   },
   {
    "duration": 80,
    "start_time": "2022-03-08T04:40:52.146Z"
   },
   {
    "duration": 620,
    "start_time": "2022-03-08T04:41:01.479Z"
   },
   {
    "duration": 435,
    "start_time": "2022-03-08T04:41:13.574Z"
   },
   {
    "duration": 79,
    "start_time": "2022-03-08T04:41:24.726Z"
   },
   {
    "duration": 69,
    "start_time": "2022-03-08T04:42:17.430Z"
   },
   {
    "duration": 67,
    "start_time": "2022-03-08T04:42:51.188Z"
   },
   {
    "duration": 68,
    "start_time": "2022-03-08T04:43:11.749Z"
   },
   {
    "duration": 71,
    "start_time": "2022-03-08T04:43:19.234Z"
   },
   {
    "duration": 393,
    "start_time": "2022-03-08T04:43:33.555Z"
   },
   {
    "duration": 70,
    "start_time": "2022-03-08T04:43:40.578Z"
   },
   {
    "duration": 70,
    "start_time": "2022-03-08T04:43:45.893Z"
   },
   {
    "duration": 70,
    "start_time": "2022-03-08T04:44:07.841Z"
   },
   {
    "duration": 77,
    "start_time": "2022-03-08T04:45:19.461Z"
   },
   {
    "duration": 71,
    "start_time": "2022-03-08T04:45:38.455Z"
   },
   {
    "duration": 77,
    "start_time": "2022-03-08T04:46:22.866Z"
   },
   {
    "duration": 76,
    "start_time": "2022-03-08T04:46:43.857Z"
   },
   {
    "duration": 396,
    "start_time": "2022-03-08T04:47:33.360Z"
   },
   {
    "duration": 72,
    "start_time": "2022-03-08T04:47:44.304Z"
   },
   {
    "duration": 70,
    "start_time": "2022-03-08T04:47:51.904Z"
   },
   {
    "duration": 496,
    "start_time": "2022-03-08T04:47:54.256Z"
   },
   {
    "duration": 72,
    "start_time": "2022-03-08T04:47:58.288Z"
   },
   {
    "duration": 72,
    "start_time": "2022-03-08T04:48:37.154Z"
   },
   {
    "duration": 72,
    "start_time": "2022-03-08T04:48:49.107Z"
   },
   {
    "duration": 79,
    "start_time": "2022-03-08T04:48:59.905Z"
   },
   {
    "duration": 71,
    "start_time": "2022-03-08T04:49:11.425Z"
   },
   {
    "duration": 69,
    "start_time": "2022-03-08T04:50:20.369Z"
   },
   {
    "duration": 73,
    "start_time": "2022-03-08T04:50:30.865Z"
   },
   {
    "duration": 125,
    "start_time": "2022-03-08T04:54:01.150Z"
   },
   {
    "duration": 387,
    "start_time": "2022-03-08T04:54:25.535Z"
   },
   {
    "duration": 1611,
    "start_time": "2022-03-08T04:54:36.705Z"
   },
   {
    "duration": 1770,
    "start_time": "2022-03-08T04:55:46.573Z"
   },
   {
    "duration": 792,
    "start_time": "2022-03-08T05:04:31.756Z"
   },
   {
    "duration": 680,
    "start_time": "2022-03-08T05:04:31.890Z"
   },
   {
    "duration": 659,
    "start_time": "2022-03-08T05:04:31.912Z"
   },
   {
    "duration": 659,
    "start_time": "2022-03-08T05:04:31.913Z"
   },
   {
    "duration": 660,
    "start_time": "2022-03-08T05:04:31.914Z"
   },
   {
    "duration": 660,
    "start_time": "2022-03-08T05:04:31.915Z"
   },
   {
    "duration": 661,
    "start_time": "2022-03-08T05:04:31.916Z"
   },
   {
    "duration": 662,
    "start_time": "2022-03-08T05:04:31.917Z"
   },
   {
    "duration": 606,
    "start_time": "2022-03-08T05:04:32.037Z"
   },
   {
    "duration": 484735,
    "start_time": "2022-03-08T05:04:36.102Z"
   },
   {
    "duration": 483856,
    "start_time": "2022-03-08T05:32:36.090Z"
   },
   {
    "duration": 4,
    "start_time": "2022-03-08T05:40:49.360Z"
   },
   {
    "duration": 8,
    "start_time": "2022-03-08T05:40:49.366Z"
   },
   {
    "duration": 11,
    "start_time": "2022-03-08T05:40:49.377Z"
   },
   {
    "duration": 3,
    "start_time": "2022-03-08T05:40:49.795Z"
   },
   {
    "duration": 27,
    "start_time": "2022-03-08T05:40:50.352Z"
   },
   {
    "duration": 22,
    "start_time": "2022-03-08T05:40:50.383Z"
   },
   {
    "duration": 3,
    "start_time": "2022-03-08T05:40:50.981Z"
   },
   {
    "duration": 129,
    "start_time": "2022-03-08T05:40:50.987Z"
   },
   {
    "duration": 112,
    "start_time": "2022-03-08T05:41:55.992Z"
   },
   {
    "duration": 3,
    "start_time": "2022-03-08T05:41:58.201Z"
   },
   {
    "duration": 114,
    "start_time": "2022-03-08T05:41:59.096Z"
   },
   {
    "duration": 26,
    "start_time": "2022-03-08T05:42:00.553Z"
   },
   {
    "duration": 23,
    "start_time": "2022-03-08T05:42:01.598Z"
   },
   {
    "duration": 4,
    "start_time": "2022-03-08T05:42:02.490Z"
   },
   {
    "duration": 4,
    "start_time": "2022-03-08T05:42:03.081Z"
   },
   {
    "duration": 3,
    "start_time": "2022-03-08T05:42:03.672Z"
   },
   {
    "duration": 3,
    "start_time": "2022-03-08T05:42:04.265Z"
   },
   {
    "duration": 830,
    "start_time": "2022-03-08T05:51:52.627Z"
   },
   {
    "duration": 124,
    "start_time": "2022-03-08T05:51:55.291Z"
   },
   {
    "duration": 26,
    "start_time": "2022-03-08T05:51:58.365Z"
   },
   {
    "duration": 31,
    "start_time": "2022-03-08T05:51:59.794Z"
   },
   {
    "duration": 22,
    "start_time": "2022-03-08T05:52:30.171Z"
   },
   {
    "duration": 3,
    "start_time": "2022-03-08T05:52:34.307Z"
   },
   {
    "duration": 28,
    "start_time": "2022-03-08T05:52:39.210Z"
   },
   {
    "duration": 22,
    "start_time": "2022-03-08T05:52:39.885Z"
   },
   {
    "duration": 25,
    "start_time": "2022-03-08T05:52:45.147Z"
   },
   {
    "duration": 20,
    "start_time": "2022-03-08T05:52:47.701Z"
   },
   {
    "duration": 497914,
    "start_time": "2022-03-08T06:17:39.333Z"
   },
   {
    "duration": 3,
    "start_time": "2022-03-08T06:25:57.250Z"
   },
   {
    "duration": 113,
    "start_time": "2022-03-08T06:25:57.255Z"
   },
   {
    "duration": 27,
    "start_time": "2022-03-08T06:25:57.371Z"
   },
   {
    "duration": 38,
    "start_time": "2022-03-08T06:25:57.401Z"
   },
   {
    "duration": 4,
    "start_time": "2022-03-08T11:57:46.710Z"
   },
   {
    "duration": 107,
    "start_time": "2022-03-08T11:57:48.117Z"
   },
   {
    "duration": 25,
    "start_time": "2022-03-08T11:57:50.021Z"
   },
   {
    "duration": 21,
    "start_time": "2022-03-08T11:57:52.112Z"
   },
   {
    "duration": 71,
    "start_time": "2022-03-08T11:59:25.354Z"
   },
   {
    "duration": 77,
    "start_time": "2022-03-08T11:59:30.470Z"
   },
   {
    "duration": 83,
    "start_time": "2022-03-08T12:00:13.407Z"
   },
   {
    "duration": 94,
    "start_time": "2022-03-08T12:00:40.660Z"
   },
   {
    "duration": 127,
    "start_time": "2022-03-08T12:05:26.758Z"
   },
   {
    "duration": 566,
    "start_time": "2022-03-08T12:06:15.645Z"
   },
   {
    "duration": 438,
    "start_time": "2022-03-08T12:06:41.743Z"
   },
   {
    "duration": 7,
    "start_time": "2022-03-08T12:07:49.514Z"
   },
   {
    "duration": 113,
    "start_time": "2022-03-08T12:07:50.442Z"
   },
   {
    "duration": 25,
    "start_time": "2022-03-08T12:07:52.716Z"
   },
   {
    "duration": 23,
    "start_time": "2022-03-08T12:07:53.819Z"
   },
   {
    "duration": 3,
    "start_time": "2022-03-08T12:07:56.297Z"
   },
   {
    "duration": 3,
    "start_time": "2022-03-08T12:07:56.649Z"
   },
   {
    "duration": 3,
    "start_time": "2022-03-08T12:07:57.049Z"
   },
   {
    "duration": 4,
    "start_time": "2022-03-08T12:07:57.530Z"
   },
   {
    "duration": 153,
    "start_time": "2022-03-08T12:08:07.996Z"
   },
   {
    "duration": 517,
    "start_time": "2022-03-08T12:09:09.692Z"
   },
   {
    "duration": 483,
    "start_time": "2022-03-08T12:09:39.994Z"
   },
   {
    "duration": 138,
    "start_time": "2022-03-08T12:09:48.315Z"
   },
   {
    "duration": 145,
    "start_time": "2022-03-08T12:10:06.252Z"
   },
   {
    "duration": 141,
    "start_time": "2022-03-08T12:10:14.250Z"
   },
   {
    "duration": 712,
    "start_time": "2022-03-08T12:10:30.668Z"
   },
   {
    "duration": 8126,
    "start_time": "2022-03-08T12:11:56.955Z"
   },
   {
    "duration": 664,
    "start_time": "2022-03-08T12:12:47.818Z"
   },
   {
    "duration": 8240,
    "start_time": "2022-03-08T12:12:59.901Z"
   },
   {
    "duration": 7973,
    "start_time": "2022-03-08T12:13:54.683Z"
   },
   {
    "duration": 457,
    "start_time": "2022-03-08T12:14:33.292Z"
   },
   {
    "duration": 162,
    "start_time": "2022-03-08T12:14:49.480Z"
   },
   {
    "duration": 148,
    "start_time": "2022-03-08T12:15:04.410Z"
   },
   {
    "duration": 144,
    "start_time": "2022-03-08T12:15:08.663Z"
   },
   {
    "duration": 144,
    "start_time": "2022-03-08T12:15:47.480Z"
   },
   {
    "duration": 139,
    "start_time": "2022-03-08T12:16:23.559Z"
   },
   {
    "duration": 150,
    "start_time": "2022-03-08T12:17:02.937Z"
   },
   {
    "duration": 148,
    "start_time": "2022-03-08T12:17:08.359Z"
   },
   {
    "duration": 147,
    "start_time": "2022-03-08T12:19:58.891Z"
   },
   {
    "duration": 648,
    "start_time": "2022-03-08T12:20:29.126Z"
   },
   {
    "duration": 158,
    "start_time": "2022-03-08T12:21:10.455Z"
   },
   {
    "duration": 154,
    "start_time": "2022-03-08T12:23:43.296Z"
   },
   {
    "duration": 8516,
    "start_time": "2022-03-08T12:26:24.131Z"
   },
   {
    "duration": 125,
    "start_time": "2022-03-08T12:27:03.264Z"
   },
   {
    "duration": 8344,
    "start_time": "2022-03-08T12:27:06.079Z"
   },
   {
    "duration": 8075,
    "start_time": "2022-03-08T12:27:33.156Z"
   },
   {
    "duration": 8636,
    "start_time": "2022-03-08T12:27:43.355Z"
   },
   {
    "duration": 161,
    "start_time": "2022-03-08T12:28:05.557Z"
   },
   {
    "duration": 290,
    "start_time": "2022-03-09T16:44:08.626Z"
   },
   {
    "duration": 539,
    "start_time": "2022-03-09T16:44:17.804Z"
   },
   {
    "duration": 83,
    "start_time": "2022-03-09T16:44:22.664Z"
   },
   {
    "duration": 20,
    "start_time": "2022-03-09T16:44:23.595Z"
   },
   {
    "duration": 21,
    "start_time": "2022-03-09T16:44:23.626Z"
   },
   {
    "duration": 2,
    "start_time": "2022-03-09T16:44:24.921Z"
   },
   {
    "duration": 2,
    "start_time": "2022-03-09T16:44:25.561Z"
   },
   {
    "duration": 3,
    "start_time": "2022-03-09T16:44:26.424Z"
   },
   {
    "duration": 3,
    "start_time": "2022-03-09T16:44:26.936Z"
   },
   {
    "duration": 85,
    "start_time": "2022-03-09T16:44:28.327Z"
   },
   {
    "duration": 329,
    "start_time": "2022-03-10T16:15:23.443Z"
   },
   {
    "duration": 307,
    "start_time": "2022-03-10T16:15:43.629Z"
   },
   {
    "duration": 628,
    "start_time": "2022-03-10T16:16:00.280Z"
   },
   {
    "duration": 91,
    "start_time": "2022-03-10T16:16:00.909Z"
   },
   {
    "duration": 19,
    "start_time": "2022-03-10T16:16:01.001Z"
   },
   {
    "duration": 30,
    "start_time": "2022-03-10T16:16:01.022Z"
   },
   {
    "duration": 2,
    "start_time": "2022-03-10T16:16:01.055Z"
   },
   {
    "duration": 2,
    "start_time": "2022-03-10T16:16:01.905Z"
   },
   {
    "duration": 3,
    "start_time": "2022-03-10T16:16:01.987Z"
   },
   {
    "duration": 2,
    "start_time": "2022-03-10T16:16:02.045Z"
   },
   {
    "duration": 455,
    "start_time": "2022-03-10T16:16:02.145Z"
   },
   {
    "duration": 391,
    "start_time": "2022-03-10T16:16:33.450Z"
   },
   {
    "duration": 108,
    "start_time": "2022-03-10T16:16:41.993Z"
   },
   {
    "duration": 173,
    "start_time": "2022-03-10T16:17:04.568Z"
   },
   {
    "duration": 102,
    "start_time": "2022-03-10T16:18:42.788Z"
   },
   {
    "duration": 104,
    "start_time": "2022-03-10T16:18:51.304Z"
   },
   {
    "duration": 95,
    "start_time": "2022-03-10T16:19:02.011Z"
   },
   {
    "duration": 103,
    "start_time": "2022-03-10T16:19:13.800Z"
   },
   {
    "duration": 103,
    "start_time": "2022-03-10T16:20:31.575Z"
   },
   {
    "duration": 106,
    "start_time": "2022-03-10T16:21:22.507Z"
   },
   {
    "duration": 101,
    "start_time": "2022-03-10T16:21:48.437Z"
   },
   {
    "duration": 109,
    "start_time": "2022-03-10T16:22:33.688Z"
   },
   {
    "duration": 182,
    "start_time": "2022-03-10T16:23:51.372Z"
   },
   {
    "duration": 203,
    "start_time": "2022-03-10T16:24:12.682Z"
   },
   {
    "duration": 107,
    "start_time": "2022-03-10T16:24:19.372Z"
   },
   {
    "duration": 92,
    "start_time": "2022-03-10T16:25:08.217Z"
   },
   {
    "duration": 86,
    "start_time": "2022-03-10T16:25:29.248Z"
   },
   {
    "duration": 100,
    "start_time": "2022-03-10T16:25:56.363Z"
   },
   {
    "duration": 126,
    "start_time": "2022-03-10T16:29:24.262Z"
   },
   {
    "duration": 85,
    "start_time": "2022-03-10T16:29:33.125Z"
   },
   {
    "duration": 92,
    "start_time": "2022-03-10T16:29:37.603Z"
   },
   {
    "duration": 79,
    "start_time": "2022-03-10T16:29:52.052Z"
   },
   {
    "duration": 100,
    "start_time": "2022-03-10T16:29:55.043Z"
   },
   {
    "duration": 100,
    "start_time": "2022-03-10T16:30:01.889Z"
   },
   {
    "duration": 106,
    "start_time": "2022-03-10T16:30:05.033Z"
   },
   {
    "duration": 105,
    "start_time": "2022-03-10T16:30:07.075Z"
   },
   {
    "duration": 118,
    "start_time": "2022-03-10T16:30:10.964Z"
   },
   {
    "duration": 89,
    "start_time": "2022-03-10T16:30:32.198Z"
   },
   {
    "duration": 91,
    "start_time": "2022-03-10T16:30:56.037Z"
   },
   {
    "duration": 107,
    "start_time": "2022-03-10T16:31:04.875Z"
   },
   {
    "duration": 83,
    "start_time": "2022-03-10T16:31:44.901Z"
   },
   {
    "duration": 85,
    "start_time": "2022-03-10T16:31:58.969Z"
   },
   {
    "duration": 84,
    "start_time": "2022-03-10T16:32:06.804Z"
   },
   {
    "duration": 92,
    "start_time": "2022-03-10T16:32:24.901Z"
   },
   {
    "duration": 88,
    "start_time": "2022-03-10T16:32:44.484Z"
   },
   {
    "duration": 89,
    "start_time": "2022-03-10T16:33:12.389Z"
   },
   {
    "duration": 93,
    "start_time": "2022-03-10T16:33:22.627Z"
   },
   {
    "duration": 94,
    "start_time": "2022-03-10T16:33:40.087Z"
   },
   {
    "duration": 130,
    "start_time": "2022-03-10T16:33:57.348Z"
   },
   {
    "duration": 104,
    "start_time": "2022-03-10T16:34:05.783Z"
   },
   {
    "duration": 132,
    "start_time": "2022-03-10T16:34:13.681Z"
   },
   {
    "duration": 85,
    "start_time": "2022-03-10T16:34:27.890Z"
   },
   {
    "duration": 85,
    "start_time": "2022-03-10T16:34:33.826Z"
   },
   {
    "duration": 94,
    "start_time": "2022-03-10T16:36:01.605Z"
   },
   {
    "duration": 90,
    "start_time": "2022-03-10T16:36:11.538Z"
   },
   {
    "duration": 105,
    "start_time": "2022-03-10T16:36:21.697Z"
   },
   {
    "duration": 94,
    "start_time": "2022-03-10T16:38:41.585Z"
   },
   {
    "duration": 114,
    "start_time": "2022-03-10T16:41:13.507Z"
   },
   {
    "duration": 112,
    "start_time": "2022-03-10T16:41:58.055Z"
   },
   {
    "duration": 111,
    "start_time": "2022-03-10T16:42:03.056Z"
   },
   {
    "duration": 112,
    "start_time": "2022-03-10T16:42:59.849Z"
   },
   {
    "duration": 109,
    "start_time": "2022-03-10T16:43:20.037Z"
   },
   {
    "duration": 95,
    "start_time": "2022-03-10T16:44:07.312Z"
   },
   {
    "duration": 106,
    "start_time": "2022-03-10T16:45:24.365Z"
   },
   {
    "duration": 104,
    "start_time": "2022-03-10T16:45:42.877Z"
   },
   {
    "duration": 103,
    "start_time": "2022-03-10T16:45:49.695Z"
   },
   {
    "duration": 91,
    "start_time": "2022-03-10T16:46:05.581Z"
   },
   {
    "duration": 93,
    "start_time": "2022-03-10T16:47:44.497Z"
   },
   {
    "duration": 130,
    "start_time": "2022-03-10T16:48:13.295Z"
   },
   {
    "duration": 156,
    "start_time": "2022-03-10T16:48:30.159Z"
   },
   {
    "duration": 140,
    "start_time": "2022-03-10T16:48:39.087Z"
   },
   {
    "duration": 93,
    "start_time": "2022-03-10T16:48:55.676Z"
   },
   {
    "duration": 143,
    "start_time": "2022-03-10T16:49:09.083Z"
   },
   {
    "duration": 93,
    "start_time": "2022-03-10T16:49:59.694Z"
   },
   {
    "duration": 110,
    "start_time": "2022-03-10T16:50:04.764Z"
   },
   {
    "duration": 95,
    "start_time": "2022-03-10T16:52:16.557Z"
   },
   {
    "duration": 149,
    "start_time": "2022-03-10T16:52:45.062Z"
   },
   {
    "duration": 95,
    "start_time": "2022-03-10T16:53:14.925Z"
   },
   {
    "duration": 93,
    "start_time": "2022-03-10T16:55:22.682Z"
   },
   {
    "duration": 116,
    "start_time": "2022-03-10T16:55:32.281Z"
   },
   {
    "duration": 112,
    "start_time": "2022-03-10T16:55:47.051Z"
   },
   {
    "duration": 104,
    "start_time": "2022-03-10T16:55:53.691Z"
   },
   {
    "duration": 106,
    "start_time": "2022-03-10T16:55:59.113Z"
   },
   {
    "duration": 101,
    "start_time": "2022-03-10T16:57:06.727Z"
   },
   {
    "duration": 84,
    "start_time": "2022-03-10T16:57:35.610Z"
   },
   {
    "duration": 2,
    "start_time": "2022-03-10T16:57:43.685Z"
   },
   {
    "duration": 76,
    "start_time": "2022-03-10T16:57:44.405Z"
   },
   {
    "duration": 18,
    "start_time": "2022-03-10T16:57:45.093Z"
   },
   {
    "duration": 12,
    "start_time": "2022-03-10T16:57:45.706Z"
   },
   {
    "duration": 2,
    "start_time": "2022-03-10T16:57:46.676Z"
   },
   {
    "duration": 2,
    "start_time": "2022-03-10T16:57:47.238Z"
   },
   {
    "duration": 3,
    "start_time": "2022-03-10T16:57:47.686Z"
   },
   {
    "duration": 3,
    "start_time": "2022-03-10T16:57:48.137Z"
   },
   {
    "duration": 79,
    "start_time": "2022-03-10T16:57:49.559Z"
   },
   {
    "duration": 86,
    "start_time": "2022-03-10T16:58:18.153Z"
   },
   {
    "duration": 86,
    "start_time": "2022-03-10T16:59:10.075Z"
   },
   {
    "duration": 80,
    "start_time": "2022-03-10T16:59:17.337Z"
   },
   {
    "duration": 74,
    "start_time": "2022-03-10T16:59:25.068Z"
   },
   {
    "duration": 74,
    "start_time": "2022-03-10T23:21:01.687Z"
   },
   {
    "duration": 73,
    "start_time": "2022-03-10T23:21:08.762Z"
   },
   {
    "duration": 74,
    "start_time": "2022-03-10T23:21:15.059Z"
   },
   {
    "duration": 373,
    "start_time": "2022-03-10T23:21:35.204Z"
   },
   {
    "duration": 362,
    "start_time": "2022-03-10T23:21:45.548Z"
   },
   {
    "duration": 399,
    "start_time": "2022-03-10T23:21:56.550Z"
   },
   {
    "duration": 373,
    "start_time": "2022-03-10T23:22:00.544Z"
   },
   {
    "duration": 3,
    "start_time": "2022-03-10T23:22:04.466Z"
   },
   {
    "duration": 93,
    "start_time": "2022-03-10T23:22:05.283Z"
   },
   {
    "duration": 18,
    "start_time": "2022-03-10T23:22:05.842Z"
   },
   {
    "duration": 13,
    "start_time": "2022-03-10T23:22:05.878Z"
   },
   {
    "duration": 2,
    "start_time": "2022-03-10T23:22:05.936Z"
   },
   {
    "duration": 2,
    "start_time": "2022-03-10T23:22:06.594Z"
   },
   {
    "duration": 2,
    "start_time": "2022-03-10T23:22:07.420Z"
   },
   {
    "duration": 2,
    "start_time": "2022-03-10T23:22:07.857Z"
   },
   {
    "duration": 369,
    "start_time": "2022-03-10T23:22:09.103Z"
   },
   {
    "duration": 81,
    "start_time": "2022-03-10T23:22:22.003Z"
   },
   {
    "duration": 84,
    "start_time": "2022-03-10T23:22:48.894Z"
   },
   {
    "duration": 81,
    "start_time": "2022-03-10T23:23:51.158Z"
   },
   {
    "duration": 84,
    "start_time": "2022-03-10T23:24:07.279Z"
   },
   {
    "duration": 81,
    "start_time": "2022-03-10T23:24:17.798Z"
   },
   {
    "duration": 80,
    "start_time": "2022-03-10T23:25:02.615Z"
   },
   {
    "duration": 76,
    "start_time": "2022-03-10T23:28:37.087Z"
   },
   {
    "duration": 80,
    "start_time": "2022-03-10T23:28:49.488Z"
   },
   {
    "duration": 80,
    "start_time": "2022-03-10T23:28:56.236Z"
   },
   {
    "duration": 86,
    "start_time": "2022-03-10T23:28:59.851Z"
   },
   {
    "duration": 74,
    "start_time": "2022-03-10T23:29:11.085Z"
   },
   {
    "duration": 18,
    "start_time": "2022-03-11T00:23:41.238Z"
   },
   {
    "duration": 2,
    "start_time": "2022-03-11T00:24:06.773Z"
   },
   {
    "duration": 2,
    "start_time": "2022-03-11T00:24:15.509Z"
   },
   {
    "duration": 2,
    "start_time": "2022-03-11T00:24:24.438Z"
   },
   {
    "duration": 92,
    "start_time": "2022-03-11T00:25:07.672Z"
   },
   {
    "duration": 76,
    "start_time": "2022-03-11T00:25:14.027Z"
   },
   {
    "duration": 84,
    "start_time": "2022-03-11T00:25:23.975Z"
   },
   {
    "duration": 74,
    "start_time": "2022-03-11T00:25:34.936Z"
   },
   {
    "duration": 75,
    "start_time": "2022-03-11T00:26:08.197Z"
   },
   {
    "duration": 355,
    "start_time": "2022-03-11T00:26:16.150Z"
   },
   {
    "duration": 79,
    "start_time": "2022-03-11T00:26:20.108Z"
   },
   {
    "duration": 85,
    "start_time": "2022-03-11T00:26:30.939Z"
   },
   {
    "duration": 80,
    "start_time": "2022-03-11T00:27:11.576Z"
   },
   {
    "duration": 23,
    "start_time": "2022-03-11T00:29:52.318Z"
   },
   {
    "duration": 16,
    "start_time": "2022-03-11T00:30:03.778Z"
   },
   {
    "duration": 15,
    "start_time": "2022-03-11T00:30:52.015Z"
   },
   {
    "duration": 15,
    "start_time": "2022-03-11T00:30:56.786Z"
   },
   {
    "duration": 96,
    "start_time": "2022-03-11T00:32:05.668Z"
   },
   {
    "duration": 3,
    "start_time": "2022-03-11T00:32:09.904Z"
   },
   {
    "duration": 76,
    "start_time": "2022-03-11T00:32:10.461Z"
   },
   {
    "duration": 16,
    "start_time": "2022-03-11T00:32:10.557Z"
   },
   {
    "duration": 12,
    "start_time": "2022-03-11T00:32:10.587Z"
   },
   {
    "duration": 2,
    "start_time": "2022-03-11T00:32:10.665Z"
   },
   {
    "duration": 2,
    "start_time": "2022-03-11T00:32:10.731Z"
   },
   {
    "duration": 2,
    "start_time": "2022-03-11T00:32:10.791Z"
   },
   {
    "duration": 2,
    "start_time": "2022-03-11T00:32:10.856Z"
   },
   {
    "duration": 84,
    "start_time": "2022-03-11T00:32:12.002Z"
   },
   {
    "duration": 78,
    "start_time": "2022-03-11T00:32:18.342Z"
   },
   {
    "duration": 14,
    "start_time": "2022-03-11T00:32:20.608Z"
   },
   {
    "duration": 37,
    "start_time": "2022-03-11T00:32:41.442Z"
   },
   {
    "duration": 42,
    "start_time": "2022-03-11T00:40:00.925Z"
   },
   {
    "duration": 39,
    "start_time": "2022-03-11T00:40:28.401Z"
   },
   {
    "duration": 54,
    "start_time": "2022-03-11T00:40:49.119Z"
   },
   {
    "duration": 40,
    "start_time": "2022-03-11T00:41:16.788Z"
   },
   {
    "duration": 40,
    "start_time": "2022-03-11T00:41:25.044Z"
   },
   {
    "duration": 55,
    "start_time": "2022-03-11T00:41:38.559Z"
   },
   {
    "duration": 42,
    "start_time": "2022-03-11T00:43:27.253Z"
   },
   {
    "duration": 43,
    "start_time": "2022-03-11T00:43:50.478Z"
   },
   {
    "duration": 42,
    "start_time": "2022-03-11T00:43:59.228Z"
   },
   {
    "duration": 57,
    "start_time": "2022-03-11T00:44:10.907Z"
   },
   {
    "duration": 43,
    "start_time": "2022-03-11T00:44:49.358Z"
   },
   {
    "duration": 47,
    "start_time": "2022-03-11T00:45:03.579Z"
   },
   {
    "duration": 45,
    "start_time": "2022-03-11T00:45:55.276Z"
   },
   {
    "duration": 52,
    "start_time": "2022-03-11T00:48:09.034Z"
   },
   {
    "duration": 60,
    "start_time": "2022-03-11T00:48:23.515Z"
   },
   {
    "duration": 55,
    "start_time": "2022-03-11T00:48:37.273Z"
   },
   {
    "duration": 2,
    "start_time": "2022-03-11T00:48:45.626Z"
   },
   {
    "duration": 78,
    "start_time": "2022-03-11T00:48:46.194Z"
   },
   {
    "duration": 16,
    "start_time": "2022-03-11T00:48:46.285Z"
   },
   {
    "duration": 11,
    "start_time": "2022-03-11T00:48:46.321Z"
   },
   {
    "duration": 2,
    "start_time": "2022-03-11T00:48:46.393Z"
   },
   {
    "duration": 2,
    "start_time": "2022-03-11T00:48:46.458Z"
   },
   {
    "duration": 2,
    "start_time": "2022-03-11T00:48:46.520Z"
   },
   {
    "duration": 2,
    "start_time": "2022-03-11T00:48:46.991Z"
   },
   {
    "duration": 82,
    "start_time": "2022-03-11T00:48:47.931Z"
   },
   {
    "duration": 47,
    "start_time": "2022-03-11T00:49:09.021Z"
   },
   {
    "duration": 64,
    "start_time": "2022-03-11T00:50:10.744Z"
   },
   {
    "duration": 64,
    "start_time": "2022-03-11T00:50:24.764Z"
   },
   {
    "duration": 63,
    "start_time": "2022-03-11T00:50:27.480Z"
   },
   {
    "duration": 63,
    "start_time": "2022-03-11T00:50:47.354Z"
   },
   {
    "duration": 70,
    "start_time": "2022-03-11T00:50:56.280Z"
   },
   {
    "duration": 1392,
    "start_time": "2022-03-11T00:51:32.058Z"
   },
   {
    "duration": 1415,
    "start_time": "2022-03-11T00:51:35.768Z"
   },
   {
    "duration": 1373,
    "start_time": "2022-03-11T00:51:39.865Z"
   },
   {
    "duration": 82,
    "start_time": "2022-03-11T00:52:00.095Z"
   },
   {
    "duration": 1383,
    "start_time": "2022-03-11T00:52:40.968Z"
   },
   {
    "duration": 1365,
    "start_time": "2022-03-11T00:52:48.231Z"
   },
   {
    "duration": 2,
    "start_time": "2022-03-11T00:52:54.984Z"
   },
   {
    "duration": 74,
    "start_time": "2022-03-11T00:52:55.541Z"
   },
   {
    "duration": 16,
    "start_time": "2022-03-11T00:52:55.651Z"
   },
   {
    "duration": 12,
    "start_time": "2022-03-11T00:52:55.685Z"
   },
   {
    "duration": 2,
    "start_time": "2022-03-11T00:52:55.742Z"
   },
   {
    "duration": 2,
    "start_time": "2022-03-11T00:52:55.805Z"
   },
   {
    "duration": 2,
    "start_time": "2022-03-11T00:52:55.884Z"
   },
   {
    "duration": 2,
    "start_time": "2022-03-11T00:52:56.568Z"
   },
   {
    "duration": 71,
    "start_time": "2022-03-11T00:52:57.601Z"
   },
   {
    "duration": 47,
    "start_time": "2022-03-11T00:53:18.488Z"
   },
   {
    "duration": 1419,
    "start_time": "2022-03-11T00:53:32.471Z"
   },
   {
    "duration": 1367,
    "start_time": "2022-03-11T00:53:39.639Z"
   },
   {
    "duration": 18,
    "start_time": "2022-03-11T00:53:49.639Z"
   },
   {
    "duration": 12,
    "start_time": "2022-03-11T00:53:50.145Z"
   },
   {
    "duration": 2,
    "start_time": "2022-03-11T00:53:50.212Z"
   },
   {
    "duration": 2,
    "start_time": "2022-03-11T00:53:50.290Z"
   },
   {
    "duration": 2,
    "start_time": "2022-03-11T00:53:50.352Z"
   },
   {
    "duration": 2,
    "start_time": "2022-03-11T00:53:50.409Z"
   },
   {
    "duration": 83,
    "start_time": "2022-03-11T00:53:50.649Z"
   },
   {
    "duration": 1370,
    "start_time": "2022-03-11T00:53:50.733Z"
   },
   {
    "duration": 40,
    "start_time": "2022-03-11T00:55:09.322Z"
   },
   {
    "duration": 1476,
    "start_time": "2022-03-11T00:55:25.273Z"
   },
   {
    "duration": 2,
    "start_time": "2022-03-11T00:55:31.419Z"
   },
   {
    "duration": 77,
    "start_time": "2022-03-11T00:55:31.974Z"
   },
   {
    "duration": 18,
    "start_time": "2022-03-11T00:55:32.527Z"
   },
   {
    "duration": 12,
    "start_time": "2022-03-11T00:55:32.758Z"
   },
   {
    "duration": 2,
    "start_time": "2022-03-11T00:55:33.175Z"
   },
   {
    "duration": 3,
    "start_time": "2022-03-11T00:55:33.637Z"
   },
   {
    "duration": 2,
    "start_time": "2022-03-11T00:55:34.149Z"
   },
   {
    "duration": 2,
    "start_time": "2022-03-11T00:55:34.646Z"
   },
   {
    "duration": 75,
    "start_time": "2022-03-11T00:55:35.541Z"
   },
   {
    "duration": 46,
    "start_time": "2022-03-11T00:55:37.654Z"
   },
   {
    "duration": 5,
    "start_time": "2022-03-11T00:55:55.463Z"
   },
   {
    "duration": 2,
    "start_time": "2022-03-11T00:56:00.152Z"
   },
   {
    "duration": 7349,
    "start_time": "2022-03-11T00:58:07.766Z"
   },
   {
    "duration": 7225,
    "start_time": "2022-03-11T00:58:16.615Z"
   },
   {
    "duration": 5,
    "start_time": "2022-03-11T00:58:31.508Z"
   },
   {
    "duration": 312,
    "start_time": "2022-03-11T01:01:18.616Z"
   },
   {
    "duration": 316,
    "start_time": "2022-03-11T01:01:27.907Z"
   },
   {
    "duration": 10,
    "start_time": "2022-03-11T01:02:12.278Z"
   },
   {
    "duration": 20,
    "start_time": "2022-03-11T01:02:22.485Z"
   },
   {
    "duration": 25,
    "start_time": "2022-03-11T01:02:27.720Z"
   },
   {
    "duration": 19,
    "start_time": "2022-03-11T01:39:18.821Z"
   },
   {
    "duration": 5,
    "start_time": "2022-03-11T01:40:11.992Z"
   },
   {
    "duration": 19,
    "start_time": "2022-03-11T01:40:20.002Z"
   },
   {
    "duration": 4,
    "start_time": "2022-03-11T01:40:40.020Z"
   },
   {
    "duration": 1158,
    "start_time": "2022-03-11T01:41:13.431Z"
   },
   {
    "duration": 1142,
    "start_time": "2022-03-11T01:41:34.051Z"
   },
   {
    "duration": 4,
    "start_time": "2022-03-11T01:41:40.836Z"
   },
   {
    "duration": 1183,
    "start_time": "2022-03-11T01:41:55.908Z"
   },
   {
    "duration": 7,
    "start_time": "2022-03-11T01:42:34.722Z"
   },
   {
    "duration": 14,
    "start_time": "2022-03-11T01:43:54.339Z"
   },
   {
    "duration": 2156,
    "start_time": "2022-03-11T01:44:02.289Z"
   },
   {
    "duration": 2016,
    "start_time": "2022-03-11T01:44:05.413Z"
   },
   {
    "duration": 3,
    "start_time": "2022-03-11T01:44:10.147Z"
   },
   {
    "duration": 77,
    "start_time": "2022-03-11T01:44:10.716Z"
   },
   {
    "duration": 17,
    "start_time": "2022-03-11T01:44:10.816Z"
   },
   {
    "duration": 12,
    "start_time": "2022-03-11T01:44:10.846Z"
   },
   {
    "duration": 2,
    "start_time": "2022-03-11T01:44:10.910Z"
   },
   {
    "duration": 2,
    "start_time": "2022-03-11T01:44:10.972Z"
   },
   {
    "duration": 2,
    "start_time": "2022-03-11T01:44:11.051Z"
   },
   {
    "duration": 2,
    "start_time": "2022-03-11T01:44:11.115Z"
   },
   {
    "duration": 71,
    "start_time": "2022-03-11T01:44:11.740Z"
   },
   {
    "duration": 49,
    "start_time": "2022-03-11T01:44:12.372Z"
   },
   {
    "duration": 38,
    "start_time": "2022-03-11T01:44:13.233Z"
   },
   {
    "duration": 1188,
    "start_time": "2022-03-11T01:44:13.753Z"
   },
   {
    "duration": 1169,
    "start_time": "2022-03-11T01:44:17.444Z"
   },
   {
    "duration": 1146,
    "start_time": "2022-03-11T01:44:35.347Z"
   },
   {
    "duration": 1242,
    "start_time": "2022-03-11T01:44:39.906Z"
   },
   {
    "duration": 7,
    "start_time": "2022-03-11T01:44:44.952Z"
   },
   {
    "duration": 5,
    "start_time": "2022-03-11T01:46:09.913Z"
   },
   {
    "duration": 2,
    "start_time": "2022-03-11T01:46:13.426Z"
   },
   {
    "duration": 75,
    "start_time": "2022-03-11T01:46:13.992Z"
   },
   {
    "duration": 17,
    "start_time": "2022-03-11T01:46:14.098Z"
   },
   {
    "duration": 12,
    "start_time": "2022-03-11T01:46:14.132Z"
   },
   {
    "duration": 2,
    "start_time": "2022-03-11T01:46:14.190Z"
   },
   {
    "duration": 2,
    "start_time": "2022-03-11T01:46:14.255Z"
   },
   {
    "duration": 2,
    "start_time": "2022-03-11T01:46:14.319Z"
   },
   {
    "duration": 2,
    "start_time": "2022-03-11T01:46:14.405Z"
   },
   {
    "duration": 73,
    "start_time": "2022-03-11T01:46:15.203Z"
   },
   {
    "duration": 45,
    "start_time": "2022-03-11T01:46:15.842Z"
   },
   {
    "duration": 31,
    "start_time": "2022-03-11T01:46:16.978Z"
   },
   {
    "duration": 5,
    "start_time": "2022-03-11T01:46:17.748Z"
   },
   {
    "duration": 5,
    "start_time": "2022-03-11T01:46:39.379Z"
   },
   {
    "duration": 7,
    "start_time": "2022-03-11T01:46:43.410Z"
   },
   {
    "duration": 6,
    "start_time": "2022-03-11T01:47:37.024Z"
   },
   {
    "duration": 9,
    "start_time": "2022-03-11T01:47:41.856Z"
   },
   {
    "duration": 8,
    "start_time": "2022-03-11T01:48:22.217Z"
   },
   {
    "duration": 10,
    "start_time": "2022-03-11T01:49:49.640Z"
   },
   {
    "duration": 343,
    "start_time": "2022-03-11T01:50:27.448Z"
   },
   {
    "duration": 13,
    "start_time": "2022-03-11T01:50:37.456Z"
   },
   {
    "duration": 11,
    "start_time": "2022-03-11T01:51:01.265Z"
   },
   {
    "duration": 14,
    "start_time": "2022-03-11T01:51:06.985Z"
   },
   {
    "duration": 9,
    "start_time": "2022-03-11T01:51:59.759Z"
   },
   {
    "duration": 10,
    "start_time": "2022-03-11T01:52:08.210Z"
   },
   {
    "duration": 7,
    "start_time": "2022-03-11T01:52:41.453Z"
   },
   {
    "duration": 8,
    "start_time": "2022-03-11T01:52:50.384Z"
   },
   {
    "duration": 3,
    "start_time": "2022-03-11T01:52:55.427Z"
   },
   {
    "duration": 78,
    "start_time": "2022-03-11T01:52:55.975Z"
   },
   {
    "duration": 17,
    "start_time": "2022-03-11T01:52:56.055Z"
   },
   {
    "duration": 12,
    "start_time": "2022-03-11T01:52:56.124Z"
   },
   {
    "duration": 2,
    "start_time": "2022-03-11T01:52:56.163Z"
   },
   {
    "duration": 2,
    "start_time": "2022-03-11T01:52:56.222Z"
   },
   {
    "duration": 3,
    "start_time": "2022-03-11T01:52:56.342Z"
   },
   {
    "duration": 2,
    "start_time": "2022-03-11T01:52:56.352Z"
   },
   {
    "duration": 70,
    "start_time": "2022-03-11T01:52:56.592Z"
   },
   {
    "duration": 54,
    "start_time": "2022-03-11T01:52:56.663Z"
   },
   {
    "duration": 32,
    "start_time": "2022-03-11T01:52:56.719Z"
   },
   {
    "duration": -49,
    "start_time": "2022-03-11T01:53:04.694Z"
   },
   {
    "duration": -51,
    "start_time": "2022-03-11T01:53:04.697Z"
   },
   {
    "duration": -51,
    "start_time": "2022-03-11T01:53:04.698Z"
   },
   {
    "duration": -51,
    "start_time": "2022-03-11T01:53:04.699Z"
   },
   {
    "duration": -51,
    "start_time": "2022-03-11T01:53:04.700Z"
   },
   {
    "duration": 20,
    "start_time": "2022-03-11T01:53:21.071Z"
   },
   {
    "duration": 7262,
    "start_time": "2022-03-11T01:53:21.822Z"
   },
   {
    "duration": 12,
    "start_time": "2022-03-11T01:53:32.273Z"
   },
   {
    "duration": 7253,
    "start_time": "2022-03-11T01:53:54.080Z"
   },
   {
    "duration": 2,
    "start_time": "2022-03-11T01:54:01.558Z"
   },
   {
    "duration": 77,
    "start_time": "2022-03-11T01:54:02.120Z"
   },
   {
    "duration": 17,
    "start_time": "2022-03-11T01:54:02.216Z"
   },
   {
    "duration": 12,
    "start_time": "2022-03-11T01:54:02.251Z"
   },
   {
    "duration": 2,
    "start_time": "2022-03-11T01:54:02.989Z"
   },
   {
    "duration": 2,
    "start_time": "2022-03-11T01:54:04.193Z"
   },
   {
    "duration": 2,
    "start_time": "2022-03-11T01:54:04.253Z"
   },
   {
    "duration": 2,
    "start_time": "2022-03-11T01:54:04.316Z"
   },
   {
    "duration": 74,
    "start_time": "2022-03-11T01:54:04.417Z"
   },
   {
    "duration": 54,
    "start_time": "2022-03-11T01:54:04.542Z"
   },
   {
    "duration": 40,
    "start_time": "2022-03-11T01:54:05.538Z"
   },
   {
    "duration": 7488,
    "start_time": "2022-03-11T01:54:06.061Z"
   },
   {
    "duration": 2,
    "start_time": "2022-03-11T01:54:24.269Z"
   },
   {
    "duration": 75,
    "start_time": "2022-03-11T01:54:24.834Z"
   },
   {
    "duration": 18,
    "start_time": "2022-03-11T01:54:24.942Z"
   },
   {
    "duration": 12,
    "start_time": "2022-03-11T01:54:24.974Z"
   },
   {
    "duration": 2,
    "start_time": "2022-03-11T01:54:25.034Z"
   },
   {
    "duration": 2,
    "start_time": "2022-03-11T01:54:25.102Z"
   },
   {
    "duration": 2,
    "start_time": "2022-03-11T01:54:25.173Z"
   },
   {
    "duration": 2,
    "start_time": "2022-03-11T01:54:25.241Z"
   },
   {
    "duration": 71,
    "start_time": "2022-03-11T01:54:25.337Z"
   },
   {
    "duration": 50,
    "start_time": "2022-03-11T01:54:25.489Z"
   },
   {
    "duration": 34,
    "start_time": "2022-03-11T01:54:25.540Z"
   },
   {
    "duration": 10,
    "start_time": "2022-03-11T01:54:25.578Z"
   },
   {
    "duration": 2,
    "start_time": "2022-03-11T01:54:25.605Z"
   },
   {
    "duration": 2,
    "start_time": "2022-03-11T01:54:25.632Z"
   },
   {
    "duration": 2,
    "start_time": "2022-03-11T01:54:25.730Z"
   },
   {
    "duration": 2,
    "start_time": "2022-03-11T01:54:25.757Z"
   },
   {
    "duration": 103,
    "start_time": "2022-03-11T01:55:06.076Z"
   },
   {
    "duration": 5,
    "start_time": "2022-03-11T01:55:09.710Z"
   },
   {
    "duration": 2,
    "start_time": "2022-03-11T01:55:14.102Z"
   },
   {
    "duration": 77,
    "start_time": "2022-03-11T01:55:14.654Z"
   },
   {
    "duration": 18,
    "start_time": "2022-03-11T01:55:14.749Z"
   },
   {
    "duration": 11,
    "start_time": "2022-03-11T01:55:14.833Z"
   },
   {
    "duration": 2,
    "start_time": "2022-03-11T01:55:14.858Z"
   },
   {
    "duration": 2,
    "start_time": "2022-03-11T01:55:14.926Z"
   },
   {
    "duration": 2,
    "start_time": "2022-03-11T01:55:14.983Z"
   },
   {
    "duration": 2,
    "start_time": "2022-03-11T01:55:15.053Z"
   },
   {
    "duration": 73,
    "start_time": "2022-03-11T01:55:15.168Z"
   },
   {
    "duration": 44,
    "start_time": "2022-03-11T01:55:16.017Z"
   },
   {
    "duration": 10,
    "start_time": "2022-03-11T01:55:16.107Z"
   },
   {
    "duration": 10,
    "start_time": "2022-03-11T01:55:16.141Z"
   },
   {
    "duration": 2,
    "start_time": "2022-03-11T01:55:16.178Z"
   },
   {
    "duration": 2,
    "start_time": "2022-03-11T01:55:16.200Z"
   },
   {
    "duration": 3,
    "start_time": "2022-03-11T02:20:32.956Z"
   },
   {
    "duration": 6,
    "start_time": "2022-03-11T02:20:39.588Z"
   },
   {
    "duration": 281,
    "start_time": "2022-03-11T02:21:31.603Z"
   },
   {
    "duration": 8,
    "start_time": "2022-03-11T02:21:42.579Z"
   },
   {
    "duration": 15,
    "start_time": "2022-03-11T02:24:26.692Z"
   },
   {
    "duration": 21,
    "start_time": "2022-03-11T02:24:30.467Z"
   },
   {
    "duration": 16,
    "start_time": "2022-03-11T02:24:43.584Z"
   },
   {
    "duration": 4,
    "start_time": "2022-03-11T02:24:48.899Z"
   },
   {
    "duration": 2,
    "start_time": "2022-03-11T02:24:55.600Z"
   },
   {
    "duration": 18,
    "start_time": "2022-03-11T02:25:40.305Z"
   },
   {
    "duration": 4,
    "start_time": "2022-03-11T02:25:47.585Z"
   },
   {
    "duration": 21,
    "start_time": "2022-03-11T02:26:01.689Z"
   },
   {
    "duration": 2,
    "start_time": "2022-03-11T02:26:06.502Z"
   },
   {
    "duration": 19,
    "start_time": "2022-03-11T02:26:23.617Z"
   },
   {
    "duration": 3,
    "start_time": "2022-03-11T02:26:37.921Z"
   },
   {
    "duration": 90,
    "start_time": "2022-03-11T02:26:38.514Z"
   },
   {
    "duration": 16,
    "start_time": "2022-03-11T02:26:38.606Z"
   },
   {
    "duration": 11,
    "start_time": "2022-03-11T02:26:38.624Z"
   },
   {
    "duration": 2,
    "start_time": "2022-03-11T02:26:38.753Z"
   },
   {
    "duration": 13,
    "start_time": "2022-03-11T02:26:38.758Z"
   },
   {
    "duration": 2,
    "start_time": "2022-03-11T02:26:38.816Z"
   },
   {
    "duration": 2,
    "start_time": "2022-03-11T02:26:38.878Z"
   },
   {
    "duration": 73,
    "start_time": "2022-03-11T02:26:39.022Z"
   },
   {
    "duration": 44,
    "start_time": "2022-03-11T02:26:39.096Z"
   },
   {
    "duration": 9,
    "start_time": "2022-03-11T02:26:39.182Z"
   },
   {
    "duration": 11,
    "start_time": "2022-03-11T02:26:39.503Z"
   },
   {
    "duration": 6,
    "start_time": "2022-03-11T02:26:39.857Z"
   },
   {
    "duration": 8,
    "start_time": "2022-03-11T02:26:40.384Z"
   },
   {
    "duration": 22,
    "start_time": "2022-03-11T02:27:44.495Z"
   },
   {
    "duration": 1406,
    "start_time": "2022-03-11T02:27:48.111Z"
   },
   {
    "duration": 1355,
    "start_time": "2022-03-11T02:28:18.033Z"
   },
   {
    "duration": 1383,
    "start_time": "2022-03-11T02:28:22.289Z"
   },
   {
    "duration": 4,
    "start_time": "2022-03-11T02:28:35.711Z"
   },
   {
    "duration": 1389,
    "start_time": "2022-03-11T02:28:54.688Z"
   },
   {
    "duration": 2,
    "start_time": "2022-03-11T02:29:06.927Z"
   },
   {
    "duration": 74,
    "start_time": "2022-03-11T02:29:07.712Z"
   },
   {
    "duration": 17,
    "start_time": "2022-03-11T02:29:08.448Z"
   },
   {
    "duration": 13,
    "start_time": "2022-03-11T02:29:08.717Z"
   },
   {
    "duration": 2,
    "start_time": "2022-03-11T02:29:09.199Z"
   },
   {
    "duration": 2,
    "start_time": "2022-03-11T02:29:09.734Z"
   },
   {
    "duration": 2,
    "start_time": "2022-03-11T02:29:10.254Z"
   },
   {
    "duration": 2,
    "start_time": "2022-03-11T02:29:10.718Z"
   },
   {
    "duration": 72,
    "start_time": "2022-03-11T02:29:11.456Z"
   },
   {
    "duration": 45,
    "start_time": "2022-03-11T02:29:12.303Z"
   },
   {
    "duration": 10,
    "start_time": "2022-03-11T02:29:13.294Z"
   },
   {
    "duration": 12,
    "start_time": "2022-03-11T02:29:13.918Z"
   },
   {
    "duration": 6,
    "start_time": "2022-03-11T02:29:13.966Z"
   },
   {
    "duration": 303,
    "start_time": "2022-03-11T02:29:14.240Z"
   },
   {
    "duration": 4,
    "start_time": "2022-03-11T02:29:16.598Z"
   },
   {
    "duration": 1342,
    "start_time": "2022-03-11T02:29:39.280Z"
   },
   {
    "duration": 2,
    "start_time": "2022-03-11T02:29:47.808Z"
   },
   {
    "duration": 77,
    "start_time": "2022-03-11T02:29:48.878Z"
   },
   {
    "duration": 17,
    "start_time": "2022-03-11T02:29:50.207Z"
   },
   {
    "duration": 13,
    "start_time": "2022-03-11T02:29:50.558Z"
   },
   {
    "duration": 2,
    "start_time": "2022-03-11T02:29:51.421Z"
   },
   {
    "duration": 2,
    "start_time": "2022-03-11T02:29:52.048Z"
   },
   {
    "duration": 2,
    "start_time": "2022-03-11T02:29:52.549Z"
   },
   {
    "duration": 3,
    "start_time": "2022-03-11T02:29:53.085Z"
   },
   {
    "duration": 74,
    "start_time": "2022-03-11T02:29:54.194Z"
   },
   {
    "duration": 48,
    "start_time": "2022-03-11T02:29:56.447Z"
   },
   {
    "duration": 10,
    "start_time": "2022-03-11T02:29:57.839Z"
   },
   {
    "duration": 10,
    "start_time": "2022-03-11T02:29:58.222Z"
   },
   {
    "duration": 5,
    "start_time": "2022-03-11T02:29:58.623Z"
   },
   {
    "duration": 21,
    "start_time": "2022-03-11T02:29:59.184Z"
   },
   {
    "duration": 5,
    "start_time": "2022-03-11T02:30:03.873Z"
   },
   {
    "duration": 302,
    "start_time": "2022-03-11T02:30:30.814Z"
   },
   {
    "duration": 383,
    "start_time": "2022-03-11T02:30:36.351Z"
   },
   {
    "duration": 4,
    "start_time": "2022-03-11T02:30:44.991Z"
   },
   {
    "duration": 310,
    "start_time": "2022-03-11T02:31:49.012Z"
   },
   {
    "duration": 304,
    "start_time": "2022-03-11T02:32:10.029Z"
   },
   {
    "duration": 5,
    "start_time": "2022-03-11T02:32:28.080Z"
   },
   {
    "duration": 4,
    "start_time": "2022-03-11T02:32:41.676Z"
   },
   {
    "duration": 5,
    "start_time": "2022-03-11T02:32:52.620Z"
   },
   {
    "duration": 25,
    "start_time": "2022-03-11T02:33:40.078Z"
   },
   {
    "duration": 7,
    "start_time": "2022-03-11T02:33:55.198Z"
   },
   {
    "duration": 298,
    "start_time": "2022-03-11T02:34:27.393Z"
   },
   {
    "duration": 2,
    "start_time": "2022-03-11T02:34:34.526Z"
   },
   {
    "duration": 79,
    "start_time": "2022-03-11T02:34:35.090Z"
   },
   {
    "duration": 17,
    "start_time": "2022-03-11T02:34:35.185Z"
   },
   {
    "duration": 12,
    "start_time": "2022-03-11T02:34:35.221Z"
   },
   {
    "duration": 2,
    "start_time": "2022-03-11T02:34:36.253Z"
   },
   {
    "duration": 2,
    "start_time": "2022-03-11T02:34:37.685Z"
   },
   {
    "duration": 2,
    "start_time": "2022-03-11T02:34:38.504Z"
   },
   {
    "duration": 2,
    "start_time": "2022-03-11T02:34:38.565Z"
   },
   {
    "duration": 74,
    "start_time": "2022-03-11T02:34:39.488Z"
   },
   {
    "duration": 2,
    "start_time": "2022-03-11T02:35:01.197Z"
   },
   {
    "duration": 76,
    "start_time": "2022-03-11T02:35:02.027Z"
   },
   {
    "duration": 18,
    "start_time": "2022-03-11T02:35:02.987Z"
   },
   {
    "duration": 12,
    "start_time": "2022-03-11T02:35:03.566Z"
   },
   {
    "duration": 2,
    "start_time": "2022-03-11T02:35:05.357Z"
   },
   {
    "duration": 2,
    "start_time": "2022-03-11T02:35:06.428Z"
   },
   {
    "duration": 2,
    "start_time": "2022-03-11T02:35:07.233Z"
   },
   {
    "duration": 2,
    "start_time": "2022-03-11T02:35:07.955Z"
   },
   {
    "duration": 76,
    "start_time": "2022-03-11T02:35:09.311Z"
   },
   {
    "duration": 46,
    "start_time": "2022-03-11T02:35:12.637Z"
   },
   {
    "duration": 90,
    "start_time": "2022-03-11T02:35:22.926Z"
   },
   {
    "duration": 81,
    "start_time": "2022-03-11T02:35:35.518Z"
   },
   {
    "duration": 84,
    "start_time": "2022-03-11T02:35:53.661Z"
   },
   {
    "duration": 86,
    "start_time": "2022-03-11T02:36:21.922Z"
   },
   {
    "duration": 82,
    "start_time": "2022-03-11T02:36:35.807Z"
   },
   {
    "duration": 86,
    "start_time": "2022-03-11T02:36:42.733Z"
   },
   {
    "duration": 3,
    "start_time": "2022-03-11T02:36:53.876Z"
   },
   {
    "duration": 79,
    "start_time": "2022-03-11T02:36:54.437Z"
   },
   {
    "duration": 16,
    "start_time": "2022-03-11T02:36:54.534Z"
   },
   {
    "duration": 12,
    "start_time": "2022-03-11T02:36:54.560Z"
   },
   {
    "duration": 2,
    "start_time": "2022-03-11T02:36:54.618Z"
   },
   {
    "duration": 2,
    "start_time": "2022-03-11T02:36:54.697Z"
   },
   {
    "duration": 2,
    "start_time": "2022-03-11T02:36:54.760Z"
   },
   {
    "duration": 2,
    "start_time": "2022-03-11T02:36:54.823Z"
   },
   {
    "duration": 72,
    "start_time": "2022-03-11T02:36:55.701Z"
   },
   {
    "duration": 46,
    "start_time": "2022-03-11T02:36:55.780Z"
   },
   {
    "duration": 11,
    "start_time": "2022-03-11T02:36:55.887Z"
   },
   {
    "duration": 10,
    "start_time": "2022-03-11T02:36:55.918Z"
   },
   {
    "duration": 5,
    "start_time": "2022-03-11T02:36:55.949Z"
   },
   {
    "duration": 21,
    "start_time": "2022-03-11T02:36:56.545Z"
   },
   {
    "duration": 5,
    "start_time": "2022-03-11T02:36:57.706Z"
   },
   {
    "duration": 2,
    "start_time": "2022-03-11T02:36:57.929Z"
   },
   {
    "duration": 22,
    "start_time": "2022-03-11T02:37:17.221Z"
   },
   {
    "duration": 13,
    "start_time": "2022-03-11T02:38:47.339Z"
   },
   {
    "duration": 2,
    "start_time": "2022-03-11T02:38:59.846Z"
   },
   {
    "duration": 77,
    "start_time": "2022-03-11T02:39:00.250Z"
   },
   {
    "duration": 17,
    "start_time": "2022-03-11T02:39:01.867Z"
   },
   {
    "duration": 12,
    "start_time": "2022-03-11T02:39:02.986Z"
   },
   {
    "duration": 339,
    "start_time": "2022-03-11T02:39:24.427Z"
   },
   {
    "duration": 305,
    "start_time": "2022-03-11T02:39:32.809Z"
   },
   {
    "duration": 8,
    "start_time": "2022-03-11T02:39:34.953Z"
   },
   {
    "duration": 7,
    "start_time": "2022-03-11T02:39:47.404Z"
   },
   {
    "duration": 6,
    "start_time": "2022-03-11T02:40:10.490Z"
   },
   {
    "duration": 21,
    "start_time": "2022-03-11T02:40:24.441Z"
   },
   {
    "duration": 12,
    "start_time": "2022-03-11T02:40:42.857Z"
   },
   {
    "duration": 2,
    "start_time": "2022-03-11T02:40:44.650Z"
   },
   {
    "duration": 2,
    "start_time": "2022-03-11T02:40:44.968Z"
   },
   {
    "duration": 2,
    "start_time": "2022-03-11T02:40:45.337Z"
   },
   {
    "duration": 2,
    "start_time": "2022-03-11T02:40:45.688Z"
   },
   {
    "duration": 71,
    "start_time": "2022-03-11T02:40:46.350Z"
   },
   {
    "duration": 46,
    "start_time": "2022-03-11T02:40:47.228Z"
   },
   {
    "duration": 10,
    "start_time": "2022-03-11T02:40:49.166Z"
   },
   {
    "duration": 12,
    "start_time": "2022-03-11T02:40:49.865Z"
   },
   {
    "duration": 6,
    "start_time": "2022-03-11T02:40:51.405Z"
   },
   {
    "duration": 21,
    "start_time": "2022-03-11T02:40:59.980Z"
   },
   {
    "duration": 29,
    "start_time": "2022-03-11T02:41:06.777Z"
   },
   {
    "duration": 20,
    "start_time": "2022-03-11T02:41:33.849Z"
   },
   {
    "duration": 20,
    "start_time": "2022-03-11T02:41:47.034Z"
   },
   {
    "duration": 18,
    "start_time": "2022-03-11T02:41:59.720Z"
   },
   {
    "duration": 1346,
    "start_time": "2022-03-11T02:42:15.516Z"
   },
   {
    "duration": 2,
    "start_time": "2022-03-11T02:42:20.265Z"
   },
   {
    "duration": 80,
    "start_time": "2022-03-11T02:42:20.829Z"
   },
   {
    "duration": 17,
    "start_time": "2022-03-11T02:42:20.923Z"
   },
   {
    "duration": 12,
    "start_time": "2022-03-11T02:42:20.959Z"
   },
   {
    "duration": 2,
    "start_time": "2022-03-11T02:42:21.017Z"
   },
   {
    "duration": 3,
    "start_time": "2022-03-11T02:42:21.304Z"
   },
   {
    "duration": 3,
    "start_time": "2022-03-11T02:42:21.927Z"
   },
   {
    "duration": 2,
    "start_time": "2022-03-11T02:42:22.607Z"
   },
   {
    "duration": 71,
    "start_time": "2022-03-11T02:42:22.704Z"
   },
   {
    "duration": 41,
    "start_time": "2022-03-11T02:42:22.813Z"
   },
   {
    "duration": 9,
    "start_time": "2022-03-11T02:42:22.905Z"
   },
   {
    "duration": 11,
    "start_time": "2022-03-11T02:42:23.258Z"
   },
   {
    "duration": 6,
    "start_time": "2022-03-11T02:42:23.594Z"
   },
   {
    "duration": 21,
    "start_time": "2022-03-11T02:42:23.961Z"
   },
   {
    "duration": 1437,
    "start_time": "2022-03-11T02:45:06.024Z"
   },
   {
    "duration": 2,
    "start_time": "2022-03-11T02:45:13.063Z"
   },
   {
    "duration": 76,
    "start_time": "2022-03-11T02:45:13.632Z"
   },
   {
    "duration": 16,
    "start_time": "2022-03-11T02:45:13.724Z"
   },
   {
    "duration": 12,
    "start_time": "2022-03-11T02:45:13.760Z"
   },
   {
    "duration": 2,
    "start_time": "2022-03-11T02:45:13.836Z"
   },
   {
    "duration": 2,
    "start_time": "2022-03-11T02:45:13.900Z"
   },
   {
    "duration": 2,
    "start_time": "2022-03-11T02:45:13.973Z"
   },
   {
    "duration": 2,
    "start_time": "2022-03-11T02:45:14.023Z"
   },
   {
    "duration": 72,
    "start_time": "2022-03-11T02:45:14.124Z"
   },
   {
    "duration": 45,
    "start_time": "2022-03-11T02:45:14.229Z"
   },
   {
    "duration": 10,
    "start_time": "2022-03-11T02:45:14.322Z"
   },
   {
    "duration": 11,
    "start_time": "2022-03-11T02:45:14.354Z"
   },
   {
    "duration": 5,
    "start_time": "2022-03-11T02:45:14.387Z"
   },
   {
    "duration": 25,
    "start_time": "2022-03-11T02:45:14.420Z"
   },
   {
    "duration": 24,
    "start_time": "2022-03-11T02:45:14.529Z"
   },
   {
    "duration": 2,
    "start_time": "2022-03-11T02:45:14.564Z"
   },
   {
    "duration": 2,
    "start_time": "2022-03-11T02:45:14.657Z"
   },
   {
    "duration": 2,
    "start_time": "2022-03-11T02:45:14.687Z"
   },
   {
    "duration": 2,
    "start_time": "2022-03-11T02:45:14.719Z"
   },
   {
    "duration": 2,
    "start_time": "2022-03-11T02:45:14.747Z"
   },
   {
    "duration": 2,
    "start_time": "2022-03-11T02:45:14.779Z"
   },
   {
    "duration": 2,
    "start_time": "2022-03-11T02:45:14.810Z"
   },
   {
    "duration": 2,
    "start_time": "2022-03-11T02:45:14.889Z"
   },
   {
    "duration": 5,
    "start_time": "2022-03-11T02:45:22.278Z"
   },
   {
    "duration": 5,
    "start_time": "2022-03-11T02:45:31.870Z"
   },
   {
    "duration": 5,
    "start_time": "2022-03-11T02:45:36.552Z"
   },
   {
    "duration": 5,
    "start_time": "2022-03-11T02:45:42.455Z"
   },
   {
    "duration": 1357,
    "start_time": "2022-03-11T02:46:20.057Z"
   },
   {
    "duration": 2,
    "start_time": "2022-03-11T02:46:24.934Z"
   },
   {
    "duration": 77,
    "start_time": "2022-03-11T02:46:25.494Z"
   },
   {
    "duration": 17,
    "start_time": "2022-03-11T02:46:25.602Z"
   },
   {
    "duration": 12,
    "start_time": "2022-03-11T02:46:25.643Z"
   },
   {
    "duration": 2,
    "start_time": "2022-03-11T02:46:25.699Z"
   },
   {
    "duration": 2,
    "start_time": "2022-03-11T02:46:25.763Z"
   },
   {
    "duration": 2,
    "start_time": "2022-03-11T02:46:25.834Z"
   },
   {
    "duration": 2,
    "start_time": "2022-03-11T02:46:25.897Z"
   },
   {
    "duration": 72,
    "start_time": "2022-03-11T02:46:26.003Z"
   },
   {
    "duration": 44,
    "start_time": "2022-03-11T02:46:26.103Z"
   },
   {
    "duration": 10,
    "start_time": "2022-03-11T02:46:26.456Z"
   },
   {
    "duration": 12,
    "start_time": "2022-03-11T02:46:27.032Z"
   },
   {
    "duration": 7,
    "start_time": "2022-03-11T02:46:27.366Z"
   },
   {
    "duration": 26,
    "start_time": "2022-03-11T02:46:27.830Z"
   },
   {
    "duration": 5,
    "start_time": "2022-03-11T02:46:29.639Z"
   },
   {
    "duration": 2,
    "start_time": "2022-03-11T02:46:30.701Z"
   },
   {
    "duration": 23,
    "start_time": "2022-03-11T02:47:35.031Z"
   },
   {
    "duration": 306,
    "start_time": "2022-03-11T02:48:23.689Z"
   },
   {
    "duration": 393,
    "start_time": "2022-03-11T02:48:30.373Z"
   },
   {
    "duration": 20,
    "start_time": "2022-03-11T02:48:38.542Z"
   },
   {
    "duration": 6,
    "start_time": "2022-03-11T02:48:41.046Z"
   },
   {
    "duration": 5,
    "start_time": "2022-03-11T02:48:59.878Z"
   },
   {
    "duration": 1384,
    "start_time": "2022-03-11T02:49:12.629Z"
   },
   {
    "duration": 3,
    "start_time": "2022-03-11T02:49:25.461Z"
   },
   {
    "duration": 76,
    "start_time": "2022-03-11T02:49:26.030Z"
   },
   {
    "duration": 17,
    "start_time": "2022-03-11T02:49:26.125Z"
   },
   {
    "duration": 13,
    "start_time": "2022-03-11T02:49:26.165Z"
   },
   {
    "duration": 2,
    "start_time": "2022-03-11T02:49:26.226Z"
   },
   {
    "duration": 2,
    "start_time": "2022-03-11T02:49:26.302Z"
   },
   {
    "duration": 2,
    "start_time": "2022-03-11T02:49:26.365Z"
   },
   {
    "duration": 2,
    "start_time": "2022-03-11T02:49:26.428Z"
   },
   {
    "duration": 72,
    "start_time": "2022-03-11T02:49:26.529Z"
   },
   {
    "duration": 43,
    "start_time": "2022-03-11T02:49:26.619Z"
   },
   {
    "duration": 11,
    "start_time": "2022-03-11T02:49:26.719Z"
   },
   {
    "duration": 11,
    "start_time": "2022-03-11T02:49:26.762Z"
   },
   {
    "duration": 5,
    "start_time": "2022-03-11T02:49:26.794Z"
   },
   {
    "duration": 36,
    "start_time": "2022-03-11T02:49:26.825Z"
   },
   {
    "duration": 2,
    "start_time": "2022-03-11T02:49:26.918Z"
   },
   {
    "duration": 2,
    "start_time": "2022-03-11T02:49:26.950Z"
   },
   {
    "duration": 2,
    "start_time": "2022-03-11T02:49:27.066Z"
   },
   {
    "duration": 2,
    "start_time": "2022-03-11T02:49:27.092Z"
   },
   {
    "duration": 3,
    "start_time": "2022-03-11T02:49:27.610Z"
   },
   {
    "duration": 2,
    "start_time": "2022-03-11T02:49:27.814Z"
   },
   {
    "duration": 2,
    "start_time": "2022-03-11T02:49:28.019Z"
   },
   {
    "duration": 2,
    "start_time": "2022-03-11T02:49:28.211Z"
   },
   {
    "duration": 1436,
    "start_time": "2022-03-11T02:49:41.077Z"
   },
   {
    "duration": 2,
    "start_time": "2022-03-11T02:49:47.397Z"
   },
   {
    "duration": 80,
    "start_time": "2022-03-11T02:49:47.973Z"
   },
   {
    "duration": 17,
    "start_time": "2022-03-11T02:49:48.468Z"
   },
   {
    "duration": 13,
    "start_time": "2022-03-11T02:49:48.985Z"
   },
   {
    "duration": 2,
    "start_time": "2022-03-11T02:49:49.044Z"
   },
   {
    "duration": 2,
    "start_time": "2022-03-11T02:49:49.109Z"
   },
   {
    "duration": 2,
    "start_time": "2022-03-11T02:49:49.170Z"
   },
   {
    "duration": 3,
    "start_time": "2022-03-11T02:49:49.460Z"
   },
   {
    "duration": 72,
    "start_time": "2022-03-11T02:49:50.504Z"
   },
   {
    "duration": 44,
    "start_time": "2022-03-11T02:49:50.614Z"
   },
   {
    "duration": 10,
    "start_time": "2022-03-11T02:49:51.285Z"
   },
   {
    "duration": 11,
    "start_time": "2022-03-11T02:49:51.525Z"
   },
   {
    "duration": 6,
    "start_time": "2022-03-11T02:49:51.837Z"
   },
   {
    "duration": 34,
    "start_time": "2022-03-11T02:49:52.105Z"
   },
   {
    "duration": 1333,
    "start_time": "2022-03-11T02:50:07.653Z"
   },
   {
    "duration": 2,
    "start_time": "2022-03-11T02:50:37.298Z"
   },
   {
    "duration": 77,
    "start_time": "2022-03-11T02:50:37.829Z"
   },
   {
    "duration": 17,
    "start_time": "2022-03-11T02:50:37.921Z"
   },
   {
    "duration": 12,
    "start_time": "2022-03-11T02:50:37.953Z"
   },
   {
    "duration": 2,
    "start_time": "2022-03-11T02:50:38.016Z"
   },
   {
    "duration": 2,
    "start_time": "2022-03-11T02:50:38.096Z"
   },
   {
    "duration": 2,
    "start_time": "2022-03-11T02:50:38.162Z"
   },
   {
    "duration": 2,
    "start_time": "2022-03-11T02:50:38.876Z"
   },
   {
    "duration": 72,
    "start_time": "2022-03-11T02:50:39.543Z"
   },
   {
    "duration": 46,
    "start_time": "2022-03-11T02:50:40.570Z"
   },
   {
    "duration": 10,
    "start_time": "2022-03-11T02:50:42.163Z"
   },
   {
    "duration": 11,
    "start_time": "2022-03-11T02:50:42.403Z"
   },
   {
    "duration": 6,
    "start_time": "2022-03-11T02:50:43.444Z"
   },
   {
    "duration": 35,
    "start_time": "2022-03-11T02:50:46.229Z"
   },
   {
    "duration": 1455,
    "start_time": "2022-03-11T02:51:18.038Z"
   },
   {
    "duration": 2,
    "start_time": "2022-03-11T02:51:24.133Z"
   },
   {
    "duration": 79,
    "start_time": "2022-03-11T02:51:24.964Z"
   },
   {
    "duration": 17,
    "start_time": "2022-03-11T02:51:26.054Z"
   },
   {
    "duration": 13,
    "start_time": "2022-03-11T02:51:26.292Z"
   },
   {
    "duration": 3,
    "start_time": "2022-03-11T02:51:26.698Z"
   },
   {
    "duration": 2,
    "start_time": "2022-03-11T02:51:27.047Z"
   },
   {
    "duration": 2,
    "start_time": "2022-03-11T02:51:27.689Z"
   },
   {
    "duration": 1,
    "start_time": "2022-03-11T02:51:27.753Z"
   },
   {
    "duration": 73,
    "start_time": "2022-03-11T02:51:27.855Z"
   },
   {
    "duration": 43,
    "start_time": "2022-03-11T02:51:27.943Z"
   },
   {
    "duration": 10,
    "start_time": "2022-03-11T02:51:28.515Z"
   },
   {
    "duration": 11,
    "start_time": "2022-03-11T02:51:28.728Z"
   },
   {
    "duration": 6,
    "start_time": "2022-03-11T02:51:28.949Z"
   },
   {
    "duration": 27,
    "start_time": "2022-03-11T02:51:29.220Z"
   },
   {
    "duration": 22,
    "start_time": "2022-03-11T02:52:41.156Z"
   },
   {
    "duration": 2,
    "start_time": "2022-03-11T02:52:44.867Z"
   },
   {
    "duration": 77,
    "start_time": "2022-03-11T02:52:45.400Z"
   },
   {
    "duration": 21,
    "start_time": "2022-03-11T02:52:45.922Z"
   },
   {
    "duration": 12,
    "start_time": "2022-03-11T02:52:46.082Z"
   },
   {
    "duration": 2,
    "start_time": "2022-03-11T02:52:46.420Z"
   },
   {
    "duration": 2,
    "start_time": "2022-03-11T02:52:46.819Z"
   },
   {
    "duration": 2,
    "start_time": "2022-03-11T02:52:47.486Z"
   },
   {
    "duration": 2,
    "start_time": "2022-03-11T02:52:47.547Z"
   },
   {
    "duration": 74,
    "start_time": "2022-03-11T02:52:47.660Z"
   },
   {
    "duration": 43,
    "start_time": "2022-03-11T02:52:47.972Z"
   },
   {
    "duration": 9,
    "start_time": "2022-03-11T02:52:48.693Z"
   },
   {
    "duration": 11,
    "start_time": "2022-03-11T02:52:48.899Z"
   },
   {
    "duration": 6,
    "start_time": "2022-03-11T02:52:49.091Z"
   },
   {
    "duration": 24,
    "start_time": "2022-03-11T02:52:49.267Z"
   },
   {
    "duration": 25,
    "start_time": "2022-03-11T02:52:55.017Z"
   },
   {
    "duration": 23,
    "start_time": "2022-03-11T02:53:19.895Z"
   },
   {
    "duration": 23,
    "start_time": "2022-03-11T02:53:32.435Z"
   },
   {
    "duration": 22,
    "start_time": "2022-03-11T02:53:48.229Z"
   },
   {
    "duration": 2,
    "start_time": "2022-03-11T02:53:51.685Z"
   },
   {
    "duration": 76,
    "start_time": "2022-03-11T02:53:52.245Z"
   },
   {
    "duration": 17,
    "start_time": "2022-03-11T02:53:52.357Z"
   },
   {
    "duration": 11,
    "start_time": "2022-03-11T02:53:52.388Z"
   },
   {
    "duration": 2,
    "start_time": "2022-03-11T02:53:52.448Z"
   },
   {
    "duration": 2,
    "start_time": "2022-03-11T02:53:52.512Z"
   },
   {
    "duration": 2,
    "start_time": "2022-03-11T02:53:52.576Z"
   },
   {
    "duration": 2,
    "start_time": "2022-03-11T02:53:52.641Z"
   },
   {
    "duration": 72,
    "start_time": "2022-03-11T02:53:52.757Z"
   },
   {
    "duration": 46,
    "start_time": "2022-03-11T02:53:53.155Z"
   },
   {
    "duration": 9,
    "start_time": "2022-03-11T02:53:53.901Z"
   },
   {
    "duration": 11,
    "start_time": "2022-03-11T02:53:54.102Z"
   },
   {
    "duration": 9,
    "start_time": "2022-03-11T02:53:54.311Z"
   },
   {
    "duration": 31,
    "start_time": "2022-03-11T02:53:54.516Z"
   },
   {
    "duration": 289,
    "start_time": "2022-03-11T16:02:44.602Z"
   },
   {
    "duration": 656,
    "start_time": "2022-03-11T16:02:49.204Z"
   },
   {
    "duration": 97,
    "start_time": "2022-03-11T16:02:50.022Z"
   },
   {
    "duration": 24,
    "start_time": "2022-03-11T16:02:50.636Z"
   },
   {
    "duration": 25,
    "start_time": "2022-03-11T16:02:50.830Z"
   },
   {
    "duration": 4,
    "start_time": "2022-03-11T16:02:51.235Z"
   },
   {
    "duration": 4,
    "start_time": "2022-03-11T16:02:51.653Z"
   },
   {
    "duration": 3,
    "start_time": "2022-03-11T16:02:52.229Z"
   },
   {
    "duration": 3,
    "start_time": "2022-03-11T16:02:52.778Z"
   },
   {
    "duration": 102,
    "start_time": "2022-03-11T16:02:52.859Z"
   },
   {
    "duration": 65,
    "start_time": "2022-03-11T16:02:52.966Z"
   },
   {
    "duration": 14,
    "start_time": "2022-03-11T16:02:53.742Z"
   },
   {
    "duration": 15,
    "start_time": "2022-03-11T16:02:54.232Z"
   },
   {
    "duration": 8,
    "start_time": "2022-03-11T16:02:54.276Z"
   },
   {
    "duration": 42,
    "start_time": "2022-03-11T16:02:54.313Z"
   },
   {
    "duration": 29,
    "start_time": "2022-03-11T16:02:54.404Z"
   },
   {
    "duration": 3,
    "start_time": "2022-03-11T16:02:54.440Z"
   },
   {
    "duration": 18,
    "start_time": "2022-03-11T16:03:09.682Z"
   },
   {
    "duration": 6,
    "start_time": "2022-03-11T16:05:30.230Z"
   },
   {
    "duration": 4,
    "start_time": "2022-03-11T16:05:41.027Z"
   },
   {
    "duration": 122,
    "start_time": "2022-03-11T16:05:41.950Z"
   },
   {
    "duration": 43,
    "start_time": "2022-03-11T16:05:42.075Z"
   },
   {
    "duration": 22,
    "start_time": "2022-03-11T16:05:42.121Z"
   },
   {
    "duration": 3,
    "start_time": "2022-03-11T16:05:42.157Z"
   },
   {
    "duration": 2,
    "start_time": "2022-03-11T16:05:42.228Z"
   },
   {
    "duration": 2,
    "start_time": "2022-03-11T16:05:42.290Z"
   },
   {
    "duration": 2,
    "start_time": "2022-03-11T16:05:42.361Z"
   },
   {
    "duration": 94,
    "start_time": "2022-03-11T16:05:42.453Z"
   },
   {
    "duration": 64,
    "start_time": "2022-03-11T16:05:43.221Z"
   },
   {
    "duration": 12,
    "start_time": "2022-03-11T16:05:43.891Z"
   },
   {
    "duration": 14,
    "start_time": "2022-03-11T16:05:44.133Z"
   },
   {
    "duration": 9,
    "start_time": "2022-03-11T16:05:44.380Z"
   },
   {
    "duration": 41,
    "start_time": "2022-03-11T16:05:44.612Z"
   },
   {
    "duration": 29,
    "start_time": "2022-03-11T16:05:45.513Z"
   },
   {
    "duration": 17,
    "start_time": "2022-03-11T16:05:45.748Z"
   },
   {
    "duration": 9,
    "start_time": "2022-03-11T16:09:40.260Z"
   },
   {
    "duration": 247,
    "start_time": "2022-03-11T16:09:56.147Z"
   },
   {
    "duration": 3,
    "start_time": "2022-03-11T16:10:14.245Z"
   },
   {
    "duration": 82,
    "start_time": "2022-03-11T16:10:14.786Z"
   },
   {
    "duration": 21,
    "start_time": "2022-03-11T16:10:15.515Z"
   },
   {
    "duration": 17,
    "start_time": "2022-03-11T16:10:15.810Z"
   },
   {
    "duration": 2,
    "start_time": "2022-03-11T16:10:16.531Z"
   },
   {
    "duration": 2,
    "start_time": "2022-03-11T16:10:17.122Z"
   },
   {
    "duration": 3,
    "start_time": "2022-03-11T16:10:17.539Z"
   },
   {
    "duration": 3,
    "start_time": "2022-03-11T16:10:17.953Z"
   },
   {
    "duration": 93,
    "start_time": "2022-03-11T16:10:19.352Z"
   },
   {
    "duration": 59,
    "start_time": "2022-03-11T16:10:21.410Z"
   },
   {
    "duration": 13,
    "start_time": "2022-03-11T16:10:23.239Z"
   },
   {
    "duration": 13,
    "start_time": "2022-03-11T16:10:24.241Z"
   },
   {
    "duration": 216,
    "start_time": "2022-03-11T16:10:25.556Z"
   },
   {
    "duration": 6,
    "start_time": "2022-03-11T16:10:54.118Z"
   },
   {
    "duration": 5,
    "start_time": "2022-03-11T16:11:04.397Z"
   },
   {
    "duration": 7,
    "start_time": "2022-03-11T16:11:13.255Z"
   },
   {
    "duration": 7,
    "start_time": "2022-03-11T16:11:26.883Z"
   },
   {
    "duration": 7,
    "start_time": "2022-03-11T16:11:37.474Z"
   },
   {
    "duration": 39,
    "start_time": "2022-03-11T16:11:57.541Z"
   },
   {
    "duration": 41,
    "start_time": "2022-03-11T16:12:05.442Z"
   },
   {
    "duration": 77,
    "start_time": "2022-03-11T16:15:08.321Z"
   },
   {
    "duration": 385,
    "start_time": "2022-03-11T16:15:15.456Z"
   },
   {
    "duration": 74,
    "start_time": "2022-03-11T16:15:25.793Z"
   },
   {
    "duration": 10,
    "start_time": "2022-03-11T16:15:32.560Z"
   },
   {
    "duration": 230,
    "start_time": "2022-03-11T16:16:00.241Z"
   },
   {
    "duration": 9,
    "start_time": "2022-03-11T16:16:10.656Z"
   },
   {
    "duration": 7,
    "start_time": "2022-03-11T16:16:18.209Z"
   },
   {
    "duration": 17,
    "start_time": "2022-03-11T16:16:29.939Z"
   },
   {
    "duration": 232,
    "start_time": "2022-03-11T16:16:42.385Z"
   },
   {
    "duration": 8,
    "start_time": "2022-03-11T16:16:46.979Z"
   },
   {
    "duration": 27,
    "start_time": "2022-03-11T16:17:16.753Z"
   },
   {
    "duration": 31,
    "start_time": "2022-03-11T16:17:56.499Z"
   },
   {
    "duration": 71,
    "start_time": "2022-03-11T16:20:05.407Z"
   },
   {
    "duration": 68,
    "start_time": "2022-03-11T16:20:21.414Z"
   },
   {
    "duration": 38,
    "start_time": "2022-03-11T16:20:56.721Z"
   },
   {
    "duration": 33,
    "start_time": "2022-03-11T16:21:09.166Z"
   },
   {
    "duration": 256,
    "start_time": "2022-03-11T16:21:15.032Z"
   },
   {
    "duration": 3,
    "start_time": "2022-03-11T16:21:35.325Z"
   },
   {
    "duration": 89,
    "start_time": "2022-03-11T16:21:35.889Z"
   },
   {
    "duration": 25,
    "start_time": "2022-03-11T16:21:35.983Z"
   },
   {
    "duration": 40,
    "start_time": "2022-03-11T16:21:36.014Z"
   },
   {
    "duration": 8,
    "start_time": "2022-03-11T16:21:36.078Z"
   },
   {
    "duration": 3,
    "start_time": "2022-03-11T16:21:36.413Z"
   },
   {
    "duration": 5,
    "start_time": "2022-03-11T16:21:36.956Z"
   },
   {
    "duration": 2,
    "start_time": "2022-03-11T16:21:37.013Z"
   },
   {
    "duration": 91,
    "start_time": "2022-03-11T16:21:37.140Z"
   },
   {
    "duration": 52,
    "start_time": "2022-03-11T16:21:37.438Z"
   },
   {
    "duration": 12,
    "start_time": "2022-03-11T16:21:38.398Z"
   },
   {
    "duration": 13,
    "start_time": "2022-03-11T16:21:38.657Z"
   },
   {
    "duration": 251,
    "start_time": "2022-03-11T16:21:38.964Z"
   },
   {
    "duration": 246,
    "start_time": "2022-03-11T16:21:55.761Z"
   },
   {
    "duration": 25,
    "start_time": "2022-03-11T16:22:30.641Z"
   },
   {
    "duration": 27,
    "start_time": "2022-03-11T16:22:42.926Z"
   },
   {
    "duration": 26,
    "start_time": "2022-03-11T16:22:52.125Z"
   },
   {
    "duration": 296,
    "start_time": "2022-03-11T16:23:30.962Z"
   },
   {
    "duration": 336,
    "start_time": "2022-03-11T16:24:05.639Z"
   },
   {
    "duration": 28,
    "start_time": "2022-03-11T16:24:32.926Z"
   },
   {
    "duration": 29,
    "start_time": "2022-03-11T16:24:50.056Z"
   },
   {
    "duration": 265,
    "start_time": "2022-03-11T16:25:00.030Z"
   },
   {
    "duration": 260,
    "start_time": "2022-03-11T16:26:11.081Z"
   },
   {
    "duration": 255,
    "start_time": "2022-03-11T16:26:15.616Z"
   },
   {
    "duration": 265,
    "start_time": "2022-03-11T16:26:27.054Z"
   },
   {
    "duration": 339,
    "start_time": "2022-03-11T16:27:17.753Z"
   },
   {
    "duration": 239,
    "start_time": "2022-03-11T16:27:22.397Z"
   },
   {
    "duration": 29,
    "start_time": "2022-03-11T16:28:13.199Z"
   },
   {
    "duration": 30,
    "start_time": "2022-03-11T16:28:23.117Z"
   },
   {
    "duration": 25,
    "start_time": "2022-03-11T16:28:44.462Z"
   },
   {
    "duration": 254,
    "start_time": "2022-03-11T16:29:19.872Z"
   },
   {
    "duration": 377,
    "start_time": "2022-03-11T16:29:52.351Z"
   },
   {
    "duration": 3,
    "start_time": "2022-03-11T16:29:57.980Z"
   },
   {
    "duration": 99,
    "start_time": "2022-03-11T16:29:58.546Z"
   },
   {
    "duration": 121,
    "start_time": "2022-03-11T16:29:58.648Z"
   },
   {
    "duration": 36,
    "start_time": "2022-03-11T16:29:58.771Z"
   },
   {
    "duration": 27,
    "start_time": "2022-03-11T16:29:58.810Z"
   },
   {
    "duration": 9,
    "start_time": "2022-03-11T16:29:58.839Z"
   },
   {
    "duration": 3,
    "start_time": "2022-03-11T16:29:58.895Z"
   },
   {
    "duration": 3,
    "start_time": "2022-03-11T16:29:58.947Z"
   },
   {
    "duration": 115,
    "start_time": "2022-03-11T16:29:59.048Z"
   },
   {
    "duration": 75,
    "start_time": "2022-03-11T16:29:59.166Z"
   },
   {
    "duration": 15,
    "start_time": "2022-03-11T16:29:59.244Z"
   },
   {
    "duration": 30,
    "start_time": "2022-03-11T16:29:59.271Z"
   },
   {
    "duration": 285,
    "start_time": "2022-03-11T16:29:59.308Z"
   },
   {
    "duration": 176,
    "start_time": "2022-03-11T16:29:59.420Z"
   },
   {
    "duration": 37,
    "start_time": "2022-03-11T16:30:00.991Z"
   },
   {
    "duration": 18,
    "start_time": "2022-03-11T16:30:02.230Z"
   },
   {
    "duration": 310,
    "start_time": "2022-03-11T16:31:38.236Z"
   },
   {
    "duration": 312,
    "start_time": "2022-03-11T16:31:53.183Z"
   },
   {
    "duration": 244,
    "start_time": "2022-03-11T16:31:56.477Z"
   },
   {
    "duration": 276,
    "start_time": "2022-03-11T16:32:22.175Z"
   },
   {
    "duration": 3,
    "start_time": "2022-03-11T16:32:34.291Z"
   },
   {
    "duration": 92,
    "start_time": "2022-03-11T16:32:35.102Z"
   },
   {
    "duration": 21,
    "start_time": "2022-03-11T16:32:35.724Z"
   },
   {
    "duration": 16,
    "start_time": "2022-03-11T16:32:35.963Z"
   },
   {
    "duration": 3,
    "start_time": "2022-03-11T16:32:36.433Z"
   },
   {
    "duration": 3,
    "start_time": "2022-03-11T16:32:36.907Z"
   },
   {
    "duration": 2,
    "start_time": "2022-03-11T16:32:37.338Z"
   },
   {
    "duration": 3,
    "start_time": "2022-03-11T16:32:37.834Z"
   },
   {
    "duration": 89,
    "start_time": "2022-03-11T16:32:38.430Z"
   },
   {
    "duration": 56,
    "start_time": "2022-03-11T16:32:39.373Z"
   },
   {
    "duration": 13,
    "start_time": "2022-03-11T16:32:40.108Z"
   },
   {
    "duration": 13,
    "start_time": "2022-03-11T16:32:40.315Z"
   },
   {
    "duration": 257,
    "start_time": "2022-03-11T16:32:42.637Z"
   },
   {
    "duration": 248,
    "start_time": "2022-03-11T16:32:51.501Z"
   },
   {
    "duration": 274,
    "start_time": "2022-03-11T16:34:48.754Z"
   },
   {
    "duration": 3,
    "start_time": "2022-03-11T16:34:53.081Z"
   },
   {
    "duration": 101,
    "start_time": "2022-03-11T16:34:53.641Z"
   },
   {
    "duration": 21,
    "start_time": "2022-03-11T16:34:53.744Z"
   },
   {
    "duration": 16,
    "start_time": "2022-03-11T16:34:53.787Z"
   },
   {
    "duration": 2,
    "start_time": "2022-03-11T16:34:53.850Z"
   },
   {
    "duration": 2,
    "start_time": "2022-03-11T16:34:53.916Z"
   },
   {
    "duration": 3,
    "start_time": "2022-03-11T16:34:53.970Z"
   },
   {
    "duration": 2,
    "start_time": "2022-03-11T16:34:54.048Z"
   },
   {
    "duration": 150,
    "start_time": "2022-03-11T16:34:54.144Z"
   },
   {
    "duration": 52,
    "start_time": "2022-03-11T16:34:54.295Z"
   },
   {
    "duration": 11,
    "start_time": "2022-03-11T16:34:54.349Z"
   },
   {
    "duration": 13,
    "start_time": "2022-03-11T16:34:54.362Z"
   },
   {
    "duration": 250,
    "start_time": "2022-03-11T16:34:54.410Z"
   },
   {
    "duration": 172,
    "start_time": "2022-03-11T16:34:54.491Z"
   },
   {
    "duration": 23,
    "start_time": "2022-03-11T16:34:55.370Z"
   },
   {
    "duration": 16,
    "start_time": "2022-03-11T16:34:55.962Z"
   },
   {
    "duration": 267,
    "start_time": "2022-03-11T16:36:02.360Z"
   },
   {
    "duration": 45,
    "start_time": "2022-03-11T16:53:07.412Z"
   },
   {
    "duration": 31,
    "start_time": "2022-03-11T16:53:13.380Z"
   },
   {
    "duration": 25,
    "start_time": "2022-03-11T16:53:29.248Z"
   },
   {
    "duration": 31,
    "start_time": "2022-03-11T16:53:33.382Z"
   },
   {
    "duration": 1068,
    "start_time": "2022-03-11T16:55:45.583Z"
   },
   {
    "duration": 1071,
    "start_time": "2022-03-11T16:56:25.328Z"
   },
   {
    "duration": 1041,
    "start_time": "2022-03-11T16:56:38.848Z"
   },
   {
    "duration": 4,
    "start_time": "2022-03-11T16:56:53.146Z"
   },
   {
    "duration": 85,
    "start_time": "2022-03-11T16:56:53.702Z"
   },
   {
    "duration": 21,
    "start_time": "2022-03-11T16:56:53.800Z"
   },
   {
    "duration": 15,
    "start_time": "2022-03-11T16:56:53.838Z"
   },
   {
    "duration": 3,
    "start_time": "2022-03-11T16:56:53.930Z"
   },
   {
    "duration": 3,
    "start_time": "2022-03-11T16:56:53.972Z"
   },
   {
    "duration": 2,
    "start_time": "2022-03-11T16:56:54.034Z"
   },
   {
    "duration": 2,
    "start_time": "2022-03-11T16:56:54.097Z"
   },
   {
    "duration": 89,
    "start_time": "2022-03-11T16:56:54.192Z"
   },
   {
    "duration": 69,
    "start_time": "2022-03-11T16:56:54.301Z"
   },
   {
    "duration": 12,
    "start_time": "2022-03-11T16:56:54.941Z"
   },
   {
    "duration": 14,
    "start_time": "2022-03-11T16:56:57.086Z"
   },
   {
    "duration": 40,
    "start_time": "2022-03-11T16:56:57.822Z"
   },
   {
    "duration": 39,
    "start_time": "2022-03-11T16:56:58.288Z"
   },
   {
    "duration": 21,
    "start_time": "2022-03-11T16:56:59.550Z"
   },
   {
    "duration": 17,
    "start_time": "2022-03-11T16:57:00.511Z"
   },
   {
    "duration": 31,
    "start_time": "2022-03-11T16:57:35.824Z"
   },
   {
    "duration": 4,
    "start_time": "2022-03-11T16:57:40.671Z"
   },
   {
    "duration": 90,
    "start_time": "2022-03-11T16:57:41.266Z"
   },
   {
    "duration": 22,
    "start_time": "2022-03-11T16:57:41.358Z"
   },
   {
    "duration": 30,
    "start_time": "2022-03-11T16:57:41.382Z"
   },
   {
    "duration": 3,
    "start_time": "2022-03-11T16:57:41.443Z"
   },
   {
    "duration": 3,
    "start_time": "2022-03-11T16:57:41.512Z"
   },
   {
    "duration": 3,
    "start_time": "2022-03-11T16:57:41.568Z"
   },
   {
    "duration": 3,
    "start_time": "2022-03-11T16:57:41.638Z"
   },
   {
    "duration": 92,
    "start_time": "2022-03-11T16:57:41.745Z"
   },
   {
    "duration": 84,
    "start_time": "2022-03-11T16:57:41.839Z"
   },
   {
    "duration": 13,
    "start_time": "2022-03-11T16:57:41.931Z"
   },
   {
    "duration": 14,
    "start_time": "2022-03-11T16:57:41.965Z"
   },
   {
    "duration": 73,
    "start_time": "2022-03-11T16:57:41.997Z"
   },
   {
    "duration": 57,
    "start_time": "2022-03-11T16:57:42.072Z"
   },
   {
    "duration": 33,
    "start_time": "2022-03-11T16:57:42.131Z"
   },
   {
    "duration": 251,
    "start_time": "2022-03-11T16:58:01.808Z"
   },
   {
    "duration": 3,
    "start_time": "2022-03-11T16:58:07.166Z"
   },
   {
    "duration": 84,
    "start_time": "2022-03-11T16:58:07.740Z"
   },
   {
    "duration": 21,
    "start_time": "2022-03-11T16:58:07.830Z"
   },
   {
    "duration": 30,
    "start_time": "2022-03-11T16:58:07.863Z"
   },
   {
    "duration": 2,
    "start_time": "2022-03-11T16:58:07.941Z"
   },
   {
    "duration": 3,
    "start_time": "2022-03-11T16:58:08.007Z"
   },
   {
    "duration": 3,
    "start_time": "2022-03-11T16:58:08.066Z"
   },
   {
    "duration": 2,
    "start_time": "2022-03-11T16:58:08.129Z"
   },
   {
    "duration": 93,
    "start_time": "2022-03-11T16:58:08.227Z"
   },
   {
    "duration": 65,
    "start_time": "2022-03-11T16:58:08.333Z"
   },
   {
    "duration": 12,
    "start_time": "2022-03-11T16:58:08.428Z"
   },
   {
    "duration": 13,
    "start_time": "2022-03-11T16:58:08.458Z"
   },
   {
    "duration": 257,
    "start_time": "2022-03-11T16:58:08.490Z"
   },
   {
    "duration": 40,
    "start_time": "2022-03-11T16:58:08.899Z"
   },
   {
    "duration": 21,
    "start_time": "2022-03-11T16:58:09.645Z"
   },
   {
    "duration": 16,
    "start_time": "2022-03-11T16:58:09.855Z"
   },
   {
    "duration": 16,
    "start_time": "2022-03-11T17:15:24.378Z"
   },
   {
    "duration": 14,
    "start_time": "2022-03-11T17:15:35.434Z"
   },
   {
    "duration": 25,
    "start_time": "2022-03-11T17:15:48.521Z"
   },
   {
    "duration": 3,
    "start_time": "2022-03-11T17:18:48.725Z"
   },
   {
    "duration": 82,
    "start_time": "2022-03-11T17:18:49.509Z"
   },
   {
    "duration": 24,
    "start_time": "2022-03-11T17:18:50.185Z"
   },
   {
    "duration": 17,
    "start_time": "2022-03-11T17:18:50.443Z"
   },
   {
    "duration": 2,
    "start_time": "2022-03-11T17:18:51.111Z"
   },
   {
    "duration": 3,
    "start_time": "2022-03-11T17:18:51.604Z"
   },
   {
    "duration": 3,
    "start_time": "2022-03-11T17:18:52.163Z"
   },
   {
    "duration": 3,
    "start_time": "2022-03-11T17:18:52.725Z"
   },
   {
    "duration": 96,
    "start_time": "2022-03-11T17:18:53.446Z"
   },
   {
    "duration": 70,
    "start_time": "2022-03-11T17:18:54.593Z"
   },
   {
    "duration": 13,
    "start_time": "2022-03-11T17:18:55.443Z"
   },
   {
    "duration": 35,
    "start_time": "2022-03-11T17:18:55.716Z"
   },
   {
    "duration": 251,
    "start_time": "2022-03-11T17:18:57.333Z"
   },
   {
    "duration": 41,
    "start_time": "2022-03-11T17:18:58.309Z"
   },
   {
    "duration": 33,
    "start_time": "2022-03-11T17:21:58.246Z"
   },
   {
    "duration": 4,
    "start_time": "2022-03-11T17:22:02.251Z"
   },
   {
    "duration": 116,
    "start_time": "2022-03-11T17:22:02.257Z"
   },
   {
    "duration": 32,
    "start_time": "2022-03-11T17:22:02.376Z"
   },
   {
    "duration": 25,
    "start_time": "2022-03-11T17:22:02.410Z"
   },
   {
    "duration": 37,
    "start_time": "2022-03-11T17:22:02.437Z"
   },
   {
    "duration": 32,
    "start_time": "2022-03-11T17:22:02.476Z"
   },
   {
    "duration": 25,
    "start_time": "2022-03-11T17:22:02.511Z"
   },
   {
    "duration": 22,
    "start_time": "2022-03-11T17:22:02.538Z"
   },
   {
    "duration": 96,
    "start_time": "2022-03-11T17:22:03.159Z"
   },
   {
    "duration": 70,
    "start_time": "2022-03-11T17:22:03.699Z"
   },
   {
    "duration": 14,
    "start_time": "2022-03-11T17:22:04.451Z"
   },
   {
    "duration": 32,
    "start_time": "2022-03-11T17:22:04.677Z"
   },
   {
    "duration": 35,
    "start_time": "2022-03-11T17:22:04.940Z"
   },
   {
    "duration": 42,
    "start_time": "2022-03-11T17:22:05.988Z"
   },
   {
    "duration": 22,
    "start_time": "2022-03-11T17:22:07.530Z"
   },
   {
    "duration": 27,
    "start_time": "2022-03-11T17:22:26.724Z"
   },
   {
    "duration": 9,
    "start_time": "2022-03-11T17:22:45.301Z"
   },
   {
    "duration": 227,
    "start_time": "2022-03-11T17:23:35.685Z"
   },
   {
    "duration": 3610,
    "start_time": "2022-03-11T17:23:47.971Z"
   },
   {
    "duration": 11,
    "start_time": "2022-03-11T17:24:05.059Z"
   },
   {
    "duration": 9,
    "start_time": "2022-03-11T17:24:29.827Z"
   },
   {
    "duration": 268,
    "start_time": "2022-03-11T17:29:53.897Z"
   },
   {
    "duration": 83,
    "start_time": "2022-03-11T17:30:20.695Z"
   },
   {
    "duration": 108,
    "start_time": "2022-03-11T17:30:52.435Z"
   },
   {
    "duration": 10,
    "start_time": "2022-03-11T17:31:06.164Z"
   },
   {
    "duration": 12,
    "start_time": "2022-03-11T17:31:33.027Z"
   },
   {
    "duration": 20,
    "start_time": "2022-03-11T17:31:58.305Z"
   },
   {
    "duration": 4,
    "start_time": "2022-03-11T17:32:02.099Z"
   },
   {
    "duration": 103,
    "start_time": "2022-03-11T17:32:02.446Z"
   },
   {
    "duration": 21,
    "start_time": "2022-03-11T17:32:02.552Z"
   },
   {
    "duration": 32,
    "start_time": "2022-03-11T17:32:02.575Z"
   },
   {
    "duration": 3,
    "start_time": "2022-03-11T17:32:02.637Z"
   },
   {
    "duration": 3,
    "start_time": "2022-03-11T17:32:02.717Z"
   },
   {
    "duration": 3,
    "start_time": "2022-03-11T17:32:02.784Z"
   },
   {
    "duration": 3,
    "start_time": "2022-03-11T17:32:02.836Z"
   },
   {
    "duration": 97,
    "start_time": "2022-03-11T17:32:02.953Z"
   },
   {
    "duration": 82,
    "start_time": "2022-03-11T17:32:03.052Z"
   },
   {
    "duration": 14,
    "start_time": "2022-03-11T17:32:03.140Z"
   },
   {
    "duration": 29,
    "start_time": "2022-03-11T17:32:03.173Z"
   },
   {
    "duration": 31,
    "start_time": "2022-03-11T17:32:03.206Z"
   },
   {
    "duration": 41,
    "start_time": "2022-03-11T17:32:03.239Z"
   },
   {
    "duration": 22,
    "start_time": "2022-03-11T17:32:03.328Z"
   },
   {
    "duration": 16,
    "start_time": "2022-03-11T17:32:03.375Z"
   },
   {
    "duration": 2,
    "start_time": "2022-03-11T17:32:03.471Z"
   },
   {
    "duration": 6,
    "start_time": "2022-03-11T17:32:03.502Z"
   },
   {
    "duration": 3,
    "start_time": "2022-03-11T17:32:03.531Z"
   },
   {
    "duration": 2,
    "start_time": "2022-03-11T17:32:03.563Z"
   },
   {
    "duration": 18,
    "start_time": "2022-03-11T17:35:47.742Z"
   },
   {
    "duration": 3,
    "start_time": "2022-03-11T17:38:03.052Z"
   },
   {
    "duration": 89,
    "start_time": "2022-03-11T17:38:03.611Z"
   },
   {
    "duration": 23,
    "start_time": "2022-03-11T17:38:03.706Z"
   },
   {
    "duration": 17,
    "start_time": "2022-03-11T17:38:03.744Z"
   },
   {
    "duration": 3,
    "start_time": "2022-03-11T17:38:03.824Z"
   },
   {
    "duration": 3,
    "start_time": "2022-03-11T17:38:03.881Z"
   },
   {
    "duration": 3,
    "start_time": "2022-03-11T17:38:03.943Z"
   },
   {
    "duration": 2,
    "start_time": "2022-03-11T17:38:04.007Z"
   },
   {
    "duration": 92,
    "start_time": "2022-03-11T17:38:04.103Z"
   },
   {
    "duration": 71,
    "start_time": "2022-03-11T17:38:04.220Z"
   },
   {
    "duration": 16,
    "start_time": "2022-03-11T17:38:04.314Z"
   },
   {
    "duration": 35,
    "start_time": "2022-03-11T17:38:04.342Z"
   },
   {
    "duration": 18,
    "start_time": "2022-03-11T17:38:04.379Z"
   },
   {
    "duration": 41,
    "start_time": "2022-03-11T17:38:04.402Z"
   },
   {
    "duration": 22,
    "start_time": "2022-03-11T17:38:04.513Z"
   },
   {
    "duration": 17,
    "start_time": "2022-03-11T17:38:04.541Z"
   },
   {
    "duration": 3,
    "start_time": "2022-03-11T17:40:18.666Z"
   },
   {
    "duration": 106,
    "start_time": "2022-03-11T17:40:19.226Z"
   },
   {
    "duration": 23,
    "start_time": "2022-03-11T17:40:19.337Z"
   },
   {
    "duration": 16,
    "start_time": "2022-03-11T17:40:19.368Z"
   },
   {
    "duration": 3,
    "start_time": "2022-03-11T17:40:19.442Z"
   },
   {
    "duration": 3,
    "start_time": "2022-03-11T17:40:19.497Z"
   },
   {
    "duration": 3,
    "start_time": "2022-03-11T17:40:19.555Z"
   },
   {
    "duration": 2,
    "start_time": "2022-03-11T17:40:19.624Z"
   },
   {
    "duration": 116,
    "start_time": "2022-03-11T17:40:19.741Z"
   },
   {
    "duration": 74,
    "start_time": "2022-03-11T17:40:19.859Z"
   },
   {
    "duration": 14,
    "start_time": "2022-03-11T17:40:19.936Z"
   },
   {
    "duration": 46,
    "start_time": "2022-03-11T17:40:19.959Z"
   },
   {
    "duration": 16,
    "start_time": "2022-03-11T17:40:20.007Z"
   },
   {
    "duration": 47,
    "start_time": "2022-03-11T17:40:20.236Z"
   },
   {
    "duration": 21,
    "start_time": "2022-03-11T17:40:20.985Z"
   },
   {
    "duration": 25,
    "start_time": "2022-03-11T17:40:21.496Z"
   },
   {
    "duration": 3,
    "start_time": "2022-03-11T17:40:21.590Z"
   },
   {
    "duration": 3,
    "start_time": "2022-03-11T17:40:21.621Z"
   },
   {
    "duration": 3,
    "start_time": "2022-03-11T17:40:21.658Z"
   },
   {
    "duration": 2,
    "start_time": "2022-03-11T17:40:21.685Z"
   },
   {
    "duration": 3,
    "start_time": "2022-03-11T17:40:21.716Z"
   },
   {
    "duration": 3,
    "start_time": "2022-03-11T17:40:22.105Z"
   },
   {
    "duration": 15,
    "start_time": "2022-03-11T17:40:50.700Z"
   },
   {
    "duration": 14,
    "start_time": "2022-03-11T17:41:38.587Z"
   },
   {
    "duration": 11,
    "start_time": "2022-03-11T17:42:55.863Z"
   },
   {
    "duration": 3,
    "start_time": "2022-03-11T17:43:16.825Z"
   },
   {
    "duration": 86,
    "start_time": "2022-03-11T17:43:17.392Z"
   },
   {
    "duration": 26,
    "start_time": "2022-03-11T17:43:17.513Z"
   },
   {
    "duration": 16,
    "start_time": "2022-03-11T17:43:17.541Z"
   },
   {
    "duration": 3,
    "start_time": "2022-03-11T17:43:17.600Z"
   },
   {
    "duration": 3,
    "start_time": "2022-03-11T17:43:17.658Z"
   },
   {
    "duration": 4,
    "start_time": "2022-03-11T17:43:17.719Z"
   },
   {
    "duration": 2,
    "start_time": "2022-03-11T17:43:17.803Z"
   },
   {
    "duration": 117,
    "start_time": "2022-03-11T17:43:17.898Z"
   },
   {
    "duration": 82,
    "start_time": "2022-03-11T17:43:18.019Z"
   },
   {
    "duration": 16,
    "start_time": "2022-03-11T17:43:18.105Z"
   },
   {
    "duration": 36,
    "start_time": "2022-03-11T17:43:18.126Z"
   },
   {
    "duration": 11,
    "start_time": "2022-03-11T17:43:18.164Z"
   },
   {
    "duration": 49,
    "start_time": "2022-03-11T17:43:18.203Z"
   },
   {
    "duration": 24,
    "start_time": "2022-03-11T17:43:18.285Z"
   },
   {
    "duration": 18,
    "start_time": "2022-03-11T17:43:18.317Z"
   },
   {
    "duration": 3,
    "start_time": "2022-03-11T17:43:18.425Z"
   },
   {
    "duration": 3,
    "start_time": "2022-03-11T17:43:18.456Z"
   },
   {
    "duration": 2,
    "start_time": "2022-03-11T17:43:18.489Z"
   },
   {
    "duration": 3,
    "start_time": "2022-03-11T17:43:18.519Z"
   },
   {
    "duration": 2,
    "start_time": "2022-03-11T17:43:18.552Z"
   },
   {
    "duration": 2,
    "start_time": "2022-03-11T17:43:18.584Z"
   },
   {
    "duration": 2,
    "start_time": "2022-03-11T17:43:18.648Z"
   },
   {
    "duration": 81,
    "start_time": "2022-03-11T17:43:39.834Z"
   },
   {
    "duration": 9,
    "start_time": "2022-03-11T17:43:49.881Z"
   },
   {
    "duration": 8,
    "start_time": "2022-03-11T17:44:10.794Z"
   },
   {
    "duration": 10,
    "start_time": "2022-03-11T17:44:37.706Z"
   },
   {
    "duration": 2,
    "start_time": "2022-03-11T17:44:41.289Z"
   },
   {
    "duration": 85,
    "start_time": "2022-03-11T17:44:41.843Z"
   },
   {
    "duration": 22,
    "start_time": "2022-03-11T17:44:41.951Z"
   },
   {
    "duration": 19,
    "start_time": "2022-03-11T17:44:41.983Z"
   },
   {
    "duration": 2,
    "start_time": "2022-03-11T17:44:42.058Z"
   },
   {
    "duration": 3,
    "start_time": "2022-03-11T17:44:42.120Z"
   },
   {
    "duration": 3,
    "start_time": "2022-03-11T17:44:42.173Z"
   },
   {
    "duration": 2,
    "start_time": "2022-03-11T17:44:42.237Z"
   },
   {
    "duration": 88,
    "start_time": "2022-03-11T17:44:42.349Z"
   },
   {
    "duration": 73,
    "start_time": "2022-03-11T17:44:42.440Z"
   },
   {
    "duration": 12,
    "start_time": "2022-03-11T17:44:42.536Z"
   },
   {
    "duration": 34,
    "start_time": "2022-03-11T17:44:42.568Z"
   },
   {
    "duration": 10,
    "start_time": "2022-03-11T17:44:42.604Z"
   },
   {
    "duration": 40,
    "start_time": "2022-03-11T17:44:42.874Z"
   },
   {
    "duration": 22,
    "start_time": "2022-03-11T17:44:45.644Z"
   },
   {
    "duration": 11,
    "start_time": "2022-03-11T17:45:04.457Z"
   },
   {
    "duration": 4,
    "start_time": "2022-03-11T17:45:09.784Z"
   },
   {
    "duration": 90,
    "start_time": "2022-03-11T17:45:10.346Z"
   },
   {
    "duration": 23,
    "start_time": "2022-03-11T17:45:10.438Z"
   },
   {
    "duration": 19,
    "start_time": "2022-03-11T17:45:10.485Z"
   },
   {
    "duration": 2,
    "start_time": "2022-03-11T17:45:10.549Z"
   },
   {
    "duration": 2,
    "start_time": "2022-03-11T17:45:10.614Z"
   },
   {
    "duration": 3,
    "start_time": "2022-03-11T17:45:10.671Z"
   },
   {
    "duration": 3,
    "start_time": "2022-03-11T17:45:10.734Z"
   },
   {
    "duration": 121,
    "start_time": "2022-03-11T17:45:10.847Z"
   },
   {
    "duration": 96,
    "start_time": "2022-03-11T17:45:10.970Z"
   },
   {
    "duration": 13,
    "start_time": "2022-03-11T17:45:11.068Z"
   },
   {
    "duration": 54,
    "start_time": "2022-03-11T17:45:11.084Z"
   },
   {
    "duration": 11,
    "start_time": "2022-03-11T17:45:11.140Z"
   },
   {
    "duration": 69,
    "start_time": "2022-03-11T17:45:11.153Z"
   },
   {
    "duration": 14,
    "start_time": "2022-03-11T17:45:28.346Z"
   },
   {
    "duration": 3,
    "start_time": "2022-03-11T17:47:14.556Z"
   },
   {
    "duration": 82,
    "start_time": "2022-03-11T17:47:15.111Z"
   },
   {
    "duration": 23,
    "start_time": "2022-03-11T17:47:15.220Z"
   },
   {
    "duration": 17,
    "start_time": "2022-03-11T17:47:15.258Z"
   },
   {
    "duration": 3,
    "start_time": "2022-03-11T17:47:15.313Z"
   },
   {
    "duration": 2,
    "start_time": "2022-03-11T17:47:15.375Z"
   },
   {
    "duration": 3,
    "start_time": "2022-03-11T17:47:15.457Z"
   },
   {
    "duration": 2,
    "start_time": "2022-03-11T17:47:15.519Z"
   },
   {
    "duration": 92,
    "start_time": "2022-03-11T17:47:16.452Z"
   },
   {
    "duration": 74,
    "start_time": "2022-03-11T17:47:16.546Z"
   },
   {
    "duration": 16,
    "start_time": "2022-03-11T17:47:16.632Z"
   },
   {
    "duration": 28,
    "start_time": "2022-03-11T17:47:17.097Z"
   },
   {
    "duration": 19,
    "start_time": "2022-03-11T17:47:17.400Z"
   },
   {
    "duration": 40,
    "start_time": "2022-03-11T17:47:18.648Z"
   },
   {
    "duration": 21,
    "start_time": "2022-03-11T17:47:20.279Z"
   },
   {
    "duration": 17,
    "start_time": "2022-03-11T17:47:20.664Z"
   },
   {
    "duration": 23,
    "start_time": "2022-03-11T17:50:04.600Z"
   },
   {
    "duration": 3,
    "start_time": "2022-03-11T17:50:09.622Z"
   },
   {
    "duration": 84,
    "start_time": "2022-03-11T17:50:10.191Z"
   },
   {
    "duration": 26,
    "start_time": "2022-03-11T17:50:10.287Z"
   },
   {
    "duration": 17,
    "start_time": "2022-03-11T17:50:10.333Z"
   },
   {
    "duration": 3,
    "start_time": "2022-03-11T17:50:10.400Z"
   },
   {
    "duration": 3,
    "start_time": "2022-03-11T17:50:10.458Z"
   },
   {
    "duration": 3,
    "start_time": "2022-03-11T17:50:10.523Z"
   },
   {
    "duration": 3,
    "start_time": "2022-03-11T17:50:10.583Z"
   },
   {
    "duration": 95,
    "start_time": "2022-03-11T17:50:10.695Z"
   },
   {
    "duration": 73,
    "start_time": "2022-03-11T17:50:10.792Z"
   },
   {
    "duration": 22,
    "start_time": "2022-03-11T17:50:10.879Z"
   },
   {
    "duration": 35,
    "start_time": "2022-03-11T17:50:10.911Z"
   },
   {
    "duration": 22,
    "start_time": "2022-03-11T17:50:10.960Z"
   },
   {
    "duration": 42,
    "start_time": "2022-03-11T17:50:10.991Z"
   },
   {
    "duration": 22,
    "start_time": "2022-03-11T17:50:11.085Z"
   },
   {
    "duration": 17,
    "start_time": "2022-03-11T17:50:11.118Z"
   },
   {
    "duration": 3,
    "start_time": "2022-03-11T17:50:11.212Z"
   },
   {
    "duration": 3,
    "start_time": "2022-03-11T17:50:11.245Z"
   },
   {
    "duration": 26,
    "start_time": "2022-03-11T17:53:53.753Z"
   },
   {
    "duration": 23,
    "start_time": "2022-03-11T17:54:12.719Z"
   },
   {
    "duration": 3,
    "start_time": "2022-03-11T17:54:16.597Z"
   },
   {
    "duration": 83,
    "start_time": "2022-03-11T17:54:17.157Z"
   },
   {
    "duration": 22,
    "start_time": "2022-03-11T17:54:17.265Z"
   },
   {
    "duration": 16,
    "start_time": "2022-03-11T17:54:17.302Z"
   },
   {
    "duration": 3,
    "start_time": "2022-03-11T17:54:17.360Z"
   },
   {
    "duration": 3,
    "start_time": "2022-03-11T17:54:17.424Z"
   },
   {
    "duration": 3,
    "start_time": "2022-03-11T17:54:17.484Z"
   },
   {
    "duration": 3,
    "start_time": "2022-03-11T17:54:17.564Z"
   },
   {
    "duration": 91,
    "start_time": "2022-03-11T17:54:17.668Z"
   },
   {
    "duration": 72,
    "start_time": "2022-03-11T17:54:17.761Z"
   },
   {
    "duration": 12,
    "start_time": "2022-03-11T17:54:17.855Z"
   },
   {
    "duration": 33,
    "start_time": "2022-03-11T17:54:17.898Z"
   },
   {
    "duration": 22,
    "start_time": "2022-03-11T17:54:17.933Z"
   },
   {
    "duration": 54,
    "start_time": "2022-03-11T17:54:17.963Z"
   },
   {
    "duration": 23,
    "start_time": "2022-03-11T17:54:19.189Z"
   },
   {
    "duration": 17,
    "start_time": "2022-03-11T17:54:19.852Z"
   },
   {
    "duration": 3,
    "start_time": "2022-03-11T18:01:19.986Z"
   },
   {
    "duration": 88,
    "start_time": "2022-03-11T18:01:20.552Z"
   },
   {
    "duration": 23,
    "start_time": "2022-03-11T18:01:20.647Z"
   },
   {
    "duration": 17,
    "start_time": "2022-03-11T18:01:20.701Z"
   },
   {
    "duration": 3,
    "start_time": "2022-03-11T18:01:20.758Z"
   },
   {
    "duration": 2,
    "start_time": "2022-03-11T18:01:20.823Z"
   },
   {
    "duration": 3,
    "start_time": "2022-03-11T18:01:20.884Z"
   },
   {
    "duration": 2,
    "start_time": "2022-03-11T18:01:20.946Z"
   },
   {
    "duration": 92,
    "start_time": "2022-03-11T18:01:21.060Z"
   },
   {
    "duration": 79,
    "start_time": "2022-03-11T18:01:21.154Z"
   },
   {
    "duration": 13,
    "start_time": "2022-03-11T18:01:21.250Z"
   },
   {
    "duration": 33,
    "start_time": "2022-03-11T18:01:21.283Z"
   },
   {
    "duration": 28,
    "start_time": "2022-03-11T18:01:21.319Z"
   },
   {
    "duration": 62,
    "start_time": "2022-03-11T18:01:21.349Z"
   },
   {
    "duration": 3,
    "start_time": "2022-03-11T23:38:49.713Z"
   },
   {
    "duration": 84,
    "start_time": "2022-03-11T23:38:50.467Z"
   },
   {
    "duration": 21,
    "start_time": "2022-03-11T23:38:51.073Z"
   },
   {
    "duration": 16,
    "start_time": "2022-03-11T23:38:51.637Z"
   },
   {
    "duration": 2,
    "start_time": "2022-03-11T23:38:52.481Z"
   },
   {
    "duration": 2,
    "start_time": "2022-03-11T23:38:53.120Z"
   },
   {
    "duration": 2,
    "start_time": "2022-03-11T23:38:53.661Z"
   },
   {
    "duration": 3,
    "start_time": "2022-03-11T23:38:53.725Z"
   },
   {
    "duration": 87,
    "start_time": "2022-03-11T23:38:54.084Z"
   },
   {
    "duration": 70,
    "start_time": "2022-03-11T23:38:54.371Z"
   },
   {
    "duration": 12,
    "start_time": "2022-03-11T23:38:55.280Z"
   },
   {
    "duration": 33,
    "start_time": "2022-03-11T23:38:55.618Z"
   },
   {
    "duration": 27,
    "start_time": "2022-03-11T23:38:56.124Z"
   },
   {
    "duration": 45,
    "start_time": "2022-03-11T23:38:56.979Z"
   },
   {
    "duration": 21,
    "start_time": "2022-03-11T23:38:58.466Z"
   },
   {
    "duration": 16,
    "start_time": "2022-03-11T23:38:59.152Z"
   },
   {
    "duration": 20,
    "start_time": "2022-03-11T23:39:31.698Z"
   },
   {
    "duration": 3,
    "start_time": "2022-03-11T23:39:35.441Z"
   },
   {
    "duration": 86,
    "start_time": "2022-03-11T23:39:36.011Z"
   },
   {
    "duration": 21,
    "start_time": "2022-03-11T23:39:36.104Z"
   },
   {
    "duration": 17,
    "start_time": "2022-03-11T23:39:36.153Z"
   },
   {
    "duration": 2,
    "start_time": "2022-03-11T23:39:36.215Z"
   },
   {
    "duration": 2,
    "start_time": "2022-03-11T23:39:36.278Z"
   },
   {
    "duration": 3,
    "start_time": "2022-03-11T23:39:36.343Z"
   },
   {
    "duration": 3,
    "start_time": "2022-03-11T23:39:36.403Z"
   },
   {
    "duration": 88,
    "start_time": "2022-03-11T23:39:36.543Z"
   },
   {
    "duration": 68,
    "start_time": "2022-03-11T23:39:36.636Z"
   },
   {
    "duration": 12,
    "start_time": "2022-03-11T23:39:36.706Z"
   },
   {
    "duration": 44,
    "start_time": "2022-03-11T23:39:36.736Z"
   },
   {
    "duration": 33,
    "start_time": "2022-03-11T23:39:36.782Z"
   },
   {
    "duration": 46,
    "start_time": "2022-03-11T23:39:36.821Z"
   },
   {
    "duration": 29,
    "start_time": "2022-03-11T23:39:36.906Z"
   },
   {
    "duration": 22,
    "start_time": "2022-03-11T23:39:36.937Z"
   },
   {
    "duration": 229,
    "start_time": "2022-03-11T23:41:32.113Z"
   },
   {
    "duration": 3,
    "start_time": "2022-03-11T23:41:37.425Z"
   },
   {
    "duration": 86,
    "start_time": "2022-03-11T23:41:37.998Z"
   },
   {
    "duration": 22,
    "start_time": "2022-03-11T23:41:38.088Z"
   },
   {
    "duration": 16,
    "start_time": "2022-03-11T23:41:38.136Z"
   },
   {
    "duration": 3,
    "start_time": "2022-03-11T23:41:38.199Z"
   },
   {
    "duration": 3,
    "start_time": "2022-03-11T23:41:38.641Z"
   },
   {
    "duration": 2,
    "start_time": "2022-03-11T23:41:39.122Z"
   },
   {
    "duration": 3,
    "start_time": "2022-03-11T23:41:39.551Z"
   },
   {
    "duration": 97,
    "start_time": "2022-03-11T23:41:40.258Z"
   },
   {
    "duration": 75,
    "start_time": "2022-03-11T23:41:41.185Z"
   },
   {
    "duration": 13,
    "start_time": "2022-03-11T23:41:42.179Z"
   },
   {
    "duration": 237,
    "start_time": "2022-03-11T23:41:42.416Z"
   },
   {
    "duration": 263,
    "start_time": "2022-03-11T23:41:42.696Z"
   },
   {
    "duration": 43,
    "start_time": "2022-03-11T23:41:44.576Z"
   },
   {
    "duration": 30,
    "start_time": "2022-03-11T23:41:47.423Z"
   },
   {
    "duration": 16,
    "start_time": "2022-03-11T23:41:47.983Z"
   },
   {
    "duration": 10,
    "start_time": "2022-03-11T23:42:28.146Z"
   },
   {
    "duration": 253,
    "start_time": "2022-03-11T23:43:30.691Z"
   },
   {
    "duration": 2,
    "start_time": "2022-03-11T23:43:42.975Z"
   },
   {
    "duration": 84,
    "start_time": "2022-03-11T23:43:43.555Z"
   },
   {
    "duration": 20,
    "start_time": "2022-03-11T23:43:43.643Z"
   },
   {
    "duration": 15,
    "start_time": "2022-03-11T23:43:43.672Z"
   },
   {
    "duration": 3,
    "start_time": "2022-03-11T23:43:43.736Z"
   },
   {
    "duration": 2,
    "start_time": "2022-03-11T23:43:43.816Z"
   },
   {
    "duration": 3,
    "start_time": "2022-03-11T23:43:43.875Z"
   },
   {
    "duration": 2,
    "start_time": "2022-03-11T23:43:43.938Z"
   },
   {
    "duration": 90,
    "start_time": "2022-03-11T23:43:44.036Z"
   },
   {
    "duration": 70,
    "start_time": "2022-03-11T23:43:44.157Z"
   },
   {
    "duration": 12,
    "start_time": "2022-03-11T23:43:45.758Z"
   },
   {
    "duration": 310,
    "start_time": "2022-03-11T23:43:46.687Z"
   },
   {
    "duration": 242,
    "start_time": "2022-03-12T00:13:56.486Z"
   },
   {
    "duration": 3,
    "start_time": "2022-03-12T00:14:01.623Z"
   },
   {
    "duration": 90,
    "start_time": "2022-03-12T00:14:02.845Z"
   },
   {
    "duration": 21,
    "start_time": "2022-03-12T00:14:02.938Z"
   },
   {
    "duration": 37,
    "start_time": "2022-03-12T00:14:02.962Z"
   },
   {
    "duration": 87,
    "start_time": "2022-03-12T00:14:03.002Z"
   },
   {
    "duration": 15,
    "start_time": "2022-03-12T00:14:03.091Z"
   },
   {
    "duration": 13,
    "start_time": "2022-03-12T00:14:03.108Z"
   },
   {
    "duration": 15,
    "start_time": "2022-03-12T00:14:03.123Z"
   },
   {
    "duration": 98,
    "start_time": "2022-03-12T00:14:03.421Z"
   },
   {
    "duration": 70,
    "start_time": "2022-03-12T00:14:03.540Z"
   },
   {
    "duration": 14,
    "start_time": "2022-03-12T00:14:03.614Z"
   },
   {
    "duration": 276,
    "start_time": "2022-03-12T00:14:03.635Z"
   },
   {
    "duration": 244,
    "start_time": "2022-03-12T00:14:04.275Z"
   },
   {
    "duration": 40,
    "start_time": "2022-03-12T00:14:04.725Z"
   },
   {
    "duration": 237,
    "start_time": "2022-03-12T00:14:38.563Z"
   },
   {
    "duration": 3,
    "start_time": "2022-03-12T00:14:42.498Z"
   },
   {
    "duration": 87,
    "start_time": "2022-03-12T00:14:43.076Z"
   },
   {
    "duration": 21,
    "start_time": "2022-03-12T00:14:43.167Z"
   },
   {
    "duration": 15,
    "start_time": "2022-03-12T00:14:43.197Z"
   },
   {
    "duration": 2,
    "start_time": "2022-03-12T00:14:43.261Z"
   },
   {
    "duration": 2,
    "start_time": "2022-03-12T00:14:43.341Z"
   },
   {
    "duration": 3,
    "start_time": "2022-03-12T00:14:43.403Z"
   },
   {
    "duration": 3,
    "start_time": "2022-03-12T00:14:43.466Z"
   },
   {
    "duration": 92,
    "start_time": "2022-03-12T00:14:43.570Z"
   },
   {
    "duration": 75,
    "start_time": "2022-03-12T00:14:43.669Z"
   },
   {
    "duration": 11,
    "start_time": "2022-03-12T00:14:44.370Z"
   },
   {
    "duration": 268,
    "start_time": "2022-03-12T00:14:44.946Z"
   },
   {
    "duration": 12,
    "start_time": "2022-03-12T00:14:52.580Z"
   },
   {
    "duration": 3,
    "start_time": "2022-03-12T00:14:55.795Z"
   },
   {
    "duration": 95,
    "start_time": "2022-03-12T00:14:56.360Z"
   },
   {
    "duration": 22,
    "start_time": "2022-03-12T00:14:56.471Z"
   },
   {
    "duration": 16,
    "start_time": "2022-03-12T00:14:56.508Z"
   },
   {
    "duration": 3,
    "start_time": "2022-03-12T00:14:56.571Z"
   },
   {
    "duration": 3,
    "start_time": "2022-03-12T00:14:56.631Z"
   },
   {
    "duration": 3,
    "start_time": "2022-03-12T00:14:56.692Z"
   },
   {
    "duration": 3,
    "start_time": "2022-03-12T00:14:56.757Z"
   },
   {
    "duration": 93,
    "start_time": "2022-03-12T00:14:57.925Z"
   },
   {
    "duration": 69,
    "start_time": "2022-03-12T00:14:59.282Z"
   },
   {
    "duration": 3,
    "start_time": "2022-03-12T00:30:30.554Z"
   },
   {
    "duration": 86,
    "start_time": "2022-03-12T00:30:31.060Z"
   },
   {
    "duration": 21,
    "start_time": "2022-03-12T00:30:31.170Z"
   },
   {
    "duration": 15,
    "start_time": "2022-03-12T00:30:31.214Z"
   },
   {
    "duration": 3,
    "start_time": "2022-03-12T00:30:31.266Z"
   },
   {
    "duration": 2,
    "start_time": "2022-03-12T00:30:31.333Z"
   },
   {
    "duration": 3,
    "start_time": "2022-03-12T00:30:31.407Z"
   },
   {
    "duration": 3,
    "start_time": "2022-03-12T00:30:31.470Z"
   },
   {
    "duration": 97,
    "start_time": "2022-03-12T00:30:32.208Z"
   },
   {
    "duration": 72,
    "start_time": "2022-03-12T00:30:32.812Z"
   },
   {
    "duration": 14,
    "start_time": "2022-03-12T00:30:33.612Z"
   },
   {
    "duration": 10,
    "start_time": "2022-03-12T00:30:33.836Z"
   },
   {
    "duration": 1358,
    "start_time": "2022-03-12T00:34:00.398Z"
   },
   {
    "duration": 232,
    "start_time": "2022-03-12T00:34:13.100Z"
   },
   {
    "duration": 8,
    "start_time": "2022-03-12T00:37:40.954Z"
   },
   {
    "duration": 3,
    "start_time": "2022-03-12T00:37:46.782Z"
   },
   {
    "duration": 91,
    "start_time": "2022-03-12T00:37:47.343Z"
   },
   {
    "duration": 22,
    "start_time": "2022-03-12T00:37:47.457Z"
   },
   {
    "duration": 16,
    "start_time": "2022-03-12T00:37:47.493Z"
   },
   {
    "duration": 3,
    "start_time": "2022-03-12T00:37:47.549Z"
   },
   {
    "duration": 3,
    "start_time": "2022-03-12T00:37:47.618Z"
   },
   {
    "duration": 2,
    "start_time": "2022-03-12T00:37:47.678Z"
   },
   {
    "duration": 3,
    "start_time": "2022-03-12T00:37:47.741Z"
   },
   {
    "duration": 99,
    "start_time": "2022-03-12T00:37:47.845Z"
   },
   {
    "duration": 67,
    "start_time": "2022-03-12T00:37:48.731Z"
   },
   {
    "duration": 12,
    "start_time": "2022-03-12T00:37:49.659Z"
   },
   {
    "duration": 7,
    "start_time": "2022-03-12T00:37:50.506Z"
   },
   {
    "duration": 3,
    "start_time": "2022-03-12T00:38:35.337Z"
   },
   {
    "duration": 88,
    "start_time": "2022-03-12T00:38:35.893Z"
   },
   {
    "duration": 23,
    "start_time": "2022-03-12T00:38:36.001Z"
   },
   {
    "duration": 15,
    "start_time": "2022-03-12T00:38:36.035Z"
   },
   {
    "duration": 3,
    "start_time": "2022-03-12T00:38:36.098Z"
   },
   {
    "duration": 3,
    "start_time": "2022-03-12T00:38:36.164Z"
   },
   {
    "duration": 2,
    "start_time": "2022-03-12T00:38:36.227Z"
   },
   {
    "duration": 3,
    "start_time": "2022-03-12T00:38:36.292Z"
   },
   {
    "duration": 88,
    "start_time": "2022-03-12T00:38:36.387Z"
   },
   {
    "duration": 72,
    "start_time": "2022-03-12T00:38:36.495Z"
   },
   {
    "duration": 12,
    "start_time": "2022-03-12T00:38:36.591Z"
   },
   {
    "duration": 9,
    "start_time": "2022-03-12T00:38:36.908Z"
   },
   {
    "duration": 12,
    "start_time": "2022-03-12T00:39:09.245Z"
   },
   {
    "duration": 3,
    "start_time": "2022-03-12T00:39:14.522Z"
   },
   {
    "duration": 89,
    "start_time": "2022-03-12T00:39:15.149Z"
   },
   {
    "duration": 20,
    "start_time": "2022-03-12T00:39:15.240Z"
   },
   {
    "duration": 14,
    "start_time": "2022-03-12T00:39:15.263Z"
   },
   {
    "duration": 15,
    "start_time": "2022-03-12T00:39:15.287Z"
   },
   {
    "duration": 3,
    "start_time": "2022-03-12T00:39:15.367Z"
   },
   {
    "duration": 3,
    "start_time": "2022-03-12T00:39:15.429Z"
   },
   {
    "duration": 3,
    "start_time": "2022-03-12T00:39:15.497Z"
   },
   {
    "duration": 89,
    "start_time": "2022-03-12T00:39:15.632Z"
   },
   {
    "duration": 78,
    "start_time": "2022-03-12T00:39:15.723Z"
   },
   {
    "duration": 12,
    "start_time": "2022-03-12T00:39:16.810Z"
   },
   {
    "duration": 12,
    "start_time": "2022-03-12T00:39:17.897Z"
   },
   {
    "duration": 13,
    "start_time": "2022-03-12T00:39:48.941Z"
   },
   {
    "duration": 3,
    "start_time": "2022-03-12T00:39:52.558Z"
   },
   {
    "duration": 94,
    "start_time": "2022-03-12T00:39:53.123Z"
   },
   {
    "duration": 25,
    "start_time": "2022-03-12T00:39:53.219Z"
   },
   {
    "duration": 16,
    "start_time": "2022-03-12T00:39:53.268Z"
   },
   {
    "duration": 4,
    "start_time": "2022-03-12T00:39:53.328Z"
   },
   {
    "duration": 2,
    "start_time": "2022-03-12T00:39:53.392Z"
   },
   {
    "duration": 2,
    "start_time": "2022-03-12T00:39:53.456Z"
   },
   {
    "duration": 2,
    "start_time": "2022-03-12T00:39:53.520Z"
   },
   {
    "duration": 91,
    "start_time": "2022-03-12T00:39:53.632Z"
   },
   {
    "duration": 77,
    "start_time": "2022-03-12T00:39:53.725Z"
   },
   {
    "duration": 12,
    "start_time": "2022-03-12T00:39:54.617Z"
   },
   {
    "duration": 14,
    "start_time": "2022-03-12T00:39:55.161Z"
   },
   {
    "duration": 1526,
    "start_time": "2022-03-12T00:49:22.631Z"
   },
   {
    "duration": 2,
    "start_time": "2022-03-12T00:49:25.845Z"
   },
   {
    "duration": 91,
    "start_time": "2022-03-12T00:49:26.412Z"
   },
   {
    "duration": 21,
    "start_time": "2022-03-12T00:49:26.522Z"
   },
   {
    "duration": 15,
    "start_time": "2022-03-12T00:49:26.553Z"
   },
   {
    "duration": 2,
    "start_time": "2022-03-12T00:49:26.635Z"
   },
   {
    "duration": 3,
    "start_time": "2022-03-12T00:49:26.685Z"
   },
   {
    "duration": 3,
    "start_time": "2022-03-12T00:49:26.745Z"
   },
   {
    "duration": 3,
    "start_time": "2022-03-12T00:49:27.205Z"
   },
   {
    "duration": 89,
    "start_time": "2022-03-12T00:49:27.871Z"
   },
   {
    "duration": 65,
    "start_time": "2022-03-12T00:49:28.501Z"
   },
   {
    "duration": 12,
    "start_time": "2022-03-12T00:49:29.750Z"
   },
   {
    "duration": 1571,
    "start_time": "2022-03-12T00:49:31.863Z"
   },
   {
    "duration": 3,
    "start_time": "2022-03-12T00:50:57.670Z"
   },
   {
    "duration": 86,
    "start_time": "2022-03-12T00:50:58.334Z"
   },
   {
    "duration": 20,
    "start_time": "2022-03-12T00:50:58.422Z"
   },
   {
    "duration": 15,
    "start_time": "2022-03-12T00:50:58.444Z"
   },
   {
    "duration": 3,
    "start_time": "2022-03-12T00:50:58.642Z"
   },
   {
    "duration": 8,
    "start_time": "2022-03-12T00:50:58.646Z"
   },
   {
    "duration": 6,
    "start_time": "2022-03-12T00:50:58.656Z"
   },
   {
    "duration": 3,
    "start_time": "2022-03-12T00:50:58.666Z"
   },
   {
    "duration": 92,
    "start_time": "2022-03-12T00:50:59.483Z"
   },
   {
    "duration": 75,
    "start_time": "2022-03-12T00:51:00.020Z"
   },
   {
    "duration": 12,
    "start_time": "2022-03-12T00:51:00.772Z"
   },
   {
    "duration": 257,
    "start_time": "2022-03-12T00:51:01.285Z"
   },
   {
    "duration": 2,
    "start_time": "2022-03-12T00:51:22.140Z"
   },
   {
    "duration": 88,
    "start_time": "2022-03-12T00:51:22.877Z"
   },
   {
    "duration": 21,
    "start_time": "2022-03-12T00:51:22.967Z"
   },
   {
    "duration": 25,
    "start_time": "2022-03-12T00:51:22.990Z"
   },
   {
    "duration": 7,
    "start_time": "2022-03-12T00:51:23.017Z"
   },
   {
    "duration": 7,
    "start_time": "2022-03-12T00:51:23.025Z"
   },
   {
    "duration": 14,
    "start_time": "2022-03-12T00:51:23.034Z"
   },
   {
    "duration": 3,
    "start_time": "2022-03-12T00:51:23.094Z"
   },
   {
    "duration": 92,
    "start_time": "2022-03-12T00:51:23.208Z"
   },
   {
    "duration": 66,
    "start_time": "2022-03-12T00:51:23.302Z"
   },
   {
    "duration": 12,
    "start_time": "2022-03-12T00:51:23.395Z"
   },
   {
    "duration": 574,
    "start_time": "2022-03-12T00:51:23.429Z"
   },
   {
    "duration": 245,
    "start_time": "2022-03-12T00:51:24.005Z"
   },
   {
    "duration": 43,
    "start_time": "2022-03-12T00:51:24.209Z"
   },
   {
    "duration": 44,
    "start_time": "2022-03-12T00:51:24.210Z"
   },
   {
    "duration": 19,
    "start_time": "2022-03-12T00:51:24.531Z"
   },
   {
    "duration": 805,
    "start_time": "2022-03-12T00:59:50.738Z"
   },
   {
    "duration": 3,
    "start_time": "2022-03-12T01:00:06.175Z"
   },
   {
    "duration": 87,
    "start_time": "2022-03-12T01:00:06.748Z"
   },
   {
    "duration": 21,
    "start_time": "2022-03-12T01:00:06.842Z"
   },
   {
    "duration": 16,
    "start_time": "2022-03-12T01:00:06.877Z"
   },
   {
    "duration": 3,
    "start_time": "2022-03-12T01:00:06.980Z"
   },
   {
    "duration": 3,
    "start_time": "2022-03-12T01:00:07.013Z"
   },
   {
    "duration": 2,
    "start_time": "2022-03-12T01:00:07.076Z"
   },
   {
    "duration": 3,
    "start_time": "2022-03-12T01:00:07.139Z"
   },
   {
    "duration": 94,
    "start_time": "2022-03-12T01:00:07.253Z"
   },
   {
    "duration": 71,
    "start_time": "2022-03-12T01:00:07.349Z"
   },
   {
    "duration": 12,
    "start_time": "2022-03-12T01:00:07.439Z"
   },
   {
    "duration": 648,
    "start_time": "2022-03-12T01:00:09.584Z"
   },
   {
    "duration": 609,
    "start_time": "2022-03-12T01:00:50.130Z"
   },
   {
    "duration": 3,
    "start_time": "2022-03-12T01:00:53.632Z"
   },
   {
    "duration": 86,
    "start_time": "2022-03-12T01:00:54.206Z"
   },
   {
    "duration": 21,
    "start_time": "2022-03-12T01:00:54.302Z"
   },
   {
    "duration": 15,
    "start_time": "2022-03-12T01:00:54.338Z"
   },
   {
    "duration": 3,
    "start_time": "2022-03-12T01:00:54.399Z"
   },
   {
    "duration": 2,
    "start_time": "2022-03-12T01:00:54.477Z"
   },
   {
    "duration": 2,
    "start_time": "2022-03-12T01:00:54.539Z"
   },
   {
    "duration": 3,
    "start_time": "2022-03-12T01:00:54.601Z"
   },
   {
    "duration": 90,
    "start_time": "2022-03-12T01:00:54.710Z"
   },
   {
    "duration": 68,
    "start_time": "2022-03-12T01:00:54.805Z"
   },
   {
    "duration": 12,
    "start_time": "2022-03-12T01:00:54.901Z"
   },
   {
    "duration": 622,
    "start_time": "2022-03-12T01:00:54.933Z"
   },
   {
    "duration": 22,
    "start_time": "2022-03-12T01:00:55.556Z"
   },
   {
    "duration": 56,
    "start_time": "2022-03-12T01:00:55.580Z"
   },
   {
    "duration": 21,
    "start_time": "2022-03-12T01:00:55.638Z"
   },
   {
    "duration": 15,
    "start_time": "2022-03-12T01:00:55.661Z"
   },
   {
    "duration": 3,
    "start_time": "2022-03-12T01:00:55.919Z"
   },
   {
    "duration": 3,
    "start_time": "2022-03-12T01:00:56.430Z"
   },
   {
    "duration": 669,
    "start_time": "2022-03-12T01:02:11.588Z"
   },
   {
    "duration": 24,
    "start_time": "2022-03-12T01:02:20.374Z"
   },
   {
    "duration": 3,
    "start_time": "2022-03-12T01:03:54.513Z"
   },
   {
    "duration": 85,
    "start_time": "2022-03-12T01:03:55.080Z"
   },
   {
    "duration": 21,
    "start_time": "2022-03-12T01:03:55.176Z"
   },
   {
    "duration": 16,
    "start_time": "2022-03-12T01:03:55.236Z"
   },
   {
    "duration": 3,
    "start_time": "2022-03-12T01:03:55.285Z"
   },
   {
    "duration": 3,
    "start_time": "2022-03-12T01:03:55.348Z"
   },
   {
    "duration": 3,
    "start_time": "2022-03-12T01:03:55.410Z"
   },
   {
    "duration": 2,
    "start_time": "2022-03-12T01:03:55.472Z"
   },
   {
    "duration": 90,
    "start_time": "2022-03-12T01:03:55.586Z"
   },
   {
    "duration": 67,
    "start_time": "2022-03-12T01:03:56.030Z"
   },
   {
    "duration": 13,
    "start_time": "2022-03-12T01:03:57.102Z"
   },
   {
    "duration": 698,
    "start_time": "2022-03-12T01:03:58.293Z"
   },
   {
    "duration": 3,
    "start_time": "2022-03-12T01:04:28.991Z"
   },
   {
    "duration": 84,
    "start_time": "2022-03-12T01:04:29.574Z"
   },
   {
    "duration": 23,
    "start_time": "2022-03-12T01:04:29.660Z"
   },
   {
    "duration": 29,
    "start_time": "2022-03-12T01:04:29.687Z"
   },
   {
    "duration": 3,
    "start_time": "2022-03-12T01:04:29.765Z"
   },
   {
    "duration": 2,
    "start_time": "2022-03-12T01:04:29.829Z"
   },
   {
    "duration": 3,
    "start_time": "2022-03-12T01:04:29.888Z"
   },
   {
    "duration": 3,
    "start_time": "2022-03-12T01:04:29.954Z"
   },
   {
    "duration": 94,
    "start_time": "2022-03-12T01:04:30.066Z"
   },
   {
    "duration": 68,
    "start_time": "2022-03-12T01:04:30.162Z"
   },
   {
    "duration": 12,
    "start_time": "2022-03-12T01:04:30.264Z"
   },
   {
    "duration": 608,
    "start_time": "2022-03-12T01:04:30.293Z"
   },
   {
    "duration": 21,
    "start_time": "2022-03-12T01:04:30.903Z"
   },
   {
    "duration": 38,
    "start_time": "2022-03-12T01:04:30.926Z"
   },
   {
    "duration": 42,
    "start_time": "2022-03-12T01:04:30.966Z"
   },
   {
    "duration": 16,
    "start_time": "2022-03-12T01:04:31.010Z"
   },
   {
    "duration": 3,
    "start_time": "2022-03-12T01:04:50.783Z"
   },
   {
    "duration": 82,
    "start_time": "2022-03-12T01:04:51.357Z"
   },
   {
    "duration": 21,
    "start_time": "2022-03-12T01:04:51.452Z"
   },
   {
    "duration": 15,
    "start_time": "2022-03-12T01:04:51.484Z"
   },
   {
    "duration": 3,
    "start_time": "2022-03-12T01:04:51.548Z"
   },
   {
    "duration": 3,
    "start_time": "2022-03-12T01:04:51.612Z"
   },
   {
    "duration": 2,
    "start_time": "2022-03-12T01:04:51.691Z"
   },
   {
    "duration": 2,
    "start_time": "2022-03-12T01:04:51.754Z"
   },
   {
    "duration": 94,
    "start_time": "2022-03-12T01:04:51.853Z"
   },
   {
    "duration": 74,
    "start_time": "2022-03-12T01:04:51.949Z"
   },
   {
    "duration": 13,
    "start_time": "2022-03-12T01:04:52.053Z"
   },
   {
    "duration": 591,
    "start_time": "2022-03-12T01:04:52.083Z"
   },
   {
    "duration": 31,
    "start_time": "2022-03-12T01:04:52.677Z"
   },
   {
    "duration": 40,
    "start_time": "2022-03-12T01:04:52.766Z"
   },
   {
    "duration": 617,
    "start_time": "2022-03-12T01:10:47.468Z"
   },
   {
    "duration": 1085,
    "start_time": "2022-03-12T01:10:48.087Z"
   },
   {
    "duration": 603,
    "start_time": "2022-03-12T01:11:35.243Z"
   },
   {
    "duration": 3,
    "start_time": "2022-03-12T01:11:38.810Z"
   },
   {
    "duration": 94,
    "start_time": "2022-03-12T01:11:39.379Z"
   },
   {
    "duration": 22,
    "start_time": "2022-03-12T01:11:39.489Z"
   },
   {
    "duration": 16,
    "start_time": "2022-03-12T01:11:39.533Z"
   },
   {
    "duration": 3,
    "start_time": "2022-03-12T01:11:39.589Z"
   },
   {
    "duration": 3,
    "start_time": "2022-03-12T01:11:41.097Z"
   },
   {
    "duration": 3,
    "start_time": "2022-03-12T01:11:41.593Z"
   },
   {
    "duration": 3,
    "start_time": "2022-03-12T01:11:41.963Z"
   },
   {
    "duration": 96,
    "start_time": "2022-03-12T01:11:42.478Z"
   },
   {
    "duration": 72,
    "start_time": "2022-03-12T01:11:43.306Z"
   },
   {
    "duration": 12,
    "start_time": "2022-03-12T01:11:44.697Z"
   },
   {
    "duration": 613,
    "start_time": "2022-03-12T01:11:44.957Z"
   },
   {
    "duration": 1099,
    "start_time": "2022-03-12T01:12:01.859Z"
   },
   {
    "duration": 3,
    "start_time": "2022-03-12T01:12:48.124Z"
   },
   {
    "duration": 89,
    "start_time": "2022-03-12T01:12:48.693Z"
   },
   {
    "duration": 25,
    "start_time": "2022-03-12T01:12:48.789Z"
   },
   {
    "duration": 16,
    "start_time": "2022-03-12T01:12:48.820Z"
   },
   {
    "duration": 2,
    "start_time": "2022-03-12T01:12:48.898Z"
   },
   {
    "duration": 3,
    "start_time": "2022-03-12T01:12:48.963Z"
   },
   {
    "duration": 3,
    "start_time": "2022-03-12T01:12:49.026Z"
   },
   {
    "duration": 3,
    "start_time": "2022-03-12T01:12:49.090Z"
   },
   {
    "duration": 88,
    "start_time": "2022-03-12T01:12:49.190Z"
   },
   {
    "duration": 70,
    "start_time": "2022-03-12T01:12:49.295Z"
   },
   {
    "duration": 13,
    "start_time": "2022-03-12T01:12:49.389Z"
   },
   {
    "duration": 598,
    "start_time": "2022-03-12T01:12:49.421Z"
   },
   {
    "duration": 31,
    "start_time": "2022-03-12T01:12:50.022Z"
   },
   {
    "duration": 62,
    "start_time": "2022-03-12T01:12:50.055Z"
   },
   {
    "duration": 21,
    "start_time": "2022-03-12T01:12:50.119Z"
   },
   {
    "duration": 3,
    "start_time": "2022-03-12T01:13:41.177Z"
   },
   {
    "duration": 84,
    "start_time": "2022-03-12T01:13:41.756Z"
   },
   {
    "duration": 21,
    "start_time": "2022-03-12T01:13:41.849Z"
   },
   {
    "duration": 16,
    "start_time": "2022-03-12T01:13:41.881Z"
   },
   {
    "duration": 2,
    "start_time": "2022-03-12T01:13:41.946Z"
   },
   {
    "duration": 2,
    "start_time": "2022-03-12T01:13:42.010Z"
   },
   {
    "duration": 3,
    "start_time": "2022-03-12T01:13:42.089Z"
   },
   {
    "duration": 3,
    "start_time": "2022-03-12T01:13:42.151Z"
   },
   {
    "duration": 92,
    "start_time": "2022-03-12T01:13:42.247Z"
   },
   {
    "duration": 73,
    "start_time": "2022-03-12T01:13:42.341Z"
   },
   {
    "duration": 13,
    "start_time": "2022-03-12T01:13:42.446Z"
   },
   {
    "duration": 622,
    "start_time": "2022-03-12T01:13:42.479Z"
   },
   {
    "duration": 25,
    "start_time": "2022-03-12T01:13:43.103Z"
   },
   {
    "duration": 39,
    "start_time": "2022-03-12T01:13:43.130Z"
   },
   {
    "duration": 41,
    "start_time": "2022-03-12T01:13:43.171Z"
   },
   {
    "duration": 16,
    "start_time": "2022-03-12T01:13:43.213Z"
   },
   {
    "duration": 5,
    "start_time": "2022-03-12T01:13:43.231Z"
   },
   {
    "duration": 7,
    "start_time": "2022-03-12T01:13:43.237Z"
   },
   {
    "duration": 5,
    "start_time": "2022-03-12T01:13:43.246Z"
   },
   {
    "duration": 5,
    "start_time": "2022-03-12T01:13:43.253Z"
   },
   {
    "duration": 9,
    "start_time": "2022-03-12T01:13:43.260Z"
   },
   {
    "duration": 6,
    "start_time": "2022-03-12T01:13:43.271Z"
   },
   {
    "duration": 4,
    "start_time": "2022-03-12T01:14:18.250Z"
   },
   {
    "duration": 81,
    "start_time": "2022-03-12T01:14:18.801Z"
   },
   {
    "duration": 21,
    "start_time": "2022-03-12T01:14:18.912Z"
   },
   {
    "duration": 16,
    "start_time": "2022-03-12T01:14:18.942Z"
   },
   {
    "duration": 2,
    "start_time": "2022-03-12T01:14:19.013Z"
   },
   {
    "duration": 2,
    "start_time": "2022-03-12T01:14:19.075Z"
   },
   {
    "duration": 2,
    "start_time": "2022-03-12T01:14:19.133Z"
   },
   {
    "duration": 3,
    "start_time": "2022-03-12T01:14:19.241Z"
   },
   {
    "duration": 91,
    "start_time": "2022-03-12T01:14:19.316Z"
   },
   {
    "duration": 72,
    "start_time": "2022-03-12T01:14:19.411Z"
   },
   {
    "duration": 13,
    "start_time": "2022-03-12T01:14:19.495Z"
   },
   {
    "duration": 602,
    "start_time": "2022-03-12T01:14:19.535Z"
   },
   {
    "duration": 11,
    "start_time": "2022-03-12T01:14:20.140Z"
   },
   {
    "duration": 55,
    "start_time": "2022-03-12T01:14:20.153Z"
   },
   {
    "duration": 34,
    "start_time": "2022-03-12T01:14:20.210Z"
   },
   {
    "duration": 17,
    "start_time": "2022-03-12T01:14:20.246Z"
   },
   {
    "duration": 3,
    "start_time": "2022-03-12T01:14:36.971Z"
   },
   {
    "duration": 85,
    "start_time": "2022-03-12T01:14:37.538Z"
   },
   {
    "duration": 22,
    "start_time": "2022-03-12T01:14:37.648Z"
   },
   {
    "duration": 15,
    "start_time": "2022-03-12T01:14:37.676Z"
   },
   {
    "duration": 2,
    "start_time": "2022-03-12T01:14:37.740Z"
   },
   {
    "duration": 3,
    "start_time": "2022-03-12T01:14:37.871Z"
   },
   {
    "duration": 6,
    "start_time": "2022-03-12T01:14:37.878Z"
   },
   {
    "duration": 3,
    "start_time": "2022-03-12T01:14:37.972Z"
   },
   {
    "duration": 96,
    "start_time": "2022-03-12T01:14:38.042Z"
   },
   {
    "duration": 83,
    "start_time": "2022-03-12T01:14:38.140Z"
   },
   {
    "duration": 12,
    "start_time": "2022-03-12T01:14:38.237Z"
   },
   {
    "duration": 605,
    "start_time": "2022-03-12T01:14:38.267Z"
   },
   {
    "duration": 35,
    "start_time": "2022-03-12T01:14:38.875Z"
   },
   {
    "duration": 40,
    "start_time": "2022-03-12T01:14:38.912Z"
   },
   {
    "duration": 10,
    "start_time": "2022-03-12T01:16:14.668Z"
   },
   {
    "duration": 29,
    "start_time": "2022-03-12T01:16:15.114Z"
   },
   {
    "duration": 3,
    "start_time": "2022-03-12T01:16:42.153Z"
   },
   {
    "duration": 83,
    "start_time": "2022-03-12T01:16:42.731Z"
   },
   {
    "duration": 22,
    "start_time": "2022-03-12T01:16:42.839Z"
   },
   {
    "duration": 16,
    "start_time": "2022-03-12T01:16:42.863Z"
   },
   {
    "duration": 3,
    "start_time": "2022-03-12T01:16:42.918Z"
   },
   {
    "duration": 3,
    "start_time": "2022-03-12T01:16:42.995Z"
   },
   {
    "duration": 2,
    "start_time": "2022-03-12T01:16:43.061Z"
   },
   {
    "duration": 2,
    "start_time": "2022-03-12T01:16:43.123Z"
   },
   {
    "duration": 90,
    "start_time": "2022-03-12T01:16:43.499Z"
   },
   {
    "duration": 65,
    "start_time": "2022-03-12T01:16:44.264Z"
   },
   {
    "duration": 13,
    "start_time": "2022-03-12T01:16:45.050Z"
   },
   {
    "duration": 774,
    "start_time": "2022-03-12T01:16:45.274Z"
   },
   {
    "duration": 9,
    "start_time": "2022-03-12T01:16:46.050Z"
   },
   {
    "duration": 50,
    "start_time": "2022-03-12T01:16:46.061Z"
   },
   {
    "duration": 25,
    "start_time": "2022-03-12T01:16:47.353Z"
   },
   {
    "duration": 17,
    "start_time": "2022-03-12T01:16:48.670Z"
   },
   {
    "duration": 300,
    "start_time": "2022-03-12T01:23:38.907Z"
   },
   {
    "duration": 12,
    "start_time": "2022-03-12T01:24:03.348Z"
   },
   {
    "duration": 16,
    "start_time": "2022-03-12T01:24:20.341Z"
   },
   {
    "duration": 9,
    "start_time": "2022-03-12T01:25:45.632Z"
   },
   {
    "duration": 2,
    "start_time": "2022-03-12T01:25:49.912Z"
   },
   {
    "duration": 87,
    "start_time": "2022-03-12T01:25:50.482Z"
   },
   {
    "duration": 26,
    "start_time": "2022-03-12T01:25:50.578Z"
   },
   {
    "duration": 16,
    "start_time": "2022-03-12T01:25:50.608Z"
   },
   {
    "duration": 2,
    "start_time": "2022-03-12T01:25:50.672Z"
   },
   {
    "duration": 2,
    "start_time": "2022-03-12T01:25:50.740Z"
   },
   {
    "duration": 3,
    "start_time": "2022-03-12T01:25:50.813Z"
   },
   {
    "duration": 3,
    "start_time": "2022-03-12T01:25:50.875Z"
   },
   {
    "duration": 93,
    "start_time": "2022-03-12T01:25:50.974Z"
   },
   {
    "duration": 82,
    "start_time": "2022-03-12T01:25:51.070Z"
   },
   {
    "duration": 13,
    "start_time": "2022-03-12T01:25:51.175Z"
   },
   {
    "duration": 599,
    "start_time": "2022-03-12T01:25:51.222Z"
   },
   {
    "duration": 9,
    "start_time": "2022-03-12T01:25:51.823Z"
   },
   {
    "duration": 40,
    "start_time": "2022-03-12T01:25:51.835Z"
   },
   {
    "duration": 48,
    "start_time": "2022-03-12T01:25:51.877Z"
   },
   {
    "duration": 16,
    "start_time": "2022-03-12T01:25:51.927Z"
   },
   {
    "duration": 5,
    "start_time": "2022-03-12T01:25:51.945Z"
   },
   {
    "duration": 6,
    "start_time": "2022-03-12T01:25:51.952Z"
   },
   {
    "duration": 7,
    "start_time": "2022-03-12T01:25:51.960Z"
   },
   {
    "duration": 3,
    "start_time": "2022-03-12T01:26:21.606Z"
   },
   {
    "duration": 86,
    "start_time": "2022-03-12T01:26:22.170Z"
   },
   {
    "duration": 22,
    "start_time": "2022-03-12T01:26:22.279Z"
   },
   {
    "duration": 16,
    "start_time": "2022-03-12T01:26:22.309Z"
   },
   {
    "duration": 2,
    "start_time": "2022-03-12T01:26:22.374Z"
   },
   {
    "duration": 3,
    "start_time": "2022-03-12T01:26:22.438Z"
   },
   {
    "duration": 3,
    "start_time": "2022-03-12T01:26:22.498Z"
   },
   {
    "duration": 3,
    "start_time": "2022-03-12T01:26:22.590Z"
   },
   {
    "duration": 90,
    "start_time": "2022-03-12T01:26:22.671Z"
   },
   {
    "duration": 70,
    "start_time": "2022-03-12T01:26:22.763Z"
   },
   {
    "duration": 11,
    "start_time": "2022-03-12T01:26:22.870Z"
   },
   {
    "duration": 611,
    "start_time": "2022-03-12T01:26:22.900Z"
   },
   {
    "duration": 10,
    "start_time": "2022-03-12T01:26:23.513Z"
   },
   {
    "duration": 38,
    "start_time": "2022-03-12T01:26:23.525Z"
   },
   {
    "duration": 53,
    "start_time": "2022-03-12T01:26:23.566Z"
   },
   {
    "duration": 14,
    "start_time": "2022-03-12T01:26:23.621Z"
   },
   {
    "duration": 8,
    "start_time": "2022-03-12T01:26:23.637Z"
   },
   {
    "duration": 7,
    "start_time": "2022-03-12T01:26:23.647Z"
   },
   {
    "duration": 3,
    "start_time": "2022-03-12T02:05:25.861Z"
   },
   {
    "duration": 15,
    "start_time": "2022-03-12T02:05:29.397Z"
   },
   {
    "duration": 23,
    "start_time": "2022-03-12T02:05:39.267Z"
   },
   {
    "duration": 258,
    "start_time": "2022-03-12T02:11:39.776Z"
   },
   {
    "duration": 1103,
    "start_time": "2022-03-12T02:12:08.019Z"
   },
   {
    "duration": 952,
    "start_time": "2022-03-12T02:15:18.435Z"
   },
   {
    "duration": 553,
    "start_time": "2022-03-12T02:18:58.153Z"
   },
   {
    "duration": 93,
    "start_time": "2022-03-12T02:18:58.709Z"
   },
   {
    "duration": 88,
    "start_time": "2022-03-12T02:19:02.494Z"
   },
   {
    "duration": 3,
    "start_time": "2022-03-12T02:19:33.102Z"
   },
   {
    "duration": 86,
    "start_time": "2022-03-12T02:19:34.094Z"
   },
   {
    "duration": 627,
    "start_time": "2022-03-12T02:19:40.508Z"
   },
   {
    "duration": 91,
    "start_time": "2022-03-12T02:19:41.405Z"
   },
   {
    "duration": 22,
    "start_time": "2022-03-12T02:19:42.284Z"
   },
   {
    "duration": 23,
    "start_time": "2022-03-12T02:19:42.557Z"
   },
   {
    "duration": 3,
    "start_time": "2022-03-12T02:19:43.569Z"
   },
   {
    "duration": 3,
    "start_time": "2022-03-12T02:19:44.220Z"
   },
   {
    "duration": 3,
    "start_time": "2022-03-12T02:19:44.602Z"
   },
   {
    "duration": 3,
    "start_time": "2022-03-12T02:19:45.138Z"
   },
   {
    "duration": 101,
    "start_time": "2022-03-12T02:19:45.251Z"
   },
   {
    "duration": 81,
    "start_time": "2022-03-12T02:19:45.354Z"
   },
   {
    "duration": 16,
    "start_time": "2022-03-12T02:19:45.438Z"
   },
   {
    "duration": 613,
    "start_time": "2022-03-12T02:19:45.464Z"
   },
   {
    "duration": 10,
    "start_time": "2022-03-12T02:19:46.079Z"
   },
   {
    "duration": 51,
    "start_time": "2022-03-12T02:19:46.091Z"
   },
   {
    "duration": 33,
    "start_time": "2022-03-12T02:19:46.747Z"
   },
   {
    "duration": 16,
    "start_time": "2022-03-12T02:19:46.973Z"
   },
   {
    "duration": 1794,
    "start_time": "2022-03-12T02:19:48.413Z"
   },
   {
    "duration": 749,
    "start_time": "2022-03-12T02:29:37.325Z"
   },
   {
    "duration": 679,
    "start_time": "2022-03-12T02:29:56.990Z"
   },
   {
    "duration": 3,
    "start_time": "2022-03-12T02:30:11.160Z"
   },
   {
    "duration": 85,
    "start_time": "2022-03-12T02:30:12.647Z"
   },
   {
    "duration": 24,
    "start_time": "2022-03-12T02:30:13.444Z"
   },
   {
    "duration": 16,
    "start_time": "2022-03-12T02:30:13.479Z"
   },
   {
    "duration": 3,
    "start_time": "2022-03-12T02:30:13.539Z"
   },
   {
    "duration": 3,
    "start_time": "2022-03-12T02:30:13.604Z"
   },
   {
    "duration": 3,
    "start_time": "2022-03-12T02:30:13.685Z"
   },
   {
    "duration": 3,
    "start_time": "2022-03-12T02:30:13.761Z"
   },
   {
    "duration": 88,
    "start_time": "2022-03-12T02:30:14.107Z"
   },
   {
    "duration": 72,
    "start_time": "2022-03-12T02:30:14.676Z"
   },
   {
    "duration": 13,
    "start_time": "2022-03-12T02:30:14.770Z"
   },
   {
    "duration": 635,
    "start_time": "2022-03-12T02:30:14.809Z"
   },
   {
    "duration": 9,
    "start_time": "2022-03-12T02:30:15.446Z"
   },
   {
    "duration": 43,
    "start_time": "2022-03-12T02:30:15.640Z"
   },
   {
    "duration": 30,
    "start_time": "2022-03-12T02:30:17.032Z"
   },
   {
    "duration": 17,
    "start_time": "2022-03-12T02:30:17.400Z"
   },
   {
    "duration": 717,
    "start_time": "2022-03-12T02:30:19.594Z"
   },
   {
    "duration": 1382,
    "start_time": "2022-03-12T02:30:56.248Z"
   },
   {
    "duration": 14,
    "start_time": "2022-03-12T02:46:20.063Z"
   },
   {
    "duration": 13,
    "start_time": "2022-03-12T02:46:40.960Z"
   },
   {
    "duration": 16,
    "start_time": "2022-03-12T02:46:52.848Z"
   },
   {
    "duration": 3,
    "start_time": "2022-03-12T02:46:53.394Z"
   },
   {
    "duration": 3,
    "start_time": "2022-03-12T02:46:53.456Z"
   },
   {
    "duration": 3,
    "start_time": "2022-03-12T02:46:53.516Z"
   },
   {
    "duration": 3,
    "start_time": "2022-03-12T02:46:53.580Z"
   },
   {
    "duration": 268,
    "start_time": "2022-03-12T02:46:53.692Z"
   },
   {
    "duration": 137,
    "start_time": "2022-03-12T02:46:53.825Z"
   },
   {
    "duration": 123,
    "start_time": "2022-03-12T02:46:53.840Z"
   },
   {
    "duration": 123,
    "start_time": "2022-03-12T02:46:53.841Z"
   },
   {
    "duration": 123,
    "start_time": "2022-03-12T02:46:53.842Z"
   },
   {
    "duration": 30,
    "start_time": "2022-03-12T02:46:53.994Z"
   },
   {
    "duration": 29,
    "start_time": "2022-03-12T02:46:54.076Z"
   },
   {
    "duration": 17,
    "start_time": "2022-03-12T02:46:54.109Z"
   },
   {
    "duration": 1670,
    "start_time": "2022-03-12T02:46:54.217Z"
   },
   {
    "duration": 127,
    "start_time": "2022-03-12T02:46:55.762Z"
   },
   {
    "duration": 128,
    "start_time": "2022-03-12T02:46:55.763Z"
   },
   {
    "duration": 128,
    "start_time": "2022-03-12T02:46:55.764Z"
   },
   {
    "duration": 136,
    "start_time": "2022-03-12T02:46:55.765Z"
   },
   {
    "duration": 135,
    "start_time": "2022-03-12T02:46:55.767Z"
   },
   {
    "duration": 136,
    "start_time": "2022-03-12T02:46:55.767Z"
   },
   {
    "duration": 135,
    "start_time": "2022-03-12T02:46:55.769Z"
   },
   {
    "duration": 136,
    "start_time": "2022-03-12T02:46:55.769Z"
   },
   {
    "duration": 1439,
    "start_time": "2022-03-12T02:47:08.099Z"
   },
   {
    "duration": 1635,
    "start_time": "2022-03-12T02:48:09.202Z"
   },
   {
    "duration": 3,
    "start_time": "2022-03-12T02:48:15.441Z"
   },
   {
    "duration": 82,
    "start_time": "2022-03-12T02:48:16.006Z"
   },
   {
    "duration": 22,
    "start_time": "2022-03-12T02:48:16.097Z"
   },
   {
    "duration": 16,
    "start_time": "2022-03-12T02:48:16.142Z"
   },
   {
    "duration": 3,
    "start_time": "2022-03-12T02:48:16.208Z"
   },
   {
    "duration": 3,
    "start_time": "2022-03-12T02:48:16.268Z"
   },
   {
    "duration": 3,
    "start_time": "2022-03-12T02:48:16.331Z"
   },
   {
    "duration": 2,
    "start_time": "2022-03-12T02:48:16.395Z"
   },
   {
    "duration": 95,
    "start_time": "2022-03-12T02:48:17.609Z"
   },
   {
    "duration": 73,
    "start_time": "2022-03-12T02:48:17.712Z"
   },
   {
    "duration": 14,
    "start_time": "2022-03-12T02:48:17.812Z"
   },
   {
    "duration": 604,
    "start_time": "2022-03-12T02:48:17.842Z"
   },
   {
    "duration": 9,
    "start_time": "2022-03-12T02:48:18.448Z"
   },
   {
    "duration": 66,
    "start_time": "2022-03-12T02:48:18.460Z"
   },
   {
    "duration": 31,
    "start_time": "2022-03-12T02:48:18.803Z"
   },
   {
    "duration": 17,
    "start_time": "2022-03-12T02:48:19.573Z"
   },
   {
    "duration": 1248,
    "start_time": "2022-03-12T02:48:21.200Z"
   },
   {
    "duration": 2,
    "start_time": "2022-03-12T02:48:22.450Z"
   },
   {
    "duration": 1102,
    "start_time": "2022-03-12T02:48:44.431Z"
   },
   {
    "duration": 1049,
    "start_time": "2022-03-12T02:49:21.441Z"
   },
   {
    "duration": 659,
    "start_time": "2022-03-12T02:50:17.807Z"
   },
   {
    "duration": 605,
    "start_time": "2022-03-12T02:51:06.699Z"
   },
   {
    "duration": 87,
    "start_time": "2022-03-12T02:51:07.306Z"
   },
   {
    "duration": 21,
    "start_time": "2022-03-12T02:51:08.932Z"
   },
   {
    "duration": 24,
    "start_time": "2022-03-12T02:51:09.247Z"
   },
   {
    "duration": 2,
    "start_time": "2022-03-12T02:51:10.401Z"
   },
   {
    "duration": 3,
    "start_time": "2022-03-12T02:51:10.846Z"
   },
   {
    "duration": 3,
    "start_time": "2022-03-12T02:51:11.342Z"
   },
   {
    "duration": 3,
    "start_time": "2022-03-12T02:51:12.172Z"
   },
   {
    "duration": 101,
    "start_time": "2022-03-12T02:51:12.203Z"
   },
   {
    "duration": 81,
    "start_time": "2022-03-12T02:51:12.469Z"
   },
   {
    "duration": 16,
    "start_time": "2022-03-12T02:51:12.688Z"
   },
   {
    "duration": 749,
    "start_time": "2022-03-12T02:51:12.954Z"
   },
   {
    "duration": 11,
    "start_time": "2022-03-12T02:51:13.705Z"
   },
   {
    "duration": 44,
    "start_time": "2022-03-12T02:51:13.718Z"
   },
   {
    "duration": 33,
    "start_time": "2022-03-12T02:51:14.527Z"
   },
   {
    "duration": 16,
    "start_time": "2022-03-12T02:51:14.830Z"
   },
   {
    "duration": 1845,
    "start_time": "2022-03-12T02:51:16.623Z"
   },
   {
    "duration": 842,
    "start_time": "2022-03-12T23:49:18.683Z"
   },
   {
    "duration": 112,
    "start_time": "2022-03-12T23:49:20.497Z"
   },
   {
    "duration": 27,
    "start_time": "2022-03-12T23:49:22.387Z"
   },
   {
    "duration": 26,
    "start_time": "2022-03-12T23:49:22.977Z"
   },
   {
    "duration": 3,
    "start_time": "2022-03-12T23:49:23.717Z"
   },
   {
    "duration": 3,
    "start_time": "2022-03-12T23:49:24.226Z"
   },
   {
    "duration": 3,
    "start_time": "2022-03-12T23:49:24.760Z"
   },
   {
    "duration": 4,
    "start_time": "2022-03-12T23:49:24.820Z"
   },
   {
    "duration": 141,
    "start_time": "2022-03-12T23:49:24.928Z"
   },
   {
    "duration": 103,
    "start_time": "2022-03-12T23:49:25.072Z"
   },
   {
    "duration": 20,
    "start_time": "2022-03-12T23:49:25.187Z"
   },
   {
    "duration": 960,
    "start_time": "2022-03-12T23:49:25.210Z"
   },
   {
    "duration": 19,
    "start_time": "2022-03-12T23:49:26.173Z"
   },
   {
    "duration": 61,
    "start_time": "2022-03-12T23:49:26.195Z"
   },
   {
    "duration": 38,
    "start_time": "2022-03-12T23:49:26.518Z"
   },
   {
    "duration": 22,
    "start_time": "2022-03-12T23:49:26.559Z"
   },
   {
    "duration": 1076,
    "start_time": "2022-03-12T23:49:26.645Z"
   },
   {
    "duration": -304,
    "start_time": "2022-03-12T23:49:28.028Z"
   },
   {
    "duration": -304,
    "start_time": "2022-03-12T23:49:28.030Z"
   },
   {
    "duration": -304,
    "start_time": "2022-03-12T23:49:28.031Z"
   },
   {
    "duration": 444,
    "start_time": "2022-03-12T23:51:05.944Z"
   },
   {
    "duration": 3,
    "start_time": "2022-03-13T02:24:28.465Z"
   },
   {
    "duration": 106,
    "start_time": "2022-03-13T02:24:29.019Z"
   },
   {
    "duration": 24,
    "start_time": "2022-03-13T02:24:29.129Z"
   },
   {
    "duration": 33,
    "start_time": "2022-03-13T02:24:29.156Z"
   },
   {
    "duration": 3,
    "start_time": "2022-03-13T02:24:29.215Z"
   },
   {
    "duration": 3,
    "start_time": "2022-03-13T02:24:29.284Z"
   },
   {
    "duration": 3,
    "start_time": "2022-03-13T02:24:29.351Z"
   },
   {
    "duration": 4,
    "start_time": "2022-03-13T02:24:29.417Z"
   },
   {
    "duration": 137,
    "start_time": "2022-03-13T02:24:29.521Z"
   },
   {
    "duration": 104,
    "start_time": "2022-03-13T02:24:29.661Z"
   },
   {
    "duration": 28,
    "start_time": "2022-03-13T02:24:29.768Z"
   },
   {
    "duration": 984,
    "start_time": "2022-03-13T02:24:29.799Z"
   },
   {
    "duration": 12,
    "start_time": "2022-03-13T02:24:30.787Z"
   },
   {
    "duration": 80,
    "start_time": "2022-03-13T02:24:30.802Z"
   },
   {
    "duration": 40,
    "start_time": "2022-03-13T02:24:30.886Z"
   },
   {
    "duration": 23,
    "start_time": "2022-03-13T02:24:30.929Z"
   },
   {
    "duration": 502,
    "start_time": "2022-03-13T02:24:30.954Z"
   },
   {
    "duration": -471,
    "start_time": "2022-03-13T02:24:31.930Z"
   },
   {
    "duration": -470,
    "start_time": "2022-03-13T02:24:31.931Z"
   },
   {
    "duration": -471,
    "start_time": "2022-03-13T02:24:31.933Z"
   },
   {
    "duration": -471,
    "start_time": "2022-03-13T02:24:31.934Z"
   },
   {
    "duration": -470,
    "start_time": "2022-03-13T02:24:31.935Z"
   },
   {
    "duration": -470,
    "start_time": "2022-03-13T02:24:31.936Z"
   },
   {
    "duration": 1714,
    "start_time": "2022-03-13T02:27:41.009Z"
   },
   {
    "duration": 1672,
    "start_time": "2022-03-13T02:28:00.024Z"
   },
   {
    "duration": 108,
    "start_time": "2022-03-13T02:29:07.850Z"
   },
   {
    "duration": 2226,
    "start_time": "2022-03-13T02:29:11.112Z"
   },
   {
    "duration": 457,
    "start_time": "2022-03-13T02:30:30.898Z"
   },
   {
    "duration": 4,
    "start_time": "2022-03-13T02:30:53.751Z"
   },
   {
    "duration": 102,
    "start_time": "2022-03-13T02:30:54.328Z"
   },
   {
    "duration": 24,
    "start_time": "2022-03-13T02:30:54.432Z"
   },
   {
    "duration": 38,
    "start_time": "2022-03-13T02:30:54.460Z"
   },
   {
    "duration": 3,
    "start_time": "2022-03-13T02:30:54.517Z"
   },
   {
    "duration": 3,
    "start_time": "2022-03-13T02:30:54.590Z"
   },
   {
    "duration": 3,
    "start_time": "2022-03-13T02:30:54.652Z"
   },
   {
    "duration": 3,
    "start_time": "2022-03-13T02:30:54.713Z"
   },
   {
    "duration": 136,
    "start_time": "2022-03-13T02:30:54.806Z"
   },
   {
    "duration": 102,
    "start_time": "2022-03-13T02:30:54.944Z"
   },
   {
    "duration": 15,
    "start_time": "2022-03-13T02:30:55.049Z"
   },
   {
    "duration": 960,
    "start_time": "2022-03-13T02:30:55.067Z"
   },
   {
    "duration": 12,
    "start_time": "2022-03-13T02:30:56.030Z"
   },
   {
    "duration": 77,
    "start_time": "2022-03-13T02:30:56.045Z"
   },
   {
    "duration": 37,
    "start_time": "2022-03-13T02:30:56.124Z"
   },
   {
    "duration": 43,
    "start_time": "2022-03-13T02:30:56.165Z"
   },
   {
    "duration": 455,
    "start_time": "2022-03-13T02:30:57.495Z"
   },
   {
    "duration": 445,
    "start_time": "2022-03-13T02:31:34.107Z"
   },
   {
    "duration": 1700,
    "start_time": "2022-03-13T02:32:54.952Z"
   },
   {
    "duration": 4,
    "start_time": "2022-03-13T02:34:14.005Z"
   },
   {
    "duration": 105,
    "start_time": "2022-03-13T02:34:14.563Z"
   },
   {
    "duration": 30,
    "start_time": "2022-03-13T02:34:14.671Z"
   },
   {
    "duration": 21,
    "start_time": "2022-03-13T02:34:14.703Z"
   },
   {
    "duration": 3,
    "start_time": "2022-03-13T02:34:14.767Z"
   },
   {
    "duration": 4,
    "start_time": "2022-03-13T02:34:14.833Z"
   },
   {
    "duration": 4,
    "start_time": "2022-03-13T02:34:14.898Z"
   },
   {
    "duration": 4,
    "start_time": "2022-03-13T02:34:14.958Z"
   },
   {
    "duration": 151,
    "start_time": "2022-03-13T02:34:15.069Z"
   },
   {
    "duration": 99,
    "start_time": "2022-03-13T02:34:15.223Z"
   },
   {
    "duration": 16,
    "start_time": "2022-03-13T02:34:15.325Z"
   },
   {
    "duration": 1003,
    "start_time": "2022-03-13T02:34:15.343Z"
   },
   {
    "duration": 12,
    "start_time": "2022-03-13T02:34:16.349Z"
   },
   {
    "duration": 77,
    "start_time": "2022-03-13T02:34:16.364Z"
   },
   {
    "duration": 53,
    "start_time": "2022-03-13T02:34:16.444Z"
   },
   {
    "duration": 23,
    "start_time": "2022-03-13T02:34:16.499Z"
   },
   {
    "duration": 1662,
    "start_time": "2022-03-13T02:34:16.525Z"
   },
   {
    "duration": 3,
    "start_time": "2022-03-13T02:34:18.190Z"
   },
   {
    "duration": 5,
    "start_time": "2022-03-13T02:34:18.196Z"
   },
   {
    "duration": 5,
    "start_time": "2022-03-13T02:34:18.203Z"
   },
   {
    "duration": 6,
    "start_time": "2022-03-13T02:34:18.211Z"
   },
   {
    "duration": 6,
    "start_time": "2022-03-13T02:34:18.220Z"
   },
   {
    "duration": 4,
    "start_time": "2022-03-13T02:34:18.228Z"
   },
   {
    "duration": 4,
    "start_time": "2022-03-13T02:34:18.235Z"
   },
   {
    "duration": 45,
    "start_time": "2022-03-13T02:34:18.242Z"
   },
   {
    "duration": 1744,
    "start_time": "2022-03-13T02:34:46.391Z"
   },
   {
    "duration": 33,
    "start_time": "2022-03-13T02:38:48.289Z"
   },
   {
    "duration": 4,
    "start_time": "2022-03-13T02:38:57.060Z"
   },
   {
    "duration": 107,
    "start_time": "2022-03-13T02:38:57.623Z"
   },
   {
    "duration": 27,
    "start_time": "2022-03-13T02:38:57.733Z"
   },
   {
    "duration": 38,
    "start_time": "2022-03-13T02:38:57.764Z"
   },
   {
    "duration": 3,
    "start_time": "2022-03-13T02:38:57.934Z"
   },
   {
    "duration": 4,
    "start_time": "2022-03-13T02:38:57.943Z"
   },
   {
    "duration": 4,
    "start_time": "2022-03-13T02:38:57.951Z"
   },
   {
    "duration": 3,
    "start_time": "2022-03-13T02:38:58.020Z"
   },
   {
    "duration": 282,
    "start_time": "2022-03-13T02:38:58.119Z"
   },
   {
    "duration": 83,
    "start_time": "2022-03-13T02:38:58.636Z"
   },
   {
    "duration": 16,
    "start_time": "2022-03-13T02:38:59.324Z"
   },
   {
    "duration": 918,
    "start_time": "2022-03-13T02:38:59.343Z"
   },
   {
    "duration": 22,
    "start_time": "2022-03-13T02:39:00.265Z"
   },
   {
    "duration": 59,
    "start_time": "2022-03-13T02:39:00.291Z"
   },
   {
    "duration": 58,
    "start_time": "2022-03-13T02:39:00.353Z"
   },
   {
    "duration": 23,
    "start_time": "2022-03-13T02:39:00.413Z"
   },
   {
    "duration": 58,
    "start_time": "2022-03-13T02:39:00.438Z"
   },
   {
    "duration": 1555,
    "start_time": "2022-03-13T02:39:36.262Z"
   },
   {
    "duration": 1601,
    "start_time": "2022-03-13T02:40:56.786Z"
   },
   {
    "duration": 4,
    "start_time": "2022-03-13T02:42:07.716Z"
   },
   {
    "duration": 105,
    "start_time": "2022-03-13T02:42:08.275Z"
   },
   {
    "duration": 28,
    "start_time": "2022-03-13T02:42:08.383Z"
   },
   {
    "duration": 22,
    "start_time": "2022-03-13T02:42:08.415Z"
   },
   {
    "duration": 3,
    "start_time": "2022-03-13T02:42:08.464Z"
   },
   {
    "duration": 3,
    "start_time": "2022-03-13T02:42:08.537Z"
   },
   {
    "duration": 3,
    "start_time": "2022-03-13T02:42:08.609Z"
   },
   {
    "duration": 3,
    "start_time": "2022-03-13T02:42:08.672Z"
   },
   {
    "duration": 235,
    "start_time": "2022-03-13T02:42:08.771Z"
   },
   {
    "duration": 96,
    "start_time": "2022-03-13T02:42:09.009Z"
   },
   {
    "duration": 15,
    "start_time": "2022-03-13T02:42:09.108Z"
   },
   {
    "duration": 981,
    "start_time": "2022-03-13T02:42:09.125Z"
   },
   {
    "duration": 12,
    "start_time": "2022-03-13T02:42:10.108Z"
   },
   {
    "duration": 82,
    "start_time": "2022-03-13T02:42:10.122Z"
   },
   {
    "duration": 31,
    "start_time": "2022-03-13T02:42:10.207Z"
   },
   {
    "duration": 22,
    "start_time": "2022-03-13T02:42:10.240Z"
   },
   {
    "duration": 2602,
    "start_time": "2022-03-13T02:42:10.264Z"
   },
   {
    "duration": 3,
    "start_time": "2022-03-13T02:42:12.868Z"
   },
   {
    "duration": 14,
    "start_time": "2022-03-13T02:42:12.873Z"
   },
   {
    "duration": 3095,
    "start_time": "2022-03-13T02:43:01.076Z"
   },
   {
    "duration": 3298,
    "start_time": "2022-03-13T02:44:01.828Z"
   },
   {
    "duration": 3130,
    "start_time": "2022-03-13T02:50:09.053Z"
   },
   {
    "duration": 3173,
    "start_time": "2022-03-13T02:50:22.285Z"
   },
   {
    "duration": 627,
    "start_time": "2022-03-13T03:02:46.041Z"
   },
   {
    "duration": 435,
    "start_time": "2022-03-13T03:03:40.248Z"
   },
   {
    "duration": 1152,
    "start_time": "2022-03-13T03:03:49.081Z"
   },
   {
    "duration": 645,
    "start_time": "2022-03-13T03:05:27.788Z"
   },
   {
    "duration": 1062,
    "start_time": "2022-03-13T03:06:47.125Z"
   },
   {
    "duration": 1174,
    "start_time": "2022-03-13T03:09:54.938Z"
   },
   {
    "duration": 1113,
    "start_time": "2022-03-13T03:13:27.961Z"
   },
   {
    "duration": 1105,
    "start_time": "2022-03-13T03:13:31.172Z"
   },
   {
    "duration": 1159,
    "start_time": "2022-03-13T03:13:57.030Z"
   },
   {
    "duration": 1209,
    "start_time": "2022-03-13T03:14:00.121Z"
   },
   {
    "duration": 1188,
    "start_time": "2022-03-13T03:15:00.735Z"
   },
   {
    "duration": 1104,
    "start_time": "2022-03-13T03:15:04.291Z"
   },
   {
    "duration": 3243,
    "start_time": "2022-03-13T03:21:16.402Z"
   },
   {
    "duration": 3249,
    "start_time": "2022-03-13T03:21:44.945Z"
   },
   {
    "duration": 3,
    "start_time": "2022-03-13T03:21:59.984Z"
   },
   {
    "duration": 4,
    "start_time": "2022-03-13T03:22:02.066Z"
   },
   {
    "duration": 3171,
    "start_time": "2022-03-13T03:24:01.108Z"
   },
   {
    "duration": 3218,
    "start_time": "2022-03-13T03:25:34.450Z"
   },
   {
    "duration": 4917,
    "start_time": "2022-03-13T03:28:00.585Z"
   },
   {
    "duration": 3212,
    "start_time": "2022-03-13T03:31:53.579Z"
   },
   {
    "duration": 8,
    "start_time": "2022-03-13T03:34:00.450Z"
   },
   {
    "duration": 24,
    "start_time": "2022-03-13T03:34:05.728Z"
   },
   {
    "duration": 8,
    "start_time": "2022-03-13T03:34:12.651Z"
   },
   {
    "duration": 10,
    "start_time": "2022-03-13T03:34:21.866Z"
   },
   {
    "duration": 11,
    "start_time": "2022-03-13T03:34:25.818Z"
   },
   {
    "duration": 9,
    "start_time": "2022-03-13T03:34:36.555Z"
   },
   {
    "duration": 1390,
    "start_time": "2022-03-13T03:36:00.462Z"
   },
   {
    "duration": 288,
    "start_time": "2022-03-13T03:36:14.074Z"
   },
   {
    "duration": 301,
    "start_time": "2022-03-13T03:37:10.924Z"
   },
   {
    "duration": 542,
    "start_time": "2022-03-13T03:37:32.507Z"
   },
   {
    "duration": 530,
    "start_time": "2022-03-13T03:38:10.113Z"
   },
   {
    "duration": 15,
    "start_time": "2022-03-13T04:46:32.205Z"
   },
   {
    "duration": 30,
    "start_time": "2022-03-13T04:46:39.081Z"
   },
   {
    "duration": 66,
    "start_time": "2022-03-13T04:46:54.060Z"
   },
   {
    "duration": 354,
    "start_time": "2022-03-13T04:50:20.616Z"
   },
   {
    "duration": 284,
    "start_time": "2022-03-13T04:50:42.250Z"
   },
   {
    "duration": 3,
    "start_time": "2022-03-13T04:50:53.516Z"
   },
   {
    "duration": 107,
    "start_time": "2022-03-13T04:50:54.089Z"
   },
   {
    "duration": 26,
    "start_time": "2022-03-13T04:50:54.199Z"
   },
   {
    "duration": 21,
    "start_time": "2022-03-13T04:50:54.227Z"
   },
   {
    "duration": 3,
    "start_time": "2022-03-13T04:50:54.280Z"
   },
   {
    "duration": 3,
    "start_time": "2022-03-13T04:50:54.344Z"
   },
   {
    "duration": 3,
    "start_time": "2022-03-13T04:50:54.420Z"
   },
   {
    "duration": 3,
    "start_time": "2022-03-13T04:50:54.483Z"
   },
   {
    "duration": 135,
    "start_time": "2022-03-13T04:50:54.708Z"
   },
   {
    "duration": 108,
    "start_time": "2022-03-13T04:50:54.846Z"
   },
   {
    "duration": 32,
    "start_time": "2022-03-13T04:50:54.957Z"
   },
   {
    "duration": 973,
    "start_time": "2022-03-13T04:50:54.992Z"
   },
   {
    "duration": 20,
    "start_time": "2022-03-13T04:50:55.968Z"
   },
   {
    "duration": 59,
    "start_time": "2022-03-13T04:50:55.990Z"
   },
   {
    "duration": 55,
    "start_time": "2022-03-13T04:50:56.052Z"
   },
   {
    "duration": 9,
    "start_time": "2022-03-13T04:50:56.110Z"
   },
   {
    "duration": 3189,
    "start_time": "2022-03-13T04:50:56.122Z"
   },
   {
    "duration": 4,
    "start_time": "2022-03-13T04:50:59.314Z"
   },
   {
    "duration": 555,
    "start_time": "2022-03-13T04:50:59.321Z"
   },
   {
    "duration": 3,
    "start_time": "2022-03-13T04:50:59.886Z"
   },
   {
    "duration": 5,
    "start_time": "2022-03-13T04:50:59.893Z"
   },
   {
    "duration": 8,
    "start_time": "2022-03-13T04:50:59.900Z"
   },
   {
    "duration": 5,
    "start_time": "2022-03-13T04:50:59.910Z"
   },
   {
    "duration": 13,
    "start_time": "2022-03-13T04:50:59.917Z"
   },
   {
    "duration": 305,
    "start_time": "2022-03-13T04:50:59.932Z"
   },
   {
    "duration": 43,
    "start_time": "2022-03-13T04:51:39.289Z"
   },
   {
    "duration": 270,
    "start_time": "2022-03-13T04:51:48.248Z"
   },
   {
    "duration": 46,
    "start_time": "2022-03-13T04:51:58.191Z"
   },
   {
    "duration": 58,
    "start_time": "2022-03-13T04:52:05.850Z"
   },
   {
    "duration": 72,
    "start_time": "2022-03-13T04:52:09.624Z"
   },
   {
    "duration": 76,
    "start_time": "2022-03-13T04:52:12.952Z"
   },
   {
    "duration": 62,
    "start_time": "2022-03-13T04:52:18.215Z"
   },
   {
    "duration": 52,
    "start_time": "2022-03-13T04:53:05.512Z"
   },
   {
    "duration": 63,
    "start_time": "2022-03-13T04:53:12.703Z"
   },
   {
    "duration": 60,
    "start_time": "2022-03-13T04:53:24.134Z"
   },
   {
    "duration": 4,
    "start_time": "2022-03-13T04:53:34.252Z"
   },
   {
    "duration": 106,
    "start_time": "2022-03-13T04:53:34.821Z"
   },
   {
    "duration": 24,
    "start_time": "2022-03-13T04:53:34.930Z"
   },
   {
    "duration": 31,
    "start_time": "2022-03-13T04:53:34.963Z"
   },
   {
    "duration": 3,
    "start_time": "2022-03-13T04:53:35.019Z"
   },
   {
    "duration": 3,
    "start_time": "2022-03-13T04:53:35.117Z"
   },
   {
    "duration": 3,
    "start_time": "2022-03-13T04:53:35.144Z"
   },
   {
    "duration": 3,
    "start_time": "2022-03-13T04:53:35.211Z"
   },
   {
    "duration": 137,
    "start_time": "2022-03-13T04:53:35.323Z"
   },
   {
    "duration": 109,
    "start_time": "2022-03-13T04:53:35.463Z"
   },
   {
    "duration": 27,
    "start_time": "2022-03-13T04:53:35.575Z"
   },
   {
    "duration": 963,
    "start_time": "2022-03-13T04:53:35.605Z"
   },
   {
    "duration": 23,
    "start_time": "2022-03-13T04:53:36.570Z"
   },
   {
    "duration": 59,
    "start_time": "2022-03-13T04:53:36.597Z"
   },
   {
    "duration": 59,
    "start_time": "2022-03-13T04:53:36.659Z"
   },
   {
    "duration": 10,
    "start_time": "2022-03-13T04:53:36.721Z"
   },
   {
    "duration": 3175,
    "start_time": "2022-03-13T04:53:36.734Z"
   },
   {
    "duration": 2,
    "start_time": "2022-03-13T04:53:39.912Z"
   },
   {
    "duration": 540,
    "start_time": "2022-03-13T04:53:39.916Z"
   },
   {
    "duration": 3,
    "start_time": "2022-03-13T04:53:40.458Z"
   },
   {
    "duration": 15,
    "start_time": "2022-03-13T04:53:40.464Z"
   },
   {
    "duration": 8,
    "start_time": "2022-03-13T04:53:40.487Z"
   },
   {
    "duration": 15,
    "start_time": "2022-03-13T04:53:40.497Z"
   },
   {
    "duration": 18,
    "start_time": "2022-03-13T04:53:40.515Z"
   },
   {
    "duration": 58,
    "start_time": "2022-03-13T04:53:40.535Z"
   },
   {
    "duration": 5,
    "start_time": "2022-03-13T04:55:41.621Z"
   },
   {
    "duration": 104,
    "start_time": "2022-03-13T04:55:42.190Z"
   },
   {
    "duration": 25,
    "start_time": "2022-03-13T04:55:42.300Z"
   },
   {
    "duration": 21,
    "start_time": "2022-03-13T04:55:42.387Z"
   },
   {
    "duration": 5,
    "start_time": "2022-03-13T04:55:42.411Z"
   },
   {
    "duration": 4,
    "start_time": "2022-03-13T04:55:42.455Z"
   },
   {
    "duration": 3,
    "start_time": "2022-03-13T04:55:42.519Z"
   },
   {
    "duration": 3,
    "start_time": "2022-03-13T04:55:42.602Z"
   },
   {
    "duration": 141,
    "start_time": "2022-03-13T04:55:42.696Z"
   },
   {
    "duration": 87,
    "start_time": "2022-03-13T04:55:42.840Z"
   },
   {
    "duration": 14,
    "start_time": "2022-03-13T04:55:42.930Z"
   },
   {
    "duration": 1012,
    "start_time": "2022-03-13T04:55:42.948Z"
   },
   {
    "duration": 25,
    "start_time": "2022-03-13T04:55:43.964Z"
   },
   {
    "duration": 61,
    "start_time": "2022-03-13T04:55:43.993Z"
   },
   {
    "duration": 52,
    "start_time": "2022-03-13T04:55:44.056Z"
   },
   {
    "duration": 8,
    "start_time": "2022-03-13T04:55:44.111Z"
   },
   {
    "duration": 3268,
    "start_time": "2022-03-13T04:55:44.122Z"
   },
   {
    "duration": 2,
    "start_time": "2022-03-13T04:55:47.393Z"
   },
   {
    "duration": 565,
    "start_time": "2022-03-13T04:55:47.398Z"
   },
   {
    "duration": 625,
    "start_time": "2022-03-13T04:55:50.822Z"
   },
   {
    "duration": 3,
    "start_time": "2022-03-13T04:55:51.450Z"
   },
   {
    "duration": 5,
    "start_time": "2022-03-13T04:55:51.456Z"
   },
   {
    "duration": 23,
    "start_time": "2022-03-13T04:55:51.464Z"
   },
   {
    "duration": 6,
    "start_time": "2022-03-13T04:55:51.490Z"
   },
   {
    "duration": 6,
    "start_time": "2022-03-13T04:55:51.498Z"
   },
   {
    "duration": 65,
    "start_time": "2022-03-13T04:55:51.533Z"
   },
   {
    "duration": 3158,
    "start_time": "2022-03-13T04:56:03.127Z"
   },
   {
    "duration": 79,
    "start_time": "2022-03-13T04:58:00.905Z"
   },
   {
    "duration": 5107,
    "start_time": "2022-03-13T05:04:30.358Z"
   },
   {
    "duration": 4765,
    "start_time": "2022-03-13T05:04:52.771Z"
   },
   {
    "duration": 6400,
    "start_time": "2022-03-13T05:05:23.650Z"
   },
   {
    "duration": 6481,
    "start_time": "2022-03-13T05:05:58.406Z"
   },
   {
    "duration": 6379,
    "start_time": "2022-03-13T05:08:41.457Z"
   },
   {
    "duration": 6510,
    "start_time": "2022-03-13T05:09:12.308Z"
   },
   {
    "duration": 7041,
    "start_time": "2022-03-13T05:09:31.922Z"
   },
   {
    "duration": 6877,
    "start_time": "2022-03-13T05:09:54.899Z"
   },
   {
    "duration": 50,
    "start_time": "2022-03-13T05:24:37.091Z"
   },
   {
    "duration": 4,
    "start_time": "2022-03-13T06:02:54.984Z"
   },
   {
    "duration": 107,
    "start_time": "2022-03-13T06:02:55.554Z"
   },
   {
    "duration": 29,
    "start_time": "2022-03-13T06:02:55.664Z"
   },
   {
    "duration": 21,
    "start_time": "2022-03-13T06:02:55.701Z"
   },
   {
    "duration": 3,
    "start_time": "2022-03-13T06:02:55.769Z"
   },
   {
    "duration": 3,
    "start_time": "2022-03-13T06:02:55.841Z"
   },
   {
    "duration": 3,
    "start_time": "2022-03-13T06:02:56.313Z"
   },
   {
    "duration": 3,
    "start_time": "2022-03-13T06:02:57.001Z"
   },
   {
    "duration": 431,
    "start_time": "2022-03-13T06:02:57.865Z"
   },
   {
    "duration": 100,
    "start_time": "2022-03-13T06:03:07.737Z"
   },
   {
    "duration": 92,
    "start_time": "2022-03-13T06:03:12.552Z"
   },
   {
    "duration": 15,
    "start_time": "2022-03-13T06:03:14.408Z"
   },
   {
    "duration": 953,
    "start_time": "2022-03-13T06:03:14.765Z"
   },
   {
    "duration": 936,
    "start_time": "2022-03-13T06:04:00.911Z"
   },
   {
    "duration": 9,
    "start_time": "2022-03-13T06:06:05.325Z"
   },
   {
    "duration": 56,
    "start_time": "2022-03-13T06:07:40.470Z"
   },
   {
    "duration": 33,
    "start_time": "2022-03-13T06:07:51.510Z"
   },
   {
    "duration": 4,
    "start_time": "2022-03-13T06:08:00.518Z"
   },
   {
    "duration": 105,
    "start_time": "2022-03-13T06:08:01.336Z"
   },
   {
    "duration": 26,
    "start_time": "2022-03-13T06:08:01.444Z"
   },
   {
    "duration": 36,
    "start_time": "2022-03-13T06:08:01.476Z"
   },
   {
    "duration": 3,
    "start_time": "2022-03-13T06:08:01.533Z"
   },
   {
    "duration": 4,
    "start_time": "2022-03-13T06:08:01.597Z"
   },
   {
    "duration": 3,
    "start_time": "2022-03-13T06:08:01.659Z"
   },
   {
    "duration": 3,
    "start_time": "2022-03-13T06:08:01.724Z"
   },
   {
    "duration": 105,
    "start_time": "2022-03-13T06:08:02.582Z"
   },
   {
    "duration": 98,
    "start_time": "2022-03-13T06:08:03.413Z"
   },
   {
    "duration": 17,
    "start_time": "2022-03-13T06:08:04.390Z"
   },
   {
    "duration": 936,
    "start_time": "2022-03-13T06:08:04.652Z"
   },
   {
    "duration": 8,
    "start_time": "2022-03-13T06:08:05.591Z"
   },
   {
    "duration": 45,
    "start_time": "2022-03-13T06:08:05.990Z"
   },
   {
    "duration": 39,
    "start_time": "2022-03-13T06:08:08.165Z"
   },
   {
    "duration": 8,
    "start_time": "2022-03-13T06:08:08.502Z"
   },
   {
    "duration": 6577,
    "start_time": "2022-03-13T06:09:06.775Z"
   },
   {
    "duration": 23,
    "start_time": "2022-03-13T06:10:30.615Z"
   },
   {
    "duration": 36,
    "start_time": "2022-03-13T06:16:18.450Z"
   },
   {
    "duration": 6668,
    "start_time": "2022-03-13T17:40:12.495Z"
   },
   {
    "duration": 3,
    "start_time": "2022-03-13T17:40:19.165Z"
   },
   {
    "duration": 576,
    "start_time": "2022-03-13T17:40:19.171Z"
   },
   {
    "duration": 3,
    "start_time": "2022-03-13T17:40:19.750Z"
   },
   {
    "duration": 6,
    "start_time": "2022-03-13T17:40:19.755Z"
   },
   {
    "duration": 23,
    "start_time": "2022-03-13T17:40:19.764Z"
   },
   {
    "duration": 7,
    "start_time": "2022-03-13T17:40:19.789Z"
   },
   {
    "duration": 4,
    "start_time": "2022-03-13T17:40:19.800Z"
   },
   {
    "duration": 31,
    "start_time": "2022-03-13T17:40:19.807Z"
   },
   {
    "duration": 7169,
    "start_time": "2022-03-13T17:40:19.841Z"
   },
   {
    "duration": 7791,
    "start_time": "2022-03-13T17:41:03.992Z"
   },
   {
    "duration": 7094,
    "start_time": "2022-03-13T17:41:23.141Z"
   },
   {
    "duration": 8286,
    "start_time": "2022-03-13T17:42:46.213Z"
   },
   {
    "duration": 7285,
    "start_time": "2022-03-13T17:43:05.446Z"
   },
   {
    "duration": 104,
    "start_time": "2022-03-13T17:43:35.163Z"
   },
   {
    "duration": 100,
    "start_time": "2022-03-13T17:43:42.739Z"
   },
   {
    "duration": 7491,
    "start_time": "2022-03-13T17:43:59.767Z"
   },
   {
    "duration": 7155,
    "start_time": "2022-03-13T17:44:26.676Z"
   },
   {
    "duration": 1435,
    "start_time": "2022-03-13T17:52:45.568Z"
   },
   {
    "duration": 2615,
    "start_time": "2022-03-13T17:53:39.899Z"
   },
   {
    "duration": 1449,
    "start_time": "2022-03-13T17:54:13.427Z"
   },
   {
    "duration": 7629,
    "start_time": "2022-03-13T17:55:28.400Z"
   },
   {
    "duration": 6951,
    "start_time": "2022-03-13T17:55:52.760Z"
   },
   {
    "duration": 566,
    "start_time": "2022-03-13T17:56:29.151Z"
   },
   {
    "duration": 6910,
    "start_time": "2022-03-13T17:56:39.278Z"
   },
   {
    "duration": 4,
    "start_time": "2022-03-13T17:56:47.104Z"
   },
   {
    "duration": 374,
    "start_time": "2022-03-13T17:56:47.659Z"
   },
   {
    "duration": 28,
    "start_time": "2022-03-13T17:56:48.036Z"
   },
   {
    "duration": 44,
    "start_time": "2022-03-13T17:56:48.069Z"
   },
   {
    "duration": 4,
    "start_time": "2022-03-13T17:56:48.116Z"
   },
   {
    "duration": 16,
    "start_time": "2022-03-13T17:56:48.122Z"
   },
   {
    "duration": 6,
    "start_time": "2022-03-13T17:56:48.140Z"
   },
   {
    "duration": 5,
    "start_time": "2022-03-13T17:56:48.148Z"
   },
   {
    "duration": 149,
    "start_time": "2022-03-13T17:56:48.162Z"
   },
   {
    "duration": 110,
    "start_time": "2022-03-13T17:56:48.314Z"
   },
   {
    "duration": 16,
    "start_time": "2022-03-13T17:56:48.427Z"
   },
   {
    "duration": 1091,
    "start_time": "2022-03-13T17:56:48.446Z"
   },
   {
    "duration": 9,
    "start_time": "2022-03-13T17:56:49.540Z"
   },
   {
    "duration": 67,
    "start_time": "2022-03-13T17:56:49.552Z"
   },
   {
    "duration": 39,
    "start_time": "2022-03-13T17:56:49.623Z"
   },
   {
    "duration": 41,
    "start_time": "2022-03-13T17:56:49.665Z"
   },
   {
    "duration": 7444,
    "start_time": "2022-03-13T17:56:49.709Z"
   },
   {
    "duration": 3,
    "start_time": "2022-03-13T17:56:57.155Z"
   },
   {
    "duration": 603,
    "start_time": "2022-03-13T17:56:57.161Z"
   },
   {
    "duration": 3,
    "start_time": "2022-03-13T17:56:57.767Z"
   },
   {
    "duration": 17,
    "start_time": "2022-03-13T17:56:57.772Z"
   },
   {
    "duration": 18,
    "start_time": "2022-03-13T17:56:57.792Z"
   },
   {
    "duration": 5,
    "start_time": "2022-03-13T17:56:57.812Z"
   },
   {
    "duration": 8,
    "start_time": "2022-03-13T17:56:57.819Z"
   },
   {
    "duration": 25,
    "start_time": "2022-03-13T17:56:57.830Z"
   },
   {
    "duration": 7940,
    "start_time": "2022-03-13T17:57:07.169Z"
   },
   {
    "duration": 1639,
    "start_time": "2022-03-13T17:57:15.113Z"
   },
   {
    "duration": 429,
    "start_time": "2022-03-13T17:57:48.078Z"
   },
   {
    "duration": 4,
    "start_time": "2022-03-13T17:57:48.583Z"
   },
   {
    "duration": 578,
    "start_time": "2022-03-13T17:57:48.613Z"
   },
   {
    "duration": 4,
    "start_time": "2022-03-13T17:57:49.194Z"
   },
   {
    "duration": 15,
    "start_time": "2022-03-13T17:57:49.201Z"
   },
   {
    "duration": 9,
    "start_time": "2022-03-13T17:57:49.218Z"
   },
   {
    "duration": 9,
    "start_time": "2022-03-13T17:57:49.230Z"
   },
   {
    "duration": 23,
    "start_time": "2022-03-13T17:57:49.241Z"
   },
   {
    "duration": 24,
    "start_time": "2022-03-13T17:57:49.266Z"
   },
   {
    "duration": 502,
    "start_time": "2022-03-13T17:57:49.294Z"
   },
   {
    "duration": -467,
    "start_time": "2022-03-13T17:57:50.266Z"
   },
   {
    "duration": 6940,
    "start_time": "2022-03-13T17:58:04.100Z"
   },
   {
    "duration": 3,
    "start_time": "2022-03-13T17:58:11.043Z"
   },
   {
    "duration": 580,
    "start_time": "2022-03-13T17:58:11.049Z"
   },
   {
    "duration": 2,
    "start_time": "2022-03-13T17:58:11.632Z"
   },
   {
    "duration": 17,
    "start_time": "2022-03-13T17:58:11.636Z"
   },
   {
    "duration": 16,
    "start_time": "2022-03-13T17:58:11.656Z"
   },
   {
    "duration": 23,
    "start_time": "2022-03-13T17:58:11.674Z"
   },
   {
    "duration": 11,
    "start_time": "2022-03-13T17:58:11.701Z"
   },
   {
    "duration": 29,
    "start_time": "2022-03-13T17:58:11.714Z"
   },
   {
    "duration": 7555,
    "start_time": "2022-03-13T17:58:11.746Z"
   },
   {
    "duration": 1508,
    "start_time": "2022-03-13T17:58:19.304Z"
   },
   {
    "duration": 2911,
    "start_time": "2022-03-13T18:00:12.204Z"
   },
   {
    "duration": 4115,
    "start_time": "2022-03-13T18:01:09.227Z"
   },
   {
    "duration": 4460,
    "start_time": "2022-03-13T18:02:56.263Z"
   },
   {
    "duration": -465,
    "start_time": "2022-03-13T18:05:13.706Z"
   },
   {
    "duration": 8119,
    "start_time": "2022-03-13T18:05:25.411Z"
   },
   {
    "duration": 4373,
    "start_time": "2022-03-13T18:05:33.533Z"
   },
   {
    "duration": 4572,
    "start_time": "2022-03-13T18:05:54.288Z"
   },
   {
    "duration": 4702,
    "start_time": "2022-03-13T18:37:50.636Z"
   },
   {
    "duration": 4590,
    "start_time": "2022-03-13T18:38:04.858Z"
   },
   {
    "duration": 4835,
    "start_time": "2022-03-13T18:38:39.698Z"
   },
   {
    "duration": 4996,
    "start_time": "2022-03-13T18:41:23.524Z"
   },
   {
    "duration": 5109,
    "start_time": "2022-03-13T18:41:39.881Z"
   },
   {
    "duration": 4820,
    "start_time": "2022-03-13T18:42:40.812Z"
   },
   {
    "duration": 3208,
    "start_time": "2022-03-14T01:17:50.844Z"
   },
   {
    "duration": 430,
    "start_time": "2022-03-14T01:18:59.515Z"
   },
   {
    "duration": 1091,
    "start_time": "2022-03-14T01:20:10.426Z"
   },
   {
    "duration": 1106,
    "start_time": "2022-03-14T01:20:46.094Z"
   },
   {
    "duration": 16,
    "start_time": "2022-03-14T01:31:29.189Z"
   },
   {
    "duration": 301,
    "start_time": "2022-03-14T01:35:01.412Z"
   },
   {
    "duration": 273,
    "start_time": "2022-03-14T01:35:08.562Z"
   },
   {
    "duration": 238,
    "start_time": "2022-03-14T01:38:18.512Z"
   },
   {
    "duration": 747,
    "start_time": "2022-03-14T01:38:27.041Z"
   },
   {
    "duration": 250,
    "start_time": "2022-03-14T01:42:30.528Z"
   },
   {
    "duration": 34,
    "start_time": "2022-03-14T01:42:42.447Z"
   },
   {
    "duration": 35,
    "start_time": "2022-03-14T01:43:05.749Z"
   },
   {
    "duration": 85,
    "start_time": "2022-03-14T01:43:11.501Z"
   },
   {
    "duration": 25,
    "start_time": "2022-03-14T01:43:14.800Z"
   },
   {
    "duration": 992,
    "start_time": "2022-03-14T01:43:45.869Z"
   },
   {
    "duration": 1199,
    "start_time": "2022-03-14T01:44:07.010Z"
   },
   {
    "duration": 968,
    "start_time": "2022-03-14T01:44:10.543Z"
   },
   {
    "duration": 22,
    "start_time": "2022-03-14T01:44:22.956Z"
   },
   {
    "duration": 22,
    "start_time": "2022-03-14T01:44:38.307Z"
   },
   {
    "duration": 1020,
    "start_time": "2022-03-14T01:45:30.910Z"
   },
   {
    "duration": 31,
    "start_time": "2022-03-14T01:45:43.116Z"
   },
   {
    "duration": 23,
    "start_time": "2022-03-14T01:47:09.325Z"
   },
   {
    "duration": 20,
    "start_time": "2022-03-14T01:48:39.452Z"
   },
   {
    "duration": 31,
    "start_time": "2022-03-14T01:49:56.333Z"
   },
   {
    "duration": 32,
    "start_time": "2022-03-14T01:50:13.325Z"
   },
   {
    "duration": 30,
    "start_time": "2022-03-14T01:50:59.629Z"
   },
   {
    "duration": 31,
    "start_time": "2022-03-14T01:51:05.907Z"
   },
   {
    "duration": 283,
    "start_time": "2022-03-14T01:51:40.971Z"
   },
   {
    "duration": 6105,
    "start_time": "2022-03-14T01:52:24.605Z"
   },
   {
    "duration": 6840,
    "start_time": "2022-03-14T01:52:41.974Z"
   },
   {
    "duration": 342,
    "start_time": "2022-03-14T01:52:50.905Z"
   },
   {
    "duration": 10252,
    "start_time": "2022-03-14T01:54:00.190Z"
   },
   {
    "duration": 266,
    "start_time": "2022-03-14T01:54:12.313Z"
   },
   {
    "duration": 340,
    "start_time": "2022-03-14T01:54:23.114Z"
   },
   {
    "duration": 344,
    "start_time": "2022-03-14T01:55:01.803Z"
   },
   {
    "duration": 345,
    "start_time": "2022-03-14T01:55:35.600Z"
   },
   {
    "duration": 529,
    "start_time": "2022-03-14T01:57:03.676Z"
   },
   {
    "duration": 353,
    "start_time": "2022-03-14T01:57:29.694Z"
   },
   {
    "duration": 365,
    "start_time": "2022-03-14T01:58:44.349Z"
   },
   {
    "duration": 522,
    "start_time": "2022-03-14T01:59:10.039Z"
   },
   {
    "duration": 77,
    "start_time": "2022-03-14T01:59:35.570Z"
   },
   {
    "duration": 538,
    "start_time": "2022-03-14T01:59:40.809Z"
   },
   {
    "duration": 529,
    "start_time": "2022-03-14T02:00:33.745Z"
   },
   {
    "duration": 515,
    "start_time": "2022-03-14T02:00:48.226Z"
   },
   {
    "duration": 599,
    "start_time": "2022-03-14T02:01:09.404Z"
   },
   {
    "duration": 373,
    "start_time": "2022-03-14T02:01:30.137Z"
   },
   {
    "duration": 387,
    "start_time": "2022-03-14T02:14:08.241Z"
   },
   {
    "duration": 370,
    "start_time": "2022-03-14T02:14:43.536Z"
   },
   {
    "duration": 4,
    "start_time": "2022-03-14T02:17:04.881Z"
   },
   {
    "duration": 10,
    "start_time": "2022-03-14T02:54:46.847Z"
   },
   {
    "duration": 7,
    "start_time": "2022-03-14T02:54:58.159Z"
   },
   {
    "duration": 9,
    "start_time": "2022-03-14T02:55:18.959Z"
   },
   {
    "duration": 9,
    "start_time": "2022-03-14T02:55:31.729Z"
   },
   {
    "duration": 9,
    "start_time": "2022-03-14T02:55:43.135Z"
   },
   {
    "duration": 10,
    "start_time": "2022-03-14T02:55:49.247Z"
   },
   {
    "duration": 22,
    "start_time": "2022-03-14T02:56:03.472Z"
   },
   {
    "duration": 23,
    "start_time": "2022-03-14T02:56:08.661Z"
   },
   {
    "duration": 38,
    "start_time": "2022-03-14T02:56:17.832Z"
   },
   {
    "duration": 292,
    "start_time": "2022-03-14T02:59:04.469Z"
   },
   {
    "duration": 299,
    "start_time": "2022-03-14T02:59:24.033Z"
   },
   {
    "duration": 96,
    "start_time": "2022-03-14T03:00:17.120Z"
   },
   {
    "duration": 296,
    "start_time": "2022-03-14T03:02:02.430Z"
   },
   {
    "duration": 40,
    "start_time": "2022-03-14T03:02:29.686Z"
   },
   {
    "duration": 38,
    "start_time": "2022-03-14T03:02:59.907Z"
   },
   {
    "duration": 6709,
    "start_time": "2022-03-14T03:03:57.869Z"
   },
   {
    "duration": 5894,
    "start_time": "2022-03-14T03:06:06.787Z"
   },
   {
    "duration": 5816,
    "start_time": "2022-03-14T03:07:33.759Z"
   },
   {
    "duration": 5806,
    "start_time": "2022-03-14T03:09:31.612Z"
   },
   {
    "duration": 30,
    "start_time": "2022-03-14T03:12:14.712Z"
   },
   {
    "duration": 289,
    "start_time": "2022-03-14T03:13:34.105Z"
   },
   {
    "duration": 284,
    "start_time": "2022-03-14T03:13:52.736Z"
   },
   {
    "duration": 53,
    "start_time": "2022-03-14T03:14:06.823Z"
   },
   {
    "duration": 56,
    "start_time": "2022-03-14T03:14:21.365Z"
   },
   {
    "duration": 298,
    "start_time": "2022-03-14T03:14:49.398Z"
   },
   {
    "duration": 289,
    "start_time": "2022-03-14T03:15:00.647Z"
   },
   {
    "duration": 57,
    "start_time": "2022-03-14T03:15:08.374Z"
   },
   {
    "duration": 57,
    "start_time": "2022-03-14T03:16:56.283Z"
   },
   {
    "duration": 285,
    "start_time": "2022-03-14T03:17:06.790Z"
   },
   {
    "duration": 55,
    "start_time": "2022-03-14T03:17:37.001Z"
   },
   {
    "duration": 287,
    "start_time": "2022-03-14T03:18:13.991Z"
   },
   {
    "duration": 721,
    "start_time": "2022-03-14T03:20:37.865Z"
   },
   {
    "duration": 984,
    "start_time": "2022-03-14T03:23:19.258Z"
   },
   {
    "duration": 861,
    "start_time": "2022-03-14T03:23:44.934Z"
   },
   {
    "duration": 839,
    "start_time": "2022-03-14T03:24:30.919Z"
   },
   {
    "duration": 631,
    "start_time": "2022-03-14T03:24:40.307Z"
   },
   {
    "duration": 6478,
    "start_time": "2022-03-14T03:26:12.354Z"
   },
   {
    "duration": 6673,
    "start_time": "2022-03-14T03:26:46.659Z"
   },
   {
    "duration": 6675,
    "start_time": "2022-03-14T03:28:33.116Z"
   },
   {
    "duration": 6953,
    "start_time": "2022-03-14T03:28:46.944Z"
   },
   {
    "duration": 288,
    "start_time": "2022-03-14T03:29:11.953Z"
   },
   {
    "duration": 6413,
    "start_time": "2022-03-14T03:31:01.575Z"
   },
   {
    "duration": 6242,
    "start_time": "2022-03-14T03:31:41.970Z"
   },
   {
    "duration": -742,
    "start_time": "2022-03-14T03:32:00.910Z"
   },
   {
    "duration": 271,
    "start_time": "2022-03-14T03:32:02.695Z"
   },
   {
    "duration": 257,
    "start_time": "2022-03-14T03:32:28.640Z"
   },
   {
    "duration": 227,
    "start_time": "2022-03-14T03:32:38.150Z"
   },
   {
    "duration": 210,
    "start_time": "2022-03-14T03:32:57.154Z"
   },
   {
    "duration": 851,
    "start_time": "2022-03-14T03:34:53.556Z"
   },
   {
    "duration": 895,
    "start_time": "2022-03-14T03:35:08.381Z"
   },
   {
    "duration": 620,
    "start_time": "2022-03-14T03:43:02.584Z"
   },
   {
    "duration": 927,
    "start_time": "2022-03-14T03:44:47.629Z"
   },
   {
    "duration": 967,
    "start_time": "2022-03-14T03:45:00.633Z"
   },
   {
    "duration": 274,
    "start_time": "2022-03-14T03:45:32.170Z"
   },
   {
    "duration": 282,
    "start_time": "2022-03-14T03:47:30.155Z"
   },
   {
    "duration": 1006,
    "start_time": "2022-03-14T03:47:59.819Z"
   },
   {
    "duration": 936,
    "start_time": "2022-03-14T03:49:54.280Z"
   },
   {
    "duration": 299,
    "start_time": "2022-03-14T03:50:12.635Z"
   },
   {
    "duration": 270,
    "start_time": "2022-03-14T03:50:24.680Z"
   },
   {
    "duration": 242,
    "start_time": "2022-03-14T03:50:55.896Z"
   },
   {
    "duration": 353,
    "start_time": "2022-03-14T03:51:32.186Z"
   },
   {
    "duration": 487,
    "start_time": "2022-03-14T03:52:09.766Z"
   },
   {
    "duration": 492,
    "start_time": "2022-03-14T03:52:34.648Z"
   },
   {
    "duration": 507,
    "start_time": "2022-03-14T03:53:15.781Z"
   },
   {
    "duration": 497,
    "start_time": "2022-03-14T03:53:25.895Z"
   },
   {
    "duration": 238,
    "start_time": "2022-03-14T03:55:02.956Z"
   },
   {
    "duration": 249,
    "start_time": "2022-03-14T03:55:20.758Z"
   },
   {
    "duration": 236,
    "start_time": "2022-03-14T03:55:41.429Z"
   },
   {
    "duration": 233,
    "start_time": "2022-03-14T03:56:30.503Z"
   },
   {
    "duration": 226,
    "start_time": "2022-03-14T03:56:46.246Z"
   },
   {
    "duration": 231,
    "start_time": "2022-03-14T03:57:17.436Z"
   },
   {
    "duration": 231,
    "start_time": "2022-03-14T03:57:33.366Z"
   },
   {
    "duration": 233,
    "start_time": "2022-03-14T03:58:29.863Z"
   },
   {
    "duration": 224,
    "start_time": "2022-03-14T03:58:58.261Z"
   },
   {
    "duration": 227,
    "start_time": "2022-03-14T03:59:12.532Z"
   },
   {
    "duration": 221,
    "start_time": "2022-03-14T03:59:31.685Z"
   },
   {
    "duration": 325,
    "start_time": "2022-03-14T04:01:03.683Z"
   },
   {
    "duration": 307,
    "start_time": "2022-03-14T04:01:33.741Z"
   },
   {
    "duration": 297,
    "start_time": "2022-03-14T04:01:56.276Z"
   },
   {
    "duration": 233,
    "start_time": "2022-03-14T04:02:06.628Z"
   },
   {
    "duration": 6250,
    "start_time": "2022-03-14T04:02:37.958Z"
   },
   {
    "duration": -843,
    "start_time": "2022-03-14T04:03:05.137Z"
   },
   {
    "duration": 6330,
    "start_time": "2022-03-14T04:03:23.282Z"
   },
   {
    "duration": 6088,
    "start_time": "2022-03-14T04:03:59.334Z"
   },
   {
    "duration": -736,
    "start_time": "2022-03-14T04:04:51.157Z"
   },
   {
    "duration": 28,
    "start_time": "2022-03-14T04:05:13.313Z"
   },
   {
    "duration": 31,
    "start_time": "2022-03-14T04:05:16.016Z"
   },
   {
    "duration": 32,
    "start_time": "2022-03-14T04:05:42.753Z"
   },
   {
    "duration": 272,
    "start_time": "2022-03-14T04:06:35.347Z"
   },
   {
    "duration": 275,
    "start_time": "2022-03-14T04:06:55.119Z"
   },
   {
    "duration": 265,
    "start_time": "2022-03-14T04:07:27.225Z"
   },
   {
    "duration": 1370,
    "start_time": "2022-03-14T04:07:37.040Z"
   },
   {
    "duration": 6288,
    "start_time": "2022-03-14T04:08:25.839Z"
   },
   {
    "duration": 295,
    "start_time": "2022-03-14T04:08:59.281Z"
   },
   {
    "duration": 986,
    "start_time": "2022-03-14T04:09:07.312Z"
   },
   {
    "duration": 271,
    "start_time": "2022-03-14T04:09:41.743Z"
   },
   {
    "duration": 420,
    "start_time": "2022-03-14T04:10:11.782Z"
   },
   {
    "duration": 24,
    "start_time": "2022-03-14T04:10:26.193Z"
   },
   {
    "duration": 24,
    "start_time": "2022-03-14T04:10:42.306Z"
   },
   {
    "duration": 6131,
    "start_time": "2022-03-14T04:11:29.632Z"
   },
   {
    "duration": 249,
    "start_time": "2022-03-14T04:12:08.813Z"
   },
   {
    "duration": 651,
    "start_time": "2022-03-14T04:18:32.928Z"
   },
   {
    "duration": 264,
    "start_time": "2022-03-14T04:18:48.190Z"
   },
   {
    "duration": 228,
    "start_time": "2022-03-14T04:19:49.130Z"
   },
   {
    "duration": 204,
    "start_time": "2022-03-14T04:20:05.232Z"
   },
   {
    "duration": 222,
    "start_time": "2022-03-14T04:20:19.434Z"
   },
   {
    "duration": 492,
    "start_time": "2022-03-14T04:22:01.101Z"
   },
   {
    "duration": 681,
    "start_time": "2022-03-14T04:23:25.670Z"
   },
   {
    "duration": 628,
    "start_time": "2022-03-14T04:23:44.122Z"
   },
   {
    "duration": 474,
    "start_time": "2022-03-14T04:23:59.531Z"
   },
   {
    "duration": 6424,
    "start_time": "2022-03-14T04:24:24.574Z"
   },
   {
    "duration": 6242,
    "start_time": "2022-03-14T04:24:42.441Z"
   },
   {
    "duration": 6825,
    "start_time": "2022-03-14T04:30:00.396Z"
   },
   {
    "duration": 6429,
    "start_time": "2022-03-14T04:31:48.037Z"
   },
   {
    "duration": 6595,
    "start_time": "2022-03-14T04:32:17.575Z"
   },
   {
    "duration": 7713,
    "start_time": "2022-03-14T04:34:52.406Z"
   },
   {
    "duration": 6731,
    "start_time": "2022-03-14T04:35:44.936Z"
   },
   {
    "duration": 7386,
    "start_time": "2022-03-14T04:36:09.428Z"
   },
   {
    "duration": 445,
    "start_time": "2022-03-14T04:36:59.127Z"
   },
   {
    "duration": 7866,
    "start_time": "2022-03-14T04:37:12.242Z"
   },
   {
    "duration": 6286,
    "start_time": "2022-03-14T04:37:34.213Z"
   },
   {
    "duration": 6211,
    "start_time": "2022-03-14T04:37:59.122Z"
   },
   {
    "duration": 10045,
    "start_time": "2022-03-14T04:40:01.557Z"
   },
   {
    "duration": 8022,
    "start_time": "2022-03-14T04:40:31.825Z"
   },
   {
    "duration": 12,
    "start_time": "2022-03-14T04:54:44.683Z"
   },
   {
    "duration": 8,
    "start_time": "2022-03-14T04:54:48.482Z"
   },
   {
    "duration": 9,
    "start_time": "2022-03-14T04:54:54.138Z"
   },
   {
    "duration": 9,
    "start_time": "2022-03-14T04:55:03.018Z"
   },
   {
    "duration": 403,
    "start_time": "2022-03-14T05:05:40.566Z"
   },
   {
    "duration": 440,
    "start_time": "2022-03-14T05:06:11.926Z"
   },
   {
    "duration": 87,
    "start_time": "2022-03-14T05:06:39.516Z"
   },
   {
    "duration": 8,
    "start_time": "2022-03-14T05:06:46.950Z"
   },
   {
    "duration": 691,
    "start_time": "2022-03-14T05:07:06.026Z"
   },
   {
    "duration": 641,
    "start_time": "2022-03-14T05:07:33.449Z"
   },
   {
    "duration": 574,
    "start_time": "2022-03-14T05:07:41.811Z"
   },
   {
    "duration": 6708,
    "start_time": "2022-03-14T05:09:09.319Z"
   },
   {
    "duration": 6473,
    "start_time": "2022-03-14T05:09:41.956Z"
   },
   {
    "duration": 6793,
    "start_time": "2022-03-14T05:11:33.000Z"
   },
   {
    "duration": 962,
    "start_time": "2022-03-14T05:12:28.982Z"
   },
   {
    "duration": 10,
    "start_time": "2022-03-14T05:12:31.460Z"
   },
   {
    "duration": 33,
    "start_time": "2022-03-14T05:12:35.187Z"
   },
   {
    "duration": 41,
    "start_time": "2022-03-14T05:12:39.441Z"
   },
   {
    "duration": 4,
    "start_time": "2022-03-14T05:12:46.440Z"
   },
   {
    "duration": 109,
    "start_time": "2022-03-14T05:12:47.003Z"
   },
   {
    "duration": 26,
    "start_time": "2022-03-14T05:12:47.115Z"
   },
   {
    "duration": 23,
    "start_time": "2022-03-14T05:12:47.149Z"
   },
   {
    "duration": 3,
    "start_time": "2022-03-14T05:12:48.018Z"
   },
   {
    "duration": 4,
    "start_time": "2022-03-14T05:12:48.861Z"
   },
   {
    "duration": 3,
    "start_time": "2022-03-14T05:12:48.925Z"
   },
   {
    "duration": 4,
    "start_time": "2022-03-14T05:12:48.988Z"
   },
   {
    "duration": 101,
    "start_time": "2022-03-14T05:12:49.363Z"
   },
   {
    "duration": 92,
    "start_time": "2022-03-14T05:12:50.450Z"
   },
   {
    "duration": 16,
    "start_time": "2022-03-14T05:12:51.429Z"
   },
   {
    "duration": 926,
    "start_time": "2022-03-14T05:12:51.730Z"
   },
   {
    "duration": 9,
    "start_time": "2022-03-14T05:12:59.667Z"
   },
   {
    "duration": 45,
    "start_time": "2022-03-14T05:13:00.930Z"
   },
   {
    "duration": 36,
    "start_time": "2022-03-14T05:13:02.306Z"
   },
   {
    "duration": 1188,
    "start_time": "2022-03-14T05:13:43.571Z"
   },
   {
    "duration": 4,
    "start_time": "2022-03-14T05:13:52.259Z"
   },
   {
    "duration": 105,
    "start_time": "2022-03-14T05:13:52.837Z"
   },
   {
    "duration": 26,
    "start_time": "2022-03-14T05:13:52.944Z"
   },
   {
    "duration": 22,
    "start_time": "2022-03-14T05:13:52.987Z"
   },
   {
    "duration": 3,
    "start_time": "2022-03-14T05:13:53.088Z"
   },
   {
    "duration": 3,
    "start_time": "2022-03-14T05:13:53.096Z"
   },
   {
    "duration": 3,
    "start_time": "2022-03-14T05:13:53.156Z"
   },
   {
    "duration": 4,
    "start_time": "2022-03-14T05:13:55.456Z"
   },
   {
    "duration": 105,
    "start_time": "2022-03-14T05:13:57.010Z"
   },
   {
    "duration": 97,
    "start_time": "2022-03-14T05:13:59.750Z"
   },
   {
    "duration": 1234,
    "start_time": "2022-03-14T05:14:17.524Z"
   },
   {
    "duration": -760,
    "start_time": "2022-03-14T05:14:19.521Z"
   },
   {
    "duration": 4,
    "start_time": "2022-03-14T05:14:29.380Z"
   },
   {
    "duration": 110,
    "start_time": "2022-03-14T05:14:29.951Z"
   },
   {
    "duration": 35,
    "start_time": "2022-03-14T05:14:30.064Z"
   },
   {
    "duration": 26,
    "start_time": "2022-03-14T05:14:30.102Z"
   },
   {
    "duration": 3,
    "start_time": "2022-03-14T05:14:30.154Z"
   },
   {
    "duration": 3,
    "start_time": "2022-03-14T05:14:32.662Z"
   },
   {
    "duration": 4,
    "start_time": "2022-03-14T05:14:33.192Z"
   },
   {
    "duration": 3,
    "start_time": "2022-03-14T05:14:33.275Z"
   },
   {
    "duration": 101,
    "start_time": "2022-03-14T05:14:33.363Z"
   },
   {
    "duration": 93,
    "start_time": "2022-03-14T05:14:35.171Z"
   },
   {
    "duration": 18,
    "start_time": "2022-03-14T05:14:38.529Z"
   },
   {
    "duration": 935,
    "start_time": "2022-03-14T05:14:39.490Z"
   },
   {
    "duration": 4,
    "start_time": "2022-03-14T05:15:29.796Z"
   },
   {
    "duration": 115,
    "start_time": "2022-03-14T05:15:30.371Z"
   },
   {
    "duration": 29,
    "start_time": "2022-03-14T05:15:30.489Z"
   },
   {
    "duration": 25,
    "start_time": "2022-03-14T05:15:30.522Z"
   },
   {
    "duration": 11,
    "start_time": "2022-03-14T05:15:30.560Z"
   },
   {
    "duration": 3,
    "start_time": "2022-03-14T05:15:30.629Z"
   },
   {
    "duration": 3,
    "start_time": "2022-03-14T05:15:30.702Z"
   },
   {
    "duration": 3,
    "start_time": "2022-03-14T05:15:30.767Z"
   },
   {
    "duration": 105,
    "start_time": "2022-03-14T05:15:30.859Z"
   },
   {
    "duration": 103,
    "start_time": "2022-03-14T05:15:30.967Z"
   },
   {
    "duration": 18,
    "start_time": "2022-03-14T05:15:31.666Z"
   },
   {
    "duration": 960,
    "start_time": "2022-03-14T05:15:31.969Z"
   },
   {
    "duration": 9,
    "start_time": "2022-03-14T05:15:32.932Z"
   },
   {
    "duration": 58,
    "start_time": "2022-03-14T05:15:32.944Z"
   },
   {
    "duration": 36,
    "start_time": "2022-03-14T05:15:48.088Z"
   },
   {
    "duration": 22,
    "start_time": "2022-03-14T05:15:48.127Z"
   },
   {
    "duration": 6143,
    "start_time": "2022-03-14T05:15:48.232Z"
   },
   {
    "duration": 10,
    "start_time": "2022-03-14T05:15:54.377Z"
   },
   {
    "duration": 527,
    "start_time": "2022-03-14T05:15:54.389Z"
   },
   {
    "duration": 3,
    "start_time": "2022-03-14T05:15:54.919Z"
   },
   {
    "duration": 17,
    "start_time": "2022-03-14T05:15:54.924Z"
   },
   {
    "duration": 11,
    "start_time": "2022-03-14T05:15:54.944Z"
   },
   {
    "duration": 1117,
    "start_time": "2022-03-14T05:15:54.957Z"
   },
   {
    "duration": 3,
    "start_time": "2022-03-14T05:15:56.086Z"
   },
   {
    "duration": 23,
    "start_time": "2022-03-14T05:15:56.093Z"
   },
   {
    "duration": 7617,
    "start_time": "2022-03-14T05:15:56.119Z"
   },
   {
    "duration": 3902,
    "start_time": "2022-03-14T05:16:03.739Z"
   },
   {
    "duration": 369,
    "start_time": "2022-03-14T05:16:07.644Z"
   },
   {
    "duration": 6634,
    "start_time": "2022-03-14T05:16:08.017Z"
   },
   {
    "duration": 4,
    "start_time": "2022-03-14T05:16:44.625Z"
   },
   {
    "duration": 114,
    "start_time": "2022-03-14T05:16:45.203Z"
   },
   {
    "duration": 26,
    "start_time": "2022-03-14T05:16:45.555Z"
   },
   {
    "duration": 23,
    "start_time": "2022-03-14T05:16:45.845Z"
   },
   {
    "duration": 3,
    "start_time": "2022-03-14T05:16:46.368Z"
   },
   {
    "duration": 3,
    "start_time": "2022-03-14T05:16:46.913Z"
   },
   {
    "duration": 4,
    "start_time": "2022-03-14T05:16:47.280Z"
   },
   {
    "duration": 3,
    "start_time": "2022-03-14T05:16:47.601Z"
   },
   {
    "duration": 104,
    "start_time": "2022-03-14T05:16:48.160Z"
   },
   {
    "duration": 94,
    "start_time": "2022-03-14T05:16:53.681Z"
   },
   {
    "duration": 16,
    "start_time": "2022-03-14T05:16:59.649Z"
   },
   {
    "duration": 967,
    "start_time": "2022-03-14T05:17:25.811Z"
   },
   {
    "duration": 4,
    "start_time": "2022-03-14T05:18:24.580Z"
   },
   {
    "duration": 111,
    "start_time": "2022-03-14T05:18:25.149Z"
   },
   {
    "duration": 29,
    "start_time": "2022-03-14T05:18:25.262Z"
   },
   {
    "duration": 21,
    "start_time": "2022-03-14T05:18:25.293Z"
   },
   {
    "duration": 4,
    "start_time": "2022-03-14T05:18:25.354Z"
   },
   {
    "duration": 3,
    "start_time": "2022-03-14T05:18:25.417Z"
   },
   {
    "duration": 3,
    "start_time": "2022-03-14T05:18:25.479Z"
   },
   {
    "duration": 3,
    "start_time": "2022-03-14T05:18:25.543Z"
   },
   {
    "duration": 107,
    "start_time": "2022-03-14T05:18:26.480Z"
   },
   {
    "duration": 94,
    "start_time": "2022-03-14T05:18:27.376Z"
   },
   {
    "duration": 16,
    "start_time": "2022-03-14T05:18:28.470Z"
   },
   {
    "duration": 947,
    "start_time": "2022-03-14T05:18:29.315Z"
   },
   {
    "duration": 7,
    "start_time": "2022-03-14T05:19:19.408Z"
   },
   {
    "duration": 7,
    "start_time": "2022-03-14T05:19:25.537Z"
   },
   {
    "duration": 327,
    "start_time": "2022-03-14T05:19:56.291Z"
   },
   {
    "duration": 1723,
    "start_time": "2022-03-14T05:22:36.993Z"
   },
   {
    "duration": 1624,
    "start_time": "2022-03-14T05:23:21.121Z"
   },
   {
    "duration": 1748,
    "start_time": "2022-03-14T05:23:29.907Z"
   },
   {
    "duration": 1783,
    "start_time": "2022-03-14T05:24:00.833Z"
   },
   {
    "duration": 1665,
    "start_time": "2022-03-14T05:24:23.488Z"
   },
   {
    "duration": 4,
    "start_time": "2022-03-14T05:24:28.196Z"
   },
   {
    "duration": 112,
    "start_time": "2022-03-14T05:24:28.761Z"
   },
   {
    "duration": 30,
    "start_time": "2022-03-14T05:24:28.877Z"
   },
   {
    "duration": 22,
    "start_time": "2022-03-14T05:24:28.910Z"
   },
   {
    "duration": 3,
    "start_time": "2022-03-14T05:24:28.974Z"
   },
   {
    "duration": 3,
    "start_time": "2022-03-14T05:24:29.029Z"
   },
   {
    "duration": 3,
    "start_time": "2022-03-14T05:24:29.093Z"
   },
   {
    "duration": 3,
    "start_time": "2022-03-14T05:24:29.856Z"
   },
   {
    "duration": 103,
    "start_time": "2022-03-14T05:24:30.494Z"
   },
   {
    "duration": 95,
    "start_time": "2022-03-14T05:24:31.549Z"
   },
   {
    "duration": 17,
    "start_time": "2022-03-14T05:24:32.540Z"
   },
   {
    "duration": 11118,
    "start_time": "2022-03-14T05:24:32.829Z"
   },
   {
    "duration": 3,
    "start_time": "2022-03-14T05:24:58.897Z"
   },
   {
    "duration": 130,
    "start_time": "2022-03-14T05:24:59.468Z"
   },
   {
    "duration": 25,
    "start_time": "2022-03-14T05:24:59.600Z"
   },
   {
    "duration": 21,
    "start_time": "2022-03-14T05:24:59.627Z"
   },
   {
    "duration": 3,
    "start_time": "2022-03-14T05:24:59.667Z"
   },
   {
    "duration": 3,
    "start_time": "2022-03-14T05:24:59.726Z"
   },
   {
    "duration": 3,
    "start_time": "2022-03-14T05:24:59.802Z"
   },
   {
    "duration": 3,
    "start_time": "2022-03-14T05:24:59.867Z"
   },
   {
    "duration": 101,
    "start_time": "2022-03-14T05:24:59.963Z"
   },
   {
    "duration": 96,
    "start_time": "2022-03-14T05:25:00.067Z"
   },
   {
    "duration": 16,
    "start_time": "2022-03-14T05:25:03.532Z"
   },
   {
    "duration": 1282,
    "start_time": "2022-03-14T05:25:22.599Z"
   },
   {
    "duration": 4,
    "start_time": "2022-03-14T05:25:25.325Z"
   },
   {
    "duration": 107,
    "start_time": "2022-03-14T05:25:25.892Z"
   },
   {
    "duration": 24,
    "start_time": "2022-03-14T05:25:26.004Z"
   },
   {
    "duration": 21,
    "start_time": "2022-03-14T05:25:26.034Z"
   },
   {
    "duration": 3,
    "start_time": "2022-03-14T05:25:26.103Z"
   },
   {
    "duration": 3,
    "start_time": "2022-03-14T05:25:26.159Z"
   },
   {
    "duration": 3,
    "start_time": "2022-03-14T05:25:26.221Z"
   },
   {
    "duration": 3,
    "start_time": "2022-03-14T05:25:26.524Z"
   },
   {
    "duration": 100,
    "start_time": "2022-03-14T05:25:27.100Z"
   },
   {
    "duration": 94,
    "start_time": "2022-03-14T05:25:27.202Z"
   },
   {
    "duration": 16,
    "start_time": "2022-03-14T05:25:27.916Z"
   },
   {
    "duration": 1300,
    "start_time": "2022-03-14T05:25:28.525Z"
   },
   {
    "duration": 10,
    "start_time": "2022-03-14T05:25:34.476Z"
   },
   {
    "duration": 1291,
    "start_time": "2022-03-14T05:26:10.812Z"
   },
   {
    "duration": 4,
    "start_time": "2022-03-14T05:26:15.771Z"
   },
   {
    "duration": 107,
    "start_time": "2022-03-14T05:26:16.350Z"
   },
   {
    "duration": 35,
    "start_time": "2022-03-14T05:26:16.460Z"
   },
   {
    "duration": 22,
    "start_time": "2022-03-14T05:26:16.498Z"
   },
   {
    "duration": 3,
    "start_time": "2022-03-14T05:26:16.540Z"
   },
   {
    "duration": 3,
    "start_time": "2022-03-14T05:26:16.604Z"
   },
   {
    "duration": 3,
    "start_time": "2022-03-14T05:26:16.684Z"
   },
   {
    "duration": 3,
    "start_time": "2022-03-14T05:26:16.745Z"
   },
   {
    "duration": 102,
    "start_time": "2022-03-14T05:26:16.842Z"
   },
   {
    "duration": 102,
    "start_time": "2022-03-14T05:26:16.946Z"
   },
   {
    "duration": 16,
    "start_time": "2022-03-14T05:26:17.051Z"
   },
   {
    "duration": 1320,
    "start_time": "2022-03-14T05:26:17.075Z"
   },
   {
    "duration": 9,
    "start_time": "2022-03-14T05:26:18.397Z"
   },
   {
    "duration": 42,
    "start_time": "2022-03-14T05:26:18.409Z"
   },
   {
    "duration": 57,
    "start_time": "2022-03-14T05:26:18.454Z"
   },
   {
    "duration": 20,
    "start_time": "2022-03-14T05:26:18.513Z"
   },
   {
    "duration": 6110,
    "start_time": "2022-03-14T05:26:18.535Z"
   },
   {
    "duration": 4,
    "start_time": "2022-03-14T05:26:24.647Z"
   },
   {
    "duration": 534,
    "start_time": "2022-03-14T05:26:24.654Z"
   },
   {
    "duration": 3,
    "start_time": "2022-03-14T05:26:25.190Z"
   },
   {
    "duration": 6,
    "start_time": "2022-03-14T05:26:25.195Z"
   },
   {
    "duration": 5,
    "start_time": "2022-03-14T05:26:25.203Z"
   },
   {
    "duration": 1141,
    "start_time": "2022-03-14T05:26:25.210Z"
   },
   {
    "duration": 3,
    "start_time": "2022-03-14T05:26:26.353Z"
   },
   {
    "duration": 40,
    "start_time": "2022-03-14T05:26:26.358Z"
   },
   {
    "duration": 7758,
    "start_time": "2022-03-14T05:26:26.401Z"
   },
   {
    "duration": 3765,
    "start_time": "2022-03-14T05:26:34.161Z"
   },
   {
    "duration": 476,
    "start_time": "2022-03-14T05:26:37.929Z"
   },
   {
    "duration": 6477,
    "start_time": "2022-03-14T05:26:38.407Z"
   },
   {
    "duration": 40,
    "start_time": "2022-03-14T05:27:49.218Z"
   },
   {
    "duration": 19,
    "start_time": "2022-03-14T05:29:24.241Z"
   },
   {
    "duration": 6983,
    "start_time": "2022-03-14T05:30:57.441Z"
   },
   {
    "duration": 6331,
    "start_time": "2022-03-14T05:31:39.441Z"
   },
   {
    "duration": 261,
    "start_time": "2022-03-14T05:33:26.862Z"
   },
   {
    "duration": 254,
    "start_time": "2022-03-14T05:33:40.686Z"
   },
   {
    "duration": 369,
    "start_time": "2022-03-14T05:34:21.274Z"
   },
   {
    "duration": 307,
    "start_time": "2022-03-14T05:34:29.322Z"
   },
   {
    "duration": 285,
    "start_time": "2022-03-14T05:34:36.107Z"
   },
   {
    "duration": 5841,
    "start_time": "2022-03-14T05:35:07.763Z"
   },
   {
    "duration": 339,
    "start_time": "2022-03-14T05:35:18.714Z"
   },
   {
    "duration": 6354,
    "start_time": "2022-03-14T05:37:24.105Z"
   },
   {
    "duration": 6975,
    "start_time": "2022-03-14T05:39:58.027Z"
   },
   {
    "duration": 1270,
    "start_time": "2022-03-14T05:40:57.917Z"
   },
   {
    "duration": 1748,
    "start_time": "2022-03-14T05:44:00.379Z"
   },
   {
    "duration": 1698,
    "start_time": "2022-03-14T05:44:45.605Z"
   },
   {
    "duration": 1746,
    "start_time": "2022-03-14T05:47:30.055Z"
   },
   {
    "duration": 1685,
    "start_time": "2022-03-14T05:48:25.588Z"
   },
   {
    "duration": 1754,
    "start_time": "2022-03-14T05:51:27.957Z"
   },
   {
    "duration": 1737,
    "start_time": "2022-03-14T05:51:49.816Z"
   },
   {
    "duration": 1715,
    "start_time": "2022-03-14T05:52:24.680Z"
   },
   {
    "duration": 629,
    "start_time": "2022-03-14T10:56:01.386Z"
   },
   {
    "duration": 83,
    "start_time": "2022-03-14T10:56:02.017Z"
   },
   {
    "duration": 21,
    "start_time": "2022-03-14T10:56:02.102Z"
   },
   {
    "duration": 33,
    "start_time": "2022-03-14T10:56:02.125Z"
   },
   {
    "duration": 22,
    "start_time": "2022-03-14T10:56:02.160Z"
   },
   {
    "duration": 5,
    "start_time": "2022-03-14T10:56:02.184Z"
   },
   {
    "duration": 6,
    "start_time": "2022-03-14T10:56:02.191Z"
   },
   {
    "duration": 6,
    "start_time": "2022-03-14T10:56:02.199Z"
   },
   {
    "duration": 73,
    "start_time": "2022-03-14T10:56:02.207Z"
   },
   {
    "duration": 79,
    "start_time": "2022-03-14T10:56:02.282Z"
   },
   {
    "duration": 12,
    "start_time": "2022-03-14T10:56:02.363Z"
   },
   {
    "duration": 825,
    "start_time": "2022-03-14T10:56:02.377Z"
   },
   {
    "duration": 7,
    "start_time": "2022-03-14T10:56:03.203Z"
   },
   {
    "duration": 41,
    "start_time": "2022-03-14T10:56:03.212Z"
   },
   {
    "duration": 28,
    "start_time": "2022-03-14T10:56:03.255Z"
   },
   {
    "duration": 14,
    "start_time": "2022-03-14T10:56:03.285Z"
   },
   {
    "duration": 4159,
    "start_time": "2022-03-14T10:56:03.301Z"
   },
   {
    "duration": 2,
    "start_time": "2022-03-14T10:56:07.462Z"
   },
   {
    "duration": 369,
    "start_time": "2022-03-14T10:56:07.466Z"
   },
   {
    "duration": 2,
    "start_time": "2022-03-14T10:56:07.837Z"
   },
   {
    "duration": 6,
    "start_time": "2022-03-14T10:56:07.840Z"
   },
   {
    "duration": 5,
    "start_time": "2022-03-14T10:56:07.848Z"
   },
   {
    "duration": 856,
    "start_time": "2022-03-14T10:56:07.856Z"
   },
   {
    "duration": 2,
    "start_time": "2022-03-14T10:56:08.714Z"
   },
   {
    "duration": 30,
    "start_time": "2022-03-14T10:56:08.717Z"
   },
   {
    "duration": 4569,
    "start_time": "2022-03-14T10:56:08.749Z"
   },
   {
    "duration": 2646,
    "start_time": "2022-03-14T10:56:13.320Z"
   },
   {
    "duration": 284,
    "start_time": "2022-03-14T10:56:15.968Z"
   },
   {
    "duration": 1217,
    "start_time": "2022-03-14T10:56:16.254Z"
   },
   {
    "duration": 728,
    "start_time": "2022-03-14T21:50:58.026Z"
   },
   {
    "duration": 92,
    "start_time": "2022-03-14T21:50:58.756Z"
   },
   {
    "duration": 22,
    "start_time": "2022-03-14T21:50:58.850Z"
   },
   {
    "duration": 40,
    "start_time": "2022-03-14T21:50:58.875Z"
   },
   {
    "duration": 3,
    "start_time": "2022-03-14T21:50:58.918Z"
   },
   {
    "duration": 12,
    "start_time": "2022-03-14T21:50:58.922Z"
   },
   {
    "duration": 10,
    "start_time": "2022-03-14T21:50:58.936Z"
   },
   {
    "duration": 9,
    "start_time": "2022-03-14T21:50:58.948Z"
   },
   {
    "duration": 88,
    "start_time": "2022-03-14T21:50:58.960Z"
   },
   {
    "duration": 90,
    "start_time": "2022-03-14T21:50:59.050Z"
   },
   {
    "duration": 12,
    "start_time": "2022-03-14T21:50:59.142Z"
   },
   {
    "duration": 981,
    "start_time": "2022-03-14T21:50:59.156Z"
   },
   {
    "duration": 8,
    "start_time": "2022-03-14T21:51:00.138Z"
   },
   {
    "duration": 37,
    "start_time": "2022-03-14T21:51:00.148Z"
   },
   {
    "duration": 42,
    "start_time": "2022-03-14T21:51:00.187Z"
   },
   {
    "duration": 15,
    "start_time": "2022-03-14T21:51:00.231Z"
   },
   {
    "duration": 4428,
    "start_time": "2022-03-14T21:51:00.248Z"
   },
   {
    "duration": 3,
    "start_time": "2022-03-14T21:51:04.679Z"
   },
   {
    "duration": 381,
    "start_time": "2022-03-14T21:51:04.684Z"
   },
   {
    "duration": 3,
    "start_time": "2022-03-14T21:51:05.068Z"
   },
   {
    "duration": 9,
    "start_time": "2022-03-14T21:51:05.072Z"
   },
   {
    "duration": 26,
    "start_time": "2022-03-14T21:51:05.083Z"
   },
   {
    "duration": 875,
    "start_time": "2022-03-14T21:51:05.111Z"
   },
   {
    "duration": 2,
    "start_time": "2022-03-14T21:51:05.988Z"
   },
   {
    "duration": 21,
    "start_time": "2022-03-14T21:51:06.001Z"
   },
   {
    "duration": 4850,
    "start_time": "2022-03-14T21:51:06.024Z"
   },
   {
    "duration": 2822,
    "start_time": "2022-03-14T21:51:10.878Z"
   },
   {
    "duration": 254,
    "start_time": "2022-03-14T21:51:13.703Z"
   },
   {
    "duration": 1375,
    "start_time": "2022-03-14T21:51:13.958Z"
   },
   {
    "duration": 3,
    "start_time": "2022-03-14T22:14:59.136Z"
   },
   {
    "duration": 100,
    "start_time": "2022-03-14T22:14:59.141Z"
   },
   {
    "duration": 23,
    "start_time": "2022-03-14T22:14:59.243Z"
   },
   {
    "duration": 34,
    "start_time": "2022-03-14T22:14:59.269Z"
   },
   {
    "duration": 3,
    "start_time": "2022-03-14T22:14:59.305Z"
   },
   {
    "duration": 14,
    "start_time": "2022-03-14T22:14:59.311Z"
   },
   {
    "duration": 8,
    "start_time": "2022-03-14T22:14:59.327Z"
   },
   {
    "duration": 5,
    "start_time": "2022-03-14T22:14:59.337Z"
   },
   {
    "duration": 79,
    "start_time": "2022-03-14T22:14:59.345Z"
   },
   {
    "duration": 86,
    "start_time": "2022-03-14T22:14:59.426Z"
   },
   {
    "duration": 16,
    "start_time": "2022-03-14T22:14:59.515Z"
   },
   {
    "duration": 891,
    "start_time": "2022-03-14T22:14:59.533Z"
   },
   {
    "duration": 7,
    "start_time": "2022-03-14T22:15:00.426Z"
   },
   {
    "duration": 41,
    "start_time": "2022-03-14T22:15:00.435Z"
   },
   {
    "duration": 45,
    "start_time": "2022-03-14T22:15:00.478Z"
   },
   {
    "duration": 15,
    "start_time": "2022-03-14T22:15:00.525Z"
   },
   {
    "duration": 4364,
    "start_time": "2022-03-14T22:15:00.543Z"
   },
   {
    "duration": 3,
    "start_time": "2022-03-14T22:15:04.909Z"
   },
   {
    "duration": 359,
    "start_time": "2022-03-14T22:15:04.914Z"
   },
   {
    "duration": 2,
    "start_time": "2022-03-14T22:15:05.276Z"
   },
   {
    "duration": 29,
    "start_time": "2022-03-14T22:15:05.280Z"
   },
   {
    "duration": 14,
    "start_time": "2022-03-14T22:15:05.311Z"
   },
   {
    "duration": 888,
    "start_time": "2022-03-14T22:15:05.327Z"
   },
   {
    "duration": 2,
    "start_time": "2022-03-14T22:15:06.217Z"
   },
   {
    "duration": 23,
    "start_time": "2022-03-14T22:15:06.221Z"
   },
   {
    "duration": 4536,
    "start_time": "2022-03-14T22:15:06.246Z"
   },
   {
    "duration": 2615,
    "start_time": "2022-03-14T22:15:10.786Z"
   },
   {
    "duration": 240,
    "start_time": "2022-03-14T22:15:13.403Z"
   },
   {
    "duration": 1427,
    "start_time": "2022-03-14T22:15:13.645Z"
   },
   {
    "duration": 407,
    "start_time": "2022-03-15T05:28:07.511Z"
   },
   {
    "duration": 257,
    "start_time": "2022-03-15T05:28:08.386Z"
   },
   {
    "duration": 249,
    "start_time": "2022-03-15T05:28:09.188Z"
   },
   {
    "duration": 846,
    "start_time": "2022-03-15T05:28:12.243Z"
   },
   {
    "duration": 107,
    "start_time": "2022-03-15T05:28:13.266Z"
   },
   {
    "duration": 31,
    "start_time": "2022-03-15T05:28:17.233Z"
   },
   {
    "duration": 40,
    "start_time": "2022-03-15T05:28:17.858Z"
   },
   {
    "duration": 81,
    "start_time": "2022-03-15T05:28:59.237Z"
   },
   {
    "duration": 4,
    "start_time": "2022-03-15T05:29:44.036Z"
   },
   {
    "duration": 3,
    "start_time": "2022-03-15T05:29:44.746Z"
   },
   {
    "duration": 4,
    "start_time": "2022-03-15T05:29:46.235Z"
   },
   {
    "duration": 24,
    "start_time": "2022-03-15T05:30:39.314Z"
   },
   {
    "duration": 3,
    "start_time": "2022-03-15T05:31:30.918Z"
   },
   {
    "duration": 24,
    "start_time": "2022-03-15T05:32:33.259Z"
   },
   {
    "duration": 391,
    "start_time": "2022-03-15T05:34:36.912Z"
   },
   {
    "duration": 5,
    "start_time": "2022-03-15T05:34:43.696Z"
   },
   {
    "duration": 129,
    "start_time": "2022-03-15T05:34:44.287Z"
   },
   {
    "duration": 42,
    "start_time": "2022-03-15T05:34:44.419Z"
   },
   {
    "duration": 22,
    "start_time": "2022-03-15T05:34:44.464Z"
   },
   {
    "duration": 24,
    "start_time": "2022-03-15T05:34:44.493Z"
   },
   {
    "duration": 3,
    "start_time": "2022-03-15T05:34:44.554Z"
   },
   {
    "duration": 3,
    "start_time": "2022-03-15T05:34:44.619Z"
   },
   {
    "duration": 24,
    "start_time": "2022-03-15T05:34:45.454Z"
   },
   {
    "duration": 154,
    "start_time": "2022-03-15T05:34:45.574Z"
   },
   {
    "duration": 196,
    "start_time": "2022-03-15T05:34:47.344Z"
   },
   {
    "duration": 8,
    "start_time": "2022-03-15T05:38:39.263Z"
   },
   {
    "duration": 9,
    "start_time": "2022-03-15T05:39:06.861Z"
   },
   {
    "duration": 4,
    "start_time": "2022-03-15T05:39:17.421Z"
   },
   {
    "duration": 106,
    "start_time": "2022-03-15T05:39:18.024Z"
   },
   {
    "duration": 24,
    "start_time": "2022-03-15T05:39:19.501Z"
   },
   {
    "duration": 22,
    "start_time": "2022-03-15T05:39:20.016Z"
   },
   {
    "duration": 24,
    "start_time": "2022-03-15T05:39:20.072Z"
   },
   {
    "duration": 9,
    "start_time": "2022-03-15T05:39:20.135Z"
   },
   {
    "duration": 4,
    "start_time": "2022-03-15T05:39:20.199Z"
   },
   {
    "duration": 24,
    "start_time": "2022-03-15T05:39:21.260Z"
   },
   {
    "duration": 24,
    "start_time": "2022-03-15T05:40:27.614Z"
   },
   {
    "duration": 146,
    "start_time": "2022-03-15T05:53:40.525Z"
   },
   {
    "duration": 4,
    "start_time": "2022-03-15T05:53:52.840Z"
   },
   {
    "duration": 103,
    "start_time": "2022-03-15T05:53:53.995Z"
   },
   {
    "duration": 26,
    "start_time": "2022-03-15T05:53:54.792Z"
   },
   {
    "duration": 22,
    "start_time": "2022-03-15T05:53:55.003Z"
   },
   {
    "duration": 26,
    "start_time": "2022-03-15T05:53:55.815Z"
   },
   {
    "duration": 9,
    "start_time": "2022-03-15T05:53:56.390Z"
   },
   {
    "duration": 3,
    "start_time": "2022-03-15T05:53:57.707Z"
   },
   {
    "duration": 5,
    "start_time": "2022-03-15T05:54:29.816Z"
   },
   {
    "duration": 25,
    "start_time": "2022-03-15T05:55:02.061Z"
   },
   {
    "duration": 11,
    "start_time": "2022-03-15T05:57:08.870Z"
   },
   {
    "duration": 12,
    "start_time": "2022-03-15T05:57:28.792Z"
   },
   {
    "duration": 73,
    "start_time": "2022-03-15T05:59:14.599Z"
   },
   {
    "duration": 8,
    "start_time": "2022-03-15T05:59:20.583Z"
   },
   {
    "duration": 34,
    "start_time": "2022-03-15T06:01:06.419Z"
   },
   {
    "duration": 61,
    "start_time": "2022-03-15T06:01:50.091Z"
   },
   {
    "duration": 47,
    "start_time": "2022-03-15T06:02:40.426Z"
   },
   {
    "duration": 47,
    "start_time": "2022-03-15T06:02:49.589Z"
   },
   {
    "duration": 47,
    "start_time": "2022-03-15T06:02:54.490Z"
   },
   {
    "duration": 57,
    "start_time": "2022-03-15T06:05:51.936Z"
   },
   {
    "duration": 51,
    "start_time": "2022-03-15T06:05:58.835Z"
   },
   {
    "duration": 12,
    "start_time": "2022-03-15T06:06:56.579Z"
   },
   {
    "duration": 25,
    "start_time": "2022-03-15T06:08:01.590Z"
   },
   {
    "duration": 163,
    "start_time": "2022-03-15T06:08:38.803Z"
   },
   {
    "duration": 198,
    "start_time": "2022-03-15T06:08:46.836Z"
   },
   {
    "duration": 188,
    "start_time": "2022-03-15T06:09:28.667Z"
   },
   {
    "duration": 189,
    "start_time": "2022-03-15T06:09:35.110Z"
   },
   {
    "duration": 195,
    "start_time": "2022-03-15T06:10:58.671Z"
   },
   {
    "duration": 186,
    "start_time": "2022-03-15T06:11:12.277Z"
   },
   {
    "duration": 216,
    "start_time": "2022-03-15T06:12:36.787Z"
   },
   {
    "duration": 214,
    "start_time": "2022-03-15T06:13:18.291Z"
   },
   {
    "duration": 273,
    "start_time": "2022-03-15T06:14:03.858Z"
   },
   {
    "duration": 217,
    "start_time": "2022-03-15T06:14:19.278Z"
   },
   {
    "duration": 238,
    "start_time": "2022-03-15T06:17:59.411Z"
   },
   {
    "duration": 219,
    "start_time": "2022-03-15T06:18:27.185Z"
   },
   {
    "duration": 212,
    "start_time": "2022-03-15T06:19:08.336Z"
   },
   {
    "duration": 126,
    "start_time": "2022-03-15T06:20:36.511Z"
   },
   {
    "duration": 108,
    "start_time": "2022-03-15T06:21:27.841Z"
   },
   {
    "duration": 280,
    "start_time": "2022-03-15T06:21:42.125Z"
   },
   {
    "duration": 344,
    "start_time": "2022-03-15T06:22:10.209Z"
   },
   {
    "duration": 91,
    "start_time": "2022-03-15T06:23:13.567Z"
   },
   {
    "duration": 84,
    "start_time": "2022-03-15T06:23:21.949Z"
   },
   {
    "duration": 86,
    "start_time": "2022-03-15T06:23:43.181Z"
   },
   {
    "duration": 109,
    "start_time": "2022-03-15T06:24:09.452Z"
   },
   {
    "duration": 106,
    "start_time": "2022-03-15T06:24:52.353Z"
   },
   {
    "duration": 197,
    "start_time": "2022-03-15T06:25:23.124Z"
   },
   {
    "duration": 278,
    "start_time": "2022-03-15T06:25:35.261Z"
   },
   {
    "duration": 279,
    "start_time": "2022-03-15T06:25:48.143Z"
   },
   {
    "duration": 193,
    "start_time": "2022-03-15T06:26:49.919Z"
   },
   {
    "duration": 206,
    "start_time": "2022-03-15T06:27:05.931Z"
   },
   {
    "duration": 206,
    "start_time": "2022-03-15T06:30:02.175Z"
   },
   {
    "duration": 202,
    "start_time": "2022-03-15T06:30:11.498Z"
   },
   {
    "duration": 202,
    "start_time": "2022-03-15T06:30:20.586Z"
   },
   {
    "duration": 17,
    "start_time": "2022-03-15T06:34:16.699Z"
   },
   {
    "duration": 18,
    "start_time": "2022-03-15T06:35:17.092Z"
   },
   {
    "duration": 19,
    "start_time": "2022-03-15T06:35:22.132Z"
   },
   {
    "duration": 285,
    "start_time": "2022-03-15T06:37:55.687Z"
   },
   {
    "duration": 21,
    "start_time": "2022-03-15T06:39:15.908Z"
   },
   {
    "duration": 34,
    "start_time": "2022-03-15T06:39:25.718Z"
   },
   {
    "duration": 38,
    "start_time": "2022-03-15T06:39:40.583Z"
   },
   {
    "duration": 37,
    "start_time": "2022-03-15T06:41:06.008Z"
   },
   {
    "duration": 53,
    "start_time": "2022-03-15T06:41:42.146Z"
   },
   {
    "duration": 52,
    "start_time": "2022-03-15T06:41:53.411Z"
   },
   {
    "duration": 53,
    "start_time": "2022-03-15T06:42:44.834Z"
   },
   {
    "duration": 66,
    "start_time": "2022-03-15T06:44:52.628Z"
   },
   {
    "duration": 85,
    "start_time": "2022-03-15T06:45:27.026Z"
   },
   {
    "duration": 106,
    "start_time": "2022-03-15T06:46:09.568Z"
   },
   {
    "duration": 25,
    "start_time": "2022-03-15T06:46:34.864Z"
   },
   {
    "duration": 4,
    "start_time": "2022-03-15T06:46:39.428Z"
   },
   {
    "duration": 107,
    "start_time": "2022-03-15T06:46:40.009Z"
   },
   {
    "duration": 25,
    "start_time": "2022-03-15T06:46:40.119Z"
   },
   {
    "duration": 22,
    "start_time": "2022-03-15T06:46:40.155Z"
   },
   {
    "duration": 24,
    "start_time": "2022-03-15T06:46:40.211Z"
   },
   {
    "duration": 12,
    "start_time": "2022-03-15T06:46:40.276Z"
   },
   {
    "duration": 48,
    "start_time": "2022-03-15T06:46:40.352Z"
   },
   {
    "duration": 26,
    "start_time": "2022-03-15T06:46:40.455Z"
   },
   {
    "duration": 98,
    "start_time": "2022-03-15T06:46:41.057Z"
   },
   {
    "duration": 4,
    "start_time": "2022-03-15T06:47:17.733Z"
   },
   {
    "duration": 105,
    "start_time": "2022-03-15T06:47:18.327Z"
   },
   {
    "duration": 30,
    "start_time": "2022-03-15T06:47:18.435Z"
   },
   {
    "duration": 23,
    "start_time": "2022-03-15T06:47:18.467Z"
   },
   {
    "duration": 24,
    "start_time": "2022-03-15T06:47:18.520Z"
   },
   {
    "duration": 13,
    "start_time": "2022-03-15T06:47:18.599Z"
   },
   {
    "duration": 47,
    "start_time": "2022-03-15T06:47:18.659Z"
   },
   {
    "duration": 24,
    "start_time": "2022-03-15T06:47:18.752Z"
   },
   {
    "duration": 105,
    "start_time": "2022-03-15T06:47:18.882Z"
   },
   {
    "duration": 81,
    "start_time": "2022-03-15T06:47:19.026Z"
   },
   {
    "duration": 13,
    "start_time": "2022-03-15T06:47:19.151Z"
   },
   {
    "duration": 786,
    "start_time": "2022-03-15T06:47:19.214Z"
   },
   {
    "duration": 10,
    "start_time": "2022-03-15T06:47:20.382Z"
   },
   {
    "duration": 29,
    "start_time": "2022-03-15T06:47:21.564Z"
   },
   {
    "duration": 4,
    "start_time": "2022-03-15T06:49:42.351Z"
   },
   {
    "duration": 98,
    "start_time": "2022-03-15T06:49:42.993Z"
   },
   {
    "duration": 24,
    "start_time": "2022-03-15T06:49:43.094Z"
   },
   {
    "duration": 42,
    "start_time": "2022-03-15T06:49:43.121Z"
   },
   {
    "duration": 24,
    "start_time": "2022-03-15T06:49:43.166Z"
   },
   {
    "duration": 10,
    "start_time": "2022-03-15T06:49:43.205Z"
   },
   {
    "duration": 49,
    "start_time": "2022-03-15T06:49:43.270Z"
   },
   {
    "duration": 28,
    "start_time": "2022-03-15T06:49:43.373Z"
   },
   {
    "duration": 127,
    "start_time": "2022-03-15T06:49:43.505Z"
   },
   {
    "duration": 84,
    "start_time": "2022-03-15T06:49:45.984Z"
   },
   {
    "duration": 1170,
    "start_time": "2022-03-15T06:51:18.910Z"
   },
   {
    "duration": 1213,
    "start_time": "2022-03-15T06:52:25.186Z"
   },
   {
    "duration": 107,
    "start_time": "2022-03-15T06:52:33.548Z"
   },
   {
    "duration": 27,
    "start_time": "2022-03-15T06:52:34.128Z"
   },
   {
    "duration": 23,
    "start_time": "2022-03-15T06:52:34.177Z"
   },
   {
    "duration": 25,
    "start_time": "2022-03-15T06:52:34.224Z"
   },
   {
    "duration": 11,
    "start_time": "2022-03-15T06:52:34.288Z"
   },
   {
    "duration": 53,
    "start_time": "2022-03-15T06:52:34.356Z"
   },
   {
    "duration": 26,
    "start_time": "2022-03-15T06:52:34.445Z"
   },
   {
    "duration": 132,
    "start_time": "2022-03-15T06:52:34.586Z"
   },
   {
    "duration": 97,
    "start_time": "2022-03-15T06:52:35.062Z"
   },
   {
    "duration": 12,
    "start_time": "2022-03-15T06:52:36.924Z"
   },
   {
    "duration": 738,
    "start_time": "2022-03-15T06:52:37.548Z"
   },
   {
    "duration": 10,
    "start_time": "2022-03-15T06:52:38.587Z"
   },
   {
    "duration": 28,
    "start_time": "2022-03-15T06:52:39.821Z"
   },
   {
    "duration": 1184,
    "start_time": "2022-03-15T06:59:19.086Z"
   },
   {
    "duration": 1301,
    "start_time": "2022-03-15T06:59:29.564Z"
   },
   {
    "duration": 1321,
    "start_time": "2022-03-15T06:59:47.615Z"
   },
   {
    "duration": 6,
    "start_time": "2022-03-15T06:59:57.583Z"
   },
   {
    "duration": 117,
    "start_time": "2022-03-15T06:59:58.183Z"
   },
   {
    "duration": 30,
    "start_time": "2022-03-15T06:59:58.303Z"
   },
   {
    "duration": 26,
    "start_time": "2022-03-15T06:59:58.352Z"
   },
   {
    "duration": 32,
    "start_time": "2022-03-15T06:59:58.382Z"
   },
   {
    "duration": 15,
    "start_time": "2022-03-15T06:59:58.445Z"
   },
   {
    "duration": 57,
    "start_time": "2022-03-15T06:59:58.510Z"
   },
   {
    "duration": 28,
    "start_time": "2022-03-15T06:59:58.620Z"
   },
   {
    "duration": 141,
    "start_time": "2022-03-15T06:59:58.743Z"
   },
   {
    "duration": 154,
    "start_time": "2022-03-15T06:59:58.887Z"
   },
   {
    "duration": 19,
    "start_time": "2022-03-15T07:00:00.411Z"
   },
   {
    "duration": 779,
    "start_time": "2022-03-15T07:00:01.262Z"
   },
   {
    "duration": 16,
    "start_time": "2022-03-15T07:00:02.044Z"
   },
   {
    "duration": 31,
    "start_time": "2022-03-15T07:00:02.063Z"
   },
   {
    "duration": 4,
    "start_time": "2022-03-15T07:02:03.605Z"
   },
   {
    "duration": 110,
    "start_time": "2022-03-15T07:02:04.199Z"
   },
   {
    "duration": 41,
    "start_time": "2022-03-15T07:02:04.312Z"
   },
   {
    "duration": 22,
    "start_time": "2022-03-15T07:02:04.357Z"
   },
   {
    "duration": 25,
    "start_time": "2022-03-15T07:02:04.389Z"
   },
   {
    "duration": 12,
    "start_time": "2022-03-15T07:02:04.467Z"
   },
   {
    "duration": 51,
    "start_time": "2022-03-15T07:02:04.529Z"
   },
   {
    "duration": 25,
    "start_time": "2022-03-15T07:02:04.627Z"
   },
   {
    "duration": 129,
    "start_time": "2022-03-15T07:02:04.764Z"
   },
   {
    "duration": 170,
    "start_time": "2022-03-15T07:02:04.895Z"
   },
   {
    "duration": 13,
    "start_time": "2022-03-15T07:02:05.352Z"
   },
   {
    "duration": 791,
    "start_time": "2022-03-15T07:02:06.323Z"
   },
   {
    "duration": 4,
    "start_time": "2022-03-15T07:02:29.244Z"
   },
   {
    "duration": 111,
    "start_time": "2022-03-15T07:02:29.840Z"
   },
   {
    "duration": 24,
    "start_time": "2022-03-15T07:02:29.976Z"
   },
   {
    "duration": 24,
    "start_time": "2022-03-15T07:02:30.002Z"
   },
   {
    "duration": 25,
    "start_time": "2022-03-15T07:02:30.051Z"
   },
   {
    "duration": 13,
    "start_time": "2022-03-15T07:02:30.111Z"
   },
   {
    "duration": 56,
    "start_time": "2022-03-15T07:02:30.174Z"
   },
   {
    "duration": 26,
    "start_time": "2022-03-15T07:02:30.281Z"
   },
   {
    "duration": 131,
    "start_time": "2022-03-15T07:02:30.408Z"
   },
   {
    "duration": 169,
    "start_time": "2022-03-15T07:02:30.552Z"
   },
   {
    "duration": 33,
    "start_time": "2022-03-15T07:02:30.724Z"
   },
   {
    "duration": 779,
    "start_time": "2022-03-15T07:02:30.759Z"
   },
   {
    "duration": 14,
    "start_time": "2022-03-15T07:02:31.540Z"
   },
   {
    "duration": 28,
    "start_time": "2022-03-15T07:02:32.297Z"
   },
   {
    "duration": 744,
    "start_time": "2022-03-15T07:08:25.915Z"
   },
   {
    "duration": 5,
    "start_time": "2022-03-15T07:14:41.555Z"
   },
   {
    "duration": 108,
    "start_time": "2022-03-15T07:14:42.161Z"
   },
   {
    "duration": 30,
    "start_time": "2022-03-15T07:14:42.272Z"
   },
   {
    "duration": 22,
    "start_time": "2022-03-15T07:14:42.305Z"
   },
   {
    "duration": 27,
    "start_time": "2022-03-15T07:14:42.365Z"
   },
   {
    "duration": 13,
    "start_time": "2022-03-15T07:14:42.427Z"
   },
   {
    "duration": 48,
    "start_time": "2022-03-15T07:14:42.498Z"
   },
   {
    "duration": 25,
    "start_time": "2022-03-15T07:14:42.587Z"
   },
   {
    "duration": 126,
    "start_time": "2022-03-15T07:14:42.731Z"
   },
   {
    "duration": 170,
    "start_time": "2022-03-15T07:14:42.861Z"
   },
   {
    "duration": 25,
    "start_time": "2022-03-15T07:14:43.034Z"
   },
   {
    "duration": 312,
    "start_time": "2022-03-15T07:14:43.061Z"
   },
   {
    "duration": 6376,
    "start_time": "2022-03-15T07:14:44.209Z"
   },
   {
    "duration": -1056,
    "start_time": "2022-03-15T07:14:51.645Z"
   },
   {
    "duration": 4,
    "start_time": "2022-03-15T07:16:42.723Z"
   },
   {
    "duration": 102,
    "start_time": "2022-03-15T07:16:43.329Z"
   },
   {
    "duration": 35,
    "start_time": "2022-03-15T07:16:43.434Z"
   },
   {
    "duration": 22,
    "start_time": "2022-03-15T07:16:43.471Z"
   },
   {
    "duration": 23,
    "start_time": "2022-03-15T07:16:43.525Z"
   },
   {
    "duration": 14,
    "start_time": "2022-03-15T07:16:43.584Z"
   },
   {
    "duration": 54,
    "start_time": "2022-03-15T07:16:43.662Z"
   },
   {
    "duration": 26,
    "start_time": "2022-03-15T07:16:43.762Z"
   },
   {
    "duration": 135,
    "start_time": "2022-03-15T07:16:43.898Z"
   },
   {
    "duration": 169,
    "start_time": "2022-03-15T07:16:44.037Z"
   },
   {
    "duration": 13,
    "start_time": "2022-03-15T07:16:44.209Z"
   },
   {
    "duration": 140,
    "start_time": "2022-03-15T07:16:44.227Z"
   },
   {
    "duration": 9,
    "start_time": "2022-03-15T07:16:44.369Z"
   },
   {
    "duration": 26,
    "start_time": "2022-03-15T07:16:44.380Z"
   },
   {
    "duration": 19,
    "start_time": "2022-03-15T07:16:44.481Z"
   },
   {
    "duration": 20,
    "start_time": "2022-03-15T07:16:44.514Z"
   },
   {
    "duration": 27,
    "start_time": "2022-03-15T07:18:05.531Z"
   },
   {
    "duration": 25,
    "start_time": "2022-03-15T07:18:28.805Z"
   },
   {
    "duration": 21,
    "start_time": "2022-03-15T07:22:47.345Z"
   },
   {
    "duration": 4,
    "start_time": "2022-03-15T07:22:54.880Z"
   },
   {
    "duration": 104,
    "start_time": "2022-03-15T07:22:55.483Z"
   },
   {
    "duration": 25,
    "start_time": "2022-03-15T07:22:55.589Z"
   },
   {
    "duration": 22,
    "start_time": "2022-03-15T07:22:55.636Z"
   },
   {
    "duration": 25,
    "start_time": "2022-03-15T07:22:55.688Z"
   },
   {
    "duration": 13,
    "start_time": "2022-03-15T07:22:55.752Z"
   },
   {
    "duration": 50,
    "start_time": "2022-03-15T07:22:55.814Z"
   },
   {
    "duration": 26,
    "start_time": "2022-03-15T07:22:55.913Z"
   },
   {
    "duration": 138,
    "start_time": "2022-03-15T07:22:56.052Z"
   },
   {
    "duration": 176,
    "start_time": "2022-03-15T07:22:56.193Z"
   },
   {
    "duration": 14,
    "start_time": "2022-03-15T07:22:56.372Z"
   },
   {
    "duration": 25,
    "start_time": "2022-03-15T07:22:56.389Z"
   },
   {
    "duration": 18,
    "start_time": "2022-03-15T07:22:56.440Z"
   },
   {
    "duration": 28,
    "start_time": "2022-03-15T07:22:56.504Z"
   },
   {
    "duration": 283,
    "start_time": "2022-03-15T07:30:05.181Z"
   },
   {
    "duration": 285,
    "start_time": "2022-03-15T07:31:17.442Z"
   },
   {
    "duration": 253,
    "start_time": "2022-03-15T07:34:36.604Z"
   },
   {
    "duration": 240,
    "start_time": "2022-03-15T07:35:56.638Z"
   },
   {
    "duration": 265,
    "start_time": "2022-03-15T07:36:34.492Z"
   },
   {
    "duration": 279,
    "start_time": "2022-03-15T07:37:04.203Z"
   },
   {
    "duration": 1889,
    "start_time": "2022-03-15T07:37:20.129Z"
   },
   {
    "duration": 253,
    "start_time": "2022-03-15T07:38:49.309Z"
   },
   {
    "duration": 4,
    "start_time": "2022-03-15T07:38:57.033Z"
   },
   {
    "duration": 112,
    "start_time": "2022-03-15T07:38:57.644Z"
   },
   {
    "duration": 26,
    "start_time": "2022-03-15T07:38:57.758Z"
   },
   {
    "duration": 22,
    "start_time": "2022-03-15T07:38:57.787Z"
   },
   {
    "duration": 32,
    "start_time": "2022-03-15T07:38:57.832Z"
   },
   {
    "duration": 12,
    "start_time": "2022-03-15T07:38:57.895Z"
   },
   {
    "duration": 49,
    "start_time": "2022-03-15T07:38:57.976Z"
   },
   {
    "duration": 25,
    "start_time": "2022-03-15T07:38:58.069Z"
   },
   {
    "duration": 144,
    "start_time": "2022-03-15T07:38:58.240Z"
   },
   {
    "duration": 171,
    "start_time": "2022-03-15T07:38:58.387Z"
   },
   {
    "duration": 12,
    "start_time": "2022-03-15T07:38:58.561Z"
   },
   {
    "duration": 265,
    "start_time": "2022-03-15T07:38:58.575Z"
   },
   {
    "duration": 6047,
    "start_time": "2022-03-15T07:38:59.801Z"
   },
   {
    "duration": 23,
    "start_time": "2022-03-15T07:40:03.210Z"
   },
   {
    "duration": 30,
    "start_time": "2022-03-15T07:40:40.728Z"
   },
   {
    "duration": 10,
    "start_time": "2022-03-15T07:43:32.950Z"
   },
   {
    "duration": 8,
    "start_time": "2022-03-15T07:45:19.270Z"
   },
   {
    "duration": 8,
    "start_time": "2022-03-15T07:45:30.263Z"
   },
   {
    "duration": 15,
    "start_time": "2022-03-15T07:48:26.504Z"
   },
   {
    "duration": 4,
    "start_time": "2022-03-15T07:53:49.269Z"
   },
   {
    "duration": 106,
    "start_time": "2022-03-15T07:53:49.869Z"
   },
   {
    "duration": 28,
    "start_time": "2022-03-15T07:53:49.981Z"
   },
   {
    "duration": 23,
    "start_time": "2022-03-15T07:53:50.015Z"
   },
   {
    "duration": 26,
    "start_time": "2022-03-15T07:53:50.073Z"
   },
   {
    "duration": 14,
    "start_time": "2022-03-15T07:53:50.138Z"
   },
   {
    "duration": 52,
    "start_time": "2022-03-15T07:53:50.203Z"
   },
   {
    "duration": 25,
    "start_time": "2022-03-15T07:53:50.296Z"
   },
   {
    "duration": 144,
    "start_time": "2022-03-15T07:53:50.440Z"
   },
   {
    "duration": 177,
    "start_time": "2022-03-15T07:53:50.587Z"
   },
   {
    "duration": 13,
    "start_time": "2022-03-15T07:53:50.766Z"
   },
   {
    "duration": 31,
    "start_time": "2022-03-15T07:53:50.781Z"
   },
   {
    "duration": 349,
    "start_time": "2022-03-15T07:55:45.061Z"
   },
   {
    "duration": 29,
    "start_time": "2022-03-15T08:00:23.173Z"
   },
   {
    "duration": 3,
    "start_time": "2022-03-15T08:00:30.474Z"
   },
   {
    "duration": 105,
    "start_time": "2022-03-15T08:00:30.919Z"
   },
   {
    "duration": 29,
    "start_time": "2022-03-15T08:00:31.027Z"
   },
   {
    "duration": 46,
    "start_time": "2022-03-15T08:00:31.060Z"
   },
   {
    "duration": 24,
    "start_time": "2022-03-15T08:00:31.275Z"
   },
   {
    "duration": 21,
    "start_time": "2022-03-15T08:00:31.302Z"
   },
   {
    "duration": 59,
    "start_time": "2022-03-15T08:00:31.326Z"
   },
   {
    "duration": 28,
    "start_time": "2022-03-15T08:00:31.388Z"
   },
   {
    "duration": 140,
    "start_time": "2022-03-15T08:00:31.475Z"
   },
   {
    "duration": 152,
    "start_time": "2022-03-15T08:00:31.665Z"
   },
   {
    "duration": 13,
    "start_time": "2022-03-15T08:00:31.820Z"
   },
   {
    "duration": 6294,
    "start_time": "2022-03-15T08:04:04.687Z"
   },
   {
    "duration": -1068,
    "start_time": "2022-03-15T08:04:12.052Z"
   },
   {
    "duration": -1069,
    "start_time": "2022-03-15T08:04:12.054Z"
   },
   {
    "duration": 20,
    "start_time": "2022-03-15T08:04:11.645Z"
   },
   {
    "duration": 20,
    "start_time": "2022-03-15T08:04:12.690Z"
   },
   {
    "duration": 19,
    "start_time": "2022-03-15T08:04:37.406Z"
   },
   {
    "duration": 6078,
    "start_time": "2022-03-15T08:04:49.219Z"
   },
   {
    "duration": -1118,
    "start_time": "2022-03-15T08:04:56.418Z"
   },
   {
    "duration": -1118,
    "start_time": "2022-03-15T08:04:56.419Z"
   },
   {
    "duration": -1117,
    "start_time": "2022-03-15T08:04:56.420Z"
   },
   {
    "duration": -1117,
    "start_time": "2022-03-15T08:04:56.422Z"
   },
   {
    "duration": 4,
    "start_time": "2022-03-15T08:04:59.519Z"
   },
   {
    "duration": 104,
    "start_time": "2022-03-15T08:05:00.125Z"
   },
   {
    "duration": 24,
    "start_time": "2022-03-15T08:05:00.232Z"
   },
   {
    "duration": 25,
    "start_time": "2022-03-15T08:05:00.261Z"
   },
   {
    "duration": 29,
    "start_time": "2022-03-15T08:05:00.323Z"
   },
   {
    "duration": 13,
    "start_time": "2022-03-15T08:05:00.387Z"
   },
   {
    "duration": 55,
    "start_time": "2022-03-15T08:05:00.453Z"
   },
   {
    "duration": 25,
    "start_time": "2022-03-15T08:05:00.551Z"
   },
   {
    "duration": 131,
    "start_time": "2022-03-15T08:05:00.694Z"
   },
   {
    "duration": 185,
    "start_time": "2022-03-15T08:05:00.827Z"
   },
   {
    "duration": 13,
    "start_time": "2022-03-15T08:05:01.015Z"
   },
   {
    "duration": 7123,
    "start_time": "2022-03-15T08:05:01.030Z"
   },
   {
    "duration": -1070,
    "start_time": "2022-03-15T08:05:09.226Z"
   },
   {
    "duration": -1071,
    "start_time": "2022-03-15T08:05:09.228Z"
   },
   {
    "duration": -1071,
    "start_time": "2022-03-15T08:05:09.229Z"
   },
   {
    "duration": -1070,
    "start_time": "2022-03-15T08:05:09.230Z"
   },
   {
    "duration": -1071,
    "start_time": "2022-03-15T08:05:09.232Z"
   },
   {
    "duration": -1070,
    "start_time": "2022-03-15T08:05:09.233Z"
   },
   {
    "duration": -1070,
    "start_time": "2022-03-15T08:05:09.234Z"
   },
   {
    "duration": -1069,
    "start_time": "2022-03-15T08:05:09.235Z"
   },
   {
    "duration": -1069,
    "start_time": "2022-03-15T08:05:09.237Z"
   },
   {
    "duration": 253,
    "start_time": "2022-03-15T08:05:09.311Z"
   },
   {
    "duration": 35,
    "start_time": "2022-03-15T08:06:06.405Z"
   },
   {
    "duration": 15,
    "start_time": "2022-03-15T08:06:14.377Z"
   },
   {
    "duration": 29,
    "start_time": "2022-03-15T08:06:19.101Z"
   },
   {
    "duration": 23,
    "start_time": "2022-03-15T08:06:20.797Z"
   },
   {
    "duration": 24,
    "start_time": "2022-03-15T08:06:21.661Z"
   },
   {
    "duration": 6576,
    "start_time": "2022-03-15T08:06:23.068Z"
   },
   {
    "duration": 609,
    "start_time": "2022-03-15T08:06:29.652Z"
   },
   {
    "duration": 3,
    "start_time": "2022-03-15T08:06:30.266Z"
   },
   {
    "duration": 9,
    "start_time": "2022-03-15T08:06:30.272Z"
   },
   {
    "duration": 7,
    "start_time": "2022-03-15T08:06:30.284Z"
   },
   {
    "duration": 1153,
    "start_time": "2022-03-15T08:06:30.430Z"
   },
   {
    "duration": 9349,
    "start_time": "2022-03-15T08:07:48.449Z"
   },
   {
    "duration": 38,
    "start_time": "2022-03-15T08:10:07.564Z"
   },
   {
    "duration": 57,
    "start_time": "2022-03-15T08:10:13.436Z"
   },
   {
    "duration": 14,
    "start_time": "2022-03-15T08:10:31.535Z"
   },
   {
    "duration": 23,
    "start_time": "2022-03-15T08:10:38.587Z"
   },
   {
    "duration": 25,
    "start_time": "2022-03-15T08:10:40.541Z"
   },
   {
    "duration": 25,
    "start_time": "2022-03-15T08:10:42.272Z"
   },
   {
    "duration": 113,
    "start_time": "2022-03-15T08:11:44.897Z"
   },
   {
    "duration": 24,
    "start_time": "2022-03-15T08:11:46.421Z"
   },
   {
    "duration": 24,
    "start_time": "2022-03-15T08:11:46.451Z"
   },
   {
    "duration": 26,
    "start_time": "2022-03-15T08:11:46.530Z"
   },
   {
    "duration": 13,
    "start_time": "2022-03-15T08:11:46.593Z"
   },
   {
    "duration": 52,
    "start_time": "2022-03-15T08:12:02.622Z"
   },
   {
    "duration": 26,
    "start_time": "2022-03-15T08:12:04.073Z"
   },
   {
    "duration": 132,
    "start_time": "2022-03-15T08:12:05.904Z"
   },
   {
    "duration": 153,
    "start_time": "2022-03-15T08:12:07.709Z"
   },
   {
    "duration": 15,
    "start_time": "2022-03-15T08:12:11.337Z"
   },
   {
    "duration": 55,
    "start_time": "2022-03-15T08:12:11.855Z"
   },
   {
    "duration": 14,
    "start_time": "2022-03-15T08:12:12.779Z"
   },
   {
    "duration": 28,
    "start_time": "2022-03-15T08:12:13.803Z"
   },
   {
    "duration": 19,
    "start_time": "2022-03-15T08:12:15.610Z"
   },
   {
    "duration": 24,
    "start_time": "2022-03-15T08:12:16.553Z"
   },
   {
    "duration": 38,
    "start_time": "2022-03-15T08:13:04.863Z"
   },
   {
    "duration": 23,
    "start_time": "2022-03-15T08:13:07.468Z"
   },
   {
    "duration": 41,
    "start_time": "2022-03-15T08:15:28.430Z"
   },
   {
    "duration": 39,
    "start_time": "2022-03-15T08:16:13.625Z"
   },
   {
    "duration": 37,
    "start_time": "2022-03-15T08:17:07.992Z"
   },
   {
    "duration": 24,
    "start_time": "2022-03-15T08:17:20.564Z"
   },
   {
    "duration": 559,
    "start_time": "2022-03-15T17:45:51.568Z"
   },
   {
    "duration": 58,
    "start_time": "2022-03-15T17:55:40.600Z"
   },
   {
    "duration": 8618,
    "start_time": "2022-03-15T17:55:45.976Z"
   },
   {
    "duration": 10008,
    "start_time": "2022-03-15T17:56:17.668Z"
   },
   {
    "duration": 9393,
    "start_time": "2022-03-15T17:56:30.808Z"
   },
   {
    "duration": 9519,
    "start_time": "2022-03-15T17:57:07.805Z"
   },
   {
    "duration": 8888,
    "start_time": "2022-03-15T17:57:19.224Z"
   },
   {
    "duration": 8573,
    "start_time": "2022-03-15T17:57:33.625Z"
   },
   {
    "duration": 8342,
    "start_time": "2022-03-15T17:57:47.857Z"
   },
   {
    "duration": 9181,
    "start_time": "2022-03-15T17:58:05.688Z"
   },
   {
    "duration": 8671,
    "start_time": "2022-03-15T17:58:43.084Z"
   },
   {
    "duration": 7831,
    "start_time": "2022-03-15T18:03:41.702Z"
   },
   {
    "duration": 8965,
    "start_time": "2022-03-15T18:06:41.719Z"
   },
   {
    "duration": 7969,
    "start_time": "2022-03-15T18:14:00.625Z"
   },
   {
    "duration": 8534,
    "start_time": "2022-03-15T18:14:55.380Z"
   },
   {
    "duration": 8104,
    "start_time": "2022-03-15T18:15:10.528Z"
   },
   {
    "duration": 392,
    "start_time": "2022-03-15T18:22:24.722Z"
   },
   {
    "duration": 8032,
    "start_time": "2022-03-15T18:22:40.876Z"
   },
   {
    "duration": 8065,
    "start_time": "2022-03-15T18:23:04.780Z"
   },
   {
    "duration": 9281,
    "start_time": "2022-03-15T18:23:46.638Z"
   },
   {
    "duration": 57,
    "start_time": "2022-03-15T18:28:51.232Z"
   },
   {
    "duration": 8432,
    "start_time": "2022-03-15T18:28:59.738Z"
   },
   {
    "duration": 8718,
    "start_time": "2022-03-15T18:29:12.713Z"
   },
   {
    "duration": 9818,
    "start_time": "2022-03-15T18:30:28.019Z"
   },
   {
    "duration": 8638,
    "start_time": "2022-03-15T18:31:30.768Z"
   },
   {
    "duration": 11,
    "start_time": "2022-03-15T18:38:36.613Z"
   },
   {
    "duration": 4,
    "start_time": "2022-03-15T18:38:40.741Z"
   },
   {
    "duration": 112,
    "start_time": "2022-03-15T18:38:41.341Z"
   },
   {
    "duration": 28,
    "start_time": "2022-03-15T18:38:41.455Z"
   },
   {
    "duration": 23,
    "start_time": "2022-03-15T18:38:41.837Z"
   },
   {
    "duration": 26,
    "start_time": "2022-03-15T18:38:43.107Z"
   },
   {
    "duration": 13,
    "start_time": "2022-03-15T18:38:48.052Z"
   },
   {
    "duration": 51,
    "start_time": "2022-03-15T18:39:12.774Z"
   },
   {
    "duration": 35,
    "start_time": "2022-03-15T18:39:14.648Z"
   },
   {
    "duration": 137,
    "start_time": "2022-03-15T18:39:16.063Z"
   },
   {
    "duration": 156,
    "start_time": "2022-03-15T18:39:18.133Z"
   },
   {
    "duration": 23,
    "start_time": "2022-03-15T18:41:58.632Z"
   },
   {
    "duration": 26,
    "start_time": "2022-03-15T18:42:04.646Z"
   },
   {
    "duration": 5987,
    "start_time": "2022-03-15T18:42:14.501Z"
   },
   {
    "duration": 6121,
    "start_time": "2022-03-15T18:42:57.450Z"
   },
   {
    "duration": 4,
    "start_time": "2022-03-15T18:43:21.416Z"
   },
   {
    "duration": 111,
    "start_time": "2022-03-15T18:43:22.024Z"
   },
   {
    "duration": 27,
    "start_time": "2022-03-15T18:43:22.138Z"
   },
   {
    "duration": 22,
    "start_time": "2022-03-15T18:43:22.168Z"
   },
   {
    "duration": 23,
    "start_time": "2022-03-15T18:43:22.214Z"
   },
   {
    "duration": 12,
    "start_time": "2022-03-15T18:43:22.278Z"
   },
   {
    "duration": 52,
    "start_time": "2022-03-15T18:43:22.347Z"
   },
   {
    "duration": 25,
    "start_time": "2022-03-15T18:43:22.449Z"
   },
   {
    "duration": 129,
    "start_time": "2022-03-15T18:43:22.580Z"
   },
   {
    "duration": 149,
    "start_time": "2022-03-15T18:43:23.588Z"
   },
   {
    "duration": 15,
    "start_time": "2022-03-15T18:43:25.491Z"
   },
   {
    "duration": 57,
    "start_time": "2022-03-15T18:43:27.924Z"
   },
   {
    "duration": 15,
    "start_time": "2022-03-15T18:43:37.492Z"
   },
   {
    "duration": 6654,
    "start_time": "2022-03-15T18:48:54.024Z"
   },
   {
    "duration": 6,
    "start_time": "2022-03-15T18:49:16.657Z"
   },
   {
    "duration": 147,
    "start_time": "2022-03-15T18:49:17.267Z"
   },
   {
    "duration": 39,
    "start_time": "2022-03-15T18:49:17.417Z"
   },
   {
    "duration": 24,
    "start_time": "2022-03-15T18:49:17.459Z"
   },
   {
    "duration": 39,
    "start_time": "2022-03-15T18:49:17.486Z"
   },
   {
    "duration": 13,
    "start_time": "2022-03-15T18:49:17.555Z"
   },
   {
    "duration": 62,
    "start_time": "2022-03-15T18:49:17.598Z"
   },
   {
    "duration": 29,
    "start_time": "2022-03-15T18:49:17.693Z"
   },
   {
    "duration": 192,
    "start_time": "2022-03-15T18:49:17.843Z"
   },
   {
    "duration": 186,
    "start_time": "2022-03-15T18:49:18.051Z"
   },
   {
    "duration": 16,
    "start_time": "2022-03-15T18:49:18.253Z"
   },
   {
    "duration": 97,
    "start_time": "2022-03-15T18:49:18.273Z"
   },
   {
    "duration": 15,
    "start_time": "2022-03-15T18:49:18.372Z"
   },
   {
    "duration": 29,
    "start_time": "2022-03-15T18:49:18.389Z"
   },
   {
    "duration": 45,
    "start_time": "2022-03-15T18:49:18.460Z"
   },
   {
    "duration": 46,
    "start_time": "2022-03-15T18:49:18.508Z"
   },
   {
    "duration": 11709,
    "start_time": "2022-03-15T18:49:18.590Z"
   },
   {
    "duration": 2092,
    "start_time": "2022-03-15T18:49:30.304Z"
   },
   {
    "duration": 90,
    "start_time": "2022-03-15T18:52:06.321Z"
   },
   {
    "duration": 65,
    "start_time": "2022-03-15T18:52:19.232Z"
   },
   {
    "duration": 61,
    "start_time": "2022-03-15T18:52:23.439Z"
   },
   {
    "duration": 8504,
    "start_time": "2022-03-15T19:02:35.810Z"
   },
   {
    "duration": 8708,
    "start_time": "2022-03-15T19:02:59.085Z"
   },
   {
    "duration": 25,
    "start_time": "2022-03-15T19:04:52.944Z"
   },
   {
    "duration": 1556,
    "start_time": "2022-03-15T19:14:10.103Z"
   },
   {
    "duration": 1501,
    "start_time": "2022-03-15T19:14:15.671Z"
   },
   {
    "duration": 1507,
    "start_time": "2022-03-15T19:19:20.392Z"
   },
   {
    "duration": 3,
    "start_time": "2022-03-15T19:19:21.903Z"
   },
   {
    "duration": 55,
    "start_time": "2022-03-15T19:19:21.910Z"
   },
   {
    "duration": 9255,
    "start_time": "2022-03-15T19:19:28.549Z"
   },
   {
    "duration": 9299,
    "start_time": "2022-03-15T19:21:24.633Z"
   },
   {
    "duration": 9278,
    "start_time": "2022-03-15T19:25:03.429Z"
   },
   {
    "duration": 321,
    "start_time": "2022-03-15T19:26:04.249Z"
   },
   {
    "duration": 498,
    "start_time": "2022-03-15T19:26:20.177Z"
   },
   {
    "duration": 4,
    "start_time": "2022-03-15T19:26:30.274Z"
   },
   {
    "duration": 112,
    "start_time": "2022-03-15T19:26:30.879Z"
   },
   {
    "duration": 28,
    "start_time": "2022-03-15T19:26:30.994Z"
   },
   {
    "duration": 47,
    "start_time": "2022-03-15T19:26:31.025Z"
   },
   {
    "duration": 25,
    "start_time": "2022-03-15T19:26:31.100Z"
   },
   {
    "duration": 13,
    "start_time": "2022-03-15T19:26:31.165Z"
   },
   {
    "duration": 54,
    "start_time": "2022-03-15T19:26:31.213Z"
   },
   {
    "duration": 75,
    "start_time": "2022-03-15T19:26:31.309Z"
   },
   {
    "duration": 147,
    "start_time": "2022-03-15T19:26:31.437Z"
   },
   {
    "duration": 177,
    "start_time": "2022-03-15T19:26:31.587Z"
   },
   {
    "duration": 14,
    "start_time": "2022-03-15T19:26:32.005Z"
   },
   {
    "duration": 86,
    "start_time": "2022-03-15T19:26:32.852Z"
   },
   {
    "duration": 18,
    "start_time": "2022-03-15T19:26:33.572Z"
   },
   {
    "duration": 38,
    "start_time": "2022-03-15T19:26:34.752Z"
   },
   {
    "duration": 44,
    "start_time": "2022-03-15T19:26:36.641Z"
   },
   {
    "duration": 23,
    "start_time": "2022-03-15T19:26:36.994Z"
   },
   {
    "duration": 8332,
    "start_time": "2022-03-15T19:26:38.817Z"
   },
   {
    "duration": 1505,
    "start_time": "2022-03-15T19:26:47.152Z"
   },
   {
    "duration": 8,
    "start_time": "2022-03-15T19:26:48.660Z"
   },
   {
    "duration": 25,
    "start_time": "2022-03-15T19:26:48.670Z"
   },
   {
    "duration": 8614,
    "start_time": "2022-03-15T19:26:51.299Z"
   },
   {
    "duration": 57,
    "start_time": "2022-03-15T19:26:59.915Z"
   },
   {
    "duration": -1091,
    "start_time": "2022-03-15T19:27:01.065Z"
   },
   {
    "duration": 476,
    "start_time": "2022-03-15T19:28:50.420Z"
   },
   {
    "duration": 4,
    "start_time": "2022-03-15T19:29:10.305Z"
   },
   {
    "duration": 104,
    "start_time": "2022-03-15T19:29:10.904Z"
   },
   {
    "duration": 26,
    "start_time": "2022-03-15T19:29:11.014Z"
   },
   {
    "duration": 28,
    "start_time": "2022-03-15T19:29:11.050Z"
   },
   {
    "duration": 25,
    "start_time": "2022-03-15T19:29:11.114Z"
   },
   {
    "duration": 14,
    "start_time": "2022-03-15T19:29:11.170Z"
   },
   {
    "duration": 56,
    "start_time": "2022-03-15T19:29:11.241Z"
   },
   {
    "duration": 74,
    "start_time": "2022-03-15T19:29:11.345Z"
   },
   {
    "duration": 149,
    "start_time": "2022-03-15T19:29:11.471Z"
   },
   {
    "duration": 190,
    "start_time": "2022-03-15T19:29:11.623Z"
   },
   {
    "duration": 35,
    "start_time": "2022-03-15T19:29:11.817Z"
   },
   {
    "duration": 58,
    "start_time": "2022-03-15T19:29:11.855Z"
   },
   {
    "duration": 35,
    "start_time": "2022-03-15T19:29:11.916Z"
   },
   {
    "duration": 34,
    "start_time": "2022-03-15T19:29:11.956Z"
   },
   {
    "duration": 47,
    "start_time": "2022-03-15T19:29:12.065Z"
   },
   {
    "duration": 23,
    "start_time": "2022-03-15T19:29:12.164Z"
   },
   {
    "duration": 8647,
    "start_time": "2022-03-15T19:29:12.275Z"
   },
   {
    "duration": 1553,
    "start_time": "2022-03-15T19:29:20.925Z"
   },
   {
    "duration": 5,
    "start_time": "2022-03-15T19:29:22.481Z"
   },
   {
    "duration": 24,
    "start_time": "2022-03-15T19:29:22.488Z"
   },
   {
    "duration": 9280,
    "start_time": "2022-03-15T19:29:22.514Z"
   },
   {
    "duration": 64,
    "start_time": "2022-03-15T19:29:31.796Z"
   },
   {
    "duration": -1094,
    "start_time": "2022-03-15T19:29:32.957Z"
   },
   {
    "duration": -1094,
    "start_time": "2022-03-15T19:29:32.959Z"
   },
   {
    "duration": 485,
    "start_time": "2022-03-15T19:30:23.464Z"
   },
   {
    "duration": 174,
    "start_time": "2022-03-15T19:30:46.912Z"
   },
   {
    "duration": 484,
    "start_time": "2022-03-15T19:31:10.342Z"
   },
   {
    "duration": 4,
    "start_time": "2022-03-15T19:31:18.080Z"
   },
   {
    "duration": 112,
    "start_time": "2022-03-15T19:31:18.687Z"
   },
   {
    "duration": 27,
    "start_time": "2022-03-15T19:31:18.801Z"
   },
   {
    "duration": 35,
    "start_time": "2022-03-15T19:31:18.831Z"
   },
   {
    "duration": 25,
    "start_time": "2022-03-15T19:31:18.879Z"
   },
   {
    "duration": 16,
    "start_time": "2022-03-15T19:31:18.966Z"
   },
   {
    "duration": 53,
    "start_time": "2022-03-15T19:31:19.020Z"
   },
   {
    "duration": 76,
    "start_time": "2022-03-15T19:31:19.114Z"
   },
   {
    "duration": 156,
    "start_time": "2022-03-15T19:31:19.241Z"
   },
   {
    "duration": 187,
    "start_time": "2022-03-15T19:31:19.400Z"
   },
   {
    "duration": 12,
    "start_time": "2022-03-15T19:31:19.590Z"
   },
   {
    "duration": 88,
    "start_time": "2022-03-15T19:31:19.604Z"
   },
   {
    "duration": 14,
    "start_time": "2022-03-15T19:31:19.695Z"
   },
   {
    "duration": 50,
    "start_time": "2022-03-15T19:31:19.712Z"
   },
   {
    "duration": 48,
    "start_time": "2022-03-15T19:31:19.834Z"
   },
   {
    "duration": 24,
    "start_time": "2022-03-15T19:31:19.884Z"
   },
   {
    "duration": 8169,
    "start_time": "2022-03-15T19:31:20.043Z"
   },
   {
    "duration": 1564,
    "start_time": "2022-03-15T19:31:28.214Z"
   },
   {
    "duration": 4,
    "start_time": "2022-03-15T19:31:29.781Z"
   },
   {
    "duration": 30,
    "start_time": "2022-03-15T19:31:29.787Z"
   },
   {
    "duration": 8924,
    "start_time": "2022-03-15T19:31:29.820Z"
   },
   {
    "duration": 562,
    "start_time": "2022-03-15T19:31:38.747Z"
   },
   {
    "duration": 5,
    "start_time": "2022-03-15T19:34:06.781Z"
   },
   {
    "duration": 111,
    "start_time": "2022-03-15T19:34:07.384Z"
   },
   {
    "duration": 26,
    "start_time": "2022-03-15T19:34:07.497Z"
   },
   {
    "duration": 44,
    "start_time": "2022-03-15T19:34:07.530Z"
   },
   {
    "duration": 25,
    "start_time": "2022-03-15T19:34:07.586Z"
   },
   {
    "duration": 13,
    "start_time": "2022-03-15T19:34:07.655Z"
   },
   {
    "duration": 54,
    "start_time": "2022-03-15T19:34:07.714Z"
   },
   {
    "duration": 77,
    "start_time": "2022-03-15T19:34:07.815Z"
   },
   {
    "duration": 133,
    "start_time": "2022-03-15T19:34:07.964Z"
   },
   {
    "duration": 181,
    "start_time": "2022-03-15T19:34:08.100Z"
   },
   {
    "duration": 14,
    "start_time": "2022-03-15T19:34:10.716Z"
   },
   {
    "duration": 61,
    "start_time": "2022-03-15T19:34:11.309Z"
   },
   {
    "duration": 63,
    "start_time": "2022-03-15T19:37:00.100Z"
   },
   {
    "duration": 64,
    "start_time": "2022-03-15T19:37:10.736Z"
   },
   {
    "duration": 21,
    "start_time": "2022-03-15T19:37:17.551Z"
   },
   {
    "duration": 30,
    "start_time": "2022-03-15T19:37:17.611Z"
   },
   {
    "duration": 60,
    "start_time": "2022-03-15T19:37:17.738Z"
   },
   {
    "duration": 35,
    "start_time": "2022-03-15T19:37:17.801Z"
   },
   {
    "duration": 9192,
    "start_time": "2022-03-15T19:37:17.946Z"
   },
   {
    "duration": 1530,
    "start_time": "2022-03-15T19:37:27.140Z"
   },
   {
    "duration": 3,
    "start_time": "2022-03-15T19:37:28.673Z"
   },
   {
    "duration": 24,
    "start_time": "2022-03-15T19:37:28.679Z"
   },
   {
    "duration": 9804,
    "start_time": "2022-03-15T19:37:28.705Z"
   },
   {
    "duration": 4826,
    "start_time": "2022-03-15T19:37:38.512Z"
   },
   {
    "duration": 614,
    "start_time": "2022-03-15T19:37:43.341Z"
   },
   {
    "duration": 1996,
    "start_time": "2022-03-15T19:37:43.965Z"
   },
   {
    "duration": 1921,
    "start_time": "2022-03-15T19:38:29.088Z"
   },
   {
    "duration": 4,
    "start_time": "2022-03-15T19:39:18.827Z"
   },
   {
    "duration": 129,
    "start_time": "2022-03-15T19:39:19.439Z"
   },
   {
    "duration": 27,
    "start_time": "2022-03-15T19:39:19.571Z"
   },
   {
    "duration": 22,
    "start_time": "2022-03-15T19:39:19.601Z"
   },
   {
    "duration": 42,
    "start_time": "2022-03-15T19:39:19.638Z"
   },
   {
    "duration": 12,
    "start_time": "2022-03-15T19:39:19.703Z"
   },
   {
    "duration": 131,
    "start_time": "2022-03-15T19:39:19.768Z"
   },
   {
    "duration": 89,
    "start_time": "2022-03-15T19:39:19.901Z"
   },
   {
    "duration": 170,
    "start_time": "2022-03-15T19:39:19.993Z"
   },
   {
    "duration": 174,
    "start_time": "2022-03-15T19:39:20.190Z"
   },
   {
    "duration": 13,
    "start_time": "2022-03-15T19:39:20.367Z"
   },
   {
    "duration": 90,
    "start_time": "2022-03-15T19:39:20.382Z"
   },
   {
    "duration": 15,
    "start_time": "2022-03-15T19:39:20.475Z"
   },
   {
    "duration": 29,
    "start_time": "2022-03-15T19:39:20.492Z"
   },
   {
    "duration": 43,
    "start_time": "2022-03-15T19:39:20.585Z"
   },
   {
    "duration": 22,
    "start_time": "2022-03-15T19:39:20.631Z"
   },
   {
    "duration": 8016,
    "start_time": "2022-03-15T19:39:20.792Z"
   },
   {
    "duration": 1474,
    "start_time": "2022-03-15T19:39:28.811Z"
   },
   {
    "duration": 3,
    "start_time": "2022-03-15T19:39:30.288Z"
   },
   {
    "duration": 23,
    "start_time": "2022-03-15T19:39:30.293Z"
   },
   {
    "duration": 9050,
    "start_time": "2022-03-15T19:39:30.319Z"
   },
   {
    "duration": 1575,
    "start_time": "2022-03-15T19:39:39.371Z"
   },
   {
    "duration": 378,
    "start_time": "2022-03-15T19:39:40.951Z"
   },
   {
    "duration": 1943,
    "start_time": "2022-03-15T19:39:41.332Z"
   },
   {
    "duration": 8809,
    "start_time": "2022-03-15T19:40:20.705Z"
   },
   {
    "duration": 1525,
    "start_time": "2022-03-15T19:45:48.604Z"
   },
   {
    "duration": 178,
    "start_time": "2022-03-15T19:45:56.744Z"
   },
   {
    "duration": 552,
    "start_time": "2022-03-15T19:46:17.214Z"
   },
   {
    "duration": 79,
    "start_time": "2022-03-15T19:48:37.961Z"
   },
   {
    "duration": 788,
    "start_time": "2022-03-15T19:48:52.810Z"
   },
   {
    "duration": 551,
    "start_time": "2022-03-15T19:49:08.816Z"
   },
   {
    "duration": 674,
    "start_time": "2022-03-15T19:50:16.057Z"
   },
   {
    "duration": 183,
    "start_time": "2022-03-15T19:52:44.787Z"
   },
   {
    "duration": 391,
    "start_time": "2022-03-15T19:53:05.463Z"
   },
   {
    "duration": 1884,
    "start_time": "2022-03-15T19:54:07.593Z"
   },
   {
    "duration": 1784,
    "start_time": "2022-03-15T19:55:08.405Z"
   },
   {
    "duration": 1932,
    "start_time": "2022-03-15T19:57:46.987Z"
   },
   {
    "duration": 2042,
    "start_time": "2022-03-15T19:59:52.409Z"
   },
   {
    "duration": 1979,
    "start_time": "2022-03-15T20:00:13.716Z"
   },
   {
    "duration": 1829,
    "start_time": "2022-03-15T20:00:23.976Z"
   },
   {
    "duration": 1823,
    "start_time": "2022-03-15T20:00:43.428Z"
   },
   {
    "duration": 1896,
    "start_time": "2022-03-15T20:01:12.581Z"
   },
   {
    "duration": 1804,
    "start_time": "2022-03-15T20:05:05.482Z"
   },
   {
    "duration": 1906,
    "start_time": "2022-03-15T20:05:45.186Z"
   },
   {
    "duration": 2002,
    "start_time": "2022-03-15T20:06:45.348Z"
   },
   {
    "duration": 1906,
    "start_time": "2022-03-15T20:07:21.751Z"
   },
   {
    "duration": 2014,
    "start_time": "2022-03-15T20:08:40.338Z"
   },
   {
    "duration": 1988,
    "start_time": "2022-03-15T20:10:33.640Z"
   },
   {
    "duration": 1928,
    "start_time": "2022-03-15T20:11:35.409Z"
   },
   {
    "duration": 48,
    "start_time": "2022-03-15T20:26:12.695Z"
   },
   {
    "duration": 5,
    "start_time": "2022-03-15T20:26:34.458Z"
   },
   {
    "duration": 151,
    "start_time": "2022-03-15T20:26:35.067Z"
   },
   {
    "duration": 45,
    "start_time": "2022-03-15T20:26:35.221Z"
   },
   {
    "duration": 36,
    "start_time": "2022-03-15T20:26:35.270Z"
   },
   {
    "duration": 35,
    "start_time": "2022-03-15T20:26:36.711Z"
   },
   {
    "duration": 59,
    "start_time": "2022-03-15T20:28:01.548Z"
   },
   {
    "duration": 70,
    "start_time": "2022-03-15T20:28:13.371Z"
   },
   {
    "duration": 73,
    "start_time": "2022-03-15T20:28:22.408Z"
   },
   {
    "duration": 13,
    "start_time": "2022-03-15T20:29:14.117Z"
   },
   {
    "duration": 61,
    "start_time": "2022-03-15T20:29:14.652Z"
   },
   {
    "duration": 85,
    "start_time": "2022-03-15T20:29:14.767Z"
   },
   {
    "duration": 195,
    "start_time": "2022-03-15T20:29:14.892Z"
   },
   {
    "duration": 194,
    "start_time": "2022-03-15T20:29:15.090Z"
   },
   {
    "duration": 13,
    "start_time": "2022-03-15T20:29:15.287Z"
   },
   {
    "duration": 96,
    "start_time": "2022-03-15T20:29:15.303Z"
   },
   {
    "duration": 14,
    "start_time": "2022-03-15T20:29:15.402Z"
   },
   {
    "duration": 52,
    "start_time": "2022-03-15T20:29:15.419Z"
   },
   {
    "duration": 40,
    "start_time": "2022-03-15T20:29:15.488Z"
   },
   {
    "duration": 37,
    "start_time": "2022-03-15T20:29:15.531Z"
   },
   {
    "duration": 8103,
    "start_time": "2022-03-15T20:29:15.681Z"
   },
   {
    "duration": 1397,
    "start_time": "2022-03-15T20:29:23.788Z"
   },
   {
    "duration": 3,
    "start_time": "2022-03-15T20:29:25.188Z"
   },
   {
    "duration": 24,
    "start_time": "2022-03-15T20:29:25.194Z"
   },
   {
    "duration": 9046,
    "start_time": "2022-03-15T20:29:25.220Z"
   },
   {
    "duration": 604,
    "start_time": "2022-03-15T20:29:34.268Z"
   },
   {
    "duration": 418,
    "start_time": "2022-03-15T20:29:34.875Z"
   },
   {
    "duration": 1996,
    "start_time": "2022-03-15T20:29:35.296Z"
   },
   {
    "duration": 8849,
    "start_time": "2022-03-15T20:30:14.823Z"
   },
   {
    "duration": 10153,
    "start_time": "2022-03-15T20:31:10.384Z"
   },
   {
    "duration": 389,
    "start_time": "2022-03-15T20:31:58.650Z"
   },
   {
    "duration": 2066,
    "start_time": "2022-03-15T20:32:08.027Z"
   },
   {
    "duration": 56,
    "start_time": "2022-03-15T22:33:46.047Z"
   },
   {
    "duration": 64,
    "start_time": "2022-03-15T22:33:59.139Z"
   },
   {
    "duration": 197,
    "start_time": "2022-03-15T22:34:03.963Z"
   },
   {
    "duration": 661,
    "start_time": "2022-03-15T22:34:22.037Z"
   },
   {
    "duration": 129,
    "start_time": "2022-03-15T22:34:22.700Z"
   },
   {
    "duration": 20,
    "start_time": "2022-03-15T22:34:22.831Z"
   },
   {
    "duration": 18,
    "start_time": "2022-03-15T22:34:22.853Z"
   },
   {
    "duration": 25,
    "start_time": "2022-03-15T22:34:22.873Z"
   },
   {
    "duration": 10,
    "start_time": "2022-03-15T22:34:22.900Z"
   },
   {
    "duration": 61,
    "start_time": "2022-03-15T22:34:22.912Z"
   },
   {
    "duration": 67,
    "start_time": "2022-03-15T22:34:22.975Z"
   },
   {
    "duration": 110,
    "start_time": "2022-03-15T22:34:23.045Z"
   },
   {
    "duration": 122,
    "start_time": "2022-03-15T22:34:23.157Z"
   },
   {
    "duration": 10,
    "start_time": "2022-03-15T22:34:23.281Z"
   },
   {
    "duration": 62,
    "start_time": "2022-03-15T22:34:23.293Z"
   },
   {
    "duration": 9,
    "start_time": "2022-03-15T22:34:23.357Z"
   },
   {
    "duration": 17,
    "start_time": "2022-03-15T22:34:23.368Z"
   },
   {
    "duration": 57,
    "start_time": "2022-03-15T22:34:23.386Z"
   },
   {
    "duration": 14,
    "start_time": "2022-03-15T22:34:23.444Z"
   },
   {
    "duration": 4935,
    "start_time": "2022-03-15T22:34:23.459Z"
   },
   {
    "duration": 960,
    "start_time": "2022-03-15T22:34:28.396Z"
   },
   {
    "duration": 2,
    "start_time": "2022-03-15T22:34:29.358Z"
   },
   {
    "duration": 17,
    "start_time": "2022-03-15T22:34:29.362Z"
   },
   {
    "duration": 5356,
    "start_time": "2022-03-15T22:34:29.381Z"
   },
   {
    "duration": 376,
    "start_time": "2022-03-15T22:34:34.739Z"
   },
   {
    "duration": 348,
    "start_time": "2022-03-15T22:34:35.117Z"
   },
   {
    "duration": 1247,
    "start_time": "2022-03-15T22:34:35.467Z"
   },
   {
    "duration": 178,
    "start_time": "2022-03-15T22:34:36.716Z"
   },
   {
    "duration": 168,
    "start_time": "2022-03-15T22:35:09.648Z"
   },
   {
    "duration": 8972,
    "start_time": "2022-03-15T22:35:52.728Z"
   },
   {
    "duration": 8886,
    "start_time": "2022-03-15T22:36:07.365Z"
   },
   {
    "duration": 4,
    "start_time": "2022-03-15T22:44:41.937Z"
   },
   {
    "duration": 14,
    "start_time": "2022-03-15T22:44:53.402Z"
   },
   {
    "duration": 392,
    "start_time": "2022-03-15T22:46:13.724Z"
   },
   {
    "duration": 190,
    "start_time": "2022-03-15T22:46:30.576Z"
   },
   {
    "duration": 187,
    "start_time": "2022-03-15T22:46:52.799Z"
   },
   {
    "duration": 346,
    "start_time": "2022-03-16T14:00:05.689Z"
   },
   {
    "duration": 692,
    "start_time": "2022-03-16T14:00:15.283Z"
   },
   {
    "duration": 185,
    "start_time": "2022-03-16T14:00:15.977Z"
   },
   {
    "duration": 23,
    "start_time": "2022-03-16T14:00:16.164Z"
   },
   {
    "duration": 20,
    "start_time": "2022-03-16T14:00:16.189Z"
   },
   {
    "duration": 31,
    "start_time": "2022-03-16T14:00:16.211Z"
   },
   {
    "duration": 9,
    "start_time": "2022-03-16T14:00:16.243Z"
   },
   {
    "duration": 46,
    "start_time": "2022-03-16T14:00:16.254Z"
   },
   {
    "duration": 11,
    "start_time": "2022-03-16T14:08:13.316Z"
   },
   {
    "duration": 8,
    "start_time": "2022-03-16T14:10:32.081Z"
   },
   {
    "duration": 87,
    "start_time": "2022-03-16T14:12:17.164Z"
   },
   {
    "duration": 88,
    "start_time": "2022-03-16T14:12:33.229Z"
   },
   {
    "duration": 90,
    "start_time": "2022-03-16T14:12:54.463Z"
   },
   {
    "duration": 80,
    "start_time": "2022-03-16T14:13:30.688Z"
   },
   {
    "duration": 86,
    "start_time": "2022-03-16T14:13:44.449Z"
   },
   {
    "duration": 35,
    "start_time": "2022-03-16T14:15:54.370Z"
   },
   {
    "duration": 34,
    "start_time": "2022-03-16T14:15:58.687Z"
   },
   {
    "duration": 35,
    "start_time": "2022-03-16T14:28:57.320Z"
   },
   {
    "duration": 80,
    "start_time": "2022-03-16T14:34:36.792Z"
   },
   {
    "duration": 34,
    "start_time": "2022-03-16T14:34:49.664Z"
   },
   {
    "duration": 207,
    "start_time": "2022-03-16T14:35:37.266Z"
   },
   {
    "duration": 35,
    "start_time": "2022-03-16T14:35:41.505Z"
   },
   {
    "duration": 20,
    "start_time": "2022-03-16T14:38:51.530Z"
   },
   {
    "duration": 23,
    "start_time": "2022-03-16T14:40:39.282Z"
   },
   {
    "duration": 6624,
    "start_time": "2022-03-16T15:02:50.078Z"
   },
   {
    "duration": 73,
    "start_time": "2022-03-16T15:03:13.072Z"
   },
   {
    "duration": 90,
    "start_time": "2022-03-16T15:04:06.784Z"
   },
   {
    "duration": 3,
    "start_time": "2022-03-16T15:04:19.698Z"
   },
   {
    "duration": 101,
    "start_time": "2022-03-16T15:04:20.289Z"
   },
   {
    "duration": 22,
    "start_time": "2022-03-16T15:04:20.392Z"
   },
   {
    "duration": 22,
    "start_time": "2022-03-16T15:04:20.419Z"
   },
   {
    "duration": 22,
    "start_time": "2022-03-16T15:04:20.542Z"
   },
   {
    "duration": 8,
    "start_time": "2022-03-16T15:04:20.566Z"
   },
   {
    "duration": 34,
    "start_time": "2022-03-16T15:04:20.651Z"
   },
   {
    "duration": 22,
    "start_time": "2022-03-16T15:04:21.795Z"
   },
   {
    "duration": 71,
    "start_time": "2022-03-16T15:04:22.947Z"
   },
   {
    "duration": 78,
    "start_time": "2022-03-16T15:04:23.976Z"
   },
   {
    "duration": 3,
    "start_time": "2022-03-16T15:04:56.263Z"
   },
   {
    "duration": 90,
    "start_time": "2022-03-16T15:04:56.868Z"
   },
   {
    "duration": 21,
    "start_time": "2022-03-16T15:04:56.963Z"
   },
   {
    "duration": 17,
    "start_time": "2022-03-16T15:04:56.995Z"
   },
   {
    "duration": 23,
    "start_time": "2022-03-16T15:04:57.056Z"
   },
   {
    "duration": 7,
    "start_time": "2022-03-16T15:04:57.121Z"
   },
   {
    "duration": 35,
    "start_time": "2022-03-16T15:04:57.228Z"
   },
   {
    "duration": 22,
    "start_time": "2022-03-16T15:04:57.387Z"
   },
   {
    "duration": 89,
    "start_time": "2022-03-16T15:04:57.563Z"
   },
   {
    "duration": 85,
    "start_time": "2022-03-16T15:04:57.654Z"
   },
   {
    "duration": 92,
    "start_time": "2022-03-16T15:05:16.554Z"
   },
   {
    "duration": 103,
    "start_time": "2022-03-16T15:05:45.065Z"
   },
   {
    "duration": 51,
    "start_time": "2022-03-16T15:06:59.416Z"
   },
   {
    "duration": 30,
    "start_time": "2022-03-16T15:09:06.230Z"
   },
   {
    "duration": 19,
    "start_time": "2022-03-16T15:09:48.038Z"
   },
   {
    "duration": 3,
    "start_time": "2022-03-16T15:09:53.487Z"
   },
   {
    "duration": 111,
    "start_time": "2022-03-16T15:09:54.066Z"
   },
   {
    "duration": 21,
    "start_time": "2022-03-16T15:09:54.178Z"
   },
   {
    "duration": 17,
    "start_time": "2022-03-16T15:09:54.201Z"
   },
   {
    "duration": 23,
    "start_time": "2022-03-16T15:09:54.265Z"
   },
   {
    "duration": 7,
    "start_time": "2022-03-16T15:09:54.336Z"
   },
   {
    "duration": 36,
    "start_time": "2022-03-16T15:09:54.432Z"
   },
   {
    "duration": 22,
    "start_time": "2022-03-16T15:09:54.595Z"
   },
   {
    "duration": 21,
    "start_time": "2022-03-16T15:09:55.809Z"
   },
   {
    "duration": 87,
    "start_time": "2022-03-16T15:12:27.928Z"
   },
   {
    "duration": 28,
    "start_time": "2022-03-16T15:14:03.330Z"
   },
   {
    "duration": 80,
    "start_time": "2022-03-16T15:38:16.420Z"
   },
   {
    "duration": 271,
    "start_time": "2022-03-16T15:49:54.435Z"
   },
   {
    "duration": 3,
    "start_time": "2022-03-16T15:50:03.871Z"
   },
   {
    "duration": 95,
    "start_time": "2022-03-16T15:50:04.471Z"
   },
   {
    "duration": 23,
    "start_time": "2022-03-16T15:50:04.568Z"
   },
   {
    "duration": 17,
    "start_time": "2022-03-16T15:50:04.617Z"
   },
   {
    "duration": 22,
    "start_time": "2022-03-16T15:50:04.677Z"
   },
   {
    "duration": 7,
    "start_time": "2022-03-16T15:50:04.744Z"
   },
   {
    "duration": 38,
    "start_time": "2022-03-16T15:50:04.837Z"
   },
   {
    "duration": 21,
    "start_time": "2022-03-16T15:50:05.006Z"
   },
   {
    "duration": 22,
    "start_time": "2022-03-16T15:50:05.166Z"
   },
   {
    "duration": 27,
    "start_time": "2022-03-16T15:50:06.903Z"
   },
   {
    "duration": 12,
    "start_time": "2022-03-16T15:50:06.933Z"
   },
   {
    "duration": 36,
    "start_time": "2022-03-16T15:50:06.947Z"
   },
   {
    "duration": 11,
    "start_time": "2022-03-16T15:50:06.986Z"
   },
   {
    "duration": 51,
    "start_time": "2022-03-16T15:50:06.999Z"
   },
   {
    "duration": 10,
    "start_time": "2022-03-16T15:50:44.303Z"
   },
   {
    "duration": 6,
    "start_time": "2022-03-16T15:52:30.881Z"
   },
   {
    "duration": 7,
    "start_time": "2022-03-16T15:56:08.614Z"
   },
   {
    "duration": 46,
    "start_time": "2022-03-16T16:01:01.639Z"
   },
   {
    "duration": 34,
    "start_time": "2022-03-16T16:02:24.310Z"
   },
   {
    "duration": 15,
    "start_time": "2022-03-16T16:02:29.354Z"
   },
   {
    "duration": 2945,
    "start_time": "2022-03-16T16:15:56.776Z"
   },
   {
    "duration": 5545,
    "start_time": "2022-03-16T16:18:09.299Z"
   },
   {
    "duration": 1133,
    "start_time": "2022-03-16T16:21:49.147Z"
   },
   {
    "duration": 1112,
    "start_time": "2022-03-16T16:22:05.954Z"
   },
   {
    "duration": 296,
    "start_time": "2022-03-16T16:23:34.902Z"
   },
   {
    "duration": 263,
    "start_time": "2022-03-16T16:24:08.661Z"
   },
   {
    "duration": 3,
    "start_time": "2022-03-16T16:24:18.465Z"
   },
   {
    "duration": 16,
    "start_time": "2022-03-16T16:24:18.785Z"
   },
   {
    "duration": 5906,
    "start_time": "2022-03-16T16:24:21.312Z"
   },
   {
    "duration": 7378,
    "start_time": "2022-03-16T16:25:15.445Z"
   },
   {
    "duration": 5922,
    "start_time": "2022-03-16T16:25:48.588Z"
   },
   {
    "duration": 3249,
    "start_time": "2022-03-16T16:26:11.684Z"
   },
   {
    "duration": 3254,
    "start_time": "2022-03-16T16:27:34.054Z"
   },
   {
    "duration": 3537,
    "start_time": "2022-03-16T16:28:06.756Z"
   },
   {
    "duration": 3291,
    "start_time": "2022-03-16T16:34:58.386Z"
   },
   {
    "duration": 3356,
    "start_time": "2022-03-16T16:35:40.166Z"
   },
   {
    "duration": 3308,
    "start_time": "2022-03-16T16:36:22.791Z"
   },
   {
    "duration": 1327,
    "start_time": "2022-03-16T16:51:28.157Z"
   },
   {
    "duration": 1570,
    "start_time": "2022-03-16T16:51:52.684Z"
   },
   {
    "duration": 1494,
    "start_time": "2022-03-16T16:59:48.404Z"
   },
   {
    "duration": 1538,
    "start_time": "2022-03-16T17:00:02.053Z"
   },
   {
    "duration": 1406,
    "start_time": "2022-03-16T17:00:12.374Z"
   },
   {
    "duration": 1840,
    "start_time": "2022-03-16T17:03:21.134Z"
   },
   {
    "duration": 1662,
    "start_time": "2022-03-16T17:10:57.006Z"
   },
   {
    "duration": 2174,
    "start_time": "2022-03-16T17:11:28.819Z"
   },
   {
    "duration": 1015,
    "start_time": "2022-03-16T17:14:40.194Z"
   },
   {
    "duration": 950,
    "start_time": "2022-03-16T17:14:57.968Z"
   },
   {
    "duration": 1062,
    "start_time": "2022-03-16T17:15:55.921Z"
   },
   {
    "duration": 1625,
    "start_time": "2022-03-16T17:16:57.961Z"
   },
   {
    "duration": 1603,
    "start_time": "2022-03-16T17:17:27.704Z"
   },
   {
    "duration": 1609,
    "start_time": "2022-03-16T17:17:36.546Z"
   },
   {
    "duration": 1625,
    "start_time": "2022-03-16T17:17:43.790Z"
   },
   {
    "duration": 1093,
    "start_time": "2022-03-16T17:17:59.795Z"
   },
   {
    "duration": 1104,
    "start_time": "2022-03-16T17:18:39.199Z"
   },
   {
    "duration": 1080,
    "start_time": "2022-03-16T17:18:54.190Z"
   },
   {
    "duration": 2102,
    "start_time": "2022-03-16T17:19:26.580Z"
   },
   {
    "duration": 3873,
    "start_time": "2022-03-16T17:20:03.826Z"
   },
   {
    "duration": 3699,
    "start_time": "2022-03-16T17:20:54.547Z"
   },
   {
    "duration": 1759,
    "start_time": "2022-03-16T17:21:26.148Z"
   },
   {
    "duration": 7914,
    "start_time": "2022-03-16T17:24:33.641Z"
   },
   {
    "duration": 1776,
    "start_time": "2022-03-16T17:25:19.065Z"
   },
   {
    "duration": 1858,
    "start_time": "2022-03-16T17:27:10.240Z"
   },
   {
    "duration": 1462,
    "start_time": "2022-03-16T17:27:58.178Z"
   },
   {
    "duration": 7973,
    "start_time": "2022-03-16T17:28:50.451Z"
   },
   {
    "duration": 1534,
    "start_time": "2022-03-16T17:29:06.030Z"
   },
   {
    "duration": 1843,
    "start_time": "2022-03-16T17:29:46.033Z"
   },
   {
    "duration": 1889,
    "start_time": "2022-03-16T17:30:08.161Z"
   },
   {
    "duration": 3461,
    "start_time": "2022-03-16T17:32:31.299Z"
   },
   {
    "duration": 280,
    "start_time": "2022-03-16T17:34:28.132Z"
   },
   {
    "duration": 2017,
    "start_time": "2022-03-16T17:34:46.926Z"
   },
   {
    "duration": 4858,
    "start_time": "2022-03-16T17:35:00.082Z"
   },
   {
    "duration": 446,
    "start_time": "2022-03-16T17:35:24.916Z"
   },
   {
    "duration": 336,
    "start_time": "2022-03-16T17:35:50.307Z"
   },
   {
    "duration": 325,
    "start_time": "2022-03-16T17:36:55.362Z"
   },
   {
    "duration": 3596,
    "start_time": "2022-03-16T17:37:23.861Z"
   },
   {
    "duration": 591,
    "start_time": "2022-03-16T17:39:39.554Z"
   },
   {
    "duration": 942,
    "start_time": "2022-03-16T17:40:15.111Z"
   },
   {
    "duration": 1303,
    "start_time": "2022-03-16T17:41:33.904Z"
   },
   {
    "duration": 1251,
    "start_time": "2022-03-16T17:41:54.317Z"
   },
   {
    "duration": 1891,
    "start_time": "2022-03-16T17:42:34.529Z"
   },
   {
    "duration": 1276,
    "start_time": "2022-03-16T17:42:42.044Z"
   },
   {
    "duration": 505,
    "start_time": "2022-03-16T17:45:14.332Z"
   },
   {
    "duration": 115,
    "start_time": "2022-03-16T17:45:14.931Z"
   },
   {
    "duration": 23,
    "start_time": "2022-03-16T17:45:15.049Z"
   },
   {
    "duration": 21,
    "start_time": "2022-03-16T17:45:15.074Z"
   },
   {
    "duration": 24,
    "start_time": "2022-03-16T17:45:15.130Z"
   },
   {
    "duration": 8,
    "start_time": "2022-03-16T17:45:15.193Z"
   },
   {
    "duration": 36,
    "start_time": "2022-03-16T17:45:15.291Z"
   },
   {
    "duration": 21,
    "start_time": "2022-03-16T17:45:15.462Z"
   },
   {
    "duration": 22,
    "start_time": "2022-03-16T17:45:15.637Z"
   },
   {
    "duration": 26,
    "start_time": "2022-03-16T17:45:15.827Z"
   },
   {
    "duration": 14,
    "start_time": "2022-03-16T17:45:16.025Z"
   },
   {
    "duration": 39,
    "start_time": "2022-03-16T17:45:16.089Z"
   },
   {
    "duration": 7,
    "start_time": "2022-03-16T17:45:16.227Z"
   },
   {
    "duration": 27,
    "start_time": "2022-03-16T17:45:16.336Z"
   },
   {
    "duration": 39,
    "start_time": "2022-03-16T17:45:16.443Z"
   },
   {
    "duration": 15,
    "start_time": "2022-03-16T17:45:16.526Z"
   },
   {
    "duration": 5912,
    "start_time": "2022-03-16T17:45:16.680Z"
   },
   {
    "duration": 1139,
    "start_time": "2022-03-16T17:45:22.594Z"
   },
   {
    "duration": 2,
    "start_time": "2022-03-16T17:45:23.735Z"
   },
   {
    "duration": 19,
    "start_time": "2022-03-16T17:45:23.739Z"
   },
   {
    "duration": 3363,
    "start_time": "2022-03-16T17:45:23.760Z"
   },
   {
    "duration": 434,
    "start_time": "2022-03-16T17:45:27.125Z"
   },
   {
    "duration": 297,
    "start_time": "2022-03-16T17:45:27.561Z"
   },
   {
    "duration": 97,
    "start_time": "2022-03-16T17:46:48.625Z"
   },
   {
    "duration": 3250,
    "start_time": "2022-03-16T17:49:08.172Z"
   },
   {
    "duration": 3205,
    "start_time": "2022-03-16T17:49:55.270Z"
   },
   {
    "duration": 1083,
    "start_time": "2022-03-16T17:50:49.228Z"
   },
   {
    "duration": 1080,
    "start_time": "2022-03-16T17:51:21.052Z"
   },
   {
    "duration": 84,
    "start_time": "2022-03-16T17:54:38.036Z"
   },
   {
    "duration": 1245,
    "start_time": "2022-03-16T17:54:43.604Z"
   },
   {
    "duration": 2065,
    "start_time": "2022-03-16T17:56:29.163Z"
   },
   {
    "duration": 1872,
    "start_time": "2022-03-16T17:56:54.921Z"
   },
   {
    "duration": 7631,
    "start_time": "2022-03-16T17:58:39.385Z"
   },
   {
    "duration": 1724,
    "start_time": "2022-03-16T17:59:55.200Z"
   },
   {
    "duration": 1766,
    "start_time": "2022-03-16T18:00:12.796Z"
   },
   {
    "duration": 1669,
    "start_time": "2022-03-16T18:01:20.580Z"
   },
   {
    "duration": 1792,
    "start_time": "2022-03-16T18:03:06.529Z"
   },
   {
    "duration": 1723,
    "start_time": "2022-03-16T18:08:36.901Z"
   },
   {
    "duration": 289,
    "start_time": "2022-03-16T18:14:32.394Z"
   },
   {
    "duration": 262,
    "start_time": "2022-03-16T18:14:58.214Z"
   },
   {
    "duration": 1831,
    "start_time": "2022-03-16T18:15:10.601Z"
   },
   {
    "duration": 266,
    "start_time": "2022-03-16T18:17:02.396Z"
   },
   {
    "duration": 1672,
    "start_time": "2022-03-16T18:17:10.089Z"
   },
   {
    "duration": 368,
    "start_time": "2022-03-16T18:18:55.245Z"
   },
   {
    "duration": 274,
    "start_time": "2022-03-16T18:19:50.077Z"
   },
   {
    "duration": 1768,
    "start_time": "2022-03-16T18:20:00.011Z"
   },
   {
    "duration": 367,
    "start_time": "2022-03-16T18:21:04.445Z"
   },
   {
    "duration": 277,
    "start_time": "2022-03-16T18:21:52.780Z"
   },
   {
    "duration": 324,
    "start_time": "2022-03-16T18:22:00.746Z"
   },
   {
    "duration": 344,
    "start_time": "2022-03-16T18:22:31.805Z"
   },
   {
    "duration": 291,
    "start_time": "2022-03-16T18:22:48.695Z"
   },
   {
    "duration": 324,
    "start_time": "2022-03-16T18:23:00.971Z"
   },
   {
    "duration": 13841,
    "start_time": "2022-03-16T18:23:21.280Z"
   },
   {
    "duration": 14088,
    "start_time": "2022-03-16T18:23:50.205Z"
   },
   {
    "duration": 14254,
    "start_time": "2022-03-16T18:26:11.966Z"
   },
   {
    "duration": 14739,
    "start_time": "2022-03-16T18:26:50.681Z"
   },
   {
    "duration": 14345,
    "start_time": "2022-03-16T18:27:15.626Z"
   },
   {
    "duration": 274,
    "start_time": "2022-03-16T18:28:57.410Z"
   },
   {
    "duration": 270,
    "start_time": "2022-03-16T18:29:12.204Z"
   },
   {
    "duration": 277,
    "start_time": "2022-03-16T18:29:27.420Z"
   },
   {
    "duration": 14184,
    "start_time": "2022-03-16T18:29:43.979Z"
   },
   {
    "duration": 14169,
    "start_time": "2022-03-16T18:30:08.449Z"
   },
   {
    "duration": 14136,
    "start_time": "2022-03-16T18:30:42.718Z"
   },
   {
    "duration": 14334,
    "start_time": "2022-03-16T18:31:31.927Z"
   },
   {
    "duration": 14428,
    "start_time": "2022-03-16T18:31:48.211Z"
   },
   {
    "duration": 14954,
    "start_time": "2022-03-16T18:32:12.578Z"
   },
   {
    "duration": 14765,
    "start_time": "2022-03-16T18:32:47.659Z"
   },
   {
    "duration": 15008,
    "start_time": "2022-03-16T18:34:00.146Z"
   },
   {
    "duration": 15111,
    "start_time": "2022-03-16T18:34:38.605Z"
   },
   {
    "duration": 26869,
    "start_time": "2022-03-16T18:35:48.026Z"
   },
   {
    "duration": 7686,
    "start_time": "2022-03-16T18:37:09.367Z"
   },
   {
    "duration": 21252,
    "start_time": "2022-03-16T18:40:13.778Z"
   },
   {
    "duration": 3,
    "start_time": "2022-03-16T18:41:19.553Z"
   },
   {
    "duration": 103,
    "start_time": "2022-03-16T18:41:20.143Z"
   },
   {
    "duration": 23,
    "start_time": "2022-03-16T18:41:20.251Z"
   },
   {
    "duration": 18,
    "start_time": "2022-03-16T18:41:20.287Z"
   },
   {
    "duration": 22,
    "start_time": "2022-03-16T18:41:20.347Z"
   },
   {
    "duration": 8,
    "start_time": "2022-03-16T18:41:20.411Z"
   },
   {
    "duration": 35,
    "start_time": "2022-03-16T18:41:20.526Z"
   },
   {
    "duration": 21,
    "start_time": "2022-03-16T18:41:20.675Z"
   },
   {
    "duration": 23,
    "start_time": "2022-03-16T18:41:20.837Z"
   },
   {
    "duration": 31,
    "start_time": "2022-03-16T18:41:21.044Z"
   },
   {
    "duration": 12,
    "start_time": "2022-03-16T18:41:21.245Z"
   },
   {
    "duration": 38,
    "start_time": "2022-03-16T18:41:21.308Z"
   },
   {
    "duration": 7,
    "start_time": "2022-03-16T18:41:21.436Z"
   },
   {
    "duration": 28,
    "start_time": "2022-03-16T18:41:21.532Z"
   },
   {
    "duration": 52,
    "start_time": "2022-03-16T18:41:21.675Z"
   },
   {
    "duration": 25,
    "start_time": "2022-03-16T18:41:21.743Z"
   },
   {
    "duration": 6161,
    "start_time": "2022-03-16T18:41:21.904Z"
   },
   {
    "duration": 1178,
    "start_time": "2022-03-16T18:41:28.067Z"
   },
   {
    "duration": 3,
    "start_time": "2022-03-16T18:41:29.247Z"
   },
   {
    "duration": 19,
    "start_time": "2022-03-16T18:41:29.252Z"
   },
   {
    "duration": 3490,
    "start_time": "2022-03-16T18:41:29.273Z"
   },
   {
    "duration": 446,
    "start_time": "2022-03-16T18:41:32.765Z"
   },
   {
    "duration": 290,
    "start_time": "2022-03-16T18:41:33.213Z"
   },
   {
    "duration": 6944,
    "start_time": "2022-03-16T18:41:33.505Z"
   },
   {
    "duration": 7181,
    "start_time": "2022-03-16T18:42:03.266Z"
   },
   {
    "duration": -265,
    "start_time": "2022-03-16T18:42:10.716Z"
   },
   {
    "duration": -266,
    "start_time": "2022-03-16T18:42:10.718Z"
   },
   {
    "duration": -265,
    "start_time": "2022-03-16T18:42:10.719Z"
   },
   {
    "duration": -265,
    "start_time": "2022-03-16T18:42:10.721Z"
   },
   {
    "duration": -265,
    "start_time": "2022-03-16T18:42:10.722Z"
   },
   {
    "duration": -264,
    "start_time": "2022-03-16T18:42:10.724Z"
   },
   {
    "duration": -264,
    "start_time": "2022-03-16T18:42:10.725Z"
   },
   {
    "duration": -263,
    "start_time": "2022-03-16T18:42:10.726Z"
   },
   {
    "duration": -264,
    "start_time": "2022-03-16T18:42:10.728Z"
   },
   {
    "duration": -263,
    "start_time": "2022-03-16T18:42:10.729Z"
   },
   {
    "duration": -263,
    "start_time": "2022-03-16T18:42:10.730Z"
   },
   {
    "duration": -262,
    "start_time": "2022-03-16T18:42:10.731Z"
   },
   {
    "duration": -262,
    "start_time": "2022-03-16T18:42:10.733Z"
   },
   {
    "duration": -273,
    "start_time": "2022-03-16T18:42:10.745Z"
   },
   {
    "duration": -272,
    "start_time": "2022-03-16T18:42:10.746Z"
   },
   {
    "duration": 59,
    "start_time": "2022-03-16T18:42:10.485Z"
   },
   {
    "duration": 6277,
    "start_time": "2022-03-16T18:42:10.638Z"
   },
   {
    "duration": 1178,
    "start_time": "2022-03-16T18:42:16.917Z"
   },
   {
    "duration": 3,
    "start_time": "2022-03-16T18:42:18.098Z"
   },
   {
    "duration": 39,
    "start_time": "2022-03-16T18:42:18.104Z"
   },
   {
    "duration": 3524,
    "start_time": "2022-03-16T18:42:18.146Z"
   },
   {
    "duration": 597,
    "start_time": "2022-03-16T18:42:21.672Z"
   },
   {
    "duration": 352,
    "start_time": "2022-03-16T18:42:22.272Z"
   },
   {
    "duration": 6672,
    "start_time": "2022-03-16T18:42:22.633Z"
   },
   {
    "duration": 5498,
    "start_time": "2022-03-16T18:43:08.429Z"
   },
   {
    "duration": 12641,
    "start_time": "2022-03-16T18:43:37.936Z"
   },
   {
    "duration": 3,
    "start_time": "2022-03-16T18:43:50.579Z"
   },
   {
    "duration": 148,
    "start_time": "2022-03-16T18:43:50.585Z"
   },
   {
    "duration": 26,
    "start_time": "2022-03-16T18:43:50.736Z"
   },
   {
    "duration": 25,
    "start_time": "2022-03-16T18:43:50.765Z"
   },
   {
    "duration": 58,
    "start_time": "2022-03-16T18:43:50.793Z"
   },
   {
    "duration": 9,
    "start_time": "2022-03-16T18:43:50.854Z"
   },
   {
    "duration": 39,
    "start_time": "2022-03-16T18:43:50.866Z"
   },
   {
    "duration": 47,
    "start_time": "2022-03-16T18:43:50.907Z"
   },
   {
    "duration": 30,
    "start_time": "2022-03-16T18:43:50.957Z"
   },
   {
    "duration": 43,
    "start_time": "2022-03-16T18:43:51.027Z"
   },
   {
    "duration": 12,
    "start_time": "2022-03-16T18:43:51.231Z"
   },
   {
    "duration": 36,
    "start_time": "2022-03-16T18:43:51.297Z"
   },
   {
    "duration": 7,
    "start_time": "2022-03-16T18:43:51.418Z"
   },
   {
    "duration": 28,
    "start_time": "2022-03-16T18:43:51.529Z"
   },
   {
    "duration": 40,
    "start_time": "2022-03-16T18:43:51.655Z"
   },
   {
    "duration": 17,
    "start_time": "2022-03-16T18:43:51.718Z"
   },
   {
    "duration": 6240,
    "start_time": "2022-03-16T18:43:51.893Z"
   },
   {
    "duration": 1157,
    "start_time": "2022-03-16T18:43:58.136Z"
   },
   {
    "duration": 3,
    "start_time": "2022-03-16T18:43:59.296Z"
   },
   {
    "duration": 36,
    "start_time": "2022-03-16T18:43:59.302Z"
   },
   {
    "duration": 3843,
    "start_time": "2022-03-16T18:43:59.340Z"
   },
   {
    "duration": 513,
    "start_time": "2022-03-16T18:44:03.186Z"
   },
   {
    "duration": 296,
    "start_time": "2022-03-16T18:44:03.701Z"
   },
   {
    "duration": 5,
    "start_time": "2022-03-16T18:44:37.135Z"
   },
   {
    "duration": 128,
    "start_time": "2022-03-16T18:44:37.744Z"
   },
   {
    "duration": 36,
    "start_time": "2022-03-16T18:44:37.874Z"
   },
   {
    "duration": 32,
    "start_time": "2022-03-16T18:44:37.912Z"
   },
   {
    "duration": 38,
    "start_time": "2022-03-16T18:44:37.947Z"
   },
   {
    "duration": 11,
    "start_time": "2022-03-16T18:44:37.994Z"
   },
   {
    "duration": 49,
    "start_time": "2022-03-16T18:44:38.109Z"
   },
   {
    "duration": 36,
    "start_time": "2022-03-16T18:44:38.262Z"
   },
   {
    "duration": 23,
    "start_time": "2022-03-16T18:44:38.439Z"
   },
   {
    "duration": 41,
    "start_time": "2022-03-16T18:44:38.624Z"
   },
   {
    "duration": 14,
    "start_time": "2022-03-16T18:44:38.825Z"
   },
   {
    "duration": 36,
    "start_time": "2022-03-16T18:44:38.888Z"
   },
   {
    "duration": 9,
    "start_time": "2022-03-16T18:44:39.026Z"
   },
   {
    "duration": 29,
    "start_time": "2022-03-16T18:44:39.141Z"
   },
   {
    "duration": 38,
    "start_time": "2022-03-16T18:44:39.259Z"
   },
   {
    "duration": 17,
    "start_time": "2022-03-16T18:44:39.323Z"
   },
   {
    "duration": 6082,
    "start_time": "2022-03-16T18:44:39.495Z"
   },
   {
    "duration": 1262,
    "start_time": "2022-03-16T18:44:45.579Z"
   },
   {
    "duration": 3,
    "start_time": "2022-03-16T18:44:46.844Z"
   },
   {
    "duration": 29,
    "start_time": "2022-03-16T18:44:46.850Z"
   },
   {
    "duration": 3699,
    "start_time": "2022-03-16T18:44:46.881Z"
   },
   {
    "duration": 452,
    "start_time": "2022-03-16T18:44:50.582Z"
   },
   {
    "duration": 308,
    "start_time": "2022-03-16T18:44:51.036Z"
   },
   {
    "duration": 2288,
    "start_time": "2022-03-16T18:44:51.347Z"
   },
   {
    "duration": 674,
    "start_time": "2022-03-16T18:48:23.645Z"
   },
   {
    "duration": 4,
    "start_time": "2022-03-16T18:49:11.312Z"
   },
   {
    "duration": 121,
    "start_time": "2022-03-16T18:49:11.900Z"
   },
   {
    "duration": 22,
    "start_time": "2022-03-16T18:49:12.023Z"
   },
   {
    "duration": 17,
    "start_time": "2022-03-16T18:49:12.047Z"
   },
   {
    "duration": 35,
    "start_time": "2022-03-16T18:49:12.090Z"
   },
   {
    "duration": 8,
    "start_time": "2022-03-16T18:49:12.181Z"
   },
   {
    "duration": 47,
    "start_time": "2022-03-16T18:49:12.266Z"
   },
   {
    "duration": 22,
    "start_time": "2022-03-16T18:49:12.423Z"
   },
   {
    "duration": 24,
    "start_time": "2022-03-16T18:49:12.596Z"
   },
   {
    "duration": 28,
    "start_time": "2022-03-16T18:49:12.786Z"
   },
   {
    "duration": 14,
    "start_time": "2022-03-16T18:49:12.987Z"
   },
   {
    "duration": 36,
    "start_time": "2022-03-16T18:49:13.049Z"
   },
   {
    "duration": 7,
    "start_time": "2022-03-16T18:49:13.176Z"
   },
   {
    "duration": 29,
    "start_time": "2022-03-16T18:49:13.291Z"
   },
   {
    "duration": 69,
    "start_time": "2022-03-16T18:49:13.415Z"
   },
   {
    "duration": 21,
    "start_time": "2022-03-16T18:49:13.486Z"
   },
   {
    "duration": 6070,
    "start_time": "2022-03-16T18:49:13.655Z"
   },
   {
    "duration": 1052,
    "start_time": "2022-03-16T18:49:19.728Z"
   },
   {
    "duration": 3,
    "start_time": "2022-03-16T18:49:20.782Z"
   },
   {
    "duration": 22,
    "start_time": "2022-03-16T18:49:20.787Z"
   },
   {
    "duration": 3518,
    "start_time": "2022-03-16T18:49:20.811Z"
   },
   {
    "duration": 448,
    "start_time": "2022-03-16T18:49:24.332Z"
   },
   {
    "duration": 287,
    "start_time": "2022-03-16T18:49:24.781Z"
   },
   {
    "duration": 6319,
    "start_time": "2022-03-16T18:49:25.071Z"
   },
   {
    "duration": 1860,
    "start_time": "2022-03-16T18:49:40.311Z"
   },
   {
    "duration": 3,
    "start_time": "2022-03-16T18:49:44.342Z"
   },
   {
    "duration": 113,
    "start_time": "2022-03-16T18:49:44.932Z"
   },
   {
    "duration": 22,
    "start_time": "2022-03-16T18:49:45.047Z"
   },
   {
    "duration": 17,
    "start_time": "2022-03-16T18:49:45.071Z"
   },
   {
    "duration": 23,
    "start_time": "2022-03-16T18:49:45.130Z"
   },
   {
    "duration": 8,
    "start_time": "2022-03-16T18:49:45.213Z"
   },
   {
    "duration": 37,
    "start_time": "2022-03-16T18:49:45.306Z"
   },
   {
    "duration": 23,
    "start_time": "2022-03-16T18:49:45.466Z"
   },
   {
    "duration": 24,
    "start_time": "2022-03-16T18:49:45.641Z"
   },
   {
    "duration": 27,
    "start_time": "2022-03-16T18:49:45.831Z"
   },
   {
    "duration": 14,
    "start_time": "2022-03-16T18:49:46.034Z"
   },
   {
    "duration": 39,
    "start_time": "2022-03-16T18:49:46.153Z"
   },
   {
    "duration": 7,
    "start_time": "2022-03-16T18:49:46.224Z"
   },
   {
    "duration": 28,
    "start_time": "2022-03-16T18:49:46.319Z"
   },
   {
    "duration": 39,
    "start_time": "2022-03-16T18:49:46.466Z"
   },
   {
    "duration": 17,
    "start_time": "2022-03-16T18:49:46.526Z"
   },
   {
    "duration": 6159,
    "start_time": "2022-03-16T18:49:46.688Z"
   },
   {
    "duration": 1064,
    "start_time": "2022-03-16T18:49:52.849Z"
   },
   {
    "duration": 3,
    "start_time": "2022-03-16T18:49:53.915Z"
   },
   {
    "duration": 20,
    "start_time": "2022-03-16T18:49:53.920Z"
   },
   {
    "duration": 3480,
    "start_time": "2022-03-16T18:49:53.942Z"
   },
   {
    "duration": 447,
    "start_time": "2022-03-16T18:49:57.424Z"
   },
   {
    "duration": 450,
    "start_time": "2022-03-16T18:49:57.873Z"
   },
   {
    "duration": 1963,
    "start_time": "2022-03-16T18:49:58.332Z"
   },
   {
    "duration": 1934,
    "start_time": "2022-03-16T18:50:29.485Z"
   },
   {
    "duration": 2164,
    "start_time": "2022-03-16T18:51:51.863Z"
   },
   {
    "duration": 857,
    "start_time": "2022-03-17T22:36:17.205Z"
   },
   {
    "duration": 565,
    "start_time": "2022-03-17T22:36:18.065Z"
   },
   {
    "duration": 25,
    "start_time": "2022-03-17T22:36:18.632Z"
   },
   {
    "duration": 23,
    "start_time": "2022-03-17T22:36:18.659Z"
   },
   {
    "duration": 24,
    "start_time": "2022-03-17T22:36:18.683Z"
   },
   {
    "duration": 7,
    "start_time": "2022-03-17T22:36:18.708Z"
   },
   {
    "duration": 46,
    "start_time": "2022-03-17T22:36:18.717Z"
   },
   {
    "duration": 23,
    "start_time": "2022-03-17T22:36:18.781Z"
   },
   {
    "duration": 1670,
    "start_time": "2022-03-17T22:36:18.806Z"
   },
   {
    "duration": 23,
    "start_time": "2022-03-17T22:36:20.478Z"
   },
   {
    "duration": 15,
    "start_time": "2022-03-17T22:36:20.503Z"
   },
   {
    "duration": 33,
    "start_time": "2022-03-17T22:36:20.520Z"
   },
   {
    "duration": 28,
    "start_time": "2022-03-17T22:36:20.554Z"
   },
   {
    "duration": 22,
    "start_time": "2022-03-17T22:36:20.583Z"
   },
   {
    "duration": 43,
    "start_time": "2022-03-17T22:36:20.607Z"
   },
   {
    "duration": 31,
    "start_time": "2022-03-17T22:36:20.651Z"
   },
   {
    "duration": 3308,
    "start_time": "2022-03-17T22:36:20.684Z"
   },
   {
    "duration": 808,
    "start_time": "2022-03-17T22:36:23.994Z"
   },
   {
    "duration": 2,
    "start_time": "2022-03-17T22:36:24.804Z"
   },
   {
    "duration": 14,
    "start_time": "2022-03-17T22:36:24.808Z"
   },
   {
    "duration": 1780,
    "start_time": "2022-03-17T22:36:24.824Z"
   },
   {
    "duration": 235,
    "start_time": "2022-03-17T22:36:26.606Z"
   },
   {
    "duration": 182,
    "start_time": "2022-03-17T22:36:26.843Z"
   },
   {
    "duration": 1877,
    "start_time": "2022-03-17T22:36:27.026Z"
   }
  ],
  "kernelspec": {
   "display_name": "Python 3",
   "language": "python",
   "name": "python3"
  },
  "language_info": {
   "codemirror_mode": {
    "name": "ipython",
    "version": 3
   },
   "file_extension": ".py",
   "mimetype": "text/x-python",
   "name": "python",
   "nbconvert_exporter": "python",
   "pygments_lexer": "ipython3",
   "version": "3.8.8"
  },
  "toc": {
   "base_numbering": 1,
   "nav_menu": {},
   "number_sections": true,
   "sideBar": true,
   "skip_h1_title": false,
   "title_cell": "Table of Contents",
   "title_sidebar": "Contents",
   "toc_cell": false,
   "toc_position": {
    "height": "calc(100% - 180px)",
    "left": "10px",
    "top": "150px",
    "width": "317px"
   },
   "toc_section_display": true,
   "toc_window_display": true
  }
 },
 "nbformat": 4,
 "nbformat_minor": 2
}
