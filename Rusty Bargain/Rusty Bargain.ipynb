{
 "cells": [
  {
   "cell_type": "markdown",
   "metadata": {},
   "source": [
    "Rusty Bargain used car sales service is developing an app to attract new customers. In that app, you can quickly find out the market value of your car. You have access to historical data: technical specifications, trim versions, and prices. You need to build the model to determine the value. \n",
    "\n",
    "Rusty Bargain is interested in:\n",
    "\n",
    "- the quality of the prediction;\n",
    "- the speed of the prediction;\n",
    "- the time required for training"
   ]
  },
  {
   "cell_type": "markdown",
   "metadata": {},
   "source": [
    "## Data preparation"
   ]
  },
  {
   "cell_type": "code",
   "execution_count": 106,
   "metadata": {},
   "outputs": [],
   "source": [
    "import math \n",
    "import numpy as np\n",
    "import pandas as pd\n",
    "import math #needed for later\n",
    "import seaborn as sns\n",
    "import time\n",
    "import statistics\n",
    "\n",
    "import lightgbm as lgb\n",
    "from catboost import CatBoostClassifier\n",
    "from sklearn.metrics import mean_squared_error\n",
    "import xgboost as xgb\n",
    "\n",
    "from sklearn.metrics import r2_score\n",
    "from sklearn.model_selection import cross_val_score\n",
    "\n",
    "from sklearn.preprocessing import StandardScaler\n",
    "from sklearn.linear_model import LinearRegression\n",
    "from sklearn.dummy import DummyRegressor\n",
    "import sklearn.linear_model\n",
    "import sklearn.metrics\n",
    "import sklearn.neighbors\n",
    "import sklearn.preprocessing\n",
    "from sklearn.preprocessing import OrdinalEncoder\n",
    "from sklearn.ensemble import RandomForestRegressor\n",
    "from sklearn.ensemble import RandomForestRegressor\n",
    "from sklearn.model_selection import train_test_split\n",
    "\n",
    "from IPython.display import display"
   ]
  },
  {
   "cell_type": "code",
   "execution_count": 107,
   "metadata": {},
   "outputs": [],
   "source": [
    "rb = pd.read_csv('/datasets/car_data.csv')"
   ]
  },
  {
   "cell_type": "code",
   "execution_count": 108,
   "metadata": {
    "scrolled": true
   },
   "outputs": [
    {
     "name": "stdout",
     "output_type": "stream",
     "text": [
      "<class 'pandas.core.frame.DataFrame'>\n",
      "RangeIndex: 354369 entries, 0 to 354368\n",
      "Data columns (total 16 columns):\n",
      " #   Column             Non-Null Count   Dtype \n",
      "---  ------             --------------   ----- \n",
      " 0   DateCrawled        354369 non-null  object\n",
      " 1   Price              354369 non-null  int64 \n",
      " 2   VehicleType        316879 non-null  object\n",
      " 3   RegistrationYear   354369 non-null  int64 \n",
      " 4   Gearbox            334536 non-null  object\n",
      " 5   Power              354369 non-null  int64 \n",
      " 6   Model              334664 non-null  object\n",
      " 7   Mileage            354369 non-null  int64 \n",
      " 8   RegistrationMonth  354369 non-null  int64 \n",
      " 9   FuelType           321474 non-null  object\n",
      " 10  Brand              354369 non-null  object\n",
      " 11  NotRepaired        283215 non-null  object\n",
      " 12  DateCreated        354369 non-null  object\n",
      " 13  NumberOfPictures   354369 non-null  int64 \n",
      " 14  PostalCode         354369 non-null  int64 \n",
      " 15  LastSeen           354369 non-null  object\n",
      "dtypes: int64(7), object(9)\n",
      "memory usage: 43.3+ MB\n"
     ]
    }
   ],
   "source": [
    "rb.info()"
   ]
  },
  {
   "cell_type": "code",
   "execution_count": 109,
   "metadata": {},
   "outputs": [
    {
     "data": {
      "text/html": [
       "<div>\n",
       "<style scoped>\n",
       "    .dataframe tbody tr th:only-of-type {\n",
       "        vertical-align: middle;\n",
       "    }\n",
       "\n",
       "    .dataframe tbody tr th {\n",
       "        vertical-align: top;\n",
       "    }\n",
       "\n",
       "    .dataframe thead th {\n",
       "        text-align: right;\n",
       "    }\n",
       "</style>\n",
       "<table border=\"1\" class=\"dataframe\">\n",
       "  <thead>\n",
       "    <tr style=\"text-align: right;\">\n",
       "      <th></th>\n",
       "      <th>Price</th>\n",
       "      <th>RegistrationYear</th>\n",
       "      <th>Power</th>\n",
       "      <th>Mileage</th>\n",
       "      <th>RegistrationMonth</th>\n",
       "      <th>NumberOfPictures</th>\n",
       "      <th>PostalCode</th>\n",
       "    </tr>\n",
       "  </thead>\n",
       "  <tbody>\n",
       "    <tr>\n",
       "      <th>Price</th>\n",
       "      <td>1.000000</td>\n",
       "      <td>0.026916</td>\n",
       "      <td>0.158872</td>\n",
       "      <td>-0.333199</td>\n",
       "      <td>0.110581</td>\n",
       "      <td>NaN</td>\n",
       "      <td>0.076055</td>\n",
       "    </tr>\n",
       "    <tr>\n",
       "      <th>RegistrationYear</th>\n",
       "      <td>0.026916</td>\n",
       "      <td>1.000000</td>\n",
       "      <td>-0.000828</td>\n",
       "      <td>-0.053447</td>\n",
       "      <td>-0.011619</td>\n",
       "      <td>NaN</td>\n",
       "      <td>-0.003459</td>\n",
       "    </tr>\n",
       "    <tr>\n",
       "      <th>Power</th>\n",
       "      <td>0.158872</td>\n",
       "      <td>-0.000828</td>\n",
       "      <td>1.000000</td>\n",
       "      <td>0.024002</td>\n",
       "      <td>0.043380</td>\n",
       "      <td>NaN</td>\n",
       "      <td>0.021665</td>\n",
       "    </tr>\n",
       "    <tr>\n",
       "      <th>Mileage</th>\n",
       "      <td>-0.333199</td>\n",
       "      <td>-0.053447</td>\n",
       "      <td>0.024002</td>\n",
       "      <td>1.000000</td>\n",
       "      <td>0.009571</td>\n",
       "      <td>NaN</td>\n",
       "      <td>-0.007698</td>\n",
       "    </tr>\n",
       "    <tr>\n",
       "      <th>RegistrationMonth</th>\n",
       "      <td>0.110581</td>\n",
       "      <td>-0.011619</td>\n",
       "      <td>0.043380</td>\n",
       "      <td>0.009571</td>\n",
       "      <td>1.000000</td>\n",
       "      <td>NaN</td>\n",
       "      <td>0.013995</td>\n",
       "    </tr>\n",
       "    <tr>\n",
       "      <th>NumberOfPictures</th>\n",
       "      <td>NaN</td>\n",
       "      <td>NaN</td>\n",
       "      <td>NaN</td>\n",
       "      <td>NaN</td>\n",
       "      <td>NaN</td>\n",
       "      <td>NaN</td>\n",
       "      <td>NaN</td>\n",
       "    </tr>\n",
       "    <tr>\n",
       "      <th>PostalCode</th>\n",
       "      <td>0.076055</td>\n",
       "      <td>-0.003459</td>\n",
       "      <td>0.021665</td>\n",
       "      <td>-0.007698</td>\n",
       "      <td>0.013995</td>\n",
       "      <td>NaN</td>\n",
       "      <td>1.000000</td>\n",
       "    </tr>\n",
       "  </tbody>\n",
       "</table>\n",
       "</div>"
      ],
      "text/plain": [
       "                      Price  RegistrationYear     Power   Mileage  \\\n",
       "Price              1.000000          0.026916  0.158872 -0.333199   \n",
       "RegistrationYear   0.026916          1.000000 -0.000828 -0.053447   \n",
       "Power              0.158872         -0.000828  1.000000  0.024002   \n",
       "Mileage           -0.333199         -0.053447  0.024002  1.000000   \n",
       "RegistrationMonth  0.110581         -0.011619  0.043380  0.009571   \n",
       "NumberOfPictures        NaN               NaN       NaN       NaN   \n",
       "PostalCode         0.076055         -0.003459  0.021665 -0.007698   \n",
       "\n",
       "                   RegistrationMonth  NumberOfPictures  PostalCode  \n",
       "Price                       0.110581               NaN    0.076055  \n",
       "RegistrationYear           -0.011619               NaN   -0.003459  \n",
       "Power                       0.043380               NaN    0.021665  \n",
       "Mileage                     0.009571               NaN   -0.007698  \n",
       "RegistrationMonth           1.000000               NaN    0.013995  \n",
       "NumberOfPictures                 NaN               NaN         NaN  \n",
       "PostalCode                  0.013995               NaN    1.000000  "
      ]
     },
     "execution_count": 109,
     "metadata": {},
     "output_type": "execute_result"
    }
   ],
   "source": [
    "rb.corr()"
   ]
  },
  {
   "cell_type": "code",
   "execution_count": 110,
   "metadata": {},
   "outputs": [
    {
     "data": {
      "text/plain": [
       "354369"
      ]
     },
     "execution_count": 110,
     "metadata": {},
     "output_type": "execute_result"
    }
   ],
   "source": [
    "rb.shape[0]"
   ]
  },
  {
   "cell_type": "code",
   "execution_count": 111,
   "metadata": {},
   "outputs": [],
   "source": [
    "rb_columns = list(rb.columns)\n",
    "for i in range(len(rb_columns)):\n",
    "    rb_columns[i] = rb_columns[i].lower()\n",
    "rb.columns = rb_columns"
   ]
  },
  {
   "cell_type": "markdown",
   "metadata": {},
   "source": [
    "Changed the columns to lowercase."
   ]
  },
  {
   "cell_type": "code",
   "execution_count": 112,
   "metadata": {
    "scrolled": true
   },
   "outputs": [
    {
     "name": "stdout",
     "output_type": "stream",
     "text": [
      "<class 'pandas.core.frame.DataFrame'>\n",
      "RangeIndex: 245814 entries, 0 to 245813\n",
      "Data columns (total 16 columns):\n",
      " #   Column             Non-Null Count   Dtype \n",
      "---  ------             --------------   ----- \n",
      " 0   datecrawled        245814 non-null  object\n",
      " 1   price              245814 non-null  int64 \n",
      " 2   vehicletype        245814 non-null  object\n",
      " 3   registrationyear   245814 non-null  int64 \n",
      " 4   gearbox            245814 non-null  object\n",
      " 5   power              245814 non-null  int64 \n",
      " 6   model              245814 non-null  object\n",
      " 7   mileage            245814 non-null  int64 \n",
      " 8   registrationmonth  245814 non-null  int64 \n",
      " 9   fueltype           245814 non-null  object\n",
      " 10  brand              245814 non-null  object\n",
      " 11  notrepaired        245814 non-null  object\n",
      " 12  datecreated        245814 non-null  object\n",
      " 13  numberofpictures   245814 non-null  int64 \n",
      " 14  postalcode         245814 non-null  int64 \n",
      " 15  lastseen           245814 non-null  object\n",
      "dtypes: int64(7), object(9)\n",
      "memory usage: 30.0+ MB\n"
     ]
    }
   ],
   "source": [
    "#https://pastebin.com/w09CX298\n",
    "\n",
    "for column in rb_columns:\n",
    "    rb = rb[rb[column].isna()==False].reset_index(drop=True)\n",
    "rb.info()"
   ]
  },
  {
   "cell_type": "code",
   "execution_count": 113,
   "metadata": {},
   "outputs": [
    {
     "data": {
      "text/plain": [
       "245814"
      ]
     },
     "execution_count": 113,
     "metadata": {},
     "output_type": "execute_result"
    }
   ],
   "source": [
    "rb.shape[0]"
   ]
  },
  {
   "cell_type": "markdown",
   "metadata": {},
   "source": [
    "Got rid of null and NaNs."
   ]
  },
  {
   "cell_type": "code",
   "execution_count": 114,
   "metadata": {
    "scrolled": true
   },
   "outputs": [],
   "source": [
    "rb = rb[rb['registrationyear'] <= 2016].reset_index(drop=True) #2016 is the cutoff\n",
    "rb = rb.drop(['datecrawled','datecreated','lastseen'],axis=1)\n",
    "#datecrawled, datecreated and lastseen don't seem to have any reasonable connection to car price."
   ]
  },
  {
   "cell_type": "code",
   "execution_count": 115,
   "metadata": {},
   "outputs": [
    {
     "data": {
      "text/html": [
       "<div>\n",
       "<style scoped>\n",
       "    .dataframe tbody tr th:only-of-type {\n",
       "        vertical-align: middle;\n",
       "    }\n",
       "\n",
       "    .dataframe tbody tr th {\n",
       "        vertical-align: top;\n",
       "    }\n",
       "\n",
       "    .dataframe thead th {\n",
       "        text-align: right;\n",
       "    }\n",
       "</style>\n",
       "<table border=\"1\" class=\"dataframe\">\n",
       "  <thead>\n",
       "    <tr style=\"text-align: right;\">\n",
       "      <th></th>\n",
       "      <th>price</th>\n",
       "      <th>registrationyear</th>\n",
       "      <th>power</th>\n",
       "      <th>mileage</th>\n",
       "      <th>registrationmonth</th>\n",
       "      <th>numberofpictures</th>\n",
       "      <th>postalcode</th>\n",
       "    </tr>\n",
       "  </thead>\n",
       "  <tbody>\n",
       "    <tr>\n",
       "      <th>price</th>\n",
       "      <td>1.000000</td>\n",
       "      <td>0.554831</td>\n",
       "      <td>0.200518</td>\n",
       "      <td>-0.397880</td>\n",
       "      <td>0.044229</td>\n",
       "      <td>NaN</td>\n",
       "      <td>0.065936</td>\n",
       "    </tr>\n",
       "    <tr>\n",
       "      <th>registrationyear</th>\n",
       "      <td>0.554831</td>\n",
       "      <td>1.000000</td>\n",
       "      <td>0.070637</td>\n",
       "      <td>-0.352075</td>\n",
       "      <td>0.036221</td>\n",
       "      <td>NaN</td>\n",
       "      <td>0.035987</td>\n",
       "    </tr>\n",
       "    <tr>\n",
       "      <th>power</th>\n",
       "      <td>0.200518</td>\n",
       "      <td>0.070637</td>\n",
       "      <td>1.000000</td>\n",
       "      <td>0.035526</td>\n",
       "      <td>0.016950</td>\n",
       "      <td>NaN</td>\n",
       "      <td>0.020162</td>\n",
       "    </tr>\n",
       "    <tr>\n",
       "      <th>mileage</th>\n",
       "      <td>-0.397880</td>\n",
       "      <td>-0.352075</td>\n",
       "      <td>0.035526</td>\n",
       "      <td>1.000000</td>\n",
       "      <td>-0.007010</td>\n",
       "      <td>NaN</td>\n",
       "      <td>-0.011501</td>\n",
       "    </tr>\n",
       "    <tr>\n",
       "      <th>registrationmonth</th>\n",
       "      <td>0.044229</td>\n",
       "      <td>0.036221</td>\n",
       "      <td>0.016950</td>\n",
       "      <td>-0.007010</td>\n",
       "      <td>1.000000</td>\n",
       "      <td>NaN</td>\n",
       "      <td>0.004006</td>\n",
       "    </tr>\n",
       "    <tr>\n",
       "      <th>numberofpictures</th>\n",
       "      <td>NaN</td>\n",
       "      <td>NaN</td>\n",
       "      <td>NaN</td>\n",
       "      <td>NaN</td>\n",
       "      <td>NaN</td>\n",
       "      <td>NaN</td>\n",
       "      <td>NaN</td>\n",
       "    </tr>\n",
       "    <tr>\n",
       "      <th>postalcode</th>\n",
       "      <td>0.065936</td>\n",
       "      <td>0.035987</td>\n",
       "      <td>0.020162</td>\n",
       "      <td>-0.011501</td>\n",
       "      <td>0.004006</td>\n",
       "      <td>NaN</td>\n",
       "      <td>1.000000</td>\n",
       "    </tr>\n",
       "  </tbody>\n",
       "</table>\n",
       "</div>"
      ],
      "text/plain": [
       "                      price  registrationyear     power   mileage  \\\n",
       "price              1.000000          0.554831  0.200518 -0.397880   \n",
       "registrationyear   0.554831          1.000000  0.070637 -0.352075   \n",
       "power              0.200518          0.070637  1.000000  0.035526   \n",
       "mileage           -0.397880         -0.352075  0.035526  1.000000   \n",
       "registrationmonth  0.044229          0.036221  0.016950 -0.007010   \n",
       "numberofpictures        NaN               NaN       NaN       NaN   \n",
       "postalcode         0.065936          0.035987  0.020162 -0.011501   \n",
       "\n",
       "                   registrationmonth  numberofpictures  postalcode  \n",
       "price                       0.044229               NaN    0.065936  \n",
       "registrationyear            0.036221               NaN    0.035987  \n",
       "power                       0.016950               NaN    0.020162  \n",
       "mileage                    -0.007010               NaN   -0.011501  \n",
       "registrationmonth           1.000000               NaN    0.004006  \n",
       "numberofpictures                 NaN               NaN         NaN  \n",
       "postalcode                  0.004006               NaN    1.000000  "
      ]
     },
     "execution_count": 115,
     "metadata": {},
     "output_type": "execute_result"
    }
   ],
   "source": [
    "rb.corr()"
   ]
  },
  {
   "cell_type": "markdown",
   "metadata": {},
   "source": [
    "Removed unreasonable registration years."
   ]
  },
  {
   "cell_type": "markdown",
   "metadata": {},
   "source": [
    "## Model training"
   ]
  },
  {
   "cell_type": "code",
   "execution_count": 116,
   "metadata": {
    "scrolled": false
   },
   "outputs": [
    {
     "name": "stderr",
     "output_type": "stream",
     "text": [
      "/opt/conda/lib/python3.9/site-packages/lightgbm/sklearn.py:736: UserWarning: 'verbose' argument is deprecated and will be removed in a future release of LightGBM. Pass 'log_evaluation()' callback via 'callbacks' argument instead.\n",
      "  _log_warning(\"'verbose' argument is deprecated and will be removed in a future release of LightGBM. \"\n",
      "/opt/conda/lib/python3.9/site-packages/lightgbm/engine.py:177: UserWarning: Found `num_iterations` in params. Will use it instead of argument\n",
      "  _log_warning(f\"Found `{alias}` in params. Will use it instead of argument\")\n",
      "/opt/conda/lib/python3.9/site-packages/lightgbm/basic.py:2065: UserWarning: Using categorical_feature in Dataset.\n",
      "  _log_warning('Using categorical_feature in Dataset.')\n",
      "/opt/conda/lib/python3.9/site-packages/lightgbm/basic.py:2068: UserWarning: categorical_feature in Dataset is overridden.\n",
      "New categorical_feature is ['brand', 'fueltype', 'gearbox', 'model', 'notrepaired', 'vehicletype']\n",
      "  _log_warning('categorical_feature in Dataset is overridden.\\n'\n",
      "/opt/conda/lib/python3.9/site-packages/lightgbm/basic.py:1780: UserWarning: Overriding the parameters from Reference Dataset.\n",
      "  _log_warning('Overriding the parameters from Reference Dataset.')\n",
      "/opt/conda/lib/python3.9/site-packages/lightgbm/basic.py:1513: UserWarning: categorical_column in param dict is overridden.\n",
      "  _log_warning(f'{cat_alias} in param dict is overridden.')\n"
     ]
    },
    {
     "name": "stdout",
     "output_type": "stream",
     "text": [
      "[100]\tvalid_0's rmse: 1682.9\n",
      "[200]\tvalid_0's rmse: 1652.79\n",
      "[300]\tvalid_0's rmse: 1640.21\n",
      "[400]\tvalid_0's rmse: 1635.13\n",
      "[500]\tvalid_0's rmse: 1632.73\n",
      "[600]\tvalid_0's rmse: 1631.16\n",
      "[700]\tvalid_0's rmse: 1629.98\n",
      "[800]\tvalid_0's rmse: 1629.43\n",
      "[900]\tvalid_0's rmse: 1628.81\n",
      "[1000]\tvalid_0's rmse: 1629.58\n"
     ]
    },
    {
     "name": "stderr",
     "output_type": "stream",
     "text": [
      "/opt/conda/lib/python3.9/site-packages/lightgbm/engine.py:177: UserWarning: Found `num_iterations` in params. Will use it instead of argument\n",
      "  _log_warning(f\"Found `{alias}` in params. Will use it instead of argument\")\n",
      "/opt/conda/lib/python3.9/site-packages/lightgbm/engine.py:177: UserWarning: Found `num_iterations` in params. Will use it instead of argument\n",
      "  _log_warning(f\"Found `{alias}` in params. Will use it instead of argument\")\n",
      "/opt/conda/lib/python3.9/site-packages/lightgbm/engine.py:177: UserWarning: Found `num_iterations` in params. Will use it instead of argument\n",
      "  _log_warning(f\"Found `{alias}` in params. Will use it instead of argument\")\n"
     ]
    },
    {
     "name": "stdout",
     "output_type": "stream",
     "text": [
      "cross_val_score : [0.88571371 0.88360142 0.88534358]\n",
      "Mean Prediction Time [s]: 0.022\n",
      "\n",
      "LGBMRegressor(metric='rmse', num_iterations=1000)\n"
     ]
    }
   ],
   "source": [
    "#https://pastebin.com/SpP9WNbg\n",
    "\n",
    "categorical_feats = ['vehicletype', 'gearbox', 'model', 'fueltype', 'brand','notrepaired']\n",
    "#datecrawled, datecreated and lastseen don't seem to have any reasonable connection to car price.\n",
    "\n",
    "#rb[categorical_feats].columns\n",
    "encoder = OrdinalEncoder()\n",
    "rb[categorical_feats] = OrdinalEncoder().fit_transform(rb[categorical_feats])\n",
    "#rb_ordinal = pd.DataFrame(encoder.fit_transform(rb), columns=rb.columns)\n",
    "\n",
    "features = rb.drop('price',axis=1)\n",
    "target = rb['price']\n",
    "\n",
    "features_train, features_rem, target_train, target_rem = train_test_split(features,target, test_size=0.66, random_state=12345)\n",
    "features_valid, features_test, target_valid, target_test = train_test_split(features_rem,target_rem, test_size=0.50, random_state=12345)\n",
    "#REMINDER: WE ALWAYS NEED TO VALIDATE \n",
    "\n",
    "\n",
    "start = time.time() #this ruins %%time\n",
    "#regressor because lbgm encoder wasn't working\n",
    "model = lgb.LGBMRegressor(num_iterations=1000, metric='rmse') \n",
    "model.fit(features_train, target_train, eval_set=(features_valid, target_valid), categorical_feature = categorical_feats, verbose=100)\n",
    "end = time.time()\n",
    "\n",
    "#Dividing total time by amount of iterations\n",
    "print(f\"cross_val_score : {cross_val_score(model, features, target, cv=3)}\")\n",
    "print(f\"Mean Prediction Time [s]: {((end-start)/1000):.3f}\")\n",
    "print(); print(model)\n",
    "\n",
    "\n",
    "\n"
   ]
  },
  {
   "cell_type": "code",
   "execution_count": 117,
   "metadata": {},
   "outputs": [
    {
     "name": "stdout",
     "output_type": "stream",
     "text": [
      "cross_val_score : [0.70921007 0.70668836 0.7006047 ]\n",
      "mean Training Time [s]: 0.074\n",
      "mean Prediction Time [s]: 0.074\n",
      "mean rsme: 3042.605565265592\n",
      "\n",
      "RandomForestRegressor(max_depth=4, n_estimators=91)\n"
     ]
    }
   ],
   "source": [
    "#https://pastebin.com/bZ4qJVWt\n",
    "\n",
    "rsmes = []\n",
    "train_times = []\n",
    "prediction_times = []\n",
    "\n",
    "for depth in range(1,5):\n",
    "    for est in range(1,100,10):\n",
    "        train_start = time.time()\n",
    "        model = RandomForestRegressor(n_estimators=est, max_depth=depth)\n",
    "        model.fit(features_train, target_train)\n",
    "        train_end = time.time()\n",
    "        pred_start = time.time()\n",
    "        prediction_valid = model.predict(features_valid)\n",
    "        pred_end = time.time()\n",
    "        train_times.append(train_end-train_start)\n",
    "        prediction_times.append(pred_end-pred_start)\n",
    "        rsmes.append(mean_squared_error(target_valid,prediction_valid)**0.5)\n",
    "       \n",
    "print(f\"cross_val_score : {cross_val_score(model, features, target, cv=3)}\")\n",
    "print(f\"mean Training Time [s]: {statistics.mean(prediction_times):.3f}\")\n",
    "print(f\"mean Prediction Time [s]: {statistics.mean(prediction_times):.3f}\")\n",
    "print('mean rsme:', statistics.mean(rsmes))\n",
    "print(); print(model)"
   ]
  },
  {
   "cell_type": "code",
   "execution_count": 118,
   "metadata": {},
   "outputs": [
    {
     "name": "stdout",
     "output_type": "stream",
     "text": [
      "Training Time [s]: 0.024\n",
      "Prediction Time [s]: 0.004\n",
      "rsme: 3358.737285801417\n",
      "\n",
      "LinearRegression()\n"
     ]
    }
   ],
   "source": [
    "train_start = time.time()\n",
    "model = LinearRegression()\n",
    "model.fit(features_train, target_train)\n",
    "train_end = time.time()\n",
    "pred_start = time.time()\n",
    "prediction_valid = model.predict(features_valid)\n",
    "pred_end = time.time()\n",
    "print(f\"Training Time [s]: {(train_end-train_start):.3f}\")\n",
    "print(f\"Prediction Time [s]: {(pred_end-pred_start):.3f}\")\n",
    "print('rsme:', mean_squared_error(target_valid,prediction_valid)**0.5)\n",
    "print(); print(model)\n"
   ]
  },
  {
   "cell_type": "code",
   "execution_count": 119,
   "metadata": {},
   "outputs": [
    {
     "name": "stdout",
     "output_type": "stream",
     "text": [
      "cross_val_score : [-1.38797105e-08 -1.04945077e-05 -9.84056020e-06]\n",
      "Training Time [s]: 0.001\n",
      "Prediction Time [s]: 0.001\n",
      "rsme: 4719.215729334451\n",
      "\n",
      "DummyRegressor()\n"
     ]
    }
   ],
   "source": [
    "train_start = time.time()\n",
    "dummy_regr = DummyRegressor(strategy=\"mean\")\n",
    "dummy_regr.fit(features_train, target_train)\n",
    "DummyRegressor()\n",
    "train_end = time.time()\n",
    "pred_start = time.time()\n",
    "prediction_valid = dummy_regr.predict(features_valid)\n",
    "pred_end = time.time()\n",
    "print(f\"cross_val_score : {cross_val_score(dummy_regr, features, target, cv=3)}\")\n",
    "print(f\"Training Time [s]: {(train_end-train_start):.3f}\")\n",
    "print(f\"Prediction Time [s]: {(pred_end-pred_start):.3f}\")\n",
    "print('rsme:', mean_squared_error(target_valid,prediction_valid)**0.5)\n",
    "print(); print(dummy_regr)\n"
   ]
  },
  {
   "cell_type": "markdown",
   "metadata": {},
   "source": [
    "885. Speed of 0.001 s. Time: 2.54 ms."
   ]
  },
  {
   "cell_type": "markdown",
   "metadata": {},
   "source": [
    "## Model analysis"
   ]
  },
  {
   "cell_type": "code",
   "execution_count": 120,
   "metadata": {
    "scrolled": true
   },
   "outputs": [
    {
     "name": "stderr",
     "output_type": "stream",
     "text": [
      "/opt/conda/lib/python3.9/site-packages/lightgbm/sklearn.py:736: UserWarning: 'verbose' argument is deprecated and will be removed in a future release of LightGBM. Pass 'log_evaluation()' callback via 'callbacks' argument instead.\n",
      "  _log_warning(\"'verbose' argument is deprecated and will be removed in a future release of LightGBM. \"\n",
      "/opt/conda/lib/python3.9/site-packages/lightgbm/engine.py:177: UserWarning: Found `num_iterations` in params. Will use it instead of argument\n",
      "  _log_warning(f\"Found `{alias}` in params. Will use it instead of argument\")\n",
      "/opt/conda/lib/python3.9/site-packages/lightgbm/basic.py:2065: UserWarning: Using categorical_feature in Dataset.\n",
      "  _log_warning('Using categorical_feature in Dataset.')\n",
      "/opt/conda/lib/python3.9/site-packages/lightgbm/basic.py:2068: UserWarning: categorical_feature in Dataset is overridden.\n",
      "New categorical_feature is ['brand', 'fueltype', 'gearbox', 'model', 'notrepaired', 'vehicletype']\n",
      "  _log_warning('categorical_feature in Dataset is overridden.\\n'\n",
      "/opt/conda/lib/python3.9/site-packages/lightgbm/basic.py:1780: UserWarning: Overriding the parameters from Reference Dataset.\n",
      "  _log_warning('Overriding the parameters from Reference Dataset.')\n",
      "/opt/conda/lib/python3.9/site-packages/lightgbm/basic.py:1513: UserWarning: categorical_column in param dict is overridden.\n",
      "  _log_warning(f'{cat_alias} in param dict is overridden.')\n"
     ]
    },
    {
     "name": "stdout",
     "output_type": "stream",
     "text": [
      "[100]\tvalid_0's rmse: 1684.99\n",
      "[200]\tvalid_0's rmse: 1657.49\n",
      "[300]\tvalid_0's rmse: 1645.39\n",
      "[400]\tvalid_0's rmse: 1638.2\n",
      "[500]\tvalid_0's rmse: 1633.28\n",
      "[600]\tvalid_0's rmse: 1630.72\n",
      "[700]\tvalid_0's rmse: 1628.51\n",
      "[800]\tvalid_0's rmse: 1627.61\n",
      "[900]\tvalid_0's rmse: 1627.09\n",
      "[1000]\tvalid_0's rmse: 1626.74\n"
     ]
    },
    {
     "name": "stderr",
     "output_type": "stream",
     "text": [
      "/opt/conda/lib/python3.9/site-packages/lightgbm/engine.py:177: UserWarning: Found `num_iterations` in params. Will use it instead of argument\n",
      "  _log_warning(f\"Found `{alias}` in params. Will use it instead of argument\")\n",
      "/opt/conda/lib/python3.9/site-packages/lightgbm/engine.py:177: UserWarning: Found `num_iterations` in params. Will use it instead of argument\n",
      "  _log_warning(f\"Found `{alias}` in params. Will use it instead of argument\")\n",
      "/opt/conda/lib/python3.9/site-packages/lightgbm/engine.py:177: UserWarning: Found `num_iterations` in params. Will use it instead of argument\n",
      "  _log_warning(f\"Found `{alias}` in params. Will use it instead of argument\")\n"
     ]
    },
    {
     "name": "stdout",
     "output_type": "stream",
     "text": [
      "cross_val_score : [0.88571371 0.88360142 0.88534358]\n",
      "Mean Prediction Time [s]: 0.030\n",
      "\n",
      "LGBMRegressor(metric='rmse', num_iterations=1000)\n"
     ]
    }
   ],
   "source": [
    "start = time.time() #this ruins %%time\n",
    "#regressor because lbgm encoder wasn't working\n",
    "model = lgb.LGBMRegressor(num_iterations=1000, metric='rmse') \n",
    "model.fit(features_test, target_test, eval_set=(features_valid, target_valid), categorical_feature = categorical_feats, verbose=100)\n",
    "end = time.time()\n",
    "\n",
    "#Dividing total time by amount of iterations\n",
    "print(f\"cross_val_score : {cross_val_score(model, features, target, cv=3)}\")\n",
    "print(f\"Mean Prediction Time [s]: {((end-start)/1000):.3f}\")\n",
    "print(); print(model)"
   ]
  },
  {
   "cell_type": "markdown",
   "metadata": {},
   "source": [
    "DummyRegressor may be the fastest, but lightgbm is second fastest and has the best root mean squared error score. Which gets lower by the number of iteration. The higher the iteration, the smaller the rsme score. At the expense of being very slow, thousands of iterations should lead to a small enough score. "
   ]
  },
  {
   "cell_type": "markdown",
   "metadata": {},
   "source": [
    "# Checklist"
   ]
  },
  {
   "cell_type": "markdown",
   "metadata": {},
   "source": [
    "Type 'x' to check. Then press Shift+Enter."
   ]
  },
  {
   "cell_type": "markdown",
   "metadata": {},
   "source": [
    "- [x]  Jupyter Notebook is open\n",
    "- [x]  Code is error free\n",
    "- [x]  The cells with the code have been arranged in order of execution\n",
    "- [x]  The data has been downloaded and prepared\n",
    "- [x]  The models have been trained\n",
    "- [x]  The analysis of speed and quality of the models has been performed"
   ]
  }
 ],
 "metadata": {
  "ExecuteTimeLog": [
   {
    "duration": 1550,
    "start_time": "2022-08-24T15:25:26.338Z"
   },
   {
    "duration": 2706,
    "start_time": "2022-08-24T15:27:11.148Z"
   },
   {
    "duration": 26,
    "start_time": "2022-08-24T15:27:16.284Z"
   },
   {
    "duration": 4,
    "start_time": "2022-08-24T15:28:42.409Z"
   },
   {
    "duration": 680,
    "start_time": "2022-08-24T15:28:42.642Z"
   },
   {
    "duration": 24,
    "start_time": "2022-08-24T15:28:43.324Z"
   },
   {
    "duration": 4,
    "start_time": "2022-08-24T15:30:48.840Z"
   },
   {
    "duration": 3,
    "start_time": "2022-08-24T15:31:09.416Z"
   },
   {
    "duration": 29,
    "start_time": "2022-08-24T15:31:18.066Z"
   },
   {
    "duration": 687,
    "start_time": "2022-08-24T15:31:29.672Z"
   },
   {
    "duration": 4,
    "start_time": "2022-08-24T15:31:43.484Z"
   },
   {
    "duration": 44,
    "start_time": "2022-08-24T16:02:24.486Z"
   },
   {
    "duration": 704,
    "start_time": "2022-08-24T16:02:25.244Z"
   },
   {
    "duration": 25,
    "start_time": "2022-08-24T16:02:25.950Z"
   },
   {
    "duration": 4,
    "start_time": "2022-08-24T16:02:45.925Z"
   },
   {
    "duration": 115,
    "start_time": "2022-08-24T16:08:31.946Z"
   },
   {
    "duration": 681,
    "start_time": "2022-08-24T16:08:33.178Z"
   },
   {
    "duration": 21,
    "start_time": "2022-08-24T16:08:33.861Z"
   },
   {
    "duration": 3,
    "start_time": "2022-08-24T16:27:32.388Z"
   },
   {
    "duration": 650,
    "start_time": "2022-08-24T16:27:36.156Z"
   },
   {
    "duration": 8,
    "start_time": "2022-08-24T16:28:08.281Z"
   },
   {
    "duration": 235,
    "start_time": "2022-08-24T16:28:30.305Z"
   },
   {
    "duration": 5,
    "start_time": "2022-08-24T16:28:59.601Z"
   },
   {
    "duration": 5,
    "start_time": "2022-08-24T16:29:13.640Z"
   },
   {
    "duration": 120,
    "start_time": "2022-08-24T16:29:34.662Z"
   },
   {
    "duration": 9,
    "start_time": "2022-08-24T16:29:56.185Z"
   },
   {
    "duration": 10,
    "start_time": "2022-08-24T16:30:00.175Z"
   },
   {
    "duration": 9,
    "start_time": "2022-08-24T16:30:22.920Z"
   },
   {
    "duration": 9,
    "start_time": "2022-08-24T16:31:57.193Z"
   },
   {
    "duration": 5,
    "start_time": "2022-08-24T16:32:10.184Z"
   },
   {
    "duration": 4,
    "start_time": "2022-08-24T16:32:22.441Z"
   },
   {
    "duration": 23,
    "start_time": "2022-08-24T16:32:25.838Z"
   },
   {
    "duration": 562,
    "start_time": "2022-08-24T16:38:47.876Z"
   },
   {
    "duration": 547,
    "start_time": "2022-08-24T16:42:42.964Z"
   },
   {
    "duration": 4,
    "start_time": "2022-08-24T16:42:53.332Z"
   },
   {
    "duration": 522,
    "start_time": "2022-08-24T16:42:53.636Z"
   },
   {
    "duration": 4,
    "start_time": "2022-08-24T16:43:14.113Z"
   },
   {
    "duration": 704,
    "start_time": "2022-08-24T16:43:14.449Z"
   },
   {
    "duration": 39,
    "start_time": "2022-08-24T16:43:15.155Z"
   },
   {
    "duration": 3,
    "start_time": "2022-08-24T16:43:15.873Z"
   },
   {
    "duration": 553,
    "start_time": "2022-08-24T16:43:16.149Z"
   },
   {
    "duration": 4,
    "start_time": "2022-08-24T16:43:37.437Z"
   },
   {
    "duration": 207,
    "start_time": "2022-08-24T16:43:46.662Z"
   },
   {
    "duration": 2,
    "start_time": "2022-08-24T16:44:04.619Z"
   },
   {
    "duration": 215,
    "start_time": "2022-08-24T16:44:17.484Z"
   },
   {
    "duration": 22,
    "start_time": "2022-08-24T16:44:35.308Z"
   },
   {
    "duration": 559,
    "start_time": "2022-08-24T16:44:41.284Z"
   },
   {
    "duration": 17,
    "start_time": "2022-08-24T16:45:01.834Z"
   },
   {
    "duration": 12,
    "start_time": "2022-08-24T16:45:06.490Z"
   },
   {
    "duration": 17,
    "start_time": "2022-08-24T16:45:13.154Z"
   },
   {
    "duration": 116,
    "start_time": "2022-08-24T16:45:28.722Z"
   },
   {
    "duration": 8,
    "start_time": "2022-08-24T16:45:45.107Z"
   },
   {
    "duration": 115,
    "start_time": "2022-08-24T16:46:15.435Z"
   },
   {
    "duration": 2,
    "start_time": "2022-08-24T16:46:29.418Z"
   },
   {
    "duration": 20,
    "start_time": "2022-08-24T16:46:37.809Z"
   },
   {
    "duration": 17,
    "start_time": "2022-08-24T16:46:47.946Z"
   },
   {
    "duration": 591,
    "start_time": "2022-08-24T16:47:04.530Z"
   },
   {
    "duration": 10098,
    "start_time": "2022-08-24T16:47:11.170Z"
   },
   {
    "duration": 1179,
    "start_time": "2022-08-24T16:47:27.144Z"
   },
   {
    "duration": 207,
    "start_time": "2022-08-24T16:47:44.971Z"
   },
   {
    "duration": 973,
    "start_time": "2022-08-24T22:27:43.027Z"
   },
   {
    "duration": 4,
    "start_time": "2022-08-24T22:29:59.231Z"
   },
   {
    "duration": 626,
    "start_time": "2022-08-24T22:29:59.739Z"
   },
   {
    "duration": 27,
    "start_time": "2022-08-24T22:30:00.367Z"
   },
   {
    "duration": 4,
    "start_time": "2022-08-24T22:30:00.395Z"
   },
   {
    "duration": 721,
    "start_time": "2022-08-24T22:30:00.401Z"
   },
   {
    "duration": 487,
    "start_time": "2022-08-24T22:30:20.848Z"
   },
   {
    "duration": 501,
    "start_time": "2022-08-24T22:30:36.105Z"
   },
   {
    "duration": 5,
    "start_time": "2022-08-24T22:31:14.571Z"
   },
   {
    "duration": 17,
    "start_time": "2022-08-24T22:31:21.139Z"
   },
   {
    "duration": 20,
    "start_time": "2022-08-24T22:31:27.472Z"
   },
   {
    "duration": 567,
    "start_time": "2022-08-24T22:31:36.986Z"
   },
   {
    "duration": 416,
    "start_time": "2022-08-24T22:31:45.882Z"
   },
   {
    "duration": 36,
    "start_time": "2022-08-24T22:32:05.364Z"
   },
   {
    "duration": 56,
    "start_time": "2022-08-24T22:32:43.170Z"
   },
   {
    "duration": 50,
    "start_time": "2022-08-24T22:32:45.716Z"
   },
   {
    "duration": 98,
    "start_time": "2022-08-24T22:33:18.554Z"
   },
   {
    "duration": 143,
    "start_time": "2022-08-24T22:33:26.517Z"
   },
   {
    "duration": 68,
    "start_time": "2022-08-24T22:33:30.902Z"
   },
   {
    "duration": 145,
    "start_time": "2022-08-24T22:33:47.569Z"
   },
   {
    "duration": 63,
    "start_time": "2022-08-24T22:33:53.360Z"
   },
   {
    "duration": 91,
    "start_time": "2022-08-24T22:34:02.249Z"
   },
   {
    "duration": 4,
    "start_time": "2022-08-24T22:35:24.544Z"
   },
   {
    "duration": 956,
    "start_time": "2022-08-24T22:35:24.864Z"
   },
   {
    "duration": 940,
    "start_time": "2022-08-24T22:35:40.721Z"
   },
   {
    "duration": 17,
    "start_time": "2022-08-24T22:36:13.779Z"
   },
   {
    "duration": 20,
    "start_time": "2022-08-24T22:36:20.129Z"
   },
   {
    "duration": 77,
    "start_time": "2022-08-24T22:38:32.110Z"
   },
   {
    "duration": 31,
    "start_time": "2022-08-24T22:38:37.830Z"
   },
   {
    "duration": 4,
    "start_time": "2022-08-24T22:38:46.198Z"
   },
   {
    "duration": 699,
    "start_time": "2022-08-24T22:38:46.704Z"
   },
   {
    "duration": 22,
    "start_time": "2022-08-24T22:38:47.405Z"
   },
   {
    "duration": 4,
    "start_time": "2022-08-24T22:38:47.428Z"
   },
   {
    "duration": 37,
    "start_time": "2022-08-24T22:38:47.434Z"
   },
   {
    "duration": 0,
    "start_time": "2022-08-24T22:38:47.493Z"
   },
   {
    "duration": 5,
    "start_time": "2022-08-24T22:40:11.656Z"
   },
   {
    "duration": 652,
    "start_time": "2022-08-24T22:40:12.154Z"
   },
   {
    "duration": 21,
    "start_time": "2022-08-24T22:40:12.809Z"
   },
   {
    "duration": 9,
    "start_time": "2022-08-24T22:40:12.832Z"
   },
   {
    "duration": 86,
    "start_time": "2022-08-24T22:40:12.843Z"
   },
   {
    "duration": 0,
    "start_time": "2022-08-24T22:40:12.931Z"
   },
   {
    "duration": 12,
    "start_time": "2022-08-24T22:40:24.158Z"
   },
   {
    "duration": 4,
    "start_time": "2022-08-24T22:41:08.671Z"
   },
   {
    "duration": 646,
    "start_time": "2022-08-24T22:41:09.178Z"
   },
   {
    "duration": 26,
    "start_time": "2022-08-24T22:41:09.825Z"
   },
   {
    "duration": 8,
    "start_time": "2022-08-24T22:41:09.853Z"
   },
   {
    "duration": 1135,
    "start_time": "2022-08-24T22:41:09.863Z"
   },
   {
    "duration": 17,
    "start_time": "2022-08-24T22:41:11.000Z"
   },
   {
    "duration": 915,
    "start_time": "2022-08-24T22:42:13.765Z"
   },
   {
    "duration": 18,
    "start_time": "2022-08-24T22:42:14.894Z"
   },
   {
    "duration": 5,
    "start_time": "2022-08-24T22:42:50.316Z"
   },
   {
    "duration": 7,
    "start_time": "2022-08-24T22:42:57.988Z"
   },
   {
    "duration": 7,
    "start_time": "2022-08-24T22:43:25.156Z"
   },
   {
    "duration": 438,
    "start_time": "2022-08-24T22:44:18.118Z"
   },
   {
    "duration": 414,
    "start_time": "2022-08-24T22:44:24.564Z"
   },
   {
    "duration": 41,
    "start_time": "2022-08-24T22:44:31.420Z"
   },
   {
    "duration": 56,
    "start_time": "2022-08-24T22:45:05.120Z"
   },
   {
    "duration": 85,
    "start_time": "2022-08-24T22:45:09.804Z"
   },
   {
    "duration": 1664,
    "start_time": "2022-08-26T02:06:36.252Z"
   },
   {
    "duration": 906,
    "start_time": "2022-08-26T02:06:37.918Z"
   },
   {
    "duration": 29,
    "start_time": "2022-08-26T02:06:38.827Z"
   },
   {
    "duration": 4,
    "start_time": "2022-08-26T02:06:38.858Z"
   },
   {
    "duration": 1089,
    "start_time": "2022-08-26T02:06:38.864Z"
   },
   {
    "duration": 70,
    "start_time": "2022-08-26T02:06:39.955Z"
   },
   {
    "duration": 110,
    "start_time": "2022-08-26T02:06:40.027Z"
   },
   {
    "duration": 11,
    "start_time": "2022-08-26T02:08:56.166Z"
   },
   {
    "duration": 1022,
    "start_time": "2022-08-26T02:09:02.799Z"
   },
   {
    "duration": 44,
    "start_time": "2022-08-26T02:12:23.638Z"
   },
   {
    "duration": 1481,
    "start_time": "2022-08-26T02:12:27.321Z"
   },
   {
    "duration": 916,
    "start_time": "2022-08-26T02:12:28.805Z"
   },
   {
    "duration": 26,
    "start_time": "2022-08-26T02:12:29.723Z"
   },
   {
    "duration": 3,
    "start_time": "2022-08-26T02:12:29.751Z"
   },
   {
    "duration": 1169,
    "start_time": "2022-08-26T02:12:29.756Z"
   },
   {
    "duration": 68,
    "start_time": "2022-08-26T02:12:30.927Z"
   },
   {
    "duration": 52,
    "start_time": "2022-08-26T02:13:07.306Z"
   },
   {
    "duration": 1505,
    "start_time": "2022-08-26T02:13:11.782Z"
   },
   {
    "duration": 908,
    "start_time": "2022-08-26T02:13:13.288Z"
   },
   {
    "duration": 28,
    "start_time": "2022-08-26T02:13:14.198Z"
   },
   {
    "duration": 2,
    "start_time": "2022-08-26T02:13:14.228Z"
   },
   {
    "duration": 1160,
    "start_time": "2022-08-26T02:13:14.232Z"
   },
   {
    "duration": 65,
    "start_time": "2022-08-26T02:13:15.394Z"
   },
   {
    "duration": 44,
    "start_time": "2022-08-26T02:15:41.758Z"
   },
   {
    "duration": 1470,
    "start_time": "2022-08-26T02:15:45.100Z"
   },
   {
    "duration": 889,
    "start_time": "2022-08-26T02:15:46.572Z"
   },
   {
    "duration": 27,
    "start_time": "2022-08-26T02:15:47.463Z"
   },
   {
    "duration": 4,
    "start_time": "2022-08-26T02:15:47.492Z"
   },
   {
    "duration": 1106,
    "start_time": "2022-08-26T02:15:47.497Z"
   },
   {
    "duration": 62,
    "start_time": "2022-08-26T02:15:48.605Z"
   },
   {
    "duration": 1529,
    "start_time": "2022-08-26T02:16:06.268Z"
   },
   {
    "duration": 0,
    "start_time": "2022-08-26T02:16:07.799Z"
   },
   {
    "duration": 0,
    "start_time": "2022-08-26T02:16:07.800Z"
   },
   {
    "duration": 0,
    "start_time": "2022-08-26T02:16:07.801Z"
   },
   {
    "duration": 0,
    "start_time": "2022-08-26T02:16:07.802Z"
   },
   {
    "duration": 0,
    "start_time": "2022-08-26T02:16:07.803Z"
   },
   {
    "duration": 0,
    "start_time": "2022-08-26T02:16:07.804Z"
   },
   {
    "duration": 112,
    "start_time": "2022-08-26T02:18:36.120Z"
   },
   {
    "duration": 895,
    "start_time": "2022-08-26T02:18:36.833Z"
   },
   {
    "duration": 24,
    "start_time": "2022-08-26T02:18:37.730Z"
   },
   {
    "duration": 3,
    "start_time": "2022-08-26T02:18:37.755Z"
   },
   {
    "duration": 1128,
    "start_time": "2022-08-26T02:18:37.793Z"
   },
   {
    "duration": 69,
    "start_time": "2022-08-26T02:18:38.923Z"
   },
   {
    "duration": 47,
    "start_time": "2022-08-26T02:18:49.362Z"
   },
   {
    "duration": 6,
    "start_time": "2022-08-26T02:18:59.953Z"
   },
   {
    "duration": 1506,
    "start_time": "2022-08-26T02:19:03.729Z"
   },
   {
    "duration": 900,
    "start_time": "2022-08-26T02:19:05.236Z"
   },
   {
    "duration": 26,
    "start_time": "2022-08-26T02:19:06.137Z"
   },
   {
    "duration": 4,
    "start_time": "2022-08-26T02:19:06.165Z"
   },
   {
    "duration": 1150,
    "start_time": "2022-08-26T02:19:06.170Z"
   },
   {
    "duration": 68,
    "start_time": "2022-08-26T02:19:07.322Z"
   },
   {
    "duration": 43,
    "start_time": "2022-08-26T02:19:13.386Z"
   },
   {
    "duration": 1562,
    "start_time": "2022-08-26T02:19:20.875Z"
   },
   {
    "duration": 1011,
    "start_time": "2022-08-26T02:19:22.439Z"
   },
   {
    "duration": 41,
    "start_time": "2022-08-26T02:19:23.451Z"
   },
   {
    "duration": 4,
    "start_time": "2022-08-26T02:19:23.495Z"
   },
   {
    "duration": 1176,
    "start_time": "2022-08-26T02:19:23.501Z"
   },
   {
    "duration": 65,
    "start_time": "2022-08-26T02:19:24.679Z"
   },
   {
    "duration": 1460,
    "start_time": "2022-08-26T02:19:42.815Z"
   },
   {
    "duration": 933,
    "start_time": "2022-08-26T02:19:44.277Z"
   },
   {
    "duration": 25,
    "start_time": "2022-08-26T02:19:45.212Z"
   },
   {
    "duration": 3,
    "start_time": "2022-08-26T02:19:45.240Z"
   },
   {
    "duration": 1148,
    "start_time": "2022-08-26T02:19:45.244Z"
   },
   {
    "duration": 64,
    "start_time": "2022-08-26T02:19:46.394Z"
   },
   {
    "duration": 1553,
    "start_time": "2022-08-26T02:22:17.352Z"
   },
   {
    "duration": 910,
    "start_time": "2022-08-26T02:22:18.907Z"
   },
   {
    "duration": 28,
    "start_time": "2022-08-26T02:22:19.819Z"
   },
   {
    "duration": 4,
    "start_time": "2022-08-26T02:22:19.848Z"
   },
   {
    "duration": 1122,
    "start_time": "2022-08-26T02:22:19.855Z"
   },
   {
    "duration": 70,
    "start_time": "2022-08-26T02:22:20.979Z"
   },
   {
    "duration": 1515,
    "start_time": "2022-08-26T02:24:44.281Z"
   },
   {
    "duration": 880,
    "start_time": "2022-08-26T02:24:45.798Z"
   },
   {
    "duration": 26,
    "start_time": "2022-08-26T02:24:46.679Z"
   },
   {
    "duration": 5,
    "start_time": "2022-08-26T02:24:46.707Z"
   },
   {
    "duration": 1033,
    "start_time": "2022-08-26T02:24:46.713Z"
   },
   {
    "duration": 67,
    "start_time": "2022-08-26T02:24:47.747Z"
   },
   {
    "duration": 3,
    "start_time": "2022-08-26T02:24:47.815Z"
   },
   {
    "duration": 4,
    "start_time": "2022-08-26T05:51:16.023Z"
   },
   {
    "duration": 25,
    "start_time": "2022-08-26T05:52:04.352Z"
   },
   {
    "duration": 40,
    "start_time": "2022-08-26T05:53:04.813Z"
   },
   {
    "duration": 4,
    "start_time": "2022-08-26T06:03:44.595Z"
   },
   {
    "duration": 550,
    "start_time": "2022-08-26T06:03:44.938Z"
   },
   {
    "duration": 21,
    "start_time": "2022-08-26T06:03:45.490Z"
   },
   {
    "duration": 3,
    "start_time": "2022-08-26T06:03:50.781Z"
   },
   {
    "duration": 537,
    "start_time": "2022-08-26T06:03:50.963Z"
   },
   {
    "duration": 23,
    "start_time": "2022-08-26T06:03:51.502Z"
   },
   {
    "duration": 6,
    "start_time": "2022-08-26T06:03:51.527Z"
   },
   {
    "duration": 990,
    "start_time": "2022-08-26T06:03:51.607Z"
   },
   {
    "duration": 60,
    "start_time": "2022-08-26T06:03:52.600Z"
   },
   {
    "duration": 108,
    "start_time": "2022-08-26T06:03:52.662Z"
   },
   {
    "duration": 106,
    "start_time": "2022-08-26T06:05:11.968Z"
   },
   {
    "duration": 17,
    "start_time": "2022-08-26T06:05:19.563Z"
   },
   {
    "duration": 99,
    "start_time": "2022-08-26T06:06:15.972Z"
   },
   {
    "duration": 4,
    "start_time": "2022-08-26T06:36:34.117Z"
   },
   {
    "duration": 582,
    "start_time": "2022-08-26T06:36:34.625Z"
   },
   {
    "duration": 23,
    "start_time": "2022-08-26T06:36:35.209Z"
   },
   {
    "duration": 5,
    "start_time": "2022-08-26T06:36:35.234Z"
   },
   {
    "duration": 1138,
    "start_time": "2022-08-26T06:36:35.241Z"
   },
   {
    "duration": 62,
    "start_time": "2022-08-26T06:36:36.380Z"
   },
   {
    "duration": 305,
    "start_time": "2022-08-26T06:36:36.444Z"
   },
   {
    "duration": 104,
    "start_time": "2022-08-26T06:40:14.116Z"
   },
   {
    "duration": 56,
    "start_time": "2022-08-26T16:25:18.473Z"
   },
   {
    "duration": 1869,
    "start_time": "2022-08-26T16:25:23.118Z"
   },
   {
    "duration": 2825,
    "start_time": "2022-08-26T16:25:24.990Z"
   },
   {
    "duration": 30,
    "start_time": "2022-08-26T16:25:27.817Z"
   },
   {
    "duration": 3,
    "start_time": "2022-08-26T16:25:27.849Z"
   },
   {
    "duration": 1174,
    "start_time": "2022-08-26T16:25:27.854Z"
   },
   {
    "duration": 68,
    "start_time": "2022-08-26T16:25:29.030Z"
   },
   {
    "duration": 244,
    "start_time": "2022-08-26T16:25:29.099Z"
   },
   {
    "duration": 239,
    "start_time": "2022-08-26T16:26:02.039Z"
   },
   {
    "duration": 189,
    "start_time": "2022-08-26T16:29:03.487Z"
   },
   {
    "duration": 199,
    "start_time": "2022-08-26T16:31:22.136Z"
   },
   {
    "duration": 196,
    "start_time": "2022-08-26T16:31:45.738Z"
   },
   {
    "duration": 109,
    "start_time": "2022-08-26T16:32:24.939Z"
   },
   {
    "duration": 99,
    "start_time": "2022-08-26T16:35:13.379Z"
   },
   {
    "duration": 223,
    "start_time": "2022-08-26T16:37:48.678Z"
   },
   {
    "duration": 133,
    "start_time": "2022-08-26T16:48:40.686Z"
   },
   {
    "duration": 139,
    "start_time": "2022-08-26T17:11:03.972Z"
   },
   {
    "duration": 131,
    "start_time": "2022-08-26T17:11:36.427Z"
   },
   {
    "duration": 121,
    "start_time": "2022-08-26T17:11:50.320Z"
   },
   {
    "duration": 114,
    "start_time": "2022-08-27T04:26:35.561Z"
   },
   {
    "duration": 135,
    "start_time": "2022-08-27T04:35:14.580Z"
   },
   {
    "duration": 160,
    "start_time": "2022-08-27T04:36:26.972Z"
   },
   {
    "duration": 170,
    "start_time": "2022-08-27T04:39:11.181Z"
   },
   {
    "duration": 139,
    "start_time": "2022-08-27T04:39:33.573Z"
   },
   {
    "duration": 134,
    "start_time": "2022-08-27T04:43:38.391Z"
   },
   {
    "duration": 187,
    "start_time": "2022-08-27T04:44:12.846Z"
   },
   {
    "duration": 164,
    "start_time": "2022-08-27T04:45:30.419Z"
   },
   {
    "duration": 193,
    "start_time": "2022-08-27T04:46:56.847Z"
   },
   {
    "duration": 166,
    "start_time": "2022-08-27T04:55:58.322Z"
   },
   {
    "duration": 143,
    "start_time": "2022-08-27T05:06:20.927Z"
   },
   {
    "duration": 1629,
    "start_time": "2022-08-30T02:21:05.454Z"
   },
   {
    "duration": 2615,
    "start_time": "2022-08-30T02:21:07.085Z"
   },
   {
    "duration": 95,
    "start_time": "2022-08-30T02:21:09.702Z"
   },
   {
    "duration": 3,
    "start_time": "2022-08-30T02:21:09.799Z"
   },
   {
    "duration": 1201,
    "start_time": "2022-08-30T02:21:09.803Z"
   },
   {
    "duration": 71,
    "start_time": "2022-08-30T02:21:11.005Z"
   },
   {
    "duration": 77,
    "start_time": "2022-08-30T02:21:11.077Z"
   },
   {
    "duration": 248,
    "start_time": "2022-08-30T02:21:11.156Z"
   },
   {
    "duration": 149,
    "start_time": "2022-08-30T02:21:25.125Z"
   },
   {
    "duration": 160,
    "start_time": "2022-08-30T02:22:00.431Z"
   },
   {
    "duration": 157,
    "start_time": "2022-08-30T03:25:29.357Z"
   },
   {
    "duration": 14,
    "start_time": "2022-08-30T15:19:54.023Z"
   },
   {
    "duration": 16,
    "start_time": "2022-08-30T15:21:50.549Z"
   },
   {
    "duration": 3,
    "start_time": "2022-08-30T20:02:00.822Z"
   },
   {
    "duration": 598,
    "start_time": "2022-08-30T20:02:01.103Z"
   },
   {
    "duration": 105,
    "start_time": "2022-08-30T20:02:01.702Z"
   },
   {
    "duration": 3,
    "start_time": "2022-08-30T20:02:01.808Z"
   },
   {
    "duration": 1063,
    "start_time": "2022-08-30T20:02:02.009Z"
   },
   {
    "duration": 74,
    "start_time": "2022-08-30T20:02:03.073Z"
   },
   {
    "duration": 72,
    "start_time": "2022-08-30T20:02:03.419Z"
   },
   {
    "duration": 132,
    "start_time": "2022-08-30T20:02:04.026Z"
   },
   {
    "duration": 14,
    "start_time": "2022-08-30T20:02:05.732Z"
   },
   {
    "duration": 144,
    "start_time": "2022-08-30T20:04:09.013Z"
   },
   {
    "duration": 711,
    "start_time": "2022-08-30T20:09:17.293Z"
   },
   {
    "duration": 617,
    "start_time": "2022-08-30T20:10:13.389Z"
   },
   {
    "duration": 619,
    "start_time": "2022-08-30T20:10:20.128Z"
   },
   {
    "duration": 689,
    "start_time": "2022-08-30T20:11:52.625Z"
   },
   {
    "duration": 619,
    "start_time": "2022-08-30T20:12:32.369Z"
   },
   {
    "duration": 848,
    "start_time": "2022-08-30T20:15:30.767Z"
   },
   {
    "duration": 826,
    "start_time": "2022-08-30T20:15:44.405Z"
   },
   {
    "duration": 854,
    "start_time": "2022-08-30T20:15:51.220Z"
   },
   {
    "duration": 0,
    "start_time": "2022-08-30T20:17:56.741Z"
   },
   {
    "duration": 0,
    "start_time": "2022-08-30T20:17:56.742Z"
   },
   {
    "duration": 0,
    "start_time": "2022-08-30T20:17:56.744Z"
   },
   {
    "duration": 0,
    "start_time": "2022-08-30T20:17:56.745Z"
   },
   {
    "duration": 0,
    "start_time": "2022-08-30T20:17:56.746Z"
   },
   {
    "duration": 0,
    "start_time": "2022-08-30T20:17:56.748Z"
   },
   {
    "duration": 0,
    "start_time": "2022-08-30T20:17:56.749Z"
   },
   {
    "duration": 0,
    "start_time": "2022-08-30T20:17:56.750Z"
   },
   {
    "duration": 3,
    "start_time": "2022-08-30T20:17:59.115Z"
   },
   {
    "duration": 653,
    "start_time": "2022-08-30T20:17:59.329Z"
   },
   {
    "duration": 124,
    "start_time": "2022-08-30T20:17:59.984Z"
   },
   {
    "duration": 27,
    "start_time": "2022-08-30T20:18:00.109Z"
   },
   {
    "duration": 1182,
    "start_time": "2022-08-30T20:18:00.138Z"
   },
   {
    "duration": 74,
    "start_time": "2022-08-30T20:18:01.322Z"
   },
   {
    "duration": 89,
    "start_time": "2022-08-30T20:18:01.398Z"
   },
   {
    "duration": 13,
    "start_time": "2022-08-30T20:18:01.488Z"
   },
   {
    "duration": 0,
    "start_time": "2022-08-30T20:24:27.270Z"
   },
   {
    "duration": 0,
    "start_time": "2022-08-30T20:24:27.331Z"
   },
   {
    "duration": 0,
    "start_time": "2022-08-30T20:24:27.334Z"
   },
   {
    "duration": 0,
    "start_time": "2022-08-30T20:24:27.337Z"
   },
   {
    "duration": 0,
    "start_time": "2022-08-30T20:24:27.340Z"
   },
   {
    "duration": 0,
    "start_time": "2022-08-30T20:24:27.342Z"
   },
   {
    "duration": 1,
    "start_time": "2022-08-30T20:24:27.344Z"
   },
   {
    "duration": 1,
    "start_time": "2022-08-30T20:24:27.346Z"
   },
   {
    "duration": 4,
    "start_time": "2022-08-30T20:24:29.777Z"
   },
   {
    "duration": 556,
    "start_time": "2022-08-30T20:24:29.977Z"
   },
   {
    "duration": 108,
    "start_time": "2022-08-30T20:24:30.535Z"
   },
   {
    "duration": 4,
    "start_time": "2022-08-30T20:24:30.645Z"
   },
   {
    "duration": 1058,
    "start_time": "2022-08-30T20:24:30.651Z"
   },
   {
    "duration": 74,
    "start_time": "2022-08-30T20:24:31.712Z"
   },
   {
    "duration": 89,
    "start_time": "2022-08-30T20:24:31.788Z"
   },
   {
    "duration": 485081,
    "start_time": "2022-08-30T20:24:32.777Z"
   },
   {
    "duration": 68,
    "start_time": "2022-08-30T20:33:57.432Z"
   },
   {
    "duration": 16,
    "start_time": "2022-08-30T20:40:17.454Z"
   },
   {
    "duration": 558,
    "start_time": "2022-08-30T20:40:17.472Z"
   },
   {
    "duration": 105,
    "start_time": "2022-08-30T20:40:18.032Z"
   },
   {
    "duration": 3,
    "start_time": "2022-08-30T20:40:18.138Z"
   },
   {
    "duration": 0,
    "start_time": "2022-08-30T20:40:19.041Z"
   },
   {
    "duration": 0,
    "start_time": "2022-08-30T20:40:19.042Z"
   },
   {
    "duration": 0,
    "start_time": "2022-08-30T20:40:19.043Z"
   },
   {
    "duration": 0,
    "start_time": "2022-08-30T20:40:19.043Z"
   },
   {
    "duration": 4,
    "start_time": "2022-08-30T20:40:21.923Z"
   },
   {
    "duration": 516,
    "start_time": "2022-08-30T20:40:22.083Z"
   },
   {
    "duration": 97,
    "start_time": "2022-08-30T20:40:22.601Z"
   },
   {
    "duration": 2,
    "start_time": "2022-08-30T20:40:22.700Z"
   },
   {
    "duration": 889,
    "start_time": "2022-08-30T20:40:22.704Z"
   },
   {
    "duration": 62,
    "start_time": "2022-08-30T20:40:23.595Z"
   },
   {
    "duration": 74,
    "start_time": "2022-08-30T20:40:23.659Z"
   },
   {
    "duration": 3010,
    "start_time": "2022-08-30T20:40:23.735Z"
   },
   {
    "duration": 189,
    "start_time": "2022-08-30T20:40:26.747Z"
   },
   {
    "duration": 4,
    "start_time": "2022-08-30T20:44:55.929Z"
   },
   {
    "duration": 1735,
    "start_time": "2022-08-30T20:44:55.934Z"
   },
   {
    "duration": 0,
    "start_time": "2022-08-30T20:44:57.671Z"
   },
   {
    "duration": 0,
    "start_time": "2022-08-30T20:44:57.673Z"
   },
   {
    "duration": 0,
    "start_time": "2022-08-30T20:44:57.674Z"
   },
   {
    "duration": 0,
    "start_time": "2022-08-30T20:44:57.675Z"
   },
   {
    "duration": 0,
    "start_time": "2022-08-30T20:44:57.676Z"
   },
   {
    "duration": 0,
    "start_time": "2022-08-30T20:44:57.677Z"
   },
   {
    "duration": 0,
    "start_time": "2022-08-30T20:44:57.678Z"
   },
   {
    "duration": 0,
    "start_time": "2022-08-30T20:44:57.679Z"
   },
   {
    "duration": 4,
    "start_time": "2022-08-30T20:44:59.081Z"
   },
   {
    "duration": 508,
    "start_time": "2022-08-30T20:44:59.217Z"
   },
   {
    "duration": 101,
    "start_time": "2022-08-30T20:44:59.730Z"
   },
   {
    "duration": 3,
    "start_time": "2022-08-30T20:44:59.832Z"
   },
   {
    "duration": 977,
    "start_time": "2022-08-30T20:44:59.837Z"
   },
   {
    "duration": 68,
    "start_time": "2022-08-30T20:45:00.817Z"
   },
   {
    "duration": 82,
    "start_time": "2022-08-30T20:45:00.887Z"
   },
   {
    "duration": 71772,
    "start_time": "2022-08-30T20:45:00.971Z"
   },
   {
    "duration": 0,
    "start_time": "2022-08-30T20:46:12.746Z"
   },
   {
    "duration": 0,
    "start_time": "2022-08-30T20:46:12.747Z"
   },
   {
    "duration": 4,
    "start_time": "2022-08-30T20:46:14.063Z"
   },
   {
    "duration": 531,
    "start_time": "2022-08-30T20:46:14.259Z"
   },
   {
    "duration": 103,
    "start_time": "2022-08-30T20:46:14.792Z"
   },
   {
    "duration": 4,
    "start_time": "2022-08-30T20:46:14.897Z"
   },
   {
    "duration": 1140,
    "start_time": "2022-08-30T20:46:14.903Z"
   },
   {
    "duration": 63,
    "start_time": "2022-08-30T20:46:16.045Z"
   },
   {
    "duration": 94,
    "start_time": "2022-08-30T20:46:16.110Z"
   },
   {
    "duration": 0,
    "start_time": "2022-08-30T20:50:30.554Z"
   },
   {
    "duration": 0,
    "start_time": "2022-08-30T20:50:30.555Z"
   },
   {
    "duration": 0,
    "start_time": "2022-08-30T20:50:30.557Z"
   },
   {
    "duration": 4,
    "start_time": "2022-08-30T20:50:35.218Z"
   },
   {
    "duration": 538,
    "start_time": "2022-08-30T20:50:35.459Z"
   },
   {
    "duration": 107,
    "start_time": "2022-08-30T20:50:35.999Z"
   },
   {
    "duration": 4,
    "start_time": "2022-08-30T20:50:36.107Z"
   },
   {
    "duration": 1086,
    "start_time": "2022-08-30T20:50:36.149Z"
   },
   {
    "duration": 62,
    "start_time": "2022-08-30T20:50:37.237Z"
   },
   {
    "duration": 85,
    "start_time": "2022-08-30T20:50:37.300Z"
   },
   {
    "duration": 178423,
    "start_time": "2022-08-30T20:50:37.612Z"
   },
   {
    "duration": 3326,
    "start_time": "2022-08-30T20:53:36.037Z"
   },
   {
    "duration": 0,
    "start_time": "2022-08-30T20:53:39.365Z"
   },
   {
    "duration": 4,
    "start_time": "2022-08-30T20:55:38.468Z"
   },
   {
    "duration": 564,
    "start_time": "2022-08-30T20:55:38.644Z"
   },
   {
    "duration": 108,
    "start_time": "2022-08-30T20:55:39.209Z"
   },
   {
    "duration": 3,
    "start_time": "2022-08-30T20:55:39.318Z"
   },
   {
    "duration": 1120,
    "start_time": "2022-08-30T20:55:39.332Z"
   },
   {
    "duration": 66,
    "start_time": "2022-08-30T20:55:40.453Z"
   },
   {
    "duration": 87,
    "start_time": "2022-08-30T20:55:40.520Z"
   },
   {
    "duration": 0,
    "start_time": "2022-08-30T20:56:03.894Z"
   },
   {
    "duration": 0,
    "start_time": "2022-08-30T20:56:03.895Z"
   },
   {
    "duration": 0,
    "start_time": "2022-08-30T20:56:03.896Z"
   },
   {
    "duration": 0,
    "start_time": "2022-08-30T20:56:03.898Z"
   },
   {
    "duration": 0,
    "start_time": "2022-08-30T20:56:03.899Z"
   },
   {
    "duration": 0,
    "start_time": "2022-08-30T20:56:03.900Z"
   },
   {
    "duration": 0,
    "start_time": "2022-08-30T20:56:03.902Z"
   },
   {
    "duration": 0,
    "start_time": "2022-08-30T20:56:03.903Z"
   },
   {
    "duration": 0,
    "start_time": "2022-08-30T20:56:03.905Z"
   },
   {
    "duration": 0,
    "start_time": "2022-08-30T20:56:03.906Z"
   },
   {
    "duration": 3299,
    "start_time": "2022-08-30T20:56:24.876Z"
   },
   {
    "duration": 0,
    "start_time": "2022-08-30T20:56:28.176Z"
   },
   {
    "duration": 84120,
    "start_time": "2022-08-30T20:56:32.929Z"
   },
   {
    "duration": 3309,
    "start_time": "2022-08-30T20:57:57.051Z"
   },
   {
    "duration": 0,
    "start_time": "2022-08-30T20:58:00.361Z"
   },
   {
    "duration": 140,
    "start_time": "2022-08-30T20:58:29.494Z"
   },
   {
    "duration": 4,
    "start_time": "2022-08-30T20:58:54.282Z"
   },
   {
    "duration": 490,
    "start_time": "2022-08-30T20:58:54.506Z"
   },
   {
    "duration": 101,
    "start_time": "2022-08-30T20:58:54.998Z"
   },
   {
    "duration": 2,
    "start_time": "2022-08-30T20:58:55.101Z"
   },
   {
    "duration": 1042,
    "start_time": "2022-08-30T20:58:55.105Z"
   },
   {
    "duration": 60,
    "start_time": "2022-08-30T20:58:56.149Z"
   },
   {
    "duration": 85,
    "start_time": "2022-08-30T20:58:56.211Z"
   },
   {
    "duration": 127259,
    "start_time": "2022-08-30T20:58:56.299Z"
   },
   {
    "duration": 3270,
    "start_time": "2022-08-30T21:01:03.631Z"
   },
   {
    "duration": 0,
    "start_time": "2022-08-30T21:01:06.902Z"
   },
   {
    "duration": 83,
    "start_time": "2022-08-30T21:01:21.857Z"
   },
   {
    "duration": 5,
    "start_time": "2022-08-30T21:01:23.753Z"
   },
   {
    "duration": 7,
    "start_time": "2022-08-30T21:01:34.057Z"
   },
   {
    "duration": 1735,
    "start_time": "2022-09-01T00:43:52.698Z"
   },
   {
    "duration": 949,
    "start_time": "2022-09-01T00:43:54.435Z"
   },
   {
    "duration": 110,
    "start_time": "2022-09-01T00:43:55.385Z"
   },
   {
    "duration": 4,
    "start_time": "2022-09-01T00:43:55.497Z"
   },
   {
    "duration": 1184,
    "start_time": "2022-09-01T00:43:55.502Z"
   },
   {
    "duration": 75,
    "start_time": "2022-09-01T00:43:56.688Z"
   },
   {
    "duration": 81,
    "start_time": "2022-09-01T00:43:56.765Z"
   },
   {
    "duration": 52875,
    "start_time": "2022-09-01T00:43:56.848Z"
   },
   {
    "duration": 285,
    "start_time": "2022-09-01T00:44:49.725Z"
   },
   {
    "duration": 383,
    "start_time": "2022-09-01T00:44:50.012Z"
   },
   {
    "duration": 8,
    "start_time": "2022-09-01T00:44:50.397Z"
   },
   {
    "duration": 4,
    "start_time": "2022-09-01T00:44:53.201Z"
   },
   {
    "duration": 635,
    "start_time": "2022-09-01T00:44:53.401Z"
   },
   {
    "duration": 132,
    "start_time": "2022-09-01T00:44:54.038Z"
   },
   {
    "duration": 4,
    "start_time": "2022-09-01T00:44:54.171Z"
   },
   {
    "duration": 1163,
    "start_time": "2022-09-01T00:44:54.178Z"
   },
   {
    "duration": 73,
    "start_time": "2022-09-01T00:44:55.343Z"
   },
   {
    "duration": 96,
    "start_time": "2022-09-01T00:44:55.417Z"
   },
   {
    "duration": 360715,
    "start_time": "2022-09-01T00:44:55.514Z"
   },
   {
    "duration": 74,
    "start_time": "2022-09-01T00:50:56.230Z"
   },
   {
    "duration": 60,
    "start_time": "2022-09-01T00:50:56.306Z"
   },
   {
    "duration": 6,
    "start_time": "2022-09-01T00:50:56.367Z"
   },
   {
    "duration": 4,
    "start_time": "2022-09-01T01:10:19.935Z"
   },
   {
    "duration": 585,
    "start_time": "2022-09-01T01:10:20.113Z"
   },
   {
    "duration": 117,
    "start_time": "2022-09-01T01:10:20.700Z"
   },
   {
    "duration": 3,
    "start_time": "2022-09-01T01:10:20.818Z"
   },
   {
    "duration": 1150,
    "start_time": "2022-09-01T01:10:20.823Z"
   },
   {
    "duration": 77,
    "start_time": "2022-09-01T01:10:21.975Z"
   },
   {
    "duration": 93,
    "start_time": "2022-09-01T01:10:22.054Z"
   },
   {
    "duration": 369577,
    "start_time": "2022-09-01T01:10:22.150Z"
   },
   {
    "duration": 3885,
    "start_time": "2022-09-01T01:16:31.729Z"
   },
   {
    "duration": 289,
    "start_time": "2022-09-01T01:16:35.615Z"
   },
   {
    "duration": 97,
    "start_time": "2022-09-01T01:16:35.906Z"
   },
   {
    "duration": 5,
    "start_time": "2022-09-01T02:34:51.842Z"
   },
   {
    "duration": 609,
    "start_time": "2022-09-01T02:34:52.337Z"
   },
   {
    "duration": 114,
    "start_time": "2022-09-01T02:34:52.948Z"
   },
   {
    "duration": 3,
    "start_time": "2022-09-01T02:34:53.064Z"
   },
   {
    "duration": 1116,
    "start_time": "2022-09-01T02:34:53.069Z"
   },
   {
    "duration": 72,
    "start_time": "2022-09-01T02:34:54.187Z"
   },
   {
    "duration": 88,
    "start_time": "2022-09-01T02:34:54.261Z"
   },
   {
    "duration": 365073,
    "start_time": "2022-09-01T02:34:54.350Z"
   },
   {
    "duration": 3988,
    "start_time": "2022-09-01T02:40:59.424Z"
   },
   {
    "duration": 191,
    "start_time": "2022-09-01T02:41:03.414Z"
   },
   {
    "duration": 96,
    "start_time": "2022-09-01T02:41:03.608Z"
   },
   {
    "duration": 6,
    "start_time": "2022-09-01T02:41:23.599Z"
   },
   {
    "duration": 7,
    "start_time": "2022-09-01T02:41:33.043Z"
   },
   {
    "duration": 7,
    "start_time": "2022-09-01T02:42:30.371Z"
   },
   {
    "duration": 7,
    "start_time": "2022-09-01T02:46:43.380Z"
   },
   {
    "duration": 357838,
    "start_time": "2022-09-01T02:46:47.580Z"
   },
   {
    "duration": 3891,
    "start_time": "2022-09-01T02:52:45.419Z"
   },
   {
    "duration": 199,
    "start_time": "2022-09-01T02:52:49.311Z"
   },
   {
    "duration": 7,
    "start_time": "2022-09-01T02:52:49.602Z"
   },
   {
    "duration": 20,
    "start_time": "2022-09-01T03:15:09.167Z"
   },
   {
    "duration": 0,
    "start_time": "2022-09-01T03:16:01.651Z"
   },
   {
    "duration": 4,
    "start_time": "2022-09-01T03:16:04.078Z"
   },
   {
    "duration": 600,
    "start_time": "2022-09-01T03:16:04.579Z"
   },
   {
    "duration": 114,
    "start_time": "2022-09-01T03:16:05.181Z"
   },
   {
    "duration": 3,
    "start_time": "2022-09-01T03:16:05.303Z"
   },
   {
    "duration": 1035,
    "start_time": "2022-09-01T03:16:05.309Z"
   },
   {
    "duration": 76,
    "start_time": "2022-09-01T03:16:06.346Z"
   },
   {
    "duration": 89,
    "start_time": "2022-09-01T03:16:06.424Z"
   },
   {
    "duration": 370002,
    "start_time": "2022-09-01T03:16:06.515Z"
   },
   {
    "duration": 1427505,
    "start_time": "2022-09-01T03:22:16.519Z"
   },
   {
    "duration": 182,
    "start_time": "2022-09-01T03:46:04.025Z"
   },
   {
    "duration": 97,
    "start_time": "2022-09-01T03:46:04.210Z"
   },
   {
    "duration": 7,
    "start_time": "2022-09-01T04:06:30.111Z"
   },
   {
    "duration": 1437701,
    "start_time": "2022-09-01T04:07:06.658Z"
   },
   {
    "duration": 242,
    "start_time": "2022-09-01T04:31:04.361Z"
   },
   {
    "duration": 11,
    "start_time": "2022-09-01T04:31:04.605Z"
   },
   {
    "duration": 7,
    "start_time": "2022-09-01T05:03:57.279Z"
   },
   {
    "duration": 588,
    "start_time": "2022-09-01T05:03:57.779Z"
   },
   {
    "duration": 120,
    "start_time": "2022-09-01T05:03:58.369Z"
   },
   {
    "duration": 12,
    "start_time": "2022-09-01T05:03:58.491Z"
   },
   {
    "duration": 1141,
    "start_time": "2022-09-01T05:03:58.506Z"
   },
   {
    "duration": 73,
    "start_time": "2022-09-01T05:03:59.649Z"
   },
   {
    "duration": 96,
    "start_time": "2022-09-01T05:03:59.724Z"
   },
   {
    "duration": 41992,
    "start_time": "2022-09-01T05:03:59.822Z"
   },
   {
    "duration": 0,
    "start_time": "2022-09-01T05:04:41.815Z"
   },
   {
    "duration": 0,
    "start_time": "2022-09-01T05:04:41.817Z"
   },
   {
    "duration": 0,
    "start_time": "2022-09-01T05:04:41.818Z"
   },
   {
    "duration": 4,
    "start_time": "2022-09-01T05:04:44.507Z"
   },
   {
    "duration": 605,
    "start_time": "2022-09-01T05:04:45.011Z"
   },
   {
    "duration": 119,
    "start_time": "2022-09-01T05:04:45.618Z"
   },
   {
    "duration": 4,
    "start_time": "2022-09-01T05:04:45.739Z"
   },
   {
    "duration": 1136,
    "start_time": "2022-09-01T05:04:45.745Z"
   },
   {
    "duration": 72,
    "start_time": "2022-09-01T05:04:46.883Z"
   },
   {
    "duration": 90,
    "start_time": "2022-09-01T05:04:46.957Z"
   },
   {
    "duration": 367777,
    "start_time": "2022-09-01T05:04:47.049Z"
   },
   {
    "duration": 1453353,
    "start_time": "2022-09-01T05:10:54.829Z"
   },
   {
    "duration": 219,
    "start_time": "2022-09-01T05:35:08.184Z"
   },
   {
    "duration": 9,
    "start_time": "2022-09-01T05:35:08.406Z"
   },
   {
    "duration": 0,
    "start_time": "2022-09-01T06:28:21.537Z"
   },
   {
    "duration": 5,
    "start_time": "2022-09-01T06:28:27.899Z"
   },
   {
    "duration": 599,
    "start_time": "2022-09-01T06:28:28.391Z"
   },
   {
    "duration": 125,
    "start_time": "2022-09-01T06:28:28.991Z"
   },
   {
    "duration": 3,
    "start_time": "2022-09-01T06:28:29.117Z"
   },
   {
    "duration": 1103,
    "start_time": "2022-09-01T06:28:29.122Z"
   },
   {
    "duration": 78,
    "start_time": "2022-09-01T06:28:30.226Z"
   },
   {
    "duration": 82,
    "start_time": "2022-09-01T06:28:30.306Z"
   },
   {
    "duration": 371228,
    "start_time": "2022-09-01T06:28:30.391Z"
   },
   {
    "duration": 0,
    "start_time": "2022-09-01T06:45:41.786Z"
   },
   {
    "duration": 0,
    "start_time": "2022-09-01T06:45:41.787Z"
   },
   {
    "duration": 0,
    "start_time": "2022-09-01T06:45:41.788Z"
   },
   {
    "duration": 4,
    "start_time": "2022-09-01T06:45:43.484Z"
   },
   {
    "duration": 595,
    "start_time": "2022-09-01T06:45:43.706Z"
   },
   {
    "duration": 116,
    "start_time": "2022-09-01T06:45:44.303Z"
   },
   {
    "duration": 4,
    "start_time": "2022-09-01T06:45:44.421Z"
   },
   {
    "duration": 1180,
    "start_time": "2022-09-01T06:45:44.453Z"
   },
   {
    "duration": 75,
    "start_time": "2022-09-01T06:45:45.636Z"
   },
   {
    "duration": 101,
    "start_time": "2022-09-01T06:45:45.712Z"
   },
   {
    "duration": 371589,
    "start_time": "2022-09-01T06:45:45.815Z"
   },
   {
    "duration": 0,
    "start_time": "2022-09-01T07:06:24.808Z"
   },
   {
    "duration": 0,
    "start_time": "2022-09-01T07:06:24.809Z"
   },
   {
    "duration": 0,
    "start_time": "2022-09-01T07:06:24.810Z"
   },
   {
    "duration": 5,
    "start_time": "2022-09-01T07:06:27.097Z"
   },
   {
    "duration": 581,
    "start_time": "2022-09-01T07:06:27.605Z"
   },
   {
    "duration": 119,
    "start_time": "2022-09-01T07:06:28.189Z"
   },
   {
    "duration": 3,
    "start_time": "2022-09-01T07:06:28.310Z"
   },
   {
    "duration": 1153,
    "start_time": "2022-09-01T07:06:28.315Z"
   },
   {
    "duration": 74,
    "start_time": "2022-09-01T07:06:29.470Z"
   },
   {
    "duration": 95,
    "start_time": "2022-09-01T07:06:29.546Z"
   },
   {
    "duration": 0,
    "start_time": "2022-09-01T07:20:45.933Z"
   },
   {
    "duration": 0,
    "start_time": "2022-09-01T07:20:45.934Z"
   },
   {
    "duration": 0,
    "start_time": "2022-09-01T07:20:45.935Z"
   },
   {
    "duration": 0,
    "start_time": "2022-09-01T07:20:45.936Z"
   },
   {
    "duration": 0,
    "start_time": "2022-09-01T07:20:45.937Z"
   },
   {
    "duration": 0,
    "start_time": "2022-09-01T07:20:45.938Z"
   },
   {
    "duration": 0,
    "start_time": "2022-09-01T07:20:45.940Z"
   },
   {
    "duration": 0,
    "start_time": "2022-09-01T07:20:45.941Z"
   },
   {
    "duration": 0,
    "start_time": "2022-09-01T07:20:45.942Z"
   },
   {
    "duration": 0,
    "start_time": "2022-09-01T07:20:45.943Z"
   },
   {
    "duration": 0,
    "start_time": "2022-09-01T07:20:45.944Z"
   },
   {
    "duration": 6,
    "start_time": "2022-09-01T07:20:48.908Z"
   },
   {
    "duration": 627,
    "start_time": "2022-09-01T07:20:49.154Z"
   },
   {
    "duration": 125,
    "start_time": "2022-09-01T07:20:49.784Z"
   },
   {
    "duration": 4,
    "start_time": "2022-09-01T07:20:49.911Z"
   },
   {
    "duration": 1138,
    "start_time": "2022-09-01T07:20:50.153Z"
   },
   {
    "duration": 77,
    "start_time": "2022-09-01T07:20:51.293Z"
   },
   {
    "duration": 85,
    "start_time": "2022-09-01T07:20:51.460Z"
   },
   {
    "duration": 363027,
    "start_time": "2022-09-01T07:20:51.993Z"
   },
   {
    "duration": 0,
    "start_time": "2022-09-01T07:29:35.211Z"
   },
   {
    "duration": 0,
    "start_time": "2022-09-01T07:29:35.212Z"
   },
   {
    "duration": 0,
    "start_time": "2022-09-01T07:29:35.214Z"
   },
   {
    "duration": 4,
    "start_time": "2022-09-01T07:29:43.023Z"
   },
   {
    "duration": 598,
    "start_time": "2022-09-01T07:29:43.662Z"
   },
   {
    "duration": 114,
    "start_time": "2022-09-01T07:29:44.575Z"
   },
   {
    "duration": 3,
    "start_time": "2022-09-01T07:29:45.378Z"
   },
   {
    "duration": 1164,
    "start_time": "2022-09-01T07:29:46.077Z"
   },
   {
    "duration": 69,
    "start_time": "2022-09-01T07:29:49.453Z"
   },
   {
    "duration": 83,
    "start_time": "2022-09-01T07:29:55.982Z"
   },
   {
    "duration": 371765,
    "start_time": "2022-09-01T07:30:14.344Z"
   },
   {
    "duration": 0,
    "start_time": "2022-09-01T07:41:57.356Z"
   },
   {
    "duration": 0,
    "start_time": "2022-09-01T07:41:57.356Z"
   },
   {
    "duration": 0,
    "start_time": "2022-09-01T07:41:57.357Z"
   },
   {
    "duration": 0,
    "start_time": "2022-09-01T07:41:57.358Z"
   },
   {
    "duration": 0,
    "start_time": "2022-09-01T07:41:57.359Z"
   },
   {
    "duration": 0,
    "start_time": "2022-09-01T07:41:57.360Z"
   },
   {
    "duration": 0,
    "start_time": "2022-09-01T07:41:57.361Z"
   },
   {
    "duration": 0,
    "start_time": "2022-09-01T07:41:57.362Z"
   },
   {
    "duration": 0,
    "start_time": "2022-09-01T07:41:57.363Z"
   },
   {
    "duration": 0,
    "start_time": "2022-09-01T07:41:57.364Z"
   },
   {
    "duration": 4,
    "start_time": "2022-09-01T07:42:06.674Z"
   },
   {
    "duration": 597,
    "start_time": "2022-09-01T07:42:07.487Z"
   },
   {
    "duration": 120,
    "start_time": "2022-09-01T07:42:08.086Z"
   },
   {
    "duration": 4,
    "start_time": "2022-09-01T07:42:08.208Z"
   },
   {
    "duration": 1187,
    "start_time": "2022-09-01T07:42:09.269Z"
   },
   {
    "duration": 74,
    "start_time": "2022-09-01T07:42:10.458Z"
   },
   {
    "duration": 363388,
    "start_time": "2022-09-01T07:42:10.534Z"
   },
   {
    "duration": 0,
    "start_time": "2022-09-01T07:53:36.411Z"
   },
   {
    "duration": 0,
    "start_time": "2022-09-01T07:53:36.412Z"
   },
   {
    "duration": 0,
    "start_time": "2022-09-01T07:53:36.414Z"
   },
   {
    "duration": 4,
    "start_time": "2022-09-01T07:53:40.792Z"
   },
   {
    "duration": 618,
    "start_time": "2022-09-01T07:53:41.015Z"
   },
   {
    "duration": 123,
    "start_time": "2022-09-01T07:53:41.635Z"
   },
   {
    "duration": 3,
    "start_time": "2022-09-01T07:53:41.760Z"
   },
   {
    "duration": 1183,
    "start_time": "2022-09-01T07:53:41.824Z"
   },
   {
    "duration": 67,
    "start_time": "2022-09-01T07:53:43.009Z"
   },
   {
    "duration": 203962,
    "start_time": "2022-09-01T07:53:43.656Z"
   },
   {
    "duration": 41229,
    "start_time": "2022-09-01T07:57:07.620Z"
   },
   {
    "duration": 156,
    "start_time": "2022-09-01T07:57:48.851Z"
   },
   {
    "duration": 96,
    "start_time": "2022-09-01T07:57:49.009Z"
   },
   {
    "duration": 85,
    "start_time": "2022-09-01T08:04:03.298Z"
   },
   {
    "duration": 199327,
    "start_time": "2022-09-01T08:04:45.393Z"
   },
   {
    "duration": 41348,
    "start_time": "2022-09-01T08:08:04.721Z"
   },
   {
    "duration": 136,
    "start_time": "2022-09-01T08:08:46.071Z"
   },
   {
    "duration": 98,
    "start_time": "2022-09-01T08:08:46.209Z"
   },
   {
    "duration": 0,
    "start_time": "2022-09-01T08:09:25.222Z"
   },
   {
    "duration": 4,
    "start_time": "2022-09-01T08:09:37.688Z"
   },
   {
    "duration": 595,
    "start_time": "2022-09-01T08:09:38.204Z"
   },
   {
    "duration": 131,
    "start_time": "2022-09-01T08:09:38.801Z"
   },
   {
    "duration": 4,
    "start_time": "2022-09-01T08:09:38.934Z"
   },
   {
    "duration": 1041,
    "start_time": "2022-09-01T08:09:38.941Z"
   },
   {
    "duration": 77,
    "start_time": "2022-09-01T08:09:39.985Z"
   },
   {
    "duration": 200058,
    "start_time": "2022-09-01T08:09:40.064Z"
   },
   {
    "duration": 42387,
    "start_time": "2022-09-01T08:13:00.124Z"
   },
   {
    "duration": 290,
    "start_time": "2022-09-01T08:13:42.512Z"
   },
   {
    "duration": 8,
    "start_time": "2022-09-01T08:13:42.805Z"
   },
   {
    "duration": 15603,
    "start_time": "2022-09-01T08:13:42.815Z"
   },
   {
    "duration": 41684,
    "start_time": "2022-09-01T08:16:06.660Z"
   },
   {
    "duration": 161,
    "start_time": "2022-09-01T08:16:48.346Z"
   },
   {
    "duration": 95,
    "start_time": "2022-09-01T08:16:48.508Z"
   },
   {
    "duration": 7,
    "start_time": "2022-09-01T08:19:29.420Z"
   },
   {
    "duration": 14870,
    "start_time": "2022-09-01T08:19:36.348Z"
   },
   {
    "duration": 42652,
    "start_time": "2022-09-01T08:19:51.302Z"
   },
   {
    "duration": 151,
    "start_time": "2022-09-01T08:20:33.956Z"
   },
   {
    "duration": 95,
    "start_time": "2022-09-01T08:20:34.109Z"
   },
   {
    "duration": 44,
    "start_time": "2022-09-01T23:27:40.193Z"
   },
   {
    "duration": 1595,
    "start_time": "2022-09-01T23:27:45.344Z"
   },
   {
    "duration": 873,
    "start_time": "2022-09-01T23:27:46.941Z"
   },
   {
    "duration": 124,
    "start_time": "2022-09-01T23:27:47.816Z"
   },
   {
    "duration": 7,
    "start_time": "2022-09-01T23:27:47.941Z"
   },
   {
    "duration": 1031,
    "start_time": "2022-09-01T23:27:48.571Z"
   },
   {
    "duration": 5,
    "start_time": "2022-09-01T23:27:49.604Z"
   },
   {
    "duration": 3,
    "start_time": "2022-09-01T23:27:58.009Z"
   },
   {
    "duration": 6,
    "start_time": "2022-09-01T23:28:12.307Z"
   },
   {
    "duration": 570,
    "start_time": "2022-09-01T23:28:12.500Z"
   },
   {
    "duration": 120,
    "start_time": "2022-09-01T23:28:13.072Z"
   },
   {
    "duration": 3,
    "start_time": "2022-09-01T23:28:13.194Z"
   },
   {
    "duration": 4,
    "start_time": "2022-09-01T23:28:13.549Z"
   },
   {
    "duration": 1022,
    "start_time": "2022-09-01T23:28:15.742Z"
   },
   {
    "duration": 4,
    "start_time": "2022-09-01T23:28:16.971Z"
   },
   {
    "duration": 73,
    "start_time": "2022-09-01T23:28:43.512Z"
   },
   {
    "duration": 46,
    "start_time": "2022-09-01T23:30:10.908Z"
   },
   {
    "duration": 50,
    "start_time": "2022-09-01T23:30:27.634Z"
   },
   {
    "duration": 45,
    "start_time": "2022-09-01T23:30:41.911Z"
   },
   {
    "duration": 186,
    "start_time": "2022-09-01T23:31:58.969Z"
   },
   {
    "duration": 21,
    "start_time": "2022-09-01T23:32:17.366Z"
   },
   {
    "duration": 91,
    "start_time": "2022-09-01T23:34:24.922Z"
   },
   {
    "duration": 4,
    "start_time": "2022-09-01T23:34:35.043Z"
   },
   {
    "duration": 541,
    "start_time": "2022-09-01T23:34:35.542Z"
   },
   {
    "duration": 134,
    "start_time": "2022-09-01T23:34:36.086Z"
   },
   {
    "duration": 72,
    "start_time": "2022-09-01T23:34:36.222Z"
   },
   {
    "duration": 3,
    "start_time": "2022-09-01T23:34:36.296Z"
   },
   {
    "duration": 5,
    "start_time": "2022-09-01T23:34:36.300Z"
   },
   {
    "duration": 1155,
    "start_time": "2022-09-01T23:34:36.306Z"
   },
   {
    "duration": 4,
    "start_time": "2022-09-01T23:34:37.462Z"
   },
   {
    "duration": 72,
    "start_time": "2022-09-01T23:34:37.467Z"
   },
   {
    "duration": 45,
    "start_time": "2022-09-01T23:34:37.540Z"
   },
   {
    "duration": 74,
    "start_time": "2022-09-01T23:34:37.587Z"
   },
   {
    "duration": 91,
    "start_time": "2022-09-01T23:35:12.210Z"
   },
   {
    "duration": 912,
    "start_time": "2022-09-01T23:36:28.001Z"
   },
   {
    "duration": 13005,
    "start_time": "2022-09-01T23:36:47.737Z"
   },
   {
    "duration": 13624,
    "start_time": "2022-09-01T23:37:44.019Z"
   },
   {
    "duration": 59,
    "start_time": "2022-09-01T23:41:31.063Z"
   },
   {
    "duration": 7035,
    "start_time": "2022-09-01T23:45:59.525Z"
   },
   {
    "duration": 15844,
    "start_time": "2022-09-01T23:47:01.383Z"
   },
   {
    "duration": 217,
    "start_time": "2022-09-01T23:47:17.229Z"
   },
   {
    "duration": 93,
    "start_time": "2022-09-01T23:47:17.448Z"
   },
   {
    "duration": 77,
    "start_time": "2022-09-01T23:51:47.564Z"
   },
   {
    "duration": 46,
    "start_time": "2022-09-01T23:51:55.089Z"
   },
   {
    "duration": 3012,
    "start_time": "2022-09-01T23:52:24.337Z"
   },
   {
    "duration": 9688,
    "start_time": "2022-09-01T23:52:30.993Z"
   },
   {
    "duration": 59,
    "start_time": "2022-09-01T23:52:40.683Z"
   },
   {
    "duration": 94,
    "start_time": "2022-09-01T23:52:40.746Z"
   },
   {
    "duration": 9912,
    "start_time": "2022-09-02T00:01:49.608Z"
   },
   {
    "duration": 36,
    "start_time": "2022-09-02T00:01:59.522Z"
   },
   {
    "duration": 99,
    "start_time": "2022-09-02T00:01:59.639Z"
   },
   {
    "duration": 9844,
    "start_time": "2022-09-02T00:03:58.685Z"
   },
   {
    "duration": 6,
    "start_time": "2022-09-02T00:04:50.518Z"
   },
   {
    "duration": 3111,
    "start_time": "2022-09-02T00:05:18.037Z"
   },
   {
    "duration": 9825,
    "start_time": "2022-09-02T00:05:21.150Z"
   },
   {
    "duration": 162,
    "start_time": "2022-09-02T00:05:30.977Z"
   },
   {
    "duration": 10,
    "start_time": "2022-09-02T00:05:31.142Z"
   },
   {
    "duration": 2441,
    "start_time": "2022-09-02T00:09:38.708Z"
   },
   {
    "duration": 2767,
    "start_time": "2022-09-02T00:10:06.473Z"
   },
   {
    "duration": 44,
    "start_time": "2022-09-03T18:37:55.939Z"
   },
   {
    "duration": 1781,
    "start_time": "2022-09-03T18:38:01.401Z"
   },
   {
    "duration": 2688,
    "start_time": "2022-09-03T18:38:03.184Z"
   },
   {
    "duration": 97,
    "start_time": "2022-09-03T18:38:05.874Z"
   },
   {
    "duration": 71,
    "start_time": "2022-09-03T18:38:05.974Z"
   },
   {
    "duration": 11,
    "start_time": "2022-09-03T18:38:06.046Z"
   },
   {
    "duration": 7,
    "start_time": "2022-09-03T18:38:06.059Z"
   },
   {
    "duration": 1083,
    "start_time": "2022-09-03T18:38:06.068Z"
   },
   {
    "duration": 3,
    "start_time": "2022-09-03T18:38:07.155Z"
   },
   {
    "duration": 66,
    "start_time": "2022-09-03T18:38:07.160Z"
   },
   {
    "duration": 64,
    "start_time": "2022-09-03T18:38:07.229Z"
   },
   {
    "duration": 3171,
    "start_time": "2022-09-03T18:38:07.295Z"
   },
   {
    "duration": 9622,
    "start_time": "2022-09-03T18:38:10.467Z"
   },
   {
    "duration": 169,
    "start_time": "2022-09-03T18:38:20.090Z"
   },
   {
    "duration": 7,
    "start_time": "2022-09-03T18:38:20.261Z"
   },
   {
    "duration": 2607,
    "start_time": "2022-09-03T18:38:20.354Z"
   },
   {
    "duration": 5,
    "start_time": "2022-09-03T18:41:05.679Z"
   },
   {
    "duration": 567,
    "start_time": "2022-09-03T18:41:06.179Z"
   },
   {
    "duration": 126,
    "start_time": "2022-09-03T18:41:06.748Z"
   },
   {
    "duration": 61,
    "start_time": "2022-09-03T18:41:06.875Z"
   },
   {
    "duration": 3,
    "start_time": "2022-09-03T18:41:06.938Z"
   },
   {
    "duration": 3,
    "start_time": "2022-09-03T18:41:06.955Z"
   },
   {
    "duration": 1022,
    "start_time": "2022-09-03T18:41:06.959Z"
   },
   {
    "duration": 3,
    "start_time": "2022-09-03T18:41:07.983Z"
   },
   {
    "duration": 4,
    "start_time": "2022-09-03T18:42:53.106Z"
   },
   {
    "duration": 556,
    "start_time": "2022-09-03T18:42:53.602Z"
   },
   {
    "duration": 105,
    "start_time": "2022-09-03T18:42:54.159Z"
   },
   {
    "duration": 63,
    "start_time": "2022-09-03T18:42:54.265Z"
   },
   {
    "duration": 4,
    "start_time": "2022-09-03T18:42:54.330Z"
   },
   {
    "duration": 21,
    "start_time": "2022-09-03T18:42:54.335Z"
   },
   {
    "duration": 1019,
    "start_time": "2022-09-03T18:42:54.358Z"
   },
   {
    "duration": 4,
    "start_time": "2022-09-03T18:42:55.379Z"
   },
   {
    "duration": 75,
    "start_time": "2022-09-03T18:42:55.384Z"
   },
   {
    "duration": 45,
    "start_time": "2022-09-03T18:42:55.461Z"
   },
   {
    "duration": 3249,
    "start_time": "2022-09-03T18:42:55.507Z"
   },
   {
    "duration": 9063,
    "start_time": "2022-09-03T18:42:58.758Z"
   },
   {
    "duration": 44,
    "start_time": "2022-09-03T18:43:07.822Z"
   },
   {
    "duration": 92,
    "start_time": "2022-09-03T18:43:07.868Z"
   },
   {
    "duration": 2601,
    "start_time": "2022-09-03T18:43:07.962Z"
   },
   {
    "duration": 533,
    "start_time": "2022-09-03T18:44:21.322Z"
   },
   {
    "duration": 3142,
    "start_time": "2022-09-03T18:46:04.029Z"
   },
   {
    "duration": 16365,
    "start_time": "2022-09-03T18:49:14.727Z"
   },
   {
    "duration": 4,
    "start_time": "2022-09-03T18:49:44.623Z"
   },
   {
    "duration": 558,
    "start_time": "2022-09-03T18:49:44.906Z"
   },
   {
    "duration": 100,
    "start_time": "2022-09-03T18:49:45.466Z"
   },
   {
    "duration": 100,
    "start_time": "2022-09-03T18:49:45.568Z"
   },
   {
    "duration": 4,
    "start_time": "2022-09-03T18:49:45.982Z"
   },
   {
    "duration": 23,
    "start_time": "2022-09-03T18:49:45.987Z"
   },
   {
    "duration": 1040,
    "start_time": "2022-09-03T18:49:46.073Z"
   },
   {
    "duration": 3,
    "start_time": "2022-09-03T18:49:47.115Z"
   },
   {
    "duration": 113,
    "start_time": "2022-09-03T18:49:47.119Z"
   },
   {
    "duration": 64,
    "start_time": "2022-09-03T18:49:47.234Z"
   },
   {
    "duration": 67304,
    "start_time": "2022-09-03T18:49:48.273Z"
   },
   {
    "duration": 0,
    "start_time": "2022-09-03T18:50:55.578Z"
   },
   {
    "duration": 0,
    "start_time": "2022-09-03T18:50:55.579Z"
   },
   {
    "duration": 0,
    "start_time": "2022-09-03T18:50:55.581Z"
   },
   {
    "duration": 0,
    "start_time": "2022-09-03T18:50:55.582Z"
   },
   {
    "duration": 145,
    "start_time": "2022-09-03T18:52:03.529Z"
   },
   {
    "duration": 3220,
    "start_time": "2022-09-03T18:52:56.442Z"
   },
   {
    "duration": 11853,
    "start_time": "2022-09-03T18:53:15.704Z"
   },
   {
    "duration": 0,
    "start_time": "2022-09-03T18:53:27.559Z"
   },
   {
    "duration": 0,
    "start_time": "2022-09-03T18:53:27.560Z"
   },
   {
    "duration": 0,
    "start_time": "2022-09-03T18:53:27.561Z"
   },
   {
    "duration": 0,
    "start_time": "2022-09-03T18:53:27.562Z"
   },
   {
    "duration": 76734,
    "start_time": "2022-09-03T19:07:17.930Z"
   },
   {
    "duration": 16948,
    "start_time": "2022-09-03T19:08:34.665Z"
   },
   {
    "duration": 45,
    "start_time": "2022-09-03T19:08:51.615Z"
   },
   {
    "duration": 218,
    "start_time": "2022-09-03T19:08:51.662Z"
   },
   {
    "duration": 0,
    "start_time": "2022-09-03T19:15:50.591Z"
   },
   {
    "duration": 0,
    "start_time": "2022-09-03T19:15:50.656Z"
   },
   {
    "duration": 0,
    "start_time": "2022-09-03T19:15:50.657Z"
   },
   {
    "duration": 0,
    "start_time": "2022-09-03T19:15:50.658Z"
   },
   {
    "duration": 0,
    "start_time": "2022-09-03T19:15:50.660Z"
   },
   {
    "duration": 0,
    "start_time": "2022-09-03T19:15:50.661Z"
   },
   {
    "duration": 0,
    "start_time": "2022-09-03T19:15:50.663Z"
   },
   {
    "duration": 0,
    "start_time": "2022-09-03T19:15:50.664Z"
   },
   {
    "duration": 0,
    "start_time": "2022-09-03T19:15:50.666Z"
   },
   {
    "duration": 1,
    "start_time": "2022-09-03T19:15:50.666Z"
   },
   {
    "duration": 0,
    "start_time": "2022-09-03T19:15:50.668Z"
   },
   {
    "duration": 1,
    "start_time": "2022-09-03T19:15:50.669Z"
   },
   {
    "duration": 1,
    "start_time": "2022-09-03T19:15:50.670Z"
   },
   {
    "duration": 0,
    "start_time": "2022-09-03T19:15:50.672Z"
   },
   {
    "duration": 42,
    "start_time": "2022-09-03T19:15:50.860Z"
   },
   {
    "duration": 6,
    "start_time": "2022-09-03T19:20:05.975Z"
   },
   {
    "duration": 572,
    "start_time": "2022-09-03T19:20:06.474Z"
   },
   {
    "duration": 99,
    "start_time": "2022-09-03T19:20:07.048Z"
   },
   {
    "duration": 63,
    "start_time": "2022-09-03T19:20:07.154Z"
   },
   {
    "duration": 4,
    "start_time": "2022-09-03T19:20:07.219Z"
   },
   {
    "duration": 16,
    "start_time": "2022-09-03T19:20:07.224Z"
   },
   {
    "duration": 966,
    "start_time": "2022-09-03T19:20:07.242Z"
   },
   {
    "duration": 5,
    "start_time": "2022-09-03T19:20:08.209Z"
   },
   {
    "duration": 76,
    "start_time": "2022-09-03T19:20:08.216Z"
   },
   {
    "duration": 62,
    "start_time": "2022-09-03T19:20:08.294Z"
   },
   {
    "duration": 107904,
    "start_time": "2022-09-03T19:20:08.358Z"
   },
   {
    "duration": 16638,
    "start_time": "2022-09-03T19:21:56.264Z"
   },
   {
    "duration": 154,
    "start_time": "2022-09-03T19:22:12.904Z"
   },
   {
    "duration": 40,
    "start_time": "2022-09-03T19:22:13.060Z"
   },
   {
    "duration": 18175,
    "start_time": "2022-09-03T19:22:13.102Z"
   },
   {
    "duration": 46530,
    "start_time": "2022-09-03T19:22:43.255Z"
   },
   {
    "duration": 0,
    "start_time": "2022-09-03T19:23:29.787Z"
   },
   {
    "duration": 0,
    "start_time": "2022-09-03T19:23:29.787Z"
   },
   {
    "duration": 0,
    "start_time": "2022-09-03T19:23:29.788Z"
   },
   {
    "duration": 0,
    "start_time": "2022-09-03T19:23:29.788Z"
   },
   {
    "duration": 4,
    "start_time": "2022-09-03T19:23:44.388Z"
   },
   {
    "duration": 569,
    "start_time": "2022-09-03T19:23:44.888Z"
   },
   {
    "duration": 110,
    "start_time": "2022-09-03T19:23:45.461Z"
   },
   {
    "duration": 75,
    "start_time": "2022-09-03T19:23:45.573Z"
   },
   {
    "duration": 15,
    "start_time": "2022-09-03T19:23:45.650Z"
   },
   {
    "duration": 13,
    "start_time": "2022-09-03T19:23:45.667Z"
   },
   {
    "duration": 950,
    "start_time": "2022-09-03T19:23:45.682Z"
   },
   {
    "duration": 4,
    "start_time": "2022-09-03T19:23:46.633Z"
   },
   {
    "duration": 79,
    "start_time": "2022-09-03T19:23:46.638Z"
   },
   {
    "duration": 64,
    "start_time": "2022-09-03T19:23:46.718Z"
   },
   {
    "duration": 0,
    "start_time": "2022-09-03T19:24:37.382Z"
   },
   {
    "duration": 0,
    "start_time": "2022-09-03T19:24:37.383Z"
   },
   {
    "duration": 0,
    "start_time": "2022-09-03T19:24:37.383Z"
   },
   {
    "duration": 0,
    "start_time": "2022-09-03T19:24:37.386Z"
   },
   {
    "duration": 0,
    "start_time": "2022-09-03T19:24:37.387Z"
   },
   {
    "duration": 4,
    "start_time": "2022-09-03T19:24:43.608Z"
   },
   {
    "duration": 549,
    "start_time": "2022-09-03T19:24:43.614Z"
   },
   {
    "duration": 98,
    "start_time": "2022-09-03T19:24:44.165Z"
   },
   {
    "duration": 67,
    "start_time": "2022-09-03T19:24:44.267Z"
   },
   {
    "duration": 4,
    "start_time": "2022-09-03T19:24:44.336Z"
   },
   {
    "duration": 6,
    "start_time": "2022-09-03T19:24:44.341Z"
   },
   {
    "duration": 1047,
    "start_time": "2022-09-03T19:24:44.348Z"
   },
   {
    "duration": 4,
    "start_time": "2022-09-03T19:24:45.396Z"
   },
   {
    "duration": 79,
    "start_time": "2022-09-03T19:24:45.401Z"
   },
   {
    "duration": 58,
    "start_time": "2022-09-03T19:24:45.481Z"
   },
   {
    "duration": 365428,
    "start_time": "2022-09-03T19:24:45.541Z"
   },
   {
    "duration": 0,
    "start_time": "2022-09-03T19:30:50.971Z"
   },
   {
    "duration": 0,
    "start_time": "2022-09-03T19:30:50.972Z"
   },
   {
    "duration": 0,
    "start_time": "2022-09-03T19:30:50.973Z"
   },
   {
    "duration": 4,
    "start_time": "2022-09-03T19:34:22.509Z"
   },
   {
    "duration": 526,
    "start_time": "2022-09-03T19:34:23.009Z"
   },
   {
    "duration": 96,
    "start_time": "2022-09-03T19:34:23.537Z"
   },
   {
    "duration": 72,
    "start_time": "2022-09-03T19:34:23.635Z"
   },
   {
    "duration": 4,
    "start_time": "2022-09-03T19:34:23.708Z"
   },
   {
    "duration": 7,
    "start_time": "2022-09-03T19:34:23.713Z"
   },
   {
    "duration": 1062,
    "start_time": "2022-09-03T19:34:23.721Z"
   },
   {
    "duration": 4,
    "start_time": "2022-09-03T19:34:24.784Z"
   },
   {
    "duration": 105,
    "start_time": "2022-09-03T19:34:24.789Z"
   },
   {
    "duration": 46,
    "start_time": "2022-09-03T19:34:24.896Z"
   },
   {
    "duration": 117857,
    "start_time": "2022-09-03T19:34:25.003Z"
   },
   {
    "duration": 108278,
    "start_time": "2022-09-03T19:36:22.862Z"
   },
   {
    "duration": 34,
    "start_time": "2022-09-03T19:38:11.141Z"
   },
   {
    "duration": 205,
    "start_time": "2022-09-03T19:38:11.177Z"
   },
   {
    "duration": 133178,
    "start_time": "2022-09-03T19:38:11.384Z"
   }
  ],
  "kernelspec": {
   "display_name": "Python 3",
   "language": "python",
   "name": "python3"
  },
  "language_info": {
   "codemirror_mode": {
    "name": "ipython",
    "version": 3
   },
   "file_extension": ".py",
   "mimetype": "text/x-python",
   "name": "python",
   "nbconvert_exporter": "python",
   "pygments_lexer": "ipython3",
   "version": "3.8.8"
  },
  "toc": {
   "base_numbering": 1,
   "nav_menu": {},
   "number_sections": true,
   "sideBar": true,
   "skip_h1_title": true,
   "title_cell": "Table of Contents",
   "title_sidebar": "Contents",
   "toc_cell": false,
   "toc_position": {},
   "toc_section_display": true,
   "toc_window_display": false
  }
 },
 "nbformat": 4,
 "nbformat_minor": 2
}
