{
 "cells": [
  {
   "cell_type": "markdown",
   "metadata": {},
   "source": [
    "# Statement"
   ]
  },
  {
   "cell_type": "markdown",
   "metadata": {},
   "source": [
    "The Sure Tomorrow insurance company wants to solve several tasks with the help of Machine Learning and you are asked to evaluate that possibility.\n",
    "\n",
    "- Task 1: Find customers who are similar to a given customer. This will help the company's agents with marketing.\n",
    "- Task 2: Predict whether a new customer is likely to receive an insurance benefit. Can a prediction model do better than a dummy model?\n",
    "- Task 3: Predict the number of insurance benefits a new customer is likely to receive using a linear regression model.\n",
    "- Task 4: Protect clients' personal data without breaking the model from the previous task. It's necessary to develop a data transformation algorithm that would make it hard to recover personal information if the data fell into the wrong hands. This is called data masking, or data obfuscation. But the data should be protected in such a way that the quality of machine learning models doesn't suffer. You don't need to pick the best model, just prove that the algorithm works correctly."
   ]
  },
  {
   "cell_type": "markdown",
   "metadata": {},
   "source": [
    "# Data Preprocessing & Exploration\n",
    "\n",
    "## Initialization"
   ]
  },
  {
   "cell_type": "code",
   "execution_count": 58,
   "metadata": {},
   "outputs": [
    {
     "name": "stdout",
     "output_type": "stream",
     "text": [
      "Requirement already satisfied: scikit-learn in /opt/conda/lib/python3.9/site-packages (1.1.2)\n",
      "Requirement already satisfied: joblib>=1.0.0 in /opt/conda/lib/python3.9/site-packages (from scikit-learn) (1.1.0)\n",
      "Requirement already satisfied: threadpoolctl>=2.0.0 in /opt/conda/lib/python3.9/site-packages (from scikit-learn) (3.1.0)\n",
      "Requirement already satisfied: numpy>=1.17.3 in /opt/conda/lib/python3.9/site-packages (from scikit-learn) (1.21.1)\n",
      "Requirement already satisfied: scipy>=1.3.2 in /opt/conda/lib/python3.9/site-packages (from scikit-learn) (1.8.0)\n",
      "Note: you may need to restart the kernel to use updated packages.\n"
     ]
    }
   ],
   "source": [
    "pip install scikit-learn --upgrade"
   ]
  },
  {
   "cell_type": "code",
   "execution_count": 59,
   "metadata": {},
   "outputs": [],
   "source": [
    "import numpy as np\n",
    "import pandas as pd\n",
    "import math #needed for later\n",
    "import seaborn as sns\n",
    "\n",
    "import sklearn.linear_model\n",
    "import sklearn.metrics\n",
    "import sklearn.neighbors\n",
    "import sklearn.preprocessing\n",
    "\n",
    "from sklearn.model_selection import train_test_split\n",
    "\n",
    "from IPython.display import display"
   ]
  },
  {
   "cell_type": "markdown",
   "metadata": {},
   "source": [
    "## Load Data"
   ]
  },
  {
   "cell_type": "markdown",
   "metadata": {},
   "source": [
    "Load data and conduct a basic check that it's free from obvious issues."
   ]
  },
  {
   "cell_type": "code",
   "execution_count": 60,
   "metadata": {},
   "outputs": [],
   "source": [
    "df = pd.read_csv('/datasets/insurance_us.csv')"
   ]
  },
  {
   "cell_type": "markdown",
   "metadata": {},
   "source": [
    "We rename the colums to make the code look more consistent with its style."
   ]
  },
  {
   "cell_type": "code",
   "execution_count": 61,
   "metadata": {},
   "outputs": [],
   "source": [
    "df = df.rename(columns={'Gender': 'gender', 'Age': 'age', 'Salary': 'income', 'Family members': 'family_members', 'Insurance benefits': 'insurance_benefits'})"
   ]
  },
  {
   "cell_type": "code",
   "execution_count": 62,
   "metadata": {},
   "outputs": [
    {
     "data": {
      "text/html": [
       "<div>\n",
       "<style scoped>\n",
       "    .dataframe tbody tr th:only-of-type {\n",
       "        vertical-align: middle;\n",
       "    }\n",
       "\n",
       "    .dataframe tbody tr th {\n",
       "        vertical-align: top;\n",
       "    }\n",
       "\n",
       "    .dataframe thead th {\n",
       "        text-align: right;\n",
       "    }\n",
       "</style>\n",
       "<table border=\"1\" class=\"dataframe\">\n",
       "  <thead>\n",
       "    <tr style=\"text-align: right;\">\n",
       "      <th></th>\n",
       "      <th>gender</th>\n",
       "      <th>age</th>\n",
       "      <th>income</th>\n",
       "      <th>family_members</th>\n",
       "      <th>insurance_benefits</th>\n",
       "    </tr>\n",
       "  </thead>\n",
       "  <tbody>\n",
       "    <tr>\n",
       "      <th>3938</th>\n",
       "      <td>1</td>\n",
       "      <td>23.0</td>\n",
       "      <td>32200.0</td>\n",
       "      <td>1</td>\n",
       "      <td>0</td>\n",
       "    </tr>\n",
       "    <tr>\n",
       "      <th>3190</th>\n",
       "      <td>1</td>\n",
       "      <td>25.0</td>\n",
       "      <td>62200.0</td>\n",
       "      <td>2</td>\n",
       "      <td>0</td>\n",
       "    </tr>\n",
       "    <tr>\n",
       "      <th>426</th>\n",
       "      <td>0</td>\n",
       "      <td>23.0</td>\n",
       "      <td>36900.0</td>\n",
       "      <td>1</td>\n",
       "      <td>0</td>\n",
       "    </tr>\n",
       "    <tr>\n",
       "      <th>1180</th>\n",
       "      <td>1</td>\n",
       "      <td>35.0</td>\n",
       "      <td>37900.0</td>\n",
       "      <td>1</td>\n",
       "      <td>0</td>\n",
       "    </tr>\n",
       "    <tr>\n",
       "      <th>4292</th>\n",
       "      <td>1</td>\n",
       "      <td>33.0</td>\n",
       "      <td>43600.0</td>\n",
       "      <td>2</td>\n",
       "      <td>0</td>\n",
       "    </tr>\n",
       "    <tr>\n",
       "      <th>1189</th>\n",
       "      <td>0</td>\n",
       "      <td>28.0</td>\n",
       "      <td>39800.0</td>\n",
       "      <td>1</td>\n",
       "      <td>0</td>\n",
       "    </tr>\n",
       "    <tr>\n",
       "      <th>3549</th>\n",
       "      <td>0</td>\n",
       "      <td>28.0</td>\n",
       "      <td>47100.0</td>\n",
       "      <td>3</td>\n",
       "      <td>0</td>\n",
       "    </tr>\n",
       "    <tr>\n",
       "      <th>1300</th>\n",
       "      <td>0</td>\n",
       "      <td>37.0</td>\n",
       "      <td>57500.0</td>\n",
       "      <td>2</td>\n",
       "      <td>0</td>\n",
       "    </tr>\n",
       "    <tr>\n",
       "      <th>2339</th>\n",
       "      <td>1</td>\n",
       "      <td>30.0</td>\n",
       "      <td>52600.0</td>\n",
       "      <td>4</td>\n",
       "      <td>0</td>\n",
       "    </tr>\n",
       "    <tr>\n",
       "      <th>3492</th>\n",
       "      <td>0</td>\n",
       "      <td>28.0</td>\n",
       "      <td>22700.0</td>\n",
       "      <td>4</td>\n",
       "      <td>0</td>\n",
       "    </tr>\n",
       "  </tbody>\n",
       "</table>\n",
       "</div>"
      ],
      "text/plain": [
       "      gender   age   income  family_members  insurance_benefits\n",
       "3938       1  23.0  32200.0               1                   0\n",
       "3190       1  25.0  62200.0               2                   0\n",
       "426        0  23.0  36900.0               1                   0\n",
       "1180       1  35.0  37900.0               1                   0\n",
       "4292       1  33.0  43600.0               2                   0\n",
       "1189       0  28.0  39800.0               1                   0\n",
       "3549       0  28.0  47100.0               3                   0\n",
       "1300       0  37.0  57500.0               2                   0\n",
       "2339       1  30.0  52600.0               4                   0\n",
       "3492       0  28.0  22700.0               4                   0"
      ]
     },
     "execution_count": 62,
     "metadata": {},
     "output_type": "execute_result"
    }
   ],
   "source": [
    "df.sample(10)"
   ]
  },
  {
   "cell_type": "code",
   "execution_count": 63,
   "metadata": {},
   "outputs": [
    {
     "name": "stdout",
     "output_type": "stream",
     "text": [
      "<class 'pandas.core.frame.DataFrame'>\n",
      "RangeIndex: 5000 entries, 0 to 4999\n",
      "Data columns (total 5 columns):\n",
      " #   Column              Non-Null Count  Dtype  \n",
      "---  ------              --------------  -----  \n",
      " 0   gender              5000 non-null   int64  \n",
      " 1   age                 5000 non-null   float64\n",
      " 2   income              5000 non-null   float64\n",
      " 3   family_members      5000 non-null   int64  \n",
      " 4   insurance_benefits  5000 non-null   int64  \n",
      "dtypes: float64(2), int64(3)\n",
      "memory usage: 195.4 KB\n"
     ]
    }
   ],
   "source": [
    "df.info()"
   ]
  },
  {
   "cell_type": "code",
   "execution_count": 64,
   "metadata": {},
   "outputs": [],
   "source": [
    "# we may want to fix the age type (from float to int) though this is not critical\n",
    "\n",
    "# write your conversion here if you choose:\n",
    "df['age'] = df['age'].astype('int')"
   ]
  },
  {
   "cell_type": "code",
   "execution_count": 65,
   "metadata": {},
   "outputs": [
    {
     "name": "stdout",
     "output_type": "stream",
     "text": [
      "<class 'pandas.core.frame.DataFrame'>\n",
      "RangeIndex: 5000 entries, 0 to 4999\n",
      "Data columns (total 5 columns):\n",
      " #   Column              Non-Null Count  Dtype  \n",
      "---  ------              --------------  -----  \n",
      " 0   gender              5000 non-null   int64  \n",
      " 1   age                 5000 non-null   int64  \n",
      " 2   income              5000 non-null   float64\n",
      " 3   family_members      5000 non-null   int64  \n",
      " 4   insurance_benefits  5000 non-null   int64  \n",
      "dtypes: float64(1), int64(4)\n",
      "memory usage: 195.4 KB\n"
     ]
    }
   ],
   "source": [
    "# check to see that the conversion was successful\n",
    "df.info()"
   ]
  },
  {
   "cell_type": "code",
   "execution_count": 66,
   "metadata": {
    "scrolled": true
   },
   "outputs": [
    {
     "data": {
      "text/html": [
       "<div>\n",
       "<style scoped>\n",
       "    .dataframe tbody tr th:only-of-type {\n",
       "        vertical-align: middle;\n",
       "    }\n",
       "\n",
       "    .dataframe tbody tr th {\n",
       "        vertical-align: top;\n",
       "    }\n",
       "\n",
       "    .dataframe thead th {\n",
       "        text-align: right;\n",
       "    }\n",
       "</style>\n",
       "<table border=\"1\" class=\"dataframe\">\n",
       "  <thead>\n",
       "    <tr style=\"text-align: right;\">\n",
       "      <th></th>\n",
       "      <th>gender</th>\n",
       "      <th>age</th>\n",
       "      <th>income</th>\n",
       "      <th>family_members</th>\n",
       "      <th>insurance_benefits</th>\n",
       "    </tr>\n",
       "  </thead>\n",
       "  <tbody>\n",
       "    <tr>\n",
       "      <th>count</th>\n",
       "      <td>5000.000000</td>\n",
       "      <td>5000.000000</td>\n",
       "      <td>5000.000000</td>\n",
       "      <td>5000.000000</td>\n",
       "      <td>5000.000000</td>\n",
       "    </tr>\n",
       "    <tr>\n",
       "      <th>mean</th>\n",
       "      <td>0.499000</td>\n",
       "      <td>30.952800</td>\n",
       "      <td>39916.360000</td>\n",
       "      <td>1.194200</td>\n",
       "      <td>0.148000</td>\n",
       "    </tr>\n",
       "    <tr>\n",
       "      <th>std</th>\n",
       "      <td>0.500049</td>\n",
       "      <td>8.440807</td>\n",
       "      <td>9900.083569</td>\n",
       "      <td>1.091387</td>\n",
       "      <td>0.463183</td>\n",
       "    </tr>\n",
       "    <tr>\n",
       "      <th>min</th>\n",
       "      <td>0.000000</td>\n",
       "      <td>18.000000</td>\n",
       "      <td>5300.000000</td>\n",
       "      <td>0.000000</td>\n",
       "      <td>0.000000</td>\n",
       "    </tr>\n",
       "    <tr>\n",
       "      <th>25%</th>\n",
       "      <td>0.000000</td>\n",
       "      <td>24.000000</td>\n",
       "      <td>33300.000000</td>\n",
       "      <td>0.000000</td>\n",
       "      <td>0.000000</td>\n",
       "    </tr>\n",
       "    <tr>\n",
       "      <th>50%</th>\n",
       "      <td>0.000000</td>\n",
       "      <td>30.000000</td>\n",
       "      <td>40200.000000</td>\n",
       "      <td>1.000000</td>\n",
       "      <td>0.000000</td>\n",
       "    </tr>\n",
       "    <tr>\n",
       "      <th>75%</th>\n",
       "      <td>1.000000</td>\n",
       "      <td>37.000000</td>\n",
       "      <td>46600.000000</td>\n",
       "      <td>2.000000</td>\n",
       "      <td>0.000000</td>\n",
       "    </tr>\n",
       "    <tr>\n",
       "      <th>max</th>\n",
       "      <td>1.000000</td>\n",
       "      <td>65.000000</td>\n",
       "      <td>79000.000000</td>\n",
       "      <td>6.000000</td>\n",
       "      <td>5.000000</td>\n",
       "    </tr>\n",
       "  </tbody>\n",
       "</table>\n",
       "</div>"
      ],
      "text/plain": [
       "            gender          age        income  family_members  \\\n",
       "count  5000.000000  5000.000000   5000.000000     5000.000000   \n",
       "mean      0.499000    30.952800  39916.360000        1.194200   \n",
       "std       0.500049     8.440807   9900.083569        1.091387   \n",
       "min       0.000000    18.000000   5300.000000        0.000000   \n",
       "25%       0.000000    24.000000  33300.000000        0.000000   \n",
       "50%       0.000000    30.000000  40200.000000        1.000000   \n",
       "75%       1.000000    37.000000  46600.000000        2.000000   \n",
       "max       1.000000    65.000000  79000.000000        6.000000   \n",
       "\n",
       "       insurance_benefits  \n",
       "count         5000.000000  \n",
       "mean             0.148000  \n",
       "std              0.463183  \n",
       "min              0.000000  \n",
       "25%              0.000000  \n",
       "50%              0.000000  \n",
       "75%              0.000000  \n",
       "max              5.000000  "
      ]
     },
     "execution_count": 66,
     "metadata": {},
     "output_type": "execute_result"
    }
   ],
   "source": [
    "# now have a look at the data's descriptive statistics. \n",
    "# Does everything look okay?\n",
    "df.describe()"
   ]
  },
  {
   "cell_type": "markdown",
   "metadata": {},
   "source": [
    "Everything looks fine!"
   ]
  },
  {
   "cell_type": "code",
   "execution_count": null,
   "metadata": {},
   "outputs": [],
   "source": []
  },
  {
   "cell_type": "markdown",
   "metadata": {},
   "source": [
    "## EDA"
   ]
  },
  {
   "cell_type": "markdown",
   "metadata": {},
   "source": [
    "Let's quickly check whether there are certain groups of customers by looking at the pair plot."
   ]
  },
  {
   "cell_type": "code",
   "execution_count": 67,
   "metadata": {},
   "outputs": [
    {
     "data": {
      "image/png": "[encoded data removed]",
      "text/plain": [
       "<Figure size 864x864 with 30 Axes>"
      ]
     },
     "metadata": {
      "needs_background": "light"
     },
     "output_type": "display_data"
    }
   ],
   "source": [
    "g = sns.pairplot(df, kind='hist')\n",
    "g.fig.set_size_inches(12, 12)"
   ]
  },
  {
   "cell_type": "markdown",
   "metadata": {},
   "source": [
    "Ok, it is a bit difficult to spot obvious groups (clusters) as it is difficult to combine several variables simultaneously (to analyze multivariate distributions). That's where LA and ML can be quite handy."
   ]
  },
  {
   "cell_type": "markdown",
   "metadata": {},
   "source": [
    "# Task 1. Similar Customers"
   ]
  },
  {
   "cell_type": "markdown",
   "metadata": {},
   "source": [
    "In the language of ML, it is necessary to develop a procedure that returns k nearest neighbors (objects) for a given object based on the distance between the objects.\n",
    "\n",
    "You may want to review the following lessons (chapter -> lesson)\n",
    "- Distance Between Vectors -> Euclidean Distance\n",
    "- Distance Between Vectors -> Manhattan Distance\n",
    "\n",
    "To solve the task, we can try different distance metrics."
   ]
  },
  {
   "cell_type": "markdown",
   "metadata": {},
   "source": [
    "Write a function that returns k nearest neighbors for an $n^{th}$ object based on a specified distance metric. The number of received insurance benefits should not be taken into account for this task. \n",
    "\n",
    "You can use a ready implementation of the kNN algorithm from scikit-learn (check [the link](https://scikit-learn.org/stable/modules/generated/sklearn.neighbors.NearestNeighbors.html#sklearn.neighbors.NearestNeighbors)) or use your own.\n",
    "\n",
    "Test it for four combination of two cases\n",
    "- Scaling\n",
    "  - the data is not scaled\n",
    "  - the data is scaled with the [MaxAbsScaler](https://scikit-learn.org/stable/modules/generated/sklearn.preprocessing.MaxAbsScaler.html) scaler\n",
    "- Distance Metrics\n",
    "  - Euclidean\n",
    "  - Manhattan\n",
    "\n",
    "Answer these questions:\n",
    "- Does the data being not scaled affect the kNN algorithm? If so, how does that appear?\n",
    "- How similar are the results using the Manhattan distance metric (regardless of the scaling)?"
   ]
  },
  {
   "cell_type": "code",
   "execution_count": 68,
   "metadata": {},
   "outputs": [],
   "source": [
    "feature_names = ['gender', 'age', 'income', 'family_members']"
   ]
  },
  {
   "cell_type": "code",
   "execution_count": 69,
   "metadata": {},
   "outputs": [],
   "source": [
    "#https://pastebin.com/MgTnQTmW notes\n",
    "def get_knn(df, n, k, metric):\n",
    "    \n",
    "    \"\"\"\n",
    "    Returns k nearest neighbors\n",
    "\n",
    "    :param df: pandas DataFrame used to find similar objects within\n",
    "    :param n: object no for which the nearest neighbours are looked for\n",
    "    :param k: the number of the nearest neighbours to return\n",
    "    :param metric: name of distance metric\n",
    "    \"\"\"\n",
    "\n",
    "    nbrs = sklearn.neighbors.NearestNeighbors(n_neighbors = n, algorithm='brute',metric = metric) # <your code here>\n",
    "    nbrs.fit(df[feature_names])\n",
    "    \n",
    "    nbrs_distances, nbrs_indices = nbrs.kneighbors([df.iloc[n][feature_names]], k, return_distance=True)\n",
    "    \n",
    "    df_res = pd.concat([\n",
    "        df.iloc[nbrs_indices[0]], \n",
    "        pd.DataFrame(nbrs_distances.T, index=nbrs_indices[0], columns=['distance'])\n",
    "        ], axis=1)\n",
    "    \n",
    "    return df_res"
   ]
  },
  {
   "cell_type": "markdown",
   "metadata": {},
   "source": [
    "Scaling the data."
   ]
  },
  {
   "cell_type": "code",
   "execution_count": 70,
   "metadata": {},
   "outputs": [],
   "source": [
    "feature_names = ['gender', 'age', 'income', 'family_members']\n",
    "\n",
    "transformer_mas = sklearn.preprocessing.MaxAbsScaler().fit(df[feature_names].to_numpy())\n",
    "\n",
    "df_scaled = df.copy()\n",
    "df_scaled.loc[:, feature_names] = transformer_mas.transform(df[feature_names].to_numpy())"
   ]
  },
  {
   "cell_type": "code",
   "execution_count": 71,
   "metadata": {},
   "outputs": [
    {
     "data": {
      "text/html": [
       "<div>\n",
       "<style scoped>\n",
       "    .dataframe tbody tr th:only-of-type {\n",
       "        vertical-align: middle;\n",
       "    }\n",
       "\n",
       "    .dataframe tbody tr th {\n",
       "        vertical-align: top;\n",
       "    }\n",
       "\n",
       "    .dataframe thead th {\n",
       "        text-align: right;\n",
       "    }\n",
       "</style>\n",
       "<table border=\"1\" class=\"dataframe\">\n",
       "  <thead>\n",
       "    <tr style=\"text-align: right;\">\n",
       "      <th></th>\n",
       "      <th>gender</th>\n",
       "      <th>age</th>\n",
       "      <th>income</th>\n",
       "      <th>family_members</th>\n",
       "      <th>insurance_benefits</th>\n",
       "    </tr>\n",
       "  </thead>\n",
       "  <tbody>\n",
       "    <tr>\n",
       "      <th>3316</th>\n",
       "      <td>1.0</td>\n",
       "      <td>0.276923</td>\n",
       "      <td>0.341772</td>\n",
       "      <td>0.166667</td>\n",
       "      <td>0</td>\n",
       "    </tr>\n",
       "    <tr>\n",
       "      <th>2594</th>\n",
       "      <td>0.0</td>\n",
       "      <td>0.384615</td>\n",
       "      <td>0.753165</td>\n",
       "      <td>0.166667</td>\n",
       "      <td>0</td>\n",
       "    </tr>\n",
       "    <tr>\n",
       "      <th>2183</th>\n",
       "      <td>0.0</td>\n",
       "      <td>0.292308</td>\n",
       "      <td>0.711392</td>\n",
       "      <td>0.000000</td>\n",
       "      <td>0</td>\n",
       "    </tr>\n",
       "    <tr>\n",
       "      <th>796</th>\n",
       "      <td>1.0</td>\n",
       "      <td>0.553846</td>\n",
       "      <td>0.408861</td>\n",
       "      <td>0.333333</td>\n",
       "      <td>0</td>\n",
       "    </tr>\n",
       "    <tr>\n",
       "      <th>1724</th>\n",
       "      <td>0.0</td>\n",
       "      <td>0.492308</td>\n",
       "      <td>0.554430</td>\n",
       "      <td>0.166667</td>\n",
       "      <td>0</td>\n",
       "    </tr>\n",
       "  </tbody>\n",
       "</table>\n",
       "</div>"
      ],
      "text/plain": [
       "      gender       age    income  family_members  insurance_benefits\n",
       "3316     1.0  0.276923  0.341772        0.166667                   0\n",
       "2594     0.0  0.384615  0.753165        0.166667                   0\n",
       "2183     0.0  0.292308  0.711392        0.000000                   0\n",
       "796      1.0  0.553846  0.408861        0.333333                   0\n",
       "1724     0.0  0.492308  0.554430        0.166667                   0"
      ]
     },
     "execution_count": 71,
     "metadata": {},
     "output_type": "execute_result"
    }
   ],
   "source": [
    "df_scaled.sample(5)"
   ]
  },
  {
   "cell_type": "markdown",
   "metadata": {},
   "source": [
    "Now, let's get similar records for a given one for every combination"
   ]
  },
  {
   "cell_type": "code",
   "execution_count": 72,
   "metadata": {
    "scrolled": true
   },
   "outputs": [
    {
     "name": "stderr",
     "output_type": "stream",
     "text": [
      "/opt/conda/lib/python3.9/site-packages/sklearn/base.py:450: UserWarning: X does not have valid feature names, but NearestNeighbors was fitted with feature names\n",
      "  warnings.warn(\n"
     ]
    },
    {
     "data": {
      "text/html": [
       "<div>\n",
       "<style scoped>\n",
       "    .dataframe tbody tr th:only-of-type {\n",
       "        vertical-align: middle;\n",
       "    }\n",
       "\n",
       "    .dataframe tbody tr th {\n",
       "        vertical-align: top;\n",
       "    }\n",
       "\n",
       "    .dataframe thead th {\n",
       "        text-align: right;\n",
       "    }\n",
       "</style>\n",
       "<table border=\"1\" class=\"dataframe\">\n",
       "  <thead>\n",
       "    <tr style=\"text-align: right;\">\n",
       "      <th></th>\n",
       "      <th>gender</th>\n",
       "      <th>age</th>\n",
       "      <th>income</th>\n",
       "      <th>family_members</th>\n",
       "      <th>insurance_benefits</th>\n",
       "      <th>distance</th>\n",
       "    </tr>\n",
       "  </thead>\n",
       "  <tbody>\n",
       "    <tr>\n",
       "      <th>5</th>\n",
       "      <td>1</td>\n",
       "      <td>43</td>\n",
       "      <td>41000.0</td>\n",
       "      <td>2</td>\n",
       "      <td>1</td>\n",
       "      <td>0.000000</td>\n",
       "    </tr>\n",
       "    <tr>\n",
       "      <th>1995</th>\n",
       "      <td>0</td>\n",
       "      <td>45</td>\n",
       "      <td>41000.0</td>\n",
       "      <td>0</td>\n",
       "      <td>1</td>\n",
       "      <td>3.000000</td>\n",
       "    </tr>\n",
       "    <tr>\n",
       "      <th>3972</th>\n",
       "      <td>1</td>\n",
       "      <td>40</td>\n",
       "      <td>41000.0</td>\n",
       "      <td>1</td>\n",
       "      <td>0</td>\n",
       "      <td>3.162278</td>\n",
       "    </tr>\n",
       "    <tr>\n",
       "      <th>4763</th>\n",
       "      <td>1</td>\n",
       "      <td>46</td>\n",
       "      <td>41000.0</td>\n",
       "      <td>1</td>\n",
       "      <td>1</td>\n",
       "      <td>3.162278</td>\n",
       "    </tr>\n",
       "    <tr>\n",
       "      <th>3801</th>\n",
       "      <td>0</td>\n",
       "      <td>46</td>\n",
       "      <td>41000.0</td>\n",
       "      <td>2</td>\n",
       "      <td>1</td>\n",
       "      <td>3.162278</td>\n",
       "    </tr>\n",
       "  </tbody>\n",
       "</table>\n",
       "</div>"
      ],
      "text/plain": [
       "      gender  age   income  family_members  insurance_benefits  distance\n",
       "5          1   43  41000.0               2                   1  0.000000\n",
       "1995       0   45  41000.0               0                   1  3.000000\n",
       "3972       1   40  41000.0               1                   0  3.162278\n",
       "4763       1   46  41000.0               1                   1  3.162278\n",
       "3801       0   46  41000.0               2                   1  3.162278"
      ]
     },
     "execution_count": 72,
     "metadata": {},
     "output_type": "execute_result"
    }
   ],
   "source": [
    "get_knn(df, 5, 5,'euclidean')"
   ]
  },
  {
   "cell_type": "code",
   "execution_count": 73,
   "metadata": {
    "scrolled": true
   },
   "outputs": [
    {
     "name": "stderr",
     "output_type": "stream",
     "text": [
      "/opt/conda/lib/python3.9/site-packages/sklearn/base.py:450: UserWarning: X does not have valid feature names, but NearestNeighbors was fitted with feature names\n",
      "  warnings.warn(\n"
     ]
    },
    {
     "data": {
      "text/html": [
       "<div>\n",
       "<style scoped>\n",
       "    .dataframe tbody tr th:only-of-type {\n",
       "        vertical-align: middle;\n",
       "    }\n",
       "\n",
       "    .dataframe tbody tr th {\n",
       "        vertical-align: top;\n",
       "    }\n",
       "\n",
       "    .dataframe thead th {\n",
       "        text-align: right;\n",
       "    }\n",
       "</style>\n",
       "<table border=\"1\" class=\"dataframe\">\n",
       "  <thead>\n",
       "    <tr style=\"text-align: right;\">\n",
       "      <th></th>\n",
       "      <th>gender</th>\n",
       "      <th>age</th>\n",
       "      <th>income</th>\n",
       "      <th>family_members</th>\n",
       "      <th>insurance_benefits</th>\n",
       "      <th>distance</th>\n",
       "    </tr>\n",
       "  </thead>\n",
       "  <tbody>\n",
       "    <tr>\n",
       "      <th>5</th>\n",
       "      <td>1.0</td>\n",
       "      <td>0.661538</td>\n",
       "      <td>0.518987</td>\n",
       "      <td>0.333333</td>\n",
       "      <td>1</td>\n",
       "      <td>0.000000</td>\n",
       "    </tr>\n",
       "    <tr>\n",
       "      <th>1147</th>\n",
       "      <td>1.0</td>\n",
       "      <td>0.646154</td>\n",
       "      <td>0.516456</td>\n",
       "      <td>0.333333</td>\n",
       "      <td>0</td>\n",
       "      <td>0.015592</td>\n",
       "    </tr>\n",
       "    <tr>\n",
       "      <th>4074</th>\n",
       "      <td>1.0</td>\n",
       "      <td>0.661538</td>\n",
       "      <td>0.501266</td>\n",
       "      <td>0.333333</td>\n",
       "      <td>1</td>\n",
       "      <td>0.017722</td>\n",
       "    </tr>\n",
       "    <tr>\n",
       "      <th>1019</th>\n",
       "      <td>1.0</td>\n",
       "      <td>0.646154</td>\n",
       "      <td>0.501266</td>\n",
       "      <td>0.333333</td>\n",
       "      <td>0</td>\n",
       "      <td>0.023468</td>\n",
       "    </tr>\n",
       "    <tr>\n",
       "      <th>2962</th>\n",
       "      <td>1.0</td>\n",
       "      <td>0.630769</td>\n",
       "      <td>0.520253</td>\n",
       "      <td>0.333333</td>\n",
       "      <td>0</td>\n",
       "      <td>0.030795</td>\n",
       "    </tr>\n",
       "  </tbody>\n",
       "</table>\n",
       "</div>"
      ],
      "text/plain": [
       "      gender       age    income  family_members  insurance_benefits  distance\n",
       "5        1.0  0.661538  0.518987        0.333333                   1  0.000000\n",
       "1147     1.0  0.646154  0.516456        0.333333                   0  0.015592\n",
       "4074     1.0  0.661538  0.501266        0.333333                   1  0.017722\n",
       "1019     1.0  0.646154  0.501266        0.333333                   0  0.023468\n",
       "2962     1.0  0.630769  0.520253        0.333333                   0  0.030795"
      ]
     },
     "execution_count": 73,
     "metadata": {},
     "output_type": "execute_result"
    }
   ],
   "source": [
    "get_knn(df_scaled, 5, 5,'euclidean')"
   ]
  },
  {
   "cell_type": "code",
   "execution_count": 74,
   "metadata": {
    "scrolled": true
   },
   "outputs": [
    {
     "name": "stderr",
     "output_type": "stream",
     "text": [
      "/opt/conda/lib/python3.9/site-packages/sklearn/base.py:450: UserWarning: X does not have valid feature names, but NearestNeighbors was fitted with feature names\n",
      "  warnings.warn(\n"
     ]
    },
    {
     "data": {
      "text/html": [
       "<div>\n",
       "<style scoped>\n",
       "    .dataframe tbody tr th:only-of-type {\n",
       "        vertical-align: middle;\n",
       "    }\n",
       "\n",
       "    .dataframe tbody tr th {\n",
       "        vertical-align: top;\n",
       "    }\n",
       "\n",
       "    .dataframe thead th {\n",
       "        text-align: right;\n",
       "    }\n",
       "</style>\n",
       "<table border=\"1\" class=\"dataframe\">\n",
       "  <thead>\n",
       "    <tr style=\"text-align: right;\">\n",
       "      <th></th>\n",
       "      <th>gender</th>\n",
       "      <th>age</th>\n",
       "      <th>income</th>\n",
       "      <th>family_members</th>\n",
       "      <th>insurance_benefits</th>\n",
       "      <th>distance</th>\n",
       "    </tr>\n",
       "  </thead>\n",
       "  <tbody>\n",
       "    <tr>\n",
       "      <th>5</th>\n",
       "      <td>1</td>\n",
       "      <td>43</td>\n",
       "      <td>41000.0</td>\n",
       "      <td>2</td>\n",
       "      <td>1</td>\n",
       "      <td>0.0</td>\n",
       "    </tr>\n",
       "    <tr>\n",
       "      <th>3972</th>\n",
       "      <td>1</td>\n",
       "      <td>40</td>\n",
       "      <td>41000.0</td>\n",
       "      <td>1</td>\n",
       "      <td>0</td>\n",
       "      <td>4.0</td>\n",
       "    </tr>\n",
       "    <tr>\n",
       "      <th>4763</th>\n",
       "      <td>1</td>\n",
       "      <td>46</td>\n",
       "      <td>41000.0</td>\n",
       "      <td>1</td>\n",
       "      <td>1</td>\n",
       "      <td>4.0</td>\n",
       "    </tr>\n",
       "    <tr>\n",
       "      <th>3801</th>\n",
       "      <td>0</td>\n",
       "      <td>46</td>\n",
       "      <td>41000.0</td>\n",
       "      <td>2</td>\n",
       "      <td>1</td>\n",
       "      <td>4.0</td>\n",
       "    </tr>\n",
       "    <tr>\n",
       "      <th>1995</th>\n",
       "      <td>0</td>\n",
       "      <td>45</td>\n",
       "      <td>41000.0</td>\n",
       "      <td>0</td>\n",
       "      <td>1</td>\n",
       "      <td>5.0</td>\n",
       "    </tr>\n",
       "  </tbody>\n",
       "</table>\n",
       "</div>"
      ],
      "text/plain": [
       "      gender  age   income  family_members  insurance_benefits  distance\n",
       "5          1   43  41000.0               2                   1       0.0\n",
       "3972       1   40  41000.0               1                   0       4.0\n",
       "4763       1   46  41000.0               1                   1       4.0\n",
       "3801       0   46  41000.0               2                   1       4.0\n",
       "1995       0   45  41000.0               0                   1       5.0"
      ]
     },
     "execution_count": 74,
     "metadata": {},
     "output_type": "execute_result"
    }
   ],
   "source": [
    "get_knn(df, 5, 5,'manhattan')"
   ]
  },
  {
   "cell_type": "code",
   "execution_count": 75,
   "metadata": {
    "scrolled": true
   },
   "outputs": [
    {
     "name": "stderr",
     "output_type": "stream",
     "text": [
      "/opt/conda/lib/python3.9/site-packages/sklearn/base.py:450: UserWarning: X does not have valid feature names, but NearestNeighbors was fitted with feature names\n",
      "  warnings.warn(\n"
     ]
    },
    {
     "data": {
      "text/html": [
       "<div>\n",
       "<style scoped>\n",
       "    .dataframe tbody tr th:only-of-type {\n",
       "        vertical-align: middle;\n",
       "    }\n",
       "\n",
       "    .dataframe tbody tr th {\n",
       "        vertical-align: top;\n",
       "    }\n",
       "\n",
       "    .dataframe thead th {\n",
       "        text-align: right;\n",
       "    }\n",
       "</style>\n",
       "<table border=\"1\" class=\"dataframe\">\n",
       "  <thead>\n",
       "    <tr style=\"text-align: right;\">\n",
       "      <th></th>\n",
       "      <th>gender</th>\n",
       "      <th>age</th>\n",
       "      <th>income</th>\n",
       "      <th>family_members</th>\n",
       "      <th>insurance_benefits</th>\n",
       "      <th>distance</th>\n",
       "    </tr>\n",
       "  </thead>\n",
       "  <tbody>\n",
       "    <tr>\n",
       "      <th>5</th>\n",
       "      <td>1.0</td>\n",
       "      <td>0.661538</td>\n",
       "      <td>0.518987</td>\n",
       "      <td>0.333333</td>\n",
       "      <td>1</td>\n",
       "      <td>0.000000</td>\n",
       "    </tr>\n",
       "    <tr>\n",
       "      <th>4074</th>\n",
       "      <td>1.0</td>\n",
       "      <td>0.661538</td>\n",
       "      <td>0.501266</td>\n",
       "      <td>0.333333</td>\n",
       "      <td>1</td>\n",
       "      <td>0.017722</td>\n",
       "    </tr>\n",
       "    <tr>\n",
       "      <th>1147</th>\n",
       "      <td>1.0</td>\n",
       "      <td>0.646154</td>\n",
       "      <td>0.516456</td>\n",
       "      <td>0.333333</td>\n",
       "      <td>0</td>\n",
       "      <td>0.017916</td>\n",
       "    </tr>\n",
       "    <tr>\n",
       "      <th>2962</th>\n",
       "      <td>1.0</td>\n",
       "      <td>0.630769</td>\n",
       "      <td>0.520253</td>\n",
       "      <td>0.333333</td>\n",
       "      <td>0</td>\n",
       "      <td>0.032035</td>\n",
       "    </tr>\n",
       "    <tr>\n",
       "      <th>1019</th>\n",
       "      <td>1.0</td>\n",
       "      <td>0.646154</td>\n",
       "      <td>0.501266</td>\n",
       "      <td>0.333333</td>\n",
       "      <td>0</td>\n",
       "      <td>0.033106</td>\n",
       "    </tr>\n",
       "  </tbody>\n",
       "</table>\n",
       "</div>"
      ],
      "text/plain": [
       "      gender       age    income  family_members  insurance_benefits  distance\n",
       "5        1.0  0.661538  0.518987        0.333333                   1  0.000000\n",
       "4074     1.0  0.661538  0.501266        0.333333                   1  0.017722\n",
       "1147     1.0  0.646154  0.516456        0.333333                   0  0.017916\n",
       "2962     1.0  0.630769  0.520253        0.333333                   0  0.032035\n",
       "1019     1.0  0.646154  0.501266        0.333333                   0  0.033106"
      ]
     },
     "execution_count": 75,
     "metadata": {},
     "output_type": "execute_result"
    }
   ],
   "source": [
    "get_knn(df_scaled, 5, 5,'manhattan')"
   ]
  },
  {
   "cell_type": "markdown",
   "metadata": {},
   "source": [
    "Answers to the questions"
   ]
  },
  {
   "cell_type": "markdown",
   "metadata": {},
   "source": [
    "**Does the data being not scaled affect the kNN algorithm? If so, how does that appear?** \n",
    "\n",
    "Yes! Scaling the data lowers the income, distance, ruins the age, and family members and gender. But in trade off, it lowers the over all distance."
   ]
  },
  {
   "cell_type": "markdown",
   "metadata": {},
   "source": [
    "**How similar are the results using the Manhattan distance metric (regardless of the scaling)?** \n",
    "\n",
    "Similar, however, euclidean is overall closer in distance."
   ]
  },
  {
   "cell_type": "markdown",
   "metadata": {},
   "source": [
    "# Task 2. Is Customer Likely to Receive Insurance Benefit?"
   ]
  },
  {
   "cell_type": "markdown",
   "metadata": {},
   "source": [
    "In terms of machine learning we can look at this like a binary classification task."
   ]
  },
  {
   "cell_type": "markdown",
   "metadata": {},
   "source": [
    "With `insurance_benefits` being more than zero as the target, evaluate whether the kNN classification approach can do better than a dummy model.\n",
    "\n",
    "Instructions:\n",
    "- Build a KNN-based classifier and measure its quality with the F1 metric for k=1..10 for both the original data and the scaled one. That'd be interesting to see how k may influece the evaluation metric, and whether scaling the data makes any difference. You can use a ready implemention of the kNN classification algorithm from scikit-learn (check [the link](https://scikit-learn.org/stable/modules/generated/sklearn.neighbors.KNeighborsClassifier.html)) or use your own.\n",
    "- Build the dummy model which is just random for this case. It should return \"1\" with some probability. Let's test the model with four probability values: 0, the probability of paying any insurance benefit, 0.5, 1.\n",
    "\n",
    "The probability of paying any insurance benefit can be defined as\n",
    "\n",
    "$$\n",
    "P\\{\\text{insurance benefit received}\\}=\\frac{\\text{number of clients received any insurance benefit}}{\\text{total number of clients}}.\n",
    "$$\n",
    "\n",
    "Split the whole data in the 70:30 proportion for the training/testing parts."
   ]
  },
  {
   "cell_type": "code",
   "execution_count": 97,
   "metadata": {},
   "outputs": [],
   "source": [
    "# calculate the target\n",
    "#https://pastebin.com/QG1ivFt2\n",
    "\n",
    "df['insurance_benefits_received'] = (df['insurance_benefits'] > 0).astype('int') #<your code here>"
   ]
  },
  {
   "cell_type": "code",
   "execution_count": 98,
   "metadata": {},
   "outputs": [
    {
     "data": {
      "text/plain": [
       "0    4436\n",
       "1     564\n",
       "Name: insurance_benefits_received, dtype: int64"
      ]
     },
     "execution_count": 98,
     "metadata": {},
     "output_type": "execute_result"
    }
   ],
   "source": [
    "# check for the class imbalance with value_counts()\n",
    "df['insurance_benefits_received'].value_counts() # <your code here>"
   ]
  },
  {
   "cell_type": "markdown",
   "metadata": {},
   "source": [
    "Classes are unbalanced when their ratio is far from 1:1. Class balance is observed if their number is approximately equal. A class labeled \"1\" is called positive, and a class labeled \"0\" is called negative. If we combine these responses with predictions, we will get the following division:\n",
    "True Positive (TP) and True Negative (TN) answers\n",
    "False Positive (FP) and False Negative (FN) answers"
   ]
  },
  {
   "cell_type": "code",
   "execution_count": 99,
   "metadata": {},
   "outputs": [],
   "source": [
    "def eval_classifier(y_true, y_pred):\n",
    "    \n",
    "    f1_score = sklearn.metrics.f1_score(y_true, y_pred)\n",
    "    print(f'F1: {f1_score:.2f}')\n",
    "    \n",
    "# if you have an issue with the following line, restart the kernel and run the notebook again\n",
    "    cm = sklearn.metrics.confusion_matrix(y_true, y_pred, normalize='all')\n",
    "    print('Confusion Matrix')\n",
    "    print(cm)"
   ]
  },
  {
   "cell_type": "code",
   "execution_count": 100,
   "metadata": {},
   "outputs": [],
   "source": [
    "# generating output of a random model\n",
    "\n",
    "def rnd_model_predict(P, size, seed=42):\n",
    "\n",
    "    rng = np.random.default_rng(seed=seed)\n",
    "    return rng.binomial(n=1, p=P, size=size)"
   ]
  },
  {
   "cell_type": "code",
   "execution_count": 101,
   "metadata": {},
   "outputs": [
    {
     "name": "stdout",
     "output_type": "stream",
     "text": [
      "The probability: 0.00\n",
      "F1: 0.00\n",
      "Confusion Matrix\n",
      "[[0.8872 0.    ]\n",
      " [0.1128 0.    ]]\n",
      "\n",
      "The probability: 0.11\n",
      "F1: 0.12\n",
      "Confusion Matrix\n",
      "[[0.7914 0.0958]\n",
      " [0.0994 0.0134]]\n",
      "\n",
      "The probability: 0.50\n",
      "F1: 0.20\n",
      "Confusion Matrix\n",
      "[[0.456  0.4312]\n",
      " [0.053  0.0598]]\n",
      "\n",
      "The probability: 1.00\n",
      "F1: 0.20\n",
      "Confusion Matrix\n",
      "[[0.     0.8872]\n",
      " [0.     0.1128]]\n",
      "\n"
     ]
    }
   ],
   "source": [
    "for P in [0, df['insurance_benefits_received'].sum() / len(df), 0.5, 1]:\n",
    "\n",
    "    print(f'The probability: {P:.2f}')\n",
    "    y_pred_rnd = rnd_model_predict(P, len(df))# <your code here> \n",
    "    #makes sense, the len(DF) works better than size.\n",
    "    \n",
    "    eval_classifier(df['insurance_benefits_received'], y_pred_rnd)\n",
    "    \n",
    "    print()"
   ]
  },
  {
   "cell_type": "markdown",
   "metadata": {},
   "source": [
    "TN in the upper-left corner, TP in the lower right corner. FP in the upper right corner FN in the lower left corner. 0 probability has no positives. All True and False negatives. 1 probability has no negatives. All True and False positives. As the probability goes up, the amount of positives go up. At 0.50, its about the same true and false wise. The F1 score maxs at F1. "
   ]
  },
  {
   "cell_type": "code",
   "execution_count": 102,
   "metadata": {},
   "outputs": [
    {
     "name": "stdout",
     "output_type": "stream",
     "text": [
      "k is: 1\n",
      "0.6086956521739131\n",
      "[[0.872      0.02133333]\n",
      " [0.05066667 0.056     ]]\n",
      "k is: 2\n",
      "0.3689320388349515\n",
      "[[0.888      0.00533333]\n",
      " [0.08133333 0.02533333]]\n",
      "k is: 3\n",
      "0.3744292237442922\n",
      "[[0.88133333 0.012     ]\n",
      " [0.07933333 0.02733333]]\n",
      "k is: 4\n",
      "0.15730337078651682\n",
      "[[0.89066667 0.00266667]\n",
      " [0.09733333 0.00933333]]\n",
      "k is: 5\n",
      "0.16216216216216214\n",
      "[[0.88666667 0.00666667]\n",
      " [0.09666667 0.01      ]]\n",
      "k is: 6\n",
      "0.060240963855421686\n",
      "[[8.92666667e-01 6.66666667e-04]\n",
      " [1.03333333e-01 3.33333333e-03]]\n",
      "k is: 7\n",
      "0.05952380952380952\n",
      "[[0.89133333 0.002     ]\n",
      " [0.10333333 0.00333333]]\n",
      "k is: 8\n",
      "0.04848484848484849\n",
      "[[8.92666667e-01 6.66666667e-04]\n",
      " [1.04000000e-01 2.66666667e-03]]\n",
      "k is: 9\n",
      "0.04848484848484849\n",
      "[[8.92666667e-01 6.66666667e-04]\n",
      " [1.04000000e-01 2.66666667e-03]]\n"
     ]
    }
   ],
   "source": [
    "features = df[feature_names]\n",
    "target = df['insurance_benefits_received']\n",
    "\n",
    "features_train, features_test, target_train, target_test = train_test_split(features, target, test_size=0.3)\n",
    "\n",
    "for k in range(1,10):\n",
    "    neigh = sklearn.neighbors.KNeighborsClassifier(n_neighbors=k)\n",
    "    neigh.fit(features_train, target_train)\n",
    "    predictions_test = neigh.predict(features_test)\n",
    "    print('k is:',k) #Add your code here\n",
    "    print(sklearn.metrics.f1_score(target_test,predictions_test))\n",
    "    print(sklearn.metrics.confusion_matrix(target_test,predictions_test, normalize='all'))"
   ]
  },
  {
   "cell_type": "code",
   "execution_count": 103,
   "metadata": {},
   "outputs": [
    {
     "name": "stdout",
     "output_type": "stream",
     "text": [
      "k is: 1\n",
      "0.9381107491856677\n",
      "[[0.89133333 0.004     ]\n",
      " [0.00866667 0.096     ]]\n",
      "k is: 2\n",
      "0.8996539792387543\n",
      "[[0.894      0.00133333]\n",
      " [0.018      0.08666667]]\n",
      "k is: 3\n",
      "0.9144736842105264\n",
      "[[0.89       0.00533333]\n",
      " [0.012      0.09266667]]\n",
      "k is: 4\n",
      "0.8927335640138409\n",
      "[[0.89333333 0.002     ]\n",
      " [0.01866667 0.086     ]]\n",
      "k is: 5\n",
      "0.9102990033222591\n",
      "[[0.89066667 0.00466667]\n",
      " [0.01333333 0.09133333]]\n",
      "k is: 6\n",
      "0.8850174216027874\n",
      "[[0.89333333 0.002     ]\n",
      " [0.02       0.08466667]]\n",
      "k is: 7\n",
      "0.9121621621621622\n",
      "[[0.89266667 0.00266667]\n",
      " [0.01466667 0.09      ]]\n",
      "k is: 8\n",
      "0.8771929824561403\n",
      "[[0.89333333 0.002     ]\n",
      " [0.02133333 0.08333333]]\n",
      "k is: 9\n",
      "0.9003436426116839\n",
      "[[0.89333333 0.002     ]\n",
      " [0.01733333 0.08733333]]\n"
     ]
    }
   ],
   "source": [
    "df_scaled['insurance_benefits_received'] = (df_scaled['insurance_benefits'] > 0).astype('int')\n",
    "features = df_scaled[feature_names]\n",
    "target = df_scaled['insurance_benefits_received']\n",
    "\n",
    "features_train, features_test, target_train, target_test = train_test_split(features, target, test_size=0.3)\n",
    "\n",
    "for k in range(1,10):\n",
    "    neigh = sklearn.neighbors.KNeighborsClassifier(n_neighbors=k)\n",
    "    neigh.fit(features_train, target_train)\n",
    "    predictions_test = neigh.predict(features_test)\n",
    "    print('k is:',k)\n",
    "    print(sklearn.metrics.f1_score(target_test,predictions_test))\n",
    "    print(sklearn.metrics.confusion_matrix(target_test,predictions_test, normalize='all'))"
   ]
  },
  {
   "cell_type": "markdown",
   "metadata": {},
   "source": [
    "Scaled has higher F1 Scores overall, Less false Positives and less false negatives."
   ]
  },
  {
   "cell_type": "markdown",
   "metadata": {},
   "source": [
    "# Task 3. Regression (with Linear Regression)"
   ]
  },
  {
   "cell_type": "markdown",
   "metadata": {},
   "source": [
    "With `insurance_benefits` as the target, evaluate what RMSE would be for a Linear Regression model."
   ]
  },
  {
   "cell_type": "markdown",
   "metadata": {},
   "source": [
    "Build your own implementation of LR. For that, recall how the linear regression task's solution is formulated in terms of LA. Check RMSE for both the original data and the scaled one. Can you see any difference in RMSE between these two cases?\n",
    "\n",
    "Let's denote\n",
    "- $X$ — feature matrix, each row is a case, each column is a feature, the first column consists of unities\n",
    "- $y$ — target (a vector)\n",
    "- $\\hat{y}$ — estimated tagret (a vector)\n",
    "- $w$ — weight vector\n",
    "\n",
    "The task of linear regression in the language of matrices can be formulated as\n",
    "\n",
    "$$\n",
    "y = Xw\n",
    "$$\n",
    "\n",
    "The training objective then is to find such $w$ that it would minimize the L2-distance (MSE) between $Xw$ and $y$:\n",
    "\n",
    "$$\n",
    "\\min_w d_2(Xw, y) \\quad \\text{or} \\quad \\min_w \\text{MSE}(Xw, y)\n",
    "$$\n",
    "\n",
    "It appears that there is analytical solution for the above:\n",
    "\n",
    "$$\n",
    "w = (X^T X)^{-1} X^T y\n",
    "$$\n",
    "\n",
    "The formula above can be used to find the weights $w$ and the latter can be used to calculate predicted values\n",
    "\n",
    "$$\n",
    "\\hat{y} = X_{val}w\n",
    "$$"
   ]
  },
  {
   "cell_type": "markdown",
   "metadata": {},
   "source": [
    "Split the whole data in the 70:30 proportion for the training/validation parts. Use the RMSE metric for the model evaluation."
   ]
  },
  {
   "cell_type": "code",
   "execution_count": 83,
   "metadata": {},
   "outputs": [],
   "source": [
    "class MyLinearRegression:\n",
    "    \n",
    "    def __init__(self):\n",
    "        \n",
    "        self.weights = None\n",
    "    \n",
    "    def fit(self, X, y):\n",
    "        \n",
    "        # adding the unities\n",
    "        X2 = np.append(np.ones([len(X), 1]), X, axis=1)\n",
    "        self.weights = np.linalg.inv(X2.T @ X2) @ X2.T @ y # <your code here>\n",
    "\n",
    "    def predict(self, X):\n",
    "        \n",
    "        # adding the unities\n",
    "        X2 = np.append(np.ones([len(X), 1]), X, axis=1) # <your code here> a copy of above.\n",
    "        y_pred = X2 @ self.weights # <your code here>\n",
    "        \n",
    "        return y_pred"
   ]
  },
  {
   "cell_type": "code",
   "execution_count": 86,
   "metadata": {},
   "outputs": [],
   "source": [
    "def eval_regressor(y_true, y_pred):\n",
    "    \n",
    "    rmse = math.sqrt(sklearn.metrics.mean_squared_error(y_true, y_pred))\n",
    "    print(f'RMSE: {rmse:.2f}')\n",
    "    \n",
    "    r2_score = math.sqrt(sklearn.metrics.r2_score(y_true, y_pred))\n",
    "    print(f'R2: {r2_score:.2f}')    "
   ]
  },
  {
   "cell_type": "code",
   "execution_count": 87,
   "metadata": {},
   "outputs": [
    {
     "name": "stdout",
     "output_type": "stream",
     "text": [
      "[-9.43539012e-01  3.57495491e-02  1.64272726e-02 -2.60743659e-07\n",
      " -1.16902127e-02]\n",
      "RMSE: 0.34\n",
      "R2: 0.66\n"
     ]
    }
   ],
   "source": [
    "X = df[['age', 'gender', 'income', 'family_members']].to_numpy()\n",
    "y = df['insurance_benefits'].to_numpy()\n",
    "\n",
    "X_train, X_test, y_train, y_test = train_test_split(X, y, test_size=0.3, random_state=12345)\n",
    "\n",
    "lr = MyLinearRegression()\n",
    "\n",
    "lr.fit(X_train, y_train)\n",
    "print(lr.weights)\n",
    "\n",
    "y_test_pred = lr.predict(X_test)\n",
    "eval_regressor(y_test, y_test_pred)"
   ]
  },
  {
   "cell_type": "code",
   "execution_count": 88,
   "metadata": {},
   "outputs": [
    {
     "name": "stdout",
     "output_type": "stream",
     "text": [
      "[-0.94353901  2.32372069  0.01642727 -0.02059875 -0.07014128]\n",
      "RMSE: 0.34\n",
      "R2: 0.66\n"
     ]
    }
   ],
   "source": [
    "X = df_scaled[['age', 'gender', 'income', 'family_members']].to_numpy()\n",
    "y = df_scaled['insurance_benefits'].to_numpy()\n",
    "\n",
    "X_train, X_test, y_train, y_test = train_test_split(X, y, test_size=0.3, random_state=12345)\n",
    "\n",
    "lr = MyLinearRegression()\n",
    "\n",
    "lr.fit(X_train, y_train)\n",
    "print(lr.weights)\n",
    "\n",
    "y_test_pred = lr.predict(X_test)\n",
    "eval_regressor(y_test, y_test_pred)"
   ]
  },
  {
   "cell_type": "markdown",
   "metadata": {},
   "source": [
    "Same RSME for both."
   ]
  },
  {
   "cell_type": "markdown",
   "metadata": {},
   "source": [
    "# Task 4. Obfuscating Data"
   ]
  },
  {
   "cell_type": "markdown",
   "metadata": {},
   "source": [
    "It best to obfuscate data by multiplying the numerical features (remember, they can be seen as the matrix $X$) by an invertible matrix $P$. \n",
    "\n",
    "$$\n",
    "X' = X \\times P\n",
    "$$\n",
    "\n",
    "Try to do that and check how the features' values will look like after the transformation. By the way, the intertible property is important here so make sure that $P$ is indeed invertible.\n",
    "\n",
    "You may want to review the 'Matrices and Matrix Operations -> Matrix Multiplication' lesson to recall the rule of matrix multiplication and its implementation with NumPy."
   ]
  },
  {
   "cell_type": "code",
   "execution_count": 89,
   "metadata": {},
   "outputs": [],
   "source": [
    "personal_info_column_list = ['gender', 'age', 'income', 'family_members']\n",
    "df_pn = df[personal_info_column_list]"
   ]
  },
  {
   "cell_type": "code",
   "execution_count": 90,
   "metadata": {},
   "outputs": [],
   "source": [
    "X = df_pn.to_numpy()"
   ]
  },
  {
   "cell_type": "markdown",
   "metadata": {},
   "source": [
    "Generating a random matrix $P$."
   ]
  },
  {
   "cell_type": "code",
   "execution_count": 91,
   "metadata": {},
   "outputs": [],
   "source": [
    "rng = np.random.default_rng(seed=42)\n",
    "P = rng.random(size=(X.shape[1], X.shape[1]))"
   ]
  },
  {
   "cell_type": "markdown",
   "metadata": {},
   "source": [
    "Checking the matrix $P$ is invertible"
   ]
  },
  {
   "cell_type": "code",
   "execution_count": 92,
   "metadata": {},
   "outputs": [
    {
     "name": "stdout",
     "output_type": "stream",
     "text": [
      "[[ 1.00000000e+00  4.31984031e-18 -2.78054126e-16 -2.57000677e-16]\n",
      " [ 6.08293605e-17  1.00000000e+00 -6.90868844e-17 -1.63138745e-16]\n",
      " [-5.61258920e-17  3.19494738e-16  1.00000000e+00  1.64271755e-18]\n",
      " [ 2.25584045e-18 -1.89983786e-18  4.42459684e-17  1.00000000e+00]]\n"
     ]
    }
   ],
   "source": [
    "#To find the inverse matrix, call the numpy.linalg.inv() function. It will also help you check the matrix for invertibility: if the matrix is non-invertible, an error will be detected.\n",
    "E = np.linalg.inv(P) @ P\n",
    "print(E)"
   ]
  },
  {
   "cell_type": "markdown",
   "metadata": {},
   "source": [
    "Can you guess the customers' ages or income after the transformation?"
   ]
  },
  {
   "cell_type": "markdown",
   "metadata": {},
   "source": [
    "Nope!"
   ]
  },
  {
   "cell_type": "markdown",
   "metadata": {},
   "source": [
    "Can you recover the original data from $X'$ if you know $P$? Try to check that with calculations by moving $P$ from the right side of the formula above to the left one. The rules of matrix multiplcation are really helpful here."
   ]
  },
  {
   "cell_type": "code",
   "execution_count": 93,
   "metadata": {},
   "outputs": [
    {
     "name": "stdout",
     "output_type": "stream",
     "text": [
      "[[1.00e+00 4.10e+01 4.96e+04 1.00e+00]\n",
      " [0.00e+00 4.60e+01 3.80e+04 1.00e+00]\n",
      " [0.00e+00 2.90e+01 2.10e+04 0.00e+00]\n",
      " ...\n",
      " [0.00e+00 2.00e+01 3.39e+04 2.00e+00]\n",
      " [1.00e+00 2.20e+01 3.27e+04 3.00e+00]\n",
      " [1.00e+00 2.80e+01 4.06e+04 1.00e+00]]\n",
      "[[ 1.00000000e+00  4.10000000e+01  4.96000000e+04  1.00000000e+00]\n",
      " [ 1.67952800e-12  4.60000000e+01  3.80000000e+04  1.00000000e+00]\n",
      " [-6.23021448e-13  2.90000000e+01  2.10000000e+04 -2.03032656e-13]\n",
      " ...\n",
      " [ 1.57996161e-12  2.00000000e+01  3.39000000e+04  2.00000000e+00]\n",
      " [ 1.00000000e+00  2.20000000e+01  3.27000000e+04  3.00000000e+00]\n",
      " [ 1.00000000e+00  2.80000000e+01  4.06000000e+04  1.00000000e+00]]\n"
     ]
    }
   ],
   "source": [
    "Xo = X @ P\n",
    "print(X)\n",
    "print(Xo @ np.linalg.inv(P))"
   ]
  },
  {
   "cell_type": "markdown",
   "metadata": {},
   "source": [
    "Print all three cases for a few customers\n",
    "- The original data\n",
    "- The transformed one\n",
    "- The reversed (recovered) one"
   ]
  },
  {
   "cell_type": "code",
   "execution_count": 94,
   "metadata": {},
   "outputs": [
    {
     "name": "stdout",
     "output_type": "stream",
     "text": [
      "      gender  age   income  family_members\n",
      "0          1   41  49600.0               1\n",
      "1          0   46  38000.0               1\n",
      "2          0   29  21000.0               0\n",
      "3          0   21  41700.0               2\n",
      "4          1   28  26100.0               0\n",
      "...      ...  ...      ...             ...\n",
      "4995       0   28  35700.0               2\n",
      "4996       0   34  52400.0               1\n",
      "4997       0   20  33900.0               2\n",
      "4998       1   22  32700.0               3\n",
      "4999       1   28  40600.0               1\n",
      "\n",
      "[5000 rows x 4 columns]\n",
      "[[1.00e+00 4.10e+01 4.96e+04 1.00e+00]\n",
      " [0.00e+00 4.60e+01 3.80e+04 1.00e+00]\n",
      " [0.00e+00 2.90e+01 2.10e+04 0.00e+00]\n",
      " ...\n",
      " [0.00e+00 2.00e+01 3.39e+04 2.00e+00]\n",
      " [1.00e+00 2.20e+01 3.27e+04 3.00e+00]\n",
      " [1.00e+00 2.80e+01 4.06e+04 1.00e+00]]\n",
      "[[ 6359.71527314 22380.40467609 18424.09074184 46000.69669016]\n",
      " [ 4873.29406479 17160.36702982 14125.78076133 35253.45577301]\n",
      " [ 2693.11742928  9486.397744    7808.83156024 19484.86063067]\n",
      " ...\n",
      " [ 4346.2234249  15289.24126492 12586.16264392 31433.50888552]\n",
      " [ 4194.09324155 14751.9910242  12144.02930637 30323.88763426]\n",
      " [ 5205.46827354 18314.24814446 15077.01370762 37649.59295455]]\n"
     ]
    }
   ],
   "source": [
    "print(df_pn)\n",
    "print(X)\n",
    "print(Xo)"
   ]
  },
  {
   "cell_type": "markdown",
   "metadata": {},
   "source": [
    "You can probably see that some values are not exactly the same as they are in the original data. What might be the reason for that?"
   ]
  },
  {
   "cell_type": "markdown",
   "metadata": {},
   "source": [
    "It uses scientific notation instead of using floats, so it doesn't exactly translate well."
   ]
  },
  {
   "cell_type": "markdown",
   "metadata": {},
   "source": [
    "## Proof That Data Obfuscation Can Work with LR"
   ]
  },
  {
   "cell_type": "markdown",
   "metadata": {},
   "source": [
    "The regression task has been solved with linear regression in this project. Your next task is to prove _analytically_ that the given obfuscation method won't affect linear regression in terms of predicted values i.e. their values will remain the same. Can you believe that? Well, you don't have to, you should prove it!"
   ]
  },
  {
   "cell_type": "markdown",
   "metadata": {},
   "source": [
    "So, the data is obfuscated and there is $X \\times P$ instead of just $X$ now. Consequently, there are other weights $w_P$ as\n",
    "$$\n",
    "w = (X^T X)^{-1} X^T y \\quad \\Rightarrow \\quad w_P = [(XP)^T XP]^{-1} (XP)^T y\n",
    "$$\n",
    "\n",
    "How would $w$ and $w_P$ be linked if you simplify the formula for $w_P$ above? \n",
    "\n",
    "What would be predicted values with $w_P$? \n",
    "\n",
    "What does that mean for the quality of linear regression if you measure it with RMSE?\n",
    "\n",
    "Check Appendix B Properties of Matrices in the end of the notebook. There are useful formulas in there!\n",
    "\n",
    "No code is necessary in this section, only analytical explanation!"
   ]
  },
  {
   "cell_type": "markdown",
   "metadata": {},
   "source": [
    "**Answer**"
   ]
  },
  {
   "cell_type": "markdown",
   "metadata": {},
   "source": [
    "W and Wp sould be linked by just an obfuscation of X\n",
    "\n",
    "$$ \n",
    "w_P = [(X')^T X']^{-1} (X')^T y\n",
    "$$\n",
    "\n",
    "The predicted values with Wp would be be\n",
    "\n",
    "$$\n",
    "\\hat{y} = X_{val}w_P\n",
    "$$\n",
    "\n",
    "The linear regression quality RSME should be about the same. According to google, \"Data obfuscation scrambles data to anonymize it.\" It makes it harder to read, but the data should still be the same."
   ]
  },
  {
   "cell_type": "markdown",
   "metadata": {},
   "source": [
    "**Analytical proof**"
   ]
  },
  {
   "cell_type": "markdown",
   "metadata": {},
   "source": [
    "$$\n",
    "X' = XP\n",
    "$$\n",
    "\n",
    "$$\n",
    "\\hat{y_P} = X_{val}[(XP)^T XP]^{-1} (XP)^T y\n",
    "$$\n",
    "\n",
    "$$ \n",
    "w_P = (X^T)^{-1}(P^T)^{-1}(X)^{-1}(P)^{-1} X^TP^T y\n",
    "$$\n",
    "\n",
    "Scaled RSME compared to original data RSME didn't change, because all values changed with it"
   ]
  },
  {
   "cell_type": "markdown",
   "metadata": {},
   "source": [
    "## Test Linear Regression With Data Obfuscation"
   ]
  },
  {
   "cell_type": "markdown",
   "metadata": {},
   "source": [
    "Now, let's prove Linear Regression can work computationally with the chosen obfuscation transformation.\n",
    "\n",
    "Build a procedure or a class that runs Linear Regression optionally with the obfuscation. You can use either a ready implementation of Linear Regression from sciki-learn or your own.\n",
    "\n",
    "Run Linear Regression for the original data and the obfuscated one, compare the predicted values and the RMSE, $R^2$ metric values. Is there any difference?"
   ]
  },
  {
   "cell_type": "markdown",
   "metadata": {},
   "source": [
    "**Procedure**\n",
    "\n",
    "- Create a square matrix $P$ of random numbers.\n",
    "- Check that it is invertible. If not, repeat the first point until we get an invertible matrix.\n",
    "- <! your comment here !>\n",
    "- Use $XP$ as the new feature matrix"
   ]
  },
  {
   "cell_type": "code",
   "execution_count": 95,
   "metadata": {},
   "outputs": [
    {
     "name": "stdout",
     "output_type": "stream",
     "text": [
      "[[ 1.00000000e+00  4.31984031e-18 -2.78054126e-16 -2.57000677e-16]\n",
      " [ 6.08293605e-17  1.00000000e+00 -6.90868844e-17 -1.63138745e-16]\n",
      " [-5.61258920e-17  3.19494738e-16  1.00000000e+00  1.64271755e-18]\n",
      " [ 2.25584045e-18 -1.89983786e-18  4.42459684e-17  1.00000000e+00]]\n"
     ]
    }
   ],
   "source": [
    "personal_info_column_list = ['gender', 'age', 'income', 'family_members']\n",
    "df_pn = df[personal_info_column_list]\n",
    "X = df_pn.to_numpy()\n",
    "\n",
    "rng = np.random.default_rng(seed=42)\n",
    "P = rng.random(size=(X.shape[1], X.shape[1]))\n",
    "E = np.linalg.inv(P) @ P\n",
    "print(E)"
   ]
  },
  {
   "cell_type": "code",
   "execution_count": 96,
   "metadata": {},
   "outputs": [
    {
     "name": "stdout",
     "output_type": "stream",
     "text": [
      "RMSE: 0.34\n",
      "R2: 0.66\n"
     ]
    }
   ],
   "source": [
    "Xo = X @ P\n",
    "features = pd.DataFrame(Xo,columns=personal_info_column_list)\n",
    "features_train, features_test, target_train, target_test = train_test_split(X, y, test_size=0.3, random_state=12345)\n",
    "\n",
    "model = sklearn.linear_model.LinearRegression()\n",
    "model.fit(features_train,target_train)\n",
    "predictions_test = model.predict(features_test)\n",
    "\n",
    "eval_regressor(target_test,predictions_test)"
   ]
  },
  {
   "cell_type": "markdown",
   "metadata": {},
   "source": [
    "# Conclusions"
   ]
  },
  {
   "cell_type": "markdown",
   "metadata": {},
   "source": [
    "I was tasked on to develop a procedure that returns k nearest neighbors (objects) for a given object based on the distance between the objects and finding whether or not \"Does the data being not scaled affect the kNN algorithm? If so, how does that appear?\" \n",
    "\n",
    "Scaling the data lowers the income, distance, ruins the age, and family members and gender. But in trade off, it lowers the over all distance. \n",
    "\n",
    "I also was tasked to find out \"how similar are the results using the Manhattan distance metric (regardless of the scaling)?\" \n",
    "\n",
    "Similar, however, euclidean is overall closer in distance.\n",
    "\n",
    "I was tasked on finding \"If Customer Likely to Receive Insurance Benefit? And evaluate whether the kNN classification approach can do better than a dummy model.\" \n",
    "\n",
    "I learned, that yes, as predicted, kNN has higher f1 scores and less false positives and negatives. Scaled has higher F1 Scores overall, Less false Positives and less false negatives.\n",
    "\n",
    "I was tasked to \"With `insurance_benefits` as the target, evaluate what RMSE would be for a Linear Regression model. Build my own implementation of LR. For that, recall how the linear regression task's solution is formulated in terms of LA. Check RMSE for both the original data and the scaled one. Can you see any difference in RMSE between these two cases?\"\n",
    "\n",
    "I learned it was the same RSME for both.\n",
    "\n",
    "I was tasked to \"obfuscate data by multiplying the numerical features (remember, they can be seen as the matrix $X$) by an invertible matrix $P$, check how the features' values will look like after the transformation, and Test Linear Regression With Data Obfuscation. \n",
    "\n",
    "I learned that linear regression quality RSME should be about the same. According to google, \"Data obfuscation scrambles data to anonymize it.\" It makes it harder to read, but the data should still be the same. The RSME of my findings proved correct.\n",
    "\n",
    "\n",
    "\n"
   ]
  },
  {
   "cell_type": "markdown",
   "metadata": {},
   "source": [
    "# Checklist"
   ]
  },
  {
   "cell_type": "markdown",
   "metadata": {},
   "source": [
    "Type 'x' to check. Then press Shift+Enter."
   ]
  },
  {
   "cell_type": "markdown",
   "metadata": {},
   "source": [
    "- [x]  Jupyter Notebook is open\n",
    "- [x]  Code is error free\n",
    "- [x]  The cells are arranged in order of logic and execution\n",
    "- [x]  Task 1 has been performed\n",
    "    - [x]  There is the procedure that can return k similar customers for a given one\n",
    "    - [x]  The procedure is tested for all four proposed combinations\n",
    "    - [x]  The questions re the scaling/distances are answered\n",
    "- [x]  Task 2 has been performed\n",
    "    - [x]  The random classification model is built and tested for all for probability levels\n",
    "    - [x]  The kNN classification model is built and tested for both the original data and the scaled one, the F1 metric is calculated.\n",
    "- [x]  Task 3 has been performed\n",
    "    - [x]  The linear tegression solution is implemented with matrix operations.\n",
    "    - [x]  RMSE is calculated for the implemented solution.\n",
    "- [x]  Task 4 has been performed\n",
    "    - [x]  The data is obfuscated with a random and invertible matrix P\n",
    "    - [x]  The obfuscated data is recoved, few examples are printed out\n",
    "    - [x]  The analytical proof that the transformation does not affect RMSE is provided \n",
    "    - [x]  The computational proof that the transformation does not affect RMSE is provided\n",
    "- [x]  Conclusions have been made"
   ]
  },
  {
   "cell_type": "markdown",
   "metadata": {},
   "source": [
    "# Appendices \n",
    "\n",
    "## Appendix A: Writing Formulas in Jupyter Notebooks"
   ]
  },
  {
   "cell_type": "markdown",
   "metadata": {},
   "source": [
    "You can write formulas in your Jupyter Notebook in a markup language provided by a high-quality publishing system called $\\LaTeX$ (pronounced \"Lah-tech\"), and they will look like formulas in textbooks.\n",
    "\n",
    "To put a formula in a text, put the dollar sign (\\\\$) before and after the formula's text e.g. $\\frac{1}{2} \\times \\frac{3}{2} = \\frac{3}{4}$ or $y = x^2, x \\ge 1$.\n",
    "\n",
    "If a formula should be in its own paragraph, put the double dollar sign (\\\\$\\\\$) before and after the formula text e.g.\n",
    "\n",
    "$$\n",
    "\\bar{x} = \\frac{1}{n}\\sum_{i=1}^{n} x_i.\n",
    "$$\n",
    "\n",
    "The markup language of [LaTeX](https://en.wikipedia.org/wiki/LaTeX) is very popular among people who use formulas in their articles, books and texts. It can be complex but its basics are easy. Check this two page [cheatsheet](http://tug.ctan.org/info/undergradmath/undergradmath.pdf) for learning how to compose the most common formulas."
   ]
  },
  {
   "cell_type": "markdown",
   "metadata": {},
   "source": [
    "## Appendix B: Properties of Matrices"
   ]
  },
  {
   "cell_type": "markdown",
   "metadata": {},
   "source": [
    "Matrices have many properties in Linear Algebra. A few of them are listed here which can help with the analytical proof in this project."
   ]
  },
  {
   "cell_type": "markdown",
   "metadata": {},
   "source": [
    "<table>\n",
    "<tr>\n",
    "<td>Distributivity</td><td>$A(B+C)=AB+AC$</td>\n",
    "</tr>\n",
    "<tr>\n",
    "<td>Non-commutativity</td><td>$AB \\neq BA$</td>\n",
    "</tr>\n",
    "<tr>\n",
    "<td>Associative property of multiplication</td><td>$(AB)C = A(BC)$</td>\n",
    "</tr>\n",
    "<tr>\n",
    "<td>Multiplicative identity property</td><td>$IA = AI = A$</td>\n",
    "</tr>\n",
    "<tr>\n",
    "<td></td><td>$A^{-1}A = AA^{-1} = I$\n",
    "</td>\n",
    "</tr>    \n",
    "<tr>\n",
    "<td></td><td>$(AB)^{-1} = B^{-1}A^{-1}$</td>\n",
    "</tr>    \n",
    "<tr>\n",
    "<td>Reversivity of the transpose of a product of matrices,</td><td>$(AB)^T = B^TA^T$</td>\n",
    "</tr>    \n",
    "</table>"
   ]
  }
 ],
 "metadata": {
  "ExecuteTimeLog": [
   {
    "duration": 7637,
    "start_time": "2022-08-08T22:11:10.542Z"
   },
   {
    "duration": 1345,
    "start_time": "2022-08-08T22:11:18.181Z"
   },
   {
    "duration": 62,
    "start_time": "2022-08-08T22:11:19.527Z"
   },
   {
    "duration": 4,
    "start_time": "2022-08-08T22:11:19.590Z"
   },
   {
    "duration": 16,
    "start_time": "2022-08-08T22:11:19.595Z"
   },
   {
    "duration": 9,
    "start_time": "2022-08-08T22:11:19.612Z"
   },
   {
    "duration": 4,
    "start_time": "2022-08-08T22:12:00.398Z"
   },
   {
    "duration": 9,
    "start_time": "2022-08-08T22:12:09.904Z"
   },
   {
    "duration": 9,
    "start_time": "2022-08-08T22:12:59.988Z"
   },
   {
    "duration": 20,
    "start_time": "2022-08-08T22:13:16.214Z"
   },
   {
    "duration": 18,
    "start_time": "2022-08-08T22:13:24.198Z"
   },
   {
    "duration": 59,
    "start_time": "2022-08-08T22:13:36.086Z"
   },
   {
    "duration": 3,
    "start_time": "2022-08-09T02:49:39.999Z"
   },
   {
    "duration": 9,
    "start_time": "2022-08-09T02:49:40.467Z"
   },
   {
    "duration": 8,
    "start_time": "2022-08-09T02:49:40.921Z"
   },
   {
    "duration": 7,
    "start_time": "2022-08-09T03:58:16.667Z"
   },
   {
    "duration": 96,
    "start_time": "2022-08-09T05:49:08.502Z"
   },
   {
    "duration": 3,
    "start_time": "2022-08-09T05:49:47.750Z"
   },
   {
    "duration": 28,
    "start_time": "2022-08-09T05:49:48.751Z"
   },
   {
    "duration": 3,
    "start_time": "2022-08-09T05:49:48.817Z"
   },
   {
    "duration": 11,
    "start_time": "2022-08-09T05:49:48.849Z"
   },
   {
    "duration": 11,
    "start_time": "2022-08-09T05:49:48.879Z"
   },
   {
    "duration": 4,
    "start_time": "2022-08-09T05:49:48.918Z"
   },
   {
    "duration": 11,
    "start_time": "2022-08-09T05:49:48.939Z"
   },
   {
    "duration": 23,
    "start_time": "2022-08-09T05:49:48.971Z"
   },
   {
    "duration": 2988,
    "start_time": "2022-08-09T05:49:49.151Z"
   },
   {
    "duration": 3,
    "start_time": "2022-08-09T05:49:52.141Z"
   },
   {
    "duration": 9,
    "start_time": "2022-08-09T05:49:52.146Z"
   },
   {
    "duration": 13,
    "start_time": "2022-08-09T05:49:52.157Z"
   },
   {
    "duration": 10,
    "start_time": "2022-08-09T05:49:52.171Z"
   },
   {
    "duration": 16,
    "start_time": "2022-08-09T05:49:52.182Z"
   },
   {
    "duration": 2618,
    "start_time": "2022-08-09T05:50:45.197Z"
   },
   {
    "duration": 4,
    "start_time": "2022-08-09T05:50:47.817Z"
   },
   {
    "duration": 33,
    "start_time": "2022-08-09T05:50:47.822Z"
   },
   {
    "duration": 2277,
    "start_time": "2022-08-09T05:51:00.301Z"
   },
   {
    "duration": 1157,
    "start_time": "2022-08-09T05:51:03.524Z"
   },
   {
    "duration": 28,
    "start_time": "2022-08-09T05:51:04.682Z"
   },
   {
    "duration": 3,
    "start_time": "2022-08-09T05:51:04.773Z"
   },
   {
    "duration": 13,
    "start_time": "2022-08-09T05:51:04.803Z"
   },
   {
    "duration": 10,
    "start_time": "2022-08-09T05:51:04.848Z"
   },
   {
    "duration": 3,
    "start_time": "2022-08-09T05:51:04.880Z"
   },
   {
    "duration": 9,
    "start_time": "2022-08-09T05:51:04.911Z"
   },
   {
    "duration": 19,
    "start_time": "2022-08-09T05:51:04.945Z"
   },
   {
    "duration": 3144,
    "start_time": "2022-08-09T05:51:05.103Z"
   },
   {
    "duration": 3,
    "start_time": "2022-08-09T05:51:08.249Z"
   },
   {
    "duration": 10,
    "start_time": "2022-08-09T05:51:08.254Z"
   },
   {
    "duration": 16,
    "start_time": "2022-08-09T05:51:08.266Z"
   },
   {
    "duration": 15,
    "start_time": "2022-08-09T05:51:08.284Z"
   },
   {
    "duration": 110,
    "start_time": "2022-08-09T05:51:08.301Z"
   },
   {
    "duration": 11,
    "start_time": "2022-08-09T05:51:32.379Z"
   },
   {
    "duration": 4,
    "start_time": "2022-08-09T05:52:04.595Z"
   },
   {
    "duration": 11,
    "start_time": "2022-08-09T05:52:05.948Z"
   },
   {
    "duration": 10,
    "start_time": "2022-08-09T05:52:06.795Z"
   },
   {
    "duration": 15,
    "start_time": "2022-08-09T05:52:07.641Z"
   },
   {
    "duration": 4,
    "start_time": "2022-08-09T05:52:31.657Z"
   },
   {
    "duration": 9,
    "start_time": "2022-08-09T05:52:32.481Z"
   },
   {
    "duration": 9,
    "start_time": "2022-08-09T05:52:33.275Z"
   },
   {
    "duration": 13,
    "start_time": "2022-08-09T05:52:34.482Z"
   },
   {
    "duration": 3,
    "start_time": "2022-08-09T05:54:06.754Z"
   },
   {
    "duration": 10,
    "start_time": "2022-08-09T05:54:07.323Z"
   },
   {
    "duration": 9,
    "start_time": "2022-08-09T05:54:07.577Z"
   },
   {
    "duration": 3,
    "start_time": "2022-08-09T06:00:32.884Z"
   },
   {
    "duration": 12,
    "start_time": "2022-08-09T06:00:33.702Z"
   },
   {
    "duration": 13,
    "start_time": "2022-08-09T06:00:34.064Z"
   },
   {
    "duration": 16,
    "start_time": "2022-08-09T06:00:35.151Z"
   },
   {
    "duration": 4,
    "start_time": "2022-08-09T06:00:46.464Z"
   },
   {
    "duration": 12,
    "start_time": "2022-08-09T06:00:47.174Z"
   },
   {
    "duration": 12,
    "start_time": "2022-08-09T06:00:47.376Z"
   },
   {
    "duration": 23,
    "start_time": "2022-08-09T06:00:48.118Z"
   },
   {
    "duration": 4,
    "start_time": "2022-08-09T06:02:03.024Z"
   },
   {
    "duration": 10,
    "start_time": "2022-08-09T06:02:03.741Z"
   },
   {
    "duration": 8,
    "start_time": "2022-08-09T06:02:04.006Z"
   },
   {
    "duration": 16,
    "start_time": "2022-08-09T06:02:04.830Z"
   },
   {
    "duration": 4,
    "start_time": "2022-08-09T06:03:46.998Z"
   },
   {
    "duration": 9,
    "start_time": "2022-08-09T06:03:47.477Z"
   },
   {
    "duration": 11,
    "start_time": "2022-08-09T06:03:47.821Z"
   },
   {
    "duration": 16,
    "start_time": "2022-08-09T06:03:48.605Z"
   },
   {
    "duration": 5,
    "start_time": "2022-08-09T06:05:21.134Z"
   },
   {
    "duration": 9,
    "start_time": "2022-08-09T06:05:21.636Z"
   },
   {
    "duration": 9,
    "start_time": "2022-08-09T06:05:21.877Z"
   },
   {
    "duration": 15,
    "start_time": "2022-08-09T06:05:23.581Z"
   },
   {
    "duration": 5,
    "start_time": "2022-08-09T06:05:35.190Z"
   },
   {
    "duration": 9,
    "start_time": "2022-08-09T06:05:35.589Z"
   },
   {
    "duration": 9,
    "start_time": "2022-08-09T06:05:36.029Z"
   },
   {
    "duration": 15,
    "start_time": "2022-08-09T06:05:36.998Z"
   },
   {
    "duration": 3,
    "start_time": "2022-08-09T06:06:41.414Z"
   },
   {
    "duration": 9,
    "start_time": "2022-08-09T06:06:41.835Z"
   },
   {
    "duration": 9,
    "start_time": "2022-08-09T06:06:42.174Z"
   },
   {
    "duration": 15,
    "start_time": "2022-08-09T06:06:43.483Z"
   },
   {
    "duration": 3,
    "start_time": "2022-08-09T06:07:58.259Z"
   },
   {
    "duration": 11,
    "start_time": "2022-08-09T06:07:58.923Z"
   },
   {
    "duration": 9,
    "start_time": "2022-08-09T06:07:59.404Z"
   },
   {
    "duration": 17,
    "start_time": "2022-08-09T06:08:00.612Z"
   },
   {
    "duration": 3,
    "start_time": "2022-08-09T06:08:34.020Z"
   },
   {
    "duration": 9,
    "start_time": "2022-08-09T06:08:34.660Z"
   },
   {
    "duration": 9,
    "start_time": "2022-08-09T06:08:35.188Z"
   },
   {
    "duration": 7,
    "start_time": "2022-08-09T06:08:36.067Z"
   },
   {
    "duration": 3,
    "start_time": "2022-08-09T06:08:52.484Z"
   },
   {
    "duration": 9,
    "start_time": "2022-08-09T06:08:52.930Z"
   },
   {
    "duration": 8,
    "start_time": "2022-08-09T06:08:53.132Z"
   },
   {
    "duration": 14,
    "start_time": "2022-08-09T06:08:54.019Z"
   },
   {
    "duration": 5,
    "start_time": "2022-08-09T06:09:05.715Z"
   },
   {
    "duration": 9,
    "start_time": "2022-08-09T06:09:06.237Z"
   },
   {
    "duration": 10,
    "start_time": "2022-08-09T06:09:06.523Z"
   },
   {
    "duration": 15,
    "start_time": "2022-08-09T06:09:07.547Z"
   },
   {
    "duration": 3,
    "start_time": "2022-08-09T06:09:13.716Z"
   },
   {
    "duration": 9,
    "start_time": "2022-08-09T06:09:14.224Z"
   },
   {
    "duration": 13,
    "start_time": "2022-08-09T06:09:14.584Z"
   },
   {
    "duration": 14,
    "start_time": "2022-08-09T06:09:15.444Z"
   },
   {
    "duration": 3,
    "start_time": "2022-08-09T06:10:26.518Z"
   },
   {
    "duration": 9,
    "start_time": "2022-08-09T06:10:27.014Z"
   },
   {
    "duration": 10,
    "start_time": "2022-08-09T06:10:27.363Z"
   },
   {
    "duration": 15,
    "start_time": "2022-08-09T06:10:28.356Z"
   },
   {
    "duration": 3,
    "start_time": "2022-08-09T06:10:42.425Z"
   },
   {
    "duration": 9,
    "start_time": "2022-08-09T06:10:42.883Z"
   },
   {
    "duration": 9,
    "start_time": "2022-08-09T06:10:43.083Z"
   },
   {
    "duration": 18,
    "start_time": "2022-08-09T06:10:43.787Z"
   },
   {
    "duration": 3,
    "start_time": "2022-08-09T06:10:57.972Z"
   },
   {
    "duration": 9,
    "start_time": "2022-08-09T06:10:58.698Z"
   },
   {
    "duration": 14,
    "start_time": "2022-08-09T06:10:58.904Z"
   },
   {
    "duration": 22,
    "start_time": "2022-08-09T06:10:59.745Z"
   },
   {
    "duration": 3,
    "start_time": "2022-08-09T06:11:16.210Z"
   },
   {
    "duration": 13,
    "start_time": "2022-08-09T06:11:16.778Z"
   },
   {
    "duration": 13,
    "start_time": "2022-08-09T06:11:17.121Z"
   },
   {
    "duration": 3,
    "start_time": "2022-08-09T06:12:36.962Z"
   },
   {
    "duration": 13,
    "start_time": "2022-08-09T06:12:37.330Z"
   },
   {
    "duration": 13,
    "start_time": "2022-08-09T06:12:37.513Z"
   },
   {
    "duration": 32,
    "start_time": "2022-08-09T06:12:38.090Z"
   },
   {
    "duration": 4,
    "start_time": "2022-08-09T06:13:09.411Z"
   },
   {
    "duration": 14,
    "start_time": "2022-08-09T06:13:09.994Z"
   },
   {
    "duration": 11,
    "start_time": "2022-08-09T06:13:10.233Z"
   },
   {
    "duration": 15,
    "start_time": "2022-08-09T06:13:10.842Z"
   },
   {
    "duration": 4,
    "start_time": "2022-08-09T06:13:21.721Z"
   },
   {
    "duration": 9,
    "start_time": "2022-08-09T06:13:22.786Z"
   },
   {
    "duration": 11,
    "start_time": "2022-08-09T06:13:23.051Z"
   },
   {
    "duration": 15,
    "start_time": "2022-08-09T06:13:23.961Z"
   },
   {
    "duration": 3,
    "start_time": "2022-08-09T06:13:34.546Z"
   },
   {
    "duration": 10,
    "start_time": "2022-08-09T06:13:35.065Z"
   },
   {
    "duration": 12,
    "start_time": "2022-08-09T06:13:35.289Z"
   },
   {
    "duration": 19,
    "start_time": "2022-08-09T06:13:36.154Z"
   },
   {
    "duration": 3,
    "start_time": "2022-08-09T06:13:48.122Z"
   },
   {
    "duration": 10,
    "start_time": "2022-08-09T06:13:48.705Z"
   },
   {
    "duration": 11,
    "start_time": "2022-08-09T06:13:48.970Z"
   },
   {
    "duration": 22,
    "start_time": "2022-08-09T06:13:49.634Z"
   },
   {
    "duration": 6,
    "start_time": "2022-08-09T06:14:30.866Z"
   },
   {
    "duration": 12,
    "start_time": "2022-08-09T06:14:31.345Z"
   },
   {
    "duration": 9,
    "start_time": "2022-08-09T06:14:31.569Z"
   },
   {
    "duration": 16,
    "start_time": "2022-08-09T06:14:32.378Z"
   },
   {
    "duration": 3,
    "start_time": "2022-08-09T06:15:01.449Z"
   },
   {
    "duration": 2474,
    "start_time": "2022-08-09T06:15:07.353Z"
   },
   {
    "duration": 3,
    "start_time": "2022-08-09T06:15:09.830Z"
   },
   {
    "duration": 39,
    "start_time": "2022-08-09T06:15:09.835Z"
   },
   {
    "duration": 4,
    "start_time": "2022-08-09T06:15:09.876Z"
   },
   {
    "duration": 13,
    "start_time": "2022-08-09T06:15:09.882Z"
   },
   {
    "duration": 11,
    "start_time": "2022-08-09T06:15:09.897Z"
   },
   {
    "duration": 3,
    "start_time": "2022-08-09T06:15:09.910Z"
   },
   {
    "duration": 13,
    "start_time": "2022-08-09T06:15:09.915Z"
   },
   {
    "duration": 21,
    "start_time": "2022-08-09T06:15:09.930Z"
   },
   {
    "duration": 3226,
    "start_time": "2022-08-09T06:15:09.953Z"
   },
   {
    "duration": 4,
    "start_time": "2022-08-09T06:15:13.181Z"
   },
   {
    "duration": 8,
    "start_time": "2022-08-09T06:15:13.187Z"
   },
   {
    "duration": 13,
    "start_time": "2022-08-09T06:15:13.197Z"
   },
   {
    "duration": 9,
    "start_time": "2022-08-09T06:15:13.213Z"
   },
   {
    "duration": 30,
    "start_time": "2022-08-09T06:15:13.224Z"
   },
   {
    "duration": 4,
    "start_time": "2022-08-09T06:16:30.259Z"
   },
   {
    "duration": 14,
    "start_time": "2022-08-09T06:16:30.720Z"
   },
   {
    "duration": 14,
    "start_time": "2022-08-09T06:16:31.103Z"
   },
   {
    "duration": 25,
    "start_time": "2022-08-09T06:16:31.983Z"
   },
   {
    "duration": 7,
    "start_time": "2022-08-09T06:16:51.801Z"
   },
   {
    "duration": 13,
    "start_time": "2022-08-09T06:16:52.240Z"
   },
   {
    "duration": 12,
    "start_time": "2022-08-09T06:16:52.464Z"
   },
   {
    "duration": 22,
    "start_time": "2022-08-09T06:16:52.864Z"
   },
   {
    "duration": 5,
    "start_time": "2022-08-09T06:17:11.447Z"
   },
   {
    "duration": 11,
    "start_time": "2022-08-09T06:17:12.735Z"
   },
   {
    "duration": 10,
    "start_time": "2022-08-09T06:17:12.935Z"
   },
   {
    "duration": 16,
    "start_time": "2022-08-09T06:17:13.919Z"
   },
   {
    "duration": 4,
    "start_time": "2022-08-09T06:17:42.738Z"
   },
   {
    "duration": 12,
    "start_time": "2022-08-09T06:17:43.288Z"
   },
   {
    "duration": 13,
    "start_time": "2022-08-09T06:17:43.543Z"
   },
   {
    "duration": 17,
    "start_time": "2022-08-09T06:17:44.711Z"
   },
   {
    "duration": 4,
    "start_time": "2022-08-09T06:19:31.073Z"
   },
   {
    "duration": 9,
    "start_time": "2022-08-09T06:19:31.920Z"
   },
   {
    "duration": 9,
    "start_time": "2022-08-09T06:19:32.464Z"
   },
   {
    "duration": 18,
    "start_time": "2022-08-09T06:19:33.392Z"
   },
   {
    "duration": 4,
    "start_time": "2022-08-09T06:20:36.694Z"
   },
   {
    "duration": 9,
    "start_time": "2022-08-09T06:20:37.598Z"
   },
   {
    "duration": 9,
    "start_time": "2022-08-09T06:20:38.464Z"
   },
   {
    "duration": 14,
    "start_time": "2022-08-09T06:20:39.294Z"
   },
   {
    "duration": 4,
    "start_time": "2022-08-09T06:21:06.082Z"
   },
   {
    "duration": 9,
    "start_time": "2022-08-09T06:21:06.806Z"
   },
   {
    "duration": 10,
    "start_time": "2022-08-09T06:21:07.166Z"
   },
   {
    "duration": 11,
    "start_time": "2022-08-09T06:21:08.135Z"
   },
   {
    "duration": 4,
    "start_time": "2022-08-09T06:22:26.494Z"
   },
   {
    "duration": 10,
    "start_time": "2022-08-09T06:22:27.526Z"
   },
   {
    "duration": 13,
    "start_time": "2022-08-09T06:22:28.070Z"
   },
   {
    "duration": 11,
    "start_time": "2022-08-09T06:22:29.727Z"
   },
   {
    "duration": 5,
    "start_time": "2022-08-09T06:22:34.119Z"
   },
   {
    "duration": 13,
    "start_time": "2022-08-09T06:22:34.830Z"
   },
   {
    "duration": 12,
    "start_time": "2022-08-09T06:22:35.084Z"
   },
   {
    "duration": 15,
    "start_time": "2022-08-09T06:22:36.220Z"
   },
   {
    "duration": 5,
    "start_time": "2022-08-09T06:22:56.792Z"
   },
   {
    "duration": 16,
    "start_time": "2022-08-09T06:22:57.372Z"
   },
   {
    "duration": 10,
    "start_time": "2022-08-09T06:22:57.718Z"
   },
   {
    "duration": 12,
    "start_time": "2022-08-09T06:22:58.558Z"
   },
   {
    "duration": 4,
    "start_time": "2022-08-09T06:23:11.975Z"
   },
   {
    "duration": 6,
    "start_time": "2022-08-09T06:23:15.223Z"
   },
   {
    "duration": 12,
    "start_time": "2022-08-09T06:23:15.686Z"
   },
   {
    "duration": 9,
    "start_time": "2022-08-09T06:23:15.860Z"
   },
   {
    "duration": 17,
    "start_time": "2022-08-09T06:23:16.502Z"
   },
   {
    "duration": 15,
    "start_time": "2022-08-09T06:23:55.854Z"
   },
   {
    "duration": 14,
    "start_time": "2022-08-09T06:24:50.244Z"
   },
   {
    "duration": 15,
    "start_time": "2022-08-09T06:24:50.604Z"
   },
   {
    "duration": 3143,
    "start_time": "2022-08-09T06:25:20.885Z"
   },
   {
    "duration": 3,
    "start_time": "2022-08-09T06:25:24.030Z"
   },
   {
    "duration": 8,
    "start_time": "2022-08-09T06:25:24.038Z"
   },
   {
    "duration": 15,
    "start_time": "2022-08-09T06:25:24.048Z"
   },
   {
    "duration": 12,
    "start_time": "2022-08-09T06:25:24.065Z"
   },
   {
    "duration": 18,
    "start_time": "2022-08-09T06:25:24.079Z"
   },
   {
    "duration": 41,
    "start_time": "2022-08-09T06:25:24.099Z"
   },
   {
    "duration": 15,
    "start_time": "2022-08-09T06:25:24.141Z"
   },
   {
    "duration": 14,
    "start_time": "2022-08-09T06:25:24.158Z"
   },
   {
    "duration": 16,
    "start_time": "2022-08-09T06:25:52.917Z"
   },
   {
    "duration": 23,
    "start_time": "2022-08-09T06:25:55.564Z"
   },
   {
    "duration": 24,
    "start_time": "2022-08-09T06:25:55.765Z"
   },
   {
    "duration": 22,
    "start_time": "2022-08-09T06:25:55.959Z"
   },
   {
    "duration": 21,
    "start_time": "2022-08-09T06:25:56.144Z"
   },
   {
    "duration": 4,
    "start_time": "2022-08-09T06:26:44.197Z"
   },
   {
    "duration": 13,
    "start_time": "2022-08-09T06:26:44.677Z"
   },
   {
    "duration": 11,
    "start_time": "2022-08-09T06:26:44.875Z"
   },
   {
    "duration": 23,
    "start_time": "2022-08-09T06:26:45.469Z"
   },
   {
    "duration": 17,
    "start_time": "2022-08-09T06:26:45.673Z"
   },
   {
    "duration": 17,
    "start_time": "2022-08-09T06:26:45.873Z"
   },
   {
    "duration": 19,
    "start_time": "2022-08-09T06:26:46.150Z"
   },
   {
    "duration": 6,
    "start_time": "2022-08-09T06:28:21.797Z"
   },
   {
    "duration": 11,
    "start_time": "2022-08-09T06:28:22.260Z"
   },
   {
    "duration": 10,
    "start_time": "2022-08-09T06:28:22.469Z"
   },
   {
    "duration": 16,
    "start_time": "2022-08-09T06:28:22.923Z"
   },
   {
    "duration": 16,
    "start_time": "2022-08-09T06:28:23.573Z"
   },
   {
    "duration": 18,
    "start_time": "2022-08-09T06:28:24.356Z"
   },
   {
    "duration": 18,
    "start_time": "2022-08-09T06:28:27.604Z"
   },
   {
    "duration": 44,
    "start_time": "2022-08-09T20:57:16.522Z"
   },
   {
    "duration": 7453,
    "start_time": "2022-08-09T20:57:20.300Z"
   },
   {
    "duration": 1322,
    "start_time": "2022-08-09T20:57:27.755Z"
   },
   {
    "duration": 62,
    "start_time": "2022-08-09T20:57:29.079Z"
   },
   {
    "duration": 4,
    "start_time": "2022-08-09T20:57:29.142Z"
   },
   {
    "duration": 18,
    "start_time": "2022-08-09T20:57:29.147Z"
   },
   {
    "duration": 10,
    "start_time": "2022-08-09T20:57:29.166Z"
   },
   {
    "duration": 8,
    "start_time": "2022-08-09T20:57:29.178Z"
   },
   {
    "duration": 10,
    "start_time": "2022-08-09T20:57:29.187Z"
   },
   {
    "duration": 19,
    "start_time": "2022-08-09T20:57:29.198Z"
   },
   {
    "duration": 3114,
    "start_time": "2022-08-09T20:57:29.219Z"
   },
   {
    "duration": 4,
    "start_time": "2022-08-09T20:57:32.335Z"
   },
   {
    "duration": 9,
    "start_time": "2022-08-09T20:57:32.341Z"
   },
   {
    "duration": 11,
    "start_time": "2022-08-09T20:57:32.352Z"
   },
   {
    "duration": 10,
    "start_time": "2022-08-09T20:57:32.364Z"
   },
   {
    "duration": 80,
    "start_time": "2022-08-09T20:57:32.375Z"
   },
   {
    "duration": 0,
    "start_time": "2022-08-09T20:57:32.456Z"
   },
   {
    "duration": 0,
    "start_time": "2022-08-09T20:57:32.457Z"
   },
   {
    "duration": 0,
    "start_time": "2022-08-09T20:57:32.459Z"
   },
   {
    "duration": 0,
    "start_time": "2022-08-09T20:57:32.460Z"
   },
   {
    "duration": 3,
    "start_time": "2022-08-09T20:58:27.712Z"
   },
   {
    "duration": 28,
    "start_time": "2022-08-09T20:58:28.572Z"
   },
   {
    "duration": 4,
    "start_time": "2022-08-09T20:58:28.636Z"
   },
   {
    "duration": 9,
    "start_time": "2022-08-09T20:58:28.666Z"
   },
   {
    "duration": 9,
    "start_time": "2022-08-09T20:58:28.698Z"
   },
   {
    "duration": 3,
    "start_time": "2022-08-09T20:58:28.730Z"
   },
   {
    "duration": 9,
    "start_time": "2022-08-09T20:58:28.762Z"
   },
   {
    "duration": 19,
    "start_time": "2022-08-09T20:58:28.801Z"
   },
   {
    "duration": 3230,
    "start_time": "2022-08-09T20:58:28.972Z"
   },
   {
    "duration": 3,
    "start_time": "2022-08-09T20:58:32.204Z"
   },
   {
    "duration": 8,
    "start_time": "2022-08-09T20:58:32.209Z"
   },
   {
    "duration": 21,
    "start_time": "2022-08-09T20:58:32.219Z"
   },
   {
    "duration": 11,
    "start_time": "2022-08-09T20:58:32.246Z"
   },
   {
    "duration": 16,
    "start_time": "2022-08-09T20:58:32.258Z"
   },
   {
    "duration": 15,
    "start_time": "2022-08-09T20:58:32.275Z"
   },
   {
    "duration": 14,
    "start_time": "2022-08-09T20:58:32.291Z"
   },
   {
    "duration": 47,
    "start_time": "2022-08-09T20:58:32.306Z"
   },
   {
    "duration": 11,
    "start_time": "2022-08-09T20:58:47.569Z"
   },
   {
    "duration": 4,
    "start_time": "2022-08-09T20:59:32.904Z"
   },
   {
    "duration": 7,
    "start_time": "2022-08-09T20:59:44.536Z"
   },
   {
    "duration": 4,
    "start_time": "2022-08-09T20:59:50.027Z"
   },
   {
    "duration": 4,
    "start_time": "2022-08-09T21:00:07.585Z"
   },
   {
    "duration": 6,
    "start_time": "2022-08-09T21:00:25.849Z"
   },
   {
    "duration": 5,
    "start_time": "2022-08-09T21:01:03.993Z"
   },
   {
    "duration": 5,
    "start_time": "2022-08-09T21:01:20.129Z"
   },
   {
    "duration": 12,
    "start_time": "2022-08-09T21:16:00.978Z"
   },
   {
    "duration": 7,
    "start_time": "2022-08-09T21:17:17.860Z"
   },
   {
    "duration": 3,
    "start_time": "2022-08-09T21:17:27.875Z"
   },
   {
    "duration": 3,
    "start_time": "2022-08-09T21:17:28.195Z"
   },
   {
    "duration": 2276,
    "start_time": "2022-08-10T01:48:49.483Z"
   },
   {
    "duration": 4,
    "start_time": "2022-08-10T01:48:51.761Z"
   },
   {
    "duration": 42,
    "start_time": "2022-08-10T01:48:51.766Z"
   },
   {
    "duration": 3,
    "start_time": "2022-08-10T01:48:51.809Z"
   },
   {
    "duration": 28,
    "start_time": "2022-08-10T01:48:51.814Z"
   },
   {
    "duration": 23,
    "start_time": "2022-08-10T01:48:51.843Z"
   },
   {
    "duration": 10,
    "start_time": "2022-08-10T01:48:51.868Z"
   },
   {
    "duration": 15,
    "start_time": "2022-08-10T01:48:51.879Z"
   },
   {
    "duration": 18,
    "start_time": "2022-08-10T01:48:51.895Z"
   },
   {
    "duration": 3103,
    "start_time": "2022-08-10T01:48:51.916Z"
   },
   {
    "duration": 3,
    "start_time": "2022-08-10T01:48:55.020Z"
   },
   {
    "duration": 13,
    "start_time": "2022-08-10T01:48:55.025Z"
   },
   {
    "duration": 13,
    "start_time": "2022-08-10T01:48:55.039Z"
   },
   {
    "duration": 9,
    "start_time": "2022-08-10T01:48:55.053Z"
   },
   {
    "duration": 17,
    "start_time": "2022-08-10T01:48:55.063Z"
   },
   {
    "duration": 15,
    "start_time": "2022-08-10T01:48:55.082Z"
   },
   {
    "duration": 41,
    "start_time": "2022-08-10T01:48:55.098Z"
   },
   {
    "duration": 15,
    "start_time": "2022-08-10T01:48:55.141Z"
   },
   {
    "duration": 3,
    "start_time": "2022-08-10T01:57:09.881Z"
   },
   {
    "duration": 7,
    "start_time": "2022-08-10T01:57:10.217Z"
   },
   {
    "duration": 3,
    "start_time": "2022-08-10T01:57:11.006Z"
   },
   {
    "duration": 14,
    "start_time": "2022-08-10T02:21:51.604Z"
   },
   {
    "duration": 28,
    "start_time": "2022-08-10T02:22:06.052Z"
   },
   {
    "duration": 10,
    "start_time": "2022-08-10T02:45:35.384Z"
   },
   {
    "duration": 10,
    "start_time": "2022-08-10T02:45:59.521Z"
   },
   {
    "duration": 9,
    "start_time": "2022-08-10T02:46:07.766Z"
   },
   {
    "duration": 4,
    "start_time": "2022-08-10T02:46:15.266Z"
   },
   {
    "duration": 21,
    "start_time": "2022-08-10T02:46:40.034Z"
   },
   {
    "duration": 17,
    "start_time": "2022-08-10T02:47:05.732Z"
   },
   {
    "duration": 3,
    "start_time": "2022-08-10T02:51:02.912Z"
   },
   {
    "duration": 5,
    "start_time": "2022-08-10T02:51:03.169Z"
   },
   {
    "duration": 4,
    "start_time": "2022-08-10T02:51:05.985Z"
   },
   {
    "duration": 7,
    "start_time": "2022-08-10T02:51:06.385Z"
   },
   {
    "duration": 4,
    "start_time": "2022-08-10T02:51:13.569Z"
   },
   {
    "duration": 4,
    "start_time": "2022-08-10T02:51:14.272Z"
   },
   {
    "duration": 3,
    "start_time": "2022-08-10T03:03:50.690Z"
   },
   {
    "duration": 3,
    "start_time": "2022-08-10T03:03:50.944Z"
   },
   {
    "duration": 11,
    "start_time": "2022-08-10T03:04:00.217Z"
   },
   {
    "duration": 4,
    "start_time": "2022-08-10T03:04:28.301Z"
   },
   {
    "duration": 7,
    "start_time": "2022-08-10T03:04:28.524Z"
   },
   {
    "duration": 4,
    "start_time": "2022-08-10T03:04:28.761Z"
   },
   {
    "duration": 3,
    "start_time": "2022-08-10T03:04:29.168Z"
   },
   {
    "duration": 9,
    "start_time": "2022-08-10T03:04:33.209Z"
   },
   {
    "duration": 4,
    "start_time": "2022-08-10T03:05:20.109Z"
   },
   {
    "duration": 4,
    "start_time": "2022-08-10T03:05:20.303Z"
   },
   {
    "duration": 10,
    "start_time": "2022-08-10T03:05:21.048Z"
   },
   {
    "duration": 19,
    "start_time": "2022-08-10T03:05:57.520Z"
   },
   {
    "duration": 17,
    "start_time": "2022-08-10T03:06:45.360Z"
   },
   {
    "duration": 4,
    "start_time": "2022-08-10T03:17:33.044Z"
   },
   {
    "duration": 9,
    "start_time": "2022-08-10T03:17:33.627Z"
   },
   {
    "duration": 9,
    "start_time": "2022-08-10T03:17:34.240Z"
   },
   {
    "duration": 11,
    "start_time": "2022-08-10T03:17:35.234Z"
   },
   {
    "duration": 12,
    "start_time": "2022-08-10T03:17:35.497Z"
   },
   {
    "duration": 5,
    "start_time": "2022-08-10T03:17:57.473Z"
   },
   {
    "duration": 9,
    "start_time": "2022-08-10T03:17:58.729Z"
   },
   {
    "duration": 9,
    "start_time": "2022-08-10T03:17:58.969Z"
   },
   {
    "duration": 15,
    "start_time": "2022-08-10T03:17:59.873Z"
   },
   {
    "duration": 16,
    "start_time": "2022-08-10T03:18:00.097Z"
   },
   {
    "duration": 16,
    "start_time": "2022-08-10T03:18:01.545Z"
   },
   {
    "duration": 23,
    "start_time": "2022-08-10T03:18:02.288Z"
   },
   {
    "duration": 10,
    "start_time": "2022-08-10T03:21:32.650Z"
   },
   {
    "duration": 15,
    "start_time": "2022-08-10T03:21:56.207Z"
   },
   {
    "duration": 4,
    "start_time": "2022-08-10T03:22:10.977Z"
   },
   {
    "duration": 8,
    "start_time": "2022-08-10T03:22:16.400Z"
   },
   {
    "duration": 4,
    "start_time": "2022-08-10T03:22:25.830Z"
   },
   {
    "duration": 7,
    "start_time": "2022-08-10T03:23:28.983Z"
   },
   {
    "duration": 3,
    "start_time": "2022-08-10T03:38:38.594Z"
   },
   {
    "duration": 5,
    "start_time": "2022-08-10T03:38:39.062Z"
   },
   {
    "duration": 3,
    "start_time": "2022-08-10T03:38:39.786Z"
   },
   {
    "duration": 2,
    "start_time": "2022-08-10T03:38:40.050Z"
   },
   {
    "duration": 22,
    "start_time": "2022-08-10T03:38:40.385Z"
   },
   {
    "duration": 6,
    "start_time": "2022-08-10T03:38:51.554Z"
   },
   {
    "duration": 35,
    "start_time": "2022-08-10T04:24:34.080Z"
   },
   {
    "duration": 4,
    "start_time": "2022-08-10T04:41:18.256Z"
   },
   {
    "duration": 9,
    "start_time": "2022-08-10T04:41:18.745Z"
   },
   {
    "duration": 9,
    "start_time": "2022-08-10T04:41:18.989Z"
   },
   {
    "duration": 174,
    "start_time": "2022-08-10T04:41:19.367Z"
   },
   {
    "duration": 106,
    "start_time": "2022-08-10T04:41:19.545Z"
   },
   {
    "duration": 14,
    "start_time": "2022-08-10T04:41:19.950Z"
   },
   {
    "duration": 13,
    "start_time": "2022-08-10T04:41:20.299Z"
   },
   {
    "duration": 3,
    "start_time": "2022-08-10T04:41:32.127Z"
   },
   {
    "duration": 6,
    "start_time": "2022-08-10T04:41:32.326Z"
   },
   {
    "duration": 2,
    "start_time": "2022-08-10T04:41:32.528Z"
   },
   {
    "duration": 3,
    "start_time": "2022-08-10T04:41:32.710Z"
   },
   {
    "duration": 19,
    "start_time": "2022-08-10T04:41:32.926Z"
   },
   {
    "duration": 6,
    "start_time": "2022-08-10T04:41:33.190Z"
   },
   {
    "duration": 42,
    "start_time": "2022-08-10T04:41:34.280Z"
   },
   {
    "duration": 249,
    "start_time": "2022-08-10T04:43:15.350Z"
   },
   {
    "duration": 288,
    "start_time": "2022-08-10T04:43:43.487Z"
   },
   {
    "duration": 264,
    "start_time": "2022-08-10T04:43:46.302Z"
   },
   {
    "duration": 10,
    "start_time": "2022-08-10T21:35:43.136Z"
   },
   {
    "duration": 3,
    "start_time": "2022-08-10T21:35:43.166Z"
   },
   {
    "duration": 49,
    "start_time": "2022-08-10T21:35:43.830Z"
   },
   {
    "duration": 7352,
    "start_time": "2022-08-10T21:35:48.399Z"
   },
   {
    "duration": 1384,
    "start_time": "2022-08-10T21:35:55.753Z"
   },
   {
    "duration": 67,
    "start_time": "2022-08-10T21:35:57.139Z"
   },
   {
    "duration": 4,
    "start_time": "2022-08-10T21:35:57.208Z"
   },
   {
    "duration": 18,
    "start_time": "2022-08-10T21:35:57.213Z"
   },
   {
    "duration": 11,
    "start_time": "2022-08-10T21:35:57.232Z"
   },
   {
    "duration": 4,
    "start_time": "2022-08-10T21:35:57.245Z"
   },
   {
    "duration": 11,
    "start_time": "2022-08-10T21:35:57.250Z"
   },
   {
    "duration": 49,
    "start_time": "2022-08-10T21:35:57.262Z"
   },
   {
    "duration": 3335,
    "start_time": "2022-08-10T21:35:57.314Z"
   },
   {
    "duration": 3,
    "start_time": "2022-08-10T21:36:00.651Z"
   },
   {
    "duration": 9,
    "start_time": "2022-08-10T21:36:00.655Z"
   },
   {
    "duration": 14,
    "start_time": "2022-08-10T21:36:00.666Z"
   },
   {
    "duration": 19,
    "start_time": "2022-08-10T21:36:00.682Z"
   },
   {
    "duration": 198,
    "start_time": "2022-08-10T21:36:00.703Z"
   },
   {
    "duration": 102,
    "start_time": "2022-08-10T21:36:00.903Z"
   },
   {
    "duration": 28,
    "start_time": "2022-08-10T21:36:01.007Z"
   },
   {
    "duration": 62,
    "start_time": "2022-08-10T21:36:01.038Z"
   },
   {
    "duration": 5,
    "start_time": "2022-08-10T21:36:01.101Z"
   },
   {
    "duration": 11,
    "start_time": "2022-08-10T21:36:01.107Z"
   },
   {
    "duration": 6,
    "start_time": "2022-08-10T21:36:01.119Z"
   },
   {
    "duration": 27,
    "start_time": "2022-08-10T21:36:01.127Z"
   },
   {
    "duration": 23,
    "start_time": "2022-08-10T21:36:01.156Z"
   },
   {
    "duration": 307,
    "start_time": "2022-08-10T21:36:01.181Z"
   },
   {
    "duration": 1654,
    "start_time": "2022-08-10T21:36:01.490Z"
   },
   {
    "duration": 0,
    "start_time": "2022-08-10T21:36:03.145Z"
   },
   {
    "duration": 0,
    "start_time": "2022-08-10T21:36:03.147Z"
   },
   {
    "duration": 0,
    "start_time": "2022-08-10T21:36:03.148Z"
   },
   {
    "duration": 5,
    "start_time": "2022-08-10T22:54:21.122Z"
   },
   {
    "duration": 4,
    "start_time": "2022-08-10T22:54:21.714Z"
   },
   {
    "duration": 20,
    "start_time": "2022-08-10T22:54:26.018Z"
   },
   {
    "duration": 6,
    "start_time": "2022-08-10T22:55:24.396Z"
   },
   {
    "duration": 4,
    "start_time": "2022-08-10T22:55:24.923Z"
   },
   {
    "duration": 17,
    "start_time": "2022-08-10T22:55:25.612Z"
   },
   {
    "duration": 4,
    "start_time": "2022-08-10T22:55:34.875Z"
   },
   {
    "duration": 3,
    "start_time": "2022-08-10T22:55:36.466Z"
   },
   {
    "duration": 17,
    "start_time": "2022-08-10T22:55:45.512Z"
   },
   {
    "duration": 4,
    "start_time": "2022-08-10T22:59:26.411Z"
   },
   {
    "duration": 3,
    "start_time": "2022-08-10T22:59:26.769Z"
   },
   {
    "duration": 20,
    "start_time": "2022-08-10T22:59:27.841Z"
   },
   {
    "duration": 3,
    "start_time": "2022-08-10T23:01:00.162Z"
   },
   {
    "duration": 40,
    "start_time": "2022-08-10T23:01:01.874Z"
   },
   {
    "duration": 4,
    "start_time": "2022-08-10T23:01:02.619Z"
   },
   {
    "duration": 10,
    "start_time": "2022-08-10T23:01:02.653Z"
   },
   {
    "duration": 11,
    "start_time": "2022-08-10T23:01:02.679Z"
   },
   {
    "duration": 3,
    "start_time": "2022-08-10T23:01:02.728Z"
   },
   {
    "duration": 9,
    "start_time": "2022-08-10T23:01:02.761Z"
   },
   {
    "duration": 27,
    "start_time": "2022-08-10T23:01:02.792Z"
   },
   {
    "duration": 3676,
    "start_time": "2022-08-10T23:01:02.949Z"
   },
   {
    "duration": 3,
    "start_time": "2022-08-10T23:01:06.627Z"
   },
   {
    "duration": 8,
    "start_time": "2022-08-10T23:01:06.631Z"
   },
   {
    "duration": 12,
    "start_time": "2022-08-10T23:01:06.642Z"
   },
   {
    "duration": 9,
    "start_time": "2022-08-10T23:01:06.656Z"
   },
   {
    "duration": 44,
    "start_time": "2022-08-10T23:01:06.667Z"
   },
   {
    "duration": 15,
    "start_time": "2022-08-10T23:01:06.712Z"
   },
   {
    "duration": 13,
    "start_time": "2022-08-10T23:01:06.729Z"
   },
   {
    "duration": 13,
    "start_time": "2022-08-10T23:01:06.744Z"
   },
   {
    "duration": 3,
    "start_time": "2022-08-10T23:01:06.759Z"
   },
   {
    "duration": 7,
    "start_time": "2022-08-10T23:01:06.764Z"
   },
   {
    "duration": 38,
    "start_time": "2022-08-10T23:01:06.772Z"
   },
   {
    "duration": 7,
    "start_time": "2022-08-10T23:01:06.811Z"
   },
   {
    "duration": 22,
    "start_time": "2022-08-10T23:01:06.820Z"
   },
   {
    "duration": 336,
    "start_time": "2022-08-10T23:01:06.843Z"
   },
   {
    "duration": 1744,
    "start_time": "2022-08-10T23:01:07.181Z"
   },
   {
    "duration": 0,
    "start_time": "2022-08-10T23:01:08.927Z"
   },
   {
    "duration": 0,
    "start_time": "2022-08-10T23:01:08.928Z"
   },
   {
    "duration": 0,
    "start_time": "2022-08-10T23:01:08.929Z"
   },
   {
    "duration": 5,
    "start_time": "2022-08-10T23:20:51.492Z"
   },
   {
    "duration": 3,
    "start_time": "2022-08-10T23:20:52.076Z"
   },
   {
    "duration": 9,
    "start_time": "2022-08-10T23:20:53.299Z"
   },
   {
    "duration": 681,
    "start_time": "2022-08-11T01:38:55.003Z"
   },
   {
    "duration": 262,
    "start_time": "2022-08-11T01:39:39.363Z"
   },
   {
    "duration": 8,
    "start_time": "2022-08-11T01:41:00.044Z"
   },
   {
    "duration": 7,
    "start_time": "2022-08-11T01:41:05.499Z"
   },
   {
    "duration": 8,
    "start_time": "2022-08-11T01:41:06.218Z"
   },
   {
    "duration": 8,
    "start_time": "2022-08-11T20:43:09.486Z"
   },
   {
    "duration": 2619,
    "start_time": "2022-08-11T20:43:13.262Z"
   },
   {
    "duration": 4,
    "start_time": "2022-08-11T20:43:15.883Z"
   },
   {
    "duration": 36,
    "start_time": "2022-08-11T20:43:15.888Z"
   },
   {
    "duration": 5,
    "start_time": "2022-08-11T20:43:15.926Z"
   },
   {
    "duration": 16,
    "start_time": "2022-08-11T20:43:15.933Z"
   },
   {
    "duration": 17,
    "start_time": "2022-08-11T20:43:15.951Z"
   },
   {
    "duration": 4,
    "start_time": "2022-08-11T20:43:15.970Z"
   },
   {
    "duration": 31,
    "start_time": "2022-08-11T20:43:15.976Z"
   },
   {
    "duration": 21,
    "start_time": "2022-08-11T20:43:16.009Z"
   },
   {
    "duration": 3375,
    "start_time": "2022-08-11T20:43:16.033Z"
   },
   {
    "duration": 3,
    "start_time": "2022-08-11T20:43:19.410Z"
   },
   {
    "duration": 13,
    "start_time": "2022-08-11T20:43:19.414Z"
   },
   {
    "duration": 15,
    "start_time": "2022-08-11T20:43:19.428Z"
   },
   {
    "duration": 10,
    "start_time": "2022-08-11T20:43:19.445Z"
   },
   {
    "duration": 44,
    "start_time": "2022-08-11T20:43:19.456Z"
   },
   {
    "duration": 112,
    "start_time": "2022-08-11T20:43:19.501Z"
   },
   {
    "duration": 16,
    "start_time": "2022-08-11T20:43:19.615Z"
   },
   {
    "duration": 15,
    "start_time": "2022-08-11T20:43:19.633Z"
   },
   {
    "duration": 4,
    "start_time": "2022-08-11T20:43:19.699Z"
   },
   {
    "duration": 9,
    "start_time": "2022-08-11T20:43:19.705Z"
   },
   {
    "duration": 4,
    "start_time": "2022-08-11T20:43:19.716Z"
   },
   {
    "duration": 7,
    "start_time": "2022-08-11T20:43:19.722Z"
   },
   {
    "duration": 25,
    "start_time": "2022-08-11T20:43:19.730Z"
   },
   {
    "duration": 321,
    "start_time": "2022-08-11T20:43:19.756Z"
   },
   {
    "duration": 370,
    "start_time": "2022-08-11T20:43:20.079Z"
   },
   {
    "duration": 5,
    "start_time": "2022-08-11T20:43:20.450Z"
   },
   {
    "duration": 6,
    "start_time": "2022-08-11T20:43:20.457Z"
   },
   {
    "duration": 33,
    "start_time": "2022-08-11T20:43:20.466Z"
   },
   {
    "duration": 97,
    "start_time": "2022-08-11T20:43:20.501Z"
   },
   {
    "duration": 4,
    "start_time": "2022-08-11T20:43:20.601Z"
   },
   {
    "duration": 92,
    "start_time": "2022-08-11T20:43:20.607Z"
   },
   {
    "duration": 6,
    "start_time": "2022-08-11T20:43:20.701Z"
   },
   {
    "duration": 6,
    "start_time": "2022-08-11T20:43:20.708Z"
   },
   {
    "duration": 4,
    "start_time": "2022-08-11T20:43:31.779Z"
   },
   {
    "duration": 4,
    "start_time": "2022-08-11T20:47:32.196Z"
   },
   {
    "duration": 3,
    "start_time": "2022-08-11T20:47:32.572Z"
   },
   {
    "duration": 12,
    "start_time": "2022-08-11T20:48:02.692Z"
   },
   {
    "duration": 5,
    "start_time": "2022-08-11T20:48:05.938Z"
   },
   {
    "duration": 5,
    "start_time": "2022-08-11T20:48:52.850Z"
   },
   {
    "duration": 4,
    "start_time": "2022-08-11T20:48:59.434Z"
   },
   {
    "duration": 6,
    "start_time": "2022-08-11T20:49:55.378Z"
   },
   {
    "duration": 6,
    "start_time": "2022-08-11T20:54:33.395Z"
   },
   {
    "duration": 5,
    "start_time": "2022-08-11T20:54:51.672Z"
   },
   {
    "duration": 6,
    "start_time": "2022-08-11T20:55:02.560Z"
   },
   {
    "duration": 3,
    "start_time": "2022-08-11T20:57:02.560Z"
   },
   {
    "duration": 3,
    "start_time": "2022-08-11T20:57:02.784Z"
   },
   {
    "duration": 3,
    "start_time": "2022-08-11T20:57:03.310Z"
   },
   {
    "duration": 5,
    "start_time": "2022-08-11T20:57:04.190Z"
   },
   {
    "duration": 5,
    "start_time": "2022-08-11T20:58:19.464Z"
   },
   {
    "duration": 10,
    "start_time": "2022-08-11T20:58:39.809Z"
   },
   {
    "duration": 4,
    "start_time": "2022-08-11T20:59:13.246Z"
   },
   {
    "duration": 5,
    "start_time": "2022-08-11T20:59:21.038Z"
   },
   {
    "duration": 5,
    "start_time": "2022-08-11T20:59:28.662Z"
   },
   {
    "duration": 5,
    "start_time": "2022-08-11T21:07:10.076Z"
   },
   {
    "duration": 5,
    "start_time": "2022-08-11T21:07:12.834Z"
   },
   {
    "duration": 5,
    "start_time": "2022-08-11T21:07:18.930Z"
   },
   {
    "duration": 13,
    "start_time": "2022-08-11T21:07:44.866Z"
   },
   {
    "duration": 13,
    "start_time": "2022-08-11T21:07:50.900Z"
   },
   {
    "duration": 7,
    "start_time": "2022-08-11T21:07:56.746Z"
   },
   {
    "duration": 16,
    "start_time": "2022-08-11T21:08:04.963Z"
   },
   {
    "duration": 10,
    "start_time": "2022-08-11T21:09:07.810Z"
   },
   {
    "duration": 4,
    "start_time": "2022-08-11T21:09:16.754Z"
   },
   {
    "duration": 8,
    "start_time": "2022-08-11T21:10:00.420Z"
   },
   {
    "duration": 7,
    "start_time": "2022-08-11T21:10:13.586Z"
   },
   {
    "duration": 8,
    "start_time": "2022-08-11T21:10:18.722Z"
   },
   {
    "duration": 16,
    "start_time": "2022-08-11T21:10:44.546Z"
   },
   {
    "duration": 9,
    "start_time": "2022-08-11T21:10:50.413Z"
   },
   {
    "duration": 3,
    "start_time": "2022-08-11T21:21:02.493Z"
   },
   {
    "duration": 4,
    "start_time": "2022-08-11T21:22:13.627Z"
   },
   {
    "duration": 4,
    "start_time": "2022-08-11T21:22:19.390Z"
   },
   {
    "duration": 5,
    "start_time": "2022-08-11T21:22:27.115Z"
   },
   {
    "duration": 4,
    "start_time": "2022-08-11T21:22:38.886Z"
   },
   {
    "duration": 5,
    "start_time": "2022-08-11T21:23:15.325Z"
   },
   {
    "duration": 5,
    "start_time": "2022-08-11T21:23:26.131Z"
   },
   {
    "duration": 5,
    "start_time": "2022-08-11T21:23:29.227Z"
   },
   {
    "duration": 4,
    "start_time": "2022-08-11T21:24:52.415Z"
   },
   {
    "duration": 7,
    "start_time": "2022-08-11T21:26:45.905Z"
   },
   {
    "duration": 5,
    "start_time": "2022-08-11T21:26:50.827Z"
   },
   {
    "duration": 5,
    "start_time": "2022-08-11T21:26:53.362Z"
   },
   {
    "duration": 9,
    "start_time": "2022-08-11T21:29:02.050Z"
   },
   {
    "duration": 5,
    "start_time": "2022-08-11T21:29:06.065Z"
   },
   {
    "duration": 4,
    "start_time": "2022-08-11T21:29:10.967Z"
   },
   {
    "duration": 4,
    "start_time": "2022-08-11T21:29:13.617Z"
   },
   {
    "duration": 5,
    "start_time": "2022-08-11T21:29:24.666Z"
   },
   {
    "duration": 4,
    "start_time": "2022-08-11T21:30:23.978Z"
   },
   {
    "duration": 4,
    "start_time": "2022-08-11T21:30:30.592Z"
   },
   {
    "duration": 3,
    "start_time": "2022-08-11T21:30:40.793Z"
   },
   {
    "duration": 4,
    "start_time": "2022-08-11T21:30:47.058Z"
   },
   {
    "duration": 9,
    "start_time": "2022-08-11T21:31:06.634Z"
   },
   {
    "duration": 4,
    "start_time": "2022-08-11T21:31:12.361Z"
   },
   {
    "duration": 4,
    "start_time": "2022-08-11T21:31:44.344Z"
   },
   {
    "duration": 69,
    "start_time": "2022-08-11T21:31:59.048Z"
   },
   {
    "duration": 87,
    "start_time": "2022-08-11T21:32:16.824Z"
   },
   {
    "duration": 84,
    "start_time": "2022-08-11T21:32:22.244Z"
   },
   {
    "duration": 76,
    "start_time": "2022-08-11T21:32:27.440Z"
   },
   {
    "duration": 82,
    "start_time": "2022-08-11T21:32:31.280Z"
   },
   {
    "duration": 74,
    "start_time": "2022-08-11T21:32:37.081Z"
   },
   {
    "duration": 16,
    "start_time": "2022-08-11T21:32:43.297Z"
   },
   {
    "duration": 5,
    "start_time": "2022-08-11T21:32:59.184Z"
   },
   {
    "duration": 3,
    "start_time": "2022-08-11T21:33:20.032Z"
   },
   {
    "duration": 8,
    "start_time": "2022-08-11T21:33:24.611Z"
   },
   {
    "duration": 5,
    "start_time": "2022-08-11T21:33:42.362Z"
   },
   {
    "duration": 15,
    "start_time": "2022-08-11T21:33:50.595Z"
   },
   {
    "duration": 5,
    "start_time": "2022-08-11T21:33:56.392Z"
   },
   {
    "duration": 5,
    "start_time": "2022-08-11T21:34:41.424Z"
   },
   {
    "duration": 3,
    "start_time": "2022-08-11T21:36:11.271Z"
   },
   {
    "duration": 5,
    "start_time": "2022-08-11T21:36:54.175Z"
   },
   {
    "duration": 7,
    "start_time": "2022-08-11T21:37:02.927Z"
   },
   {
    "duration": 10,
    "start_time": "2022-08-11T21:37:22.614Z"
   },
   {
    "duration": 5,
    "start_time": "2022-08-11T21:37:30.214Z"
   },
   {
    "duration": 6,
    "start_time": "2022-08-11T21:38:05.559Z"
   },
   {
    "duration": 5,
    "start_time": "2022-08-11T21:38:10.043Z"
   },
   {
    "duration": 6,
    "start_time": "2022-08-11T21:38:21.775Z"
   },
   {
    "duration": 5,
    "start_time": "2022-08-11T21:41:44.845Z"
   },
   {
    "duration": 5,
    "start_time": "2022-08-11T21:41:48.614Z"
   },
   {
    "duration": 4,
    "start_time": "2022-08-11T21:47:27.227Z"
   },
   {
    "duration": 5,
    "start_time": "2022-08-11T22:06:06.810Z"
   },
   {
    "duration": 8,
    "start_time": "2022-08-11T22:06:10.843Z"
   },
   {
    "duration": 3,
    "start_time": "2022-08-11T22:12:54.855Z"
   },
   {
    "duration": 4,
    "start_time": "2022-08-11T22:13:00.407Z"
   },
   {
    "duration": 6,
    "start_time": "2022-08-11T22:13:17.005Z"
   },
   {
    "duration": 4,
    "start_time": "2022-08-11T22:13:25.147Z"
   },
   {
    "duration": 4,
    "start_time": "2022-08-11T22:13:25.231Z"
   },
   {
    "duration": 3,
    "start_time": "2022-08-11T22:13:27.143Z"
   },
   {
    "duration": 4,
    "start_time": "2022-08-11T22:13:27.510Z"
   },
   {
    "duration": 4,
    "start_time": "2022-08-11T22:13:30.111Z"
   },
   {
    "duration": 4,
    "start_time": "2022-08-11T22:13:30.411Z"
   },
   {
    "duration": 8,
    "start_time": "2022-08-11T22:13:55.399Z"
   },
   {
    "duration": 47,
    "start_time": "2022-08-11T22:14:12.624Z"
   },
   {
    "duration": 5,
    "start_time": "2022-08-11T22:14:23.184Z"
   },
   {
    "duration": 6,
    "start_time": "2022-08-11T22:16:54.558Z"
   },
   {
    "duration": 7,
    "start_time": "2022-08-11T22:22:53.140Z"
   },
   {
    "duration": 6,
    "start_time": "2022-08-11T22:23:00.828Z"
   },
   {
    "duration": 7,
    "start_time": "2022-08-11T22:23:13.235Z"
   },
   {
    "duration": 3,
    "start_time": "2022-08-11T22:23:13.843Z"
   },
   {
    "duration": 2,
    "start_time": "2022-08-11T22:23:41.836Z"
   },
   {
    "duration": 14,
    "start_time": "2022-08-11T22:25:19.235Z"
   },
   {
    "duration": 7,
    "start_time": "2022-08-11T22:25:35.866Z"
   },
   {
    "duration": 4,
    "start_time": "2022-08-11T22:27:38.345Z"
   },
   {
    "duration": 9,
    "start_time": "2022-08-11T22:28:22.737Z"
   },
   {
    "duration": 8,
    "start_time": "2022-08-11T22:28:23.925Z"
   },
   {
    "duration": 3,
    "start_time": "2022-08-11T22:28:46.746Z"
   },
   {
    "duration": 3,
    "start_time": "2022-08-11T22:28:46.929Z"
   },
   {
    "duration": 22,
    "start_time": "2022-08-11T22:28:47.091Z"
   },
   {
    "duration": 334,
    "start_time": "2022-08-11T22:28:47.311Z"
   },
   {
    "duration": 405,
    "start_time": "2022-08-11T22:28:47.647Z"
   },
   {
    "duration": 5,
    "start_time": "2022-08-11T22:28:53.754Z"
   },
   {
    "duration": 3,
    "start_time": "2022-08-11T22:28:53.785Z"
   },
   {
    "duration": 9,
    "start_time": "2022-08-11T22:28:53.849Z"
   },
   {
    "duration": 11,
    "start_time": "2022-08-11T22:28:53.911Z"
   },
   {
    "duration": 9,
    "start_time": "2022-08-11T22:28:54.099Z"
   },
   {
    "duration": 8,
    "start_time": "2022-08-11T22:28:54.110Z"
   },
   {
    "duration": 3,
    "start_time": "2022-08-11T22:28:54.149Z"
   },
   {
    "duration": 4,
    "start_time": "2022-08-11T22:28:54.214Z"
   },
   {
    "duration": 8,
    "start_time": "2022-08-11T22:28:54.399Z"
   },
   {
    "duration": 175,
    "start_time": "2022-08-11T22:28:54.424Z"
   },
   {
    "duration": 6,
    "start_time": "2022-08-11T22:29:04.611Z"
   },
   {
    "duration": 11,
    "start_time": "2022-08-11T22:35:25.285Z"
   },
   {
    "duration": 9,
    "start_time": "2022-08-11T22:35:56.989Z"
   },
   {
    "duration": 9,
    "start_time": "2022-08-11T22:37:59.763Z"
   },
   {
    "duration": 10,
    "start_time": "2022-08-11T22:38:10.242Z"
   },
   {
    "duration": 8,
    "start_time": "2022-08-11T22:38:14.186Z"
   },
   {
    "duration": 63,
    "start_time": "2022-08-11T22:40:20.649Z"
   },
   {
    "duration": 6339,
    "start_time": "2022-08-13T14:42:38.940Z"
   },
   {
    "duration": 1230,
    "start_time": "2022-08-13T14:42:51.681Z"
   },
   {
    "duration": 107,
    "start_time": "2022-08-13T14:42:53.145Z"
   },
   {
    "duration": 4,
    "start_time": "2022-08-13T14:42:53.850Z"
   },
   {
    "duration": 13,
    "start_time": "2022-08-13T14:42:54.207Z"
   },
   {
    "duration": 12,
    "start_time": "2022-08-13T14:42:54.541Z"
   },
   {
    "duration": 4,
    "start_time": "2022-08-13T14:42:55.039Z"
   },
   {
    "duration": 11,
    "start_time": "2022-08-13T14:42:55.698Z"
   },
   {
    "duration": 24,
    "start_time": "2022-08-13T14:42:56.241Z"
   },
   {
    "duration": 3151,
    "start_time": "2022-08-13T14:42:59.281Z"
   },
   {
    "duration": 3,
    "start_time": "2022-08-13T14:43:02.434Z"
   },
   {
    "duration": 4,
    "start_time": "2022-08-13T14:43:02.566Z"
   },
   {
    "duration": 11,
    "start_time": "2022-08-13T14:43:03.481Z"
   },
   {
    "duration": 10,
    "start_time": "2022-08-13T14:43:05.395Z"
   },
   {
    "duration": 168,
    "start_time": "2022-08-13T14:43:09.140Z"
   },
   {
    "duration": 15,
    "start_time": "2022-08-13T14:43:09.407Z"
   },
   {
    "duration": 14,
    "start_time": "2022-08-13T14:43:09.696Z"
   },
   {
    "duration": 19,
    "start_time": "2022-08-13T14:43:10.142Z"
   },
   {
    "duration": 5,
    "start_time": "2022-08-13T14:43:18.059Z"
   },
   {
    "duration": 6,
    "start_time": "2022-08-13T14:43:19.973Z"
   },
   {
    "duration": 102,
    "start_time": "2022-08-13T14:43:31.044Z"
   },
   {
    "duration": 5,
    "start_time": "2022-08-13T14:43:33.101Z"
   },
   {
    "duration": 3,
    "start_time": "2022-08-13T14:44:45.371Z"
   },
   {
    "duration": 3,
    "start_time": "2022-08-13T14:44:47.088Z"
   },
   {
    "duration": 18,
    "start_time": "2022-08-13T14:44:47.564Z"
   },
   {
    "duration": 42,
    "start_time": "2022-08-14T01:11:11.180Z"
   },
   {
    "duration": 6183,
    "start_time": "2022-08-14T01:11:16.232Z"
   },
   {
    "duration": 1301,
    "start_time": "2022-08-14T01:11:22.417Z"
   },
   {
    "duration": 66,
    "start_time": "2022-08-14T01:11:23.720Z"
   },
   {
    "duration": 3,
    "start_time": "2022-08-14T01:11:23.788Z"
   },
   {
    "duration": 15,
    "start_time": "2022-08-14T01:11:23.793Z"
   },
   {
    "duration": 10,
    "start_time": "2022-08-14T01:11:23.810Z"
   },
   {
    "duration": 5,
    "start_time": "2022-08-14T01:11:23.821Z"
   },
   {
    "duration": 16,
    "start_time": "2022-08-14T01:11:23.827Z"
   },
   {
    "duration": 29,
    "start_time": "2022-08-14T01:11:23.845Z"
   },
   {
    "duration": 3228,
    "start_time": "2022-08-14T01:11:23.877Z"
   },
   {
    "duration": 2,
    "start_time": "2022-08-14T01:11:27.107Z"
   },
   {
    "duration": 12,
    "start_time": "2022-08-14T01:11:27.111Z"
   },
   {
    "duration": 14,
    "start_time": "2022-08-14T01:11:27.124Z"
   },
   {
    "duration": 33,
    "start_time": "2022-08-14T01:11:27.139Z"
   },
   {
    "duration": 332,
    "start_time": "2022-08-14T01:11:27.174Z"
   },
   {
    "duration": 16,
    "start_time": "2022-08-14T01:11:27.507Z"
   },
   {
    "duration": 18,
    "start_time": "2022-08-14T01:11:27.524Z"
   },
   {
    "duration": 66,
    "start_time": "2022-08-14T01:11:27.544Z"
   },
   {
    "duration": 11,
    "start_time": "2022-08-14T01:11:27.612Z"
   },
   {
    "duration": 25,
    "start_time": "2022-08-14T01:11:27.624Z"
   },
   {
    "duration": 11,
    "start_time": "2022-08-14T01:11:27.651Z"
   },
   {
    "duration": 19,
    "start_time": "2022-08-14T01:11:27.664Z"
   },
   {
    "duration": 35,
    "start_time": "2022-08-14T01:11:27.685Z"
   },
   {
    "duration": 3,
    "start_time": "2022-08-14T01:37:27.106Z"
   },
   {
    "duration": 3,
    "start_time": "2022-08-14T01:37:28.223Z"
   },
   {
    "duration": 18,
    "start_time": "2022-08-14T01:37:28.438Z"
   },
   {
    "duration": 2185,
    "start_time": "2022-08-14T01:42:05.132Z"
   },
   {
    "duration": 3,
    "start_time": "2022-08-14T01:42:07.319Z"
   },
   {
    "duration": 42,
    "start_time": "2022-08-14T01:42:07.324Z"
   },
   {
    "duration": 4,
    "start_time": "2022-08-14T01:42:07.368Z"
   },
   {
    "duration": 13,
    "start_time": "2022-08-14T01:42:07.373Z"
   },
   {
    "duration": 13,
    "start_time": "2022-08-14T01:42:07.388Z"
   },
   {
    "duration": 3,
    "start_time": "2022-08-14T01:42:07.402Z"
   },
   {
    "duration": 13,
    "start_time": "2022-08-14T01:42:07.407Z"
   },
   {
    "duration": 20,
    "start_time": "2022-08-14T01:42:07.422Z"
   },
   {
    "duration": 3181,
    "start_time": "2022-08-14T01:42:07.444Z"
   },
   {
    "duration": 3,
    "start_time": "2022-08-14T01:42:10.627Z"
   },
   {
    "duration": 7,
    "start_time": "2022-08-14T01:42:10.631Z"
   },
   {
    "duration": 14,
    "start_time": "2022-08-14T01:42:10.640Z"
   },
   {
    "duration": 9,
    "start_time": "2022-08-14T01:42:10.656Z"
   },
   {
    "duration": 42,
    "start_time": "2022-08-14T01:42:10.666Z"
   },
   {
    "duration": 115,
    "start_time": "2022-08-14T01:42:10.710Z"
   },
   {
    "duration": 86,
    "start_time": "2022-08-14T01:42:10.827Z"
   },
   {
    "duration": 20,
    "start_time": "2022-08-14T01:42:10.915Z"
   },
   {
    "duration": 4,
    "start_time": "2022-08-14T01:42:10.937Z"
   },
   {
    "duration": 8,
    "start_time": "2022-08-14T01:42:10.943Z"
   },
   {
    "duration": 5,
    "start_time": "2022-08-14T01:42:10.952Z"
   },
   {
    "duration": 6,
    "start_time": "2022-08-14T01:42:10.959Z"
   },
   {
    "duration": 53,
    "start_time": "2022-08-14T01:42:10.967Z"
   },
   {
    "duration": 354,
    "start_time": "2022-08-14T01:42:11.022Z"
   },
   {
    "duration": 402,
    "start_time": "2022-08-14T01:42:11.378Z"
   },
   {
    "duration": 47,
    "start_time": "2022-08-14T01:43:35.661Z"
   },
   {
    "duration": 58,
    "start_time": "2022-08-14T01:52:08.282Z"
   },
   {
    "duration": 306,
    "start_time": "2022-08-14T02:20:45.421Z"
   },
   {
    "duration": 377,
    "start_time": "2022-08-14T02:20:45.729Z"
   },
   {
    "duration": 345,
    "start_time": "2022-08-14T02:47:42.225Z"
   },
   {
    "duration": 2215,
    "start_time": "2022-08-14T02:47:50.996Z"
   },
   {
    "duration": 3,
    "start_time": "2022-08-14T02:47:53.214Z"
   },
   {
    "duration": 37,
    "start_time": "2022-08-14T02:47:53.218Z"
   },
   {
    "duration": 4,
    "start_time": "2022-08-14T02:47:53.256Z"
   },
   {
    "duration": 12,
    "start_time": "2022-08-14T02:47:53.261Z"
   },
   {
    "duration": 13,
    "start_time": "2022-08-14T02:47:53.274Z"
   },
   {
    "duration": 4,
    "start_time": "2022-08-14T02:47:53.288Z"
   },
   {
    "duration": 13,
    "start_time": "2022-08-14T02:47:53.293Z"
   },
   {
    "duration": 21,
    "start_time": "2022-08-14T02:47:53.307Z"
   },
   {
    "duration": 3228,
    "start_time": "2022-08-14T02:47:53.330Z"
   },
   {
    "duration": 3,
    "start_time": "2022-08-14T02:47:56.559Z"
   },
   {
    "duration": 6,
    "start_time": "2022-08-14T02:47:56.564Z"
   },
   {
    "duration": 12,
    "start_time": "2022-08-14T02:47:56.571Z"
   },
   {
    "duration": 10,
    "start_time": "2022-08-14T02:47:56.600Z"
   },
   {
    "duration": 93,
    "start_time": "2022-08-14T02:47:56.611Z"
   },
   {
    "duration": 15,
    "start_time": "2022-08-14T02:47:56.799Z"
   },
   {
    "duration": 12,
    "start_time": "2022-08-14T02:47:56.816Z"
   },
   {
    "duration": 12,
    "start_time": "2022-08-14T02:47:56.830Z"
   },
   {
    "duration": 3,
    "start_time": "2022-08-14T02:47:56.844Z"
   },
   {
    "duration": 7,
    "start_time": "2022-08-14T02:47:56.849Z"
   },
   {
    "duration": 5,
    "start_time": "2022-08-14T02:47:56.858Z"
   },
   {
    "duration": 36,
    "start_time": "2022-08-14T02:47:56.865Z"
   },
   {
    "duration": 21,
    "start_time": "2022-08-14T02:47:56.902Z"
   },
   {
    "duration": 347,
    "start_time": "2022-08-14T02:47:56.926Z"
   },
   {
    "duration": 374,
    "start_time": "2022-08-14T02:47:57.274Z"
   },
   {
    "duration": 4,
    "start_time": "2022-08-14T02:47:57.650Z"
   },
   {
    "duration": 10,
    "start_time": "2022-08-14T02:47:57.655Z"
   },
   {
    "duration": 34,
    "start_time": "2022-08-14T02:47:57.667Z"
   },
   {
    "duration": 3,
    "start_time": "2022-08-14T02:48:19.179Z"
   },
   {
    "duration": 9,
    "start_time": "2022-08-14T02:48:19.948Z"
   },
   {
    "duration": 9,
    "start_time": "2022-08-14T02:48:20.558Z"
   },
   {
    "duration": 6,
    "start_time": "2022-08-14T02:48:22.346Z"
   },
   {
    "duration": 4,
    "start_time": "2022-08-14T02:48:22.626Z"
   },
   {
    "duration": 3,
    "start_time": "2022-08-14T02:48:23.186Z"
   },
   {
    "duration": 4,
    "start_time": "2022-08-14T02:48:23.667Z"
   },
   {
    "duration": 5,
    "start_time": "2022-08-14T02:48:27.698Z"
   },
   {
    "duration": 8,
    "start_time": "2022-08-14T02:48:29.027Z"
   },
   {
    "duration": 7,
    "start_time": "2022-08-14T02:48:35.713Z"
   },
   {
    "duration": 67,
    "start_time": "2022-08-14T02:48:35.741Z"
   },
   {
    "duration": 4,
    "start_time": "2022-08-14T02:56:06.489Z"
   },
   {
    "duration": 5,
    "start_time": "2022-08-14T02:56:07.659Z"
   },
   {
    "duration": 3,
    "start_time": "2022-08-14T03:01:54.658Z"
   },
   {
    "duration": 3,
    "start_time": "2022-08-14T03:01:55.461Z"
   },
   {
    "duration": 20,
    "start_time": "2022-08-14T03:01:55.967Z"
   },
   {
    "duration": 324,
    "start_time": "2022-08-14T03:03:22.321Z"
   },
   {
    "duration": 358,
    "start_time": "2022-08-14T03:03:23.944Z"
   }
  ],
  "kernelspec": {
   "display_name": "Python 3",
   "language": "python",
   "name": "python3"
  },
  "language_info": {
   "codemirror_mode": {
    "name": "ipython",
    "version": 3
   },
   "file_extension": ".py",
   "mimetype": "text/x-python",
   "name": "python",
   "nbconvert_exporter": "python",
   "pygments_lexer": "ipython3",
   "version": "3.8.8"
  },
  "toc": {
   "base_numbering": 1,
   "nav_menu": {},
   "number_sections": true,
   "sideBar": true,
   "skip_h1_title": true,
   "title_cell": "Table of Contents",
   "title_sidebar": "Contents",
   "toc_cell": false,
   "toc_position": {},
   "toc_section_display": true,
   "toc_window_display": false
  }
 },
 "nbformat": 4,
 "nbformat_minor": 4
}
