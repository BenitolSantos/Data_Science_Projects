{
 "cells": [
  {
   "cell_type": "markdown",
   "metadata": {
    "id": "E0vqbgi9ay0H"
   },
   "source": [
    "# Yandex.Music"
   ]
  },
  {
   "cell_type": "markdown",
   "metadata": {
    "id": "fhq_eyov_Zcs"
   },
   "source": [
    "# Contents <a id='back'></a>\n",
    "\n",
    "* [Introduction](#intro)\n",
    "* [Stage 1. Data overview](#data_review)\n",
    "    * [Conclusions](#data_review_conclusions)\n",
    "* [Stage 2. Data preprocessing](#data_preprocessing)\n",
    "    * [2.1 Header style](#header_style)\n",
    "    * [2.2 Missing values](#missing_values)\n",
    "    * [2.3 Duplicates](#duplicates)\n",
    "    * [2.4 Conclusions](#data_preprocessing_conclusions)\n",
    "* [Stage 3. Testing the hypotheses](#hypotheses)\n",
    "    * [3.1 Hypothesis 1: user activity in the two cities](#activity)\n",
    "    * [3.2 Hypothesis 2: music preferences on Monday and Friday](#week)\n",
    "    * [3.3 Hypothesis 3: genre preferences in Springfield and Shelbyville](#genre)\n",
    "* [Findings](#end)"
   ]
  },
  {
   "cell_type": "markdown",
   "metadata": {
    "id": "VUC88oWjTJw2"
   },
   "source": [
    "## Introduction <a id='intro'></a>\n",
    "Whenever we're doing research, we need to formulate hypotheses that we can then test. Sometimes we accept these hypotheses; other times, we reject them. To make the right decisions, a business must be able to understand whether or not it's making the right assumptions.\n",
    "\n",
    "In this project, you'll compare the music preferences of the cities of Springfield and Shelbyville. You'll study real Yandex.Music data to test the hypotheses below and compare user behavior for these two cities.\n",
    "\n",
    "### Goal: \n",
    "Test three hypotheses:\n",
    "1. User activity differs depending on the day of the week and from city to city. \n",
    "2. On Monday mornings, Springfield and Shelbyville residents listen to different genres. This is also true for Friday evenings. \n",
    "3. Springfield and Shelbyville listeners have different preferences. In Springfield, they prefer pop, while Shelbyville has more rap fans.\n",
    "\n",
    "### Stages \n",
    "Data on user behavior is stored in the file `/datasets/music_project_en.csv`. There is no information about the quality of the data, so you will need to explore it before testing the hypotheses. \n",
    "\n",
    "First, you'll evaluate the quality of the data and see whether its issues are significant. Then, during data preprocessing, you will try to account for the most critical problems.\n",
    " \n",
    "Your project will consist of three stages:\n",
    " 1. Data overview\n",
    " 2. Data preprocessing\n",
    " 3. Testing the hypotheses\n",
    " \n",
    "[Back to Contents](#back)"
   ]
  },
  {
   "cell_type": "markdown",
   "metadata": {
    "id": "Ml1hmfXC_Zcs"
   },
   "source": [
    "## Stage 1. Data overview <a id='data_review'></a>\n",
    "\n",
    "Open the data on Yandex.Music and explore it."
   ]
  },
  {
   "cell_type": "markdown",
   "metadata": {
    "id": "57eAOGIz_Zcs"
   },
   "source": [
    "You'll need `pandas`, so import it."
   ]
  },
  {
   "cell_type": "code",
   "execution_count": 29,
   "metadata": {
    "id": "AXN7PHPN_Zcs"
   },
   "outputs": [],
   "source": [
    "# importing pandas\n",
    "import pandas as pd\n",
    "import sklearn\n",
    "#sklearn makes taking notes easier with docstrings in functions instead of comments\n"
   ]
  },
  {
   "cell_type": "markdown",
   "metadata": {
    "id": "SG23P8tt_Zcs"
   },
   "source": [
    "Read the file `music_project_en.csv` from the `/datasets/` folder and save it in the `df` variable:"
   ]
  },
  {
   "cell_type": "code",
   "execution_count": 3,
   "metadata": {
    "id": "fFVu7vqh_Zct"
   },
   "outputs": [
    {
     "data": {
      "text/html": [
       "<div>\n",
       "<style scoped>\n",
       "    .dataframe tbody tr th:only-of-type {\n",
       "        vertical-align: middle;\n",
       "    }\n",
       "\n",
       "    .dataframe tbody tr th {\n",
       "        vertical-align: top;\n",
       "    }\n",
       "\n",
       "    .dataframe thead th {\n",
       "        text-align: right;\n",
       "    }\n",
       "</style>\n",
       "<table border=\"1\" class=\"dataframe\">\n",
       "  <thead>\n",
       "    <tr style=\"text-align: right;\">\n",
       "      <th></th>\n",
       "      <th>userID</th>\n",
       "      <th>Track</th>\n",
       "      <th>artist</th>\n",
       "      <th>genre</th>\n",
       "      <th>City</th>\n",
       "      <th>time</th>\n",
       "      <th>Day</th>\n",
       "    </tr>\n",
       "  </thead>\n",
       "  <tbody>\n",
       "    <tr>\n",
       "      <td>count</td>\n",
       "      <td>65079</td>\n",
       "      <td>63736</td>\n",
       "      <td>57512</td>\n",
       "      <td>63881</td>\n",
       "      <td>65079</td>\n",
       "      <td>65079</td>\n",
       "      <td>65079</td>\n",
       "    </tr>\n",
       "    <tr>\n",
       "      <td>unique</td>\n",
       "      <td>41748</td>\n",
       "      <td>39666</td>\n",
       "      <td>37806</td>\n",
       "      <td>268</td>\n",
       "      <td>2</td>\n",
       "      <td>20392</td>\n",
       "      <td>3</td>\n",
       "    </tr>\n",
       "    <tr>\n",
       "      <td>top</td>\n",
       "      <td>A8AE9169</td>\n",
       "      <td>Brand</td>\n",
       "      <td>Kartvelli</td>\n",
       "      <td>pop</td>\n",
       "      <td>Springfield</td>\n",
       "      <td>21:51:22</td>\n",
       "      <td>Friday</td>\n",
       "    </tr>\n",
       "    <tr>\n",
       "      <td>freq</td>\n",
       "      <td>76</td>\n",
       "      <td>136</td>\n",
       "      <td>136</td>\n",
       "      <td>8850</td>\n",
       "      <td>45360</td>\n",
       "      <td>14</td>\n",
       "      <td>23149</td>\n",
       "    </tr>\n",
       "  </tbody>\n",
       "</table>\n",
       "</div>"
      ],
      "text/plain": [
       "          userID  Track     artist  genre       City        time     Day\n",
       "count      65079  63736      57512  63881        65079     65079   65079\n",
       "unique     41748  39666      37806    268            2     20392       3\n",
       "top     A8AE9169  Brand  Kartvelli    pop  Springfield  21:51:22  Friday\n",
       "freq          76    136        136   8850        45360        14   23149"
      ]
     },
     "execution_count": 3,
     "metadata": {},
     "output_type": "execute_result"
    }
   ],
   "source": [
    "# reading the file and storing it to df\n",
    "df = pd.read_csv('/datasets/music_project_en.csv')\n",
    "df.describe()"
   ]
  },
  {
   "cell_type": "markdown",
   "metadata": {
    "id": "rDoOMd3uTqnZ"
   },
   "source": [
    "Print the first 10 table rows:"
   ]
  },
  {
   "cell_type": "code",
   "execution_count": 4,
   "metadata": {
    "id": "oWTVX3gW_Zct"
   },
   "outputs": [
    {
     "data": {
      "text/html": [
       "<div>\n",
       "<style scoped>\n",
       "    .dataframe tbody tr th:only-of-type {\n",
       "        vertical-align: middle;\n",
       "    }\n",
       "\n",
       "    .dataframe tbody tr th {\n",
       "        vertical-align: top;\n",
       "    }\n",
       "\n",
       "    .dataframe thead th {\n",
       "        text-align: right;\n",
       "    }\n",
       "</style>\n",
       "<table border=\"1\" class=\"dataframe\">\n",
       "  <thead>\n",
       "    <tr style=\"text-align: right;\">\n",
       "      <th></th>\n",
       "      <th>userID</th>\n",
       "      <th>Track</th>\n",
       "      <th>artist</th>\n",
       "      <th>genre</th>\n",
       "      <th>City</th>\n",
       "      <th>time</th>\n",
       "      <th>Day</th>\n",
       "    </tr>\n",
       "  </thead>\n",
       "  <tbody>\n",
       "    <tr>\n",
       "      <td>0</td>\n",
       "      <td>FFB692EC</td>\n",
       "      <td>Kamigata To Boots</td>\n",
       "      <td>The Mass Missile</td>\n",
       "      <td>rock</td>\n",
       "      <td>Shelbyville</td>\n",
       "      <td>20:28:33</td>\n",
       "      <td>Wednesday</td>\n",
       "    </tr>\n",
       "    <tr>\n",
       "      <td>1</td>\n",
       "      <td>55204538</td>\n",
       "      <td>Delayed Because of Accident</td>\n",
       "      <td>Andreas Rönnberg</td>\n",
       "      <td>rock</td>\n",
       "      <td>Springfield</td>\n",
       "      <td>14:07:09</td>\n",
       "      <td>Friday</td>\n",
       "    </tr>\n",
       "    <tr>\n",
       "      <td>2</td>\n",
       "      <td>20EC38</td>\n",
       "      <td>Funiculì funiculà</td>\n",
       "      <td>Mario Lanza</td>\n",
       "      <td>pop</td>\n",
       "      <td>Shelbyville</td>\n",
       "      <td>20:58:07</td>\n",
       "      <td>Wednesday</td>\n",
       "    </tr>\n",
       "    <tr>\n",
       "      <td>3</td>\n",
       "      <td>A3DD03C9</td>\n",
       "      <td>Dragons in the Sunset</td>\n",
       "      <td>Fire + Ice</td>\n",
       "      <td>folk</td>\n",
       "      <td>Shelbyville</td>\n",
       "      <td>08:37:09</td>\n",
       "      <td>Monday</td>\n",
       "    </tr>\n",
       "    <tr>\n",
       "      <td>4</td>\n",
       "      <td>E2DC1FAE</td>\n",
       "      <td>Soul People</td>\n",
       "      <td>Space Echo</td>\n",
       "      <td>dance</td>\n",
       "      <td>Springfield</td>\n",
       "      <td>08:34:34</td>\n",
       "      <td>Monday</td>\n",
       "    </tr>\n",
       "    <tr>\n",
       "      <td>5</td>\n",
       "      <td>842029A1</td>\n",
       "      <td>Chains</td>\n",
       "      <td>Obladaet</td>\n",
       "      <td>rusrap</td>\n",
       "      <td>Shelbyville</td>\n",
       "      <td>13:09:41</td>\n",
       "      <td>Friday</td>\n",
       "    </tr>\n",
       "    <tr>\n",
       "      <td>6</td>\n",
       "      <td>4CB90AA5</td>\n",
       "      <td>True</td>\n",
       "      <td>Roman Messer</td>\n",
       "      <td>dance</td>\n",
       "      <td>Springfield</td>\n",
       "      <td>13:00:07</td>\n",
       "      <td>Wednesday</td>\n",
       "    </tr>\n",
       "    <tr>\n",
       "      <td>7</td>\n",
       "      <td>F03E1C1F</td>\n",
       "      <td>Feeling This Way</td>\n",
       "      <td>Polina Griffith</td>\n",
       "      <td>dance</td>\n",
       "      <td>Springfield</td>\n",
       "      <td>20:47:49</td>\n",
       "      <td>Wednesday</td>\n",
       "    </tr>\n",
       "    <tr>\n",
       "      <td>8</td>\n",
       "      <td>8FA1D3BE</td>\n",
       "      <td>L’estate</td>\n",
       "      <td>Julia Dalia</td>\n",
       "      <td>ruspop</td>\n",
       "      <td>Springfield</td>\n",
       "      <td>09:17:40</td>\n",
       "      <td>Friday</td>\n",
       "    </tr>\n",
       "    <tr>\n",
       "      <td>9</td>\n",
       "      <td>E772D5C0</td>\n",
       "      <td>Pessimist</td>\n",
       "      <td>NaN</td>\n",
       "      <td>dance</td>\n",
       "      <td>Shelbyville</td>\n",
       "      <td>21:20:49</td>\n",
       "      <td>Wednesday</td>\n",
       "    </tr>\n",
       "  </tbody>\n",
       "</table>\n",
       "</div>"
      ],
      "text/plain": [
       "     userID                        Track            artist   genre  \\\n",
       "0  FFB692EC            Kamigata To Boots  The Mass Missile    rock   \n",
       "1  55204538  Delayed Because of Accident  Andreas Rönnberg    rock   \n",
       "2    20EC38            Funiculì funiculà       Mario Lanza     pop   \n",
       "3  A3DD03C9        Dragons in the Sunset        Fire + Ice    folk   \n",
       "4  E2DC1FAE                  Soul People        Space Echo   dance   \n",
       "5  842029A1                       Chains          Obladaet  rusrap   \n",
       "6  4CB90AA5                         True      Roman Messer   dance   \n",
       "7  F03E1C1F             Feeling This Way   Polina Griffith   dance   \n",
       "8  8FA1D3BE                     L’estate       Julia Dalia  ruspop   \n",
       "9  E772D5C0                    Pessimist               NaN   dance   \n",
       "\n",
       "        City        time        Day  \n",
       "0  Shelbyville  20:28:33  Wednesday  \n",
       "1  Springfield  14:07:09     Friday  \n",
       "2  Shelbyville  20:58:07  Wednesday  \n",
       "3  Shelbyville  08:37:09     Monday  \n",
       "4  Springfield  08:34:34     Monday  \n",
       "5  Shelbyville  13:09:41     Friday  \n",
       "6  Springfield  13:00:07  Wednesday  \n",
       "7  Springfield  20:47:49  Wednesday  \n",
       "8  Springfield  09:17:40     Friday  \n",
       "9  Shelbyville  21:20:49  Wednesday  "
      ]
     },
     "execution_count": 4,
     "metadata": {},
     "output_type": "execute_result"
    }
   ],
   "source": [
    "# obtaining the first 10 rows from the df table\n",
    "#print(df.head(10))\n",
    "df.head(10)"
   ]
  },
  {
   "cell_type": "markdown",
   "metadata": {
    "id": "EO73Kwic_Zct"
   },
   "source": [
    "Obtaining the general information about the table with one command:"
   ]
  },
  {
   "cell_type": "code",
   "execution_count": 5,
   "metadata": {
    "id": "DSf2kIb-_Zct"
   },
   "outputs": [
    {
     "data": {
      "text/html": [
       "<div>\n",
       "<style scoped>\n",
       "    .dataframe tbody tr th:only-of-type {\n",
       "        vertical-align: middle;\n",
       "    }\n",
       "\n",
       "    .dataframe tbody tr th {\n",
       "        vertical-align: top;\n",
       "    }\n",
       "\n",
       "    .dataframe thead th {\n",
       "        text-align: right;\n",
       "    }\n",
       "</style>\n",
       "<table border=\"1\" class=\"dataframe\">\n",
       "  <thead>\n",
       "    <tr style=\"text-align: right;\">\n",
       "      <th></th>\n",
       "      <th>userID</th>\n",
       "      <th>Track</th>\n",
       "      <th>artist</th>\n",
       "      <th>genre</th>\n",
       "      <th>City</th>\n",
       "      <th>time</th>\n",
       "      <th>Day</th>\n",
       "    </tr>\n",
       "  </thead>\n",
       "  <tbody>\n",
       "    <tr>\n",
       "      <td>0</td>\n",
       "      <td>FFB692EC</td>\n",
       "      <td>Kamigata To Boots</td>\n",
       "      <td>The Mass Missile</td>\n",
       "      <td>rock</td>\n",
       "      <td>Shelbyville</td>\n",
       "      <td>20:28:33</td>\n",
       "      <td>Wednesday</td>\n",
       "    </tr>\n",
       "    <tr>\n",
       "      <td>1</td>\n",
       "      <td>55204538</td>\n",
       "      <td>Delayed Because of Accident</td>\n",
       "      <td>Andreas Rönnberg</td>\n",
       "      <td>rock</td>\n",
       "      <td>Springfield</td>\n",
       "      <td>14:07:09</td>\n",
       "      <td>Friday</td>\n",
       "    </tr>\n",
       "    <tr>\n",
       "      <td>2</td>\n",
       "      <td>20EC38</td>\n",
       "      <td>Funiculì funiculà</td>\n",
       "      <td>Mario Lanza</td>\n",
       "      <td>pop</td>\n",
       "      <td>Shelbyville</td>\n",
       "      <td>20:58:07</td>\n",
       "      <td>Wednesday</td>\n",
       "    </tr>\n",
       "    <tr>\n",
       "      <td>3</td>\n",
       "      <td>A3DD03C9</td>\n",
       "      <td>Dragons in the Sunset</td>\n",
       "      <td>Fire + Ice</td>\n",
       "      <td>folk</td>\n",
       "      <td>Shelbyville</td>\n",
       "      <td>08:37:09</td>\n",
       "      <td>Monday</td>\n",
       "    </tr>\n",
       "    <tr>\n",
       "      <td>4</td>\n",
       "      <td>E2DC1FAE</td>\n",
       "      <td>Soul People</td>\n",
       "      <td>Space Echo</td>\n",
       "      <td>dance</td>\n",
       "      <td>Springfield</td>\n",
       "      <td>08:34:34</td>\n",
       "      <td>Monday</td>\n",
       "    </tr>\n",
       "    <tr>\n",
       "      <td>...</td>\n",
       "      <td>...</td>\n",
       "      <td>...</td>\n",
       "      <td>...</td>\n",
       "      <td>...</td>\n",
       "      <td>...</td>\n",
       "      <td>...</td>\n",
       "      <td>...</td>\n",
       "    </tr>\n",
       "    <tr>\n",
       "      <td>65074</td>\n",
       "      <td>729CBB09</td>\n",
       "      <td>My Name</td>\n",
       "      <td>McLean</td>\n",
       "      <td>rnb</td>\n",
       "      <td>Springfield</td>\n",
       "      <td>13:32:28</td>\n",
       "      <td>Wednesday</td>\n",
       "    </tr>\n",
       "    <tr>\n",
       "      <td>65075</td>\n",
       "      <td>D08D4A55</td>\n",
       "      <td>Maybe One Day (feat. Black Spade)</td>\n",
       "      <td>Blu &amp; Exile</td>\n",
       "      <td>hip</td>\n",
       "      <td>Shelbyville</td>\n",
       "      <td>10:00:00</td>\n",
       "      <td>Monday</td>\n",
       "    </tr>\n",
       "    <tr>\n",
       "      <td>65076</td>\n",
       "      <td>C5E3A0D5</td>\n",
       "      <td>Jalopiina</td>\n",
       "      <td>NaN</td>\n",
       "      <td>industrial</td>\n",
       "      <td>Springfield</td>\n",
       "      <td>20:09:26</td>\n",
       "      <td>Friday</td>\n",
       "    </tr>\n",
       "    <tr>\n",
       "      <td>65077</td>\n",
       "      <td>321D0506</td>\n",
       "      <td>Freight Train</td>\n",
       "      <td>Chas McDevitt</td>\n",
       "      <td>rock</td>\n",
       "      <td>Springfield</td>\n",
       "      <td>21:43:59</td>\n",
       "      <td>Friday</td>\n",
       "    </tr>\n",
       "    <tr>\n",
       "      <td>65078</td>\n",
       "      <td>3A64EF84</td>\n",
       "      <td>Tell Me Sweet Little Lies</td>\n",
       "      <td>Monica Lopez</td>\n",
       "      <td>country</td>\n",
       "      <td>Springfield</td>\n",
       "      <td>21:59:46</td>\n",
       "      <td>Friday</td>\n",
       "    </tr>\n",
       "  </tbody>\n",
       "</table>\n",
       "<p>65079 rows × 7 columns</p>\n",
       "</div>"
      ],
      "text/plain": [
       "         userID                              Track            artist  \\\n",
       "0      FFB692EC                  Kamigata To Boots  The Mass Missile   \n",
       "1      55204538        Delayed Because of Accident  Andreas Rönnberg   \n",
       "2        20EC38                  Funiculì funiculà       Mario Lanza   \n",
       "3      A3DD03C9              Dragons in the Sunset        Fire + Ice   \n",
       "4      E2DC1FAE                        Soul People        Space Echo   \n",
       "...         ...                                ...               ...   \n",
       "65074  729CBB09                            My Name            McLean   \n",
       "65075  D08D4A55  Maybe One Day (feat. Black Spade)       Blu & Exile   \n",
       "65076  C5E3A0D5                          Jalopiina               NaN   \n",
       "65077  321D0506                      Freight Train     Chas McDevitt   \n",
       "65078  3A64EF84          Tell Me Sweet Little Lies      Monica Lopez   \n",
       "\n",
       "            genre       City        time        Day  \n",
       "0            rock  Shelbyville  20:28:33  Wednesday  \n",
       "1            rock  Springfield  14:07:09     Friday  \n",
       "2             pop  Shelbyville  20:58:07  Wednesday  \n",
       "3            folk  Shelbyville  08:37:09     Monday  \n",
       "4           dance  Springfield  08:34:34     Monday  \n",
       "...           ...          ...       ...        ...  \n",
       "65074         rnb  Springfield  13:32:28  Wednesday  \n",
       "65075         hip  Shelbyville  10:00:00     Monday  \n",
       "65076  industrial  Springfield  20:09:26     Friday  \n",
       "65077        rock  Springfield  21:43:59     Friday  \n",
       "65078     country  Springfield  21:59:46     Friday  \n",
       "\n",
       "[65079 rows x 7 columns]"
      ]
     },
     "execution_count": 5,
     "metadata": {},
     "output_type": "execute_result"
    }
   ],
   "source": [
    "# obtaining general information about the data in df\n",
    "df"
   ]
  },
  {
   "cell_type": "markdown",
   "metadata": {
    "id": "TaQ2Iwbr_Zct"
   },
   "source": [
    "The table contains seven columns. They all store the same data type: `object`.\n",
    "\n",
    "According to the documentation:\n",
    "- `'userID'` — user identifier\n",
    "- `'Track'` — track title\n",
    "- `'artist'` — artist's name\n",
    "- `'genre'`\n",
    "- `'City'` — user's city\n",
    "- `'time'` — the exact time the track was played\n",
    "- `'Day'` — day of the week\n",
    "\n",
    "We can see three issues with style in the column names:\n",
    "1. Some names are uppercase, some are lowercase.\n",
    "2. There are spaces in some names.\n",
    "3. 'userID' isn't snake_case.\n",
    "\n",
    "The number of column values is different. This means the data contains missing values.\n"
   ]
  },
  {
   "cell_type": "markdown",
   "metadata": {
    "id": "MCB6-dXG_Zct"
   },
   "source": [
    "### Conclusions <a id='data_review_conclusions'></a> \n",
    "\n",
    "Each row in the table stores data on a track that was played. Some columns describe the track itself: its title, artist and genre. The rest convey information about the user: the city they come from, the time they played the track. \n",
    "\n",
    "It's clear that the data is sufficient to test the hypotheses. However, there are missing values.\n",
    "\n",
    "To move forward, we need to preprocess the data."
   ]
  },
  {
   "cell_type": "markdown",
   "metadata": {
    "id": "3eL__vcwViOi"
   },
   "source": [
    "[Back to Contents](#back)"
   ]
  },
  {
   "cell_type": "markdown",
   "metadata": {
    "id": "SjYF6Ub9_Zct"
   },
   "source": [
    "## Stage 2. Data preprocessing <a id='data_preprocessing'></a>\n",
    "Correct the formatting in the column headers and deal with the missing values. Then, check whether there are duplicates in the data."
   ]
  },
  {
   "cell_type": "markdown",
   "metadata": {
    "id": "dIaKXr29_Zct"
   },
   "source": [
    "### Header style <a id='header_style'></a>\n",
    "Print the column header:"
   ]
  },
  {
   "cell_type": "code",
   "execution_count": 6,
   "metadata": {
    "id": "oKOTdF_Q_Zct"
   },
   "outputs": [
    {
     "data": {
      "text/plain": [
       "Index(['  userID', 'Track', 'artist', 'genre', '  City  ', 'time', 'Day'], dtype='object')"
      ]
     },
     "execution_count": 6,
     "metadata": {},
     "output_type": "execute_result"
    }
   ],
   "source": [
    "# the list of column names in the df table\n",
    "df.columns"
   ]
  },
  {
   "cell_type": "markdown",
   "metadata": {
    "id": "zj5534cv_Zct"
   },
   "source": [
    "Change column names according to the rules of good style:\n",
    "* If the name has several words, use snake_case\n",
    "* All characters must be lowercase\n",
    "* Delete spaces"
   ]
  },
  {
   "cell_type": "code",
   "execution_count": 8,
   "metadata": {
    "id": "ISlFqs5y_Zct"
   },
   "outputs": [],
   "source": [
    "# renaming columns\n",
    "df = df.rename(\n",
    "    columns={\n",
    "        '  userID':'user_id',\n",
    "        'Track':'track',\n",
    "        '  City  ':'city',\n",
    "        'Day':'day'\n",
    "    }\n",
    ")"
   ]
  },
  {
   "cell_type": "markdown",
   "metadata": {
    "id": "1dqbh00J_Zct"
   },
   "source": [
    "Check the result. Print the names of the columns once more:"
   ]
  },
  {
   "cell_type": "code",
   "execution_count": 9,
   "metadata": {
    "id": "d4NOAmTW_Zct"
   },
   "outputs": [
    {
     "data": {
      "text/plain": [
       "Index(['user_id', 'track', 'artist', 'genre', 'city', 'time', 'day'], dtype='object')"
      ]
     },
     "execution_count": 9,
     "metadata": {},
     "output_type": "execute_result"
    }
   ],
   "source": [
    "# checking result: the list of column names\n",
    "df.columns"
   ]
  },
  {
   "cell_type": "markdown",
   "metadata": {
    "id": "xYJk6ksJVpOl"
   },
   "source": [
    "[Back to Contents](#back)"
   ]
  },
  {
   "cell_type": "markdown",
   "metadata": {
    "id": "5ISfbcfY_Zct"
   },
   "source": [
    "### Missing values <a id='missing_values'></a>\n",
    "First, find the number of missing values in the table. To do so, use two `pandas` methods:"
   ]
  },
  {
   "cell_type": "code",
   "execution_count": 10,
   "metadata": {
    "id": "RskX29qr_Zct"
   },
   "outputs": [
    {
     "data": {
      "text/plain": [
       "user_id       0\n",
       "track      1343\n",
       "artist     7567\n",
       "genre      1198\n",
       "city          0\n",
       "time          0\n",
       "day           0\n",
       "dtype: int64"
      ]
     },
     "execution_count": 10,
     "metadata": {},
     "output_type": "execute_result"
    }
   ],
   "source": [
    "# calculating missing values\n",
    "df.isna().sum()"
   ]
  },
  {
   "cell_type": "markdown",
   "metadata": {
    "id": "qubhgnlO_Zct"
   },
   "source": [
    "Not all missing values affect the research. For instance, the missing values in `track` and `artist` are not critical. You can simply replace them with clear markers.\n",
    "\n",
    "But missing values in `'genre'` can affect the comparison of music preferences in Springfield and Shelbyville. In real life, it would be useful to learn the reasons why the data is missing and try to make up for them. But we do not have that opportunity in this project. So you will have to:\n",
    "* Fill in these missing values with markers\n",
    "* Evaluate how much the missing values may affect your computations"
   ]
  },
  {
   "cell_type": "markdown",
   "metadata": {
    "id": "fSv2laPA_Zct"
   },
   "source": [
    "Replace the missing values in `'track'`, `'artist'`, and `'genre'` with the string `'unknown'`. To do this, create the `columns_to_replace` list, loop over it with `for`, and replace the missing values in each of the columns:"
   ]
  },
  {
   "cell_type": "code",
   "execution_count": 11,
   "metadata": {
    "id": "KplB5qWs_Zct"
   },
   "outputs": [],
   "source": [
    "# looping over column names and replacing missing values with 'unknown'\n",
    "columns_to_replace = ['track','artist','genre']\n",
    "for column in columns_to_replace:\n",
    "    df[column] = df[column].fillna('unknown')"
   ]
  },
  {
   "cell_type": "markdown",
   "metadata": {
    "id": "Ilsm-MZo_Zct"
   },
   "source": [
    "Make sure the table contains no more missing values. Count the missing values again."
   ]
  },
  {
   "cell_type": "code",
   "execution_count": 12,
   "metadata": {
    "id": "Tq4nYRX4_Zct"
   },
   "outputs": [
    {
     "data": {
      "text/plain": [
       "user_id    0\n",
       "track      0\n",
       "artist     0\n",
       "genre      0\n",
       "city       0\n",
       "time       0\n",
       "day        0\n",
       "dtype: int64"
      ]
     },
     "execution_count": 12,
     "metadata": {},
     "output_type": "execute_result"
    }
   ],
   "source": [
    "# counting missing values\n",
    "df.isna().sum()"
   ]
  },
  {
   "cell_type": "markdown",
   "metadata": {
    "id": "74ZIBmq9VrsK"
   },
   "source": [
    "[Back to Contents](#back)"
   ]
  },
  {
   "cell_type": "markdown",
   "metadata": {
    "id": "BWKRtBJ3_Zct"
   },
   "source": [
    "### Duplicates <a id='duplicates'></a>\n",
    "Find the number of obvious duplicates in the table using one command:"
   ]
  },
  {
   "cell_type": "code",
   "execution_count": 13,
   "metadata": {
    "id": "36eES_S0_Zct"
   },
   "outputs": [
    {
     "data": {
      "text/plain": [
       "3826"
      ]
     },
     "execution_count": 13,
     "metadata": {},
     "output_type": "execute_result"
    }
   ],
   "source": [
    "# counting clear duplicates\n",
    "df.duplicated().sum()"
   ]
  },
  {
   "cell_type": "markdown",
   "metadata": {
    "id": "Ot25h6XR_Zct"
   },
   "source": [
    "Call the `pandas` method for getting rid of obvious duplicates:"
   ]
  },
  {
   "cell_type": "code",
   "execution_count": 14,
   "metadata": {
    "id": "exFHq6tt_Zct"
   },
   "outputs": [],
   "source": [
    "# removing obvious duplicates\n",
    "df = df.drop_duplicates()"
   ]
  },
  {
   "cell_type": "markdown",
   "metadata": {
    "id": "Im2YwBEG_Zct"
   },
   "source": [
    "Count obvious duplicates once more to make sure you have removed all of them:"
   ]
  },
  {
   "cell_type": "code",
   "execution_count": 15,
   "metadata": {
    "id": "-8PuNWQ0_Zct"
   },
   "outputs": [
    {
     "data": {
      "text/plain": [
       "0"
      ]
     },
     "execution_count": 15,
     "metadata": {},
     "output_type": "execute_result"
    }
   ],
   "source": [
    "# checking for duplicates\n",
    "df.duplicated().sum()"
   ]
  },
  {
   "cell_type": "markdown",
   "metadata": {
    "id": "QlFBsxAr_Zct"
   },
   "source": [
    "Now get rid of implicit duplicates in the `genre` column. For example, the name of a genre can be written in different ways. Such errors will also affect the result."
   ]
  },
  {
   "cell_type": "markdown",
   "metadata": {
    "id": "eSjWwsOh_Zct"
   },
   "source": [
    "Print a list of unique genre names, sorted in alphabetical order. To do so:\n",
    "* Retrieve the intended DataFrame column \n",
    "* Apply a sorting method to it\n",
    "* For the sorted column, call the method that will return all unique column values"
   ]
  },
  {
   "cell_type": "code",
   "execution_count": 16,
   "metadata": {
    "id": "JIUcqzZN_Zct"
   },
   "outputs": [
    {
     "data": {
      "text/plain": [
       "array(['rock', 'pop', 'folk', 'dance', 'rusrap', 'ruspop', 'world',\n",
       "       'electronic', 'unknown', 'alternative', 'children', 'rnb', 'hip',\n",
       "       'jazz', 'postrock', 'latin', 'classical', 'metal', 'reggae',\n",
       "       'triphop', 'blues', 'instrumental', 'rusrock', 'dnb', 'türk',\n",
       "       'post', 'country', 'psychedelic', 'conjazz', 'indie',\n",
       "       'posthardcore', 'local', 'avantgarde', 'punk', 'videogame',\n",
       "       'techno', 'house', 'christmas', 'melodic', 'caucasian',\n",
       "       'reggaeton', 'soundtrack', 'singer', 'ska', 'salsa', 'ambient',\n",
       "       'film', 'western', 'rap', 'beats', \"hard'n'heavy\", 'progmetal',\n",
       "       'minimal', 'tropical', 'contemporary', 'new', 'soul', 'holiday',\n",
       "       'german', 'jpop', 'spiritual', 'urban', 'gospel', 'nujazz',\n",
       "       'folkmetal', 'trance', 'miscellaneous', 'anime', 'hardcore',\n",
       "       'progressive', 'korean', 'numetal', 'vocal', 'estrada', 'tango',\n",
       "       'loungeelectronic', 'classicmetal', 'dubstep', 'club', 'deep',\n",
       "       'southern', 'black', 'folkrock', 'fitness', 'french', 'disco',\n",
       "       'religious', 'hiphop', 'drum', 'extrememetal', 'türkçe',\n",
       "       'experimental', 'easy', 'metalcore', 'modern', 'argentinetango',\n",
       "       'old', 'swing', 'breaks', 'eurofolk', 'stonerrock', 'industrial',\n",
       "       'funk', 'middle', 'variété', 'other', 'adult', 'christian',\n",
       "       'thrash', 'gothic', 'international', 'muslim', 'relax', 'schlager',\n",
       "       'caribbean', 'nu', 'breakbeat', 'comedy', 'chill', 'newage',\n",
       "       'specialty', 'uzbek', 'k-pop', 'balkan', 'chinese', 'meditative',\n",
       "       'dub', 'power', 'death', 'grime', 'arabesk', 'romance', 'flamenco',\n",
       "       'leftfield', 'european', 'tech', 'newwave', 'dancehall', 'mpb',\n",
       "       'piano', 'top', 'bigroom', 'opera', 'celtic', 'tradjazz',\n",
       "       'acoustic', 'epicmetal', 'hip-hop', 'historisch', 'downbeat',\n",
       "       'downtempo', 'africa', 'audiobook', 'jewish', 'sängerportrait',\n",
       "       'deutschrock', 'eastern', 'action', 'future', 'electropop',\n",
       "       'folklore', 'bollywood', 'marschmusik', 'rnr', 'karaoke', 'indian',\n",
       "       'rancheras', 'afrikaans', 'rhythm', 'sound', 'deutschspr', 'trip',\n",
       "       'lovers', 'choral', 'dancepop', 'retro', 'smooth', 'mexican',\n",
       "       'brazilian', 'ïîï', 'mood', 'surf', 'gangsta', 'inspirational',\n",
       "       'idm', 'ethnic', 'bluegrass', 'broadway', 'animated', 'americana',\n",
       "       'karadeniz', 'rockabilly', 'colombian', 'self', 'hop', 'sertanejo',\n",
       "       'japanese', 'canzone', 'lounge', 'sport', 'ragga', 'traditional',\n",
       "       'gitarre', 'frankreich', 'emo', 'laiko', 'cantopop', 'glitch',\n",
       "       'documentary', 'oceania', 'popeurodance', 'dark', 'vi', 'grunge',\n",
       "       'hardstyle', 'samba', 'garage', 'art', 'folktronica', 'entehno',\n",
       "       'mediterranean', 'chamber', 'cuban', 'taraftar', 'gypsy',\n",
       "       'hardtechno', 'shoegazing', 'bossa', 'latino', 'worldbeat',\n",
       "       'malaysian', 'baile', 'ghazal', 'arabic', 'popelectronic', 'acid',\n",
       "       'kayokyoku', 'neoklassik', 'tribal', 'tanzorchester', 'native',\n",
       "       'independent', 'cantautori', 'handsup', 'punjabi', 'synthpop',\n",
       "       'rave', 'französisch', 'quebecois', 'speech', 'soulful', 'jam',\n",
       "       'ram', 'horror', 'orchestral', 'neue', 'roots', 'slow', 'jungle',\n",
       "       'indipop', 'axé', 'fado', 'showtunes', 'arena', 'irish',\n",
       "       'mandopop', 'forró', 'dirty', 'regional'], dtype=object)"
      ]
     },
     "execution_count": 16,
     "metadata": {},
     "output_type": "execute_result"
    }
   ],
   "source": [
    "# viewing unique genre names\n",
    "\n",
    "df['genre'].unique()"
   ]
  },
  {
   "cell_type": "markdown",
   "metadata": {
    "id": "qej-Qmuo_Zct"
   },
   "source": [
    "Look through the list to find implicit duplicates of the genre `hiphop`. These could be names written incorrectly or alternative names of the same genre.\n",
    "\n",
    "You will see the following implicit duplicates:\n",
    "* `hip`\n",
    "* `hop`\n",
    "* `hip-hop`\n",
    "\n",
    "To get rid of them, declare the function `replace_wrong_genres()` with two parameters: \n",
    "* `wrong_genres=` — the list of duplicates\n",
    "* `correct_genre=` — the string with the correct value\n",
    "\n",
    "The function should correct the names in the `'genre'` column from the `df` table, i.e. replace each value from the `wrong_genres` list with the value in `correct_genre`."
   ]
  },
  {
   "cell_type": "code",
   "execution_count": 17,
   "metadata": {
    "id": "ErNDkmns_Zct"
   },
   "outputs": [],
   "source": [
    "# function for replacing implicit duplicates\n",
    "#https://practicum.yandex.com/trainer/data-scientist/lesson/f259321c-aec9-4254-8af6-3045589db2eb/\n",
    "#at the bottom\n",
    "def replace_wrong_genres(wrong_genres,correct_genre):\n",
    "    for wrong_genre in wrong_genres:\n",
    "        df['genre'] = df['genre'].replace(wrong_genre,correct_genre)"
   ]
  },
  {
   "cell_type": "markdown",
   "metadata": {
    "id": "aDoBJxbA_Zct"
   },
   "source": [
    "Call `replace_wrong_genres()` and pass it arguments so that it clears implicit duplcates (`hip`, `hop`, and `hip-hop`) and replaces them with `hiphop`:"
   ]
  },
  {
   "cell_type": "code",
   "execution_count": 18,
   "metadata": {
    "id": "YN5i2hpmSo09"
   },
   "outputs": [],
   "source": [
    "# removing implicit duplicates\n",
    "replace_wrong_genres(['hip','hop','hip-hop'],'hiphop') #it's a function, not a method, it can be called by itself"
   ]
  },
  {
   "cell_type": "markdown",
   "metadata": {
    "id": "zQKF16_RG15m"
   },
   "source": [
    "Make sure the duplicate names were removed. Print the list of unique values from the `'genre'` column:"
   ]
  },
  {
   "cell_type": "code",
   "execution_count": 19,
   "metadata": {
    "id": "wvixALnFG15m"
   },
   "outputs": [
    {
     "data": {
      "text/plain": [
       "array(['rock', 'pop', 'folk', 'dance', 'rusrap', 'ruspop', 'world',\n",
       "       'electronic', 'unknown', 'alternative', 'children', 'rnb',\n",
       "       'hiphop', 'jazz', 'postrock', 'latin', 'classical', 'metal',\n",
       "       'reggae', 'triphop', 'blues', 'instrumental', 'rusrock', 'dnb',\n",
       "       'türk', 'post', 'country', 'psychedelic', 'conjazz', 'indie',\n",
       "       'posthardcore', 'local', 'avantgarde', 'punk', 'videogame',\n",
       "       'techno', 'house', 'christmas', 'melodic', 'caucasian',\n",
       "       'reggaeton', 'soundtrack', 'singer', 'ska', 'salsa', 'ambient',\n",
       "       'film', 'western', 'rap', 'beats', \"hard'n'heavy\", 'progmetal',\n",
       "       'minimal', 'tropical', 'contemporary', 'new', 'soul', 'holiday',\n",
       "       'german', 'jpop', 'spiritual', 'urban', 'gospel', 'nujazz',\n",
       "       'folkmetal', 'trance', 'miscellaneous', 'anime', 'hardcore',\n",
       "       'progressive', 'korean', 'numetal', 'vocal', 'estrada', 'tango',\n",
       "       'loungeelectronic', 'classicmetal', 'dubstep', 'club', 'deep',\n",
       "       'southern', 'black', 'folkrock', 'fitness', 'french', 'disco',\n",
       "       'religious', 'drum', 'extrememetal', 'türkçe', 'experimental',\n",
       "       'easy', 'metalcore', 'modern', 'argentinetango', 'old', 'swing',\n",
       "       'breaks', 'eurofolk', 'stonerrock', 'industrial', 'funk', 'middle',\n",
       "       'variété', 'other', 'adult', 'christian', 'thrash', 'gothic',\n",
       "       'international', 'muslim', 'relax', 'schlager', 'caribbean', 'nu',\n",
       "       'breakbeat', 'comedy', 'chill', 'newage', 'specialty', 'uzbek',\n",
       "       'k-pop', 'balkan', 'chinese', 'meditative', 'dub', 'power',\n",
       "       'death', 'grime', 'arabesk', 'romance', 'flamenco', 'leftfield',\n",
       "       'european', 'tech', 'newwave', 'dancehall', 'mpb', 'piano', 'top',\n",
       "       'bigroom', 'opera', 'celtic', 'tradjazz', 'acoustic', 'epicmetal',\n",
       "       'historisch', 'downbeat', 'downtempo', 'africa', 'audiobook',\n",
       "       'jewish', 'sängerportrait', 'deutschrock', 'eastern', 'action',\n",
       "       'future', 'electropop', 'folklore', 'bollywood', 'marschmusik',\n",
       "       'rnr', 'karaoke', 'indian', 'rancheras', 'afrikaans', 'rhythm',\n",
       "       'sound', 'deutschspr', 'trip', 'lovers', 'choral', 'dancepop',\n",
       "       'retro', 'smooth', 'mexican', 'brazilian', 'ïîï', 'mood', 'surf',\n",
       "       'gangsta', 'inspirational', 'idm', 'ethnic', 'bluegrass',\n",
       "       'broadway', 'animated', 'americana', 'karadeniz', 'rockabilly',\n",
       "       'colombian', 'self', 'sertanejo', 'japanese', 'canzone', 'lounge',\n",
       "       'sport', 'ragga', 'traditional', 'gitarre', 'frankreich', 'emo',\n",
       "       'laiko', 'cantopop', 'glitch', 'documentary', 'oceania',\n",
       "       'popeurodance', 'dark', 'vi', 'grunge', 'hardstyle', 'samba',\n",
       "       'garage', 'art', 'folktronica', 'entehno', 'mediterranean',\n",
       "       'chamber', 'cuban', 'taraftar', 'gypsy', 'hardtechno',\n",
       "       'shoegazing', 'bossa', 'latino', 'worldbeat', 'malaysian', 'baile',\n",
       "       'ghazal', 'arabic', 'popelectronic', 'acid', 'kayokyoku',\n",
       "       'neoklassik', 'tribal', 'tanzorchester', 'native', 'independent',\n",
       "       'cantautori', 'handsup', 'punjabi', 'synthpop', 'rave',\n",
       "       'französisch', 'quebecois', 'speech', 'soulful', 'jam', 'ram',\n",
       "       'horror', 'orchestral', 'neue', 'roots', 'slow', 'jungle',\n",
       "       'indipop', 'axé', 'fado', 'showtunes', 'arena', 'irish',\n",
       "       'mandopop', 'forró', 'dirty', 'regional'], dtype=object)"
      ]
     },
     "execution_count": 19,
     "metadata": {},
     "output_type": "execute_result"
    }
   ],
   "source": [
    "# checking for implicit duplicates\n",
    "df['genre'].unique()"
   ]
  },
  {
   "cell_type": "markdown",
   "metadata": {
    "id": "ALgNbvF3VtPA"
   },
   "source": [
    "[Back to Contents](#back)"
   ]
  },
  {
   "cell_type": "markdown",
   "metadata": {
    "id": "jz6a9-7HQUDd"
   },
   "source": [
    "### Conclusions <a id='data_preprocessing_conclusions'></a>\n",
    "We detected three issues with the data:\n",
    "\n",
    "- Incorrect header styles\n",
    "- Missing values\n",
    "- Obvious and implicit duplicates\n",
    "\n",
    "The headers have been cleaned up to make processing the table simpler.\n",
    "\n",
    "All missing values have been replaced with `'unknown'`. But we still have to see whether the missing values in `'genre'` will affect our calculations.\n",
    "\n",
    "The absence of duplicates will make the results more precise and easier to understand.\n",
    "\n",
    "Now we can move on to testing hypotheses. "
   ]
  },
  {
   "cell_type": "markdown",
   "metadata": {
    "id": "eK1es74rVujj"
   },
   "source": [
    "[Back to Contents](#back)"
   ]
  },
  {
   "cell_type": "markdown",
   "metadata": {
    "id": "WttZHXH0SqKk"
   },
   "source": [
    "## Stage 3. Testing hypotheses <a id='hypotheses'></a>"
   ]
  },
  {
   "cell_type": "markdown",
   "metadata": {
    "id": "Im936VVi_Zcu"
   },
   "source": [
    "### Hypothesis 1: comparing user behavior in two cities <a id='activity'></a>"
   ]
  },
  {
   "cell_type": "markdown",
   "metadata": {
    "id": "nwt_MuaL_Zcu"
   },
   "source": [
    "According to the first hypothesis, users from Springfield and Shelbyville listen to music differently. Test this using the data on three days of the week: Monday, Wednesday, and Friday.\n",
    "\n",
    "* Divide the users into groups by city.\n",
    "* Compare how many tracks each group played on Monday, Wednesday, and Friday.\n"
   ]
  },
  {
   "cell_type": "markdown",
   "metadata": {
    "id": "8Dw_YMmT_Zcu"
   },
   "source": [
    "For the sake of practice, perform each computation separately. \n",
    "\n",
    "Evaluate user activity in each city. Group the data by city and find the number of songs played in each group.\n",
    "\n"
   ]
  },
  {
   "cell_type": "code",
   "execution_count": 20,
   "metadata": {
    "id": "0_Qs96oh_Zcu"
   },
   "outputs": [
    {
     "data": {
      "text/plain": [
       "city\n",
       "Shelbyville    18512\n",
       "Springfield    42741\n",
       "Name: track, dtype: int64"
      ]
     },
     "execution_count": 20,
     "metadata": {},
     "output_type": "execute_result"
    }
   ],
   "source": [
    "# Counting up the tracks played in each city\n",
    "#groupby(property)['column']\n",
    "#groupby not group_by\n",
    "track_by_city = df.groupby('city')['track'].count()\n",
    "track_by_city"
   ]
  },
  {
   "cell_type": "markdown",
   "metadata": {
    "id": "dzli3w8o_Zcu"
   },
   "source": [
    "Springfield has more tracks played than Shelbyville. But that does not imply that citizens of Springfield listen to music more often. This city is simply bigger, and there are more users.\n",
    "\n",
    "Now group the data by day of the week and find the number of tracks played on Monday, Wednesday, and Friday.\n"
   ]
  },
  {
   "cell_type": "code",
   "execution_count": 21,
   "metadata": {
    "id": "uZMKjiJz_Zcu"
   },
   "outputs": [
    {
     "data": {
      "text/plain": [
       "day\n",
       "Friday       21840\n",
       "Monday       21354\n",
       "Wednesday    18059\n",
       "Name: track, dtype: int64"
      ]
     },
     "execution_count": 21,
     "metadata": {},
     "output_type": "execute_result"
    }
   ],
   "source": [
    "# Calculating tracks played on each of the three days\n",
    "track_by_day = df.groupby('day')['track'].count()\n",
    "track_by_day"
   ]
  },
  {
   "cell_type": "markdown",
   "metadata": {
    "id": "cC2tNrlL_Zcu"
   },
   "source": [
    "Wednesday is the quietest day overall. But if we consider the two cities separately, we might come to a different conclusion."
   ]
  },
  {
   "cell_type": "markdown",
   "metadata": {
    "id": "POzs8bGa_Zcu"
   },
   "source": [
    "You have seen how grouping by city or day works. Now write a function that will group by both.\n",
    "\n",
    "Create the `number_tracks()` function to calculate the number of songs played for a given day and city. It will require two parameters:\n",
    "* day of the week\n",
    "* name of the city\n",
    "\n",
    "In the function, use a variable to store the rows from the original table, where:\n",
    "  * `'day'` column value is equal to the `day` parameter\n",
    "  * `'city'` column value is equal to the `city` parameter\n",
    "\n",
    "Apply consecutive filtering with logical indexing.\n",
    "\n",
    "Then calculate the `'user_id'` column values in the resulting table. Store the result to a new variable. Return this variable from the function."
   ]
  },
  {
   "cell_type": "code",
   "execution_count": 34,
   "metadata": {
    "id": "Nz3GdQB1_Zcu"
   },
   "outputs": [],
   "source": [
    "# <creating the function number_tracks()>\n",
    "def number_tracks(city,day):\n",
    "    \"\"\"\n",
    "    We converted the comments to docstrings with \n",
    "    We'll declare a function with two parameters: day=, city=.\n",
    "    Let the track_list variable store the df rows where\n",
    "    the value in the 'day' column is equal to the day= parameter and, at the same time,\n",
    "    \"\"\"\n",
    "    track_list = df[df['day']== day]\n",
    "    \"\"\" \n",
    "    the value in the 'city' column is equal to the city= parameter (apply consecutive filtering \n",
    "    with logical indexing). \n",
    "    \"\"\"\n",
    "    track_list = track_list[track_list['city']== city]\n",
    "    \"\"\"\n",
    "    Let the track_list_count variable store the number of 'user_id' column values in track_list\n",
    "    (found with the count() method).\n",
    "    \"\"\"\n",
    "    track_list_count = track_list['user_id'].count() \n",
    "    '''\n",
    "    we don't need group by\n",
    "    '''\n",
    "    \"\"\"\n",
    "    Let the function return a number: the value of track_list_count.\n",
    "    \"\"\"\n",
    "    return track_list_count\n",
    "    \"\"\"\n",
    "    The function counts tracked played for a certain city and day.\n",
    "    It first retrieves the rows with the intended day from the table,\n",
    "    then filters out the rows with the intended city from the result,\n",
    "    then finds the number of 'user_id' values in the filtered table,\n",
    "    then returns that number.\n",
    "    To see what it returns, wrap the function call in print().\n",
    "    \"\"\""
   ]
  },
  {
   "cell_type": "markdown",
   "metadata": {
    "id": "ytf7xFrFJQ2r"
   },
   "source": [
    "Call `number_tracks()` six times, changing the parameter values, so that you retrieve the data on both cities for each of the three days."
   ]
  },
  {
   "cell_type": "code",
   "execution_count": 35,
   "metadata": {
    "id": "rJcRATNQ_Zcu"
   },
   "outputs": [
    {
     "name": "stdout",
     "output_type": "stream",
     "text": [
      "15740\n"
     ]
    }
   ],
   "source": [
    "# the number of songs played in Springfield on Monday\n",
    "print(number_tracks('Springfield','Monday'))"
   ]
  },
  {
   "cell_type": "code",
   "execution_count": 36,
   "metadata": {
    "id": "hq_ncZ5T_Zcu"
   },
   "outputs": [
    {
     "name": "stdout",
     "output_type": "stream",
     "text": [
      "5614\n"
     ]
    }
   ],
   "source": [
    "# the number of songs played in Shelbyville on Monday\n",
    "print(number_tracks('Shelbyville','Monday'))"
   ]
  },
  {
   "cell_type": "code",
   "execution_count": 23,
   "metadata": {
    "id": "_NTy2VPU_Zcu"
   },
   "outputs": [
    {
     "name": "stdout",
     "output_type": "stream",
     "text": [
      "11056\n"
     ]
    }
   ],
   "source": [
    "# the number of songs played in Springfield on Wednesday\n",
    "print(number_tracks('Springfield','Wednesday'))"
   ]
  },
  {
   "cell_type": "code",
   "execution_count": 24,
   "metadata": {
    "id": "j2y3TAwo_Zcu"
   },
   "outputs": [
    {
     "name": "stdout",
     "output_type": "stream",
     "text": [
      "7003\n"
     ]
    }
   ],
   "source": [
    "# the number of songs played in Shelbyville on Wednesday\n",
    "print(number_tracks('Shelbyville','Wednesday'))"
   ]
  },
  {
   "cell_type": "code",
   "execution_count": 25,
   "metadata": {
    "id": "vYDw5u_K_Zcu"
   },
   "outputs": [
    {
     "name": "stdout",
     "output_type": "stream",
     "text": [
      "15945\n"
     ]
    }
   ],
   "source": [
    "# the number of songs played in Springfield on Friday\n",
    "print(number_tracks('Springfield','Friday'))"
   ]
  },
  {
   "cell_type": "code",
   "execution_count": 26,
   "metadata": {
    "id": "8_yzFtW3_Zcu"
   },
   "outputs": [
    {
     "name": "stdout",
     "output_type": "stream",
     "text": [
      "5895\n"
     ]
    }
   ],
   "source": [
    "# the number of songs played in Shelbyville on Friday\n",
    "print(number_tracks('Shelbyville','Friday'))"
   ]
  },
  {
   "cell_type": "markdown",
   "metadata": {
    "id": "7QXffbO-_Zcu"
   },
   "source": [
    "Use `pd.DataFrame` to create a table, where\n",
    "* Column names are: `['city', 'monday', 'wednesday', 'friday']`\n",
    "* The data is the results you got from `number_tracks()`"
   ]
  },
  {
   "cell_type": "code",
   "execution_count": 27,
   "metadata": {
    "id": "APAcLpOr_Zcu"
   },
   "outputs": [
    {
     "name": "stdout",
     "output_type": "stream",
     "text": [
      "          city  monday  wednesday  friday\n",
      "0  Shelbyville    5614       7003    5895\n",
      "1  Springfield   15740      11056   15945\n"
     ]
    }
   ],
   "source": [
    "# table with results\n",
    "entries = ['city','monday','wednesday','friday']\n",
    "#https://pastebin.com/qcsbhiXG function form created by me, but turned out too complicated\n",
    "she_mon = number_tracks('Shelbyville','Monday')\n",
    "she_wed = number_tracks('Shelbyville','Wednesday')\n",
    "she_fri = number_tracks('Shelbyville','Friday')\n",
    "spr_mon = number_tracks('Springfield','Monday')\n",
    "spr_wed = number_tracks('Springfield','Wednesday')\n",
    "spr_fri = number_tracks('Springfield','Friday')\n",
    "music = [['Shelbyville',she_mon,she_wed,she_fri],['Springfield',spr_mon,spr_wed,spr_fri]]\n",
    "\n",
    "tracks_by_city_table = pd.DataFrame(data=music,columns=entries)\n",
    "tracks_by_city_table "
   ]
  },
  {
   "cell_type": "markdown",
   "metadata": {
    "id": "-EgPIHYu_Zcu"
   },
   "source": [
    "**Conclusions**\n",
    "\n",
    "The data reveals differences in user behavior:\n",
    "\n",
    "- In Springfield, the number of songs played peaks on Mondays and Fridays, while on Wednesday there is a decrease in activity.\n",
    "- In Shelbyville, on the contrary, users listen to music more on Wednesday. User activity on Monday and Friday is smaller.\n",
    "\n",
    "So the first hypothesis seems to be correct."
   ]
  },
  {
   "cell_type": "markdown",
   "metadata": {
    "id": "p7nFQajCVw5B"
   },
   "source": [
    "[Back to Contents](#back)"
   ]
  },
  {
   "cell_type": "markdown",
   "metadata": {
    "id": "atZAxtq4_Zcu"
   },
   "source": [
    "### Hypothesis 2: music at the beginning and end of the week <a id='week'></a>"
   ]
  },
  {
   "cell_type": "markdown",
   "metadata": {
    "id": "eXrQqXFH_Zcu"
   },
   "source": [
    "According to the second hypothesis, on Monday morning and Friday night, citizens of Springfield listen to genres that differ from ones users from Shelbyville enjoy."
   ]
  },
  {
   "cell_type": "markdown",
   "metadata": {
    "id": "S8UcW6Hw_Zcu"
   },
   "source": [
    "Get tables (make sure that the name of your combined table matches the DataFrame given in the two code blocks below):\n",
    "* For Springfield — `spr_general`\n",
    "* For Shelbyville — `shel_general`"
   ]
  },
  {
   "cell_type": "code",
   "execution_count": 28,
   "metadata": {
    "id": "qeaFfM_P_Zcu",
    "pycharm": {
     "is_executing": true
    }
   },
   "outputs": [],
   "source": [
    "# create the spr_general table from the df rows, \n",
    "# where the value in the 'city' column is 'Springfield'\n",
    "spr_general = df[df['city']=='Springfield'].reset_index(drop=True)\n",
    "#spr_general"
   ]
  },
  {
   "cell_type": "code",
   "execution_count": 29,
   "metadata": {
    "id": "ORaVRKto_Zcu"
   },
   "outputs": [],
   "source": [
    "# create the shel_general from the df rows,\n",
    "# where the value in the 'city' column is 'Shelbyville'\n",
    "shel_general = df[df['city']=='Shelbyville'].reset_index(drop=True)\n",
    "#shel_general"
   ]
  },
  {
   "cell_type": "markdown",
   "metadata": {
    "id": "MEJV-CX2_Zcu"
   },
   "source": [
    "Write the `genre_weekday()` function with four parameters:\n",
    "* A table for data (`df`)\n",
    "* The day of the week (`day`)\n",
    "* The first timestamp, in 'hh:mm' format (`time1`)\n",
    "* The last timestamp, in 'hh:mm' format (`time2`)\n",
    "\n",
    "The function should return info on the 15 most popular genres on a given day within the period between the two timestamps."
   ]
  },
  {
   "cell_type": "code",
   "execution_count": 33,
   "metadata": {
    "id": "laJT9BYl_Zcu"
   },
   "outputs": [],
   "source": [
    "def genre_weekday(df,day,time1,time2):\n",
    "    \"\"\" \n",
    "    1) Let the genre_df variable store the rows that meet several conditions:\n",
    "    - the value in the 'day' column is equal to the value of the day= argument\n",
    "    - the value in the 'time' column is greater than the value of the time1= argument\n",
    "    - the value in the 'time' column is smaller than the value of the time2= argument\n",
    "    Use consecutive filtering with logical indexing.\n",
    "\n",
    "    2) Group genre_df by the 'genre' column, take one of its columns, \n",
    "    and use the count() method to find the number of entries for each of \n",
    "    the represented genres; store the resulting Series to the\n",
    "    genre_df_count variable\n",
    "\n",
    "    3) Sort genre_df_count in descending order of frequency and store the result\n",
    "    to the genre_df_sorted variable\n",
    "\n",
    "    4) Return a Series object with the first 15 genre_df_sorted value - the 15 most\n",
    "    popular genres (on a given day, within a certain timeframe)\n",
    "\n",
    "    Write your function here\n",
    "\n",
    "    consecutive filtering\n",
    "    Create the variable genre_df which will store only those df rows where the day is equal to day=\n",
    "    \"\"\"\n",
    "    genre_df = df[df['day'] == day]\n",
    "    '''\n",
    "    filter again so that genre_df will store only those rows where the time is smaller than time2=\n",
    "    '''\n",
    "    genre_df = genre_df[genre_df['time'] > time1]\n",
    "    '''\n",
    "    filter once more so that genre_df will store only rows where the time is greater than time1=\n",
    "    '''\n",
    "    genre_df = genre_df[genre_df['time'] < time2]\n",
    "    '''\n",
    "    group the filtered DataFrame by the column with the names of genres, take the genre column, and find the number of rows for each genre with the count() method\n",
    "    '''\n",
    "    genre_df_count = genre_df.groupby('genre')['genre'].count()\n",
    "    '''\n",
    "    sort the result in descending order (so that the most popular genres come first in the Series object)\n",
    "    '''\n",
    "    genre_df_sorted = genre_df_count.sort_values(ascending=False)\n",
    "    '''\n",
    "    we will return the Series object storing the 15 most popular genres on a given day in a given timeframe\n",
    "    '''\n",
    "    return genre_df_sorted[:15]"
   ]
  },
  {
   "cell_type": "markdown",
   "metadata": {
    "id": "la2s2_PF_Zcu"
   },
   "source": [
    "Compare the results of the `genre_weekday()` function for Springfield and Shelbyville on Monday morning (from 7AM to 11AM) and on Friday evening (from 17:00 to 23:00):"
   ]
  },
  {
   "cell_type": "code",
   "execution_count": 31,
   "metadata": {
    "id": "yz7itPUQ_Zcu"
   },
   "outputs": [
    {
     "data": {
      "text/plain": [
       "genre\n",
       "pop            781\n",
       "dance          549\n",
       "electronic     480\n",
       "rock           474\n",
       "hiphop         286\n",
       "ruspop         186\n",
       "world          181\n",
       "rusrap         175\n",
       "alternative    164\n",
       "unknown        161\n",
       "classical      157\n",
       "metal          120\n",
       "jazz           100\n",
       "folk            97\n",
       "soundtrack      95\n",
       "Name: genre, dtype: int64"
      ]
     },
     "execution_count": 31,
     "metadata": {},
     "output_type": "execute_result"
    }
   ],
   "source": [
    "# calling the function for Monday morning in Springfield (use spr_general instead of the df table)\n",
    "genre_weekday(spr_general,'Monday','07:00','11:00')"
   ]
  },
  {
   "cell_type": "code",
   "execution_count": 32,
   "metadata": {
    "id": "kwUcHPdy_Zcu"
   },
   "outputs": [
    {
     "data": {
      "text/plain": [
       "genre\n",
       "pop            218\n",
       "dance          182\n",
       "rock           162\n",
       "electronic     147\n",
       "hiphop          80\n",
       "ruspop          64\n",
       "alternative     58\n",
       "rusrap          55\n",
       "jazz            44\n",
       "classical       40\n",
       "world           36\n",
       "rap             32\n",
       "soundtrack      31\n",
       "metal           27\n",
       "rnb             27\n",
       "Name: genre, dtype: int64"
      ]
     },
     "execution_count": 32,
     "metadata": {},
     "output_type": "execute_result"
    }
   ],
   "source": [
    "# calling the function for Monday morning in Shelbyville (use shel_general instead of the df table)\n",
    "genre_weekday(shel_general,'Monday','07:00','11:00')"
   ]
  },
  {
   "cell_type": "code",
   "execution_count": 33,
   "metadata": {
    "id": "EzXVRE1o_Zcu"
   },
   "outputs": [
    {
     "data": {
      "text/plain": [
       "genre\n",
       "pop            1377\n",
       "dance          1017\n",
       "rock            988\n",
       "electronic      924\n",
       "hiphop          537\n",
       "classical       402\n",
       "world           363\n",
       "alternative     352\n",
       "ruspop          331\n",
       "rusrap          293\n",
       "jazz            261\n",
       "soundtrack      197\n",
       "metal           184\n",
       "unknown         178\n",
       "rnb             172\n",
       "Name: genre, dtype: int64"
      ]
     },
     "execution_count": 33,
     "metadata": {},
     "output_type": "execute_result"
    }
   ],
   "source": [
    "# calling the function for Friday evening in Springfield\n",
    "genre_weekday(spr_general,'Friday','11:00','23:00')"
   ]
  },
  {
   "cell_type": "code",
   "execution_count": 34,
   "metadata": {
    "id": "JZaEKu5v_Zcu"
   },
   "outputs": [
    {
     "data": {
      "text/plain": [
       "genre\n",
       "pop            537\n",
       "dance          447\n",
       "rock           437\n",
       "electronic     389\n",
       "hiphop         220\n",
       "classical      166\n",
       "alternative    146\n",
       "ruspop         123\n",
       "rusrap         118\n",
       "world          111\n",
       "jazz           106\n",
       "soundtrack      78\n",
       "folk            73\n",
       "metal           73\n",
       "unknown         72\n",
       "Name: genre, dtype: int64"
      ]
     },
     "execution_count": 34,
     "metadata": {},
     "output_type": "execute_result"
    }
   ],
   "source": [
    "# calling the function for Friday evening in Shelbyville\n",
    "genre_weekday(shel_general,'Friday','11:00','23:00')"
   ]
  },
  {
   "cell_type": "markdown",
   "metadata": {
    "id": "wrCe4MNX_Zcu"
   },
   "source": [
    "**Conclusion**\n",
    "\n",
    "Having compared the top 15 genres on Monday morning, we can draw the following conclusions:\n",
    "\n",
    "1. Users from Springfield and Shelbyville listen to similar music. The top five genres are the same, only rock and electronic have switched places.\n",
    "\n",
    "2. In Springfield, the number of missing values turned out to be so big that the value `'unknown'` came in 10th. This means that missing values make up a considerable portion of the data, which may be a basis for questioning the reliability of our conclusions.\n",
    "\n",
    "For Friday evening, the situation is similar. Individual genres vary somewhat, but on the whole, the top 15 is similar for the two cities.\n",
    "\n",
    "Thus, the second hypothesis has been partially proven true:\n",
    "* Users listen to similar music at the beginning and end of the week.\n",
    "* There is no major difference between Springfield and Shelbyville. In both cities, pop is the most popular genre.\n",
    "\n",
    "However, the number of missing values makes this result questionable. In Springfield, there are so many that they affect our top 15. Were we not missing these values, things might look different."
   ]
  },
  {
   "cell_type": "markdown",
   "metadata": {
    "id": "jLmXgdanVyhP"
   },
   "source": [
    "[Back to Contents](#back)"
   ]
  },
  {
   "cell_type": "markdown",
   "metadata": {
    "id": "JolODAqr_Zcu"
   },
   "source": [
    "### Hypothesis 3: genre preferences in Springfield and Shelbyville <a id='genre'></a>\n",
    "\n",
    "Hypothesis: Shelbyville loves rap music. Springfield's citizens are more into pop."
   ]
  },
  {
   "cell_type": "markdown",
   "metadata": {
    "id": "DlegSvaT_Zcu"
   },
   "source": [
    "Group the `spr_general` table by genre and find the number of songs played for each genre with the `count()` method. Then sort the result in descending order and store it to `spr_genres`."
   ]
  },
  {
   "cell_type": "code",
   "execution_count": 35,
   "metadata": {
    "id": "r19lIPke_Zcu"
   },
   "outputs": [],
   "source": [
    "# on one line: group the spr_general table by the 'genre' column, \n",
    "# count the 'genre' values with count() in the grouping, \n",
    "# sort the resulting Series in descending order, and store it to spr_genres\n",
    "spr_genres = spr_general.groupby('genre')['genre'].count().sort_values(ascending=False)"
   ]
  },
  {
   "cell_type": "markdown",
   "metadata": {
    "id": "6kMuomxTiIr8"
   },
   "source": [
    "Print the first 10 rows from `spr_genres`:"
   ]
  },
  {
   "cell_type": "code",
   "execution_count": 36,
   "metadata": {
    "id": "WhCSooF8_Zcv"
   },
   "outputs": [
    {
     "name": "stdout",
     "output_type": "stream",
     "text": [
      "genre\n",
      "pop            5892\n",
      "dance          4435\n",
      "rock           3965\n",
      "electronic     3786\n",
      "hiphop         2096\n",
      "classical      1616\n",
      "world          1432\n",
      "alternative    1379\n",
      "ruspop         1372\n",
      "rusrap         1161\n",
      "Name: genre, dtype: int64\n"
     ]
    }
   ],
   "source": [
    "# printing the first 10 rows of spr_genres\n",
    "print(spr_genres.head(10))"
   ]
  },
  {
   "cell_type": "markdown",
   "metadata": {
    "id": "cnPG2vnN_Zcv"
   },
   "source": [
    "Now do the same with the data on Shelbyville.\n",
    "\n",
    "Group the `shel_general` table by genre and find the number of songs played for each genre. Then sort the result in descending order and store it to the `shel_genres` table:\n"
   ]
  },
  {
   "cell_type": "code",
   "execution_count": 37,
   "metadata": {
    "id": "gluLIpE7_Zcv"
   },
   "outputs": [],
   "source": [
    "# on one line: group the shel_general table by the 'genre' column, \n",
    "# count the 'genre' values in the grouping with count(), \n",
    "# sort the resulting Series in descending order and store it to shel_genres\n",
    "shel_genres = spr_general.groupby('genre')['genre'].count().sort_values(ascending=False)"
   ]
  },
  {
   "cell_type": "markdown",
   "metadata": {
    "id": "5Doha_ODgyQ8"
   },
   "source": [
    "Print the first 10 rows of `shel_genres`:"
   ]
  },
  {
   "cell_type": "code",
   "execution_count": 38,
   "metadata": {
    "id": "uaGJHjVU_Zcv"
   },
   "outputs": [
    {
     "name": "stdout",
     "output_type": "stream",
     "text": [
      "genre\n",
      "pop            5892\n",
      "dance          4435\n",
      "rock           3965\n",
      "electronic     3786\n",
      "hiphop         2096\n",
      "classical      1616\n",
      "world          1432\n",
      "alternative    1379\n",
      "ruspop         1372\n",
      "rusrap         1161\n",
      "Name: genre, dtype: int64\n"
     ]
    }
   ],
   "source": [
    "# printing the first 10 rows from shel_genres\n",
    "print(shel_genres.head(10))"
   ]
  },
  {
   "cell_type": "markdown",
   "metadata": {
    "id": "RY51YJYu_Zcv"
   },
   "source": [
    "**Conclusion**"
   ]
  },
  {
   "cell_type": "markdown",
   "metadata": {
    "id": "nVhnJEm__Zcv"
   },
   "source": [
    "The hypothesis has been partially proven true:\n",
    "* Pop music is the most popular genre in Springfield, as expected.\n",
    "* However, pop music turned out to be equally popular in Springfield and Shelbyville, and rap wasn't in the top 5 for either city.\n"
   ]
  },
  {
   "cell_type": "markdown",
   "metadata": {
    "id": "Byr0RfpPVz14"
   },
   "source": [
    "[Back to Contents](#back)"
   ]
  },
  {
   "cell_type": "markdown",
   "metadata": {
    "id": "ykKQ0N65_Zcv"
   },
   "source": [
    "# Findings <a id='end'></a>"
   ]
  },
  {
   "cell_type": "markdown",
   "metadata": {
    "id": "tjUwbHb3_Zcv"
   },
   "source": [
    "We have tested the following three hypotheses:\n",
    "\n",
    "1. User activity differs depending on the day of the week and from city to city. \n",
    "2. On Monday mornings, Springfield and Shelbyville residents listen to different genres. This is also true for Friday evenings. \n",
    "3. Springfield and Shelbyville listeners have different preferences. In both Springfield and Shelbyville, they prefer pop.\n",
    "\n",
    "After analyzing the data, we concluded:\n",
    "\n",
    "1. User activity in Springfield and Shelbyville depends on the day of the week, though the cities vary in different ways. \n",
    "\n",
    "The first hypothesis is fully accepted.\n",
    "\n",
    "2. Musical preferences do not vary significantly over the course of the week in both Springfield and Shelbyville. We can see small differences in order on Mondays, but:\n",
    "* In Springfield and Shelbyville, people listen to pop music most.\n",
    "\n",
    "So we can't accept this hypothesis. We must also keep in mind that the result could have been different if not for the missing values.\n",
    "\n",
    "3. It turns out that the musical preferences of users from Springfield and Shelbyville are quite similar.\n",
    "\n",
    "The third hypothesis is rejected. If there is any difference in preferences, it cannot be seen from this data.\n",
    "\n",
    "### Note \n",
    "In real projects, research involves statistical hypothesis testing, which is more precise and more quantitative. Also note that you cannot always draw conclusions about an entire city based on the data from just one source.\n",
    "\n",
    "You will study hypothesis testing in the sprint on statistical data analysis."
   ]
  },
  {
   "cell_type": "markdown",
   "metadata": {
    "id": "Ju4AHDSgV1FE"
   },
   "source": [
    "[Back to Contents](#back)"
   ]
  }
 ],
 "metadata": {
  "ExecuteTimeLog": [
   {
    "duration": 757,
    "start_time": "2022-01-27T22:15:43.375Z"
   },
   {
    "duration": 347,
    "start_time": "2022-01-27T22:17:02.041Z"
   },
   {
    "duration": 2408,
    "start_time": "2022-01-27T22:17:46.151Z"
   },
   {
    "duration": 357,
    "start_time": "2022-01-27T22:18:25.486Z"
   },
   {
    "duration": 8,
    "start_time": "2022-01-27T22:18:57.774Z"
   },
   {
    "duration": 9,
    "start_time": "2022-01-27T22:19:04.847Z"
   },
   {
    "duration": 11,
    "start_time": "2022-01-27T22:19:55.549Z"
   },
   {
    "duration": 184,
    "start_time": "2022-01-27T22:22:37.411Z"
   },
   {
    "duration": 13,
    "start_time": "2022-01-27T22:24:21.083Z"
   },
   {
    "duration": 178,
    "start_time": "2022-01-27T22:30:45.489Z"
   },
   {
    "duration": 12,
    "start_time": "2022-01-27T22:30:55.658Z"
   },
   {
    "duration": 5,
    "start_time": "2022-01-27T22:44:37.401Z"
   },
   {
    "duration": 41,
    "start_time": "2022-01-27T23:02:23.532Z"
   },
   {
    "duration": 25,
    "start_time": "2022-01-27T23:02:45.994Z"
   },
   {
    "duration": 3,
    "start_time": "2022-01-27T23:02:51.692Z"
   },
   {
    "duration": 355,
    "start_time": "2022-01-27T23:02:54.258Z"
   },
   {
    "duration": 9,
    "start_time": "2022-01-27T23:02:56.731Z"
   },
   {
    "duration": 17,
    "start_time": "2022-01-27T23:02:59.676Z"
   },
   {
    "duration": 6,
    "start_time": "2022-01-27T23:03:09.243Z"
   },
   {
    "duration": 39,
    "start_time": "2022-01-27T23:03:12.577Z"
   },
   {
    "duration": 35,
    "start_time": "2022-01-27T23:03:23.019Z"
   },
   {
    "duration": 5,
    "start_time": "2022-01-27T23:03:36.492Z"
   },
   {
    "duration": 41,
    "start_time": "2022-01-27T23:07:25.128Z"
   },
   {
    "duration": 6,
    "start_time": "2022-01-27T23:07:32.926Z"
   },
   {
    "duration": 29,
    "start_time": "2022-01-27T23:07:53.241Z"
   },
   {
    "duration": 48,
    "start_time": "2022-01-27T23:09:44.478Z"
   },
   {
    "duration": 576,
    "start_time": "2022-01-29T16:57:14.189Z"
   },
   {
    "duration": 249,
    "start_time": "2022-01-29T16:57:15.814Z"
   },
   {
    "duration": 6,
    "start_time": "2022-01-29T16:57:17.651Z"
   },
   {
    "duration": 11,
    "start_time": "2022-01-29T16:57:21.043Z"
   },
   {
    "duration": 4,
    "start_time": "2022-01-29T16:57:27.512Z"
   },
   {
    "duration": 29,
    "start_time": "2022-01-29T16:57:30.133Z"
   },
   {
    "duration": 3,
    "start_time": "2022-01-29T16:57:32.562Z"
   },
   {
    "duration": 20,
    "start_time": "2022-01-29T16:57:35.045Z"
   },
   {
    "duration": 4664,
    "start_time": "2022-01-29T16:57:37.555Z"
   },
   {
    "duration": -941,
    "start_time": "2022-01-29T17:13:07.307Z"
   },
   {
    "duration": 3,
    "start_time": "2022-01-29T17:13:13.085Z"
   },
   {
    "duration": 246,
    "start_time": "2022-01-29T17:13:14.412Z"
   },
   {
    "duration": 6,
    "start_time": "2022-01-29T17:13:16.940Z"
   },
   {
    "duration": 11,
    "start_time": "2022-01-29T17:13:18.751Z"
   },
   {
    "duration": 4,
    "start_time": "2022-01-29T17:13:21.191Z"
   },
   {
    "duration": 29,
    "start_time": "2022-01-29T17:13:23.249Z"
   },
   {
    "duration": 4,
    "start_time": "2022-01-29T17:13:26.090Z"
   },
   {
    "duration": 20,
    "start_time": "2022-01-29T17:13:27.724Z"
   },
   {
    "duration": 4715,
    "start_time": "2022-01-29T17:13:29.466Z"
   },
   {
    "duration": -994,
    "start_time": "2022-01-29T17:13:35.176Z"
   },
   {
    "duration": 21,
    "start_time": "2022-01-29T17:13:44.065Z"
   },
   {
    "duration": 22,
    "start_time": "2022-01-29T17:16:43.085Z"
   },
   {
    "duration": 4,
    "start_time": "2022-01-29T17:16:47.099Z"
   },
   {
    "duration": 3,
    "start_time": "2022-01-29T17:16:58.140Z"
   },
   {
    "duration": 22,
    "start_time": "2022-01-29T17:17:00.436Z"
   },
   {
    "duration": 4,
    "start_time": "2022-01-29T17:17:06.768Z"
   },
   {
    "duration": 22,
    "start_time": "2022-01-29T17:17:20.716Z"
   },
   {
    "duration": 30,
    "start_time": "2022-01-29T17:17:34.015Z"
   },
   {
    "duration": 3,
    "start_time": "2022-01-29T17:18:09.493Z"
   },
   {
    "duration": 3,
    "start_time": "2022-01-29T17:18:21.786Z"
   },
   {
    "duration": 242,
    "start_time": "2022-01-29T17:18:23.660Z"
   },
   {
    "duration": 6,
    "start_time": "2022-01-29T17:18:25.741Z"
   },
   {
    "duration": 12,
    "start_time": "2022-01-29T17:18:28.220Z"
   },
   {
    "duration": 4,
    "start_time": "2022-01-29T17:18:31.850Z"
   },
   {
    "duration": 27,
    "start_time": "2022-01-29T17:18:34.876Z"
   },
   {
    "duration": 4,
    "start_time": "2022-01-29T17:18:42.850Z"
   },
   {
    "duration": 13,
    "start_time": "2022-01-29T17:18:50.237Z"
   },
   {
    "duration": 3,
    "start_time": "2022-01-29T17:18:53.500Z"
   },
   {
    "duration": 19,
    "start_time": "2022-01-29T17:18:57.229Z"
   },
   {
    "duration": 15,
    "start_time": "2022-01-29T17:18:59.451Z"
   },
   {
    "duration": 22,
    "start_time": "2022-01-29T17:19:16.237Z"
   },
   {
    "duration": 50,
    "start_time": "2022-01-29T19:38:55.607Z"
   },
   {
    "duration": 214,
    "start_time": "2022-01-29T19:39:54.750Z"
   },
   {
    "duration": 51,
    "start_time": "2022-01-29T19:40:00.467Z"
   },
   {
    "duration": 49,
    "start_time": "2022-01-29T19:40:11.403Z"
   },
   {
    "duration": 8,
    "start_time": "2022-01-29T22:56:15.105Z"
   },
   {
    "duration": 3,
    "start_time": "2022-01-29T23:02:35.278Z"
   },
   {
    "duration": 382,
    "start_time": "2022-01-29T23:03:32.028Z"
   },
   {
    "duration": 3,
    "start_time": "2022-01-29T23:04:18.814Z"
   },
   {
    "duration": 373,
    "start_time": "2022-01-29T23:04:21.115Z"
   },
   {
    "duration": 3,
    "start_time": "2022-01-29T23:05:18.750Z"
   },
   {
    "duration": 405,
    "start_time": "2022-01-29T23:05:20.714Z"
   },
   {
    "duration": 5,
    "start_time": "2022-01-29T23:05:42.861Z"
   },
   {
    "duration": 2,
    "start_time": "2022-01-29T23:05:43.707Z"
   },
   {
    "duration": 7,
    "start_time": "2022-01-29T23:06:04.758Z"
   },
   {
    "duration": 2,
    "start_time": "2022-01-29T23:06:32.169Z"
   },
   {
    "duration": 2,
    "start_time": "2022-01-29T23:06:33.543Z"
   },
   {
    "duration": 7,
    "start_time": "2022-01-29T23:06:38.059Z"
   },
   {
    "duration": 10,
    "start_time": "2022-01-29T23:08:34.025Z"
   },
   {
    "duration": 358,
    "start_time": "2022-01-29T23:08:38.763Z"
   },
   {
    "duration": 3,
    "start_time": "2022-01-29T23:09:00.282Z"
   },
   {
    "duration": 3,
    "start_time": "2022-01-29T23:10:18.256Z"
   },
   {
    "duration": 2,
    "start_time": "2022-01-29T23:10:46.170Z"
   },
   {
    "duration": 3,
    "start_time": "2022-01-29T23:12:01.223Z"
   },
   {
    "duration": 2,
    "start_time": "2022-01-29T23:13:08.833Z"
   },
   {
    "duration": 414,
    "start_time": "2022-01-29T23:13:10.504Z"
   },
   {
    "duration": 3,
    "start_time": "2022-01-29T23:13:52.073Z"
   },
   {
    "duration": 487,
    "start_time": "2022-01-29T23:14:17.786Z"
   },
   {
    "duration": 207,
    "start_time": "2022-01-29T23:14:30.618Z"
   },
   {
    "duration": 3,
    "start_time": "2022-01-29T23:15:07.063Z"
   },
   {
    "duration": 4,
    "start_time": "2022-01-29T23:20:22.365Z"
   },
   {
    "duration": 191,
    "start_time": "2022-01-29T23:20:27.038Z"
   },
   {
    "duration": 199,
    "start_time": "2022-01-29T23:21:00.131Z"
   },
   {
    "duration": 247,
    "start_time": "2022-01-29T23:22:39.621Z"
   },
   {
    "duration": 3,
    "start_time": "2022-01-29T23:23:24.005Z"
   },
   {
    "duration": 285,
    "start_time": "2022-01-29T23:23:30.986Z"
   },
   {
    "duration": 3,
    "start_time": "2022-01-29T23:23:44.049Z"
   },
   {
    "duration": 3,
    "start_time": "2022-01-29T23:27:46.180Z"
   },
   {
    "duration": 10,
    "start_time": "2022-01-29T23:28:38.800Z"
   },
   {
    "duration": 7,
    "start_time": "2022-01-29T23:28:42.751Z"
   },
   {
    "duration": 7,
    "start_time": "2022-01-29T23:29:40.973Z"
   },
   {
    "duration": 3,
    "start_time": "2022-01-29T23:31:03.168Z"
   },
   {
    "duration": 12,
    "start_time": "2022-01-29T23:32:16.004Z"
   },
   {
    "duration": 4,
    "start_time": "2022-01-29T23:34:12.398Z"
   },
   {
    "duration": 85,
    "start_time": "2022-01-29T23:35:38.270Z"
   },
   {
    "duration": 12,
    "start_time": "2022-01-29T23:35:44.813Z"
   },
   {
    "duration": 4340,
    "start_time": "2022-01-29T23:36:09.437Z"
   },
   {
    "duration": 29,
    "start_time": "2022-01-29T23:36:28.140Z"
   },
   {
    "duration": 2,
    "start_time": "2022-01-29T23:36:46.451Z"
   },
   {
    "duration": 232,
    "start_time": "2022-01-29T23:36:48.076Z"
   },
   {
    "duration": 7,
    "start_time": "2022-01-29T23:36:50.445Z"
   },
   {
    "duration": 12,
    "start_time": "2022-01-29T23:36:52.828Z"
   },
   {
    "duration": 3,
    "start_time": "2022-01-29T23:36:57.005Z"
   },
   {
    "duration": 20,
    "start_time": "2022-01-29T23:36:58.358Z"
   },
   {
    "duration": 4,
    "start_time": "2022-01-29T23:37:00.124Z"
   },
   {
    "duration": 21,
    "start_time": "2022-01-29T23:37:01.804Z"
   },
   {
    "duration": 16,
    "start_time": "2022-01-29T23:37:03.452Z"
   },
   {
    "duration": 22,
    "start_time": "2022-01-29T23:37:04.603Z"
   },
   {
    "duration": 49,
    "start_time": "2022-01-29T23:37:06.109Z"
   },
   {
    "duration": 51,
    "start_time": "2022-01-29T23:37:07.229Z"
   },
   {
    "duration": 43,
    "start_time": "2022-01-29T23:37:08.365Z"
   },
   {
    "duration": 6,
    "start_time": "2022-01-29T23:37:10.632Z"
   },
   {
    "duration": 3,
    "start_time": "2022-01-29T23:37:21.351Z"
   },
   {
    "duration": 9,
    "start_time": "2022-01-29T23:37:23.853Z"
   },
   {
    "duration": 7,
    "start_time": "2022-01-29T23:37:25.340Z"
   },
   {
    "duration": 11,
    "start_time": "2022-01-29T23:37:37.118Z"
   },
   {
    "duration": 200,
    "start_time": "2022-01-29T23:40:11.437Z"
   },
   {
    "duration": 8,
    "start_time": "2022-01-29T23:41:00.235Z"
   },
   {
    "duration": 11,
    "start_time": "2022-01-29T23:41:13.789Z"
   },
   {
    "duration": 10,
    "start_time": "2022-01-29T23:44:49.551Z"
   },
   {
    "duration": 3,
    "start_time": "2022-01-29T23:55:09.928Z"
   },
   {
    "duration": 10,
    "start_time": "2022-01-30T00:11:15.940Z"
   },
   {
    "duration": 9,
    "start_time": "2022-01-30T00:11:33.726Z"
   },
   {
    "duration": 10,
    "start_time": "2022-01-30T00:12:21.118Z"
   },
   {
    "duration": 3,
    "start_time": "2022-01-30T00:13:47.761Z"
   },
   {
    "duration": 7,
    "start_time": "2022-01-30T00:14:18.097Z"
   },
   {
    "duration": 3,
    "start_time": "2022-01-30T00:14:21.777Z"
   },
   {
    "duration": 7,
    "start_time": "2022-01-30T00:14:23.900Z"
   },
   {
    "duration": 3,
    "start_time": "2022-01-30T00:14:36.588Z"
   },
   {
    "duration": 3,
    "start_time": "2022-01-30T00:15:22.139Z"
   },
   {
    "duration": 469,
    "start_time": "2022-01-30T00:15:24.079Z"
   },
   {
    "duration": 3,
    "start_time": "2022-01-30T00:15:30.064Z"
   },
   {
    "duration": 7,
    "start_time": "2022-01-30T00:15:31.902Z"
   },
   {
    "duration": 7,
    "start_time": "2022-01-30T00:15:52.033Z"
   },
   {
    "duration": 7,
    "start_time": "2022-01-30T00:16:17.027Z"
   },
   {
    "duration": 3,
    "start_time": "2022-01-30T00:20:52.077Z"
   },
   {
    "duration": 3,
    "start_time": "2022-01-30T00:26:51.851Z"
   },
   {
    "duration": 8,
    "start_time": "2022-01-30T00:26:54.055Z"
   },
   {
    "duration": 8,
    "start_time": "2022-01-30T00:29:13.541Z"
   },
   {
    "duration": 8,
    "start_time": "2022-01-30T00:30:29.765Z"
   },
   {
    "duration": 8,
    "start_time": "2022-01-30T00:30:32.629Z"
   },
   {
    "duration": 8,
    "start_time": "2022-01-30T00:30:35.064Z"
   },
   {
    "duration": 3,
    "start_time": "2022-01-30T00:30:37.027Z"
   },
   {
    "duration": 7,
    "start_time": "2022-01-30T00:30:38.294Z"
   },
   {
    "duration": 4,
    "start_time": "2022-01-30T00:31:12.710Z"
   },
   {
    "duration": 27,
    "start_time": "2022-01-30T00:31:14.996Z"
   },
   {
    "duration": 18,
    "start_time": "2022-01-30T00:31:17.365Z"
   },
   {
    "duration": 23,
    "start_time": "2022-01-30T00:31:20.052Z"
   },
   {
    "duration": 20,
    "start_time": "2022-01-30T00:31:21.918Z"
   },
   {
    "duration": 20,
    "start_time": "2022-01-30T00:31:24.168Z"
   },
   {
    "duration": 29,
    "start_time": "2022-01-30T01:36:06.278Z"
   },
   {
    "duration": 29,
    "start_time": "2022-01-30T01:36:11.302Z"
   },
   {
    "duration": 2,
    "start_time": "2022-01-30T04:16:03.136Z"
   },
   {
    "duration": 26,
    "start_time": "2022-01-30T04:19:27.661Z"
   },
   {
    "duration": 19,
    "start_time": "2022-01-30T04:19:29.966Z"
   },
   {
    "duration": 25,
    "start_time": "2022-01-30T04:19:39.037Z"
   },
   {
    "duration": 95,
    "start_time": "2022-01-30T04:30:15.099Z"
   },
   {
    "duration": 103,
    "start_time": "2022-01-30T04:30:23.193Z"
   },
   {
    "duration": 100,
    "start_time": "2022-01-30T04:32:39.257Z"
   },
   {
    "duration": 104,
    "start_time": "2022-01-30T04:33:01.424Z"
   },
   {
    "duration": 108,
    "start_time": "2022-01-30T04:45:41.205Z"
   },
   {
    "duration": 337,
    "start_time": "2022-01-30T17:43:35.649Z"
   },
   {
    "duration": 3,
    "start_time": "2022-01-30T17:44:01.269Z"
   },
   {
    "duration": 606,
    "start_time": "2022-01-30T17:44:04.238Z"
   },
   {
    "duration": 600,
    "start_time": "2022-01-30T17:44:08.319Z"
   },
   {
    "duration": 609,
    "start_time": "2022-01-30T17:44:14.735Z"
   },
   {
    "duration": 226,
    "start_time": "2022-01-30T17:44:15.391Z"
   },
   {
    "duration": 7,
    "start_time": "2022-01-30T17:44:16.223Z"
   },
   {
    "duration": 11,
    "start_time": "2022-01-30T17:44:17.022Z"
   },
   {
    "duration": 3,
    "start_time": "2022-01-30T17:44:19.704Z"
   },
   {
    "duration": 16,
    "start_time": "2022-01-30T17:44:20.685Z"
   },
   {
    "duration": 4,
    "start_time": "2022-01-30T17:44:21.126Z"
   },
   {
    "duration": 22,
    "start_time": "2022-01-30T17:44:21.808Z"
   },
   {
    "duration": 16,
    "start_time": "2022-01-30T17:44:22.622Z"
   },
   {
    "duration": 22,
    "start_time": "2022-01-30T17:44:23.182Z"
   },
   {
    "duration": 47,
    "start_time": "2022-01-30T17:44:24.433Z"
   },
   {
    "duration": 51,
    "start_time": "2022-01-30T17:44:25.614Z"
   },
   {
    "duration": 44,
    "start_time": "2022-01-30T17:44:26.223Z"
   },
   {
    "duration": 7,
    "start_time": "2022-01-30T17:44:28.499Z"
   },
   {
    "duration": 3,
    "start_time": "2022-01-30T17:44:31.997Z"
   },
   {
    "duration": 9,
    "start_time": "2022-01-30T17:44:32.317Z"
   },
   {
    "duration": 6,
    "start_time": "2022-01-30T17:44:32.654Z"
   },
   {
    "duration": 10,
    "start_time": "2022-01-30T17:44:38.782Z"
   },
   {
    "duration": 10,
    "start_time": "2022-01-30T17:44:41.319Z"
   },
   {
    "duration": 3,
    "start_time": "2022-01-30T17:44:44.431Z"
   },
   {
    "duration": 14,
    "start_time": "2022-01-30T17:44:46.350Z"
   },
   {
    "duration": 12,
    "start_time": "2022-01-30T17:44:51.983Z"
   },
   {
    "duration": 13,
    "start_time": "2022-01-30T17:44:52.851Z"
   },
   {
    "duration": 13,
    "start_time": "2022-01-30T17:44:53.770Z"
   },
   {
    "duration": 14,
    "start_time": "2022-01-30T17:44:55.171Z"
   },
   {
    "duration": 13,
    "start_time": "2022-01-30T17:44:56.061Z"
   },
   {
    "duration": 7,
    "start_time": "2022-01-30T18:02:49.951Z"
   },
   {
    "duration": 345,
    "start_time": "2022-01-30T18:05:20.171Z"
   },
   {
    "duration": 318,
    "start_time": "2022-01-30T18:05:22.506Z"
   },
   {
    "duration": 58,
    "start_time": "2022-01-30T18:05:38.246Z"
   },
   {
    "duration": 443,
    "start_time": "2022-01-30T18:23:57.335Z"
   },
   {
    "duration": 55,
    "start_time": "2022-01-30T18:24:03.344Z"
   },
   {
    "duration": 61,
    "start_time": "2022-01-30T18:24:10.253Z"
   },
   {
    "duration": 60,
    "start_time": "2022-01-30T18:24:25.876Z"
   },
   {
    "duration": 56,
    "start_time": "2022-01-30T18:24:44.513Z"
   },
   {
    "duration": 57,
    "start_time": "2022-01-30T18:29:24.815Z"
   },
   {
    "duration": 54,
    "start_time": "2022-01-30T18:29:42.380Z"
   },
   {
    "duration": 68,
    "start_time": "2022-01-30T18:31:56.570Z"
   },
   {
    "duration": 1175,
    "start_time": "2022-01-31T17:29:38.363Z"
   },
   {
    "duration": 610,
    "start_time": "2022-01-31T17:29:50.057Z"
   },
   {
    "duration": 241,
    "start_time": "2022-01-31T17:29:50.669Z"
   },
   {
    "duration": 8,
    "start_time": "2022-01-31T17:29:50.997Z"
   },
   {
    "duration": 11,
    "start_time": "2022-01-31T17:29:51.521Z"
   },
   {
    "duration": 4,
    "start_time": "2022-01-31T17:29:52.539Z"
   },
   {
    "duration": 17,
    "start_time": "2022-01-31T17:29:52.990Z"
   },
   {
    "duration": 3,
    "start_time": "2022-01-31T17:29:53.423Z"
   },
   {
    "duration": 20,
    "start_time": "2022-01-31T17:29:54.005Z"
   },
   {
    "duration": 15,
    "start_time": "2022-01-31T17:29:54.625Z"
   },
   {
    "duration": 21,
    "start_time": "2022-01-31T17:29:54.946Z"
   },
   {
    "duration": 46,
    "start_time": "2022-01-31T17:29:55.563Z"
   },
   {
    "duration": 54,
    "start_time": "2022-01-31T17:29:56.082Z"
   },
   {
    "duration": 45,
    "start_time": "2022-01-31T17:29:56.431Z"
   },
   {
    "duration": 6,
    "start_time": "2022-01-31T17:29:57.038Z"
   },
   {
    "duration": 3,
    "start_time": "2022-01-31T17:29:58.191Z"
   },
   {
    "duration": 10,
    "start_time": "2022-01-31T17:29:58.590Z"
   },
   {
    "duration": 7,
    "start_time": "2022-01-31T17:29:59.070Z"
   },
   {
    "duration": 11,
    "start_time": "2022-01-31T17:30:02.085Z"
   },
   {
    "duration": 10,
    "start_time": "2022-01-31T17:30:02.736Z"
   },
   {
    "duration": 3,
    "start_time": "2022-01-31T17:30:03.375Z"
   },
   {
    "duration": 16,
    "start_time": "2022-01-31T17:30:04.606Z"
   },
   {
    "duration": 14,
    "start_time": "2022-01-31T17:30:05.215Z"
   },
   {
    "duration": 14,
    "start_time": "2022-01-31T17:30:08.160Z"
   },
   {
    "duration": 12,
    "start_time": "2022-01-31T17:30:08.415Z"
   },
   {
    "duration": 15,
    "start_time": "2022-01-31T17:30:08.621Z"
   },
   {
    "duration": 13,
    "start_time": "2022-01-31T17:30:08.816Z"
   },
   {
    "duration": 61,
    "start_time": "2022-01-31T17:30:09.728Z"
   },
   {
    "duration": 343,
    "start_time": "2022-01-31T17:30:14.980Z"
   },
   {
    "duration": 12,
    "start_time": "2022-01-31T17:30:24.000Z"
   },
   {
    "duration": 21,
    "start_time": "2022-01-31T17:30:53.237Z"
   },
   {
    "duration": 8,
    "start_time": "2022-01-31T17:50:40.216Z"
   },
   {
    "duration": 9,
    "start_time": "2022-01-31T17:50:43.128Z"
   },
   {
    "duration": 11,
    "start_time": "2022-01-31T17:50:56.037Z"
   },
   {
    "duration": 20,
    "start_time": "2022-01-31T17:51:06.183Z"
   },
   {
    "duration": 20,
    "start_time": "2022-01-31T17:51:12.806Z"
   },
   {
    "duration": 9,
    "start_time": "2022-01-31T17:51:17.703Z"
   },
   {
    "duration": 10,
    "start_time": "2022-01-31T17:51:21.607Z"
   },
   {
    "duration": 13,
    "start_time": "2022-01-31T17:53:01.741Z"
   },
   {
    "duration": 11,
    "start_time": "2022-01-31T17:53:04.564Z"
   },
   {
    "duration": 107,
    "start_time": "2022-01-31T17:58:24.220Z"
   },
   {
    "duration": 104,
    "start_time": "2022-01-31T17:58:30.868Z"
   },
   {
    "duration": 4,
    "start_time": "2022-01-31T18:04:31.493Z"
   },
   {
    "duration": 13,
    "start_time": "2022-01-31T18:06:03.469Z"
   },
   {
    "duration": 17,
    "start_time": "2022-01-31T18:06:12.512Z"
   },
   {
    "duration": 16,
    "start_time": "2022-01-31T18:16:38.904Z"
   },
   {
    "duration": 12,
    "start_time": "2022-01-31T18:17:04.426Z"
   },
   {
    "duration": 17,
    "start_time": "2022-01-31T18:18:19.503Z"
   },
   {
    "duration": 12,
    "start_time": "2022-01-31T18:19:09.087Z"
   },
   {
    "duration": 18,
    "start_time": "2022-02-01T02:45:31.018Z"
   },
   {
    "duration": 10,
    "start_time": "2022-02-01T02:45:32.951Z"
   },
   {
    "duration": 3,
    "start_time": "2022-02-01T02:45:34.964Z"
   },
   {
    "duration": 18,
    "start_time": "2022-02-01T02:45:37.027Z"
   },
   {
    "duration": 12,
    "start_time": "2022-02-01T02:45:40.751Z"
   },
   {
    "duration": 18,
    "start_time": "2022-02-01T02:45:42.906Z"
   },
   {
    "duration": 11,
    "start_time": "2022-02-01T02:45:45.204Z"
   },
   {
    "duration": 25,
    "start_time": "2022-02-01T02:45:56.553Z"
   },
   {
    "duration": 21,
    "start_time": "2022-02-01T02:46:12.697Z"
   },
   {
    "duration": 24,
    "start_time": "2022-02-01T02:46:40.580Z"
   },
   {
    "duration": 19,
    "start_time": "2022-02-01T02:46:43.317Z"
   },
   {
    "duration": 10,
    "start_time": "2022-02-01T02:46:58.501Z"
   },
   {
    "duration": 16,
    "start_time": "2022-02-01T02:47:01.879Z"
   },
   {
    "duration": 10,
    "start_time": "2022-02-01T02:47:04.804Z"
   },
   {
    "duration": 3,
    "start_time": "2022-02-01T02:47:06.513Z"
   },
   {
    "duration": 17,
    "start_time": "2022-02-01T02:47:08.643Z"
   },
   {
    "duration": 12,
    "start_time": "2022-02-01T02:47:11.188Z"
   },
   {
    "duration": 17,
    "start_time": "2022-02-01T02:47:13.130Z"
   },
   {
    "duration": 12,
    "start_time": "2022-02-01T02:47:15.797Z"
   },
   {
    "duration": 59,
    "start_time": "2022-02-01T15:14:20.391Z"
   },
   {
    "duration": 17,
    "start_time": "2022-02-01T15:14:23.163Z"
   },
   {
    "duration": 11,
    "start_time": "2022-02-01T15:14:24.205Z"
   },
   {
    "duration": 4,
    "start_time": "2022-02-01T15:14:26.204Z"
   },
   {
    "duration": 3,
    "start_time": "2022-02-01T15:15:00.623Z"
   },
   {
    "duration": 57,
    "start_time": "2022-02-01T15:20:20.038Z"
   },
   {
    "duration": 55,
    "start_time": "2022-02-01T15:21:04.970Z"
   },
   {
    "duration": 327,
    "start_time": "2022-02-01T15:25:11.421Z"
   },
   {
    "duration": 13,
    "start_time": "2022-02-01T15:25:29.350Z"
   },
   {
    "duration": 11,
    "start_time": "2022-02-01T15:25:30.808Z"
   },
   {
    "duration": 305,
    "start_time": "2022-02-01T15:25:37.753Z"
   },
   {
    "duration": 8,
    "start_time": "2022-02-01T15:25:54.337Z"
   },
   {
    "duration": 326,
    "start_time": "2022-02-01T15:26:10.555Z"
   },
   {
    "duration": 10,
    "start_time": "2022-02-01T15:26:46.781Z"
   },
   {
    "duration": 10,
    "start_time": "2022-02-01T15:27:05.686Z"
   },
   {
    "duration": 16,
    "start_time": "2022-02-01T15:27:16.464Z"
   },
   {
    "duration": 9,
    "start_time": "2022-02-01T15:27:24.912Z"
   },
   {
    "duration": 7,
    "start_time": "2022-02-01T15:28:04.951Z"
   },
   {
    "duration": 4,
    "start_time": "2022-02-01T15:28:17.766Z"
   },
   {
    "duration": 7,
    "start_time": "2022-02-01T15:29:36.342Z"
   },
   {
    "duration": 6,
    "start_time": "2022-02-01T15:29:48.211Z"
   },
   {
    "duration": 3,
    "start_time": "2022-02-01T15:30:03.750Z"
   },
   {
    "duration": 12,
    "start_time": "2022-02-01T15:30:16.091Z"
   },
   {
    "duration": 10,
    "start_time": "2022-02-01T15:30:17.842Z"
   },
   {
    "duration": 58,
    "start_time": "2022-02-01T15:30:19.273Z"
   },
   {
    "duration": 3,
    "start_time": "2022-02-01T15:30:21.741Z"
   },
   {
    "duration": 3,
    "start_time": "2022-02-01T15:31:30.268Z"
   },
   {
    "duration": 14,
    "start_time": "2022-02-01T15:31:38.823Z"
   },
   {
    "duration": 12,
    "start_time": "2022-02-01T15:31:42.948Z"
   },
   {
    "duration": 12,
    "start_time": "2022-02-01T15:31:43.215Z"
   },
   {
    "duration": 13,
    "start_time": "2022-02-01T15:31:43.431Z"
   },
   {
    "duration": 14,
    "start_time": "2022-02-01T15:31:43.611Z"
   },
   {
    "duration": 14,
    "start_time": "2022-02-01T15:31:43.924Z"
   },
   {
    "duration": 57,
    "start_time": "2022-02-01T15:35:03.029Z"
   },
   {
    "duration": 62,
    "start_time": "2022-02-01T15:35:56.076Z"
   },
   {
    "duration": 82,
    "start_time": "2022-02-01T15:36:41.573Z"
   },
   {
    "duration": 1193,
    "start_time": "2022-02-02T10:36:13.152Z"
   },
   {
    "duration": 333,
    "start_time": "2022-02-02T10:36:14.348Z"
   },
   {
    "duration": 10,
    "start_time": "2022-02-02T10:36:14.683Z"
   },
   {
    "duration": 35,
    "start_time": "2022-02-02T10:36:14.696Z"
   },
   {
    "duration": 9,
    "start_time": "2022-02-02T10:36:14.733Z"
   },
   {
    "duration": 24,
    "start_time": "2022-02-02T10:36:14.744Z"
   },
   {
    "duration": 5,
    "start_time": "2022-02-02T10:36:14.771Z"
   },
   {
    "duration": 67,
    "start_time": "2022-02-02T10:36:14.780Z"
   },
   {
    "duration": 20,
    "start_time": "2022-02-02T10:36:14.850Z"
   },
   {
    "duration": 51,
    "start_time": "2022-02-02T10:36:14.873Z"
   },
   {
    "duration": 75,
    "start_time": "2022-02-02T10:36:14.927Z"
   },
   {
    "duration": 84,
    "start_time": "2022-02-02T10:36:15.023Z"
   },
   {
    "duration": 81,
    "start_time": "2022-02-02T10:36:15.109Z"
   },
   {
    "duration": 10,
    "start_time": "2022-02-02T10:36:15.192Z"
   },
   {
    "duration": 4,
    "start_time": "2022-02-02T10:36:15.224Z"
   },
   {
    "duration": 17,
    "start_time": "2022-02-02T10:36:15.231Z"
   },
   {
    "duration": 10,
    "start_time": "2022-02-02T10:36:15.250Z"
   },
   {
    "duration": 14,
    "start_time": "2022-02-02T10:36:15.263Z"
   },
   {
    "duration": 46,
    "start_time": "2022-02-02T10:36:15.280Z"
   },
   {
    "duration": 5,
    "start_time": "2022-02-02T10:36:15.328Z"
   },
   {
    "duration": 25,
    "start_time": "2022-02-02T10:36:15.335Z"
   },
   {
    "duration": 17,
    "start_time": "2022-02-02T10:36:15.362Z"
   },
   {
    "duration": 51,
    "start_time": "2022-02-02T10:36:15.384Z"
   },
   {
    "duration": 18,
    "start_time": "2022-02-02T10:36:15.438Z"
   },
   {
    "duration": 18,
    "start_time": "2022-02-02T10:36:15.458Z"
   },
   {
    "duration": 45,
    "start_time": "2022-02-02T10:36:15.479Z"
   },
   {
    "duration": 105,
    "start_time": "2022-02-02T10:36:15.526Z"
   },
   {
    "duration": 20,
    "start_time": "2022-02-02T10:36:15.633Z"
   },
   {
    "duration": 15,
    "start_time": "2022-02-02T10:36:15.655Z"
   },
   {
    "duration": 7,
    "start_time": "2022-02-02T10:36:15.673Z"
   },
   {
    "duration": 62,
    "start_time": "2022-02-02T10:36:15.683Z"
   },
   {
    "duration": 17,
    "start_time": "2022-02-02T10:36:15.748Z"
   },
   {
    "duration": 57,
    "start_time": "2022-02-02T10:36:15.768Z"
   },
   {
    "duration": 22,
    "start_time": "2022-02-02T10:36:15.827Z"
   },
   {
    "duration": 9,
    "start_time": "2022-02-02T10:36:15.852Z"
   },
   {
    "duration": 5,
    "start_time": "2022-02-02T10:36:15.863Z"
   },
   {
    "duration": 12,
    "start_time": "2022-02-02T10:36:15.870Z"
   },
   {
    "duration": 4,
    "start_time": "2022-02-02T10:36:15.924Z"
   },
   {
    "duration": 753,
    "start_time": "2022-02-02T19:41:11.369Z"
   },
   {
    "duration": 3,
    "start_time": "2022-02-02T19:42:03.246Z"
   },
   {
    "duration": 261,
    "start_time": "2022-02-02T19:42:05.704Z"
   },
   {
    "duration": 11,
    "start_time": "2022-02-02T19:42:09.037Z"
   },
   {
    "duration": 12,
    "start_time": "2022-02-02T19:42:11.918Z"
   },
   {
    "duration": 5,
    "start_time": "2022-02-02T19:42:14.831Z"
   },
   {
    "duration": 4,
    "start_time": "2022-02-02T19:42:16.189Z"
   },
   {
    "duration": 19,
    "start_time": "2022-02-02T19:42:17.164Z"
   },
   {
    "duration": 4,
    "start_time": "2022-02-02T19:42:18.790Z"
   },
   {
    "duration": 24,
    "start_time": "2022-02-02T19:42:20.668Z"
   },
   {
    "duration": 17,
    "start_time": "2022-02-02T19:42:22.701Z"
   },
   {
    "duration": 22,
    "start_time": "2022-02-02T19:42:24.411Z"
   },
   {
    "duration": 51,
    "start_time": "2022-02-02T19:42:25.822Z"
   },
   {
    "duration": 59,
    "start_time": "2022-02-02T19:42:26.831Z"
   },
   {
    "duration": 49,
    "start_time": "2022-02-02T19:42:27.964Z"
   },
   {
    "duration": 8,
    "start_time": "2022-02-02T19:42:29.250Z"
   },
   {
    "duration": 3,
    "start_time": "2022-02-02T19:42:31.633Z"
   },
   {
    "duration": 10,
    "start_time": "2022-02-02T19:42:33.148Z"
   },
   {
    "duration": 7,
    "start_time": "2022-02-02T19:42:34.142Z"
   },
   {
    "duration": 12,
    "start_time": "2022-02-02T19:42:37.123Z"
   },
   {
    "duration": 12,
    "start_time": "2022-02-02T19:42:38.381Z"
   },
   {
    "duration": 78,
    "start_time": "2022-02-02T19:42:59.281Z"
   },
   {
    "duration": 81,
    "start_time": "2022-02-02T19:44:44.304Z"
   },
   {
    "duration": 91,
    "start_time": "2022-02-02T19:45:08.753Z"
   },
   {
    "duration": 4,
    "start_time": "2022-02-02T19:47:41.328Z"
   },
   {
    "duration": 4,
    "start_time": "2022-02-02T19:47:45.807Z"
   },
   {
    "duration": 4,
    "start_time": "2022-02-02T19:48:44.792Z"
   },
   {
    "duration": 4,
    "start_time": "2022-02-02T19:49:02.683Z"
   },
   {
    "duration": 3,
    "start_time": "2022-02-02T19:49:37.213Z"
   },
   {
    "duration": 83,
    "start_time": "2022-02-02T19:50:50.217Z"
   },
   {
    "duration": 4,
    "start_time": "2022-02-02T19:51:00.415Z"
   },
   {
    "duration": 4,
    "start_time": "2022-02-02T19:55:24.864Z"
   },
   {
    "duration": 4,
    "start_time": "2022-02-02T19:55:35.849Z"
   },
   {
    "duration": 4,
    "start_time": "2022-02-02T20:03:58.259Z"
   },
   {
    "duration": 17,
    "start_time": "2022-02-02T20:04:01.669Z"
   },
   {
    "duration": 17,
    "start_time": "2022-02-02T20:04:02.691Z"
   }
  ],
  "colab": {
   "collapsed_sections": [
    "E0vqbgi9ay0H",
    "VUC88oWjTJw2",
    "atZAxtq4_Zcu"
   ],
   "name": "EmptyFinalProject.ipynb\"",
   "provenance": []
  },
  "kernelspec": {
   "display_name": "Python 3",
   "language": "python",
   "name": "python3"
  },
  "language_info": {
   "codemirror_mode": {
    "name": "ipython",
    "version": 3
   },
   "file_extension": ".py",
   "mimetype": "text/x-python",
   "name": "python",
   "nbconvert_exporter": "python",
   "pygments_lexer": "ipython3",
   "version": "3.7.8"
  },
  "toc": {
   "base_numbering": 1,
   "nav_menu": {},
   "number_sections": true,
   "sideBar": true,
   "skip_h1_title": true,
   "title_cell": "Table of Contents",
   "title_sidebar": "Contents",
   "toc_cell": false,
   "toc_position": {},
   "toc_section_display": true,
   "toc_window_display": false
  }
 },
 "nbformat": 4,
 "nbformat_minor": 4
}
