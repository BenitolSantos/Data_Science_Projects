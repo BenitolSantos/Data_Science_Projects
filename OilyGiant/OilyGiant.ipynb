{
 "cells": [
  {
   "cell_type": "markdown",
   "metadata": {},
   "source": [
    "# OilyGiant"
   ]
  },
  {
   "cell_type": "markdown",
   "metadata": {},
   "source": [
    "Project description\n",
    "You work for the OilyGiant mining company. Your task is to find the best place for a new well.\n",
    "Steps to choose the location:\n",
    "Collect the oil well parameters in the selected region: oil quality and volume of reserves;\n",
    "Build a model for predicting the volume of reserves in the new wells;\n",
    "Pick the oil wells with the highest estimated values;\n",
    "Pick the region with the highest total profit for the selected oil wells.\n",
    "You have data on oil samples from three regions. Parameters of each oil well in the region are already known. Build a model that will help to pick the region with the highest profit margin. Analyze potential profit and risks using the Bootstrapping technique."
   ]
  },
  {
   "cell_type": "markdown",
   "metadata": {},
   "source": [
    "Data description\n",
    "Geological exploration data for the three regions are stored in files:\n",
    "geo_data_0.csv. download dataset\n",
    "geo_data_1.csv. download dataset\n",
    "geo_data_2.csv. download dataset\n",
    "id — unique oil well identifier\n",
    "f0, f1, f2 — three features of points (their specific meaning is unimportant, but the features themselves are significant)\n",
    "product — volume of reserves in the oil well (thousand barrels)."
   ]
  },
  {
   "cell_type": "markdown",
   "metadata": {},
   "source": [
    "Conditions:\n",
    "Only linear regression is suitable for model training (the rest are not sufficiently predictable).\n",
    "When exploring the region, a study of 500 points is carried with picking the best 200 points for the profit calculation.\n",
    "The budget for development of 200 oil wells is 100 USD million.\n",
    "One barrel of raw materials brings 4.5 USD of revenue The revenue from one unit of product is 4,500 dollars (volume of reserves is in thousand barrels).\n",
    "After the risk evaluation, keep only the regions with the risk of losses lower than 2.5%. From the ones that fit the criteria, the region with the highest average profit should be selected.\n",
    "The data is synthetic: contract details and well characteristics are not disclosed."
   ]
  },
  {
   "cell_type": "markdown",
   "metadata": {},
   "source": [
    "[We've provided you with some commentary to guide your thinking as you complete this project. However, make sure to remove all the bracketed comments before submitting your project.]\n",
    "\n",
    "[Before you dive into analyzing your data, explain for yourself the purpose of the project and actions you plan to take.]\n",
    "\n",
    "[Please bear in mind that studying, amending, and analyzing data is an iterative process. It is normal to return to previous steps and correct/expand them to allow for further steps.]"
   ]
  },
  {
   "cell_type": "markdown",
   "metadata": {},
   "source": [
    "## Download and prepare the data. Explain the procedure."
   ]
  },
  {
   "cell_type": "markdown",
   "metadata": {},
   "source": [
    "### Initialization"
   ]
  },
  {
   "cell_type": "code",
   "execution_count": 27,
   "metadata": {},
   "outputs": [],
   "source": [
    "# Loading all the libraries\n",
    "import pandas as pd\n",
    "from sklearn.linear_model import LinearRegression #All that is needed\n",
    "import matplotlib.pyplot as plt\n",
    "from sklearn.metrics import accuracy_score\n",
    "import numpy as np\n",
    "from scipy import stats as st\n",
    "\n",
    "from sklearn.model_selection import train_test_split #split into training,validation, and testing\n",
    "\n",
    "from sklearn.dummy import DummyClassifier\n",
    "from sklearn.preprocessing import OrdinalEncoder\n",
    "\n",
    "from sklearn.metrics import mean_squared_error #Only needed for regression\n",
    "from sklearn.preprocessing import StandardScaler #For Scaling and Balancing\n",
    "from sklearn.metrics import confusion_matrix #For False/True Postive and Negative Testing\n",
    "\n",
    "from sklearn.metrics import precision_score #more metrics for balance\n",
    "from sklearn.metrics import recall_score\n",
    "from sklearn.metrics import f1_score\n",
    "\n",
    "from sklearn.utils import shuffle #shuffling for upsampling\n",
    "from sklearn.metrics import roc_auc_score #TPR (True Positve Rate) vs FPR (False Positive Rate)\n",
    "from sklearn.metrics import precision_recall_curve \n",
    "from sklearn.metrics import precision_recall_curve #to graph precision and recall and f1\n",
    "from matplotlib import pyplot as plt\n",
    "from math import factorial #for probabilities"
   ]
  },
  {
   "cell_type": "code",
   "execution_count": 28,
   "metadata": {},
   "outputs": [],
   "source": [
    "try:\n",
    "    region_1 = pd.read_csv(\"C:/Users/Lorenzo Santos/OneDrive/Documents/geo_data_0.csv\")\n",
    "    region_2 = pd.read_csv(\"C:/Users/Lorenzo Santos/OneDrive/Documents/geo_data_1.csv\")\n",
    "    region_3 = pd.read_csv(\"C:/Users/Lorenzo Santos/OneDrive/Documents/geo_data_2.csv\")\n",
    "except:\n",
    "    region_1 = pd.read_csv(\"/datasets/geo_data_0.csv\")\n",
    "    region_2 = pd.read_csv(\"/datasets/geo_data_1.csv\")\n",
    "    region_3 = pd.read_csv(\"/datasets/geo_data_2.csv\")"
   ]
  },
  {
   "cell_type": "markdown",
   "metadata": {},
   "source": [
    "### Preparation"
   ]
  },
  {
   "cell_type": "markdown",
   "metadata": {},
   "source": [
    "[Explore the table to get an initial understanding of the data. Do necessary corrections to the table if necessary.]"
   ]
  },
  {
   "cell_type": "code",
   "execution_count": 29,
   "metadata": {},
   "outputs": [
    {
     "data": {
      "text/html": [
       "<div>\n",
       "<style scoped>\n",
       "    .dataframe tbody tr th:only-of-type {\n",
       "        vertical-align: middle;\n",
       "    }\n",
       "\n",
       "    .dataframe tbody tr th {\n",
       "        vertical-align: top;\n",
       "    }\n",
       "\n",
       "    .dataframe thead th {\n",
       "        text-align: right;\n",
       "    }\n",
       "</style>\n",
       "<table border=\"1\" class=\"dataframe\">\n",
       "  <thead>\n",
       "    <tr style=\"text-align: right;\">\n",
       "      <th></th>\n",
       "      <th>id</th>\n",
       "      <th>f0</th>\n",
       "      <th>f1</th>\n",
       "      <th>f2</th>\n",
       "      <th>product</th>\n",
       "    </tr>\n",
       "  </thead>\n",
       "  <tbody>\n",
       "    <tr>\n",
       "      <th>0</th>\n",
       "      <td>txEyH</td>\n",
       "      <td>0.705745</td>\n",
       "      <td>-0.497823</td>\n",
       "      <td>1.221170</td>\n",
       "      <td>105.280062</td>\n",
       "    </tr>\n",
       "    <tr>\n",
       "      <th>1</th>\n",
       "      <td>2acmU</td>\n",
       "      <td>1.334711</td>\n",
       "      <td>-0.340164</td>\n",
       "      <td>4.365080</td>\n",
       "      <td>73.037750</td>\n",
       "    </tr>\n",
       "    <tr>\n",
       "      <th>2</th>\n",
       "      <td>409Wp</td>\n",
       "      <td>1.022732</td>\n",
       "      <td>0.151990</td>\n",
       "      <td>1.419926</td>\n",
       "      <td>85.265647</td>\n",
       "    </tr>\n",
       "    <tr>\n",
       "      <th>3</th>\n",
       "      <td>iJLyR</td>\n",
       "      <td>-0.032172</td>\n",
       "      <td>0.139033</td>\n",
       "      <td>2.978566</td>\n",
       "      <td>168.620776</td>\n",
       "    </tr>\n",
       "    <tr>\n",
       "      <th>4</th>\n",
       "      <td>Xdl7t</td>\n",
       "      <td>1.988431</td>\n",
       "      <td>0.155413</td>\n",
       "      <td>4.751769</td>\n",
       "      <td>154.036647</td>\n",
       "    </tr>\n",
       "    <tr>\n",
       "      <th>...</th>\n",
       "      <td>...</td>\n",
       "      <td>...</td>\n",
       "      <td>...</td>\n",
       "      <td>...</td>\n",
       "      <td>...</td>\n",
       "    </tr>\n",
       "    <tr>\n",
       "      <th>99995</th>\n",
       "      <td>DLsed</td>\n",
       "      <td>0.971957</td>\n",
       "      <td>0.370953</td>\n",
       "      <td>6.075346</td>\n",
       "      <td>110.744026</td>\n",
       "    </tr>\n",
       "    <tr>\n",
       "      <th>99996</th>\n",
       "      <td>QKivN</td>\n",
       "      <td>1.392429</td>\n",
       "      <td>-0.382606</td>\n",
       "      <td>1.273912</td>\n",
       "      <td>122.346843</td>\n",
       "    </tr>\n",
       "    <tr>\n",
       "      <th>99997</th>\n",
       "      <td>3rnvd</td>\n",
       "      <td>1.029585</td>\n",
       "      <td>0.018787</td>\n",
       "      <td>-1.348308</td>\n",
       "      <td>64.375443</td>\n",
       "    </tr>\n",
       "    <tr>\n",
       "      <th>99998</th>\n",
       "      <td>7kl59</td>\n",
       "      <td>0.998163</td>\n",
       "      <td>-0.528582</td>\n",
       "      <td>1.583869</td>\n",
       "      <td>74.040764</td>\n",
       "    </tr>\n",
       "    <tr>\n",
       "      <th>99999</th>\n",
       "      <td>1CWhH</td>\n",
       "      <td>1.764754</td>\n",
       "      <td>-0.266417</td>\n",
       "      <td>5.722849</td>\n",
       "      <td>149.633246</td>\n",
       "    </tr>\n",
       "  </tbody>\n",
       "</table>\n",
       "<p>100000 rows × 5 columns</p>\n",
       "</div>"
      ],
      "text/plain": [
       "          id        f0        f1        f2     product\n",
       "0      txEyH  0.705745 -0.497823  1.221170  105.280062\n",
       "1      2acmU  1.334711 -0.340164  4.365080   73.037750\n",
       "2      409Wp  1.022732  0.151990  1.419926   85.265647\n",
       "3      iJLyR -0.032172  0.139033  2.978566  168.620776\n",
       "4      Xdl7t  1.988431  0.155413  4.751769  154.036647\n",
       "...      ...       ...       ...       ...         ...\n",
       "99995  DLsed  0.971957  0.370953  6.075346  110.744026\n",
       "99996  QKivN  1.392429 -0.382606  1.273912  122.346843\n",
       "99997  3rnvd  1.029585  0.018787 -1.348308   64.375443\n",
       "99998  7kl59  0.998163 -0.528582  1.583869   74.040764\n",
       "99999  1CWhH  1.764754 -0.266417  5.722849  149.633246\n",
       "\n",
       "[100000 rows x 5 columns]"
      ]
     },
     "execution_count": 29,
     "metadata": {},
     "output_type": "execute_result"
    }
   ],
   "source": [
    "region_1"
   ]
  },
  {
   "cell_type": "code",
   "execution_count": 30,
   "metadata": {},
   "outputs": [
    {
     "data": {
      "text/html": [
       "<div>\n",
       "<style scoped>\n",
       "    .dataframe tbody tr th:only-of-type {\n",
       "        vertical-align: middle;\n",
       "    }\n",
       "\n",
       "    .dataframe tbody tr th {\n",
       "        vertical-align: top;\n",
       "    }\n",
       "\n",
       "    .dataframe thead th {\n",
       "        text-align: right;\n",
       "    }\n",
       "</style>\n",
       "<table border=\"1\" class=\"dataframe\">\n",
       "  <thead>\n",
       "    <tr style=\"text-align: right;\">\n",
       "      <th></th>\n",
       "      <th>id</th>\n",
       "      <th>f0</th>\n",
       "      <th>f1</th>\n",
       "      <th>f2</th>\n",
       "      <th>product</th>\n",
       "    </tr>\n",
       "  </thead>\n",
       "  <tbody>\n",
       "    <tr>\n",
       "      <th>0</th>\n",
       "      <td>kBEdx</td>\n",
       "      <td>-15.001348</td>\n",
       "      <td>-8.276000</td>\n",
       "      <td>-0.005876</td>\n",
       "      <td>3.179103</td>\n",
       "    </tr>\n",
       "    <tr>\n",
       "      <th>1</th>\n",
       "      <td>62mP7</td>\n",
       "      <td>14.272088</td>\n",
       "      <td>-3.475083</td>\n",
       "      <td>0.999183</td>\n",
       "      <td>26.953261</td>\n",
       "    </tr>\n",
       "    <tr>\n",
       "      <th>2</th>\n",
       "      <td>vyE1P</td>\n",
       "      <td>6.263187</td>\n",
       "      <td>-5.948386</td>\n",
       "      <td>5.001160</td>\n",
       "      <td>134.766305</td>\n",
       "    </tr>\n",
       "    <tr>\n",
       "      <th>3</th>\n",
       "      <td>KcrkZ</td>\n",
       "      <td>-13.081196</td>\n",
       "      <td>-11.506057</td>\n",
       "      <td>4.999415</td>\n",
       "      <td>137.945408</td>\n",
       "    </tr>\n",
       "    <tr>\n",
       "      <th>4</th>\n",
       "      <td>AHL4O</td>\n",
       "      <td>12.702195</td>\n",
       "      <td>-8.147433</td>\n",
       "      <td>5.004363</td>\n",
       "      <td>134.766305</td>\n",
       "    </tr>\n",
       "    <tr>\n",
       "      <th>...</th>\n",
       "      <td>...</td>\n",
       "      <td>...</td>\n",
       "      <td>...</td>\n",
       "      <td>...</td>\n",
       "      <td>...</td>\n",
       "    </tr>\n",
       "    <tr>\n",
       "      <th>99995</th>\n",
       "      <td>QywKC</td>\n",
       "      <td>9.535637</td>\n",
       "      <td>-6.878139</td>\n",
       "      <td>1.998296</td>\n",
       "      <td>53.906522</td>\n",
       "    </tr>\n",
       "    <tr>\n",
       "      <th>99996</th>\n",
       "      <td>ptvty</td>\n",
       "      <td>-10.160631</td>\n",
       "      <td>-12.558096</td>\n",
       "      <td>5.005581</td>\n",
       "      <td>137.945408</td>\n",
       "    </tr>\n",
       "    <tr>\n",
       "      <th>99997</th>\n",
       "      <td>09gWa</td>\n",
       "      <td>-7.378891</td>\n",
       "      <td>-3.084104</td>\n",
       "      <td>4.998651</td>\n",
       "      <td>137.945408</td>\n",
       "    </tr>\n",
       "    <tr>\n",
       "      <th>99998</th>\n",
       "      <td>rqwUm</td>\n",
       "      <td>0.665714</td>\n",
       "      <td>-6.152593</td>\n",
       "      <td>1.000146</td>\n",
       "      <td>30.132364</td>\n",
       "    </tr>\n",
       "    <tr>\n",
       "      <th>99999</th>\n",
       "      <td>relB0</td>\n",
       "      <td>-3.426139</td>\n",
       "      <td>-7.794274</td>\n",
       "      <td>-0.003299</td>\n",
       "      <td>3.179103</td>\n",
       "    </tr>\n",
       "  </tbody>\n",
       "</table>\n",
       "<p>100000 rows × 5 columns</p>\n",
       "</div>"
      ],
      "text/plain": [
       "          id         f0         f1        f2     product\n",
       "0      kBEdx -15.001348  -8.276000 -0.005876    3.179103\n",
       "1      62mP7  14.272088  -3.475083  0.999183   26.953261\n",
       "2      vyE1P   6.263187  -5.948386  5.001160  134.766305\n",
       "3      KcrkZ -13.081196 -11.506057  4.999415  137.945408\n",
       "4      AHL4O  12.702195  -8.147433  5.004363  134.766305\n",
       "...      ...        ...        ...       ...         ...\n",
       "99995  QywKC   9.535637  -6.878139  1.998296   53.906522\n",
       "99996  ptvty -10.160631 -12.558096  5.005581  137.945408\n",
       "99997  09gWa  -7.378891  -3.084104  4.998651  137.945408\n",
       "99998  rqwUm   0.665714  -6.152593  1.000146   30.132364\n",
       "99999  relB0  -3.426139  -7.794274 -0.003299    3.179103\n",
       "\n",
       "[100000 rows x 5 columns]"
      ]
     },
     "execution_count": 30,
     "metadata": {},
     "output_type": "execute_result"
    }
   ],
   "source": [
    "region_2"
   ]
  },
  {
   "cell_type": "code",
   "execution_count": 31,
   "metadata": {},
   "outputs": [
    {
     "data": {
      "text/html": [
       "<div>\n",
       "<style scoped>\n",
       "    .dataframe tbody tr th:only-of-type {\n",
       "        vertical-align: middle;\n",
       "    }\n",
       "\n",
       "    .dataframe tbody tr th {\n",
       "        vertical-align: top;\n",
       "    }\n",
       "\n",
       "    .dataframe thead th {\n",
       "        text-align: right;\n",
       "    }\n",
       "</style>\n",
       "<table border=\"1\" class=\"dataframe\">\n",
       "  <thead>\n",
       "    <tr style=\"text-align: right;\">\n",
       "      <th></th>\n",
       "      <th>id</th>\n",
       "      <th>f0</th>\n",
       "      <th>f1</th>\n",
       "      <th>f2</th>\n",
       "      <th>product</th>\n",
       "    </tr>\n",
       "  </thead>\n",
       "  <tbody>\n",
       "    <tr>\n",
       "      <th>0</th>\n",
       "      <td>fwXo0</td>\n",
       "      <td>-1.146987</td>\n",
       "      <td>0.963328</td>\n",
       "      <td>-0.828965</td>\n",
       "      <td>27.758673</td>\n",
       "    </tr>\n",
       "    <tr>\n",
       "      <th>1</th>\n",
       "      <td>WJtFt</td>\n",
       "      <td>0.262778</td>\n",
       "      <td>0.269839</td>\n",
       "      <td>-2.530187</td>\n",
       "      <td>56.069697</td>\n",
       "    </tr>\n",
       "    <tr>\n",
       "      <th>2</th>\n",
       "      <td>ovLUW</td>\n",
       "      <td>0.194587</td>\n",
       "      <td>0.289035</td>\n",
       "      <td>-5.586433</td>\n",
       "      <td>62.871910</td>\n",
       "    </tr>\n",
       "    <tr>\n",
       "      <th>3</th>\n",
       "      <td>q6cA6</td>\n",
       "      <td>2.236060</td>\n",
       "      <td>-0.553760</td>\n",
       "      <td>0.930038</td>\n",
       "      <td>114.572842</td>\n",
       "    </tr>\n",
       "    <tr>\n",
       "      <th>4</th>\n",
       "      <td>WPMUX</td>\n",
       "      <td>-0.515993</td>\n",
       "      <td>1.716266</td>\n",
       "      <td>5.899011</td>\n",
       "      <td>149.600746</td>\n",
       "    </tr>\n",
       "    <tr>\n",
       "      <th>...</th>\n",
       "      <td>...</td>\n",
       "      <td>...</td>\n",
       "      <td>...</td>\n",
       "      <td>...</td>\n",
       "      <td>...</td>\n",
       "    </tr>\n",
       "    <tr>\n",
       "      <th>99995</th>\n",
       "      <td>4GxBu</td>\n",
       "      <td>-1.777037</td>\n",
       "      <td>1.125220</td>\n",
       "      <td>6.263374</td>\n",
       "      <td>172.327046</td>\n",
       "    </tr>\n",
       "    <tr>\n",
       "      <th>99996</th>\n",
       "      <td>YKFjq</td>\n",
       "      <td>-1.261523</td>\n",
       "      <td>-0.894828</td>\n",
       "      <td>2.524545</td>\n",
       "      <td>138.748846</td>\n",
       "    </tr>\n",
       "    <tr>\n",
       "      <th>99997</th>\n",
       "      <td>tKPY3</td>\n",
       "      <td>-1.199934</td>\n",
       "      <td>-2.957637</td>\n",
       "      <td>5.219411</td>\n",
       "      <td>157.080080</td>\n",
       "    </tr>\n",
       "    <tr>\n",
       "      <th>99998</th>\n",
       "      <td>nmxp2</td>\n",
       "      <td>-2.419896</td>\n",
       "      <td>2.417221</td>\n",
       "      <td>-5.548444</td>\n",
       "      <td>51.795253</td>\n",
       "    </tr>\n",
       "    <tr>\n",
       "      <th>99999</th>\n",
       "      <td>V9kWn</td>\n",
       "      <td>-2.551421</td>\n",
       "      <td>-2.025625</td>\n",
       "      <td>6.090891</td>\n",
       "      <td>102.775767</td>\n",
       "    </tr>\n",
       "  </tbody>\n",
       "</table>\n",
       "<p>100000 rows × 5 columns</p>\n",
       "</div>"
      ],
      "text/plain": [
       "          id        f0        f1        f2     product\n",
       "0      fwXo0 -1.146987  0.963328 -0.828965   27.758673\n",
       "1      WJtFt  0.262778  0.269839 -2.530187   56.069697\n",
       "2      ovLUW  0.194587  0.289035 -5.586433   62.871910\n",
       "3      q6cA6  2.236060 -0.553760  0.930038  114.572842\n",
       "4      WPMUX -0.515993  1.716266  5.899011  149.600746\n",
       "...      ...       ...       ...       ...         ...\n",
       "99995  4GxBu -1.777037  1.125220  6.263374  172.327046\n",
       "99996  YKFjq -1.261523 -0.894828  2.524545  138.748846\n",
       "99997  tKPY3 -1.199934 -2.957637  5.219411  157.080080\n",
       "99998  nmxp2 -2.419896  2.417221 -5.548444   51.795253\n",
       "99999  V9kWn -2.551421 -2.025625  6.090891  102.775767\n",
       "\n",
       "[100000 rows x 5 columns]"
      ]
     },
     "execution_count": 31,
     "metadata": {},
     "output_type": "execute_result"
    }
   ],
   "source": [
    "region_3"
   ]
  },
  {
   "cell_type": "markdown",
   "metadata": {},
   "source": [
    "### Prepare the data"
   ]
  },
  {
   "cell_type": "markdown",
   "metadata": {},
   "source": [
    "[Explore the table to get an initial understanding of the data. Do necessary corrections to the table if necessary.]"
   ]
  },
  {
   "cell_type": "code",
   "execution_count": 32,
   "metadata": {},
   "outputs": [
    {
     "name": "stdout",
     "output_type": "stream",
     "text": [
      "<class 'pandas.core.frame.DataFrame'>\n",
      "RangeIndex: 100000 entries, 0 to 99999\n",
      "Data columns (total 5 columns):\n",
      " #   Column   Non-Null Count   Dtype  \n",
      "---  ------   --------------   -----  \n",
      " 0   id       100000 non-null  object \n",
      " 1   f0       100000 non-null  float64\n",
      " 2   f1       100000 non-null  float64\n",
      " 3   f2       100000 non-null  float64\n",
      " 4   product  100000 non-null  float64\n",
      "dtypes: float64(4), object(1)\n",
      "memory usage: 3.8+ MB\n"
     ]
    }
   ],
   "source": [
    "region_1.info()"
   ]
  },
  {
   "cell_type": "code",
   "execution_count": 33,
   "metadata": {},
   "outputs": [
    {
     "name": "stdout",
     "output_type": "stream",
     "text": [
      "<class 'pandas.core.frame.DataFrame'>\n",
      "RangeIndex: 100000 entries, 0 to 99999\n",
      "Data columns (total 5 columns):\n",
      " #   Column   Non-Null Count   Dtype  \n",
      "---  ------   --------------   -----  \n",
      " 0   id       100000 non-null  object \n",
      " 1   f0       100000 non-null  float64\n",
      " 2   f1       100000 non-null  float64\n",
      " 3   f2       100000 non-null  float64\n",
      " 4   product  100000 non-null  float64\n",
      "dtypes: float64(4), object(1)\n",
      "memory usage: 3.8+ MB\n"
     ]
    }
   ],
   "source": [
    "region_2.info()"
   ]
  },
  {
   "cell_type": "code",
   "execution_count": 34,
   "metadata": {},
   "outputs": [
    {
     "name": "stdout",
     "output_type": "stream",
     "text": [
      "<class 'pandas.core.frame.DataFrame'>\n",
      "RangeIndex: 100000 entries, 0 to 99999\n",
      "Data columns (total 5 columns):\n",
      " #   Column   Non-Null Count   Dtype  \n",
      "---  ------   --------------   -----  \n",
      " 0   id       100000 non-null  object \n",
      " 1   f0       100000 non-null  float64\n",
      " 2   f1       100000 non-null  float64\n",
      " 3   f2       100000 non-null  float64\n",
      " 4   product  100000 non-null  float64\n",
      "dtypes: float64(4), object(1)\n",
      "memory usage: 3.8+ MB\n"
     ]
    }
   ],
   "source": [
    "region_3.info()"
   ]
  },
  {
   "cell_type": "markdown",
   "metadata": {},
   "source": [
    "### FIX DATA"
   ]
  },
  {
   "cell_type": "markdown",
   "metadata": {},
   "source": [
    "[Add additional factors to the data if you believe they might be useful.]\n",
    "\n",
    "No NANs seen so far."
   ]
  },
  {
   "cell_type": "code",
   "execution_count": 35,
   "metadata": {},
   "outputs": [
    {
     "data": {
      "text/html": [
       "<div>\n",
       "<style scoped>\n",
       "    .dataframe tbody tr th:only-of-type {\n",
       "        vertical-align: middle;\n",
       "    }\n",
       "\n",
       "    .dataframe tbody tr th {\n",
       "        vertical-align: top;\n",
       "    }\n",
       "\n",
       "    .dataframe thead th {\n",
       "        text-align: right;\n",
       "    }\n",
       "</style>\n",
       "<table border=\"1\" class=\"dataframe\">\n",
       "  <thead>\n",
       "    <tr style=\"text-align: right;\">\n",
       "      <th></th>\n",
       "      <th>id</th>\n",
       "      <th>f0</th>\n",
       "      <th>f1</th>\n",
       "      <th>f2</th>\n",
       "      <th>product</th>\n",
       "    </tr>\n",
       "  </thead>\n",
       "  <tbody>\n",
       "  </tbody>\n",
       "</table>\n",
       "</div>"
      ],
      "text/plain": [
       "Empty DataFrame\n",
       "Columns: [id, f0, f1, f2, product]\n",
       "Index: []"
      ]
     },
     "execution_count": 35,
     "metadata": {},
     "output_type": "execute_result"
    }
   ],
   "source": [
    "region_1[region_1.duplicated() == True]"
   ]
  },
  {
   "cell_type": "code",
   "execution_count": 36,
   "metadata": {},
   "outputs": [
    {
     "data": {
      "text/html": [
       "<div>\n",
       "<style scoped>\n",
       "    .dataframe tbody tr th:only-of-type {\n",
       "        vertical-align: middle;\n",
       "    }\n",
       "\n",
       "    .dataframe tbody tr th {\n",
       "        vertical-align: top;\n",
       "    }\n",
       "\n",
       "    .dataframe thead th {\n",
       "        text-align: right;\n",
       "    }\n",
       "</style>\n",
       "<table border=\"1\" class=\"dataframe\">\n",
       "  <thead>\n",
       "    <tr style=\"text-align: right;\">\n",
       "      <th></th>\n",
       "      <th>id</th>\n",
       "      <th>f0</th>\n",
       "      <th>f1</th>\n",
       "      <th>f2</th>\n",
       "      <th>product</th>\n",
       "    </tr>\n",
       "  </thead>\n",
       "  <tbody>\n",
       "  </tbody>\n",
       "</table>\n",
       "</div>"
      ],
      "text/plain": [
       "Empty DataFrame\n",
       "Columns: [id, f0, f1, f2, product]\n",
       "Index: []"
      ]
     },
     "execution_count": 36,
     "metadata": {},
     "output_type": "execute_result"
    }
   ],
   "source": [
    "region_2[region_2.duplicated() == True]"
   ]
  },
  {
   "cell_type": "code",
   "execution_count": 37,
   "metadata": {},
   "outputs": [
    {
     "data": {
      "text/html": [
       "<div>\n",
       "<style scoped>\n",
       "    .dataframe tbody tr th:only-of-type {\n",
       "        vertical-align: middle;\n",
       "    }\n",
       "\n",
       "    .dataframe tbody tr th {\n",
       "        vertical-align: top;\n",
       "    }\n",
       "\n",
       "    .dataframe thead th {\n",
       "        text-align: right;\n",
       "    }\n",
       "</style>\n",
       "<table border=\"1\" class=\"dataframe\">\n",
       "  <thead>\n",
       "    <tr style=\"text-align: right;\">\n",
       "      <th></th>\n",
       "      <th>id</th>\n",
       "      <th>f0</th>\n",
       "      <th>f1</th>\n",
       "      <th>f2</th>\n",
       "      <th>product</th>\n",
       "    </tr>\n",
       "  </thead>\n",
       "  <tbody>\n",
       "  </tbody>\n",
       "</table>\n",
       "</div>"
      ],
      "text/plain": [
       "Empty DataFrame\n",
       "Columns: [id, f0, f1, f2, product]\n",
       "Index: []"
      ]
     },
     "execution_count": 37,
     "metadata": {},
     "output_type": "execute_result"
    }
   ],
   "source": [
    "region_3[region_3.duplicated() == True]"
   ]
  },
  {
   "cell_type": "markdown",
   "metadata": {},
   "source": [
    "None needed."
   ]
  },
  {
   "cell_type": "markdown",
   "metadata": {},
   "source": [
    "### ENRICH DATA"
   ]
  },
  {
   "cell_type": "markdown",
   "metadata": {},
   "source": [
    "[Add additional factors to the data if you believe they might be useful.]\n",
    "\n",
    "We need to scale and encode it or we'll get a value error. We're trying to get categorical features into numerical features.\n",
    " We could improve product by labeling to make calculations easier."
   ]
  },
  {
   "cell_type": "code",
   "execution_count": 38,
   "metadata": {},
   "outputs": [],
   "source": [
    "#We don't need id\n",
    "region_1 = region_1.drop('id', axis=1)\n",
    "region_2 = region_2.drop('id', axis=1)\n",
    "region_3 = region_3.drop('id', axis=1)\n",
    "\n",
    "region_1.columns = ['f0','f1','f2','thousand_barrels']\n",
    "region_2.columns = ['f0','f1','f2','thousand_barrels']\n",
    "region_3.columns = ['f0','f1','f2','thousand_barrels']\n",
    "\n",
    "#There are no categorical features though, so nothing needs to be encoded (OHE)\n",
    "\n"
   ]
  },
  {
   "cell_type": "markdown",
   "metadata": {},
   "source": [
    "## Train and test the model for each region:"
   ]
  },
  {
   "cell_type": "markdown",
   "metadata": {},
   "source": [
    "### Split the data into a training set and validation set at a ratio of 75:25.\n"
   ]
  },
  {
   "cell_type": "code",
   "execution_count": 39,
   "metadata": {},
   "outputs": [],
   "source": [
    "features_1 = region_1.drop('thousand_barrels',axis=1)\n",
    "target_1 = region_1['thousand_barrels']\n",
    "features_2 = region_2.drop('thousand_barrels',axis=1)\n",
    "target_2 = region_2['thousand_barrels']\n",
    "features_3 = region_3.drop('thousand_barrels',axis=1)\n",
    "target_3 = region_3['thousand_barrels']"
   ]
  },
  {
   "cell_type": "code",
   "execution_count": 40,
   "metadata": {},
   "outputs": [],
   "source": [
    "features_train_1,features_valid_1, target_train_1, target_valid_1 = train_test_split(features_1,target_1,test_size=0.25,random_state=12345)\n",
    "features_train_2,features_valid_2, target_train_2, target_valid_2 = train_test_split(features_2,target_2,test_size=0.25,random_state=12345)\n",
    "features_train_3,features_valid_3, target_train_3, target_valid_3 = train_test_split(features_3,target_3,test_size=0.25,random_state=12345)\n",
    "\n",
    "#numeric = ['f0','f1','f2']\n",
    "\n",
    "#StandardScaler doesn't work with linear regression.\n",
    "\n",
    "#scaler = StandardScaler()\n",
    "#features_train_0[numeric] = scaler.fit(features_train_0[numeric])\n",
    "#features_train_1[numeric] = scaler.fit(features_train_1[numeric])\n",
    "#features_train_2[numeric] = scaler.fit(features_train_2[numeric])\n",
    "#features_valid_0[numeric] = scaler.fit(features_valid_0[numeric])\n",
    "#features_valid_1[numeric] = scaler.fit(features_valid_1[numeric])\n",
    "#features_valid_2[numeric] = scaler.fit(features_valid_2[numeric])\n",
    "\n",
    "#Red text removal\n",
    "pd.options.mode.chained_assignment = None"
   ]
  },
  {
   "cell_type": "markdown",
   "metadata": {},
   "source": [
    "### Train the model and make predictions for the validation set."
   ]
  },
  {
   "cell_type": "code",
   "execution_count": 41,
   "metadata": {},
   "outputs": [
    {
     "name": "stdout",
     "output_type": "stream",
     "text": [
      "trained\n"
     ]
    }
   ],
   "source": [
    "#Condition: Only linear regression is suitable for model training (the rest are not sufficiently predictable).\n",
    "model_1 = LinearRegression() #No class_weight or random_state parameter needed.\n",
    "model_1.fit(features_train_1,target_train_1)\n",
    "predictions_valid_1 = model_1.predict(features_valid_1)\n",
    "model_2 = LinearRegression()\n",
    "model_2.fit(features_train_2,target_train_2)\n",
    "predictions_valid_2 = model_2.predict(features_valid_2)\n",
    "model_3 = LinearRegression()\n",
    "model_3.fit(features_train_3,target_train_3)\n",
    "predictions_valid_3 = model_3.predict(features_valid_3)\n",
    "print('trained')"
   ]
  },
  {
   "cell_type": "markdown",
   "metadata": {},
   "source": [
    "### Save the predictions and correct answers for the validation set."
   ]
  },
  {
   "cell_type": "code",
   "execution_count": 42,
   "metadata": {},
   "outputs": [
    {
     "name": "stdout",
     "output_type": "stream",
     "text": [
      "model_1,region_1\n",
      "mse 1412.2129364399243\n",
      "model_2,region_2\n",
      "mse 0.7976263360391157\n",
      "model_3,region_3\n",
      "mse 1602.3775813236196\n"
     ]
    }
   ],
   "source": [
    "mse_1 = mean_squared_error(target_valid_1, predictions_valid_1)\n",
    "mse_2 = mean_squared_error(target_valid_2, predictions_valid_2)\n",
    "mse_3 = mean_squared_error(target_valid_3, predictions_valid_3)\n",
    "#The observation error shows the extent of the discrepancy between the correct answer and the prediction. If the error is much greater than zero, the model has overpriced the apartment; if the error is much less than zero, then the model underpriced it.\n",
    "print('model_1,region_1')\n",
    "print('mse',mse_1)\n",
    "print('model_2,region_2')\n",
    "print('mse',mse_2)\n",
    "print('model_3,region_3')\n",
    "print('mse',mse_3)"
   ]
  },
  {
   "cell_type": "markdown",
   "metadata": {},
   "source": [
    "Good mse(mean squared error) on model_2, close to 0."
   ]
  },
  {
   "cell_type": "markdown",
   "metadata": {},
   "source": [
    "### Print the average volume of predicted reserves and model RMSE"
   ]
  },
  {
   "cell_type": "code",
   "execution_count": 43,
   "metadata": {
    "scrolled": false
   },
   "outputs": [
    {
     "name": "stdout",
     "output_type": "stream",
     "text": [
      "region_1\n",
      "rmse 37.5794217150813\n",
      "avg 92.59256778438035\n",
      "region_2\n",
      "rsme 0.893099286775617\n",
      "avg 68.728546895446\n",
      "region_3\n",
      "rmse 40.02970873393434\n",
      "avg 94.96504596800489\n"
     ]
    }
   ],
   "source": [
    "rmse_1 = mse_1 ** 0.5 \n",
    "rmse_2 = mse_2 ** 0.5\n",
    "rmse_3 = mse_3 ** 0.5\n",
    "\n",
    "#https://practicum.com/trainer/data-scientist/lesson/faedca40-cb8f-40a7-909b-34ecac64ca0e/task/2082f70f-98eb-48c6-8912-29007c777d86/\n",
    "#Remember, \n",
    "print('region_1')\n",
    "print('rmse',rmse_1) \n",
    "print('avg',predictions_valid_1.mean())\n",
    "\n",
    "print('region_2')\n",
    "print('rsme',rmse_2)\n",
    "print('avg',predictions_valid_2.mean())\n",
    "\n",
    "print('region_3')\n",
    "print('rmse',rmse_3)\n",
    "print('avg',predictions_valid_3.mean())"
   ]
  },
  {
   "cell_type": "markdown",
   "metadata": {},
   "source": [
    "Reserves of region has the best average volume but high rmse (Root Mean Squared Error), the average may be lower on region_2, but it has a better model rmse (close to zero)."
   ]
  },
  {
   "cell_type": "markdown",
   "metadata": {},
   "source": [
    "## Prepare for profit calculation:"
   ]
  },
  {
   "cell_type": "markdown",
   "metadata": {},
   "source": [
    "### Store all key values for calculations in separate variables."
   ]
  },
  {
   "cell_type": "code",
   "execution_count": 44,
   "metadata": {},
   "outputs": [],
   "source": [
    "rmse_1 = mse_1 ** 0.5 \n",
    "rmse_2 = mse_2 ** 0.5\n",
    "rmse_3 = mse_3 ** 0.5\n",
    "tar_avg_1 = target_valid_1.mean()\n",
    "tar_avg_2 = target_valid_2.mean()\n",
    "tar_avg_3 = target_valid_3.mean()\n",
    "tar_sum_1 = target_valid_1.sum()\n",
    "tar_sum_2 = target_valid_2.sum()\n",
    "tar_sum_3 = target_valid_3.sum()\n",
    "pred_avg_1 = predictions_valid_1.mean()\n",
    "pred_avg_2 = predictions_valid_2.mean()\n",
    "pred_avg_3 = predictions_valid_3.mean()\n",
    "pred_sum_1 = predictions_valid_1.sum()\n",
    "pred_sum_2 = predictions_valid_2.sum()\n",
    "pred_sum_3 = predictions_valid_3.sum()"
   ]
  },
  {
   "cell_type": "markdown",
   "metadata": {},
   "source": [
    "### Calculate the volume of reserves sufficient for developing a new well without losses. Compare the obtained value with the average volume of reserves in each region.\n"
   ]
  },
  {
   "cell_type": "code",
   "execution_count": 45,
   "metadata": {},
   "outputs": [
    {
     "name": "stdout",
     "output_type": "stream",
     "text": [
      "100 million dollars divided by 200 wells means one well is 0.5 mil or 500.0 thousand\n",
      "500 thousand divided by 4500 is 111.11111111111111 volume\n",
      "\n",
      "We need past 111 thousand barrels.\n",
      "region_1\n",
      "avg volume 92.07859674082927\n",
      "region_2\n",
      "avg volume 68.72313602435997\n",
      "region_3\n",
      "avg volume 94.88423280885438\n"
     ]
    }
   ],
   "source": [
    "#Conditions:\n",
    "#Only linear regression is suitable for model training (the rest are not sufficiently predictable).\n",
    "#When exploring the region, a study of 500 points is carried with picking the best 200 points for the profit calculation.\n",
    "#The budget for development of 200 oil wells is 100 USD million.\n",
    "#One barrel of raw materials brings 4.5 USD of revenue The revenue from one unit of product is 4,500 dollars (volume of reserves is in thousand barrels).\n",
    "#After the risk evaluation, keep only the regions with the risk of losses lower than 2.5%. From the ones that fit the criteria, the region with the highest average profit should be selected.\n",
    "#The data is synthetic: contract details and well characteristics are not disclosed.\n",
    "\n",
    "print(f'{100} million dollars divided by {200} wells means one well is {100/200} mil or {(100/200) * 1000} thousand')\n",
    "print(f'500 thousand divided by 4500 is {500/4.5} volume')\n",
    "print()\n",
    "print('We need past 111 thousand barrels.')\n",
    "\n",
    "print('region_1')\n",
    "print('avg volume',tar_avg_1)\n",
    "print('region_2')\n",
    "print('avg volume',tar_avg_2)\n",
    "print('region_3')\n",
    "print('avg volume',tar_avg_3)\n",
    "\n",
    "\n",
    "\n"
   ]
  },
  {
   "cell_type": "markdown",
   "metadata": {},
   "source": [
    "We need past 111 thousand barrels per well without loss."
   ]
  },
  {
   "cell_type": "markdown",
   "metadata": {},
   "source": [
    "### Provide the findings about the preparation for profit calculation step."
   ]
  },
  {
   "cell_type": "markdown",
   "metadata": {},
   "source": [
    "region_3 has the best avg revenue per well, and average volume per well, and best predictions. But still isn't enough on average to keep creating wells."
   ]
  },
  {
   "cell_type": "markdown",
   "metadata": {},
   "source": [
    "\n",
    "\n",
    "## Write a function to calculate profit from a set of selected oil wells and model predictions:"
   ]
  },
  {
   "cell_type": "markdown",
   "metadata": {},
   "source": [
    "### Pick the wells with the highest values of predictions."
   ]
  },
  {
   "cell_type": "code",
   "execution_count": 46,
   "metadata": {},
   "outputs": [
    {
     "name": "stdout",
     "output_type": "stream",
     "text": [
      "region 1\n",
      "total volume 2314814.194609509\n",
      "avg well 92.59256778438035\n",
      "region 2\n",
      "total volume 1718213.67238615\n",
      "avg well 68.728546895446\n",
      "region 3\n",
      "total volume 2374126.1492001223\n",
      "avg well 94.96504596800489\n"
     ]
    }
   ],
   "source": [
    "print('region 1')\n",
    "print('total volume',pred_sum_1)\n",
    "print('avg well',pred_avg_1)\n",
    "print('region 2')\n",
    "print('total volume',pred_sum_2)\n",
    "print('avg well',pred_avg_2)\n",
    "print('region 3')\n",
    "print('total volume',pred_sum_3)\n",
    "print('avg well',pred_avg_3)\n"
   ]
  },
  {
   "cell_type": "markdown",
   "metadata": {},
   "source": [
    "Region 3 has the highest total volume and mean."
   ]
  },
  {
   "cell_type": "markdown",
   "metadata": {},
   "source": [
    "### Summarize the target volume of reserves in accordance with these predictions"
   ]
  },
  {
   "cell_type": "code",
   "execution_count": 47,
   "metadata": {},
   "outputs": [
    {
     "name": "stdout",
     "output_type": "stream",
     "text": [
      "region 1\n",
      "total volume 2301964.918520732\n",
      "total prediction volume 2314814.194609509\n",
      "region 2\n",
      "total volume 1718078.4006089992\n",
      "total prediction volume 1718213.67238615\n",
      "region 3\n",
      "total volume 2372105.8202213594\n",
      "total prediction volume 2374126.1492001223\n"
     ]
    }
   ],
   "source": [
    "print('region 1')\n",
    "print('total volume',tar_sum_1)\n",
    "print('total prediction volume',pred_sum_1)\n",
    "print('region 2')\n",
    "print('total volume',tar_sum_2)\n",
    "print('total prediction volume',pred_sum_2)\n",
    "print('region 3')\n",
    "print('total volume',tar_sum_3)\n",
    "print('total prediction volume',pred_sum_3)"
   ]
  },
  {
   "cell_type": "markdown",
   "metadata": {},
   "source": [
    "Region 3 has the highest volume."
   ]
  },
  {
   "cell_type": "markdown",
   "metadata": {},
   "source": [
    "### Provide findings: suggest a region for oil wells' development and justify the choice. Calculate the profit for the obtained volume of reserves."
   ]
  },
  {
   "cell_type": "code",
   "execution_count": 48,
   "metadata": {},
   "outputs": [
    {
     "data": {
      "text/plain": [
       "71751     10.038645\n",
       "80493    114.551489\n",
       "2655     132.603635\n",
       "53233    169.072125\n",
       "91141    122.325180\n",
       "            ...    \n",
       "12581    170.116726\n",
       "18456     93.632175\n",
       "73035    127.352259\n",
       "63834     99.782700\n",
       "43558    177.821022\n",
       "Name: thousand_barrels, Length: 25000, dtype: float64"
      ]
     },
     "execution_count": 48,
     "metadata": {},
     "output_type": "execute_result"
    }
   ],
   "source": [
    "target_valid_1"
   ]
  },
  {
   "cell_type": "code",
   "execution_count": 49,
   "metadata": {},
   "outputs": [
    {
     "data": {
      "text/plain": [
       "array([ 95.89495185,  77.57258261,  77.89263965, ...,  61.50983303,\n",
       "       118.18039721, 118.16939229])"
      ]
     },
     "execution_count": 49,
     "metadata": {},
     "output_type": "execute_result"
    }
   ],
   "source": [
    "predictions_valid_1"
   ]
  },
  {
   "cell_type": "code",
   "execution_count": 50,
   "metadata": {},
   "outputs": [
    {
     "data": {
      "text/html": [
       "<div>\n",
       "<style scoped>\n",
       "    .dataframe tbody tr th:only-of-type {\n",
       "        vertical-align: middle;\n",
       "    }\n",
       "\n",
       "    .dataframe tbody tr th {\n",
       "        vertical-align: top;\n",
       "    }\n",
       "\n",
       "    .dataframe thead th {\n",
       "        text-align: right;\n",
       "    }\n",
       "</style>\n",
       "<table border=\"1\" class=\"dataframe\">\n",
       "  <thead>\n",
       "    <tr style=\"text-align: right;\">\n",
       "      <th></th>\n",
       "      <th>thousand_barrels</th>\n",
       "      <th>0</th>\n",
       "    </tr>\n",
       "  </thead>\n",
       "  <tbody>\n",
       "    <tr>\n",
       "      <th>0</th>\n",
       "      <td>10.038645</td>\n",
       "      <td>95.894952</td>\n",
       "    </tr>\n",
       "    <tr>\n",
       "      <th>1</th>\n",
       "      <td>114.551489</td>\n",
       "      <td>77.572583</td>\n",
       "    </tr>\n",
       "    <tr>\n",
       "      <th>2</th>\n",
       "      <td>132.603635</td>\n",
       "      <td>77.892640</td>\n",
       "    </tr>\n",
       "    <tr>\n",
       "      <th>3</th>\n",
       "      <td>169.072125</td>\n",
       "      <td>90.175134</td>\n",
       "    </tr>\n",
       "    <tr>\n",
       "      <th>4</th>\n",
       "      <td>122.325180</td>\n",
       "      <td>70.510088</td>\n",
       "    </tr>\n",
       "    <tr>\n",
       "      <th>...</th>\n",
       "      <td>...</td>\n",
       "      <td>...</td>\n",
       "    </tr>\n",
       "    <tr>\n",
       "      <th>24995</th>\n",
       "      <td>170.116726</td>\n",
       "      <td>103.037104</td>\n",
       "    </tr>\n",
       "    <tr>\n",
       "      <th>24996</th>\n",
       "      <td>93.632175</td>\n",
       "      <td>85.403255</td>\n",
       "    </tr>\n",
       "    <tr>\n",
       "      <th>24997</th>\n",
       "      <td>127.352259</td>\n",
       "      <td>61.509833</td>\n",
       "    </tr>\n",
       "    <tr>\n",
       "      <th>24998</th>\n",
       "      <td>99.782700</td>\n",
       "      <td>118.180397</td>\n",
       "    </tr>\n",
       "    <tr>\n",
       "      <th>24999</th>\n",
       "      <td>177.821022</td>\n",
       "      <td>118.169392</td>\n",
       "    </tr>\n",
       "  </tbody>\n",
       "</table>\n",
       "<p>25000 rows × 2 columns</p>\n",
       "</div>"
      ],
      "text/plain": [
       "       thousand_barrels           0\n",
       "0             10.038645   95.894952\n",
       "1            114.551489   77.572583\n",
       "2            132.603635   77.892640\n",
       "3            169.072125   90.175134\n",
       "4            122.325180   70.510088\n",
       "...                 ...         ...\n",
       "24995        170.116726  103.037104\n",
       "24996         93.632175   85.403255\n",
       "24997        127.352259   61.509833\n",
       "24998         99.782700  118.180397\n",
       "24999        177.821022  118.169392\n",
       "\n",
       "[25000 rows x 2 columns]"
      ]
     },
     "execution_count": 50,
     "metadata": {},
     "output_type": "execute_result"
    }
   ],
   "source": [
    "pd.concat([target_valid_1.reset_index(drop=True), pd.Series(predictions_valid_1)], axis=1)"
   ]
  },
  {
   "cell_type": "code",
   "execution_count": 51,
   "metadata": {},
   "outputs": [
    {
     "name": "stdout",
     "output_type": "stream",
     "text": [
      "33208260.43139851\n",
      "24150866.966815084\n",
      "27103499.63599831\n"
     ]
    }
   ],
   "source": [
    "#https://pastebin.com/uh7ncRQZ Old code to show thought process\n",
    "\n",
    "\n",
    "\n",
    "#The budget for development of 200 oil wells is 100 USD million.\n",
    "#One barrel of raw materials brings 4.5 USD of revenue The revenue from one unit of product is 4,500 dollars (volume of reserves is in thousand barrels).\n",
    "\n",
    "#500.0 thousand per well.\n",
    "\n",
    "#a function with a signature like def profit(target, predictions), and it should do the following:\n",
    "\n",
    "#Sort the wells by prediction and select top 200\n",
    "#Find the corresponding targets to these 200 wells\n",
    "#Calculate profit from these 200 wells using target product values (remember that profit = revenue - cost)\n",
    "\n",
    "\n",
    "#concat to combine, get rid of NANs, sum both and subtract cost\n",
    "#remember concatenation or .join won't work unless you reset index and drop original index.\n",
    "\n",
    "#profit is only based on what is actually contained in the wells (i.e. targets)\n",
    "#remember that the cost is 100000000 (100 million), not 1000000 (1 million)\n",
    "#Sum of (200 wells * Volume * $4500 each well) - (100 million)\n",
    "\n",
    "\n",
    "\n",
    "def profit(target,predictions):\n",
    "    predictions = pd.Series(predictions).reset_index(drop=True)\n",
    "    target = pd.Series(target).reset_index(drop=True)\n",
    "    matching = pd.concat([predictions, target], axis=1) \n",
    "    matching.columns = ['predictions','target']\n",
    "    matching = matching.sort_values(by='predictions',ascending=False)\n",
    "    matching = matching.head(200)\n",
    "    matching['profit'] = matching['target'] * 4500\n",
    "    return matching['profit'].sum() - 100000000\n",
    "\n",
    "#In summary, we're sorting targets by highest predictions and multiplying that by profit per well then subtracting 100 mil.\n",
    "\n",
    "region_1_profit = profit(target_valid_1,predictions_valid_1)\n",
    "region_2_profit = profit(target_valid_2,predictions_valid_2)\n",
    "region_3_profit = profit(target_valid_3,predictions_valid_3)\n",
    "    \n",
    "print(region_1_profit)\n",
    "print(region_2_profit)\n",
    "print(region_3_profit)"
   ]
  },
  {
   "cell_type": "markdown",
   "metadata": {},
   "source": [
    "The profit is the highest in region 1."
   ]
  },
  {
   "cell_type": "markdown",
   "metadata": {},
   "source": []
  },
  {
   "cell_type": "markdown",
   "metadata": {},
   "source": [
    "## Calculate risks and profit for each region:"
   ]
  },
  {
   "cell_type": "markdown",
   "metadata": {},
   "source": [
    "### Use the bootstrapping technique with 1000 samples to find the distribution of profit.\n"
   ]
  },
  {
   "cell_type": "code",
   "execution_count": 52,
   "metadata": {},
   "outputs": [],
   "source": [
    "#A confidence interval is a segment of the number axis, which the population parameter of interest falls into with a predetermined probability. If the value falls into the range from 300 to 500 with 99% probability, then the 99-percent confidence interval for this value is (300, 500).\n",
    "#https://pastebin.com/Rjw3VaEy #we actually need to keep the duplicates (that's kind of the point of bootstrapping).\n",
    "#https://pastebin.com/fGDjxU3U #notes + extra code to make sure it's running properly.\n",
    "#https://pastebin.com/HERt718U #Profit function is backwards \n",
    "\n",
    "#Using the Bootstrapping technique, find 90% confidence interval for 99% quantile. Save its lowest value to the lower variable, and the highest value to the upper variable. Print them (in precode).\n",
    "\n",
    "region_1_values = []\n",
    "region_2_values = []\n",
    "region_3_values = []\n",
    "\n",
    "\n",
    "#first reset and drop the index of targets (so it should just be indexed as 0, 1, 2, etc.).\n",
    "target_valid_1 = pd.Series(target_valid_1).reset_index(drop=True)\n",
    "target_valid_2 = pd.Series(target_valid_2).reset_index(drop=True)\n",
    "target_valid_3 = pd.Series(target_valid_3).reset_index(drop=True)\n",
    "\n",
    "#Machine Learning in Business - Data Collection - Cross-Validation in Python\n",
    "\n",
    "#Then as you're creating a series out of predictions with no index, it will have the same standard index (0, 1, 2, etc.)\n",
    "predictions_valid_1 = pd.Series(predictions_valid_1).reset_index(drop=True)\n",
    "predictions_valid_2 = pd.Series(predictions_valid_2).reset_index(drop=True)\n",
    "predictions_valid_3 = pd.Series(predictions_valid_3).reset_index(drop=True)\n",
    "\n",
    "for i in range(1000):\n",
    "    #Another important detail when creating subsamples is that they should provide a selection of elements with replacement. That is, the same element can fall into a subsample several times. To do this, specify replace=True for the sample() function. Compare:\n",
    "    #Don't reset targets not reset the index of target_subsample befor selecting the corresponding predictions, because then you won't be able to select the matching predictions\n",
    "    target_subsample_1 = target_valid_1.sample(n=500, replace=True)\n",
    "    target_subsample_2 = target_valid_2.sample(n=500, replace=True)\n",
    "    target_subsample_3 = target_valid_3.sample(n=500, replace=True)\n",
    "    \n",
    "    #Sample with replacement out of targets and use predictions.loc[target_subsample.index] to find the corresponding predictions\n",
    "    #Before passing those to the profit function, reset and drop the indices of both predictions and targets subsample (this renumbers the rows to get rid of duplicate indices, but keeps all rows, as we wanted)\n",
    "    predictions_subsample_1 = predictions_valid_1.loc[target_subsample_1.index].reset_index(drop=True)\n",
    "    predictions_subsample_2 = predictions_valid_2.loc[target_subsample_2.index].reset_index(drop=True)\n",
    "    predictions_subsample_3 = predictions_valid_3.loc[target_subsample_3.index].reset_index(drop=True)\n",
    "    \n",
    "    #profit(target,predictions) targets should be first\n",
    "    region_1_values.append(profit(target_subsample_1,predictions_subsample_1))\n",
    "    region_2_values.append(profit(target_subsample_2,predictions_subsample_2))\n",
    "    region_3_values.append(profit(target_subsample_3,predictions_subsample_3))\n",
    "    \n",
    "#In summary, top 200 wells, of 500 samples, done 1000 times."
   ]
  },
  {
   "cell_type": "markdown",
   "metadata": {},
   "source": [
    "### Find average profit, 95% confidence interval and risk of losses. Loss is negative profit, calculate it as a probability and then express as a percentage."
   ]
  },
  {
   "cell_type": "code",
   "execution_count": 53,
   "metadata": {
    "scrolled": true
   },
   "outputs": [
    {
     "name": "stdout",
     "output_type": "stream",
     "text": [
      "region_1\n",
      "avg profit 3943675.7025880385\n",
      "lower quantile -1141749.7840983581\n",
      "upper quantile 8865611.519924922\n",
      "risk of losses 5.800000000000001\n",
      "region_2\n",
      "avg profit 4533438.292328027\n",
      "lower quantile 739285.1680974513\n",
      "upper quantile 8344381.017520697\n",
      "risk of losses 1.4000000000000001\n",
      "region_3\n",
      "avg profit 3798290.493455105\n",
      "lower quantile -1437655.2873674463\n",
      "upper quantile 8577436.778678397\n",
      "risk of losses 7.8\n"
     ]
    }
   ],
   "source": [
    "#https://pastebin.com/L312meKd\n",
    "\n",
    "#Machine Learning in Business - Implementing New Functionality - Confidence Interval\n",
    "#95% confidence = The 2.5% percentile (lower) and the 97.5% (upper) percentile\n",
    "#because 97.5 - 2.5 = 95\n",
    "\n",
    "\n",
    "#for ease.\n",
    "region_1_values = pd.Series(region_1_values).reset_index(drop=True)\n",
    "region_2_values = pd.Series(region_2_values).reset_index(drop=True)\n",
    "region_3_values = pd.Series(region_3_values).reset_index(drop=True)\n",
    "\n",
    "avg_profit_1 = region_1_values.mean()\n",
    "avg_profit_2 = region_2_values.mean()\n",
    "avg_profit_3 = region_3_values.mean()\n",
    "\n",
    "##95% confidence interval\n",
    "lower_1 = region_1_values.quantile(0.025)\n",
    "upper_1 = region_1_values.quantile(0.975)\n",
    "lower_2 = region_2_values.quantile(0.025)\n",
    "upper_2 = region_2_values.quantile(0.975)\n",
    "lower_3 = region_3_values.quantile(0.025)\n",
    "upper_3 = region_3_values.quantile(0.975)\n",
    "\n",
    "#risk of losses (Remember that risk of losses can be calculated as the share of negative profits in the list.)\n",
    "risk_1 = (region_1_values[region_1_values <= 0].count() / 1000) * 100\n",
    "risk_2 = (region_2_values[region_2_values <= 0].count() / 1000) * 100\n",
    "risk_3 = (region_3_values[region_3_values <= 0].count() / 1000) * 100\n",
    "#Tried sum(), used count() instead of sum(): we want to find how many profits out of 1000 are negative\n",
    "\n",
    "\n",
    "print('region_1')\n",
    "print('avg profit',avg_profit_1)\n",
    "print('lower quantile',lower_1)\n",
    "print('upper quantile', upper_1)\n",
    "print('risk of losses', risk_1)\n",
    "print('region_2')\n",
    "print('avg profit',avg_profit_2)\n",
    "print('lower quantile',lower_2)\n",
    "print('upper quantile', upper_2)\n",
    "print('risk of losses', risk_2)\n",
    "print('region_3')\n",
    "print('avg profit',avg_profit_3)\n",
    "print('lower quantile',lower_3)\n",
    "print('upper quantile', upper_3)\n",
    "print('risk of losses', risk_3)"
   ]
  },
  {
   "cell_type": "markdown",
   "metadata": {},
   "source": [
    "Region 2 has Lowest risk of losses, Highest average profit!"
   ]
  },
  {
   "cell_type": "markdown",
   "metadata": {},
   "source": [
    "### Provide findings: suggest a region for development of oil wells and justify the choice."
   ]
  },
  {
   "cell_type": "code",
   "execution_count": 54,
   "metadata": {},
   "outputs": [
    {
     "name": "stdout",
     "output_type": "stream",
     "text": [
      "region_1\n",
      "root mean squared error 37.5794217150813\n",
      "avg profit 3943675.7025880385\n",
      "lower quantile -1141749.7840983581\n",
      "upper quantile 8865611.519924922\n",
      "risk of losses 5.800000000000001\n",
      "region_2\n",
      "root mean squared error 0.893099286775617\n",
      "avg profit 4533438.292328027\n",
      "lower quantile 739285.1680974513\n",
      "upper quantile 8344381.017520697\n",
      "risk of losses 1.4000000000000001\n",
      "region_3\n",
      "root mean squared error 40.02970873393434\n",
      "avg profit 3798290.493455105\n",
      "lower quantile -1437655.2873674463\n",
      "upper quantile 8577436.778678397\n",
      "risk of losses 7.8\n"
     ]
    }
   ],
   "source": [
    "print('region_1')\n",
    "print('root mean squared error', rmse_1)\n",
    "print('avg profit',avg_profit_1)\n",
    "print('lower quantile',lower_1)\n",
    "print('upper quantile', upper_1)\n",
    "print('risk of losses', risk_1)\n",
    "print('region_2')\n",
    "print('root mean squared error', rmse_2)\n",
    "print('avg profit',avg_profit_2)\n",
    "print('lower quantile',lower_2)\n",
    "print('upper quantile', upper_2)\n",
    "print('risk of losses', risk_2)\n",
    "print('region_3')\n",
    "print('root mean squared error', rmse_3)\n",
    "print('avg profit',avg_profit_3)\n",
    "print('lower quantile',lower_3)\n",
    "print('upper quantile', upper_3)\n",
    "print('risk of losses', risk_3)"
   ]
  },
  {
   "cell_type": "markdown",
   "metadata": {},
   "source": [
    "## Conclusion"
   ]
  },
  {
   "cell_type": "markdown",
   "metadata": {},
   "source": [
    "Region 2 is best, because of a low risk of losses, a lower MSE, and a higher lower quantile. The region 1 and region 3 come with a risk of loss, high negative profit especially at low quantile, and a high root mean squared error far above zero."
   ]
  }
 ],
 "metadata": {
  "ExecuteTimeLog": [
   {
    "duration": 8,
    "start_time": "2022-07-05T14:45:26.486Z"
   },
   {
    "duration": 1546,
    "start_time": "2022-07-05T14:53:28.250Z"
   },
   {
    "duration": 915,
    "start_time": "2022-07-05T14:55:16.931Z"
   },
   {
    "duration": 18,
    "start_time": "2022-07-05T14:55:22.686Z"
   },
   {
    "duration": 14,
    "start_time": "2022-07-05T14:55:26.241Z"
   },
   {
    "duration": 13,
    "start_time": "2022-07-05T14:55:29.635Z"
   },
   {
    "duration": 13,
    "start_time": "2022-07-05T15:42:59.285Z"
   },
   {
    "duration": 13,
    "start_time": "2022-07-05T15:42:59.491Z"
   },
   {
    "duration": 13,
    "start_time": "2022-07-05T15:42:59.699Z"
   },
   {
    "duration": 9,
    "start_time": "2022-07-05T15:58:03.734Z"
   },
   {
    "duration": 10,
    "start_time": "2022-07-05T15:58:06.159Z"
   },
   {
    "duration": 10,
    "start_time": "2022-07-05T15:58:06.398Z"
   },
   {
    "duration": 10,
    "start_time": "2022-07-05T15:58:06.606Z"
   },
   {
    "duration": 12,
    "start_time": "2022-07-05T16:02:12.764Z"
   },
   {
    "duration": 13,
    "start_time": "2022-07-05T16:02:13.324Z"
   },
   {
    "duration": 21,
    "start_time": "2022-07-05T16:02:13.964Z"
   },
   {
    "duration": 19,
    "start_time": "2022-07-05T18:54:34.562Z"
   },
   {
    "duration": 15,
    "start_time": "2022-07-05T18:54:43.233Z"
   },
   {
    "duration": 15,
    "start_time": "2022-07-05T18:54:47.931Z"
   },
   {
    "duration": 101,
    "start_time": "2022-07-06T02:37:01.495Z"
   },
   {
    "duration": 2,
    "start_time": "2022-07-06T02:37:38.368Z"
   },
   {
    "duration": 2,
    "start_time": "2022-07-06T02:38:06.918Z"
   },
   {
    "duration": 50,
    "start_time": "2022-07-06T03:41:41.930Z"
   },
   {
    "duration": 49,
    "start_time": "2022-07-06T03:42:00.818Z"
   },
   {
    "duration": 47,
    "start_time": "2022-07-06T03:42:02.607Z"
   },
   {
    "duration": 113,
    "start_time": "2022-07-06T04:37:40.487Z"
   },
   {
    "duration": 15,
    "start_time": "2022-07-06T04:38:28.311Z"
   },
   {
    "duration": 15,
    "start_time": "2022-07-06T04:39:25.489Z"
   },
   {
    "duration": 5,
    "start_time": "2022-07-06T04:39:45.857Z"
   },
   {
    "duration": 399,
    "start_time": "2022-07-06T04:39:46.356Z"
   },
   {
    "duration": 13,
    "start_time": "2022-07-06T04:39:46.757Z"
   },
   {
    "duration": 17,
    "start_time": "2022-07-06T04:39:46.772Z"
   },
   {
    "duration": 13,
    "start_time": "2022-07-06T04:39:46.791Z"
   },
   {
    "duration": 16,
    "start_time": "2022-07-06T04:39:46.822Z"
   },
   {
    "duration": 17,
    "start_time": "2022-07-06T04:39:46.840Z"
   },
   {
    "duration": 15,
    "start_time": "2022-07-06T04:39:46.858Z"
   },
   {
    "duration": 82,
    "start_time": "2022-07-06T04:39:46.875Z"
   },
   {
    "duration": 47,
    "start_time": "2022-07-06T04:39:46.959Z"
   },
   {
    "duration": 60,
    "start_time": "2022-07-06T04:39:47.008Z"
   },
   {
    "duration": 31,
    "start_time": "2022-07-06T04:39:48.627Z"
   },
   {
    "duration": 10,
    "start_time": "2022-07-06T04:40:03.459Z"
   },
   {
    "duration": 13,
    "start_time": "2022-07-06T04:41:36.405Z"
   },
   {
    "duration": 9,
    "start_time": "2022-07-06T04:41:45.279Z"
   },
   {
    "duration": 60,
    "start_time": "2022-07-06T04:47:49.993Z"
   },
   {
    "duration": 2,
    "start_time": "2022-07-06T04:51:05.344Z"
   },
   {
    "duration": 11,
    "start_time": "2022-07-06T04:51:10.762Z"
   },
   {
    "duration": 15,
    "start_time": "2022-07-06T04:53:31.914Z"
   },
   {
    "duration": 15,
    "start_time": "2022-07-06T04:53:41.448Z"
   },
   {
    "duration": 14,
    "start_time": "2022-07-06T04:53:45.705Z"
   },
   {
    "duration": 15,
    "start_time": "2022-07-06T05:06:33.129Z"
   },
   {
    "duration": 14,
    "start_time": "2022-07-06T05:06:46.531Z"
   },
   {
    "duration": 11,
    "start_time": "2022-07-06T05:06:48.806Z"
   },
   {
    "duration": 14,
    "start_time": "2022-07-06T05:06:49.285Z"
   },
   {
    "duration": 4,
    "start_time": "2022-07-06T05:06:57.732Z"
   },
   {
    "duration": 392,
    "start_time": "2022-07-06T05:06:58.403Z"
   },
   {
    "duration": 15,
    "start_time": "2022-07-06T05:06:59.464Z"
   },
   {
    "duration": 14,
    "start_time": "2022-07-06T05:06:59.485Z"
   },
   {
    "duration": 14,
    "start_time": "2022-07-06T05:06:59.517Z"
   },
   {
    "duration": 13,
    "start_time": "2022-07-06T05:06:59.628Z"
   },
   {
    "duration": 14,
    "start_time": "2022-07-06T05:06:59.659Z"
   },
   {
    "duration": 13,
    "start_time": "2022-07-06T05:06:59.690Z"
   },
   {
    "duration": 47,
    "start_time": "2022-07-06T05:06:59.785Z"
   },
   {
    "duration": 45,
    "start_time": "2022-07-06T05:06:59.834Z"
   },
   {
    "duration": 64,
    "start_time": "2022-07-06T05:06:59.881Z"
   },
   {
    "duration": 34,
    "start_time": "2022-07-06T05:06:59.990Z"
   },
   {
    "duration": 8,
    "start_time": "2022-07-06T05:07:00.084Z"
   },
   {
    "duration": 63,
    "start_time": "2022-07-06T05:07:00.357Z"
   },
   {
    "duration": 11,
    "start_time": "2022-07-06T05:07:00.894Z"
   },
   {
    "duration": 18,
    "start_time": "2022-07-06T05:07:00.926Z"
   },
   {
    "duration": 10,
    "start_time": "2022-07-06T05:08:11.059Z"
   },
   {
    "duration": 3,
    "start_time": "2022-07-06T05:08:16.854Z"
   },
   {
    "duration": 20,
    "start_time": "2022-07-06T05:08:21.924Z"
   },
   {
    "duration": 61,
    "start_time": "2022-07-06T05:08:35.813Z"
   },
   {
    "duration": 20,
    "start_time": "2022-07-06T05:08:45.653Z"
   },
   {
    "duration": 22,
    "start_time": "2022-07-06T05:10:13.254Z"
   },
   {
    "duration": 16,
    "start_time": "2022-07-06T05:10:17.780Z"
   },
   {
    "duration": 7,
    "start_time": "2022-07-06T05:11:55.363Z"
   },
   {
    "duration": 28,
    "start_time": "2022-07-06T05:11:55.831Z"
   },
   {
    "duration": 2,
    "start_time": "2022-07-06T05:11:56.689Z"
   },
   {
    "duration": 16,
    "start_time": "2022-07-06T05:11:57.464Z"
   },
   {
    "duration": 164,
    "start_time": "2022-07-06T05:12:03.860Z"
   },
   {
    "duration": 174,
    "start_time": "2022-07-06T05:12:11.251Z"
   },
   {
    "duration": 3,
    "start_time": "2022-07-06T05:12:40.242Z"
   },
   {
    "duration": 57,
    "start_time": "2022-07-06T05:14:14.867Z"
   },
   {
    "duration": 62,
    "start_time": "2022-07-06T05:14:19.297Z"
   },
   {
    "duration": 2,
    "start_time": "2022-07-06T05:14:19.777Z"
   },
   {
    "duration": 18,
    "start_time": "2022-07-06T05:14:20.455Z"
   },
   {
    "duration": 25,
    "start_time": "2022-07-06T05:14:24.705Z"
   },
   {
    "duration": 3,
    "start_time": "2022-07-06T05:14:25.571Z"
   },
   {
    "duration": 143,
    "start_time": "2022-07-06T05:14:26.082Z"
   },
   {
    "duration": 3,
    "start_time": "2022-07-06T05:15:49.761Z"
   },
   {
    "duration": 172,
    "start_time": "2022-07-06T05:15:49.953Z"
   },
   {
    "duration": 207,
    "start_time": "2022-07-06T05:15:52.818Z"
   },
   {
    "duration": 9,
    "start_time": "2022-07-06T05:28:53.835Z"
   },
   {
    "duration": 6,
    "start_time": "2022-07-06T05:29:12.188Z"
   },
   {
    "duration": 1452,
    "start_time": "2022-07-06T17:47:30.588Z"
   },
   {
    "duration": 2025,
    "start_time": "2022-07-06T17:47:32.042Z"
   },
   {
    "duration": 20,
    "start_time": "2022-07-06T17:47:34.069Z"
   },
   {
    "duration": 16,
    "start_time": "2022-07-06T17:47:34.091Z"
   },
   {
    "duration": 16,
    "start_time": "2022-07-06T17:47:34.108Z"
   },
   {
    "duration": 40,
    "start_time": "2022-07-06T17:47:34.125Z"
   },
   {
    "duration": 14,
    "start_time": "2022-07-06T17:47:34.166Z"
   },
   {
    "duration": 15,
    "start_time": "2022-07-06T17:47:34.182Z"
   },
   {
    "duration": 86,
    "start_time": "2022-07-06T17:47:34.200Z"
   },
   {
    "duration": 46,
    "start_time": "2022-07-06T17:47:34.289Z"
   },
   {
    "duration": 68,
    "start_time": "2022-07-06T17:47:34.336Z"
   },
   {
    "duration": 61,
    "start_time": "2022-07-06T17:47:34.405Z"
   },
   {
    "duration": 10,
    "start_time": "2022-07-06T17:47:34.468Z"
   },
   {
    "duration": 31,
    "start_time": "2022-07-06T17:47:34.664Z"
   },
   {
    "duration": 2,
    "start_time": "2022-07-06T17:47:35.543Z"
   },
   {
    "duration": 177,
    "start_time": "2022-07-06T17:47:35.783Z"
   },
   {
    "duration": 5,
    "start_time": "2022-07-06T17:47:36.489Z"
   },
   {
    "duration": 4,
    "start_time": "2022-07-06T18:19:43.739Z"
   },
   {
    "duration": 107,
    "start_time": "2022-07-06T18:20:11.439Z"
   },
   {
    "duration": 10,
    "start_time": "2022-07-06T18:20:18.649Z"
   },
   {
    "duration": 503,
    "start_time": "2022-07-06T18:20:19.163Z"
   },
   {
    "duration": 15,
    "start_time": "2022-07-06T18:20:19.669Z"
   },
   {
    "duration": 14,
    "start_time": "2022-07-06T18:20:19.686Z"
   },
   {
    "duration": 15,
    "start_time": "2022-07-06T18:20:19.702Z"
   },
   {
    "duration": 52,
    "start_time": "2022-07-06T18:20:19.719Z"
   },
   {
    "duration": 14,
    "start_time": "2022-07-06T18:20:19.772Z"
   },
   {
    "duration": 18,
    "start_time": "2022-07-06T18:20:19.788Z"
   },
   {
    "duration": 83,
    "start_time": "2022-07-06T18:20:19.807Z"
   },
   {
    "duration": 42,
    "start_time": "2022-07-06T18:20:19.892Z"
   },
   {
    "duration": 59,
    "start_time": "2022-07-06T18:20:19.936Z"
   },
   {
    "duration": 26,
    "start_time": "2022-07-06T18:20:20.479Z"
   },
   {
    "duration": 7,
    "start_time": "2022-07-06T18:20:20.589Z"
   },
   {
    "duration": 24,
    "start_time": "2022-07-06T18:20:20.621Z"
   },
   {
    "duration": 2,
    "start_time": "2022-07-06T18:20:20.683Z"
   },
   {
    "duration": 67,
    "start_time": "2022-07-06T18:20:20.716Z"
   },
   {
    "duration": 6,
    "start_time": "2022-07-06T18:20:21.475Z"
   },
   {
    "duration": 10,
    "start_time": "2022-07-06T18:20:21.541Z"
   },
   {
    "duration": 6,
    "start_time": "2022-07-06T18:21:01.210Z"
   },
   {
    "duration": 31,
    "start_time": "2022-07-06T18:21:55.929Z"
   },
   {
    "duration": 6,
    "start_time": "2022-07-06T18:22:09.065Z"
   },
   {
    "duration": 8,
    "start_time": "2022-07-06T18:22:11.801Z"
   },
   {
    "duration": 9,
    "start_time": "2022-07-06T18:22:39.561Z"
   },
   {
    "duration": 4,
    "start_time": "2022-07-06T18:23:12.323Z"
   },
   {
    "duration": 8,
    "start_time": "2022-07-06T18:23:22.108Z"
   },
   {
    "duration": 11,
    "start_time": "2022-07-06T18:23:33.514Z"
   },
   {
    "duration": 8,
    "start_time": "2022-07-06T18:24:03.656Z"
   },
   {
    "duration": 8,
    "start_time": "2022-07-06T18:24:08.377Z"
   },
   {
    "duration": 10,
    "start_time": "2022-07-06T18:24:20.953Z"
   },
   {
    "duration": 9,
    "start_time": "2022-07-06T18:28:37.819Z"
   },
   {
    "duration": 12,
    "start_time": "2022-07-06T18:30:16.247Z"
   },
   {
    "duration": 5,
    "start_time": "2022-07-06T18:30:26.262Z"
   },
   {
    "duration": 6,
    "start_time": "2022-07-06T18:31:02.231Z"
   },
   {
    "duration": 23,
    "start_time": "2022-07-06T18:31:02.535Z"
   },
   {
    "duration": 2,
    "start_time": "2022-07-06T18:31:03.284Z"
   },
   {
    "duration": 111,
    "start_time": "2022-07-06T18:31:03.547Z"
   },
   {
    "duration": 5,
    "start_time": "2022-07-06T18:31:04.056Z"
   },
   {
    "duration": 7,
    "start_time": "2022-07-06T18:31:04.980Z"
   },
   {
    "duration": 8,
    "start_time": "2022-07-06T18:33:05.093Z"
   },
   {
    "duration": 8,
    "start_time": "2022-07-06T18:34:46.661Z"
   },
   {
    "duration": 8,
    "start_time": "2022-07-06T18:34:52.757Z"
   },
   {
    "duration": 7,
    "start_time": "2022-07-06T18:35:50.180Z"
   },
   {
    "duration": 8,
    "start_time": "2022-07-06T20:14:53.690Z"
   },
   {
    "duration": 8,
    "start_time": "2022-07-06T20:15:00.298Z"
   },
   {
    "duration": 5,
    "start_time": "2022-07-06T20:15:04.747Z"
   },
   {
    "duration": 364,
    "start_time": "2022-07-06T20:15:05.268Z"
   },
   {
    "duration": 26,
    "start_time": "2022-07-06T20:15:05.634Z"
   },
   {
    "duration": 19,
    "start_time": "2022-07-06T20:15:05.662Z"
   },
   {
    "duration": 16,
    "start_time": "2022-07-06T20:15:05.683Z"
   },
   {
    "duration": 13,
    "start_time": "2022-07-06T20:15:05.700Z"
   },
   {
    "duration": 45,
    "start_time": "2022-07-06T20:15:05.715Z"
   },
   {
    "duration": 12,
    "start_time": "2022-07-06T20:15:05.762Z"
   },
   {
    "duration": 43,
    "start_time": "2022-07-06T20:15:05.776Z"
   },
   {
    "duration": 69,
    "start_time": "2022-07-06T20:15:05.820Z"
   },
   {
    "duration": 62,
    "start_time": "2022-07-06T20:15:05.891Z"
   },
   {
    "duration": 24,
    "start_time": "2022-07-06T20:15:05.955Z"
   },
   {
    "duration": 7,
    "start_time": "2022-07-06T20:15:06.694Z"
   },
   {
    "duration": 23,
    "start_time": "2022-07-06T20:15:06.726Z"
   },
   {
    "duration": 2,
    "start_time": "2022-07-06T20:15:06.788Z"
   },
   {
    "duration": 131,
    "start_time": "2022-07-06T20:15:06.821Z"
   },
   {
    "duration": 111,
    "start_time": "2022-07-06T20:15:06.956Z"
   },
   {
    "duration": 14,
    "start_time": "2022-07-06T20:15:07.069Z"
   },
   {
    "duration": 9,
    "start_time": "2022-07-06T20:24:35.205Z"
   },
   {
    "duration": 6,
    "start_time": "2022-07-06T20:24:43.335Z"
   },
   {
    "duration": 7,
    "start_time": "2022-07-06T20:41:58.850Z"
   },
   {
    "duration": 10,
    "start_time": "2022-07-06T20:44:57.888Z"
   },
   {
    "duration": 9,
    "start_time": "2022-07-06T20:45:08.825Z"
   },
   {
    "duration": 88,
    "start_time": "2022-07-06T21:12:31.300Z"
   },
   {
    "duration": 7,
    "start_time": "2022-07-06T21:19:30.672Z"
   },
   {
    "duration": 7,
    "start_time": "2022-07-06T21:20:17.872Z"
   },
   {
    "duration": 8,
    "start_time": "2022-07-06T21:20:18.640Z"
   },
   {
    "duration": 89,
    "start_time": "2022-07-06T21:34:58.300Z"
   },
   {
    "duration": 9,
    "start_time": "2022-07-07T01:41:30.831Z"
   },
   {
    "duration": 10,
    "start_time": "2022-07-07T01:41:35.576Z"
   },
   {
    "duration": 9,
    "start_time": "2022-07-07T01:41:40.992Z"
   },
   {
    "duration": 3,
    "start_time": "2022-07-07T02:05:36.247Z"
   },
   {
    "duration": 3,
    "start_time": "2022-07-07T02:05:45.166Z"
   },
   {
    "duration": 3,
    "start_time": "2022-07-07T02:08:00.957Z"
   },
   {
    "duration": 4,
    "start_time": "2022-07-07T02:35:28.617Z"
   },
   {
    "duration": 451,
    "start_time": "2022-07-07T02:35:28.949Z"
   },
   {
    "duration": 4,
    "start_time": "2022-07-07T02:35:37.457Z"
   },
   {
    "duration": 439,
    "start_time": "2022-07-07T02:35:38.192Z"
   },
   {
    "duration": 11,
    "start_time": "2022-07-07T02:35:48.369Z"
   },
   {
    "duration": 11,
    "start_time": "2022-07-07T02:35:51.073Z"
   },
   {
    "duration": 13,
    "start_time": "2022-07-07T02:35:59.791Z"
   },
   {
    "duration": 13,
    "start_time": "2022-07-07T02:36:03.620Z"
   },
   {
    "duration": 13,
    "start_time": "2022-07-07T02:36:07.539Z"
   },
   {
    "duration": 42,
    "start_time": "2022-07-07T02:37:10.063Z"
   },
   {
    "duration": 40,
    "start_time": "2022-07-07T02:37:12.161Z"
   },
   {
    "duration": 37,
    "start_time": "2022-07-07T02:37:12.400Z"
   },
   {
    "duration": 40,
    "start_time": "2022-07-07T02:37:12.960Z"
   },
   {
    "duration": 8,
    "start_time": "2022-07-07T02:41:48.543Z"
   },
   {
    "duration": 27,
    "start_time": "2022-07-07T02:41:50.668Z"
   },
   {
    "duration": 15,
    "start_time": "2022-07-07T02:41:51.630Z"
   },
   {
    "duration": 11,
    "start_time": "2022-07-07T02:41:59.747Z"
   },
   {
    "duration": 13,
    "start_time": "2022-07-07T02:42:06.190Z"
   },
   {
    "duration": 13,
    "start_time": "2022-07-07T02:42:33.780Z"
   },
   {
    "duration": 5,
    "start_time": "2022-07-07T02:42:39.050Z"
   },
   {
    "duration": 368,
    "start_time": "2022-07-07T02:42:39.082Z"
   },
   {
    "duration": 11,
    "start_time": "2022-07-07T02:42:39.453Z"
   },
   {
    "duration": 13,
    "start_time": "2022-07-07T02:42:39.465Z"
   },
   {
    "duration": 15,
    "start_time": "2022-07-07T02:42:39.480Z"
   },
   {
    "duration": 19,
    "start_time": "2022-07-07T02:42:39.496Z"
   },
   {
    "duration": 11,
    "start_time": "2022-07-07T02:42:39.516Z"
   },
   {
    "duration": 12,
    "start_time": "2022-07-07T02:42:39.551Z"
   },
   {
    "duration": 40,
    "start_time": "2022-07-07T02:42:40.247Z"
   },
   {
    "duration": 35,
    "start_time": "2022-07-07T02:42:40.289Z"
   },
   {
    "duration": 52,
    "start_time": "2022-07-07T02:42:40.325Z"
   },
   {
    "duration": 21,
    "start_time": "2022-07-07T02:42:40.450Z"
   },
   {
    "duration": 11,
    "start_time": "2022-07-07T02:42:40.548Z"
   },
   {
    "duration": 29,
    "start_time": "2022-07-07T02:42:40.572Z"
   },
   {
    "duration": 3,
    "start_time": "2022-07-07T02:42:40.649Z"
   },
   {
    "duration": 82,
    "start_time": "2022-07-07T02:42:40.972Z"
   },
   {
    "duration": 7,
    "start_time": "2022-07-07T02:43:03.118Z"
   },
   {
    "duration": 23,
    "start_time": "2022-07-07T02:43:12.716Z"
   },
   {
    "duration": 2,
    "start_time": "2022-07-07T02:43:13.228Z"
   },
   {
    "duration": 6,
    "start_time": "2022-07-07T02:43:32.620Z"
   },
   {
    "duration": 82,
    "start_time": "2022-07-07T02:43:34.476Z"
   },
   {
    "duration": 6,
    "start_time": "2022-07-07T02:43:35.237Z"
   },
   {
    "duration": 6,
    "start_time": "2022-07-07T02:43:58.924Z"
   },
   {
    "duration": 4,
    "start_time": "2022-07-07T02:45:17.725Z"
   },
   {
    "duration": 2,
    "start_time": "2022-07-07T02:46:19.403Z"
   },
   {
    "duration": 7,
    "start_time": "2022-07-07T02:48:02.941Z"
   },
   {
    "duration": 24,
    "start_time": "2022-07-07T02:48:03.561Z"
   },
   {
    "duration": 2,
    "start_time": "2022-07-07T02:48:08.057Z"
   },
   {
    "duration": 181,
    "start_time": "2022-07-07T02:48:36.072Z"
   },
   {
    "duration": 7,
    "start_time": "2022-07-07T02:48:52.383Z"
   },
   {
    "duration": 6,
    "start_time": "2022-07-07T02:49:01.370Z"
   },
   {
    "duration": 16,
    "start_time": "2022-07-07T02:49:22.297Z"
   },
   {
    "duration": 7,
    "start_time": "2022-07-07T02:49:22.870Z"
   },
   {
    "duration": 23,
    "start_time": "2022-07-07T02:49:22.906Z"
   },
   {
    "duration": 3,
    "start_time": "2022-07-07T02:49:22.964Z"
   },
   {
    "duration": 156,
    "start_time": "2022-07-07T02:49:22.996Z"
   },
   {
    "duration": 4,
    "start_time": "2022-07-07T02:49:27.643Z"
   },
   {
    "duration": 369,
    "start_time": "2022-07-07T02:49:28.153Z"
   },
   {
    "duration": 13,
    "start_time": "2022-07-07T02:49:28.524Z"
   },
   {
    "duration": 19,
    "start_time": "2022-07-07T02:49:28.538Z"
   },
   {
    "duration": 12,
    "start_time": "2022-07-07T02:49:28.559Z"
   },
   {
    "duration": 27,
    "start_time": "2022-07-07T02:49:28.572Z"
   },
   {
    "duration": 14,
    "start_time": "2022-07-07T02:49:28.600Z"
   },
   {
    "duration": 40,
    "start_time": "2022-07-07T02:49:28.616Z"
   },
   {
    "duration": 45,
    "start_time": "2022-07-07T02:49:28.658Z"
   },
   {
    "duration": 59,
    "start_time": "2022-07-07T02:49:28.705Z"
   },
   {
    "duration": 44,
    "start_time": "2022-07-07T02:49:28.765Z"
   },
   {
    "duration": 48,
    "start_time": "2022-07-07T02:49:28.811Z"
   },
   {
    "duration": 7,
    "start_time": "2022-07-07T02:49:28.870Z"
   },
   {
    "duration": 24,
    "start_time": "2022-07-07T02:49:28.901Z"
   },
   {
    "duration": 2,
    "start_time": "2022-07-07T02:49:28.980Z"
   },
   {
    "duration": 138,
    "start_time": "2022-07-07T02:49:29.013Z"
   },
   {
    "duration": 99,
    "start_time": "2022-07-07T02:49:29.154Z"
   },
   {
    "duration": 7,
    "start_time": "2022-07-07T02:49:29.867Z"
   },
   {
    "duration": 4,
    "start_time": "2022-07-07T02:49:29.997Z"
   },
   {
    "duration": 6,
    "start_time": "2022-07-07T02:49:30.059Z"
   },
   {
    "duration": 6,
    "start_time": "2022-07-07T02:49:52.365Z"
   },
   {
    "duration": 7,
    "start_time": "2022-07-07T02:49:58.408Z"
   },
   {
    "duration": 5,
    "start_time": "2022-07-07T02:50:10.328Z"
   },
   {
    "duration": 5,
    "start_time": "2022-07-07T02:50:20.398Z"
   },
   {
    "duration": 7,
    "start_time": "2022-07-07T02:50:30.711Z"
   },
   {
    "duration": 23,
    "start_time": "2022-07-07T02:50:31.642Z"
   },
   {
    "duration": 2,
    "start_time": "2022-07-07T02:50:34.473Z"
   },
   {
    "duration": 62,
    "start_time": "2022-07-07T02:50:34.696Z"
   },
   {
    "duration": 7,
    "start_time": "2022-07-07T02:50:35.132Z"
   },
   {
    "duration": 7,
    "start_time": "2022-07-07T02:50:51.527Z"
   },
   {
    "duration": 4,
    "start_time": "2022-07-07T02:51:58.902Z"
   },
   {
    "duration": 4,
    "start_time": "2022-07-07T02:51:59.464Z"
   },
   {
    "duration": 5,
    "start_time": "2022-07-07T02:53:19.287Z"
   },
   {
    "duration": 6,
    "start_time": "2022-07-07T02:54:00.741Z"
   },
   {
    "duration": 6,
    "start_time": "2022-07-07T02:56:00.016Z"
   },
   {
    "duration": 6,
    "start_time": "2022-07-07T02:56:32.396Z"
   },
   {
    "duration": 6,
    "start_time": "2022-07-07T02:57:00.373Z"
   },
   {
    "duration": 6,
    "start_time": "2022-07-07T02:57:32.292Z"
   },
   {
    "duration": 9,
    "start_time": "2022-07-07T06:33:39.268Z"
   },
   {
    "duration": 57,
    "start_time": "2022-07-07T18:50:06.549Z"
   },
   {
    "duration": 1682,
    "start_time": "2022-07-07T18:50:11.496Z"
   },
   {
    "duration": 914,
    "start_time": "2022-07-07T18:50:13.181Z"
   },
   {
    "duration": 18,
    "start_time": "2022-07-07T18:50:14.097Z"
   },
   {
    "duration": 19,
    "start_time": "2022-07-07T18:50:14.118Z"
   },
   {
    "duration": 40,
    "start_time": "2022-07-07T18:50:14.138Z"
   },
   {
    "duration": 18,
    "start_time": "2022-07-07T18:50:14.180Z"
   },
   {
    "duration": 38,
    "start_time": "2022-07-07T18:50:14.199Z"
   },
   {
    "duration": 24,
    "start_time": "2022-07-07T18:50:14.239Z"
   },
   {
    "duration": 85,
    "start_time": "2022-07-07T18:50:14.268Z"
   },
   {
    "duration": 84,
    "start_time": "2022-07-07T18:50:14.356Z"
   },
   {
    "duration": 59,
    "start_time": "2022-07-07T18:50:14.442Z"
   },
   {
    "duration": 54,
    "start_time": "2022-07-07T18:50:14.503Z"
   },
   {
    "duration": 11,
    "start_time": "2022-07-07T18:50:14.559Z"
   },
   {
    "duration": 66,
    "start_time": "2022-07-07T18:50:14.572Z"
   },
   {
    "duration": 4,
    "start_time": "2022-07-07T18:50:14.641Z"
   },
   {
    "duration": 387,
    "start_time": "2022-07-07T18:50:14.647Z"
   },
   {
    "duration": 84,
    "start_time": "2022-07-07T18:50:15.041Z"
   },
   {
    "duration": 121,
    "start_time": "2022-07-07T18:50:15.127Z"
   },
   {
    "duration": 0,
    "start_time": "2022-07-07T18:50:15.251Z"
   },
   {
    "duration": 0,
    "start_time": "2022-07-07T18:50:15.253Z"
   },
   {
    "duration": 5,
    "start_time": "2022-07-07T18:50:21.196Z"
   },
   {
    "duration": 428,
    "start_time": "2022-07-07T18:50:21.704Z"
   },
   {
    "duration": 16,
    "start_time": "2022-07-07T18:50:22.140Z"
   },
   {
    "duration": 16,
    "start_time": "2022-07-07T18:50:22.158Z"
   },
   {
    "duration": 19,
    "start_time": "2022-07-07T18:50:22.177Z"
   },
   {
    "duration": 50,
    "start_time": "2022-07-07T18:50:22.199Z"
   },
   {
    "duration": 29,
    "start_time": "2022-07-07T18:50:22.251Z"
   },
   {
    "duration": 44,
    "start_time": "2022-07-07T18:50:22.283Z"
   },
   {
    "duration": 61,
    "start_time": "2022-07-07T18:50:22.332Z"
   },
   {
    "duration": 74,
    "start_time": "2022-07-07T18:50:22.395Z"
   },
   {
    "duration": 79,
    "start_time": "2022-07-07T18:50:22.471Z"
   },
   {
    "duration": 31,
    "start_time": "2022-07-07T18:50:23.042Z"
   },
   {
    "duration": 8,
    "start_time": "2022-07-07T18:50:23.143Z"
   },
   {
    "duration": 31,
    "start_time": "2022-07-07T18:50:23.170Z"
   },
   {
    "duration": 5,
    "start_time": "2022-07-07T18:50:23.239Z"
   },
   {
    "duration": 275,
    "start_time": "2022-07-07T18:50:23.264Z"
   },
   {
    "duration": 14,
    "start_time": "2022-07-07T18:50:23.724Z"
   },
   {
    "duration": 13,
    "start_time": "2022-07-07T18:50:24.239Z"
   },
   {
    "duration": 10,
    "start_time": "2022-07-07T18:50:57.372Z"
   },
   {
    "duration": 5,
    "start_time": "2022-07-07T18:50:58.716Z"
   },
   {
    "duration": 17,
    "start_time": "2022-07-07T18:50:59.327Z"
   },
   {
    "duration": 13,
    "start_time": "2022-07-07T18:51:08.703Z"
   },
   {
    "duration": 17,
    "start_time": "2022-07-07T18:51:20.927Z"
   },
   {
    "duration": 12,
    "start_time": "2022-07-07T18:51:47.980Z"
   },
   {
    "duration": 14,
    "start_time": "2022-07-07T18:52:40.257Z"
   },
   {
    "duration": 15,
    "start_time": "2022-07-07T19:47:45.564Z"
   },
   {
    "duration": 12,
    "start_time": "2022-07-07T22:21:31.559Z"
   },
   {
    "duration": 11,
    "start_time": "2022-07-07T23:29:41.468Z"
   },
   {
    "duration": 15,
    "start_time": "2022-07-07T23:31:27.657Z"
   },
   {
    "duration": 16,
    "start_time": "2022-07-07T23:33:07.369Z"
   },
   {
    "duration": 14,
    "start_time": "2022-07-08T06:42:04.941Z"
   },
   {
    "duration": 14,
    "start_time": "2022-07-08T06:42:10.507Z"
   },
   {
    "duration": 16,
    "start_time": "2022-07-08T06:43:05.622Z"
   },
   {
    "duration": 14,
    "start_time": "2022-07-08T06:43:10.985Z"
   },
   {
    "duration": 14,
    "start_time": "2022-07-08T06:43:25.592Z"
   },
   {
    "duration": 16,
    "start_time": "2022-07-08T07:16:19.911Z"
   },
   {
    "duration": 17,
    "start_time": "2022-07-08T07:16:32.429Z"
   },
   {
    "duration": 16,
    "start_time": "2022-07-08T07:16:43.645Z"
   },
   {
    "duration": 15,
    "start_time": "2022-07-08T07:17:26.083Z"
   },
   {
    "duration": 15,
    "start_time": "2022-07-08T07:17:34.462Z"
   },
   {
    "duration": 15,
    "start_time": "2022-07-08T07:19:01.280Z"
   },
   {
    "duration": 15,
    "start_time": "2022-07-08T07:19:04.717Z"
   },
   {
    "duration": 8,
    "start_time": "2022-07-08T07:19:26.335Z"
   },
   {
    "duration": 1603,
    "start_time": "2022-07-08T18:21:38.333Z"
   },
   {
    "duration": 1771,
    "start_time": "2022-07-08T18:21:39.938Z"
   },
   {
    "duration": 19,
    "start_time": "2022-07-08T18:21:41.711Z"
   },
   {
    "duration": 13,
    "start_time": "2022-07-08T18:21:41.732Z"
   },
   {
    "duration": 22,
    "start_time": "2022-07-08T18:21:41.746Z"
   },
   {
    "duration": 19,
    "start_time": "2022-07-08T18:21:41.769Z"
   },
   {
    "duration": 16,
    "start_time": "2022-07-08T18:21:41.797Z"
   },
   {
    "duration": 15,
    "start_time": "2022-07-08T18:21:41.814Z"
   },
   {
    "duration": 81,
    "start_time": "2022-07-08T18:21:41.831Z"
   },
   {
    "duration": 49,
    "start_time": "2022-07-08T18:21:41.914Z"
   },
   {
    "duration": 69,
    "start_time": "2022-07-08T18:21:41.965Z"
   },
   {
    "duration": 31,
    "start_time": "2022-07-08T18:21:42.036Z"
   },
   {
    "duration": 9,
    "start_time": "2022-07-08T18:21:42.069Z"
   },
   {
    "duration": 48,
    "start_time": "2022-07-08T18:21:42.080Z"
   },
   {
    "duration": 3,
    "start_time": "2022-07-08T18:21:42.130Z"
   },
   {
    "duration": 350,
    "start_time": "2022-07-08T18:21:42.135Z"
   },
   {
    "duration": 0,
    "start_time": "2022-07-08T18:21:42.487Z"
   },
   {
    "duration": 0,
    "start_time": "2022-07-08T18:21:42.488Z"
   },
   {
    "duration": 0,
    "start_time": "2022-07-08T18:21:42.499Z"
   },
   {
    "duration": 0,
    "start_time": "2022-07-08T18:21:42.500Z"
   },
   {
    "duration": 322,
    "start_time": "2022-07-08T18:23:40.681Z"
   },
   {
    "duration": 8,
    "start_time": "2022-07-08T18:23:42.480Z"
   },
   {
    "duration": 8,
    "start_time": "2022-07-08T18:23:42.585Z"
   },
   {
    "duration": 4,
    "start_time": "2022-07-08T18:23:42.709Z"
   },
   {
    "duration": 8,
    "start_time": "2022-07-08T18:23:42.995Z"
   },
   {
    "duration": 4,
    "start_time": "2022-07-08T20:19:00.014Z"
   },
   {
    "duration": 15,
    "start_time": "2022-07-08T20:58:31.649Z"
   },
   {
    "duration": 60,
    "start_time": "2022-07-08T20:59:09.646Z"
   },
   {
    "duration": 53,
    "start_time": "2022-07-08T20:59:26.015Z"
   },
   {
    "duration": 50,
    "start_time": "2022-07-08T21:15:00.098Z"
   },
   {
    "duration": 5,
    "start_time": "2022-07-08T21:59:35.118Z"
   },
   {
    "duration": 9,
    "start_time": "2022-07-08T21:59:51.198Z"
   },
   {
    "duration": 11,
    "start_time": "2022-07-08T22:00:16.845Z"
   },
   {
    "duration": 10,
    "start_time": "2022-07-08T22:00:38.510Z"
   },
   {
    "duration": 9,
    "start_time": "2022-07-08T22:00:57.212Z"
   },
   {
    "duration": 4,
    "start_time": "2022-07-08T22:01:23.695Z"
   },
   {
    "duration": 10,
    "start_time": "2022-07-08T22:01:34.484Z"
   },
   {
    "duration": 4,
    "start_time": "2022-07-08T22:01:37.889Z"
   },
   {
    "duration": 17,
    "start_time": "2022-07-08T22:02:06.014Z"
   },
   {
    "duration": 75,
    "start_time": "2022-07-08T22:02:35.618Z"
   },
   {
    "duration": 10,
    "start_time": "2022-07-08T22:02:38.940Z"
   },
   {
    "duration": 11,
    "start_time": "2022-07-08T22:02:50.859Z"
   },
   {
    "duration": 9,
    "start_time": "2022-07-08T22:03:55.131Z"
   },
   {
    "duration": 3,
    "start_time": "2022-07-08T22:04:11.090Z"
   },
   {
    "duration": 8,
    "start_time": "2022-07-08T22:04:50.697Z"
   },
   {
    "duration": 13,
    "start_time": "2022-07-08T22:10:21.783Z"
   },
   {
    "duration": 14,
    "start_time": "2022-07-08T22:10:28.768Z"
   },
   {
    "duration": 12,
    "start_time": "2022-07-08T22:10:32.775Z"
   },
   {
    "duration": 76,
    "start_time": "2022-07-08T22:11:37.446Z"
   },
   {
    "duration": 9,
    "start_time": "2022-07-08T22:12:28.855Z"
   },
   {
    "duration": 9,
    "start_time": "2022-07-08T22:12:36.372Z"
   },
   {
    "duration": 10,
    "start_time": "2022-07-08T22:12:39.414Z"
   },
   {
    "duration": 10,
    "start_time": "2022-07-08T22:13:13.995Z"
   },
   {
    "duration": 10,
    "start_time": "2022-07-08T22:14:08.617Z"
   },
   {
    "duration": 71,
    "start_time": "2022-07-08T22:15:34.124Z"
   },
   {
    "duration": 15,
    "start_time": "2022-07-08T22:16:38.228Z"
   },
   {
    "duration": 14,
    "start_time": "2022-07-08T22:17:28.324Z"
   },
   {
    "duration": 1477,
    "start_time": "2022-07-09T16:36:31.908Z"
   },
   {
    "duration": 721,
    "start_time": "2022-07-09T16:36:33.387Z"
   },
   {
    "duration": 16,
    "start_time": "2022-07-09T16:36:34.109Z"
   },
   {
    "duration": 12,
    "start_time": "2022-07-09T16:36:34.126Z"
   },
   {
    "duration": 16,
    "start_time": "2022-07-09T16:36:34.140Z"
   },
   {
    "duration": 19,
    "start_time": "2022-07-09T16:36:34.157Z"
   },
   {
    "duration": 13,
    "start_time": "2022-07-09T16:36:34.177Z"
   },
   {
    "duration": 15,
    "start_time": "2022-07-09T16:36:34.191Z"
   },
   {
    "duration": 46,
    "start_time": "2022-07-09T16:36:34.223Z"
   },
   {
    "duration": 43,
    "start_time": "2022-07-09T16:36:34.270Z"
   },
   {
    "duration": 55,
    "start_time": "2022-07-09T16:36:34.314Z"
   },
   {
    "duration": 53,
    "start_time": "2022-07-09T16:36:34.371Z"
   },
   {
    "duration": 11,
    "start_time": "2022-07-09T16:36:34.425Z"
   },
   {
    "duration": 32,
    "start_time": "2022-07-09T16:36:34.438Z"
   },
   {
    "duration": 3,
    "start_time": "2022-07-09T16:36:34.471Z"
   },
   {
    "duration": 261,
    "start_time": "2022-07-09T16:36:34.475Z"
   },
   {
    "duration": 10,
    "start_time": "2022-07-09T16:36:34.828Z"
   },
   {
    "duration": 10,
    "start_time": "2022-07-09T16:36:34.925Z"
   },
   {
    "duration": 5,
    "start_time": "2022-07-09T16:36:34.936Z"
   },
   {
    "duration": 8,
    "start_time": "2022-07-09T16:36:34.942Z"
   },
   {
    "duration": 161,
    "start_time": "2022-07-09T16:36:34.952Z"
   },
   {
    "duration": 52,
    "start_time": "2022-07-09T16:36:49.666Z"
   },
   {
    "duration": 128,
    "start_time": "2022-07-09T16:37:01.796Z"
   },
   {
    "duration": 116,
    "start_time": "2022-07-09T16:37:34.859Z"
   },
   {
    "duration": 121,
    "start_time": "2022-07-09T16:38:40.568Z"
   },
   {
    "duration": 6,
    "start_time": "2022-07-09T16:39:15.994Z"
   },
   {
    "duration": 6,
    "start_time": "2022-07-09T16:39:27.128Z"
   },
   {
    "duration": 6,
    "start_time": "2022-07-09T16:39:36.866Z"
   },
   {
    "duration": 5,
    "start_time": "2022-07-09T16:39:54.961Z"
   },
   {
    "duration": 86,
    "start_time": "2022-07-09T16:43:10.608Z"
   },
   {
    "duration": 93,
    "start_time": "2022-07-09T16:43:53.021Z"
   },
   {
    "duration": 60,
    "start_time": "2022-07-10T14:23:12.115Z"
   },
   {
    "duration": 3,
    "start_time": "2022-07-10T15:46:18.768Z"
   },
   {
    "duration": 39,
    "start_time": "2022-07-10T16:02:06.082Z"
   },
   {
    "duration": 1552,
    "start_time": "2022-07-10T16:02:11.547Z"
   },
   {
    "duration": 711,
    "start_time": "2022-07-10T16:02:13.101Z"
   },
   {
    "duration": 16,
    "start_time": "2022-07-10T16:02:13.813Z"
   },
   {
    "duration": 13,
    "start_time": "2022-07-10T16:02:13.831Z"
   },
   {
    "duration": 15,
    "start_time": "2022-07-10T16:02:13.845Z"
   },
   {
    "duration": 18,
    "start_time": "2022-07-10T16:02:13.861Z"
   },
   {
    "duration": 12,
    "start_time": "2022-07-10T16:02:13.881Z"
   },
   {
    "duration": 12,
    "start_time": "2022-07-10T16:02:13.894Z"
   },
   {
    "duration": 71,
    "start_time": "2022-07-10T16:02:13.908Z"
   },
   {
    "duration": 40,
    "start_time": "2022-07-10T16:02:13.982Z"
   },
   {
    "duration": 55,
    "start_time": "2022-07-10T16:02:14.024Z"
   },
   {
    "duration": 31,
    "start_time": "2022-07-10T16:02:14.081Z"
   },
   {
    "duration": 28,
    "start_time": "2022-07-10T16:02:14.114Z"
   },
   {
    "duration": 33,
    "start_time": "2022-07-10T16:02:14.144Z"
   },
   {
    "duration": 3,
    "start_time": "2022-07-10T16:02:14.178Z"
   },
   {
    "duration": 172,
    "start_time": "2022-07-10T16:02:14.183Z"
   },
   {
    "duration": 92,
    "start_time": "2022-07-10T16:02:14.356Z"
   },
   {
    "duration": 98,
    "start_time": "2022-07-10T16:02:14.449Z"
   },
   {
    "duration": 5,
    "start_time": "2022-07-10T16:02:15.977Z"
   },
   {
    "duration": 4,
    "start_time": "2022-07-10T16:02:36.942Z"
   },
   {
    "duration": 6,
    "start_time": "2022-07-10T16:03:08.410Z"
   },
   {
    "duration": 4,
    "start_time": "2022-07-10T16:16:04.425Z"
   },
   {
    "duration": 3,
    "start_time": "2022-07-10T16:17:04.267Z"
   },
   {
    "duration": 4,
    "start_time": "2022-07-10T16:17:08.767Z"
   },
   {
    "duration": 3,
    "start_time": "2022-07-10T16:36:09.551Z"
   },
   {
    "duration": 5,
    "start_time": "2022-07-10T16:39:01.485Z"
   },
   {
    "duration": 59,
    "start_time": "2022-07-10T16:39:53.805Z"
   },
   {
    "duration": 5,
    "start_time": "2022-07-10T16:40:25.004Z"
   },
   {
    "duration": 4,
    "start_time": "2022-07-10T16:41:20.607Z"
   },
   {
    "duration": 14,
    "start_time": "2022-07-10T16:42:29.324Z"
   },
   {
    "duration": 5,
    "start_time": "2022-07-10T16:42:37.532Z"
   },
   {
    "duration": 5,
    "start_time": "2022-07-10T16:42:39.933Z"
   },
   {
    "duration": 5,
    "start_time": "2022-07-10T16:42:41.546Z"
   },
   {
    "duration": 11,
    "start_time": "2022-07-10T16:42:42.554Z"
   },
   {
    "duration": 9,
    "start_time": "2022-07-10T16:43:19.932Z"
   },
   {
    "duration": 5,
    "start_time": "2022-07-10T16:43:35.453Z"
   },
   {
    "duration": 5,
    "start_time": "2022-07-10T16:43:35.990Z"
   },
   {
    "duration": 4,
    "start_time": "2022-07-10T16:43:38.635Z"
   },
   {
    "duration": 3,
    "start_time": "2022-07-10T16:43:59.117Z"
   },
   {
    "duration": 9,
    "start_time": "2022-07-10T16:44:07.563Z"
   },
   {
    "duration": 10,
    "start_time": "2022-07-10T16:44:25.082Z"
   },
   {
    "duration": 9,
    "start_time": "2022-07-10T16:45:16.684Z"
   },
   {
    "duration": 4,
    "start_time": "2022-07-10T16:45:50.010Z"
   },
   {
    "duration": 6,
    "start_time": "2022-07-10T16:46:29.626Z"
   },
   {
    "duration": 5,
    "start_time": "2022-07-10T16:46:30.430Z"
   },
   {
    "duration": 5,
    "start_time": "2022-07-10T16:46:31.628Z"
   },
   {
    "duration": 4,
    "start_time": "2022-07-10T16:46:31.724Z"
   },
   {
    "duration": 3,
    "start_time": "2022-07-10T16:46:31.792Z"
   },
   {
    "duration": 5,
    "start_time": "2022-07-10T16:47:01.674Z"
   },
   {
    "duration": 5,
    "start_time": "2022-07-10T16:47:16.394Z"
   },
   {
    "duration": 4,
    "start_time": "2022-07-10T16:47:18.053Z"
   },
   {
    "duration": 6,
    "start_time": "2022-07-10T16:47:21.564Z"
   },
   {
    "duration": 2,
    "start_time": "2022-07-10T17:10:50.274Z"
   },
   {
    "duration": 16,
    "start_time": "2022-07-10T17:12:49.698Z"
   },
   {
    "duration": 39,
    "start_time": "2022-07-10T17:13:31.889Z"
   },
   {
    "duration": 9,
    "start_time": "2022-07-10T17:14:28.512Z"
   },
   {
    "duration": 3,
    "start_time": "2022-07-10T17:14:32.193Z"
   },
   {
    "duration": 314,
    "start_time": "2022-07-10T17:14:32.432Z"
   },
   {
    "duration": 10,
    "start_time": "2022-07-10T17:14:33.153Z"
   },
   {
    "duration": 7,
    "start_time": "2022-07-10T17:14:34.152Z"
   },
   {
    "duration": 6,
    "start_time": "2022-07-10T17:14:35.377Z"
   },
   {
    "duration": 6,
    "start_time": "2022-07-10T17:14:36.370Z"
   },
   {
    "duration": 4,
    "start_time": "2022-07-10T17:14:40.210Z"
   },
   {
    "duration": 6,
    "start_time": "2022-07-10T17:15:35.089Z"
   },
   {
    "duration": 5,
    "start_time": "2022-07-10T17:15:43.105Z"
   },
   {
    "duration": 8,
    "start_time": "2022-07-10T17:36:34.264Z"
   },
   {
    "duration": 5,
    "start_time": "2022-07-10T17:36:58.298Z"
   },
   {
    "duration": 5,
    "start_time": "2022-07-10T17:37:24.777Z"
   },
   {
    "duration": 5,
    "start_time": "2022-07-10T17:37:25.497Z"
   },
   {
    "duration": 39,
    "start_time": "2022-07-10T17:37:25.992Z"
   },
   {
    "duration": 45,
    "start_time": "2022-07-10T20:06:50.162Z"
   },
   {
    "duration": 43,
    "start_time": "2022-07-10T20:07:05.441Z"
   },
   {
    "duration": 37,
    "start_time": "2022-07-10T21:43:26.546Z"
   },
   {
    "duration": 50,
    "start_time": "2022-07-11T03:07:31.328Z"
   },
   {
    "duration": 1717,
    "start_time": "2022-07-11T13:52:50.998Z"
   },
   {
    "duration": 741,
    "start_time": "2022-07-11T13:52:52.718Z"
   },
   {
    "duration": 16,
    "start_time": "2022-07-11T13:52:53.461Z"
   },
   {
    "duration": 11,
    "start_time": "2022-07-11T13:52:53.479Z"
   },
   {
    "duration": 25,
    "start_time": "2022-07-11T13:52:53.492Z"
   },
   {
    "duration": 20,
    "start_time": "2022-07-11T13:52:53.520Z"
   },
   {
    "duration": 14,
    "start_time": "2022-07-11T13:52:53.541Z"
   },
   {
    "duration": 14,
    "start_time": "2022-07-11T13:52:53.556Z"
   },
   {
    "duration": 88,
    "start_time": "2022-07-11T13:52:53.571Z"
   },
   {
    "duration": 42,
    "start_time": "2022-07-11T13:52:53.661Z"
   },
   {
    "duration": 61,
    "start_time": "2022-07-11T13:52:53.705Z"
   },
   {
    "duration": 58,
    "start_time": "2022-07-11T13:52:53.768Z"
   },
   {
    "duration": 11,
    "start_time": "2022-07-11T13:52:53.828Z"
   },
   {
    "duration": 35,
    "start_time": "2022-07-11T13:52:53.841Z"
   },
   {
    "duration": 3,
    "start_time": "2022-07-11T13:52:53.877Z"
   },
   {
    "duration": 301,
    "start_time": "2022-07-11T13:52:53.882Z"
   },
   {
    "duration": 0,
    "start_time": "2022-07-11T13:52:54.185Z"
   },
   {
    "duration": 0,
    "start_time": "2022-07-11T13:52:54.186Z"
   },
   {
    "duration": 0,
    "start_time": "2022-07-11T13:52:54.187Z"
   },
   {
    "duration": 0,
    "start_time": "2022-07-11T13:52:54.188Z"
   },
   {
    "duration": 0,
    "start_time": "2022-07-11T13:52:54.189Z"
   },
   {
    "duration": 0,
    "start_time": "2022-07-11T13:52:54.190Z"
   },
   {
    "duration": 11,
    "start_time": "2022-07-11T13:52:54.697Z"
   },
   {
    "duration": 67,
    "start_time": "2022-07-11T13:52:55.120Z"
   },
   {
    "duration": 17,
    "start_time": "2022-07-11T13:53:24.638Z"
   },
   {
    "duration": 4,
    "start_time": "2022-07-11T13:53:37.786Z"
   },
   {
    "duration": 409,
    "start_time": "2022-07-11T13:53:37.999Z"
   },
   {
    "duration": 13,
    "start_time": "2022-07-11T13:53:38.759Z"
   },
   {
    "duration": 18,
    "start_time": "2022-07-11T13:53:39.222Z"
   },
   {
    "duration": 13,
    "start_time": "2022-07-11T13:53:39.242Z"
   },
   {
    "duration": 19,
    "start_time": "2022-07-11T13:53:39.257Z"
   },
   {
    "duration": 33,
    "start_time": "2022-07-11T13:53:39.278Z"
   },
   {
    "duration": 14,
    "start_time": "2022-07-11T13:53:39.388Z"
   },
   {
    "duration": 43,
    "start_time": "2022-07-11T13:53:39.539Z"
   },
   {
    "duration": 53,
    "start_time": "2022-07-11T13:53:39.695Z"
   },
   {
    "duration": 42,
    "start_time": "2022-07-11T13:53:39.749Z"
   },
   {
    "duration": 26,
    "start_time": "2022-07-11T13:53:40.029Z"
   },
   {
    "duration": 8,
    "start_time": "2022-07-11T13:53:40.338Z"
   },
   {
    "duration": 34,
    "start_time": "2022-07-11T13:53:40.347Z"
   },
   {
    "duration": 3,
    "start_time": "2022-07-11T13:53:40.509Z"
   },
   {
    "duration": 254,
    "start_time": "2022-07-11T13:53:40.669Z"
   },
   {
    "duration": 9,
    "start_time": "2022-07-11T13:53:41.469Z"
   },
   {
    "duration": 4,
    "start_time": "2022-07-11T13:54:40.747Z"
   },
   {
    "duration": 402,
    "start_time": "2022-07-11T13:54:41.029Z"
   },
   {
    "duration": 15,
    "start_time": "2022-07-11T13:54:41.434Z"
   },
   {
    "duration": 27,
    "start_time": "2022-07-11T13:54:41.452Z"
   },
   {
    "duration": 17,
    "start_time": "2022-07-11T13:54:41.659Z"
   },
   {
    "duration": 19,
    "start_time": "2022-07-11T13:54:41.678Z"
   },
   {
    "duration": 20,
    "start_time": "2022-07-11T13:54:41.699Z"
   },
   {
    "duration": 39,
    "start_time": "2022-07-11T13:54:41.722Z"
   },
   {
    "duration": 61,
    "start_time": "2022-07-11T13:54:41.921Z"
   },
   {
    "duration": 65,
    "start_time": "2022-07-11T13:54:42.088Z"
   },
   {
    "duration": 56,
    "start_time": "2022-07-11T13:54:42.155Z"
   },
   {
    "duration": 33,
    "start_time": "2022-07-11T13:54:42.408Z"
   },
   {
    "duration": 8,
    "start_time": "2022-07-11T13:54:42.659Z"
   },
   {
    "duration": 23,
    "start_time": "2022-07-11T13:54:42.756Z"
   },
   {
    "duration": 3,
    "start_time": "2022-07-11T13:54:42.930Z"
   },
   {
    "duration": 10,
    "start_time": "2022-07-11T13:54:43.158Z"
   },
   {
    "duration": 0,
    "start_time": "2022-07-11T13:54:43.169Z"
   },
   {
    "duration": 6,
    "start_time": "2022-07-11T13:54:43.464Z"
   },
   {
    "duration": 6,
    "start_time": "2022-07-11T13:54:43.759Z"
   },
   {
    "duration": 17,
    "start_time": "2022-07-11T13:54:43.914Z"
   },
   {
    "duration": 6,
    "start_time": "2022-07-11T13:54:44.348Z"
   },
   {
    "duration": 7,
    "start_time": "2022-07-11T13:54:44.587Z"
   },
   {
    "duration": 54,
    "start_time": "2022-07-11T13:54:45.949Z"
   },
   {
    "duration": 54,
    "start_time": "2022-07-11T13:55:12.898Z"
   },
   {
    "duration": 48,
    "start_time": "2022-07-11T22:54:42.634Z"
   },
   {
    "duration": 1469,
    "start_time": "2022-07-11T22:55:33.563Z"
   },
   {
    "duration": 856,
    "start_time": "2022-07-11T22:55:35.034Z"
   },
   {
    "duration": 16,
    "start_time": "2022-07-11T22:55:35.892Z"
   },
   {
    "duration": 13,
    "start_time": "2022-07-11T22:55:35.910Z"
   },
   {
    "duration": 14,
    "start_time": "2022-07-11T22:55:35.925Z"
   },
   {
    "duration": 20,
    "start_time": "2022-07-11T22:55:35.940Z"
   },
   {
    "duration": 14,
    "start_time": "2022-07-11T22:55:35.961Z"
   },
   {
    "duration": 14,
    "start_time": "2022-07-11T22:55:35.977Z"
   },
   {
    "duration": 71,
    "start_time": "2022-07-11T22:55:35.993Z"
   },
   {
    "duration": 57,
    "start_time": "2022-07-11T22:55:36.066Z"
   },
   {
    "duration": 48,
    "start_time": "2022-07-11T22:55:36.125Z"
   },
   {
    "duration": 47,
    "start_time": "2022-07-11T22:55:36.175Z"
   },
   {
    "duration": 11,
    "start_time": "2022-07-11T22:55:36.224Z"
   },
   {
    "duration": 37,
    "start_time": "2022-07-11T22:55:36.236Z"
   },
   {
    "duration": 3,
    "start_time": "2022-07-11T22:55:36.275Z"
   },
   {
    "duration": 86,
    "start_time": "2022-07-11T22:55:36.279Z"
   },
   {
    "duration": 0,
    "start_time": "2022-07-11T22:55:36.367Z"
   },
   {
    "duration": 0,
    "start_time": "2022-07-11T22:55:36.368Z"
   },
   {
    "duration": 0,
    "start_time": "2022-07-11T22:55:36.369Z"
   },
   {
    "duration": 0,
    "start_time": "2022-07-11T22:55:36.370Z"
   },
   {
    "duration": 0,
    "start_time": "2022-07-11T22:55:36.371Z"
   },
   {
    "duration": 0,
    "start_time": "2022-07-11T22:55:36.372Z"
   },
   {
    "duration": 0,
    "start_time": "2022-07-11T22:55:36.373Z"
   },
   {
    "duration": 2,
    "start_time": "2022-07-11T22:55:36.879Z"
   },
   {
    "duration": 10,
    "start_time": "2022-07-11T23:02:49.572Z"
   },
   {
    "duration": 5,
    "start_time": "2022-07-11T23:02:52.675Z"
   },
   {
    "duration": 410,
    "start_time": "2022-07-11T23:02:53.180Z"
   },
   {
    "duration": 12,
    "start_time": "2022-07-11T23:02:53.592Z"
   },
   {
    "duration": 24,
    "start_time": "2022-07-11T23:02:53.605Z"
   },
   {
    "duration": 14,
    "start_time": "2022-07-11T23:02:53.631Z"
   },
   {
    "duration": 19,
    "start_time": "2022-07-11T23:02:53.647Z"
   },
   {
    "duration": 13,
    "start_time": "2022-07-11T23:02:53.668Z"
   },
   {
    "duration": 12,
    "start_time": "2022-07-11T23:02:53.683Z"
   },
   {
    "duration": 77,
    "start_time": "2022-07-11T23:02:53.696Z"
   },
   {
    "duration": 59,
    "start_time": "2022-07-11T23:02:53.775Z"
   },
   {
    "duration": 45,
    "start_time": "2022-07-11T23:02:53.835Z"
   },
   {
    "duration": 49,
    "start_time": "2022-07-11T23:02:53.881Z"
   },
   {
    "duration": 8,
    "start_time": "2022-07-11T23:02:53.932Z"
   },
   {
    "duration": 26,
    "start_time": "2022-07-11T23:02:53.942Z"
   },
   {
    "duration": 2,
    "start_time": "2022-07-11T23:02:54.014Z"
   },
   {
    "duration": 10,
    "start_time": "2022-07-11T23:02:54.047Z"
   },
   {
    "duration": 9,
    "start_time": "2022-07-11T23:02:54.116Z"
   },
   {
    "duration": 10,
    "start_time": "2022-07-11T23:02:55.156Z"
   },
   {
    "duration": 10,
    "start_time": "2022-07-11T23:03:16.260Z"
   },
   {
    "duration": 9,
    "start_time": "2022-07-11T23:03:16.797Z"
   },
   {
    "duration": 199,
    "start_time": "2022-07-11T23:03:36.930Z"
   },
   {
    "duration": 7,
    "start_time": "2022-07-11T23:03:37.798Z"
   },
   {
    "duration": 6,
    "start_time": "2022-07-11T23:03:39.380Z"
   },
   {
    "duration": 6,
    "start_time": "2022-07-11T23:03:40.861Z"
   },
   {
    "duration": 6,
    "start_time": "2022-07-11T23:03:40.925Z"
   },
   {
    "duration": 4,
    "start_time": "2022-07-11T23:03:41.080Z"
   },
   {
    "duration": 6,
    "start_time": "2022-07-11T23:03:41.863Z"
   },
   {
    "duration": 41,
    "start_time": "2022-07-11T23:03:41.956Z"
   },
   {
    "duration": 3,
    "start_time": "2022-07-11T23:03:43.265Z"
   },
   {
    "duration": 3,
    "start_time": "2022-07-11T23:04:00.934Z"
   },
   {
    "duration": 3,
    "start_time": "2022-07-11T23:04:22.946Z"
   },
   {
    "duration": 3050,
    "start_time": "2022-07-11T23:15:36.590Z"
   },
   {
    "duration": 3440,
    "start_time": "2022-07-11T23:34:11.605Z"
   },
   {
    "duration": 9,
    "start_time": "2022-07-11T23:38:06.547Z"
   },
   {
    "duration": 3025,
    "start_time": "2022-07-11T23:38:15.986Z"
   },
   {
    "duration": 14,
    "start_time": "2022-07-11T23:38:19.013Z"
   },
   {
    "duration": 3061,
    "start_time": "2022-07-11T23:38:29.139Z"
   },
   {
    "duration": 10,
    "start_time": "2022-07-11T23:38:32.202Z"
   },
   {
    "duration": 3072,
    "start_time": "2022-07-11T23:38:39.380Z"
   },
   {
    "duration": 3004,
    "start_time": "2022-07-11T23:38:47.651Z"
   },
   {
    "duration": 9,
    "start_time": "2022-07-11T23:38:50.657Z"
   },
   {
    "duration": 9,
    "start_time": "2022-07-11T23:39:17.571Z"
   },
   {
    "duration": 13,
    "start_time": "2022-07-11T23:39:36.963Z"
   },
   {
    "duration": 3036,
    "start_time": "2022-07-11T23:39:44.659Z"
   },
   {
    "duration": 10,
    "start_time": "2022-07-11T23:39:47.975Z"
   },
   {
    "duration": 3113,
    "start_time": "2022-07-11T23:39:58.721Z"
   },
   {
    "duration": 3404,
    "start_time": "2022-07-11T23:40:13.268Z"
   },
   {
    "duration": 9,
    "start_time": "2022-07-11T23:40:16.674Z"
   },
   {
    "duration": 67,
    "start_time": "2022-07-11T23:43:02.849Z"
   },
   {
    "duration": 5,
    "start_time": "2022-07-11T23:43:09.056Z"
   },
   {
    "duration": 40,
    "start_time": "2022-07-11T23:45:30.832Z"
   },
   {
    "duration": 3028,
    "start_time": "2022-07-11T23:45:41.101Z"
   },
   {
    "duration": 13,
    "start_time": "2022-07-11T23:45:44.131Z"
   },
   {
    "duration": 7,
    "start_time": "2022-07-11T23:46:14.381Z"
   },
   {
    "duration": 40,
    "start_time": "2022-07-11T23:46:23.999Z"
   },
   {
    "duration": 3060,
    "start_time": "2022-07-11T23:46:25.213Z"
   },
   {
    "duration": 5,
    "start_time": "2022-07-11T23:46:28.275Z"
   },
   {
    "duration": 1197,
    "start_time": "2022-07-11T23:50:46.027Z"
   },
   {
    "duration": 1296,
    "start_time": "2022-07-11T23:50:53.321Z"
   },
   {
    "duration": 5,
    "start_time": "2022-07-11T23:50:56.184Z"
   },
   {
    "duration": 6,
    "start_time": "2022-07-11T23:51:36.696Z"
   },
   {
    "duration": 7,
    "start_time": "2022-07-11T23:51:40.745Z"
   },
   {
    "duration": 1175,
    "start_time": "2022-07-11T23:51:44.761Z"
   },
   {
    "duration": 5,
    "start_time": "2022-07-11T23:51:45.938Z"
   },
   {
    "duration": 7,
    "start_time": "2022-07-11T23:52:55.703Z"
   },
   {
    "duration": 7,
    "start_time": "2022-07-11T23:53:00.247Z"
   },
   {
    "duration": 5,
    "start_time": "2022-07-11T23:53:03.144Z"
   },
   {
    "duration": 1242,
    "start_time": "2022-07-11T23:54:21.479Z"
   },
   {
    "duration": 6,
    "start_time": "2022-07-11T23:54:22.722Z"
   },
   {
    "duration": 9,
    "start_time": "2022-07-11T23:59:48.691Z"
   },
   {
    "duration": 6,
    "start_time": "2022-07-12T00:01:31.361Z"
   },
   {
    "duration": 6,
    "start_time": "2022-07-12T00:02:46.161Z"
   },
   {
    "duration": 6,
    "start_time": "2022-07-12T00:02:58.945Z"
   },
   {
    "duration": 5,
    "start_time": "2022-07-12T00:03:08.625Z"
   },
   {
    "duration": 6,
    "start_time": "2022-07-12T00:04:00.223Z"
   },
   {
    "duration": 6,
    "start_time": "2022-07-12T00:04:26.703Z"
   },
   {
    "duration": 7,
    "start_time": "2022-07-12T00:04:35.487Z"
   },
   {
    "duration": 7,
    "start_time": "2022-07-12T00:08:23.074Z"
   },
   {
    "duration": 63,
    "start_time": "2022-07-12T00:12:31.355Z"
   },
   {
    "duration": 8,
    "start_time": "2022-07-12T00:14:20.251Z"
   },
   {
    "duration": 7,
    "start_time": "2022-07-12T00:14:31.273Z"
   },
   {
    "duration": 7,
    "start_time": "2022-07-12T00:15:04.921Z"
   },
   {
    "duration": 82,
    "start_time": "2022-07-12T00:16:58.185Z"
   },
   {
    "duration": 580,
    "start_time": "2022-07-12T00:17:06.377Z"
   },
   {
    "duration": 55,
    "start_time": "2022-07-12T00:17:09.495Z"
   },
   {
    "duration": 7,
    "start_time": "2022-07-12T00:17:57.575Z"
   },
   {
    "duration": 1238,
    "start_time": "2022-07-12T00:18:55.395Z"
   },
   {
    "duration": 7,
    "start_time": "2022-07-12T00:18:57.656Z"
   },
   {
    "duration": 8,
    "start_time": "2022-07-12T00:32:05.639Z"
   },
   {
    "duration": 16,
    "start_time": "2022-07-12T00:35:13.815Z"
   },
   {
    "duration": 12,
    "start_time": "2022-07-12T00:35:57.214Z"
   },
   {
    "duration": 3770,
    "start_time": "2022-07-12T00:36:11.991Z"
   },
   {
    "duration": 9,
    "start_time": "2022-07-12T00:38:10.457Z"
   },
   {
    "duration": 13,
    "start_time": "2022-07-12T01:00:42.127Z"
   },
   {
    "duration": 12,
    "start_time": "2022-07-12T01:01:03.559Z"
   },
   {
    "duration": 12,
    "start_time": "2022-07-12T01:01:21.314Z"
   },
   {
    "duration": 75,
    "start_time": "2022-07-12T01:55:29.722Z"
   },
   {
    "duration": 15,
    "start_time": "2022-07-12T01:56:37.639Z"
   },
   {
    "duration": 13,
    "start_time": "2022-07-12T01:57:00.794Z"
   },
   {
    "duration": 15,
    "start_time": "2022-07-12T02:26:30.482Z"
   },
   {
    "duration": 3507,
    "start_time": "2022-07-12T02:27:15.106Z"
   },
   {
    "duration": 12,
    "start_time": "2022-07-12T02:28:07.651Z"
   },
   {
    "duration": 40,
    "start_time": "2022-07-12T02:28:34.962Z"
   },
   {
    "duration": 40,
    "start_time": "2022-07-12T02:29:36.176Z"
   },
   {
    "duration": 11,
    "start_time": "2022-07-12T02:29:37.968Z"
   },
   {
    "duration": 15,
    "start_time": "2022-07-12T02:31:15.856Z"
   },
   {
    "duration": 14,
    "start_time": "2022-07-12T02:31:23.503Z"
   },
   {
    "duration": 3557,
    "start_time": "2022-07-12T02:31:37.663Z"
   },
   {
    "duration": 14,
    "start_time": "2022-07-12T02:31:41.223Z"
   },
   {
    "duration": 14,
    "start_time": "2022-07-12T02:41:37.841Z"
   },
   {
    "duration": 4,
    "start_time": "2022-07-12T02:42:26.946Z"
   },
   {
    "duration": 382,
    "start_time": "2022-07-12T02:42:28.450Z"
   },
   {
    "duration": 13,
    "start_time": "2022-07-12T02:42:29.034Z"
   },
   {
    "duration": 10,
    "start_time": "2022-07-12T02:42:29.058Z"
   },
   {
    "duration": 11,
    "start_time": "2022-07-12T02:42:29.090Z"
   },
   {
    "duration": 13,
    "start_time": "2022-07-12T02:42:29.186Z"
   },
   {
    "duration": 12,
    "start_time": "2022-07-12T02:42:29.216Z"
   },
   {
    "duration": 12,
    "start_time": "2022-07-12T02:42:29.246Z"
   },
   {
    "duration": 45,
    "start_time": "2022-07-12T02:42:29.354Z"
   },
   {
    "duration": 40,
    "start_time": "2022-07-12T02:42:29.401Z"
   },
   {
    "duration": 44,
    "start_time": "2022-07-12T02:42:29.444Z"
   },
   {
    "duration": 28,
    "start_time": "2022-07-12T02:42:29.557Z"
   },
   {
    "duration": 5,
    "start_time": "2022-07-12T02:42:37.071Z"
   },
   {
    "duration": 377,
    "start_time": "2022-07-12T02:42:37.582Z"
   },
   {
    "duration": 13,
    "start_time": "2022-07-12T02:42:37.961Z"
   },
   {
    "duration": 12,
    "start_time": "2022-07-12T02:42:37.976Z"
   },
   {
    "duration": 19,
    "start_time": "2022-07-12T02:42:37.990Z"
   },
   {
    "duration": 24,
    "start_time": "2022-07-12T02:42:38.010Z"
   },
   {
    "duration": 13,
    "start_time": "2022-07-12T02:42:38.035Z"
   },
   {
    "duration": 18,
    "start_time": "2022-07-12T02:42:38.050Z"
   },
   {
    "duration": 64,
    "start_time": "2022-07-12T02:42:38.070Z"
   },
   {
    "duration": 43,
    "start_time": "2022-07-12T02:42:38.135Z"
   },
   {
    "duration": 61,
    "start_time": "2022-07-12T02:42:38.180Z"
   },
   {
    "duration": 23,
    "start_time": "2022-07-12T02:42:38.243Z"
   },
   {
    "duration": 7,
    "start_time": "2022-07-12T02:42:38.307Z"
   },
   {
    "duration": 24,
    "start_time": "2022-07-12T02:42:38.337Z"
   },
   {
    "duration": 131,
    "start_time": "2022-07-12T02:42:38.399Z"
   },
   {
    "duration": 10,
    "start_time": "2022-07-12T02:42:38.622Z"
   },
   {
    "duration": 5,
    "start_time": "2022-07-12T02:42:38.724Z"
   },
   {
    "duration": 18,
    "start_time": "2022-07-12T02:42:38.731Z"
   },
   {
    "duration": 6,
    "start_time": "2022-07-12T02:42:38.773Z"
   },
   {
    "duration": 5,
    "start_time": "2022-07-12T02:42:38.962Z"
   },
   {
    "duration": 4,
    "start_time": "2022-07-12T02:42:39.074Z"
   },
   {
    "duration": 41,
    "start_time": "2022-07-12T02:42:39.169Z"
   },
   {
    "duration": 3572,
    "start_time": "2022-07-12T02:42:39.291Z"
   },
   {
    "duration": 16,
    "start_time": "2022-07-12T02:42:42.865Z"
   },
   {
    "duration": 124,
    "start_time": "2022-07-12T02:44:08.800Z"
   },
   {
    "duration": 9,
    "start_time": "2022-07-12T02:44:09.340Z"
   },
   {
    "duration": 6,
    "start_time": "2022-07-12T02:44:09.434Z"
   },
   {
    "duration": 5,
    "start_time": "2022-07-12T02:44:10.081Z"
   },
   {
    "duration": 5,
    "start_time": "2022-07-12T02:44:11.713Z"
   },
   {
    "duration": 6,
    "start_time": "2022-07-12T02:44:24.097Z"
   },
   {
    "duration": 5,
    "start_time": "2022-07-12T02:44:24.777Z"
   },
   {
    "duration": 5,
    "start_time": "2022-07-12T02:44:25.792Z"
   },
   {
    "duration": 41,
    "start_time": "2022-07-12T02:44:27.136Z"
   },
   {
    "duration": 3648,
    "start_time": "2022-07-12T02:44:30.599Z"
   },
   {
    "duration": 19,
    "start_time": "2022-07-12T02:44:34.249Z"
   },
   {
    "duration": 15,
    "start_time": "2022-07-12T02:45:15.137Z"
   },
   {
    "duration": 80,
    "start_time": "2022-07-12T02:52:00.111Z"
   },
   {
    "duration": 77,
    "start_time": "2022-07-12T02:52:41.281Z"
   },
   {
    "duration": 1419,
    "start_time": "2022-07-12T02:53:51.039Z"
   },
   {
    "duration": 16,
    "start_time": "2022-07-12T02:55:50.847Z"
   },
   {
    "duration": 41,
    "start_time": "2022-07-12T02:57:04.175Z"
   },
   {
    "duration": 72,
    "start_time": "2022-07-12T02:57:36.141Z"
   },
   {
    "duration": 74,
    "start_time": "2022-07-12T02:58:41.245Z"
   },
   {
    "duration": 51,
    "start_time": "2022-07-12T02:58:46.941Z"
   },
   {
    "duration": 14,
    "start_time": "2022-07-12T02:59:35.485Z"
   },
   {
    "duration": 5,
    "start_time": "2022-07-12T03:00:06.111Z"
   },
   {
    "duration": 3661,
    "start_time": "2022-07-12T03:00:15.359Z"
   },
   {
    "duration": 4,
    "start_time": "2022-07-12T03:00:51.693Z"
   },
   {
    "duration": 5,
    "start_time": "2022-07-12T03:01:28.717Z"
   },
   {
    "duration": 3777,
    "start_time": "2022-07-12T03:01:30.622Z"
   },
   {
    "duration": 30,
    "start_time": "2022-07-12T03:01:34.402Z"
   },
   {
    "duration": 15,
    "start_time": "2022-07-12T03:02:43.004Z"
   },
   {
    "duration": 12,
    "start_time": "2022-07-12T03:03:23.677Z"
   },
   {
    "duration": 12,
    "start_time": "2022-07-12T03:03:32.059Z"
   },
   {
    "duration": 13,
    "start_time": "2022-07-12T03:04:16.306Z"
   },
   {
    "duration": 3155,
    "start_time": "2022-07-12T03:04:26.795Z"
   },
   {
    "duration": 18,
    "start_time": "2022-07-12T03:04:29.952Z"
   },
   {
    "duration": 16,
    "start_time": "2022-07-12T03:05:22.220Z"
   },
   {
    "duration": 16,
    "start_time": "2022-07-12T03:06:10.911Z"
   },
   {
    "duration": 18,
    "start_time": "2022-07-12T03:07:02.204Z"
   },
   {
    "duration": 20,
    "start_time": "2022-07-12T03:07:25.244Z"
   },
   {
    "duration": 16,
    "start_time": "2022-07-12T03:07:39.100Z"
   },
   {
    "duration": 15,
    "start_time": "2022-07-12T03:07:54.042Z"
   },
   {
    "duration": 15,
    "start_time": "2022-07-12T03:08:12.492Z"
   },
   {
    "duration": 15,
    "start_time": "2022-07-12T03:08:27.422Z"
   },
   {
    "duration": 16,
    "start_time": "2022-07-12T03:08:46.203Z"
   },
   {
    "duration": 23,
    "start_time": "2022-07-12T07:15:46.060Z"
   },
   {
    "duration": 22,
    "start_time": "2022-07-12T07:16:37.371Z"
   },
   {
    "duration": 20,
    "start_time": "2022-07-12T07:17:04.043Z"
   },
   {
    "duration": 17,
    "start_time": "2022-07-12T07:17:38.217Z"
   },
   {
    "duration": 18,
    "start_time": "2022-07-12T07:17:52.617Z"
   },
   {
    "duration": 16,
    "start_time": "2022-07-12T07:18:03.913Z"
   },
   {
    "duration": 20,
    "start_time": "2022-07-12T07:18:14.539Z"
   },
   {
    "duration": 3784,
    "start_time": "2022-07-12T07:19:11.209Z"
   },
   {
    "duration": 18,
    "start_time": "2022-07-12T07:20:05.032Z"
   },
   {
    "duration": 21,
    "start_time": "2022-07-12T07:20:28.216Z"
   },
   {
    "duration": 16,
    "start_time": "2022-07-12T07:20:56.343Z"
   },
   {
    "duration": 14,
    "start_time": "2022-07-12T07:35:56.351Z"
   },
   {
    "duration": 3524,
    "start_time": "2022-07-12T07:38:16.829Z"
   },
   {
    "duration": 13,
    "start_time": "2022-07-12T07:38:20.355Z"
   },
   {
    "duration": 3678,
    "start_time": "2022-07-12T07:39:14.125Z"
   },
   {
    "duration": 13,
    "start_time": "2022-07-12T07:39:18.077Z"
   },
   {
    "duration": 292,
    "start_time": "2022-07-12T07:44:16.971Z"
   },
   {
    "duration": 13,
    "start_time": "2022-07-12T07:44:17.472Z"
   },
   {
    "duration": 120,
    "start_time": "2022-07-12T07:47:23.948Z"
   },
   {
    "duration": 53,
    "start_time": "2022-07-12T07:47:53.434Z"
   },
   {
    "duration": 3607,
    "start_time": "2022-07-12T07:48:29.675Z"
   },
   {
    "duration": 3576,
    "start_time": "2022-07-12T07:49:49.255Z"
   },
   {
    "duration": 5,
    "start_time": "2022-07-12T07:49:57.079Z"
   },
   {
    "duration": 3621,
    "start_time": "2022-07-12T07:50:00.318Z"
   },
   {
    "duration": 8,
    "start_time": "2022-07-12T07:52:14.180Z"
   },
   {
    "duration": 3,
    "start_time": "2022-07-12T07:52:25.783Z"
   },
   {
    "duration": 12,
    "start_time": "2022-07-12T07:53:24.583Z"
   },
   {
    "duration": 310,
    "start_time": "2022-07-12T07:54:08.939Z"
   },
   {
    "duration": 290,
    "start_time": "2022-07-12T07:54:15.429Z"
   },
   {
    "duration": 6,
    "start_time": "2022-07-12T07:54:33.381Z"
   },
   {
    "duration": 320,
    "start_time": "2022-07-12T07:55:22.710Z"
   },
   {
    "duration": 198,
    "start_time": "2022-07-12T07:56:36.853Z"
   },
   {
    "duration": 253,
    "start_time": "2022-07-12T07:57:42.070Z"
   },
   {
    "duration": 292,
    "start_time": "2022-07-12T08:06:59.587Z"
   },
   {
    "duration": 10,
    "start_time": "2022-07-12T08:07:10.209Z"
   },
   {
    "duration": 215,
    "start_time": "2022-07-12T08:07:17.424Z"
   },
   {
    "duration": 5,
    "start_time": "2022-07-12T08:11:36.285Z"
   },
   {
    "duration": 3362,
    "start_time": "2022-07-12T08:11:36.923Z"
   },
   {
    "duration": 8,
    "start_time": "2022-07-12T08:11:40.287Z"
   },
   {
    "duration": 5,
    "start_time": "2022-07-12T08:12:11.949Z"
   },
   {
    "duration": 5,
    "start_time": "2022-07-12T08:12:34.411Z"
   },
   {
    "duration": 9,
    "start_time": "2022-07-12T08:30:23.758Z"
   },
   {
    "duration": 13,
    "start_time": "2022-07-12T08:30:52.142Z"
   },
   {
    "duration": 11,
    "start_time": "2022-07-12T08:31:55.086Z"
   },
   {
    "duration": 3521,
    "start_time": "2022-07-12T08:32:39.968Z"
   },
   {
    "duration": 13,
    "start_time": "2022-07-12T08:32:43.492Z"
   },
   {
    "duration": 11,
    "start_time": "2022-07-12T08:33:00.527Z"
   },
   {
    "duration": 15,
    "start_time": "2022-07-12T08:33:23.296Z"
   },
   {
    "duration": 16,
    "start_time": "2022-07-12T08:33:29.100Z"
   },
   {
    "duration": 16,
    "start_time": "2022-07-12T08:33:33.916Z"
   },
   {
    "duration": 15,
    "start_time": "2022-07-12T08:34:03.341Z"
   },
   {
    "duration": 17,
    "start_time": "2022-07-12T08:35:00.397Z"
   },
   {
    "duration": 16,
    "start_time": "2022-07-12T08:36:26.477Z"
   },
   {
    "duration": 21,
    "start_time": "2022-07-12T08:36:51.215Z"
   },
   {
    "duration": 25,
    "start_time": "2022-07-12T08:38:41.020Z"
   },
   {
    "duration": 20,
    "start_time": "2022-07-12T08:43:07.194Z"
   },
   {
    "duration": 23,
    "start_time": "2022-07-12T08:43:31.355Z"
   },
   {
    "duration": 16,
    "start_time": "2022-07-12T08:44:14.746Z"
   },
   {
    "duration": 22,
    "start_time": "2022-07-12T08:44:52.906Z"
   },
   {
    "duration": 27,
    "start_time": "2022-07-12T08:49:34.554Z"
   },
   {
    "duration": 22,
    "start_time": "2022-07-12T08:50:37.480Z"
   },
   {
    "duration": 28,
    "start_time": "2022-07-12T08:51:16.471Z"
   },
   {
    "duration": 25,
    "start_time": "2022-07-12T08:51:31.061Z"
   },
   {
    "duration": 32,
    "start_time": "2022-07-12T08:52:00.168Z"
   },
   {
    "duration": 22,
    "start_time": "2022-07-12T08:52:06.022Z"
   },
   {
    "duration": 23,
    "start_time": "2022-07-12T08:52:19.336Z"
   },
   {
    "duration": 21,
    "start_time": "2022-07-12T08:53:09.039Z"
   },
   {
    "duration": 26,
    "start_time": "2022-07-12T18:54:03.530Z"
   },
   {
    "duration": 38,
    "start_time": "2022-07-12T18:54:23.116Z"
   },
   {
    "duration": 25,
    "start_time": "2022-07-12T18:54:35.257Z"
   },
   {
    "duration": 30,
    "start_time": "2022-07-12T18:56:10.906Z"
   },
   {
    "duration": 25,
    "start_time": "2022-07-12T18:56:46.236Z"
   },
   {
    "duration": 24,
    "start_time": "2022-07-12T18:56:57.896Z"
   },
   {
    "duration": 28,
    "start_time": "2022-07-12T18:57:49.768Z"
   },
   {
    "duration": 27,
    "start_time": "2022-07-12T18:59:21.591Z"
   },
   {
    "duration": 30,
    "start_time": "2022-07-12T20:05:12.867Z"
   },
   {
    "duration": 4,
    "start_time": "2022-07-12T20:05:18.980Z"
   },
   {
    "duration": 425,
    "start_time": "2022-07-12T20:05:19.474Z"
   },
   {
    "duration": 25,
    "start_time": "2022-07-12T20:05:19.901Z"
   },
   {
    "duration": 16,
    "start_time": "2022-07-12T20:05:19.929Z"
   },
   {
    "duration": 13,
    "start_time": "2022-07-12T20:05:19.947Z"
   },
   {
    "duration": 22,
    "start_time": "2022-07-12T20:05:19.962Z"
   },
   {
    "duration": 35,
    "start_time": "2022-07-12T20:05:19.991Z"
   },
   {
    "duration": 22,
    "start_time": "2022-07-12T20:05:20.030Z"
   },
   {
    "duration": 47,
    "start_time": "2022-07-12T20:05:20.054Z"
   },
   {
    "duration": 70,
    "start_time": "2022-07-12T20:05:20.103Z"
   },
   {
    "duration": 71,
    "start_time": "2022-07-12T20:05:20.175Z"
   },
   {
    "duration": 31,
    "start_time": "2022-07-12T20:05:20.248Z"
   },
   {
    "duration": 8,
    "start_time": "2022-07-12T20:05:20.281Z"
   },
   {
    "duration": 54,
    "start_time": "2022-07-12T20:05:20.290Z"
   },
   {
    "duration": 185,
    "start_time": "2022-07-12T20:05:20.347Z"
   },
   {
    "duration": 13,
    "start_time": "2022-07-12T20:05:20.536Z"
   },
   {
    "duration": 100,
    "start_time": "2022-07-12T20:05:20.628Z"
   },
   {
    "duration": 18,
    "start_time": "2022-07-12T20:05:20.736Z"
   },
   {
    "duration": 11,
    "start_time": "2022-07-12T20:05:20.756Z"
   },
   {
    "duration": 7,
    "start_time": "2022-07-12T20:05:20.864Z"
   },
   {
    "duration": 6,
    "start_time": "2022-07-12T20:05:20.973Z"
   },
   {
    "duration": 4,
    "start_time": "2022-07-12T20:05:21.064Z"
   },
   {
    "duration": 3675,
    "start_time": "2022-07-12T20:05:21.959Z"
   },
   {
    "duration": 33,
    "start_time": "2022-07-12T20:05:25.636Z"
   },
   {
    "duration": 5,
    "start_time": "2022-07-12T20:06:30.415Z"
   },
   {
    "duration": 452,
    "start_time": "2022-07-12T20:06:30.919Z"
   },
   {
    "duration": 14,
    "start_time": "2022-07-12T20:06:31.373Z"
   },
   {
    "duration": 52,
    "start_time": "2022-07-12T20:06:31.389Z"
   },
   {
    "duration": 32,
    "start_time": "2022-07-12T20:06:31.443Z"
   },
   {
    "duration": 33,
    "start_time": "2022-07-12T20:06:31.477Z"
   },
   {
    "duration": 39,
    "start_time": "2022-07-12T20:06:31.511Z"
   },
   {
    "duration": 28,
    "start_time": "2022-07-12T20:06:31.552Z"
   },
   {
    "duration": 64,
    "start_time": "2022-07-12T20:06:31.582Z"
   },
   {
    "duration": 44,
    "start_time": "2022-07-12T20:06:31.649Z"
   },
   {
    "duration": 69,
    "start_time": "2022-07-12T20:06:31.696Z"
   },
   {
    "duration": 28,
    "start_time": "2022-07-12T20:06:31.767Z"
   },
   {
    "duration": 32,
    "start_time": "2022-07-12T20:06:31.798Z"
   },
   {
    "duration": 61,
    "start_time": "2022-07-12T20:06:31.832Z"
   },
   {
    "duration": 136,
    "start_time": "2022-07-12T20:06:31.895Z"
   },
   {
    "duration": 112,
    "start_time": "2022-07-12T20:06:32.034Z"
   },
   {
    "duration": 19,
    "start_time": "2022-07-12T20:06:32.149Z"
   },
   {
    "duration": 22,
    "start_time": "2022-07-12T20:06:32.170Z"
   },
   {
    "duration": 14,
    "start_time": "2022-07-12T20:06:32.194Z"
   },
   {
    "duration": 7,
    "start_time": "2022-07-12T20:06:32.308Z"
   },
   {
    "duration": 7,
    "start_time": "2022-07-12T20:06:32.798Z"
   },
   {
    "duration": 4,
    "start_time": "2022-07-12T20:06:33.775Z"
   },
   {
    "duration": 3527,
    "start_time": "2022-07-12T20:06:35.262Z"
   },
   {
    "duration": 43,
    "start_time": "2022-07-12T20:06:38.792Z"
   },
   {
    "duration": 6,
    "start_time": "2022-07-12T20:07:04.770Z"
   },
   {
    "duration": 412,
    "start_time": "2022-07-12T20:07:05.268Z"
   },
   {
    "duration": 12,
    "start_time": "2022-07-12T20:07:05.682Z"
   },
   {
    "duration": 49,
    "start_time": "2022-07-12T20:07:05.695Z"
   },
   {
    "duration": 32,
    "start_time": "2022-07-12T20:07:05.747Z"
   },
   {
    "duration": 40,
    "start_time": "2022-07-12T20:07:05.780Z"
   },
   {
    "duration": 39,
    "start_time": "2022-07-12T20:07:05.821Z"
   },
   {
    "duration": 20,
    "start_time": "2022-07-12T20:07:05.862Z"
   },
   {
    "duration": 63,
    "start_time": "2022-07-12T20:07:05.884Z"
   },
   {
    "duration": 55,
    "start_time": "2022-07-12T20:07:05.949Z"
   },
   {
    "duration": 81,
    "start_time": "2022-07-12T20:07:06.007Z"
   },
   {
    "duration": 44,
    "start_time": "2022-07-12T20:07:06.090Z"
   },
   {
    "duration": 39,
    "start_time": "2022-07-12T20:07:06.135Z"
   },
   {
    "duration": 65,
    "start_time": "2022-07-12T20:07:06.176Z"
   },
   {
    "duration": 102,
    "start_time": "2022-07-12T20:07:06.245Z"
   },
   {
    "duration": 210,
    "start_time": "2022-07-12T20:07:06.350Z"
   },
   {
    "duration": 17,
    "start_time": "2022-07-12T20:07:06.562Z"
   },
   {
    "duration": 27,
    "start_time": "2022-07-12T20:07:06.581Z"
   },
   {
    "duration": 37,
    "start_time": "2022-07-12T20:07:06.611Z"
   },
   {
    "duration": 15,
    "start_time": "2022-07-12T20:07:06.656Z"
   },
   {
    "duration": 13,
    "start_time": "2022-07-12T20:07:06.764Z"
   },
   {
    "duration": 5,
    "start_time": "2022-07-12T20:07:06.858Z"
   },
   {
    "duration": 3839,
    "start_time": "2022-07-12T20:07:07.022Z"
   },
   {
    "duration": 27,
    "start_time": "2022-07-12T20:07:10.864Z"
   },
   {
    "duration": 33,
    "start_time": "2022-07-12T20:15:46.223Z"
   },
   {
    "duration": 5,
    "start_time": "2022-07-12T20:15:50.587Z"
   },
   {
    "duration": 4,
    "start_time": "2022-07-12T20:19:18.977Z"
   },
   {
    "duration": 4,
    "start_time": "2022-07-12T23:46:34.101Z"
   },
   {
    "duration": 12,
    "start_time": "2022-07-12T23:48:41.748Z"
   },
   {
    "duration": 6,
    "start_time": "2022-07-12T23:48:58.707Z"
   },
   {
    "duration": 9,
    "start_time": "2022-07-12T23:54:50.817Z"
   },
   {
    "duration": 9,
    "start_time": "2022-07-12T23:56:17.856Z"
   },
   {
    "duration": 9,
    "start_time": "2022-07-12T23:57:01.983Z"
   },
   {
    "duration": 11,
    "start_time": "2022-07-12T23:57:53.039Z"
   },
   {
    "duration": 11,
    "start_time": "2022-07-12T23:58:21.423Z"
   },
   {
    "duration": 6,
    "start_time": "2022-07-12T23:59:25.310Z"
   },
   {
    "duration": 11,
    "start_time": "2022-07-13T00:00:30.273Z"
   },
   {
    "duration": 10,
    "start_time": "2022-07-13T00:02:01.229Z"
   },
   {
    "duration": 22,
    "start_time": "2022-07-13T00:03:51.613Z"
   },
   {
    "duration": 11,
    "start_time": "2022-07-13T00:05:22.347Z"
   },
   {
    "duration": 30,
    "start_time": "2022-07-13T00:58:20.227Z"
   },
   {
    "duration": 44,
    "start_time": "2022-07-13T00:58:27.747Z"
   },
   {
    "duration": 33,
    "start_time": "2022-07-13T00:58:46.355Z"
   },
   {
    "duration": 32,
    "start_time": "2022-07-13T01:00:09.123Z"
   },
   {
    "duration": 30,
    "start_time": "2022-07-13T01:00:13.531Z"
   },
   {
    "duration": 34,
    "start_time": "2022-07-13T01:01:18.755Z"
   },
   {
    "duration": 30,
    "start_time": "2022-07-13T01:01:23.795Z"
   },
   {
    "duration": 31,
    "start_time": "2022-07-13T01:02:22.435Z"
   },
   {
    "duration": 63,
    "start_time": "2022-07-13T04:06:55.278Z"
   },
   {
    "duration": 1538,
    "start_time": "2022-07-15T04:42:52.715Z"
   },
   {
    "duration": 830,
    "start_time": "2022-07-15T04:42:54.255Z"
   },
   {
    "duration": 17,
    "start_time": "2022-07-15T04:42:55.087Z"
   },
   {
    "duration": 17,
    "start_time": "2022-07-15T04:42:55.106Z"
   },
   {
    "duration": 28,
    "start_time": "2022-07-15T04:42:55.125Z"
   },
   {
    "duration": 25,
    "start_time": "2022-07-15T04:42:55.155Z"
   },
   {
    "duration": 17,
    "start_time": "2022-07-15T04:42:55.182Z"
   },
   {
    "duration": 14,
    "start_time": "2022-07-15T04:42:55.201Z"
   },
   {
    "duration": 62,
    "start_time": "2022-07-15T04:42:55.216Z"
   },
   {
    "duration": 51,
    "start_time": "2022-07-15T04:42:55.280Z"
   },
   {
    "duration": 56,
    "start_time": "2022-07-15T04:42:55.332Z"
   },
   {
    "duration": 13,
    "start_time": "2022-07-15T04:42:55.390Z"
   },
   {
    "duration": 11,
    "start_time": "2022-07-15T04:42:55.498Z"
   },
   {
    "duration": 36,
    "start_time": "2022-07-15T04:42:55.529Z"
   },
   {
    "duration": 332,
    "start_time": "2022-07-15T04:42:55.593Z"
   },
   {
    "duration": 8,
    "start_time": "2022-07-15T04:42:56.473Z"
   },
   {
    "duration": 7,
    "start_time": "2022-07-15T04:42:57.935Z"
   },
   {
    "duration": 6,
    "start_time": "2022-07-15T04:42:58.105Z"
   },
   {
    "duration": 6,
    "start_time": "2022-07-15T04:42:58.569Z"
   },
   {
    "duration": 5,
    "start_time": "2022-07-15T04:43:00.766Z"
   },
   {
    "duration": 5,
    "start_time": "2022-07-15T04:43:01.337Z"
   },
   {
    "duration": 4,
    "start_time": "2022-07-15T04:43:01.907Z"
   },
   {
    "duration": 61,
    "start_time": "2022-07-15T17:23:54.071Z"
   },
   {
    "duration": 1788,
    "start_time": "2022-07-15T17:24:00.304Z"
   },
   {
    "duration": 2819,
    "start_time": "2022-07-15T17:24:02.095Z"
   },
   {
    "duration": 18,
    "start_time": "2022-07-15T17:24:04.916Z"
   },
   {
    "duration": 18,
    "start_time": "2022-07-15T17:24:04.936Z"
   },
   {
    "duration": 49,
    "start_time": "2022-07-15T17:24:04.955Z"
   },
   {
    "duration": 22,
    "start_time": "2022-07-15T17:24:05.006Z"
   },
   {
    "duration": 22,
    "start_time": "2022-07-15T17:24:05.030Z"
   },
   {
    "duration": 59,
    "start_time": "2022-07-15T17:24:05.055Z"
   },
   {
    "duration": 90,
    "start_time": "2022-07-15T17:24:05.116Z"
   },
   {
    "duration": 76,
    "start_time": "2022-07-15T17:24:05.210Z"
   },
   {
    "duration": 68,
    "start_time": "2022-07-15T17:24:05.288Z"
   },
   {
    "duration": 25,
    "start_time": "2022-07-15T17:24:05.359Z"
   },
   {
    "duration": 38,
    "start_time": "2022-07-15T17:24:05.386Z"
   },
   {
    "duration": 59,
    "start_time": "2022-07-15T17:24:05.426Z"
   },
   {
    "duration": 197,
    "start_time": "2022-07-15T17:24:05.486Z"
   },
   {
    "duration": 23,
    "start_time": "2022-07-15T17:24:05.740Z"
   },
   {
    "duration": 116,
    "start_time": "2022-07-15T17:24:05.771Z"
   },
   {
    "duration": 8,
    "start_time": "2022-07-15T17:24:05.889Z"
   },
   {
    "duration": 17,
    "start_time": "2022-07-15T17:24:05.898Z"
   },
   {
    "duration": 11,
    "start_time": "2022-07-15T17:24:05.917Z"
   },
   {
    "duration": 22,
    "start_time": "2022-07-15T17:24:05.929Z"
   },
   {
    "duration": 133,
    "start_time": "2022-07-15T17:24:05.955Z"
   },
   {
    "duration": 10,
    "start_time": "2022-07-15T17:24:37.517Z"
   },
   {
    "duration": 15,
    "start_time": "2022-07-15T17:25:50.029Z"
   },
   {
    "duration": 6,
    "start_time": "2022-07-15T17:26:01.198Z"
   },
   {
    "duration": 6,
    "start_time": "2022-07-15T17:26:09.378Z"
   },
   {
    "duration": 8,
    "start_time": "2022-07-15T17:26:27.166Z"
   },
   {
    "duration": 21,
    "start_time": "2022-07-15T17:26:40.238Z"
   },
   {
    "duration": 8,
    "start_time": "2022-07-15T17:26:43.886Z"
   },
   {
    "duration": 9,
    "start_time": "2022-07-15T17:26:50.877Z"
   },
   {
    "duration": 12,
    "start_time": "2022-07-15T17:27:00.860Z"
   },
   {
    "duration": 9,
    "start_time": "2022-07-15T17:27:05.707Z"
   },
   {
    "duration": 9,
    "start_time": "2022-07-15T17:27:31.774Z"
   },
   {
    "duration": 9,
    "start_time": "2022-07-15T17:28:01.115Z"
   },
   {
    "duration": 24,
    "start_time": "2022-07-15T17:28:15.983Z"
   },
   {
    "duration": 30,
    "start_time": "2022-07-15T17:30:04.395Z"
   },
   {
    "duration": 30,
    "start_time": "2022-07-15T17:32:31.756Z"
   },
   {
    "duration": 22,
    "start_time": "2022-07-15T17:32:36.555Z"
   },
   {
    "duration": 14,
    "start_time": "2022-07-15T17:32:46.633Z"
   },
   {
    "duration": 8,
    "start_time": "2022-07-15T17:32:54.666Z"
   },
   {
    "duration": 28,
    "start_time": "2022-07-15T17:33:26.697Z"
   },
   {
    "duration": 29,
    "start_time": "2022-07-15T17:33:32.873Z"
   },
   {
    "duration": 10,
    "start_time": "2022-07-15T17:33:47.163Z"
   },
   {
    "duration": 12,
    "start_time": "2022-07-15T17:34:12.377Z"
   },
   {
    "duration": 9,
    "start_time": "2022-07-15T17:34:24.970Z"
   },
   {
    "duration": 14,
    "start_time": "2022-07-15T17:34:27.929Z"
   },
   {
    "duration": 33,
    "start_time": "2022-07-15T17:36:29.834Z"
   },
   {
    "duration": 23,
    "start_time": "2022-07-15T17:36:47.554Z"
   },
   {
    "duration": 27,
    "start_time": "2022-07-15T17:37:02.119Z"
   },
   {
    "duration": 10,
    "start_time": "2022-07-15T17:37:05.575Z"
   },
   {
    "duration": 9,
    "start_time": "2022-07-15T17:38:11.817Z"
   },
   {
    "duration": 10,
    "start_time": "2022-07-15T17:38:29.191Z"
   },
   {
    "duration": 12,
    "start_time": "2022-07-15T17:38:38.424Z"
   },
   {
    "duration": 14,
    "start_time": "2022-07-15T17:39:00.519Z"
   },
   {
    "duration": 18,
    "start_time": "2022-07-15T17:39:19.496Z"
   },
   {
    "duration": 7486,
    "start_time": "2022-07-15T17:40:16.263Z"
   },
   {
    "duration": 14,
    "start_time": "2022-07-15T17:40:32.276Z"
   },
   {
    "duration": 20,
    "start_time": "2022-07-15T17:40:54.935Z"
   },
   {
    "duration": 20,
    "start_time": "2022-07-15T17:41:03.940Z"
   },
   {
    "duration": 13,
    "start_time": "2022-07-15T17:41:07.898Z"
   },
   {
    "duration": 1439,
    "start_time": "2022-07-15T17:41:21.382Z"
   },
   {
    "duration": 1535,
    "start_time": "2022-07-15T17:41:31.399Z"
   },
   {
    "duration": 11,
    "start_time": "2022-07-15T17:41:55.967Z"
   },
   {
    "duration": 10,
    "start_time": "2022-07-15T17:42:16.180Z"
   },
   {
    "duration": 39,
    "start_time": "2022-07-15T17:42:29.143Z"
   },
   {
    "duration": 12,
    "start_time": "2022-07-15T17:42:38.714Z"
   },
   {
    "duration": 15,
    "start_time": "2022-07-15T17:42:56.263Z"
   },
   {
    "duration": 14,
    "start_time": "2022-07-15T17:43:10.251Z"
   },
   {
    "duration": 10,
    "start_time": "2022-07-15T17:43:41.716Z"
   },
   {
    "duration": 10,
    "start_time": "2022-07-15T17:44:04.900Z"
   },
   {
    "duration": 12,
    "start_time": "2022-07-15T17:44:46.515Z"
   },
   {
    "duration": 23,
    "start_time": "2022-07-15T17:45:26.884Z"
   },
   {
    "duration": 24,
    "start_time": "2022-07-15T17:45:37.475Z"
   },
   {
    "duration": 18,
    "start_time": "2022-07-15T17:45:44.979Z"
   },
   {
    "duration": 11,
    "start_time": "2022-07-15T17:45:59.634Z"
   },
   {
    "duration": 21,
    "start_time": "2022-07-15T17:46:10.762Z"
   },
   {
    "duration": 13,
    "start_time": "2022-07-15T17:46:16.101Z"
   },
   {
    "duration": 9,
    "start_time": "2022-07-15T17:46:41.899Z"
   },
   {
    "duration": 10,
    "start_time": "2022-07-15T17:47:01.379Z"
   },
   {
    "duration": 11,
    "start_time": "2022-07-15T17:49:13.921Z"
   },
   {
    "duration": 8,
    "start_time": "2022-07-15T17:49:23.777Z"
   },
   {
    "duration": 14,
    "start_time": "2022-07-15T17:49:42.607Z"
   },
   {
    "duration": 10,
    "start_time": "2022-07-15T17:50:01.792Z"
   },
   {
    "duration": 9,
    "start_time": "2022-07-15T17:50:09.727Z"
   },
   {
    "duration": 34,
    "start_time": "2022-07-15T17:51:41.169Z"
   },
   {
    "duration": 48,
    "start_time": "2022-07-15T17:51:44.406Z"
   },
   {
    "duration": 42,
    "start_time": "2022-07-15T17:51:52.430Z"
   },
   {
    "duration": 12,
    "start_time": "2022-07-15T17:52:18.466Z"
   },
   {
    "duration": 9,
    "start_time": "2022-07-15T17:55:01.902Z"
   },
   {
    "duration": 101,
    "start_time": "2022-07-15T17:57:24.907Z"
   },
   {
    "duration": 18,
    "start_time": "2022-07-15T17:57:27.787Z"
   },
   {
    "duration": 100,
    "start_time": "2022-07-15T17:58:36.523Z"
   },
   {
    "duration": 18,
    "start_time": "2022-07-15T17:58:40.269Z"
   },
   {
    "duration": 22,
    "start_time": "2022-07-15T17:59:15.916Z"
   },
   {
    "duration": 1741,
    "start_time": "2022-07-15T17:59:30.163Z"
   },
   {
    "duration": 15,
    "start_time": "2022-07-15T17:59:36.319Z"
   },
   {
    "duration": 16,
    "start_time": "2022-07-15T17:59:53.918Z"
   },
   {
    "duration": 140,
    "start_time": "2022-07-15T18:00:29.196Z"
   },
   {
    "duration": 19,
    "start_time": "2022-07-15T18:00:32.630Z"
   },
   {
    "duration": 27,
    "start_time": "2022-07-15T18:00:59.472Z"
   },
   {
    "duration": 19,
    "start_time": "2022-07-15T18:01:06.363Z"
   },
   {
    "duration": 23,
    "start_time": "2022-07-15T18:01:30.151Z"
   },
   {
    "duration": 30,
    "start_time": "2022-07-15T18:01:44.537Z"
   },
   {
    "duration": 20,
    "start_time": "2022-07-15T18:01:55.722Z"
   },
   {
    "duration": 27,
    "start_time": "2022-07-15T18:02:17.956Z"
   },
   {
    "duration": 25,
    "start_time": "2022-07-15T18:03:20.024Z"
   },
   {
    "duration": 19,
    "start_time": "2022-07-15T18:03:46.584Z"
   },
   {
    "duration": 21,
    "start_time": "2022-07-15T18:04:01.500Z"
   },
   {
    "duration": 1548,
    "start_time": "2022-07-15T18:05:06.968Z"
   },
   {
    "duration": 25,
    "start_time": "2022-07-15T18:05:14.984Z"
   },
   {
    "duration": 14,
    "start_time": "2022-07-15T18:05:25.792Z"
   },
   {
    "duration": 19,
    "start_time": "2022-07-15T18:05:51.096Z"
   },
   {
    "duration": 26,
    "start_time": "2022-07-15T18:06:28.822Z"
   },
   {
    "duration": 19,
    "start_time": "2022-07-15T18:06:36.598Z"
   },
   {
    "duration": 19,
    "start_time": "2022-07-15T18:06:50.805Z"
   },
   {
    "duration": 24,
    "start_time": "2022-07-15T18:07:00.970Z"
   },
   {
    "duration": 19,
    "start_time": "2022-07-15T18:07:13.464Z"
   },
   {
    "duration": 20,
    "start_time": "2022-07-15T18:07:37.468Z"
   },
   {
    "duration": 14,
    "start_time": "2022-07-15T18:08:11.910Z"
   },
   {
    "duration": 16,
    "start_time": "2022-07-15T18:08:31.190Z"
   },
   {
    "duration": 18,
    "start_time": "2022-07-15T18:08:42.533Z"
   },
   {
    "duration": 14,
    "start_time": "2022-07-15T18:09:09.270Z"
   },
   {
    "duration": 5,
    "start_time": "2022-07-15T18:09:12.790Z"
   },
   {
    "duration": 870,
    "start_time": "2022-07-15T18:09:13.299Z"
   },
   {
    "duration": 14,
    "start_time": "2022-07-15T18:09:14.171Z"
   },
   {
    "duration": 17,
    "start_time": "2022-07-15T18:09:14.187Z"
   },
   {
    "duration": 24,
    "start_time": "2022-07-15T18:09:14.206Z"
   },
   {
    "duration": 35,
    "start_time": "2022-07-15T18:09:14.232Z"
   },
   {
    "duration": 27,
    "start_time": "2022-07-15T18:09:14.271Z"
   },
   {
    "duration": 15,
    "start_time": "2022-07-15T18:09:14.299Z"
   },
   {
    "duration": 64,
    "start_time": "2022-07-15T18:09:14.315Z"
   },
   {
    "duration": 80,
    "start_time": "2022-07-15T18:09:14.381Z"
   },
   {
    "duration": 53,
    "start_time": "2022-07-15T18:09:14.467Z"
   },
   {
    "duration": 13,
    "start_time": "2022-07-15T18:09:14.521Z"
   },
   {
    "duration": 47,
    "start_time": "2022-07-15T18:09:14.535Z"
   },
   {
    "duration": 37,
    "start_time": "2022-07-15T18:09:14.584Z"
   },
   {
    "duration": 120,
    "start_time": "2022-07-15T18:09:14.623Z"
   },
   {
    "duration": 8,
    "start_time": "2022-07-15T18:09:14.897Z"
   },
   {
    "duration": 7,
    "start_time": "2022-07-15T18:09:15.027Z"
   },
   {
    "duration": 6,
    "start_time": "2022-07-15T18:09:15.199Z"
   },
   {
    "duration": 8,
    "start_time": "2022-07-15T18:09:15.269Z"
   },
   {
    "duration": 6,
    "start_time": "2022-07-15T18:09:16.198Z"
   },
   {
    "duration": 6,
    "start_time": "2022-07-15T18:09:16.294Z"
   },
   {
    "duration": 18,
    "start_time": "2022-07-15T18:09:16.389Z"
   },
   {
    "duration": 4093,
    "start_time": "2022-07-15T18:09:16.597Z"
   },
   {
    "duration": 415,
    "start_time": "2022-07-15T18:09:20.693Z"
   },
   {
    "duration": 0,
    "start_time": "2022-07-15T18:09:21.110Z"
   },
   {
    "duration": 13,
    "start_time": "2022-07-15T18:10:37.475Z"
   },
   {
    "duration": 14,
    "start_time": "2022-07-15T18:11:34.083Z"
   },
   {
    "duration": 8,
    "start_time": "2022-07-15T18:11:48.562Z"
   },
   {
    "duration": 20,
    "start_time": "2022-07-15T18:12:01.845Z"
   },
   {
    "duration": 570,
    "start_time": "2022-07-15T18:12:22.932Z"
   },
   {
    "duration": 22,
    "start_time": "2022-07-15T18:12:31.369Z"
   },
   {
    "duration": 21,
    "start_time": "2022-07-15T18:12:41.054Z"
   },
   {
    "duration": 25,
    "start_time": "2022-07-15T18:12:45.827Z"
   },
   {
    "duration": 472,
    "start_time": "2022-07-15T18:12:48.699Z"
   },
   {
    "duration": 15,
    "start_time": "2022-07-15T18:13:20.692Z"
   },
   {
    "duration": 17,
    "start_time": "2022-07-15T18:13:28.667Z"
   },
   {
    "duration": 17,
    "start_time": "2022-07-15T18:13:46.211Z"
   },
   {
    "duration": 18,
    "start_time": "2022-07-15T18:13:57.795Z"
   },
   {
    "duration": 26,
    "start_time": "2022-07-15T18:17:08.023Z"
   },
   {
    "duration": 29,
    "start_time": "2022-07-15T18:17:26.529Z"
   },
   {
    "duration": 21,
    "start_time": "2022-07-15T18:18:28.224Z"
   },
   {
    "duration": 51,
    "start_time": "2022-07-15T18:19:24.987Z"
   },
   {
    "duration": 51,
    "start_time": "2022-07-15T18:19:33.585Z"
   },
   {
    "duration": 57,
    "start_time": "2022-07-15T18:20:28.658Z"
   },
   {
    "duration": 55,
    "start_time": "2022-07-15T18:20:37.135Z"
   },
   {
    "duration": 44,
    "start_time": "2022-07-15T18:22:18.782Z"
   },
   {
    "duration": 66,
    "start_time": "2022-07-15T18:22:42.036Z"
   },
   {
    "duration": 42,
    "start_time": "2022-07-15T18:23:52.763Z"
   },
   {
    "duration": 49,
    "start_time": "2022-07-15T18:23:59.502Z"
   },
   {
    "duration": 49,
    "start_time": "2022-07-15T18:25:05.530Z"
   },
   {
    "duration": 62,
    "start_time": "2022-07-15T18:26:17.627Z"
   },
   {
    "duration": 61,
    "start_time": "2022-07-15T18:26:45.116Z"
   },
   {
    "duration": 48,
    "start_time": "2022-07-15T18:27:07.612Z"
   },
   {
    "duration": 139,
    "start_time": "2022-07-15T18:49:29.728Z"
   },
   {
    "duration": 37,
    "start_time": "2022-07-15T18:49:33.865Z"
   },
   {
    "duration": 127,
    "start_time": "2022-07-15T18:49:37.984Z"
   },
   {
    "duration": 4017,
    "start_time": "2022-07-15T18:49:41.166Z"
   },
   {
    "duration": 1866,
    "start_time": "2022-07-15T18:52:21.293Z"
   },
   {
    "duration": 57,
    "start_time": "2022-07-15T18:53:44.332Z"
   },
   {
    "duration": 52,
    "start_time": "2022-07-15T18:53:50.521Z"
   },
   {
    "duration": 103,
    "start_time": "2022-07-15T18:54:41.497Z"
   },
   {
    "duration": 18,
    "start_time": "2022-07-15T18:54:48.937Z"
   },
   {
    "duration": 8,
    "start_time": "2022-07-15T18:54:56.800Z"
   },
   {
    "duration": 41,
    "start_time": "2022-07-15T18:55:08.393Z"
   },
   {
    "duration": 15,
    "start_time": "2022-07-15T18:58:09.192Z"
   },
   {
    "duration": 16,
    "start_time": "2022-07-15T18:58:56.614Z"
   },
   {
    "duration": 12,
    "start_time": "2022-07-15T18:59:01.269Z"
   },
   {
    "duration": 20,
    "start_time": "2022-07-15T19:05:19.965Z"
   },
   {
    "duration": 57,
    "start_time": "2022-07-15T19:06:27.268Z"
   },
   {
    "duration": 57,
    "start_time": "2022-07-15T19:06:55.266Z"
   },
   {
    "duration": 11,
    "start_time": "2022-07-15T19:10:47.792Z"
   },
   {
    "duration": 78,
    "start_time": "2022-07-15T19:11:00.477Z"
   },
   {
    "duration": 7,
    "start_time": "2022-07-15T19:11:54.525Z"
   },
   {
    "duration": 18,
    "start_time": "2022-07-15T19:12:04.666Z"
   },
   {
    "duration": 106,
    "start_time": "2022-07-15T19:12:25.670Z"
   },
   {
    "duration": 41,
    "start_time": "2022-07-15T19:12:31.528Z"
   },
   {
    "duration": 63,
    "start_time": "2022-07-15T19:12:40.498Z"
   },
   {
    "duration": 59,
    "start_time": "2022-07-15T19:12:58.067Z"
   },
   {
    "duration": 31,
    "start_time": "2022-07-15T19:13:09.418Z"
   },
   {
    "duration": 12,
    "start_time": "2022-07-15T19:13:42.731Z"
   },
   {
    "duration": 23,
    "start_time": "2022-07-15T19:15:31.296Z"
   },
   {
    "duration": 21,
    "start_time": "2022-07-15T19:16:00.042Z"
   },
   {
    "duration": 28,
    "start_time": "2022-07-15T19:16:11.869Z"
   },
   {
    "duration": 7,
    "start_time": "2022-07-15T19:17:44.026Z"
   },
   {
    "duration": 181,
    "start_time": "2022-07-15T19:18:00.760Z"
   },
   {
    "duration": 30723,
    "start_time": "2022-07-15T19:18:12.993Z"
   },
   {
    "duration": 10,
    "start_time": "2022-07-15T19:22:57.960Z"
   },
   {
    "duration": 8,
    "start_time": "2022-07-15T19:23:28.423Z"
   },
   {
    "duration": 30105,
    "start_time": "2022-07-15T19:23:40.877Z"
   },
   {
    "duration": 10,
    "start_time": "2022-07-15T19:24:10.984Z"
   },
   {
    "duration": 24848,
    "start_time": "2022-07-15T21:35:21.667Z"
   },
   {
    "duration": 5,
    "start_time": "2022-07-15T21:35:46.517Z"
   },
   {
    "duration": 8,
    "start_time": "2022-07-15T21:38:32.463Z"
   },
   {
    "duration": 8,
    "start_time": "2022-07-15T21:38:36.613Z"
   },
   {
    "duration": 5,
    "start_time": "2022-07-15T21:39:38.171Z"
   },
   {
    "duration": 8,
    "start_time": "2022-07-15T21:44:02.966Z"
   },
   {
    "duration": 8,
    "start_time": "2022-07-15T21:44:35.065Z"
   },
   {
    "duration": 7,
    "start_time": "2022-07-15T21:45:22.377Z"
   },
   {
    "duration": 14,
    "start_time": "2022-07-15T21:45:44.933Z"
   },
   {
    "duration": 14,
    "start_time": "2022-07-15T21:46:10.485Z"
   },
   {
    "duration": 10,
    "start_time": "2022-07-15T21:46:29.894Z"
   },
   {
    "duration": 12,
    "start_time": "2022-07-15T21:47:07.286Z"
   },
   {
    "duration": 12,
    "start_time": "2022-07-15T21:47:11.706Z"
   },
   {
    "duration": 14,
    "start_time": "2022-07-15T21:47:26.694Z"
   },
   {
    "duration": 17,
    "start_time": "2022-07-15T21:49:00.678Z"
   },
   {
    "duration": 7,
    "start_time": "2022-07-15T21:52:41.064Z"
   },
   {
    "duration": 3,
    "start_time": "2022-07-15T21:53:10.195Z"
   },
   {
    "duration": 3,
    "start_time": "2022-07-15T21:53:21.196Z"
   },
   {
    "duration": 18,
    "start_time": "2022-07-15T21:53:28.437Z"
   },
   {
    "duration": 7,
    "start_time": "2022-07-15T21:55:03.571Z"
   },
   {
    "duration": 16,
    "start_time": "2022-07-15T21:56:00.596Z"
   },
   {
    "duration": 100,
    "start_time": "2022-07-15T21:56:32.083Z"
   },
   {
    "duration": 17,
    "start_time": "2022-07-15T21:58:16.762Z"
   },
   {
    "duration": 19,
    "start_time": "2022-07-15T22:01:11.139Z"
   },
   {
    "duration": 16,
    "start_time": "2022-07-15T22:02:41.491Z"
   },
   {
    "duration": 15,
    "start_time": "2022-07-15T22:02:59.905Z"
   },
   {
    "duration": 8,
    "start_time": "2022-07-15T22:04:32.817Z"
   },
   {
    "duration": 4292,
    "start_time": "2022-07-16T14:26:16.455Z"
   },
   {
    "duration": 1087,
    "start_time": "2022-07-16T14:26:20.750Z"
   },
   {
    "duration": 26,
    "start_time": "2022-07-16T14:26:21.839Z"
   },
   {
    "duration": 24,
    "start_time": "2022-07-16T14:26:21.868Z"
   },
   {
    "duration": 26,
    "start_time": "2022-07-16T14:26:21.894Z"
   },
   {
    "duration": 18,
    "start_time": "2022-07-16T14:26:21.922Z"
   },
   {
    "duration": 15,
    "start_time": "2022-07-16T14:26:21.942Z"
   },
   {
    "duration": 19,
    "start_time": "2022-07-16T14:26:21.959Z"
   },
   {
    "duration": 86,
    "start_time": "2022-07-16T14:26:21.980Z"
   },
   {
    "duration": 88,
    "start_time": "2022-07-16T14:26:22.070Z"
   },
   {
    "duration": 60,
    "start_time": "2022-07-16T14:26:22.160Z"
   },
   {
    "duration": 35,
    "start_time": "2022-07-16T14:26:22.222Z"
   },
   {
    "duration": 19,
    "start_time": "2022-07-16T14:26:22.259Z"
   },
   {
    "duration": 36,
    "start_time": "2022-07-16T14:26:22.280Z"
   },
   {
    "duration": 404,
    "start_time": "2022-07-16T14:26:22.948Z"
   },
   {
    "duration": 10,
    "start_time": "2022-07-16T14:26:23.941Z"
   },
   {
    "duration": 9,
    "start_time": "2022-07-16T14:26:25.244Z"
   },
   {
    "duration": 8,
    "start_time": "2022-07-16T14:26:27.983Z"
   },
   {
    "duration": 8,
    "start_time": "2022-07-16T14:26:29.061Z"
   },
   {
    "duration": 6,
    "start_time": "2022-07-16T14:26:32.241Z"
   },
   {
    "duration": 6,
    "start_time": "2022-07-16T14:26:33.240Z"
   },
   {
    "duration": 38,
    "start_time": "2022-07-16T14:26:34.599Z"
   },
   {
    "duration": 112,
    "start_time": "2022-07-16T14:26:56.213Z"
   },
   {
    "duration": 21,
    "start_time": "2022-07-16T14:27:04.280Z"
   },
   {
    "duration": 11,
    "start_time": "2022-07-16T14:27:23.867Z"
   },
   {
    "duration": 6,
    "start_time": "2022-07-16T14:27:36.565Z"
   },
   {
    "duration": 4,
    "start_time": "2022-07-16T14:27:42.301Z"
   },
   {
    "duration": 26,
    "start_time": "2022-07-16T14:29:45.522Z"
   },
   {
    "duration": 23,
    "start_time": "2022-07-16T14:29:55.360Z"
   },
   {
    "duration": 15158,
    "start_time": "2022-07-16T14:30:00.201Z"
   },
   {
    "duration": 16,
    "start_time": "2022-07-16T14:30:15.361Z"
   },
   {
    "duration": 9,
    "start_time": "2022-07-16T14:31:30.875Z"
   },
   {
    "duration": 17,
    "start_time": "2022-07-16T14:31:39.613Z"
   },
   {
    "duration": 12,
    "start_time": "2022-07-16T14:31:51.355Z"
   },
   {
    "duration": 11,
    "start_time": "2022-07-16T14:31:57.863Z"
   },
   {
    "duration": 16,
    "start_time": "2022-07-16T14:34:23.578Z"
   },
   {
    "duration": 22,
    "start_time": "2022-07-16T14:34:39.021Z"
   },
   {
    "duration": 34,
    "start_time": "2022-07-16T14:34:59.761Z"
   },
   {
    "duration": 17,
    "start_time": "2022-07-16T14:37:56.477Z"
   },
   {
    "duration": 3466,
    "start_time": "2022-07-16T14:38:02.398Z"
   },
   {
    "duration": 14,
    "start_time": "2022-07-16T14:38:07.760Z"
   },
   {
    "duration": 10,
    "start_time": "2022-07-16T14:38:29.054Z"
   },
   {
    "duration": 6,
    "start_time": "2022-07-16T14:38:42.761Z"
   },
   {
    "duration": 6,
    "start_time": "2022-07-16T14:38:50.250Z"
   },
   {
    "duration": 4,
    "start_time": "2022-07-16T14:38:52.556Z"
   },
   {
    "duration": 36,
    "start_time": "2022-07-16T14:48:52.650Z"
   },
   {
    "duration": 20273,
    "start_time": "2022-07-16T14:48:54.060Z"
   },
   {
    "duration": 20,
    "start_time": "2022-07-16T14:49:14.335Z"
   },
   {
    "duration": 1512,
    "start_time": "2022-07-17T04:54:28.855Z"
   },
   {
    "duration": 822,
    "start_time": "2022-07-17T04:54:30.369Z"
   },
   {
    "duration": 19,
    "start_time": "2022-07-17T04:54:31.193Z"
   },
   {
    "duration": 16,
    "start_time": "2022-07-17T04:54:31.214Z"
   },
   {
    "duration": 36,
    "start_time": "2022-07-17T04:54:31.232Z"
   },
   {
    "duration": 22,
    "start_time": "2022-07-17T04:54:31.270Z"
   },
   {
    "duration": 14,
    "start_time": "2022-07-17T04:54:31.293Z"
   },
   {
    "duration": 19,
    "start_time": "2022-07-17T04:54:31.309Z"
   },
   {
    "duration": 60,
    "start_time": "2022-07-17T04:54:31.329Z"
   },
   {
    "duration": 64,
    "start_time": "2022-07-17T04:54:31.391Z"
   },
   {
    "duration": 58,
    "start_time": "2022-07-17T04:54:31.456Z"
   },
   {
    "duration": 33,
    "start_time": "2022-07-17T04:54:31.516Z"
   },
   {
    "duration": 20,
    "start_time": "2022-07-17T04:54:31.551Z"
   },
   {
    "duration": 49,
    "start_time": "2022-07-17T04:54:31.573Z"
   },
   {
    "duration": 324,
    "start_time": "2022-07-17T04:54:31.624Z"
   },
   {
    "duration": 98,
    "start_time": "2022-07-17T04:54:31.951Z"
   },
   {
    "duration": 96,
    "start_time": "2022-07-17T04:54:32.051Z"
   },
   {
    "duration": 13,
    "start_time": "2022-07-17T04:54:32.149Z"
   },
   {
    "duration": 7,
    "start_time": "2022-07-17T04:54:32.164Z"
   },
   {
    "duration": 8,
    "start_time": "2022-07-17T04:54:32.173Z"
   },
   {
    "duration": 5,
    "start_time": "2022-07-17T04:54:32.183Z"
   },
   {
    "duration": 9,
    "start_time": "2022-07-17T04:54:32.191Z"
   },
   {
    "duration": 9,
    "start_time": "2022-07-17T04:54:32.201Z"
   },
   {
    "duration": 11,
    "start_time": "2022-07-17T04:54:36.356Z"
   },
   {
    "duration": 9,
    "start_time": "2022-07-17T04:54:36.845Z"
   },
   {
    "duration": 3824,
    "start_time": "2022-07-17T04:54:37.081Z"
   },
   {
    "duration": 14,
    "start_time": "2022-07-17T04:55:19.962Z"
   },
   {
    "duration": 5,
    "start_time": "2022-07-17T04:55:32.452Z"
   },
   {
    "duration": 24,
    "start_time": "2022-07-17T04:57:13.253Z"
   },
   {
    "duration": 6,
    "start_time": "2022-07-17T04:58:41.378Z"
   },
   {
    "duration": 6,
    "start_time": "2022-07-17T04:58:42.639Z"
   },
   {
    "duration": 7,
    "start_time": "2022-07-17T04:58:43.393Z"
   },
   {
    "duration": 7,
    "start_time": "2022-07-17T04:58:43.975Z"
   },
   {
    "duration": 6,
    "start_time": "2022-07-17T04:58:44.007Z"
   },
   {
    "duration": 15,
    "start_time": "2022-07-17T04:58:44.043Z"
   },
   {
    "duration": 23,
    "start_time": "2022-07-17T04:58:44.069Z"
   },
   {
    "duration": 12494,
    "start_time": "2022-07-17T04:58:45.178Z"
   },
   {
    "duration": 12891,
    "start_time": "2022-07-17T04:59:14.078Z"
   },
   {
    "duration": 7,
    "start_time": "2022-07-17T04:59:26.972Z"
   },
   {
    "duration": 34,
    "start_time": "2022-07-17T04:59:26.981Z"
   },
   {
    "duration": 25,
    "start_time": "2022-07-17T04:59:27.017Z"
   },
   {
    "duration": 18,
    "start_time": "2022-07-17T04:59:27.044Z"
   },
   {
    "duration": 16,
    "start_time": "2022-07-17T04:59:27.064Z"
   },
   {
    "duration": 8,
    "start_time": "2022-07-17T04:59:27.081Z"
   },
   {
    "duration": 409,
    "start_time": "2022-07-17T04:59:27.090Z"
   },
   {
    "duration": 13,
    "start_time": "2022-07-17T04:59:27.501Z"
   },
   {
    "duration": 22,
    "start_time": "2022-07-17T04:59:27.518Z"
   },
   {
    "duration": 29,
    "start_time": "2022-07-17T04:59:27.546Z"
   },
   {
    "duration": 6,
    "start_time": "2022-07-17T04:59:39.044Z"
   },
   {
    "duration": 395,
    "start_time": "2022-07-17T04:59:39.745Z"
   },
   {
    "duration": 12,
    "start_time": "2022-07-17T04:59:43.041Z"
   },
   {
    "duration": 11,
    "start_time": "2022-07-17T04:59:44.595Z"
   },
   {
    "duration": 12,
    "start_time": "2022-07-17T04:59:45.218Z"
   },
   {
    "duration": 15,
    "start_time": "2022-07-17T04:59:46.246Z"
   },
   {
    "duration": 14,
    "start_time": "2022-07-17T04:59:46.295Z"
   },
   {
    "duration": 14,
    "start_time": "2022-07-17T04:59:46.326Z"
   },
   {
    "duration": 49,
    "start_time": "2022-07-17T04:59:46.421Z"
   },
   {
    "duration": 44,
    "start_time": "2022-07-17T04:59:46.474Z"
   },
   {
    "duration": 57,
    "start_time": "2022-07-17T04:59:46.520Z"
   },
   {
    "duration": 15,
    "start_time": "2022-07-17T04:59:46.660Z"
   },
   {
    "duration": 15,
    "start_time": "2022-07-17T04:59:47.840Z"
   },
   {
    "duration": 41,
    "start_time": "2022-07-17T04:59:48.192Z"
   },
   {
    "duration": 152,
    "start_time": "2022-07-17T04:59:49.796Z"
   },
   {
    "duration": 8,
    "start_time": "2022-07-17T04:59:53.633Z"
   },
   {
    "duration": 6,
    "start_time": "2022-07-17T05:00:04.308Z"
   },
   {
    "duration": 9,
    "start_time": "2022-07-17T05:00:06.163Z"
   },
   {
    "duration": 6,
    "start_time": "2022-07-17T05:00:08.436Z"
   },
   {
    "duration": 9,
    "start_time": "2022-07-17T05:00:10.976Z"
   },
   {
    "duration": 6,
    "start_time": "2022-07-17T05:00:11.876Z"
   },
   {
    "duration": 7,
    "start_time": "2022-07-17T05:00:12.818Z"
   },
   {
    "duration": 5,
    "start_time": "2022-07-17T05:00:13.090Z"
   },
   {
    "duration": 17,
    "start_time": "2022-07-17T05:00:14.626Z"
   },
   {
    "duration": 28,
    "start_time": "2022-07-17T05:00:40.403Z"
   },
   {
    "duration": 108,
    "start_time": "2022-07-17T05:02:06.567Z"
   },
   {
    "duration": 16,
    "start_time": "2022-07-17T05:02:22.695Z"
   },
   {
    "duration": 269,
    "start_time": "2022-07-17T05:02:26.194Z"
   },
   {
    "duration": 268,
    "start_time": "2022-07-17T05:02:31.904Z"
   },
   {
    "duration": 202,
    "start_time": "2022-07-17T05:02:54.084Z"
   },
   {
    "duration": 22,
    "start_time": "2022-07-17T05:03:09.200Z"
   },
   {
    "duration": 12,
    "start_time": "2022-07-17T05:03:28.035Z"
   },
   {
    "duration": 35,
    "start_time": "2022-07-17T05:04:49.237Z"
   },
   {
    "duration": 20,
    "start_time": "2022-07-17T05:05:05.191Z"
   },
   {
    "duration": 34,
    "start_time": "2022-07-17T05:05:44.834Z"
   },
   {
    "duration": 31,
    "start_time": "2022-07-17T05:06:47.231Z"
   },
   {
    "duration": 219,
    "start_time": "2022-07-17T05:12:47.411Z"
   },
   {
    "duration": 206,
    "start_time": "2022-07-17T05:12:53.804Z"
   },
   {
    "duration": 25,
    "start_time": "2022-07-17T05:13:30.719Z"
   },
   {
    "duration": 21,
    "start_time": "2022-07-17T05:15:09.338Z"
   },
   {
    "duration": 22,
    "start_time": "2022-07-17T05:16:57.345Z"
   },
   {
    "duration": 22,
    "start_time": "2022-07-17T05:18:14.154Z"
   },
   {
    "duration": 8913,
    "start_time": "2022-07-17T05:19:14.106Z"
   },
   {
    "duration": 25,
    "start_time": "2022-07-17T05:19:23.020Z"
   },
   {
    "duration": 9000,
    "start_time": "2022-07-17T05:27:26.249Z"
   },
   {
    "duration": 8976,
    "start_time": "2022-07-17T05:28:26.039Z"
   },
   {
    "duration": 15,
    "start_time": "2022-07-17T05:29:27.973Z"
   },
   {
    "duration": 17,
    "start_time": "2022-07-17T05:30:00.005Z"
   },
   {
    "duration": 17,
    "start_time": "2022-07-17T05:30:19.931Z"
   },
   {
    "duration": 18,
    "start_time": "2022-07-17T05:30:29.908Z"
   },
   {
    "duration": 17,
    "start_time": "2022-07-17T05:30:42.166Z"
   },
   {
    "duration": 17,
    "start_time": "2022-07-17T05:30:56.150Z"
   },
   {
    "duration": 22,
    "start_time": "2022-07-17T05:31:21.173Z"
   },
   {
    "duration": 15,
    "start_time": "2022-07-17T06:02:20.380Z"
   },
   {
    "duration": 6387,
    "start_time": "2022-07-17T06:02:54.706Z"
   },
   {
    "duration": 6707,
    "start_time": "2022-07-17T06:04:56.904Z"
   },
   {
    "duration": 6379,
    "start_time": "2022-07-17T06:09:33.444Z"
   },
   {
    "duration": 6381,
    "start_time": "2022-07-17T06:11:43.051Z"
   },
   {
    "duration": 6639,
    "start_time": "2022-07-17T06:12:26.275Z"
   },
   {
    "duration": 15,
    "start_time": "2022-07-17T06:12:32.916Z"
   },
   {
    "duration": 8,
    "start_time": "2022-07-17T06:12:39.436Z"
   },
   {
    "duration": 6731,
    "start_time": "2022-07-17T06:13:57.523Z"
   },
   {
    "duration": 6578,
    "start_time": "2022-07-17T06:19:22.917Z"
   },
   {
    "duration": 17,
    "start_time": "2022-07-17T06:19:29.497Z"
   },
   {
    "duration": 4,
    "start_time": "2022-07-17T06:19:53.156Z"
   },
   {
    "duration": 388,
    "start_time": "2022-07-17T06:19:53.186Z"
   },
   {
    "duration": 11,
    "start_time": "2022-07-17T06:19:53.576Z"
   },
   {
    "duration": 13,
    "start_time": "2022-07-17T06:19:53.589Z"
   },
   {
    "duration": 13,
    "start_time": "2022-07-17T06:19:53.604Z"
   },
   {
    "duration": 30,
    "start_time": "2022-07-17T06:19:53.618Z"
   },
   {
    "duration": 14,
    "start_time": "2022-07-17T06:19:53.649Z"
   },
   {
    "duration": 12,
    "start_time": "2022-07-17T06:19:53.664Z"
   },
   {
    "duration": 45,
    "start_time": "2022-07-17T06:19:53.678Z"
   },
   {
    "duration": 43,
    "start_time": "2022-07-17T06:19:53.745Z"
   },
   {
    "duration": 56,
    "start_time": "2022-07-17T06:19:53.790Z"
   },
   {
    "duration": 9,
    "start_time": "2022-07-17T06:19:53.848Z"
   },
   {
    "duration": 11,
    "start_time": "2022-07-17T06:19:54.016Z"
   },
   {
    "duration": 23,
    "start_time": "2022-07-17T06:19:54.048Z"
   },
   {
    "duration": 133,
    "start_time": "2022-07-17T06:19:54.113Z"
   },
   {
    "duration": 100,
    "start_time": "2022-07-17T06:19:54.248Z"
   },
   {
    "duration": 8,
    "start_time": "2022-07-17T06:19:54.350Z"
   },
   {
    "duration": 6,
    "start_time": "2022-07-17T06:19:54.506Z"
   },
   {
    "duration": 5,
    "start_time": "2022-07-17T06:19:54.568Z"
   },
   {
    "duration": 5,
    "start_time": "2022-07-17T06:19:54.803Z"
   },
   {
    "duration": 5,
    "start_time": "2022-07-17T06:19:54.897Z"
   },
   {
    "duration": 5,
    "start_time": "2022-07-17T06:19:55.007Z"
   },
   {
    "duration": 4,
    "start_time": "2022-07-17T06:19:55.040Z"
   },
   {
    "duration": 14,
    "start_time": "2022-07-17T06:19:55.068Z"
   },
   {
    "duration": 29,
    "start_time": "2022-07-17T06:19:55.096Z"
   },
   {
    "duration": 6586,
    "start_time": "2022-07-17T06:19:55.347Z"
   },
   {
    "duration": 18,
    "start_time": "2022-07-17T06:20:01.934Z"
   },
   {
    "duration": 39,
    "start_time": "2022-07-17T06:20:01.953Z"
   },
   {
    "duration": 20,
    "start_time": "2022-07-17T06:21:49.301Z"
   },
   {
    "duration": 16,
    "start_time": "2022-07-17T06:22:02.535Z"
   },
   {
    "duration": 15,
    "start_time": "2022-07-17T06:22:09.743Z"
   },
   {
    "duration": 6796,
    "start_time": "2022-07-17T06:22:14.316Z"
   },
   {
    "duration": 15361,
    "start_time": "2022-07-17T06:39:19.757Z"
   },
   {
    "duration": 13517,
    "start_time": "2022-07-17T06:40:39.982Z"
   },
   {
    "duration": 13620,
    "start_time": "2022-07-17T06:41:25.742Z"
   },
   {
    "duration": 0,
    "start_time": "2022-07-17T06:43:20.911Z"
   },
   {
    "duration": 5,
    "start_time": "2022-07-17T06:43:24.836Z"
   },
   {
    "duration": 449,
    "start_time": "2022-07-17T06:43:25.361Z"
   },
   {
    "duration": 12,
    "start_time": "2022-07-17T06:43:25.812Z"
   },
   {
    "duration": 28,
    "start_time": "2022-07-17T06:43:25.826Z"
   },
   {
    "duration": 12,
    "start_time": "2022-07-17T06:43:25.864Z"
   },
   {
    "duration": 17,
    "start_time": "2022-07-17T06:43:25.878Z"
   },
   {
    "duration": 13,
    "start_time": "2022-07-17T06:43:25.896Z"
   },
   {
    "duration": 13,
    "start_time": "2022-07-17T06:43:25.910Z"
   },
   {
    "duration": 70,
    "start_time": "2022-07-17T06:43:25.924Z"
   },
   {
    "duration": 52,
    "start_time": "2022-07-17T06:43:25.995Z"
   },
   {
    "duration": 51,
    "start_time": "2022-07-17T06:43:26.049Z"
   },
   {
    "duration": 14,
    "start_time": "2022-07-17T06:43:26.102Z"
   },
   {
    "duration": 8,
    "start_time": "2022-07-17T06:43:26.168Z"
   },
   {
    "duration": 25,
    "start_time": "2022-07-17T06:43:26.197Z"
   },
   {
    "duration": 291,
    "start_time": "2022-07-17T06:43:26.266Z"
   },
   {
    "duration": 87,
    "start_time": "2022-07-17T06:43:26.564Z"
   },
   {
    "duration": 24,
    "start_time": "2022-07-17T06:43:26.653Z"
   },
   {
    "duration": 8,
    "start_time": "2022-07-17T06:43:26.680Z"
   },
   {
    "duration": 7,
    "start_time": "2022-07-17T06:43:26.767Z"
   },
   {
    "duration": 7,
    "start_time": "2022-07-17T06:43:26.964Z"
   },
   {
    "duration": 5,
    "start_time": "2022-07-17T06:43:27.067Z"
   },
   {
    "duration": 5,
    "start_time": "2022-07-17T06:43:27.436Z"
   },
   {
    "duration": 4,
    "start_time": "2022-07-17T06:43:27.961Z"
   },
   {
    "duration": 11,
    "start_time": "2022-07-17T06:43:27.969Z"
   },
   {
    "duration": 19,
    "start_time": "2022-07-17T06:43:27.991Z"
   },
   {
    "duration": 7106,
    "start_time": "2022-07-17T06:43:28.226Z"
   },
   {
    "duration": 27,
    "start_time": "2022-07-17T06:43:35.334Z"
   },
   {
    "duration": 12,
    "start_time": "2022-07-17T06:43:35.364Z"
   },
   {
    "duration": 7516,
    "start_time": "2022-07-17T06:45:34.720Z"
   },
   {
    "duration": 25,
    "start_time": "2022-07-17T06:45:42.238Z"
   },
   {
    "duration": 8561,
    "start_time": "2022-07-17T06:55:04.476Z"
   },
   {
    "duration": 28,
    "start_time": "2022-07-17T06:55:13.039Z"
   },
   {
    "duration": 33,
    "start_time": "2022-07-17T06:55:13.073Z"
   },
   {
    "duration": 25,
    "start_time": "2022-07-17T06:55:57.690Z"
   },
   {
    "duration": 26,
    "start_time": "2022-07-17T07:05:09.443Z"
   },
   {
    "duration": 7404,
    "start_time": "2022-07-17T07:05:11.961Z"
   },
   {
    "duration": 17,
    "start_time": "2022-07-17T07:05:19.368Z"
   },
   {
    "duration": 10,
    "start_time": "2022-07-17T07:05:19.387Z"
   },
   {
    "duration": 23,
    "start_time": "2022-07-17T07:06:22.059Z"
   },
   {
    "duration": 7439,
    "start_time": "2022-07-17T07:06:40.584Z"
   },
   {
    "duration": 23,
    "start_time": "2022-07-17T07:06:48.645Z"
   },
   {
    "duration": 9,
    "start_time": "2022-07-17T07:07:17.717Z"
   },
   {
    "duration": 22,
    "start_time": "2022-07-17T07:07:56.246Z"
   },
   {
    "duration": 21,
    "start_time": "2022-07-17T07:08:21.110Z"
   },
   {
    "duration": 17,
    "start_time": "2022-07-17T07:08:28.698Z"
   },
   {
    "duration": 7781,
    "start_time": "2022-07-17T07:08:45.835Z"
   },
   {
    "duration": 7804,
    "start_time": "2022-07-17T07:09:14.407Z"
   },
   {
    "duration": 18,
    "start_time": "2022-07-17T07:09:22.213Z"
   },
   {
    "duration": 28,
    "start_time": "2022-07-17T07:10:52.869Z"
   },
   {
    "duration": 8408,
    "start_time": "2022-07-17T07:10:58.185Z"
   },
   {
    "duration": 8001,
    "start_time": "2022-07-17T07:12:37.211Z"
   },
   {
    "duration": 17,
    "start_time": "2022-07-17T07:12:45.214Z"
   },
   {
    "duration": 11,
    "start_time": "2022-07-17T07:12:47.960Z"
   },
   {
    "duration": 1515,
    "start_time": "2022-07-18T16:46:40.745Z"
   },
   {
    "duration": 844,
    "start_time": "2022-07-18T16:46:42.262Z"
   },
   {
    "duration": 18,
    "start_time": "2022-07-18T16:46:43.108Z"
   },
   {
    "duration": 11,
    "start_time": "2022-07-18T16:46:43.128Z"
   },
   {
    "duration": 13,
    "start_time": "2022-07-18T16:46:43.140Z"
   },
   {
    "duration": 19,
    "start_time": "2022-07-18T16:46:43.154Z"
   },
   {
    "duration": 15,
    "start_time": "2022-07-18T16:46:43.175Z"
   },
   {
    "duration": 41,
    "start_time": "2022-07-18T16:46:43.191Z"
   },
   {
    "duration": 55,
    "start_time": "2022-07-18T16:46:43.234Z"
   },
   {
    "duration": 65,
    "start_time": "2022-07-18T16:46:43.291Z"
   },
   {
    "duration": 52,
    "start_time": "2022-07-18T16:46:43.358Z"
   },
   {
    "duration": 13,
    "start_time": "2022-07-18T16:46:43.422Z"
   },
   {
    "duration": 17,
    "start_time": "2022-07-18T16:46:43.437Z"
   },
   {
    "duration": 39,
    "start_time": "2022-07-18T16:46:43.456Z"
   },
   {
    "duration": 328,
    "start_time": "2022-07-18T16:46:43.497Z"
   },
   {
    "duration": 98,
    "start_time": "2022-07-18T16:46:43.828Z"
   },
   {
    "duration": 98,
    "start_time": "2022-07-18T16:46:43.928Z"
   },
   {
    "duration": 6,
    "start_time": "2022-07-18T16:46:44.028Z"
   },
   {
    "duration": 9,
    "start_time": "2022-07-18T16:46:44.035Z"
   },
   {
    "duration": 9,
    "start_time": "2022-07-18T16:46:44.046Z"
   },
   {
    "duration": 10,
    "start_time": "2022-07-18T16:46:44.057Z"
   },
   {
    "duration": 10,
    "start_time": "2022-07-18T16:46:44.069Z"
   },
   {
    "duration": 7,
    "start_time": "2022-07-18T16:46:44.080Z"
   },
   {
    "duration": 33,
    "start_time": "2022-07-18T16:46:44.089Z"
   },
   {
    "duration": 20,
    "start_time": "2022-07-18T16:46:44.124Z"
   },
   {
    "duration": 6825,
    "start_time": "2022-07-18T16:46:44.147Z"
   },
   {
    "duration": 6958,
    "start_time": "2022-07-18T16:47:22.152Z"
   },
   {
    "duration": 18,
    "start_time": "2022-07-18T16:47:29.112Z"
   },
   {
    "duration": 7,
    "start_time": "2022-07-18T16:47:38.577Z"
   },
   {
    "duration": 6838,
    "start_time": "2022-07-18T17:16:54.966Z"
   },
   {
    "duration": 25,
    "start_time": "2022-07-18T17:17:01.806Z"
   },
   {
    "duration": 83,
    "start_time": "2022-07-18T17:17:01.832Z"
   },
   {
    "duration": 2659,
    "start_time": "2022-07-18T20:13:22.712Z"
   },
   {
    "duration": 2013,
    "start_time": "2022-07-18T20:13:25.373Z"
   },
   {
    "duration": 20,
    "start_time": "2022-07-18T20:13:27.388Z"
   },
   {
    "duration": 14,
    "start_time": "2022-07-18T20:13:27.411Z"
   },
   {
    "duration": 27,
    "start_time": "2022-07-18T20:13:27.427Z"
   },
   {
    "duration": 25,
    "start_time": "2022-07-18T20:13:27.457Z"
   },
   {
    "duration": 14,
    "start_time": "2022-07-18T20:13:27.484Z"
   },
   {
    "duration": 13,
    "start_time": "2022-07-18T20:13:27.500Z"
   },
   {
    "duration": 76,
    "start_time": "2022-07-18T20:13:27.515Z"
   },
   {
    "duration": 63,
    "start_time": "2022-07-18T20:13:27.593Z"
   },
   {
    "duration": 52,
    "start_time": "2022-07-18T20:13:27.658Z"
   },
   {
    "duration": 13,
    "start_time": "2022-07-18T20:13:27.712Z"
   },
   {
    "duration": 16,
    "start_time": "2022-07-18T20:13:27.829Z"
   },
   {
    "duration": 40,
    "start_time": "2022-07-18T20:13:31.665Z"
   },
   {
    "duration": 152,
    "start_time": "2022-07-18T20:13:32.605Z"
   },
   {
    "duration": 9,
    "start_time": "2022-07-18T20:13:33.993Z"
   },
   {
    "duration": 6,
    "start_time": "2022-07-18T20:13:44.683Z"
   },
   {
    "duration": 6,
    "start_time": "2022-07-18T20:13:50.211Z"
   },
   {
    "duration": 6,
    "start_time": "2022-07-18T20:13:50.821Z"
   },
   {
    "duration": 6,
    "start_time": "2022-07-18T20:13:57.636Z"
   },
   {
    "duration": 14,
    "start_time": "2022-07-18T20:13:58.739Z"
   },
   {
    "duration": 6,
    "start_time": "2022-07-18T20:13:59.554Z"
   },
   {
    "duration": 5,
    "start_time": "2022-07-18T20:13:59.933Z"
   },
   {
    "duration": 14,
    "start_time": "2022-07-18T20:14:01.050Z"
   },
   {
    "duration": 32,
    "start_time": "2022-07-18T20:14:12.233Z"
   },
   {
    "duration": 8710,
    "start_time": "2022-07-18T20:14:15.524Z"
   },
   {
    "duration": 27,
    "start_time": "2022-07-18T20:14:24.236Z"
   },
   {
    "duration": 7437,
    "start_time": "2022-07-18T20:14:40.095Z"
   },
   {
    "duration": 28,
    "start_time": "2022-07-18T20:14:47.534Z"
   },
   {
    "duration": 6,
    "start_time": "2022-07-18T20:15:36.675Z"
   },
   {
    "duration": 5,
    "start_time": "2022-07-18T20:15:43.584Z"
   },
   {
    "duration": 10,
    "start_time": "2022-07-18T20:16:13.426Z"
   },
   {
    "duration": 7,
    "start_time": "2022-07-18T20:16:26.030Z"
   },
   {
    "duration": 7602,
    "start_time": "2022-07-18T20:17:09.682Z"
   },
   {
    "duration": 21,
    "start_time": "2022-07-18T20:17:17.286Z"
   },
   {
    "duration": 1408,
    "start_time": "2022-07-19T04:48:28.326Z"
   },
   {
    "duration": 787,
    "start_time": "2022-07-19T04:48:29.736Z"
   },
   {
    "duration": 15,
    "start_time": "2022-07-19T04:48:30.525Z"
   },
   {
    "duration": 20,
    "start_time": "2022-07-19T04:48:30.542Z"
   },
   {
    "duration": 30,
    "start_time": "2022-07-19T04:48:30.563Z"
   },
   {
    "duration": 38,
    "start_time": "2022-07-19T04:48:30.594Z"
   },
   {
    "duration": 30,
    "start_time": "2022-07-19T04:48:30.634Z"
   },
   {
    "duration": 21,
    "start_time": "2022-07-19T04:48:30.666Z"
   },
   {
    "duration": 56,
    "start_time": "2022-07-19T04:48:30.689Z"
   },
   {
    "duration": 56,
    "start_time": "2022-07-19T04:48:30.747Z"
   },
   {
    "duration": 58,
    "start_time": "2022-07-19T04:48:30.804Z"
   },
   {
    "duration": 13,
    "start_time": "2022-07-19T04:48:30.863Z"
   },
   {
    "duration": 26,
    "start_time": "2022-07-19T04:48:30.878Z"
   },
   {
    "duration": 40,
    "start_time": "2022-07-19T04:48:30.905Z"
   },
   {
    "duration": 318,
    "start_time": "2022-07-19T04:48:30.947Z"
   },
   {
    "duration": 91,
    "start_time": "2022-07-19T04:48:31.271Z"
   },
   {
    "duration": 116,
    "start_time": "2022-07-19T04:48:31.365Z"
   },
   {
    "duration": 21,
    "start_time": "2022-07-19T04:48:31.483Z"
   },
   {
    "duration": 23,
    "start_time": "2022-07-19T04:48:31.505Z"
   },
   {
    "duration": 15,
    "start_time": "2022-07-19T04:48:31.530Z"
   },
   {
    "duration": 14,
    "start_time": "2022-07-19T04:48:31.546Z"
   },
   {
    "duration": 22,
    "start_time": "2022-07-19T04:48:31.561Z"
   },
   {
    "duration": 9,
    "start_time": "2022-07-19T04:48:31.584Z"
   },
   {
    "duration": 38,
    "start_time": "2022-07-19T04:48:31.595Z"
   },
   {
    "duration": 23,
    "start_time": "2022-07-19T04:48:31.634Z"
   },
   {
    "duration": 6481,
    "start_time": "2022-07-19T04:48:32.513Z"
   },
   {
    "duration": 15,
    "start_time": "2022-07-19T04:48:38.996Z"
   },
   {
    "duration": 34,
    "start_time": "2022-07-19T04:48:39.012Z"
   },
   {
    "duration": 1375,
    "start_time": "2022-07-19T16:12:54.911Z"
   },
   {
    "duration": 1553,
    "start_time": "2022-07-19T16:12:56.287Z"
   },
   {
    "duration": 15,
    "start_time": "2022-07-19T16:12:57.841Z"
   },
   {
    "duration": 11,
    "start_time": "2022-07-19T16:12:57.858Z"
   },
   {
    "duration": 11,
    "start_time": "2022-07-19T16:12:57.870Z"
   },
   {
    "duration": 16,
    "start_time": "2022-07-19T16:12:57.882Z"
   },
   {
    "duration": 11,
    "start_time": "2022-07-19T16:12:57.902Z"
   },
   {
    "duration": 11,
    "start_time": "2022-07-19T16:12:57.914Z"
   },
   {
    "duration": 42,
    "start_time": "2022-07-19T16:12:57.926Z"
   },
   {
    "duration": 57,
    "start_time": "2022-07-19T16:12:57.970Z"
   },
   {
    "duration": 44,
    "start_time": "2022-07-19T16:12:58.028Z"
   },
   {
    "duration": 10,
    "start_time": "2022-07-19T16:12:58.073Z"
   },
   {
    "duration": 8,
    "start_time": "2022-07-19T16:12:58.102Z"
   },
   {
    "duration": 29,
    "start_time": "2022-07-19T16:12:58.112Z"
   },
   {
    "duration": 266,
    "start_time": "2022-07-19T16:12:58.142Z"
   },
   {
    "duration": 94,
    "start_time": "2022-07-19T16:12:58.410Z"
   },
   {
    "duration": 7,
    "start_time": "2022-07-19T16:12:58.506Z"
   },
   {
    "duration": 94,
    "start_time": "2022-07-19T16:12:58.515Z"
   },
   {
    "duration": 8,
    "start_time": "2022-07-19T16:12:58.610Z"
   },
   {
    "duration": 5,
    "start_time": "2022-07-19T16:12:58.619Z"
   },
   {
    "duration": 6,
    "start_time": "2022-07-19T16:12:58.625Z"
   },
   {
    "duration": 6,
    "start_time": "2022-07-19T16:12:58.633Z"
   },
   {
    "duration": 6,
    "start_time": "2022-07-19T16:12:58.641Z"
   },
   {
    "duration": 10,
    "start_time": "2022-07-19T16:12:58.649Z"
   },
   {
    "duration": 45,
    "start_time": "2022-07-19T16:12:58.660Z"
   },
   {
    "duration": 6020,
    "start_time": "2022-07-19T16:12:58.906Z"
   },
   {
    "duration": 5,
    "start_time": "2022-07-19T16:15:08.055Z"
   },
   {
    "duration": 348,
    "start_time": "2022-07-19T16:15:08.292Z"
   },
   {
    "duration": 13,
    "start_time": "2022-07-19T16:15:09.207Z"
   },
   {
    "duration": 11,
    "start_time": "2022-07-19T16:15:09.479Z"
   },
   {
    "duration": 14,
    "start_time": "2022-07-19T16:15:09.670Z"
   },
   {
    "duration": 13,
    "start_time": "2022-07-19T16:15:10.292Z"
   },
   {
    "duration": 12,
    "start_time": "2022-07-19T16:15:10.452Z"
   },
   {
    "duration": 12,
    "start_time": "2022-07-19T16:15:10.635Z"
   },
   {
    "duration": 43,
    "start_time": "2022-07-19T16:15:11.141Z"
   },
   {
    "duration": 37,
    "start_time": "2022-07-19T16:15:11.285Z"
   },
   {
    "duration": 41,
    "start_time": "2022-07-19T16:15:11.789Z"
   },
   {
    "duration": 11,
    "start_time": "2022-07-19T16:15:11.962Z"
   },
   {
    "duration": 11,
    "start_time": "2022-07-19T16:15:12.114Z"
   },
   {
    "duration": 27,
    "start_time": "2022-07-19T16:15:12.163Z"
   },
   {
    "duration": 82,
    "start_time": "2022-07-19T16:15:12.226Z"
   },
   {
    "duration": 104,
    "start_time": "2022-07-19T16:15:12.403Z"
   },
   {
    "duration": 17,
    "start_time": "2022-07-19T16:15:12.509Z"
   },
   {
    "duration": 6,
    "start_time": "2022-07-19T16:15:14.691Z"
   },
   {
    "duration": 5,
    "start_time": "2022-07-19T16:15:14.742Z"
   },
   {
    "duration": 5,
    "start_time": "2022-07-19T16:15:15.893Z"
   },
   {
    "duration": 6,
    "start_time": "2022-07-19T16:15:15.986Z"
   },
   {
    "duration": 6,
    "start_time": "2022-07-19T16:15:16.082Z"
   },
   {
    "duration": 4,
    "start_time": "2022-07-19T16:15:16.128Z"
   },
   {
    "duration": 13,
    "start_time": "2022-07-19T16:15:16.160Z"
   },
   {
    "duration": 18,
    "start_time": "2022-07-19T16:15:16.194Z"
   },
   {
    "duration": 6130,
    "start_time": "2022-07-19T16:15:18.435Z"
   },
   {
    "duration": 14,
    "start_time": "2022-07-19T16:15:24.567Z"
   },
   {
    "duration": 20,
    "start_time": "2022-07-19T16:15:24.582Z"
   }
  ],
  "kernelspec": {
   "display_name": "Python 3",
   "language": "python",
   "name": "python3"
  },
  "language_info": {
   "codemirror_mode": {
    "name": "ipython",
    "version": 3
   },
   "file_extension": ".py",
   "mimetype": "text/x-python",
   "name": "python",
   "nbconvert_exporter": "python",
   "pygments_lexer": "ipython3",
   "version": "3.8.8"
  },
  "toc": {
   "base_numbering": 1,
   "nav_menu": {},
   "number_sections": true,
   "sideBar": true,
   "skip_h1_title": true,
   "title_cell": "Table of Contents",
   "title_sidebar": "Contents",
   "toc_cell": false,
   "toc_position": {},
   "toc_section_display": true,
   "toc_window_display": false
  }
 },
 "nbformat": 4,
 "nbformat_minor": 2
}
